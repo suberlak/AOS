{
 "cells": [
  {
   "cell_type": "markdown",
   "id": "630569e7",
   "metadata": {},
   "source": [
    "in what order is OPD data stored? We know it is 1  point per corner, so that in total there are 4 OPD points for the corner wavefront sensor simulation"
   ]
  },
  {
   "cell_type": "markdown",
   "id": "7c1bdd83",
   "metadata": {},
   "source": [
    "At first sight, it is assumed in the code that the order  in `opd.zer` should follow the `refSensorNameList`:"
   ]
  },
  {
   "cell_type": "code",
   "execution_count": null,
   "id": "fe5be87a",
   "metadata": {},
   "outputs": [],
   "source": []
  },
  {
   "cell_type": "code",
   "execution_count": 1,
   "id": "5e446170",
   "metadata": {},
   "outputs": [
    {
     "name": "stderr",
     "output_type": "stream",
     "text": [
      "INFO:numexpr.utils:Note: detected 128 virtual cores but NumExpr set to maximum of 64, check \"NUMEXPR_MAX_THREADS\" environment variable.\n",
      "INFO:numexpr.utils:Note: NumExpr detected 128 cores but \"NUMEXPR_MAX_THREADS\" not set, so enforcing safe limit of 8.\n",
      "INFO:numexpr.utils:NumExpr defaulting to 8 threads.\n"
     ]
    }
   ],
   "source": [
    "from lsst.ts.phosim.CloseLoopTask import CloseLoopTask\n",
    "from lsst.ts.wep.Utility import CamType\n",
    "\n",
    "task = CloseLoopTask()\n",
    "\n",
    "instName = \"lsst\"\n",
    "\n",
    "camType = CamType.LsstCam\n",
    "cornerSensorNameList = task.getSensorNameListOfFields(instName)\n",
    "cornerSensorIdList = task.getSensorIdListOfFields(instName)\n",
    "refSensorNameList = []\n",
    "refSensorIdList = []\n",
    "for name, id in zip(cornerSensorNameList, cornerSensorIdList):\n",
    "    if name.endswith(\"SW0\"):\n",
    "        refSensorNameList.append(name)\n",
    "        refSensorIdList.append(id)\n"
   ]
  },
  {
   "cell_type": "code",
   "execution_count": 2,
   "id": "3b245f06",
   "metadata": {},
   "outputs": [
    {
     "data": {
      "text/plain": [
       "['R00_SW0', 'R04_SW0', 'R40_SW0', 'R44_SW0']"
      ]
     },
     "execution_count": 2,
     "metadata": {},
     "output_type": "execute_result"
    }
   ],
   "source": [
    "refSensorNameList"
   ]
  },
  {
   "cell_type": "code",
   "execution_count": 3,
   "id": "f76c178f",
   "metadata": {},
   "outputs": [
    {
     "data": {
      "text/plain": [
       "[191, 195, 199, 203]"
      ]
     },
     "execution_count": 3,
     "metadata": {},
     "output_type": "execute_result"
    }
   ],
   "source": [
    "refSensorIdList"
   ]
  },
  {
   "cell_type": "markdown",
   "id": "d25d2e41",
   "metadata": {},
   "source": [
    "This is the ordering that is used in `ts_phosim`, and passed to eg. \n",
    "\n",
    "    # Set the FWHM data\n",
    "    fwhm, sensor_id = self.phosimCmpt.getListOfFwhmSensorData(\n",
    "            opdPssnFileName, refSensorIdList )\n",
    "            \n",
    "            \n",
    "or \n",
    "\n",
    "\n",
    "     # Simulate to get the wavefront sensor data from WEP\n",
    "    listOfWfErr = self.phosimCmpt.mapOpdDataToListOfWfErr(\n",
    "                    opdZkFileName, refSensorIdList, refSensorNameList\n",
    "                )\n",
    "                \n",
    "where opdZkFileName is `opd.zer` \n",
    "\n",
    "Inside eg. `mapOpdDataToListOfWfErr`,  it simply loads the `zk` with `zk = np.loadtxt(filePath)`,  and then populates the `SensorWavefrontError` object with these as \n",
    "\n",
    "\n",
    "    for sensorId, zk in zip(sensorIdList, opdZk):\n",
    "\n",
    "        sensorWavefrontData = SensorWavefrontError(numOfZk=self.getNumOfZk())\n",
    "        sensorWavefrontData.setSensorId(sensorId)\n",
    "        sensorWavefrontData.setAnnularZernikePoly(zk) \n",
    "        \n",
    "So the OPD order in `opd.zer`  is assumed to follow the `refSensorId` order in `refSensorIdList`.\n",
    "\n",
    "Is that always true? \n",
    "\n",
    "I guess since the order of zernikes in `opd.zer` follows from `_mapOpdToZk` , and that reads the OPD raw files via `opdFileList = self._getOpdFileInDir(self.outputImgDir)`, which gives: \n",
    "\n"
   ]
  },
  {
   "cell_type": "code",
   "execution_count": 4,
   "id": "6d013f0e",
   "metadata": {},
   "outputs": [],
   "source": [
    "import re\n",
    "from lsst.ts.phosim.utils.Utility import getConfigDir, sortOpdFileList\n",
    "def _getOpdFileInDir( opdDir):\n",
    "    \"\"\"Get the sorted OPD files in the directory.\n",
    "    OPD: Optical path difference.\n",
    "    Parameters\n",
    "    ----------\n",
    "    opdDir : str\n",
    "        OPD file directory.\n",
    "    Returns\n",
    "    -------\n",
    "    list\n",
    "        List of sorted OPD files.\n",
    "    \"\"\"\n",
    "\n",
    "    # Get the files\n",
    "    opdFileList = []\n",
    "    fileList = _getFileInDir(opdDir)\n",
    "    for file in fileList:\n",
    "        fileName = os.path.basename(file)\n",
    "        m = re.match(r\"\\Aopd_\\d+_(\\d+).fits.gz\", fileName)\n",
    "        if m is not None:\n",
    "            opdFileList.append(file)\n",
    "    print(opdFileList)\n",
    "    \n",
    "    # Do the sorting of file name\n",
    "    sortedOpdFileList = sortOpdFileList(opdFileList)\n",
    "    print(sortedOpdFileList)\n",
    "    \n",
    "    return  sortedOpdFileList\n",
    "\n",
    "def _getFileInDir( fileDir):\n",
    "    \"\"\"Get the files in the directory.\n",
    "    Parameters\n",
    "    ----------\n",
    "    fileDir : str\n",
    "        File directory.\n",
    "    Returns\n",
    "    -------\n",
    "    list\n",
    "        List of files.\n",
    "    \"\"\"\n",
    "\n",
    "    fileList = []\n",
    "    for name in os.listdir(fileDir):\n",
    "        filePath = os.path.join(fileDir, name)\n",
    "        if os.path.isfile(filePath):\n",
    "            fileList.append(filePath)\n",
    "\n",
    "    return fileList"
   ]
  },
  {
   "cell_type": "markdown",
   "id": "a5286a3b",
   "metadata": {},
   "source": [
    "This uses `sortOpdFileList` to  sort them https://github.com/lsst-ts/ts_phosim/blob/bf49b3865aaa4563948a262d8c6a40ccee63eb2e/python/lsst/ts/phosim/utils/Utility.py#L211 m"
   ]
  },
  {
   "cell_type": "code",
   "execution_count": 6,
   "id": "f24f61e0",
   "metadata": {},
   "outputs": [
    {
     "name": "stdout",
     "output_type": "stream",
     "text": [
      "['/sdf/data/rubin/u/scichris/WORK/AOS/DM-36218/wfs_grid_17/iter0/img/opd_9006000_2.fits.gz', '/sdf/data/rubin/u/scichris/WORK/AOS/DM-36218/wfs_grid_17/iter0/img/opd_9006000_1.fits.gz', '/sdf/data/rubin/u/scichris/WORK/AOS/DM-36218/wfs_grid_17/iter0/img/opd_9006000_0.fits.gz', '/sdf/data/rubin/u/scichris/WORK/AOS/DM-36218/wfs_grid_17/iter0/img/opd_9006000_3.fits.gz']\n",
      "['/sdf/data/rubin/u/scichris/WORK/AOS/DM-36218/wfs_grid_17/iter0/img/opd_9006000_0.fits.gz', '/sdf/data/rubin/u/scichris/WORK/AOS/DM-36218/wfs_grid_17/iter0/img/opd_9006000_1.fits.gz', '/sdf/data/rubin/u/scichris/WORK/AOS/DM-36218/wfs_grid_17/iter0/img/opd_9006000_2.fits.gz', '/sdf/data/rubin/u/scichris/WORK/AOS/DM-36218/wfs_grid_17/iter0/img/opd_9006000_3.fits.gz']\n"
     ]
    }
   ],
   "source": [
    "mag=17\n",
    "iterN=0\n",
    "outputImgDir = f'/sdf/data/rubin/u/scichris/WORK/AOS/DM-36218/wfs_grid_{mag}/iter{iterN}/img/'\n",
    "opdFileList = _getOpdFileInDir(outputImgDir)"
   ]
  },
  {
   "cell_type": "markdown",
   "id": "ab116541",
   "metadata": {},
   "source": [
    "So the `unsorted` had `2,1,0,3` and the sorted one had `0,1,2,3`,  but how was it defined which is which? "
   ]
  },
  {
   "cell_type": "markdown",
   "id": "63050fec",
   "metadata": {},
   "source": [
    "Lets check the `fits.gz`. Probably the sensor information is stored there:"
   ]
  },
  {
   "cell_type": "code",
   "execution_count": 8,
   "id": "c8dc7bf9",
   "metadata": {},
   "outputs": [
    {
     "data": {
      "text/plain": [
       "SIMPLE  =                    T / file does conform to FITS standard             \n",
       "BITPIX  =                  -64 / number of bits per data pixel                  \n",
       "NAXIS   =                    2 / number of data axes                            \n",
       "NAXIS1  =                  255 / length of data axis 1                          \n",
       "NAXIS2  =                  255 / length of data axis 2                          \n",
       "EXTEND  =                    T / FITS dataset may contain extensions            \n",
       "COMMENT   FITS (Flexible Image Transport System) format is defined in 'Astronomy\n",
       "COMMENT   and Astrophysics', volume 376, page 359; bibcode: 2001A&A...376..359H \n",
       "UNITS   = 'MICRONS '                                                            "
      ]
     },
     "execution_count": 8,
     "metadata": {},
     "output_type": "execute_result"
    }
   ],
   "source": [
    "from astropy.io import fits\n",
    "hdul = fits.open(opdFileList[0])\n",
    "hdul[0].header"
   ]
  },
  {
   "cell_type": "markdown",
   "id": "205b1521",
   "metadata": {},
   "source": [
    "Well, it isn't! So it must be earlier that this info is stored. But I can't find this information... `opdPhoSim.log` doesn't seem to have that at all... "
   ]
  },
  {
   "cell_type": "markdown",
   "id": "aaa03f3e",
   "metadata": {},
   "source": [
    "I guess that follows the order  in opd field points, passed via `phosimCmpt.getOpdArgsAndFilesForPhoSim`.. \n",
    "\n",
    "The `idx` in `opd.inst` follows the order in `fieldX, fieldY = opdMetr.getFieldXY() `. Which is set in `CloseLoopTask. _setSkySimBasedOnOpdFieldPos` , which uses `getSensorNameListOfFields`  to query the `camera` for the `fieldX, fieldY` position of each detector in that list... \n",
    "\n",
    "So by that (accident?) the order would be the same... So that `0,1,2,3` stands for `00,04,40,44`  (??)\n",
    "\n",
    "\n",
    "\n",
    "\n"
   ]
  },
  {
   "cell_type": "code",
   "execution_count": null,
   "id": "68c5b53f",
   "metadata": {},
   "outputs": [],
   "source": [
    "This is the content of the `opd.inst` file passed to phosim. On the right the names of \n",
    "sensors that correspond to this position:\n",
    "\n",
    "    opd  0\t 1.176000\t 1.176000 500.0    R44  + +    (+ + same R44\n",
    "    opd  1\t-1.176000\t 1.176000 500.0    R40  - +    (+ - R04 \n",
    "    opd  2\t-1.176000\t-1.176000 500.0    R00  - -    (- -  same R00 \n",
    "    opd  3\t 1.176000\t-1.176000 500.0    R04  + -    (- + R40\n",
    "    \n",
    "                                                not_T    with_T   "
   ]
  },
  {
   "cell_type": "markdown",
   "id": "874a8445",
   "metadata": {},
   "source": [
    "Print the positions of sensors as produced for `closeLoopTask` https://github.com/lsst-ts/ts_phosim/blob/bf49b3865aaa4563948a262d8c6a40ccee63eb2e/python/lsst/ts/phosim/CloseLoopTask.py#L133-L146"
   ]
  },
  {
   "cell_type": "code",
   "execution_count": 12,
   "id": "39d1b7f5",
   "metadata": {},
   "outputs": [
    {
     "name": "stdout",
     "output_type": "stream",
     "text": [
      "R00_SW0 -1.1256388888888889 -1.1902222222222223\n",
      "R00_SW1 -1.2549166666666665 -1.1903333333333332\n",
      "R04_SW0 -1.1902222222222223 1.1256388888888889\n",
      "R04_SW1 -1.1903333333333332 1.2549166666666665\n",
      "R40_SW0 1.1902222222222223 -1.1256388888888889\n",
      "R40_SW1 1.1903333333333332 -1.2549166666666665\n",
      "R44_SW0 1.1256388888888889 1.1902222222222223\n",
      "R44_SW1 1.2549166666666665 1.1903333333333332\n"
     ]
    }
   ],
   "source": [
    "import numpy as np \n",
    "from lsst.afw.cameraGeom import  FIELD_ANGLE\n",
    "from lsst.ts.phosim.utils.Utility import getPhoSimPath, getAoclcOutputPath, getCamera\n",
    "instName = \"lsst\"\n",
    "fieldX, fieldY = list(), list()\n",
    "camera = getCamera(instName)\n",
    "for name in task.getSensorNameListOfFields(instName):\n",
    "    detector = camera.get(name)\n",
    "    xRad, yRad = detector.getCenter(FIELD_ANGLE)\n",
    "    xDeg, yDeg = np.rad2deg(xRad), np.rad2deg(yRad)\n",
    "    fieldY.append(xDeg)  # transpose for phoSim\n",
    "    fieldX.append(yDeg)\n",
    "    print(name, yDeg, xDeg)"
   ]
  },
  {
   "cell_type": "markdown",
   "id": "84671274",
   "metadata": {},
   "source": [
    "But this shows me that actually first we calculate \n",
    "\n",
    "    R00\n",
    "    R04\n",
    "    R40\n",
    "    R44\n",
    "\n",
    "but given these positions, phosim is calculating\n",
    "\n",
    "    R44\n",
    "    R40\n",
    "    R00\n",
    "    R04 \n",
    "\n",
    "... ??? What's going on? \n",
    "\n",
    "Even with transpose, the order is very different in `opd.inst` than what we would infer from the `refSensorNameList`..."
   ]
  },
  {
   "cell_type": "code",
   "execution_count": null,
   "id": "f3322f45",
   "metadata": {},
   "outputs": [],
   "source": []
  }
 ],
 "metadata": {
  "kernelspec": {
   "display_name": "Python 3 (ipykernel)",
   "language": "python",
   "name": "python3"
  },
  "language_info": {
   "codemirror_mode": {
    "name": "ipython",
    "version": 3
   },
   "file_extension": ".py",
   "mimetype": "text/x-python",
   "name": "python",
   "nbconvert_exporter": "python",
   "pygments_lexer": "ipython3",
   "version": "3.10.5"
  }
 },
 "nbformat": 4,
 "nbformat_minor": 5
}
