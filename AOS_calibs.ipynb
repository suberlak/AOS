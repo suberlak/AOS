{
 "cells": [
  {
   "cell_type": "markdown",
   "metadata": {},
   "source": [
    "# AOS makeGainImages.py like BOT calibs..."
   ]
  },
  {
   "cell_type": "markdown",
   "metadata": {},
   "source": [
    "Make calib images structured in the same way as the BOT calibs so that ISR can be performed :"
   ]
  },
  {
   "cell_type": "code",
   "execution_count": 1,
   "metadata": {},
   "outputs": [],
   "source": [
    "import glob\n",
    "import os\n",
    "from astropy.table import Table\n",
    "import numpy as np\n",
    "import astropy.io.fits as fits\n",
    "\n",
    "# From Pinholes-gen2.ipynb\n",
    "\n",
    "path_to_calibs = '/project/shared/BOT/rerun/rhl/CALIB-6813D/bias/2019-10-18/'\n",
    "\n"
   ]
  },
  {
   "cell_type": "code",
   "execution_count": 4,
   "metadata": {},
   "outputs": [],
   "source": [
    "calibs = os.listdir(path_to_calibs)"
   ]
  },
  {
   "cell_type": "markdown",
   "metadata": {},
   "source": [
    "Ok, there are bias images for BOT files. What's the header structure ? "
   ]
  },
  {
   "cell_type": "code",
   "execution_count": 11,
   "metadata": {},
   "outputs": [],
   "source": [
    "path_to_file = os.path.join(path_to_calibs, calibs[0])\n",
    "hdu = fits.open(path_to_file)"
   ]
  },
  {
   "cell_type": "code",
   "execution_count": 9,
   "metadata": {},
   "outputs": [
    {
     "data": {
      "text/plain": [
       "'/project/shared/BOT/rerun/rhl/CALIB-6813D/bias/2019-10-18/bias-R22-S11-det094_2019-10-18.fits'"
      ]
     },
     "execution_count": 9,
     "metadata": {},
     "output_type": "execute_result"
    }
   ],
   "source": [
    "path_to_file"
   ]
  },
  {
   "cell_type": "code",
   "execution_count": 13,
   "metadata": {},
   "outputs": [
    {
     "data": {
      "text/plain": [
       "SIMPLE  =                    T / file does conform to FITS standard             \n",
       "BITPIX  =                    8 / number of bits per data pixel                  \n",
       "NAXIS   =                    0 / number of data axes                            \n",
       "EXTEND  =                    T / FITS dataset may contain extensions            \n",
       "COMMENT   FITS (Flexible Image Transport System) format is defined in 'Astronomy\n",
       "COMMENT   and Astrophysics', volume 376, page 359; bibcode: 2001A&A...376..359H \n",
       "RUNNUM  = '6813D   '           / The Run Number                                 \n",
       "TSTAND  = 'BOT     '           / Camera test stand BOT or CCOB                  \n",
       "INSTRUME= 'lsstCam '           / Instrument                                     \n",
       "CONTNUM = '18ee3eaa'           / REB serial # (Hex)                             \n",
       "SEQFILE = 'FP_E2V_2s_ir2_v2.seq' / Sequencer file name                          \n",
       "CCDSLOT = 'S11     '           / The CCD Slot                                   \n",
       "RAFTBAY = 'R22     '           / The RAFT Bay                                   \n",
       "LSST_NUM= 'E2V-CCD250-382'     / LSST Assigned CCD Number                       \n",
       "RAFTNAME= 'LCA-11021_RTM-024'  / LSST Assigned Raft name                        \n",
       "IMGTYPE = 'BIAS    '           / BIAS, DARK, ?                                  \n",
       "FILTER  = '_unknown_'          / Color filter name from Flat Field Projector    \n",
       "EXPTIME =                   0. / Exposure Time in Seconds                       \n",
       "BINX    =                    1 / [pixels] binning along X axis                  \n",
       "BINY    =                    1 / [pixels] binning along Y axis                  \n",
       "CCDGAIN =                   1. / Rough guess at overall system gain (e-/DNB)    \n",
       "CCDNOISE=                  10. / Rough guess at system noise (e- rms)           \n",
       "FIRMWARE= '31345004'           / DAQ firmware version (Hex)                     \n",
       "PLATFORM= 'ir2-camera'         / DAQ platform version                           \n",
       "DAQVERS = 'R4-V2.0 2019-08-27T15:53:50Z (b8db19)' / DAQ version                 \n",
       "DAQPART = 'camera  '           / DAQ partition                                  \n",
       "DAQFOLD = 'raw     '           / DAQ folder the image was initially created in  \n",
       "DAQANNOT= '        '           / DAQ image annotation                           \n",
       "TELCODE = 'MC      '           / The \"code\" for MainCamera                      \n",
       "CONTRLLR= 'C       '           / The controller (e.g. O for OCS, C for CCS)     \n",
       "TELESCOP= 'LSST    '           / Telescope                                      \n",
       "SEQCKSUM= '3510424385'         / Checksum of Sequencer                          \n",
       "FILTER2 = 'empty   '           / Neutral density filter name from Flat Field Pro\n",
       "EXPTIME2=                 900. / Exposure time for second part of 2 part exposur\n",
       "HEADVER =                    1 / Version number of header                       \n",
       "CHANNEL =                    1                                                  \n",
       "EXTNAME = 'Segment10'                                                           \n",
       "CCDSUM  = '1 1     '                                                            \n",
       "DATASEC = '[11:522,1:2002]'                                                     \n",
       "DETSEC  = '[512:1,1:2002]'                                                      \n",
       "DETSIZE = '[1:4096,1:4004]'                                                     \n",
       "DTV1    =                  523 / detector transformation vector                 \n",
       "DTV2    =                    0 / detector transformation vector                 \n",
       "DTM1_1  =                  -1. / detector transformation matrix                 \n",
       "DTM2_2  =                   1. / detector transformation matrix                 \n",
       "DTM1_2  =                   0. / detector transformation matrix                 \n",
       "DTM2_1  =                   0. / detector transformation matrix                 \n",
       "WCSNAMEA= 'AMPLIFIER'          / Name of coordinate system                      \n",
       "CTYPE1A = 'Seg_X   '           / In the camera coordinate system                \n",
       "CTYPE2A = 'Seg_Y   '           / In the camera coordinate system                \n",
       "PC1_1A  =                   0.                                                  \n",
       "PC1_2A  =                  -1.                                                  \n",
       "PC2_1A  =                  -1.                                                  \n",
       "PC2_2A  =                   0.                                                  \n",
       "CDELT1A =                   1.                                                  \n",
       "CDELT2A =                   1.                                                  \n",
       "CRPIX1A =                   0.                                                  \n",
       "CRPIX2A =                   0.                                                  \n",
       "CRVAL1A =                2003.                                                  \n",
       "CRVAL2A =                 523.                                                  \n",
       "WCSNAMEC= 'CCD     '           / Name of coordinate system                      \n",
       "CTYPE1C = 'CCD_X   '           / In the camera coordinate system                \n",
       "CTYPE2C = 'CCD_Y   '           / In the camera coordinate system                \n",
       "PC1_1C  =                   0.                                                  \n",
       "PC1_2C  =                  -1.                                                  \n",
       "PC2_1C  =                  -1.                                                  \n",
       "PC2_2C  =                   0.                                                  \n",
       "CDELT1C =                   1.                                                  \n",
       "CDELT2C =                   1.                                                  \n",
       "CRPIX1C =                   0.                                                  \n",
       "CRPIX2C =                   0.                                                  \n",
       "CRVAL1C =                4005.                                                  \n",
       "CRVAL2C =                 523.                                                  \n",
       "WCSNAMER= 'RAFT    '           / Name of coordinate system                      \n",
       "CTYPE1R = 'RAFT_X  '           / In the camera coordinate system                \n",
       "CTYPE2R = 'RAFT_Y  '           / In the camera coordinate system                \n",
       "PC1_1R  =                   0.                                                  \n",
       "PC1_2R  =                  -1.                                                  \n",
       "PC2_1R  =                  -1.                                                  \n",
       "PC2_2R  =                   0.                                                  \n",
       "CDELT1R =                   1.                                                  \n",
       "CDELT2R =                   1.                                                  \n",
       "CRPIX1R =                   0.                                                  \n",
       "CRPIX2R =                   0.                                                  \n",
       "CRVAL1R =               8352.5                                                  \n",
       "CRVAL2R =                4825.                                                  \n",
       "WCSNAMEF= 'FOCAL_PLANE'        / Name of coordinate system                      \n",
       "CTYPE1F = 'FP_X    '           / In the camera coordinate system                \n",
       "CTYPE2F = 'FP_Y    '           / In the camera coordinate system                \n",
       "PC1_1F  =                   0.                                                  \n",
       "PC1_2F  =                  -1.                                                  \n",
       "PC2_1F  =                  -1.                                                  \n",
       "PC2_2F  =                   0.                                                  \n",
       "CDELT1F =                   1.                                                  \n",
       "CDELT2F =                   1.                                                  \n",
       "CRPIX1F =                   0.                                                  \n",
       "CRPIX2F =                   0.                                                  \n",
       "CRVAL1F =              33752.5                                                  \n",
       "CRVAL2F =               30225.                                                  \n",
       "WCSNAMEE= 'FP_SERPAR'          / Name of coordinate system                      \n",
       "CTYPE1E = 'FP_S    '           / In the camera coordinate system                \n",
       "CTYPE2E = 'FP_P    '           / In the camera coordinate system                \n",
       "PC1_1E  =                  -1.                                                  \n",
       "PC1_2E  =                   0.                                                  \n",
       "PC2_1E  =                   0.                                                  \n",
       "PC2_2E  =                  -1.                                                  \n",
       "CDELT1E =                   1.                                                  \n",
       "CDELT2E =                   1.                                                  \n",
       "CRPIX1E =                   0.                                                  \n",
       "CRPIX2E =                   0.                                                  \n",
       "CRVAL1E =               30225.                                                  \n",
       "CRVAL2E =              33752.5                                                  \n",
       "WCSNAMEB= 'CCD_SERPAR'         / Name of coordinate system                      \n",
       "CTYPE1B = 'CCD_S   '           / In the serial-parallel coordinate system       \n",
       "CTYPE2B = 'CCD_P   '           / In the serial-parallel coordinate system       \n",
       "PC1_1B  =                  -1.                                                  \n",
       "PC1_2B  =                   0.                                                  \n",
       "PC2_1B  =                   0.                                                  \n",
       "PC2_2B  =                  -1.                                                  \n",
       "CDELT1B =                   1.                                                  \n",
       "CDELT2B =                   1.                                                  \n",
       "CRPIX1B =                   0.                                                  \n",
       "CRPIX2B =                   0.                                                  \n",
       "CRVAL1B =                 523.                                                  \n",
       "CRVAL2B =                4005.                                                  \n",
       "WCSNAMEQ= 'RAFT_SERPAR'        / Name of coordinate system                      \n",
       "CTYPE1Q = 'RAFT_S  '           / In the serial-parallel coordinate system       \n",
       "CTYPE2Q = 'RAFT_P  '           / In the serial-parallel coordinate system       \n",
       "PC1_1Q  =                  -1.                                                  \n",
       "PC1_2Q  =                   0.                                                  \n",
       "PC2_1Q  =                   0.                                                  \n",
       "PC2_2Q  =                  -1.                                                  \n",
       "CDELT1Q =                   1.                                                  \n",
       "CDELT2Q =                   1.                                                  \n",
       "CRPIX1Q =                   0.                                                  \n",
       "CRPIX2Q =                   0.                                                  \n",
       "CRVAL1Q =                4825.                                                  \n",
       "CRVAL2Q =               8352.5                                                  \n",
       "TEMP_SET=                   0.                                                  \n",
       "TIMESYS = 'TAI     '           / Time scale for all dates                       \n",
       "DATE-OBS= '2019-10-18T00:18:55.729' / Start date of earliest input observation  \n",
       "MJD-OBS =     58774.0131450114 / [d] Start MJD of earliest input observation    \n",
       "DATE-END= '2019-10-18T21:01:18.244' / End date of oldest input observation      \n",
       "MJD-END =     58774.8759056018 / [d] End MJD of oldest input observation        \n",
       "DATE-AVG= '2019-10-18T10:40:06.986' / Midpoint date of all input observations   \n",
       "MJD-AVG =     58774.4445253066 / [d] MJD midpoint of all input observations     \n",
       "DARKTIME=                   0.                                                  \n",
       "ROTTYPE = 'UNKNOWN '           / Type of rotation angle                         \n",
       "OBSTYPE = 'bias    '                                                            \n",
       "HIERARCH CALIB_CREATION_DATE = '2020-08-18'                                     \n",
       "HIERARCH CALIB_CREATION_TIME = '08:45:48 CDT'                                   \n",
       "HIERARCH CALIB_INPUT_0 = '(3019101700170,)'                                     \n",
       "HIERARCH CALIB_INPUT_1 = '(3019101700172,)'                                     \n",
       "HIERARCH CALIB_INPUT_2 = '(3019101700174,)'                                     \n",
       "HIERARCH CALIB_INPUT_3 = '(3019101700176,)'                                     \n",
       "HIERARCH CALIB_INPUT_4 = '(3019101700178,)'                                     \n",
       "HIERARCH CALIB_INPUT_5 = '(3019101700180,)'                                     \n",
       "HIERARCH CALIB_INPUT_6 = '(3019101700182,)'                                     \n",
       "HIERARCH CALIB_INPUT_7 = '(3019101700184,)'                                     \n",
       "HIERARCH CALIB_INPUT_8 = '(3019101700186,)'                                     \n",
       "HIERARCH CALIB_INPUT_9 = '(3019101800170,)'                                     \n",
       "HIERARCH CALIB_INPUT_10 = '(3019101800172,)'                                    \n",
       "HIERARCH CALIB_INPUT_11 = '(3019101800174,)'                                    \n",
       "HIERARCH CALIB_INPUT_12 = '(3019101800176,)'                                    \n",
       "HIERARCH CALIB_INPUT_13 = '(3019101800178,)'                                    \n",
       "HIERARCH CALIB_INPUT_14 = '(3019101800180,)'                                    \n",
       "HIERARCH CALIB_INPUT_15 = '(3019101800182,)'                                    \n",
       "HIERARCH CALIB_INPUT_16 = '(3019101800184,)'                                    \n",
       "HIERARCH CALIB_INPUT_17 = '(3019101800186,)'                                    \n",
       "CALIB_ID= 'detector=94 snap=0 raftName=R22 detectorName=S11 filter=NONE calibD&'\n",
       "CONTINUE  'ate=2019-10-18'                                                      \n",
       "HIERARCH MD5_IMAGE = '43e082c1198d64dac1de45f905e6d7bb'                         \n",
       "MD5_MASK= '7deb24b993f3bec8b02de16ce21a9fbe'                                    \n",
       "HIERARCH MD5_VARIANCE = '6f9d496998726b90a17b3d91935d948c'                      \n",
       "HIERARCH EXPINFO_V =         1                                                  \n",
       "AR_HDU  =                    5 / HDU (1-indexed) containing the archive used to "
      ]
     },
     "execution_count": 13,
     "metadata": {},
     "output_type": "execute_result"
    }
   ],
   "source": [
    "hdu[0].header"
   ]
  },
  {
   "cell_type": "code",
   "execution_count": 14,
   "metadata": {},
   "outputs": [
    {
     "data": {
      "text/plain": [
       "XTENSION= 'IMAGE   '           / binary table extension                         \n",
       "BITPIX  =                  -32 / data type of original image                    \n",
       "NAXIS   =                    2 / dimension of original image                    \n",
       "NAXIS1  =                 4608 / length of original image axis                  \n",
       "NAXIS2  =                 4096 / length of original image axis                  \n",
       "PCOUNT  =                    0 / size of special data area                      \n",
       "GCOUNT  =                    1 / one data group (required keyword)              \n",
       "LTV1    =                   0.                                                  \n",
       "LTV2    =                   0.                                                  \n",
       "INHERIT =                    T                                                  \n",
       "EXTTYPE = 'IMAGE   '                                                            \n",
       "CTYPE1A = 'LINEAR  '           / Type of projection                             \n",
       "CTYPE2A = 'LINEAR  '           / Type of projection                             \n",
       "CRPIX1A =                   1. / Column Pixel Coordinate of Reference           \n",
       "CRPIX2A =                   1. / Row Pixel Coordinate of Reference              \n",
       "CRVAL1A =                   0. / Column pixel of Reference Pixel                \n",
       "CRVAL2A =                   0. / Row pixel of Reference Pixel                   \n",
       "CUNIT1A = 'PIXEL   '           / Column unit                                    \n",
       "CUNIT2A = 'PIXEL   '           / Row unit                                       \n",
       "BZERO   =   0.000000000000E+00 / Scaling: MEMORY = BZERO + BSCALE * DISK        \n",
       "BSCALE  =   1.000000000000E+00 / Scaling: MEMORY = BZERO + BSCALE * DISK        "
      ]
     },
     "execution_count": 14,
     "metadata": {},
     "output_type": "execute_result"
    }
   ],
   "source": [
    "hdu[1].header"
   ]
  },
  {
   "cell_type": "code",
   "execution_count": 15,
   "metadata": {},
   "outputs": [
    {
     "data": {
      "text/plain": [
       "XTENSION= 'IMAGE   '           / binary table extension                         \n",
       "BITPIX  =                   32 / data type of original image                    \n",
       "NAXIS   =                    2 / dimension of original image                    \n",
       "NAXIS1  =                 4608 / length of original image axis                  \n",
       "NAXIS2  =                 4096 / length of original image axis                  \n",
       "PCOUNT  =                    0 / size of special data area                      \n",
       "GCOUNT  =                    1 / one data group (required keyword)              \n",
       "LTV1    =                   0.                                                  \n",
       "LTV2    =                   0.                                                  \n",
       "INHERIT =                    T                                                  \n",
       "EXTTYPE = 'MASK    '                                                            \n",
       "MP_BAD  =                    0                                                  \n",
       "MP_CR   =                    3                                                  \n",
       "HIERARCH MP_DETECTED =       5                                                  \n",
       "HIERARCH MP_DETECTED_NEGATIVE = 6                                               \n",
       "MP_EDGE =                    4                                                  \n",
       "MP_INTRP=                    2                                                  \n",
       "HIERARCH MP_NO_DATA =        8                                                  \n",
       "MP_SAT  =                    1                                                  \n",
       "HIERARCH MP_SUSPECT =        7                                                  \n",
       "HIERARCH MP_UNMASKEDNAN =    9                                                  \n",
       "CTYPE1A = 'LINEAR  '           / Type of projection                             \n",
       "CTYPE2A = 'LINEAR  '           / Type of projection                             \n",
       "CRPIX1A =                   1. / Column Pixel Coordinate of Reference           \n",
       "CRPIX2A =                   1. / Row Pixel Coordinate of Reference              \n",
       "CRVAL1A =                   0. / Column pixel of Reference Pixel                \n",
       "CRVAL2A =                   0. / Row pixel of Reference Pixel                   \n",
       "CUNIT1A = 'PIXEL   '           / Column unit                                    \n",
       "CUNIT2A = 'PIXEL   '           / Row unit                                       "
      ]
     },
     "execution_count": 15,
     "metadata": {},
     "output_type": "execute_result"
    }
   ],
   "source": [
    "hdu[2].header"
   ]
  },
  {
   "cell_type": "markdown",
   "metadata": {},
   "source": [
    "Calibs in ts_phosim were called in https://github.com/lsst-ts/ts_phosim/blob/5eb96fdfb29ccef77e00e1b47adcf4e1ba081d0f/python/lsst/ts/phosim/CloseLoopTask.py#L807, via \n",
    "\n",
    "      fakeFlatDir = self.makeCalibs(instName, baseOutputDir)\n",
    "      self.wepCalc.ingestCalibs(fakeFlatDir)\n",
    "            \n",
    "which calls \n",
    "\n",
    "    makeGainImages.py --detector_list R22_S00 .... \n",
    "or \n",
    "\n",
    "    makeGainImages.py --just_wfs \n",
    "  "
   ]
  },
  {
   "cell_type": "code",
   "execution_count": 22,
   "metadata": {},
   "outputs": [
    {
     "name": "stdout",
     "output_type": "stream",
     "text": [
      "Run in terminal:\n",
      "cd /project/scichris/repackagerTest/fake_flats/\n",
      "makeGainImages.py --detector_list  R22_S00  R22_S01  R22_S02  R22_S10  R22_S11  R22_S12  R22_S20  R22_S21  R22_S22  \n"
     ]
    }
   ],
   "source": [
    "path_to_fake_flats = '/project/scichris/repackagerTest/fake_flats/'\n",
    "print('Run in terminal:')\n",
    "print('cd %s'%path_to_fake_flats)\n",
    "\n",
    "\n",
    "detector_list = ['R22_S00', 'R22_S01', 'R22_S02',\n",
    "                'R22_S10', 'R22_S11', 'R22_S12',\n",
    "                'R22_S20', 'R22_S21', 'R22_S22']\n",
    "detectors = ''\n",
    "for detector in detector_list:\n",
    "    detectors += ' %s '%detector \n",
    "cmd = 'makeGainImages.py'\n",
    "args = '--detector_list %s '%detectors\n",
    "print('%s %s'%(cmd,args))"
   ]
  },
  {
   "cell_type": "markdown",
   "metadata": {},
   "source": [
    "  \n",
    "And these are ingested from eg. `fake_flats` to `input` with \n",
    "\n",
    "    ingestCalibs.py  destDir calibFiles --validity 99999 --output destDir \n",
    "    \n",
    "where `destDir` is `isrDir` i.e. `input`.\n",
    "\n",
    "\n"
   ]
  },
  {
   "cell_type": "code",
   "execution_count": 23,
   "metadata": {},
   "outputs": [
    {
     "name": "stdout",
     "output_type": "stream",
     "text": [
      "Run in terminal:\n",
      "ingestCalibs.py /project/scichris/repackagerTest/input_w50_comcamAmp/ /project/scichris/repackagerTest/fake_flats/* --validity 99999 --output /project/scichris/repackagerTest/input_w50_comcamAmp/\n"
     ]
    }
   ],
   "source": [
    "path_to_fake_flats = '/project/scichris/repackagerTest/fake_flats/'\n",
    "\n",
    "path_to_ingested_flats = '/project/scichris/repackagerTest/input_w50_comcamAmp/'\n",
    "\n",
    "\n",
    "# add mapper to the 'input' directory : \n",
    "\n",
    "\n",
    "\n",
    "\n",
    "destDir = path_to_ingested_flats\n",
    "calibsDir = path_to_fake_flats\n",
    "calibFiles = os.path.join(calibsDir, \"*\")\n",
    "command = \"ingestCalibs.py\"\n",
    "argstring = \"%s %s --validity 99999 --output %s\" % (destDir,\n",
    "    calibFiles,destDir)\n",
    "print('Run in terminal:')\n",
    "print(command, argstring)"
   ]
  },
  {
   "cell_type": "markdown",
   "metadata": {},
   "source": [
    "Now that we have both ingested raw amplifier images and calibs (with `lsstCam` mapper), try running ISR. In ts_wep it is called via https://github.com/lsst-ts/ts_wep/blob/08d0c2c4c0f6ed37fcc86af9ac09386469ae8824/python/lsst/ts/wep/ctrlIntf/WEPCalculation.py#L508 \n",
    "which calls `CamIsrWrapper` \n",
    "\n",
    "       def doISR(self, inputDir, rerunName=\"run1\"):\n",
    "       \n",
    "First, need to include the isr settings file : \n",
    "\n"
   ]
  },
  {
   "cell_type": "code",
   "execution_count": 25,
   "metadata": {},
   "outputs": [],
   "source": [
    "destDir =path_to_ingested_flats\n",
    "fileName = 'isr_config.py'\n",
    "filePath = os.path.join(destDir, fileName)\n",
    "\n",
    "content = \"config.isr.doBias=%s\\n\" % False\n",
    "content += \"config.isr.doDark=%s\\n\" % False\n",
    "content += \"config.isr.doFlat=%s\\n\" % True\n",
    "content += \"config.isr.doFringe=%s\\n\" % False\n",
    "content += \"config.isr.doDefect=%s\\n\" % False\n",
    "content += \"config.isr.doOverscan=%s\\n\" % True\n",
    "\n",
    "# save the ISR config file \n",
    "with open(filePath, \"w\") as file:\n",
    "        file.write(content)\n",
    "\n",
    "# store the path to the config file to use it in ISR : \n",
    "isrConfigFilePath = filePath"
   ]
  },
  {
   "cell_type": "code",
   "execution_count": 26,
   "metadata": {},
   "outputs": [
    {
     "name": "stdout",
     "output_type": "stream",
     "text": [
      "Run in terminal:\n",
      "runIsr.py /project/scichris/repackagerTest/input_w50_comcamAmp/ --id --rerun=run1 --configfile /project/scichris/repackagerTest/input_w50_comcamAmp/isr_config.py --no-versions\n"
     ]
    }
   ],
   "source": [
    "command = \"runIsr.py\"\n",
    "isrDir = path_to_ingested_flats \n",
    "inputDir = isrDir\n",
    "\n",
    "rerunName = 'run1'\n",
    "argstring = \"%s --id --rerun=%s\" % (inputDir, rerunName)\n",
    "argstring += \" --configfile %s --no-versions\" % isrConfigFilePath\n",
    "\n",
    "print('Run in terminal:')\n",
    "print('%s %s'%(command,argstring))"
   ]
  },
  {
   "cell_type": "markdown",
   "metadata": {},
   "source": [
    "I get an error : \n",
    "    \n",
    "    runIsr.isr INFO: Performing ISR on sensor {'dayObs': '2000-02-17', 'expId': 4000021700032, 'raftName': 'R22', 'detectorName': 'S22', 'detector': 98}.\n",
    "    obs.lsst.assembly WARN: DataId(initialdata={'dayObs': '2000-02-17', 'expId': 4000021700032, 'raftName': 'R22', 'detectorName': 'S22', 'detector': 98}, tag=set()): outAmp.getRawBBox() != data.getBBox(); patching. ((minimum=(0, 0), maximum=(575, 2047)) v. (minimum=(0, 0), maximum=(521, 2009)))\n",
    "    obs.lsst.assembly WARN: argDict[boresightAirmass] is None; stripping\n",
    "    obs.lsst.assembly WARN: Unable to set WCS from header as RA/Dec/Angle are unavailable for dataId DataId(initialdata={'dayObs': '2000-02-17', 'expId': 4000021700032, 'raftName': 'R22', 'detectorName': 'S22', 'detector': 98}, tag=set())\n",
    "    CameraMapper WARN: Cannot create SkyWcs using VisitInfo and Detector, using metadata-based SkyWcs: Cannot create SkyWcs from camera geometry: rotator angle defined using RotType=RotType.UNKNOWN instead of SKY.\n",
    "    CameraMapper WARN: Cannot create SkyWcs using VisitInfo and Detector, using metadata-based SkyWcs: Cannot create SkyWcs from camera geometry: rotator angle defined using RotType=RotType.UNKNOWN instead of SKY.\n",
    "    runIsr.isr INFO: Converting exposure to floating point values.\n",
    "    runIsr.isr INFO: ISR_OSCAN: No overscan region.  Not performing overscan correction.\n",
    "    runIsr.isr INFO: ISR_OSCAN: No overscan region.  Not performing overscan correction.\n",
    "    runIsr.isr INFO: ISR_OSCAN: No overscan region.  Not performing overscan correction.\n",
    "    runIsr.isr INFO: ISR_OSCAN: No overscan region.  Not performing overscan correction.\n",
    "    runIsr.isr INFO: ISR_OSCAN: No overscan region.  Not performing overscan correction.\n",
    "    runIsr.isr INFO: ISR_OSCAN: No overscan region.  Not performing overscan correction.\n",
    "    runIsr.isr INFO: ISR_OSCAN: No overscan region.  Not performing overscan correction.\n",
    "    runIsr.isr INFO: ISR_OSCAN: No overscan region.  Not performing overscan correction.\n",
    "    runIsr.isr INFO: ISR_OSCAN: No overscan region.  Not performing overscan correction.\n",
    "    runIsr.isr INFO: ISR_OSCAN: No overscan region.  Not performing overscan correction.\n",
    "    runIsr.isr INFO: ISR_OSCAN: No overscan region.  Not performing overscan correction.\n",
    "    runIsr.isr INFO: ISR_OSCAN: No overscan region.  Not performing overscan correction.\n",
    "    runIsr.isr INFO: ISR_OSCAN: No overscan region.  Not performing overscan correction.\n",
    "    runIsr.isr INFO: ISR_OSCAN: No overscan region.  Not performing overscan correction.\n",
    "    runIsr.isr INFO: ISR_OSCAN: No overscan region.  Not performing overscan correction.\n",
    "    runIsr.isr INFO: ISR_OSCAN: No overscan region.  Not performing overscan correction.\n",
    "    runIsr.isr INFO: Assembling CCD from amplifiers.\n",
    "    runIsr.isr INFO: Applying crosstalk correction.\n",
    "    runIsr FATAL: Failed on dataId={'dayObs': '2000-02-17', 'expId': 4000021700032, 'raftName': 'R22', 'detectorName': 'S22', 'detector': 98}: RuntimeError: Attempted to correct crosstalk without crosstalk coefficients.\n",
    "    Traceback (most recent call last):\n",
    "      File \"/opt/lsst/software/stack/stack/miniconda3-py37_4.8.2-cb4e2dc/Linux64/pipe_base/21.0.0-4-g051ac7e+54eb6ec8b5/python/lsst/pipe/base/cmdLineTask.py\", line 431, in __call__\n",
    "        result = self.runTask(task, dataRef, kwargs)\n",
    "      File \"/opt/lsst/software/stack/stack/miniconda3-py37_4.8.2-cb4e2dc/Linux64/pipe_base/21.0.0-4-g051ac7e+54eb6ec8b5/python/lsst/pipe/base/cmdLineTask.py\", line 495, in runTask\n",
    "        return task.runDataRef(dataRef, **kwargs)\n",
    "      File \"/opt/lsst/software/stack/stack/miniconda3-py37_4.8.2-cb4e2dc/Linux64/ip_isr/21.0.0-1-g763706f+6421b4843a/python/lsst/ip/isr/isrTask.py\", line 2621, in runDataRef\n",
    "        return self.isr.runDataRef(dataRef)\n",
    "      File \"/opt/lsst/software/stack/stack/miniconda3-py37_4.8.2-cb4e2dc/Linux64/pipe_base/21.0.0-4-g051ac7e+54eb6ec8b5/python/lsst/pipe/base/timer.py\", line 157, in wrapper\n",
    "        res = func(self, *args, **keyArgs)\n",
    "      File \"/opt/lsst/software/stack/stack/miniconda3-py37_4.8.2-cb4e2dc/Linux64/ip_isr/21.0.0-1-g763706f+6421b4843a/python/lsst/ip/isr/isrTask.py\", line 1686, in runDataRef\n",
    "        result = self.run(ccdExposure, camera=camera, **isrData.getDict())\n",
    "      File \"/opt/lsst/software/stack/stack/miniconda3-py37_4.8.2-cb4e2dc/Linux64/pipe_base/21.0.0-4-g051ac7e+54eb6ec8b5/python/lsst/pipe/base/timer.py\", line 157, in wrapper\n",
    "    res = func(self, *args, **keyArgs)\n",
    "      File \"/opt/lsst/software/stack/stack/miniconda3-py37_4.8.2-cb4e2dc/Linux64/ip_isr/21.0.0-1-g763706f+6421b4843a/python/lsst/ip/isr/isrTask.py\", line 1449, in run\n",
    "        crosstalkSources=crosstalkSources, isTrimmed=True)\n",
    "      File \"/opt/lsst/software/stack/stack/miniconda3-py37_4.8.2-cb4e2dc/Linux64/ip_isr/21.0.0-1-g763706f+6421b4843a/python/lsst/ip/isr/crosstalk.py\", line 709, in run\n",
    "        raise RuntimeError(\"Attempted to correct crosstalk without crosstalk coefficients.\")\n",
    "    RuntimeError: Attempted to correct crosstalk without crosstalk coefficients."
   ]
  },
  {
   "cell_type": "markdown",
   "metadata": {},
   "source": [
    "So first, the overscan correction https://github.com/lsst/ip_isr/blob/763706fb4105b60042e8d79667467657e813f7ce/python/lsst/ip/isr/isrTask.py#L1942  tries \n",
    "    \n",
    "        if amp.getRawHorizontalOverscanBBox().isEmpty():\n",
    "            self.log.info(\"ISR_OSCAN: No overscan region.  Not performing overscan correction.\")\n",
    "            return None\n"
   ]
  },
  {
   "cell_type": "markdown",
   "metadata": {},
   "source": [
    "The code parts that run overscan on each amps are\n",
    "\n",
    "    dataRef : `lsst.daf.persistence.ButlerDataRef`\n",
    "    \n",
    "    ccdExposure : `lsst.afw.image.Exposure`\n",
    "    \n",
    "     ccd = ccdExposure.getDetector()\n",
    "    \n",
    "     for amp in ccd:\n",
    "            # if ccdExposure is one amp, check for coverage to prevent performing ops multiple times\n",
    "            if ccdExposure.getBBox().contains(amp.getBBox()):\n",
    "                # Check for fully masked bad amplifiers, and generate masks for SUSPECT and SATURATED values.\n",
    "                badAmp = self.maskAmplifier(ccdExposure, amp, defects)\n",
    "\n",
    "                if self.config.doOverscan and not badAmp:\n",
    "                    # Overscan correction on amp-by-amp basis.\n",
    "                    overscanResults = self.overscanCorrection(ccdExposure, amp)"
   ]
  },
  {
   "cell_type": "code",
   "execution_count": 1,
   "metadata": {},
   "outputs": [],
   "source": [
    "import lsst.obs.lsst.translators as translators"
   ]
  },
  {
   "cell_type": "code",
   "execution_count": 2,
   "metadata": {},
   "outputs": [
    {
     "data": {
      "text/plain": [
       "<module 'lsst.obs.lsst.translators' from '/opt/lsst/software/stack/stack/miniconda3-py37_4.8.2-cb4e2dc/Linux64/obs_lsst/21.0.0-6-ga173f97+9f88c78362/python/lsst/obs/lsst/translators/__init__.py'>"
      ]
     },
     "execution_count": 2,
     "metadata": {},
     "output_type": "execute_result"
    }
   ],
   "source": [
    "translators"
   ]
  },
  {
   "cell_type": "code",
   "execution_count": 67,
   "metadata": {},
   "outputs": [],
   "source": [
    "%matplotlib inline\n",
    "import matplotlib.pyplot as plt\n",
    "import lsst.daf.persistence as dafPersist\n",
    "dataRoot = '/project/scichris/repackagerTest/input_w50_comcamAmp/'\n",
    "butler = dafPersist.Butler(dataRoot, )\n",
    "\n",
    "dataId = dict(run='9006001', raftName='R22', detectorName='S00')\n",
    "post = butler.get('raw', dataId)\n",
    "image = post.image.array\n"
   ]
  },
  {
   "cell_type": "code",
   "execution_count": 7,
   "metadata": {},
   "outputs": [
    {
     "data": {
      "text/plain": [
       "<matplotlib.image.AxesImage at 0x7f4d49c62d50>"
      ]
     },
     "execution_count": 7,
     "metadata": {},
     "output_type": "execute_result"
    },
    {
     "data": {
      "image/png": "[encoded data removed]",
      "text/plain": [
       "<Figure size 432x288 with 1 Axes>"
      ]
     },
     "metadata": {
      "needs_background": "light"
     },
     "output_type": "display_data"
    }
   ],
   "source": [
    "plt.imshow(image,vmax=1200, origin='lower')"
   ]
  },
  {
   "cell_type": "code",
   "execution_count": 64,
   "metadata": {},
   "outputs": [
    {
     "data": {
      "text/plain": [
       "<lsst.afw.cameraGeom.amplifier.amplifier.Amplifier at 0x7f4d4824f430>"
      ]
     },
     "execution_count": 64,
     "metadata": {},
     "output_type": "execute_result"
    }
   ],
   "source": [
    "amp"
   ]
  },
  {
   "cell_type": "code",
   "execution_count": 10,
   "metadata": {},
   "outputs": [],
   "source": []
  },
  {
   "cell_type": "code",
   "execution_count": 63,
   "metadata": {},
   "outputs": [
    {
     "data": {
      "text/plain": [
       "Box2I(minimum=Point2I(0, 0), dimensions=Extent2I(0, 0))"
      ]
     },
     "execution_count": 63,
     "metadata": {},
     "output_type": "execute_result"
    }
   ],
   "source": [
    "ccd = post.getDetector()\n",
    "amp = ccd.getAmplifiers()[15]\n",
    "amp.getName()\n",
    "amp.getRawHorizontalOverscanBBox()"
   ]
  },
  {
   "cell_type": "code",
   "execution_count": 66,
   "metadata": {},
   "outputs": [],
   "source": [
    "ee = butler.get('raw', dataId)"
   ]
  },
  {
   "cell_type": "code",
   "execution_count": 11,
   "metadata": {},
   "outputs": [
    {
     "name": "stdout",
     "output_type": "stream",
     "text": [
      "C10\n",
      "C11\n",
      "C12\n",
      "C13\n",
      "C14\n",
      "C15\n",
      "C16\n",
      "C17\n",
      "C07\n",
      "C06\n",
      "C05\n",
      "C04\n",
      "C03\n",
      "C02\n",
      "C01\n",
      "C00\n"
     ]
    }
   ],
   "source": [
    "for amp in ccd:\n",
    "    print(amp.getName())"
   ]
  },
  {
   "cell_type": "code",
   "execution_count": 38,
   "metadata": {},
   "outputs": [
    {
     "data": {
      "text/plain": [
       "'C00'"
      ]
     },
     "execution_count": 38,
     "metadata": {},
     "output_type": "execute_result"
    }
   ],
   "source": [
    "amp.getName()"
   ]
  },
  {
   "cell_type": "code",
   "execution_count": 13,
   "metadata": {},
   "outputs": [
    {
     "data": {
      "text/plain": [
       "Box2I(minimum=Point2I(0, 0), dimensions=Extent2I(0, 0))"
      ]
     },
     "execution_count": 13,
     "metadata": {},
     "output_type": "execute_result"
    }
   ],
   "source": [
    "amp.getRawHorizontalOverscanBBox()"
   ]
  },
  {
   "cell_type": "markdown",
   "metadata": {},
   "source": [
    "this corresponds to the following header information:"
   ]
  },
  {
   "cell_type": "code",
   "execution_count": 43,
   "metadata": {},
   "outputs": [],
   "source": [
    "path_to_raw_phosim = '/project/scichris/repackagerTest/extraRpkgdAmp/'\n",
    "path_to_file = os.path.join(path_to_raw_phosim, 'MC_H_20000217_000032_R22_S00.fits')\n",
    "hdul = fits.open(path_to_file)\n"
   ]
  },
  {
   "cell_type": "code",
   "execution_count": 32,
   "metadata": {},
   "outputs": [],
   "source": [
    "# phosim BOT-like repackaged file header... \n",
    "\n",
    "# [0]: primary DETSIZE = '[1:4096,1:4004]' \n",
    "# [16]: C00 amp:  ('AMPID') \n",
    "#   DATASEC '[11:522,1:2002]' \n",
    "#   DETSEC '[1:512,4004:2003]'\n",
    "#   NAXIS1    522 \n",
    "#   NAXIS2    2010 \n",
    "#   TRIMSEC  '[   4: 512,   1:2000]'\n",
    "#hdul[0].header"
   ]
  },
  {
   "cell_type": "code",
   "execution_count": 35,
   "metadata": {},
   "outputs": [
    {
     "data": {
      "text/plain": [
       "(2010, 522)"
      ]
     },
     "execution_count": 35,
     "metadata": {},
     "output_type": "execute_result"
    }
   ],
   "source": [
    "hdul[16].data.shape"
   ]
  },
  {
   "cell_type": "code",
   "execution_count": 36,
   "metadata": {},
   "outputs": [
    {
     "data": {
      "text/plain": [
       "'[11:522,1:2002]'"
      ]
     },
     "execution_count": 36,
     "metadata": {},
     "output_type": "execute_result"
    }
   ],
   "source": [
    "hdul[16].header['DATASEC']"
   ]
  },
  {
   "cell_type": "code",
   "execution_count": 37,
   "metadata": {},
   "outputs": [
    {
     "data": {
      "text/plain": [
       "'C00'"
      ]
     },
     "execution_count": 37,
     "metadata": {},
     "output_type": "execute_result"
    }
   ],
   "source": [
    "hdul[16].header['AMPID']"
   ]
  },
  {
   "cell_type": "code",
   "execution_count": 46,
   "metadata": {},
   "outputs": [
    {
     "data": {
      "text/plain": [
       "'[   4: 512,   1:2000]'"
      ]
     },
     "execution_count": 46,
     "metadata": {},
     "output_type": "execute_result"
    }
   ],
   "source": [
    "\n",
    "hdul[16].header['TRIMSEC']"
   ]
  },
  {
   "cell_type": "markdown",
   "metadata": {},
   "source": [
    "check the header data input by the old phosim repackager... "
   ]
  },
  {
   "cell_type": "code",
   "execution_count": 50,
   "metadata": {},
   "outputs": [],
   "source": [
    "import os \n",
    "import astropy.io.fits as fits\n",
    "path_to_raw_phosim = '/project/scichris/repackagerTest/extraRpkgdAmpOLD/'\n",
    "path_to_file = os.path.join(path_to_raw_phosim, 'lsst_a_9006001_f1_R22_S00_E000.fits')\n",
    "hdul = fits.open(path_to_file)\n"
   ]
  },
  {
   "cell_type": "code",
   "execution_count": 48,
   "metadata": {},
   "outputs": [
    {
     "data": {
      "text/plain": [
       "'C00'"
      ]
     },
     "execution_count": 48,
     "metadata": {},
     "output_type": "execute_result"
    }
   ],
   "source": [
    "# [1]: C00 amp ('AMPID')\n",
    "# DATASEC '[4:512,1:2000]'\n",
    "# DETSEC '[509:1,1:2000]'\n",
    "# NAXIS1 522 \n",
    "# NAXIS2 2010 \n",
    "# TRIMSEC [   4: 512,   1:2000] \n",
    "hdul[1].header['AMPID']"
   ]
  },
  {
   "cell_type": "code",
   "execution_count": 51,
   "metadata": {},
   "outputs": [
    {
     "data": {
      "text/plain": [
       "'[   4: 512,   1:2000]'"
      ]
     },
     "execution_count": 51,
     "metadata": {},
     "output_type": "execute_result"
    }
   ],
   "source": [
    "hdul[1].header['TRIMSEC']"
   ]
  },
  {
   "cell_type": "code",
   "execution_count": null,
   "metadata": {},
   "outputs": [],
   "source": [
    "\n"
   ]
  },
  {
   "cell_type": "markdown",
   "metadata": {},
   "source": [
    "check out what BOT has for that ... Could there the overscan correction be done? Or is it that the lsstCamMapper does not allow overscan correction ? "
   ]
  },
  {
   "cell_type": "code",
   "execution_count": 15,
   "metadata": {},
   "outputs": [
    {
     "name": "stderr",
     "output_type": "stream",
     "text": [
      "MC_C_20200825_000032 R22_S00: No FILTER key found but FILTER2=\"ND_OD1.0\" (removed)\n"
     ]
    }
   ],
   "source": [
    "import lsst.daf.persistence as dafPersist\n",
    "repo_dir = \"/project/shared/BOT/_parent\"\n",
    "butler = dafPersist.Butler(repo_dir)\n",
    "data_id={'visit':3020082500032, 'raftName':'R22', 'detectorName':'S00'}\n",
    "post = butler.get('raw', **data_id)\n"
   ]
  },
  {
   "cell_type": "code",
   "execution_count": 16,
   "metadata": {},
   "outputs": [
    {
     "name": "stdout",
     "output_type": "stream",
     "text": [
      "C10\n",
      "C11\n",
      "C12\n",
      "C13\n",
      "C14\n",
      "C15\n",
      "C16\n",
      "C17\n",
      "C07\n",
      "C06\n",
      "C05\n",
      "C04\n",
      "C03\n",
      "C02\n",
      "C01\n",
      "C00\n"
     ]
    }
   ],
   "source": [
    "ccd = post.getDetector()\n",
    "for amp in ccd:\n",
    "    print(amp.getName())"
   ]
  },
  {
   "cell_type": "code",
   "execution_count": 30,
   "metadata": {},
   "outputs": [
    {
     "data": {
      "text/plain": [
       "'C00'"
      ]
     },
     "execution_count": 30,
     "metadata": {},
     "output_type": "execute_result"
    }
   ],
   "source": [
    "amp.getName()"
   ]
  },
  {
   "cell_type": "code",
   "execution_count": 17,
   "metadata": {},
   "outputs": [
    {
     "data": {
      "text/plain": [
       "Box2I(minimum=Point2I(522, 0), dimensions=Extent2I(54, 2002))"
      ]
     },
     "execution_count": 17,
     "metadata": {},
     "output_type": "execute_result"
    }
   ],
   "source": [
    "amp.getRawHorizontalOverscanBBox()"
   ]
  },
  {
   "cell_type": "markdown",
   "metadata": {},
   "source": [
    "check out which header values these correspond to : "
   ]
  },
  {
   "cell_type": "code",
   "execution_count": 44,
   "metadata": {},
   "outputs": [],
   "source": [
    "import os\n",
    "import astropy.io.fits as fits\n",
    "path_to_raw_bot = '/project/shared/BOT/_parent/raw/2020-08-25/3020082500032/'\n",
    "files = os.listdir(path_to_raw_bot)\n",
    "for file in files:\n",
    "    if 'R22-S00' in file:\n",
    "        fname = file\n",
    "filepath = os.path.join(path_to_raw_bot, fname)\n",
    "hdul = fits.open(filepath)"
   ]
  },
  {
   "cell_type": "code",
   "execution_count": 51,
   "metadata": {},
   "outputs": [
    {
     "data": {
      "text/plain": [
       "\u001b[0;31mDocstring:\u001b[0m getRawHorizontalOverscanBBox(self: lsst.afw.cameraGeom.amplifier.amplifier.Amplifier) -> lsst.geom.Box2I\n",
       "\u001b[0;31mType:\u001b[0m      method\n"
      ]
     },
     "metadata": {},
     "output_type": "display_data"
    }
   ],
   "source": [
    "amp.getRawHorizontalOverscanBBox??"
   ]
  },
  {
   "cell_type": "markdown",
   "metadata": {},
   "source": [
    "Looks like for LsstCam this data is defined in \n",
    "https://github.com/lsst/obs_lsst/blob/master/policy/cameraHeader.yaml"
   ]
  },
  {
   "cell_type": "code",
   "execution_count": 46,
   "metadata": {},
   "outputs": [
    {
     "data": {
      "text/plain": [
       "XTENSION= 'IMAGE   '           / marks beginning of new HDU                     \n",
       "BITPIX  =                   32 / bits per data value                            \n",
       "NAXIS   =                    2 / number of axis                                 \n",
       "NAXIS1  =                  576 / size of the n'th axis                          \n",
       "NAXIS2  =                 2048 / size of the n'th axis                          \n",
       "PCOUNT  =                    0 / Required value                                 \n",
       "GCOUNT  =                    1 / Required value                                 \n",
       "CHECKSUM= 'WA5AY833WA3AW533'   / checksum for the current HDU                   \n",
       "CHANNEL =                    1                                                  \n",
       "EXTNAME = 'Segment10'                                                           \n",
       "CCDSUM  = '1 1     '                                                            \n",
       "DATASEC = '[11:522,1:2002]'                                                     \n",
       "DETSEC  = '[512:1,1:2002]'                                                      \n",
       "DETSIZE = '[1:4096,1:4004]'                                                     \n",
       "DTV1    =                  523 / detector transformation vector                 \n",
       "DTV2    =                    0 / detector transformation vector                 \n",
       "DTM1_1  =                 -1.0 / detector transformation matrix                 \n",
       "DTM2_2  =                  1.0 / detector transformation matrix                 \n",
       "DTM1_2  =                  0.0 / detector transformation matrix                 \n",
       "DTM2_1  =                  0.0 / detector transformation matrix                 \n",
       "WCSNAMEA= 'AMPLIFIER'          / Name of coordinate system                      \n",
       "CTYPE1A = 'Seg_X   '           / In the camera coordinate system                \n",
       "CTYPE2A = 'Seg_Y   '           / In the camera coordinate system                \n",
       "PC1_1A  =                  0.0                                                  \n",
       "PC1_2A  =                 -1.0                                                  \n",
       "PC2_1A  =                 -1.0                                                  \n",
       "PC2_2A  =                  0.0                                                  \n",
       "CDELT1A =                  1.0                                                  \n",
       "CDELT2A =                  1.0                                                  \n",
       "CRPIX1A =                  0.0                                                  \n",
       "CRPIX2A =                  0.0                                                  \n",
       "CRVAL1A =               2003.0                                                  \n",
       "CRVAL2A =                523.0                                                  \n",
       "WCSNAMEC= 'CCD     '           / Name of coordinate system                      \n",
       "CTYPE1C = 'CCD_X   '           / In the camera coordinate system                \n",
       "CTYPE2C = 'CCD_Y   '           / In the camera coordinate system                \n",
       "PC1_1C  =                  0.0                                                  \n",
       "PC1_2C  =                 -1.0                                                  \n",
       "PC2_1C  =                 -1.0                                                  \n",
       "PC2_2C  =                  0.0                                                  \n",
       "CDELT1C =                  1.0                                                  \n",
       "CDELT2C =                  1.0                                                  \n",
       "CRPIX1C =                  0.0                                                  \n",
       "CRPIX2C =                  0.0                                                  \n",
       "CRVAL1C =               4005.0                                                  \n",
       "CRVAL2C =                523.0                                                  \n",
       "WCSNAMER= 'RAFT    '           / Name of coordinate system                      \n",
       "CTYPE1R = 'RAFT_X  '           / In the camera coordinate system                \n",
       "CTYPE2R = 'RAFT_Y  '           / In the camera coordinate system                \n",
       "PC1_1R  =                  0.0                                                  \n",
       "PC1_2R  =                 -1.0                                                  \n",
       "PC2_1R  =                 -1.0                                                  \n",
       "PC2_2R  =                  0.0                                                  \n",
       "CDELT1R =                  1.0                                                  \n",
       "CDELT2R =                  1.0                                                  \n",
       "CRPIX1R =                  0.0                                                  \n",
       "CRPIX2R =                  0.0                                                  \n",
       "CRVAL1R =               4127.5                                                  \n",
       "CRVAL2R =                600.0                                                  \n",
       "WCSNAMEF= 'FOCAL_PLANE'        / Name of coordinate system                      \n",
       "CTYPE1F = 'FP_X    '           / In the camera coordinate system                \n",
       "CTYPE2F = 'FP_Y    '           / In the camera coordinate system                \n",
       "PC1_1F  =                  0.0                                                  \n",
       "PC1_2F  =                 -1.0                                                  \n",
       "PC2_1F  =                 -1.0                                                  \n",
       "PC2_2F  =                  0.0                                                  \n",
       "CDELT1F =                  1.0                                                  \n",
       "CDELT2F =                  1.0                                                  \n",
       "CRPIX1F =                  0.0                                                  \n",
       "CRPIX2F =                  0.0                                                  \n",
       "CRVAL1F =              29527.5                                                  \n",
       "CRVAL2F =              26000.0                                                  \n",
       "WCSNAMEE= 'FP_SERPAR'          / Name of coordinate system                      \n",
       "CTYPE1E = 'FP_S    '           / In the camera coordinate system                \n",
       "CTYPE2E = 'FP_P    '           / In the camera coordinate system                \n",
       "PC1_1E  =                 -1.0                                                  \n",
       "PC1_2E  =                  0.0                                                  \n",
       "PC2_1E  =                  0.0                                                  \n",
       "PC2_2E  =                 -1.0                                                  \n",
       "CDELT1E =                  1.0                                                  \n",
       "CDELT2E =                  1.0                                                  \n",
       "CRPIX1E =                  0.0                                                  \n",
       "CRPIX2E =                  0.0                                                  \n",
       "CRVAL1E =              26000.0                                                  \n",
       "CRVAL2E =              29527.5                                                  \n",
       "WCSNAMEB= 'CCD_SERPAR'         / Name of coordinate system                      \n",
       "CTYPE1B = 'CCD_S   '           / In the serial-parallel coordinate system       \n",
       "CTYPE2B = 'CCD_P   '           / In the serial-parallel coordinate system       \n",
       "PC1_1B  =                 -1.0                                                  \n",
       "PC1_2B  =                  0.0                                                  \n",
       "PC2_1B  =                  0.0                                                  \n",
       "PC2_2B  =                 -1.0                                                  \n",
       "CDELT1B =                  1.0                                                  \n",
       "CDELT2B =                  1.0                                                  \n",
       "CRPIX1B =                  0.0                                                  \n",
       "CRPIX2B =                  0.0                                                  \n",
       "CRVAL1B =                523.0                                                  \n",
       "CRVAL2B =               4005.0                                                  \n",
       "WCSNAMEQ= 'RAFT_SERPAR'        / Name of coordinate system                      \n",
       "CTYPE1Q = 'RAFT_S  '           / In the serial-parallel coordinate system       \n",
       "CTYPE2Q = 'RAFT_P  '           / In the serial-parallel coordinate system       \n",
       "PC1_1Q  =                 -1.0                                                  \n",
       "PC1_2Q  =                  0.0                                                  \n",
       "PC2_1Q  =                  0.0                                                  \n",
       "PC2_2Q  =                 -1.0                                                  \n",
       "CDELT1Q =                  1.0                                                  \n",
       "CDELT2Q =                  1.0                                                  \n",
       "CRPIX1Q =                  0.0                                                  \n",
       "CRPIX2Q =                  0.0                                                  \n",
       "CRVAL1Q =                600.0                                                  \n",
       "CRVAL2Q =               4127.5                                                  \n",
       "BSCALE  =                  1.0                                                  \n",
       "BZERO   =                  0.0                                                  \n",
       "DATASUM = '2037046778'         / checksum of the data records                   "
      ]
     },
     "execution_count": 46,
     "metadata": {},
     "output_type": "execute_result"
    }
   ],
   "source": [
    "# amp C00 has getRawHorizontalOverscanBBox()\n",
    "# Box2I(minimum=Point2I(522, 0), dimensions=Extent2I(54, 2002))\n",
    "\n",
    "# [0] (primary):  DETSIZE = '[1:4096,1:4004]'\n",
    "\n",
    "# [1] (first amp): DATASEC = '[11:522,1:2002]'                                                     \n",
    "#                  DETSEC  = '[512:1,1:2002]'                                                      \n",
    "#                  DETSIZE = '[1:4096,1:4004]'\n",
    "#                  NAXIS1 = 576 \n",
    "#                  NAXIS2 = 2048 \n",
    "\n",
    "#  DATASEC '[11:522,1:2002]' \n",
    "#   DETSEC '[1:512,4004:2003]'\n",
    "#   DETSIZE '[1:4096,1:4004]' \n",
    "\n",
    "\n",
    "# [16] (amp C00): DATASEC = '[11:522,1:2002]'                                                     \n",
    "#      DETSEC  = '[512:1,1:2002]'                                                      \n",
    "#      DETSIZE = '[1:4096,1:4004]' \n",
    "#      NAXIS1 = 576 \n",
    "#      NAXIS2 = 2048 \n",
    "\n",
    "hdul[1].header"
   ]
  },
  {
   "cell_type": "code",
   "execution_count": null,
   "metadata": {},
   "outputs": [],
   "source": []
  },
  {
   "cell_type": "markdown",
   "metadata": {},
   "source": [
    "Take from baldur the code comparing phosim mapper to lsstCam mapper.. "
   ]
  },
  {
   "cell_type": "code",
   "execution_count": 58,
   "metadata": {},
   "outputs": [
    {
     "name": "stdout",
     "output_type": "stream",
     "text": [
      "*** LsstCam *** \n",
      "C10 C10 (minimum=(10, 0), maximum=(521, 2001)) True True\n",
      "C11 C11 (minimum=(10, 0), maximum=(521, 2001)) True True\n",
      "C12 C12 (minimum=(10, 0), maximum=(521, 2001)) True True\n",
      "C13 C13 (minimum=(10, 0), maximum=(521, 2001)) True True\n",
      "C14 C14 (minimum=(10, 0), maximum=(521, 2001)) True True\n",
      "C15 C15 (minimum=(10, 0), maximum=(521, 2001)) True True\n",
      "C16 C16 (minimum=(10, 0), maximum=(521, 2001)) True True\n",
      "C17 C17 (minimum=(10, 0), maximum=(521, 2001)) True True\n",
      "C07 C07 (minimum=(10, 0), maximum=(521, 2001)) False False\n",
      "C06 C06 (minimum=(10, 0), maximum=(521, 2001)) False False\n",
      "C05 C05 (minimum=(10, 0), maximum=(521, 2001)) False False\n",
      "C04 C04 (minimum=(10, 0), maximum=(521, 2001)) False False\n",
      "C03 C03 (minimum=(10, 0), maximum=(521, 2001)) False False\n",
      "C02 C02 (minimum=(10, 0), maximum=(521, 2001)) False False\n",
      "C01 C01 (minimum=(10, 0), maximum=(521, 2001)) False False\n",
      "C00 C00 (minimum=(10, 0), maximum=(521, 2001)) False False\n"
     ]
    }
   ],
   "source": [
    "from lsst.obs.lsst.phosim import PhosimMapper\n",
    "from lsst.obs.lsst.lsstCamMapper import LsstCamMapper   \n",
    "from lsst.obs.lsst import LsstCam\n",
    "\n",
    "camera = LsstCam().getCamera()\n",
    "sensorId = 'R22_S00'\n",
    "detectors = camera.get(sensorId)\n",
    "\n",
    "# using here same names as raw phosim \n",
    "print('*** LsstCam *** ')\n",
    "for amp in detectors:\n",
    "    print(amp.getName(), amp.getName(), amp.getRawDataBBox(), amp.getRawFlipX(), amp.getRawFlipY())\n",
    "    \n"
   ]
  },
  {
   "cell_type": "code",
   "execution_count": 59,
   "metadata": {},
   "outputs": [
    {
     "data": {
      "text/plain": [
       "False"
      ]
     },
     "execution_count": 59,
     "metadata": {},
     "output_type": "execute_result"
    }
   ],
   "source": [
    "detectors.hasCrosstalk()"
   ]
  },
  {
   "cell_type": "code",
   "execution_count": 54,
   "metadata": {},
   "outputs": [],
   "source": []
  },
  {
   "cell_type": "code",
   "execution_count": 63,
   "metadata": {},
   "outputs": [
    {
     "name": "stdout",
     "output_type": "stream",
     "text": [
      "*** LsstCamPhoSim *** \n",
      "C00 C10 (minimum=(3, 0), maximum=(511, 1999)) True False\n",
      "C01 C11 (minimum=(3, 0), maximum=(511, 1999)) True False\n",
      "C02 C12 (minimum=(3, 0), maximum=(511, 1999)) True False\n",
      "C03 C13 (minimum=(3, 0), maximum=(511, 1999)) True False\n",
      "C04 C14 (minimum=(3, 0), maximum=(511, 1999)) True False\n",
      "C05 C15 (minimum=(3, 0), maximum=(511, 1999)) True False\n",
      "C06 C16 (minimum=(3, 0), maximum=(511, 1999)) True False\n",
      "C07 C17 (minimum=(3, 0), maximum=(511, 1999)) True False\n",
      "C17 C07 (minimum=(3, 0), maximum=(511, 1999)) True True\n",
      "C16 C06 (minimum=(3, 0), maximum=(511, 1999)) True True\n",
      "C15 C05 (minimum=(3, 0), maximum=(511, 1999)) True True\n",
      "C14 C04 (minimum=(3, 0), maximum=(511, 1999)) True True\n",
      "C13 C03 (minimum=(3, 0), maximum=(511, 1999)) True True\n",
      "C12 C02 (minimum=(3, 0), maximum=(511, 1999)) True True\n",
      "C11 C01 (minimum=(3, 0), maximum=(511, 1999)) True True\n",
      "C10 C00 (minimum=(3, 0), maximum=(511, 1999)) True True\n"
     ]
    }
   ],
   "source": [
    "from lsst.obs.lsst import LsstCamPhoSim\n",
    "ch_map = {'00': '10',\n",
    "          '01': '11',\n",
    "          '02': '12',\n",
    "          '03': '13',\n",
    "          '04': '14',\n",
    "          '05': '15',\n",
    "          '06': '16',\n",
    "          '07': '17',\n",
    "          '17': '07',\n",
    "          '16': '06',\n",
    "          '15': '05',\n",
    "          '14': '04',\n",
    "          '13': '03',\n",
    "          '12': '02',\n",
    "          '11': '01',\n",
    "          '10': '00'}\n",
    "camera = LsstCamPhoSim().getCamera()\n",
    "sensorId = 'R22_S00'\n",
    "detectors = camera.get(sensorId)\n",
    "print('*** LsstCamPhoSim *** ')\n",
    "for amp in detectors:\n",
    "    print('C%s'%ch_map[amp.getName()[1:]], amp.getName(), amp.getRawDataBBox(), amp.getRawFlipX(), amp.getRawFlipY())\n",
    "   "
   ]
  },
  {
   "cell_type": "code",
   "execution_count": null,
   "metadata": {},
   "outputs": [],
   "source": [
    "amp_info_records1 = list(list(PhosimMapper().camera)[0])\n",
    "amp_info_records2 = list(list(LsstCamMapper().camera)[0])\n",
    "\n",
    "detectors = list(LsstCamMapper().camera)\n",
    "len(detectors)"
   ]
  },
  {
   "cell_type": "code",
   "execution_count": 75,
   "metadata": {},
   "outputs": [],
   "source": [
    "from lsst.obs.lsst import LsstCam\n",
    "camera = LsstCam().getCamera()"
   ]
  },
  {
   "cell_type": "code",
   "execution_count": 76,
   "metadata": {},
   "outputs": [],
   "source": [
    "def noao_section_keyword(bbox, flipx=False, flipy=False):\n",
    "    \"\"\"\n",
    "    Convert bounding boxes into NOAO section keywords.\n",
    "    Parameters\n",
    "    ----------\n",
    "    bbox : lsst.afw.geom.Box2I\n",
    "        Bounding box.\n",
    "    flipx : bool\n",
    "        Flag to indicate that data should be flipped in the x-direction.\n",
    "    flipy : bool\n",
    "        Flag to indicate that data should be flipped in the y-direction.\n",
    "    \"\"\"\n",
    "    xmin, xmax = bbox.getMinX()+1, bbox.getMaxX()+1\n",
    "    ymin, ymax = bbox.getMinY()+1, bbox.getMaxY()+1\n",
    "    if flipx:\n",
    "        xmin, xmax = xmax, xmin\n",
    "    if flipy:\n",
    "        ymin, ymax = ymax, ymin\n",
    "    return '[%i:%i,%i:%i]' % (xmin, xmax, ymin, ymax)"
   ]
  },
  {
   "cell_type": "code",
   "execution_count": 52,
   "metadata": {},
   "outputs": [
    {
     "name": "stdout",
     "output_type": "stream",
     "text": [
      "**PhosimMapper**\n",
      "EXTNAME     DATASEC(RawDataBBox)      DETSEC(BBox)              getMinY    getMaxY\n"
     ]
    },
    {
     "ename": "NameError",
     "evalue": "name 'amp_info_records1' is not defined",
     "output_type": "error",
     "traceback": [
      "\u001b[0;31m---------------------------------------------------------------------------\u001b[0m",
      "\u001b[0;31mNameError\u001b[0m                                 Traceback (most recent call last)",
      "\u001b[0;32m<ipython-input-52-c56b6057b78d>\u001b[0m in \u001b[0;36m<module>\u001b[0;34m\u001b[0m\n\u001b[1;32m      5\u001b[0m \u001b[0;34m\u001b[0m\u001b[0m\n\u001b[1;32m      6\u001b[0m \u001b[0;34m\u001b[0m\u001b[0m\n\u001b[0;32m----> 7\u001b[0;31m \u001b[0;32mfor\u001b[0m \u001b[0mamp\u001b[0m \u001b[0;32min\u001b[0m \u001b[0mamp_info_records1\u001b[0m\u001b[0;34m:\u001b[0m\u001b[0;34m\u001b[0m\u001b[0;34m\u001b[0m\u001b[0m\n\u001b[0m\u001b[1;32m      8\u001b[0m     \u001b[0;31m# hdu.header['DATASEC']\u001b[0m\u001b[0;34m\u001b[0m\u001b[0;34m\u001b[0m\u001b[0;34m\u001b[0m\u001b[0m\n\u001b[1;32m      9\u001b[0m     \u001b[0mdatasec\u001b[0m \u001b[0;34m=\u001b[0m \u001b[0mnoao_section_keyword\u001b[0m\u001b[0;34m(\u001b[0m\u001b[0mamp\u001b[0m\u001b[0;34m.\u001b[0m\u001b[0mgetRawDataBBox\u001b[0m\u001b[0;34m(\u001b[0m\u001b[0;34m)\u001b[0m\u001b[0;34m)\u001b[0m\u001b[0;34m\u001b[0m\u001b[0;34m\u001b[0m\u001b[0m\n",
      "\u001b[0;31mNameError\u001b[0m: name 'amp_info_records1' is not defined"
     ]
    }
   ],
   "source": [
    "#https://stackoverflow.com/questions/12684368/how-to-left-align-a-fixed-width-string\n",
    "print('**PhosimMapper**') \n",
    "print('EXTNAME     DATASEC(RawDataBBox)      DETSEC(BBox)              getMinY    getMaxY')\n",
    "  \n",
    "    \n",
    "\n",
    "for amp in amp_info_records1:\n",
    "    # hdu.header['DATASEC']\n",
    "    datasec = noao_section_keyword(amp.getRawDataBBox()) \n",
    "    #hdu.header['DETSEC']\n",
    "    bbox = amp.getBBox()\n",
    "    detsec = noao_section_keyword(amp.getBBox(), flipx=amp.getRawFlipX(), flipy=amp.getRawFlipY())\n",
    "    \n",
    "    segment  = 'Segment%s' % amp.getName()[1:]\n",
    "    print('{:^10s} {:^25s} {:<25s} {:^10d} {:^10d}  '.format(segment,datasec,detsec,bbox.getMinY(),bbox.getMaxY()))"
   ]
  },
  {
   "cell_type": "code",
   "execution_count": 78,
   "metadata": {},
   "outputs": [
    {
     "name": "stdout",
     "output_type": "stream",
     "text": [
      "**LsstCamMapper**\n",
      "EXTNAME     DATASEC(RawDataBBox)      DETSEC(BBox)              getMinY    getMaxY\n",
      "Segment10       [4:512,1:2000]       [509:1,4000:2001]            2000       3999     \n",
      "Segment11       [4:512,1:2000]       [1018:510,4000:2001]         2000       3999     \n",
      "Segment12       [4:512,1:2000]       [1527:1019,4000:2001]        2000       3999     \n",
      "Segment13       [4:512,1:2000]       [2036:1528,4000:2001]        2000       3999     \n",
      "Segment14       [4:512,1:2000]       [2545:2037,4000:2001]        2000       3999     \n",
      "Segment15       [4:512,1:2000]       [3054:2546,4000:2001]        2000       3999     \n",
      "Segment16       [4:512,1:2000]       [3563:3055,4000:2001]        2000       3999     \n",
      "Segment17       [4:512,1:2000]       [4072:3564,4000:2001]        2000       3999     \n",
      "Segment07       [4:512,1:2000]       [4072:3564,1:2000]            0         1999     \n",
      "Segment06       [4:512,1:2000]       [3563:3055,1:2000]            0         1999     \n",
      "Segment05       [4:512,1:2000]       [3054:2546,1:2000]            0         1999     \n",
      "Segment04       [4:512,1:2000]       [2545:2037,1:2000]            0         1999     \n",
      "Segment03       [4:512,1:2000]       [2036:1528,1:2000]            0         1999     \n",
      "Segment02       [4:512,1:2000]       [1527:1019,1:2000]            0         1999     \n",
      "Segment01       [4:512,1:2000]       [1018:510,1:2000]             0         1999     \n",
      "Segment00       [4:512,1:2000]       [509:1,1:2000]                0         1999     \n"
     ]
    }
   ],
   "source": [
    "#https://stackoverflow.com/questions/12684368/how-to-left-align-a-fixed-width-string\n",
    "print('**LsstCamMapper**') \n",
    "print('EXTNAME     DATASEC(RawDataBBox)      DETSEC(BBox)              getMinY    getMaxY')\n",
    "  \n",
    "for amp in amp_info_records2:\n",
    "    # hdu.header['DATASEC']\n",
    "    datasec = noao_section_keyword(amp.getRawDataBBox()) \n",
    "    #hdu.header['DETSEC']\n",
    "    bbox = amp.getBBox()\n",
    "    detsec = noao_section_keyword(amp.getBBox(), flipx=amp.getRawFlipX(), flipy=amp.getRawFlipY())\n",
    "    \n",
    "    segment  = 'Segment%s' % amp.getName()[1:]\n",
    "    #print('%10s,%15s,%25s, %10d,%10d'%(segment,datasec,detsec,bbox.getMinY(), bbox.getMaxY() ),)\n",
    "    print('{:^10s} {:^25s} {:<25s} {:^10d} {:^10d}  '.format(segment,datasec,detsec,bbox.getMinY(),bbox.getMaxY()))"
   ]
  },
  {
   "cell_type": "markdown",
   "metadata": {},
   "source": [
    "Try manually changing DATASEC and DETSEC in the phosim-BOT-like  repackaged files, to match those in old phosim repackager... Would it work ? "
   ]
  },
  {
   "cell_type": "code",
   "execution_count": 105,
   "metadata": {},
   "outputs": [],
   "source": [
    "path_to_old_repackaged = '/project/scichris/repackagerTest/extraRpkgdAmpOLD/'\n",
    "path_to_new_repackaged = '/project/scichris/repackagerTest/extraRpkgdAmp/'\n",
    "path_to_updated = '/project/scichris/repackagerTest/extraRpkgdAmpUpdated/'\n",
    "\n",
    "#files = os.listdir(path_to_new_repackaged)\n",
    "\n",
    "\n",
    "sensor = 'S00'\n",
    "new_filepath = os.path.join(path_to_new_repackaged, 'MC_H_20000217_000032_R22_%s.fits'%sensor)\n",
    "old_filepath = os.path.join(path_to_old_repackaged, 'lsst_a_9006001_f1_R22_%s_E000.fits'%sensor)\n",
    "\n",
    "hdul_new  = fits.open(new_filepath)\n",
    "hdul_old = fits.open(old_filepath)\n"
   ]
  },
  {
   "cell_type": "code",
   "execution_count": 80,
   "metadata": {},
   "outputs": [
    {
     "data": {
      "text/plain": [
       "'C14'"
      ]
     },
     "execution_count": 80,
     "metadata": {},
     "output_type": "execute_result"
    }
   ],
   "source": [
    "# order in fits header got preserved \n",
    "# regardless of name, i.e. \n",
    "# hdul_new[5].header['AMPID']  'C14' (original amp name) \n",
    "# # corresponds to \n",
    "# hdul_old[5].header['AMPID']  'C04' (remapped amp name )"
   ]
  },
  {
   "cell_type": "code",
   "execution_count": 106,
   "metadata": {},
   "outputs": [
    {
     "data": {
      "text/plain": [
       "'C10'"
      ]
     },
     "execution_count": 106,
     "metadata": {},
     "output_type": "execute_result"
    }
   ],
   "source": [
    "hdul_old[16].header['AMPID']"
   ]
  },
  {
   "cell_type": "code",
   "execution_count": 107,
   "metadata": {},
   "outputs": [
    {
     "data": {
      "text/plain": [
       "'[509:1,4000:2001]'"
      ]
     },
     "execution_count": 107,
     "metadata": {},
     "output_type": "execute_result"
    }
   ],
   "source": [
    "hdul_old[16].header['DETSEC']"
   ]
  },
  {
   "cell_type": "code",
   "execution_count": 108,
   "metadata": {},
   "outputs": [
    {
     "data": {
      "text/plain": [
       "'C00'"
      ]
     },
     "execution_count": 108,
     "metadata": {},
     "output_type": "execute_result"
    }
   ],
   "source": [
    "hdul_new[16].header['AMPID']"
   ]
  },
  {
   "cell_type": "code",
   "execution_count": 109,
   "metadata": {},
   "outputs": [
    {
     "data": {
      "text/plain": [
       "'[1:512,1:2002]'"
      ]
     },
     "execution_count": 109,
     "metadata": {},
     "output_type": "execute_result"
    }
   ],
   "source": [
    "hdul_new[16].header['DETSEC']"
   ]
  },
  {
   "cell_type": "code",
   "execution_count": 86,
   "metadata": {},
   "outputs": [],
   "source": [
    "sensor = fits.HDUList(fits.PrimaryHDU())\n",
    "sensor.append(hdul_new[0]) # the primary HDU \n",
    "for i in range(1,len(hdul_new)): # the amps \n",
    "    hdu = hdul_new[i]\n",
    "    hdu.header['DETSEC'] = hdul_old[i].header['DETSEC']\n",
    "    sensor.append(hdu)"
   ]
  },
  {
   "cell_type": "code",
   "execution_count": 89,
   "metadata": {},
   "outputs": [
    {
     "data": {
      "text/plain": [
       "'[2036:1528,1:2000]'"
      ]
     },
     "execution_count": 89,
     "metadata": {},
     "output_type": "execute_result"
    }
   ],
   "source": [
    "sensor[5].header['DETSEC']"
   ]
  },
  {
   "cell_type": "code",
   "execution_count": null,
   "metadata": {},
   "outputs": [],
   "source": []
  }
 ],
 "metadata": {
  "kernelspec": {
   "display_name": "LSST",
   "language": "python",
   "name": "lsst"
  },
  "language_info": {
   "codemirror_mode": {
    "name": "ipython",
    "version": 3
   },
   "file_extension": ".py",
   "mimetype": "text/x-python",
   "name": "python",
   "nbconvert_exporter": "python",
   "pygments_lexer": "ipython3",
   "version": "3.8.8"
  }
 },
 "nbformat": 4,
 "nbformat_minor": 4
}
