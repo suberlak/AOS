{
 "cells": [
  {
   "cell_type": "markdown",
   "metadata": {},
   "source": [
    "# AOS_update_segmentation gain/readNoise DM-..."
   ]
  },
  {
   "cell_type": "markdown",
   "metadata": {},
   "source": [
    "Need to update https://github.com/lsst-ts/phosim_syseng4/blob/aos/data/lsst/segmentation.txt  gain and read noise values to make them consistent with those in lsstCamMapper ( eg. https://github.com/lsst/obs_lsst/blob/master/policy/lsstCam/R00.yaml ). \n",
    "\n",
    "Currently, the values in `segmentation.txt` are consistent with PhosimMapper, but DM-26836 creates a need to move to LsstCamMapper. Thus the calibration files (made with `makeGainImages.py` https://github.com/lsst-dm/phosim_utils/blob/master/bin.src/makeGainImages.py need to use geometry and gain values consistent with LsstCam. \n",
    "\n"
   ]
  },
  {
   "cell_type": "markdown",
   "metadata": {},
   "source": [
    "## Development of code to update segmentation.txt :"
   ]
  },
  {
   "cell_type": "code",
   "execution_count": 1,
   "metadata": {},
   "outputs": [
    {
     "data": {
      "text/plain": [
       "\u001b[0;31mInit signature:\u001b[0m \u001b[0mLsstComCam\u001b[0m\u001b[0;34m(\u001b[0m\u001b[0;34m)\u001b[0m\u001b[0;34m\u001b[0m\u001b[0;34m\u001b[0m\u001b[0m\n",
       "\u001b[0;31mDocstring:\u001b[0m     \n",
       "Gen3 Butler specialization for ComCam data.\n",
       "    \n",
       "\u001b[0;31mFile:\u001b[0m           /opt/lsst/software/stack/stack/miniconda3-py38_4.9.2-0.4.1/Linux64/obs_lsst/21.0.0-20-g3c714e7+7952646d88/python/lsst/obs/lsst/_instrument.py\n",
       "\u001b[0;31mType:\u001b[0m           ABCMeta\n",
       "\u001b[0;31mSubclasses:\u001b[0m     \n"
      ]
     },
     "metadata": {},
     "output_type": "display_data"
    }
   ],
   "source": [
    "from lsst.obs.lsst import LsstComCam\n",
    "LsstComCam?"
   ]
  },
  {
   "cell_type": "code",
   "execution_count": 2,
   "metadata": {},
   "outputs": [
    {
     "data": {
      "text/plain": [
       "\u001b[0;31mInit signature:\u001b[0m \u001b[0mLsstComCam\u001b[0m\u001b[0;34m(\u001b[0m\u001b[0;34m)\u001b[0m\u001b[0;34m\u001b[0m\u001b[0;34m\u001b[0m\u001b[0m\n",
       "\u001b[0;31mDocstring:\u001b[0m     \n",
       "Gen3 Butler specialization for ComCam data.\n",
       "    \n",
       "\u001b[0;31mFile:\u001b[0m           /opt/lsst/software/stack/stack/miniconda3-py38_4.9.2-0.4.1/Linux64/obs_lsst/21.0.0-20-g3c714e7+7952646d88/python/lsst/obs/lsst/_instrument.py\n",
       "\u001b[0;31mType:\u001b[0m           ABCMeta\n",
       "\u001b[0;31mSubclasses:\u001b[0m     \n"
      ]
     },
     "metadata": {},
     "output_type": "display_data"
    }
   ],
   "source": []
  },
  {
   "cell_type": "markdown",
   "metadata": {},
   "source": [
    "Take the current values encoded in segmentation.txt"
   ]
  },
  {
   "cell_type": "code",
   "execution_count": 1,
   "metadata": {},
   "outputs": [],
   "source": [
    "pathToFile = '/project/scichris/aos/phosim_syseng4/data/lsst/segmentation_old.txt'"
   ]
  },
  {
   "cell_type": "markdown",
   "metadata": {},
   "source": [
    "Lines longer than 4 have the following content: \n",
    "\n",
    "        # (1): amplifier name\n",
    "        # (2-5): x low, x high, y low, y high\n",
    "        # (6): serialread\n",
    "        # (7): parallelread\n",
    "        # (8-9): gain, % variation\n",
    "        # (10-11): bias level, % variation\n",
    "        # (12-13): readnoise , % variation\n",
    "        # (14-15): dark current, % variation\n",
    "        # (16-19): parallel prescan, serial overscan, serial prescan, parallel overscan (pixel)\n",
    "        # (20): hot pixel rate\n",
    "        # (21): hot column rate\n",
    "        # (22-35): crosstalk\n",
    "        \n",
    "Eg. \n",
    "\n",
    "    (1)  'R44_S10_C17',amplifier name\n",
    "    (2-5) '2000', '3999 ', '3563', '4071':  x low, x high, y low, y high \n",
    "    (6) '1':  serialread \n",
    "    (7) '1' :  parallelread\n",
    "    (8-9) '1.732','0' :   gain, % variation \n",
    "    (10-11) '1000.0', '2.0'  : bias level, % variation \n",
    "    (12-13) '4.02', '0': readnoise , % variation \n",
    "    (14-15) '0.02', '0.0': dark current, % variation\n",
    "    (16-19) '3','0', '10',  '10': parallel prescan, serial overscan, serial prescan, parallel overscan\n",
    "    (20) '0.00000012': hot pixel rate\n",
    "    (21) '0.00000012': hot column rate\n",
    "    (22-35) '18', '-1.791e-05', '-2.663e-05', '-2.884e-05', '-4.986e-05',\n",
    "     '-2.880e-05', '-4.244e-05', '+0.000e+00', '+0.000e+00', '+0.000e+00', '-1.158e-05', '-2.943e-05', '-4.526e-05', '-1.788e-05', '-1.953e-05', '+4.797e-04', '+1.000e+00\\n' :crosstalk "
   ]
  },
  {
   "cell_type": "code",
   "execution_count": 2,
   "metadata": {},
   "outputs": [],
   "source": []
  },
  {
   "cell_type": "code",
   "execution_count": 6,
   "metadata": {},
   "outputs": [],
   "source": [
    "# read all the lines to a list : \n",
    "with open(pathToFile) as f:\n",
    "    allLines = f.readlines()\n",
    "    \n",
    "headerLines=[]\n",
    "contentLines=[]\n",
    "# store the header part and content separately \n",
    "for line in allLines:\n",
    "    if line.startswith('#'):\n",
    "        headerLines.append(line)\n",
    "    else:\n",
    "        contentLines.append(line)"
   ]
  },
  {
   "cell_type": "code",
   "execution_count": 10,
   "metadata": {},
   "outputs": [],
   "source": [
    "# show that I can write that back to a file \n",
    "f = open(\"segmentation_test.txt\", \"w\")\n",
    "f.writelines(allLines)\n",
    "f.close()"
   ]
  },
  {
   "cell_type": "code",
   "execution_count": 52,
   "metadata": {},
   "outputs": [],
   "source": [
    "#contentLines"
   ]
  },
  {
   "cell_type": "code",
   "execution_count": 46,
   "metadata": {},
   "outputs": [],
   "source": [
    "testLines = contentLines[:100]"
   ]
  },
  {
   "cell_type": "code",
   "execution_count": 47,
   "metadata": {},
   "outputs": [],
   "source": [
    "#testLines"
   ]
  },
  {
   "cell_type": "code",
   "execution_count": 66,
   "metadata": {},
   "outputs": [],
   "source": [
    "# store the segmentation.txt data into a dictionary...\n",
    "# it makes it easier to access the data for \n",
    "# each element and compare to the old one ... \n",
    "\n",
    "sensorData = {}\n",
    "# gather data from all sensors  into a dictionary  \n",
    "for i in range(len(contentLines)):\n",
    "    # iterate over lines\n",
    "    line = contentLines[i]\n",
    "    \n",
    "    # the beginning of the short line is a sensor name.\n",
    "    # store the name \n",
    "    # if the line is longer, it continues using that name\n",
    "    # until the next short line \n",
    "    if len(line)<50:\n",
    "        \n",
    "        sensorName = line.split(' ')[0]\n",
    "        #print('Short line! Updating name to %s'%sensorName)\n",
    "        # initialize the dict for that sensor...\n",
    "        sensorData[sensorName] = []\n",
    "        \n",
    "    # this continues with each line that starts with that\n",
    "    # sensor name ... \n",
    "    # it also works for corner sensors, because \n",
    "    # _C0  contain C0x amps,\n",
    "    # _C1 contain C1x amps... \n",
    "    if line.split(' ')[0].startswith(sensorName):\n",
    "        #print(line)\n",
    "        sensorData[sensorName].append(line)\n",
    "        \n"
   ]
  },
  {
   "cell_type": "code",
   "execution_count": 192,
   "metadata": {},
   "outputs": [],
   "source": [
    "guideSensorMapping = {'R04_S10':'R04_SG0', \n",
    "                      'R04_S21':'R04_SG1', \n",
    "                      'R44_S01':'R44_SG0', \n",
    "                      'R44_S10':'R44_SG1', \n",
    "                      'R00_S12':'R00_SG0', \n",
    "                      'R00_S21':'R00_SG1', \n",
    "                      'R40_S01':'R40_SG0', \n",
    "                      'R40_S12':'R40_SG1'\n",
    "                     }\n",
    "\n",
    "# C0 : intra-focal  - SW1 \n",
    "# C1 : extra-focal  - SW0 \n",
    "cornerSensorMapping = {'R04_S20_C0':'R04_SW1',\n",
    "                       'R04_S20_C1':'R04_SW0',\n",
    "                       'R44_S00_C0':'R44_SW1',\n",
    "                       'R44_S00_C1':'R44_SW0',\n",
    "                       'R00_S22_C0':'R00_SW1',\n",
    "                       'R00_S22_C1':'R00_SW0',\n",
    "                       'R40_S02_C0':'R40_SW1',\n",
    "                       'R40_S02_C1':'R40_SW0'\n",
    "                      }\n",
    "# phosim corner wavefront\n",
    "# amplifier names to lsst cam\n",
    "ch_map = {'00': '17',\n",
    "                '01': '16',\n",
    "                '02': '15',\n",
    "                '03': '14',\n",
    "                '04': '13',\n",
    "                '05': '12',\n",
    "                '06': '11',\n",
    "                '07': '10',\n",
    "                '10': '17',\n",
    "                '11': '16',\n",
    "                '12': '15',\n",
    "                '13': '14',\n",
    "                '14': '13',\n",
    "                '15': '12',\n",
    "                '16': '11',\n",
    "                '17': '10'}\n",
    "    \n",
    "    "
   ]
  },
  {
   "cell_type": "markdown",
   "metadata": {},
   "source": [
    "All-in-one, later to split into functions: "
   ]
  },
  {
   "cell_type": "code",
   "execution_count": 179,
   "metadata": {},
   "outputs": [
    {
     "name": "stdout",
     "output_type": "stream",
     "text": [
      "Running R00_S12\n",
      "Running R00_S21\n",
      "Running R00_S22_C0\n",
      "Running R00_S22_C1\n"
     ]
    }
   ],
   "source": [
    "newSensorData  = {}\n",
    "  \n",
    "for sensorName in list(sensorData.keys())[:4]:\n",
    "    print('Running %s'%sensorName)\n",
    "    # alter the name of the corner sensors to be able to\n",
    "    # access lsstCam data \n",
    "    if sensorName in cornerSensorMapping.keys():\n",
    "        newName = cornerSensorMapping[sensorName]\n",
    "        #print('corner: %s --> %s'%(sensorName, newName))\n",
    "        \n",
    "    elif sensorName in guideSensorMapping.keys():\n",
    "        newName = guideSensorMapping[sensorName]\n",
    "        #print('guide: %s --> %s ' %(sensorName, newName))\n",
    "        \n",
    "    # otherwise, name remains unchanged \n",
    "    else: \n",
    "        newName = sensorName\n",
    "    \n",
    "    # get the lsstCam data for that sensor \n",
    "    #print(newName)\n",
    "    lsstCamDetectors = camera.get(newName)\n",
    "    \n",
    "    # initialize a list for the new data \n",
    "    newSensorData[newName] = []\n",
    "    \n",
    "    for content in sensorData[sensorName]:\n",
    "        splitContent = content.split(' ')\n",
    "        newSplitContent = splitContent.copy()\n",
    "        \n",
    "        # first line contains sensor name, number of amps, and ccd dimensions, eg.\n",
    "        \n",
    "        if len(content)<40:\n",
    "            #sensorName = splitContent[0]\n",
    "            newSplitContent[0] = newName\n",
    "            \n",
    "            \n",
    "        if len(content)>40:\n",
    "            #continue\n",
    "            #print(len(content), content)\n",
    "            \n",
    "            sensorAmpName = splitContent[0]\n",
    "            ampName = sensorAmpName.split('_')[2]\n",
    "            ampGain = splitContent[7]\n",
    "            ampBias  = splitContent[9]\n",
    "            ampReadNoise = splitContent[11]\n",
    "            ampDarkCurrent = splitContent[13]\n",
    "\n",
    "            #print('%s: gain %s, bias %s, noise %s, dc %s'% (sensorAmpName, ampGain, ampBias, ampReadNoise, ampDarkCurrent ))\n",
    "            #print(content)\n",
    "            #newContent = splitContent.copy()\n",
    "            \n",
    "            # change the name of corner sensor amplifiers \n",
    "            if sensorName in cornerSensorMapping.keys():\n",
    "                ampName = 'C%s'%ch_map[ampName[1:]]\n",
    "            \n",
    "            newSensorAmpName = '%s_%s'%(newName, ampName)\n",
    "            newSplitContent[0] = newSensorAmpName\n",
    "            # read the lsstCam information for that sensor / amp ... \n",
    "            for amp in lsstCamDetectors:\n",
    "                if amp.getName() == ampName:\n",
    "                    newAmpGain = str(amp.getGain())\n",
    "                    newAmpReadNoise = str(amp.getReadNoise()) \n",
    "                    #print('%s: gain %s --> %s, noise %s --> %s'%(ampName, ampGain, newAmpGain, \n",
    "                    #                                             ampReadNoise, newAmpReadNoise))\n",
    "                    if float(newAmpGain) > 2 :\n",
    "                        print('   %s: gain %s --> %s, suspicious value '%(ampName, ampGain, newAmpGain))\n",
    "                    # replace the content values ... \n",
    "                    newSplitContent[7] = newAmpGain\n",
    "                    newSplitContent[11] = newAmpReadNoise\n",
    "                    #print(newContent)\n",
    "                    \n",
    "        # either way, make new content by joining the elements of \n",
    "        # the updated split content: \n",
    "        newContent = ' '.join(newSplitContent)\n",
    "        #print(newContent)\n",
    "        \n",
    "        \n",
    "        # add the new content line to the new dictionary \n",
    "        newSensorData[newName].append(newContent)"
   ]
  },
  {
   "cell_type": "code",
   "execution_count": 187,
   "metadata": {},
   "outputs": [],
   "source": [
    "# combine the new content as a long list of lines \n",
    "newContentLines = []\n",
    "for sensorName in newSensorData.keys():\n",
    "    for line in newSensorData[sensorName]:\n",
    "        newContentLines.append(line)\n",
    "        \n",
    "# write the unchanged header, and the new content,\n",
    "# into a new segmentation.txt file \n",
    "f = open(\"segmentation_test.txt\", \"w\")\n",
    "f.writelines(headerLines)\n",
    "f.writelines(newContentLines)\n",
    "f.close()"
   ]
  },
  {
   "cell_type": "code",
   "execution_count": 190,
   "metadata": {},
   "outputs": [],
   "source": []
  },
  {
   "cell_type": "code",
   "execution_count": 168,
   "metadata": {},
   "outputs": [
    {
     "data": {
      "text/plain": [
       "\u001b[0;31mSignature:\u001b[0m \u001b[0ma\u001b[0m\u001b[0;34m.\u001b[0m\u001b[0mjoin\u001b[0m\u001b[0;34m(\u001b[0m\u001b[0miterable\u001b[0m\u001b[0;34m,\u001b[0m \u001b[0;34m/\u001b[0m\u001b[0;34m)\u001b[0m\u001b[0;34m\u001b[0m\u001b[0;34m\u001b[0m\u001b[0m\n",
       "\u001b[0;31mDocstring:\u001b[0m\n",
       "Concatenate any number of strings.\n",
       "\n",
       "The string whose method is called is inserted in between each given string.\n",
       "The result is returned as a new string.\n",
       "\n",
       "Example: '.'.join(['ab', 'pq', 'rs']) -> 'ab.pq.rs'\n",
       "\u001b[0;31mType:\u001b[0m      builtin_function_or_method\n"
      ]
     },
     "metadata": {},
     "output_type": "display_data"
    }
   ],
   "source": [
    "a.join?"
   ]
  },
  {
   "cell_type": "code",
   "execution_count": 169,
   "metadata": {},
   "outputs": [
    {
     "data": {
      "text/plain": [
       "'R00_SG1_C17 2000 3999 3563 4071 1 1 1.7 0 1000.0 2.0 4.12 0 0.02 0.0 3 0 10 10 0.00000012 0.00000012 18 -1.791e-05 -2.663e-05 -2.884e-05 -4.986e-05 -2.880e-05 -4.244e-05 +0.000e+00 +0.000e+00 +0.000e+00 -1.158e-05 -2.943e-05 -4.526e-05 -1.788e-05 -1.953e-05 +4.797e-04 +1.000e+00\\n'"
      ]
     },
     "execution_count": 169,
     "metadata": {},
     "output_type": "execute_result"
    }
   ],
   "source": [
    "\n",
    "' '.join(newContent)"
   ]
  },
  {
   "cell_type": "markdown",
   "metadata": {},
   "source": [
    "Test reading the content of one line, the order is key here ... "
   ]
  },
  {
   "cell_type": "code",
   "execution_count": 39,
   "metadata": {},
   "outputs": [
    {
     "name": "stdout",
     "output_type": "stream",
     "text": [
      "R44_S10_C17 2000 3999 3563 4071 1 1 1.732 0 1000.0 2.0 4.02 0 0.02 0.0 3 0 10 10 0.00000012 0.00000012 18 -1.791e-05 -2.663e-05 -2.884e-05 -4.986e-05 -2.880e-05 -4.244e-05 +0.000e+00 +0.000e+00 +0.000e+00 -1.158e-05 -2.943e-05 -4.526e-05 -1.788e-05 -1.953e-05 +4.797e-04 +1.000e+00\n",
      "\n",
      "R44_S10_C17: gain 1.732, bias 1000.0, noise 4.02, dc 0.02\n"
     ]
    }
   ],
   "source": [
    "# eg. print line 24\n",
    "for line in allLines:\n",
    "    if line.startswith('R44_S10_C17'):\n",
    "        print(line)\n",
    "        \n",
    "# eg. split that line by empty space, and thus print sensorName, gain, readNoise...\n",
    "splitContent = line.split(' ')\n",
    "sensorAmpName = splitContent[0]\n",
    "ampGain = splitContent[7]\n",
    "ampBias  = splitContent[9]\n",
    "ampReadNoise = splitContent[11]\n",
    "ampDarkCurrent = splitContent[13]\n",
    "\n",
    "print('%s: gain %s, bias %s, noise %s, dc %s'%\n",
    "      (sensorAmpName, ampGain, ampBias, ampReadNoise, ampDarkCurrent )\n",
    "     )"
   ]
  },
  {
   "cell_type": "code",
   "execution_count": 13,
   "metadata": {},
   "outputs": [
    {
     "name": "stdout",
     "output_type": "stream",
     "text": [
      "R32_S11 C00 1.695\n",
      "R32_S11 C01 1.734\n",
      "R32_S11 C02 1.657\n",
      "R32_S11 C03 1.731\n",
      "R32_S11 C04 1.638\n",
      "R32_S11 C05 1.701\n",
      "R32_S11 C06 1.772\n",
      "R32_S11 C07 1.696\n",
      "R32_S11 C10 1.742\n",
      "R32_S11 C11 1.774\n",
      "R32_S11 C12 1.75\n",
      "R32_S11 C13 1.663\n",
      "R32_S11 C14 1.662\n",
      "R32_S11 C15 1.67\n",
      "R32_S11 C16 1.783\n",
      "R32_S11 C17 1.657\n"
     ]
    }
   ],
   "source": [
    "sensor  = 'R32_S11'\n",
    "for line in open(pathToFile):\n",
    "    content = line.split(' ')\n",
    "    #if content[0] != '#':\n",
    "    if content[0].startswith(sensor):\n",
    "        #print(content[0], len(content))\n",
    "        if len(content) > 7:\n",
    "            #print(content)\n",
    "            amp_name = content[0].split('_')[2]\n",
    "            #print(amp_name)\n",
    "            gain = float(content[7])\n",
    "            print(sensor,amp_name, gain)\n",
    "           \n",
    "           "
   ]
  },
  {
   "cell_type": "markdown",
   "metadata": {},
   "source": [
    "Check out the values for readNoise / gain in the lsstCamMapper... "
   ]
  },
  {
   "cell_type": "code",
   "execution_count": 9,
   "metadata": {},
   "outputs": [],
   "source": [
    "from lsst.obs.lsst import LsstCam\n",
    "sensor = 'R32_S11'\n",
    "camera = LsstCam().getCamera()\n",
    "\n",
    "# get just one detector... names in segmentation.txt are the same \n",
    "# as in LsstCam, apart from \n",
    "# 1) corner sensors \n",
    "#  so need to iterate over \n",
    "detectors = camera.get(sensor)\n"
   ]
  },
  {
   "cell_type": "code",
   "execution_count": 6,
   "metadata": {},
   "outputs": [],
   "source": [
    "mapperNames = []\n",
    "for name in camera.getNameIter():\n",
    "    mapperNames.append(name)#print(name)"
   ]
  },
  {
   "cell_type": "code",
   "execution_count": 193,
   "metadata": {},
   "outputs": [],
   "source": [
    "import numpy as np\n",
    "#np.ravel(mapperNames)"
   ]
  },
  {
   "cell_type": "markdown",
   "metadata": {},
   "source": [
    "Use this occasion to update the amplifier names (?) - that way the names (prior to geometry) would be  consistent with LsstCam.\n",
    "\n",
    "The main raft is ok - same sensor and amplifier names . \n",
    "\n",
    "The corner rafts would need an update: \n",
    "\n",
    "\n",
    "segmentation.txt     ---> lsstCam  :  \n",
    "\n",
    "R00_S22_C0 ( intra),  with C00, C01, C02 ...  ----> R00_SW1 , with C17, C16, C15 ...\n",
    "R00_S22_C1 (extra ), with C10, C11, C12 ...  --> R00_SW0 , with C17, C16, C15 ... \n",
    "\n",
    "thus a mapping : \n",
    "\n",
    "\n",
    "if sensorName ends with C0 (intra) , then \n",
    "\n",
    "       * amp mapping is \n",
    "\n",
    "\n",
    "            # SW1, intra-focal:\n",
    "            # phosim into lsstCam \n",
    "            ch_map_intra = {'00': '17',\n",
    "                            '01': '16',\n",
    "                            '02': '15',\n",
    "                            '03': '14',\n",
    "                            '04': '13',\n",
    "                            '05': '12',\n",
    "                            '06': '11',\n",
    "                            '07': '10'}\n",
    "      * sensorName becomes   Rxx_SW1\n",
    "\n",
    "if sensorName ends with C1 (extra), then \n",
    "\n",
    "       * amp mapping is \n",
    "\n",
    "            # SW0, extra-focal\n",
    "            # phosim into lsstCam \n",
    "            ch_map_extra = {'10': '17',\n",
    "                            '11': '16',\n",
    "                            '12': '15',\n",
    "                            '13': '14',\n",
    "                            '14': '13',\n",
    "                            '15': '12',\n",
    "                            '16': '11',\n",
    "                            '17': '10'}\n",
    "\n",
    "       * sensorName becomes Rxx_SW0 \n",
    "\n",
    "   \n",
    "   "
   ]
  },
  {
   "cell_type": "markdown",
   "metadata": {},
   "source": [
    "But then would need to update the focalplanelayout.txt  as well... And I don't understand how does phoSim decide what is a standalone ccd and what is part of a larger ccd  ? The corner sensors  in lsstCam are treated as separate sensors, yet phoSim makes  "
   ]
  },
  {
   "cell_type": "markdown",
   "metadata": {},
   "source": [
    "Go over each line in segmentation.txt  - if the sensor name is in the list of lsstCamSensors, then for each amp in the mapper,  read the amp gain and read noise from the mapper. \n",
    "Split the line, and make reassemble by using the new values . \n",
    "\n",
    "If the name is not in lsstCamSensors, use the dictionary, translating \n",
    "\n",
    "R00_S22_C0 --> R00_SW1 ,  R00_S22_C1 --> R00_SW0 , etc., and amp"
   ]
  },
  {
   "cell_type": "markdown",
   "metadata": {},
   "source": [
    "# Production: all code needed to update segmentation.txt"
   ]
  },
  {
   "cell_type": "code",
   "execution_count": 12,
   "metadata": {},
   "outputs": [],
   "source": [
    "from lsst.obs.lsst import LsstCam\n",
    "import numpy as np \n",
    "\n",
    "def readFile(pathToFile, headerString = '#'):\n",
    "    ''' Read file line-by-line  as two lists,\n",
    "    one containing the header lines, \n",
    "    the other the content lines \n",
    "    \n",
    "    Parameters:\n",
    "    -----------\n",
    "    pathToFile: `str`\n",
    "        absolute path to file \n",
    "        \n",
    "    Returns:\n",
    "    ----------\n",
    "    `list`, `list` \n",
    "        lists containing the header lines \n",
    "        and the content lines \n",
    "    '''\n",
    "    with open(pathToFile) as f:\n",
    "        allLines = f.readlines()\n",
    "\n",
    "    headerLines=[]\n",
    "    contentLines=[]\n",
    "\n",
    "    # store the header part and content separately \n",
    "    for line in allLines:\n",
    "        if line.startswith('#'):\n",
    "            headerLines.append(line)\n",
    "        else:\n",
    "            contentLines.append(line)\n",
    "\n",
    "    return headerLines, contentLines \n",
    "\n",
    "def storeSensorDataAsDictionary(contentLines):\n",
    "    '''Store the content of phoSim segmentation\n",
    "    file as dictionary, with sensor names as keys\n",
    "    \n",
    "    Parameters:\n",
    "    ----------\n",
    "    contentLines: `list` \n",
    "        list of content lines (not starting with #)\n",
    "        \n",
    "    Returns:\n",
    "    ----------\n",
    "    sensorData: `dict` '''\n",
    "    \n",
    "    # store the segmentation.txt data into a dictionary...\n",
    "    # it makes it easier to access the data for \n",
    "    # each element and compare to the old one ... \n",
    "\n",
    "    sensorData = {}\n",
    "    # gather data from all sensors  into a dictionary  \n",
    "    for i in range(len(contentLines)):\n",
    "        # iterate over lines\n",
    "        line = contentLines[i]\n",
    "\n",
    "        # the beginning of the short line is a sensor name.\n",
    "        # store the name \n",
    "        # if the line is longer, it continues using that name\n",
    "        # until the next short line \n",
    "        if len(line)<50:\n",
    "\n",
    "            sensorName = line.split(' ')[0]\n",
    "            #print('Short line! Updating name to %s'%sensorName)\n",
    "            # initialize the dict for that sensor...\n",
    "            sensorData[sensorName] = []\n",
    "\n",
    "        # this continues with each line that starts with that\n",
    "        # sensor name ... \n",
    "        # it also works for corner sensors, because \n",
    "        # _C0  contain C0x amps,\n",
    "        # _C1 contain C1x amps... \n",
    "        if line.split(' ')[0].startswith(sensorName):\n",
    "            #print(line)\n",
    "            sensorData[sensorName].append(line)\n",
    "            \n",
    "    return sensorData \n",
    "\n",
    "    \n",
    "def getNewSensorName(sensorName):\n",
    "    '''Get updated sensor names\n",
    "    \n",
    "    Parameters:\n",
    "    -----------\n",
    "    sensorName: `str` \n",
    "        input sensor name to translate \n",
    "    \n",
    "    \n",
    "    Returns:\n",
    "    --------\n",
    "    `str` \n",
    "        translated sensor name \n",
    "    '''\n",
    "    # mapping \n",
    "    guideSensorMapping = {'R04_S10':'R04_SG0', \n",
    "                          'R04_S21':'R04_SG1', \n",
    "                          'R44_S01':'R44_SG0', \n",
    "                          'R44_S10':'R44_SG1', \n",
    "                          'R00_S12':'R00_SG0', \n",
    "                          'R00_S21':'R00_SG1', \n",
    "                          'R40_S01':'R40_SG0', \n",
    "                          'R40_S12':'R40_SG1'\n",
    "                         }\n",
    "\n",
    "    # C0 : intra-focal  - SW1 \n",
    "    # C1 : extra-focal  - SW0 \n",
    "    cornerSensorMapping = {'R04_S20_C0':'R04_SW1',\n",
    "                           'R04_S20_C1':'R04_SW0',\n",
    "                           'R44_S00_C0':'R44_SW1',\n",
    "                           'R44_S00_C1':'R44_SW0',\n",
    "                           'R00_S22_C0':'R00_SW1',\n",
    "                           'R00_S22_C1':'R00_SW0',\n",
    "                           'R40_S02_C0':'R40_SW1',\n",
    "                           'R40_S02_C1':'R40_SW0'\n",
    "                          }\n",
    "    \n",
    "    # alter the name of the corner sensors to be able to\n",
    "    # access lsstCam data \n",
    "    if sensorName in cornerSensorMapping.keys():\n",
    "        newName = cornerSensorMapping[sensorName]\n",
    "        #print('corner: %s --> %s'%(sensorName, newName))\n",
    "        \n",
    "    elif sensorName in guideSensorMapping.keys():\n",
    "        newName = guideSensorMapping[sensorName]\n",
    "        #print('guide: %s --> %s ' %(sensorName, newName))\n",
    "        \n",
    "    # otherwise, name remains unchanged \n",
    "    else: \n",
    "        newName = sensorName\n",
    "    \n",
    "    return newName "
   ]
  },
  {
   "cell_type": "code",
   "execution_count": 6,
   "metadata": {},
   "outputs": [
    {
     "name": "stdout",
     "output_type": "stream",
     "text": [
      "Saved as /project/scichris/aos/phosim_syseng4/data/lsst/segmentation_DM-28553_.txt\n"
     ]
    }
   ],
   "source": [
    "cornerSensors = ['R04_S20_C0',\n",
    "               'R04_S20_C1',\n",
    "               'R44_S00_C0',\n",
    "               'R44_S00_C1',\n",
    "               'R00_S22_C0',\n",
    "               'R00_S22_C1',\n",
    "               'R40_S02_C0',\n",
    "               'R40_S02_C1']\n",
    "        \n",
    "        \n",
    "# phosim corner wavefront\n",
    "# amplifier names to lsst cam\n",
    "ch_map = {'00': '17',\n",
    "        '01': '16',\n",
    "        '02': '15',\n",
    "        '03': '14',\n",
    "        '04': '13',\n",
    "        '05': '12',\n",
    "        '06': '11',\n",
    "        '07': '10',\n",
    "        '10': '17',\n",
    "        '11': '16',\n",
    "        '12': '15',\n",
    "        '13': '14',\n",
    "        '14': '13',\n",
    "        '15': '12',\n",
    "        '16': '11',\n",
    "        '17': '10'}\n",
    "\n",
    "# read all the lines to a list : \n",
    "pathToFile = '/project/scichris/aos/phosim_syseng4/data/lsst/segmentation_old.txt'\n",
    "\n",
    "# read the content of segmentation.txt file\n",
    "# and store in a  dictionary\n",
    "headerLines, contentLines = readFile(pathToFile)\n",
    "sensorData = storeSensorDataAsDictionary(contentLines)\n",
    "\n",
    "# initialize the camera \n",
    "camera = LsstCam().getCamera()\n",
    "    \n",
    "# Update the data \n",
    "newSensorData  = {}\n",
    "  \n",
    "for sensorName in list(sensorData.keys()): # [:4] to test a few ... \n",
    "    #print('Running %s'%sensorName)\n",
    "    newName = getNewSensorName(sensorName)\n",
    "    \n",
    "    # get the lsstCam data for that sensor \n",
    "    #print(newName)\n",
    "    lsstCamDetectors = camera.get(newName)\n",
    "    \n",
    "    # initialize a list for the new data \n",
    "    newSensorData[newName] = []\n",
    "    \n",
    "    for content in sensorData[sensorName]:\n",
    "        splitContent = content.split() # by default splits by whitespace, omitting empty strings \n",
    "        newSplitContent = splitContent.copy()\n",
    "        \n",
    "        # first line contains sensor name, number of amps, and ccd dimensions, eg.\n",
    "        # 'R00_S12', '16', '4000', '4072'\n",
    "        if len(content)<40:\n",
    "            # update sensor name \n",
    "            newSplitContent[0] = newName\n",
    "            \n",
    "            # update sensor px_x, px_y \n",
    "            bbox = lsstCamDetectors.getBBox()\n",
    "            px_y = bbox.getDimensions()[0]\n",
    "            px_x = bbox.getDimensions()[1]\n",
    "            newSplitContent[2] = str(px_x)\n",
    "            newSplitContent[3] = str(px_y)\n",
    "            \n",
    "            # print information...\n",
    "            old_px_x = splitContent[2]\n",
    "            old_px_y = splitContent[3]\n",
    "            #if old_px_x !=  str(px_x) : \n",
    "                #print(sensorName, old_px_x, old_px_y,  '--> ', newName, px_x, px_y)\n",
    "            \n",
    "        if len(content)>40:\n",
    "            #continue\n",
    "            #print(len(content), content)\n",
    "            \n",
    "            sensorAmpName = splitContent[0]\n",
    "            ampName = sensorAmpName.split('_')[2]\n",
    "            ampGain = splitContent[7]\n",
    "            #ampBias  = splitContent[9]\n",
    "            ampReadNoise = splitContent[11]\n",
    "            #ampDarkCurrent = splitContent[13]\n",
    "\n",
    "            #print('%s: gain %s, bias %s, noise %s, dc %s'% (sensorAmpName, ampGain, ampBias, ampReadNoise, ampDarkCurrent ))\n",
    "            #print(content)\n",
    "            #newContent = splitContent.copy()\n",
    "            \n",
    "            # change the name of corner sensor amplifiers \n",
    "            if sensorName in cornerSensors:\n",
    "                ampName = 'C%s'%ch_map[ampName[1:]]\n",
    "                \n",
    "            # for the main raft the amp names are correct \n",
    "            newSensorAmpName = '%s_%s'%(newName, ampName)\n",
    "            newSplitContent[0] = newSensorAmpName\n",
    "            # read the lsstCam information for that sensor / amp ... \n",
    "            for amp in lsstCamDetectors:\n",
    "                if amp.getName() == ampName:\n",
    "                    \n",
    "                    # update gain and readNoise \n",
    "                    newAmpGain = str(amp.getGain())\n",
    "                    if amp.getGain() == 0:\n",
    "                        print(newName, ampName, amp.getGain())\n",
    "                    newAmpReadNoise = str(amp.getReadNoise()) \n",
    "                    #print('%s: gain %s --> %s, noise %s --> %s'%(ampName, ampGain, newAmpGain, \n",
    "                    #                                             ampReadNoise, newAmpReadNoise))\n",
    "                    #if float(newAmpGain) > 2 :\n",
    "                        #print(newName)\n",
    "                        #print('   %s: gain %s --> %s, suspicious value '%(ampName, ampGain, newAmpGain))\n",
    "                        \n",
    "                    # replace the content values ... \n",
    "                    newSplitContent[7] = newAmpGain\n",
    "                    newSplitContent[11] = newAmpReadNoise\n",
    "                    \n",
    "                    \n",
    "                    # update xlo, xhi, ylo, yhi ...\n",
    "                    # amp.getBBox() is the only one that explains the extent of the amplifier \n",
    "                    # in sensor  coords ... \n",
    "                    bbox = amp.getBBox()\n",
    "\n",
    "                    # here I assign them to match the phoSim Transposed system \n",
    "                    xlo = bbox.getMinY()\n",
    "                    xhi = bbox.getMaxY()\n",
    "                    ylo = bbox.getMinX()\n",
    "                    yhi = bbox.getMaxX()\n",
    "                    \n",
    "                    #print(amp.getName(), xlo,xhi,ylo,yhi)\n",
    "                    xlo_old = splitContent[1]\n",
    "                    xhi_old = splitContent[2]\n",
    "                    ylo_old = splitContent[3]\n",
    "                    yhi_old = splitContent[4]\n",
    "                    \n",
    "                    \n",
    "                    #print('Updating', amp.getName(), xlo_old, xhi_old, ylo_old, yhi_old, \n",
    "                    #          '-->', xlo,xhi,ylo,yhi)\n",
    "                    #if xlo_old != str(xlo): # wrong filter   - just update all ! \n",
    "                        #print('Updating', amp.getName(), xlo_old, xhi_old, ylo_old, yhi_old, \n",
    "                        #      '-->', xlo,xhi,ylo,yhi)\n",
    "                    \n",
    "                    # replace the content values \n",
    "                    # for ITL these are unchanged,\n",
    "                    #      xlo xhi ylo  yhi \n",
    "                    # i.e. 0  1999 0     508  \n",
    "                    #      . .     509  1017\n",
    "                    #      0  1999 3563 4071\n",
    "                    #      . . \n",
    "                    # \n",
    "                    # for E2V these are changed \n",
    "                    # i.e.  0  1999 0     508  --> 0     2001   0    511\n",
    "                    #       . .     509  1017\n",
    "                    #       0  1999 3563 4071  --> 2000  3999  3563  4071 \n",
    "                    \n",
    "\n",
    "                    newSplitContent[1] = str(xlo)\n",
    "                    newSplitContent[2] = str(xhi)\n",
    "                    newSplitContent[3] = str(ylo)\n",
    "                    newSplitContent[4] = str(yhi)\n",
    "\n",
    "                    \n",
    "                    # update serialread / parallelread for E2V.\n",
    "                    # for ITL serialread is always 1, \n",
    "                    # and parallelread is 1 or -1 \n",
    "                    # for E2V, serialread is -1 when parallelread is -1 \n",
    "                    serialread = splitContent[5]\n",
    "                    parallelread = splitContent[6]\n",
    "                    \n",
    "                    if lsstCamDetectors.getPhysicalType() == 'E2V':\n",
    "                        #print('%s is E2V'%newSensorAmpName)\n",
    "                        #print('%s %s'%(serialread, parallelread))\n",
    "                        if parallelread == '-1':\n",
    "                            serialread = '-1'\n",
    "                            #print('--> %s %s'%(serialread, parallelread))\n",
    "                        newSplitContent[5] = serialread\n",
    "                        \n",
    "                     \n",
    "                    # switch from 1 -1 to  1  1  so that no up-down flips needed ...\n",
    "                    if lsstCamDetectors.getPhysicalType() == 'ITL_WF':\n",
    "                        #print('%s is ITL_WF'%newSensorAmpName)\n",
    "                        #print('%s %s'%(serialread, parallelread))\n",
    "                        if parallelread == '-1':\n",
    "                            parallelread = '1'\n",
    "                            #print('--> %s %s'%(serialread, parallelread))\n",
    "                        # update the value ...\n",
    "                        newSplitContent[6] = parallelread\n",
    "                    \n",
    "                    # update the overscan / prescan values \n",
    "                    # preserving here phosim's rotation of \n",
    "                    # 90 degrees to the left wrt lsstCam ... \n",
    "                    \n",
    "                    #      phosim        < ---        lsstCam \n",
    "                    #\n",
    "                    # serial overscan              parallel prescan\n",
    "                    # serial prescan               parallel overscan\n",
    "                    # parallel overscan            serial overscan\n",
    "                    # parallel prescan             serial prescan \n",
    "                    \n",
    "                    # eg.      3             0            10            10 \n",
    "                    #     parallel pre | serial over | serial pre | parallel over \n",
    "                    #          A             B            C              D \n",
    "                    \n",
    "                    # ITL      3             0            48            32\n",
    "                    # E2V     10             0            46            54\n",
    "                    \n",
    "                    # these numbers can be achieved from :\n",
    "                    #oldA,oldB,oldC,oldD = splitContent[15], splitContent[16], splitContent[17], splitContent[18]\n",
    "                    \n",
    "                    bbox = amp.getRawSerialPrescanBBox()\n",
    "                    A = bbox.getWidth()\n",
    "                    #B = '0'\n",
    "\n",
    "                    bbox = amp.getRawParallelOverscanBBox()\n",
    "                    C = bbox.getHeight()\n",
    "\n",
    "                    bbox = amp.getRawSerialOverscanBBox()\n",
    "                    D = bbox.getWidth()\n",
    "                    #print(A,B,C,D)\n",
    "                    newSplitContent[15] = str(A) # parallel prescan for phosim\n",
    "                    newSplitContent[16] = '0'\n",
    "                    newSplitContent[17] = str(C) # serial prescan for phosim\n",
    "                    newSplitContent[18] = str(D) # parallel overscan for phosim \n",
    "                    \n",
    "        # either way, make new content by joining the elements of \n",
    "        # the updated split content: \n",
    "        newContent = ' '.join(newSplitContent)+'\\n'\n",
    "        #print(newContent)\n",
    "        \n",
    "        \n",
    "        # add the new content line to the new dictionary \n",
    "        newSensorData[newName].append(newContent)\n",
    "        \n",
    "# combine the new content as a long list of lines \n",
    "newContentLines = []\n",
    "for sensorName in newSensorData.keys():\n",
    "    for line in newSensorData[sensorName]:\n",
    "        newContentLines.append(line)\n",
    "        \n",
    "# write the unchanged header, and the new content,\n",
    "# into a new segmentation.txt file \n",
    "fname = \"/project/scichris/aos/phosim_syseng4/data/lsst/segmentation_DM-28553_.txt\"\n",
    "f = open(fname, \"w\")\n",
    "f.writelines(headerLines)\n",
    "f.writelines(newContentLines)\n",
    "f.close()      \n",
    "print('Saved as %s'%fname)"
   ]
  },
  {
   "cell_type": "markdown",
   "metadata": {},
   "source": [
    "    diff segmentation_DM-28553.txt segmentation_DM-28553_.txt \n",
    "\n",
    "Helpfully shows me that there is no difference between the two (so last time I made segmentation_upd.txt it was using the updated obs_lsst values ) "
   ]
  },
  {
   "cell_type": "markdown",
   "metadata": {},
   "source": [
    "NB: need to update the original one with the updated one ! \n",
    "    \n",
    "    cd /project/scichris/aos/phosim_syseng4/data/lsst/\n",
    "    cp segmentation_upd.txt segmentation.txt\n",
    "    "
   ]
  },
  {
   "cell_type": "code",
   "execution_count": 2,
   "metadata": {},
   "outputs": [
    {
     "ename": "ModuleNotFoundError",
     "evalue": "No module named 'updatePhosimFunctions'",
     "output_type": "error",
     "traceback": [
      "\u001b[0;31m---------------------------------------------------------------------------\u001b[0m",
      "\u001b[0;31mModuleNotFoundError\u001b[0m                       Traceback (most recent call last)",
      "\u001b[0;32m<ipython-input-2-dee3fa2d89cb>\u001b[0m in \u001b[0;36m<module>\u001b[0;34m\u001b[0m\n\u001b[1;32m      1\u001b[0m \u001b[0;32mimport\u001b[0m \u001b[0msys\u001b[0m\u001b[0;34m\u001b[0m\u001b[0;34m\u001b[0m\u001b[0m\n\u001b[1;32m      2\u001b[0m \u001b[0msys\u001b[0m\u001b[0;34m.\u001b[0m\u001b[0mpath\u001b[0m\u001b[0;34m.\u001b[0m\u001b[0mappend\u001b[0m\u001b[0;34m(\u001b[0m\u001b[0;34m'/home/scichris/notebooks/'\u001b[0m\u001b[0;34m)\u001b[0m\u001b[0;34m\u001b[0m\u001b[0;34m\u001b[0m\u001b[0m\n\u001b[0;32m----> 3\u001b[0;31m \u001b[0;32mimport\u001b[0m \u001b[0mupdatePhosimFunctions\u001b[0m \u001b[0;32mas\u001b[0m \u001b[0mup\u001b[0m\u001b[0;34m\u001b[0m\u001b[0;34m\u001b[0m\u001b[0m\n\u001b[0m",
      "\u001b[0;31mModuleNotFoundError\u001b[0m: No module named 'updatePhosimFunctions'"
     ]
    }
   ],
   "source": [
    "import sys\n",
    "sys.path.append('/home/scichris/notebooks/')\n",
    "import updatePhosimFunctions as up"
   ]
  },
  {
   "cell_type": "code",
   "execution_count": null,
   "metadata": {},
   "outputs": [],
   "source": [
    "import sys\n",
    "sys.modules['lsst.obs']\n",
    "sys.modules.clear()"
   ]
  },
  {
   "cell_type": "code",
   "execution_count": 5,
   "metadata": {},
   "outputs": [
    {
     "name": "stdout",
     "output_type": "stream",
     "text": [
      "Object `lsstCam` not found.\n"
     ]
    }
   ],
   "source": [
    "lsstCam?"
   ]
  },
  {
   "cell_type": "code",
   "execution_count": 3,
   "metadata": {},
   "outputs": [
    {
     "ename": "KeyError",
     "evalue": "'LsstCam'",
     "output_type": "error",
     "traceback": [
      "\u001b[0;31m---------------------------------------------------------------------------\u001b[0m",
      "\u001b[0;31mKeyError\u001b[0m                                  Traceback (most recent call last)",
      "\u001b[0;32m<ipython-input-3-5856aa8883d3>\u001b[0m in \u001b[0;36m<module>\u001b[0;34m\u001b[0m\n\u001b[1;32m      1\u001b[0m \u001b[0;32mimport\u001b[0m \u001b[0msys\u001b[0m\u001b[0;34m\u001b[0m\u001b[0;34m\u001b[0m\u001b[0m\n\u001b[0;32m----> 2\u001b[0;31m \u001b[0;32mdel\u001b[0m \u001b[0msys\u001b[0m\u001b[0;34m.\u001b[0m\u001b[0mmodules\u001b[0m\u001b[0;34m[\u001b[0m\u001b[0;34m'LsstCam'\u001b[0m\u001b[0;34m]\u001b[0m\u001b[0;34m\u001b[0m\u001b[0;34m\u001b[0m\u001b[0m\n\u001b[0m",
      "\u001b[0;31mKeyError\u001b[0m: 'LsstCam'"
     ]
    }
   ],
   "source": [
    "import sys\n",
    "del sys.modules['LsstCam']"
   ]
  },
  {
   "cell_type": "code",
   "execution_count": 4,
   "metadata": {},
   "outputs": [
    {
     "name": "stdout",
     "output_type": "stream",
     "text": [
      "R10_S00 C10 1.37014\n",
      "R10_S00 C11 1.38398\n",
      "R10_S00 C12 1.39047\n",
      "R10_S00 C13 1.38727\n",
      "R10_S00 C14 1.36962\n",
      "R10_S00 C15 1.38553\n",
      "R10_S00 C16 1.37444\n",
      "R10_S00 C17 1.34823\n",
      "R10_S00 C07 1.4112\n",
      "R10_S00 C06 1.42191\n",
      "R10_S00 C05 1.43211\n",
      "R10_S00 C04 1.42026\n",
      "R10_S00 C03 1.42483\n",
      "R10_S00 C02 1.42785\n",
      "R10_S00 C01 1.43297\n",
      "R10_S00 C00 1.42408\n"
     ]
    }
   ],
   "source": [
    "from lsst.obs.lsst import LsstCam\n",
    "camera = LsstCam().getCamera()\n",
    "detectors = camera.get('R10_S00')\n",
    "\n",
    "\n",
    "for amp in detectors:\n",
    "    print(detectors.getName(), amp.getName(), amp.getGain())\n",
    "    \n",
    "    \n",
    "    "
   ]
  },
  {
   "cell_type": "code",
   "execution_count": 2,
   "metadata": {},
   "outputs": [],
   "source": [
    "from lsst.obs.lsst import version"
   ]
  },
  {
   "cell_type": "code",
   "execution_count": 3,
   "metadata": {},
   "outputs": [
    {
     "name": "stdout",
     "output_type": "stream",
     "text": [
      "Using 21.0.0-20-g3c714e7+7952646d88\n",
      "\n"
     ]
    }
   ],
   "source": [
    "print('Using %s'%version.__version__)\n",
    "print('')"
   ]
  },
  {
   "cell_type": "code",
   "execution_count": 7,
   "metadata": {},
   "outputs": [],
   "source": []
  },
  {
   "cell_type": "code",
   "execution_count": null,
   "metadata": {},
   "outputs": [],
   "source": []
  },
  {
   "cell_type": "code",
   "execution_count": 8,
   "metadata": {},
   "outputs": [
    {
     "data": {
      "text/plain": [
       "\u001b[0;31mInit signature:\u001b[0m \u001b[0mLsstComCam\u001b[0m\u001b[0;34m(\u001b[0m\u001b[0;34m)\u001b[0m\u001b[0;34m\u001b[0m\u001b[0;34m\u001b[0m\u001b[0m\n",
       "\u001b[0;31mDocstring:\u001b[0m     \n",
       "Gen3 Butler specialization for ComCam data.\n",
       "    \n",
       "\u001b[0;31mFile:\u001b[0m           /opt/lsst/software/stack/stack/miniconda3-py38_4.9.2-0.4.1/Linux64/obs_lsst/21.0.0-20-g3c714e7+7952646d88/python/lsst/obs/lsst/_instrument.py\n",
       "\u001b[0;31mType:\u001b[0m           ABCMeta\n",
       "\u001b[0;31mSubclasses:\u001b[0m     \n"
      ]
     },
     "metadata": {},
     "output_type": "display_data"
    }
   ],
   "source": [
    "LsstComCam?"
   ]
  },
  {
   "cell_type": "markdown",
   "metadata": {},
   "source": [
    "## Update segmentation.txt for ComCam "
   ]
  },
  {
   "cell_type": "markdown",
   "metadata": {},
   "source": [
    "Ensure we're using the ticket data for ComCam... I can't figure out why the jupyter kernel is stubbornly reading the default location of obs_lsst, not checking at all `/home/scichris/notebooks/.user_setups/..... \n",
    "\n",
    "\n",
    "Resort to running a python script to do that update... "
   ]
  },
  {
   "cell_type": "code",
   "execution_count": 13,
   "metadata": {},
   "outputs": [],
   "source": [
    "# read the content of segmentation.txt file\n",
    "# and store in a  dictionary\n",
    "pathToFile = '/project/scichris/aos/phosim_syseng4/data/lsst/segmentation_old.txt'\n",
    "headerLines, contentLines= readFile(pathToFile)\n",
    "sensorDataLsstCam = storeSensorDataAsDictionary(contentLines)\n",
    "\n",
    "\n",
    "pathToFile = '/project/scichris/aos/phosim_syseng4/data/comcam/segmentation.txt'\n",
    "headerLines, contentLines= readFile(pathToFile)\n",
    "sensorDataComCam = storeSensorDataAsDictionary(contentLines)"
   ]
  },
  {
   "cell_type": "code",
   "execution_count": 17,
   "metadata": {},
   "outputs": [
    {
     "data": {
      "text/plain": [
       "'R00_S12_C00 0 1999 0 508 1 -1 1.711 0 1000.0 2.0 4.13 0 0.02 0.0 3 0 10 10 0.00000012 0.00000012 18 +1.000e+00 +6.153e-04 +0.000e+00 +0.000e+00 +0.000e+00 +0.000e+00 +0.000e+00 +0.000e+00 +0.000e+00 +0.000e+00 +0.000e+00 +0.000e+00 +0.000e+00 +0.000e+00 +0.000e+00 +0.000e+00\\n'"
      ]
     },
     "execution_count": 17,
     "metadata": {},
     "output_type": "execute_result"
    }
   ],
   "source": [
    "sensorDataLsstCam['R00_S12'][1]"
   ]
  },
  {
   "cell_type": "code",
   "execution_count": 18,
   "metadata": {},
   "outputs": [
    {
     "data": {
      "text/plain": [
       "'R00_S12_C00     0  1999     0   508  1 -1 1.7 3.0 1000.0 2.0 7.0 3.0 0.02 0.0  1  6  4  0 0.00000012 0.00000012 18 +1.000e+00 +6.153e-04 +0.000e+00 +0.000e+00 +0.000e+00 +0.000e+00 +0.000e+00 +0.000e+00 +0.000e+00 +0.000e+00 +0.000e+00 +0.000e+00 +0.000e+00 +0.000e+00 +0.000e+00 +0.000e+00\\n'"
      ]
     },
     "execution_count": 18,
     "metadata": {},
     "output_type": "execute_result"
    }
   ],
   "source": [
    "sensorDataComCam['R00_S12'][1]"
   ]
  },
  {
   "cell_type": "markdown",
   "metadata": {},
   "source": [
    "Check what the mapper has:  as long as its not all 1.7 we're fine "
   ]
  },
  {
   "cell_type": "code",
   "execution_count": 1,
   "metadata": {},
   "outputs": [
    {
     "data": {
      "text/plain": [
       "\u001b[0;31mInit signature:\u001b[0m \u001b[0mLsstComCam\u001b[0m\u001b[0;34m(\u001b[0m\u001b[0;34m)\u001b[0m\u001b[0;34m\u001b[0m\u001b[0;34m\u001b[0m\u001b[0m\n",
       "\u001b[0;31mDocstring:\u001b[0m     \n",
       "Gen3 Butler specialization for ComCam data.\n",
       "    \n",
       "\u001b[0;31mFile:\u001b[0m           /opt/lsst/software/stack/stack/miniconda3-py38_4.9.2-0.4.1/Linux64/obs_lsst/21.0.0-20-g3c714e7+7952646d88/python/lsst/obs/lsst/_instrument.py\n",
       "\u001b[0;31mType:\u001b[0m           ABCMeta\n",
       "\u001b[0;31mSubclasses:\u001b[0m     \n"
      ]
     },
     "metadata": {},
     "output_type": "display_data"
    }
   ],
   "source": [
    "from lsst.obs.lsst import LsstComCam\n",
    "\n"
   ]
  },
  {
   "cell_type": "code",
   "execution_count": 2,
   "metadata": {},
   "outputs": [
    {
     "ename": "NameError",
     "evalue": "name 'readFile' is not defined",
     "output_type": "error",
     "traceback": [
      "\u001b[0;31m---------------------------------------------------------------------------\u001b[0m",
      "\u001b[0;31mNameError\u001b[0m                                 Traceback (most recent call last)",
      "\u001b[0;32m<ipython-input-2-96e830b2f87e>\u001b[0m in \u001b[0;36m<module>\u001b[0;34m\u001b[0m\n\u001b[0;32m----> 1\u001b[0;31m \u001b[0mheaderLines\u001b[0m\u001b[0;34m,\u001b[0m \u001b[0mcontentLines\u001b[0m \u001b[0;34m=\u001b[0m \u001b[0mreadFile\u001b[0m\u001b[0;34m(\u001b[0m\u001b[0mpathToFile\u001b[0m\u001b[0;34m)\u001b[0m\u001b[0;34m\u001b[0m\u001b[0;34m\u001b[0m\u001b[0m\n\u001b[0m\u001b[1;32m      2\u001b[0m \u001b[0msensorData\u001b[0m \u001b[0;34m=\u001b[0m \u001b[0mstoreSensorDataAsDictionary\u001b[0m\u001b[0;34m(\u001b[0m\u001b[0mcontentLines\u001b[0m\u001b[0;34m)\u001b[0m\u001b[0;34m\u001b[0m\u001b[0;34m\u001b[0m\u001b[0m\n",
      "\u001b[0;31mNameError\u001b[0m: name 'readFile' is not defined"
     ]
    }
   ],
   "source": [
    "headerLines, contentLines = readFile(pathToFile)\n",
    "sensorData = storeSensorDataAsDictionary(contentLines)"
   ]
  },
  {
   "cell_type": "code",
   "execution_count": 9,
   "metadata": {},
   "outputs": [
    {
     "name": "stdout",
     "output_type": "stream",
     "text": [
      "R22_S22\n",
      "R22_S12\n",
      "R22_S21\n",
      "R22_S01\n",
      "R22_S00\n",
      "R22_S02\n",
      "R22_S10\n",
      "R22_S20\n",
      "R22_S11\n"
     ]
    }
   ],
   "source": [
    "for name in camera.getNameIter():\n",
    "    print(name)"
   ]
  },
  {
   "cell_type": "code",
   "execution_count": 10,
   "metadata": {},
   "outputs": [
    {
     "data": {
      "text/plain": [
       "'R22_S11'"
      ]
     },
     "execution_count": 10,
     "metadata": {},
     "output_type": "execute_result"
    }
   ],
   "source": [
    "name"
   ]
  },
  {
   "cell_type": "code",
   "execution_count": 3,
   "metadata": {},
   "outputs": [
    {
     "name": "stdout",
     "output_type": "stream",
     "text": [
      "R22_S00 C10 1.7\n",
      "R22_S00 C11 1.7\n",
      "R22_S00 C12 1.7\n",
      "R22_S00 C13 1.7\n",
      "R22_S00 C14 1.7\n",
      "R22_S00 C15 1.7\n",
      "R22_S00 C16 1.7\n",
      "R22_S00 C17 1.7\n",
      "R22_S00 C07 1.7\n",
      "R22_S00 C06 1.7\n",
      "R22_S00 C05 1.7\n",
      "R22_S00 C04 1.7\n",
      "R22_S00 C03 1.7\n",
      "R22_S00 C02 1.7\n",
      "R22_S00 C01 1.7\n",
      "R22_S00 C00 1.7\n"
     ]
    }
   ],
   "source": [
    "from lsst.obs.lsst import LsstComCam\n",
    "camera = LsstComCam().getCamera()\n",
    "detectors = camera.get('R22_S00')\n",
    "\n",
    "for amp in detectors:\n",
    "    print(detectors.getName(), amp.getName(), amp.getGain())\n"
   ]
  },
  {
   "cell_type": "markdown",
   "metadata": {},
   "source": [
    "Compare the mapper information for R22 : "
   ]
  },
  {
   "cell_type": "code",
   "execution_count": 1,
   "metadata": {},
   "outputs": [
    {
     "name": "stdout",
     "output_type": "stream",
     "text": [
      "10 0 46 54\n",
      "10 0 46 54\n",
      "10 0 46 54\n",
      "10 0 46 54\n",
      "10 0 46 54\n",
      "10 0 46 54\n",
      "10 0 46 54\n",
      "10 0 46 54\n",
      "10 0 46 54\n",
      "10 0 46 54\n",
      "10 0 46 54\n",
      "10 0 46 54\n",
      "10 0 46 54\n",
      "10 0 46 54\n",
      "10 0 46 54\n",
      "10 0 46 54\n"
     ]
    }
   ],
   "source": [
    "from lsst.obs.lsst import LsstCam\n",
    "camera = LsstCam().getCamera()\n",
    "detectors = camera.get('R22_S00')\n",
    "for amp in detectors:    \n",
    "    bbox = amp.getRawSerialPrescanBBox()\n",
    "    A = bbox.getWidth()\n",
    "    B = '0'\n",
    "\n",
    "    bbox = amp.getRawParallelOverscanBBox()\n",
    "    C = bbox.getHeight()\n",
    "\n",
    "    bbox = amp.getRawSerialOverscanBBox()\n",
    "    D = bbox.getWidth()\n",
    "    print(A,B,C,D)"
   ]
  },
  {
   "cell_type": "code",
   "execution_count": null,
   "metadata": {},
   "outputs": [],
   "source": []
  },
  {
   "cell_type": "code",
   "execution_count": null,
   "metadata": {},
   "outputs": [],
   "source": [
    "#LsstCam?"
   ]
  },
  {
   "cell_type": "markdown",
   "metadata": {},
   "source": [
    "bash flags : \"if -f\" means \"if the file exists...\" \n",
    "https://www.gnu.org/savannah-checkouts/gnu/bash/manual/bash.html#Bash-Conditional-Expressions\n",
    "    "
   ]
  },
  {
   "cell_type": "code",
   "execution_count": 15,
   "metadata": {},
   "outputs": [
    {
     "name": "stdout",
     "output_type": "stream",
     "text": [
      "3 0 48 32\n",
      "3 0 48 32\n",
      "3 0 48 32\n",
      "3 0 48 32\n",
      "3 0 48 32\n",
      "3 0 48 32\n",
      "3 0 48 32\n",
      "3 0 48 32\n",
      "3 0 48 32\n",
      "3 0 48 32\n",
      "3 0 48 32\n",
      "3 0 48 32\n",
      "3 0 48 32\n",
      "3 0 48 32\n",
      "3 0 48 32\n",
      "3 0 48 32\n"
     ]
    }
   ],
   "source": [
    "from lsst.obs.lsst import LsstComCam\n",
    "camera = LsstComCam().getCamera()\n",
    "detectors = camera.get('R22_S00')\n",
    "for amp in detectors:    \n",
    "    bbox = amp.getRawSerialPrescanBBox()\n",
    "    A = bbox.getWidth()\n",
    "    B = '0'\n",
    "\n",
    "    bbox = amp.getRawParallelOverscanBBox()\n",
    "    C = bbox.getHeight()\n",
    "\n",
    "    bbox = amp.getRawSerialOverscanBBox()\n",
    "    D = bbox.getWidth()\n",
    "    print(A,B,C,D)"
   ]
  },
  {
   "cell_type": "code",
   "execution_count": null,
   "metadata": {},
   "outputs": [],
   "source": []
  },
  {
   "cell_type": "code",
   "execution_count": 31,
   "metadata": {},
   "outputs": [
    {
     "data": {
      "text/plain": [
       "False"
      ]
     },
     "execution_count": 31,
     "metadata": {},
     "output_type": "execute_result"
    }
   ],
   "source": [
    "# check the actual comcam images ingested at NCSA : \n",
    "# find where they are via https://lsst.ncsa.illinois.edu/processing_monitor/\n",
    "import os\n",
    "%matplotlib inline\n",
    "import matplotlib.pyplot as plt\n",
    "import lsst.daf.persistence as dafPersist\n",
    "\n",
    "dataRoot = '/lsstdata/offline/teststand/NCSA_comcam/gen2repo/'\n",
    "butler = dafPersist.Butler(dataRoot, )\n",
    "dataId = dict(raftName='R22', detectorName='S12')\n",
    "butler.datasetExists('raw', dataId)"
   ]
  },
  {
   "cell_type": "code",
   "execution_count": 24,
   "metadata": {},
   "outputs": [],
   "source": [
    "import astropy.io.fits as fits\n",
    "hdul = fits.open('/lsstdata/offline/teststand/NCSA_comcam/gen2repo/raw/\\\n",
    "2020-04-13/2020041300001/2020041300001-R22-S00-det000.fits')\n"
   ]
  },
  {
   "cell_type": "code",
   "execution_count": 29,
   "metadata": {},
   "outputs": [
    {
     "data": {
      "text/plain": [
       "XTENSION= 'IMAGE   '           / IMAGE extension                                \n",
       "BITPIX  =                   32 / number of bits per data pixel                  \n",
       "NAXIS   =                    2 / number of data axes                            \n",
       "NAXIS1  =                  576 / length of data axis 1                          \n",
       "NAXIS2  =                 2048 / length of data axis 2                          \n",
       "PCOUNT  =                    0 / required keyword; must = 0                     \n",
       "GCOUNT  =                    1 / required keyword; must = 1                     \n",
       "INHERIT =                    T / Inherits global header                         \n",
       "EXTNAME = 'Segment13'                                                           \n",
       "DATASEC = '[1:509,1:2000]'                                                      \n",
       "DETSEC  = '[2036:1528,1:2000]'                                                  \n",
       "DETSIZE = '[1:4072,1:4000]'                                                     \n",
       "DTV1    =                 2037 / detector transformation vector                 \n",
       "DTV2    =                    0 / detector transformation vector                 \n",
       "DTM1_1  =                  -1. / detector transformation matrix                 \n",
       "DTM2_2  =                   1. / detector transformation matrix                 \n",
       "DTM1_2  =                    0 / detector transformation matrix                 \n",
       "DTM2_1  =                    0 / detector transformation matrix                 "
      ]
     },
     "execution_count": 29,
     "metadata": {},
     "output_type": "execute_result"
    }
   ],
   "source": [
    "hdul[4].header"
   ]
  },
  {
   "cell_type": "code",
   "execution_count": null,
   "metadata": {},
   "outputs": [],
   "source": [
    "dataId = dict(run='9999', visit=4016091609999, raftName='R01', detectorName='S12')\n",
    "butler.datasetExists('raw', dataId)\n"
   ]
  },
  {
   "cell_type": "code",
   "execution_count": 26,
   "metadata": {},
   "outputs": [
    {
     "name": "stdout",
     "output_type": "stream",
     "text": [
      "Yes\n"
     ]
    }
   ],
   "source": [
    "detType = detector.getPhysicalType()\n",
    "if detector.getPhysicalType() == 'E2V' : \n",
    "    print('Yes')"
   ]
  },
  {
   "cell_type": "code",
   "execution_count": 39,
   "metadata": {},
   "outputs": [
    {
     "data": {
      "text/plain": [
       "True"
      ]
     },
     "execution_count": 39,
     "metadata": {},
     "output_type": "execute_result"
    }
   ],
   "source": [
    "detector = camera.get('R00_SW0')\n",
    "detector.getPhysicalType() == 'ITL_WF'"
   ]
  },
  {
   "cell_type": "code",
   "execution_count": null,
   "metadata": {},
   "outputs": [],
   "source": []
  },
  {
   "cell_type": "code",
   "execution_count": 31,
   "metadata": {},
   "outputs": [],
   "source": [
    "camera = LsstCam().getCamera()\n",
    "\n",
    "# for detector in camera:\n",
    "#     print(detector.getName(), detector.getPhysicalType())"
   ]
  },
  {
   "cell_type": "markdown",
   "metadata": {},
   "source": [
    "### Save just the  summary of updates for  lsstCam  segmentation.txt : \n",
    "\n",
    "'oldSensorAmpName', 'newSensorAmpName', 'xlo', 'xhi', 'ylo', 'yhi', 'parallelPrescan', 'serialOverscan', 'serialPrescan', 'parallelOverscan', 'gain', 'readNoise'"
   ]
  },
  {
   "cell_type": "code",
   "execution_count": 8,
   "metadata": {},
   "outputs": [],
   "source": [
    "cornerSensors = ['R04_S20_C0',  'R04_S20_C1', 'R44_S00_C0', 'R44_S00_C1',\n",
    "                 'R00_S22_C0','R00_S22_C1','R40_S02_C0','R40_S02_C1']\n",
    "        \n",
    "        \n",
    "# phosim corner wavefront\n",
    "# amplifier names to lsst cam\n",
    "ch_map = {'00': '17',\n",
    "        '01': '16',\n",
    "        '02': '15',\n",
    "        '03': '14',\n",
    "        '04': '13',\n",
    "        '05': '12',\n",
    "        '06': '11',\n",
    "        '07': '10',\n",
    "        '10': '17',\n",
    "        '11': '16',\n",
    "        '12': '15',\n",
    "        '13': '14',\n",
    "        '14': '13',\n",
    "        '15': '12',\n",
    "        '16': '11',\n",
    "        '17': '10'}\n",
    "\n",
    "# read all the lines to a list : \n",
    "pathToFile = '/project/scichris/aos/phosim_syseng4/data/lsst/segmentation_old.txt'\n",
    "\n",
    "# read the content of segmentation.txt file\n",
    "# and store in a  dictionary\n",
    "headerLines, contentLines = readFile(pathToFile)\n",
    "sensorData = storeSensorDataAsDictionary(contentLines)\n",
    "\n",
    "# initialize the camera \n",
    "camera = LsstCam().getCamera()\n",
    "    \n",
    "# Update the data \n",
    "newSensorData  = {'oldName':[], 'newName':[],  'xlo':[], 'xhi':[],\n",
    "                 'ylo':[], 'yhi':[], 'parallelPrescan':[], 'serialOverscan':[], \n",
    "                  'serialPrescan':[], 'parallelOverscan':[],\n",
    "                 'gain':[], 'readNoise':[]}\n",
    "  \n",
    "for sensorName in list(sensorData.keys()): # [:4] to test a few ... \n",
    "    #print('Running %s'%sensorName)\n",
    "    newName = getNewSensorName(sensorName)\n",
    "    \n",
    "    # get the lsstCam data for that sensor \n",
    "    #print(newName)\n",
    "    lsstCamDetectors = camera.get(newName)\n",
    "    \n",
    "    # initialize a list for the new data \n",
    "    for content in sensorData[sensorName]:\n",
    "        splitContent = content.split() # by default splits by whitespace, omitting empty strings \n",
    "        newSplitContent = splitContent.copy()\n",
    "        \n",
    "        # first line contains sensor name, number of amps, and ccd dimensions, eg.\n",
    "        # 'R00_S12', '16', '4000', '4072'\n",
    "        if len(content)<40:\n",
    "            # update sensor name \n",
    "            newSplitContent[0] = newName\n",
    "            \n",
    "            # update sensor px_x, px_y \n",
    "            bbox = lsstCamDetectors.getBBox()\n",
    "            px_y = bbox.getDimensions()[0]\n",
    "            px_x = bbox.getDimensions()[1]\n",
    "\n",
    "        if len(content)>40:\n",
    "            #continue\n",
    "            #print(len(content), content)\n",
    "            \n",
    "            sensorAmpName = splitContent[0]\n",
    "            \n",
    "            newSensorData['oldName'].append(sensorAmpName)\n",
    "\n",
    "            ampName = sensorAmpName.split('_')[2]\n",
    "\n",
    "            # change the name of corner sensor amplifiers \n",
    "            if sensorName in cornerSensors:\n",
    "                ampName = 'C%s'%ch_map[ampName[1:]]\n",
    "                \n",
    "            # for the main raft the amp names are correct \n",
    "            newSensorAmpName = '%s_%s'%(newName, ampName)\n",
    "#             newSplitContent[0] = newSensorAmpName\n",
    "            newSensorData['newName'].append(newSensorAmpName)\n",
    "            \n",
    "            # read the lsstCam information for that sensor / amp ... \n",
    "            for amp in lsstCamDetectors:\n",
    "                if amp.getName() == ampName:\n",
    "                    \n",
    "                    # update gain and readNoise \n",
    "                    newAmpGain = str(amp.getGain())\n",
    "                    newAmpReadNoise = str(amp.getReadNoise()) \n",
    "\n",
    "                    newSensorData['gain'].append(newAmpGain)\n",
    "                    newSensorData['readNoise'].append(newAmpReadNoise)\n",
    "                    \n",
    "                    # update xlo, xhi, ylo, yhi ...\n",
    "                    # amp.getBBox() is the only one that explains the extent of the amplifier \n",
    "                    # in sensor  coords ... \n",
    "                    bbox = amp.getBBox()\n",
    "\n",
    "                    # here I assign them to match the phoSim Transposed system \n",
    "                    xlo = bbox.getMinY()\n",
    "                    xhi = bbox.getMaxY()\n",
    "                    ylo = bbox.getMinX()\n",
    "                    yhi = bbox.getMaxX()\n",
    "                    newSensorData['xlo'].append(xlo)\n",
    "                    newSensorData['xhi'].append(xhi)\n",
    "                    newSensorData['ylo'].append(ylo)\n",
    "                    newSensorData['yhi'].append(yhi)\n",
    "                    \n",
    "\n",
    "                    # update the overscan / prescan values \n",
    "                    # preserving here phosim's rotation of \n",
    "                    # 90 degrees to the left wrt lsstCam ... \n",
    "                    \n",
    "                    #      phosim        < ---        lsstCam \n",
    "                    #\n",
    "                    # serial overscan              parallel prescan\n",
    "                    # serial prescan               parallel overscan\n",
    "                    # parallel overscan            serial overscan\n",
    "                    # parallel prescan             serial prescan \n",
    "                    \n",
    "                    # eg.      3             0            10            10 \n",
    "                    #     parallel pre | serial over | serial pre | parallel over \n",
    "                    #          A             B            C              D \n",
    "                    \n",
    "                    # ITL      3             0            48            32\n",
    "                    # E2V     10             0            46            54\n",
    "                    \n",
    "                    # these numbers can be achieved from :\n",
    "                    #oldA,oldB,oldC,oldD = splitContent[15], splitContent[16], splitContent[17], splitContent[18]\n",
    "                    \n",
    "                    bbox = amp.getRawSerialPrescanBBox()\n",
    "                    A = bbox.getWidth()\n",
    "                    B = 0\n",
    "\n",
    "                    bbox = amp.getRawParallelOverscanBBox()\n",
    "                    C = bbox.getHeight()\n",
    "\n",
    "                    bbox = amp.getRawSerialOverscanBBox()\n",
    "                    D = bbox.getWidth()\n",
    "\n",
    "                    newSensorData['parallelPrescan'].append(A)\n",
    "                    newSensorData['serialOverscan'].append(B)\n",
    "                    newSensorData['serialPrescan'].append(C)\n",
    "                    newSensorData['parallelOverscan'].append(D)\n",
    "                    \n",
    "# store as an ascii table ... \n",
    "from astropy.table import Table\n",
    "newSensorTable = Table(data=[newSensorData[key] for key in newSensorData.keys()],\n",
    "                       names=list(newSensorData.keys())\n",
    "                      )\n",
    "newSensorTable.write('/project/scichris/aos/segmentation_update_summary.txt', format='ascii')"
   ]
  },
  {
   "cell_type": "code",
   "execution_count": 10,
   "metadata": {},
   "outputs": [],
   "source": []
  },
  {
   "cell_type": "code",
   "execution_count": 32,
   "metadata": {},
   "outputs": [],
   "source": []
  },
  {
   "cell_type": "markdown",
   "metadata": {},
   "source": [
    "Updating the short line ... "
   ]
  },
  {
   "cell_type": "code",
   "execution_count": 57,
   "metadata": {},
   "outputs": [
    {
     "name": "stdout",
     "output_type": "stream",
     "text": [
      "R00_S12 4000 --> \n",
      "R00_SG0 4000 4072\n"
     ]
    }
   ],
   "source": [
    "for sensorName in list(sensorData.keys())[:1]: # [:4] to test a few ... \n",
    "    #print('Running %s'%sensorName)\n",
    "    newName = getNewSensorName(sensorName)\n",
    "    \n",
    "    # get the lsstCam data for that sensor \n",
    "    #print(newName)\n",
    "    lsstCamDetectors = camera.get(newName)\n",
    "    \n",
    "    # initialize a list for the new data \n",
    "    newSensorData[newName] = []\n",
    "    \n",
    "    for content in sensorData[sensorName]:\n",
    "        splitContent = content.split()\n",
    "        newSplitContent = splitContent.copy()\n",
    "        \n",
    "        # first line contains sensor name, number of amps, and ccd dimensions, eg.\n",
    "        \n",
    "        if len(content)<40:\n",
    "            #sensorName = splitContent[0]\n",
    "            newSplitContent[0] = newName\n",
    "            \n",
    "            bbox = lsstCamDetectors.getBBox()\n",
    "            px_y = bbox.getDimensions()[0]\n",
    "            px_x = bbox.getDimensions()[1]\n",
    "            newSplitContent[2] = str(px_x)\n",
    "            newSplitContent[3] = str(px_y)\n",
    "            old_x = splitContent[2]\n",
    "            \n",
    "            print(sensorName, old_x, '--> ')\n",
    "            print(newName, px_x, px_y)"
   ]
  },
  {
   "cell_type": "code",
   "execution_count": 106,
   "metadata": {},
   "outputs": [
    {
     "data": {
      "text/plain": [
       "<lsst.afw.cameraGeom.amplifier.amplifier.Amplifier at 0x7f2062bb4d30>"
      ]
     },
     "execution_count": 106,
     "metadata": {},
     "output_type": "execute_result"
    }
   ],
   "source": [
    "amp"
   ]
  },
  {
   "cell_type": "code",
   "execution_count": 107,
   "metadata": {},
   "outputs": [
    {
     "data": {
      "text/plain": [
       "Box2I(minimum=Point2I(0, 0), dimensions=Extent2I(4072, 4000))"
      ]
     },
     "execution_count": 107,
     "metadata": {},
     "output_type": "execute_result"
    }
   ],
   "source": [
    "from lsst.obs.lsst import LsstCam\n",
    "camera = LsstCam().getCamera()\n",
    "detectors = camera.get(\"R01_S11\")\n",
    "bbox = detectors.getBBox()\n",
    "bbox"
   ]
  },
  {
   "cell_type": "code",
   "execution_count": 127,
   "metadata": {},
   "outputs": [
    {
     "name": "stdout",
     "output_type": "stream",
     "text": [
      "3 0 48 32\n"
     ]
    }
   ],
   "source": [
    "# the phosim order:  rotated \n",
    "# by 90 degrees to the left \n",
    "bbox = amp.getRawSerialPrescanBBox()\n",
    "A = bbox.getWidth()\n",
    "B = '0'\n",
    "\n",
    "bbox = amp.getRawParallelOverscanBBox()\n",
    "C = bbox.getHeight()\n",
    "\n",
    "bbox = amp.getRawSerialOverscanBBox()\n",
    "D = bbox.getWidth()\n",
    "print(A,B,C,D)"
   ]
  },
  {
   "cell_type": "code",
   "execution_count": 122,
   "metadata": {},
   "outputs": [
    {
     "name": "stdout",
     "output_type": "stream",
     "text": [
      "2000 3\n"
     ]
    }
   ],
   "source": [
    "bbox = amp.getRawPrescanBBox()\n",
    "print(bbox.getHeight(), bbox.getWidth())"
   ]
  },
  {
   "cell_type": "code",
   "execution_count": 125,
   "metadata": {},
   "outputs": [
    {
     "name": "stdout",
     "output_type": "stream",
     "text": [
      "2000 32\n"
     ]
    }
   ],
   "source": [
    "bbox = amp.getRawHorizontalOverscanBBox()\n",
    "print(bbox.getHeight(), bbox.getWidth())"
   ]
  },
  {
   "cell_type": "code",
   "execution_count": 126,
   "metadata": {},
   "outputs": [
    {
     "name": "stdout",
     "output_type": "stream",
     "text": [
      "48 509\n"
     ]
    }
   ],
   "source": [
    "bbox = amp.getRawParallelOverscanBBox()\n",
    "print(bbox.getHeight(), bbox.getWidth())"
   ]
  },
  {
   "cell_type": "code",
   "execution_count": 116,
   "metadata": {},
   "outputs": [
    {
     "name": "stdout",
     "output_type": "stream",
     "text": [
      "(minimum=(3, 2000), maximum=(511, 2047)) (minimum=(3, 2000), maximum=(511, 2047)) (minimum=(0, 0), maximum=(2, 1999))\n",
      "(minimum=(3, 2000), maximum=(511, 2047)) (minimum=(3, 2000), maximum=(511, 2047)) (minimum=(0, 0), maximum=(2, 1999))\n",
      "(minimum=(3, 2000), maximum=(511, 2047)) (minimum=(3, 2000), maximum=(511, 2047)) (minimum=(0, 0), maximum=(2, 1999))\n",
      "(minimum=(3, 2000), maximum=(511, 2047)) (minimum=(3, 2000), maximum=(511, 2047)) (minimum=(0, 0), maximum=(2, 1999))\n",
      "(minimum=(3, 2000), maximum=(511, 2047)) (minimum=(3, 2000), maximum=(511, 2047)) (minimum=(0, 0), maximum=(2, 1999))\n",
      "(minimum=(3, 2000), maximum=(511, 2047)) (minimum=(3, 2000), maximum=(511, 2047)) (minimum=(0, 0), maximum=(2, 1999))\n",
      "(minimum=(3, 2000), maximum=(511, 2047)) (minimum=(3, 2000), maximum=(511, 2047)) (minimum=(0, 0), maximum=(2, 1999))\n",
      "(minimum=(3, 2000), maximum=(511, 2047)) (minimum=(3, 2000), maximum=(511, 2047)) (minimum=(0, 0), maximum=(2, 1999))\n",
      "(minimum=(3, 2000), maximum=(511, 2047)) (minimum=(3, 2000), maximum=(511, 2047)) (minimum=(0, 0), maximum=(2, 1999))\n",
      "(minimum=(3, 2000), maximum=(511, 2047)) (minimum=(3, 2000), maximum=(511, 2047)) (minimum=(0, 0), maximum=(2, 1999))\n",
      "(minimum=(3, 2000), maximum=(511, 2047)) (minimum=(3, 2000), maximum=(511, 2047)) (minimum=(0, 0), maximum=(2, 1999))\n",
      "(minimum=(3, 2000), maximum=(511, 2047)) (minimum=(3, 2000), maximum=(511, 2047)) (minimum=(0, 0), maximum=(2, 1999))\n",
      "(minimum=(3, 2000), maximum=(511, 2047)) (minimum=(3, 2000), maximum=(511, 2047)) (minimum=(0, 0), maximum=(2, 1999))\n",
      "(minimum=(3, 2000), maximum=(511, 2047)) (minimum=(3, 2000), maximum=(511, 2047)) (minimum=(0, 0), maximum=(2, 1999))\n",
      "(minimum=(3, 2000), maximum=(511, 2047)) (minimum=(3, 2000), maximum=(511, 2047)) (minimum=(0, 0), maximum=(2, 1999))\n",
      "(minimum=(3, 2000), maximum=(511, 2047)) (minimum=(3, 2000), maximum=(511, 2047)) (minimum=(0, 0), maximum=(2, 1999))\n"
     ]
    }
   ],
   "source": [
    "for amp in detectors:\n",
    "    print(amp.getRawParallelOverscanBBox(), amp.getRawVerticalOverscanBBox(), amp.getRawPrescanBBox())"
   ]
  },
  {
   "cell_type": "code",
   "execution_count": 109,
   "metadata": {},
   "outputs": [
    {
     "name": "stdout",
     "output_type": "stream",
     "text": [
      "(minimum=(512, 0), maximum=(543, 1999)) (minimum=(0, 0), maximum=(2, 1999))\n",
      "(minimum=(512, 0), maximum=(543, 1999)) (minimum=(0, 0), maximum=(2, 1999))\n",
      "(minimum=(512, 0), maximum=(543, 1999)) (minimum=(0, 0), maximum=(2, 1999))\n",
      "(minimum=(512, 0), maximum=(543, 1999)) (minimum=(0, 0), maximum=(2, 1999))\n",
      "(minimum=(512, 0), maximum=(543, 1999)) (minimum=(0, 0), maximum=(2, 1999))\n",
      "(minimum=(512, 0), maximum=(543, 1999)) (minimum=(0, 0), maximum=(2, 1999))\n",
      "(minimum=(512, 0), maximum=(543, 1999)) (minimum=(0, 0), maximum=(2, 1999))\n",
      "(minimum=(512, 0), maximum=(543, 1999)) (minimum=(0, 0), maximum=(2, 1999))\n",
      "(minimum=(512, 0), maximum=(543, 1999)) (minimum=(0, 0), maximum=(2, 1999))\n",
      "(minimum=(512, 0), maximum=(543, 1999)) (minimum=(0, 0), maximum=(2, 1999))\n",
      "(minimum=(512, 0), maximum=(543, 1999)) (minimum=(0, 0), maximum=(2, 1999))\n",
      "(minimum=(512, 0), maximum=(543, 1999)) (minimum=(0, 0), maximum=(2, 1999))\n",
      "(minimum=(512, 0), maximum=(543, 1999)) (minimum=(0, 0), maximum=(2, 1999))\n",
      "(minimum=(512, 0), maximum=(543, 1999)) (minimum=(0, 0), maximum=(2, 1999))\n",
      "(minimum=(512, 0), maximum=(543, 1999)) (minimum=(0, 0), maximum=(2, 1999))\n",
      "(minimum=(512, 0), maximum=(543, 1999)) (minimum=(0, 0), maximum=(2, 1999))\n"
     ]
    }
   ],
   "source": [
    "for amp in detectors:\n",
    "    print(amp.getRawHorizontalOverscanBBox(), amp.getRawHorizontalPrescanBBox())"
   ]
  },
  {
   "cell_type": "code",
   "execution_count": 96,
   "metadata": {},
   "outputs": [
    {
     "name": "stdout",
     "output_type": "stream",
     "text": [
      "C10 2000 3999 0 508\n",
      "C11 2000 3999 509 1017\n",
      "C12 2000 3999 1018 1526\n",
      "C13 2000 3999 1527 2035\n",
      "C14 2000 3999 2036 2544\n",
      "C15 2000 3999 2545 3053\n",
      "C16 2000 3999 3054 3562\n",
      "C17 2000 3999 3563 4071\n",
      "C07 0 1999 3563 4071\n",
      "C06 0 1999 3054 3562\n",
      "C05 0 1999 2545 3053\n",
      "C04 0 1999 2036 2544\n",
      "C03 0 1999 1527 2035\n",
      "C02 0 1999 1018 1526\n",
      "C01 0 1999 509 1017\n",
      "C00 0 1999 0 508\n"
     ]
    }
   ],
   "source": [
    "for amp in detectors:\n",
    "    # x,y is switched in lsstCam compared to phosims segmentation..\n",
    "    # can I change it ? \n",
    "    \n",
    "    # note : amp.getRawBBox() is the same for each amp of a given CCD type, eg. \n",
    "    # (minimum=(0, 0), maximum=(543, 2047)) for ITL \n",
    "    \n",
    "    # amp.getRawDataBBox() is the same for each amp of a given CCD type, eg. \n",
    "    # (minimum=(3, 0), maximum=(511, 1999))\n",
    "    \n",
    "    # amp.getBBox() is the only one that explains the extent of the amplifier \n",
    "    # in sensor  coords ... \n",
    "    bbox = amp.getBBox()\n",
    "    \n",
    "    # here I assign them to match the phoSim Transposed system \n",
    "    xlo = bbox.getMinY()\n",
    "    xhi = bbox.getMaxY()\n",
    "    ylo = bbox.getMinX()\n",
    "    yhi = bbox.getMaxX()\n",
    "    print(amp.getName(), xlo,xhi,ylo,yhi)\n",
    "    #print(amp.getName(), amp.getBBox(), amp.getRawBBox() , amp.getRawDataBBox())"
   ]
  },
  {
   "cell_type": "code",
   "execution_count": 71,
   "metadata": {},
   "outputs": [
    {
     "data": {
      "text/plain": [
       "Box2I(minimum=Point2I(0, 0), dimensions=Extent2I(4072, 4000))"
      ]
     },
     "execution_count": 71,
     "metadata": {},
     "output_type": "execute_result"
    }
   ],
   "source": []
  },
  {
   "cell_type": "code",
   "execution_count": 36,
   "metadata": {},
   "outputs": [
    {
     "name": "stdout",
     "output_type": "stream",
     "text": [
      "4000 4072\n"
     ]
    }
   ],
   "source": [
    "bbox = detectors.getBBox()\n",
    "px_y = bbox.getDimensions()[0]\n",
    "px_x = bbox.getDimensions()[1]\n",
    "print(px_x, px_y)"
   ]
  },
  {
   "cell_type": "code",
   "execution_count": 72,
   "metadata": {},
   "outputs": [
    {
     "data": {
      "text/plain": [
       "'ITL'"
      ]
     },
     "execution_count": 72,
     "metadata": {},
     "output_type": "execute_result"
    }
   ],
   "source": [
    "detectors.getPhysicalType()"
   ]
  },
  {
   "cell_type": "code",
   "execution_count": 30,
   "metadata": {},
   "outputs": [
    {
     "name": "stdout",
     "output_type": "stream",
     "text": [
      "C10 (minimum=(0, 2000), maximum=(508, 3999))\n",
      "C11 (minimum=(509, 2000), maximum=(1017, 3999))\n",
      "C12 (minimum=(1018, 2000), maximum=(1526, 3999))\n",
      "C13 (minimum=(1527, 2000), maximum=(2035, 3999))\n",
      "C14 (minimum=(2036, 2000), maximum=(2544, 3999))\n",
      "C15 (minimum=(2545, 2000), maximum=(3053, 3999))\n",
      "C16 (minimum=(3054, 2000), maximum=(3562, 3999))\n",
      "C17 (minimum=(3563, 2000), maximum=(4071, 3999))\n",
      "C07 (minimum=(3563, 0), maximum=(4071, 1999))\n",
      "C06 (minimum=(3054, 0), maximum=(3562, 1999))\n",
      "C05 (minimum=(2545, 0), maximum=(3053, 1999))\n",
      "C04 (minimum=(2036, 0), maximum=(2544, 1999))\n",
      "C03 (minimum=(1527, 0), maximum=(2035, 1999))\n",
      "C02 (minimum=(1018, 0), maximum=(1526, 1999))\n",
      "C01 (minimum=(509, 0), maximum=(1017, 1999))\n",
      "C00 (minimum=(0, 0), maximum=(508, 1999))\n"
     ]
    }
   ],
   "source": [
    "for amp in detectors:\n",
    "    print(amp.getName(), amp.getBBox())\n",
    "    "
   ]
  },
  {
   "cell_type": "code",
   "execution_count": 95,
   "metadata": {},
   "outputs": [],
   "source": [
    "import lsst.geom as geom\n",
    "import lsst.afw.cameraGeom as cameraGeom\n",
    "from lsst.obs.lsst import LsstCam\n",
    "\n",
    "\n",
    "camera = LsstCam().getCamera()\n",
    "#detectors = camera.get(\"R00_S22\")\n",
    "\n",
    "detectors_extent = dict()\n",
    "\n",
    "for detector in camera:\n",
    "    detectors_extent[detector.getName()] = []\n",
    "    bbox = detector.getBBox()\n",
    "    x0, y0 = bbox.getBegin()\n",
    "    x1, y1 = bbox.getEnd() - geom.ExtentI(1, 1)\n",
    "    \n",
    "    xc, yc = bbox.centerX, bbox.centerY\n",
    "    \n",
    "    for x, y in [(x0, y0), (x0, y1), (x1, y1), (x1, y0), (xc,yc)]:\n",
    "        xp, yp = detector.transform(geom.PointD(x, y), cameraGeom.PIXELS, cameraGeom.FOCAL_PLANE)\n",
    "        #print(f\"{detector.getName():10}  ({x:4}, {y:4}) -> ({xp:.4f}, {yp:.4f}) mm\")\n",
    "        \n",
    "        detectors_extent[detector.getName()].append([(x,y),(1000*xp,1000*yp)])"
   ]
  },
  {
   "cell_type": "code",
   "execution_count": 49,
   "metadata": {},
   "outputs": [
    {
     "data": {
      "text/plain": [
       "[[(0, 0), (-189.615, -316.255)],\n",
       " [(0, 3999), (-189.615, -276.265)],\n",
       " [(4071, 3999), (-148.905, -276.265)],\n",
       " [(4071, 0), (-148.905, -316.255)],\n",
       " [(2035.5, 1999.5), (-169.26000000000002, -296.26)]]"
      ]
     },
     "execution_count": 49,
     "metadata": {},
     "output_type": "execute_result"
    }
   ],
   "source": [
    "detectors_extent['R01_S00']"
   ]
  },
  {
   "cell_type": "code",
   "execution_count": 212,
   "metadata": {},
   "outputs": [
    {
     "name": "stdout",
     "output_type": "stream",
     "text": [
      "[(0, 0), (-189.615, -316.255)]\n",
      "[(0, 3999), (-189.615, -276.265)]\n",
      "[(4071, 3999), (-148.905, -276.265)]\n",
      "[(4071, 0), (-148.905, -316.255)]\n"
     ]
    }
   ],
   "source": [
    "for i in range(4):\n",
    "    print(detectors_extent['R01_S00'][i])"
   ]
  },
  {
   "cell_type": "code",
   "execution_count": 214,
   "metadata": {},
   "outputs": [
    {
     "name": "stdout",
     "output_type": "stream",
     "text": [
      "-189.615 -316.255\n",
      "-189.615 -276.265\n",
      "-148.905 -276.265\n",
      "-148.905 -316.255\n",
      "-169.26000000000002 -296.26\n"
     ]
    },
    {
     "data": {
      "image/png": "[encoded data removed]",
      "text/plain": [
       "<Figure size 432x288 with 1 Axes>"
      ]
     },
     "metadata": {
      "needs_background": "light"
     },
     "output_type": "display_data"
    }
   ],
   "source": [
    "%matplotlib inline\n",
    "import matplotlib.pyplot as plt\n",
    "for i in range(5):\n",
    "    xp,yp = detectors_extent['R01_S00'][i][1]\n",
    "    plt.scatter(xp,yp )\n",
    "    print(xp,yp)"
   ]
  },
  {
   "cell_type": "markdown",
   "metadata": {},
   "source": [
    "So the x pos , y pos in `focalplanelayout.txt` correspond to the center of each detector, recorded in the mapper as :\n",
    "\n",
    "    import lsst.geom as geom\n",
    "    import lsst.afw.cameraGeom as cameraGeom\n",
    "    from lsst.obs.lsst import LsstCam\n",
    "    camera = LsstCam().getCamera()\n",
    "    for detector in camera:\n",
    "        bbox = detector.getBBox()\n",
    "        xc_px, yc_px = bbox.centerX, bbox.centerY\n",
    "        xp_microns, yp_microns = detector.transform(geom.PointD(x, y), cameraGeom.PIXELS, cameraGeom.FOCAL_PLANE)"
   ]
  },
  {
   "cell_type": "markdown",
   "metadata": {},
   "source": [
    "The only thing is that currently the x,y are rotated.  So `xpos` is `yp_microns`,  and `ypos` is  `xp_microns`"
   ]
  },
  {
   "cell_type": "markdown",
   "metadata": {},
   "source": [
    "# Update focalplanelayout.txt with new sensor names for guide and corner sensors "
   ]
  },
  {
   "cell_type": "markdown",
   "metadata": {},
   "source": [
    "### Development:"
   ]
  },
  {
   "cell_type": "code",
   "execution_count": 151,
   "metadata": {},
   "outputs": [],
   "source": [
    "pathToFile = '/project/scichris/aos/phosim_syseng4/data/lsst/focalplanelayout_old.txt'\n",
    "# read all the lines to a list : \n",
    "with open(pathToFile) as f:\n",
    "    allLines = f.readlines()\n",
    "    \n",
    "headerLines=[]\n",
    "contentLines=[]\n",
    "# store the header part and content separately \n",
    "for line in allLines:\n",
    "    if line.startswith('#'):\n",
    "        headerLines.append(line)\n",
    "    else:\n",
    "        contentLines.append(line)\n"
   ]
  },
  {
   "cell_type": "markdown",
   "metadata": {},
   "source": [
    "To change: sensor names, and shift for corner sensors (from 1000 to 1500 micrometers)...."
   ]
  },
  {
   "cell_type": "code",
   "execution_count": 34,
   "metadata": {},
   "outputs": [
    {
     "data": {
      "text/plain": [
       "['# focal plane geometry layout data\\n',\n",
       " '# \\n',\n",
       " '# rows are the chips in the focal plane\\n',\n",
       " '# columns are the name, x position (microns), y position (microns),\\n',\n",
       " '# pixel size (microns), number of x pixels, number of y pixels,\\n',\n",
       " '# device material (silicon or MCT) \\n',\n",
       " '# type of device (note CMOS also means Fast Frame silicon CCD, and # readout integration mode (frame or sequence)\\n',\n",
       " '# readout time (silicon CCD) or frame rate (CMOS)\\n',\n",
       " '# group of sensors, 3 euler rotations (degrees), 3 translations (mm)\\n',\n",
       " '# deformation type, deformation coefficients, QE variation (obsolete)\\n',\n",
       " '#\\n']"
      ]
     },
     "execution_count": 34,
     "metadata": {},
     "output_type": "execute_result"
    }
   ],
   "source": [
    "headerLines"
   ]
  },
  {
   "cell_type": "code",
   "execution_count": 35,
   "metadata": {},
   "outputs": [
    {
     "data": {
      "text/plain": [
       "['R00_S12    -254000.0 -211750.0 10.0  4000  4072 silicon CMOS  frame   0.1 100.0 Group2    -0.013636   0.000000   0.000000   0.020354  -0.030212   0.000000 zern      0.00  -2.08 -0.55  1.75 -0.08  0.17  0.50 -0.57 -0.20  0.51  0.34 -0.47  0.01 -0.18  0.20 -0.34  0.07 -0.30  0.17 -0.05  0.05 -0.44  0.00\\n',\n",
       " 'R00_S21    -211750.0 -254000.0 10.0  4000  4072 silicon CMOS  frame   0.1 100.0 Group2    -0.006303   0.000000   0.000000   0.047730  -0.013690   0.000000 zern      0.00   0.81 -0.59  1.33 -0.09  0.91  0.47 -0.00  0.01  0.23  0.05 -0.02 -0.10  0.35  0.74 -0.38 -0.07 -0.07  0.05 -0.00 -0.14 -0.11  0.00\\n',\n",
       " 'R00_S22_C0 -211750.0 -211750.0 10.0  2000  4072 silicon CCD frame    3.0 100.0 Group1    -0.002807   0.000000   0.000000  -9.974916  -0.024185   0.000000 zern  -1000.00  -2.41 -1.10 -1.17  0.21 -0.38  0.46  0.20 -0.00 -0.12 -0.19  0.17 -0.01  0.08  0.36 -0.09  0.03  0.04 -0.01  0.11 -0.17  0.32  0.00\\n',\n",
       " 'R00_S22_C1 -211750.0 -211750.0 10.0  2000  4072 silicon CCD frame    3.0 100.0 Group1    -0.004927   0.000000   0.000000  10.070605  -0.016132   0.000000 zern   1000.00  -3.75 -0.95 -0.99  0.38  0.78  0.01  0.23 -0.00 -0.24 -0.08 -0.04 -0.00 -0.01 -0.14 -0.23  0.00 -0.02 -0.05 -0.02 -0.16 -0.20  0.00\\n',\n",
       " 'R01_S00    -296250.0 -169250.0 10.0  4000  4072 silicon CCD frame    3.0 100.0 Group0     0.023663   0.000000   0.000000   0.038514  -0.045669   0.000000 zern      0.00   5.59  1.36 -1.44  0.02 -0.93 -1.08  0.79 -0.14  0.39  0.00 -0.01 -0.36 -0.33 -0.34 -0.17 -0.00  0.14 -0.02  0.02 -0.01  0.22  0.00\\n']"
      ]
     },
     "execution_count": 35,
     "metadata": {},
     "output_type": "execute_result"
    }
   ],
   "source": [
    "contentLines[:5]"
   ]
  },
  {
   "cell_type": "markdown",
   "metadata": {},
   "source": [
    "Test which content columns contain the defocal shift for corner sensors  (the header documentation is quite confusing ... )"
   ]
  },
  {
   "cell_type": "code",
   "execution_count": null,
   "metadata": {},
   "outputs": [],
   "source": []
  },
  {
   "cell_type": "code",
   "execution_count": 36,
   "metadata": {},
   "outputs": [
    {
     "name": "stdout",
     "output_type": "stream",
     "text": [
      "R00_S12 0.00\n",
      "R00_S21 0.00\n",
      "R00_S22_C0 -1000.00\n",
      "R00_S22_C1 1000.00\n",
      "R01_S00 0.00\n",
      "R01_S01 0.00\n",
      "R01_S02 0.00\n"
     ]
    }
   ],
   "source": [
    "# here content is one line per sensor, which \n",
    "# makes it easier...\n",
    "for line in contentLines[:7]:\n",
    "    #print(line)\n",
    "    splitContent = line.split()\n",
    "    sensorName  = splitContent[0]\n",
    "#     xPosition = splitContent[1] # in microns \n",
    "#     yPosition = splitContent[2] # in microns\n",
    "#     pixelSize = splitContent[3] # microns\n",
    "#     numberXpx = splitContent[4]\n",
    "#     numberYpx = splitContent[5]\n",
    "#     deviceMaterial = splitContent[6] # silicon or MCT\n",
    "#     deviceType = splitContent[7] # CMOS \n",
    "#     readoutIntegrationMode = splitContent[8] # frame or sequence\n",
    "#     readoutTime = splitContent[9] # readout time (silicon CCD) or frame rate (CMOS)\n",
    "#     frameRate = splitContent[10]\n",
    "#     sensorGroup = splitContent[11] # sensor group\n",
    "    \n",
    "#     eulerRot1 = splitContent[12]\n",
    "#     eulerRot2 = splitContent[13]\n",
    "#     eulerRot3 = splitContent[14] # three Euler rotations in degrees\n",
    "#     translation1 = splitContent[15]\n",
    "#     translation2 = splitContent[16]\n",
    "#     translation3 = splitContent[17] # three translations in mm \n",
    "    \n",
    "#     deformationType  = splitContent[18]\n",
    "    deformationCoeff = splitContent[19]\n",
    "    #qeVariation = splitContent[20]\n",
    "    \n",
    "#     print(sensorName, xPosition, yPosition, pixelSize, numberXpx, numberYpx, deviceMaterial, deviceType, \n",
    "#           readoutIntegrationMode, readoutTime, frameRate, sensorGroup, eulerRot1, eulerRot2, eulerRot3,\n",
    "#           translation1, translation2, translation3,deformationType, deformationCoeff)\n",
    "    #, qeVariation)\n",
    "    print(sensorName, deformationCoeff)"
   ]
  },
  {
   "cell_type": "markdown",
   "metadata": {},
   "source": [
    "Ok , so we need to change columnts [0] and [19]: "
   ]
  },
  {
   "cell_type": "code",
   "execution_count": 47,
   "metadata": {},
   "outputs": [
    {
     "name": "stdout",
     "output_type": "stream",
     "text": [
      "-1500.0\n",
      "1500.0\n",
      "-1500.0\n",
      "1500.0\n",
      "-1500.0\n",
      "1500.0\n",
      "-1500.0\n",
      "1500.0\n"
     ]
    }
   ],
   "source": [
    "newContentLines = []\n",
    "for line in contentLines:\n",
    "    splitContent = line.split()\n",
    "    newSplitContent = splitContent.copy()\n",
    "    \n",
    "    # update the sensor name \n",
    "    sensorName  = splitContent[0]\n",
    "    newName = getNewSensorName(sensorName)\n",
    "    newSplitContent[0] = newName\n",
    "    \n",
    "    # update the defocal shift \n",
    "    deformationCoeff = splitContent[19]\n",
    "    defCoeff = float(deformationCoeff)\n",
    "    if abs(defCoeff)>10:\n",
    "        sgn = np.sign(defCoeff)\n",
    "        newDeformationCoeff = str(defCoeff + sgn*500.0)\n",
    "        print(newDeformationCoeff)\n",
    "        newSplitContent[19]  = newDeformationCoeff\n",
    "    \n",
    "    # append updated line adding line break character\n",
    "    newContentLines.append(' '.join(newSplitContent)+'\\n')"
   ]
  },
  {
   "cell_type": "code",
   "execution_count": 58,
   "metadata": {},
   "outputs": [],
   "source": [
    "a = getNewSensorName('R00_S22')"
   ]
  },
  {
   "cell_type": "code",
   "execution_count": 59,
   "metadata": {},
   "outputs": [
    {
     "data": {
      "text/plain": [
       "'R00_S22'"
      ]
     },
     "execution_count": 59,
     "metadata": {},
     "output_type": "execute_result"
    }
   ],
   "source": [
    "a"
   ]
  },
  {
   "cell_type": "code",
   "execution_count": 41,
   "metadata": {},
   "outputs": [
    {
     "data": {
      "text/plain": [
       "'R00_S12    -254000.0 -211750.0 10.0  4000  4072 silicon CMOS  frame   0.1 100.0 Group2    -0.013636   0.000000   0.000000   0.020354  -0.030212   0.000000 zern      0.00  -2.08 -0.55  1.75 -0.08  0.17  0.50 -0.57 -0.20  0.51  0.34 -0.47  0.01 -0.18  0.20 -0.34  0.07 -0.30  0.17 -0.05  0.05 -0.44  0.00\\n'"
      ]
     },
     "execution_count": 41,
     "metadata": {},
     "output_type": "execute_result"
    }
   ],
   "source": [
    "contentLines[0]"
   ]
  },
  {
   "cell_type": "code",
   "execution_count": 43,
   "metadata": {},
   "outputs": [
    {
     "data": {
      "text/plain": [
       "'R00_SG0 -254000.0 -211750.0 10.0 4000 4072 silicon CMOS frame 0.1 100.0 Group2 -0.013636 0.000000 0.000000 0.020354 -0.030212 0.000000 zern 0.00 -2.08 -0.55 1.75 -0.08 0.17 0.50 -0.57 -0.20 0.51 0.34 -0.47 0.01 -0.18 0.20 -0.34 0.07 -0.30 0.17 -0.05 0.05 -0.44 0.00\\n'"
      ]
     },
     "execution_count": 43,
     "metadata": {},
     "output_type": "execute_result"
    }
   ],
   "source": [
    "newContentLines[0]+'\\n'"
   ]
  },
  {
   "cell_type": "code",
   "execution_count": 271,
   "metadata": {},
   "outputs": [
    {
     "name": "stdout",
     "output_type": "stream",
     "text": [
      "Saved as focalplanelayout_test.txt\n"
     ]
    }
   ],
   "source": [
    "# Store the header and updated content lines \n",
    "fname = \"focalplanelayout_test.txt\"\n",
    "f = open(fname, \"w\")\n",
    "f.writelines(headerLines)\n",
    "f.writelines(newContentLines)\n",
    "f.close()      \n",
    "print('Saved as %s'%fname)"
   ]
  },
  {
   "cell_type": "markdown",
   "metadata": {},
   "source": [
    "# Production: all the code to update focalplanelayout.txt "
   ]
  },
  {
   "cell_type": "code",
   "execution_count": 217,
   "metadata": {},
   "outputs": [],
   "source": []
  },
  {
   "cell_type": "code",
   "execution_count": 6,
   "metadata": {},
   "outputs": [],
   "source": []
  },
  {
   "cell_type": "code",
   "execution_count": 4,
   "metadata": {},
   "outputs": [],
   "source": [
    "# Need to store each line of the other focalplanelayout to convey the zernike perturbations ...\n",
    "headerLines, contentLinesZer = readFile('/project/scichris/aos/phosim_syseng4/data/lsst/focalplanelayout_old.txt')\n",
    "\n",
    "\n",
    "splitLinesZerDic = {}\n",
    "for line in contentLinesZer:\n",
    "    splitLinesZerDic[line.split()[0]] = line.split() # sensor name is the key "
   ]
  },
  {
   "cell_type": "code",
   "execution_count": 5,
   "metadata": {},
   "outputs": [
    {
     "name": "stdout",
     "output_type": "stream",
     "text": [
      "Saved as /project/scichris/aos/phosim_syseng4/data/lsst/focalplanelayout_upd.txt\n"
     ]
    }
   ],
   "source": [
    "import lsst.geom as geom\n",
    "import lsst.afw.cameraGeom as cameraGeom\n",
    "from lsst.obs.lsst import LsstCam\n",
    "camera = LsstCam().getCamera()\n",
    "\n",
    "\n",
    "# for detector in camera:\n",
    "#     bbox = detector.getBBox()\n",
    "#     xc_px, yc_px = bbox.centerX, bbox.centerY\n",
    "#     xp_microns, yp_microns = detector.transform(geom.PointD(x, y), cameraGeom.PIXELS, cameraGeom.FOCAL_PLANE)\n",
    "    \n",
    "    \n",
    "# read the file and split into two lists\n",
    "headerLines, contentLines = readFile('/project/scichris/aos/phosim_syseng4/data/lsst/focalplanelayout_old.txt')\n",
    "\n",
    "# update the content \n",
    "newContentLines = []\n",
    "for line in contentLines:\n",
    "    splitContent = line.split()\n",
    "    newSplitContent = splitContent.copy()\n",
    "    \n",
    "    # update the sensor name \n",
    "    sensorName  = splitContent[0]\n",
    "    newName = getNewSensorName(sensorName)\n",
    "    newSplitContent[0] = newName\n",
    "    \n",
    "    # update the defocal shift \n",
    "    deformationCoeff = splitContent[19]\n",
    "    defCoeff = float(deformationCoeff)\n",
    "    if abs(defCoeff)>10:\n",
    "        sgn = np.sign(defCoeff) # change +/- 1000 to +/- 1500 \n",
    "        newDeformationCoeff = str(defCoeff + sgn*500.0)\n",
    "        #print(newDeformationCoeff)\n",
    "        newSplitContent[19]  = newDeformationCoeff\n",
    "    \n",
    "    # update the x,y position \n",
    "    detector = camera.get(newName)\n",
    "    bbox = detector.getBBox()\n",
    "    xc_px, yc_px = bbox.centerX, bbox.centerY\n",
    "    xc_mm, yc_mm = detector.transform(geom.PointD(xc_px, yc_px), \n",
    "                                                cameraGeom.PIXELS, \n",
    "                                                cameraGeom.FOCAL_PLANE)\n",
    "    \n",
    "    xc_microns , yc_microns = 1000*xc_mm , 1000*yc_mm\n",
    "    xpos, ypos = float(splitContent[1]), float(splitContent[2])\n",
    "    #print(xpos, ypos, '-->', \n",
    "    #      yp_microns, xp_microns, \n",
    "    #      'dx:', xpos - yp_microns, \n",
    "    #      'dy:', ypos-xp_microns)\n",
    "    newSplitContent[1] = str(round(yc_microns,2))\n",
    "    newSplitContent[2] = str(round(xc_microns,2))\n",
    "    \n",
    "    \n",
    "    # update the number of  x px, y px \n",
    "    xpx, ypx = splitContent[4], splitContent[5]\n",
    "    \n",
    "    xnew, ynew = bbox.getHeight(), bbox.getWidth() # rotated wrt lsstCam ... \n",
    "    newSplitContent[4] = str(xnew)\n",
    "    newSplitContent[5] = str(ynew)\n",
    "    \n",
    "    # update the dx, dy - since we know the actual position, set these to 0 ...\n",
    "    dx,dy,dz = float(splitContent[15]), float(splitContent[16]), float(splitContent[17])\n",
    "    newSplitContent[15] = '0' # <-- set dx to 0 \n",
    "    newSplitContent[16] = '0' # <-- set dy to 0 \n",
    "\n",
    "    \n",
    "    # change sensor.txt to zern, and append all parts that follow...\n",
    "    # that way I can also use the 'new' format of focalplanelayout,\n",
    "    # changing all after 'sensor.txt' to zern and the coefficients ... \n",
    "    newSplitContent[18]  = 'zern'\n",
    "    newSplitContent[20:] = splitLinesZerDic[sensorName][20:]\n",
    "    \n",
    "    # append updated line \n",
    "    newContentLines.append(' '.join(newSplitContent)+'\\n')\n",
    "    \n",
    "# store the updated version: the header and  updated  content lines \n",
    "fname = \"/project/scichris/aos/phosim_syseng4/data/lsst/focalplanelayout_upd.txt\"\n",
    "f = open(fname, \"w\")\n",
    "f.writelines(headerLines)\n",
    "f.writelines(newContentLines)\n",
    "f.close()      \n",
    "print('Saved as %s'%fname)"
   ]
  },
  {
   "cell_type": "markdown",
   "metadata": {},
   "source": [
    "#### Save a summary of updates to focalplanelayout:\n",
    "\n",
    "Make a quick list of what would the positions  need to be for the center of each sensor for Dr Peterson:\n",
    "\n",
    "sensorName  xPos  yPos   xPx   yPx    \n",
    "\n"
   ]
  },
  {
   "cell_type": "code",
   "execution_count": 35,
   "metadata": {},
   "outputs": [],
   "source": [
    "\n",
    "import lsst.geom as geom\n",
    "import lsst.afw.cameraGeom as cameraGeom\n",
    "from lsst.obs.lsst import LsstCam\n",
    "camera = LsstCam().getCamera()\n",
    "\n",
    "\n",
    "# for detector in camera:\n",
    "#     bbox = detector.getBBox()\n",
    "#     xc_px, yc_px = bbox.centerX, bbox.centerY\n",
    "#     xp_microns, yp_microns = detector.transform(geom.PointD(x, y), cameraGeom.PIXELS, cameraGeom.FOCAL_PLANE)\n",
    "    \n",
    "\n",
    "# read the file and split into two lists\n",
    "headerLines, contentLines = readFile('/project/scichris/aos/phosim_syseng4/data/lsst/focalplanelayout_old.txt')\n",
    "\n",
    "# update the content \n",
    "newSensorData = {'oldName':[],  'newName':[], 'xPx':[],'yPx':[], \n",
    "                 'xPos':[],'yPos':[], 'defocalOffset':[]\n",
    "                }\n",
    "for line in contentLines:\n",
    "    splitContent = line.split()\n",
    "    \n",
    "    # update the sensor name \n",
    "    sensorName  = splitContent[0]\n",
    "    newName = getNewSensorName(sensorName)\n",
    "    newSensorData['oldName'].append(sensorName)\n",
    "    newSensorData['newName'].append(newName)\n",
    "    \n",
    "    # update the defocal shift \n",
    "    deformationCoeff = splitContent[19]\n",
    "    defCoeff = float(deformationCoeff)\n",
    "    if abs(defCoeff)>10:\n",
    "        sgn = np.sign(defCoeff) # change +/- 1000 to +/- 1500 \n",
    "        defCoeff = defCoeff + sgn*500.0\n",
    "        #print(newDeformationCoeff)\n",
    "        #newSplitContent[19]  = newDeformationCoeff\n",
    "    newSensorData['defocalOffset'].append(defCoeff)\n",
    "    \n",
    "    # update the x,y position \n",
    "    detector = camera.get(newName)\n",
    "    bbox = detector.getBBox()\n",
    "    xc_px, yc_px = bbox.centerX, bbox.centerY\n",
    "    xc_mm, yc_mm = detector.transform(geom.PointD(xc_px, yc_px), \n",
    "                                                cameraGeom.PIXELS, \n",
    "                                                cameraGeom.FOCAL_PLANE)\n",
    "    \n",
    "    xc_microns , yc_microns = 1000*xc_mm , 1000*yc_mm\n",
    "#     xpos, ypos = float(splitContent[1]), float(splitContent[2])\n",
    "    #print(xpos, ypos, '-->', \n",
    "    #      yp_microns, xp_microns, \n",
    "    #      'dx:', xpos - yp_microns, \n",
    "    #      'dy:', ypos-xp_microns)\n",
    "#     newSplitContent[1] = str(round(yc_microns,2))\n",
    "#     newSplitContent[2] = str(round(xc_microns,2))\n",
    "    newSensorData['xPos'].append(round(yc_microns,2))\n",
    "    newSensorData['yPos'].append(round(xc_microns,2))\n",
    "        \n",
    "    # update the number of  x px, y px \n",
    "#     xpx, ypx = splitContent[4], splitContent[5]\n",
    "    \n",
    "    xPxNew, yPxNew = bbox.getHeight(), bbox.getWidth() # rotated wrt lsstCam ... \n",
    "    newSensorData['xPx'].append(xPxNew)\n",
    "    newSensorData['yPx'].append(yPxNew)\n",
    "    \n",
    "#     newSplitContent[4] = str(xnew)\n",
    "#     newSplitContent[5] = str(ynew)\n",
    "    \n",
    "    # update the dx, dy - since we know the actual position, set these to 0 ...\n",
    "#     dx,dy,dz = float(splitContent[15]), float(splitContent[16]), float(splitContent[17])\n",
    "#     newSplitContent[15] = '0' # <-- set dx to 0 \n",
    "#     newSplitContent[16] = '0' # <-- set dy to 0 \n",
    "\n",
    "    \n",
    "    # change sensor.txt to zern, and append all parts that follow...\n",
    "#     newSplitContent[18]  = 'zern'\n",
    "#     newSplitContent[20:] = splitLinesZerDic[sensorName][20:]\n",
    "    \n",
    "#     # append updated line \n",
    "#     newContentLines.append(' '.join(newSplitContent)+'\\n')\n",
    "\n",
    "newSensorTable = Table(data=[newSensorData[key] for key in newSensorData.keys()],\n",
    "                       names=list(newSensorData.keys())\n",
    "                      )\n",
    "newSensorTable.write('/project/scichris/aos/focalplanelayout_update_summary.txt', format='ascii')\n"
   ]
  },
  {
   "cell_type": "markdown",
   "metadata": {},
   "source": [
    "## Update focalplanelayout for comcam : "
   ]
  },
  {
   "cell_type": "code",
   "execution_count": 27,
   "metadata": {},
   "outputs": [],
   "source": [
    "headerLines, contentLines = readFile('/project/scichris/aos/phosim_syseng4/data/comcam/focalplanelayout.txt')\n",
    "#sensorData = storeSensorDataAsDictionary(contentLines)"
   ]
  },
  {
   "cell_type": "code",
   "execution_count": 28,
   "metadata": {},
   "outputs": [],
   "source": [
    "headerLines2, contentLines2 = readFile('/project/scichris/aos/phosim_syseng4/data/lsst/focalplanelayout_old.txt')\n",
    "#sensorData = storeSensorDataAsDictionary(contentLines2)"
   ]
  },
  {
   "cell_type": "code",
   "execution_count": 29,
   "metadata": {},
   "outputs": [
    {
     "data": {
      "text/plain": [
       "'R00_S12    -254000.0 -211750.0 10.0  4000  4072 silicon CMOS  frame   0.1 100.0 Group2    -0.013636   0.000000   0.000000   0.020354  -0.030212   0.000000 zern      0.00  -2.08 -0.55  1.75 -0.08  0.17  0.50 -0.57 -0.20  0.51  0.34 -0.47  0.01 -0.18  0.20 -0.34  0.07 -0.30  0.17 -0.05  0.05 -0.44  0.00\\n'"
      ]
     },
     "execution_count": 29,
     "metadata": {},
     "output_type": "execute_result"
    }
   ],
   "source": [
    "contentLines[0]"
   ]
  },
  {
   "cell_type": "code",
   "execution_count": 31,
   "metadata": {},
   "outputs": [
    {
     "name": "stdout",
     "output_type": "stream",
     "text": [
      "R22_S22\n",
      "R22_S12\n",
      "R22_S21\n",
      "R22_S01\n",
      "R22_S00\n",
      "R22_S02\n",
      "R22_S10\n",
      "R22_S20\n",
      "R22_S11\n"
     ]
    }
   ],
   "source": [
    "for sensorName in camera.getNameIter():\n",
    "    print(sensorName)"
   ]
  },
  {
   "cell_type": "code",
   "execution_count": 41,
   "metadata": {},
   "outputs": [
    {
     "data": {
      "text/plain": [
       "True"
      ]
     },
     "execution_count": 41,
     "metadata": {},
     "output_type": "execute_result"
    }
   ],
   "source": [
    "'R22_S00' in list(camera.getNameMap().keys())"
   ]
  },
  {
   "cell_type": "markdown",
   "metadata": {},
   "source": [
    "## Do the PR to phosim_syseng4:  "
   ]
  },
  {
   "cell_type": "markdown",
   "metadata": {},
   "source": [
    "https://jira.lsstcorp.org/browse/DM-28557\n",
    "    \n",
    "    cd /project/scichris/aos/phosim_syseng4/\n",
    "    git checkout -b tickets/DM-28557\n",
    "    \n",
    "    cd /data/lsst/\n",
    "    \n",
    "    diff -s focalplanelayout.txt focalplanelayout_DM-28553.txt \n",
    "    diff -s segmentation.txt segmentation_DM-28553.txt \n",
    "    # to show that the files are the same \n",
    "    \n",
    "Useful : https://guides.github.com/features/mastering-markdown/ \n",
    "    "
   ]
  },
  {
   "cell_type": "markdown",
   "metadata": {},
   "source": [
    "After the PR got merged in github ,  I do https://git-scm.com/book/en/v2/Git-Basics-Tagging \n",
    "\n",
    "    git checkout aos \n",
    "    git pull\n",
    "    git tag -a v1.0.5 -m \"Merge pull request #6 from lsst-ts/tickets/DM-28557\" \n",
    "    git push origin --tags "
   ]
  },
  {
   "cell_type": "code",
   "execution_count": null,
   "metadata": {},
   "outputs": [],
   "source": []
  },
  {
   "cell_type": "code",
   "execution_count": null,
   "metadata": {},
   "outputs": [],
   "source": []
  },
  {
   "cell_type": "code",
   "execution_count": null,
   "metadata": {},
   "outputs": [],
   "source": []
  },
  {
   "cell_type": "markdown",
   "metadata": {},
   "source": [
    "### Get the segmentation.txt and focalplanelayout.txt from the phosim master branch :\n",
    "\n",
    "    # on LSP or NCSA, this juist gets the most recent focalplanelayout and segmentation files from bitbucket \n",
    "    cd /project/scichris/aos/phosim_syseng4/data/lsst/\n",
    "    curl -OL https://bitbucket.org/phosim/phosim_release/raw/178d41cb0fa5ec44797029de3f65fb50c03eff8c/data/lsst/focalplanelayout.txt\n",
    "\n",
    "\n",
    "    curl -OL https://bitbucket.org/phosim/phosim_release/raw/178d41cb0fa5ec44797029de3f65fb50c03eff8c/data/lsst/segmentation.txt\n",
    "\n",
    "\n",
    "Run phosim with these bitbucket versions on the corner sensors to see if there is any result : \n",
    "\n",
    "    ssh scichris@lsst-login01.ncsa.illinois.edu \n",
    "    ssh lsst-devl03\n",
    "    source \"/software/lsstsw/stack/loadLSST.bash\"   # to have python \n",
    "    source \"/project/scichris/aos/setup_aos_current.sh\"  # to setup the stack with python, I don't really need any other aos components  \n",
    "\n",
    "    cd /project/scichris/aos/segmentation_update/corner_sensors/bitbucket_ver54/\n",
    "    python /project/scichris/aos/phosim_syseng4/phosim.py /project/scichris/aos/segmentation_update/corner_sensors/starWfs.inst -i lsst -e 1 -c /project/scichris/aos/segmentation_update/corner_sensors/noBkgnd.cmd -p 25 -o /project/scichris/aos/segmentation_update/corner_sensors/bitbucket_ver54/  > starPhoSim.log 2>&1"
   ]
  },
  {
   "cell_type": "code",
   "execution_count": null,
   "metadata": {},
   "outputs": [],
   "source": []
  },
  {
   "cell_type": "code",
   "execution_count": null,
   "metadata": {},
   "outputs": [],
   "source": []
  },
  {
   "cell_type": "code",
   "execution_count": 258,
   "metadata": {},
   "outputs": [],
   "source": [
    "#newContentLines"
   ]
  },
  {
   "cell_type": "markdown",
   "metadata": {},
   "source": [
    "Test that :  run the `phosim_syseng4` phosim with `ts_phosim`   `imgCloseLoop` for famcam, ensure it converges:"
   ]
  },
  {
   "cell_type": "markdown",
   "metadata": {},
   "source": [
    "Replace the `segmentation.txt` and `focalplanelayout.txt` files \n",
    "at   `phosim_syseng4`  directory : \n",
    "    \n",
    "    cd /project/scichris/aos/phosim_syseng4/data/lsst/\n",
    "    mv focalplanelayout.txt old_focalplanelayout.txt\n",
    "    mv segmentation.txt old_segmentation.txt \n",
    "\n",
    "    cp /home/scichris/notebooks/focalplanelayout_test.txt focalplanelayout.txt\n",
    "    cp /home/scichris/notebooks/segmentation_test.txt segmentation.txt"
   ]
  },
  {
   "cell_type": "markdown",
   "metadata": {},
   "source": [
    "Run that on NCSA lsst-devl03, because that's where I setup the AOS packages... "
   ]
  },
  {
   "cell_type": "markdown",
   "metadata": {},
   "source": [
    "    # do it on NCSA lsst-devl03,  because AOS environment was \n",
    "    # built there ...\n",
    "\n",
    "\n",
    "    ssh scichris@lsst-login01.ncsa.illinois.edu \n",
    "    ssh lsst-devl03\n",
    "\n",
    "    # setup the stack and AOS \n",
    "    source \"/software/lsstsw/stack/loadLSST.bash\"\n",
    "    source \"/project/scichris/aos/setup_aos_current.sh\"\n",
    "\n",
    "    # use my changed versions of \n",
    "    # obs_lsst and phosim_utils \n",
    "    # from ticket branches \n",
    "    cd /project/scichris/dev/obs_lsst_dev/\n",
    "    setup -k -r . \n",
    "\n",
    "    cd /project/scichris/dev/phosim_utils/\n",
    "    setup -k -r .\n",
    "\n",
    "    # show that the correct location is being used...\n",
    "    eups list obs_lsst\n",
    "    eups list phosim_utils\n",
    "\n",
    "    cd /project/scichris/aos/ts_phosim/\n",
    "    \n",
    "for comcam (i.e. R22 of lsstCam) \n",
    "\n",
    "    python bin.src/imgCloseLoop.py --inst comcam --numOfProc 25 --boresightDeg 0.03 -0.02 --skyFile tests/testData/sky/skyComCam.txt --output /project/scichris/aos/results_comcam/\n",
    "\n",
    "for famcam (i.e. lsstCam ) \n",
    "    \n",
    "    python bin.src/imgCloseLoop.py --inst lsstfam --numOfProc 25 --boresightDeg 0.03 -0.02 --skyFile tests/testData/sky/skyLsstFam.txt --output /project/scichris/aos/results_lsstfam_test/"
   ]
  },
  {
   "cell_type": "markdown",
   "metadata": {},
   "source": [
    "## Run just phosim on lsst-devl03 with corner sensors before and after the change "
   ]
  },
  {
   "cell_type": "markdown",
   "metadata": {},
   "source": [
    "1) Before the change : \n",
    "    \n",
    "    ssh scichris@lsst-login01.ncsa.illinois.edu \n",
    "    # Zx... no shift,\n",
    "\n",
    "    ssh lsst-devl03\n",
    "    lscpu# to show number of available cores  : this one has 32v\n",
    "\n",
    "    source \"/software/lsstsw/stack/loadLSST.bash\"\n",
    "    source \"/project/scichris/aos/setup_aos_current.sh\"\n",
    "\n",
    "    cd /project/scichris/aos/segmentation_update/corner_sensors/before/\n",
    "    python /project/scichris/aos/phosim_syseng4/phosim.py /project/scichris/aos/segmentation_update/corner_sensors/starWfs.inst -i lsst -e 1 -c /project/scichris/aos/segmentation_update/corner_sensors/noBkgnd.cmd -p 25 -o /project/scichris/aos/segmentation_update/corner_sensors/before/  > starPhoSim.log 2>&1"
   ]
  },
  {
   "cell_type": "code",
   "execution_count": 63,
   "metadata": {},
   "outputs": [
    {
     "data": {
      "text/plain": [
       "<matplotlib.image.AxesImage at 0x7f0417021250>"
      ]
     },
     "execution_count": 63,
     "metadata": {},
     "output_type": "execute_result"
    },
    {
     "data": {
      "image/png": "[encoded data removed]",
      "text/plain": [
       "<Figure size 432x288 with 1 Axes>"
      ]
     },
     "metadata": {
      "needs_background": "light"
     },
     "output_type": "display_data"
    }
   ],
   "source": [
    "%matplotlib inline\n",
    "import astropy.io.fits as fits\n",
    "import matplotlib.pyplot as plt\n",
    "fname = '/project/scichris/aos/segmentation_update/corner_sensors/before/\\\n",
    "lsst_a_9006002_f1_R00_S22_C03_E000.fits.gz'\n",
    "hdul = fits.open(fname)[0]\n",
    "plt.imshow(hdul.data, )\n",
    "    "
   ]
  },
  {
   "cell_type": "markdown",
   "metadata": {},
   "source": [
    "2) After the change :\n",
    "\n",
    "    cd /project/scichris/aos/phosim_syseng4/data/lsst/\n",
    "    cp segmentation.txt segmentation_old.txt\n",
    "    cp focalplanelayout.txt focalplanelayout_old.txt\n",
    "    \n",
    "    cp segmentation_upd.txt segmentation.txt \n",
    "    cp focalplanelayout_upd.txt focalplanelayout.txt \n",
    "\n",
    "    cd /project/scichris/aos/segmentation_update/corner_sensors/after/\n",
    "        python /project/scichris/aos/phosim_syseng4/phosim.py /project/scichris/aos/segmentation_update/corner_sensors/starWfs.inst -i lsst -e 1 -c /project/scichris/aos/segmentation_update/corner_sensors/noBkgnd.cmd -p 25 -o /project/scichris/aos/segmentation_update/corner_sensors/ > starPhoSim.log 2>&1\n",
    "    \n",
    "    "
   ]
  },
  {
   "cell_type": "markdown",
   "metadata": {},
   "source": [
    "and it doesn't make anything ! Need to find out what am I missing, since I updated `segmentation.txt` and `focalplanelayout.txt` "
   ]
  },
  {
   "cell_type": "markdown",
   "metadata": {},
   "source": [
    "I checked David Thomas' commit to `phosim_syseng4`, but I can't figure out whether changing the `segmentation.txt` and `focalplanelayout.txt` is sufficient ... https://github.com/lsst-ts/phosim_syseng4/tree/aos/data "
   ]
  },
  {
   "cell_type": "code",
   "execution_count": 68,
   "metadata": {},
   "outputs": [],
   "source": [
    "import astropy.io.fits as fits\n",
    "\n",
    "# R00_S22 --> R00_SW1 ,  \n",
    "# C03 --> C14 \n",
    "fname = '/project/scichris/aos/segmentation_update/corner_sensors/after/\\\n",
    "lsst_a_9006002_f1_R00_SW1_C14_E000.fits.gz'\n",
    "hdul = fits.open(fname)[0]"
   ]
  },
  {
   "cell_type": "code",
   "execution_count": 69,
   "metadata": {},
   "outputs": [
    {
     "data": {
      "text/plain": [
       "<matplotlib.image.AxesImage at 0x7f0417258950>"
      ]
     },
     "execution_count": 69,
     "metadata": {},
     "output_type": "execute_result"
    },
    {
     "data": {
      "image/png": "[encoded data removed]",
      "text/plain": [
       "<Figure size 432x288 with 1 Axes>"
      ]
     },
     "metadata": {
      "needs_background": "light"
     },
     "output_type": "display_data"
    }
   ],
   "source": [
    "%matplotlib inline\n",
    "import matplotlib.pyplot as plt\n",
    "plt.imshow(hdul.data, )#vmin=970,vmax=1000)"
   ]
  },
  {
   "cell_type": "markdown",
   "metadata": {},
   "source": [
    "ok, it works! Now, add changing the size & x,y location of each CCD ... "
   ]
  },
  {
   "cell_type": "markdown",
   "metadata": {},
   "source": [
    "3) Updated geometry of segmentation.txt and focalplanelayout.txt  ... see if that works!   It probably does for the corner sensors since I didn't change anything there..So need to simulate one star per CCD of the main rafts , and see if they are in the center of each CCD still ... \n",
    "\n"
   ]
  },
  {
   "cell_type": "markdown",
   "metadata": {},
   "source": [
    "    cd /project/scichris/aos/segmentation_update/corner_sensors/afterGeom/\n",
    "        python /project/scichris/aos/phosim_syseng4/phosim.py /project/scichris/aos/segmentation_update/corner_sensors/starWfs.inst -i lsst -e 1 -c /project/scichris/aos/segmentation_update/corner_sensors/noBkgnd.cmd -p 25 -o /project/scichris/aos/segmentation_update/corner_sensors/ > starPhoSim.log 2>&1"
   ]
  },
  {
   "cell_type": "code",
   "execution_count": 225,
   "metadata": {},
   "outputs": [
    {
     "data": {
      "text/plain": [
       "<matplotlib.image.AxesImage at 0x7fb1a39df5d0>"
      ]
     },
     "execution_count": 225,
     "metadata": {},
     "output_type": "execute_result"
    },
    {
     "data": {
      "image/png": "[encoded data removed]",
      "text/plain": [
       "<Figure size 432x288 with 1 Axes>"
      ]
     },
     "metadata": {
      "needs_background": "light"
     },
     "output_type": "display_data"
    }
   ],
   "source": [
    "import astropy.io.fits as fits\n",
    "\n",
    "# R00_S22 --> R00_SW1 ,  \n",
    "# C03 --> C14 \n",
    "fname = '/project/scichris/aos/segmentation_update/corner_sensors/afterGeom/\\\n",
    "lsst_a_9006002_f1_R00_SW1_C11_E000.fits.gz'\n",
    "hdul = fits.open(fname)[0]\n",
    "\n",
    "%matplotlib inline\n",
    "import matplotlib.pyplot as plt\n",
    "plt.imshow(hdul.data, )#vmin=970,vmax=1000)"
   ]
  },
  {
   "cell_type": "markdown",
   "metadata": {},
   "source": [
    "repackage and ingest ... "
   ]
  },
  {
   "cell_type": "markdown",
   "metadata": {},
   "source": [
    "    source \"/project/scichris/aos/setup_aos_current.sh\"\n",
    "    # do the same for  phosim_utils - \n",
    "    # use the ticket version of the repackager .. \n",
    "    cd /project/scichris/dev/phosim_utils/\n",
    "    git checkout tickets/DM-26836\n",
    "    setup -k -r .\n",
    "\n",
    "    phosim_repackager.py /project/scichris/aos/segmentation_update/corner_sensors/afterGeom/ --out_dir=/project/scichris/aos/segmentation_update/corner_sensors/afterGeom/repackaged/\n",
    "\n",
    "\n",
    "    ingestImages.py /project/scichris/aos/segmentation_update/corner_sensors/input_afterGeom/ /project/scichris/aos/segmentation_update/corner_sensors/afterGeom/repackaged/*.fits\n",
    "\n"
   ]
  },
  {
   "cell_type": "markdown",
   "metadata": {},
   "source": [
    "Where is the star? I must have done something wrong - compare the content of segmentation and focalplanelayout before/ after ... "
   ]
  },
  {
   "cell_type": "code",
   "execution_count": 229,
   "metadata": {},
   "outputs": [
    {
     "data": {
      "text/plain": [
       "True"
      ]
     },
     "execution_count": 229,
     "metadata": {},
     "output_type": "execute_result"
    }
   ],
   "source": [
    "import os\n",
    "%matplotlib inline\n",
    "import matplotlib.pyplot as plt\n",
    "import lsst.daf.persistence as dafPersist\n",
    "dataRoot='/project/scichris/aos/segmentation_update/corner_sensors/input_afterGeom/'\n",
    "butler = dafPersist.Butler(dataRoot, )\n",
    "dataId = dict(run='9006002', visit=4021123106002, raftName='R00', detectorName='SW1')\n",
    "butler.datasetExists('raw', dataId)\n"
   ]
  },
  {
   "cell_type": "code",
   "execution_count": 230,
   "metadata": {},
   "outputs": [],
   "source": [
    "exposure = butler.get('raw', **dataId) \n",
    "image = exposure.image.array\n"
   ]
  },
  {
   "cell_type": "code",
   "execution_count": 258,
   "metadata": {},
   "outputs": [
    {
     "data": {
      "text/plain": [
       "<matplotlib.image.AxesImage at 0x7fb1a3534ad0>"
      ]
     },
     "execution_count": 258,
     "metadata": {},
     "output_type": "execute_result"
    },
    {
     "data": {
      "image/png": "[encoded data removed]",
      "text/plain": [
       "<Figure size 360x720 with 1 Axes>"
      ]
     },
     "metadata": {
      "needs_background": "light"
     },
     "output_type": "display_data"
    }
   ],
   "source": [
    "fig,ax = plt.subplots(1,1,figsize=(5,10))\n",
    "ax.imshow(image.T, origin='lower',vmin=1000,vmax=1050)\n"
   ]
  },
  {
   "cell_type": "code",
   "execution_count": 255,
   "metadata": {},
   "outputs": [
    {
     "data": {
      "text/plain": [
       "(array([  11403.,  703326., 1696565., 1698782.,  482938., 1796870.,\n",
       "        1339198.,  872366.,  309468.,    1978.]),\n",
       " array([ 950.,  960.,  970.,  980.,  990., 1000., 1010., 1020., 1030.,\n",
       "        1040., 1050.], dtype=float32),\n",
       " <BarContainer object of 10 artists>)"
      ]
     },
     "execution_count": 255,
     "metadata": {},
     "output_type": "execute_result"
    },
    {
     "data": {
      "image/png": "[encoded data removed]",
      "text/plain": [
       "<Figure size 432x288 with 1 Axes>"
      ]
     },
     "metadata": {
      "needs_background": "light"
     },
     "output_type": "display_data"
    }
   ],
   "source": [
    "plt.hist(np.ravel(image), range=(950,1050))"
   ]
  },
  {
   "cell_type": "markdown",
   "metadata": {},
   "source": [
    "4) Updated values of position, etc. , using new focalplanelayout format,  but changing \"sensor.txt\" to \"zern\", and appending the old deformation values "
   ]
  },
  {
   "cell_type": "code",
   "execution_count": 33,
   "metadata": {},
   "outputs": [
    {
     "data": {
      "text/plain": [
       "<matplotlib.image.AxesImage at 0x7fbb015ee910>"
      ]
     },
     "execution_count": 33,
     "metadata": {},
     "output_type": "execute_result"
    },
    {
     "data": {
      "image/png": "[encoded data removed]",
      "text/plain": [
       "<Figure size 432x288 with 1 Axes>"
      ]
     },
     "metadata": {
      "needs_background": "light"
     },
     "output_type": "display_data"
    }
   ],
   "source": [
    "import astropy.io.fits as fits\n",
    "\n",
    "# R00_S22 --> R00_SW1 ,  \n",
    "# C03 --> C14 \n",
    "fname = '/project/scichris/aos/segmentation_update/corner_sensors/bitbucket_ver54/\\\n",
    "lsst_a_9006002_f1_R00_SW1_C11_E000.fits.gz'\n",
    "hdul = fits.open(fname)[0]\n",
    "\n",
    "%matplotlib inline\n",
    "import matplotlib.pyplot as plt\n",
    "plt.imshow(hdul.data, )#vmin=970,vmax=1000)\n"
   ]
  },
  {
   "cell_type": "markdown",
   "metadata": {},
   "source": [
    "5) Run the arrows/letters , repackage  and ingest,  see what happens....\n",
    "\n",
    "\n",
    "Get the arrows/letters from epyc via scp : \n",
    "\n",
    "    cd /project/scichris/aos/segmentation_update/corner_sensors/\n",
    "\n",
    "    scp suberlak@epyc.astro.washington.edu:/epyc/users/suberlak/Commissioning/aos/ts_phosim/notebooks/analysis_scripts/results_wfs/arrowStarsLetters_2020_44/iter0/pert/starIntra.inst  starArrowsLetters.inst\n",
    "    \n",
    "    \n",
    "    --> changed  SIM_VISTIME to 1.0  seconds \n",
    "    --> removed \"move\" commands (since there isn't any for the corner sensors) \n",
    "    --> added \"sunalt -90\" to keep the twilight issues at bay ... \n",
    "    \n",
    "    \n",
    "    cd /project/scichris/aos/segmentation_update/corner_sensors/arrowsLetters/\n",
    "        python /project/scichris/aos/phosim_syseng4/phosim.py /project/scichris/aos/segmentation_update/corner_sensors/starArrowsLetters.inst -i lsst -e 1 -c /project/scichris/aos/segmentation_update/corner_sensors/noBkgnd.cmd -p 25 -o /project/scichris/aos/segmentation_update/corner_sensors/arrowsLetters/ > starPhoSim.log 2>&1\n",
    "        \n",
    "        \n",
    "    # do the same for  phosim_utils - \n",
    "    # use the ticket version of the repackager .. \n",
    "    cd /project/scichris/dev/phosim_utils/\n",
    "    git checkout tickets/DM-26836\n",
    "    setup -k -r .\n",
    "\n",
    "    phosim_repackager.py /project/scichris/aos/segmentation_update/corner_sensors/arrowsLetters/ --out_dir=/project/scichris/aos/segmentation_update/corner_sensors/arrowsLetters/repackaged/\n",
    "\n",
    "    cd /project/scichris/aos/segmentation_update/corner_sensors/arrowsLetters/\n",
    "    mkdir input\n",
    "    cd input\n",
    "    echo \"lsst.obs.lsst.lsstCamMapper.LsstCamMapper\" > _mapper\n",
    "    ingestImages.py /project/scichris/aos/segmentation_update/corner_sensors/arrowsLetters/input/ /project/scichris/aos/segmentation_update/corner_sensors/arrowsLetters/repackaged/*.fits\n",
    "\n",
    "    "
   ]
  },
  {
   "cell_type": "code",
   "execution_count": 62,
   "metadata": {},
   "outputs": [
    {
     "data": {
      "text/plain": [
       "True"
      ]
     },
     "execution_count": 62,
     "metadata": {},
     "output_type": "execute_result"
    }
   ],
   "source": [
    "# show with butler what it looks like ... \n",
    "\n",
    "import os\n",
    "%matplotlib inline\n",
    "import matplotlib.pyplot as plt\n",
    "import lsst.daf.persistence as dafPersist\n",
    "dataRoot='/project/scichris/aos/segmentation_update/corner_sensors/arrowsLetters/input/'\n",
    "butler = dafPersist.Butler(dataRoot, )\n",
    "dataId = dict(run='9006002', visit=4000021706002, raftName='R00', detectorName='SW1')\n",
    "butler.datasetExists('raw', dataId)\n"
   ]
  },
  {
   "cell_type": "code",
   "execution_count": 63,
   "metadata": {},
   "outputs": [
    {
     "data": {
      "text/plain": [
       "<matplotlib.image.AxesImage at 0x7fbafe5d11d0>"
      ]
     },
     "execution_count": 63,
     "metadata": {},
     "output_type": "execute_result"
    },
    {
     "data": {
      "image/png": "[encoded data removed]",
      "text/plain": [
       "<Figure size 360x720 with 1 Axes>"
      ]
     },
     "metadata": {
      "needs_background": "light"
     },
     "output_type": "display_data"
    }
   ],
   "source": [
    "exposure = butler.get('raw', **dataId) \n",
    "image = exposure.image.array\n",
    "\n",
    "fig,ax = plt.subplots(1,1,figsize=(5,10))\n",
    "ax.imshow(image.T, origin='lower',vmin=1000,vmax=1050)\n"
   ]
  },
  {
   "cell_type": "markdown",
   "metadata": {},
   "source": [
    "this is because the repackager is now (unneccessarily) moving the channels around and transposing ... Need to change that in the repackager. "
   ]
  },
  {
   "cell_type": "markdown",
   "metadata": {},
   "source": [
    "6) Make the v5.4 installed at NCSA on `lsst-devl03` ( trying to use the latest version with the AOS pipeline...) \n",
    "    \n",
    "    ssh scichris@lsst-login01.ncsa.illinois.edu \n",
    "    ssh lsst-devl03 \n",
    "    source \"/software/lsstsw/stack3/loadLSST.bash\"\n",
    "    cd /project/scichris/aos/\n",
    "    \n",
    "    curl -OL https://bitbucket.org/phosim/phosim_release/get/v5.4.1.tar.gz\n",
    "    tar -xvf v5.4.1.tar.gz\n",
    "\n",
    "    cd phosim-phosim_release-d70c7038139c\n",
    "    ./configure\n",
    "    make\n",
    "\n",
    "\n",
    "I run into sevaral issues, even selecting manually \n",
    "\n",
    "    Please enter the path to libcfitsio.a: ${CONDA_PREFIX}/lib\n",
    "    Please enter the path to fitsio.h: ${CONDA_PREFIX}/include\n",
    "\n",
    "    Please enter the path to libfftw3.a: ${CONDA_PREFIX}/lib\n",
    "    Please enter the path to fftw3.h: ${CONDA_PREFIX}/include\n",
    "\n",
    "and adding in `source/trim/makefile` to the CFLAGS  `-I ${CONDA_PREFIX}/include` and to LFLAGS `-L ${CONDA_PREFIX}/lib` , it compiles, but it does not work when I try to run the  test example `python phosim.py examples/star -c examples/nobackground `\n",
    "\n"
   ]
  },
  {
   "cell_type": "markdown",
   "metadata": {},
   "source": [
    "7) Use the **updated focalplanelayout and segmentation**, using the (0,0) as the X,Y translations, and keeping the deformation coefficients unchanged. Change the repackager to reflect the change of the sensor names for the corner sensors.\n",
    "\n",
    "This is done easiest with \n",
    "\n",
    "    sshfs scichris@lsst-login02.ncsa.illinois.edu:/project/scichris/dev/ ~/lsstdevl/\n",
    "   \n",
    "   \n",
    "Then run the repackager (eg. on the jupyterhub terminal tab) with \n",
    "\n",
    "    cd /project/scichris/dev/phosim_utils/\n",
    "    git checkout tickets/DM-26836\n",
    "    setup -k -r .\n",
    "\n",
    "    phosim_repackager.py /project/scichris/aos/segmentation_update/corner_sensors/arrowsLetters/ --out_dir=/project/scichris/aos/segmentation_update/corner_sensors/arrowsLetters/repackaged/\n",
    "\n",
    "\n",
    "Test with  a) corner sensor arrows (works)  b) comcam arrows letters  c) full array eg. star on each sensor with Bryce's code:\n",
    "\n",
    "\n",
    "\n",
    "Get comcam arrows. I think I need to grab the `inst` and `cmd` files from `epyc` : \n",
    "\n",
    "    --> on LSP  or NCSA < ----\n",
    " \n",
    "    cd /project/scichris/aos/segmentation_update/comcam/\n",
    "    scp suberlak@epyc.astro.washington.edu:/astro/store/epyc/users/suberlak/Commissioning/aos/ts_phosim/notebooks/analysis_scripts/results_arrow/singleArrowDec/iter0/pert/starExtra.inst .\n",
    "    \n",
    "    nano starExtra.inst \n",
    "     --> changed  SIM_VISTIME to 1.0  seconds \n",
    "    \n",
    "    ( the star.cmd  contains the same as /project/scichris/aos/segmentation_update/corner_sensors/noBkgnd.cmd ) \n",
    "    \n",
    "    cp /project/scichris/aos/segmentation_update/corner_sensors/noBkgnd.cmd . \n",
    " \n",
    "   \n",
    "\n",
    "    \n",
    "    --> on NCSA  - only there  phosim works ... \n",
    "    ssh scichris@lsst-login01.ncsa.illinois.edu \n",
    "    ssh lsst-devl03 \n",
    "    source \"/software/lsstsw/stack3/loadLSST.bash\"\n",
    "\n",
    "    cd /project/scichris/aos/segmentation_update/comcam/\n",
    "        python /project/scichris/aos/phosim_syseng4/phosim.py /project/scichris/aos/segmentation_update/comcam/starExtra.inst -i lsst -e 1 -c /project/scichris/aos/segmentation_update/comcam/noBkgnd.cmd -p 25 -o /project/scichris/aos/segmentation_update/comcam/arrows/ > starPhoSim.log 2>&1\n",
    "        \n",
    "        \n",
    "        \n",
    "        "
   ]
  },
  {
   "cell_type": "markdown",
   "metadata": {},
   "source": [
    "8) if `detector.getPhysicalType` is  `E2V` I changed serialread  in `segmentation.txt` so that its `-1 -1 ` for chips 00:07  and `1 1` (unchanged) for chips 10:17. This is because there is a different direction of serial read for E2V. And phosim has everything rotated by 90 degrees which adds confusion.   For ITL its unchanged (`1 -1` for 00:07 and `1 1` for 10:17). \n",
    "\n",
    "\n",
    "Just run phosim: \n",
    "\n",
    "     --> on NCSA  - only there  phosim works ... \n",
    "    ssh scichris@lsst-login01.ncsa.illinois.edu \n",
    "    ssh lsst-devl03 \n",
    "    source \"/software/lsstsw/stack3/loadLSST.bash\"    # need that for python \n",
    "    setup lsst_distrib \n",
    "\n",
    "    cd /project/scichris/aos/segmentation_update/comcam/\n",
    "    mkdir arrowsUpdSerial\n",
    "     python /project/scichris/aos/phosim_syseng4/phosim.py /project/scichris/aos/segmentation_update/comcam/starExtra.inst -i lsst -e 1 -c /project/scichris/aos/segmentation_update/comcam/noBkgnd.cmd -p 25 -o /project/scichris/aos/segmentation_update/comcam/arrowsUpdSerial/ > starPhoSim.log 2>&1\n",
    "\n",
    "\n"
   ]
  },
  {
   "cell_type": "markdown",
   "metadata": {},
   "source": [
    "9) Apart from serial update, I also change xlo xhi ylo yhi (it was only updating the other half of the E2V chips ... )\n",
    "\n",
    " --> on NCSA  - only there  phosim works ... \n",
    " \n",
    "    ssh scichris@lsst-login01.ncsa.illinois.edu \n",
    "    ssh lsst-devl03 \n",
    "    source \"/software/lsstsw/stack3/loadLSST.bash\"    # need that for python \n",
    "    setup lsst_distrib \n",
    "\n",
    "\n",
    "    cd /project/scichris/aos/segmentation_update/comcam/\n",
    "    mkdir arrowsUpdSerial2\n",
    "    \n",
    "    python /project/scichris/aos/phosim_syseng4/phosim.py /project/scichris/aos/segmentation_update/comcam/starExtra.inst -i lsst -e 1 -c /project/scichris/aos/segmentation_update/comcam/noBkgnd.cmd -p 25 -o /project/scichris/aos/segmentation_update/comcam/arrowsUpdSerial2/ > starPhoSim.log 2>&1"
   ]
  },
  {
   "cell_type": "code",
   "execution_count": null,
   "metadata": {},
   "outputs": [],
   "source": [
    "show which "
   ]
  },
  {
   "cell_type": "markdown",
   "metadata": {},
   "source": [
    "10) Updated  read direction : from  1 -1 for SW1 chips to  1 1  , so that no up-down flips needed ...  Run phosim to see if the change works : \n",
    "    \n",
    "    \n",
    "     --> on NCSA  - only there  phosim works ... \n",
    " \n",
    "    ssh scichris@lsst-login01.ncsa.illinois.edu \n",
    "    ssh lsst-devl03 \n",
    "    source \"/software/lsstsw/stack3/loadLSST.bash\"    # need that for python \n",
    "    setup lsst_distrib \n",
    "\n",
    "    cd /project/scichris/aos/segmentation_update/corner_sensors/arrowsLettersUpd/\n",
    "        \n",
    "    python /project/scichris/aos/phosim_syseng4/phosim.py /project/scichris/aos/segmentation_update/corner_sensors/starArrowsLetters.inst -i lsst -e 1 -c /project/scichris/aos/segmentation_update/corner_sensors/noBkgnd.cmd -p 25 -o /project/scichris/aos/segmentation_update/corner_sensors/arrowsLettersUpd/ > starPhoSim.log 2>&1\n",
    "        \n",
    "        \n",
    "      "
   ]
  },
  {
   "cell_type": "markdown",
   "metadata": {},
   "source": [
    "11) Test with a main raft ITL sensor. To do that, use Bryce's code to make stars at specific locations : \n",
    "`/astro/store/epyc/users/brycek/Commissioning/aos/clean_setup/ts_wep/policy/cwfs/templateData/starExtra.inst`\n",
    "made with `/epyc/users/brycek/Commissioning/aos/ts_phosim/notebooks/analysis_notebooks/create_template_instance_catalog.ipynb`\n",
    "\n",
    "I open these on https://epyc.astro.washington.edu/jupyter/user/suberlak/lab  (some issues with branches)...\n",
    "\n",
    "Instead, I used my own code using (lsst_phosim) kernel with old phosimMapper positions `AOS_sensor_outlines_arrows.ipynb` \n",
    "\n",
    "I get the inst file with arrows  / outlines according to phosimMapper focalplanelayout (not far off if I'm just trying to test ISR) : \n",
    "\n",
    "    ( on LSP ) : \n",
    "\n",
    "    scp suberlak@epyc.astro.washington.edu:/astro/store/epyc/users/suberlak/Commissioning/aos/ts_phosim/notebooks/analysis_scripts/star.inst .\n",
    "    \n",
    "    nano star.inst \n",
    "     --> changed  SIM_VISTIME to 1.0  seconds \n",
    "     --> changed :  move 10 1500.0000  \n",
    "     --> changed mjd to 57648  , since that was the one used for \n",
    "          skySim.setObservationMetaData(raInDeg, declInDeg, rotSkyPos, mjd)\n",
    "          \n",
    "    ( on NCSA ) : \n",
    "    \n",
    "    ssh scichris@lsst-login01.ncsa.illinois.edu \n",
    "    ssh lsst-devl03 \n",
    "    source \"/software/lsstsw/stack3/loadLSST.bash\"    # need that for python \n",
    "    setup lsst_distrib \n",
    "\n",
    "    cd /project/scichris/aos/segmentation_update/famcam/\n",
    "           "
   ]
  },
  {
   "cell_type": "code",
   "execution_count": 5,
   "metadata": {},
   "outputs": [],
   "source": [
    "def _getCustomRaftsSensorNameList(rafts=['14']):\n",
    "\n",
    "    chips  = ['00','01','02',\n",
    "          '10','11','12',\n",
    "          '20','21','22']\n",
    "    sensors = []\n",
    "    for r in rafts:\n",
    "        for c in chips:\n",
    "            s = \"R%s_S%s\"%(r,c)\n",
    "            sensors.append(s)\n",
    "    sensorNameList = sensors\n",
    "    return sensorNameList\n",
    "\n",
    "def _sensorNameListToString(sensorNameList):\n",
    "    sensors  = ''\n",
    "    for sensor in sensorNameList:\n",
    "        sensors += \"%s|\"%sensor\n",
    "    return sensors\n"
   ]
  },
  {
   "cell_type": "code",
   "execution_count": null,
   "metadata": {},
   "outputs": [],
   "source": [
    "sensorNameList = _getCustomRaftsSensorNameList(['01'])\n",
    "sensorNameString= _sensorNameListToString(sensorNameList)"
   ]
  },
  {
   "cell_type": "markdown",
   "metadata": {},
   "source": [
    "12) Run  `-i comcam`  with updated segmentation.txt and focalplanelayout.txt ... See if that works! "
   ]
  },
  {
   "cell_type": "markdown",
   "metadata": {},
   "source": [
    "   --> on NCSA  - only there  phosim works ... \n",
    "    ssh scichris@lsst-login01.ncsa.illinois.edu \n",
    "    ssh lsst-devl03 \n",
    "    source \"/software/lsstsw/stack3/loadLSST.bash\"\n",
    "\n",
    "    cd /project/scichris/aos/segmentation_update/comcam/\n",
    "        python /project/scichris/aos/phosim_syseng4/phosim.py /project/scichris/aos/segmentation_update/comcam/starExtra.inst -i comcam -e 1 -c /project/scichris/aos/segmentation_update/comcam/noBkgnd.cmd -p 25 -o /project/scichris/aos/segmentation_update/comcam/arrows_DM-29264/ > starPhoSim.log 2>&1\n",
    "        \n",
    "        "
   ]
  },
  {
   "cell_type": "markdown",
   "metadata": {},
   "source": [
    "Repackage the data with an updated repackager (that can handle  `LsstComCam` when selecting `--prefix comcam` : \n",
    "\n",
    "    cd /project/scichris/aos/segmentation_update/comcam/arrows_DM-29264/\n",
    "    phosim_repackager.py /project/scichris/aos/segmentation_update/comcam/arrows_DM-29264/ --out_dir /project/scichris/aos/segmentation_update/comcam/arrows_DM-29264/repackaged/ --prefix comcam --verbose\n",
    "\n"
   ]
  },
  {
   "cell_type": "markdown",
   "metadata": {},
   "source": [
    "Try using obs_lsst header translator to see if it passes through : \n",
    "\n",
    "    translate_header.py -p lsst.obs.lsst.translators /project/scichris/aos/segmentation_update/comcam/arrows_DM-29264/repackaged/CC_H_20000217_006001_R22_S00.fits "
   ]
  },
  {
   "cell_type": "markdown",
   "metadata": {},
   "source": [
    "### Show the positions of each raft in focalplanelayout before & after the change ... "
   ]
  },
  {
   "cell_type": "code",
   "execution_count": null,
   "metadata": {},
   "outputs": [],
   "source": [
    "# read the file and split into two lists\n",
    "headerLines, contentLinesOld = readFile('/project/scichris/aos/phosim_syseng4/data/lsst/focalplanelayout_v54.txt')\n",
    "\n",
    "# read the file and split into two lists\n",
    "headerLines, contentLinesNew = readFile('/project/scichris/aos/phosim_syseng4/data/lsst/focalplanelayout_upd.txt')\n",
    "\n",
    "\n",
    "fpl_old = dict()\n",
    "for line in contentLinesOld:\n",
    "    splitline = line.split()\n",
    "    sensor = splitline[0]\n",
    "    xpos, ypos = float(splitline[1]), float(splitline[2])\n",
    "    dx,dy,dz = float(splitline[15]), float(splitline[16]), float(splitline[17])\n",
    "    \n",
    "    fpl_old[sensor] = [xpos+dx, ypos+dy]\n",
    "    \n",
    "fpl_new = dict()\n",
    "for line in contentLinesNew:\n",
    "    splitline = line.split()\n",
    "    sensor = splitline[0]\n",
    "    xpos, ypos = float(splitline[1]), float(splitline[2])\n",
    "    dx,dy,dz = float(splitline[15]), float(splitline[16]), float(splitline[17])\n",
    "    \n",
    "    fpl_new[sensor] = [xpos+dx, ypos+dx]\n",
    "    \n",
    "    \n",
    "pairs_old   = []\n",
    "for key in fpl_old.keys():\n",
    "    pairs_old.append((fpl_old[key][0], fpl_old[key][1]))\n",
    "    \n",
    "pairs_old_list = list(map(list, pairs_old))\n",
    "\n",
    "\n",
    "pairs_new   = []\n",
    "for key in fpl_new.keys():\n",
    "    pairs_new.append((fpl_new[key][0], fpl_new[key][1]))\n",
    "\n",
    "pairs_new_list = list(map(list, pairs_new))"
   ]
  },
  {
   "cell_type": "code",
   "execution_count": null,
   "metadata": {},
   "outputs": [],
   "source": []
  },
  {
   "cell_type": "markdown",
   "metadata": {},
   "source": [
    "add information about the four corners ... "
   ]
  },
  {
   "cell_type": "code",
   "execution_count": 41,
   "metadata": {},
   "outputs": [],
   "source": [
    "camera = LsstCam().getCamera()\n",
    "detectors_extent = dict()\n",
    "\n",
    "four_corners_T = {}\n",
    "for detector in camera:\n",
    "    detectors_extent[detector.getName()] = []\n",
    "    four_corners_T[detector.getName()] = []\n",
    "    bbox = detector.getBBox()\n",
    "    x0, y0 = bbox.getBegin()\n",
    "    x1, y1 = bbox.getEnd() - geom.ExtentI(1, 1)\n",
    "    \n",
    "    xc, yc = bbox.centerX, bbox.centerY\n",
    "    \n",
    "    for x, y in [(x0, y0), (x0, y1), (x1, y1), (x1, y0), (xc,yc)]:\n",
    "        xp, yp = detector.transform(geom.PointD(x, y), cameraGeom.PIXELS, cameraGeom.FOCAL_PLANE)\n",
    "        #print(f\"{detector.getName():10}  ({x:4}, {y:4}) -> ({xp:.4f}, {yp:.4f}) mm\")\n",
    "        \n",
    "        detectors_extent[detector.getName()].append([(x,y),(1000*xp,1000*yp)])\n",
    "        four_corners_T[detector.getName()].append((1000*yp, 1000*xp))"
   ]
  },
  {
   "cell_type": "code",
   "execution_count": 57,
   "metadata": {},
   "outputs": [],
   "source": [
    "fpl_diff = {}\n",
    "camera = LsstCam().getCamera()\n",
    "for sensor in fpl_old.keys():\n",
    "    newSensor = getNewSensorName(sensor)\n",
    "    dx = fpl_old[sensor][0]-fpl_new[newSensor][0]\n",
    "    dy = fpl_old[sensor][1]-fpl_new[newSensor][1]\n",
    "    fpl_diff[newSensor] = [dx,dy]\n",
    "    detector = camera.get(newSensor)\n",
    "    #print(detector.getPhysicalType(), sensor,'-->', newSensor, dx,dy)"
   ]
  },
  {
   "cell_type": "code",
   "execution_count": 58,
   "metadata": {},
   "outputs": [
    {
     "data": {
      "text/plain": [
       "dict_keys(['R00_S12', 'R00_S21', 'R00_S22_C0', 'R00_S22_C1', 'R01_S00', 'R01_S01', 'R01_S02', 'R01_S10', 'R01_S11', 'R01_S12', 'R01_S20', 'R01_S21', 'R01_S22', 'R02_S00', 'R02_S01', 'R02_S02', 'R02_S10', 'R02_S11', 'R02_S12', 'R02_S20', 'R02_S21', 'R02_S22', 'R03_S00', 'R03_S01', 'R03_S02', 'R03_S10', 'R03_S11', 'R03_S12', 'R03_S20', 'R03_S21', 'R03_S22', 'R04_S10', 'R04_S20_C0', 'R04_S20_C1', 'R04_S21', 'R10_S00', 'R10_S01', 'R10_S02', 'R10_S10', 'R10_S11', 'R10_S12', 'R10_S20', 'R10_S21', 'R10_S22', 'R11_S00', 'R11_S01', 'R11_S02', 'R11_S10', 'R11_S11', 'R11_S12', 'R11_S20', 'R11_S21', 'R11_S22', 'R12_S00', 'R12_S01', 'R12_S02', 'R12_S10', 'R12_S11', 'R12_S12', 'R12_S20', 'R12_S21', 'R12_S22', 'R13_S00', 'R13_S01', 'R13_S02', 'R13_S10', 'R13_S11', 'R13_S12', 'R13_S20', 'R13_S21', 'R13_S22', 'R14_S00', 'R14_S01', 'R14_S02', 'R14_S10', 'R14_S11', 'R14_S12', 'R14_S20', 'R14_S21', 'R14_S22', 'R20_S00', 'R20_S01', 'R20_S02', 'R20_S10', 'R20_S11', 'R20_S12', 'R20_S20', 'R20_S21', 'R20_S22', 'R21_S00', 'R21_S01', 'R21_S02', 'R21_S10', 'R21_S11', 'R21_S12', 'R21_S20', 'R21_S21', 'R21_S22', 'R22_S00', 'R22_S01', 'R22_S02', 'R22_S10', 'R22_S11', 'R22_S12', 'R22_S20', 'R22_S21', 'R22_S22', 'R23_S00', 'R23_S01', 'R23_S02', 'R23_S10', 'R23_S11', 'R23_S12', 'R23_S20', 'R23_S21', 'R23_S22', 'R24_S00', 'R24_S01', 'R24_S02', 'R24_S10', 'R24_S11', 'R24_S12', 'R24_S20', 'R24_S21', 'R24_S22', 'R30_S00', 'R30_S01', 'R30_S02', 'R30_S10', 'R30_S11', 'R30_S12', 'R30_S20', 'R30_S21', 'R30_S22', 'R31_S00', 'R31_S01', 'R31_S02', 'R31_S10', 'R31_S11', 'R31_S12', 'R31_S20', 'R31_S21', 'R31_S22', 'R32_S00', 'R32_S01', 'R32_S02', 'R32_S10', 'R32_S11', 'R32_S12', 'R32_S20', 'R32_S21', 'R32_S22', 'R33_S00', 'R33_S01', 'R33_S02', 'R33_S10', 'R33_S11', 'R33_S12', 'R33_S20', 'R33_S21', 'R33_S22', 'R34_S00', 'R34_S01', 'R34_S02', 'R34_S10', 'R34_S11', 'R34_S12', 'R34_S20', 'R34_S21', 'R34_S22', 'R40_S01', 'R40_S02_C0', 'R40_S02_C1', 'R40_S12', 'R41_S00', 'R41_S01', 'R41_S02', 'R41_S10', 'R41_S11', 'R41_S12', 'R41_S20', 'R41_S21', 'R41_S22', 'R42_S00', 'R42_S01', 'R42_S02', 'R42_S10', 'R42_S11', 'R42_S12', 'R42_S20', 'R42_S21', 'R42_S22', 'R43_S00', 'R43_S01', 'R43_S02', 'R43_S10', 'R43_S11', 'R43_S12', 'R43_S20', 'R43_S21', 'R43_S22', 'R44_S00_C0', 'R44_S00_C1', 'R44_S01', 'R44_S10'])"
      ]
     },
     "execution_count": 58,
     "metadata": {},
     "output_type": "execute_result"
    }
   ],
   "source": [
    "fpl_old.keys()"
   ]
  },
  {
   "cell_type": "code",
   "execution_count": 119,
   "metadata": {},
   "outputs": [
    {
     "data": {
      "text/plain": [
       "(-169260.00000000003, -296260.0)"
      ]
     },
     "execution_count": 119,
     "metadata": {},
     "output_type": "execute_result"
    }
   ],
   "source": [
    "detectors_extent['R01_S00'][i][1]"
   ]
  },
  {
   "cell_type": "code",
   "execution_count": 92,
   "metadata": {},
   "outputs": [],
   "source": [
    "# new names\n",
    "guide_sensors=['R00_SG0','R00_SG1','R04_SG0','R04_SG1','R40_SG0','R40_SG1','R44_SG0','R44_SG1']\n",
    "corner_sensors=['R00_SW0','R00_SW1','R04_SW0','R04_SW1','R40_SW0','R40_SW1','R44_SW0','R44_SW1']\n"
   ]
  },
  {
   "cell_type": "code",
   "execution_count": 111,
   "metadata": {},
   "outputs": [
    {
     "data": {
      "text/plain": [
       "[-254000.0, -211750.0]"
      ]
     },
     "execution_count": 111,
     "metadata": {},
     "output_type": "execute_result"
    }
   ],
   "source": [
    "fpl_old['R00_S12']"
   ]
  },
  {
   "cell_type": "code",
   "execution_count": 182,
   "metadata": {},
   "outputs": [
    {
     "data": {
      "text/plain": [
       "[-202615.0, -214240.0]"
      ]
     },
     "execution_count": 182,
     "metadata": {},
     "output_type": "execute_result"
    }
   ],
   "source": [
    "fpl_new['R00_SW0']"
   ]
  },
  {
   "cell_type": "code",
   "execution_count": 112,
   "metadata": {},
   "outputs": [
    {
     "data": {
      "text/plain": [
       "[(-192235.0, -279105.0),\n",
       " (-232225.00000000003, -279105.0),\n",
       " (-232225.0, -238395.0),\n",
       " (-192235.0, -238395.0),\n",
       " (-212230.00000000003, -258750.0)]"
      ]
     },
     "execution_count": 112,
     "metadata": {},
     "output_type": "execute_result"
    }
   ],
   "source": [
    "four_corners['R00_SG0']"
   ]
  },
  {
   "cell_type": "code",
   "execution_count": 151,
   "metadata": {},
   "outputs": [
    {
     "data": {
      "text/plain": [
       "[(-258750.0, -212230.0),\n",
       " (-212230.0, -258730.0),\n",
       " (-225885.0, -214260.0),\n",
       " (-202615.0, -214240.0)]"
      ]
     },
     "execution_count": 151,
     "metadata": {},
     "output_type": "execute_result"
    }
   ],
   "source": [
    "pairs_new[:4]\n",
    "\n",
    "\n",
    "pairs_"
   ]
  },
  {
   "cell_type": "code",
   "execution_count": 153,
   "metadata": {},
   "outputs": [
    {
     "ename": "TypeError",
     "evalue": "unsupported operand type(s) for -: 'list' and 'list'",
     "output_type": "error",
     "traceback": [
      "\u001b[0;31m---------------------------------------------------------------------------\u001b[0m",
      "\u001b[0;31mTypeError\u001b[0m                                 Traceback (most recent call last)",
      "\u001b[0;32m<ipython-input-153-4370529d9496>\u001b[0m in \u001b[0;36m<module>\u001b[0;34m\u001b[0m\n\u001b[0;32m----> 1\u001b[0;31m \u001b[0mpairs_old\u001b[0m\u001b[0;34m[\u001b[0m\u001b[0;34m:\u001b[0m\u001b[0;36m4\u001b[0m\u001b[0;34m]\u001b[0m\u001b[0;34m-\u001b[0m\u001b[0mpairs_new\u001b[0m\u001b[0;34m[\u001b[0m\u001b[0;34m:\u001b[0m\u001b[0;36m4\u001b[0m\u001b[0;34m]\u001b[0m\u001b[0;34m\u001b[0m\u001b[0;34m\u001b[0m\u001b[0m\n\u001b[0m",
      "\u001b[0;31mTypeError\u001b[0m: unsupported operand type(s) for -: 'list' and 'list'"
     ]
    }
   ],
   "source": [
    "pairs_old[:4]-pairs_new[:4]"
   ]
  },
  {
   "cell_type": "code",
   "execution_count": 51,
   "metadata": {},
   "outputs": [
    {
     "data": {
      "image/png": "[encoded data removed]",
      "text/plain": [
       "<Figure size 720x720 with 1 Axes>"
      ]
     },
     "metadata": {
      "needs_background": "light"
     },
     "output_type": "display_data"
    }
   ],
   "source": [
    "import matplotlib.pyplot as plt\n",
    "#https://stackoverflow.com/questions/17478779/make-scatter-plot-from-set-of-points-in-tuples\n",
    "fig,ax = plt.subplots(1,1,figsize=(10,10))\n",
    "plt.scatter(*zip(*pairs_old), c='blue')\n",
    "plt.scatter(*zip(*pairs_new), c='orange')\n",
    "plt.xlabel('xpos')\n",
    "plt.ylabel('ypos')\n",
    "corner_sensors_old = ['R04_S20_C0','R04_S20_C1','R44_S00_C0','R44_S00_C1',\n",
    "                 'R00_S22_C0','R00_S22_C1', 'R40_S02_C0','R40_S02_C1']\n",
    "\n",
    "\n",
    "for sensor in corner_sensors_old:\n",
    "    newSensor = getNewSensorName(sensor)\n",
    "    plt.scatter(*zip(*four_corners_T[newSensor]))"
   ]
  },
  {
   "cell_type": "code",
   "execution_count": 39,
   "metadata": {},
   "outputs": [
    {
     "ename": "KeyError",
     "evalue": "'R04_SW1'",
     "output_type": "error",
     "traceback": [
      "\u001b[0;31m---------------------------------------------------------------------------\u001b[0m",
      "\u001b[0;31mKeyError\u001b[0m                                  Traceback (most recent call last)",
      "\u001b[0;32m<ipython-input-39-e365b26b8405>\u001b[0m in \u001b[0;36m<module>\u001b[0;34m\u001b[0m\n\u001b[1;32m      4\u001b[0m \u001b[0;32mfor\u001b[0m \u001b[0msensor\u001b[0m \u001b[0;32min\u001b[0m \u001b[0mcorner_sensors_old\u001b[0m\u001b[0;34m:\u001b[0m\u001b[0;34m\u001b[0m\u001b[0;34m\u001b[0m\u001b[0m\n\u001b[1;32m      5\u001b[0m     \u001b[0mnewSensor\u001b[0m \u001b[0;34m=\u001b[0m \u001b[0mgetNewSensorName\u001b[0m\u001b[0;34m(\u001b[0m\u001b[0msensor\u001b[0m\u001b[0;34m)\u001b[0m\u001b[0;34m\u001b[0m\u001b[0;34m\u001b[0m\u001b[0m\n\u001b[0;32m----> 6\u001b[0;31m     \u001b[0mprint\u001b[0m\u001b[0;34m(\u001b[0m\u001b[0msensor\u001b[0m\u001b[0;34m,\u001b[0m \u001b[0mfpl_old\u001b[0m\u001b[0;34m[\u001b[0m\u001b[0msensor\u001b[0m\u001b[0;34m]\u001b[0m\u001b[0;34m,\u001b[0m \u001b[0mfpl_new\u001b[0m\u001b[0;34m[\u001b[0m\u001b[0mnewSensor\u001b[0m\u001b[0;34m]\u001b[0m\u001b[0;34m,\u001b[0m \u001b[0mfpl_diff\u001b[0m\u001b[0;34m[\u001b[0m\u001b[0mnewSensor\u001b[0m\u001b[0;34m]\u001b[0m\u001b[0;34m)\u001b[0m\u001b[0;34m\u001b[0m\u001b[0;34m\u001b[0m\u001b[0m\n\u001b[0m",
      "\u001b[0;31mKeyError\u001b[0m: 'R04_SW1'"
     ]
    }
   ],
   "source": [
    "corner_sensors_old = ['R04_S20_C0','R04_S20_C1','R44_S00_C0','R44_S00_C1',\n",
    "                 'R00_S22_C0','R00_S22_C1', 'R40_S02_C0','R40_S02_C1']\n",
    "\n",
    "for sensor in corner_sensors_old:\n",
    "    newSensor = getNewSensorName(sensor)\n",
    "    print(sensor, fpl_old[sensor], fpl_new[newSensor], fpl_diff[newSensor])"
   ]
  },
  {
   "cell_type": "code",
   "execution_count": 141,
   "metadata": {},
   "outputs": [
    {
     "data": {
      "text/plain": [
       "[(192235.0, 238375.0),\n",
       " (232225.00000000003, 238375.0),\n",
       " (232225.00000000003, 279085.0),\n",
       " (192235.0, 279085.0),\n",
       " (212230.00000000003, 258730.00000000003)]"
      ]
     },
     "execution_count": 141,
     "metadata": {},
     "output_type": "execute_result"
    }
   ],
   "source": [
    "R00_S22_C0: -9.974916  -0.024185\n",
    "R00_S22_C1: 10.070605  -0.016132"
   ]
  },
  {
   "cell_type": "code",
   "execution_count": 128,
   "metadata": {},
   "outputs": [],
   "source": [
    "#four_corners[guide]"
   ]
  },
  {
   "cell_type": "markdown",
   "metadata": {},
   "source": [
    "So it appears that the famcam was all shifted to the left almost uniformly... That shouldn't be the case, since we only wanted to change the position of ITL/ E2V that did not correspond ... "
   ]
  },
  {
   "cell_type": "code",
   "execution_count": 1,
   "metadata": {},
   "outputs": [],
   "source": [
    "import numpy"
   ]
  },
  {
   "cell_type": "code",
   "execution_count": 2,
   "metadata": {},
   "outputs": [
    {
     "name": "stderr",
     "output_type": "stream",
     "text": [
      "/project/scichris/dev/obs_lsst/python/lsst/obs/lsst/lsstCamMapper.py:157: FutureWarning: Replaced by FilterLabel. Will be removed after v22.\n",
      "  for n in afwImage.Filter.getNames():\n",
      "/project/scichris/dev/obs_lsst/python/lsst/obs/lsst/lsstCamMapper.py:157: FutureWarning: Replaced by FilterLabel. Will be removed after v22.\n",
      "  for n in afwImage.Filter.getNames():\n"
     ]
    }
   ],
   "source": [
    "import os\n",
    "%matplotlib inline\n",
    "import matplotlib.pyplot as plt\n",
    "import lsst.daf.persistence as dafPersist\n",
    "dataRoot='/project/scichris/aos/segmentation_update/comcam/imgCloseLoop3/input/'\n",
    "repoRoot = os.path.join(dataRoot, 'rerun/run1') \n",
    "postISRbutler = dafPersist.Butler(repoRoot, )\n",
    "dataId = dict(run='9006001', visit=4021123106001, raftName='R22', detectorName='S11')\n",
    "exposure = postISRbutler.get('postISRCCD', **dataId) \n",
    "image = exposure.image.array\n",
    "\n"
   ]
  },
  {
   "cell_type": "code",
   "execution_count": 6,
   "metadata": {},
   "outputs": [
    {
     "data": {
      "text/plain": [
       "<matplotlib.image.AxesImage at 0x7f2bb6618a90>"
      ]
     },
     "execution_count": 6,
     "metadata": {},
     "output_type": "execute_result"
    },
    {
     "data": {
      "image/png": "[encoded data removed]",
      "text/plain": [
       "<Figure size 432x288 with 1 Axes>"
      ]
     },
     "metadata": {
      "needs_background": "light"
     },
     "output_type": "display_data"
    }
   ],
   "source": [
    "plt.imshow(image, vmax=200)"
   ]
  },
  {
   "cell_type": "markdown",
   "metadata": {},
   "source": [
    "## Show the postISR image ..."
   ]
  },
  {
   "cell_type": "code",
   "execution_count": 7,
   "metadata": {},
   "outputs": [],
   "source": [
    "import os\n",
    "%matplotlib inline\n",
    "import matplotlib.pyplot as plt\n",
    "import lsst.daf.persistence as dafPersist\n",
    "dataRoot='/project/scichris/aos/results_lsstfam_noCrosstalk2/input3/'\n",
    "repoRoot = os.path.join(dataRoot, 'rerun/run1') \n",
    "postISRbutler = dafPersist.Butler(repoRoot, )\n",
    "dataId = dict(run='9006001', visit=4021123106001, raftName='R32', detectorName='S11')\n",
    "exposure = postISRbutler.get('postISRCCD', **dataId) \n",
    "image = exposure.image.array\n"
   ]
  },
  {
   "cell_type": "code",
   "execution_count": 10,
   "metadata": {},
   "outputs": [
    {
     "name": "stdout",
     "output_type": "stream",
     "text": [
      "C10 (minimum=(0, 2094), maximum=(53, 4095))\n"
     ]
    }
   ],
   "source": [
    "det = exposure.getDetector()\n",
    "amp = det[0]\n",
    "print(amp.getName(), amp.getRawHorizontalOverscanBBox())"
   ]
  },
  {
   "cell_type": "code",
   "execution_count": null,
   "metadata": {},
   "outputs": [],
   "source": [
    "plt.style.use('dark_background')"
   ]
  },
  {
   "cell_type": "code",
   "execution_count": 29,
   "metadata": {},
   "outputs": [
    {
     "data": {
      "application/vnd.jupyter.widget-view+json": {
       "model_id": "2a849bcba39e4376adc28dd466dca0e0",
       "version_major": 2,
       "version_minor": 0
      },
      "text/plain": [
       "Canvas(toolbar=Toolbar(toolitems=[('Home', 'Reset original view', 'home', 'home'), ('Back', 'Back to previous …"
      ]
     },
     "metadata": {},
     "output_type": "display_data"
    }
   ],
   "source": [
    "%matplotlib ipympl\n",
    "#plt.rcParams['figure.figsize'] = [7, 6]\n",
    "import lsst.afw.display as afwDisplay\n",
    "import lsst.afw.cameraGeom.utils as cgUtils\n",
    "afwDisplay.setDefaultBackend(\"matplotlib\")\n",
    "disp = afwDisplay.Display(2, reopenPlot=True)\n",
    "disp.setMaskPlaneColor('SAT', afwDisplay.IGNORE)\n",
    "disp.setImageColormap('gray')\n",
    "disp.scale('linear', *(['zscale'] if True else [12340, 12470]))\n",
    "\n",
    "\n",
    "disp.mtv(exposure, title=f\"{dataId}\")\n",
    "cgUtils.overlayCcdBoxes(exposure.getDetector(), isTrimmed=False, display=disp)\n",
    "disp.zoom(16, 2300, 2048)"
   ]
  },
  {
   "cell_type": "code",
   "execution_count": 50,
   "metadata": {},
   "outputs": [
    {
     "data": {
      "text/plain": [
       "\u001b[0;31mSignature:\u001b[0m\n",
       "\u001b[0mcgUtils\u001b[0m\u001b[0;34m.\u001b[0m\u001b[0mmakeImageFromCcd\u001b[0m\u001b[0;34m(\u001b[0m\u001b[0;34m\u001b[0m\n",
       "\u001b[0;34m\u001b[0m    \u001b[0mccd\u001b[0m\u001b[0;34m,\u001b[0m\u001b[0;34m\u001b[0m\n",
       "\u001b[0;34m\u001b[0m    \u001b[0misTrimmed\u001b[0m\u001b[0;34m=\u001b[0m\u001b[0;32mTrue\u001b[0m\u001b[0;34m,\u001b[0m\u001b[0;34m\u001b[0m\n",
       "\u001b[0;34m\u001b[0m    \u001b[0mshowAmpGain\u001b[0m\u001b[0;34m=\u001b[0m\u001b[0;32mTrue\u001b[0m\u001b[0;34m,\u001b[0m\u001b[0;34m\u001b[0m\n",
       "\u001b[0;34m\u001b[0m    \u001b[0mimageFactory\u001b[0m\u001b[0;34m=\u001b[0m\u001b[0;34m<\u001b[0m\u001b[0;32mclass\u001b[0m \u001b[0;34m'lsst.afw.image.image.image.ImageU'\u001b[0m\u001b[0;34m>\u001b[0m\u001b[0;34m,\u001b[0m\u001b[0;34m\u001b[0m\n",
       "\u001b[0;34m\u001b[0m    \u001b[0mrcMarkSize\u001b[0m\u001b[0;34m=\u001b[0m\u001b[0;36m10\u001b[0m\u001b[0;34m,\u001b[0m\u001b[0;34m\u001b[0m\n",
       "\u001b[0;34m\u001b[0m    \u001b[0mbinSize\u001b[0m\u001b[0;34m=\u001b[0m\u001b[0;36m1\u001b[0m\u001b[0;34m,\u001b[0m\u001b[0;34m\u001b[0m\n",
       "\u001b[0;34m\u001b[0m\u001b[0;34m)\u001b[0m\u001b[0;34m\u001b[0m\u001b[0;34m\u001b[0m\u001b[0m\n",
       "\u001b[0;31mSource:\u001b[0m   \n",
       "\u001b[0;32mdef\u001b[0m \u001b[0mmakeImageFromCcd\u001b[0m\u001b[0;34m(\u001b[0m\u001b[0mccd\u001b[0m\u001b[0;34m,\u001b[0m \u001b[0misTrimmed\u001b[0m\u001b[0;34m=\u001b[0m\u001b[0;32mTrue\u001b[0m\u001b[0;34m,\u001b[0m \u001b[0mshowAmpGain\u001b[0m\u001b[0;34m=\u001b[0m\u001b[0;32mTrue\u001b[0m\u001b[0;34m,\u001b[0m \u001b[0mimageFactory\u001b[0m\u001b[0;34m=\u001b[0m\u001b[0mafwImage\u001b[0m\u001b[0;34m.\u001b[0m\u001b[0mImageU\u001b[0m\u001b[0;34m,\u001b[0m \u001b[0mrcMarkSize\u001b[0m\u001b[0;34m=\u001b[0m\u001b[0;36m10\u001b[0m\u001b[0;34m,\u001b[0m\u001b[0;34m\u001b[0m\n",
       "\u001b[0;34m\u001b[0m                     \u001b[0mbinSize\u001b[0m\u001b[0;34m=\u001b[0m\u001b[0;36m1\u001b[0m\u001b[0;34m)\u001b[0m\u001b[0;34m:\u001b[0m\u001b[0;34m\u001b[0m\n",
       "\u001b[0;34m\u001b[0m    \u001b[0;34m\"\"\"Make an Image of a CCD.\u001b[0m\n",
       "\u001b[0;34m\u001b[0m\n",
       "\u001b[0;34m    Parameters\u001b[0m\n",
       "\u001b[0;34m    ----------\u001b[0m\n",
       "\u001b[0;34m    ccd : `lsst.afw.cameraGeom.Detector`\u001b[0m\n",
       "\u001b[0;34m        Detector to use in making the image.\u001b[0m\n",
       "\u001b[0;34m    isTrimmed : `bool`\u001b[0m\n",
       "\u001b[0;34m        Assemble a trimmed Detector image.\u001b[0m\n",
       "\u001b[0;34m    showAmpGain : `bool`\u001b[0m\n",
       "\u001b[0;34m        Use the per-amp gain to color the pixels in the image?\u001b[0m\n",
       "\u001b[0;34m    imageFactory : callable like `lsst.afw.image.Image`\u001b[0m\n",
       "\u001b[0;34m        Image type to generate.\u001b[0m\n",
       "\u001b[0;34m    rcMarkSize : `float`\u001b[0m\n",
       "\u001b[0;34m        Size of the mark to make in the amp images at the read corner.\u001b[0m\n",
       "\u001b[0;34m    binSize : `int`\u001b[0m\n",
       "\u001b[0;34m        Bin the image by this factor in both dimensions.\u001b[0m\n",
       "\u001b[0;34m\u001b[0m\n",
       "\u001b[0;34m    Returns\u001b[0m\n",
       "\u001b[0;34m    -------\u001b[0m\n",
       "\u001b[0;34m    image : `lsst.afw.image.Image`\u001b[0m\n",
       "\u001b[0;34m        Image of the Detector (type returned by ``imageFactory``).\u001b[0m\n",
       "\u001b[0;34m    \"\"\"\u001b[0m\u001b[0;34m\u001b[0m\n",
       "\u001b[0;34m\u001b[0m    \u001b[0mampImages\u001b[0m \u001b[0;34m=\u001b[0m \u001b[0;34m[\u001b[0m\u001b[0;34m]\u001b[0m\u001b[0;34m\u001b[0m\n",
       "\u001b[0;34m\u001b[0m    \u001b[0mindex\u001b[0m \u001b[0;34m=\u001b[0m \u001b[0;36m0\u001b[0m\u001b[0;34m\u001b[0m\n",
       "\u001b[0;34m\u001b[0m    \u001b[0;32mif\u001b[0m \u001b[0misTrimmed\u001b[0m\u001b[0;34m:\u001b[0m\u001b[0;34m\u001b[0m\n",
       "\u001b[0;34m\u001b[0m        \u001b[0mbbox\u001b[0m \u001b[0;34m=\u001b[0m \u001b[0mccd\u001b[0m\u001b[0;34m.\u001b[0m\u001b[0mgetBBox\u001b[0m\u001b[0;34m(\u001b[0m\u001b[0;34m)\u001b[0m\u001b[0;34m\u001b[0m\n",
       "\u001b[0;34m\u001b[0m    \u001b[0;32melse\u001b[0m\u001b[0;34m:\u001b[0m\u001b[0;34m\u001b[0m\n",
       "\u001b[0;34m\u001b[0m        \u001b[0mbbox\u001b[0m \u001b[0;34m=\u001b[0m \u001b[0mcalcRawCcdBBox\u001b[0m\u001b[0;34m(\u001b[0m\u001b[0mccd\u001b[0m\u001b[0;34m)\u001b[0m\u001b[0;34m\u001b[0m\n",
       "\u001b[0;34m\u001b[0m    \u001b[0;32mfor\u001b[0m \u001b[0mamp\u001b[0m \u001b[0;32min\u001b[0m \u001b[0mccd\u001b[0m\u001b[0;34m:\u001b[0m\u001b[0;34m\u001b[0m\n",
       "\u001b[0;34m\u001b[0m        \u001b[0;32mif\u001b[0m \u001b[0mshowAmpGain\u001b[0m\u001b[0;34m:\u001b[0m\u001b[0;34m\u001b[0m\n",
       "\u001b[0;34m\u001b[0m            \u001b[0mampImages\u001b[0m\u001b[0;34m.\u001b[0m\u001b[0mappend\u001b[0m\u001b[0;34m(\u001b[0m\u001b[0mmakeImageFromAmp\u001b[0m\u001b[0;34m(\u001b[0m\u001b[0;34m\u001b[0m\n",
       "\u001b[0;34m\u001b[0m                \u001b[0mamp\u001b[0m\u001b[0;34m,\u001b[0m \u001b[0mimageFactory\u001b[0m\u001b[0;34m=\u001b[0m\u001b[0mimageFactory\u001b[0m\u001b[0;34m,\u001b[0m \u001b[0mmarkSize\u001b[0m\u001b[0;34m=\u001b[0m\u001b[0mrcMarkSize\u001b[0m\u001b[0;34m)\u001b[0m\u001b[0;34m)\u001b[0m\u001b[0;34m\u001b[0m\n",
       "\u001b[0;34m\u001b[0m        \u001b[0;32melse\u001b[0m\u001b[0;34m:\u001b[0m\u001b[0;34m\u001b[0m\n",
       "\u001b[0;34m\u001b[0m            \u001b[0mampImages\u001b[0m\u001b[0;34m.\u001b[0m\u001b[0mappend\u001b[0m\u001b[0;34m(\u001b[0m\u001b[0mmakeImageFromAmp\u001b[0m\u001b[0;34m(\u001b[0m\u001b[0mamp\u001b[0m\u001b[0;34m,\u001b[0m \u001b[0mimValue\u001b[0m\u001b[0;34m=\u001b[0m\u001b[0;34m(\u001b[0m\u001b[0mindex\u001b[0m \u001b[0;34m+\u001b[0m \u001b[0;36m1\u001b[0m\u001b[0;34m)\u001b[0m\u001b[0;34m*\u001b[0m\u001b[0;36m1000\u001b[0m\u001b[0;34m,\u001b[0m\u001b[0;34m\u001b[0m\n",
       "\u001b[0;34m\u001b[0m                                              \u001b[0mimageFactory\u001b[0m\u001b[0;34m=\u001b[0m\u001b[0mimageFactory\u001b[0m\u001b[0;34m,\u001b[0m \u001b[0mmarkSize\u001b[0m\u001b[0;34m=\u001b[0m\u001b[0mrcMarkSize\u001b[0m\u001b[0;34m)\u001b[0m\u001b[0;34m)\u001b[0m\u001b[0;34m\u001b[0m\n",
       "\u001b[0;34m\u001b[0m        \u001b[0mindex\u001b[0m \u001b[0;34m+=\u001b[0m \u001b[0;36m1\u001b[0m\u001b[0;34m\u001b[0m\n",
       "\u001b[0;34m\u001b[0m\u001b[0;34m\u001b[0m\n",
       "\u001b[0;34m\u001b[0m    \u001b[0;32mif\u001b[0m \u001b[0mlen\u001b[0m\u001b[0;34m(\u001b[0m\u001b[0mampImages\u001b[0m\u001b[0;34m)\u001b[0m \u001b[0;34m>\u001b[0m \u001b[0;36m0\u001b[0m\u001b[0;34m:\u001b[0m\u001b[0;34m\u001b[0m\n",
       "\u001b[0;34m\u001b[0m        \u001b[0mccdImage\u001b[0m \u001b[0;34m=\u001b[0m \u001b[0mimageFactory\u001b[0m\u001b[0;34m(\u001b[0m\u001b[0mbbox\u001b[0m\u001b[0;34m)\u001b[0m\u001b[0;34m\u001b[0m\n",
       "\u001b[0;34m\u001b[0m        \u001b[0;32mfor\u001b[0m \u001b[0mampImage\u001b[0m\u001b[0;34m,\u001b[0m \u001b[0mamp\u001b[0m \u001b[0;32min\u001b[0m \u001b[0mzip\u001b[0m\u001b[0;34m(\u001b[0m\u001b[0mampImages\u001b[0m\u001b[0;34m,\u001b[0m \u001b[0mccd\u001b[0m\u001b[0;34m)\u001b[0m\u001b[0;34m:\u001b[0m\u001b[0;34m\u001b[0m\n",
       "\u001b[0;34m\u001b[0m            \u001b[0;32mif\u001b[0m \u001b[0misTrimmed\u001b[0m\u001b[0;34m:\u001b[0m\u001b[0;34m\u001b[0m\n",
       "\u001b[0;34m\u001b[0m                \u001b[0massembleAmplifierImage\u001b[0m\u001b[0;34m(\u001b[0m\u001b[0mccdImage\u001b[0m\u001b[0;34m,\u001b[0m \u001b[0mampImage\u001b[0m\u001b[0;34m,\u001b[0m \u001b[0mamp\u001b[0m\u001b[0;34m)\u001b[0m\u001b[0;34m\u001b[0m\n",
       "\u001b[0;34m\u001b[0m            \u001b[0;32melse\u001b[0m\u001b[0;34m:\u001b[0m\u001b[0;34m\u001b[0m\n",
       "\u001b[0;34m\u001b[0m                \u001b[0massembleAmplifierRawImage\u001b[0m\u001b[0;34m(\u001b[0m\u001b[0mccdImage\u001b[0m\u001b[0;34m,\u001b[0m \u001b[0mampImage\u001b[0m\u001b[0;34m,\u001b[0m \u001b[0mamp\u001b[0m\u001b[0;34m)\u001b[0m\u001b[0;34m\u001b[0m\n",
       "\u001b[0;34m\u001b[0m    \u001b[0;32melse\u001b[0m\u001b[0;34m:\u001b[0m\u001b[0;34m\u001b[0m\n",
       "\u001b[0;34m\u001b[0m        \u001b[0;32mif\u001b[0m \u001b[0;32mnot\u001b[0m \u001b[0misTrimmed\u001b[0m\u001b[0;34m:\u001b[0m\u001b[0;34m\u001b[0m\n",
       "\u001b[0;34m\u001b[0m            \u001b[0;32mraise\u001b[0m \u001b[0mRuntimeError\u001b[0m\u001b[0;34m(\u001b[0m\u001b[0;34m\u001b[0m\n",
       "\u001b[0;34m\u001b[0m                \u001b[0;34m\"Cannot create untrimmed CCD without amps with raw information\"\u001b[0m\u001b[0;34m)\u001b[0m\u001b[0;34m\u001b[0m\n",
       "\u001b[0;34m\u001b[0m        \u001b[0mccdImage\u001b[0m \u001b[0;34m=\u001b[0m \u001b[0mimageFactory\u001b[0m\u001b[0;34m(\u001b[0m\u001b[0mccd\u001b[0m\u001b[0;34m.\u001b[0m\u001b[0mgetBBox\u001b[0m\u001b[0;34m(\u001b[0m\u001b[0;34m)\u001b[0m\u001b[0;34m)\u001b[0m\u001b[0;34m\u001b[0m\n",
       "\u001b[0;34m\u001b[0m    \u001b[0mccdImage\u001b[0m \u001b[0;34m=\u001b[0m \u001b[0mafwMath\u001b[0m\u001b[0;34m.\u001b[0m\u001b[0mbinImage\u001b[0m\u001b[0;34m(\u001b[0m\u001b[0mccdImage\u001b[0m\u001b[0;34m,\u001b[0m \u001b[0mbinSize\u001b[0m\u001b[0;34m)\u001b[0m\u001b[0;34m\u001b[0m\n",
       "\u001b[0;34m\u001b[0m    \u001b[0;32mreturn\u001b[0m \u001b[0mccdImage\u001b[0m\u001b[0;34m\u001b[0m\u001b[0;34m\u001b[0m\u001b[0m\n",
       "\u001b[0;31mFile:\u001b[0m      /opt/lsst/software/stack/stack/miniconda3-py37_4.8.2-cb4e2dc/Linux64/afw/21.0.0-7-g484459ba0+d6ece73efd/python/lsst/afw/cameraGeom/utils.py\n",
       "\u001b[0;31mType:\u001b[0m      function\n"
      ]
     },
     "metadata": {},
     "output_type": "display_data"
    }
   ],
   "source": [
    "cgUtils.makeImageFromCcd??"
   ]
  },
  {
   "cell_type": "code",
   "execution_count": 55,
   "metadata": {},
   "outputs": [
    {
     "data": {
      "text/plain": [
       "\u001b[0;31mSignature:\u001b[0m \u001b[0mcgUtils\u001b[0m\u001b[0;34m.\u001b[0m\u001b[0massembleAmplifierImage\u001b[0m\u001b[0;34m(\u001b[0m\u001b[0mdestImage\u001b[0m\u001b[0;34m,\u001b[0m \u001b[0mrawImage\u001b[0m\u001b[0;34m,\u001b[0m \u001b[0mamplifier\u001b[0m\u001b[0;34m)\u001b[0m\u001b[0;34m\u001b[0m\u001b[0;34m\u001b[0m\u001b[0m\n",
       "\u001b[0;31mDocstring:\u001b[0m\n",
       "Assemble the amplifier region of an image from a raw image.\n",
       "\n",
       "Parameters\n",
       "----------\n",
       "destImage : `lsst.afw.image.Image` or `lsst.afw.image.MaskedImage`\n",
       "    Assembled image; the region amplifier.getBBox() is overwritten with\n",
       "    the assembled amplifier image.\n",
       "rawImage : `lsst.afw.image.Image` or `lsst.afw.image.MaskedImage`\n",
       "    Raw image (same type as destImage).\n",
       "amplifier : `lsst.afw.cameraGeom.Amplifier`\n",
       "    Amplifier geometry, with raw amplifier info.\n",
       "\n",
       "Raises\n",
       "------\n",
       "RuntimeError\n",
       "    Raised if image types do not match or amplifier has no raw amplifier info.\n",
       "\u001b[0;31mFile:\u001b[0m      /opt/lsst/software/stack/stack/miniconda3-py37_4.8.2-cb4e2dc/Linux64/afw/21.0.0-7-g484459ba0+d6ece73efd/python/lsst/afw/cameraGeom/assembleImage.py\n",
       "\u001b[0;31mType:\u001b[0m      function\n"
      ]
     },
     "metadata": {},
     "output_type": "display_data"
    }
   ],
   "source": [
    "cgUtils.assembleAmplifierImage?"
   ]
  },
  {
   "cell_type": "code",
   "execution_count": 53,
   "metadata": {},
   "outputs": [
    {
     "data": {
      "text/plain": [
       "\u001b[0;31mSignature:\u001b[0m\n",
       "\u001b[0mcgUtils\u001b[0m\u001b[0;34m.\u001b[0m\u001b[0mmakeImageFromCcd\u001b[0m\u001b[0;34m(\u001b[0m\u001b[0;34m\u001b[0m\n",
       "\u001b[0;34m\u001b[0m    \u001b[0mccd\u001b[0m\u001b[0;34m,\u001b[0m\u001b[0;34m\u001b[0m\n",
       "\u001b[0;34m\u001b[0m    \u001b[0misTrimmed\u001b[0m\u001b[0;34m=\u001b[0m\u001b[0;32mTrue\u001b[0m\u001b[0;34m,\u001b[0m\u001b[0;34m\u001b[0m\n",
       "\u001b[0;34m\u001b[0m    \u001b[0mshowAmpGain\u001b[0m\u001b[0;34m=\u001b[0m\u001b[0;32mTrue\u001b[0m\u001b[0;34m,\u001b[0m\u001b[0;34m\u001b[0m\n",
       "\u001b[0;34m\u001b[0m    \u001b[0mimageFactory\u001b[0m\u001b[0;34m=\u001b[0m\u001b[0;34m<\u001b[0m\u001b[0;32mclass\u001b[0m \u001b[0;34m'lsst.afw.image.image.image.ImageU'\u001b[0m\u001b[0;34m>\u001b[0m\u001b[0;34m,\u001b[0m\u001b[0;34m\u001b[0m\n",
       "\u001b[0;34m\u001b[0m    \u001b[0mrcMarkSize\u001b[0m\u001b[0;34m=\u001b[0m\u001b[0;36m10\u001b[0m\u001b[0;34m,\u001b[0m\u001b[0;34m\u001b[0m\n",
       "\u001b[0;34m\u001b[0m    \u001b[0mbinSize\u001b[0m\u001b[0;34m=\u001b[0m\u001b[0;36m1\u001b[0m\u001b[0;34m,\u001b[0m\u001b[0;34m\u001b[0m\n",
       "\u001b[0;34m\u001b[0m\u001b[0;34m)\u001b[0m\u001b[0;34m\u001b[0m\u001b[0;34m\u001b[0m\u001b[0m\n",
       "\u001b[0;31mSource:\u001b[0m   \n",
       "\u001b[0;32mdef\u001b[0m \u001b[0mmakeImageFromCcd\u001b[0m\u001b[0;34m(\u001b[0m\u001b[0mccd\u001b[0m\u001b[0;34m,\u001b[0m \u001b[0misTrimmed\u001b[0m\u001b[0;34m=\u001b[0m\u001b[0;32mTrue\u001b[0m\u001b[0;34m,\u001b[0m \u001b[0mshowAmpGain\u001b[0m\u001b[0;34m=\u001b[0m\u001b[0;32mTrue\u001b[0m\u001b[0;34m,\u001b[0m \u001b[0mimageFactory\u001b[0m\u001b[0;34m=\u001b[0m\u001b[0mafwImage\u001b[0m\u001b[0;34m.\u001b[0m\u001b[0mImageU\u001b[0m\u001b[0;34m,\u001b[0m \u001b[0mrcMarkSize\u001b[0m\u001b[0;34m=\u001b[0m\u001b[0;36m10\u001b[0m\u001b[0;34m,\u001b[0m\u001b[0;34m\u001b[0m\n",
       "\u001b[0;34m\u001b[0m                     \u001b[0mbinSize\u001b[0m\u001b[0;34m=\u001b[0m\u001b[0;36m1\u001b[0m\u001b[0;34m)\u001b[0m\u001b[0;34m:\u001b[0m\u001b[0;34m\u001b[0m\n",
       "\u001b[0;34m\u001b[0m    \u001b[0;34m\"\"\"Make an Image of a CCD.\u001b[0m\n",
       "\u001b[0;34m\u001b[0m\n",
       "\u001b[0;34m    Parameters\u001b[0m\n",
       "\u001b[0;34m    ----------\u001b[0m\n",
       "\u001b[0;34m    ccd : `lsst.afw.cameraGeom.Detector`\u001b[0m\n",
       "\u001b[0;34m        Detector to use in making the image.\u001b[0m\n",
       "\u001b[0;34m    isTrimmed : `bool`\u001b[0m\n",
       "\u001b[0;34m        Assemble a trimmed Detector image.\u001b[0m\n",
       "\u001b[0;34m    showAmpGain : `bool`\u001b[0m\n",
       "\u001b[0;34m        Use the per-amp gain to color the pixels in the image?\u001b[0m\n",
       "\u001b[0;34m    imageFactory : callable like `lsst.afw.image.Image`\u001b[0m\n",
       "\u001b[0;34m        Image type to generate.\u001b[0m\n",
       "\u001b[0;34m    rcMarkSize : `float`\u001b[0m\n",
       "\u001b[0;34m        Size of the mark to make in the amp images at the read corner.\u001b[0m\n",
       "\u001b[0;34m    binSize : `int`\u001b[0m\n",
       "\u001b[0;34m        Bin the image by this factor in both dimensions.\u001b[0m\n",
       "\u001b[0;34m\u001b[0m\n",
       "\u001b[0;34m    Returns\u001b[0m\n",
       "\u001b[0;34m    -------\u001b[0m\n",
       "\u001b[0;34m    image : `lsst.afw.image.Image`\u001b[0m\n",
       "\u001b[0;34m        Image of the Detector (type returned by ``imageFactory``).\u001b[0m\n",
       "\u001b[0;34m    \"\"\"\u001b[0m\u001b[0;34m\u001b[0m\n",
       "\u001b[0;34m\u001b[0m    \u001b[0mampImages\u001b[0m \u001b[0;34m=\u001b[0m \u001b[0;34m[\u001b[0m\u001b[0;34m]\u001b[0m\u001b[0;34m\u001b[0m\n",
       "\u001b[0;34m\u001b[0m    \u001b[0mindex\u001b[0m \u001b[0;34m=\u001b[0m \u001b[0;36m0\u001b[0m\u001b[0;34m\u001b[0m\n",
       "\u001b[0;34m\u001b[0m    \u001b[0;32mif\u001b[0m \u001b[0misTrimmed\u001b[0m\u001b[0;34m:\u001b[0m\u001b[0;34m\u001b[0m\n",
       "\u001b[0;34m\u001b[0m        \u001b[0mbbox\u001b[0m \u001b[0;34m=\u001b[0m \u001b[0mccd\u001b[0m\u001b[0;34m.\u001b[0m\u001b[0mgetBBox\u001b[0m\u001b[0;34m(\u001b[0m\u001b[0;34m)\u001b[0m\u001b[0;34m\u001b[0m\n",
       "\u001b[0;34m\u001b[0m    \u001b[0;32melse\u001b[0m\u001b[0;34m:\u001b[0m\u001b[0;34m\u001b[0m\n",
       "\u001b[0;34m\u001b[0m        \u001b[0mbbox\u001b[0m \u001b[0;34m=\u001b[0m \u001b[0mcalcRawCcdBBox\u001b[0m\u001b[0;34m(\u001b[0m\u001b[0mccd\u001b[0m\u001b[0;34m)\u001b[0m\u001b[0;34m\u001b[0m\n",
       "\u001b[0;34m\u001b[0m    \u001b[0;32mfor\u001b[0m \u001b[0mamp\u001b[0m \u001b[0;32min\u001b[0m \u001b[0mccd\u001b[0m\u001b[0;34m:\u001b[0m\u001b[0;34m\u001b[0m\n",
       "\u001b[0;34m\u001b[0m        \u001b[0;32mif\u001b[0m \u001b[0mshowAmpGain\u001b[0m\u001b[0;34m:\u001b[0m\u001b[0;34m\u001b[0m\n",
       "\u001b[0;34m\u001b[0m            \u001b[0mampImages\u001b[0m\u001b[0;34m.\u001b[0m\u001b[0mappend\u001b[0m\u001b[0;34m(\u001b[0m\u001b[0mmakeImageFromAmp\u001b[0m\u001b[0;34m(\u001b[0m\u001b[0;34m\u001b[0m\n",
       "\u001b[0;34m\u001b[0m                \u001b[0mamp\u001b[0m\u001b[0;34m,\u001b[0m \u001b[0mimageFactory\u001b[0m\u001b[0;34m=\u001b[0m\u001b[0mimageFactory\u001b[0m\u001b[0;34m,\u001b[0m \u001b[0mmarkSize\u001b[0m\u001b[0;34m=\u001b[0m\u001b[0mrcMarkSize\u001b[0m\u001b[0;34m)\u001b[0m\u001b[0;34m)\u001b[0m\u001b[0;34m\u001b[0m\n",
       "\u001b[0;34m\u001b[0m        \u001b[0;32melse\u001b[0m\u001b[0;34m:\u001b[0m\u001b[0;34m\u001b[0m\n",
       "\u001b[0;34m\u001b[0m            \u001b[0mampImages\u001b[0m\u001b[0;34m.\u001b[0m\u001b[0mappend\u001b[0m\u001b[0;34m(\u001b[0m\u001b[0mmakeImageFromAmp\u001b[0m\u001b[0;34m(\u001b[0m\u001b[0mamp\u001b[0m\u001b[0;34m,\u001b[0m \u001b[0mimValue\u001b[0m\u001b[0;34m=\u001b[0m\u001b[0;34m(\u001b[0m\u001b[0mindex\u001b[0m \u001b[0;34m+\u001b[0m \u001b[0;36m1\u001b[0m\u001b[0;34m)\u001b[0m\u001b[0;34m*\u001b[0m\u001b[0;36m1000\u001b[0m\u001b[0;34m,\u001b[0m\u001b[0;34m\u001b[0m\n",
       "\u001b[0;34m\u001b[0m                                              \u001b[0mimageFactory\u001b[0m\u001b[0;34m=\u001b[0m\u001b[0mimageFactory\u001b[0m\u001b[0;34m,\u001b[0m \u001b[0mmarkSize\u001b[0m\u001b[0;34m=\u001b[0m\u001b[0mrcMarkSize\u001b[0m\u001b[0;34m)\u001b[0m\u001b[0;34m)\u001b[0m\u001b[0;34m\u001b[0m\n",
       "\u001b[0;34m\u001b[0m        \u001b[0mindex\u001b[0m \u001b[0;34m+=\u001b[0m \u001b[0;36m1\u001b[0m\u001b[0;34m\u001b[0m\n",
       "\u001b[0;34m\u001b[0m\u001b[0;34m\u001b[0m\n",
       "\u001b[0;34m\u001b[0m    \u001b[0;32mif\u001b[0m \u001b[0mlen\u001b[0m\u001b[0;34m(\u001b[0m\u001b[0mampImages\u001b[0m\u001b[0;34m)\u001b[0m \u001b[0;34m>\u001b[0m \u001b[0;36m0\u001b[0m\u001b[0;34m:\u001b[0m\u001b[0;34m\u001b[0m\n",
       "\u001b[0;34m\u001b[0m        \u001b[0mccdImage\u001b[0m \u001b[0;34m=\u001b[0m \u001b[0mimageFactory\u001b[0m\u001b[0;34m(\u001b[0m\u001b[0mbbox\u001b[0m\u001b[0;34m)\u001b[0m\u001b[0;34m\u001b[0m\n",
       "\u001b[0;34m\u001b[0m        \u001b[0;32mfor\u001b[0m \u001b[0mampImage\u001b[0m\u001b[0;34m,\u001b[0m \u001b[0mamp\u001b[0m \u001b[0;32min\u001b[0m \u001b[0mzip\u001b[0m\u001b[0;34m(\u001b[0m\u001b[0mampImages\u001b[0m\u001b[0;34m,\u001b[0m \u001b[0mccd\u001b[0m\u001b[0;34m)\u001b[0m\u001b[0;34m:\u001b[0m\u001b[0;34m\u001b[0m\n",
       "\u001b[0;34m\u001b[0m            \u001b[0;32mif\u001b[0m \u001b[0misTrimmed\u001b[0m\u001b[0;34m:\u001b[0m\u001b[0;34m\u001b[0m\n",
       "\u001b[0;34m\u001b[0m                \u001b[0massembleAmplifierImage\u001b[0m\u001b[0;34m(\u001b[0m\u001b[0mccdImage\u001b[0m\u001b[0;34m,\u001b[0m \u001b[0mampImage\u001b[0m\u001b[0;34m,\u001b[0m \u001b[0mamp\u001b[0m\u001b[0;34m)\u001b[0m\u001b[0;34m\u001b[0m\n",
       "\u001b[0;34m\u001b[0m            \u001b[0;32melse\u001b[0m\u001b[0;34m:\u001b[0m\u001b[0;34m\u001b[0m\n",
       "\u001b[0;34m\u001b[0m                \u001b[0massembleAmplifierRawImage\u001b[0m\u001b[0;34m(\u001b[0m\u001b[0mccdImage\u001b[0m\u001b[0;34m,\u001b[0m \u001b[0mampImage\u001b[0m\u001b[0;34m,\u001b[0m \u001b[0mamp\u001b[0m\u001b[0;34m)\u001b[0m\u001b[0;34m\u001b[0m\n",
       "\u001b[0;34m\u001b[0m    \u001b[0;32melse\u001b[0m\u001b[0;34m:\u001b[0m\u001b[0;34m\u001b[0m\n",
       "\u001b[0;34m\u001b[0m        \u001b[0;32mif\u001b[0m \u001b[0;32mnot\u001b[0m \u001b[0misTrimmed\u001b[0m\u001b[0;34m:\u001b[0m\u001b[0;34m\u001b[0m\n",
       "\u001b[0;34m\u001b[0m            \u001b[0;32mraise\u001b[0m \u001b[0mRuntimeError\u001b[0m\u001b[0;34m(\u001b[0m\u001b[0;34m\u001b[0m\n",
       "\u001b[0;34m\u001b[0m                \u001b[0;34m\"Cannot create untrimmed CCD without amps with raw information\"\u001b[0m\u001b[0;34m)\u001b[0m\u001b[0;34m\u001b[0m\n",
       "\u001b[0;34m\u001b[0m        \u001b[0mccdImage\u001b[0m \u001b[0;34m=\u001b[0m \u001b[0mimageFactory\u001b[0m\u001b[0;34m(\u001b[0m\u001b[0mccd\u001b[0m\u001b[0;34m.\u001b[0m\u001b[0mgetBBox\u001b[0m\u001b[0;34m(\u001b[0m\u001b[0;34m)\u001b[0m\u001b[0;34m)\u001b[0m\u001b[0;34m\u001b[0m\n",
       "\u001b[0;34m\u001b[0m    \u001b[0mccdImage\u001b[0m \u001b[0;34m=\u001b[0m \u001b[0mafwMath\u001b[0m\u001b[0;34m.\u001b[0m\u001b[0mbinImage\u001b[0m\u001b[0;34m(\u001b[0m\u001b[0mccdImage\u001b[0m\u001b[0;34m,\u001b[0m \u001b[0mbinSize\u001b[0m\u001b[0;34m)\u001b[0m\u001b[0;34m\u001b[0m\n",
       "\u001b[0;34m\u001b[0m    \u001b[0;32mreturn\u001b[0m \u001b[0mccdImage\u001b[0m\u001b[0;34m\u001b[0m\u001b[0;34m\u001b[0m\u001b[0m\n",
       "\u001b[0;31mFile:\u001b[0m      /opt/lsst/software/stack/stack/miniconda3-py37_4.8.2-cb4e2dc/Linux64/afw/21.0.0-7-g484459ba0+d6ece73efd/python/lsst/afw/cameraGeom/utils.py\n",
       "\u001b[0;31mType:\u001b[0m      function\n"
      ]
     },
     "metadata": {},
     "output_type": "display_data"
    }
   ],
   "source": [
    "image = cgUtils.makeImageFromCcd??\n"
   ]
  },
  {
   "cell_type": "code",
   "execution_count": null,
   "metadata": {},
   "outputs": [],
   "source": [
    "image = cgUtils.makeImageFromCcd"
   ]
  },
  {
   "cell_type": "code",
   "execution_count": null,
   "metadata": {},
   "outputs": [],
   "source": [
    "image = cgUtils.makeImageFromCcd"
   ]
  },
  {
   "cell_type": "code",
   "execution_count": null,
   "metadata": {},
   "outputs": [],
   "source": []
  },
  {
   "cell_type": "code",
   "execution_count": 51,
   "metadata": {},
   "outputs": [
    {
     "data": {
      "text/plain": [
       "<matplotlib.image.AxesImage at 0x7f6e89433610>"
      ]
     },
     "execution_count": 51,
     "metadata": {},
     "output_type": "execute_result"
    },
    {
     "data": {
      "image/png": "[encoded data removed]",
      "text/plain": [
       "<Figure size 432x288 with 1 Axes>"
      ]
     },
     "metadata": {
      "needs_background": "dark"
     },
     "output_type": "display_data"
    }
   ],
   "source": [
    "%matplotlib inline\n",
    "plt.imshow(image, vmax=1500)"
   ]
  },
  {
   "cell_type": "markdown",
   "metadata": {},
   "source": [
    "    Notes\n",
    "    -----\n",
    "    The colours are:\n",
    "    - Entire detector        GREEN\n",
    "    - All data for amp       GREEN\n",
    "    - HorizontalPrescan      YELLOW\n",
    "    - HorizontalOverscan     RED\n",
    "    - Data                   BLUE\n",
    "    - VerticalOverscan       MAGENTA\n",
    "    - VerticalOverscan       MAGENTA"
   ]
  },
  {
   "cell_type": "code",
   "execution_count": null,
   "metadata": {},
   "outputs": [],
   "source": []
  }
 ],
 "metadata": {
  "kernelspec": {
   "display_name": "LSST",
   "language": "python",
   "name": "lsst"
  },
  "language_info": {
   "codemirror_mode": {
    "name": "ipython",
    "version": 3
   },
   "file_extension": ".py",
   "mimetype": "text/x-python",
   "name": "python",
   "nbconvert_exporter": "python",
   "pygments_lexer": "ipython3",
   "version": "3.8.8"
  }
 },
 "nbformat": 4,
 "nbformat_minor": 4
}
