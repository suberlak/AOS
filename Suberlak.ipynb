{
 "cells": [
  {
   "cell_type": "code",
   "execution_count": 1,
   "id": "fc139e9f",
   "metadata": {},
   "outputs": [],
   "source": [
    "import os\n",
    "\n",
    "import lsst.daf.butler as dafButler\n",
    "import lsst.afw.display as afwDisplay\n",
    "\n",
    "%matplotlib ipympl\n",
    "import matplotlib.pyplot as plt\n",
    "\n",
    "plt.rcParams['figure.figsize'] = (12, 10)"
   ]
  },
  {
   "cell_type": "code",
   "execution_count": 2,
   "id": "722c04a1",
   "metadata": {},
   "outputs": [],
   "source": [
    "afwDisplay.setDefaultBackend(\"matplotlib\")\n",
    "\n",
    "repo_dir = os.path.join('/project/scichris/aos/images/comCam/letter/DATA/')\n",
    "# need to specify the calib collections to be able to access the camera \n",
    "instrument = 'LSSTComCam'\n",
    "butler = dafButler.Butler(repo_dir, collections=[f'{instrument}/raw/all',\n",
    "                                                 f'{instrument}/calib','run1',\n",
    "                                                 f'{instrument}/calib/unbounded']\n",
    "                         )"
   ]
  },
  {
   "cell_type": "code",
   "execution_count": 4,
   "id": "3c7c7dc9",
   "metadata": {},
   "outputs": [],
   "source": [
    "dataId = dict(detector='R22_S00', exposure=4016091606002)\n",
    "exp = butler.get('postISRCCD', dataId)"
   ]
  },
  {
   "cell_type": "code",
   "execution_count": 5,
   "id": "d2b62c2e",
   "metadata": {},
   "outputs": [
    {
     "data": {
      "application/vnd.jupyter.widget-view+json": {
       "model_id": "d92044fcb2fa4ffbb2e74791cafe02fa",
       "version_major": 2,
       "version_minor": 0
      },
      "text/plain": [
       "Canvas(toolbar=Toolbar(toolitems=[('Home', 'Reset original view', 'home', 'home'), ('Back', 'Back to previous …"
      ]
     },
     "metadata": {},
     "output_type": "display_data"
    }
   ],
   "source": [
    "fig = 1\n",
    "if True:\n",
    "    plt.close(fig); fig = plt.figure(fig)\n",
    "    disp = afwDisplay.Display(fig)\n",
    "    plt.sca(fig.gca())\n",
    "\n",
    "else:\n",
    "    disp = afwDisplay.Display(fig, reopenPlot=True)\n",
    "    plt.sca(fig)\n",
    "\n",
    "disp.setImageColormap('gray' if True else 'viridis')\n",
    "disp.scale('linear', 'zscale')\n",
    "\n",
    "det = exp.getDetector()\n",
    "disp.mtv(exp, title=f'LsstComCam, {det.getName()} ({det.getPhysicalType()})')\n",
    "\n",
    "plt.xlabel('x [px]')\n",
    "plt.ylabel('y [px]');"
   ]
  },
  {
   "cell_type": "code",
   "execution_count": null,
   "id": "c7514e18",
   "metadata": {},
   "outputs": [],
   "source": []
  }
 ],
 "metadata": {
  "kernelspec": {
   "display_name": "LSST",
   "language": "python",
   "name": "lsst"
  },
  "language_info": {
   "codemirror_mode": {
    "name": "ipython",
    "version": 3
   },
   "file_extension": ".py",
   "mimetype": "text/x-python",
   "name": "python",
   "nbconvert_exporter": "python",
   "pygments_lexer": "ipython3",
   "version": "3.8.8"
  }
 },
 "nbformat": 4,
 "nbformat_minor": 5
}
