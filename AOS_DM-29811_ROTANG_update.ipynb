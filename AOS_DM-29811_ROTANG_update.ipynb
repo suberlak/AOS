{
 "cells": [
  {
   "cell_type": "markdown",
   "id": "c5bcbefe",
   "metadata": {},
   "source": [
    "# AOS_DM-29811  update ROTANG in ts_wep test files "
   ]
  },
  {
   "cell_type": "markdown",
   "id": "f93850a7",
   "metadata": {},
   "source": [
    "I think these files need to be re-created , since they were made with the bug in `comcam/segmentation.txt`... \n",
    "\n",
    "Test their header content:"
   ]
  },
  {
   "cell_type": "code",
   "execution_count": 9,
   "id": "df603fe5",
   "metadata": {},
   "outputs": [
    {
     "name": "stdout",
     "output_type": "stream",
     "text": [
      "['AMPID: C10', 'GAIN: 1.11531', 'BIAS: 1000.8', 'ROTANG: 0.0']\n",
      "['AMPID: C11', 'GAIN: 1.12227', 'BIAS: 1044.94', 'ROTANG: 0.0']\n",
      "['AMPID: C12', 'GAIN: 1.14053', 'BIAS: 1031.69', 'ROTANG: 0.0']\n",
      "['AMPID: C13', 'GAIN: 1.16278', 'BIAS: 1036.65', 'ROTANG: 0.0']\n",
      "['AMPID: C14', 'GAIN: 1.16361', 'BIAS: 1030.36', 'ROTANG: 0.0']\n",
      "['AMPID: C15', 'GAIN: 1.18769', 'BIAS: 992.125', 'ROTANG: 0.0']\n",
      "['AMPID: C16', 'GAIN: 1.16909', 'BIAS: 983.392', 'ROTANG: 0.0']\n",
      "['AMPID: C17', 'GAIN: 1.15185', 'BIAS: 986.993', 'ROTANG: 0.0']\n",
      "['AMPID: C07', 'GAIN: 1.12377', 'BIAS: 973.994', 'ROTANG: 0.0']\n",
      "['AMPID: C06', 'GAIN: 1.12231', 'BIAS: 975.66', 'ROTANG: 0.0']\n",
      "['AMPID: C05', 'GAIN: 1.12907', 'BIAS: 997.593', 'ROTANG: 0.0']\n",
      "['AMPID: C04', 'GAIN: 1.13058', 'BIAS: 1047.91', 'ROTANG: 0.0']\n",
      "['AMPID: C03', 'GAIN: 1.13623', 'BIAS: 970.172', 'ROTANG: 0.0']\n",
      "['AMPID: C02', 'GAIN: 1.13295', 'BIAS: 968.795', 'ROTANG: 0.0']\n",
      "['AMPID: C01', 'GAIN: 1.15074', 'BIAS: 960.55', 'ROTANG: 0.0']\n",
      "['AMPID: C00', 'GAIN: 1.14892', 'BIAS: 1010.12', 'ROTANG: 0.0']\n"
     ]
    }
   ],
   "source": [
    "from lsst.ts.wep.Utility import getModulePath, runProgram\n",
    "from astropy.io import fits\n",
    "import os \n",
    "\n",
    "testDir = os.path.join(getModulePath(), \"tests\")\n",
    "\n",
    "imgFiles = os.path.join(\n",
    "    getModulePath(),\n",
    "    \"tests\",\n",
    "    \"testData\",\n",
    "    \"phosimOutput\",\n",
    "    \"realComCam\",\n",
    "    \"repackagedFiles\",\n",
    "    \"intra\",\n",
    "    \"MC_H_20211231_006002_R22_S10.fits\",\n",
    ")\n",
    "\n",
    "hdul = fits.open(imgFiles)\n",
    "\n",
    "for i in range(1,len(hdul)):\n",
    "    a = [f'{key}: {hdul[i].header[key]}' for key in  ['AMPID','GAIN','BIAS', 'ROTANG']]\n",
    "    print(a)"
   ]
  },
  {
   "cell_type": "code",
   "execution_count": 3,
   "id": "cb0021d8",
   "metadata": {},
   "outputs": [
    {
     "name": "stdout",
     "output_type": "stream",
     "text": [
      "C10 1.11531\n",
      "C11 1.12227\n",
      "C12 1.14053\n",
      "C13 1.16278\n",
      "C14 1.16361\n",
      "C15 1.18769\n",
      "C16 1.16909\n",
      "C17 1.15185\n",
      "C07 1.12377\n",
      "C06 1.12231\n",
      "C05 1.12907\n",
      "C04 1.13058\n",
      "C03 1.13623\n",
      "C02 1.13295\n",
      "C01 1.15074\n",
      "C00 1.14892\n"
     ]
    }
   ],
   "source": [
    "# compare to the content of obs_lsst .... \n",
    "\n",
    "# show the content of the obs lsst mapper \n",
    "# should be exactly the same as above ... \n",
    "from lsst.obs.lsst import LsstCam\n",
    "camera = LsstCam().getCamera()\n",
    "detector = camera['R22_S10']\n",
    "for amp in detector:\n",
    "    print(amp.getName(), amp.getGain())"
   ]
  },
  {
   "cell_type": "markdown",
   "id": "6748664a",
   "metadata": {},
   "source": [
    "ok - so these images had exactly the same gain, since they were made with `lsst/segmentation.txt`, i.e. \n",
    "its R22 of LsstCam,  rather than R22 of LsstComCam ... \n",
    "\n",
    "How does the `CamDataCollector` ingest images? \n",
    "\n",
    "\n"
   ]
  },
  {
   "cell_type": "code",
   "execution_count": 4,
   "id": "c62cb526",
   "metadata": {},
   "outputs": [],
   "source": [
    "from lsst.ts.wep.CamDataCollector import CamDataCollector\n",
    "import tempfile\n",
    "dataDir = tempfile.TemporaryDirectory(dir=testDir)\n",
    "isrDir = tempfile.TemporaryDirectory(dir=dataDir.name)\n",
    "\n",
    "camDataCollector = CamDataCollector(isrDir.name)"
   ]
  },
  {
   "cell_type": "markdown",
   "id": "4cab4309",
   "metadata": {},
   "source": [
    "by using `gen2`  ingestImages.py , where only `lsstCam` is allowed. So I couldn't regenerate here lsstComCam data, because they would need extra work to make `obs_lsst` ingest `lsstComCam` e-images... So wait till `ts_wep` is entirely in gen3. "
   ]
  },
  {
   "cell_type": "markdown",
   "id": "35b0748b",
   "metadata": {},
   "source": [
    "## Update just the `ROTANG` header "
   ]
  },
  {
   "cell_type": "code",
   "execution_count": 17,
   "id": "d33ac1f8",
   "metadata": {},
   "outputs": [
    {
     "name": "stdout",
     "output_type": "stream",
     "text": [
      "/project/scichris/aos/ts_wep/tests/testData/phosimOutput/realComCam/repackagedFiles/extra/MC_H_20211231_006001_R22_S11.fits\n",
      "/project/scichris/aos/ts_wep/tests/testData/phosimOutput/realComCam/repackagedFiles/extra/MC_H_20211231_006001_R22_S11_e.fits.gz\n",
      "/project/scichris/aos/ts_wep/tests/testData/phosimOutput/realComCam/repackagedFiles/extra/MC_H_20211231_006001_R22_S10.fits\n",
      "/project/scichris/aos/ts_wep/tests/testData/phosimOutput/realComCam/repackagedFiles/extra/MC_H_20211231_006001_R22_S10_e.fits.gz\n",
      "/project/scichris/aos/ts_wep/tests/testData/phosimOutput/realComCam/repackagedFiles/intra/MC_H_20211231_006002_R22_S11.fits\n",
      "/project/scichris/aos/ts_wep/tests/testData/phosimOutput/realComCam/repackagedFiles/intra/MC_H_20211231_006002_R22_S11_e.fits.gz\n",
      "/project/scichris/aos/ts_wep/tests/testData/phosimOutput/realComCam/repackagedFiles/intra/MC_H_20211231_006002_R22_S10.fits\n",
      "/project/scichris/aos/ts_wep/tests/testData/phosimOutput/realComCam/repackagedFiles/intra/MC_H_20211231_006002_R22_S10_e.fits.gz\n"
     ]
    }
   ],
   "source": [
    "positions = ['extra','intra']\n",
    "sensors  = ['S11','S10']\n",
    "\n",
    "ampFiles = []\n",
    "eImgFiles = []\n",
    "for position in positions:\n",
    "    for sensor in sensors:\n",
    "        if position == 'extra':\n",
    "            obsid = '1'\n",
    "        elif position == 'intra':\n",
    "            obsid = '2'\n",
    "            \n",
    "            \n",
    "        fnameRoot =  os.path.join(\n",
    "                                getModulePath(),\n",
    "                                \"tests\",\n",
    "                                \"testData\",\n",
    "                                \"phosimOutput\",\n",
    "                                \"realComCam\",\n",
    "                                \"repackagedFiles\",\n",
    "                                position,\n",
    "                                f\"MC_H_20211231_00600{obsid}_R22_{sensor}\"\n",
    "                                )\n",
    "        \n",
    "        ampFile = fnameRoot+\".fits\"           \n",
    "        eFile = fnameRoot+\"_e.fits.gz\"\n",
    "                              \n",
    "        print(ampFile)\n",
    "        print(eFile)\n",
    "        ampFiles.append(ampFile)\n",
    "        eImgFiles.append(eFile)\n",
    "        \n"
   ]
  },
  {
   "cell_type": "code",
   "execution_count": 13,
   "id": "b359a53c",
   "metadata": {},
   "outputs": [
    {
     "data": {
      "text/plain": [
       "['/project/scichris/aos/ts_wep/tests/testData/phosimOutput/realComCam/repackagedFiles/extra/MC_H_20211231_006001_R22_S11.fits',\n",
       " '/project/scichris/aos/ts_wep/tests/testData/phosimOutput/realComCam/repackagedFiles/extra/MC_H_20211231_006001_R22_S10.fits',\n",
       " '/project/scichris/aos/ts_wep/tests/testData/phosimOutput/realComCam/repackagedFiles/intra/MC_H_20211231_006002_R22_S11.fits',\n",
       " '/project/scichris/aos/ts_wep/tests/testData/phosimOutput/realComCam/repackagedFiles/intra/MC_H_20211231_006002_R22_S10.fits']"
      ]
     },
     "execution_count": 13,
     "metadata": {},
     "output_type": "execute_result"
    }
   ],
   "source": [
    "ampFiles"
   ]
  },
  {
   "cell_type": "code",
   "execution_count": 5,
   "id": "fd90e632",
   "metadata": {},
   "outputs": [
    {
     "data": {
      "text/plain": [
       "['._.DS_Store',\n",
       " 'MC_H_20211231_006001_R22_S11_e.fits.gz',\n",
       " 'MC_H_20211231_006001_R22_S10.fits',\n",
       " '.DS_Store',\n",
       " 'MC_H_20211231_006001_R22_S11.fits',\n",
       " 'MC_H_20211231_006001_R22_S10_e.fits.gz']"
      ]
     },
     "execution_count": 5,
     "metadata": {},
     "output_type": "execute_result"
    }
   ],
   "source": [
    "os.listdir(os.path.join(\n",
    "    getModulePath(),\n",
    "    \"tests\",\n",
    "    \"testData\",\n",
    "    \"phosimOutput\",\n",
    "    \"realComCam\",\n",
    "    \"repackagedFiles\",\n",
    "    \"extra\"))"
   ]
  },
  {
   "cell_type": "code",
   "execution_count": 12,
   "id": "9a9b955f",
   "metadata": {},
   "outputs": [],
   "source": [
    "# Update the header for amp images:\n",
    "\n"
   ]
  },
  {
   "cell_type": "code",
   "execution_count": 14,
   "id": "f4388c6b",
   "metadata": {},
   "outputs": [
    {
     "name": "stdout",
     "output_type": "stream",
     "text": [
      "Updating /project/scichris/aos/ts_wep/tests/testData/phosimOutput/realComCam/repackagedFiles/extra/MC_H_20211231_006001_R22_S11.fits header\n",
      "C10 0.0\n",
      "--> C10 90.0\n",
      "C11 0.0\n",
      "--> C11 90.0\n",
      "C12 0.0\n",
      "--> C12 90.0\n",
      "C13 0.0\n",
      "--> C13 90.0\n",
      "C14 0.0\n",
      "--> C14 90.0\n",
      "C15 0.0\n",
      "--> C15 90.0\n",
      "C16 0.0\n",
      "--> C16 90.0\n",
      "C17 0.0\n",
      "--> C17 90.0\n",
      "C07 0.0\n",
      "--> C07 90.0\n",
      "C06 0.0\n",
      "--> C06 90.0\n",
      "C05 0.0\n",
      "--> C05 90.0\n",
      "C04 0.0\n",
      "--> C04 90.0\n",
      "C03 0.0\n",
      "--> C03 90.0\n",
      "C02 0.0\n",
      "--> C02 90.0\n",
      "C01 0.0\n",
      "--> C01 90.0\n",
      "C00 0.0\n",
      "--> C00 90.0\n",
      "Updating /project/scichris/aos/ts_wep/tests/testData/phosimOutput/realComCam/repackagedFiles/extra/MC_H_20211231_006001_R22_S10.fits header\n",
      "C10 0.0\n",
      "--> C10 90.0\n",
      "C11 0.0\n",
      "--> C11 90.0\n",
      "C12 0.0\n",
      "--> C12 90.0\n",
      "C13 0.0\n",
      "--> C13 90.0\n",
      "C14 0.0\n",
      "--> C14 90.0\n",
      "C15 0.0\n",
      "--> C15 90.0\n",
      "C16 0.0\n",
      "--> C16 90.0\n",
      "C17 0.0\n",
      "--> C17 90.0\n",
      "C07 0.0\n",
      "--> C07 90.0\n",
      "C06 0.0\n",
      "--> C06 90.0\n",
      "C05 0.0\n",
      "--> C05 90.0\n",
      "C04 0.0\n",
      "--> C04 90.0\n",
      "C03 0.0\n",
      "--> C03 90.0\n",
      "C02 0.0\n",
      "--> C02 90.0\n",
      "C01 0.0\n",
      "--> C01 90.0\n",
      "C00 0.0\n",
      "--> C00 90.0\n",
      "Updating /project/scichris/aos/ts_wep/tests/testData/phosimOutput/realComCam/repackagedFiles/intra/MC_H_20211231_006002_R22_S11.fits header\n",
      "C10 0.0\n",
      "--> C10 90.0\n",
      "C11 0.0\n",
      "--> C11 90.0\n",
      "C12 0.0\n",
      "--> C12 90.0\n",
      "C13 0.0\n",
      "--> C13 90.0\n",
      "C14 0.0\n",
      "--> C14 90.0\n",
      "C15 0.0\n",
      "--> C15 90.0\n",
      "C16 0.0\n",
      "--> C16 90.0\n",
      "C17 0.0\n",
      "--> C17 90.0\n",
      "C07 0.0\n",
      "--> C07 90.0\n",
      "C06 0.0\n",
      "--> C06 90.0\n",
      "C05 0.0\n",
      "--> C05 90.0\n",
      "C04 0.0\n",
      "--> C04 90.0\n",
      "C03 0.0\n",
      "--> C03 90.0\n",
      "C02 0.0\n",
      "--> C02 90.0\n",
      "C01 0.0\n",
      "--> C01 90.0\n",
      "C00 0.0\n",
      "--> C00 90.0\n",
      "Updating /project/scichris/aos/ts_wep/tests/testData/phosimOutput/realComCam/repackagedFiles/intra/MC_H_20211231_006002_R22_S10.fits header\n",
      "C10 0.0\n",
      "--> C10 90.0\n",
      "C11 0.0\n",
      "--> C11 90.0\n",
      "C12 0.0\n",
      "--> C12 90.0\n",
      "C13 0.0\n",
      "--> C13 90.0\n",
      "C14 0.0\n",
      "--> C14 90.0\n",
      "C15 0.0\n",
      "--> C15 90.0\n",
      "C16 0.0\n",
      "--> C16 90.0\n",
      "C17 0.0\n",
      "--> C17 90.0\n",
      "C07 0.0\n",
      "--> C07 90.0\n",
      "C06 0.0\n",
      "--> C06 90.0\n",
      "C05 0.0\n",
      "--> C05 90.0\n",
      "C04 0.0\n",
      "--> C04 90.0\n",
      "C03 0.0\n",
      "--> C03 90.0\n",
      "C02 0.0\n",
      "--> C02 90.0\n",
      "C01 0.0\n",
      "--> C01 90.0\n",
      "C00 0.0\n",
      "--> C00 90.0\n"
     ]
    }
   ],
   "source": [
    "for fname in ampFiles:\n",
    "    print(f'Updating {fname} header')\n",
    "    \n",
    "    # open the file \n",
    "    hdul = fits.open(fname)\n",
    "    for i in range(1,len(hdul)):\n",
    "        # open the header \n",
    "        header  = hdul[i].header\n",
    "        print(header['AMPID'], header['ROTANG'])\n",
    "        header['ROTANG'] += 90. \n",
    "        hdul[i].header =  header \n",
    "        print('-->', header['AMPID'], header['ROTANG'])\n",
    "    hdul.writeto(fname, overwrite=True)"
   ]
  },
  {
   "cell_type": "code",
   "execution_count": 18,
   "id": "41e3b0eb",
   "metadata": {},
   "outputs": [
    {
     "name": "stdout",
     "output_type": "stream",
     "text": [
      "\n",
      "Updating /project/scichris/aos/ts_wep/tests/testData/phosimOutput/realComCam/repackagedFiles/extra/MC_H_20211231_006001_R22_S11_e.fits.gz header\n",
      "before:  0.0\n",
      "after:  90.0\n",
      "\n",
      "Updating /project/scichris/aos/ts_wep/tests/testData/phosimOutput/realComCam/repackagedFiles/extra/MC_H_20211231_006001_R22_S10_e.fits.gz header\n",
      "before:  0.0\n",
      "after:  90.0\n",
      "\n",
      "Updating /project/scichris/aos/ts_wep/tests/testData/phosimOutput/realComCam/repackagedFiles/intra/MC_H_20211231_006002_R22_S11_e.fits.gz header\n",
      "before:  0.0\n",
      "after:  90.0\n",
      "\n",
      "Updating /project/scichris/aos/ts_wep/tests/testData/phosimOutput/realComCam/repackagedFiles/intra/MC_H_20211231_006002_R22_S10_e.fits.gz header\n",
      "before:  0.0\n",
      "after:  90.0\n"
     ]
    }
   ],
   "source": [
    "# Update the e-image header too \n",
    "\n",
    "for fname in eImgFiles:\n",
    "    print(f'\\nUpdating {fname} header')\n",
    "    \n",
    "    # open the file \n",
    "    hdul = fits.open(fname)\n",
    "    print('before: ', hdul[0].header['ROTANG'])\n",
    "    hdul[0].header['ROTANG'] += 90\n",
    "    print('after: ', hdul[0].header['ROTANG'])\n",
    "    hdul.writeto(fname, overwrite=True)\n",
    "    \n",
    "   "
   ]
  },
  {
   "cell_type": "code",
   "execution_count": 43,
   "id": "d6b0c81f",
   "metadata": {},
   "outputs": [
    {
     "data": {
      "text/plain": [
       "SIMPLE  =                    T / conforms to FITS standard                      \n",
       "BITPIX  =                    8 / array data type                                \n",
       "NAXIS   =                    0 / number of array dimensions                     \n",
       "EXTEND  =                    T                                                  \n",
       "EXPTIME =                 15.0                                                  \n",
       "DARKTIME=                 15.0                                                  \n",
       "RUNNUM  = '9006001 '                                                            \n",
       "MJD-OBS =     59579.9999131944                                                  \n",
       "DATE-OBS= '2021-12-31T23:59:52.500'                                             \n",
       "DAYOBS  = '20211231'                                                            \n",
       "DATE    = '2021-03-04T05:27:13'                                                 \n",
       "MJD     =    59277.22723379629                                                  \n",
       "FILTER  = 'g       '                                                            \n",
       "LSST_NUM= 'E2V-CCD250-382'                                                      \n",
       "CCD_MANU= 'E2V     '                                                            \n",
       "CCD_TYPE= 'CCD250  '                                                            \n",
       "DETSIZE = '[1:4096,1:4004]'                                                     \n",
       "INSTRUME= 'lsstCam '                                                            \n",
       "TELESCOP= 'LSST    '                                                            \n",
       "TELCODE = 'MC      '                                                            \n",
       "CONTRLLR= 'H       '                                                            \n",
       "SEQNUM  =                 6001                                                  \n",
       "OBSID   = 'MC_H_20211231_006001'                                                \n",
       "TESTTYPE= 'PHOSIM  '                                                            \n",
       "IMGTYPE = 'SKYEXP  '                                                            \n",
       "RAFTBAY = 'R22     '                                                            \n",
       "CCDSLOT = 'S11     '                                                            \n",
       "RASTART =                  0.0                                                  \n",
       "DECSTART=                  0.0                                                  \n",
       "ROTSTART=                  0.0                                                  \n",
       "RA      =                  0.0                                                  \n",
       "DEC     =                  0.0                                                  \n",
       "ROTPA   =                  0.0                                                  \n",
       "ROTCOORD= 'sky     '                                                            \n",
       "AMSTART =     1.24813143788881                                                  \n",
       "ELSTART =            53.244268                                                  "
      ]
     },
     "execution_count": 43,
     "metadata": {},
     "output_type": "execute_result"
    }
   ],
   "source": [
    "hdul[0].header"
   ]
  },
  {
   "cell_type": "markdown",
   "id": "45d565cc",
   "metadata": {},
   "source": [
    "## Update version history"
   ]
  },
  {
   "cell_type": "markdown",
   "id": "ec0e5ea7",
   "metadata": {},
   "source": [
    ".. _lsst.ts.wep-1.6.0:\n",
    "\n",
    "-------------\n",
    "1.6.0\n",
    "-------------\n",
    "\n",
    "* Update ROTANG header in realComcam test files\n",
    "\n",
    "\n"
   ]
  },
  {
   "cell_type": "markdown",
   "id": "0847f9a5",
   "metadata": {},
   "source": [
    "## Update tags \n",
    "\n",
    "\n",
    "git checkout develop\n",
    "git tag -ln\n",
    "git pull\n",
    "git tag -a v1.6.2 \n",
    "\n",
    "Merge pull request #81 from lsst-ts/tickets/DM-29811\n",
    "Update ROTANG header in test files\n",
    "\n",
    "\n",
    "\n"
   ]
  },
  {
   "cell_type": "code",
   "execution_count": null,
   "id": "1079ec79",
   "metadata": {},
   "outputs": [],
   "source": []
  }
 ],
 "metadata": {
  "kernelspec": {
   "display_name": "LSST",
   "language": "python",
   "name": "lsst"
  },
  "language_info": {
   "codemirror_mode": {
    "name": "ipython",
    "version": 3
   },
   "file_extension": ".py",
   "mimetype": "text/x-python",
   "name": "python",
   "nbconvert_exporter": "python",
   "pygments_lexer": "ipython3",
   "version": "3.8.8"
  }
 },
 "nbformat": 4,
 "nbformat_minor": 5
}
