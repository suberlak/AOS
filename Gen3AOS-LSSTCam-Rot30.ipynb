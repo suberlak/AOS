{
 "cells": [
  {
   "cell_type": "markdown",
   "metadata": {},
   "source": [
    "## Set up repo and run ISR from command-line with butler and pipetask"
   ]
  },
  {
   "cell_type": "markdown",
   "metadata": {},
   "source": [
    "## Ingest a gen3 reference catalog"
   ]
  },
  {
   "cell_type": "markdown",
   "metadata": {},
   "source": [
    "### Create a gen2 reference catalog"
   ]
  },
  {
   "cell_type": "code",
   "execution_count": 1,
   "metadata": {},
   "outputs": [],
   "source": [
    "import pandas as pd\n",
    "import numpy as np"
   ]
  },
  {
   "cell_type": "code",
   "execution_count": 2,
   "metadata": {},
   "outputs": [],
   "source": [
    "test_cat = np.genfromtxt('/astro/store/epyc/users/brycek/Commissioning/aos/aoclc_runs/lsstCam_rotSkyPos/starSingle_rotSkyPos.cat', \n",
    "                         usecols=[1, 2, 3, 4], names=['id', 'ra', 'dec', 'g'])"
   ]
  },
  {
   "cell_type": "code",
   "execution_count": 3,
   "metadata": {},
   "outputs": [
    {
     "data": {
      "text/plain": [
       "array([(0., 359.847457, -0.237026, 15.), (1., 359.847482, -0.220341, 15.),\n",
       "       (2., 359.847507, -0.203656, 15.), (3., 359.847532, -0.186972, 15.),\n",
       "       (4., 359.847557, -0.170287, 15.)],\n",
       "      dtype=[('id', '<f8'), ('ra', '<f8'), ('dec', '<f8'), ('g', '<f8')])"
      ]
     },
     "execution_count": 3,
     "metadata": {},
     "output_type": "execute_result"
    }
   ],
   "source": [
    "test_cat[:5]"
   ]
  },
  {
   "cell_type": "code",
   "execution_count": 4,
   "metadata": {},
   "outputs": [],
   "source": [
    "test_cat_df = pd.DataFrame(test_cat, columns=['id', 'ra', 'dec', 'g'])"
   ]
  },
  {
   "cell_type": "code",
   "execution_count": 5,
   "metadata": {},
   "outputs": [
    {
     "data": {
      "text/html": [
       "<div>\n",
       "<style scoped>\n",
       "    .dataframe tbody tr th:only-of-type {\n",
       "        vertical-align: middle;\n",
       "    }\n",
       "\n",
       "    .dataframe tbody tr th {\n",
       "        vertical-align: top;\n",
       "    }\n",
       "\n",
       "    .dataframe thead th {\n",
       "        text-align: right;\n",
       "    }\n",
       "</style>\n",
       "<table border=\"1\" class=\"dataframe\">\n",
       "  <thead>\n",
       "    <tr style=\"text-align: right;\">\n",
       "      <th></th>\n",
       "      <th>id</th>\n",
       "      <th>ra</th>\n",
       "      <th>dec</th>\n",
       "      <th>g</th>\n",
       "    </tr>\n",
       "  </thead>\n",
       "  <tbody>\n",
       "    <tr>\n",
       "      <th>0</th>\n",
       "      <td>0.0</td>\n",
       "      <td>359.847457</td>\n",
       "      <td>-0.237026</td>\n",
       "      <td>15.0</td>\n",
       "    </tr>\n",
       "    <tr>\n",
       "      <th>1</th>\n",
       "      <td>1.0</td>\n",
       "      <td>359.847482</td>\n",
       "      <td>-0.220341</td>\n",
       "      <td>15.0</td>\n",
       "    </tr>\n",
       "    <tr>\n",
       "      <th>2</th>\n",
       "      <td>2.0</td>\n",
       "      <td>359.847507</td>\n",
       "      <td>-0.203656</td>\n",
       "      <td>15.0</td>\n",
       "    </tr>\n",
       "    <tr>\n",
       "      <th>3</th>\n",
       "      <td>3.0</td>\n",
       "      <td>359.847532</td>\n",
       "      <td>-0.186972</td>\n",
       "      <td>15.0</td>\n",
       "    </tr>\n",
       "    <tr>\n",
       "      <th>4</th>\n",
       "      <td>4.0</td>\n",
       "      <td>359.847557</td>\n",
       "      <td>-0.170287</td>\n",
       "      <td>15.0</td>\n",
       "    </tr>\n",
       "    <tr>\n",
       "      <th>5</th>\n",
       "      <td>5.0</td>\n",
       "      <td>359.764024</td>\n",
       "      <td>-0.153728</td>\n",
       "      <td>15.0</td>\n",
       "    </tr>\n",
       "    <tr>\n",
       "      <th>6</th>\n",
       "      <td>6.0</td>\n",
       "      <td>359.780735</td>\n",
       "      <td>-0.153703</td>\n",
       "      <td>15.0</td>\n",
       "    </tr>\n",
       "    <tr>\n",
       "      <th>7</th>\n",
       "      <td>7.0</td>\n",
       "      <td>359.797447</td>\n",
       "      <td>-0.153678</td>\n",
       "      <td>15.0</td>\n",
       "    </tr>\n",
       "    <tr>\n",
       "      <th>8</th>\n",
       "      <td>8.0</td>\n",
       "      <td>359.814158</td>\n",
       "      <td>-0.153652</td>\n",
       "      <td>15.0</td>\n",
       "    </tr>\n",
       "    <tr>\n",
       "      <th>9</th>\n",
       "      <td>9.0</td>\n",
       "      <td>359.830870</td>\n",
       "      <td>-0.153627</td>\n",
       "      <td>15.0</td>\n",
       "    </tr>\n",
       "    <tr>\n",
       "      <th>10</th>\n",
       "      <td>10.0</td>\n",
       "      <td>359.708118</td>\n",
       "      <td>-0.292843</td>\n",
       "      <td>15.0</td>\n",
       "    </tr>\n",
       "    <tr>\n",
       "      <th>11</th>\n",
       "      <td>11.0</td>\n",
       "      <td>359.719274</td>\n",
       "      <td>-0.281705</td>\n",
       "      <td>15.0</td>\n",
       "    </tr>\n",
       "    <tr>\n",
       "      <th>12</th>\n",
       "      <td>12.0</td>\n",
       "      <td>359.730430</td>\n",
       "      <td>-0.270567</td>\n",
       "      <td>15.0</td>\n",
       "    </tr>\n",
       "    <tr>\n",
       "      <th>13</th>\n",
       "      <td>13.0</td>\n",
       "      <td>359.800000</td>\n",
       "      <td>-0.280567</td>\n",
       "      <td>15.0</td>\n",
       "    </tr>\n",
       "  </tbody>\n",
       "</table>\n",
       "</div>"
      ],
      "text/plain": [
       "      id          ra       dec     g\n",
       "0    0.0  359.847457 -0.237026  15.0\n",
       "1    1.0  359.847482 -0.220341  15.0\n",
       "2    2.0  359.847507 -0.203656  15.0\n",
       "3    3.0  359.847532 -0.186972  15.0\n",
       "4    4.0  359.847557 -0.170287  15.0\n",
       "5    5.0  359.764024 -0.153728  15.0\n",
       "6    6.0  359.780735 -0.153703  15.0\n",
       "7    7.0  359.797447 -0.153678  15.0\n",
       "8    8.0  359.814158 -0.153652  15.0\n",
       "9    9.0  359.830870 -0.153627  15.0\n",
       "10  10.0  359.708118 -0.292843  15.0\n",
       "11  11.0  359.719274 -0.281705  15.0\n",
       "12  12.0  359.730430 -0.270567  15.0\n",
       "13  13.0  359.800000 -0.280567  15.0"
      ]
     },
     "execution_count": 5,
     "metadata": {},
     "output_type": "execute_result"
    }
   ],
   "source": [
    "test_cat_df"
   ]
  },
  {
   "cell_type": "code",
   "execution_count": 6,
   "metadata": {},
   "outputs": [],
   "source": [
    "test_cat_df['g_err'] = 0.1"
   ]
  },
  {
   "cell_type": "code",
   "execution_count": 7,
   "metadata": {},
   "outputs": [],
   "source": [
    "test_cat_df.to_csv('/astro/store/epyc/users/brycek/Commissioning/aos/aoclc_runs/lsstCam_rotSkyPos/starSingle_rotSkyPos.txt', index=False)"
   ]
  },
  {
   "cell_type": "code",
   "execution_count": 8,
   "metadata": {},
   "outputs": [],
   "source": [
    "! mkdir /astro/store/epyc/users/brycek/Commissioning/aos/aoclc_repos/test_refcat\n",
    "! echo \"lsst.obs.lsst.LsstCamMapper\" > /astro/store/epyc/users/brycek/Commissioning/aos/aoclc_repos/test_refcat/_mapper"
   ]
  },
  {
   "cell_type": "code",
   "execution_count": 9,
   "metadata": {},
   "outputs": [
    {
     "name": "stdout",
     "output_type": "stream",
     "text": [
      "/astro/store/epyc/projects/lsst_comm/stack_w_2021_14/stack/miniconda3-py38_4.9.2-0.4.3/Linux64/pipe_base/21.0.0-16-g0fb55c1+b60e2d390c/python/lsst/pipe/base/argumentParser.py:690: FutureWarning: Gen2 Butler has been deprecated (Butler). It will be removed sometime after v23.0 but no earlier than the end of 2021.\n",
      "  namespace.butler = dafPersist.Butler(outputs=outputs)\n",
      "/astro/store/epyc/projects/lsst_comm/stack_w_2021_14/stack/miniconda3-py38_4.9.2-0.4.3/Linux64/pipe_base/21.0.0-16-g0fb55c1+b60e2d390c/python/lsst/pipe/base/argumentParser.py:690: FutureWarning: Gen2 Butler has been deprecated (LsstCamMapper). It will be removed sometime after v23.0 but no earlier than the end of 2021.\n",
      "  namespace.butler = dafPersist.Butler(outputs=outputs)\n",
      "LsstCamMapper WARN: Unable to find valid calib root directory\n",
      "CameraMapper INFO: Loading Posix exposure registry from /astro/store/epyc/users/brycek/Commissioning/aos/aoclc_repos/test_refcat\n",
      "root INFO: Running: /astro/store/epyc/projects/lsst_comm/stack_w_2021_14/stack/miniconda3-py38_4.9.2-0.4.3/Linux64/pipe_tasks/21.0.0-64-g1122c245+4fb2b8f86e/bin/ingestReferenceCatalog.py /astro/store/epyc/users/brycek/Commissioning/aos/aoclc_repos/test_refcat/ /astro/store/epyc/users/brycek/Commissioning/aos/aoclc_runs/lsstCam_rotSkyPos/starSingle_rotSkyPos.txt --configfile my_ref.cfg\n",
      "IngestIndexedReferenceTask INFO: Creating 131072 file locks.\n",
      "IngestIndexedReferenceTask INFO: File locks created.\n",
      "IngestIndexedReferenceTask INFO: Completed 1 / 1 files: 100 % complete \n",
      "root WARN: Unable to retrieve exit status ('NoneType' object is not iterable); assuming success\n"
     ]
    }
   ],
   "source": [
    "! ingestReferenceCatalog.py /astro/store/epyc/users/brycek/Commissioning/aos/aoclc_repos/test_refcat/ /astro/store/epyc/users/brycek/Commissioning/aos/aoclc_runs/lsstCam_rotSkyPos/starSingle_rotSkyPos.txt --configfile my_ref.cfg"
   ]
  },
  {
   "cell_type": "markdown",
   "metadata": {},
   "source": [
    "### Run gen2 -> gen3 conversion\n",
    "\n",
    "Currently this is the only way to get a gen3 reference catalog."
   ]
  },
  {
   "cell_type": "code",
   "execution_count": 16,
   "metadata": {},
   "outputs": [],
   "source": [
    "# Create conversion configuration file\n",
    "! echo 'config.datasetIncludePatterns = [\"ref_cat\", ]' > convertRefCat.cfg\n",
    "# ! echo 'config.datasetIgnorePatterns = [\"*raw*\"]' > convertRefCat.cfg\n",
    "# ! echo 'config.runs = {\"IngestIndexedReferenceTask_config\": \"refcats/gen2\", \"ref_cat_config\": \"refcats/gen2\"}' >> convertRefCat.cfg\n",
    "! echo 'config.refCats = [\"cal_ref_cat\"]' >> convertRefCat.cfg"
   ]
  },
  {
   "cell_type": "code",
   "execution_count": 17,
   "metadata": {},
   "outputs": [
    {
     "name": "stdout",
     "output_type": "stream",
     "text": [
      "config.datasetIncludePatterns = [\"ref_cat\", ]\n",
      "config.refCats = [\"cal_ref_cat\"]\n"
     ]
    }
   ],
   "source": [
    "! cat convertRefCat.cfg"
   ]
  },
  {
   "cell_type": "code",
   "execution_count": 171,
   "metadata": {},
   "outputs": [
    {
     "name": "stdout",
     "output_type": "stream",
     "text": [
      "LsstCamMapper WARN: Unable to find valid calib root directory\n",
      "LsstCamMapper WARN: Unable to find valid calib root directory\n",
      "convertRepo INFO: Preparing ref_cat cal_ref_cat from root /astro/store/epyc/users/brycek/Commissioning/aos/aoclc_repos/test_refcat.\n",
      "convertRepo INFO: Looking for skymaps in root /astro/store/epyc/users/brycek/Commissioning/aos/aoclc_repos/test_refcat.\n",
      "convertRepo INFO: Preparing other dataset types from root /astro/store/epyc/users/brycek/Commissioning/aos/aoclc_repos/test_refcat.\n",
      "convertRepo INFO: Adding special datasets in repo /astro/store/epyc/users/brycek/Commissioning/aos/aoclc_repos/test_refcat.\n",
      "convertRepo INFO: Finding datasets from files in repo /astro/store/epyc/users/brycek/Commissioning/aos/aoclc_repos/test_refcat.\n",
      "convertRepo INFO: Expanding data IDs for 1 non-calibration dataset of type cal_ref_cat.\n",
      "convertRepo INFO: Ingesting 1 dataset into run refcats/gen2 of type cal_ref_cat.\n",
      "convertRepo INFO: Defining LSSTCam/defaults from chain ['refcats', 'LSSTCam/calib', 'skymaps'].\n"
     ]
    }
   ],
   "source": [
    "# Note this now also creates the curated calib files\n",
    "! butler convert --gen2root /astro/store/epyc/users/brycek/Commissioning/aos/aoclc_repos/test_refcat/ --config-file convertRefCat.cfg /astro/store/epyc/users/brycek/Commissioning/aos/aoclc_repos/rotWcsTest_newHeader"
   ]
  },
  {
   "cell_type": "code",
   "execution_count": 172,
   "metadata": {},
   "outputs": [],
   "source": [
    "! butler register-instrument /astro/store/epyc/users/brycek/Commissioning/aos/aoclc_repos/rotWcsTest_newHeader lsst.obs.lsst.LsstCam"
   ]
  },
  {
   "cell_type": "code",
   "execution_count": 173,
   "metadata": {},
   "outputs": [],
   "source": [
    "# ! butler write-curated-calibrations /astro/store/epyc/users/brycek/Commissioning/aos/aoclc_repos/rotWcsTest lsst.obs.lsst.LsstCam"
   ]
  },
  {
   "cell_type": "code",
   "execution_count": 174,
   "metadata": {},
   "outputs": [
    {
     "name": "stdout",
     "output_type": "stream",
     "text": [
      "ingest INFO: Successfully extracted metadata from 3 files with 0 failures\n",
      "ingest INFO: Exposure LSSTCam:MC_H_20000217_006001 ingested successfully\n",
      "ingest INFO: Successfully processed data from 1 exposure with 0 failures from exposure registration and 0 failures from file ingest.\n",
      "ingest INFO: Ingested 3 distinct Butler datasets\n"
     ]
    }
   ],
   "source": [
    "! butler ingest-raws /astro/store/epyc/users/brycek/Commissioning/aos/aoclc_repos/rotWcsTest_newHeader /astro/store/epyc/users/brycek/Commissioning/aos/aoclc_runs/lsstCam_rotSkyPos/repackaged_new_header/*.fits"
   ]
  },
  {
   "cell_type": "code",
   "execution_count": 175,
   "metadata": {},
   "outputs": [
    {
     "name": "stdout",
     "output_type": "stream",
     "text": [
      "defineVisits INFO: Preprocessing data IDs.\n",
      "defineVisits INFO: Registering visit_system 1: by-group-metadata.\n",
      "defineVisits INFO: Grouping 1 exposure(s) into visits.\n",
      "defineVisits INFO: Computing regions and other metadata for 1 visit(s).\n"
     ]
    }
   ],
   "source": [
    "! butler define-visits /astro/store/epyc/users/brycek/Commissioning/aos/aoclc_repos/rotWcsTest_newHeader lsst.obs.lsst.LsstCam"
   ]
  },
  {
   "cell_type": "markdown",
   "metadata": {},
   "source": [
    "### Run task"
   ]
  },
  {
   "cell_type": "code",
   "execution_count": 176,
   "metadata": {},
   "outputs": [
    {
     "name": "stdout",
     "output_type": "stream",
     "text": [
      "ctrl.mpexec.cmdLineFwk INFO: QuantumGraph contains 3 quanta for 1 tasks, graph ID: '1620236931.8454933-53229'\n",
      "conda.common.io INFO: overtaking stderr and stdout\n",
      "conda.common.io INFO: stderr and stdout yielding back\n",
      "isr INFO: Converting exposure to floating point values.\n",
      "isr INFO: Assembling CCD from amplifiers.\n",
      "isr INFO: Widening saturation trails.\n",
      "isr INFO: Applying gain correction instead of flat.\n",
      "isr WARN: No rough magnitude zero point set for filter FilterLabel(band=\"g\", physical=\"g\").\n",
      "isr INFO: Setting rough magnitude zero point: 28.000000\n",
      "ctrl.mpexec.singleQuantumExecutor INFO: Execution of task 'isr' on quantum {instrument: 'LSSTCam', detector: 90, exposure: 4000021706001, ...} took 6.722 seconds\n",
      "ctrl.mpexec.mpGraphExecutor INFO: Executed 1 quanta, 2 remain out of total 3 quanta.\n",
      "isr INFO: Converting exposure to floating point values.\n",
      "isr INFO: Assembling CCD from amplifiers.\n",
      "isr INFO: Widening saturation trails.\n",
      "isr INFO: Applying gain correction instead of flat.\n",
      "isr WARN: No rough magnitude zero point set for filter FilterLabel(band=\"g\", physical=\"g\").\n",
      "isr INFO: Setting rough magnitude zero point: 28.000000\n",
      "ctrl.mpexec.singleQuantumExecutor INFO: Execution of task 'isr' on quantum {instrument: 'LSSTCam', detector: 52, exposure: 4000021706001, ...} took 3.970 seconds\n",
      "ctrl.mpexec.mpGraphExecutor INFO: Executed 2 quanta, 1 remain out of total 3 quanta.\n",
      "isr INFO: Converting exposure to floating point values.\n",
      "isr INFO: Assembling CCD from amplifiers.\n",
      "isr INFO: Widening saturation trails.\n",
      "isr INFO: Applying gain correction instead of flat.\n",
      "isr WARN: No rough magnitude zero point set for filter FilterLabel(band=\"g\", physical=\"g\").\n",
      "isr INFO: Setting rough magnitude zero point: 28.000000\n",
      "ctrl.mpexec.singleQuantumExecutor INFO: Execution of task 'isr' on quantum {instrument: 'LSSTCam', detector: 91, exposure: 4000021706001, ...} took 3.936 seconds\n",
      "ctrl.mpexec.mpGraphExecutor INFO: Executed 3 quanta, 0 remain out of total 3 quanta.\n"
     ]
    }
   ],
   "source": [
    "! pipetask run -b /astro/store/epyc/users/brycek/Commissioning/aos/aoclc_repos/rotWcsTest_newHeader/ -i LSSTCam/raw/all,LSSTCam/calib,refcats -p testLsstCamPipeline.yaml --register-dataset-types --output-run run1"
   ]
  },
  {
   "cell_type": "code",
   "execution_count": 99,
   "metadata": {},
   "outputs": [],
   "source": [
    "# ! butler prune-collection test_gen3/ run1 --purge --unstore"
   ]
  },
  {
   "cell_type": "markdown",
   "metadata": {},
   "source": [
    "## Look inside repo"
   ]
  },
  {
   "cell_type": "code",
   "execution_count": 100,
   "metadata": {},
   "outputs": [],
   "source": [
    "from lsst.daf import butler as dafButler"
   ]
  },
  {
   "cell_type": "code",
   "execution_count": 101,
   "metadata": {},
   "outputs": [],
   "source": [
    "refButler = dafButler.Butler('/astro/store/epyc/users/brycek/Commissioning/aos/aoclc_repos/rotWcsTest/')"
   ]
  },
  {
   "cell_type": "code",
   "execution_count": 177,
   "metadata": {},
   "outputs": [],
   "source": [
    "refButler_newHeader = dafButler.Butler('/astro/store/epyc/users/brycek/Commissioning/aos/aoclc_repos/rotWcsTest_newHeader/')"
   ]
  },
  {
   "cell_type": "code",
   "execution_count": 102,
   "metadata": {},
   "outputs": [],
   "source": [
    "registry = refButler.registry"
   ]
  },
  {
   "cell_type": "code",
   "execution_count": 103,
   "metadata": {},
   "outputs": [
    {
     "data": {
      "text/plain": [
       "['LSSTCam/raw/all',\n",
       " 'LSSTCam/calib',\n",
       " 'LSSTCam/calib/unbounded',\n",
       " 'refcats/gen2',\n",
       " 'refcats',\n",
       " 'LSSTCam/defaults',\n",
       " 'skymaps',\n",
       " 'run1']"
      ]
     },
     "execution_count": 103,
     "metadata": {},
     "output_type": "execute_result"
    }
   ],
   "source": [
    "list(registry.queryCollections())"
   ]
  },
  {
   "cell_type": "code",
   "execution_count": 104,
   "metadata": {},
   "outputs": [
    {
     "name": "stdout",
     "output_type": "stream",
     "text": [
      "DatasetType('camera', {instrument}, Camera, isCalibration=True)\n",
      "DatasetType('cal_ref_cat', {htm7}, SimpleCatalog)\n",
      "DatasetType('raw', {band, instrument, detector, physical_filter, exposure}, Exposure)\n",
      "DatasetType('postISRCCD', {band, instrument, detector, physical_filter, exposure}, Exposure)\n",
      "DatasetType('isr_metadata', {band, instrument, detector, physical_filter, exposure}, PropertySet)\n",
      "DatasetType('isr_config', {}, Config)\n",
      "DatasetType('packages', {}, Packages)\n"
     ]
    }
   ],
   "source": [
    "dataTypes = registry.queryDatasetTypes()\n",
    "for dataType in dataTypes:\n",
    "    print(dataType)"
   ]
  },
  {
   "cell_type": "code",
   "execution_count": 105,
   "metadata": {},
   "outputs": [
    {
     "name": "stdout",
     "output_type": "stream",
     "text": [
      "{htm7: 188416}\n"
     ]
    }
   ],
   "source": [
    "datasetRefs = list(registry.queryDatasets(datasetType='cal_ref_cat', collections=['refcats']).expanded())\n",
    "for ref in datasetRefs:\n",
    "    print(ref.dataId)"
   ]
  },
  {
   "cell_type": "code",
   "execution_count": 106,
   "metadata": {},
   "outputs": [],
   "source": [
    "refCat = refButler.get('cal_ref_cat', dataId=ref.dataId, collections=['refcats'])"
   ]
  },
  {
   "cell_type": "code",
   "execution_count": 107,
   "metadata": {},
   "outputs": [],
   "source": [
    "refCatDf = refCat.asAstropy().to_pandas()"
   ]
  },
  {
   "cell_type": "code",
   "execution_count": 108,
   "metadata": {},
   "outputs": [
    {
     "data": {
      "text/html": [
       "<div>\n",
       "<style scoped>\n",
       "    .dataframe tbody tr th:only-of-type {\n",
       "        vertical-align: middle;\n",
       "    }\n",
       "\n",
       "    .dataframe tbody tr th {\n",
       "        vertical-align: top;\n",
       "    }\n",
       "\n",
       "    .dataframe thead th {\n",
       "        text-align: right;\n",
       "    }\n",
       "</style>\n",
       "<table border=\"1\" class=\"dataframe\">\n",
       "  <thead>\n",
       "    <tr style=\"text-align: right;\">\n",
       "      <th></th>\n",
       "      <th>id</th>\n",
       "      <th>coord_ra</th>\n",
       "      <th>coord_dec</th>\n",
       "      <th>g_flux</th>\n",
       "      <th>g_fluxErr</th>\n",
       "    </tr>\n",
       "  </thead>\n",
       "  <tbody>\n",
       "    <tr>\n",
       "      <th>0</th>\n",
       "      <td>0</td>\n",
       "      <td>6.280523</td>\n",
       "      <td>-0.004137</td>\n",
       "      <td>3.630781e+06</td>\n",
       "      <td>334427.458906</td>\n",
       "    </tr>\n",
       "    <tr>\n",
       "      <th>1</th>\n",
       "      <td>1</td>\n",
       "      <td>6.280523</td>\n",
       "      <td>-0.003846</td>\n",
       "      <td>3.630781e+06</td>\n",
       "      <td>334427.458906</td>\n",
       "    </tr>\n",
       "    <tr>\n",
       "      <th>2</th>\n",
       "      <td>2</td>\n",
       "      <td>6.280524</td>\n",
       "      <td>-0.003554</td>\n",
       "      <td>3.630781e+06</td>\n",
       "      <td>334427.458906</td>\n",
       "    </tr>\n",
       "    <tr>\n",
       "      <th>3</th>\n",
       "      <td>3</td>\n",
       "      <td>6.280524</td>\n",
       "      <td>-0.003263</td>\n",
       "      <td>3.630781e+06</td>\n",
       "      <td>334427.458906</td>\n",
       "    </tr>\n",
       "    <tr>\n",
       "      <th>4</th>\n",
       "      <td>4</td>\n",
       "      <td>6.280525</td>\n",
       "      <td>-0.002972</td>\n",
       "      <td>3.630781e+06</td>\n",
       "      <td>334427.458906</td>\n",
       "    </tr>\n",
       "    <tr>\n",
       "      <th>5</th>\n",
       "      <td>5</td>\n",
       "      <td>6.279067</td>\n",
       "      <td>-0.002683</td>\n",
       "      <td>3.630781e+06</td>\n",
       "      <td>334427.458906</td>\n",
       "    </tr>\n",
       "    <tr>\n",
       "      <th>6</th>\n",
       "      <td>6</td>\n",
       "      <td>6.279358</td>\n",
       "      <td>-0.002683</td>\n",
       "      <td>3.630781e+06</td>\n",
       "      <td>334427.458906</td>\n",
       "    </tr>\n",
       "    <tr>\n",
       "      <th>7</th>\n",
       "      <td>7</td>\n",
       "      <td>6.279650</td>\n",
       "      <td>-0.002682</td>\n",
       "      <td>3.630781e+06</td>\n",
       "      <td>334427.458906</td>\n",
       "    </tr>\n",
       "    <tr>\n",
       "      <th>8</th>\n",
       "      <td>8</td>\n",
       "      <td>6.279942</td>\n",
       "      <td>-0.002682</td>\n",
       "      <td>3.630781e+06</td>\n",
       "      <td>334427.458906</td>\n",
       "    </tr>\n",
       "    <tr>\n",
       "      <th>9</th>\n",
       "      <td>9</td>\n",
       "      <td>6.280233</td>\n",
       "      <td>-0.002681</td>\n",
       "      <td>3.630781e+06</td>\n",
       "      <td>334427.458906</td>\n",
       "    </tr>\n",
       "    <tr>\n",
       "      <th>10</th>\n",
       "      <td>10</td>\n",
       "      <td>6.278091</td>\n",
       "      <td>-0.005111</td>\n",
       "      <td>3.630781e+06</td>\n",
       "      <td>334427.458906</td>\n",
       "    </tr>\n",
       "    <tr>\n",
       "      <th>11</th>\n",
       "      <td>11</td>\n",
       "      <td>6.278286</td>\n",
       "      <td>-0.004917</td>\n",
       "      <td>3.630781e+06</td>\n",
       "      <td>334427.458906</td>\n",
       "    </tr>\n",
       "    <tr>\n",
       "      <th>12</th>\n",
       "      <td>12</td>\n",
       "      <td>6.278480</td>\n",
       "      <td>-0.004722</td>\n",
       "      <td>3.630781e+06</td>\n",
       "      <td>334427.458906</td>\n",
       "    </tr>\n",
       "    <tr>\n",
       "      <th>13</th>\n",
       "      <td>13</td>\n",
       "      <td>6.279695</td>\n",
       "      <td>-0.004897</td>\n",
       "      <td>3.630781e+06</td>\n",
       "      <td>334427.458906</td>\n",
       "    </tr>\n",
       "  </tbody>\n",
       "</table>\n",
       "</div>"
      ],
      "text/plain": [
       "    id  coord_ra  coord_dec        g_flux      g_fluxErr\n",
       "0    0  6.280523  -0.004137  3.630781e+06  334427.458906\n",
       "1    1  6.280523  -0.003846  3.630781e+06  334427.458906\n",
       "2    2  6.280524  -0.003554  3.630781e+06  334427.458906\n",
       "3    3  6.280524  -0.003263  3.630781e+06  334427.458906\n",
       "4    4  6.280525  -0.002972  3.630781e+06  334427.458906\n",
       "5    5  6.279067  -0.002683  3.630781e+06  334427.458906\n",
       "6    6  6.279358  -0.002683  3.630781e+06  334427.458906\n",
       "7    7  6.279650  -0.002682  3.630781e+06  334427.458906\n",
       "8    8  6.279942  -0.002682  3.630781e+06  334427.458906\n",
       "9    9  6.280233  -0.002681  3.630781e+06  334427.458906\n",
       "10  10  6.278091  -0.005111  3.630781e+06  334427.458906\n",
       "11  11  6.278286  -0.004917  3.630781e+06  334427.458906\n",
       "12  12  6.278480  -0.004722  3.630781e+06  334427.458906\n",
       "13  13  6.279695  -0.004897  3.630781e+06  334427.458906"
      ]
     },
     "execution_count": 108,
     "metadata": {},
     "output_type": "execute_result"
    }
   ],
   "source": [
    "refCatDf"
   ]
  },
  {
   "cell_type": "code",
   "execution_count": 109,
   "metadata": {},
   "outputs": [
    {
     "name": "stdout",
     "output_type": "stream",
     "text": [
      "{instrument: 'LSSTCam', detector: 91, exposure: 4000021706001, ...}\n",
      "{instrument: 'LSSTCam', detector: 52, exposure: 4000021706001, ...}\n",
      "{instrument: 'LSSTCam', detector: 90, exposure: 4000021706001, ...}\n"
     ]
    }
   ],
   "source": [
    "datasetRefs = list(registry.queryDatasets(datasetType='postISRCCD', collections=['run1']).expanded())\n",
    "for ref in datasetRefs:\n",
    "    print(ref.dataId)"
   ]
  },
  {
   "cell_type": "code",
   "execution_count": 110,
   "metadata": {},
   "outputs": [],
   "source": [
    "dataId = {'instrument': 'LSSTCam', 'detector': 91, 'exposure': 4000021706001}"
   ]
  },
  {
   "cell_type": "code",
   "execution_count": 111,
   "metadata": {},
   "outputs": [],
   "source": [
    "postISR_exp = refButler.get('postISRCCD', dataId=dataId, collections=['run1'])"
   ]
  },
  {
   "cell_type": "code",
   "execution_count": 178,
   "metadata": {},
   "outputs": [],
   "source": [
    "postISR_exp_newHeader = refButler_newHeader.get('postISRCCD', dataId=dataId, collections=['run1'])"
   ]
  },
  {
   "cell_type": "code",
   "execution_count": 112,
   "metadata": {},
   "outputs": [],
   "source": [
    "import matplotlib.pyplot as plt\n",
    "import lsst.geom"
   ]
  },
  {
   "cell_type": "code",
   "execution_count": 113,
   "metadata": {},
   "outputs": [],
   "source": [
    "wcs = postISR_exp.getWcs()"
   ]
  },
  {
   "cell_type": "code",
   "execution_count": 179,
   "metadata": {},
   "outputs": [],
   "source": [
    "wcs_newHeader = postISR_exp_newHeader.getWcs()"
   ]
  },
  {
   "cell_type": "code",
   "execution_count": 180,
   "metadata": {},
   "outputs": [],
   "source": [
    "x, y = wcs.skyToPixelArray(refCatDf['coord_ra'].values, refCatDf['coord_dec'].values)"
   ]
  },
  {
   "cell_type": "code",
   "execution_count": 181,
   "metadata": {},
   "outputs": [],
   "source": [
    "x_newHeader, y_newHeader = wcs_newHeader.skyToPixelArray(refCatDf['coord_ra'].values, refCatDf['coord_dec'].values)"
   ]
  },
  {
   "cell_type": "code",
   "execution_count": 192,
   "metadata": {},
   "outputs": [
    {
     "data": {
      "text/plain": [
       "Text(0, 0.5, 'Y Pixel')"
      ]
     },
     "execution_count": 192,
     "metadata": {},
     "output_type": "execute_result"
    },
    {
     "data": {
      "image/png": "[encoded data removed]",
      "text/plain": [
       "<Figure size 1008x1008 with 1 Axes>"
      ]
     },
     "metadata": {
      "needs_background": "light"
     },
     "output_type": "display_data"
    }
   ],
   "source": [
    "fig = plt.figure(figsize=(14,14))\n",
    "plt.imshow(postISR_exp.image.array, vmax=60)\n",
    "plt.scatter(x, y, c='r', label='Current Header (120 degrees)')\n",
    "plt.scatter(x_new, y_new, c='C1', marker='x', label='Update Header (60 degrees)')\n",
    "plt.legend()\n",
    "plt.xlabel('X Pixel')\n",
    "plt.ylabel('Y Pixel')"
   ]
  },
  {
   "cell_type": "code",
   "execution_count": null,
   "metadata": {},
   "outputs": [],
   "source": []
  },
  {
   "cell_type": "code",
   "execution_count": null,
   "metadata": {},
   "outputs": [],
   "source": []
  },
  {
   "cell_type": "code",
   "execution_count": null,
   "metadata": {},
   "outputs": [],
   "source": []
  },
  {
   "cell_type": "code",
   "execution_count": null,
   "metadata": {},
   "outputs": [],
   "source": []
  },
  {
   "cell_type": "code",
   "execution_count": 124,
   "metadata": {},
   "outputs": [],
   "source": [
    "from lsst.obs.base import createInitialSkyWcs, createInitialSkyWcsFromBoresight"
   ]
  },
  {
   "cell_type": "code",
   "execution_count": 141,
   "metadata": {},
   "outputs": [],
   "source": [
    "new_wcs = createInitialSkyWcsFromBoresight(expVisitInfo.getBoresightRaDec(), (180 - expMetadata['ROTANG'])*lsst.geom.degrees, postISR_exp.getDetector())"
   ]
  },
  {
   "cell_type": "code",
   "execution_count": 187,
   "metadata": {},
   "outputs": [],
   "source": [
    "x_new, y_new = new_wcs.skyToPixelArray(refCatDf['coord_ra'].values, refCatDf['coord_dec'].values)"
   ]
  },
  {
   "cell_type": "code",
   "execution_count": 184,
   "metadata": {},
   "outputs": [],
   "source": [
    "newHeaderVisitInfo = postISR_exp_newHeader.getInfo().getVisitInfo()"
   ]
  },
  {
   "cell_type": "code",
   "execution_count": 115,
   "metadata": {},
   "outputs": [],
   "source": [
    "expInfo = postISR_exp.getInfo()"
   ]
  },
  {
   "cell_type": "code",
   "execution_count": 116,
   "metadata": {},
   "outputs": [],
   "source": [
    "expVisitInfo = expInfo.getVisitInfo()"
   ]
  },
  {
   "cell_type": "code",
   "execution_count": 117,
   "metadata": {},
   "outputs": [
    {
     "data": {
      "text/plain": [
       "SpherePoint(0.0*geom.degrees, 0.0*geom.degrees)"
      ]
     },
     "execution_count": 117,
     "metadata": {},
     "output_type": "execute_result"
    }
   ],
   "source": [
    "expVisitInfo.getBoresightRaDec()"
   ]
  },
  {
   "cell_type": "code",
   "execution_count": 167,
   "metadata": {},
   "outputs": [],
   "source": [
    "rotAng = expVisitInfo.getBoresightRotAngle()"
   ]
  },
  {
   "cell_type": "code",
   "execution_count": 168,
   "metadata": {},
   "outputs": [
    {
     "data": {
      "text/plain": [
       "119.99999999999999"
      ]
     },
     "execution_count": 168,
     "metadata": {},
     "output_type": "execute_result"
    }
   ],
   "source": [
    "rotAng.asDegrees()"
   ]
  },
  {
   "cell_type": "code",
   "execution_count": 186,
   "metadata": {},
   "outputs": [
    {
     "data": {
      "text/plain": [
       "59.99999999999999"
      ]
     },
     "execution_count": 186,
     "metadata": {},
     "output_type": "execute_result"
    }
   ],
   "source": [
    "newHeaderVisitInfo.getBoresightRotAngle().asDegrees()"
   ]
  },
  {
   "cell_type": "code",
   "execution_count": 120,
   "metadata": {},
   "outputs": [],
   "source": [
    "expMetadata = expInfo.getMetadata()"
   ]
  },
  {
   "cell_type": "code",
   "execution_count": 121,
   "metadata": {},
   "outputs": [
    {
     "data": {
      "text/plain": [
       "120.0"
      ]
     },
     "execution_count": 121,
     "metadata": {},
     "output_type": "execute_result"
    }
   ],
   "source": [
    "expMetadata['ROTANG']"
   ]
  },
  {
   "cell_type": "code",
   "execution_count": 185,
   "metadata": {},
   "outputs": [
    {
     "data": {
      "text/plain": [
       "60.0"
      ]
     },
     "execution_count": 185,
     "metadata": {},
     "output_type": "execute_result"
    }
   ],
   "source": [
    "expMetadata_newHeader = postISR_exp_newHeader.getInfo().getMetadata()\n",
    "expMetadata_newHeader['ROTANG']"
   ]
  }
 ],
 "metadata": {
  "kernelspec": {
   "display_name": "bryce-aos",
   "language": "python",
   "name": "bryce-aos"
  },
  "language_info": {
   "codemirror_mode": {
    "name": "ipython",
    "version": 3
   },
   "file_extension": ".py",
   "mimetype": "text/x-python",
   "name": "python",
   "nbconvert_exporter": "python",
   "pygments_lexer": "ipython3",
   "version": "3.8.8"
  }
 },
 "nbformat": 4,
 "nbformat_minor": 4
}
