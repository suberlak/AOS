{
 "cells": [
  {
   "cell_type": "markdown",
   "id": "ba7b1d1f",
   "metadata": {},
   "source": [
    "I see from https://roundtable.lsst.codes/rubintv/summit/auxtel/historical/2023-08-15 that  sequence numbers 68-79,  `science_program` set to `BLOCK-85` contain the data. \n",
    "\n",
    "Either obtain the seqNums from the EFD, or from the butler registry. "
   ]
  },
  {
   "cell_type": "code",
   "execution_count": 1,
   "id": "dbf12dac",
   "metadata": {},
   "outputs": [
    {
     "name": "stderr",
     "output_type": "stream",
     "text": [
      "INFO:numexpr.utils:Note: detected 128 virtual cores but NumExpr set to maximum of 64, check \"NUMEXPR_MAX_THREADS\" environment variable.\n",
      "INFO:numexpr.utils:Note: NumExpr detected 128 cores but \"NUMEXPR_MAX_THREADS\" not set, so enforcing safe limit of 8.\n",
      "INFO:numexpr.utils:NumExpr defaulting to 8 threads.\n"
     ]
    }
   ],
   "source": [
    "from astropy.time import Time, TimeDelta\n",
    "import pandas as pd\n",
    "from lsst_efd_client import EfdClient\n",
    "from astropy.io import fits\n",
    "from astropy.visualization import ZScaleInterval\n",
    "import matplotlib.pyplot as plt\n",
    "import numpy as np \n",
    "from lsst.daf import butler as dafButler\n",
    "from lsst.pipe.tasks.quickFrameMeasurement import QuickFrameMeasurementTask\n"
   ]
  },
  {
   "cell_type": "code",
   "execution_count": 2,
   "id": "105ac02b",
   "metadata": {},
   "outputs": [
    {
     "name": "stderr",
     "output_type": "stream",
     "text": [
      "INFO:botocore.credentials:Found credentials in shared credentials file: /sdf/home/s/scichris/.lsst/aws-credentials.ini\n"
     ]
    }
   ],
   "source": [
    "efd_client = EfdClient('usdf_efd')\n",
    "day_obs = '20230815'\n",
    "butler = dafButler.Butler('/sdf/data/rubin/repo/embargo/')\n",
    "datasetRefs = butler.registry.queryDatasets('raw',collections='LATISS/raw/all',\n",
    "                              where=f\"instrument='LATISS' AND exposure.day_obs = {day_obs}\").expanded()"
   ]
  },
  {
   "cell_type": "code",
   "execution_count": 3,
   "id": "5b3b2734",
   "metadata": {},
   "outputs": [
    {
     "name": "stdout",
     "output_type": "stream",
     "text": [
      "64 2023081500068\n",
      "65 2023081500071\n",
      "66 2023081500074\n",
      "67 2023081500077\n",
      "81 2023081500070\n",
      "82 2023081500073\n",
      "83 2023081500076\n",
      "84 2023081500079\n",
      "96 2023081500069\n",
      "97 2023081500072\n",
      "98 2023081500075\n",
      "99 2023081500078\n"
     ]
    }
   ],
   "source": [
    "spans = []\n",
    "intra_times = {}\n",
    "extra_times = {}\n",
    "for i, ref in enumerate(datasetRefs):\n",
    "    record = ref.dataId.records[\"exposure\"]\n",
    "    if record.science_program =='BLOCK-85':\n",
    "        print(i,record.dataId['exposure'])\n",
    "        spans.append(record.timespan)\n",
    "        if record.observation_reason.startswith('intra'):\n",
    "            intra_times[record.seq_num] = record.timespan\n",
    "            \n",
    "        elif record.observation_reason.startswith('extra'):\n",
    "            extra_times[record.seq_num] = record.timespan"
   ]
  },
  {
   "cell_type": "code",
   "execution_count": 4,
   "id": "1a94a406",
   "metadata": {
    "scrolled": true
   },
   "outputs": [
    {
     "data": {
      "text/plain": [
       "{68: Timespan(begin=astropy.time.Time('2023-08-16 00:02:47.963000', scale='tai', format='iso'), end=astropy.time.Time('2023-08-16 00:03:18.207000', scale='tai', format='iso')),\n",
       " 74: Timespan(begin=astropy.time.Time('2023-08-16 00:07:34.148009', scale='tai', format='iso'), end=astropy.time.Time('2023-08-16 00:08:04.387000', scale='tai', format='iso')),\n",
       " 70: Timespan(begin=astropy.time.Time('2023-08-16 00:04:31.292996', scale='tai', format='iso'), end=astropy.time.Time('2023-08-16 00:05:01.539000', scale='tai', format='iso')),\n",
       " 76: Timespan(begin=astropy.time.Time('2023-08-16 00:09:04.639009', scale='tai', format='iso'), end=astropy.time.Time('2023-08-16 00:09:34.881000', scale='tai', format='iso')),\n",
       " 72: Timespan(begin=astropy.time.Time('2023-08-16 00:06:02.926014', scale='tai', format='iso'), end=astropy.time.Time('2023-08-16 00:06:33.162000', scale='tai', format='iso')),\n",
       " 78: Timespan(begin=astropy.time.Time('2023-08-16 00:10:35.232000', scale='tai', format='iso'), end=astropy.time.Time('2023-08-16 00:11:05.468000', scale='tai', format='iso'))}"
      ]
     },
     "execution_count": 4,
     "metadata": {},
     "output_type": "execute_result"
    }
   ],
   "source": [
    "intra_times"
   ]
  },
  {
   "cell_type": "markdown",
   "id": "9e785380",
   "metadata": {},
   "source": [
    "The only problem with these times is that they're in TAI - pull the end readout from the `end_readout`, as then it's in UTC. "
   ]
  },
  {
   "cell_type": "markdown",
   "id": "a5b933be",
   "metadata": {},
   "source": [
    "Get the minimum and maximum obs time for the EFD query. This will yield the CWFS results as the algorithm was run :"
   ]
  },
  {
   "cell_type": "code",
   "execution_count": 5,
   "id": "8cdc54b6",
   "metadata": {},
   "outputs": [],
   "source": [
    "t1 = spans[0].begin.utc # need to use UTC scale \n",
    "t2 = spans[-1].end.utc"
   ]
  },
  {
   "cell_type": "code",
   "execution_count": 6,
   "id": "f834a90f",
   "metadata": {},
   "outputs": [],
   "source": [
    "end_readout = await efd_client.select_time_series(\"lsst.sal.ATCamera.logevent_endReadout\", \n",
    "                                          '*', t1, t2)"
   ]
  },
  {
   "cell_type": "markdown",
   "id": "399e90fb",
   "metadata": {},
   "source": [
    "I use the fact that the images are all ordered as intra/extra pairs. So the i-th is intra, and i+1 is extra. Print the `additionalValues` for these to confuirm that : "
   ]
  },
  {
   "cell_type": "code",
   "execution_count": 101,
   "id": "d61a8770",
   "metadata": {
    "scrolled": false
   },
   "outputs": [
    {
     "data": {
      "text/html": [
       "<div>\n",
       "<style scoped>\n",
       "    .dataframe tbody tr th:only-of-type {\n",
       "        vertical-align: middle;\n",
       "    }\n",
       "\n",
       "    .dataframe tbody tr th {\n",
       "        vertical-align: top;\n",
       "    }\n",
       "\n",
       "    .dataframe thead th {\n",
       "        text-align: right;\n",
       "    }\n",
       "</style>\n",
       "<table border=\"1\" class=\"dataframe\">\n",
       "  <thead>\n",
       "    <tr style=\"text-align: right;\">\n",
       "      <th></th>\n",
       "      <th>additionalKeys</th>\n",
       "      <th>additionalValues</th>\n",
       "      <th>imageController</th>\n",
       "      <th>imageDate</th>\n",
       "      <th>imageIndex</th>\n",
       "      <th>imageName</th>\n",
       "      <th>imageNumber</th>\n",
       "      <th>imageSource</th>\n",
       "      <th>imagesInSequence</th>\n",
       "      <th>private_efdStamp</th>\n",
       "      <th>private_identity</th>\n",
       "      <th>private_kafkaStamp</th>\n",
       "      <th>private_origin</th>\n",
       "      <th>private_rcvStamp</th>\n",
       "      <th>private_revCode</th>\n",
       "      <th>private_seqNum</th>\n",
       "      <th>private_sndStamp</th>\n",
       "      <th>requestedExposureTime</th>\n",
       "      <th>timestampAcquisitionStart</th>\n",
       "      <th>timestampEndOfReadout</th>\n",
       "    </tr>\n",
       "  </thead>\n",
       "  <tbody>\n",
       "    <tr>\n",
       "      <th>2023-08-16 00:02:43.611861+00:00</th>\n",
       "      <td>imageType:groupId:testType:stutterRows:stutter...</td>\n",
       "      <td>CWFS:2023-08-16T00\\:00\\:07.273:CWFS:0:0:0.0:IN...</td>\n",
       "      <td>O</td>\n",
       "      <td>20230815</td>\n",
       "      <td>1</td>\n",
       "      <td>AT_O_20230815_000068</td>\n",
       "      <td>68</td>\n",
       "      <td>AT</td>\n",
       "      <td>1</td>\n",
       "      <td>1.692144e+09</td>\n",
       "      <td>ATCamera</td>\n",
       "      <td>1.692144e+09</td>\n",
       "      <td>37488036</td>\n",
       "      <td>1.692144e+09</td>\n",
       "      <td>bf54d117</td>\n",
       "      <td>6266</td>\n",
       "      <td>1.692144e+09</td>\n",
       "      <td>30</td>\n",
       "      <td>1.692142e+09</td>\n",
       "      <td>1.692144e+09</td>\n",
       "    </tr>\n",
       "    <tr>\n",
       "      <th>2023-08-16 00:03:21.077946+00:00</th>\n",
       "      <td>imageType:groupId:testType:stutterRows:stutter...</td>\n",
       "      <td>CWFS:2023-08-16T00\\:00\\:07.273:CWFS:0:0:0.0:EX...</td>\n",
       "      <td>O</td>\n",
       "      <td>20230815</td>\n",
       "      <td>1</td>\n",
       "      <td>AT_O_20230815_000069</td>\n",
       "      <td>69</td>\n",
       "      <td>AT</td>\n",
       "      <td>1</td>\n",
       "      <td>1.692144e+09</td>\n",
       "      <td>ATCamera</td>\n",
       "      <td>1.692144e+09</td>\n",
       "      <td>37488036</td>\n",
       "      <td>1.692144e+09</td>\n",
       "      <td>bf54d117</td>\n",
       "      <td>6267</td>\n",
       "      <td>1.692144e+09</td>\n",
       "      <td>30</td>\n",
       "      <td>1.692144e+09</td>\n",
       "      <td>1.692144e+09</td>\n",
       "    </tr>\n",
       "    <tr>\n",
       "      <th>2023-08-16 00:04:26.945414+00:00</th>\n",
       "      <td>imageType:groupId:testType:stutterRows:stutter...</td>\n",
       "      <td>CWFS:2023-08-16T00\\:04\\:04.999:CWFS:0:0:0.0:IN...</td>\n",
       "      <td>O</td>\n",
       "      <td>20230815</td>\n",
       "      <td>1</td>\n",
       "      <td>AT_O_20230815_000070</td>\n",
       "      <td>70</td>\n",
       "      <td>AT</td>\n",
       "      <td>1</td>\n",
       "      <td>1.692144e+09</td>\n",
       "      <td>ATCamera</td>\n",
       "      <td>1.692144e+09</td>\n",
       "      <td>37488036</td>\n",
       "      <td>1.692144e+09</td>\n",
       "      <td>bf54d117</td>\n",
       "      <td>6268</td>\n",
       "      <td>1.692144e+09</td>\n",
       "      <td>30</td>\n",
       "      <td>1.692144e+09</td>\n",
       "      <td>1.692144e+09</td>\n",
       "    </tr>\n",
       "    <tr>\n",
       "      <th>2023-08-16 00:05:04.501528+00:00</th>\n",
       "      <td>imageType:groupId:testType:stutterRows:stutter...</td>\n",
       "      <td>CWFS:2023-08-16T00\\:04\\:04.999:CWFS:0:0:0.0:EX...</td>\n",
       "      <td>O</td>\n",
       "      <td>20230815</td>\n",
       "      <td>1</td>\n",
       "      <td>AT_O_20230815_000071</td>\n",
       "      <td>71</td>\n",
       "      <td>AT</td>\n",
       "      <td>1</td>\n",
       "      <td>1.692144e+09</td>\n",
       "      <td>ATCamera</td>\n",
       "      <td>1.692144e+09</td>\n",
       "      <td>37488036</td>\n",
       "      <td>1.692144e+09</td>\n",
       "      <td>bf54d117</td>\n",
       "      <td>6269</td>\n",
       "      <td>1.692144e+09</td>\n",
       "      <td>30</td>\n",
       "      <td>1.692144e+09</td>\n",
       "      <td>1.692144e+09</td>\n",
       "    </tr>\n",
       "    <tr>\n",
       "      <th>2023-08-16 00:05:58.567724+00:00</th>\n",
       "      <td>imageType:groupId:testType:stutterRows:stutter...</td>\n",
       "      <td>CWFS:2023-08-16T00\\:05\\:49.451:CWFS:0:0:0.0:IN...</td>\n",
       "      <td>O</td>\n",
       "      <td>20230815</td>\n",
       "      <td>1</td>\n",
       "      <td>AT_O_20230815_000072</td>\n",
       "      <td>72</td>\n",
       "      <td>AT</td>\n",
       "      <td>1</td>\n",
       "      <td>1.692144e+09</td>\n",
       "      <td>ATCamera</td>\n",
       "      <td>1.692144e+09</td>\n",
       "      <td>37488036</td>\n",
       "      <td>1.692144e+09</td>\n",
       "      <td>bf54d117</td>\n",
       "      <td>6270</td>\n",
       "      <td>1.692144e+09</td>\n",
       "      <td>30</td>\n",
       "      <td>1.692144e+09</td>\n",
       "      <td>1.692144e+09</td>\n",
       "    </tr>\n",
       "    <tr>\n",
       "      <th>2023-08-16 00:06:36.818443+00:00</th>\n",
       "      <td>imageType:groupId:testType:stutterRows:stutter...</td>\n",
       "      <td>CWFS:2023-08-16T00\\:05\\:49.451:CWFS:0:0:0.0:EX...</td>\n",
       "      <td>O</td>\n",
       "      <td>20230815</td>\n",
       "      <td>1</td>\n",
       "      <td>AT_O_20230815_000073</td>\n",
       "      <td>73</td>\n",
       "      <td>AT</td>\n",
       "      <td>1</td>\n",
       "      <td>1.692144e+09</td>\n",
       "      <td>ATCamera</td>\n",
       "      <td>1.692144e+09</td>\n",
       "      <td>37488036</td>\n",
       "      <td>1.692144e+09</td>\n",
       "      <td>bf54d117</td>\n",
       "      <td>6271</td>\n",
       "      <td>1.692144e+09</td>\n",
       "      <td>30</td>\n",
       "      <td>1.692144e+09</td>\n",
       "      <td>1.692144e+09</td>\n",
       "    </tr>\n",
       "    <tr>\n",
       "      <th>2023-08-16 00:07:29.793988+00:00</th>\n",
       "      <td>imageType:groupId:testType:stutterRows:stutter...</td>\n",
       "      <td>CWFS:2023-08-16T00\\:07\\:20.951:CWFS:0:0:0.0:IN...</td>\n",
       "      <td>O</td>\n",
       "      <td>20230815</td>\n",
       "      <td>1</td>\n",
       "      <td>AT_O_20230815_000074</td>\n",
       "      <td>74</td>\n",
       "      <td>AT</td>\n",
       "      <td>1</td>\n",
       "      <td>1.692144e+09</td>\n",
       "      <td>ATCamera</td>\n",
       "      <td>1.692144e+09</td>\n",
       "      <td>37488036</td>\n",
       "      <td>1.692144e+09</td>\n",
       "      <td>bf54d117</td>\n",
       "      <td>6272</td>\n",
       "      <td>1.692144e+09</td>\n",
       "      <td>30</td>\n",
       "      <td>1.692144e+09</td>\n",
       "      <td>1.692144e+09</td>\n",
       "    </tr>\n",
       "    <tr>\n",
       "      <th>2023-08-16 00:08:07.490279+00:00</th>\n",
       "      <td>imageType:groupId:testType:stutterRows:stutter...</td>\n",
       "      <td>CWFS:2023-08-16T00\\:07\\:20.951:CWFS:0:0:0.0:EX...</td>\n",
       "      <td>O</td>\n",
       "      <td>20230815</td>\n",
       "      <td>1</td>\n",
       "      <td>AT_O_20230815_000075</td>\n",
       "      <td>75</td>\n",
       "      <td>AT</td>\n",
       "      <td>1</td>\n",
       "      <td>1.692144e+09</td>\n",
       "      <td>ATCamera</td>\n",
       "      <td>1.692145e+09</td>\n",
       "      <td>37488036</td>\n",
       "      <td>1.692145e+09</td>\n",
       "      <td>bf54d117</td>\n",
       "      <td>6273</td>\n",
       "      <td>1.692145e+09</td>\n",
       "      <td>30</td>\n",
       "      <td>1.692144e+09</td>\n",
       "      <td>1.692145e+09</td>\n",
       "    </tr>\n",
       "    <tr>\n",
       "      <th>2023-08-16 00:09:00.286178+00:00</th>\n",
       "      <td>imageType:groupId:testType:stutterRows:stutter...</td>\n",
       "      <td>CWFS:2023-08-16T00\\:08\\:51.511:CWFS:0:0:0.0:IN...</td>\n",
       "      <td>O</td>\n",
       "      <td>20230815</td>\n",
       "      <td>1</td>\n",
       "      <td>AT_O_20230815_000076</td>\n",
       "      <td>76</td>\n",
       "      <td>AT</td>\n",
       "      <td>1</td>\n",
       "      <td>1.692145e+09</td>\n",
       "      <td>ATCamera</td>\n",
       "      <td>1.692145e+09</td>\n",
       "      <td>37488036</td>\n",
       "      <td>1.692145e+09</td>\n",
       "      <td>bf54d117</td>\n",
       "      <td>6274</td>\n",
       "      <td>1.692145e+09</td>\n",
       "      <td>30</td>\n",
       "      <td>1.692145e+09</td>\n",
       "      <td>1.692145e+09</td>\n",
       "    </tr>\n",
       "    <tr>\n",
       "      <th>2023-08-16 00:09:37.957885+00:00</th>\n",
       "      <td>imageType:groupId:testType:stutterRows:stutter...</td>\n",
       "      <td>CWFS:2023-08-16T00\\:08\\:51.511:CWFS:0:0:0.0:EX...</td>\n",
       "      <td>O</td>\n",
       "      <td>20230815</td>\n",
       "      <td>1</td>\n",
       "      <td>AT_O_20230815_000077</td>\n",
       "      <td>77</td>\n",
       "      <td>AT</td>\n",
       "      <td>1</td>\n",
       "      <td>1.692145e+09</td>\n",
       "      <td>ATCamera</td>\n",
       "      <td>1.692145e+09</td>\n",
       "      <td>37488036</td>\n",
       "      <td>1.692145e+09</td>\n",
       "      <td>bf54d117</td>\n",
       "      <td>6275</td>\n",
       "      <td>1.692145e+09</td>\n",
       "      <td>30</td>\n",
       "      <td>1.692145e+09</td>\n",
       "      <td>1.692145e+09</td>\n",
       "    </tr>\n",
       "  </tbody>\n",
       "</table>\n",
       "</div>"
      ],
      "text/plain": [
       "                                                                     additionalKeys  \\\n",
       "2023-08-16 00:02:43.611861+00:00  imageType:groupId:testType:stutterRows:stutter...   \n",
       "2023-08-16 00:03:21.077946+00:00  imageType:groupId:testType:stutterRows:stutter...   \n",
       "2023-08-16 00:04:26.945414+00:00  imageType:groupId:testType:stutterRows:stutter...   \n",
       "2023-08-16 00:05:04.501528+00:00  imageType:groupId:testType:stutterRows:stutter...   \n",
       "2023-08-16 00:05:58.567724+00:00  imageType:groupId:testType:stutterRows:stutter...   \n",
       "2023-08-16 00:06:36.818443+00:00  imageType:groupId:testType:stutterRows:stutter...   \n",
       "2023-08-16 00:07:29.793988+00:00  imageType:groupId:testType:stutterRows:stutter...   \n",
       "2023-08-16 00:08:07.490279+00:00  imageType:groupId:testType:stutterRows:stutter...   \n",
       "2023-08-16 00:09:00.286178+00:00  imageType:groupId:testType:stutterRows:stutter...   \n",
       "2023-08-16 00:09:37.957885+00:00  imageType:groupId:testType:stutterRows:stutter...   \n",
       "\n",
       "                                                                   additionalValues  \\\n",
       "2023-08-16 00:02:43.611861+00:00  CWFS:2023-08-16T00\\:00\\:07.273:CWFS:0:0:0.0:IN...   \n",
       "2023-08-16 00:03:21.077946+00:00  CWFS:2023-08-16T00\\:00\\:07.273:CWFS:0:0:0.0:EX...   \n",
       "2023-08-16 00:04:26.945414+00:00  CWFS:2023-08-16T00\\:04\\:04.999:CWFS:0:0:0.0:IN...   \n",
       "2023-08-16 00:05:04.501528+00:00  CWFS:2023-08-16T00\\:04\\:04.999:CWFS:0:0:0.0:EX...   \n",
       "2023-08-16 00:05:58.567724+00:00  CWFS:2023-08-16T00\\:05\\:49.451:CWFS:0:0:0.0:IN...   \n",
       "2023-08-16 00:06:36.818443+00:00  CWFS:2023-08-16T00\\:05\\:49.451:CWFS:0:0:0.0:EX...   \n",
       "2023-08-16 00:07:29.793988+00:00  CWFS:2023-08-16T00\\:07\\:20.951:CWFS:0:0:0.0:IN...   \n",
       "2023-08-16 00:08:07.490279+00:00  CWFS:2023-08-16T00\\:07\\:20.951:CWFS:0:0:0.0:EX...   \n",
       "2023-08-16 00:09:00.286178+00:00  CWFS:2023-08-16T00\\:08\\:51.511:CWFS:0:0:0.0:IN...   \n",
       "2023-08-16 00:09:37.957885+00:00  CWFS:2023-08-16T00\\:08\\:51.511:CWFS:0:0:0.0:EX...   \n",
       "\n",
       "                                 imageController imageDate  imageIndex  \\\n",
       "2023-08-16 00:02:43.611861+00:00               O  20230815           1   \n",
       "2023-08-16 00:03:21.077946+00:00               O  20230815           1   \n",
       "2023-08-16 00:04:26.945414+00:00               O  20230815           1   \n",
       "2023-08-16 00:05:04.501528+00:00               O  20230815           1   \n",
       "2023-08-16 00:05:58.567724+00:00               O  20230815           1   \n",
       "2023-08-16 00:06:36.818443+00:00               O  20230815           1   \n",
       "2023-08-16 00:07:29.793988+00:00               O  20230815           1   \n",
       "2023-08-16 00:08:07.490279+00:00               O  20230815           1   \n",
       "2023-08-16 00:09:00.286178+00:00               O  20230815           1   \n",
       "2023-08-16 00:09:37.957885+00:00               O  20230815           1   \n",
       "\n",
       "                                             imageName  imageNumber  \\\n",
       "2023-08-16 00:02:43.611861+00:00  AT_O_20230815_000068           68   \n",
       "2023-08-16 00:03:21.077946+00:00  AT_O_20230815_000069           69   \n",
       "2023-08-16 00:04:26.945414+00:00  AT_O_20230815_000070           70   \n",
       "2023-08-16 00:05:04.501528+00:00  AT_O_20230815_000071           71   \n",
       "2023-08-16 00:05:58.567724+00:00  AT_O_20230815_000072           72   \n",
       "2023-08-16 00:06:36.818443+00:00  AT_O_20230815_000073           73   \n",
       "2023-08-16 00:07:29.793988+00:00  AT_O_20230815_000074           74   \n",
       "2023-08-16 00:08:07.490279+00:00  AT_O_20230815_000075           75   \n",
       "2023-08-16 00:09:00.286178+00:00  AT_O_20230815_000076           76   \n",
       "2023-08-16 00:09:37.957885+00:00  AT_O_20230815_000077           77   \n",
       "\n",
       "                                 imageSource  imagesInSequence  \\\n",
       "2023-08-16 00:02:43.611861+00:00          AT                 1   \n",
       "2023-08-16 00:03:21.077946+00:00          AT                 1   \n",
       "2023-08-16 00:04:26.945414+00:00          AT                 1   \n",
       "2023-08-16 00:05:04.501528+00:00          AT                 1   \n",
       "2023-08-16 00:05:58.567724+00:00          AT                 1   \n",
       "2023-08-16 00:06:36.818443+00:00          AT                 1   \n",
       "2023-08-16 00:07:29.793988+00:00          AT                 1   \n",
       "2023-08-16 00:08:07.490279+00:00          AT                 1   \n",
       "2023-08-16 00:09:00.286178+00:00          AT                 1   \n",
       "2023-08-16 00:09:37.957885+00:00          AT                 1   \n",
       "\n",
       "                                  private_efdStamp private_identity  \\\n",
       "2023-08-16 00:02:43.611861+00:00      1.692144e+09         ATCamera   \n",
       "2023-08-16 00:03:21.077946+00:00      1.692144e+09         ATCamera   \n",
       "2023-08-16 00:04:26.945414+00:00      1.692144e+09         ATCamera   \n",
       "2023-08-16 00:05:04.501528+00:00      1.692144e+09         ATCamera   \n",
       "2023-08-16 00:05:58.567724+00:00      1.692144e+09         ATCamera   \n",
       "2023-08-16 00:06:36.818443+00:00      1.692144e+09         ATCamera   \n",
       "2023-08-16 00:07:29.793988+00:00      1.692144e+09         ATCamera   \n",
       "2023-08-16 00:08:07.490279+00:00      1.692144e+09         ATCamera   \n",
       "2023-08-16 00:09:00.286178+00:00      1.692145e+09         ATCamera   \n",
       "2023-08-16 00:09:37.957885+00:00      1.692145e+09         ATCamera   \n",
       "\n",
       "                                  private_kafkaStamp  private_origin  \\\n",
       "2023-08-16 00:02:43.611861+00:00        1.692144e+09        37488036   \n",
       "2023-08-16 00:03:21.077946+00:00        1.692144e+09        37488036   \n",
       "2023-08-16 00:04:26.945414+00:00        1.692144e+09        37488036   \n",
       "2023-08-16 00:05:04.501528+00:00        1.692144e+09        37488036   \n",
       "2023-08-16 00:05:58.567724+00:00        1.692144e+09        37488036   \n",
       "2023-08-16 00:06:36.818443+00:00        1.692144e+09        37488036   \n",
       "2023-08-16 00:07:29.793988+00:00        1.692144e+09        37488036   \n",
       "2023-08-16 00:08:07.490279+00:00        1.692145e+09        37488036   \n",
       "2023-08-16 00:09:00.286178+00:00        1.692145e+09        37488036   \n",
       "2023-08-16 00:09:37.957885+00:00        1.692145e+09        37488036   \n",
       "\n",
       "                                  private_rcvStamp private_revCode  \\\n",
       "2023-08-16 00:02:43.611861+00:00      1.692144e+09        bf54d117   \n",
       "2023-08-16 00:03:21.077946+00:00      1.692144e+09        bf54d117   \n",
       "2023-08-16 00:04:26.945414+00:00      1.692144e+09        bf54d117   \n",
       "2023-08-16 00:05:04.501528+00:00      1.692144e+09        bf54d117   \n",
       "2023-08-16 00:05:58.567724+00:00      1.692144e+09        bf54d117   \n",
       "2023-08-16 00:06:36.818443+00:00      1.692144e+09        bf54d117   \n",
       "2023-08-16 00:07:29.793988+00:00      1.692144e+09        bf54d117   \n",
       "2023-08-16 00:08:07.490279+00:00      1.692145e+09        bf54d117   \n",
       "2023-08-16 00:09:00.286178+00:00      1.692145e+09        bf54d117   \n",
       "2023-08-16 00:09:37.957885+00:00      1.692145e+09        bf54d117   \n",
       "\n",
       "                                  private_seqNum  private_sndStamp  \\\n",
       "2023-08-16 00:02:43.611861+00:00            6266      1.692144e+09   \n",
       "2023-08-16 00:03:21.077946+00:00            6267      1.692144e+09   \n",
       "2023-08-16 00:04:26.945414+00:00            6268      1.692144e+09   \n",
       "2023-08-16 00:05:04.501528+00:00            6269      1.692144e+09   \n",
       "2023-08-16 00:05:58.567724+00:00            6270      1.692144e+09   \n",
       "2023-08-16 00:06:36.818443+00:00            6271      1.692144e+09   \n",
       "2023-08-16 00:07:29.793988+00:00            6272      1.692144e+09   \n",
       "2023-08-16 00:08:07.490279+00:00            6273      1.692145e+09   \n",
       "2023-08-16 00:09:00.286178+00:00            6274      1.692145e+09   \n",
       "2023-08-16 00:09:37.957885+00:00            6275      1.692145e+09   \n",
       "\n",
       "                                  requestedExposureTime  \\\n",
       "2023-08-16 00:02:43.611861+00:00                     30   \n",
       "2023-08-16 00:03:21.077946+00:00                     30   \n",
       "2023-08-16 00:04:26.945414+00:00                     30   \n",
       "2023-08-16 00:05:04.501528+00:00                     30   \n",
       "2023-08-16 00:05:58.567724+00:00                     30   \n",
       "2023-08-16 00:06:36.818443+00:00                     30   \n",
       "2023-08-16 00:07:29.793988+00:00                     30   \n",
       "2023-08-16 00:08:07.490279+00:00                     30   \n",
       "2023-08-16 00:09:00.286178+00:00                     30   \n",
       "2023-08-16 00:09:37.957885+00:00                     30   \n",
       "\n",
       "                                  timestampAcquisitionStart  \\\n",
       "2023-08-16 00:02:43.611861+00:00               1.692142e+09   \n",
       "2023-08-16 00:03:21.077946+00:00               1.692144e+09   \n",
       "2023-08-16 00:04:26.945414+00:00               1.692144e+09   \n",
       "2023-08-16 00:05:04.501528+00:00               1.692144e+09   \n",
       "2023-08-16 00:05:58.567724+00:00               1.692144e+09   \n",
       "2023-08-16 00:06:36.818443+00:00               1.692144e+09   \n",
       "2023-08-16 00:07:29.793988+00:00               1.692144e+09   \n",
       "2023-08-16 00:08:07.490279+00:00               1.692144e+09   \n",
       "2023-08-16 00:09:00.286178+00:00               1.692145e+09   \n",
       "2023-08-16 00:09:37.957885+00:00               1.692145e+09   \n",
       "\n",
       "                                  timestampEndOfReadout  \n",
       "2023-08-16 00:02:43.611861+00:00           1.692144e+09  \n",
       "2023-08-16 00:03:21.077946+00:00           1.692144e+09  \n",
       "2023-08-16 00:04:26.945414+00:00           1.692144e+09  \n",
       "2023-08-16 00:05:04.501528+00:00           1.692144e+09  \n",
       "2023-08-16 00:05:58.567724+00:00           1.692144e+09  \n",
       "2023-08-16 00:06:36.818443+00:00           1.692144e+09  \n",
       "2023-08-16 00:07:29.793988+00:00           1.692144e+09  \n",
       "2023-08-16 00:08:07.490279+00:00           1.692145e+09  \n",
       "2023-08-16 00:09:00.286178+00:00           1.692145e+09  \n",
       "2023-08-16 00:09:37.957885+00:00           1.692145e+09  "
      ]
     },
     "execution_count": 101,
     "metadata": {},
     "output_type": "execute_result"
    }
   ],
   "source": [
    "end_readout"
   ]
  },
  {
   "cell_type": "markdown",
   "id": "92296971",
   "metadata": {},
   "source": [
    "Find out the end of the readout time for each image in the intra/extra pair: "
   ]
  },
  {
   "cell_type": "code",
   "execution_count": 7,
   "id": "38a098fc",
   "metadata": {},
   "outputs": [
    {
     "name": "stdout",
     "output_type": "stream",
     "text": [
      "\n",
      " 68 INTRA_SITCOM-778 & 69 EXTRA_SITCOM-778\n",
      "0\n",
      "\n",
      " 70 INTRA_SITCOM-778 & 71 EXTRA_SITCOM-778\n",
      "2\n",
      "\n",
      " 72 INTRA_SITCOM-778 & 73 EXTRA_SITCOM-778\n",
      "4\n",
      "\n",
      " 74 INTRA_SITCOM-778 & 75 EXTRA_SITCOM-778\n",
      "6\n",
      "\n",
      " 76 INTRA_SITCOM-778 & 77 EXTRA_SITCOM-778\n",
      "8\n"
     ]
    }
   ],
   "source": [
    "intra_readout_times = []\n",
    "extra_readout_times = []\n",
    "intra_seqNum = []\n",
    "extra_seqNum = []\n",
    "i =0 \n",
    "while i < len(end_readout):\n",
    "#for i in range(len(end_readout)-1):\n",
    "    intra_readout_times.append(end_readout.index[i])\n",
    "    extra_readout_times.append(end_readout.index[i+1])\n",
    "    intra_seqNum.append(end_readout['imageNumber'][i])\n",
    "    extra_seqNum.append(end_readout['imageNumber'][i+1])\n",
    "    print('\\n',end_readout['imageNumber'][i], end_readout['additionalValues'][i].split(':')[-2],\n",
    "          '&',end_readout['imageNumber'][i+1], end_readout['additionalValues'][i+1].split(':')[-2])\n",
    "    print(i)\n",
    "    i += 2"
   ]
  },
  {
   "cell_type": "code",
   "execution_count": 8,
   "id": "48de424f",
   "metadata": {},
   "outputs": [
    {
     "name": "stdout",
     "output_type": "stream",
     "text": [
      "68 69 0.23884503136774024\n",
      "70 71 -14.447712783571854\n",
      "72 73 -14.158836965996835\n",
      "74 75 -13.869004070542525\n",
      "76 77 -13.576174265535128\n"
     ]
    }
   ],
   "source": [
    "# Populate the data structure from the pairs found above\n",
    "for i in range(len(intra_readout_times)):\n",
    "    \n",
    "    # Determine time stamps for searching for metadata\n",
    "    # include ability to correct for TAI if required, but set to zero for the moment\n",
    "\n",
    "    t1 = Time(intra_readout_times[i]) - TimeDelta(30, format='sec') \n",
    "    \n",
    "    t2 = Time(extra_readout_times[i]) - TimeDelta(2., format='sec')\n",
    "\n",
    "    azel = await efd_client.select_time_series(\"lsst.sal.ATMCS.mount_AzEl_Encoders\", \n",
    "                                               [\"elevationCalculatedAngle99\", \"azimuthCalculatedAngle99\"], \n",
    "                                               t1, t2,\n",
    "                                              convert_influx_index=False)\n",
    "    \n",
    "    rotator = await efd_client.select_time_series(\"lsst.sal.ATMCS.mount_Nasmyth_Encoders\",\n",
    "                                                  [\"nasmyth2CalculatedAngle99\"], t1, t2,\n",
    "                                                 convert_influx_index=False)\n",
    "\n",
    "\n",
    "    \n",
    "    rot_pos = np.mean(rotator['nasmyth2CalculatedAngle99'])\n",
    "    el = np.mean(azel['elevationCalculatedAngle99'])\n",
    "    az = np.mean(azel['azimuthCalculatedAngle99'])\n",
    "    print(intra_seqNum[i], extra_seqNum[i], rot_pos,)# el, az)\n",
    "   "
   ]
  },
  {
   "cell_type": "markdown",
   "id": "dbfb2938",
   "metadata": {},
   "source": [
    "Well - run the WEP pipeline as a pipetask for these pairs of exposures... "
   ]
  },
  {
   "cell_type": "markdown",
   "id": "9a5c1767",
   "metadata": {},
   "source": [
    "Show the `quickLookExp` - could I use these as input?  "
   ]
  },
  {
   "cell_type": "code",
   "execution_count": 9,
   "id": "6074e29a",
   "metadata": {},
   "outputs": [],
   "source": [
    "from lsst.obs.lsst import Latiss\n",
    "from astropy.visualization import ZScaleInterval\n",
    "\n",
    "butler = dafButler.Butler('/sdf/data/rubin/repo/embargo/',\n",
    "                         collections=['LATISS/raw/all', 'LATISS/calib', 'LATISS/runs/quickLook'],)\n",
    "datasetRefOrType = 'quickLookExp'\n",
    "\n",
    "i=0\n",
    "expIdIntra = f'{day_obs}{str(intra_seqNum[i]).zfill(5)}'\n",
    "expIdExtra = f'{day_obs}{str(extra_seqNum[i]).zfill(5)}'\n",
    "    \n",
    "\n",
    "exposure_intra = butler.get(datasetRefOrType, \n",
    "                                dataId={'instrument':'LATISS', 'detector':0, \n",
    "                                      'exposure':int(expIdIntra)}, )\n",
    "    \n",
    "exposure_extra = butler.get(datasetRefOrType, \n",
    "                                dataId={'instrument':'LATISS', 'detector':0, \n",
    "                                      'exposure':int(expIdExtra)}, )"
   ]
  },
  {
   "cell_type": "code",
   "execution_count": 10,
   "id": "b18dc237",
   "metadata": {},
   "outputs": [],
   "source": [
    "butler = dafButler.Butler(\n",
    "    '/sdf/data/rubin/repo/embargo/',\n",
    "    collections=['LATISS/runs/quickLook'],\n",
    "    instrument='LATISS'\n",
    ")\n",
    "day = 20230815\n",
    "seqNum = 68\n",
    "dataId = {'day_obs': day,'detector':0, 'seq_num':seqNum}\n",
    "exposure = butler.get('quickLookExp', dataId=dataId, )"
   ]
  },
  {
   "cell_type": "code",
   "execution_count": 84,
   "id": "1b603186",
   "metadata": {},
   "outputs": [
    {
     "ename": "LookupError",
     "evalue": "Dataset quickLookExp with data ID {instrument: 'LATISS', detector: 0, exposure: 2023081500068} could not be found in collections ('LATISS/raw/all', 'LATISS/calib', 'LATISS/runs/quickLook').",
     "output_type": "error",
     "traceback": [
      "\u001b[0;31m---------------------------------------------------------------------------\u001b[0m",
      "\u001b[0;31mLookupError\u001b[0m                               Traceback (most recent call last)",
      "Cell \u001b[0;32mIn[84], line 4\u001b[0m\n\u001b[1;32m      1\u001b[0m \u001b[38;5;66;03m# minimal example\u001b[39;00m\n\u001b[1;32m      2\u001b[0m butler \u001b[38;5;241m=\u001b[39m dafButler\u001b[38;5;241m.\u001b[39mButler(\u001b[38;5;124m'\u001b[39m\u001b[38;5;124m/sdf/data/rubin/repo/embargo/\u001b[39m\u001b[38;5;124m'\u001b[39m,\n\u001b[1;32m      3\u001b[0m                          collections\u001b[38;5;241m=\u001b[39m[\u001b[38;5;124m'\u001b[39m\u001b[38;5;124mLATISS/raw/all\u001b[39m\u001b[38;5;124m'\u001b[39m, \u001b[38;5;124m'\u001b[39m\u001b[38;5;124mLATISS/calib\u001b[39m\u001b[38;5;124m'\u001b[39m, \u001b[38;5;124m'\u001b[39m\u001b[38;5;124mLATISS/runs/quickLook\u001b[39m\u001b[38;5;124m'\u001b[39m],)\n\u001b[0;32m----> 4\u001b[0m exposure_extra \u001b[38;5;241m=\u001b[39m \u001b[43mbutler\u001b[49m\u001b[38;5;241;43m.\u001b[39;49m\u001b[43mget\u001b[49m\u001b[43m(\u001b[49m\u001b[38;5;124;43m'\u001b[39;49m\u001b[38;5;124;43mquickLookExp\u001b[39;49m\u001b[38;5;124;43m'\u001b[39;49m\u001b[43m,\u001b[49m\u001b[43m \u001b[49m\n\u001b[1;32m      5\u001b[0m \u001b[43m                                \u001b[49m\u001b[43mdataId\u001b[49m\u001b[38;5;241;43m=\u001b[39;49m\u001b[43m{\u001b[49m\u001b[38;5;124;43m'\u001b[39;49m\u001b[38;5;124;43minstrument\u001b[39;49m\u001b[38;5;124;43m'\u001b[39;49m\u001b[43m:\u001b[49m\u001b[38;5;124;43m'\u001b[39;49m\u001b[38;5;124;43mLATISS\u001b[39;49m\u001b[38;5;124;43m'\u001b[39;49m\u001b[43m,\u001b[49m\u001b[43m \u001b[49m\u001b[38;5;124;43m'\u001b[39;49m\u001b[38;5;124;43mdetector\u001b[39;49m\u001b[38;5;124;43m'\u001b[39;49m\u001b[43m:\u001b[49m\u001b[38;5;241;43m0\u001b[39;49m\u001b[43m,\u001b[49m\u001b[43m \u001b[49m\n\u001b[1;32m      6\u001b[0m \u001b[43m                                      \u001b[49m\u001b[38;5;124;43m'\u001b[39;49m\u001b[38;5;124;43mexposure\u001b[39;49m\u001b[38;5;124;43m'\u001b[39;49m\u001b[43m:\u001b[49m\u001b[38;5;241;43m2023081500068\u001b[39;49m\u001b[43m}\u001b[49m\u001b[43m \u001b[49m\u001b[43m)\u001b[49m\n",
      "File \u001b[0;32m/sdf/group/rubin/sw/conda/envs/lsst-scipipe-7.0.1/share/eups/Linux64/daf_butler/g7c9a229361+00250e67ca/python/lsst/daf/butler/_butler.py:1421\u001b[0m, in \u001b[0;36mButler.get\u001b[0;34m(self, datasetRefOrType, dataId, parameters, collections, storageClass, **kwargs)\u001b[0m\n\u001b[1;32m   1367\u001b[0m \u001b[38;5;250m\u001b[39m\u001b[38;5;124;03m\"\"\"Retrieve a stored dataset.\u001b[39;00m\n\u001b[1;32m   1368\u001b[0m \n\u001b[1;32m   1369\u001b[0m \u001b[38;5;124;03mParameters\u001b[39;00m\n\u001b[0;32m   (...)\u001b[0m\n\u001b[1;32m   1418\u001b[0m \u001b[38;5;124;03m``exposure`` is a temporal dimension.\u001b[39;00m\n\u001b[1;32m   1419\u001b[0m \u001b[38;5;124;03m\"\"\"\u001b[39;00m\n\u001b[1;32m   1420\u001b[0m log\u001b[38;5;241m.\u001b[39mdebug(\u001b[38;5;124m\"\u001b[39m\u001b[38;5;124mButler get: \u001b[39m\u001b[38;5;132;01m%s\u001b[39;00m\u001b[38;5;124m, dataId=\u001b[39m\u001b[38;5;132;01m%s\u001b[39;00m\u001b[38;5;124m, parameters=\u001b[39m\u001b[38;5;132;01m%s\u001b[39;00m\u001b[38;5;124m\"\u001b[39m, datasetRefOrType, dataId, parameters)\n\u001b[0;32m-> 1421\u001b[0m ref \u001b[38;5;241m=\u001b[39m \u001b[38;5;28;43mself\u001b[39;49m\u001b[38;5;241;43m.\u001b[39;49m\u001b[43m_findDatasetRef\u001b[49m\u001b[43m(\u001b[49m\u001b[43mdatasetRefOrType\u001b[49m\u001b[43m,\u001b[49m\u001b[43m \u001b[49m\u001b[43mdataId\u001b[49m\u001b[43m,\u001b[49m\u001b[43m \u001b[49m\u001b[43mcollections\u001b[49m\u001b[38;5;241;43m=\u001b[39;49m\u001b[43mcollections\u001b[49m\u001b[43m,\u001b[49m\u001b[43m \u001b[49m\u001b[38;5;241;43m*\u001b[39;49m\u001b[38;5;241;43m*\u001b[39;49m\u001b[43mkwargs\u001b[49m\u001b[43m)\u001b[49m\n\u001b[1;32m   1422\u001b[0m \u001b[38;5;28;01mreturn\u001b[39;00m \u001b[38;5;28mself\u001b[39m\u001b[38;5;241m.\u001b[39m_datastore\u001b[38;5;241m.\u001b[39mget(ref, parameters\u001b[38;5;241m=\u001b[39mparameters, storageClass\u001b[38;5;241m=\u001b[39mstorageClass)\n",
      "File \u001b[0;32m/sdf/group/rubin/sw/conda/envs/lsst-scipipe-7.0.1/share/eups/Linux64/daf_butler/g7c9a229361+00250e67ca/python/lsst/daf/butler/_butler.py:1094\u001b[0m, in \u001b[0;36mButler._findDatasetRef\u001b[0;34m(self, datasetRefOrType, dataId, collections, predict, run, **kwargs)\u001b[0m\n\u001b[1;32m   1092\u001b[0m         \u001b[38;5;28;01mif\u001b[39;00m collections \u001b[38;5;129;01mis\u001b[39;00m \u001b[38;5;28;01mNone\u001b[39;00m:\n\u001b[1;32m   1093\u001b[0m             collections \u001b[38;5;241m=\u001b[39m \u001b[38;5;28mself\u001b[39m\u001b[38;5;241m.\u001b[39m_registry\u001b[38;5;241m.\u001b[39mdefaults\u001b[38;5;241m.\u001b[39mcollections\n\u001b[0;32m-> 1094\u001b[0m         \u001b[38;5;28;01mraise\u001b[39;00m \u001b[38;5;167;01mLookupError\u001b[39;00m(\n\u001b[1;32m   1095\u001b[0m             \u001b[38;5;124mf\u001b[39m\u001b[38;5;124m\"\u001b[39m\u001b[38;5;124mDataset \u001b[39m\u001b[38;5;132;01m{\u001b[39;00mdatasetType\u001b[38;5;241m.\u001b[39mname\u001b[38;5;132;01m}\u001b[39;00m\u001b[38;5;124m with data ID \u001b[39m\u001b[38;5;132;01m{\u001b[39;00mdataId\u001b[38;5;132;01m}\u001b[39;00m\u001b[38;5;124m \u001b[39m\u001b[38;5;124m\"\u001b[39m\n\u001b[1;32m   1096\u001b[0m             \u001b[38;5;124mf\u001b[39m\u001b[38;5;124m\"\u001b[39m\u001b[38;5;124mcould not be found in collections \u001b[39m\u001b[38;5;132;01m{\u001b[39;00mcollections\u001b[38;5;132;01m}\u001b[39;00m\u001b[38;5;124m.\u001b[39m\u001b[38;5;124m\"\u001b[39m\n\u001b[1;32m   1097\u001b[0m         )\n\u001b[1;32m   1098\u001b[0m \u001b[38;5;28;01mif\u001b[39;00m datasetType \u001b[38;5;241m!=\u001b[39m ref\u001b[38;5;241m.\u001b[39mdatasetType:\n\u001b[1;32m   1099\u001b[0m     \u001b[38;5;66;03m# If they differ it is because the user explicitly specified\u001b[39;00m\n\u001b[1;32m   1100\u001b[0m     \u001b[38;5;66;03m# a compatible dataset type to this call rather than using the\u001b[39;00m\n\u001b[1;32m   1101\u001b[0m     \u001b[38;5;66;03m# registry definition. The DatasetRef must therefore be recreated\u001b[39;00m\n\u001b[1;32m   1102\u001b[0m     \u001b[38;5;66;03m# using the user definition such that the expected type is\u001b[39;00m\n\u001b[1;32m   1103\u001b[0m     \u001b[38;5;66;03m# returned.\u001b[39;00m\n\u001b[1;32m   1104\u001b[0m     ref \u001b[38;5;241m=\u001b[39m DatasetRef(datasetType, ref\u001b[38;5;241m.\u001b[39mdataId, run\u001b[38;5;241m=\u001b[39mref\u001b[38;5;241m.\u001b[39mrun, \u001b[38;5;28mid\u001b[39m\u001b[38;5;241m=\u001b[39mref\u001b[38;5;241m.\u001b[39mid)\n",
      "\u001b[0;31mLookupError\u001b[0m: Dataset quickLookExp with data ID {instrument: 'LATISS', detector: 0, exposure: 2023081500068} could not be found in collections ('LATISS/raw/all', 'LATISS/calib', 'LATISS/runs/quickLook')."
     ]
    }
   ],
   "source": [
    "# minimal example\n",
    "butler = dafButler.Butler('/sdf/data/rubin/repo/embargo/',\n",
    "                         collections=['LATISS/raw/all', 'LATISS/calib', 'LATISS/runs/quickLook'],)\n",
    "exposure_extra = butler.get('quickLookExp', \n",
    "                             dataId={'instrument':'LATISS', 'detector':0, \n",
    "                                      'exposure':2023081500068} \n",
    "                           )"
   ]
  },
  {
   "cell_type": "markdown",
   "id": "f28519ca",
   "metadata": {},
   "source": [
    "build the pipetask yaml:"
   ]
  },
  {
   "cell_type": "code",
   "execution_count": 38,
   "id": "cb263644",
   "metadata": {},
   "outputs": [],
   "source": [
    "from lsst.ts.wep.utility import getConfigDir"
   ]
  },
  {
   "cell_type": "code",
   "execution_count": 46,
   "id": "cd9b0f6a",
   "metadata": {},
   "outputs": [],
   "source": [
    "from lsst.ts.wep.utility import getModulePath"
   ]
  },
  {
   "cell_type": "markdown",
   "id": "b71b159e",
   "metadata": {},
   "source": [
    "So the instrument-specific yaml is inherited by an outdated test pipeline file.  Now I update that file "
   ]
  },
  {
   "cell_type": "code",
   "execution_count": 49,
   "id": "a13d6f47",
   "metadata": {},
   "outputs": [],
   "source": [
    "# this is the instrument-specific yaml, i.e. cutOutDonuts, calcZernikesTask ...\n",
    "#path_to_yaml = os.path.join(getConfigDir(), 'cwfs/instData/auxTel/instParamPipeConfig.yaml')\n",
    "\n",
    "# this is a file used to process auxTel data,\n",
    "# including ISR, generateDonutDirectDetectTask, cutOutDonutsScienceSensorTask, calcZernikesTask\n",
    "path_to_yaml  = os.path.join(getModulePath(), 'tests/testData/pipelineConfigs/testCalcZernikesLatissPipeline.yaml')"
   ]
  },
  {
   "cell_type": "code",
   "execution_count": 44,
   "id": "1f46d4c1",
   "metadata": {},
   "outputs": [],
   "source": [
    "import stacking"
   ]
  },
  {
   "cell_type": "code",
   "execution_count": 56,
   "id": "c0e416ec",
   "metadata": {},
   "outputs": [],
   "source": []
  },
  {
   "cell_type": "code",
   "execution_count": null,
   "id": "2e66158e",
   "metadata": {},
   "outputs": [
    {
     "name": "stdout",
     "output_type": "stream",
     "text": [
      "pipetask run -b /sdf/data/rubin/repo/embargo/ -i LATISS/raw/all,LATISS/calib  --output u/scichris/Latiss/DM-40493  --instrument lsst.obs.lsst.Latiss  --register-dataset-types  -p /sdf/home/s/scichris/link_to_scichris/WORK/AOS/DM-40493/testCalcZernikesLatissPipelineUpdated.yaml -d 'exposure IN (2023081500068, 2023081500069)'\n"
     ]
    },
    {
     "name": "stderr",
     "output_type": "stream",
     "text": [
      "lsst.ctrl.mpexec.cmdLineFwk INFO: QuantumGraph contains 7 quanta for 4 tasks, graph ID: '1693250565.3595757-1969447'\n",
      "Quanta             Tasks            \n",
      "------ -----------------------------\n",
      "     2                           isr\n",
      "     2 generateDonutDirectDetectTask\n",
      "     1 cutOutDonutsScienceSensorTask\n",
      "     2              calcZernikesTask\n",
      "lsst.ctrl.mpexec.singleQuantumExecutor INFO: Preparing execution of quantum for label=isr dataId={instrument: 'LATISS', detector: 0, exposure: 2023081500068, ...}.\n",
      "lsst.ctrl.mpexec.singleQuantumExecutor INFO: Constructing task and executing quantum for label=isr dataId={instrument: 'LATISS', detector: 0, exposure: 2023081500068, ...}.\n",
      "lsst.isr INFO: Converting exposure to floating point values.\n",
      "lsst.isr INFO: Assembling CCD from amplifiers.\n",
      "lsst.isr INFO: Widening saturation trails.\n",
      "lsst.isr INFO: Applying gain correction instead of flat.\n",
      "lsst.isr WARNING: No rough magnitude zero point defined for filter empty~empty.\n",
      "lsst.isr INFO: Setting rough magnitude zero point for filter empty~empty: 31.692803\n",
      "lsst.ctrl.mpexec.singleQuantumExecutor INFO: Execution of task 'isr' on quantum {instrument: 'LATISS', detector: 0, exposure: 2023081500068, ...} took 5.222 seconds\n",
      "lsst.ctrl.mpexec.mpGraphExecutor INFO: Executed 1 quanta successfully, 0 failed and 6 remain out of total 7 quanta.\n",
      "lsst.ctrl.mpexec.singleQuantumExecutor INFO: Preparing execution of quantum for label=isr dataId={instrument: 'LATISS', detector: 0, exposure: 2023081500069, ...}.\n",
      "lsst.ctrl.mpexec.singleQuantumExecutor INFO: Constructing task and executing quantum for label=isr dataId={instrument: 'LATISS', detector: 0, exposure: 2023081500069, ...}.\n",
      "lsst.isr INFO: Converting exposure to floating point values.\n",
      "lsst.isr INFO: Assembling CCD from amplifiers.\n",
      "lsst.isr INFO: Widening saturation trails.\n",
      "lsst.isr INFO: Applying gain correction instead of flat.\n",
      "lsst.isr WARNING: No rough magnitude zero point defined for filter empty~empty.\n",
      "lsst.isr INFO: Setting rough magnitude zero point for filter empty~empty: 31.692803\n",
      "lsst.ctrl.mpexec.singleQuantumExecutor INFO: Execution of task 'isr' on quantum {instrument: 'LATISS', detector: 0, exposure: 2023081500069, ...} took 4.427 seconds\n",
      "lsst.ctrl.mpexec.mpGraphExecutor INFO: Executed 2 quanta successfully, 0 failed and 5 remain out of total 7 quanta.\n",
      "lsst.ctrl.mpexec.singleQuantumExecutor INFO: Preparing execution of quantum for label=generateDonutDirectDetectTask dataId={instrument: 'LATISS', detector: 0, visit: 2023081500068, ...}.\n",
      "lsst.ctrl.mpexec.singleQuantumExecutor INFO: Constructing task and executing quantum for label=generateDonutDirectDetectTask dataId={instrument: 'LATISS', detector: 0, visit: 2023081500068, ...}.\n",
      "lsst.generateDonutDirectDetectTask.measurementTask INFO: Found 6 sources in exposure\n",
      "lsst.generateDonutDirectDetectTask.measurementTask INFO: Measured 6 of 6 sources in exposure\n",
      "lsst.generateDonutDirectDetectTask INFO: Running Donut Selector\n",
      "lsst.generateDonutDirectDetectTask.donutSelector INFO: Selected 1/6 references\n",
      "lsst.ctrl.mpexec.singleQuantumExecutor INFO: Execution of task 'generateDonutDirectDetectTask' on quantum {instrument: 'LATISS', detector: 0, visit: 2023081500068, ...} took 2.325 seconds\n",
      "lsst.ctrl.mpexec.mpGraphExecutor INFO: Executed 3 quanta successfully, 0 failed and 4 remain out of total 7 quanta.\n",
      "lsst.ctrl.mpexec.singleQuantumExecutor INFO: Preparing execution of quantum for label=generateDonutDirectDetectTask dataId={instrument: 'LATISS', detector: 0, visit: 2023081500069, ...}.\n",
      "lsst.ctrl.mpexec.singleQuantumExecutor INFO: Constructing task and executing quantum for label=generateDonutDirectDetectTask dataId={instrument: 'LATISS', detector: 0, visit: 2023081500069, ...}.\n",
      "lsst.generateDonutDirectDetectTask.measurementTask INFO: Found 3 sources in exposure\n",
      "lsst.generateDonutDirectDetectTask.measurementTask INFO: Measured 3 of 3 sources in exposure\n",
      "lsst.generateDonutDirectDetectTask INFO: Running Donut Selector\n",
      "lsst.generateDonutDirectDetectTask.donutSelector INFO: Selected 1/3 references\n",
      "lsst.ctrl.mpexec.singleQuantumExecutor INFO: Execution of task 'generateDonutDirectDetectTask' on quantum {instrument: 'LATISS', detector: 0, visit: 2023081500069, ...} took 2.392 seconds\n",
      "lsst.ctrl.mpexec.mpGraphExecutor INFO: Executed 4 quanta successfully, 0 failed and 3 remain out of total 7 quanta.\n",
      "lsst.ctrl.mpexec.singleQuantumExecutor INFO: Preparing execution of quantum for label=cutOutDonutsScienceSensorTask dataId={instrument: 'LATISS', detector: 0}.\n",
      "lsst.ctrl.mpexec.singleQuantumExecutor INFO: Constructing task and executing quantum for label=cutOutDonutsScienceSensorTask dataId={instrument: 'LATISS', detector: 0}.\n",
      "lsst.ctrl.mpexec.singleQuantumExecutor INFO: Execution of task 'cutOutDonutsScienceSensorTask' on quantum {instrument: 'LATISS', detector: 0} took 1.772 seconds\n",
      "lsst.ctrl.mpexec.mpGraphExecutor INFO: Executed 5 quanta successfully, 0 failed and 2 remain out of total 7 quanta.\n",
      "lsst.ctrl.mpexec.singleQuantumExecutor INFO: Preparing execution of quantum for label=calcZernikesTask dataId={instrument: 'LATISS', detector: 0, visit: 2023081500069, ...}.\n",
      "lsst.ctrl.mpexec.singleQuantumExecutor INFO: Constructing task and executing quantum for label=calcZernikesTask dataId={instrument: 'LATISS', detector: 0, visit: 2023081500069, ...}.\n",
      "lsst.ctrl.mpexec.singleQuantumExecutor INFO: Execution of task 'calcZernikesTask' on quantum {instrument: 'LATISS', detector: 0, visit: 2023081500069, ...} took 1.725 seconds\n",
      "lsst.ctrl.mpexec.mpGraphExecutor INFO: Executed 6 quanta successfully, 0 failed and 1 remain out of total 7 quanta.\n",
      "lsst.ctrl.mpexec.singleQuantumExecutor INFO: Preparing execution of quantum for label=calcZernikesTask dataId={instrument: 'LATISS', detector: 0, visit: 2023081500068, ...}.\n",
      "lsst.ctrl.mpexec.singleQuantumExecutor INFO: No dataset artifact found for donutStampsExtra@{instrument: 'LATISS', detector: 0, visit: 2023081500068, ...} [sc=StampsBase] (run=u/scichris/Latiss/DM-40493/20230828T192239Z id=2c7c4f38-7ea5-471f-bb97-aafa7376f694)\n",
      "lsst.ctrl.mpexec.singleQuantumExecutor INFO: No dataset artifact found for donutStampsIntra@{instrument: 'LATISS', detector: 0, visit: 2023081500068, ...} [sc=StampsBase] (run=u/scichris/Latiss/DM-40493/20230828T192239Z id=f9562dfc-0c69-4643-bbcd-82df11d60618)\n",
      "lsst.ctrl.mpexec.singleQuantumExecutor INFO: Nothing to do for task 'calcZernikesTask' on quantum {instrument: 'LATISS', detector: 0, visit: 2023081500068, ...}; saving metadata and skipping: ('calcZernikesTask', 'donutStampsIntra', Input(name='donutStampsIntra', storageClass='StampsBase', doc='Intra-focal Donut Postage Stamp Images', multiple=False, deprecated=None, _deprecation_context='', dimensions=('visit', 'detector', 'instrument'), isCalibration=False, deferLoad=False, minimum=1, deferGraphConstraint=False))\n",
      "lsst.ctrl.mpexec.mpGraphExecutor INFO: Executed 7 quanta successfully, 0 failed and 0 remain out of total 7 quanta.\n"
     ]
    },
    {
     "name": "stdout",
     "output_type": "stream",
     "text": [
      "pipetask run -b /sdf/data/rubin/repo/embargo/ -i LATISS/raw/all,LATISS/calib  --output u/scichris/Latiss/DM-40493  --instrument lsst.obs.lsst.Latiss  --register-dataset-types  -p /sdf/home/s/scichris/link_to_scichris/WORK/AOS/DM-40493/testCalcZernikesLatissPipelineUpdated.yaml -d 'exposure IN (2023081500070, 2023081500071)'\n"
     ]
    },
    {
     "name": "stderr",
     "output_type": "stream",
     "text": [
      "lsst.ctrl.mpexec.cmdLineFwk INFO: QuantumGraph contains 7 quanta for 4 tasks, graph ID: '1693250615.2860394-1969778'\n",
      "Quanta             Tasks            \n",
      "------ -----------------------------\n",
      "     2                           isr\n",
      "     2 generateDonutDirectDetectTask\n",
      "     1 cutOutDonutsScienceSensorTask\n",
      "     2              calcZernikesTask\n",
      "lsst.ctrl.mpexec.singleQuantumExecutor INFO: Preparing execution of quantum for label=isr dataId={instrument: 'LATISS', detector: 0, exposure: 2023081500070, ...}.\n",
      "lsst.ctrl.mpexec.singleQuantumExecutor INFO: Constructing task and executing quantum for label=isr dataId={instrument: 'LATISS', detector: 0, exposure: 2023081500070, ...}.\n",
      "lsst.isr INFO: Converting exposure to floating point values.\n",
      "lsst.isr INFO: Assembling CCD from amplifiers.\n",
      "lsst.isr INFO: Widening saturation trails.\n",
      "lsst.isr INFO: Applying gain correction instead of flat.\n",
      "lsst.isr WARNING: No rough magnitude zero point defined for filter empty~empty.\n",
      "lsst.isr INFO: Setting rough magnitude zero point for filter empty~empty: 31.692803\n",
      "lsst.ctrl.mpexec.singleQuantumExecutor INFO: Execution of task 'isr' on quantum {instrument: 'LATISS', detector: 0, exposure: 2023081500070, ...} took 4.471 seconds\n",
      "lsst.ctrl.mpexec.mpGraphExecutor INFO: Executed 1 quanta successfully, 0 failed and 6 remain out of total 7 quanta.\n",
      "lsst.ctrl.mpexec.singleQuantumExecutor INFO: Preparing execution of quantum for label=isr dataId={instrument: 'LATISS', detector: 0, exposure: 2023081500071, ...}.\n",
      "lsst.ctrl.mpexec.singleQuantumExecutor INFO: Constructing task and executing quantum for label=isr dataId={instrument: 'LATISS', detector: 0, exposure: 2023081500071, ...}.\n",
      "lsst.isr INFO: Converting exposure to floating point values.\n",
      "lsst.isr INFO: Assembling CCD from amplifiers.\n",
      "lsst.isr INFO: Widening saturation trails.\n",
      "lsst.isr INFO: Applying gain correction instead of flat.\n",
      "lsst.isr WARNING: No rough magnitude zero point defined for filter empty~empty.\n",
      "lsst.isr INFO: Setting rough magnitude zero point for filter empty~empty: 31.692803\n",
      "lsst.ctrl.mpexec.singleQuantumExecutor INFO: Execution of task 'isr' on quantum {instrument: 'LATISS', detector: 0, exposure: 2023081500071, ...} took 4.147 seconds\n",
      "lsst.ctrl.mpexec.mpGraphExecutor INFO: Executed 2 quanta successfully, 0 failed and 5 remain out of total 7 quanta.\n",
      "lsst.ctrl.mpexec.singleQuantumExecutor INFO: Preparing execution of quantum for label=generateDonutDirectDetectTask dataId={instrument: 'LATISS', detector: 0, visit: 2023081500070, ...}.\n",
      "lsst.ctrl.mpexec.singleQuantumExecutor INFO: Constructing task and executing quantum for label=generateDonutDirectDetectTask dataId={instrument: 'LATISS', detector: 0, visit: 2023081500070, ...}.\n",
      "lsst.generateDonutDirectDetectTask.measurementTask INFO: Found 4 sources in exposure\n",
      "lsst.generateDonutDirectDetectTask.measurementTask INFO: Measured 4 of 4 sources in exposure\n",
      "lsst.generateDonutDirectDetectTask INFO: Running Donut Selector\n",
      "lsst.generateDonutDirectDetectTask.donutSelector INFO: Selected 1/4 references\n",
      "lsst.ctrl.mpexec.singleQuantumExecutor INFO: Execution of task 'generateDonutDirectDetectTask' on quantum {instrument: 'LATISS', detector: 0, visit: 2023081500070, ...} took 2.215 seconds\n",
      "lsst.ctrl.mpexec.mpGraphExecutor INFO: Executed 3 quanta successfully, 0 failed and 4 remain out of total 7 quanta.\n",
      "lsst.ctrl.mpexec.singleQuantumExecutor INFO: Preparing execution of quantum for label=generateDonutDirectDetectTask dataId={instrument: 'LATISS', detector: 0, visit: 2023081500071, ...}.\n",
      "lsst.ctrl.mpexec.singleQuantumExecutor INFO: Constructing task and executing quantum for label=generateDonutDirectDetectTask dataId={instrument: 'LATISS', detector: 0, visit: 2023081500071, ...}.\n",
      "lsst.generateDonutDirectDetectTask.measurementTask INFO: Found 2 sources in exposure\n",
      "lsst.generateDonutDirectDetectTask.measurementTask INFO: Measured 2 of 2 sources in exposure\n",
      "lsst.generateDonutDirectDetectTask INFO: Running Donut Selector\n",
      "lsst.generateDonutDirectDetectTask.donutSelector INFO: Selected 1/2 references\n",
      "lsst.ctrl.mpexec.singleQuantumExecutor INFO: Execution of task 'generateDonutDirectDetectTask' on quantum {instrument: 'LATISS', detector: 0, visit: 2023081500071, ...} took 2.168 seconds\n",
      "lsst.ctrl.mpexec.mpGraphExecutor INFO: Executed 4 quanta successfully, 0 failed and 3 remain out of total 7 quanta.\n",
      "lsst.ctrl.mpexec.singleQuantumExecutor INFO: Preparing execution of quantum for label=cutOutDonutsScienceSensorTask dataId={instrument: 'LATISS', detector: 0}.\n",
      "lsst.ctrl.mpexec.singleQuantumExecutor INFO: Constructing task and executing quantum for label=cutOutDonutsScienceSensorTask dataId={instrument: 'LATISS', detector: 0}.\n",
      "lsst.ctrl.mpexec.singleQuantumExecutor INFO: Execution of task 'cutOutDonutsScienceSensorTask' on quantum {instrument: 'LATISS', detector: 0} took 2.001 seconds\n",
      "lsst.ctrl.mpexec.mpGraphExecutor INFO: Executed 5 quanta successfully, 0 failed and 2 remain out of total 7 quanta.\n",
      "lsst.ctrl.mpexec.singleQuantumExecutor INFO: Preparing execution of quantum for label=calcZernikesTask dataId={instrument: 'LATISS', detector: 0, visit: 2023081500071, ...}.\n",
      "lsst.ctrl.mpexec.singleQuantumExecutor INFO: Constructing task and executing quantum for label=calcZernikesTask dataId={instrument: 'LATISS', detector: 0, visit: 2023081500071, ...}.\n",
      "lsst.ctrl.mpexec.singleQuantumExecutor INFO: Execution of task 'calcZernikesTask' on quantum {instrument: 'LATISS', detector: 0, visit: 2023081500071, ...} took 1.695 seconds\n",
      "lsst.ctrl.mpexec.mpGraphExecutor INFO: Executed 6 quanta successfully, 0 failed and 1 remain out of total 7 quanta.\n",
      "lsst.ctrl.mpexec.singleQuantumExecutor INFO: Preparing execution of quantum for label=calcZernikesTask dataId={instrument: 'LATISS', detector: 0, visit: 2023081500070, ...}.\n",
      "lsst.ctrl.mpexec.singleQuantumExecutor INFO: No dataset artifact found for donutStampsIntra@{instrument: 'LATISS', detector: 0, visit: 2023081500070, ...} [sc=StampsBase] (run=u/scichris/Latiss/DM-40493/20230828T192329Z id=a3bc7218-1d5c-4932-87bb-cc148d5b38a2)\n",
      "lsst.ctrl.mpexec.singleQuantumExecutor INFO: No dataset artifact found for donutStampsExtra@{instrument: 'LATISS', detector: 0, visit: 2023081500070, ...} [sc=StampsBase] (run=u/scichris/Latiss/DM-40493/20230828T192329Z id=1260d3a3-6f37-4c23-9037-c91dce068006)\n",
      "lsst.ctrl.mpexec.singleQuantumExecutor INFO: Nothing to do for task 'calcZernikesTask' on quantum {instrument: 'LATISS', detector: 0, visit: 2023081500070, ...}; saving metadata and skipping: ('calcZernikesTask', 'donutStampsIntra', Input(name='donutStampsIntra', storageClass='StampsBase', doc='Intra-focal Donut Postage Stamp Images', multiple=False, deprecated=None, _deprecation_context='', dimensions=('visit', 'detector', 'instrument'), isCalibration=False, deferLoad=False, minimum=1, deferGraphConstraint=False))\n",
      "lsst.ctrl.mpexec.mpGraphExecutor INFO: Executed 7 quanta successfully, 0 failed and 0 remain out of total 7 quanta.\n"
     ]
    },
    {
     "name": "stdout",
     "output_type": "stream",
     "text": [
      "pipetask run -b /sdf/data/rubin/repo/embargo/ -i LATISS/raw/all,LATISS/calib  --output u/scichris/Latiss/DM-40493  --instrument lsst.obs.lsst.Latiss  --register-dataset-types  -p /sdf/home/s/scichris/link_to_scichris/WORK/AOS/DM-40493/testCalcZernikesLatissPipelineUpdated.yaml -d 'exposure IN (2023081500072, 2023081500073)'\n"
     ]
    },
    {
     "name": "stderr",
     "output_type": "stream",
     "text": [
      "lsst.ctrl.mpexec.cmdLineFwk INFO: QuantumGraph contains 7 quanta for 4 tasks, graph ID: '1693250663.1081178-1970068'\n",
      "Quanta             Tasks            \n",
      "------ -----------------------------\n",
      "     2                           isr\n",
      "     2 generateDonutDirectDetectTask\n",
      "     1 cutOutDonutsScienceSensorTask\n",
      "     2              calcZernikesTask\n",
      "lsst.ctrl.mpexec.singleQuantumExecutor INFO: Preparing execution of quantum for label=isr dataId={instrument: 'LATISS', detector: 0, exposure: 2023081500072, ...}.\n",
      "lsst.ctrl.mpexec.singleQuantumExecutor INFO: Constructing task and executing quantum for label=isr dataId={instrument: 'LATISS', detector: 0, exposure: 2023081500072, ...}.\n",
      "lsst.isr INFO: Converting exposure to floating point values.\n",
      "lsst.isr INFO: Assembling CCD from amplifiers.\n",
      "lsst.isr INFO: Widening saturation trails.\n",
      "lsst.isr INFO: Applying gain correction instead of flat.\n",
      "lsst.isr WARNING: No rough magnitude zero point defined for filter empty~empty.\n",
      "lsst.isr INFO: Setting rough magnitude zero point for filter empty~empty: 31.692803\n",
      "lsst.ctrl.mpexec.singleQuantumExecutor INFO: Execution of task 'isr' on quantum {instrument: 'LATISS', detector: 0, exposure: 2023081500072, ...} took 4.764 seconds\n",
      "lsst.ctrl.mpexec.mpGraphExecutor INFO: Executed 1 quanta successfully, 0 failed and 6 remain out of total 7 quanta.\n",
      "lsst.ctrl.mpexec.singleQuantumExecutor INFO: Preparing execution of quantum for label=isr dataId={instrument: 'LATISS', detector: 0, exposure: 2023081500073, ...}.\n",
      "lsst.ctrl.mpexec.singleQuantumExecutor INFO: Constructing task and executing quantum for label=isr dataId={instrument: 'LATISS', detector: 0, exposure: 2023081500073, ...}.\n",
      "lsst.isr INFO: Converting exposure to floating point values.\n",
      "lsst.isr INFO: Assembling CCD from amplifiers.\n",
      "lsst.isr INFO: Widening saturation trails.\n",
      "lsst.isr INFO: Applying gain correction instead of flat.\n",
      "lsst.isr WARNING: No rough magnitude zero point defined for filter empty~empty.\n",
      "lsst.isr INFO: Setting rough magnitude zero point for filter empty~empty: 31.692803\n",
      "lsst.ctrl.mpexec.singleQuantumExecutor INFO: Execution of task 'isr' on quantum {instrument: 'LATISS', detector: 0, exposure: 2023081500073, ...} took 4.361 seconds\n",
      "lsst.ctrl.mpexec.mpGraphExecutor INFO: Executed 2 quanta successfully, 0 failed and 5 remain out of total 7 quanta.\n",
      "lsst.ctrl.mpexec.singleQuantumExecutor INFO: Preparing execution of quantum for label=generateDonutDirectDetectTask dataId={instrument: 'LATISS', detector: 0, visit: 2023081500072, ...}.\n",
      "lsst.ctrl.mpexec.singleQuantumExecutor INFO: Constructing task and executing quantum for label=generateDonutDirectDetectTask dataId={instrument: 'LATISS', detector: 0, visit: 2023081500072, ...}.\n",
      "lsst.generateDonutDirectDetectTask.measurementTask INFO: Found 3 sources in exposure\n",
      "lsst.generateDonutDirectDetectTask.measurementTask INFO: Measured 3 of 3 sources in exposure\n",
      "lsst.generateDonutDirectDetectTask INFO: Running Donut Selector\n",
      "lsst.generateDonutDirectDetectTask.donutSelector INFO: Selected 1/3 references\n",
      "lsst.ctrl.mpexec.singleQuantumExecutor INFO: Execution of task 'generateDonutDirectDetectTask' on quantum {instrument: 'LATISS', detector: 0, visit: 2023081500072, ...} took 2.287 seconds\n",
      "lsst.ctrl.mpexec.mpGraphExecutor INFO: Executed 3 quanta successfully, 0 failed and 4 remain out of total 7 quanta.\n",
      "lsst.ctrl.mpexec.singleQuantumExecutor INFO: Preparing execution of quantum for label=generateDonutDirectDetectTask dataId={instrument: 'LATISS', detector: 0, visit: 2023081500073, ...}.\n",
      "lsst.ctrl.mpexec.singleQuantumExecutor INFO: Constructing task and executing quantum for label=generateDonutDirectDetectTask dataId={instrument: 'LATISS', detector: 0, visit: 2023081500073, ...}.\n",
      "lsst.generateDonutDirectDetectTask.measurementTask INFO: Found 5 sources in exposure\n",
      "lsst.generateDonutDirectDetectTask.measurementTask INFO: Measured 5 of 5 sources in exposure\n",
      "lsst.generateDonutDirectDetectTask INFO: Running Donut Selector\n",
      "lsst.generateDonutDirectDetectTask.donutSelector INFO: Selected 1/5 references\n",
      "lsst.ctrl.mpexec.singleQuantumExecutor INFO: Execution of task 'generateDonutDirectDetectTask' on quantum {instrument: 'LATISS', detector: 0, visit: 2023081500073, ...} took 2.181 seconds\n",
      "lsst.ctrl.mpexec.mpGraphExecutor INFO: Executed 4 quanta successfully, 0 failed and 3 remain out of total 7 quanta.\n",
      "lsst.ctrl.mpexec.singleQuantumExecutor INFO: Preparing execution of quantum for label=cutOutDonutsScienceSensorTask dataId={instrument: 'LATISS', detector: 0}.\n",
      "lsst.ctrl.mpexec.singleQuantumExecutor INFO: Constructing task and executing quantum for label=cutOutDonutsScienceSensorTask dataId={instrument: 'LATISS', detector: 0}.\n",
      "lsst.ctrl.mpexec.singleQuantumExecutor INFO: Execution of task 'cutOutDonutsScienceSensorTask' on quantum {instrument: 'LATISS', detector: 0} took 1.568 seconds\n",
      "lsst.ctrl.mpexec.mpGraphExecutor INFO: Executed 5 quanta successfully, 0 failed and 2 remain out of total 7 quanta.\n",
      "lsst.ctrl.mpexec.singleQuantumExecutor INFO: Preparing execution of quantum for label=calcZernikesTask dataId={instrument: 'LATISS', detector: 0, visit: 2023081500072, ...}.\n",
      "lsst.ctrl.mpexec.singleQuantumExecutor INFO: No dataset artifact found for donutStampsExtra@{instrument: 'LATISS', detector: 0, visit: 2023081500072, ...} [sc=StampsBase] (run=u/scichris/Latiss/DM-40493/20230828T192417Z id=476a5545-e9aa-4ec9-a57a-a86e895afd5b)\n",
      "lsst.ctrl.mpexec.singleQuantumExecutor INFO: No dataset artifact found for donutStampsIntra@{instrument: 'LATISS', detector: 0, visit: 2023081500072, ...} [sc=StampsBase] (run=u/scichris/Latiss/DM-40493/20230828T192417Z id=4ab4a01f-7bce-455b-a937-642f683cb788)\n",
      "lsst.ctrl.mpexec.singleQuantumExecutor INFO: Nothing to do for task 'calcZernikesTask' on quantum {instrument: 'LATISS', detector: 0, visit: 2023081500072, ...}; saving metadata and skipping: ('calcZernikesTask', 'donutStampsIntra', Input(name='donutStampsIntra', storageClass='StampsBase', doc='Intra-focal Donut Postage Stamp Images', multiple=False, deprecated=None, _deprecation_context='', dimensions=('visit', 'detector', 'instrument'), isCalibration=False, deferLoad=False, minimum=1, deferGraphConstraint=False))\n",
      "lsst.ctrl.mpexec.mpGraphExecutor INFO: Executed 6 quanta successfully, 0 failed and 1 remain out of total 7 quanta.\n",
      "lsst.ctrl.mpexec.singleQuantumExecutor INFO: Preparing execution of quantum for label=calcZernikesTask dataId={instrument: 'LATISS', detector: 0, visit: 2023081500073, ...}.\n",
      "lsst.ctrl.mpexec.singleQuantumExecutor INFO: Constructing task and executing quantum for label=calcZernikesTask dataId={instrument: 'LATISS', detector: 0, visit: 2023081500073, ...}.\n",
      "lsst.ctrl.mpexec.singleQuantumExecutor INFO: Execution of task 'calcZernikesTask' on quantum {instrument: 'LATISS', detector: 0, visit: 2023081500073, ...} took 1.610 seconds\n",
      "lsst.ctrl.mpexec.mpGraphExecutor INFO: Executed 7 quanta successfully, 0 failed and 0 remain out of total 7 quanta.\n"
     ]
    },
    {
     "name": "stdout",
     "output_type": "stream",
     "text": [
      "pipetask run -b /sdf/data/rubin/repo/embargo/ -i LATISS/raw/all,LATISS/calib  --output u/scichris/Latiss/DM-40493  --instrument lsst.obs.lsst.Latiss  --register-dataset-types  -p /sdf/home/s/scichris/link_to_scichris/WORK/AOS/DM-40493/testCalcZernikesLatissPipelineUpdated.yaml -d 'exposure IN (2023081500074, 2023081500075)'\n"
     ]
    },
    {
     "name": "stderr",
     "output_type": "stream",
     "text": [
      "lsst.ctrl.mpexec.cmdLineFwk INFO: QuantumGraph contains 7 quanta for 4 tasks, graph ID: '1693250712.9822536-1970482'\n",
      "Quanta             Tasks            \n",
      "------ -----------------------------\n",
      "     2                           isr\n",
      "     2 generateDonutDirectDetectTask\n",
      "     1 cutOutDonutsScienceSensorTask\n",
      "     2              calcZernikesTask\n",
      "lsst.ctrl.mpexec.singleQuantumExecutor INFO: Preparing execution of quantum for label=isr dataId={instrument: 'LATISS', detector: 0, exposure: 2023081500074, ...}.\n",
      "lsst.ctrl.mpexec.singleQuantumExecutor INFO: Constructing task and executing quantum for label=isr dataId={instrument: 'LATISS', detector: 0, exposure: 2023081500074, ...}.\n",
      "lsst.isr INFO: Converting exposure to floating point values.\n",
      "lsst.isr INFO: Assembling CCD from amplifiers.\n",
      "lsst.isr INFO: Widening saturation trails.\n",
      "lsst.isr INFO: Applying gain correction instead of flat.\n",
      "lsst.isr WARNING: No rough magnitude zero point defined for filter empty~empty.\n",
      "lsst.isr INFO: Setting rough magnitude zero point for filter empty~empty: 31.692803\n"
     ]
    }
   ],
   "source": [
    "from lsst.ts.wep.utility import runProgram\n",
    "\n",
    "\n",
    "path_to_yaml = '/sdf/home/s/scichris/link_to_scichris/WORK/AOS/DM-40493/testCalcZernikesLatissPipelineUpdated.yaml'\n",
    "\n",
    "\n",
    "for i in range(len(intra_seqNum)):\n",
    "    expIdIntra = int(f'{day_obs}{str(intra_seqNum[i]).zfill(5)}')\n",
    "    expIdExtra = int(f'{day_obs}{str(extra_seqNum[i]).zfill(5)}')\n",
    "\n",
    "    # Run pipeline command\n",
    "    expids = [expIdIntra,expIdExtra]\n",
    "    instrument = \"lsst.obs.lsst.Latiss\"\n",
    "    input_coll = \"LATISS/raw/all,LATISS/calib\"\n",
    "    output_coll = 'u/scichris/Latiss/DM-40493'\n",
    "    runName = 'u-scichris-Latiss-DM-40493-run1'\n",
    "\n",
    "    repoDir = '/sdf/data/rubin/repo/embargo/'\n",
    "\n",
    "    pipelineYamlPath = path_to_yaml \n",
    "    #pipelineYaml = os.path.join(\n",
    "    #    os.getcwd(),'DM-37676', \"testLatissPipelineISRonly.yaml\"\n",
    "    #)\n",
    "\n",
    "    #expids = [2022040500795,2022040500796]\n",
    "    pipetaskCmd = \"pipetask run \"\n",
    "    pipetaskCmd += f\"-b {repoDir} \"  # Specify repo\n",
    "    pipetaskCmd += f\"-i {input_coll} \"  # Specify collections with data to use\n",
    "    pipetaskCmd += f\" --output {output_coll} \" # specify output collection \n",
    "    pipetaskCmd += f\" --instrument {instrument} \"\n",
    "    pipetaskCmd += f\" --register-dataset-types \"\n",
    "    pipetaskCmd += f\" -p {pipelineYamlPath}\" # specify yaml config file if needed \n",
    "    #pipetaskCmd += f\" --output-run {runName}\"\n",
    "    pipetaskCmd += f\" -d 'exposure IN {tuple(expids)}'\"\n",
    "\n",
    "    # Run pipeline task\n",
    "    #\n",
    "    print(pipetaskCmd)\n",
    "    runProgram(pipetaskCmd)"
   ]
  },
  {
   "cell_type": "markdown",
   "id": "f07e5845",
   "metadata": {},
   "source": [
    "Check the output of the run:"
   ]
  },
  {
   "cell_type": "code",
   "execution_count": null,
   "id": "eef274b3",
   "metadata": {},
   "outputs": [],
   "source": [
    "butler = dafButler.Butler('/sdf/data/rubin/repo/embargo/',\n",
    "                         collections=[output_coll],)\n",
    "datasetRefOrType = 'postISRCCD'"
   ]
  },
  {
   "cell_type": "code",
   "execution_count": null,
   "id": "5f8d8a6d",
   "metadata": {},
   "outputs": [],
   "source": [
    "exposure_intra = butler.get(datasetRefOrType, \n",
    "                                dataId={'instrument':'LATISS', 'detector':0, \n",
    "                                      'exposure':int(expIdIntra)}, )"
   ]
  },
  {
   "cell_type": "code",
   "execution_count": null,
   "id": "0aac6616",
   "metadata": {},
   "outputs": [],
   "source": [
    "pwd"
   ]
  },
  {
   "cell_type": "code",
   "execution_count": null,
   "id": "628cefbc",
   "metadata": {},
   "outputs": [],
   "source": [
    "from astropy.visualization import ZScaleInterval\n",
    "zscale = ZScaleInterval()\n",
    "data = exposure_intra.image.array\n",
    "vmin,vmax = zscale.get_limits(data)\n",
    "plt.imshow(exposure_intra.image.array, vmin=vmin,vmax=vmax, origin='lower')"
   ]
  },
  {
   "cell_type": "markdown",
   "id": "afb27bbc",
   "metadata": {},
   "source": [
    "hmm, this ISR didn't address these bad columns well - what do the donut stamps look like ? "
   ]
  },
  {
   "cell_type": "code",
   "execution_count": 69,
   "id": "a63ab250",
   "metadata": {},
   "outputs": [],
   "source": [
    "butler = dafButler.Butler('/sdf/data/rubin/repo/embargo/',\n",
    "                         collections=[output_coll],)\n",
    "donutStampIntra = butler.get('donutStampsIntra', \n",
    "                                dataId={'instrument':'LATISS', 'detector':0, \n",
    "                                      'visit':int(expIdExtra)}, )"
   ]
  },
  {
   "cell_type": "code",
   "execution_count": 76,
   "id": "676ab483",
   "metadata": {},
   "outputs": [
    {
     "data": {
      "text/plain": [
       "<matplotlib.image.AxesImage at 0x7fbb052b7810>"
      ]
     },
     "execution_count": 76,
     "metadata": {},
     "output_type": "execute_result"
    },
    {
     "data": {
      "image/png": "[encoded data removed]",
      "text/plain": [
       "<Figure size 640x480 with 1 Axes>"
      ]
     },
     "metadata": {},
     "output_type": "display_data"
    }
   ],
   "source": [
    "plt.imshow(donutStampIntra[0].stamp_im.image.array, vmax=1000)"
   ]
  },
  {
   "cell_type": "markdown",
   "id": "5df7d933",
   "metadata": {},
   "source": [
    "Apply derotation to the recovered Zernikes, test if they shift in the appropriate direction:"
   ]
  },
  {
   "cell_type": "code",
   "execution_count": null,
   "id": "bd345dac",
   "metadata": {},
   "outputs": [],
   "source": []
  }
 ],
 "metadata": {
  "kernelspec": {
   "display_name": "Python 3 (ipykernel)",
   "language": "python",
   "name": "python3"
  },
  "language_info": {
   "codemirror_mode": {
    "name": "ipython",
    "version": 3
   },
   "file_extension": ".py",
   "mimetype": "text/x-python",
   "name": "python",
   "nbconvert_exporter": "python",
   "pygments_lexer": "ipython3",
   "version": "3.11.4"
  }
 },
 "nbformat": 4,
 "nbformat_minor": 5
}
