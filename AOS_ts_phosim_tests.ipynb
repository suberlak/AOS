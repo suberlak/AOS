{
 "cells": [
  {
   "cell_type": "markdown",
   "metadata": {},
   "source": [
    "###### AOS_ts_phosim_tests"
   ]
  },
  {
   "cell_type": "markdown",
   "metadata": {},
   "source": [
    "Inspect each test, to see what needs to be changed. "
   ]
  },
  {
   "cell_type": "markdown",
   "metadata": {},
   "source": [
    "I make a ticket branch https://jira.lsstcorp.org/browse/DM-29233 \n",
    "\n",
    "    \n",
    "    cd /project/scichris/aos/ts_phosim/\n",
    "    git checkout -b tickets/DM-29233 \n",
    "    \n",
    "\n",
    "Need to make sure that the jupyter kernel has the appropriate setup. Add the following to `/home/scichris/notebooks/.user_setups` : \n",
    "\n",
    "    export PATH_TO_TS_PHOSIM=/project/scichris/aos/ts_phosim/\n",
    "    setup ts_phosim -t $USER -t current \n",
    "    \n",
    "    \n",
    " \n",
    "    "
   ]
  },
  {
   "cell_type": "markdown",
   "metadata": {},
   "source": [
    "## `test_teleFacade.py`"
   ]
  },
  {
   "cell_type": "code",
   "execution_count": 1,
   "metadata": {},
   "outputs": [],
   "source": [
    "import os\n",
    "import shutil\n",
    "import numpy as np\n",
    "import unittest\n",
    "\n",
    "from lsst.ts.wep.Utility import FilterType, CamType\n",
    "\n",
    "from lsst.ts.phosim.telescope.TeleFacade import TeleFacade\n",
    "\n",
    "from lsst.ts.phosim.OpdMetrology import OpdMetrology\n",
    "from lsst.ts.phosim.SkySim import SkySim\n",
    "\n",
    "from lsst.ts.phosim.Utility import getModulePath, getConfigDir\n"
   ]
  },
  {
   "cell_type": "code",
   "execution_count": 2,
   "metadata": {},
   "outputs": [],
   "source": [
    "import tempfile\n",
    "\n",
    "configDir = getConfigDir()\n",
    "modulePath = getModulePath()\n",
    "testDir = os.path.join(modulePath, \"tests\")\n",
    "\n",
    "outputDir = tempfile.TemporaryDirectory(dir=testDir)\n"
   ]
  },
  {
   "cell_type": "code",
   "execution_count": 3,
   "metadata": {},
   "outputs": [
    {
     "name": "stdout",
     "output_type": "stream",
     "text": [
      "<TemporaryDirectory '/project/scichris/aos/ts_phosim/tests/tmpfc91rcj_'>\n"
     ]
    }
   ],
   "source": [
    "print(outputDir)"
   ]
  },
  {
   "cell_type": "code",
   "execution_count": 4,
   "metadata": {},
   "outputs": [],
   "source": [
    "#setUpClass(cls):\n",
    "tele = TeleFacade()\n",
    "tele.addSubSys(addCam=True, addM1M3=True, addM2=True)\n",
    "\n",
    "# Set the survey parameters\n",
    "obsId = 9006000\n",
    "filterType = FilterType.G\n",
    "boresight = (0.2, 0.3)\n",
    "zAngleInDeg = 27.0912\n",
    "rotAngInDeg = np.rad2deg(-1.2323)\n",
    "tele.setSurveyParam(\n",
    "    obsId=obsId,\n",
    "    filterType=filterType,\n",
    "    boresight=boresight,\n",
    "    zAngleInDeg=zAngleInDeg,\n",
    "    rotAngInDeg=rotAngInDeg,\n",
    ")"
   ]
  },
  {
   "cell_type": "code",
   "execution_count": 5,
   "metadata": {},
   "outputs": [
    {
     "name": "stdout",
     "output_type": "stream",
     "text": [
      "[0. 0. 0. 0. 0. 0. 0. 0. 0. 0. 0. 0. 0. 0. 0. 0. 0. 0. 0. 0. 0. 0. 0. 0.\n",
      " 0. 0. 0. 0. 0. 0. 0. 0. 0. 0. 0. 0. 0. 0. 0. 0. 0. 0. 0. 0. 0. 0. 0. 0.\n",
      " 0. 0.]\n"
     ]
    }
   ],
   "source": [
    "dofInUm = tele.getDofInUm()\n",
    "print(dofInUm)"
   ]
  },
  {
   "cell_type": "code",
   "execution_count": 6,
   "metadata": {},
   "outputs": [
    {
     "name": "stdout",
     "output_type": "stream",
     "text": [
      "50\n"
     ]
    }
   ],
   "source": [
    "print(len(dofInUm))"
   ]
  },
  {
   "cell_type": "code",
   "execution_count": 7,
   "metadata": {},
   "outputs": [
    {
     "name": "stdout",
     "output_type": "stream",
     "text": [
      "0.0\n"
     ]
    }
   ],
   "source": [
    "print(np.sum(np.abs(dofInUm)))"
   ]
  },
  {
   "cell_type": "markdown",
   "metadata": {},
   "source": [
    "# `test_opdMetrology.py`"
   ]
  },
  {
   "cell_type": "code",
   "execution_count": 8,
   "metadata": {},
   "outputs": [],
   "source": [
    "import os\n",
    "import numpy as np\n",
    "import unittest\n",
    "\n",
    "from lsst.ts.ofc.Utility import InstName\n",
    "\n",
    "from lsst.ts.phosim.OpdMetrology import OpdMetrology\n",
    "from lsst.ts.phosim.Utility import getModulePath"
   ]
  },
  {
   "cell_type": "code",
   "execution_count": 9,
   "metadata": {},
   "outputs": [],
   "source": [
    "\n",
    "testDataDir = os.path.join(\n",
    "    getModulePath(), \"tests\", \"testData\", \"testOpdFunc\"\n",
    ")\n",
    "metr = OpdMetrology()"
   ]
  },
  {
   "cell_type": "code",
   "execution_count": 10,
   "metadata": {},
   "outputs": [],
   "source": [
    "# def testAddFieldXYbyDeg()\n",
    "fieldXInDegree = 0.1\n",
    "fieldYInDegree = 0.2\n",
    "metr.addFieldXYbyDeg(fieldXInDegree, fieldYInDegree)\n"
   ]
  },
  {
   "cell_type": "code",
   "execution_count": 11,
   "metadata": {},
   "outputs": [],
   "source": [
    "fieldX, fieldY = metr.getFieldXY()"
   ]
  },
  {
   "cell_type": "code",
   "execution_count": 14,
   "metadata": {},
   "outputs": [
    {
     "data": {
      "text/plain": [
       "1"
      ]
     },
     "execution_count": 14,
     "metadata": {},
     "output_type": "execute_result"
    }
   ],
   "source": [
    "len(fieldX)\n"
   ]
  },
  {
   "cell_type": "code",
   "execution_count": 15,
   "metadata": {},
   "outputs": [],
   "source": [
    "metr.addFieldXYbyDeg(fieldXInDegree, fieldYInDegree)"
   ]
  },
  {
   "cell_type": "code",
   "execution_count": 16,
   "metadata": {},
   "outputs": [],
   "source": [
    "fieldX, fieldY = metr.getFieldXY()"
   ]
  },
  {
   "cell_type": "code",
   "execution_count": 17,
   "metadata": {},
   "outputs": [
    {
     "data": {
      "text/plain": [
       "2"
      ]
     },
     "execution_count": 17,
     "metadata": {},
     "output_type": "execute_result"
    }
   ],
   "source": [
    "len(fieldX)\n"
   ]
  },
  {
   "cell_type": "code",
   "execution_count": 41,
   "metadata": {},
   "outputs": [],
   "source": [
    "#def testAddFieldXYbyCamPos(self):\n",
    "\n",
    "sensorName = \"R22_S11\"\n",
    "xInpixel = 4004\n",
    "yInPixel = 4096\n",
    "metr.addFieldXYbyCamPos(sensorName, xInpixel, yInPixel, testDataDir)"
   ]
  },
  {
   "cell_type": "code",
   "execution_count": 42,
   "metadata": {},
   "outputs": [],
   "source": [
    "fieldX, fieldY = metr.getFieldXY()"
   ]
  },
  {
   "cell_type": "code",
   "execution_count": 43,
   "metadata": {},
   "outputs": [
    {
     "data": {
      "text/plain": [
       "0.11122222222222224"
      ]
     },
     "execution_count": 43,
     "metadata": {},
     "output_type": "execute_result"
    }
   ],
   "source": [
    "fieldX[-1]\n"
   ]
  },
  {
   "cell_type": "code",
   "execution_count": 44,
   "metadata": {},
   "outputs": [
    {
     "data": {
      "text/plain": [
       "0.11377777777777778"
      ]
     },
     "execution_count": 44,
     "metadata": {},
     "output_type": "execute_result"
    }
   ],
   "source": [
    "fieldY[-1]"
   ]
  },
  {
   "cell_type": "code",
   "execution_count": 45,
   "metadata": {},
   "outputs": [
    {
     "data": {
      "text/plain": [
       "0.11122222222222224"
      ]
     },
     "execution_count": 45,
     "metadata": {},
     "output_type": "execute_result"
    }
   ],
   "source": [
    "2002 * 0.2 / 3600"
   ]
  },
  {
   "cell_type": "code",
   "execution_count": 46,
   "metadata": {},
   "outputs": [
    {
     "data": {
      "text/plain": [
       "0.11377777777777778"
      ]
     },
     "execution_count": 46,
     "metadata": {},
     "output_type": "execute_result"
    }
   ],
   "source": [
    "2048 * 0.2 / 3600"
   ]
  },
  {
   "cell_type": "markdown",
   "metadata": {},
   "source": [
    "According to https://github.com/lsst-ts/phosim_syseng4/blob/aos/data/lsst/segmentation.txt ,  R22_S11 is $4004$x$4096$   pixels"
   ]
  },
  {
   "cell_type": "code",
   "execution_count": 30,
   "metadata": {},
   "outputs": [],
   "source": [
    "from lsst.ts.wep.SourceProcessor import SourceProcessor\n",
    "sourProc = SourceProcessor()\n",
    "sourProc.config(sensorName=sensorName)"
   ]
  },
  {
   "cell_type": "code",
   "execution_count": 32,
   "metadata": {},
   "outputs": [
    {
     "data": {
      "text/plain": [
       "(0.0, 0.0)"
      ]
     },
     "execution_count": 32,
     "metadata": {},
     "output_type": "execute_result"
    }
   ],
   "source": [
    "sourProc.sensorFocaPlaneInDeg[sensorName]"
   ]
  },
  {
   "cell_type": "code",
   "execution_count": 35,
   "metadata": {},
   "outputs": [],
   "source": [
    "pixelXc, pixelYc = sourProc.sensorDimList[sensorName]"
   ]
  },
  {
   "cell_type": "code",
   "execution_count": 36,
   "metadata": {},
   "outputs": [],
   "source": [
    "pixelXc = pixelXc / 2\n",
    "pixelYc = pixelYc / 2"
   ]
  },
  {
   "cell_type": "code",
   "execution_count": 37,
   "metadata": {},
   "outputs": [
    {
     "data": {
      "text/plain": [
       "2002.0"
      ]
     },
     "execution_count": 37,
     "metadata": {},
     "output_type": "execute_result"
    }
   ],
   "source": [
    "pixelXc"
   ]
  },
  {
   "cell_type": "code",
   "execution_count": 38,
   "metadata": {},
   "outputs": [
    {
     "data": {
      "text/plain": [
       "2048.0"
      ]
     },
     "execution_count": 38,
     "metadata": {},
     "output_type": "execute_result"
    }
   ],
   "source": [
    "pixelYc"
   ]
  },
  {
   "cell_type": "code",
   "execution_count": 39,
   "metadata": {},
   "outputs": [],
   "source": [
    "pixelToArcsec = sourProc.settingFile.getSetting(\"pixelToArcsec\")"
   ]
  },
  {
   "cell_type": "code",
   "execution_count": 40,
   "metadata": {},
   "outputs": [
    {
     "data": {
      "text/plain": [
       "0.2"
      ]
     },
     "execution_count": 40,
     "metadata": {},
     "output_type": "execute_result"
    }
   ],
   "source": [
    "pixelToArcsec"
   ]
  },
  {
   "cell_type": "markdown",
   "metadata": {},
   "source": [
    "# `test_closeLoopTask`"
   ]
  },
  {
   "cell_type": "markdown",
   "metadata": {},
   "source": [
    "testMakeCalibsLSST - needed to change 48 to 24 for corner sensors ... "
   ]
  },
  {
   "cell_type": "code",
   "execution_count": 3,
   "metadata": {},
   "outputs": [
    {
     "ename": "ModuleNotFoundError",
     "evalue": "No module named 'lsst.ts'",
     "output_type": "error",
     "traceback": [
      "\u001b[0;31m---------------------------------------------------------------------------\u001b[0m",
      "\u001b[0;31mModuleNotFoundError\u001b[0m                       Traceback (most recent call last)",
      "\u001b[0;32m<ipython-input-3-8cc02bd797dd>\u001b[0m in \u001b[0;36m<module>\u001b[0;34m\u001b[0m\n\u001b[1;32m      4\u001b[0m \u001b[0;32mimport\u001b[0m \u001b[0munittest\u001b[0m\u001b[0;34m\u001b[0m\u001b[0;34m\u001b[0m\u001b[0m\n\u001b[1;32m      5\u001b[0m \u001b[0;34m\u001b[0m\u001b[0m\n\u001b[0;32m----> 6\u001b[0;31m \u001b[0;32mfrom\u001b[0m \u001b[0mlsst\u001b[0m\u001b[0;34m.\u001b[0m\u001b[0mts\u001b[0m\u001b[0;34m.\u001b[0m\u001b[0mwep\u001b[0m\u001b[0;34m.\u001b[0m\u001b[0mUtility\u001b[0m \u001b[0;32mimport\u001b[0m \u001b[0mCamType\u001b[0m\u001b[0;34m,\u001b[0m \u001b[0mFilterType\u001b[0m\u001b[0;34m\u001b[0m\u001b[0;34m\u001b[0m\u001b[0m\n\u001b[0m\u001b[1;32m      7\u001b[0m \u001b[0;32mfrom\u001b[0m \u001b[0mlsst\u001b[0m\u001b[0;34m.\u001b[0m\u001b[0mts\u001b[0m\u001b[0;34m.\u001b[0m\u001b[0mofc\u001b[0m\u001b[0;34m.\u001b[0m\u001b[0mUtility\u001b[0m \u001b[0;32mimport\u001b[0m \u001b[0mInstName\u001b[0m\u001b[0;34m\u001b[0m\u001b[0;34m\u001b[0m\u001b[0m\n\u001b[1;32m      8\u001b[0m \u001b[0;34m\u001b[0m\u001b[0m\n",
      "\u001b[0;31mModuleNotFoundError\u001b[0m: No module named 'lsst.ts'"
     ]
    }
   ],
   "source": [
    "import os\n",
    "import argparse\n",
    "import tempfile\n",
    "import unittest\n",
    "\n",
    "from lsst.ts.wep.Utility import CamType, FilterType\n",
    "from lsst.ts.ofc.Utility import InstName\n",
    "\n",
    "from lsst.ts.phosim.CloseLoopTask import CloseLoopTask\n",
    "from lsst.ts.phosim.Utility import getModulePath\n",
    "\n",
    "\n",
    "#def testMakeCalibsLSST(self):\n",
    "closeLoopTask = CloseLoopTask()\n",
    "\n",
    "rootTestDir = os.path.join(getModulePath(), \"tests\")\n",
    "testDir = tempfile.TemporaryDirectory(dir=rootTestDir)\n",
    "\n",
    "fakeFlatDir = closeLoopTask.makeCalibs(InstName.LSST, testDir.name)\n",
    "print(fakeFlatDir)\n",
    "#self.assertTrue(os.path.exists(fakeFlatDir))\n",
    "\n",
    "files = os.listdir(fakeFlatDir)\n",
    "print(len(files))\n",
    "#self.assertEqual(len(files), 24)"
   ]
  },
  {
   "cell_type": "code",
   "execution_count": 50,
   "metadata": {},
   "outputs": [],
   "source": [
    "#files"
   ]
  },
  {
   "cell_type": "markdown",
   "metadata": {},
   "source": [
    "# Update phosim_repackager to handle comcam"
   ]
  },
  {
   "cell_type": "markdown",
   "metadata": {},
   "source": [
    "https://www.askpython.com/python/oops/python-class-constructor-init-function"
   ]
  },
  {
   "cell_type": "markdown",
   "metadata": {},
   "source": [
    "# `test_phosimCmpt`"
   ]
  },
  {
   "cell_type": "code",
   "execution_count": 2,
   "metadata": {},
   "outputs": [
    {
     "ename": "ModuleNotFoundError",
     "evalue": "No module named 'lsst.afw.cameraGeom.detector'",
     "output_type": "error",
     "traceback": [
      "\u001b[0;31m---------------------------------------------------------------------------\u001b[0m",
      "\u001b[0;31mModuleNotFoundError\u001b[0m                       Traceback (most recent call last)",
      "\u001b[0;32m<ipython-input-2-5e2eed545672>\u001b[0m in \u001b[0;36m<module>\u001b[0;34m\u001b[0m\n\u001b[1;32m      7\u001b[0m \u001b[0;31m#from lsst.ts.wep.Utility import FilterType, CamType\u001b[0m\u001b[0;34m\u001b[0m\u001b[0;34m\u001b[0m\u001b[0;34m\u001b[0m\u001b[0m\n\u001b[1;32m      8\u001b[0m \u001b[0;32mfrom\u001b[0m \u001b[0mlsst\u001b[0m\u001b[0;34m.\u001b[0m\u001b[0mts\u001b[0m\u001b[0;34m.\u001b[0m\u001b[0mwep\u001b[0m\u001b[0;34m.\u001b[0m\u001b[0mParamReader\u001b[0m \u001b[0;32mimport\u001b[0m \u001b[0mParamReader\u001b[0m\u001b[0;34m\u001b[0m\u001b[0;34m\u001b[0m\u001b[0m\n\u001b[0;32m----> 9\u001b[0;31m \u001b[0;32mfrom\u001b[0m \u001b[0mlsst\u001b[0m\u001b[0;34m.\u001b[0m\u001b[0mts\u001b[0m\u001b[0;34m.\u001b[0m\u001b[0mwep\u001b[0m\u001b[0;34m.\u001b[0m\u001b[0mctrlIntf\u001b[0m\u001b[0;34m.\u001b[0m\u001b[0mSensorWavefrontData\u001b[0m \u001b[0;32mimport\u001b[0m \u001b[0mSensorWavefrontData\u001b[0m\u001b[0;34m\u001b[0m\u001b[0;34m\u001b[0m\u001b[0m\n\u001b[0m\u001b[1;32m     10\u001b[0m \u001b[0;32mfrom\u001b[0m \u001b[0mlsst\u001b[0m\u001b[0;34m.\u001b[0m\u001b[0mts\u001b[0m\u001b[0;34m.\u001b[0m\u001b[0mwep\u001b[0m\u001b[0;34m.\u001b[0m\u001b[0mctrlIntf\u001b[0m\u001b[0;34m.\u001b[0m\u001b[0mMapSensorNameAndId\u001b[0m \u001b[0;32mimport\u001b[0m \u001b[0mMapSensorNameAndId\u001b[0m\u001b[0;34m\u001b[0m\u001b[0;34m\u001b[0m\u001b[0m\n\u001b[1;32m     11\u001b[0m \u001b[0;34m\u001b[0m\u001b[0m\n",
      "\u001b[0;32m/project/scichris/aos/ts_wep/python/lsst/ts/wep/__init__.py\u001b[0m in \u001b[0;36m<module>\u001b[0;34m\u001b[0m\n\u001b[1;32m      3\u001b[0m \u001b[0;32mfrom\u001b[0m \u001b[0;34m.\u001b[0m\u001b[0mCamDataCollector\u001b[0m \u001b[0;32mimport\u001b[0m \u001b[0mCamDataCollector\u001b[0m\u001b[0;34m\u001b[0m\u001b[0;34m\u001b[0m\u001b[0m\n\u001b[1;32m      4\u001b[0m \u001b[0;32mfrom\u001b[0m \u001b[0;34m.\u001b[0m\u001b[0mCamIsrWrapper\u001b[0m \u001b[0;32mimport\u001b[0m \u001b[0mCamIsrWrapper\u001b[0m\u001b[0;34m\u001b[0m\u001b[0;34m\u001b[0m\u001b[0m\n\u001b[0;32m----> 5\u001b[0;31m \u001b[0;32mfrom\u001b[0m \u001b[0;34m.\u001b[0m\u001b[0mSourceSelector\u001b[0m \u001b[0;32mimport\u001b[0m \u001b[0mSourceSelector\u001b[0m\u001b[0;34m\u001b[0m\u001b[0;34m\u001b[0m\u001b[0m\n\u001b[0m\u001b[1;32m      6\u001b[0m \u001b[0;32mfrom\u001b[0m \u001b[0;34m.\u001b[0m\u001b[0mSourceProcessor\u001b[0m \u001b[0;32mimport\u001b[0m \u001b[0mSourceProcessor\u001b[0m\u001b[0;34m\u001b[0m\u001b[0;34m\u001b[0m\u001b[0m\n\u001b[1;32m      7\u001b[0m \u001b[0;32mfrom\u001b[0m \u001b[0;34m.\u001b[0m\u001b[0mWepController\u001b[0m \u001b[0;32mimport\u001b[0m \u001b[0mWepController\u001b[0m\u001b[0;34m\u001b[0m\u001b[0;34m\u001b[0m\u001b[0m\n",
      "\u001b[0;32m/project/scichris/aos/ts_wep/python/lsst/ts/wep/SourceSelector.py\u001b[0m in \u001b[0;36m<module>\u001b[0;34m\u001b[0m\n\u001b[1;32m     23\u001b[0m \u001b[0;34m\u001b[0m\u001b[0m\n\u001b[1;32m     24\u001b[0m \u001b[0;32mfrom\u001b[0m \u001b[0mlsst\u001b[0m\u001b[0;34m.\u001b[0m\u001b[0mts\u001b[0m\u001b[0;34m.\u001b[0m\u001b[0mwep\u001b[0m\u001b[0;34m.\u001b[0m\u001b[0mbsc\u001b[0m\u001b[0;34m.\u001b[0m\u001b[0mFilter\u001b[0m \u001b[0;32mimport\u001b[0m \u001b[0mFilter\u001b[0m\u001b[0;34m\u001b[0m\u001b[0;34m\u001b[0m\u001b[0m\n\u001b[0;32m---> 25\u001b[0;31m \u001b[0;32mfrom\u001b[0m \u001b[0mlsst\u001b[0m\u001b[0;34m.\u001b[0m\u001b[0mts\u001b[0m\u001b[0;34m.\u001b[0m\u001b[0mwep\u001b[0m\u001b[0;34m.\u001b[0m\u001b[0mbsc\u001b[0m\u001b[0;34m.\u001b[0m\u001b[0mCamFactory\u001b[0m \u001b[0;32mimport\u001b[0m \u001b[0mCamFactory\u001b[0m\u001b[0;34m\u001b[0m\u001b[0;34m\u001b[0m\u001b[0m\n\u001b[0m\u001b[1;32m     26\u001b[0m \u001b[0;32mfrom\u001b[0m \u001b[0mlsst\u001b[0m\u001b[0;34m.\u001b[0m\u001b[0mts\u001b[0m\u001b[0;34m.\u001b[0m\u001b[0mwep\u001b[0m\u001b[0;34m.\u001b[0m\u001b[0mbsc\u001b[0m\u001b[0;34m.\u001b[0m\u001b[0mDatabaseFactory\u001b[0m \u001b[0;32mimport\u001b[0m \u001b[0mDatabaseFactory\u001b[0m\u001b[0;34m\u001b[0m\u001b[0;34m\u001b[0m\u001b[0m\n\u001b[1;32m     27\u001b[0m \u001b[0;32mfrom\u001b[0m \u001b[0mlsst\u001b[0m\u001b[0;34m.\u001b[0m\u001b[0mts\u001b[0m\u001b[0;34m.\u001b[0m\u001b[0mwep\u001b[0m\u001b[0;34m.\u001b[0m\u001b[0mbsc\u001b[0m\u001b[0;34m.\u001b[0m\u001b[0mLocalDatabaseForStarFile\u001b[0m \u001b[0;32mimport\u001b[0m \u001b[0mLocalDatabaseForStarFile\u001b[0m\u001b[0;34m\u001b[0m\u001b[0;34m\u001b[0m\u001b[0m\n",
      "\u001b[0;32m/project/scichris/aos/ts_wep/python/lsst/ts/wep/bsc/CamFactory.py\u001b[0m in \u001b[0;36m<module>\u001b[0;34m\u001b[0m\n\u001b[1;32m     21\u001b[0m \u001b[0;34m\u001b[0m\u001b[0m\n\u001b[1;32m     22\u001b[0m \u001b[0;32mfrom\u001b[0m \u001b[0mlsst\u001b[0m\u001b[0;34m.\u001b[0m\u001b[0mts\u001b[0m\u001b[0;34m.\u001b[0m\u001b[0mwep\u001b[0m\u001b[0;34m.\u001b[0m\u001b[0mUtility\u001b[0m \u001b[0;32mimport\u001b[0m \u001b[0mCamType\u001b[0m\u001b[0;34m\u001b[0m\u001b[0;34m\u001b[0m\u001b[0m\n\u001b[0;32m---> 23\u001b[0;31m \u001b[0;32mfrom\u001b[0m \u001b[0mlsst\u001b[0m\u001b[0;34m.\u001b[0m\u001b[0mts\u001b[0m\u001b[0;34m.\u001b[0m\u001b[0mwep\u001b[0m\u001b[0;34m.\u001b[0m\u001b[0mbsc\u001b[0m\u001b[0;34m.\u001b[0m\u001b[0mLsstCam\u001b[0m \u001b[0;32mimport\u001b[0m \u001b[0mLsstCam\u001b[0m\u001b[0;34m\u001b[0m\u001b[0;34m\u001b[0m\u001b[0m\n\u001b[0m\u001b[1;32m     24\u001b[0m \u001b[0;32mfrom\u001b[0m \u001b[0mlsst\u001b[0m\u001b[0;34m.\u001b[0m\u001b[0mts\u001b[0m\u001b[0;34m.\u001b[0m\u001b[0mwep\u001b[0m\u001b[0;34m.\u001b[0m\u001b[0mbsc\u001b[0m\u001b[0;34m.\u001b[0m\u001b[0mLsstFamCam\u001b[0m \u001b[0;32mimport\u001b[0m \u001b[0mLsstFamCam\u001b[0m\u001b[0;34m\u001b[0m\u001b[0;34m\u001b[0m\u001b[0m\n\u001b[1;32m     25\u001b[0m \u001b[0;32mfrom\u001b[0m \u001b[0mlsst\u001b[0m\u001b[0;34m.\u001b[0m\u001b[0mts\u001b[0m\u001b[0;34m.\u001b[0m\u001b[0mwep\u001b[0m\u001b[0;34m.\u001b[0m\u001b[0mbsc\u001b[0m\u001b[0;34m.\u001b[0m\u001b[0mComCam\u001b[0m \u001b[0;32mimport\u001b[0m \u001b[0mComCam\u001b[0m\u001b[0;34m\u001b[0m\u001b[0;34m\u001b[0m\u001b[0m\n",
      "\u001b[0;32m/project/scichris/aos/ts_wep/python/lsst/ts/wep/bsc/LsstCam.py\u001b[0m in \u001b[0;36m<module>\u001b[0;34m\u001b[0m\n\u001b[1;32m     21\u001b[0m \u001b[0;34m\u001b[0m\u001b[0m\n\u001b[1;32m     22\u001b[0m \u001b[0;32mfrom\u001b[0m \u001b[0mlsst\u001b[0m\u001b[0;34m.\u001b[0m\u001b[0mobs\u001b[0m\u001b[0;34m.\u001b[0m\u001b[0mlsst\u001b[0m \u001b[0;32mimport\u001b[0m \u001b[0mLsstCamMapper\u001b[0m\u001b[0;34m\u001b[0m\u001b[0;34m\u001b[0m\u001b[0m\n\u001b[0;32m---> 23\u001b[0;31m \u001b[0;32mfrom\u001b[0m \u001b[0mlsst\u001b[0m\u001b[0;34m.\u001b[0m\u001b[0mafw\u001b[0m\u001b[0;34m.\u001b[0m\u001b[0mcameraGeom\u001b[0m\u001b[0;34m.\u001b[0m\u001b[0mdetector\u001b[0m\u001b[0;34m.\u001b[0m\u001b[0mdetector\u001b[0m \u001b[0;32mimport\u001b[0m \u001b[0mDetectorType\u001b[0m\u001b[0;34m\u001b[0m\u001b[0;34m\u001b[0m\u001b[0m\n\u001b[0m\u001b[1;32m     24\u001b[0m \u001b[0;34m\u001b[0m\u001b[0m\n\u001b[1;32m     25\u001b[0m \u001b[0;32mfrom\u001b[0m \u001b[0mlsst\u001b[0m\u001b[0;34m.\u001b[0m\u001b[0mts\u001b[0m\u001b[0;34m.\u001b[0m\u001b[0mwep\u001b[0m\u001b[0;34m.\u001b[0m\u001b[0mbsc\u001b[0m\u001b[0;34m.\u001b[0m\u001b[0mCameraData\u001b[0m \u001b[0;32mimport\u001b[0m \u001b[0mCameraData\u001b[0m\u001b[0;34m\u001b[0m\u001b[0;34m\u001b[0m\u001b[0m\n",
      "\u001b[0;31mModuleNotFoundError\u001b[0m: No module named 'lsst.afw.cameraGeom.detector'"
     ]
    }
   ],
   "source": [
    "import os\n",
    "import shutil\n",
    "import numpy as np\n",
    "import warnings\n",
    "import unittest\n",
    "\n",
    "#from lsst.ts.wep.Utility import FilterType, CamType\n",
    "from lsst.ts.wep.ParamReader import ParamReader\n",
    "from lsst.ts.wep.ctrlIntf.SensorWavefrontData import SensorWavefrontData\n",
    "from lsst.ts.wep.ctrlIntf.MapSensorNameAndId import MapSensorNameAndId\n",
    "\n",
    "from lsst.ts.ofc.Utility import InstName\n",
    "\n",
    "from lsst.ts.phosim.telescope.TeleFacade import TeleFacade\n",
    "from lsst.ts.phosim.SkySim import SkySim\n",
    "from lsst.ts.phosim.OpdMetrology import OpdMetrology\n",
    "from lsst.ts.phosim.Utility import getModulePath\n",
    "from lsst.ts.phosim.PhosimCmpt import PhosimCmpt\n"
   ]
  },
  {
   "cell_type": "code",
   "execution_count": null,
   "metadata": {},
   "outputs": [],
   "source": [
    "What the files "
   ]
  }
 ],
 "metadata": {
  "kernelspec": {
   "display_name": "LSST",
   "language": "python",
   "name": "lsst"
  },
  "language_info": {
   "codemirror_mode": {
    "name": "ipython",
    "version": 3
   },
   "file_extension": ".py",
   "mimetype": "text/x-python",
   "name": "python",
   "nbconvert_exporter": "python",
   "pygments_lexer": "ipython3",
   "version": "3.8.8"
  }
 },
 "nbformat": 4,
 "nbformat_minor": 4
}
