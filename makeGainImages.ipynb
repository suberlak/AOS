{
 "cells": [
  {
   "cell_type": "markdown",
   "metadata": {},
   "source": [
    "# Make Gain Images : which gain to use ?  DM-27836"
   ]
  },
  {
   "cell_type": "code",
   "execution_count": null,
   "metadata": {},
   "outputs": [],
   "source": []
  },
  {
   "cell_type": "markdown",
   "metadata": {},
   "source": [
    "a) values from the phosim output file headers \n",
    "\n",
    "b) values from phosim_syseng4/data/lsst/segmentation.txt, that are used by phosim \n",
    "\n",
    "b) values in the PhosimMapper (currently used in makeGainImages.py)\n",
    "\n",
    "d) values in the LsstCamMapper (that we are beginning to use at least for name/header/geometry...)\n"
   ]
  },
  {
   "cell_type": "code",
   "execution_count": null,
   "metadata": {},
   "outputs": [],
   "source": []
  },
  {
   "cell_type": "markdown",
   "metadata": {},
   "source": [
    "Test comcam:"
   ]
  },
  {
   "cell_type": "code",
   "execution_count": 104,
   "metadata": {},
   "outputs": [],
   "source": [
    "import os\n",
    "import sys\n",
    "import glob\n",
    "import time\n",
    "from collections import defaultdict\n",
    "import astropy.io.fits as fits\n",
    "import astropy.time\n",
    "from lsst.obs.lsst import LsstCam\n",
    "\n",
    "\n",
    "comcamRaw = '/project/scichris/repackagerTest/extra'\n",
    "comcamRpkgd = '/project/scichris/repackagerTest/extraRpkgd/'\n",
    "#os.listdir(comcamRaw)"
   ]
  },
  {
   "cell_type": "code",
   "execution_count": 108,
   "metadata": {},
   "outputs": [],
   "source": [
    "# record raw values in phosim output file \n",
    "raft = 'R22'\n",
    "sensor = 'S00'\n",
    "prefix = 'lsst'\n",
    "phosim_amp_files \\\n",
    "    = sorted(glob.glob(os.path.join(comcamRaw, f'{prefix}_a_*R22_S00*')))\n",
    "gain_values = defaultdict(list)\n",
    "gain_values['source'].append('rawFile')\n",
    "for amp_file in phosim_amp_files:\n",
    "    amp_id = os.path.basename(amp_file).split('_')[6]\n",
    "    amp_gain = fits.open(amp_file)[0].header['gain']\n",
    "    gain_values[amp_id].append(amp_gain)\n",
    "#gain_values"
   ]
  },
  {
   "cell_type": "code",
   "execution_count": 109,
   "metadata": {},
   "outputs": [],
   "source": [
    "# check values in phosimMapper \n",
    "from lsst.obs.lsst.phosim import PhosimMapper\n",
    "camera = PhosimMapper().camera\n",
    "sensor = camera.get('R22_S00')\n",
    "#phosim_gain_values = {}\n",
    "gain_values['source'].append('PhoSimMapper')\n",
    "for amp in sensor:\n",
    "    #print(amp.getName(), amp.getGain())\n",
    "    #phosim_gain_values[amp.getName()] = amp.getGain()\n",
    "    gain_values[amp.getName()].append(amp.getGain())"
   ]
  },
  {
   "cell_type": "code",
   "execution_count": 110,
   "metadata": {},
   "outputs": [],
   "source": [
    "# check values in lsstCam Mapper ...\n",
    "from lsst.obs.lsst import LsstCam\n",
    "camera = LsstCam().getCamera()\n",
    "sensor = camera.get('R22_S00')\n",
    "gain_values['source'].append('LsstCamMapper')\n",
    "for amp in sensor : \n",
    "    #print(amp.getName(), amp.getGain())\n",
    "    gain_values[amp.getName()].append(amp.getGain())"
   ]
  },
  {
   "cell_type": "markdown",
   "metadata": {},
   "source": [
    "I get the file https://github.com/lsst-ts/phosim_syseng4/blob/aos/data/lsst/segmentation.txt with curl , taking the URL to the raw file : \n",
    "    \n",
    "    curl -OL https://raw.githubusercontent.com/lsst-ts/phosim_syseng4/aos/data/lsst/segmentation.txt?token=ABJ7247GCOR7AYOWDVCQC4K72PLMA\n",
    "        \n",
    "        "
   ]
  },
  {
   "cell_type": "code",
   "execution_count": 75,
   "metadata": {},
   "outputs": [],
   "source": []
  },
  {
   "cell_type": "code",
   "execution_count": 111,
   "metadata": {},
   "outputs": [
    {
     "name": "stdout",
     "output_type": "stream",
     "text": [
      "R22_S00 6\n",
      "R22_S00_C00 38\n",
      "R22_S00_C01 38\n",
      "R22_S00_C02 38\n",
      "R22_S00_C03 38\n",
      "R22_S00_C04 38\n",
      "R22_S00_C05 38\n",
      "R22_S00_C06 38\n",
      "R22_S00_C07 38\n",
      "R22_S00_C10 38\n",
      "R22_S00_C11 38\n",
      "R22_S00_C12 38\n",
      "R22_S00_C13 38\n",
      "R22_S00_C14 38\n",
      "R22_S00_C15 38\n",
      "R22_S00_C16 38\n",
      "R22_S00_C17 38\n"
     ]
    }
   ],
   "source": [
    "segFile = '/project/scichris/repackagerTest/segmentation.txt'\n",
    "sensor = 'R22_S00'\n",
    "#amp_gains = {}\n",
    "gain_values['source'].append('segmentation.txt')\n",
    "for line in open(segFile):\n",
    "    content = line.split(' ')\n",
    "    #if content[0] != '#':\n",
    "    if content[0].startswith(sensor):\n",
    "        print(content[0], len(content))\n",
    "        if len(content) > 6:\n",
    "            #print(content)\n",
    "            amp_name = content[0].split('_')[2]\n",
    "            gain = float(content[7])\n",
    "            #amp_gains[amp_name] = gain\n",
    "            gain_values[amp_name].append(gain)"
   ]
  },
  {
   "cell_type": "code",
   "execution_count": 112,
   "metadata": {},
   "outputs": [
    {
     "data": {
      "text/plain": [
       "defaultdict(list,\n",
       "            {'source': ['rawFile',\n",
       "              'PhoSimMapper',\n",
       "              'LsstCamMapper',\n",
       "              'segmentation.txt'],\n",
       "             'C00': [1.706, 1.706, 1.15042, 1.706],\n",
       "             'C01': [1.641, 1.641, 1.14254, 1.641],\n",
       "             'C02': [1.729, 1.729, 1.1477, 1.729],\n",
       "             'C03': [1.622, 1.622, 1.14424, 1.622],\n",
       "             'C04': [1.606, 1.606, 1.13505, 1.606],\n",
       "             'C05': [1.764, 1.764, 1.14213, 1.764],\n",
       "             'C06': [1.671, 1.671, 1.14198, 1.671],\n",
       "             'C07': [1.705, 1.705, 1.134, 1.705],\n",
       "             'C10': [1.719, 1.719, 1.11574, 1.719],\n",
       "             'C11': [1.716, 1.716, 1.12172, 1.716],\n",
       "             'C12': [1.653, 1.653, 1.12397, 1.653],\n",
       "             'C13': [1.78, 1.78, 1.11068, 1.78],\n",
       "             'C14': [1.735, 1.735, 1.10262, 1.735],\n",
       "             'C15': [1.678, 1.678, 1.09866, 1.678],\n",
       "             'C16': [1.678, 1.678, 1.09953, 1.678],\n",
       "             'C17': [1.732, 1.732, 1.0998, 1.732]})"
      ]
     },
     "execution_count": 112,
     "metadata": {},
     "output_type": "execute_result"
    }
   ],
   "source": [
    "gain_values"
   ]
  },
  {
   "cell_type": "markdown",
   "metadata": {},
   "source": [
    "### WFS:  corner sensors"
   ]
  },
  {
   "cell_type": "markdown",
   "metadata": {},
   "source": [
    "check for corner files [most likely the same story  - the gain values between phosimMapper / segmentation / rawFile are the same , and those in lsstCamMapper are different ... ]"
   ]
  },
  {
   "cell_type": "code",
   "execution_count": 171,
   "metadata": {},
   "outputs": [],
   "source": [
    "# record raw values in phosim output file \n",
    "wfsRaw = '/project/scichris/repackagerTest/intra/'\n",
    "sensor = 'R00_S22'\n",
    "prefix = 'lsst'\n",
    "phosim_amp_files \\\n",
    "    = sorted(glob.glob(os.path.join(wfsRaw, f'{prefix}_a_*%s*'%sensor)))\n",
    "gain_values = defaultdict(list)\n",
    "gain_values['source'].append('rawFile')\n",
    "for amp_file in phosim_amp_files:\n",
    "    amp_id = os.path.basename(amp_file).split('_')[6]\n",
    "    amp_gain = fits.open(amp_file)[0].header['gain']\n",
    "    gain_values[amp_id].append(amp_gain)\n",
    "#gain_values"
   ]
  },
  {
   "cell_type": "code",
   "execution_count": 172,
   "metadata": {},
   "outputs": [],
   "source": [
    "# check values in phosimMapper \n",
    "# here the amp names are the same as in raw files ... \n",
    "\n",
    "from lsst.obs.lsst.phosim import PhosimMapper\n",
    "camera = PhosimMapper().camera\n",
    "sensor = camera.get('R00_S22')\n",
    "#phosim_gain_values = {}\n",
    "gain_values['source'].append('PhoSimMapper')\n",
    "for amp in sensor:\n",
    "    #print(amp.getName(), amp.getGain())\n",
    "    #phosim_gain_values[amp.getName()] = amp.getGain()\n",
    "    gain_values[amp.getName()].append(amp.getGain())"
   ]
  },
  {
   "cell_type": "code",
   "execution_count": 173,
   "metadata": {},
   "outputs": [],
   "source": [
    "#gain_values"
   ]
  },
  {
   "cell_type": "code",
   "execution_count": 174,
   "metadata": {},
   "outputs": [],
   "source": [
    "segFile = '/project/scichris/repackagerTest/segmentation.txt'\n",
    "sensor = 'R00_S22'\n",
    "#amp_gains = {}\n",
    "gain_values['source'].append('segmentation.txt')\n",
    "for line in open(segFile):\n",
    "    content = line.split(' ')\n",
    "    #if content[0] != '#':\n",
    "    if content[0].startswith(sensor):\n",
    "        #print(content[0], len(content))\n",
    "        if len(content) > 7:\n",
    "            #print(content)\n",
    "            amp_name = content[0].split('_')[2]\n",
    "            #print(amp_name)\n",
    "            gain = float(content[7])\n",
    "            #print(amp_name, gain)\n",
    "            #amp_gains[amp_name] = gain\n",
    "            gain_values[amp_name].append(gain)"
   ]
  },
  {
   "cell_type": "markdown",
   "metadata": {},
   "source": [
    "Check values in the lsstCamMapper. Need to translate channel names to describe the same amplifiers:"
   ]
  },
  {
   "cell_type": "code",
   "execution_count": 175,
   "metadata": {},
   "outputs": [
    {
     "name": "stdout",
     "output_type": "stream",
     "text": [
      "R00_S22_C0 R00_SW1\n",
      "00 17 C17 1.725\n",
      "01 16 C16 1.596\n",
      "02 15 C15 1.788\n",
      "03 14 C14 1.782\n",
      "04 13 C13 1.689\n",
      "05 12 C12 1.584\n",
      "06 11 C11 1.738\n",
      "07 10 C10 1.679\n",
      "R00_S22_C1 R00_SW0\n",
      "10 17 C17 1.725\n",
      "11 16 C16 1.596\n",
      "12 15 C15 1.788\n",
      "13 14 C14 1.782\n",
      "14 13 C13 1.689\n",
      "15 12 C12 1.584\n",
      "16 11 C11 1.738\n",
      "17 10 C10 1.679\n"
     ]
    }
   ],
   "source": [
    "# check values in lsstCam Mapper ...\n",
    "from lsst.obs.lsst import LsstCam\n",
    "camera = LsstCam().getCamera()\n",
    "ccdname_mapper = {'R00_S22_C0' : 'R00_SW1',\n",
    "                  'R00_S22_C1' : 'R00_SW0'\n",
    "                 }\n",
    "# SW1  \n",
    "ch_map_intra = {'00':'17',\n",
    "              '01':'16',\n",
    "              '02':'15',\n",
    "              '03':'14',\n",
    "              '04':'13',\n",
    "              '05':'12',\n",
    "              '06':'11',\n",
    "              '07':'10',}\n",
    "\n",
    "# SW0 \n",
    "ch_map_extra = {\n",
    "              '10':'17',\n",
    "              '11':'16',\n",
    "              '12':'15',\n",
    "              '13':'14',\n",
    "              '14':'13',\n",
    "              '15':'12',\n",
    "              '16':'11',\n",
    "              '17':'10' }\n",
    "\n",
    "gain_values['source'].append('LsstCamMapper')\n",
    "for ccdname, ch_map  in zip(['R00_S22_C0', 'R00_S22_C1'],\n",
    "                            [ch_map_intra, ch_map_extra]):\n",
    "    \n",
    "    sensor = camera.get(ccdname_mapper[ccdname])\n",
    "    print(ccdname, sensor.getName())\n",
    "    for ampName in ch_map.keys():\n",
    "        ampTranslated = ch_map[ampName]\n",
    "        for amp in sensor:\n",
    "            #print(amp.getName())\n",
    "            if amp.getName()[1:] == ampTranslated : \n",
    "                print(ampName, ampTranslated, amp.getName(), amp.getGain())\n",
    "                gain_values['C'+ampName].append(amp.getGain())"
   ]
  },
  {
   "cell_type": "code",
   "execution_count": 176,
   "metadata": {},
   "outputs": [
    {
     "data": {
      "text/plain": [
       "defaultdict(list,\n",
       "            {'source': ['rawFile',\n",
       "              'PhoSimMapper',\n",
       "              'segmentation.txt',\n",
       "              'LsstCamMapper'],\n",
       "             'C00': [1.725, 1.725, 1.725, 1.725],\n",
       "             'C01': [1.596, 1.596, 1.596, 1.596],\n",
       "             'C02': [1.788, 1.788, 1.788, 1.788],\n",
       "             'C03': [1.782, 1.782, 1.782, 1.782],\n",
       "             'C04': [1.689, 1.689, 1.689, 1.689],\n",
       "             'C05': [1.584, 1.584, 1.584, 1.584],\n",
       "             'C06': [1.738, 1.738, 1.738, 1.738],\n",
       "             'C07': [1.679, 1.679, 1.679, 1.679],\n",
       "             'C10': [1.66, 1.66, 1.66, 1.725],\n",
       "             'C11': [1.737, 1.737, 1.737, 1.596],\n",
       "             'C12': [1.804, 1.804, 1.804, 1.788],\n",
       "             'C13': [1.753, 1.753, 1.753, 1.782],\n",
       "             'C14': [1.712, 1.712, 1.712, 1.689],\n",
       "             'C15': [1.653, 1.653, 1.653, 1.584],\n",
       "             'C16': [1.619, 1.619, 1.619, 1.738],\n",
       "             'C17': [1.671, 1.671, 1.671, 1.679]})"
      ]
     },
     "execution_count": 176,
     "metadata": {},
     "output_type": "execute_result"
    }
   ],
   "source": [
    "gain_values"
   ]
  },
  {
   "cell_type": "markdown",
   "metadata": {},
   "source": [
    "So for corner sensors it is the same : the values in lsstCamMapper are different than in phosimMapper / phosim_syseng4 / phosim output file headers. However,  the `C00:C07` in lsstCamMapper are the same as phosimMapper, but `C10:C17` are different. It looks like a copy-paste error (originally different values in `C10:C17`  got overwritten with those from `C00:C07`. I opened the ticket to address that https://jira.lsstcorp.org/browse/DM-27836 , but I wonder whether the phosimMapper values are not outdated anyway, and new measurements will provide better values which should first be updated in lsstCamMapper, and then in phosimMapper / segmentation.txt (?) "
   ]
  },
  {
   "cell_type": "code",
   "execution_count": null,
   "metadata": {},
   "outputs": [],
   "source": []
  }
 ],
 "metadata": {
  "kernelspec": {
   "display_name": "LSST",
   "language": "python",
   "name": "lsst"
  },
  "language_info": {
   "codemirror_mode": {
    "name": "ipython",
    "version": 3
   },
   "file_extension": ".py",
   "mimetype": "text/x-python",
   "name": "python",
   "nbconvert_exporter": "python",
   "pygments_lexer": "ipython3",
   "version": "3.8.6"
  }
 },
 "nbformat": 4,
 "nbformat_minor": 4
}
