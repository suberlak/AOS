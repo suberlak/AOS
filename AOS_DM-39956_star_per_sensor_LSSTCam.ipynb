{
 "cells": [
  {
   "cell_type": "code",
   "execution_count": 1,
   "id": "b72f0930",
   "metadata": {},
   "outputs": [
    {
     "name": "stderr",
     "output_type": "stream",
     "text": [
      "INFO:numexpr.utils:Note: detected 128 virtual cores but NumExpr set to maximum of 64, check \"NUMEXPR_MAX_THREADS\" environment variable.\n",
      "INFO:numexpr.utils:Note: NumExpr detected 128 cores but \"NUMEXPR_MAX_THREADS\" not set, so enforcing safe limit of 8.\n",
      "INFO:numexpr.utils:NumExpr defaulting to 8 threads.\n"
     ]
    }
   ],
   "source": [
    "from lsst.ts.phosim.CloseLoopTask import CloseLoopTask\n",
    "from lsst.afw.cameraGeom import PIXELS, FIELD_ANGLE, FOCAL_PLANE\n",
    "from lsst.geom import Point2D\n",
    "from astropy.table import Table\n",
    "from lsst.ts.phosim.utils.Utility import getCamera\n",
    "import matplotlib.pyplot as plt\n",
    "import numpy as np"
   ]
  },
  {
   "cell_type": "code",
   "execution_count": 22,
   "id": "dba7aee9",
   "metadata": {},
   "outputs": [],
   "source": [
    "def make_star_per_sensor_inst_catalog(instName = \"lsstfam\",  xcen = 2000, ycen = 2000,mag = 15,\n",
    "                                      outDir='/sdf/data/rubin/u/scichris/WORK/AOS/DM-39956/',\n",
    "                                      fname = ''):\n",
    "    camera = getCamera(instName)\n",
    "\n",
    "    # only for instName = \"lsst\"   \n",
    "    fieldX, fieldY = list(), list()\n",
    "    fieldXrad, fieldYrad = list(), list()\n",
    "    detName = list()\n",
    "\n",
    "    task = CloseLoopTask()\n",
    "\n",
    "    for name in task.getSensorNameListOfFields(instName):\n",
    "        detector = camera.get(name)\n",
    "\n",
    "        # add grid of points\n",
    "        xs,ys = np.array([xcen]), np.array([ycen])\n",
    "        transform = detector.getTransform(PIXELS, FIELD_ANGLE)\n",
    "\n",
    "        # make a list of points in pixels \n",
    "        fps = [Point2D(fpx,fpy) for fpx, fpy in zip(xs,ys)]\n",
    "\n",
    "        # transform from pixels to radians \n",
    "        pixels = transform.applyForward(fps)\n",
    "\n",
    "        # this is now in field angle coords, i.e. radians\n",
    "        fpxRad = [pixel.x for pixel in pixels]\n",
    "        fpyRad = [pixel.y for pixel in pixels]\n",
    "\n",
    "        # radians to degrees + transpose for phoSim \n",
    "        fpyDeg = [np.rad2deg(fp) for fp in fpxRad]\n",
    "        fpxDeg = [np.rad2deg(fp) for fp in fpyRad]\n",
    "\n",
    "        fieldXrad = np.append(fieldXrad, fpxRad)\n",
    "        fieldYrad = np.append(fieldYrad, fpyRad)\n",
    "        fieldX = np.append(fieldX, fpxDeg)\n",
    "        fieldY = np.append(fieldY, fpyDeg)\n",
    "        names = [name for i in range(len(fpxDeg))]\n",
    "        detName = np.append(detName, names)\n",
    "\n",
    "    # this is enough information:  fieldX, fieldY in degrees\n",
    "    # to save the star catalog file \n",
    "\n",
    "    # Save the input catalog \n",
    "\n",
    "    # make an inst catalog \n",
    "    coords = Table(data=[fieldX, fieldY],  names=['Ra','Decl'])\n",
    "\n",
    "    # add a column with object id \n",
    "    ID = np.arange(len(coords))\n",
    "    coords['Id'] = ID\n",
    "\n",
    "    coords['Mag'] = mag\n",
    "    if len(fname) < 1:\n",
    "        fname = f'{instName}_star_per_sensor_{mag}.txt'\n",
    "        \n",
    "    if not os.path.exists(outDir):\n",
    "        os.makedirs(outDir)  \n",
    "    fpath = os.path.join(outDir, fname )\n",
    "    coords[['Id','Ra','Decl','Mag']].write(fpath, \n",
    "                                           format='ascii.commented_header',\n",
    "                                          overwrite=True)\n",
    "    print(f'saved as {fpath}')"
   ]
  },
  {
   "cell_type": "code",
   "execution_count": 23,
   "id": "ccb3bb1a",
   "metadata": {},
   "outputs": [
    {
     "name": "stdout",
     "output_type": "stream",
     "text": [
      "saved as /sdf/data/rubin/u/scichris/WORK/AOS/DM-39956/lsstfam_star_per_sensor_15.txt\n"
     ]
    }
   ],
   "source": [
    "make_star_per_sensor_inst_catalog(instName = \"lsstfam\",  xcen = 2000, ycen = 2000,mag = 15,\n",
    "                                      outDir='/sdf/data/rubin/u/scichris/WORK/AOS/DM-39956/',\n",
    "                                      fname = '')"
   ]
  },
  {
   "cell_type": "code",
   "execution_count": 20,
   "id": "391ae8c4",
   "metadata": {},
   "outputs": [
    {
     "data": {
      "text/plain": [
       "Text(0, 0.5, 'Decl')"
      ]
     },
     "execution_count": 20,
     "metadata": {},
     "output_type": "execute_result"
    },
    {
     "data": {
      "image/png": "[encoded data removed]",
      "text/plain": [
       "<Figure size 500x500 with 1 Axes>"
      ]
     },
     "metadata": {},
     "output_type": "display_data"
    }
   ],
   "source": [
    "%matplotlib inline\n",
    "fig,ax = plt.subplots(1,1,figsize=(5,5))\n",
    "ax.scatter(coords['Ra'], coords['Decl'])\n",
    "ax.set_xlabel('Ra')\n",
    "ax.set_ylabel('Decl')"
   ]
  },
  {
   "cell_type": "code",
   "execution_count": null,
   "id": "b5726e03",
   "metadata": {},
   "outputs": [],
   "source": []
  }
 ],
 "metadata": {
  "kernelspec": {
   "display_name": "Python 3 (ipykernel)",
   "language": "python",
   "name": "python3"
  },
  "language_info": {
   "codemirror_mode": {
    "name": "ipython",
    "version": 3
   },
   "file_extension": ".py",
   "mimetype": "text/x-python",
   "name": "python",
   "nbconvert_exporter": "python",
   "pygments_lexer": "ipython3",
   "version": "3.11.4"
  }
 },
 "nbformat": 4,
 "nbformat_minor": 5
}
