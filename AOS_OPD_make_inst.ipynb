{
 "cells": [
  {
   "cell_type": "markdown",
   "id": "dd3bd570",
   "metadata": {},
   "source": [
    "# AOS_OPD_phosim"
   ]
  },
  {
   "cell_type": "markdown",
   "id": "8fa79e0b",
   "metadata": {},
   "source": [
    "Notebook to develop code that ends up in `run_ps1_opd.py`"
   ]
  },
  {
   "cell_type": "code",
   "execution_count": 2,
   "id": "d7f8a571",
   "metadata": {},
   "outputs": [],
   "source": [
    "from astropy.table import Table\n",
    "import os\n",
    "import pandas as pd\n",
    "import numpy as np \n",
    "import argparse\n",
    "import run_ps1_functions as func\n",
    "import imp\n",
    "imp.reload(func)\n",
    "\n",
    "gt_dict = func.get_field_ra_dec()\n",
    "\n",
    "\n",
    "instruments = ['comCam']#  ['lsstCam', 'comCam', 'wfs']\n",
    "fields = ['high']\n",
    "positions =['extra','intra','focal']\n",
    "exposure = 0.25\n",
    "phosim_p = 25\n",
    "cmd_file = 'noBkgndPert00_NCSA.cmd'\n",
    "phosim_path = \"/project/scichris/aos/phosim_syseng4/phosim.py\"\n",
    "root_dir = \"/project/scichris/aos/ps1_phosim/\"\n",
    "run = 1 \n",
    "dry_run = True "
   ]
  },
  {
   "cell_type": "code",
   "execution_count": 3,
   "id": "fb8970ca",
   "metadata": {},
   "outputs": [
    {
     "name": "stdout",
     "output_type": "stream",
     "text": [
      "comCam\n"
     ]
    }
   ],
   "source": [
    "from lsst.ts.phosim.SkySim import SkySim\n",
    "import numpy as np \n",
    "from astropy.table import Table\n",
    "from astropy.table import  hstack\n",
    "from astropy.table import  vstack\n",
    "import matplotlib.pyplot as plt\n",
    "\n",
    "from matplotlib import rcParams \n",
    "rcParams['ytick.labelsize'] = 15\n",
    "rcParams['xtick.labelsize'] = 15\n",
    "rcParams['axes.labelsize'] = 20\n",
    "rcParams['axes.linewidth'] = 2\n",
    "rcParams['font.size'] = 15\n",
    "rcParams['axes.titlesize'] = 18\n",
    "\n",
    "\n",
    "\n",
    "instrument = instruments[0]\n",
    "field = fields[0]\n",
    "position = positions[0]\n",
    "\n",
    "mjd = 59580  # arbitrary observation date, but \n",
    "             # make it consistent with that used \n",
    "             # for other observations  \n",
    "        \n",
    "\n",
    "rotSkyPos = 0 # rotation angle in degrees \n",
    "print(instrument)"
   ]
  },
  {
   "cell_type": "code",
   "execution_count": 4,
   "id": "9f9dee5a",
   "metadata": {},
   "outputs": [
    {
     "ename": "NameError",
     "evalue": "name 'LsstComCam' is not defined",
     "output_type": "error",
     "traceback": [
      "\u001b[0;31m---------------------------------------------------------------------------\u001b[0m",
      "\u001b[0;31mNameError\u001b[0m                                 Traceback (most recent call last)",
      "\u001b[0;32m/tmp/ipykernel_14485/3781560034.py\u001b[0m in \u001b[0;36m<module>\u001b[0;34m\u001b[0m\n\u001b[1;32m      6\u001b[0m \u001b[0mrotskypos\u001b[0m\u001b[0;34m=\u001b[0m\u001b[0;36m0\u001b[0m\u001b[0;34m\u001b[0m\u001b[0;34m\u001b[0m\u001b[0m\n\u001b[1;32m      7\u001b[0m \u001b[0;32mif\u001b[0m \u001b[0minstrument\u001b[0m \u001b[0;34m==\u001b[0m \u001b[0;34m'comCam'\u001b[0m\u001b[0;34m:\u001b[0m\u001b[0;34m\u001b[0m\u001b[0;34m\u001b[0m\u001b[0m\n\u001b[0;32m----> 8\u001b[0;31m     \u001b[0msensorNames\u001b[0m\u001b[0;34m,\u001b[0m \u001b[0mxCenter\u001b[0m\u001b[0;34m,\u001b[0m \u001b[0myCenter\u001b[0m \u001b[0;34m=\u001b[0m \u001b[0mopd\u001b[0m\u001b[0;34m.\u001b[0m\u001b[0mget_all_sensor_names_xy\u001b[0m\u001b[0;34m(\u001b[0m\u001b[0mLsstComCam\u001b[0m\u001b[0;34m(\u001b[0m\u001b[0;34m)\u001b[0m\u001b[0;34m.\u001b[0m\u001b[0mgetCamera\u001b[0m\u001b[0;34m(\u001b[0m\u001b[0;34m)\u001b[0m\u001b[0;34m)\u001b[0m\u001b[0;34m\u001b[0m\u001b[0;34m\u001b[0m\u001b[0m\n\u001b[0m\u001b[1;32m      9\u001b[0m \u001b[0;34m\u001b[0m\u001b[0m\n\u001b[1;32m     10\u001b[0m \u001b[0;32melif\u001b[0m \u001b[0minstrument\u001b[0m \u001b[0;34m==\u001b[0m \u001b[0;34m'lsstCam'\u001b[0m\u001b[0;34m:\u001b[0m\u001b[0;34m\u001b[0m\u001b[0;34m\u001b[0m\u001b[0m\n",
      "\u001b[0;31mNameError\u001b[0m: name 'LsstComCam' is not defined"
     ]
    }
   ],
   "source": [
    "import run_ps1_opd as opd\n",
    "\n",
    "\n",
    "raField=0\n",
    "decField=0\n",
    "rotskypos=0\n",
    "if instrument == 'comCam':\n",
    "    sensorNames, xCenter, yCenter = opd.get_all_sensor_names_xy(LsstComCam().getCamera())\n",
    "\n",
    "elif instrument == 'lsstCam':\n",
    "    sensorNames, xCenter, yCenter = opd.get_all_sensor_names_xy(LsstCam().getCamera())\n",
    "\n",
    "elif instrument == 'wfs':\n",
    "    sensorNames, xCenter, yCenter = opd.get_wfs_sensor_names_xy()\n",
    "\n",
    " # Declare the SkySim()\n",
    "skySim = SkySim()\n",
    "\n",
    "# Set the observation information\n",
    "skySim.setObservationMetaData(raField, decField, rotskypos)\n",
    "\n",
    "xPx = xCenter\n",
    "yPx = yCenter\n",
    "starMag = 15\n",
    "\n",
    "\n",
    "starId = 0 \n",
    "# we have only one x,y point per sensor \n",
    "for i in range(len(sensorNames)):\n",
    "    skySim.addStarByChipPos(sensorNames[i], starId, xCenter[i],\n",
    "                            yCenter[i], starMag)\n",
    "    starId += 1 \n",
    "\n",
    "raList , decList = skySim.getRaDecInDeg()"
   ]
  },
  {
   "cell_type": "code",
   "execution_count": 87,
   "id": "40097b16",
   "metadata": {},
   "outputs": [
    {
     "data": {
      "text/plain": [
       "array([2.37387531e-01, 2.66666666e-03, 3.59767946e+02, 2.37387531e-01,\n",
       "       2.66666666e-03, 3.59767946e+02, 2.37387531e-01, 2.66666666e-03,\n",
       "       3.59767946e+02])"
      ]
     },
     "execution_count": 87,
     "metadata": {},
     "output_type": "execute_result"
    }
   ],
   "source": [
    "raList"
   ]
  },
  {
   "cell_type": "code",
   "execution_count": 88,
   "id": "6cd9289c",
   "metadata": {},
   "outputs": [
    {
     "data": {
      "text/plain": [
       "array([ 0.23738753,  0.00266667, -0.23205429,  0.23738753,  0.00266667,\n",
       "       -0.23205429,  0.23738753,  0.00266667, -0.23205429])"
      ]
     },
     "execution_count": 88,
     "metadata": {},
     "output_type": "execute_result"
    }
   ],
   "source": [
    "m =raList>180\n",
    "raList[m] = raList[m] - 360\n",
    "raList"
   ]
  },
  {
   "cell_type": "code",
   "execution_count": 13,
   "id": "501531cc",
   "metadata": {},
   "outputs": [],
   "source": [
    "from lsst.obs.lsst import LsstCam, LsstComCam\n",
    "#camera = LsstComCam().getCamera()\n",
    "camera = LsstCam().getCamera()"
   ]
  },
  {
   "cell_type": "code",
   "execution_count": 14,
   "id": "79a1f7f2",
   "metadata": {},
   "outputs": [
    {
     "name": "stdout",
     "output_type": "stream",
     "text": [
      "2035.5 999.5\n"
     ]
    }
   ],
   "source": [
    "detector = camera.get(\"R00_SW1\")\n",
    "bbox = detector.getBBox()\n",
    "print(bbox.centerX, bbox.centerY)"
   ]
  },
  {
   "cell_type": "code",
   "execution_count": 35,
   "id": "79d097a4",
   "metadata": {},
   "outputs": [],
   "source": [
    "detector."
   ]
  },
  {
   "cell_type": "code",
   "execution_count": 43,
   "id": "60ac48bc",
   "metadata": {},
   "outputs": [
    {
     "name": "stdout",
     "output_type": "stream",
     "text": [
      "R22_S00\n",
      "R22_S01\n",
      "R22_S02\n",
      "R22_S10\n",
      "R22_S11\n",
      "R22_S12\n",
      "R22_S20\n",
      "R22_S21\n",
      "R22_S22\n"
     ]
    }
   ],
   "source": [
    "camera = LsstComCam().getCamera()\n",
    "for detector in camera:\n",
    "    print(detector.getName())"
   ]
  },
  {
   "cell_type": "code",
   "execution_count": 38,
   "id": "00f44e6d",
   "metadata": {},
   "outputs": [
    {
     "data": {
      "text/plain": [
       "1999.5"
      ]
     },
     "execution_count": 38,
     "metadata": {},
     "output_type": "execute_result"
    }
   ],
   "source": [
    "Need to get hte "
   ]
  },
  {
   "cell_type": "code",
   "execution_count": 3,
   "id": "c18b6f44",
   "metadata": {},
   "outputs": [],
   "source": [
    "def get_all_sensor_names_xy(camera):\n",
    "    \n",
    "    sensorNames = []\n",
    "    xCenter, yCenter = [], []\n",
    "    for detector in camera:\n",
    "        bbox = detector.getBBox()\n",
    "        xCen, yCen = bbox.centerX, bbox.centerY\n",
    "        xCenter.append(xCen)\n",
    "        yCenter.append(yCen)\n",
    "        sensorNames.append(detector.getName())\n",
    "        \n",
    "    return sensorNames, xCenter, yCenter\n",
    "\n",
    "\n",
    "def get_wfs_sensor_names_xy():\n",
    "    sensorNames = [  \"R04_SW0\", \"R04_SW1\",\n",
    "                     \"R44_SW0\", \"R44_SW1\",\n",
    "                     \"R00_SW0\", \"R00_SW1\",\n",
    "                     \"R40_SW0\", \"R40_SW1\"\n",
    "                   ]\n",
    "    xCenter = []\n",
    "    yCenter = []\n",
    "    camera = LsstCam().getCamera()\n",
    "    for sensor in sensorNames:\n",
    "        detector = camera.get(sensor)\n",
    "        bbox = detector.getBBox()\n",
    "        xCen, yCen = bbox.centerX, bbox.centerY\n",
    "        xCenter.append(xCen)\n",
    "        yCenter.append(yCen)\n",
    "        \n",
    "    return sensorNames, xCenter, yCenter"
   ]
  },
  {
   "cell_type": "code",
   "execution_count": null,
   "id": "940b4c70",
   "metadata": {},
   "outputs": [],
   "source": []
  },
  {
   "cell_type": "code",
   "execution_count": 4,
   "id": "3e6caac4",
   "metadata": {},
   "outputs": [],
   "source": [
    "sensorNames = [  \"R04_SW0\", \"R04_SW1\",\n",
    "                 \"R44_SW0\", \"R44_SW1\",\n",
    "                 \"R00_SW0\", \"R00_SW1\",\n",
    "                 \"R40_SW0\", \"R40_SW1\"\n",
    "               ]\n",
    "xCenter = []\n",
    "yCenter = []\n",
    "camera = LsstCam().getCamera()\n",
    "for sensor in sensorNames:\n",
    "    detector = camera.get(sensor)\n",
    "    bbox = detector.getBBox()\n",
    "    xCen, yCen = bbox.centerX, bbox.centerY\n",
    "    xCenter.append(xCen)\n",
    "    yCenter.append(yCen)"
   ]
  },
  {
   "cell_type": "code",
   "execution_count": 14,
   "id": "d0e6fa3c",
   "metadata": {},
   "outputs": [],
   "source": [
    "from astropy.table import Table\n",
    "from lsst.ts.phosim.SkySim import SkySim\n",
    "import os\n",
    "import pandas as pd\n",
    "import numpy as np \n",
    "from lsst.obs.lsst import LsstCam, LsstComCam\n",
    "\n",
    "raField=0\n",
    "decField=0\n",
    "rotskypos=0\n",
    "\n",
    "# Declare the SkySim()\n",
    "skySim = SkySim()\n",
    "\n",
    "# Set the observation information\n",
    "skySim.setObservationMetaData(raField, decField, rotskypos)\n",
    "\n",
    "xPx = xCenter\n",
    "yPx = yCenter\n",
    "starMag = 15\n",
    "\n",
    "\n",
    "starId = 0 \n",
    "\n",
    "sensor_short  = []\n",
    "# we have only one x,y point per sensor \n",
    "for i in range(len(sensorNames)):\n",
    "    skySim.addStarByChipPos(sensorNames[i], starId, xCenter[i],\n",
    "                            yCenter[i], starMag)\n",
    "    starId += 1 \n",
    "    sensor_short.append(sensorNames[i][:3])\n",
    "    \n",
    "raList , decList = skySim.getRaDecInDeg()\n",
    "\n",
    "# Note:  ra for phosim is (0 <= ra <= 360). But the \n",
    "# field position might be < 0 (-180 <= field_ra <= 180).\n",
    "# So here I change \n",
    "# the (0,360) range to (-180,180) range:\n",
    "m =raList>180\n",
    "raList[m] = raList[m] - 360\n",
    "\n",
    "mags = skySim.getStarMag()\n",
    "coords = Table(data=[raList, decList, xCenter, yCenter, mags, sensorNames,sensor_short], \n",
    "             names=['ra','dec', 'xPx', 'yPx','r','sensor','short' ]  )"
   ]
  },
  {
   "cell_type": "code",
   "execution_count": 15,
   "id": "a87804bb",
   "metadata": {},
   "outputs": [
    {
     "data": {
      "text/html": [
       "<i>Table length=8</i>\n",
       "<table id=\"table139656370282160\" class=\"table-striped table-bordered table-condensed\">\n",
       "<thead><tr><th>ra</th><th>dec</th><th>xPx</th><th>yPx</th><th>r</th><th>sensor</th><th>short</th></tr></thead>\n",
       "<thead><tr><th>float64</th><th>float64</th><th>float64</th><th>float64</th><th>float64</th><th>str7</th><th>str3</th></tr></thead>\n",
       "<tr><td>-1.1830262968173315</td><td>-1.1322778103399687</td><td>2035.5</td><td>999.5</td><td>15.0</td><td>R04_SW0</td><td>R04</td></tr>\n",
       "<tr><td>-1.1971868521392253</td><td>-1.2474193576181027</td><td>2035.5</td><td>999.5</td><td>15.0</td><td>R04_SW1</td><td>R04</td></tr>\n",
       "<tr><td>-1.1325191510422314</td><td>1.182795264517186</td><td>2035.5</td><td>999.5</td><td>15.0</td><td>R44_SW0</td><td>R44</td></tr>\n",
       "<tr><td>-1.2476916295145202</td><td>1.1969030878961635</td><td>2035.5</td><td>999.5</td><td>15.0</td><td>R44_SW1</td><td>R44</td></tr>\n",
       "<tr><td>1.1325191510422252</td><td>-1.1827952645171782</td><td>2035.5</td><td>999.5</td><td>15.0</td><td>R00_SW0</td><td>R00</td></tr>\n",
       "<tr><td>1.247691629514483</td><td>-1.1969030878961564</td><td>2035.5</td><td>999.5</td><td>15.0</td><td>R00_SW1</td><td>R00</td></tr>\n",
       "<tr><td>1.1830262968173502</td><td>1.1322778103399762</td><td>2035.5</td><td>999.5</td><td>15.0</td><td>R40_SW0</td><td>R40</td></tr>\n",
       "<tr><td>1.1971868521391877</td><td>1.2474193576181096</td><td>2035.5</td><td>999.5</td><td>15.0</td><td>R40_SW1</td><td>R40</td></tr>\n",
       "</table>"
      ],
      "text/plain": [
       "<Table length=8>\n",
       "         ra                 dec           xPx     yPx      r     sensor short\n",
       "      float64             float64       float64 float64 float64   str7   str3\n",
       "------------------- ------------------- ------- ------- ------- ------- -----\n",
       "-1.1830262968173315 -1.1322778103399687  2035.5   999.5    15.0 R04_SW0   R04\n",
       "-1.1971868521392253 -1.2474193576181027  2035.5   999.5    15.0 R04_SW1   R04\n",
       "-1.1325191510422314   1.182795264517186  2035.5   999.5    15.0 R44_SW0   R44\n",
       "-1.2476916295145202  1.1969030878961635  2035.5   999.5    15.0 R44_SW1   R44\n",
       " 1.1325191510422252 -1.1827952645171782  2035.5   999.5    15.0 R00_SW0   R00\n",
       "  1.247691629514483 -1.1969030878961564  2035.5   999.5    15.0 R00_SW1   R00\n",
       " 1.1830262968173502  1.1322778103399762  2035.5   999.5    15.0 R40_SW0   R40\n",
       " 1.1971868521391877  1.2474193576181096  2035.5   999.5    15.0 R40_SW1   R40"
      ]
     },
     "execution_count": 15,
     "metadata": {},
     "output_type": "execute_result"
    }
   ],
   "source": [
    "coords"
   ]
  },
  {
   "cell_type": "code",
   "execution_count": 19,
   "id": "bfa1c6c4",
   "metadata": {},
   "outputs": [],
   "source": [
    "grouped = coords.group_by('short')"
   ]
  },
  {
   "cell_type": "code",
   "execution_count": 22,
   "id": "40023a26",
   "metadata": {},
   "outputs": [
    {
     "data": {
      "text/html": [
       "<i>Table length=4</i>\n",
       "<table id=\"table139656343453504\" class=\"table-striped table-bordered table-condensed\">\n",
       "<thead><tr><th>short</th></tr></thead>\n",
       "<thead><tr><th>str3</th></tr></thead>\n",
       "<tr><td>R00</td></tr>\n",
       "<tr><td>R04</td></tr>\n",
       "<tr><td>R40</td></tr>\n",
       "<tr><td>R44</td></tr>\n",
       "</table>"
      ],
      "text/plain": [
       "<Table length=4>\n",
       "short\n",
       " str3\n",
       "-----\n",
       "  R00\n",
       "  R04\n",
       "  R40\n",
       "  R44"
      ]
     },
     "execution_count": 22,
     "metadata": {},
     "output_type": "execute_result"
    }
   ],
   "source": [
    "grouped.groups.keys"
   ]
  },
  {
   "cell_type": "code",
   "execution_count": 23,
   "id": "514e5f4a",
   "metadata": {},
   "outputs": [
    {
     "name": "stderr",
     "output_type": "stream",
     "text": [
      "WARNING: Cannot aggregate column 'sensor' with type '<U7' [astropy.table.groups]\n"
     ]
    }
   ],
   "source": [
    "coords_mean = grouped.groups.aggregate(np.mean)"
   ]
  },
  {
   "cell_type": "code",
   "execution_count": 24,
   "id": "6e496e6f",
   "metadata": {},
   "outputs": [
    {
     "data": {
      "text/html": [
       "<i>Table length=4</i>\n",
       "<table id=\"table139656342816704\" class=\"table-striped table-bordered table-condensed\">\n",
       "<thead><tr><th>ra</th><th>dec</th><th>xPx</th><th>yPx</th><th>r</th><th>short</th></tr></thead>\n",
       "<thead><tr><th>float64</th><th>float64</th><th>float64</th><th>float64</th><th>float64</th><th>str3</th></tr></thead>\n",
       "<tr><td>1.190105390278354</td><td>-1.1898491762066672</td><td>2035.5</td><td>999.5</td><td>15.0</td><td>R00</td></tr>\n",
       "<tr><td>-1.1901065744782784</td><td>-1.1898485839790358</td><td>2035.5</td><td>999.5</td><td>15.0</td><td>R04</td></tr>\n",
       "<tr><td>1.190106574478269</td><td>1.189848583979043</td><td>2035.5</td><td>999.5</td><td>15.0</td><td>R40</td></tr>\n",
       "<tr><td>-1.1901053902783758</td><td>1.1898491762066747</td><td>2035.5</td><td>999.5</td><td>15.0</td><td>R44</td></tr>\n",
       "</table>"
      ],
      "text/plain": [
       "<Table length=4>\n",
       "         ra                 dec           xPx     yPx      r    short\n",
       "      float64             float64       float64 float64 float64  str3\n",
       "------------------- ------------------- ------- ------- ------- -----\n",
       "  1.190105390278354 -1.1898491762066672  2035.5   999.5    15.0   R00\n",
       "-1.1901065744782784 -1.1898485839790358  2035.5   999.5    15.0   R04\n",
       "  1.190106574478269   1.189848583979043  2035.5   999.5    15.0   R40\n",
       "-1.1901053902783758  1.1898491762066747  2035.5   999.5    15.0   R44"
      ]
     },
     "execution_count": 24,
     "metadata": {},
     "output_type": "execute_result"
    }
   ],
   "source": [
    "coords_mean"
   ]
  },
  {
   "cell_type": "code",
   "execution_count": 31,
   "id": "3d7294c5",
   "metadata": {},
   "outputs": [
    {
     "data": {
      "text/plain": [
       "Text(0, 0.5, 'dec')"
      ]
     },
     "execution_count": 31,
     "metadata": {},
     "output_type": "execute_result"
    },
    {
     "data": {
      "image/png": "[encoded data removed]",
      "text/plain": [
       "<Figure size 432x432 with 1 Axes>"
      ]
     },
     "metadata": {
      "needs_background": "light"
     },
     "output_type": "display_data"
    }
   ],
   "source": [
    "%matplotlib inline\n",
    "\n",
    "fig,ax = plt.subplots(1,1,figsize=(6,6))\n",
    "\n",
    "fieldWFSx = [1.176, -1.176, -1.176, 1.176]\n",
    "fieldWFSy = [1.176, 1.176, -1.176, -1.176]\n",
    "    \n",
    "    \n",
    "ax.scatter(coords['ra'], coords['dec'])\n",
    "ax.scatter(coords_mean['ra'], coords_mean['dec'])\n",
    "ax.scatter(fieldWFSx, fieldWFSy)\n",
    "ax.set_xlabel('ra')\n",
    "ax.set_ylabel('dec')"
   ]
  },
  {
   "cell_type": "markdown",
   "id": "8087997d",
   "metadata": {},
   "source": [
    "Blue: using skySim to get coords of the center of each corner sensor. Orange - taking the mean of each pair of coordinates. Green - the fieldXY from https://github.com/lsst-ts/ts_phosim/blob/017c858758628ab8d7e2f2321fb65a45879fd841/python/lsst/ts/phosim/OpdMetrology.py#L198 "
   ]
  },
  {
   "cell_type": "code",
   "execution_count": 100,
   "id": "001dfcbd",
   "metadata": {},
   "outputs": [
    {
     "name": "stdout",
     "output_type": "stream",
     "text": [
      "Saved as  ./opd.inst\n"
     ]
    }
   ],
   "source": [
    "from lsst.obs.lsst import LsstCam, LsstComCam\n",
    "# for comCam and lsstCam, get sensor names from obs_lsst mapper\n",
    "# for WFS, write them manually \n",
    "\n",
    "\n",
    "def get_opd_ra_dec(instrument, raField, decField, rotskypos=0):\n",
    "    if instrument == 'comCam':\n",
    "        sensorNames, xCenter, yCenter = get_all_sensor_names_xy(LsstComCam().getCamera())\n",
    "\n",
    "    elif instrument == 'lsstCam':\n",
    "        sensorNames, xCenter, yCenter = get_all_sensor_names_xy(LsstCam().getCamera())\n",
    "\n",
    "    elif instrument == 'wfs':\n",
    "        sensorNames, xCenter, yCenter = get_wfs_sensor_names_xy()\n",
    "\n",
    "     # Declare the SkySim()\n",
    "    skySim = SkySim()\n",
    "    \n",
    "    # Set the observation information\n",
    "    skySim.setObservationMetaData(raField, decField, rotskypos)\n",
    "        \n",
    "    xPx = xCenter\n",
    "    yPx = yCenter\n",
    "    starMag = 15\n",
    "\n",
    "\n",
    "    starId = 0 \n",
    "    # we have only one x,y point per sensor \n",
    "    for i in range(len(sensorNames)):\n",
    "        skySim.addStarByChipPos(sensorNames[i], starId, xCenter[i],\n",
    "                                yCenter[i], starMag)\n",
    "        starId += 1 \n",
    "\n",
    "    raList , decList = skySim.getRaDecInDeg()\n",
    "    mags = skySim.getStarMag()\n",
    "    coords = Table(data=[raList, decList, xCenter, yCenter, mags], \n",
    "                 names=['ra','dec', 'xPx', 'yPx','r' ]  )\n",
    "\n",
    "    # add a column with object id \n",
    "    coords['objid'] = np.arange(len(coords_com))\n",
    "\n",
    "    panda_cat = coords.to_pandas()\n",
    "    \n",
    "    return panda_cat\n",
    "\n",
    "\n",
    "\n",
    "obshistid = func.calculate_obshistid(instrument, field, position, cmd_file, run)\n",
    "\n",
    "gt_dict = func.get_field_ra_dec()\n",
    "raField = gt_dict[field][\"ra\"] \n",
    "decField = gt_dict[field][\"dec\"]\n",
    "\n",
    "panda_cat = get_opd_ra_dec(instrument, raField, decField)\n",
    "\n",
    "opd.write_opd_inst_file(\n",
    "    panda_cat,\n",
    "    raField,\n",
    "    decField,\n",
    "    phosim_file=\"opd.inst\",\n",
    "    passband=\"r\",\n",
    "    out_dir=\"./\",\n",
    "    camconfig=3,\n",
    "    exposure=15,\n",
    "    obsid=obshistid,\n",
    "    position=\"focal\",\n",
    "    mjd=59580,\n",
    "    magcol=None)\n",
    "\n"
   ]
  },
  {
   "cell_type": "code",
   "execution_count": 77,
   "id": "338e5907",
   "metadata": {},
   "outputs": [],
   "source": [
    "rotskypos=0\n",
    "rottelpos=0\n",
    "ra = 0\n",
    "dec = 0 \n",
    "\n",
    "position='focal'\n",
    "camconfig=3,\n",
    "opsim_filter=3,\n",
    "mjd=59580.0,\n",
    "exposure=0.25,\n",
    "obsid=9006002,\n",
    "position='focal',\n",
    "seeing=0.69\n",
    "\n",
    "content = [f\"Opsim_obshistid {obsid}\",\n",
    "       f\"Opsim_filter {opsim_filter}\\n\",\n",
    "       f\"mjd {mjd}\\n\",\n",
    "       \"SIM_SEED 1000\\n\"\n",
    "       f\"rightascension {ra}\\n\",\n",
    "       f\"declination {dec}\\n\",\n",
    "       f\"rotskypos {rotskypos}\\n\",\n",
    "       f\"rottelpos {rottelpos}\\n\",\n",
    "       \"SIM_VISTIME {exposure}\\n\",\n",
    "       \"SIM_NSNAP 1\\n\",\n",
    "       \"moonphase 0.0\\n\",\n",
    "       \"moonalt -90\\n\",\n",
    "       \"sunalt -90\\n\",]\n",
    "if position == 'extra':\n",
    "    content.append(\"move 10 -1500.0000\\n\")\n",
    "elif position == 'intra':\n",
    "    content.append(\"move 10  1500.0000\\n\")\n",
    "\n",
    "content.append(f\"camconfig {camconfig}\\n\")"
   ]
  },
  {
   "cell_type": "code",
   "execution_count": 78,
   "id": "da37933e",
   "metadata": {},
   "outputs": [
    {
     "data": {
      "text/plain": [
       "'Opsim_obshistid (9006002,)'"
      ]
     },
     "execution_count": 78,
     "metadata": {},
     "output_type": "execute_result"
    }
   ],
   "source": []
  },
  {
   "cell_type": "code",
   "execution_count": 81,
   "id": "fda6a743",
   "metadata": {},
   "outputs": [
    {
     "data": {
      "text/plain": [
       "<module 'run_ps1_opd' from '/home/scichris/notebooks/run_ps1_opd.py'>"
      ]
     },
     "execution_count": 81,
     "metadata": {},
     "output_type": "execute_result"
    }
   ],
   "source": [
    "import run_ps1_opd as opd \n",
    "imp.reload(opd)"
   ]
  },
  {
   "cell_type": "code",
   "execution_count": 90,
   "id": "5a1937a6",
   "metadata": {},
   "outputs": [
    {
     "name": "stdout",
     "output_type": "stream",
     "text": [
      "Saved as  ./opd.inst\n"
     ]
    }
   ],
   "source": []
  },
  {
   "cell_type": "code",
   "execution_count": 91,
   "id": "bfe607ed",
   "metadata": {},
   "outputs": [
    {
     "data": {
      "text/plain": [
       "'9000101'"
      ]
     },
     "execution_count": 91,
     "metadata": {},
     "output_type": "execute_result"
    }
   ],
   "source": [
    "obshistid"
   ]
  },
  {
   "cell_type": "code",
   "execution_count": 101,
   "id": "ed189c5b",
   "metadata": {},
   "outputs": [],
   "source": [
    "gt_dict = func.get_field_ra_dec()\n",
    "raField = gt_dict[field][\"ra\"] \n",
    "decField = gt_dict[field][\"dec\"]"
   ]
  },
  {
   "cell_type": "code",
   "execution_count": 15,
   "id": "da2eb175",
   "metadata": {},
   "outputs": [],
   "source": []
  },
  {
   "cell_type": "code",
   "execution_count": 16,
   "id": "5c60446d",
   "metadata": {},
   "outputs": [
    {
     "name": "stderr",
     "output_type": "stream",
     "text": [
      "/project/scichris/aos/ts_wep/python/lsst/ts/wep/bsc/WcsSol.py:45: FutureWarning: Gen2 Butler has been deprecated (LsstCamMapper). It will be removed sometime after v23.0 but no earlier than the end of 2021.\n",
      "  self._camera = obs_lsst.lsstCamMapper.LsstCamMapper().camera\n"
     ]
    }
   ],
   "source": []
  },
  {
   "cell_type": "code",
   "execution_count": 18,
   "id": "087b9044",
   "metadata": {},
   "outputs": [],
   "source": []
  },
  {
   "cell_type": "code",
   "execution_count": 19,
   "id": "1eabff29",
   "metadata": {},
   "outputs": [
    {
     "data": {
      "text/html": [
       "<div>\n",
       "<style scoped>\n",
       "    .dataframe tbody tr th:only-of-type {\n",
       "        vertical-align: middle;\n",
       "    }\n",
       "\n",
       "    .dataframe tbody tr th {\n",
       "        vertical-align: top;\n",
       "    }\n",
       "\n",
       "    .dataframe thead th {\n",
       "        text-align: right;\n",
       "    }\n",
       "</style>\n",
       "<table border=\"1\" class=\"dataframe\">\n",
       "  <thead>\n",
       "    <tr style=\"text-align: right;\">\n",
       "      <th></th>\n",
       "      <th>id</th>\n",
       "      <th>ra</th>\n",
       "      <th>dec</th>\n",
       "      <th>g</th>\n",
       "    </tr>\n",
       "  </thead>\n",
       "  <tbody>\n",
       "    <tr>\n",
       "      <th>0</th>\n",
       "      <td>1.0</td>\n",
       "      <td>-0.2347</td>\n",
       "      <td>0.0000</td>\n",
       "      <td>500.0</td>\n",
       "    </tr>\n",
       "    <tr>\n",
       "      <th>1</th>\n",
       "      <td>2.0</td>\n",
       "      <td>-0.2347</td>\n",
       "      <td>0.2347</td>\n",
       "      <td>500.0</td>\n",
       "    </tr>\n",
       "    <tr>\n",
       "      <th>2</th>\n",
       "      <td>3.0</td>\n",
       "      <td>0.0000</td>\n",
       "      <td>-0.2347</td>\n",
       "      <td>500.0</td>\n",
       "    </tr>\n",
       "    <tr>\n",
       "      <th>3</th>\n",
       "      <td>4.0</td>\n",
       "      <td>0.0000</td>\n",
       "      <td>0.0000</td>\n",
       "      <td>500.0</td>\n",
       "    </tr>\n",
       "    <tr>\n",
       "      <th>4</th>\n",
       "      <td>5.0</td>\n",
       "      <td>0.0000</td>\n",
       "      <td>0.2347</td>\n",
       "      <td>500.0</td>\n",
       "    </tr>\n",
       "    <tr>\n",
       "      <th>5</th>\n",
       "      <td>6.0</td>\n",
       "      <td>0.2347</td>\n",
       "      <td>-0.2347</td>\n",
       "      <td>500.0</td>\n",
       "    </tr>\n",
       "    <tr>\n",
       "      <th>6</th>\n",
       "      <td>7.0</td>\n",
       "      <td>0.2347</td>\n",
       "      <td>0.0000</td>\n",
       "      <td>500.0</td>\n",
       "    </tr>\n",
       "    <tr>\n",
       "      <th>7</th>\n",
       "      <td>8.0</td>\n",
       "      <td>0.2347</td>\n",
       "      <td>0.2347</td>\n",
       "      <td>500.0</td>\n",
       "    </tr>\n",
       "  </tbody>\n",
       "</table>\n",
       "</div>"
      ],
      "text/plain": [
       "    id      ra     dec      g\n",
       "0  1.0 -0.2347  0.0000  500.0\n",
       "1  2.0 -0.2347  0.2347  500.0\n",
       "2  3.0  0.0000 -0.2347  500.0\n",
       "3  4.0  0.0000  0.0000  500.0\n",
       "4  5.0  0.0000  0.2347  500.0\n",
       "5  6.0  0.2347 -0.2347  500.0\n",
       "6  7.0  0.2347  0.0000  500.0\n",
       "7  8.0  0.2347  0.2347  500.0"
      ]
     },
     "execution_count": 19,
     "metadata": {},
     "output_type": "execute_result"
    }
   ],
   "source": [
    "%matplotlib inline cat_df"
   ]
  },
  {
   "cell_type": "markdown",
   "id": "779a221e",
   "metadata": {},
   "source": [
    "I generate OPDs for all instruments, fields, positions, bkgnds, perts with :\n",
    "    \n",
    "    \n",
    "    python run_ps1_opd.py --instruments comCam lsstCam wfs --fields high med low Baade --positions focal intra extra "
   ]
  },
  {
   "cell_type": "markdown",
   "id": "00103cde",
   "metadata": {},
   "source": [
    "It only takes a few seconds to run it for comCam, so it doesn't make sense to submit all as separate slurm jobs.\n",
    "\n",
    "Try using condor :"
   ]
  },
  {
   "cell_type": "markdown",
   "id": "9ba8d35a",
   "metadata": {},
   "source": [
    "First make the executable  `runPhosim.sh`, inside which we have eg. \n",
    "\n",
    "    #!/bin/sh\n",
    "    python  /project/scichris/aos/AOS/run_ps1_phosim.py --opd --dry_run\n",
    "\n",
    "\n",
    "Ensure that it can work with `./runPhosim.sh` \n",
    "\n",
    "\n",
    "And we call this executable script from inside the job.submit:\n",
    "    \n",
    "    \n",
    "    executable = runPhosim.sh\n",
    "    log = job.log.$(ClusterId).$(ProcId)\n",
    "    output = job.out.$(ClusterId).$(ProcId)\n",
    "    error = job.err.$(ClusterId).$(ProcId)\n",
    "    request_cpus = 9\n",
    "    request_memory = 3G\n",
    "    queue 1\n",
    "\n",
    "We submit this job with \n",
    "\n",
    "\n",
    "    source \"/software/lsstsw/stack/loadLSST.bash\"    # need that for python \n",
    "    setup lsst_distrib \n",
    "\n",
    "    source /project/scichris/aos/setup_aos_current.sh\n",
    "    setup -k -r /project/scichris/aos/phosim_utils/\n",
    "    \n",
    "    condor_submit  job.phosim.submit\n",
    "\n",
    "\n",
    "    \n",
    "We test how it's doing with  `condor_status` \n",
    "\n",
    "\n",
    "\n",
    "    scontrol show node  \n",
    "    \n",
    "shows there are 24 CPUs per node, and \n",
    "\n",
    "\n",
    "\n",
    "( and just like for `runIsr.sh`, made sure its executable...). \n",
    "\n"
   ]
  },
  {
   "cell_type": "markdown",
   "id": "72dbfd44",
   "metadata": {},
   "source": [
    "I edit `DM-28360/runPhosim.sh` to generate OPD for all comCam  for qckBkgnd 00 pert \n",
    "    \n",
    "    \n",
    "    python  /project/scichris/aos/AOS/run_ps1_phosim.py --opd  --instruments comCam --fields high med low Baade --positions focal extra intra --phosim_p 24  --cmd_file qckBkgndPert00_NCSA.cmd   --dry_run\n",
    "    \n",
    "    \n",
    "I also edit `DM-28360/job.phosim.submit` to ask for 120 CPUs and 1000G memory ...\n",
    "\n",
    "\n",
    "    condor_q \n",
    "    \n",
    "    \n",
    "shows that the job got submitted and is idle \n",
    "\n",
    "\n",
    "    \n",
    "-- Schedd: lsst-devl02.ncsa.illinois.edu : <141.142.181.231:9618?... @ 06/04/21 19:49:15\n",
    " ID         OWNER            SUBMITTED     RUN_TIME ST PRI SIZE CMD\n",
    "1037924.0   scichris        6/4  19:48   0+00:00:00 I  0    0.0 runPhosim.sh\n",
    "\n",
    "Total for query: 1 jobs; 0 completed, 0 removed, 1 idle, 0 running, 0 held, 0 suspended \n",
    "Total for all users: 1 jobs; 0 completed, 0 removed, 1 idle, 0 running, 0 held, 0 suspended\n",
    "\n",
    "\n",
    "\n",
    "But how can I find details of that job ?\n",
    "\n",
    "\n",
    "   condor_q -l 1037924.0 \n",
    "   \n",
    "shows that it's held because of lack of resources \n",
    "\n",
    "\n",
    "I remove that job and try again \n",
    "\n",
    "\n",
    "    condor_rm 1037924\n",
    "   \n",
    "\n",
    "    nano job.phosim.submit   # changing  the requested CPUs to 24, and memory to 120G \n",
    "    nano runPhosim.sh  # changing phosim_p argument to 24 , to match the number of cores ... \n",
    "    \n",
    "    condor_submit  job.phosim.submit\n",
    "    "
   ]
  },
  {
   "cell_type": "markdown",
   "id": "3559c127",
   "metadata": {},
   "source": [
    "    python  /project/scichris/aos/AOS/run_ps1_phosim.py --opd  --instruments comCam --fields high med low Baade --positions focal extra intra --phosim_p 24  --cmd_file qckBkgndPert05_NCSA.cmd\n",
    "    \n",
    "    \n",
    "    python  /project/scichris/aos/AOS/run_ps1_phosim.py --opd  --instruments comCam --fields high med low Baade --positions focal extra intra --phosim_p 24  --cmd_file noBkgndPert05_NCSA.cmd\n",
    "    "
   ]
  },
  {
   "cell_type": "markdown",
   "id": "1ff2a65f",
   "metadata": {},
   "source": [
    "All comCam ✅  and lsstCam ✅ .  Each has OPD evaluated at the center of each CCD. \n",
    "\n"
   ]
  },
  {
   "cell_type": "markdown",
   "id": "41c5c323",
   "metadata": {},
   "source": [
    "Inspect the OPD files to see if there is any difference at all wrt their values eg. for different perturbations:\n",
    "    \n",
    "    \n",
    "      1:  comCam  noBkgndPert00  \n",
    "      2:  comCam noBkgndPert05"
   ]
  },
  {
   "cell_type": "code",
   "execution_count": 1,
   "id": "d76bdf9f",
   "metadata": {},
   "outputs": [],
   "source": [
    "import run_ps1_functions as ps1"
   ]
  },
  {
   "cell_type": "code",
   "execution_count": 8,
   "id": "233554b5",
   "metadata": {},
   "outputs": [
    {
     "data": {
      "text/plain": [
       "['centroid_comcam_e_9000101_f2_opd_E000.txt',\n",
       " 'opdcatalog_9000101.pars',\n",
       " 'opd_9000101_2.fits.gz',\n",
       " 'opd_9000101_3.fits.gz',\n",
       " 'opd_9000101_0.fits.gz',\n",
       " 'opd_9000101_4.fits.gz',\n",
       " 'opd_9000101_7.fits.gz',\n",
       " 'opd_9000101_5.fits.gz',\n",
       " 'opd_9000101_1.fits.gz',\n",
       " 'comcam_e_9000101_f2_opd_E000.fits.gz',\n",
       " 'opd_9000101_8.fits.gz',\n",
       " 'opd_9000101_6.fits.gz']"
      ]
     },
     "execution_count": 8,
     "metadata": {},
     "output_type": "execute_result"
    }
   ],
   "source": [
    "import os\n",
    "obshistid =  ps1.calculate_obshistid('comCam','high', 'extra','noBkgndPert00.cmd', 1)\n",
    "fpath = f'/project/scichris/aos/AOS/DM-28360/comCam/high/extra/{obshistid}/opd'\n",
    "os.listdir(fpath)"
   ]
  },
  {
   "cell_type": "code",
   "execution_count": 10,
   "id": "6fca9479",
   "metadata": {},
   "outputs": [],
   "source": [
    "from astropy.io import fits\n",
    "hdul = fits.open(os.path.join(fpath,'comcam_e_9000101_f2_opd_E000.fits.gz'))"
   ]
  },
  {
   "cell_type": "code",
   "execution_count": 20,
   "id": "5c59e976",
   "metadata": {},
   "outputs": [
    {
     "data": {
      "text/plain": [
       "<matplotlib.image.AxesImage at 0x7fb5d0ac2d60>"
      ]
     },
     "execution_count": 20,
     "metadata": {},
     "output_type": "execute_result"
    },
    {
     "data": {
      "image/png": "[encoded data removed]",
      "text/plain": [
       "<Figure size 432x288 with 1 Axes>"
      ]
     },
     "metadata": {
      "needs_background": "light"
     },
     "output_type": "display_data"
    }
   ],
   "source": [
    "import matplotlib.pyplot as plt\n",
    "\n",
    "from matplotlib import rcParams \n",
    "rcParams['ytick.labelsize'] = 15\n",
    "rcParams['xtick.labelsize'] = 15\n",
    "rcParams['axes.labelsize'] = 20\n",
    "rcParams['axes.linewidth'] = 2\n",
    "rcParams['font.size'] = 15\n",
    "rcParams['axes.titlesize'] = 18\n",
    "\n",
    "plt.imshow(hdul[0].data)"
   ]
  },
  {
   "cell_type": "code",
   "execution_count": 22,
   "id": "7ec81b8e",
   "metadata": {},
   "outputs": [
    {
     "data": {
      "text/plain": [
       "(array([1.6287999e+07, 0.0000000e+00, 0.0000000e+00, 0.0000000e+00,\n",
       "        0.0000000e+00, 0.0000000e+00, 0.0000000e+00, 0.0000000e+00,\n",
       "        0.0000000e+00, 1.0000000e+00]),\n",
       " array([0. , 0.9, 1.8, 2.7, 3.6, 4.5, 5.4, 6.3, 7.2, 8.1, 9. ],\n",
       "       dtype=float32),\n",
       " <BarContainer object of 10 artists>)"
      ]
     },
     "execution_count": 22,
     "metadata": {},
     "output_type": "execute_result"
    },
    {
     "data": {
      "image/png": "[encoded data removed]",
      "text/plain": [
       "<Figure size 432x288 with 1 Axes>"
      ]
     },
     "metadata": {
      "needs_background": "light"
     },
     "output_type": "display_data"
    }
   ],
   "source": [
    "import numpy as np\n",
    "plt.hist(np.ravel(hdul[0].data))"
   ]
  },
  {
   "cell_type": "code",
   "execution_count": 23,
   "id": "2dff472c",
   "metadata": {},
   "outputs": [
    {
     "data": {
      "text/plain": [
       "(array([2047]), array([2001]))"
      ]
     },
     "execution_count": 23,
     "metadata": {},
     "output_type": "execute_result"
    }
   ],
   "source": [
    "np.where(hdul[0].data > 0)"
   ]
  },
  {
   "cell_type": "markdown",
   "id": "ad7fcf25",
   "metadata": {},
   "source": [
    "So this file is mostly zeros... Check out the other files :\" \""
   ]
  },
  {
   "cell_type": "code",
   "execution_count": 38,
   "id": "d6a5f906",
   "metadata": {},
   "outputs": [
    {
     "data": {
      "text/plain": [
       "(array([], dtype=int64), array([], dtype=int64))"
      ]
     },
     "execution_count": 38,
     "metadata": {},
     "output_type": "execute_result"
    },
    {
     "data": {
      "image/png": "[encoded data removed]",
      "text/plain": [
       "<Figure size 432x288 with 1 Axes>"
      ]
     },
     "metadata": {
      "needs_background": "light"
     },
     "output_type": "display_data"
    }
   ],
   "source": [
    "hdul = fits.open(os.path.join(fpath,\"opd_9000101_8.fits.gz\"))\n",
    "plt.imshow(hdul[0].data)\n",
    "np.where(hdul[0].data>0)"
   ]
  },
  {
   "cell_type": "markdown",
   "id": "9927eec6",
   "metadata": {},
   "source": [
    "Check whether it's the same for OPD files for the actual imgCloseLoop : "
   ]
  },
  {
   "cell_type": "code",
   "execution_count": 53,
   "id": "35aee52f",
   "metadata": {},
   "outputs": [
    {
     "data": {
      "text/plain": [
       "(array([ 61,  61,  61, ..., 215, 215, 215]),\n",
       " array([ 80,  81,  82, ..., 217, 218, 219]))"
      ]
     },
     "execution_count": 53,
     "metadata": {},
     "output_type": "execute_result"
    },
    {
     "data": {
      "image/png": "[encoded data removed]",
      "text/plain": [
       "<Figure size 432x288 with 1 Axes>"
      ]
     },
     "metadata": {
      "needs_background": "light"
     },
     "output_type": "display_data"
    }
   ],
   "source": [
    "iterNum = 0\n",
    "fpath = f'/project/scichris/aos/imgCloseLoop/iter{iterNum}/img/opd_90060{iterNum}0_0.fits.gz'\n",
    "hdul = fits.open(fpath)\n",
    "plt.imshow(hdul[0].data)\n",
    "np.where(hdul[0].data>0)"
   ]
  },
  {
   "cell_type": "markdown",
   "id": "8aafed22",
   "metadata": {},
   "source": [
    "So why am I getting only zeros?  It should be an image... What took so long to calculate if its all empty? ?  "
   ]
  },
  {
   "cell_type": "markdown",
   "id": "e99531b7",
   "metadata": {},
   "source": [
    "Check in detail the command used by ts_phosim to generate OPD: "
   ]
  },
  {
   "cell_type": "markdown",
   "id": "1751bbca",
   "metadata": {},
   "source": [
    "one difference is that `imgCloseLoop` has for `opd.cmd` : \n",
    "    \n",
    "    backgroundmode 0\n",
    "    raydensity 0.0\n",
    "    perturbationmode 1\n",
    "    \n",
    "while for `star.cmd` it has \n",
    "\n",
    "    backgroundmode 0\n",
    "    raydensity 0\n",
    "    perturbationmode 1\n",
    "    trackingmode 0\n",
    "    cleartracking\n",
    "    clearclouds\n",
    "    lascatprob 0.0\n",
    "    contaminationmode 0\n",
    "    diffractionmode 1\n",
    "    straylight 0\n",
    "    detectormode 0\n",
    "    centroidfile 1\n",
    "\n",
    "    \n",
    "Another difference is that the inst file differs not just by location, but by lack of \"move 10 1500\", and shorter beginning of the cmd file (lack of `mjd` , `SIM_SEED`, `Opsim_rawseeing -1` ) \n",
    "\n",
    "`imgCloseLoop` has for `opd.inst`:\n",
    "\n",
    "    Opsim_obshistid 9006000 \n",
    "    Opsim_filter 1 \n",
    "    rightascension 0.030000 \n",
    "    declination -0.020000 \n",
    "    rotskypos 90.000000 \n",
    "    rottelpos 0\n",
    "    SIM_VISTIME 15.0\n",
    "    SIM_NSNAP 1\n",
    "    move 5  0.0000 \n",
    "    move 6  0.0000 \n",
    "    move 7  0.0000 \n",
    "    move 8  0.0000 \n",
    "    move 9  0.0000 \n",
    "    move 10  0.0000 \n",
    "\n",
    "whereas for `starExtra.inst` : \n",
    "\n",
    "    Opsim_obshistid 9006001 \n",
    "    Opsim_filter 1 \n",
    "    mjd 59580.0000000000 \n",
    "    SIM_SEED 1000 \n",
    "    rightascension 0.030000 \n",
    "    declination -0.020000 \n",
    "    rotskypos 90.000000 \n",
    "    rottelpos 0\n",
    "    SIM_VISTIME 15.0\n",
    "    SIM_NSNAP 1\n",
    "    Opsim_rawseeing -1\n",
    "    move 5  0.0000 \n",
    "    move 6  0.0000 \n",
    "    move 7  0.0000 \n",
    "    move 8  0.0000 \n",
    "    move 9  0.0000 \n",
    "    move 10 -1500.0000 \n",
    "    \n",
    "So perhaps I need to  make slightly different CMD files removing those other lines (??) \n",
    "\n",
    "The command used is the same  - it just uses https://github.com/lsst-ts/ts_phosim/blob/017c858758628ab8d7e2f2321fb65a45879fd841/python/lsst/ts/phosim/telescope/PhosimCommu.py#L585 ...\n",
    "\n",
    "\n",
    "Check if making these adjustments makes any difference ...\n",
    "\n",
    "\n",
    "Find the command used to run phosim:\n",
    "\n",
    "     python /project/scichris/aos/AOS/run_ps1_phosim.py --instruments comCam --fields high --cmd_file noBkgndPert00_NCSA.cmd --opd --dry_run\n",
    "     \n",
    "shows that we'd use:\n",
    "\n",
    "    python /project/scichris/aos/phosim_syseng4/phosim.py /project/scichris/aos/AOS/DM-28360/opd_comCam_high_focal_9000001.inst -i comcam -e 1     -c /project/scichris/aos/AOS/DM-28360/noBkgndPert00_NCSA.cmd -w /project/scichris/aos/AOS/DM-28360/comCam/high/focal/9000001/opd -p 25  -o /project/scichris/aos/AOS/DM-28360/comCam/high/focal/9000001/opd > /project/scichris/aos/AOS/DM-28360/comCam/high/focal/9000001/opdPhoSim.log 2>&1\n",
    "\n",
    "\n",
    "\n",
    "\n"
   ]
  },
  {
   "cell_type": "markdown",
   "id": "9a599ed2",
   "metadata": {},
   "source": [
    "0) Run the original inst file and cmd file \n",
    "\n",
    "    python /project/scichris/aos/phosim_syseng4/phosim.py /project/scichris/aos/AOS/DM-28360/opd_comCam_high_focal_9000001.inst -i comcam -e 1   -c /project/scichris/aos/AOS/DM-28360/noBkgndPert00_NCSA.cmd -w /project/scichris/aos/AOS/DM-28360/test_OPD/0_original/ -p 25  -o /project/scichris/aos/AOS/DM-28360/test_OPD/0_original/> /project/scichris/aos/AOS/DM-28360/test_OPD/0_original/opdPhoSim.log 2>&1\n",
    "\n",
    "1) Try changing the  inst_file (`opd_comCam_high_focal_9000001_1.inst` - remove `mjd`, `SIM_SEED`, `Opsim_rawseeing`), but use the same CMD file \n",
    "\n",
    "    python /project/scichris/aos/phosim_syseng4/phosim.py /project/scichris/aos/AOS/DM-28360/opd_comCam_high_focal_9000001_1.inst -i comcam -e 1   -c /project/scichris/aos/AOS/DM-28360/noBkgndPert00_NCSA.cmd -w /project/scichris/aos/AOS/DM-28360/test_OPD/1_/ -p 25  -o /project/scichris/aos/AOS/DM-28360/test_OPD/1_/> /project/scichris/aos/AOS/DM-28360/test_OPD/1_/opdPhoSim.log 2>&1\n",
    "\n",
    "2) change both inst_file to (`opd_comCam_high_focal_9000001_1.inst` - - remove `mjd`, `SIM_SEED`, `Opsim_rawseeing`) and CMD file (to `noBkgndPert00_NCSA_1.cmd` - remove `trackingmode 0 , cleartracking clearclouds   lascatprob 0.0 contaminationmode 0 diffractionmode 1straylight 0detectormode 0 centroidfile 1`). \n",
    "\n",
    "backgroundmode 0\n",
    "raydensity 0\n",
    "perturbationmode 1\n",
    "izernike 0 0 -4.0442156930541306e-05 \n",
    "\n",
    "    python /project/scichris/aos/phosim_syseng4/phosim.py /project/scichris/aos/AOS/DM-28360/opd_comCam_high_focal_9000001_1.inst -i comcam -e 1   -c /project/scichris/aos/AOS/DM-28360/noBkgndPert00_NCSA_1.cmd -w /project/scichris/aos/AOS/DM-28360/test_OPD/2_/ -p 25  -o /project/scichris/aos/AOS/DM-28360/test_OPD/2_/> /project/scichris/aos/AOS/DM-28360/test_OPD/2_/opdPhoSim.log 2>&1\n",
    "    \n",
    "    \n",
    "3) In inst file, remove also `camconfig 3` - `opd_comCam_high_focal_9000001_2.inst` , the cmd has really identical structure  to the one from `imgCloseLoop/iter0/pert...`\n",
    "\n",
    "Opsim_obshistid 9000001\n",
    "Opsim_filter 2\n",
    "rightascension 197.46441300863182\n",
    "declination 24.33554243027582\n",
    "rotskypos 0.0\n",
    "rottelpos 0\n",
    "SIM_VISTIME 15\n",
    "SIM_NSNAP 1\n",
    "moonphase 0.0\n",
    "moonalt -90\n",
    "sunalt -90\n",
    "opd 0 197.724471547361 24.10249037486426 500 \n",
    "\n",
    "\n",
    "    python /project/scichris/aos/phosim_syseng4/phosim.py /project/scichris/aos/AOS/DM-28360/opd_comCam_high_focal_9000001_2.inst -i comcam -e 1   -c /project/scichris/aos/AOS/DM-28360/noBkgndPert00_NCSA_1.cmd -w /project/scichris/aos/AOS/DM-28360/test_OPD/3_/ -p 25  -o /project/scichris/aos/AOS/DM-28360/test_OPD/3_/> /project/scichris/aos/AOS/DM-28360/test_OPD/3_/opdPhoSim.log 2>&1\n",
    "    \n",
    "    \n",
    "4) Use the imgCloseLoop inst and cmd  from /project/scichris/aos/imgCloseLoop/iter0/pert : \n",
    "\n",
    "    python /project/scichris/aos/phosim_syseng4/phosim.py /project/scichris/aos/imgCloseLoop/iter0/pert/opd.inst -i comcam -e 1 -c /project/scichris/aos/imgCloseLoop/iter0/pert/opd.cmd -w /project/scichris/aos/AOS/DM-28360/test_OPD/4_/  -p 25  -o /project/scichris/aos/AOS/DM-28360/test_OPD/3_/ > /project/scichris/aos/AOS/DM-28360/test_OPD/4_/opdPhoSim.log 2>&1\n",
    "\n",
    "\n",
    "5) That produced nothing (!) - perhaps use LSSTCam (?) \n",
    "\n",
    "    python /project/scichris/aos/phosim_syseng4/phosim.py /project/scichris/aos/imgCloseLoop/iter0/pert/opd.inst -i lsst -e 1 -c /project/scichris/aos/imgCloseLoop/iter0/pert/opd.cmd -w /project/scichris/aos/AOS/DM-28360/test_OPD/5_/  -p 25  -o /project/scichris/aos/AOS/DM-28360/test_OPD/5_/ > /project/scichris/aos/AOS/DM-28360/test_OPD/5_/opdPhoSim.log 2>&1\n",
    "\n",
    "\n",
    "6) Try whether `-i lsst ` also allows me to use the original inst and cmd file (from test `1` above):\n",
    "\n",
    "    python /project/scichris/aos/phosim_syseng4/phosim.py /project/scichris/aos/AOS/DM-28360/opd_comCam_high_focal_9000001.inst -i lsst -e 1   -c /project/scichris/aos/AOS/DM-28360/noBkgndPert00_NCSA.cmd -w /project/scichris/aos/AOS/DM-28360/test_OPD/6_/ -p 25  -o /project/scichris/aos/AOS/DM-28360/test_OPD/6_/> /project/scichris/aos/AOS/DM-28360/test_OPD/6_/opdPhoSim.log 2>&1\n",
    "    \n",
    "    ( no it doesn't ..)\n",
    "    \n",
    "7) Try whether using changed cmd and inst files with `-i lsst` works (from test `3` above) : \n",
    "\n",
    "\n",
    "    python /project/scichris/aos/phosim_syseng4/phosim.py /project/scichris/aos/AOS/DM-28360/opd_comCam_high_focal_9000001_2.inst -i lsst -e 1   -c /project/scichris/aos/AOS/DM-28360/noBkgndPert00_NCSA_1.cmd -w /project/scichris/aos/AOS/DM-28360/test_OPD/7_/ -p 25  -o /project/scichris/aos/AOS/DM-28360/test_OPD/7_/> /project/scichris/aos/AOS/DM-28360/test_OPD/7_/opdPhoSim.log 2>&1\n",
    "    \n",
    "    (but it still had moonalt, sunalt...) - nothing ./.// \n",
    "    \n",
    "8) Try  removing  from inst file also the moonalt, sunalt options , use `-i lsst` \n",
    "\n",
    "    Opsim_obshistid 9000001\n",
    "    Opsim_filter 2\n",
    "    rightascension 197.46441300863182\n",
    "    declination 24.33554243027582\n",
    "    rotskypos 0.0\n",
    "    rottelpos 0\n",
    "    SIM_VISTIME 15\n",
    "    SIM_NSNAP 1\n",
    "    opd 0 197.724471547361 24.10249037486426 500 \n",
    "\n",
    "    python /project/scichris/aos/phosim_syseng4/phosim.py /project/scichris/aos/AOS/DM-28360/opd_comCam_high_focal_9000001_3.inst -i lsst -e 1   -c /project/scichris/aos/AOS/DM-28360/noBkgndPert00_NCSA_1.cmd -w /project/scichris/aos/AOS/DM-28360/test_OPD/8_/ -p 25  -o /project/scichris/aos/AOS/DM-28360/test_OPD/8_/> /project/scichris/aos/AOS/DM-28360/test_OPD/8_/opdPhoSim.log 2>&1\n",
    "\n",
    "-->? still nothing ≥... \n",
    "\n",
    "\n",
    "9) Use same inst, cmd file as in 8) , but do `-i comcam `:\n",
    "\n",
    "    python /project/scichris/aos/phosim_syseng4/phosim.py /project/scichris/aos/AOS/DM-28360/opd_comCam_high_focal_9000001_3.inst -i comcam -e 1   -c /project/scichris/aos/AOS/DM-28360/noBkgndPert00_NCSA_1.cmd -w /project/scichris/aos/AOS/DM-28360/test_OPD/9_/ -p 25  -o /project/scichris/aos/AOS/DM-28360/test_OPD/9_/> /project/scichris/aos/AOS/DM-28360/test_OPD/9_/opdPhoSim.log 2>&1\n",
    "    \n",
    "10) Bizarre idea, but perhaps change `500` to `500.0` ? , use `-i comcam `  : \n",
    "\n",
    "    python /project/scichris/aos/phosim_syseng4/phosim.py /project/scichris/aos/AOS/DM-28360/opd_comCam_high_focal_9000001_4.inst -i comcam -e 1   -c /project/scichris/aos/AOS/DM-28360/noBkgndPert00_NCSA_1.cmd -w /project/scichris/aos/AOS/DM-28360/test_OPD/10_/ -p 25  -o /project/scichris/aos/AOS/DM-28360/test_OPD/10_/> /project/scichris/aos/AOS/DM-28360/test_OPD/10_/opdPhoSim.log 2>&1\n",
    "\n",
    "11) Try the same, but with -i lsst: \n",
    "\n",
    "    python /project/scichris/aos/phosim_syseng4/phosim.py /project/scichris/aos/AOS/DM-28360/opd_comCam_high_focal_9000001_4.inst -i lsst -e 1   -c /project/scichris/aos/AOS/DM-28360/noBkgndPert00_NCSA_1.cmd -w /project/scichris/aos/AOS/DM-28360/test_OPD/11_/ -p 25  -o /project/scichris/aos/AOS/DM-28360/test_OPD/11_/> /project/scichris/aos/AOS/DM-28360/test_OPD/11_/opdPhoSim.log 2>&1\n",
    "    \n",
    "    \n",
    "12) Try the same cmd file, with -i comcam, and the x,y field positions from the ts_phosim (field position in degrees rather than sky positions) - changing eg. \n",
    "\n",
    "    opd 2 197.21019703678843 24.102500149182365 500.0 \n",
    "\n",
    "to \n",
    "  \n",
    "    opd  2  -0.234700    0.234700 500.0 \n",
    "    \n",
    "    python /project/scichris/aos/phosim_syseng4/phosim.py /project/scichris/aos/AOS/DM-28360/opd_comCam_high_focal_9000001_5.inst -i comcam -e 1   -c /project/scichris/aos/AOS/DM-28360/noBkgndPert00_NCSA_1.cmd -w /project/scichris/aos/AOS/DM-28360/test_OPD/12_/ -p 25  -o /project/scichris/aos/AOS/DM-28360/test_OPD/12_/> /project/scichris/aos/AOS/DM-28360/test_OPD/12_/opdPhoSim.log 2>&1\n",
    "\n",
    "13) See if the original cmd file and inst file would work (with all the extra commands intact), as long as I change the coordinates from skyXY to fieldXY:\n",
    " \n",
    "     python /project/scichris/aos/phosim_syseng4/phosim.py /project/scichris/aos/AOS/DM-28360/opd_comCam_high_focal_9000001_6.inst -i comcam -e 1   -c /project/scichris/aos/AOS/DM-28360/noBkgndPert00_NCSA.cmd -w /project/scichris/aos/AOS/DM-28360/test_OPD/13_/ -p 25  -o /project/scichris/aos/AOS/DM-28360/test_OPD/13_/> /project/scichris/aos/AOS/DM-28360/test_OPD/13_/opdPhoSim.log 2>&1\n"
   ]
  },
  {
   "cell_type": "code",
   "execution_count": null,
   "id": "423c6445",
   "metadata": {},
   "outputs": [],
   "source": []
  },
  {
   "cell_type": "markdown",
   "id": "d55fbaaa",
   "metadata": {},
   "source": [
    "Inspect the results:"
   ]
  },
  {
   "cell_type": "code",
   "execution_count": 4,
   "id": "f455429b",
   "metadata": {},
   "outputs": [],
   "source": [
    "from astropy.io import fits\n",
    "import os \n",
    "import matplotlib.pyplot as plt\n",
    "import numpy as np\n",
    "from matplotlib import rcParams \n",
    "rcParams['ytick.labelsize'] = 15\n",
    "rcParams['xtick.labelsize'] = 15\n",
    "rcParams['axes.labelsize'] = 20\n",
    "rcParams['axes.linewidth'] = 2\n",
    "rcParams['font.size'] = 15\n",
    "rcParams['axes.titlesize'] = 18"
   ]
  },
  {
   "cell_type": "code",
   "execution_count": 3,
   "id": "1350ff5d",
   "metadata": {},
   "outputs": [
    {
     "data": {
      "text/plain": [
       "<matplotlib.image.AxesImage at 0x7f757f0947c0>"
      ]
     },
     "execution_count": 3,
     "metadata": {},
     "output_type": "execute_result"
    },
    {
     "data": {
      "image/png": "[encoded data removed]",
      "text/plain": [
       "<Figure size 432x288 with 1 Axes>"
      ]
     },
     "metadata": {
      "needs_background": "light"
     },
     "output_type": "display_data"
    }
   ],
   "source": [
    "hdul0 = fits.open('/project/scichris/aos/AOS/DM-28360/test_OPD/0_original/opd_9000001_0.fits.gz')\n",
    "plt.imshow(hdul0[0].data)"
   ]
  },
  {
   "cell_type": "code",
   "execution_count": 10,
   "id": "4db0e4fd",
   "metadata": {},
   "outputs": [
    {
     "data": {
      "text/plain": [
       "array([], dtype=float64)"
      ]
     },
     "execution_count": 10,
     "metadata": {},
     "output_type": "execute_result"
    }
   ],
   "source": [
    "x = np.ravel(hdul0[0].data)\n",
    "x[x>0]"
   ]
  },
  {
   "cell_type": "code",
   "execution_count": 58,
   "id": "626b0f8b",
   "metadata": {},
   "outputs": [
    {
     "data": {
      "text/plain": [
       "<matplotlib.image.AxesImage at 0x7fb5d066a670>"
      ]
     },
     "execution_count": 58,
     "metadata": {},
     "output_type": "execute_result"
    },
    {
     "data": {
      "image/png": "[encoded data removed]",
      "text/plain": [
       "<Figure size 432x288 with 1 Axes>"
      ]
     },
     "metadata": {
      "needs_background": "light"
     },
     "output_type": "display_data"
    }
   ],
   "source": [
    "hdul1 = fits.open('/project/scichris/aos/AOS/DM-28360/test_OPD/1_/opd_9000001_0.fits.gz')\n",
    "plt.imshow(hdul1[0].data)"
   ]
  },
  {
   "cell_type": "code",
   "execution_count": 62,
   "id": "06317de7",
   "metadata": {},
   "outputs": [
    {
     "data": {
      "text/plain": [
       "<matplotlib.image.AxesImage at 0x7fb5d052cfa0>"
      ]
     },
     "execution_count": 62,
     "metadata": {},
     "output_type": "execute_result"
    },
    {
     "data": {
      "image/png": "[encoded data removed]",
      "text/plain": [
       "<Figure size 432x288 with 1 Axes>"
      ]
     },
     "metadata": {
      "needs_background": "light"
     },
     "output_type": "display_data"
    }
   ],
   "source": [
    "hdul2 = fits.open('/project/scichris/aos/AOS/DM-28360/test_OPD/2_/opd_9000001_2.fits.gz')\n",
    "plt.imshow(hdul2[0].data)"
   ]
  },
  {
   "cell_type": "code",
   "execution_count": 11,
   "id": "9654fd27",
   "metadata": {},
   "outputs": [
    {
     "data": {
      "text/plain": [
       "<matplotlib.image.AxesImage at 0x7fbacf87e1f0>"
      ]
     },
     "execution_count": 11,
     "metadata": {},
     "output_type": "execute_result"
    },
    {
     "data": {
      "image/png": "[encoded data removed]",
      "text/plain": [
       "<Figure size 432x288 with 1 Axes>"
      ]
     },
     "metadata": {
      "needs_background": "light"
     },
     "output_type": "display_data"
    }
   ],
   "source": [
    "hdul3 = fits.open('/project/scichris/aos/AOS/DM-28360/test_OPD/3_/opd_9000001_2.fits.gz')\n",
    "plt.imshow(hdul3[0].data)"
   ]
  },
  {
   "cell_type": "markdown",
   "id": "326cc73a",
   "metadata": {},
   "source": [
    "Try using the actual `opd.inst` and `opd.cmd` from `/project/scichris/aos/imgCloseLoop/iter0/pert/` : "
   ]
  },
  {
   "cell_type": "code",
   "execution_count": 12,
   "id": "4a48b27d",
   "metadata": {},
   "outputs": [
    {
     "ename": "FileNotFoundError",
     "evalue": "[Errno 2] No such file or directory: '/project/scichris/aos/AOS/DM-28360/test_OPD/4_/opd_9000001_2.fits.gz'",
     "output_type": "error",
     "traceback": [
      "\u001b[0;31m---------------------------------------------------------------------------\u001b[0m",
      "\u001b[0;31mFileNotFoundError\u001b[0m                         Traceback (most recent call last)",
      "\u001b[0;32m<ipython-input-12-cc4e3e80e1ea>\u001b[0m in \u001b[0;36m<module>\u001b[0;34m\u001b[0m\n\u001b[0;32m----> 1\u001b[0;31m \u001b[0mhdul4\u001b[0m \u001b[0;34m=\u001b[0m \u001b[0mfits\u001b[0m\u001b[0;34m.\u001b[0m\u001b[0mopen\u001b[0m\u001b[0;34m(\u001b[0m\u001b[0;34m'/project/scichris/aos/AOS/DM-28360/test_OPD/4_/opd_9000001_2.fits.gz'\u001b[0m\u001b[0;34m)\u001b[0m\u001b[0;34m\u001b[0m\u001b[0;34m\u001b[0m\u001b[0m\n\u001b[0m\u001b[1;32m      2\u001b[0m \u001b[0mplt\u001b[0m\u001b[0;34m.\u001b[0m\u001b[0mimshow\u001b[0m\u001b[0;34m(\u001b[0m\u001b[0mhdul4\u001b[0m\u001b[0;34m[\u001b[0m\u001b[0;36m0\u001b[0m\u001b[0;34m]\u001b[0m\u001b[0;34m.\u001b[0m\u001b[0mdata\u001b[0m\u001b[0;34m)\u001b[0m\u001b[0;34m\u001b[0m\u001b[0;34m\u001b[0m\u001b[0m\n",
      "\u001b[0;32m/opt/lsst/software/stack/conda/miniconda3-py38_4.9.2/envs/lsst-scipipe-0.6.0/lib/python3.8/site-packages/astropy/io/fits/hdu/hdulist.py\u001b[0m in \u001b[0;36mfitsopen\u001b[0;34m(name, mode, memmap, save_backup, cache, lazy_load_hdus, **kwargs)\u001b[0m\n\u001b[1;32m    162\u001b[0m         \u001b[0;32mraise\u001b[0m \u001b[0mValueError\u001b[0m\u001b[0;34m(\u001b[0m\u001b[0;34mf'Empty filename: {name!r}'\u001b[0m\u001b[0;34m)\u001b[0m\u001b[0;34m\u001b[0m\u001b[0;34m\u001b[0m\u001b[0m\n\u001b[1;32m    163\u001b[0m \u001b[0;34m\u001b[0m\u001b[0m\n\u001b[0;32m--> 164\u001b[0;31m     return HDUList.fromfile(name, mode, memmap, save_backup, cache,\n\u001b[0m\u001b[1;32m    165\u001b[0m                             lazy_load_hdus, **kwargs)\n\u001b[1;32m    166\u001b[0m \u001b[0;34m\u001b[0m\u001b[0m\n",
      "\u001b[0;32m/opt/lsst/software/stack/conda/miniconda3-py38_4.9.2/envs/lsst-scipipe-0.6.0/lib/python3.8/site-packages/astropy/io/fits/hdu/hdulist.py\u001b[0m in \u001b[0;36mfromfile\u001b[0;34m(cls, fileobj, mode, memmap, save_backup, cache, lazy_load_hdus, **kwargs)\u001b[0m\n\u001b[1;32m    399\u001b[0m         \"\"\"\n\u001b[1;32m    400\u001b[0m \u001b[0;34m\u001b[0m\u001b[0m\n\u001b[0;32m--> 401\u001b[0;31m         return cls._readfrom(fileobj=fileobj, mode=mode, memmap=memmap,\n\u001b[0m\u001b[1;32m    402\u001b[0m                              \u001b[0msave_backup\u001b[0m\u001b[0;34m=\u001b[0m\u001b[0msave_backup\u001b[0m\u001b[0;34m,\u001b[0m \u001b[0mcache\u001b[0m\u001b[0;34m=\u001b[0m\u001b[0mcache\u001b[0m\u001b[0;34m,\u001b[0m\u001b[0;34m\u001b[0m\u001b[0;34m\u001b[0m\u001b[0m\n\u001b[1;32m    403\u001b[0m                              lazy_load_hdus=lazy_load_hdus, **kwargs)\n",
      "\u001b[0;32m/opt/lsst/software/stack/conda/miniconda3-py38_4.9.2/envs/lsst-scipipe-0.6.0/lib/python3.8/site-packages/astropy/io/fits/hdu/hdulist.py\u001b[0m in \u001b[0;36m_readfrom\u001b[0;34m(cls, fileobj, data, mode, memmap, cache, lazy_load_hdus, **kwargs)\u001b[0m\n\u001b[1;32m   1050\u001b[0m             \u001b[0;32mif\u001b[0m \u001b[0;32mnot\u001b[0m \u001b[0misinstance\u001b[0m\u001b[0;34m(\u001b[0m\u001b[0mfileobj\u001b[0m\u001b[0;34m,\u001b[0m \u001b[0m_File\u001b[0m\u001b[0;34m)\u001b[0m\u001b[0;34m:\u001b[0m\u001b[0;34m\u001b[0m\u001b[0;34m\u001b[0m\u001b[0m\n\u001b[1;32m   1051\u001b[0m                 \u001b[0;31m# instantiate a FITS file object (ffo)\u001b[0m\u001b[0;34m\u001b[0m\u001b[0;34m\u001b[0m\u001b[0;34m\u001b[0m\u001b[0m\n\u001b[0;32m-> 1052\u001b[0;31m                 \u001b[0mfileobj\u001b[0m \u001b[0;34m=\u001b[0m \u001b[0m_File\u001b[0m\u001b[0;34m(\u001b[0m\u001b[0mfileobj\u001b[0m\u001b[0;34m,\u001b[0m \u001b[0mmode\u001b[0m\u001b[0;34m=\u001b[0m\u001b[0mmode\u001b[0m\u001b[0;34m,\u001b[0m \u001b[0mmemmap\u001b[0m\u001b[0;34m=\u001b[0m\u001b[0mmemmap\u001b[0m\u001b[0;34m,\u001b[0m \u001b[0mcache\u001b[0m\u001b[0;34m=\u001b[0m\u001b[0mcache\u001b[0m\u001b[0;34m)\u001b[0m\u001b[0;34m\u001b[0m\u001b[0;34m\u001b[0m\u001b[0m\n\u001b[0m\u001b[1;32m   1053\u001b[0m             \u001b[0;31m# The Astropy mode is determined by the _File initializer if the\u001b[0m\u001b[0;34m\u001b[0m\u001b[0;34m\u001b[0m\u001b[0;34m\u001b[0m\u001b[0m\n\u001b[1;32m   1054\u001b[0m             \u001b[0;31m# supplied mode was None\u001b[0m\u001b[0;34m\u001b[0m\u001b[0;34m\u001b[0m\u001b[0;34m\u001b[0m\u001b[0m\n",
      "\u001b[0;32m/opt/lsst/software/stack/conda/miniconda3-py38_4.9.2/envs/lsst-scipipe-0.6.0/lib/python3.8/site-packages/astropy/utils/decorators.py\u001b[0m in \u001b[0;36mwrapper\u001b[0;34m(*args, **kwargs)\u001b[0m\n\u001b[1;32m    533\u001b[0m                     \u001b[0mwarnings\u001b[0m\u001b[0;34m.\u001b[0m\u001b[0mwarn\u001b[0m\u001b[0;34m(\u001b[0m\u001b[0mmessage\u001b[0m\u001b[0;34m,\u001b[0m \u001b[0mwarning_type\u001b[0m\u001b[0;34m,\u001b[0m \u001b[0mstacklevel\u001b[0m\u001b[0;34m=\u001b[0m\u001b[0;36m2\u001b[0m\u001b[0;34m)\u001b[0m\u001b[0;34m\u001b[0m\u001b[0;34m\u001b[0m\u001b[0m\n\u001b[1;32m    534\u001b[0m \u001b[0;34m\u001b[0m\u001b[0m\n\u001b[0;32m--> 535\u001b[0;31m             \u001b[0;32mreturn\u001b[0m \u001b[0mfunction\u001b[0m\u001b[0;34m(\u001b[0m\u001b[0;34m*\u001b[0m\u001b[0margs\u001b[0m\u001b[0;34m,\u001b[0m \u001b[0;34m**\u001b[0m\u001b[0mkwargs\u001b[0m\u001b[0;34m)\u001b[0m\u001b[0;34m\u001b[0m\u001b[0;34m\u001b[0m\u001b[0m\n\u001b[0m\u001b[1;32m    536\u001b[0m \u001b[0;34m\u001b[0m\u001b[0m\n\u001b[1;32m    537\u001b[0m         \u001b[0;32mreturn\u001b[0m \u001b[0mwrapper\u001b[0m\u001b[0;34m\u001b[0m\u001b[0;34m\u001b[0m\u001b[0m\n",
      "\u001b[0;32m/opt/lsst/software/stack/conda/miniconda3-py38_4.9.2/envs/lsst-scipipe-0.6.0/lib/python3.8/site-packages/astropy/io/fits/file.py\u001b[0m in \u001b[0;36m__init__\u001b[0;34m(self, fileobj, mode, memmap, overwrite, cache)\u001b[0m\n\u001b[1;32m    173\u001b[0m             \u001b[0mself\u001b[0m\u001b[0;34m.\u001b[0m\u001b[0m_open_fileobj\u001b[0m\u001b[0;34m(\u001b[0m\u001b[0mfileobj\u001b[0m\u001b[0;34m,\u001b[0m \u001b[0mmode\u001b[0m\u001b[0;34m,\u001b[0m \u001b[0moverwrite\u001b[0m\u001b[0;34m)\u001b[0m\u001b[0;34m\u001b[0m\u001b[0;34m\u001b[0m\u001b[0m\n\u001b[1;32m    174\u001b[0m         \u001b[0;32melif\u001b[0m \u001b[0misinstance\u001b[0m\u001b[0;34m(\u001b[0m\u001b[0mfileobj\u001b[0m\u001b[0;34m,\u001b[0m \u001b[0;34m(\u001b[0m\u001b[0mstr\u001b[0m\u001b[0;34m,\u001b[0m \u001b[0mbytes\u001b[0m\u001b[0;34m)\u001b[0m\u001b[0;34m)\u001b[0m\u001b[0;34m:\u001b[0m\u001b[0;34m\u001b[0m\u001b[0;34m\u001b[0m\u001b[0m\n\u001b[0;32m--> 175\u001b[0;31m             \u001b[0mself\u001b[0m\u001b[0;34m.\u001b[0m\u001b[0m_open_filename\u001b[0m\u001b[0;34m(\u001b[0m\u001b[0mfileobj\u001b[0m\u001b[0;34m,\u001b[0m \u001b[0mmode\u001b[0m\u001b[0;34m,\u001b[0m \u001b[0moverwrite\u001b[0m\u001b[0;34m)\u001b[0m\u001b[0;34m\u001b[0m\u001b[0;34m\u001b[0m\u001b[0m\n\u001b[0m\u001b[1;32m    176\u001b[0m         \u001b[0;32melse\u001b[0m\u001b[0;34m:\u001b[0m\u001b[0;34m\u001b[0m\u001b[0;34m\u001b[0m\u001b[0m\n\u001b[1;32m    177\u001b[0m             \u001b[0mself\u001b[0m\u001b[0;34m.\u001b[0m\u001b[0m_open_filelike\u001b[0m\u001b[0;34m(\u001b[0m\u001b[0mfileobj\u001b[0m\u001b[0;34m,\u001b[0m \u001b[0mmode\u001b[0m\u001b[0;34m,\u001b[0m \u001b[0moverwrite\u001b[0m\u001b[0;34m)\u001b[0m\u001b[0;34m\u001b[0m\u001b[0;34m\u001b[0m\u001b[0m\n",
      "\u001b[0;32m/opt/lsst/software/stack/conda/miniconda3-py38_4.9.2/envs/lsst-scipipe-0.6.0/lib/python3.8/site-packages/astropy/io/fits/file.py\u001b[0m in \u001b[0;36m_open_filename\u001b[0;34m(self, filename, mode, overwrite)\u001b[0m\n\u001b[1;32m    561\u001b[0m         \u001b[0mext\u001b[0m \u001b[0;34m=\u001b[0m \u001b[0mos\u001b[0m\u001b[0;34m.\u001b[0m\u001b[0mpath\u001b[0m\u001b[0;34m.\u001b[0m\u001b[0msplitext\u001b[0m\u001b[0;34m(\u001b[0m\u001b[0mself\u001b[0m\u001b[0;34m.\u001b[0m\u001b[0mname\u001b[0m\u001b[0;34m)\u001b[0m\u001b[0;34m[\u001b[0m\u001b[0;36m1\u001b[0m\u001b[0;34m]\u001b[0m\u001b[0;34m\u001b[0m\u001b[0;34m\u001b[0m\u001b[0m\n\u001b[1;32m    562\u001b[0m \u001b[0;34m\u001b[0m\u001b[0m\n\u001b[0;32m--> 563\u001b[0;31m         \u001b[0;32mif\u001b[0m \u001b[0;32mnot\u001b[0m \u001b[0mself\u001b[0m\u001b[0;34m.\u001b[0m\u001b[0m_try_read_compressed\u001b[0m\u001b[0;34m(\u001b[0m\u001b[0mself\u001b[0m\u001b[0;34m.\u001b[0m\u001b[0mname\u001b[0m\u001b[0;34m,\u001b[0m \u001b[0mmagic\u001b[0m\u001b[0;34m,\u001b[0m \u001b[0mmode\u001b[0m\u001b[0;34m,\u001b[0m \u001b[0mext\u001b[0m\u001b[0;34m=\u001b[0m\u001b[0mext\u001b[0m\u001b[0;34m)\u001b[0m\u001b[0;34m:\u001b[0m\u001b[0;34m\u001b[0m\u001b[0;34m\u001b[0m\u001b[0m\n\u001b[0m\u001b[1;32m    564\u001b[0m             \u001b[0mself\u001b[0m\u001b[0;34m.\u001b[0m\u001b[0m_file\u001b[0m \u001b[0;34m=\u001b[0m \u001b[0mfileobj_open\u001b[0m\u001b[0;34m(\u001b[0m\u001b[0mself\u001b[0m\u001b[0;34m.\u001b[0m\u001b[0mname\u001b[0m\u001b[0;34m,\u001b[0m \u001b[0mIO_FITS_MODES\u001b[0m\u001b[0;34m[\u001b[0m\u001b[0mmode\u001b[0m\u001b[0;34m]\u001b[0m\u001b[0;34m)\u001b[0m\u001b[0;34m\u001b[0m\u001b[0;34m\u001b[0m\u001b[0m\n\u001b[1;32m    565\u001b[0m             \u001b[0mself\u001b[0m\u001b[0;34m.\u001b[0m\u001b[0mclose_on_error\u001b[0m \u001b[0;34m=\u001b[0m \u001b[0;32mTrue\u001b[0m\u001b[0;34m\u001b[0m\u001b[0;34m\u001b[0m\u001b[0m\n",
      "\u001b[0;32m/opt/lsst/software/stack/conda/miniconda3-py38_4.9.2/envs/lsst-scipipe-0.6.0/lib/python3.8/site-packages/astropy/io/fits/file.py\u001b[0m in \u001b[0;36m_try_read_compressed\u001b[0;34m(self, obj_or_name, magic, mode, ext)\u001b[0m\n\u001b[1;32m    455\u001b[0m             \u001b[0;32melse\u001b[0m\u001b[0;34m:\u001b[0m\u001b[0;34m\u001b[0m\u001b[0;34m\u001b[0m\u001b[0m\n\u001b[1;32m    456\u001b[0m                 \u001b[0mkwargs\u001b[0m\u001b[0;34m[\u001b[0m\u001b[0;34m'fileobj'\u001b[0m\u001b[0;34m]\u001b[0m \u001b[0;34m=\u001b[0m \u001b[0mobj_or_name\u001b[0m\u001b[0;34m\u001b[0m\u001b[0;34m\u001b[0m\u001b[0m\n\u001b[0;32m--> 457\u001b[0;31m             \u001b[0mself\u001b[0m\u001b[0;34m.\u001b[0m\u001b[0m_file\u001b[0m \u001b[0;34m=\u001b[0m \u001b[0mgzip\u001b[0m\u001b[0;34m.\u001b[0m\u001b[0mGzipFile\u001b[0m\u001b[0;34m(\u001b[0m\u001b[0;34m**\u001b[0m\u001b[0mkwargs\u001b[0m\u001b[0;34m)\u001b[0m\u001b[0;34m\u001b[0m\u001b[0;34m\u001b[0m\u001b[0m\n\u001b[0m\u001b[1;32m    458\u001b[0m             \u001b[0mself\u001b[0m\u001b[0;34m.\u001b[0m\u001b[0mcompression\u001b[0m \u001b[0;34m=\u001b[0m \u001b[0;34m'gzip'\u001b[0m\u001b[0;34m\u001b[0m\u001b[0;34m\u001b[0m\u001b[0m\n\u001b[1;32m    459\u001b[0m         \u001b[0;32melif\u001b[0m \u001b[0mext\u001b[0m \u001b[0;34m==\u001b[0m \u001b[0;34m'.zip'\u001b[0m \u001b[0;32mor\u001b[0m \u001b[0mmagic\u001b[0m\u001b[0;34m.\u001b[0m\u001b[0mstartswith\u001b[0m\u001b[0;34m(\u001b[0m\u001b[0mPKZIP_MAGIC\u001b[0m\u001b[0;34m)\u001b[0m\u001b[0;34m:\u001b[0m\u001b[0;34m\u001b[0m\u001b[0;34m\u001b[0m\u001b[0m\n",
      "\u001b[0;32m/opt/lsst/software/stack/conda/miniconda3-py38_4.9.2/envs/lsst-scipipe-0.6.0/lib/python3.8/gzip.py\u001b[0m in \u001b[0;36m__init__\u001b[0;34m(self, filename, mode, compresslevel, fileobj, mtime)\u001b[0m\n\u001b[1;32m    171\u001b[0m             \u001b[0mmode\u001b[0m \u001b[0;34m+=\u001b[0m \u001b[0;34m'b'\u001b[0m\u001b[0;34m\u001b[0m\u001b[0;34m\u001b[0m\u001b[0m\n\u001b[1;32m    172\u001b[0m         \u001b[0;32mif\u001b[0m \u001b[0mfileobj\u001b[0m \u001b[0;32mis\u001b[0m \u001b[0;32mNone\u001b[0m\u001b[0;34m:\u001b[0m\u001b[0;34m\u001b[0m\u001b[0;34m\u001b[0m\u001b[0m\n\u001b[0;32m--> 173\u001b[0;31m             \u001b[0mfileobj\u001b[0m \u001b[0;34m=\u001b[0m \u001b[0mself\u001b[0m\u001b[0;34m.\u001b[0m\u001b[0mmyfileobj\u001b[0m \u001b[0;34m=\u001b[0m \u001b[0mbuiltins\u001b[0m\u001b[0;34m.\u001b[0m\u001b[0mopen\u001b[0m\u001b[0;34m(\u001b[0m\u001b[0mfilename\u001b[0m\u001b[0;34m,\u001b[0m \u001b[0mmode\u001b[0m \u001b[0;32mor\u001b[0m \u001b[0;34m'rb'\u001b[0m\u001b[0;34m)\u001b[0m\u001b[0;34m\u001b[0m\u001b[0;34m\u001b[0m\u001b[0m\n\u001b[0m\u001b[1;32m    174\u001b[0m         \u001b[0;32mif\u001b[0m \u001b[0mfilename\u001b[0m \u001b[0;32mis\u001b[0m \u001b[0;32mNone\u001b[0m\u001b[0;34m:\u001b[0m\u001b[0;34m\u001b[0m\u001b[0;34m\u001b[0m\u001b[0m\n\u001b[1;32m    175\u001b[0m             \u001b[0mfilename\u001b[0m \u001b[0;34m=\u001b[0m \u001b[0mgetattr\u001b[0m\u001b[0;34m(\u001b[0m\u001b[0mfileobj\u001b[0m\u001b[0;34m,\u001b[0m \u001b[0;34m'name'\u001b[0m\u001b[0;34m,\u001b[0m \u001b[0;34m''\u001b[0m\u001b[0;34m)\u001b[0m\u001b[0;34m\u001b[0m\u001b[0;34m\u001b[0m\u001b[0m\n",
      "\u001b[0;31mFileNotFoundError\u001b[0m: [Errno 2] No such file or directory: '/project/scichris/aos/AOS/DM-28360/test_OPD/4_/opd_9000001_2.fits.gz'"
     ]
    }
   ],
   "source": [
    "hdul4 = fits.open('/project/scichris/aos/AOS/DM-28360/test_OPD/4_/opd_9000001_2.fits.gz')\n",
    "plt.imshow(hdul4[0].data)"
   ]
  },
  {
   "cell_type": "code",
   "execution_count": 10,
   "id": "df780653",
   "metadata": {},
   "outputs": [
    {
     "data": {
      "text/plain": [
       "<matplotlib.image.AxesImage at 0x7f7576f13490>"
      ]
     },
     "execution_count": 10,
     "metadata": {},
     "output_type": "execute_result"
    },
    {
     "data": {
      "image/png": "[encoded data removed]",
      "text/plain": [
       "<Figure size 432x288 with 1 Axes>"
      ]
     },
     "metadata": {
      "needs_background": "light"
     },
     "output_type": "display_data"
    }
   ],
   "source": [
    "hdul5 = fits.open('/project/scichris/aos/AOS/DM-28360/test_OPD/5_/opd_9006000_2.fits.gz')\n",
    "plt.imshow(hdul5[0].data)"
   ]
  },
  {
   "cell_type": "code",
   "execution_count": 17,
   "id": "78e21006",
   "metadata": {},
   "outputs": [
    {
     "data": {
      "text/plain": [
       "<matplotlib.image.AxesImage at 0x7fbacea074f0>"
      ]
     },
     "execution_count": 17,
     "metadata": {},
     "output_type": "execute_result"
    },
    {
     "data": {
      "image/png": "[encoded data removed]",
      "text/plain": [
       "<Figure size 432x288 with 1 Axes>"
      ]
     },
     "metadata": {
      "needs_background": "light"
     },
     "output_type": "display_data"
    }
   ],
   "source": [
    "hdul5 = fits.open('/project/scichris/aos/AOS/DM-28360/test_OPD/6_/opd_9000001_2.fits.gz')\n",
    "plt.imshow(hdul5[0].data)"
   ]
  },
  {
   "cell_type": "code",
   "execution_count": 18,
   "id": "ff4ab7e1",
   "metadata": {},
   "outputs": [
    {
     "data": {
      "text/plain": [
       "<matplotlib.image.AxesImage at 0x7fbace961a00>"
      ]
     },
     "execution_count": 18,
     "metadata": {},
     "output_type": "execute_result"
    },
    {
     "data": {
      "image/png": "[encoded data removed]",
      "text/plain": [
       "<Figure size 432x288 with 1 Axes>"
      ]
     },
     "metadata": {
      "needs_background": "light"
     },
     "output_type": "display_data"
    }
   ],
   "source": [
    "hdul5 = fits.open('/project/scichris/aos/AOS/DM-28360/test_OPD/7_/opd_9000001_2.fits.gz')\n",
    "plt.imshow(hdul5[0].data)"
   ]
  },
  {
   "cell_type": "code",
   "execution_count": 6,
   "id": "aa59b74e",
   "metadata": {},
   "outputs": [
    {
     "data": {
      "text/plain": [
       "<matplotlib.image.AxesImage at 0x7fd3b2c210a0>"
      ]
     },
     "execution_count": 6,
     "metadata": {},
     "output_type": "execute_result"
    },
    {
     "data": {
      "image/png": "[encoded data removed]",
      "text/plain": [
       "<Figure size 432x288 with 1 Axes>"
      ]
     },
     "metadata": {
      "needs_background": "light"
     },
     "output_type": "display_data"
    }
   ],
   "source": [
    "%matplotlib inline\n",
    "hdul8 = fits.open('/project/scichris/aos/AOS/DM-28360/test_OPD/8_/opd_9000001_2.fits.gz')\n",
    "plt.imshow(hdul8[0].data)"
   ]
  },
  {
   "cell_type": "code",
   "execution_count": 3,
   "id": "525bce0d",
   "metadata": {},
   "outputs": [
    {
     "data": {
      "text/plain": [
       "<matplotlib.image.AxesImage at 0x7f74e5211640>"
      ]
     },
     "execution_count": 3,
     "metadata": {},
     "output_type": "execute_result"
    },
    {
     "data": {
      "image/png": "[encoded data removed]",
      "text/plain": [
       "<Figure size 432x288 with 1 Axes>"
      ]
     },
     "metadata": {
      "needs_background": "light"
     },
     "output_type": "display_data"
    }
   ],
   "source": [
    "%matplotlib inline\n",
    "hdul9 = fits.open('/project/scichris/aos/AOS/DM-28360/test_OPD/9_/opd_9000001_2.fits.gz')\n",
    "plt.imshow(hdul9[0].data)"
   ]
  },
  {
   "cell_type": "code",
   "execution_count": 4,
   "id": "b4ec2d73",
   "metadata": {},
   "outputs": [
    {
     "data": {
      "text/plain": [
       "<matplotlib.image.AxesImage at 0x7f74dd100c40>"
      ]
     },
     "execution_count": 4,
     "metadata": {},
     "output_type": "execute_result"
    },
    {
     "data": {
      "image/png": "[encoded data removed]",
      "text/plain": [
       "<Figure size 432x288 with 1 Axes>"
      ]
     },
     "metadata": {
      "needs_background": "light"
     },
     "output_type": "display_data"
    }
   ],
   "source": [
    "%matplotlib inline\n",
    "hdul9 = fits.open('/project/scichris/aos/AOS/DM-28360/test_OPD/10_/opd_9000001_2.fits.gz')\n",
    "plt.imshow(hdul9[0].data)"
   ]
  },
  {
   "cell_type": "code",
   "execution_count": 4,
   "id": "18a728db",
   "metadata": {},
   "outputs": [
    {
     "data": {
      "text/plain": [
       "<matplotlib.image.AxesImage at 0x7f7576f97c70>"
      ]
     },
     "execution_count": 4,
     "metadata": {},
     "output_type": "execute_result"
    },
    {
     "data": {
      "image/png": "[encoded data removed]",
      "text/plain": [
       "<Figure size 432x288 with 1 Axes>"
      ]
     },
     "metadata": {
      "needs_background": "light"
     },
     "output_type": "display_data"
    }
   ],
   "source": [
    "%matplotlib inline\n",
    "hdul9 = fits.open('/project/scichris/aos/AOS/DM-28360/test_OPD/11_/opd_9000001_2.fits.gz')\n",
    "plt.imshow(hdul9[0].data)"
   ]
  },
  {
   "cell_type": "code",
   "execution_count": 9,
   "id": "5b8ca92f",
   "metadata": {},
   "outputs": [
    {
     "data": {
      "text/plain": [
       "(array([], dtype=int64), array([], dtype=int64))"
      ]
     },
     "execution_count": 9,
     "metadata": {},
     "output_type": "execute_result"
    }
   ],
   "source": [
    "np.where(hdul9[0].data>0)"
   ]
  },
  {
   "cell_type": "code",
   "execution_count": 7,
   "id": "a410d301",
   "metadata": {},
   "outputs": [
    {
     "data": {
      "text/plain": [
       "<matplotlib.image.AxesImage at 0x7fb0bdd506d0>"
      ]
     },
     "execution_count": 7,
     "metadata": {},
     "output_type": "execute_result"
    },
    {
     "data": {
      "image/png": "[encoded data removed]",
      "text/plain": [
       "<Figure size 432x288 with 1 Axes>"
      ]
     },
     "metadata": {
      "needs_background": "light"
     },
     "output_type": "display_data"
    }
   ],
   "source": [
    "%matplotlib inline\n",
    "hdul12 = fits.open('/project/scichris/aos/AOS/DM-28360/test_OPD/12_/opd_9000001_2.fits.gz')\n",
    "plt.imshow(hdul12[0].data)"
   ]
  },
  {
   "cell_type": "markdown",
   "id": "c9b9ee9b",
   "metadata": {},
   "source": [
    "For  `12_` the `inst` and `cmd` files were stripped of all extra preamble commands, but the OPD xy is taken from https://github.com/lsst-ts/ts_phosim/blob/develop/policy/instrument/comcam/fieldXy.yaml, which is the center of each CCD in field XY\n",
    "\n",
    "\n",
    "    inst:\n",
    "    \n",
    "    Opsim_obshistid 9000001\n",
    "    Opsim_filter 2\n",
    "    rightascension 197.46441300863182\n",
    "    declination 24.33554243027582\n",
    "    rotskypos 0.0\n",
    "    rottelpos 0\n",
    "    SIM_VISTIME 15\n",
    "    SIM_NSNAP 1\n",
    "    opd  0  -0.234700   -0.234700 500.0 \n",
    "    opd  1  -0.234700    0.000000 500.0 \n",
    "    opd  2  -0.234700    0.234700 500.0 \n",
    "    opd  3   0.000000   -0.234700 500.0 \n",
    "    opd  4   0.000000    0.000000 500.0 \n",
    "    opd  5   0.000000    0.234700 500.0 \n",
    "    opd  6   0.234700   -0.234700 500.0 \n",
    "    opd  7   0.234700    0.000000 500.0 \n",
    "    opd  8   0.234700    0.234700 500.0 \n",
    "    \n",
    "    cmd:\n",
    "    \n",
    "    backgroundmode 0\n",
    "    raydensity 0\n",
    "    perturbationmode 1\n",
    "    izernike 0 0 -4.0442156930541306e-05 \n",
    "    izernike 0 1 -4.332919031597056e-05 \n",
    "    ...\n",
    "    ...\n",
    "    \n",
    "    "
   ]
  },
  {
   "cell_type": "code",
   "execution_count": 9,
   "id": "61f951a2",
   "metadata": {},
   "outputs": [
    {
     "data": {
      "text/plain": [
       "<matplotlib.image.AxesImage at 0x7fb0bdd015e0>"
      ]
     },
     "execution_count": 9,
     "metadata": {},
     "output_type": "execute_result"
    },
    {
     "data": {
      "image/png": "[encoded data removed]",
      "text/plain": [
       "<Figure size 432x288 with 1 Axes>"
      ]
     },
     "metadata": {
      "needs_background": "light"
     },
     "output_type": "display_data"
    }
   ],
   "source": [
    "%matplotlib inline\n",
    "hdul13 = fits.open('/project/scichris/aos/AOS/DM-28360/test_OPD/13_/opd_9000001_2.fits.gz')\n",
    "plt.imshow(hdul13[0].data)"
   ]
  },
  {
   "cell_type": "markdown",
   "id": "40bfa0bc",
   "metadata": {},
   "source": [
    "Here for `13_` we kept all the original preamble information. As expected, it does not make any difference - the OPD are the same:\n",
    "\n",
    "    inst \n",
    "    \n",
    "    Opsim_obshistid 9000001\n",
    "    Opsim_filter 2\n",
    "    mjd 59580\n",
    "    SIM_SEED 1000\n",
    "    rightascension 197.46441300863182\n",
    "    declination 24.33554243027582\n",
    "    rotskypos 0.0\n",
    "    rottelpos 0\n",
    "    SIM_VISTIME 15\n",
    "    SIM_NSNAP 1\n",
    "    moonphase 0.0\n",
    "    moonalt -90\n",
    "    sunalt -90\n",
    "    Opsim_rawseeing 0.69\n",
    "    camconfig 3\n",
    "    opd  0  -0.234700   -0.234700 500.0 \n",
    "    opd  1  -0.234700    0.000000 500.0 \n",
    "    opd  2  -0.234700    0.234700 500.0 \n",
    "    opd  3   0.000000   -0.234700 500.0 \n",
    "    opd  4   0.000000    0.000000 500.0 \n",
    "    opd  5   0.000000    0.234700 500.0 \n",
    "    opd  6   0.234700   -0.234700 500.0 \n",
    "    opd  7   0.234700    0.000000 500.0 \n",
    "    opd  8   0.234700    0.234700 500.0 \n",
    "    \n",
    "    cmd \n",
    "    \n",
    "    backgroundmode 0\n",
    "    raydensity 0\n",
    "    perturbationmode 1\n",
    "    trackingmode 0\n",
    "    cleartracking\n",
    "    clearclouds\n",
    "    lascatprob 0.0\n",
    "    contaminationmode 0\n",
    "    diffractionmode 1\n",
    "    straylight 0\n",
    "    detectormode 0\n",
    "    centroidfile 1\n",
    "    izernike 0 0 -4.0442156930541306e-05 \n",
    "    izernike 0 1 -4.332919031597056e-05 \n",
    "    ....\n",
    "    ...\n",
    "    \n",
    "    "
   ]
  },
  {
   "cell_type": "code",
   "execution_count": 12,
   "id": "3197ce9a",
   "metadata": {},
   "outputs": [
    {
     "data": {
      "text/plain": [
       "(array([], dtype=int64), array([], dtype=int64))"
      ]
     },
     "execution_count": 12,
     "metadata": {},
     "output_type": "execute_result"
    }
   ],
   "source": [
    "np.where(hdul12[0].data -  hdul13[0].data > 0)"
   ]
  },
  {
   "cell_type": "markdown",
   "id": "e89bdd4d",
   "metadata": {},
   "source": [
    "So they are identical regardless of whether the extra commands are kept there or not. "
   ]
  },
  {
   "cell_type": "markdown",
   "id": "349a5a66",
   "metadata": {},
   "source": [
    "Now just need to compare whether fieldXY from ts_phosim correspond to center of each ccd from obs_lsst:"
   ]
  },
  {
   "cell_type": "code",
   "execution_count": null,
   "id": "28f2cd2b",
   "metadata": {},
   "outputs": [],
   "source": []
  },
  {
   "cell_type": "code",
   "execution_count": 39,
   "id": "d8ab36b3",
   "metadata": {},
   "outputs": [],
   "source": [
    "import run_ps1_opd as opd\n",
    "\n",
    "# this is made with SkySim, taking the field center \n",
    "# of each CCD in the instrument\n",
    "skysim_cat = opd.get_opd_ra_dec(instrument='comCam', raField=0, decField=0, rotskypos=0)\n",
    "\n",
    "# the inst catalog\n",
    "# where I pasted the \n",
    "# ra,dec generated based on  \n",
    "# https://github.com/lsst-ts/ts_phosim/blob/develop/policy/instrument/comcam/fieldXy.yaml\n",
    "\n",
    "cat = np.genfromtxt('/project/scichris/aos/AOS/DM-28360/opd_comCam_high_focal_9000001_6.inst',\n",
    "                        skip_header=15)\n",
    "\n",
    "phosim_cat = pd.DataFrame(cat[:, 1:5], columns=['id', 'ra', 'dec', 'g'])\n"
   ]
  },
  {
   "cell_type": "code",
   "execution_count": 40,
   "id": "193a0344",
   "metadata": {},
   "outputs": [
    {
     "data": {
      "text/html": [
       "<div>\n",
       "<style scoped>\n",
       "    .dataframe tbody tr th:only-of-type {\n",
       "        vertical-align: middle;\n",
       "    }\n",
       "\n",
       "    .dataframe tbody tr th {\n",
       "        vertical-align: top;\n",
       "    }\n",
       "\n",
       "    .dataframe thead th {\n",
       "        text-align: right;\n",
       "    }\n",
       "</style>\n",
       "<table border=\"1\" class=\"dataframe\">\n",
       "  <thead>\n",
       "    <tr style=\"text-align: right;\">\n",
       "      <th></th>\n",
       "      <th>id</th>\n",
       "      <th>ra</th>\n",
       "      <th>dec</th>\n",
       "      <th>g</th>\n",
       "    </tr>\n",
       "  </thead>\n",
       "  <tbody>\n",
       "    <tr>\n",
       "      <th>0</th>\n",
       "      <td>0.0</td>\n",
       "      <td>-0.2347</td>\n",
       "      <td>-0.2347</td>\n",
       "      <td>500.0</td>\n",
       "    </tr>\n",
       "    <tr>\n",
       "      <th>1</th>\n",
       "      <td>1.0</td>\n",
       "      <td>-0.2347</td>\n",
       "      <td>0.0000</td>\n",
       "      <td>500.0</td>\n",
       "    </tr>\n",
       "    <tr>\n",
       "      <th>2</th>\n",
       "      <td>2.0</td>\n",
       "      <td>-0.2347</td>\n",
       "      <td>0.2347</td>\n",
       "      <td>500.0</td>\n",
       "    </tr>\n",
       "    <tr>\n",
       "      <th>3</th>\n",
       "      <td>3.0</td>\n",
       "      <td>0.0000</td>\n",
       "      <td>-0.2347</td>\n",
       "      <td>500.0</td>\n",
       "    </tr>\n",
       "    <tr>\n",
       "      <th>4</th>\n",
       "      <td>4.0</td>\n",
       "      <td>0.0000</td>\n",
       "      <td>0.0000</td>\n",
       "      <td>500.0</td>\n",
       "    </tr>\n",
       "    <tr>\n",
       "      <th>5</th>\n",
       "      <td>5.0</td>\n",
       "      <td>0.0000</td>\n",
       "      <td>0.2347</td>\n",
       "      <td>500.0</td>\n",
       "    </tr>\n",
       "    <tr>\n",
       "      <th>6</th>\n",
       "      <td>6.0</td>\n",
       "      <td>0.2347</td>\n",
       "      <td>-0.2347</td>\n",
       "      <td>500.0</td>\n",
       "    </tr>\n",
       "    <tr>\n",
       "      <th>7</th>\n",
       "      <td>7.0</td>\n",
       "      <td>0.2347</td>\n",
       "      <td>0.0000</td>\n",
       "      <td>500.0</td>\n",
       "    </tr>\n",
       "    <tr>\n",
       "      <th>8</th>\n",
       "      <td>8.0</td>\n",
       "      <td>0.2347</td>\n",
       "      <td>0.2347</td>\n",
       "      <td>500.0</td>\n",
       "    </tr>\n",
       "  </tbody>\n",
       "</table>\n",
       "</div>"
      ],
      "text/plain": [
       "    id      ra     dec      g\n",
       "0  0.0 -0.2347 -0.2347  500.0\n",
       "1  1.0 -0.2347  0.0000  500.0\n",
       "2  2.0 -0.2347  0.2347  500.0\n",
       "3  3.0  0.0000 -0.2347  500.0\n",
       "4  4.0  0.0000  0.0000  500.0\n",
       "5  5.0  0.0000  0.2347  500.0\n",
       "6  6.0  0.2347 -0.2347  500.0\n",
       "7  7.0  0.2347  0.0000  500.0\n",
       "8  8.0  0.2347  0.2347  500.0"
      ]
     },
     "execution_count": 40,
     "metadata": {},
     "output_type": "execute_result"
    }
   ],
   "source": [
    "phosim_cat"
   ]
  },
  {
   "cell_type": "code",
   "execution_count": 41,
   "id": "c0cfed9a",
   "metadata": {},
   "outputs": [
    {
     "name": "stderr",
     "output_type": "stream",
     "text": [
      "<ipython-input-41-41f0205c186c>:2: SettingWithCopyWarning: \n",
      "A value is trying to be set on a copy of a slice from a DataFrame\n",
      "\n",
      "See the caveats in the documentation: https://pandas.pydata.org/pandas-docs/stable/user_guide/indexing.html#returning-a-view-versus-a-copy\n",
      "  skysim_cat['ra'][m] = skysim_cat['ra'][m] - 360\n"
     ]
    },
    {
     "data": {
      "text/html": [
       "<div>\n",
       "<style scoped>\n",
       "    .dataframe tbody tr th:only-of-type {\n",
       "        vertical-align: middle;\n",
       "    }\n",
       "\n",
       "    .dataframe tbody tr th {\n",
       "        vertical-align: top;\n",
       "    }\n",
       "\n",
       "    .dataframe thead th {\n",
       "        text-align: right;\n",
       "    }\n",
       "</style>\n",
       "<table border=\"1\" class=\"dataframe\">\n",
       "  <thead>\n",
       "    <tr style=\"text-align: right;\">\n",
       "      <th></th>\n",
       "      <th>ra</th>\n",
       "      <th>dec</th>\n",
       "      <th>xPx</th>\n",
       "      <th>yPx</th>\n",
       "      <th>r</th>\n",
       "      <th>objid</th>\n",
       "    </tr>\n",
       "  </thead>\n",
       "  <tbody>\n",
       "    <tr>\n",
       "      <th>0</th>\n",
       "      <td>0.237388</td>\n",
       "      <td>-0.232830</td>\n",
       "      <td>2035.5</td>\n",
       "      <td>1999.5</td>\n",
       "      <td>15.0</td>\n",
       "      <td>0</td>\n",
       "    </tr>\n",
       "    <tr>\n",
       "      <th>1</th>\n",
       "      <td>0.002667</td>\n",
       "      <td>-0.232832</td>\n",
       "      <td>2035.5</td>\n",
       "      <td>1999.5</td>\n",
       "      <td>15.0</td>\n",
       "      <td>1</td>\n",
       "    </tr>\n",
       "    <tr>\n",
       "      <th>2</th>\n",
       "      <td>-0.232054</td>\n",
       "      <td>-0.232830</td>\n",
       "      <td>2035.5</td>\n",
       "      <td>1999.5</td>\n",
       "      <td>15.0</td>\n",
       "      <td>2</td>\n",
       "    </tr>\n",
       "    <tr>\n",
       "      <th>3</th>\n",
       "      <td>0.237388</td>\n",
       "      <td>0.001889</td>\n",
       "      <td>2035.5</td>\n",
       "      <td>1999.5</td>\n",
       "      <td>15.0</td>\n",
       "      <td>3</td>\n",
       "    </tr>\n",
       "    <tr>\n",
       "      <th>4</th>\n",
       "      <td>0.002667</td>\n",
       "      <td>0.001889</td>\n",
       "      <td>2035.5</td>\n",
       "      <td>1999.5</td>\n",
       "      <td>15.0</td>\n",
       "      <td>4</td>\n",
       "    </tr>\n",
       "    <tr>\n",
       "      <th>5</th>\n",
       "      <td>-0.232054</td>\n",
       "      <td>0.001889</td>\n",
       "      <td>2035.5</td>\n",
       "      <td>1999.5</td>\n",
       "      <td>15.0</td>\n",
       "      <td>5</td>\n",
       "    </tr>\n",
       "    <tr>\n",
       "      <th>6</th>\n",
       "      <td>0.237388</td>\n",
       "      <td>0.236608</td>\n",
       "      <td>2035.5</td>\n",
       "      <td>1999.5</td>\n",
       "      <td>15.0</td>\n",
       "      <td>6</td>\n",
       "    </tr>\n",
       "    <tr>\n",
       "      <th>7</th>\n",
       "      <td>0.002667</td>\n",
       "      <td>0.236610</td>\n",
       "      <td>2035.5</td>\n",
       "      <td>1999.5</td>\n",
       "      <td>15.0</td>\n",
       "      <td>7</td>\n",
       "    </tr>\n",
       "    <tr>\n",
       "      <th>8</th>\n",
       "      <td>-0.232054</td>\n",
       "      <td>0.236608</td>\n",
       "      <td>2035.5</td>\n",
       "      <td>1999.5</td>\n",
       "      <td>15.0</td>\n",
       "      <td>8</td>\n",
       "    </tr>\n",
       "  </tbody>\n",
       "</table>\n",
       "</div>"
      ],
      "text/plain": [
       "         ra       dec     xPx     yPx     r  objid\n",
       "0  0.237388 -0.232830  2035.5  1999.5  15.0      0\n",
       "1  0.002667 -0.232832  2035.5  1999.5  15.0      1\n",
       "2 -0.232054 -0.232830  2035.5  1999.5  15.0      2\n",
       "3  0.237388  0.001889  2035.5  1999.5  15.0      3\n",
       "4  0.002667  0.001889  2035.5  1999.5  15.0      4\n",
       "5 -0.232054  0.001889  2035.5  1999.5  15.0      5\n",
       "6  0.237388  0.236608  2035.5  1999.5  15.0      6\n",
       "7  0.002667  0.236610  2035.5  1999.5  15.0      7\n",
       "8 -0.232054  0.236608  2035.5  1999.5  15.0      8"
      ]
     },
     "execution_count": 41,
     "metadata": {},
     "output_type": "execute_result"
    }
   ],
   "source": [
    "m = skysim_cat['ra']>180\n",
    "skysim_cat['ra'][m] = skysim_cat['ra'][m] - 360\n",
    "skysim_cat"
   ]
  },
  {
   "cell_type": "code",
   "execution_count": 42,
   "id": "3954b52d",
   "metadata": {},
   "outputs": [
    {
     "data": {
      "text/html": [
       "<div>\n",
       "<style scoped>\n",
       "    .dataframe tbody tr th:only-of-type {\n",
       "        vertical-align: middle;\n",
       "    }\n",
       "\n",
       "    .dataframe tbody tr th {\n",
       "        vertical-align: top;\n",
       "    }\n",
       "\n",
       "    .dataframe thead th {\n",
       "        text-align: right;\n",
       "    }\n",
       "</style>\n",
       "<table border=\"1\" class=\"dataframe\">\n",
       "  <thead>\n",
       "    <tr style=\"text-align: right;\">\n",
       "      <th></th>\n",
       "      <th>id</th>\n",
       "      <th>ra</th>\n",
       "      <th>dec</th>\n",
       "      <th>g</th>\n",
       "    </tr>\n",
       "  </thead>\n",
       "  <tbody>\n",
       "    <tr>\n",
       "      <th>0</th>\n",
       "      <td>0.0</td>\n",
       "      <td>-0.2347</td>\n",
       "      <td>-0.2347</td>\n",
       "      <td>500.0</td>\n",
       "    </tr>\n",
       "    <tr>\n",
       "      <th>1</th>\n",
       "      <td>1.0</td>\n",
       "      <td>-0.2347</td>\n",
       "      <td>0.0000</td>\n",
       "      <td>500.0</td>\n",
       "    </tr>\n",
       "    <tr>\n",
       "      <th>2</th>\n",
       "      <td>2.0</td>\n",
       "      <td>-0.2347</td>\n",
       "      <td>0.2347</td>\n",
       "      <td>500.0</td>\n",
       "    </tr>\n",
       "    <tr>\n",
       "      <th>3</th>\n",
       "      <td>3.0</td>\n",
       "      <td>0.0000</td>\n",
       "      <td>-0.2347</td>\n",
       "      <td>500.0</td>\n",
       "    </tr>\n",
       "    <tr>\n",
       "      <th>4</th>\n",
       "      <td>4.0</td>\n",
       "      <td>0.0000</td>\n",
       "      <td>0.0000</td>\n",
       "      <td>500.0</td>\n",
       "    </tr>\n",
       "    <tr>\n",
       "      <th>5</th>\n",
       "      <td>5.0</td>\n",
       "      <td>0.0000</td>\n",
       "      <td>0.2347</td>\n",
       "      <td>500.0</td>\n",
       "    </tr>\n",
       "    <tr>\n",
       "      <th>6</th>\n",
       "      <td>6.0</td>\n",
       "      <td>0.2347</td>\n",
       "      <td>-0.2347</td>\n",
       "      <td>500.0</td>\n",
       "    </tr>\n",
       "    <tr>\n",
       "      <th>7</th>\n",
       "      <td>7.0</td>\n",
       "      <td>0.2347</td>\n",
       "      <td>0.0000</td>\n",
       "      <td>500.0</td>\n",
       "    </tr>\n",
       "    <tr>\n",
       "      <th>8</th>\n",
       "      <td>8.0</td>\n",
       "      <td>0.2347</td>\n",
       "      <td>0.2347</td>\n",
       "      <td>500.0</td>\n",
       "    </tr>\n",
       "  </tbody>\n",
       "</table>\n",
       "</div>"
      ],
      "text/plain": [
       "    id      ra     dec      g\n",
       "0  0.0 -0.2347 -0.2347  500.0\n",
       "1  1.0 -0.2347  0.0000  500.0\n",
       "2  2.0 -0.2347  0.2347  500.0\n",
       "3  3.0  0.0000 -0.2347  500.0\n",
       "4  4.0  0.0000  0.0000  500.0\n",
       "5  5.0  0.0000  0.2347  500.0\n",
       "6  6.0  0.2347 -0.2347  500.0\n",
       "7  7.0  0.2347  0.0000  500.0\n",
       "8  8.0  0.2347  0.2347  500.0"
      ]
     },
     "execution_count": 42,
     "metadata": {},
     "output_type": "execute_result"
    }
   ],
   "source": [
    "phosim_cat"
   ]
  },
  {
   "cell_type": "code",
   "execution_count": 66,
   "id": "45a47a63",
   "metadata": {},
   "outputs": [
    {
     "data": {
      "text/plain": [
       "Text(0, 0.5, 'dec [deg]')"
      ]
     },
     "execution_count": 66,
     "metadata": {},
     "output_type": "execute_result"
    },
    {
     "data": {
      "image/png": "[encoded data removed]",
      "text/plain": [
       "<Figure size 432x432 with 1 Axes>"
      ]
     },
     "metadata": {
      "needs_background": "light"
     },
     "output_type": "display_data"
    }
   ],
   "source": [
    "\n",
    "%matplotlib inline\n",
    "\n",
    "fig,ax = plt.subplots(figsize=(6,6))\n",
    "ax.scatter(skysim_cat['ra'], skysim_cat['dec'], marker='d', c='green',s=100,label='skySim')\n",
    "ax.scatter(phosim_cat['ra'], phosim_cat['dec'], marker='+', c='red',label='fieldXY',s=67)\n",
    "ax.legend(bbox_to_anchor=(0.45,0.35),fontsize=14)\n",
    "ax.set_title('comCam')\n",
    "ax.set_xlabel('ra [deg]')\n",
    "ax.set_ylabel('dec [deg]')\n"
   ]
  },
  {
   "cell_type": "markdown",
   "id": "0c7a72b1",
   "metadata": {},
   "source": [
    "They're basically the same, par the difference in whether the ra is allowed to be smaller than 0, or not... "
   ]
  },
  {
   "cell_type": "markdown",
   "id": "5c036a84",
   "metadata": {},
   "source": [
    "So I also updated range of field x in deg, field y in deg,  to run from (-180,180) rather than (0,360) in `run_ps1_opd`."
   ]
  },
  {
   "cell_type": "markdown",
   "id": "206fa7aa",
   "metadata": {},
   "source": [
    "I generate all OPD inst files with \n",
    "\n",
    "    python run_ps1_opd.py --instruments comCam lsstCam wfs --fields high med low Baade --positions focal intra extra \n",
    "\n",
    "I run them generating OPD with \n",
    "\n",
    "    python  /project/scichris/aos/AOS/run_ps1_phosim.py --opd  --instruments comCam --fields high med low Baade --positions focal extra intra --phosim_p 24  --cmd_file qckBkgndPert05_NCSA.cmd\n",
    "    \n",
    "    \n",
    "    python  /project/scichris/aos/AOS/run_ps1_phosim.py --opd  --instruments comCam --fields high med low Baade --positions focal extra intra --phosim_p 24  --cmd_file noBkgndPert05_NCSA.cmd\n",
    "    "
   ]
  },
  {
   "cell_type": "markdown",
   "id": "b5a16184",
   "metadata": {},
   "source": [
    "Inspect the results:"
   ]
  },
  {
   "cell_type": "code",
   "execution_count": 102,
   "id": "e891575b",
   "metadata": {},
   "outputs": [
    {
     "data": {
      "text/plain": [
       "<matplotlib.image.AxesImage at 0x7fb0b728edc0>"
      ]
     },
     "execution_count": 102,
     "metadata": {},
     "output_type": "execute_result"
    },
    {
     "data": {
      "image/png": "[encoded data removed]",
      "text/plain": [
       "<Figure size 432x288 with 1 Axes>"
      ]
     },
     "metadata": {
      "needs_background": "light"
     },
     "output_type": "display_data"
    }
   ],
   "source": [
    "%matplotlib inline\n",
    "# using qckBkgndPert05_NCSA.cmd  \n",
    "hdul = fits.open('/project/scichris/aos/AOS/DM-28360/comCam/high/focal/9000031/opd/opd_9000031_0.fits.gz')\n",
    "plt.imshow(hdul[0].data)"
   ]
  },
  {
   "cell_type": "code",
   "execution_count": 103,
   "id": "3e5a08cd",
   "metadata": {},
   "outputs": [
    {
     "data": {
      "text/plain": [
       "<matplotlib.image.AxesImage at 0x7fb0b707cdf0>"
      ]
     },
     "execution_count": 103,
     "metadata": {},
     "output_type": "execute_result"
    },
    {
     "data": {
      "image/png": "[encoded data removed]",
      "text/plain": [
       "<Figure size 432x288 with 1 Axes>"
      ]
     },
     "metadata": {
      "needs_background": "light"
     },
     "output_type": "display_data"
    }
   ],
   "source": [
    "# using qckBkgndPert05_NCSA.cmd  , but extra-focal - should be identical as the one above \n",
    "# although the focal movement may indeed create a different OPD...\n",
    "hdul1 = fits.open('/project/scichris/aos/AOS/DM-28360/comCam/high/extra/9000131/opd/opd_9000131_0.fits.gz')\n",
    "plt.imshow(hdul1[0].data)"
   ]
  },
  {
   "cell_type": "code",
   "execution_count": 104,
   "id": "99e04fcc",
   "metadata": {},
   "outputs": [
    {
     "data": {
      "text/plain": [
       "<matplotlib.image.AxesImage at 0x7fb0b7586130>"
      ]
     },
     "execution_count": 104,
     "metadata": {},
     "output_type": "execute_result"
    },
    {
     "data": {
      "image/png": "[encoded data removed]",
      "text/plain": [
       "<Figure size 432x288 with 1 Axes>"
      ]
     },
     "metadata": {
      "needs_background": "light"
     },
     "output_type": "display_data"
    }
   ],
   "source": [
    "# focal - extra = intra\n",
    "plt.imshow(hdul[0].data- hdul1[0].data)"
   ]
  },
  {
   "cell_type": "code",
   "execution_count": 106,
   "id": "b0a149a9",
   "metadata": {},
   "outputs": [
    {
     "data": {
      "text/plain": [
       "<matplotlib.image.AxesImage at 0x7fb0b6fd11f0>"
      ]
     },
     "execution_count": 106,
     "metadata": {},
     "output_type": "execute_result"
    },
    {
     "data": {
      "image/png": "[encoded data removed]",
      "text/plain": [
       "<Figure size 432x288 with 1 Axes>"
      ]
     },
     "metadata": {
      "needs_background": "light"
     },
     "output_type": "display_data"
    }
   ],
   "source": [
    "# using qckBkgndPert05_NCSA.cmd  \n",
    "\n",
    "hdul2 = fits.open('/project/scichris/aos/AOS/DM-28360/comCam/high/intra/9000231/opd/opd_9000231_0.fits.gz')\n",
    "plt.imshow(hdul2[0].data)"
   ]
  },
  {
   "cell_type": "markdown",
   "id": "7a96c8a3",
   "metadata": {},
   "source": [
    "And indeed intra-focal looks the same as focal - extra... \n",
    "\n",
    "    python /project/scichris/aos/phosim_syseng4/phosim.py /project/scichris/aos/AOS/DM-28360/opd_comCam_high_intra_9000231.inst -i comcam -e 1     -c /project/scichris/aos/AOS/DM-28360/qckBkgndPert05_NCSA.cmd -w /project/scichris/aos/AOS/DM-28360/comCam/high/intra/9000231/opd -p 24  -o /project/scichris/aos/AOS/DM-28360/comCam/high/intra/9000231/opd > /project/scichris/aos/AOS/DM-28360/comCam/high/intra/9000231/opdPhoSim.log 2>&1"
   ]
  },
  {
   "cell_type": "markdown",
   "id": "1aa95213",
   "metadata": {},
   "source": [
    "But it shouldn't be different -  the OPD should be evaluated for the in-focus position (i.e. no defocal movement)! See in imgCloseLoop - there aren't different OPDs for intra or extra-focal images, and `opd.inst`  has all move commands set to `0`..."
   ]
  },
  {
   "cell_type": "markdown",
   "id": "612476f7",
   "metadata": {},
   "source": [
    "Re-generate OPD, removing the defocal move... \n",
    "\n",
    "    python run_ps1_opd.py --instruments comCam lsstCam wfs --fields high med low Baade --positions focal intra extra \n",
    "\n",
    "I run them generating OPD with \n",
    "\n",
    "    python  /project/scichris/aos/AOS/run_ps1_phosim.py --opd  --instruments comCam --fields high med low Baade --positions focal extra intra --phosim_p 24  --cmd_file qckBkgndPert05_NCSA.cmd\n",
    "    \n",
    "    python  /project/scichris/aos/AOS/run_ps1_phosim.py --opd  --instruments comCam --fields high med low Baade --positions focal extra intra --phosim_p 24  --cmd_file qckBkgndPert00_NCSA.cmd\n",
    "    \n",
    "    python  /project/scichris/aos/AOS/run_ps1_phosim.py --opd  --instruments comCam --fields high med low Baade --positions focal extra intra --phosim_p 24  --cmd_file noBkgndPert05_NCSA.cmd\n",
    "    \n",
    "    python  /project/scichris/aos/AOS/run_ps1_phosim.py --opd  --instruments comCam --fields high med low Baade --positions focal extra intra --phosim_p 24  --cmd_file noBkgndPert00_NCSA.cmd\n",
    "    "
   ]
  },
  {
   "cell_type": "markdown",
   "id": "6870af31",
   "metadata": {},
   "source": [
    "So in my understanding all OPDs would be the same for a given cmd file, since they're only based on the perturbations... \n",
    "\n",
    "In other words , comcam high focal == comcam high extra == comcam high intra == comcam med focal == comcam med extra == comcam med intra == ... etc. for qckBkgndPert05_NCSA.cmd , and same for other cmd files "
   ]
  },
  {
   "cell_type": "code",
   "execution_count": 107,
   "id": "d3b2b62a",
   "metadata": {},
   "outputs": [
    {
     "data": {
      "text/plain": [
       "<matplotlib.image.AxesImage at 0x7fb0b6f85430>"
      ]
     },
     "execution_count": 107,
     "metadata": {},
     "output_type": "execute_result"
    },
    {
     "data": {
      "image/png": "[encoded data removed]",
      "text/plain": [
       "<Figure size 432x288 with 1 Axes>"
      ]
     },
     "metadata": {
      "needs_background": "light"
     },
     "output_type": "display_data"
    }
   ],
   "source": [
    "hdul = fits.open('/project/scichris/aos/AOS/DM-28360/comCam/med/focal/9001031/opd/opd_9001031_0.fits.gz')\n",
    "plt.imshow(hdul[0].data)"
   ]
  },
  {
   "cell_type": "code",
   "execution_count": 112,
   "id": "118f5f60",
   "metadata": {},
   "outputs": [
    {
     "data": {
      "text/plain": [
       "(array([], dtype=int64), array([], dtype=int64))"
      ]
     },
     "execution_count": 112,
     "metadata": {},
     "output_type": "execute_result"
    }
   ],
   "source": [
    "np.where(hdul[0].data - hdul2[0].data != 0)\n",
    "# this shows that comcam med focal  OPD == comcam high intra OPD "
   ]
  },
  {
   "cell_type": "code",
   "execution_count": 113,
   "id": "37b34b8a",
   "metadata": {},
   "outputs": [
    {
     "data": {
      "text/plain": [
       "<matplotlib.image.AxesImage at 0x7fb0b6f5e640>"
      ]
     },
     "execution_count": 113,
     "metadata": {},
     "output_type": "execute_result"
    },
    {
     "data": {
      "image/png": "[encoded data removed]",
      "text/plain": [
       "<Figure size 432x288 with 1 Axes>"
      ]
     },
     "metadata": {
      "needs_background": "light"
     },
     "output_type": "display_data"
    }
   ],
   "source": [
    "\n",
    "hdul = fits.open('/project/scichris/aos/AOS/DM-28360/comCam/med/extra/9001131/opd/opd_9001131_0.fits.gz')\n",
    "plt.imshow(hdul[0].data)"
   ]
  },
  {
   "cell_type": "markdown",
   "id": "87f1d411",
   "metadata": {},
   "source": [
    "BUT a different set of perturbations should create a different OPD... right?? "
   ]
  },
  {
   "cell_type": "code",
   "execution_count": 123,
   "id": "61b229fe",
   "metadata": {},
   "outputs": [],
   "source": [
    "#Compare high focal Pert05 to Pert00 : \n",
    "\n",
    "%matplotlib inline\n",
    "# using qckBkgndPert05_NCSA.cmd  \n",
    "hdul = fits.open('/project/scichris/aos/AOS/DM-28360/comCam/high/focal/9000031/opd/opd_9000031_0.fits.gz')\n",
    "# using qckBkgndPert00_NCSA.cmd \n",
    "hdul1 = fits.open('/project/scichris/aos/AOS/DM-28360/comCam/high/focal/9000021/opd/opd_9000021_0.fits.gz')\n",
    "\n"
   ]
  },
  {
   "cell_type": "code",
   "execution_count": 125,
   "id": "2376fdae",
   "metadata": {},
   "outputs": [
    {
     "data": {
      "text/plain": [
       "(array([  0,   0,   0, ..., 254, 254, 254]),\n",
       " array([116, 117, 118, ..., 133, 134, 135]))"
      ]
     },
     "execution_count": 125,
     "metadata": {},
     "output_type": "execute_result"
    }
   ],
   "source": [
    "np.where(hdul[0].data-hdul1[0].data != 0 )"
   ]
  },
  {
   "cell_type": "code",
   "execution_count": 126,
   "id": "54a1f0ca",
   "metadata": {},
   "outputs": [
    {
     "data": {
      "text/plain": [
       "<matplotlib.image.AxesImage at 0x7fb0b6e7cfa0>"
      ]
     },
     "execution_count": 126,
     "metadata": {},
     "output_type": "execute_result"
    },
    {
     "data": {
      "image/png": "[encoded data removed]",
      "text/plain": [
       "<Figure size 432x288 with 1 Axes>"
      ]
     },
     "metadata": {
      "needs_background": "light"
     },
     "output_type": "display_data"
    }
   ],
   "source": [
    "plt.imshow(hdul1[0].data)"
   ]
  },
  {
   "cell_type": "markdown",
   "id": "eaa8bb01",
   "metadata": {},
   "source": [
    "It does look different! So indeed, we will only have four different sets of OPD per instruments (for four different sets of CMD files). And I'm not sure if there even would be a difference between quick background and no background with the same perturbations  - it shouldd not matter since  we're not observing anything .... Lets see:"
   ]
  },
  {
   "cell_type": "code",
   "execution_count": 127,
   "id": "a36f3137",
   "metadata": {},
   "outputs": [
    {
     "data": {
      "text/plain": [
       "(array([], dtype=int64), array([], dtype=int64))"
      ]
     },
     "execution_count": 127,
     "metadata": {},
     "output_type": "execute_result"
    }
   ],
   "source": [
    "# compare high focal qckBkgndPert05   to noBkgndPert05 \n",
    "\n",
    "# qckBkgndPert05\n",
    "hdul_qck = fits.open('/project/scichris/aos/AOS/DM-28360/comCam/high/focal/9000031/opd/opd_9000031_0.fits.gz')\n",
    "# noBkdndPert05 \n",
    "hdul_no = fits.open('/project/scichris/aos/AOS/DM-28360/comCam/high/focal/9000011/opd/opd_9000011_0.fits.gz')\n",
    "np.where(hdul_qck[0].data-hdul_no[0].data != 0 )"
   ]
  },
  {
   "cell_type": "markdown",
   "id": "ba6ff841",
   "metadata": {},
   "source": [
    "ok, so they are indeed identical irrespective of the background! "
   ]
  },
  {
   "cell_type": "markdown",
   "id": "19b5574a",
   "metadata": {},
   "source": [
    "So I could just put those in a separate directory, and say that the OPD got evaluated \n",
    "for Pert00 and Pert05, and for each field (high,med,low..), position (focal,defocal), background (qck,no) , it's all the same  - there are only two distinct OPDs for each instrument - one for Pert00 , the other for Pert05. "
   ]
  },
  {
   "cell_type": "markdown",
   "id": "af346d8a",
   "metadata": {},
   "source": [
    "But I made all different inst files so that the obshistid used to create the OPD would be the same as that used for each image, and thus for OPD to be stored in the same directory as the image t make it easier to figure out which OPD to use ... "
   ]
  },
  {
   "cell_type": "markdown",
   "id": "1b5a8845",
   "metadata": {},
   "source": [
    "But on confluence I could just point to eg. \n",
    "    \n",
    "    DM-28360/comCam/opd_Pert00 \n",
    "    DM-28360/comCam/opd_Pert05\n",
    "    DM-28360/lsstCam/opd_Pert00 \n",
    "    DM-28360/lsstCam/opd_Pert05 \n",
    "    DM-28360/wfs/opd_Pert00 \n",
    "    DM-28360/wfs/opd_Pert05 \n",
    "    \n",
    "and that would be it! "
   ]
  },
  {
   "cell_type": "code",
   "execution_count": null,
   "id": "ebaf9e1c",
   "metadata": {},
   "outputs": [],
   "source": []
  },
  {
   "cell_type": "markdown",
   "id": "c2ef0201",
   "metadata": {},
   "source": [
    "Te-Wei also pointed to checking with `ts_wep` https://github.com/lsst-ts/ts_wep/blob/9e5ccfa096e0949ba3f90569ba0488d747776dd7/python/lsst/ts/wep/bsc/WcsSol.py#L357 "
   ]
  },
  {
   "cell_type": "code",
   "execution_count": 1,
   "id": "087a1d1e",
   "metadata": {},
   "outputs": [],
   "source": [
    "import numpy as np"
   ]
  },
  {
   "cell_type": "markdown",
   "id": "459bc54c",
   "metadata": {},
   "source": [
    "    focalPlaneArray = self._focalPlaneCoordsFromRaDec(ra, dec)\n",
    "    \n",
    "which has \n",
    "\n",
    "    \n",
    "    xMmList = []\n",
    "    yMmList = []\n",
    "\n",
    "    for raPt, decPt in zip(ra, dec):\n",
    "\n",
    "        cameraChip = self._camera[self.centerCcd]\n",
    "\n",
    "        raDecPt = lsst.geom.SpherePoint(\n",
    "            raPt * lsst.geom.degrees, decPt * lsst.geom.degrees\n",
    "        )\n",
    "        # Get xy in pixels\n",
    "        xyPix = self.skyWcs.skyToPixel(raDecPt)\n",
    "        xMm, yMm = cameraChip.transform(xyPix, PIXELS, FOCAL_PLANE)\n",
    "        xMmList.append(xMm)\n",
    "        yMmList.append(yMm)\n",
    "\n",
    "    return np.array([xMmList, yMmList])"
   ]
  },
  {
   "cell_type": "markdown",
   "id": "4ba1c244",
   "metadata": {},
   "source": [
    "NB: for corner sensors, calculate OPD in the center, in between the two sensors, because we're taking the extra-focal part from one part and intra-focal from the other, i.e. they;re not right on top of each other. "
   ]
  },
  {
   "cell_type": "code",
   "execution_count": null,
   "id": "1b424658",
   "metadata": {},
   "outputs": [],
   "source": []
  },
  {
   "cell_type": "code",
   "execution_count": 2,
   "id": "00e8ffdf",
   "metadata": {},
   "outputs": [],
   "source": [
    "import numpy as np\n",
    "\n",
    "import lsst.geom\n",
    "import lsst.obs.lsst as obs_lsst\n",
    "from lsst.obs.base import createInitialSkyWcsFromBoresight\n",
    "from lsst.afw.cameraGeom import FOCAL_PLANE, PIXELS\n",
    "\n",
    "\n",
    "# def setObsMetaData(self, ra, dec, rotSkyPos, centerCcd=\"R22_S11\"):\n",
    "#         \"\"\"Set up the WCS by specifying the observation meta data.\n",
    "ra,dec = 0,0\n",
    "rotSkyPos = 0\n",
    "boresightPointing = lsst.geom.SpherePoint(ra, dec, lsst.geom.degrees)\n",
    "centerCcd = 'R22_S11'\n",
    "\n",
    "from lsst.obs.lsst import LsstCam, LsstComCam\n",
    "#camera = LsstComCam().getCamera()\n",
    "camera = LsstComCam().getCamera()\n",
    "\n",
    "skyWcs = createInitialSkyWcsFromBoresight(\n",
    "        boresightPointing,\n",
    "        rotSkyPos * lsst.geom.degrees,\n",
    "        camera[centerCcd],\n",
    "        flipX=False,\n",
    "    )"
   ]
  },
  {
   "cell_type": "code",
   "execution_count": null,
   "id": "9612419f",
   "metadata": {},
   "outputs": [],
   "source": [
    "# def _focalPlaneCoordsFromRaDec(self, ra, dec):\n",
    "#     \"\"\"Get the focal plane coordinates for all objects in the catalog.\n",
    "        \n",
    "xMmList = []\n",
    "yMmList = []\n",
    "\n",
    "for raPt, decPt in zip(ra, dec):\n",
    "\n",
    "    cameraChip = camera[centerCcd]\n",
    "\n",
    "    raDecPt = lsst.geom.SpherePoint(\n",
    "        raPt * lsst.geom.degrees, decPt * lsst.geom.degrees\n",
    "    )\n",
    "    # Get xy in pixels\n",
    "    xyPix = skyWcs.skyToPixel(raDecPt)\n",
    "    xMm, yMm = cameraChip.transform(xyPix, PIXELS, FOCAL_PLANE)\n",
    "    xMmList.append(xMm)\n",
    "    yMmList.append(yMm)\n",
    "\n",
    "return np.array([xMmList, yMmList])"
   ]
  },
  {
   "cell_type": "markdown",
   "id": "4a6a193b",
   "metadata": {},
   "source": [
    "  * getting middle ra, dec from SkySim is not the same as fieldXY for WFS \n",
    "\n",
    "  * getting focalPlaneCoordsFromRaDec may be better than getting the focalPlane coords as ra,dec assuming (0,0) boresight...\n",
    "  \n",
    "--> Why the centers are off ? \n",
    "--> Which ones to use?\n",
    "\n",
    "\n",
    "--> Under rotation - test how it behaves - need to have some way of calculating OPD as the rotation angle is increased..."
   ]
  },
  {
   "cell_type": "markdown",
   "id": "ac4d879b",
   "metadata": {},
   "source": [
    "## Calculate OPD for the corner sensors only (wfs)"
   ]
  },
  {
   "cell_type": "code",
   "execution_count": 14,
   "id": "f951eb75",
   "metadata": {},
   "outputs": [
    {
     "name": "stderr",
     "output_type": "stream",
     "text": [
      "/project/scichris/aos/ts_wep/python/lsst/ts/wep/bsc/WcsSol.py:45: FutureWarning: Gen2 Butler has been deprecated (LsstCamMapper). It will be removed sometime after v23.0 but no earlier than the end of 2021.\n",
      "  self._camera = obs_lsst.lsstCamMapper.LsstCamMapper().camera\n"
     ]
    }
   ],
   "source": [
    "import run_ps1_opd as opd\n",
    "\n",
    "# this is made with SkySim, taking the field center \n",
    "# of each CCD in the instrument\n",
    "skysim_cat = opd.get_opd_ra_dec(instrument='wfs', raField=0, decField=0, rotskypos=0)\n"
   ]
  },
  {
   "cell_type": "code",
   "execution_count": 22,
   "id": "cd31dc6a",
   "metadata": {},
   "outputs": [
    {
     "data": {
      "text/plain": [
       "[-1.1322778103399687,\n",
       " -1.2474193576181027,\n",
       " 1.182795264517186,\n",
       " 1.1969030878961635,\n",
       " -1.1827952645171782,\n",
       " -1.1969030878961564,\n",
       " 1.1322778103399762,\n",
       " 1.2474193576181096]"
      ]
     },
     "execution_count": 22,
     "metadata": {},
     "output_type": "execute_result"
    }
   ],
   "source": [
    "list(skysim_cat['dec'].values)"
   ]
  },
  {
   "cell_type": "code",
   "execution_count": 25,
   "id": "79e368c8",
   "metadata": {},
   "outputs": [
    {
     "data": {
      "text/plain": [
       "<matplotlib.collections.PathCollection at 0x7f3e2f371e20>"
      ]
     },
     "execution_count": 25,
     "metadata": {},
     "output_type": "execute_result"
    },
    {
     "data": {
      "image/png": "[encoded data removed]",
      "text/plain": [
       "<Figure size 432x288 with 1 Axes>"
      ]
     },
     "metadata": {
      "needs_background": "light"
     },
     "output_type": "display_data"
    }
   ],
   "source": [
    "\n",
    "plt.scatter(list(skysim_cat['ra'].values), list(skysim_cat['dec'].values))"
   ]
  },
  {
   "cell_type": "markdown",
   "id": "602d7b3f",
   "metadata": {},
   "source": [
    "I prepared all inst files with \n",
    "\n",
    "python run_ps1_opd.py --instruments comCam lsstCam wfs --fields high med low Baade --positions focal intra extra \n",
    "\n",
    "which took the field positions from skySim, assuming the boresight = (0,0) deg \n",
    "\n",
    "\n",
    "I generated the OPD with \n",
    "\n",
    " ✅    python  /project/scichris/aos/AOS/run_ps1_phosim.py --opd  --instruments wfs --fields high med low Baade --positions focal extra intra --phosim_p 24  --cmd_file qckBkgndPert05_NCSA.cmd\n",
    "\n",
    " ✅    python  /project/scichris/aos/AOS/run_ps1_phosim.py --opd  --instruments wfs --fields high med low Baade --positions focal extra intra --phosim_p 24  --cmd_file qckBkgndPert00_NCSA.cmd\n",
    "    \n",
    " ✅    python  /project/scichris/aos/AOS/run_ps1_phosim.py --opd  --instruments wfs --fields high med low Baade --positions focal extra intra --phosim_p 24  --cmd_file noBkgndPert05_NCSA.cmd\n",
    "    \n",
    "    ...\n",
    "    \n",
    "    python  /project/scichris/aos/AOS/run_ps1_phosim.py --opd  --instruments wfs --fields high med low Baade --positions focal extra intra --phosim_p 24  --cmd_file noBkgndPert00_NCSA.cmd\n",
    "    "
   ]
  },
  {
   "cell_type": "markdown",
   "id": "85be12a7",
   "metadata": {},
   "source": [
    "Check the result \n"
   ]
  },
  {
   "cell_type": "code",
   "execution_count": 1,
   "id": "3a4f6c1c",
   "metadata": {},
   "outputs": [],
   "source": [
    "from astropy.io import fits\n",
    "import os \n",
    "import matplotlib.pyplot as plt\n",
    "import numpy as np\n",
    "from matplotlib import rcParams \n",
    "rcParams['ytick.labelsize'] = 15\n",
    "rcParams['xtick.labelsize'] = 15\n",
    "rcParams['axes.labelsize'] = 20\n",
    "rcParams['axes.linewidth'] = 2\n",
    "rcParams['font.size'] = 15\n",
    "rcParams['axes.titlesize'] = 18\n",
    "\n",
    "hdul = fits.open('/project/scichris/aos/AOS/DM-28360/wfs/high/focal/9020031/opd/opd_9020031_0.fits.gz')"
   ]
  },
  {
   "cell_type": "code",
   "execution_count": 5,
   "id": "07a148b0",
   "metadata": {},
   "outputs": [
    {
     "data": {
      "text/plain": [
       "<matplotlib.image.AxesImage at 0x7f3e4912f9a0>"
      ]
     },
     "execution_count": 5,
     "metadata": {},
     "output_type": "execute_result"
    },
    {
     "data": {
      "image/png": "[encoded data removed]",
      "text/plain": [
       "<Figure size 432x288 with 1 Axes>"
      ]
     },
     "metadata": {
      "needs_background": "light"
     },
     "output_type": "display_data"
    }
   ],
   "source": [
    "plt.imshow(hdul[0].data)"
   ]
  },
  {
   "cell_type": "markdown",
   "id": "abcd4f38",
   "metadata": {},
   "source": [
    "It's distorted, since this one used the following combination:"
   ]
  },
  {
   "cell_type": "code",
   "execution_count": 7,
   "id": "f0f33a55",
   "metadata": {},
   "outputs": [
    {
     "data": {
      "text/plain": [
       "\u001b[0;31mSignature:\u001b[0m \u001b[0mfunc\u001b[0m\u001b[0;34m.\u001b[0m\u001b[0minvert_obshistid\u001b[0m\u001b[0;34m(\u001b[0m\u001b[0mobshistid\u001b[0m\u001b[0;34m)\u001b[0m\u001b[0;34m\u001b[0m\u001b[0;34m\u001b[0m\u001b[0m\n",
       "\u001b[0;31mDocstring:\u001b[0m\n",
       "Given obshistid, invert the logic and find the \n",
       "instrument, field, position, cmd_file, run\n",
       "\n",
       "Parameters:\n",
       "-----------\n",
       "obshistid: str\n",
       "     The obs hist id, eg. \"9020031\"\n",
       "    \n",
       "Returns:\n",
       "--------\n",
       "inverted_dict:  dic\n",
       "     A dictionary containing keys that resolve the obshistid:\n",
       "     instrument, field, position, cmd, run\n",
       "\u001b[0;31mFile:\u001b[0m      ~/notebooks/run_ps1_functions.py\n",
       "\u001b[0;31mType:\u001b[0m      function\n"
      ]
     },
     "metadata": {},
     "output_type": "display_data"
    }
   ],
   "source": [
    "import run_ps1_functions as func\n",
    "import imp\n",
    "imp.reload(func)\n",
    "func.invert_obshistid?"
   ]
  },
  {
   "cell_type": "code",
   "execution_count": 8,
   "id": "d1b72cba",
   "metadata": {},
   "outputs": [
    {
     "data": {
      "text/plain": [
       "{'instrument': 'wfs',\n",
       " 'field': 'high',\n",
       " 'position': 'focal',\n",
       " 'cmd': 'qckBkgndPert05',\n",
       " 'run': 1}"
      ]
     },
     "execution_count": 8,
     "metadata": {},
     "output_type": "execute_result"
    }
   ],
   "source": [
    "func.invert_obshistid(\"9020031\")"
   ]
  },
  {
   "cell_type": "code",
   "execution_count": null,
   "id": "0a9198ea",
   "metadata": {},
   "outputs": [],
   "source": [
    "So from the obshistid we see that this OPD was created using large perturbations "
   ]
  },
  {
   "cell_type": "markdown",
   "id": "d11c48e7",
   "metadata": {},
   "source": [
    "This should be identical to eg. OPD for wfs for baade, extra, but with the same perturbations:"
   ]
  },
  {
   "cell_type": "code",
   "execution_count": 10,
   "id": "0096bd57",
   "metadata": {},
   "outputs": [
    {
     "data": {
      "text/plain": [
       "<matplotlib.image.AxesImage at 0x7f3e405a6ca0>"
      ]
     },
     "execution_count": 10,
     "metadata": {},
     "output_type": "execute_result"
    },
    {
     "data": {
      "image/png": "[encoded data removed]",
      "text/plain": [
       "<Figure size 432x288 with 1 Axes>"
      ]
     },
     "metadata": {
      "needs_background": "light"
     },
     "output_type": "display_data"
    }
   ],
   "source": [
    "hdul1 = fits.open('/project/scichris/aos/AOS/DM-28360/wfs/Baade/extra/9023131/opd/opd_9023131_0.fits.gz')\n",
    "plt.imshow(hdul1[0].data)"
   ]
  },
  {
   "cell_type": "code",
   "execution_count": 13,
   "id": "85b6cc5e",
   "metadata": {},
   "outputs": [
    {
     "data": {
      "text/plain": [
       "0.0"
      ]
     },
     "execution_count": 13,
     "metadata": {},
     "output_type": "execute_result"
    }
   ],
   "source": [
    "np.sum(hdul[0].data-hdul1[0].data)"
   ]
  },
  {
   "cell_type": "markdown",
   "id": "15240e12",
   "metadata": {},
   "source": [
    "They are indeed identical! "
   ]
  },
  {
   "cell_type": "markdown",
   "id": "c7e3709d",
   "metadata": {},
   "source": [
    "Also, compare the OPD for same pert with and without background - they should be identical since baqckgeound does not get evaluated at all ... "
   ]
  },
  {
   "cell_type": "code",
   "execution_count": 58,
   "id": "de841f17",
   "metadata": {},
   "outputs": [
    {
     "name": "stdout",
     "output_type": "stream",
     "text": [
      "opd_wfs_high_focal_9020031.inst\n"
     ]
    }
   ],
   "source": [
    "from astropy.io import fits\n",
    "import os \n",
    "import matplotlib.pyplot as plt\n",
    "import numpy as np\n",
    "from matplotlib import rcParams \n",
    "rcParams['ytick.labelsize'] = 15\n",
    "rcParams['xtick.labelsize'] = 15\n",
    "rcParams['axes.labelsize'] = 20\n",
    "rcParams['axes.linewidth'] = 2\n",
    "rcParams['font.size'] = 15\n",
    "rcParams['axes.titlesize'] = 18\n",
    "\n",
    "instrument = 'wfs'\n",
    "cmd_file = 'qckBkgndPert05_NCSA.cmd'\n",
    "run = 1 \n",
    "field = 'high'\n",
    "position ='focal'\n",
    "obshistid = func.calculate_obshistid(\n",
    "                        instrument, field, position, cmd_file, run\n",
    "                    )\n",
    "# inst_file = f'opd_{instrument}_{field}_{position}_{obshistid}.inst'\n",
    "# print(inst_file)\n",
    "\n",
    "hdul = fits.open(f'/project/scichris/aos/AOS/DM-28360/{instrument}/{field}/{position}/{obshistid}/opd/opd_{obshistid}_0.fits.gz')\n"
   ]
  },
  {
   "cell_type": "code",
   "execution_count": 59,
   "id": "1d36325f",
   "metadata": {},
   "outputs": [],
   "source": [
    "cmd_file = 'noBkgndPert05_NCSA.cmd'\n",
    "obshistid = func.calculate_obshistid(\n",
    "                        instrument, field, position, cmd_file, run\n",
    "                    )\n",
    "\n",
    "hdul1 = fits.open(f'/project/scichris/aos/AOS/DM-28360/{instrument}/{field}/{position}/{obshistid}/opd/opd_{obshistid}_0.fits.gz')\n"
   ]
  },
  {
   "cell_type": "code",
   "execution_count": 61,
   "id": "1572885c",
   "metadata": {},
   "outputs": [
    {
     "data": {
      "text/plain": [
       "<matplotlib.image.AxesImage at 0x7fa7cfce2100>"
      ]
     },
     "execution_count": 61,
     "metadata": {},
     "output_type": "execute_result"
    },
    {
     "data": {
      "image/png": "[encoded data removed]",
      "text/plain": [
       "<Figure size 432x288 with 1 Axes>"
      ]
     },
     "metadata": {
      "needs_background": "light"
     },
     "output_type": "display_data"
    }
   ],
   "source": [
    "plt.imshow(hdul[0].data)"
   ]
  },
  {
   "cell_type": "code",
   "execution_count": 62,
   "id": "6c3c0ae3",
   "metadata": {},
   "outputs": [
    {
     "data": {
      "text/plain": [
       "<matplotlib.image.AxesImage at 0x7fa7cfc35e20>"
      ]
     },
     "execution_count": 62,
     "metadata": {},
     "output_type": "execute_result"
    },
    {
     "data": {
      "image/png": "[encoded data removed]",
      "text/plain": [
       "<Figure size 432x288 with 1 Axes>"
      ]
     },
     "metadata": {
      "needs_background": "light"
     },
     "output_type": "display_data"
    }
   ],
   "source": [
    "plt.imshow(hdul1[0].data)"
   ]
  },
  {
   "cell_type": "code",
   "execution_count": 63,
   "id": "df0940a3",
   "metadata": {},
   "outputs": [
    {
     "data": {
      "text/plain": [
       "<matplotlib.image.AxesImage at 0x7fa7cfc13f70>"
      ]
     },
     "execution_count": 63,
     "metadata": {},
     "output_type": "execute_result"
    },
    {
     "data": {
      "image/png": "[encoded data removed]",
      "text/plain": [
       "<Figure size 432x288 with 1 Axes>"
      ]
     },
     "metadata": {
      "needs_background": "light"
     },
     "output_type": "display_data"
    }
   ],
   "source": [
    "plt.imshow(hdul[0].data-hdul1[0].data)"
   ]
  },
  {
   "cell_type": "markdown",
   "id": "d3b350ab",
   "metadata": {},
   "source": [
    "ok, for two different backgrounds but same perturbations these are identical , as expcted. "
   ]
  },
  {
   "cell_type": "markdown",
   "id": "fa9f5c7c",
   "metadata": {},
   "source": [
    "Would be the same to run one simulation of OPD and copy the files, but then obshistids would be different etc., so it's best (in my opinion) to just re-simulate the same OPD 12 times for a given {instrument,perturbation  combination}. It takes 80 sec per combination, so 12x80 = 960 sec = 15 mins for all corner sensors...."
   ]
  },
  {
   "cell_type": "code",
   "execution_count": null,
   "id": "d392ec14",
   "metadata": {},
   "outputs": [],
   "source": []
  },
  {
   "cell_type": "code",
   "execution_count": null,
   "id": "68c2e989",
   "metadata": {},
   "outputs": [],
   "source": []
  },
  {
   "cell_type": "markdown",
   "id": "0e70e976",
   "metadata": {},
   "source": [
    "NB: need to re-calculate that , i.e. need to get the center of each WFS sensor, instead of the middle of each sensor ... "
   ]
  },
  {
   "cell_type": "markdown",
   "id": "23b78c49",
   "metadata": {},
   "source": [
    "Read-in whatever  ra/dec was in each inst file, find the middle, and just re-save... \n",
    "\n"
   ]
  },
  {
   "cell_type": "code",
   "execution_count": 1,
   "id": "79043924",
   "metadata": {},
   "outputs": [
    {
     "name": "stdout",
     "output_type": "stream",
     "text": [
      "opd_wfs_high_focal_9020031.inst\n",
      "opd_wfs_high_intra_9020231.inst\n",
      "opd_wfs_high_extra_9020131.inst\n",
      "opd_wfs_med_focal_9021031.inst\n",
      "opd_wfs_med_intra_9021231.inst\n",
      "opd_wfs_med_extra_9021131.inst\n",
      "opd_wfs_low_focal_9022031.inst\n",
      "opd_wfs_low_intra_9022231.inst\n",
      "opd_wfs_low_extra_9022131.inst\n",
      "opd_wfs_Baade_focal_9023031.inst\n",
      "opd_wfs_Baade_intra_9023231.inst\n",
      "opd_wfs_Baade_extra_9023131.inst\n"
     ]
    }
   ],
   "source": [
    "import run_ps1_functions as func\n",
    "\n",
    "instrument = 'wfs'\n",
    "cmd_file = 'qckBkgndPert05_NCSA.cmd'\n",
    "run = 1 \n",
    "for field in ['high','med','low', 'Baade']:\n",
    "    for position in ['focal','intra', 'extra']:\n",
    "        \n",
    "        obshistid = func.calculate_obshistid(\n",
    "                        instrument, field, position, cmd_file, run\n",
    "                    )\n",
    "        inst_file = f'opd_{instrument}_{field}_{position}_{obshistid}.inst'\n",
    "        print(inst_file)\n",
    "\n",
    "        "
   ]
  },
  {
   "cell_type": "code",
   "execution_count": 2,
   "id": "03cebaf5",
   "metadata": {},
   "outputs": [],
   "source": [
    "import numpy as np\n",
    "import pandas as pd \n",
    "import os\n",
    "# show the input instance catalog made with sky sim \n",
    "root_dir = '/project/scichris/aos/AOS/DM-28360/'\n",
    "inst_path = os.path.join(root_dir, inst_file)\n",
    "# read in the input instance catalog \n",
    "cat = np.genfromtxt(inst_path,\n",
    "                        skip_header=15)\n",
    "\n",
    "cat_df = pd.DataFrame(cat[:,1:5], columns=['id', 'ra', 'dec', 'g'])\n",
    "\n",
    "import matplotlib.pyplot as plt\n",
    "\n",
    "from matplotlib import rcParams \n",
    "rcParams['ytick.labelsize'] = 15\n",
    "rcParams['xtick.labelsize'] = 15\n",
    "rcParams['axes.labelsize'] = 20\n",
    "rcParams['axes.linewidth'] = 2\n",
    "rcParams['font.size'] = 15\n",
    "rcParams['axes.titlesize'] = 18"
   ]
  },
  {
   "cell_type": "code",
   "execution_count": 3,
   "id": "61396ccf",
   "metadata": {},
   "outputs": [
    {
     "data": {
      "text/plain": [
       "array([[  0.        ,  -1.1830263 ,  -1.13227781, 500.        ],\n",
       "       [  1.        ,  -1.19718685,  -1.24741936, 500.        ],\n",
       "       [  2.        ,  -1.13251915,   1.18279526, 500.        ],\n",
       "       [  3.        ,  -1.24769163,   1.19690309, 500.        ],\n",
       "       [  4.        ,   1.13251915,  -1.18279526, 500.        ],\n",
       "       [  5.        ,   1.24769163,  -1.19690309, 500.        ],\n",
       "       [  6.        ,   1.1830263 ,   1.13227781, 500.        ],\n",
       "       [  7.        ,   1.19718685,   1.24741936, 500.        ]])"
      ]
     },
     "execution_count": 3,
     "metadata": {},
     "output_type": "execute_result"
    }
   ],
   "source": [
    "cat[:,1:5]"
   ]
  },
  {
   "cell_type": "code",
   "execution_count": 4,
   "id": "dd4798c0",
   "metadata": {},
   "outputs": [
    {
     "data": {
      "image/png": "[encoded data removed]",
      "text/plain": [
       "<Figure size 432x288 with 1 Axes>"
      ]
     },
     "metadata": {
      "needs_background": "light"
     },
     "output_type": "display_data"
    }
   ],
   "source": [
    "mean_x = []\n",
    "mean_y = []\n",
    "\n",
    "plt.scatter(cat_df['ra'], cat_df['dec'])\n",
    "\n",
    "for a in [(cat_df['ra']<0), (cat_df['ra']>0)]:\n",
    "    for b in [(cat_df['dec']<0), (cat_df['dec']>0)]: \n",
    "        m = a & b\n",
    "        plt.scatter(cat_df['ra'][m], cat_df['dec'][m])\n",
    "        x = cat_df['ra'][m].values\n",
    "        y = cat_df['dec'][m].values\n",
    "        plt.scatter(np.mean(x), np.mean(y))\n",
    "        mean_x.append(np.mean(x))\n",
    "        mean_y.append(np.mean(y))"
   ]
  },
  {
   "cell_type": "code",
   "execution_count": 5,
   "id": "896dc261",
   "metadata": {},
   "outputs": [
    {
     "data": {
      "text/plain": [
       "[-1.1901065744782784,\n",
       " -1.1901053902783758,\n",
       " 1.190105390278354,\n",
       " 1.190106574478269]"
      ]
     },
     "execution_count": 5,
     "metadata": {},
     "output_type": "execute_result"
    }
   ],
   "source": [
    "mean_x"
   ]
  },
  {
   "cell_type": "code",
   "execution_count": 6,
   "id": "2f333de7",
   "metadata": {},
   "outputs": [
    {
     "data": {
      "text/plain": [
       "[-1.1898485839790358,\n",
       " 1.1898491762066747,\n",
       " -1.1898491762066672,\n",
       " 1.189848583979043]"
      ]
     },
     "execution_count": 6,
     "metadata": {},
     "output_type": "execute_result"
    }
   ],
   "source": [
    "mean_y"
   ]
  },
  {
   "cell_type": "code",
   "execution_count": 7,
   "id": "23621ad5",
   "metadata": {},
   "outputs": [
    {
     "data": {
      "text/plain": [
       "<matplotlib.collections.PathCollection at 0x7fa7deb53e80>"
      ]
     },
     "execution_count": 7,
     "metadata": {},
     "output_type": "execute_result"
    },
    {
     "data": {
      "image/png": "[encoded data removed]",
      "text/plain": [
       "<Figure size 432x288 with 1 Axes>"
      ]
     },
     "metadata": {
      "needs_background": "light"
     },
     "output_type": "display_data"
    }
   ],
   "source": [
    "plt.scatter(mean_x, mean_y)"
   ]
  },
  {
   "cell_type": "markdown",
   "id": "1d6dda92",
   "metadata": {},
   "source": [
    "Save the mean-field position for WFS: "
   ]
  },
  {
   "cell_type": "code",
   "execution_count": 9,
   "id": "8e5a9189",
   "metadata": {},
   "outputs": [],
   "source": [
    "from astropy.table import Table\n",
    "\n",
    "coords = Table(data=[mean_x, mean_y], \n",
    "                 names=['ra','dec', ]  )\n",
    "        \n",
    " \n",
    "    \n",
    "# add a column with object id \n",
    "coords['objid'] = np.arange(len(coords))\n",
    "\n",
    "panda_cat = coords.to_pandas()\n",
    "\n",
    "raField = 0\n",
    "decField = 0\n",
    "exposure=15\n",
    "\n"
   ]
  },
  {
   "cell_type": "code",
   "execution_count": 12,
   "id": "95f37047",
   "metadata": {},
   "outputs": [
    {
     "data": {
      "text/html": [
       "<div>\n",
       "<style scoped>\n",
       "    .dataframe tbody tr th:only-of-type {\n",
       "        vertical-align: middle;\n",
       "    }\n",
       "\n",
       "    .dataframe tbody tr th {\n",
       "        vertical-align: top;\n",
       "    }\n",
       "\n",
       "    .dataframe thead th {\n",
       "        text-align: right;\n",
       "    }\n",
       "</style>\n",
       "<table border=\"1\" class=\"dataframe\">\n",
       "  <thead>\n",
       "    <tr style=\"text-align: right;\">\n",
       "      <th></th>\n",
       "      <th>ra</th>\n",
       "      <th>dec</th>\n",
       "      <th>objid</th>\n",
       "    </tr>\n",
       "  </thead>\n",
       "  <tbody>\n",
       "    <tr>\n",
       "      <th>0</th>\n",
       "      <td>-1.190107</td>\n",
       "      <td>-1.189849</td>\n",
       "      <td>0</td>\n",
       "    </tr>\n",
       "    <tr>\n",
       "      <th>1</th>\n",
       "      <td>-1.190105</td>\n",
       "      <td>1.189849</td>\n",
       "      <td>1</td>\n",
       "    </tr>\n",
       "    <tr>\n",
       "      <th>2</th>\n",
       "      <td>1.190105</td>\n",
       "      <td>-1.189849</td>\n",
       "      <td>2</td>\n",
       "    </tr>\n",
       "    <tr>\n",
       "      <th>3</th>\n",
       "      <td>1.190107</td>\n",
       "      <td>1.189849</td>\n",
       "      <td>3</td>\n",
       "    </tr>\n",
       "  </tbody>\n",
       "</table>\n",
       "</div>"
      ],
      "text/plain": [
       "         ra       dec  objid\n",
       "0 -1.190107 -1.189849      0\n",
       "1 -1.190105  1.189849      1\n",
       "2  1.190105 -1.189849      2\n",
       "3  1.190107  1.189849      3"
      ]
     },
     "execution_count": 12,
     "metadata": {},
     "output_type": "execute_result"
    }
   ],
   "source": [
    "panda_cat"
   ]
  },
  {
   "cell_type": "code",
   "execution_count": 52,
   "id": "b29f0d05",
   "metadata": {},
   "outputs": [
    {
     "data": {
      "text/plain": [
       "'extra'"
      ]
     },
     "execution_count": 52,
     "metadata": {},
     "output_type": "execute_result"
    }
   ],
   "source": [
    "func.write_opd_inst_file(panda_cat, raField, decField,\n",
    "                    phosim_file=opd_fpath, passband=\"r\", out_dir=\"./\", camconfig=3,\n",
    "                    exposure=exposure, obsid=obshistid, position=position, mjd=59580,\n",
    "                    magcol=None)"
   ]
  },
  {
   "cell_type": "markdown",
   "id": "7b3c6549",
   "metadata": {},
   "source": [
    "Update all inst files"
   ]
  },
  {
   "cell_type": "markdown",
   "id": "7a0b33c1",
   "metadata": {},
   "source": [
    "Below I take the four field positions calculated above, and save them. I overwrite the files since the names are significant . Even though these are essentially the same OPD files, I make all these separate so that they have different obsHistId."
   ]
  },
  {
   "cell_type": "code",
   "execution_count": 17,
   "id": "b707abe4",
   "metadata": {},
   "outputs": [
    {
     "name": "stdout",
     "output_type": "stream",
     "text": [
      "opd_wfs_high_focal_9020021.inst\n",
      "Saved as  /project/scichris/aos/AOS/DM-28360/opd_wfs_high_focal_9020021.inst\n",
      "opd_wfs_high_intra_9020221.inst\n",
      "Saved as  /project/scichris/aos/AOS/DM-28360/opd_wfs_high_intra_9020221.inst\n",
      "opd_wfs_high_extra_9020121.inst\n",
      "Saved as  /project/scichris/aos/AOS/DM-28360/opd_wfs_high_extra_9020121.inst\n",
      "opd_wfs_med_focal_9021021.inst\n",
      "Saved as  /project/scichris/aos/AOS/DM-28360/opd_wfs_med_focal_9021021.inst\n",
      "opd_wfs_med_intra_9021221.inst\n",
      "Saved as  /project/scichris/aos/AOS/DM-28360/opd_wfs_med_intra_9021221.inst\n",
      "opd_wfs_med_extra_9021121.inst\n",
      "Saved as  /project/scichris/aos/AOS/DM-28360/opd_wfs_med_extra_9021121.inst\n",
      "opd_wfs_low_focal_9022021.inst\n",
      "Saved as  /project/scichris/aos/AOS/DM-28360/opd_wfs_low_focal_9022021.inst\n",
      "opd_wfs_low_intra_9022221.inst\n",
      "Saved as  /project/scichris/aos/AOS/DM-28360/opd_wfs_low_intra_9022221.inst\n",
      "opd_wfs_low_extra_9022121.inst\n",
      "Saved as  /project/scichris/aos/AOS/DM-28360/opd_wfs_low_extra_9022121.inst\n",
      "opd_wfs_Baade_focal_9023021.inst\n",
      "Saved as  /project/scichris/aos/AOS/DM-28360/opd_wfs_Baade_focal_9023021.inst\n",
      "opd_wfs_Baade_intra_9023221.inst\n",
      "Saved as  /project/scichris/aos/AOS/DM-28360/opd_wfs_Baade_intra_9023221.inst\n",
      "opd_wfs_Baade_extra_9023121.inst\n",
      "Saved as  /project/scichris/aos/AOS/DM-28360/opd_wfs_Baade_extra_9023121.inst\n"
     ]
    }
   ],
   "source": [
    "import run_ps1_functions as func\n",
    "import numpy as np\n",
    "import pandas as pd \n",
    "import os\n",
    "from astropy.table import Table\n",
    "import run_ps1_opd as opd \n",
    "\n",
    "root_dir = '/project/scichris/aos/AOS/DM-28360/'\n",
    "instrument = 'wfs'\n",
    "\n",
    "run = 1 \n",
    "\n",
    "# ra,dec are irrelevant for OPD ... \n",
    "raField = 0\n",
    "decField = 0\n",
    "exposure=15\n",
    "\n",
    "for bkgnd in ['qck','no']:\n",
    "    for pert in [0,5]:\n",
    "        cmd_file = f'{bkgnd}BkgndPert0{pert}_NCSA.cmd'\n",
    "        for field in ['high','med','low', 'Baade']:\n",
    "            for position in ['focal','intra', 'extra']:\n",
    "\n",
    "                obshistid = func.calculate_obshistid(\n",
    "                                instrument, field, position, cmd_file, run\n",
    "                            )\n",
    "                inst_file = f'opd_{instrument}_{field}_{position}_{obshistid}.inst'\n",
    "                print(inst_file)\n",
    "\n",
    "\n",
    "                # show the input instance catalog made with sky sim \n",
    "                inst_path = os.path.join(root_dir, inst_file)\n",
    "\n",
    "                opd.write_opd_inst_file(panda_cat, raField, decField,\n",
    "                                        inst_path, passband=\"r\", \n",
    "                                         camconfig=3, exposure=exposure, \n",
    "                                         obsid=obshistid, \n",
    "                                         position=position, mjd=59580,\n",
    "                                         magcol=None)\n",
    "\n"
   ]
  },
  {
   "cell_type": "markdown",
   "id": "9b586215",
   "metadata": {},
   "source": [
    "I also save a template wfs as `opd_wfs.inst` : \n",
    "    \n",
    "    Opsim_obshistid 9000000\n",
    "    Opsim_filter 2\n",
    "    mjd 59580\n",
    "    SIM_SEED 1000\n",
    "    rightascension 0\n",
    "    declination 0\n",
    "    rotskypos 0.0\n",
    "    rottelpos 0\n",
    "    SIM_VISTIME 15\n",
    "    SIM_NSNAP 1\n",
    "    moonphase 0.0\n",
    "    moonalt -90\n",
    "    sunalt -90\n",
    "    Opsim_rawseeing 0.69\n",
    "    camconfig 3\n",
    "    opd 0 -1.1901065744782784 -1.1898485839790358 500 \n",
    "    opd 1 -1.1901053902783758 1.1898491762066747 500 \n",
    "    opd 2 1.190105390278354 -1.1898491762066672 500 \n",
    "    opd 3 1.190106574478269 1.189848583979043 500 \n",
    "    \n",
    "run that once for each `cmd` file: \n",
    "    \n",
    "    \n",
    "    \n"
   ]
  },
  {
   "cell_type": "code",
   "execution_count": 54,
   "id": "709750e2",
   "metadata": {},
   "outputs": [
    {
     "name": "stdout",
     "output_type": "stream",
     "text": [
      "\n",
      "\n",
      "python /project/scichris/aos/phosim_syseng4/phosim.py /project/scichris/aos/AOS/DM-28360/opd_wfs.inst -i lsst -e 1     -c /project/scichris/aos/AOS/DM-28360/noBkgndPert00_NCSA.cmd -w /project/scichris/aos/AOS/DM-28360/wfs/opd/noBkgndPert00 -p 24  -o /project/scichris/aos/AOS/DM-28360/wfs/opd/noBkgndPert00 > /project/scichris/aos/AOS/DM-28360/wfs/opd/noBkgndPert00/opdPhoSim.log 2>&1 \n",
      "\n",
      "\n",
      "python /project/scichris/aos/phosim_syseng4/phosim.py /project/scichris/aos/AOS/DM-28360/opd_wfs.inst -i lsst -e 1     -c /project/scichris/aos/AOS/DM-28360/noBkgndPert05_NCSA.cmd -w /project/scichris/aos/AOS/DM-28360/wfs/opd/noBkgndPert05 -p 24  -o /project/scichris/aos/AOS/DM-28360/wfs/opd/noBkgndPert05 > /project/scichris/aos/AOS/DM-28360/wfs/opd/noBkgndPert05/opdPhoSim.log 2>&1 \n"
     ]
    }
   ],
   "source": [
    "\n",
    "\n",
    "bkgnd= 'no'\n",
    "for pert in [0,5]:\n",
    "    cmd_file = f'{bkgnd}BkgndPert0{pert}_NCSA.cmd'\n",
    "    phosim_path = '/project/scichris/aos/phosim_syseng4/phosim.py'\n",
    "    inst_file_path='/project/scichris/aos/AOS/DM-28360/opd_wfs.inst'\n",
    "    instr = 'lsst'\n",
    "    cmd_file = f'{bkgnd}BkgndPert0{pert}_NCSA.cmd'\n",
    "    cmd_file_path = os.path.join('/project/scichris/aos/AOS/DM-28360/', cmd_file)\n",
    "    out_dir = f'/project/scichris/aos/AOS/DM-28360/wfs/opd/{cmd_file[:-len(\"_NCSA.cmd\")]}'\n",
    "    if not os.path.exists(out_dir):\n",
    "        os.makedirs(out_dir)\n",
    "\n",
    "    phosim_p = 24 \n",
    "    phosim_log_path = os.path.join(out_dir,'opdPhoSim.log')\n",
    "\n",
    "    command = f\"python {phosim_path} {inst_file_path} -i {instr} -e 1 \\\n",
    "    -c {cmd_file_path} -w {out_dir} -p {phosim_p}  -o {out_dir} > {phosim_log_path} 2>&1 \"\n",
    "    print('\\n')\n",
    "    print(command)"
   ]
  },
  {
   "cell_type": "markdown",
   "id": "5b707aa3",
   "metadata": {},
   "source": [
    "Inspect the results: two distinct OPDs for WFS"
   ]
  },
  {
   "cell_type": "code",
   "execution_count": 1,
   "id": "8a806a99",
   "metadata": {},
   "outputs": [],
   "source": [
    "from astropy.io import fits\n"
   ]
  },
  {
   "cell_type": "code",
   "execution_count": null,
   "id": "0d1ce162",
   "metadata": {},
   "outputs": [],
   "source": [
    "# small Perturbatins\n",
    "hdul = fits.open('/project/scichris/aos/AOS/DM-28360/wfs/opd/Pert00/opd_9000000_0.fits.gz')\n",
    "import matplotlib.pyplot as plt \n",
    "plt.imshow(hdul[0].data)"
   ]
  },
  {
   "cell_type": "code",
   "execution_count": 3,
   "id": "2621b488",
   "metadata": {},
   "outputs": [
    {
     "data": {
      "text/plain": [
       "<matplotlib.image.AxesImage at 0x7f4d018f7580>"
      ]
     },
     "execution_count": 3,
     "metadata": {},
     "output_type": "execute_result"
    },
    {
     "data": {
      "image/png": "[encoded data removed]",
      "text/plain": [
       "<Figure size 432x288 with 1 Axes>"
      ]
     },
     "metadata": {
      "needs_background": "light"
     },
     "output_type": "display_data"
    }
   ],
   "source": [
    "# large Perturbatins\n",
    "hdul = fits.open('/project/scichris/aos/AOS/DM-28360/wfs/opd/Pert05/opd_9000000_0.fits.gz')\n",
    "import matplotlib.pyplot as plt \n",
    "plt.imshow(hdul[0].data)"
   ]
  },
  {
   "cell_type": "markdown",
   "id": "aac11efa",
   "metadata": {},
   "source": [
    "OPD got evaluated \n",
    "for Pert00 and Pert05, and for each field (high,med,low..), position (focal,defocal), background (qck,no) , it's all the same  - there are only two distinct OPDs for each instrument - one for Pert00 , the other for Pert05. "
   ]
  },
  {
   "cell_type": "markdown",
   "id": "806ff480",
   "metadata": {},
   "source": [
    "Use `focalplanelayout` with larger Euler angle  for SW0: any changes?\n",
    "\n",
    "    ssh lsst-devl02\n",
    "    screen -x aos\n",
    "    \n",
    "    cd /project/scichris/aos/AOS/DM-28360/wfs/opd/\n",
    "    mkdir Pert00_SW0_Euler\n",
    "    python /project/scichris/aos/phosim_syseng4/phosim.py /project/scichris/aos/AOS/DM-28360/opd_wfs.inst -i lsst -e 1     -c /project/scichris/aos/AOS/DM-28360/noBkgndPert00_NCSA.cmd -w /project/scichris/aos/AOS/DM-28360/wfs/opd/Pert00_SW0_Euler -p 24  -o /project/scichris/aos/AOS/DM-28360/wfs/opd/Pert00_SW0_Euler > /project/scichris/aos/AOS/DM-28360/wfs/opd/Pert00_SW0_Euler/opdPhoSim.log 2>&1 \n",
    "    \n",
    "    "
   ]
  },
  {
   "cell_type": "code",
   "execution_count": 4,
   "id": "82ba013a",
   "metadata": {},
   "outputs": [
    {
     "data": {
      "text/plain": [
       "<matplotlib.image.AxesImage at 0x7f3b303edfd0>"
      ]
     },
     "execution_count": 4,
     "metadata": {},
     "output_type": "execute_result"
    },
    {
     "data": {
      "image/png": "[encoded data removed]",
      "text/plain": [
       "<Figure size 432x288 with 1 Axes>"
      ]
     },
     "metadata": {
      "needs_background": "light"
     },
     "output_type": "display_data"
    }
   ],
   "source": [
    "# small pert, before updates\n",
    "from astropy.io import fits\n",
    "hdul = fits.open('/project/scichris/aos/AOS/DM-28360/wfs/opd/Pert00/opd_9000000_0.fits.gz')\n",
    "import matplotlib.pyplot as plt \n",
    "plt.imshow(hdul[0].data)"
   ]
  },
  {
   "cell_type": "code",
   "execution_count": 6,
   "id": "f3aebee1",
   "metadata": {},
   "outputs": [
    {
     "data": {
      "text/plain": [
       "<matplotlib.image.AxesImage at 0x7f3b3033ccd0>"
      ]
     },
     "execution_count": 6,
     "metadata": {},
     "output_type": "execute_result"
    },
    {
     "data": {
      "image/png": "[encoded data removed]",
      "text/plain": [
       "<Figure size 432x288 with 1 Axes>"
      ]
     },
     "metadata": {
      "needs_background": "light"
     },
     "output_type": "display_data"
    }
   ],
   "source": [
    "# small pert, after updates \n",
    "from astropy.io import fits\n",
    "hdul_ = fits.open('/project/scichris/aos/AOS/DM-28360/wfs/opd/Pert00_SW0_Euler/opd_9000000_0.fits.gz')\n",
    "import matplotlib.pyplot as plt \n",
    "plt.imshow(hdul[0].data)"
   ]
  },
  {
   "cell_type": "code",
   "execution_count": 7,
   "id": "c74f7468",
   "metadata": {},
   "outputs": [
    {
     "data": {
      "text/plain": [
       "<matplotlib.image.AxesImage at 0x7f3b30320d00>"
      ]
     },
     "execution_count": 7,
     "metadata": {},
     "output_type": "execute_result"
    },
    {
     "data": {
      "image/png": "[encoded data removed]",
      "text/plain": [
       "<Figure size 432x288 with 1 Axes>"
      ]
     },
     "metadata": {
      "needs_background": "light"
     },
     "output_type": "display_data"
    }
   ],
   "source": [
    "plt.imshow(hdul[0].data-hdul_[0].data)"
   ]
  },
  {
   "cell_type": "markdown",
   "id": "23527fe2",
   "metadata": {},
   "source": [
    "ok, so they are indeed identical (I wouldn't have thought they would change, since I'm rotating the detector, whereas OPD doesn't really care about the detector, but about the mirror perturbationxz ... )"
   ]
  },
  {
   "cell_type": "code",
   "execution_count": null,
   "id": "23d8cee1",
   "metadata": {},
   "outputs": [],
   "source": []
  },
  {
   "cell_type": "markdown",
   "id": "39bb440e",
   "metadata": {},
   "source": [
    "## Calculate OPD for lsstCam"
   ]
  },
  {
   "cell_type": "markdown",
   "id": "97b9fbb6",
   "metadata": {},
   "source": [
    "For lsstCam, we calculate OPD at the center of each CCD. To again make the process quicker, I just take one of each. I make sure that for the corner sensors the OPD is calculated at the center of the combined half-chip\n",
    "\n"
   ]
  },
  {
   "cell_type": "code",
   "execution_count": 46,
   "id": "fba28b2e",
   "metadata": {},
   "outputs": [
    {
     "name": "stdout",
     "output_type": "stream",
     "text": [
      "R01_S00\n",
      "R01_S01\n",
      "R01_S02\n",
      "R01_S10\n",
      "R01_S11\n",
      "R01_S12\n",
      "R01_S20\n",
      "R01_S21\n",
      "R01_S22\n",
      "R02_S00\n",
      "R02_S01\n",
      "R02_S02\n",
      "R02_S10\n",
      "R02_S11\n",
      "R02_S12\n",
      "R02_S20\n",
      "R02_S21\n",
      "R02_S22\n",
      "R03_S00\n",
      "R03_S01\n",
      "R03_S02\n",
      "R03_S10\n",
      "R03_S11\n",
      "R03_S12\n",
      "R03_S20\n",
      "R03_S21\n",
      "R03_S22\n",
      "R10_S00\n",
      "R10_S01\n",
      "R10_S02\n",
      "R10_S10\n",
      "R10_S11\n",
      "R10_S12\n",
      "R10_S20\n",
      "R10_S21\n",
      "R10_S22\n",
      "R11_S00\n",
      "R11_S01\n",
      "R11_S02\n",
      "R11_S10\n",
      "R11_S11\n",
      "R11_S12\n",
      "R11_S20\n",
      "R11_S21\n",
      "R11_S22\n",
      "R12_S00\n",
      "R12_S01\n",
      "R12_S02\n",
      "R12_S10\n",
      "R12_S11\n",
      "R12_S12\n",
      "R12_S20\n",
      "R12_S21\n",
      "R12_S22\n",
      "R13_S00\n",
      "R13_S01\n",
      "R13_S02\n",
      "R13_S10\n",
      "R13_S11\n",
      "R13_S12\n",
      "R13_S20\n",
      "R13_S21\n",
      "R13_S22\n",
      "R14_S00\n",
      "R14_S01\n",
      "R14_S02\n",
      "R14_S10\n",
      "R14_S11\n",
      "R14_S12\n",
      "R14_S20\n",
      "R14_S21\n",
      "R14_S22\n",
      "R20_S00\n",
      "R20_S01\n",
      "R20_S02\n",
      "R20_S10\n",
      "R20_S11\n",
      "R20_S12\n",
      "R20_S20\n",
      "R20_S21\n",
      "R20_S22\n",
      "R21_S00\n",
      "R21_S01\n",
      "R21_S02\n",
      "R21_S10\n",
      "R21_S11\n",
      "R21_S12\n",
      "R21_S20\n",
      "R21_S21\n",
      "R21_S22\n",
      "R22_S00\n",
      "R22_S01\n",
      "R22_S02\n",
      "R22_S10\n",
      "R22_S11\n",
      "R22_S12\n",
      "R22_S20\n",
      "R22_S21\n",
      "R22_S22\n",
      "R23_S00\n",
      "R23_S01\n",
      "R23_S02\n",
      "R23_S10\n",
      "R23_S11\n",
      "R23_S12\n",
      "R23_S20\n",
      "R23_S21\n",
      "R23_S22\n",
      "R24_S00\n",
      "R24_S01\n",
      "R24_S02\n",
      "R24_S10\n",
      "R24_S11\n",
      "R24_S12\n",
      "R24_S20\n",
      "R24_S21\n",
      "R24_S22\n",
      "R30_S00\n",
      "R30_S01\n",
      "R30_S02\n",
      "R30_S10\n",
      "R30_S11\n",
      "R30_S12\n",
      "R30_S20\n",
      "R30_S21\n",
      "R30_S22\n",
      "R31_S00\n",
      "R31_S01\n",
      "R31_S02\n",
      "R31_S10\n",
      "R31_S11\n",
      "R31_S12\n",
      "R31_S20\n",
      "R31_S21\n",
      "R31_S22\n",
      "R32_S00\n",
      "R32_S01\n",
      "R32_S02\n",
      "R32_S10\n",
      "R32_S11\n",
      "R32_S12\n",
      "R32_S20\n",
      "R32_S21\n",
      "R32_S22\n",
      "R33_S00\n",
      "R33_S01\n",
      "R33_S02\n",
      "R33_S10\n",
      "R33_S11\n",
      "R33_S12\n",
      "R33_S20\n",
      "R33_S21\n",
      "R33_S22\n",
      "R34_S00\n",
      "R34_S01\n",
      "R34_S02\n",
      "R34_S10\n",
      "R34_S11\n",
      "R34_S12\n",
      "R34_S20\n",
      "R34_S21\n",
      "R34_S22\n",
      "R41_S00\n",
      "R41_S01\n",
      "R41_S02\n",
      "R41_S10\n",
      "R41_S11\n",
      "R41_S12\n",
      "R41_S20\n",
      "R41_S21\n",
      "R41_S22\n",
      "R42_S00\n",
      "R42_S01\n",
      "R42_S02\n",
      "R42_S10\n",
      "R42_S11\n",
      "R42_S12\n",
      "R42_S20\n",
      "R42_S21\n",
      "R42_S22\n",
      "R43_S00\n",
      "R43_S01\n",
      "R43_S02\n",
      "R43_S10\n",
      "R43_S11\n",
      "R43_S12\n",
      "R43_S20\n",
      "R43_S21\n",
      "R43_S22\n",
      "R00_SG0\n",
      "R00_SG1\n",
      "R00_SW0\n",
      "R00_SW1\n",
      "R04_SG0\n",
      "R04_SG1\n",
      "R04_SW0\n",
      "R04_SW1\n",
      "R40_SG0\n",
      "R40_SG1\n",
      "R40_SW0\n",
      "R40_SW1\n",
      "R44_SG0\n",
      "R44_SG1\n",
      "R44_SW0\n",
      "R44_SW1\n"
     ]
    }
   ],
   "source": [
    "from lsst.obs.lsst import LsstCam, LsstComCam\n",
    "camera = LsstCam().getCamera()\n",
    "\n",
    "sensorNames = []\n",
    "xCenter, yCenter = [], []\n",
    "for detector in camera:\n",
    "    name = detector.getName()\n",
    "    #if 'SW' not in name:\n",
    "    #    continue\n",
    "    print(detector.getName())\n",
    "        \n",
    "#         bbox = detector.getBBox()\n",
    "#         xCen, yCen = bbox.centerX, bbox.centerY\n",
    "#         xCenter.append(xCen)\n",
    "#         yCenter.append(yCen)\n",
    "#         sensorNames.append(detector.getName())\n",
    "        "
   ]
  },
  {
   "cell_type": "markdown",
   "id": "7761ffc3",
   "metadata": {},
   "source": [
    "Just get a ready-made opd inst file, plot it, remove the last few lines. This is because patches to skysim added  an unwanted 90 deg rotation...m"
   ]
  },
  {
   "cell_type": "code",
   "execution_count": 39,
   "id": "47cbe820",
   "metadata": {},
   "outputs": [],
   "source": [
    "import run_ps1_functions as func\n",
    "import imp\n",
    "imp.reload(func)\n",
    "\n",
    "x_px, y_px  = func.pixel_letter_F(xmin=1500,ymin=1000,yspacing=300, height=2200 )\n",
    "\n",
    "ra,dec,xPxList, yPxList = func.ccd_xy_to_radec(x_px=x_px, y_px=y_px, boresight_ra=0, \n",
    "                                               boresight_dec=0, rotSkyPos=0,\n",
    "                     sensorNameList = ['R22_S11'])\n",
    "\n"
   ]
  },
  {
   "cell_type": "code",
   "execution_count": 42,
   "id": "1dee92e9",
   "metadata": {},
   "outputs": [
    {
     "name": "stdout",
     "output_type": "stream",
     "text": [
      "opd_lsstCam_high_focal_9010031.inst\n"
     ]
    }
   ],
   "source": [
    "import run_ps1_functions as func\n",
    "\n",
    "instrument = 'lsstCam'\n",
    "cmd_file = 'qckBkgndPert05_NCSA.cmd'\n",
    "run = 1 \n",
    "field = 'high'\n",
    "position='focal'\n",
    "\n",
    " \n",
    "obshistid = func.calculate_obshistid(\n",
    "            instrument, field, position, cmd_file, run\n",
    "        )\n",
    "inst_file = f'opd_{instrument}_{field}_{position}_{obshistid}.inst'\n",
    "print(inst_file)\n",
    "\n",
    "import numpy as np\n",
    "import pandas as pd \n",
    "import os\n",
    "# show the input instance catalog made with sky sim \n",
    "root_dir = '/project/scichris/aos/AOS/DM-28360/'\n",
    "inst_path = os.path.join(root_dir, inst_file)\n",
    "\n",
    "# read in the input instance catalog \n",
    "cat = np.genfromtxt(inst_path,\n",
    "                        skip_header=15)\n",
    "\n",
    "cat_df = pd.DataFrame(cat[:,1:5], columns=['id', 'ra', 'dec', 'g'])\n",
    "\n",
    "import matplotlib.pyplot as plt\n",
    "\n",
    "from matplotlib import rcParams \n",
    "rcParams['ytick.labelsize'] = 15\n",
    "rcParams['xtick.labelsize'] = 15\n",
    "rcParams['axes.labelsize'] = 20\n",
    "rcParams['axes.linewidth'] = 2\n",
    "rcParams['font.size'] = 15\n",
    "rcParams['axes.titlesize'] = 18  "
   ]
  },
  {
   "cell_type": "code",
   "execution_count": 49,
   "id": "b2b375e2",
   "metadata": {},
   "outputs": [
    {
     "data": {
      "text/plain": [
       "'/project/scichris/aos/AOS/DM-28360/opd_lsstCam_high_focal_9010031.inst'"
      ]
     },
     "execution_count": 49,
     "metadata": {},
     "output_type": "execute_result"
    }
   ],
   "source": [
    "inst_path"
   ]
  },
  {
   "cell_type": "code",
   "execution_count": 43,
   "id": "9bf70d96",
   "metadata": {},
   "outputs": [
    {
     "data": {
      "text/plain": [
       "<matplotlib.collections.PathCollection at 0x7fa7cfe8e220>"
      ]
     },
     "execution_count": 43,
     "metadata": {},
     "output_type": "execute_result"
    },
    {
     "data": {
      "image/png": "[encoded data removed]",
      "text/plain": [
       "<Figure size 432x288 with 1 Axes>"
      ]
     },
     "metadata": {
      "needs_background": "light"
     },
     "output_type": "display_data"
    }
   ],
   "source": [
    "\n",
    "plt.scatter(cat_df['ra'], cat_df['dec'])\n",
    "\n"
   ]
  },
  {
   "cell_type": "code",
   "execution_count": 44,
   "id": "9ce30a87",
   "metadata": {},
   "outputs": [
    {
     "data": {
      "text/plain": [
       "0      0.942248\n",
       "1      0.707575\n",
       "2      0.472878\n",
       "3      0.942248\n",
       "4      0.707575\n",
       "         ...   \n",
       "200    1.197187\n",
       "201   -1.180888\n",
       "202   -1.435089\n",
       "203   -1.132519\n",
       "204   -1.247692\n",
       "Name: ra, Length: 205, dtype: float64"
      ]
     },
     "execution_count": 44,
     "metadata": {},
     "output_type": "execute_result"
    }
   ],
   "source": [
    "cat_df['ra']"
   ]
  },
  {
   "cell_type": "markdown",
   "id": "62385567",
   "metadata": {},
   "source": [
    "The last sixteen entries should be corner sensors (8) and guiders (8). Make sure: "
   ]
  },
  {
   "cell_type": "code",
   "execution_count": 48,
   "id": "d90313e3",
   "metadata": {},
   "outputs": [
    {
     "data": {
      "text/plain": [
       "<matplotlib.collections.PathCollection at 0x7fa7cfdbaa00>"
      ]
     },
     "execution_count": 48,
     "metadata": {},
     "output_type": "execute_result"
    },
    {
     "data": {
      "image/png": "[encoded data removed]",
      "text/plain": [
       "<Figure size 432x288 with 1 Axes>"
      ]
     },
     "metadata": {
      "needs_background": "light"
     },
     "output_type": "display_data"
    }
   ],
   "source": [
    "plt.scatter(cat_df['ra'], cat_df['dec'])\n",
    "\n",
    "plt.scatter(cat_df['ra'][-16:], cat_df['dec'][-16:])\n"
   ]
  },
  {
   "cell_type": "code",
   "execution_count": 51,
   "id": "3c2f3e92",
   "metadata": {},
   "outputs": [
    {
     "data": {
      "text/plain": [
       "189    189.0\n",
       "190    190.0\n",
       "191    191.0\n",
       "192    192.0\n",
       "193    193.0\n",
       "194    194.0\n",
       "195    195.0\n",
       "196    196.0\n",
       "197    197.0\n",
       "198    198.0\n",
       "199    199.0\n",
       "200    200.0\n",
       "201    201.0\n",
       "202    202.0\n",
       "203    203.0\n",
       "204    204.0\n",
       "Name: id, dtype: float64"
      ]
     },
     "execution_count": 51,
     "metadata": {},
     "output_type": "execute_result"
    }
   ],
   "source": [
    "cat_df['id'][-16:]"
   ]
  },
  {
   "cell_type": "markdown",
   "id": "5337a749",
   "metadata": {},
   "source": [
    "ok, so remove those, and substitute the 4 mean-field corner sensor locations, save as a new inst file, common to all lsstCam:\n",
    "    \n",
    "    cd /project/scichris/aos/AOS/DM-28360/\n",
    "    cp opd_lsstCam_high_focal_9010031.inst opd_lsstCam.inst\n",
    "    \n",
    "    # edit the obshistid, remove the last sixteen entries, add manually four wfs locations\n",
    "    nano opd_lsstCam.inst\n",
    "    \n",
    "  Plot the result:"
   ]
  },
  {
   "cell_type": "code",
   "execution_count": 53,
   "id": "98857af2",
   "metadata": {},
   "outputs": [
    {
     "data": {
      "text/plain": [
       "<matplotlib.collections.PathCollection at 0x7fa7cfcf8190>"
      ]
     },
     "execution_count": 53,
     "metadata": {},
     "output_type": "execute_result"
    },
    {
     "data": {
      "image/png": "[encoded data removed]",
      "text/plain": [
       "<Figure size 432x288 with 1 Axes>"
      ]
     },
     "metadata": {
      "needs_background": "light"
     },
     "output_type": "display_data"
    }
   ],
   "source": [
    "inst_file = 'opd_lsstCam.inst'\n",
    "root_dir = '/project/scichris/aos/AOS/DM-28360/'\n",
    "inst_path = os.path.join(root_dir, inst_file)\n",
    "\n",
    "# read in the input instance catalog \n",
    "cat = np.genfromtxt(inst_path,\n",
    "                        skip_header=15)\n",
    "\n",
    "cat_df1 = pd.DataFrame(cat[:,1:5], columns=['id', 'ra', 'dec', 'g'])\n",
    "plt.scatter(cat_df1['ra'], cat_df1['dec'])"
   ]
  },
  {
   "cell_type": "markdown",
   "id": "74b7b04d",
   "metadata": {},
   "source": [
    "Using this inst file, evaluate the OPD for four perturbations:"
   ]
  },
  {
   "cell_type": "code",
   "execution_count": 55,
   "id": "95134f29",
   "metadata": {},
   "outputs": [
    {
     "name": "stdout",
     "output_type": "stream",
     "text": [
      "\n",
      "\n",
      "python /project/scichris/aos/phosim_syseng4/phosim.py /project/scichris/aos/AOS/DM-28360/opd_lsstCam.inst -i lsst -e 1     -c /project/scichris/aos/AOS/DM-28360/noBkgndPert00_NCSA.cmd -w /project/scichris/aos/AOS/DM-28360/lsstCam/opd/Pert00 -p 24  -o /project/scichris/aos/AOS/DM-28360/lsstCam/opd/Pert00 > /project/scichris/aos/AOS/DM-28360/lsstCam/opd/Pert00/opdPhoSim.log 2>&1 \n",
      "\n",
      "\n",
      "python /project/scichris/aos/phosim_syseng4/phosim.py /project/scichris/aos/AOS/DM-28360/opd_lsstCam.inst -i lsst -e 1     -c /project/scichris/aos/AOS/DM-28360/noBkgndPert05_NCSA.cmd -w /project/scichris/aos/AOS/DM-28360/lsstCam/opd/Pert05 -p 24  -o /project/scichris/aos/AOS/DM-28360/lsstCam/opd/Pert05 > /project/scichris/aos/AOS/DM-28360/lsstCam/opd/Pert05/opdPhoSim.log 2>&1 \n"
     ]
    }
   ],
   "source": [
    "\n",
    "\n",
    "bkgnd= 'no'\n",
    "for pert in [0,5]:\n",
    "    cmd_file = f'{bkgnd}BkgndPert0{pert}_NCSA.cmd'\n",
    "    phosim_path = '/project/scichris/aos/phosim_syseng4/phosim.py'\n",
    "    inst_file_path='/project/scichris/aos/AOS/DM-28360/opd_lsstCam.inst'\n",
    "    instr = 'lsst'\n",
    "    cmd_file = f'{bkgnd}BkgndPert0{pert}_NCSA.cmd'\n",
    "    cmd_file_path = os.path.join('/project/scichris/aos/AOS/DM-28360/', cmd_file)\n",
    "    out_dir = f'/project/scichris/aos/AOS/DM-28360/lsstCam/opd/Pert0{pert}'\n",
    "    if not os.path.exists(out_dir):\n",
    "        os.makedirs(out_dir)\n",
    "\n",
    "    phosim_p = 24 \n",
    "    phosim_log_path = os.path.join(out_dir,'opdPhoSim.log')\n",
    "\n",
    "    command = f\"python {phosim_path} {inst_file_path} -i {instr} -e 1 \\\n",
    "    -c {cmd_file_path} -w {out_dir} -p {phosim_p}  -o {out_dir} > {phosim_log_path} 2>&1 \"\n",
    "    print('\\n')\n",
    "    print(command)"
   ]
  },
  {
   "cell_type": "markdown",
   "id": "365ac9da",
   "metadata": {},
   "source": [
    "## Calculate OPD for comCam "
   ]
  },
  {
   "cell_type": "code",
   "execution_count": null,
   "id": "5a98b0ef",
   "metadata": {},
   "outputs": [],
   "source": [
    "    cd /project/scichris/aos/AOS/DM-28360/\n",
    "    cp opd_comCam_high_extra_9000131.inst opd_comCam.inst\n",
    "    \n",
    "    # edit the obshistid, remove the last sixteen entries, add manually four wfs locations\n",
    "    nano opd_comCam.inst"
   ]
  },
  {
   "cell_type": "code",
   "execution_count": 65,
   "id": "ab43bcc8",
   "metadata": {},
   "outputs": [
    {
     "name": "stdout",
     "output_type": "stream",
     "text": [
      "\n",
      "\n",
      "python /project/scichris/aos/phosim_syseng4/phosim.py /project/scichris/aos/AOS/DM-28360/opd_comCam.inst -i lsst -e 1     -c /project/scichris/aos/AOS/DM-28360/noBkgndPert00_NCSA.cmd -w /project/scichris/aos/AOS/DM-28360/comCam/opd/Pert00 -p 24  -o /project/scichris/aos/AOS/DM-28360/comCam/opd/Pert00 > /project/scichris/aos/AOS/DM-28360/comCam/opd/Pert00/opdPhoSim.log 2>&1 \n",
      "\n",
      "\n",
      "python /project/scichris/aos/phosim_syseng4/phosim.py /project/scichris/aos/AOS/DM-28360/opd_comCam.inst -i lsst -e 1     -c /project/scichris/aos/AOS/DM-28360/noBkgndPert05_NCSA.cmd -w /project/scichris/aos/AOS/DM-28360/comCam/opd/Pert05 -p 24  -o /project/scichris/aos/AOS/DM-28360/comCam/opd/Pert05 > /project/scichris/aos/AOS/DM-28360/comCam/opd/Pert05/opdPhoSim.log 2>&1 \n"
     ]
    }
   ],
   "source": [
    "\n",
    "\n",
    "bkgnd= 'no'\n",
    "for pert in [0,5]:\n",
    "    cmd_file = f'{bkgnd}BkgndPert0{pert}_NCSA.cmd'\n",
    "    phosim_path = '/project/scichris/aos/phosim_syseng4/phosim.py'\n",
    "    inst_file_path='/project/scichris/aos/AOS/DM-28360/opd_comCam.inst'\n",
    "    instr = 'lsst'\n",
    "    cmd_file = f'{bkgnd}BkgndPert0{pert}_NCSA.cmd'\n",
    "    cmd_file_path = os.path.join('/project/scichris/aos/AOS/DM-28360/', cmd_file)\n",
    "    out_dir = f'/project/scichris/aos/AOS/DM-28360/comCam/opd/Pert0{pert}'\n",
    "    if not os.path.exists(out_dir):\n",
    "        os.makedirs(out_dir)\n",
    "\n",
    "    phosim_p = 24 \n",
    "    phosim_log_path = os.path.join(out_dir,'opdPhoSim.log')\n",
    "\n",
    "    command = f\"python {phosim_path} {inst_file_path} -i {instr} -e 1 \\\n",
    "    -c {cmd_file_path} -w {out_dir} -p {phosim_p}  -o {out_dir} > {phosim_log_path} 2>&1 \"\n",
    "    print('\\n')\n",
    "    print(command)"
   ]
  },
  {
   "cell_type": "markdown",
   "id": "286327a5",
   "metadata": {},
   "source": [
    "#  Next:\n",
    "    \n",
    "    - update confluence page with OPD data https://confluence.lsstcorp.org/display/LTS/Catalogs+and+images+for+AOS+testing \n",
    "    - test the comcam simulated images, make a notebook that reads in each dataset, eg. `AOS_comCam_inspect.ipynb`,\n",
    "    plots each sensor within a raft (eg. R22_S11), then plots the assembled raft with cameraGeom applying the rotation-\n",
    "    put the arrows on the image indicating the coordinate system in which they are plotted  \n",
    "    \n",
    "    - hyak submit lsstCam sensors that need to be simulated so that there are more simulations added\n",
    "    - split lsstCam into separate rafts, since there doesn't seem to be any trouble running eg. comCam. Thus submit \n",
    "    -s \"R12_S00|R12_S01..\" , then \"R13_S00....\" etc, and then repackage and ISR as a separate step \n",
    "    \n",
    "    \n",
    "    "
   ]
  },
  {
   "cell_type": "code",
   "execution_count": null,
   "id": "d77fc0cd",
   "metadata": {},
   "outputs": [],
   "source": [
    "Simulate OPD for WFS after segmentation has been updated:\n",
    "    \n",
    "    \n",
    "    "
   ]
  }
 ],
 "metadata": {
  "kernelspec": {
   "display_name": "Python 3 (ipykernel)",
   "language": "python",
   "name": "python3"
  },
  "language_info": {
   "codemirror_mode": {
    "name": "ipython",
    "version": 3
   },
   "file_extension": ".py",
   "mimetype": "text/x-python",
   "name": "python",
   "nbconvert_exporter": "python",
   "pygments_lexer": "ipython3",
   "version": "3.8.8"
  }
 },
 "nbformat": 4,
 "nbformat_minor": 5
}
