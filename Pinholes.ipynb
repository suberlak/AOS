{
 "cells": [
  {
   "cell_type": "markdown",
   "metadata": {},
   "source": [
    "### Display a mosaic of the LSST camera"
   ]
  },
  {
   "cell_type": "code",
   "execution_count": 1,
   "metadata": {},
   "outputs": [],
   "source": [
    "import os\n",
    "import numpy as np\n",
    "#import lsst.daf.persistence as dafPersist\n",
    "from lsst.daf.butler import Butler\n",
    "import lsst.afw.cameraGeom.utils as cameraGeomUtils\n",
    "import lsst.afw.display as afwDisplay\n",
    "import matplotlib.pyplot as plt   # Not needed for image displays, but used for analysis\n",
    "\n",
    "%matplotlib ipympl\n",
    "%config InlineBackend.figure_format = 'retina'\n",
    "plt.rcParams['figure.figsize'] = (10, 7)"
   ]
  },
  {
   "cell_type": "code",
   "execution_count": 2,
   "metadata": {},
   "outputs": [],
   "source": [
    "afwDisplay.setDefaultBackend(\"matplotlib\")"
   ]
  },
  {
   "cell_type": "code",
   "execution_count": 6,
   "metadata": {},
   "outputs": [
    {
     "ename": "LookupError",
     "evalue": "Dataset camera with data ID {instrument: 'LSSTCam', exposure: 3020082500026, ...} could not be found in collections [LSSTCam/raw/all, LSSTCam/calib].",
     "output_type": "error",
     "traceback": [
      "\u001b[0;31m---------------------------------------------------------------------------\u001b[0m",
      "\u001b[0;31mLookupError\u001b[0m                               Traceback (most recent call last)",
      "\u001b[0;32m<ipython-input-6-95a303ba0942>\u001b[0m in \u001b[0;36m<module>\u001b[0;34m\u001b[0m\n\u001b[1;32m     10\u001b[0m \u001b[0;32mdel\u001b[0m \u001b[0mdataset\u001b[0m\u001b[0;34m\u001b[0m\u001b[0;34m\u001b[0m\u001b[0m\n\u001b[1;32m     11\u001b[0m \u001b[0;34m\u001b[0m\u001b[0m\n\u001b[0;32m---> 12\u001b[0;31m \u001b[0mcamera\u001b[0m \u001b[0;34m=\u001b[0m \u001b[0mbutler\u001b[0m\u001b[0;34m.\u001b[0m\u001b[0mget\u001b[0m\u001b[0;34m(\u001b[0m\u001b[0;34m'camera'\u001b[0m\u001b[0;34m,\u001b[0m \u001b[0mdataId0\u001b[0m\u001b[0;34m,\u001b[0m \u001b[0mexposure\u001b[0m\u001b[0;34m=\u001b[0m\u001b[0mexposure\u001b[0m\u001b[0;34m)\u001b[0m\u001b[0;34m\u001b[0m\u001b[0;34m\u001b[0m\u001b[0m\n\u001b[0m\u001b[1;32m     13\u001b[0m \u001b[0;34m\u001b[0m\u001b[0m\n\u001b[1;32m     14\u001b[0m \u001b[0mdataId\u001b[0m \u001b[0;34m=\u001b[0m \u001b[0mdataId0\u001b[0m\u001b[0;34m.\u001b[0m\u001b[0mcopy\u001b[0m\u001b[0;34m(\u001b[0m\u001b[0;34m)\u001b[0m\u001b[0;34m\u001b[0m\u001b[0;34m\u001b[0m\u001b[0m\n",
      "\u001b[0;32m/opt/lsst/software/stack/stack/miniconda3-py38_4.9.2-0.6.0/Linux64/daf_butler/21.0.0-95-g7204485c+7b9a448d34/python/lsst/daf/butler/_butler.py\u001b[0m in \u001b[0;36mget\u001b[0;34m(self, datasetRefOrType, dataId, parameters, collections, **kwds)\u001b[0m\n\u001b[1;32m   1047\u001b[0m         \"\"\"\n\u001b[1;32m   1048\u001b[0m         \u001b[0mlog\u001b[0m\u001b[0;34m.\u001b[0m\u001b[0mdebug\u001b[0m\u001b[0;34m(\u001b[0m\u001b[0;34m\"Butler get: %s, dataId=%s, parameters=%s\"\u001b[0m\u001b[0;34m,\u001b[0m \u001b[0mdatasetRefOrType\u001b[0m\u001b[0;34m,\u001b[0m \u001b[0mdataId\u001b[0m\u001b[0;34m,\u001b[0m \u001b[0mparameters\u001b[0m\u001b[0;34m)\u001b[0m\u001b[0;34m\u001b[0m\u001b[0;34m\u001b[0m\u001b[0m\n\u001b[0;32m-> 1049\u001b[0;31m         \u001b[0mref\u001b[0m \u001b[0;34m=\u001b[0m \u001b[0mself\u001b[0m\u001b[0;34m.\u001b[0m\u001b[0m_findDatasetRef\u001b[0m\u001b[0;34m(\u001b[0m\u001b[0mdatasetRefOrType\u001b[0m\u001b[0;34m,\u001b[0m \u001b[0mdataId\u001b[0m\u001b[0;34m,\u001b[0m \u001b[0mcollections\u001b[0m\u001b[0;34m=\u001b[0m\u001b[0mcollections\u001b[0m\u001b[0;34m,\u001b[0m \u001b[0;34m**\u001b[0m\u001b[0mkwds\u001b[0m\u001b[0;34m)\u001b[0m\u001b[0;34m\u001b[0m\u001b[0;34m\u001b[0m\u001b[0m\n\u001b[0m\u001b[1;32m   1050\u001b[0m         \u001b[0;32mreturn\u001b[0m \u001b[0mself\u001b[0m\u001b[0;34m.\u001b[0m\u001b[0mgetDirect\u001b[0m\u001b[0;34m(\u001b[0m\u001b[0mref\u001b[0m\u001b[0;34m,\u001b[0m \u001b[0mparameters\u001b[0m\u001b[0;34m=\u001b[0m\u001b[0mparameters\u001b[0m\u001b[0;34m)\u001b[0m\u001b[0;34m\u001b[0m\u001b[0;34m\u001b[0m\u001b[0m\n\u001b[1;32m   1051\u001b[0m \u001b[0;34m\u001b[0m\u001b[0m\n",
      "\u001b[0;32m/opt/lsst/software/stack/stack/miniconda3-py38_4.9.2-0.6.0/Linux64/daf_butler/21.0.0-95-g7204485c+7b9a448d34/python/lsst/daf/butler/_butler.py\u001b[0m in \u001b[0;36m_findDatasetRef\u001b[0;34m(self, datasetRefOrType, dataId, collections, allowUnresolved, **kwds)\u001b[0m\n\u001b[1;32m    803\u001b[0m                 \u001b[0;32mif\u001b[0m \u001b[0mcollections\u001b[0m \u001b[0;32mis\u001b[0m \u001b[0;32mNone\u001b[0m\u001b[0;34m:\u001b[0m\u001b[0;34m\u001b[0m\u001b[0;34m\u001b[0m\u001b[0m\n\u001b[1;32m    804\u001b[0m                     \u001b[0mcollections\u001b[0m \u001b[0;34m=\u001b[0m \u001b[0mself\u001b[0m\u001b[0;34m.\u001b[0m\u001b[0mregistry\u001b[0m\u001b[0;34m.\u001b[0m\u001b[0mdefaults\u001b[0m\u001b[0;34m.\u001b[0m\u001b[0mcollections\u001b[0m\u001b[0;34m\u001b[0m\u001b[0;34m\u001b[0m\u001b[0m\n\u001b[0;32m--> 805\u001b[0;31m                 raise LookupError(f\"Dataset {datasetType.name} with data ID {dataId} \"\n\u001b[0m\u001b[1;32m    806\u001b[0m                                   f\"could not be found in collections {collections}.\")\n\u001b[1;32m    807\u001b[0m         \u001b[0;32mif\u001b[0m \u001b[0midNumber\u001b[0m \u001b[0;32mis\u001b[0m \u001b[0;32mnot\u001b[0m \u001b[0;32mNone\u001b[0m \u001b[0;32mand\u001b[0m \u001b[0midNumber\u001b[0m \u001b[0;34m!=\u001b[0m \u001b[0mref\u001b[0m\u001b[0;34m.\u001b[0m\u001b[0mid\u001b[0m\u001b[0;34m:\u001b[0m\u001b[0;34m\u001b[0m\u001b[0;34m\u001b[0m\u001b[0m\n",
      "\u001b[0;31mLookupError\u001b[0m: Dataset camera with data ID {instrument: 'LSSTCam', exposure: 3020082500026, ...} could not be found in collections [LSSTCam/raw/all, LSSTCam/calib]."
     ]
    }
   ],
   "source": [
    "dataRoot = \"/lsstdata/offline/teststand/BOT/gen3repo\"\n",
    "\n",
    "butler = Butler(dataRoot, collections=['LSSTCam/raw/all', 'LSSTCam/calib'])\n",
    "dataId0 = dict(instrument='LSSTCam')\n",
    "run = str(12526)\n",
    "\n",
    "dataset = next(iter(butler.registry.queryDatasets('raw', collections='LSSTCam/raw/all', dataId=dataId0,\n",
    "                                                  where=f\"exposure.science_program = '12526'\")))\n",
    "exposure = dataset.dataId[\"exposure\"]  # I need an exposure to get a camera\n",
    "del dataset\n",
    "\n",
    "camera = butler.get('camera', dataId0, exposure=exposure)\n",
    "\n",
    "dataId = dataId0.copy()\n",
    "dataId[\"exposure.science_program\"] = run\n",
    "dataId[\"detector\"] = camera['R22_S11'].getId()"
   ]
  },
  {
   "cell_type": "markdown",
   "metadata": {},
   "source": [
    "It'll be easier to see if we correct for the gains.\n",
    "\n",
    "To do this, we'll define a custom callback:"
   ]
  },
  {
   "cell_type": "code",
   "execution_count": 7,
   "metadata": {},
   "outputs": [],
   "source": [
    "def myCallback(im, ccd, imageSource):\n",
    "    \"\"\"Assemble the CCD image, subtracting the overscan correcting for the gain\"\"\"\n",
    "\n",
    "    return cameraGeomUtils.rawCallback(im, ccd, imageSource,\n",
    "                                       subtractBias=True, correctGain=False)"
   ]
  },
  {
   "cell_type": "code",
   "execution_count": 8,
   "metadata": {},
   "outputs": [
    {
     "ename": "NameError",
     "evalue": "name 'dataId' is not defined",
     "output_type": "error",
     "traceback": [
      "\u001b[0;31m---------------------------------------------------------------------------\u001b[0m",
      "\u001b[0;31mNameError\u001b[0m                                 Traceback (most recent call last)",
      "\u001b[0;32m<timed exec>\u001b[0m in \u001b[0;36m<module>\u001b[0;34m\u001b[0m\n",
      "\u001b[0;31mNameError\u001b[0m: name 'dataId' is not defined"
     ]
    }
   ],
   "source": [
    "%%time\n",
    "seqNum = 32\n",
    "\n",
    "exposureRec = next(iter(butler.registry.queryDimensionRecords(\"exposure\", dataId=dataId0,\n",
    "                                                              where=f'exposure.science_program={dataId[\"exposure.science_program\"]} AND '\n",
    "                                                                    f'exposure.seq_num = {seqNum}')))\n",
    "#dayObs = exposureRec.day_obs\n",
    "exposure = exposureRec.id\n",
    "\n",
    "disp = afwDisplay.Display(1, reopenPlot=True)\n",
    "disp.scale('asinh', 'zscale', Q=2)\n",
    "disp.scale('linear', 'minmax')\n",
    "disp.scale('asinh', 5, 7000, Q=2)\n",
    "\n",
    "disp.setImageColormap('viridis' if True else 'gray')\n",
    "\n",
    "#\n",
    "# Set detectorNameList to only display a subset of the detectors\n",
    "#\n",
    "if True:   # just a single raft\n",
    "    detectorNameList = [det.getName() for det in camera if \"R00\" in det.getName()]\n",
    "elif False:\n",
    "    detectorNameList = ['R22_S11']\n",
    "else:\n",
    "    detectorNameList = [camera[det].getName() for det in butler.queryMetadata('raw', ['detector'], run=dataId['run'], seqNum=seqNum)]\n",
    "\n",
    "detectorNameList = None\n",
    "\n",
    "dataType = \"raw\"\n",
    "mos = cameraGeomUtils.showCamera(camera,\n",
    "                                 cameraGeomUtils.ButlerImage(butler, dataType, instrument='LSSTCam', exposure=exposure,\n",
    "                                                             #run=dataId[\"run\"], seqNum=seqNum,\n",
    "                                                             callback=myCallback, verbose=True),\n",
    "                                 binSize=16, detectorNameList=detectorNameList, display=disp, overlay=False,\n",
    "                                 title=f'{dataId[\"exposure.science_program\"]} {seqNum}')"
   ]
  },
  {
   "cell_type": "code",
   "execution_count": null,
   "metadata": {},
   "outputs": [],
   "source": [
    "#plt.savefig(\"BOT-Flammarion.png\")"
   ]
  },
  {
   "cell_type": "code",
   "execution_count": 5,
   "metadata": {},
   "outputs": [
    {
     "data": {
      "application/vnd.jupyter.widget-view+json": {
       "model_id": "b632c31d643e47aeb71a3009d7f4e8cd",
       "version_major": 2,
       "version_minor": 0
      },
      "text/plain": [
       "Canvas(toolbar=Toolbar(toolitems=[('Home', 'Reset original view', 'home', 'home'), ('Back', 'Back to previous …"
      ]
     },
     "metadata": {},
     "output_type": "display_data"
    },
    {
     "ename": "NameError",
     "evalue": "name 'mos' is not defined",
     "output_type": "error",
     "traceback": [
      "\u001b[0;31m---------------------------------------------------------------------------\u001b[0m",
      "\u001b[0;31mNameError\u001b[0m                                 Traceback (most recent call last)",
      "\u001b[0;32m<ipython-input-5-97aa5effabc0>\u001b[0m in \u001b[0;36m<module>\u001b[0;34m\u001b[0m\n\u001b[1;32m      4\u001b[0m \u001b[0mdisp\u001b[0m\u001b[0;34m.\u001b[0m\u001b[0mscale\u001b[0m\u001b[0;34m(\u001b[0m\u001b[0;34m'asinh'\u001b[0m\u001b[0;34m,\u001b[0m \u001b[0;34m'zscale'\u001b[0m\u001b[0;34m,\u001b[0m \u001b[0mQ\u001b[0m\u001b[0;34m=\u001b[0m\u001b[0;36m2\u001b[0m\u001b[0;34m)\u001b[0m\u001b[0;34m\u001b[0m\u001b[0;34m\u001b[0m\u001b[0m\n\u001b[1;32m      5\u001b[0m \u001b[0;34m\u001b[0m\u001b[0m\n\u001b[0;32m----> 6\u001b[0;31m \u001b[0mdisp\u001b[0m\u001b[0;34m.\u001b[0m\u001b[0mmtv\u001b[0m\u001b[0;34m(\u001b[0m\u001b[0mmos\u001b[0m\u001b[0;34m)\u001b[0m\u001b[0;34m\u001b[0m\u001b[0;34m\u001b[0m\u001b[0m\n\u001b[0m\u001b[1;32m      7\u001b[0m \u001b[0mplt\u001b[0m\u001b[0;34m.\u001b[0m\u001b[0mtitle\u001b[0m\u001b[0;34m(\u001b[0m\u001b[0;34mf'{dataId[\"run\"]} {seqNum}'\u001b[0m\u001b[0;34m)\u001b[0m\u001b[0;34m;\u001b[0m\u001b[0;34m\u001b[0m\u001b[0;34m\u001b[0m\u001b[0m\n",
      "\u001b[0;31mNameError\u001b[0m: name 'mos' is not defined"
     ]
    }
   ],
   "source": [
    "disp = afwDisplay.Display(1, reopenPlot=True)\n",
    "disp.setImageColormap('viridis' if False else 'gray')\n",
    "\n",
    "disp.scale('asinh', 'zscale', Q=2)\n",
    "\n",
    "disp.mtv(mos)\n",
    "plt.title(f'{dataId[\"run\"]} {seqNum}');"
   ]
  },
  {
   "cell_type": "markdown",
   "metadata": {},
   "source": [
    "Just assemble the corner rafts, and use matplotlib to make the mosaic"
   ]
  },
  {
   "cell_type": "code",
   "execution_count": 7,
   "metadata": {},
   "outputs": [
    {
     "data": {
      "application/vnd.jupyter.widget-view+json": {
       "model_id": "03b0ee96bea54e2e9d67a68b0f8b3d47",
       "version_major": 2,
       "version_minor": 0
      },
      "text/plain": [
       "Canvas(toolbar=Toolbar(toolitems=[('Home', 'Reset original view', 'home', 'home'), ('Back', 'Back to previous …"
      ]
     },
     "metadata": {},
     "output_type": "display_data"
    },
    {
     "name": "stderr",
     "output_type": "stream",
     "text": [
      "MC_C_20200825_000032 R40_SG0: No FILTER key found but FILTER2=\"ND_OD1.0\" (removed)\n",
      "MC_C_20200825_000032 R40_SG1: No FILTER key found but FILTER2=\"ND_OD1.0\" (removed)\n",
      "MC_C_20200825_000032 R40_SW0: No FILTER key found but FILTER2=\"ND_OD1.0\" (removed)\n",
      "MC_C_20200825_000032 R40_SW1: No FILTER key found but FILTER2=\"ND_OD1.0\" (removed)\n",
      "MC_C_20200825_000032 R44_SG0: No FILTER key found but FILTER2=\"ND_OD1.0\" (removed)\n",
      "MC_C_20200825_000032 R44_SG1: No FILTER key found but FILTER2=\"ND_OD1.0\" (removed)\n",
      "MC_C_20200825_000032 R44_SW0: No FILTER key found but FILTER2=\"ND_OD1.0\" (removed)\n",
      "MC_C_20200825_000032 R44_SW1: No FILTER key found but FILTER2=\"ND_OD1.0\" (removed)\n",
      "MC_C_20200825_000032 R00_SG0: No FILTER key found but FILTER2=\"ND_OD1.0\" (removed)\n",
      "MC_C_20200825_000032 R00_SG1: No FILTER key found but FILTER2=\"ND_OD1.0\" (removed)\n",
      "MC_C_20200825_000032 R00_SW0: No FILTER key found but FILTER2=\"ND_OD1.0\" (removed)\n",
      "MC_C_20200825_000032 R00_SW1: No FILTER key found but FILTER2=\"ND_OD1.0\" (removed)\n",
      "MC_C_20200825_000032 R04_SG0: No FILTER key found but FILTER2=\"ND_OD1.0\" (removed)\n",
      "MC_C_20200825_000032 R04_SG1: No FILTER key found but FILTER2=\"ND_OD1.0\" (removed)\n",
      "MC_C_20200825_000032 R04_SW0: No FILTER key found but FILTER2=\"ND_OD1.0\" (removed)\n",
      "MC_C_20200825_000032 R04_SW1: No FILTER key found but FILTER2=\"ND_OD1.0\" (removed)\n"
     ]
    }
   ],
   "source": [
    "fig = plt.figure()\n",
    "fig.subplots_adjust(hspace=0.2, wspace=0.0)\n",
    "\n",
    "disp = afwDisplay.Display(fig)\n",
    "disp.scale('asinh', 'zscale', Q=2)\n",
    "disp.scale('linear', 'minmax')\n",
    "disp.scale('asinh', 5, 7000, Q=2)\n",
    "\n",
    "disp.setImageColormap('viridis' if True else 'gray')\n",
    "dataType = \"raw\"\n",
    "for i, raftName in enumerate(['R40', 'R44', 'R00', 'R04'], 1):\n",
    "    ax = fig.add_subplot(2, 2, i)\n",
    "    \n",
    "    detectorNameList = [det.getName() for det in camera if f\"{raftName}\" in det.getName()]\n",
    "\n",
    "    mos = cameraGeomUtils.showCamera(camera,\n",
    "                                     cameraGeomUtils.ButlerImage(butler, dataType, instrument='LSSTCam', exposure=exposure,\n",
    "                                                                 #run=dataId[\"run\"], seqNum=seqNum,\n",
    "                                                                 callback=myCallback, verbose=True),\n",
    "                                     binSize=16, detectorNameList=detectorNameList, display=disp, overlay=False,\n",
    "                                     title=raftName)\n",
    "    disp.show_colorbar(False)"
   ]
  },
  {
   "cell_type": "code",
   "execution_count": null,
   "metadata": {},
   "outputs": [],
   "source": []
  }
 ],
 "metadata": {
  "kernelspec": {
   "display_name": "LSST",
   "language": "python",
   "name": "lsst"
  },
  "language_info": {
   "codemirror_mode": {
    "name": "ipython",
    "version": 3
   },
   "file_extension": ".py",
   "mimetype": "text/x-python",
   "name": "python",
   "nbconvert_exporter": "python",
   "pygments_lexer": "ipython3",
   "version": "3.8.8"
  }
 },
 "nbformat": 4,
 "nbformat_minor": 4
}
