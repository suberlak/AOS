{
 "cells": [
  {
   "cell_type": "markdown",
   "metadata": {},
   "source": [
    "# AOS: integrating new repackager into ts_wep"
   ]
  },
  {
   "cell_type": "markdown",
   "metadata": {},
   "source": [
    "** JIRA Tickets: **\n",
    "\n",
    "   * https://jira.lsstcorp.org/browse/DM-26836 - IN PROGRESS - Adapt the Latest File Format of Corner WFS (main ticket requiring a new phosim repackager:  https://github.com/lsst-dm/phosim_utils/blob/master/python/lsst/phosim/utils/phosim_repackager.py ) \n",
    "   * https://jira.lsstcorp.org/browse/DM-28341 - IN PROGRESS - ingest phosim images into Butler with as-built camera geometry (illustrate that the new repackager works) \n",
    "   * https://jira.lsstcorp.org/browse/DM-28046 - IN PROGRESS - Update PhosimEimgParseTask to use LsstCam (needed for the repackager) \n",
    "   * https://jira.lsstcorp.org/browse/DM-28330 - IN PROGRESS - Update search pattern for amplifier images (needed for ts_wep to recognise new file format) \n",
    "   * https://jira.lsstcorp.org/browse/DM-27863 - DONE - Allow controller = 'H' for exposure_id calculation (needed for the repackager) \n",
    "    \n",
    " "
   ]
  },
  {
   "cell_type": "markdown",
   "metadata": {},
   "source": [
    "To reproduce the data, the following was done:\n",
    "    \n",
    "    ssh scichris@lsst-login01.ncsa.illinois.edu \n",
    "    ssh lsst-devl03\n",
    "    \n",
    "    # setup the stack and AOS packages\n",
    "    source \"/software/lsstsw/stack/loadLSST.bash\"\n",
    "    source /project/scichris/aos/setup_aos_current.sh\n",
    "\n",
    "\n",
    "    # make sure we're using the branch with updates to ingest images,\n",
    "    # using the correct mapper in policy/defaults.yaml\n",
    "    \n",
    "    cd /project/scichris/aos/ts_wep/\n",
    "    git branch tickets/DM-28330\n",
    "    setup -k -r .\n",
    "\n",
    "\n",
    "    # do the same for  phosim_utils - \n",
    "    # use the ticket version of the repackager .. \n",
    "    \n",
    "    cd /project/scichris/dev/phosim_utils/\n",
    "    git branch tickets/DM-26836\n",
    "    setup -k -r .\n",
    "\n",
    "    # and for obs_lsst, ensure we're using \n",
    "    # the ticket version that\n",
    "    # allows to ingest E-images with the new\n",
    "    # parser ( I did not get a reply from Tim J. whether\n",
    "    # my solution is fine or need a different one  - see \n",
    "    # my last comment  in the PR \n",
    "    # https://github.com/lsst/obs_lsst/pull/277 ) \n",
    "\n",
    "    cd /project/scichris/dev/obs_lsst_dev/\n",
    "    git branch tickets/DM-28046\n",
    "    setup -k -r .\n",
    "    \n",
    "    cd /project/scichris/aos/ts_phosim/\n",
    "    python bin.src/imgCloseLoop.py --inst lsstfam --numOfProc 25 --boresightDeg 0.03 -0.02 --skyFile tests/testData/sky/skyLsstFam.txt --output /project/scichris/aos/results_lsstfam_noCrosstalk2/\n",
    "    \n",
    "    "
   ]
  },
  {
   "cell_type": "markdown",
   "metadata": {},
   "source": [
    "A full log  of the terminal output is available at \n",
    "\n",
    "    /project/scichris/aos/results_lsstfam_noCrosstalk2/screenlog_lsstfam_noCrosstalk.txt : \n"
   ]
  },
  {
   "cell_type": "code",
   "execution_count": 16,
   "metadata": {},
   "outputs": [],
   "source": [
    "import numpy as np\n",
    "from astropy.table import Table\n",
    "filename = '/project/scichris/aos/results_lsstfam_noCrosstalk2/screenlog_lsstfam_noCrosstalk.txt'\n",
    "with open(filename) as f:\n",
    "    mylist = f.read().splitlines() "
   ]
  },
  {
   "cell_type": "markdown",
   "metadata": {},
   "source": [
    "The following lines show the last few calls to 1ingestCalibs.py1,  and the ISR (there is more but I show just a few rafts for illustration):\n",
    "    "
   ]
  },
  {
   "cell_type": "code",
   "execution_count": 26,
   "metadata": {},
   "outputs": [
    {
     "data": {
      "text/plain": [
       "['ingest INFO: /project/scichris/aos/results_lsstfam_noCrosstalk2/iter0/img/extra/MC_H_20211231_006001_R02_S11.fits --<link>--> /project/scichris/aos/results_lsstfam_noCrosstalk2/input/raw/2021-12-31/4021123106001/4021123106001-R02-S11-det013.fits',\n",
       " 'ingest INFO: /project/scichris/aos/results_lsstfam_noCrosstalk2/iter0/img/extra/MC_H_20211231_006001_R31_S11.fits --<link>--> /project/scichris/aos/results_lsstfam_noCrosstalk2/input/raw/2021-12-31/4021123106001/4021123106001-R31-S11-det130.fits',\n",
       " 'ingest INFO: /project/scichris/aos/results_lsstfam_noCrosstalk2/iter0/img/extra/MC_H_20211231_006001_R24_S11.fits --<link>--> /project/scichris/aos/results_lsstfam_noCrosstalk2/input/raw/2021-12-31/4021123106001/4021123106001-R24-S11-det112.fits',\n",
       " 'ingest INFO: /project/scichris/aos/results_lsstfam_noCrosstalk2/iter0/img/extra/MC_H_20211231_006001_R10_S10.fits --<link>--> /project/scichris/aos/results_lsstfam_noCrosstalk2/input/raw/2021-12-31/4021123106001/4021123106001-R10-S10-det030.fits',\n",
       " 'ingest INFO: /project/scichris/aos/results_lsstfam_noCrosstalk2/iter0/img/extra/MC_H_20211231_006001_R42_S11.fits --<link>--> /project/scichris/aos/results_lsstfam_noCrosstalk2/input/raw/2021-12-31/4021123106001/4021123106001-R42-S11-det175.fits',\n",
       " 'ingest INFO: /project/scichris/aos/results_lsstfam_noCrosstalk2/iter0/img/extra/MC_H_20211231_006001_R10_S11.fits --<link>--> /project/scichris/aos/results_lsstfam_noCrosstalk2/input/raw/2021-12-31/4021123106001/4021123106001-R10-S11-det031.fits',\n",
       " 'ingest INFO: /project/scichris/aos/results_lsstfam_noCrosstalk2/iter0/img/extra/MC_H_20211231_006001_R32_S11.fits --<link>--> /project/scichris/aos/results_lsstfam_noCrosstalk2/input/raw/2021-12-31/4021123106001/4021123106001-R32-S11-det139.fits',\n",
       " \"root INFO: Loading config overrride file '/project/scichris/dev/obs_lsst_dev/config/runIsr.py'\",\n",
       " 'LsstCamMapper WARN: Unable to find valid calib root directory',\n",
       " 'CameraMapper INFO: Loading exposure registry from /project/scichris/aos/results_lsstfam_noCrosstalk2/input/registry.sqlite3',\n",
       " 'CameraMapper INFO: Loading calib registry from /project/scichris/aos/results_lsstfam_noCrosstalk2/input/calibRegistry.sqlite3',\n",
       " 'CameraMapper INFO: Loading calib registry from /project/scichris/aos/results_lsstfam_noCrosstalk2/input/calibRegistry.sqlite3',\n",
       " 'root INFO: Running: /software/lsstsw/stack_20210114/stack/miniconda3-py38_4.9.2-0.1.5/Linux64/ip_isr/21.0.0-3-gd5de2f2+905c13b855/bin/runIsr.py /project/scichris/aos/results_lsstfam_noCrosstalk2/input --id --rerun=run1 --configfile /project/scichris/aos/results_lsstfam_noCrosstalk2/input/isr_config.py --no-versions',\n",
       " \"runIsr.isr INFO: Performing ISR on sensor {'dayObs': '2021-12-31', 'expId': 4021123106002, 'raftName': 'R32', 'detectorName': 'S11', 'detector': 139}.\",\n",
       " \"obs.lsst.assembly WARN: DataId(initialdata={'dayObs': '2021-12-31', 'expId': 4021123106002, 'raftName': 'R32', 'detectorName': 'S11', 'detector': 139}, tag=set()): outAmp.getRawBBox() != data.getBBox(); patching. ((minimum=(0, 0), maximum=(575, 2047)) v. (minimum=(0, 0), maximum=(521, 2009)))\",\n",
       " 'obs.lsst.assembly WARN: argDict[boresightAirmass] is None; stripping',\n",
       " \"obs.lsst.assembly WARN: Unable to set WCS from header as RA/Dec/Angle are unavailable for dataId DataId(initialdata={'dayObs': '2021-12-31', 'expId': 4021123106002, 'raftName': 'R32', 'detectorName': 'S11', 'detector': 139}, tag=set())\",\n",
       " 'CameraMapper WARN: Cannot create SkyWcs using VisitInfo and Detector, using metadata-based SkyWcs: Cannot create SkyWcs from camera geometry: rotator angle defined using RotType=RotType.UNKNOWN instead of SKY.',\n",
       " 'CameraMapper WARN: Cannot create SkyWcs using VisitInfo and Detector, using metadata-based SkyWcs: Cannot create SkyWcs from camera geometry: rotator angle defined using RotType=RotType.UNKNOWN instead of SKY.',\n",
       " 'CameraMapper WARN: Multiple matches for filter FilterLabel(band=\"g\") with data ID \\'g\\'.',\n",
       " 'runIsr.isr INFO: Converting exposure to floating point values.',\n",
       " 'runIsr.isr INFO: ISR_OSCAN: No overscan region.  Not performing overscan correction.',\n",
       " 'runIsr.isr INFO: ISR_OSCAN: No overscan region.  Not performing overscan correction.',\n",
       " 'runIsr.isr INFO: ISR_OSCAN: No overscan region.  Not performing overscan correction.',\n",
       " 'runIsr.isr INFO: ISR_OSCAN: No overscan region.  Not performing overscan correction.',\n",
       " 'runIsr.isr INFO: ISR_OSCAN: No overscan region.  Not performing overscan correction.',\n",
       " 'runIsr.isr INFO: ISR_OSCAN: No overscan region.  Not performing overscan correction.',\n",
       " 'runIsr.isr INFO: ISR_OSCAN: No overscan region.  Not performing overscan correction.',\n",
       " 'runIsr.isr INFO: ISR_OSCAN: No overscan region.  Not performing overscan correction.',\n",
       " 'runIsr.isr INFO: ISR_OSCAN: No overscan region.  Not performing overscan correction.',\n",
       " 'runIsr.isr INFO: ISR_OSCAN: No overscan region.  Not performing overscan correction.',\n",
       " 'runIsr.isr INFO: ISR_OSCAN: No overscan region.  Not performing overscan correction.',\n",
       " 'runIsr.isr INFO: ISR_OSCAN: No overscan region.  Not performing overscan correction.',\n",
       " 'runIsr.isr INFO: ISR_OSCAN: No overscan region.  Not performing overscan correction.',\n",
       " 'runIsr.isr INFO: ISR_OSCAN: No overscan region.  Not performing overscan correction.',\n",
       " 'runIsr.isr INFO: ISR_OSCAN: No overscan region.  Not performing overscan correction.',\n",
       " 'runIsr.isr INFO: ISR_OSCAN: No overscan region.  Not performing overscan correction.',\n",
       " 'runIsr.isr INFO: Assembling CCD from amplifiers.',\n",
       " 'runIsr.isr INFO: Masking NAN value pixels.',\n",
       " 'runIsr.isr INFO: Widening saturation trails.',\n",
       " 'runIsr.isr INFO: Applying flat correction.',\n",
       " \"runIsr FATAL: Failed on dataId={'dayObs': '2021-12-31', 'expId': 4021123106002, 'raftName': 'R32', 'detectorName': 'S11', 'detector': 139}: RuntimeError: maskedImage bbox (minimum=(0, 0), maximum=(4095, 4003)) != flatMaskedImage bbox (minimum=(0, 0), maximum=(4071, 3999))\",\n",
       " 'Traceback (most recent call last):',\n",
       " '  File \"/software/lsstsw/stack_20210114/stack/miniconda3-py38_4.9.2-0.1.5/Linux64/pipe_base/21.0.0-6-gd3283ba+2605bebd58/python/lsst/pipe/base/cmdLineTask.py\", line 431, in __call__',\n",
       " '    result = self.runTask(task, dataRef, kwargs)',\n",
       " '  File \"/software/lsstsw/stack_20210114/stack/miniconda3-py38_4.9.2-0.1.5/Linux64/pipe_base/21.0.0-6-gd3283ba+2605bebd58/python/lsst/pipe/base/cmdLineTask.py\", line 495, in runTask',\n",
       " '    return task.runDataRef(dataRef, **kwargs)',\n",
       " '  File \"/software/lsstsw/stack_20210114/stack/miniconda3-py38_4.9.2-0.1.5/Linux64/ip_isr/21.0.0-3-gd5de2f2+905c13b855/python/lsst/ip/isr/isrTask.py\", line 2621, in runDataRef',\n",
       " '    return self.isr.runDataRef(dataRef)',\n",
       " '  File \"/software/lsstsw/stack_20210114/stack/miniconda3-py38_4.9.2-0.1.5/Linux64/pipe_base/21.0.0-6-gd3283ba+2605bebd58/python/lsst/pipe/base/timer.py\", line 157, in wrapper',\n",
       " '    res = func(self, *args, **keyArgs)',\n",
       " '  File \"/software/lsstsw/stack_20210114/stack/miniconda3-py38_4.9.2-0.1.5/Linux64/ip_isr/21.0.0-3-gd5de2f2+905c13b855/python/lsst/ip/isr/isrTask.py\", line 1686, in runDataRef',\n",
       " '    result = self.run(ccdExposure, camera=camera, **isrData.getDict())',\n",
       " '  File \"/software/lsstsw/stack_20210114/stack/miniconda3-py38_4.9.2-0.1.5/Linux64/pipe_base/21.0.0-6-gd3283ba+2605bebd58/python/lsst/pipe/base/timer.py\", line 157, in wrapper',\n",
       " '    res = func(self, *args, **keyArgs)',\n",
       " '  File \"/software/lsstsw/stack_20210114/stack/miniconda3-py38_4.9.2-0.1.5/Linux64/ip_isr/21.0.0-3-gd5de2f2+905c13b855/python/lsst/ip/isr/isrTask.py\", line 1549, in run',\n",
       " '    self.flatCorrection(ccdExposure, flat)',\n",
       " '  File \"/software/lsstsw/stack_20210114/stack/miniconda3-py38_4.9.2-0.1.5/Linux64/ip_isr/21.0.0-3-gd5de2f2+905c13b855/python/lsst/ip/isr/isrTask.py\", line 2159, in flatCorrection',\n",
       " '    isrFunctions.flatCorrection(',\n",
       " '  File \"/software/lsstsw/stack_20210114/stack/miniconda3-py38_4.9.2-0.1.5/Linux64/ip_isr/21.0.0-3-gd5de2f2+905c13b855/python/lsst/ip/isr/isrFunctions.py\", line 391, in flatCorrection',\n",
       " '    raise RuntimeError(\"maskedImage bbox %s != flatMaskedImage bbox %s\" %',\n",
       " 'RuntimeError: maskedImage bbox (minimum=(0, 0), maximum=(4095, 4003)) != flatMaskedImage bbox (minimum=(0, 0), maximum=(4071, 3999))',\n",
       " \"runIsr.isr INFO: Performing ISR on sensor {'dayObs': '2021-12-31', 'expId': 4021123106002, 'raftName': 'R43', 'detectorName': 'S11', 'detector': 184}.\",\n",
       " \"obs.lsst.assembly WARN: DataId(initialdata={'dayObs': '2021-12-31', 'expId': 4021123106002, 'raftName': 'R43', 'detectorName': 'S11', 'detector': 184}, tag=set()): outAmp.getRawBBox() != data.getBBox(); patching. ((minimum=(0, 0), maximum=(543, 2047)) v. (minimum=(0, 0), maximum=(521, 2009)))\",\n",
       " 'obs.lsst.assembly WARN: argDict[boresightAirmass] is None; stripping',\n",
       " \"obs.lsst.assembly WARN: Unable to set WCS from header as RA/Dec/Angle are unavailable for dataId DataId(initialdata={'dayObs': '2021-12-31', 'expId': 4021123106002, 'raftName': 'R43', 'detectorName': 'S11', 'detector': 184}, tag=set())\",\n",
       " 'CameraMapper WARN: Cannot create SkyWcs using VisitInfo and Detector, using metadata-based SkyWcs: Cannot create SkyWcs from camera geometry: rotator angle defined using RotType=RotType.UNKNOWN instead of SKY.',\n",
       " 'CameraMapper WARN: Cannot create SkyWcs using VisitInfo and Detector, using metadata-based SkyWcs: Cannot create SkyWcs from camera geometry: rotator angle defined using RotType=RotType.UNKNOWN instead of SKY.',\n",
       " 'CameraMapper WARN: Multiple matches for filter FilterLabel(band=\"g\") with data ID \\'g\\'.',\n",
       " 'runIsr.isr INFO: Converting exposure to floating point values.',\n",
       " 'runIsr.isr INFO: Assembling CCD from amplifiers.',\n",
       " 'runIsr.isr INFO: Masking NAN value pixels.',\n",
       " 'runIsr.isr INFO: Widening saturation trails.',\n",
       " 'runIsr.isr INFO: Applying flat correction.',\n",
       " 'runIsr.isr INFO: Interpolating masked pixels.',\n",
       " 'runIsr.isr WARN: No rough magnitude zero point set for filter g.',\n",
       " 'runIsr.isr INFO: Setting rough magnitude zero point: 30.940228',\n",
       " \"runIsr.isr INFO: Performing ISR on sensor {'dayObs': '2021-12-31', 'expId': 4021123106002, 'raftName': 'R14', 'detectorName': 'S11', 'detector': 67}.\",\n",
       " \"obs.lsst.assembly WARN: DataId(initialdata={'dayObs': '2021-12-31', 'expId': 4021123106002, 'raftName': 'R14', 'detectorName': 'S11', 'detector': 67}, tag=set()): outAmp.getRawBBox() != data.getBBox(); patching. ((minimum=(0, 0), maximum=(575, 2047)) v. (minimum=(0, 0), maximum=(521, 2009)))\",\n",
       " 'obs.lsst.assembly WARN: argDict[boresightAirmass] is None; stripping',\n",
       " \"obs.lsst.assembly WARN: Unable to set WCS from header as RA/Dec/Angle are unavailable for dataId DataId(initialdata={'dayObs': '2021-12-31', 'expId': 4021123106002, 'raftName': 'R14', 'detectorName': 'S11', 'detector': 67}, tag=set())\",\n",
       " 'CameraMapper WARN: Cannot create SkyWcs using VisitInfo and Detector, using metadata-based SkyWcs: Cannot create SkyWcs from camera geometry: rotator angle defined using RotType=RotType.UNKNOWN instead of SKY.',\n",
       " 'CameraMapper WARN: Cannot create SkyWcs using VisitInfo and Detector, using metadata-based SkyWcs: Cannot create SkyWcs from camera geometry: rotator angle defined using RotType=RotType.UNKNOWN instead of SKY.',\n",
       " 'CameraMapper WARN: Multiple matches for filter FilterLabel(band=\"g\") with data ID \\'g\\'.',\n",
       " 'runIsr.isr INFO: Converting exposure to floating point values.',\n",
       " 'runIsr.isr INFO: ISR_OSCAN: No overscan region.  Not performing overscan correction.',\n",
       " 'runIsr.isr INFO: ISR_OSCAN: No overscan region.  Not performing overscan correction.',\n",
       " 'runIsr.isr INFO: ISR_OSCAN: No overscan region.  Not performing overscan correction.',\n",
       " 'runIsr.isr INFO: ISR_OSCAN: No overscan region.  Not performing overscan correction.',\n",
       " 'runIsr.isr INFO: ISR_OSCAN: No overscan region.  Not performing overscan correction.',\n",
       " 'runIsr.isr INFO: ISR_OSCAN: No overscan region.  Not performing overscan correction.',\n",
       " 'runIsr.isr INFO: ISR_OSCAN: No overscan region.  Not performing overscan correction.',\n",
       " 'runIsr.isr INFO: ISR_OSCAN: No overscan region.  Not performing overscan correction.',\n",
       " 'runIsr.isr INFO: ISR_OSCAN: No overscan region.  Not performing overscan correction.',\n",
       " 'runIsr.isr INFO: ISR_OSCAN: No overscan region.  Not performing overscan correction.',\n",
       " 'runIsr.isr INFO: ISR_OSCAN: No overscan region.  Not performing overscan correction.',\n",
       " 'runIsr.isr INFO: ISR_OSCAN: No overscan region.  Not performing overscan correction.',\n",
       " 'runIsr.isr INFO: ISR_OSCAN: No overscan region.  Not performing overscan correction.',\n",
       " 'runIsr.isr INFO: ISR_OSCAN: No overscan region.  Not performing overscan correction.',\n",
       " 'runIsr.isr INFO: ISR_OSCAN: No overscan region.  Not performing overscan correction.']"
      ]
     },
     "execution_count": 26,
     "metadata": {},
     "output_type": "execute_result"
    }
   ],
   "source": [
    "mylist[1630:1730]"
   ]
  },
  {
   "cell_type": "code",
   "execution_count": null,
   "metadata": {},
   "outputs": [],
   "source": []
  },
  {
   "cell_type": "code",
   "execution_count": null,
   "metadata": {},
   "outputs": [],
   "source": []
  },
  {
   "cell_type": "markdown",
   "metadata": {},
   "source": [
    "## Show the raw and the postISR images:"
   ]
  },
  {
   "cell_type": "code",
   "execution_count": 1,
   "metadata": {},
   "outputs": [],
   "source": [
    "%matplotlib inline\n",
    "import matplotlib.pyplot as plt\n",
    "import lsst.daf.persistence as dafPersist\n",
    "dataRoot = '/project/scichris/aos/results_lsstfam_noCrosstalk2/input/'\n",
    "butler = dafPersist.Butler(dataRoot, )\n",
    "\n"
   ]
  },
  {
   "cell_type": "code",
   "execution_count": 3,
   "metadata": {},
   "outputs": [
    {
     "data": {
      "text/plain": [
       "True"
      ]
     },
     "execution_count": 3,
     "metadata": {},
     "output_type": "execute_result"
    }
   ],
   "source": [
    "dataId = dict(run='9006002', raftName='R01', detectorName='S11')\n",
    "butler.datasetExists('raw', dataId)\n"
   ]
  },
  {
   "cell_type": "code",
   "execution_count": 4,
   "metadata": {},
   "outputs": [
    {
     "data": {
      "text/plain": [
       "<matplotlib.image.AxesImage at 0x7efbc9df8a90>"
      ]
     },
     "execution_count": 4,
     "metadata": {},
     "output_type": "execute_result"
    },
    {
     "data": {
      "image/png": "[encoded data removed]",
      "text/plain": [
       "<Figure size 360x720 with 1 Axes>"
      ]
     },
     "metadata": {
      "needs_background": "light"
     },
     "output_type": "display_data"
    }
   ],
   "source": [
    "%matplotlib inline\n",
    "post = butler.get('raw', dataId)\n",
    "rawImage = post.image.array\n",
    "fig,ax = plt.subplots(1,1,figsize=(5,10))\n",
    "ax.imshow(rawImage.T, origin='lower',vmax=1100)"
   ]
  },
  {
   "cell_type": "code",
   "execution_count": 6,
   "metadata": {},
   "outputs": [
    {
     "data": {
      "text/plain": [
       "<matplotlib.image.AxesImage at 0x7f26c205cad0>"
      ]
     },
     "execution_count": 6,
     "metadata": {},
     "output_type": "execute_result"
    },
    {
     "data": {
      "image/png": "[encoded data removed]",
      "text/plain": [
       "<Figure size 360x720 with 1 Axes>"
      ]
     },
     "metadata": {
      "needs_background": "light"
     },
     "output_type": "display_data"
    }
   ],
   "source": [
    "import os\n",
    "repoRoot = os.path.join(dataRoot, 'rerun/run1')\n",
    "postISRbutler = dafPersist.Butler(repoRoot, )\n",
    "dataId = dict(run='9006002', visit=4021123106002, raftName='R01', detectorName='S11')\n",
    "postISRimage = postISRbutler.get('postISRCCD', **dataId) \n",
    "ISR = post.image.array\n",
    "fig,ax = plt.subplots(1,1,figsize=(5,10))\n",
    "ax.imshow(postISRimage.T, origin='lower',vmax=500)\n"
   ]
  },
  {
   "cell_type": "markdown",
   "metadata": {},
   "source": [
    "So it looks like for R01 S11 the ISR performed well, which I do not reconcile with the error message:\n",
    "\n",
    "    'root INFO: Running: /software/lsstsw/stack_20210114/stack/miniconda3-py38_4.9.2-0.1.5/Linux64/ip_isr/21.0.0-3-gd5de2f2+905c13b855/bin/runIsr.py /project/scichris/aos/results_lsstfam_noCrosstalk2/input --id --rerun=run1 --configfile /project/scichris/aos/results_lsstfam_noCrosstalk2/input/isr_config.py --no-versions',\n",
    "     \"runIsr.isr INFO: Performing ISR on sensor {'dayObs': '2021-12-31', 'expId': 4021123106002, 'raftName': 'R32', 'detectorName': 'S11', 'detector': 139}.\",\n",
    "     \"obs.lsst.assembly WARN: DataId(initialdata={'dayObs': '2021-12-31', 'expId': 4021123106002, 'raftName': 'R32', 'detectorName': 'S11', 'detector': 139}, tag=set()): outAmp.getRawBBox() != data.getBBox(); patching. ((minimum=(0, 0), maximum=(575, 2047)) v. (minimum=(0, 0), maximum=(521, 2009)))\",\n",
    "     'obs.lsst.assembly WARN: argDict[boresightAirmass] is None; stripping',\n",
    "     \"obs.lsst.assembly WARN: Unable to set WCS from header as RA/Dec/Angle are unavailable for dataId DataId(initialdata={'dayObs': '2021-12-31', 'expId': 4021123106002, 'raftName': 'R32', 'detectorName': 'S11', 'detector': 139}, tag=set())\",\n",
    "     'CameraMapper WARN: Cannot create SkyWcs using VisitInfo and Detector, using metadata-based SkyWcs: Cannot create SkyWcs from camera geometry: rotator angle defined using RotType=RotType.UNKNOWN instead of SKY.',\n",
    "     'CameraMapper WARN: Cannot create SkyWcs using VisitInfo and Detector, using metadata-based SkyWcs: Cannot create SkyWcs from camera geometry: rotator angle defined using RotType=RotType.UNKNOWN instead of SKY.',\n",
    "     'CameraMapper WARN: Multiple matches for filter FilterLabel(band=\"g\") with data ID \\'g\\'.',\n",
    "     'runIsr.isr INFO: Converting exposure to floating point values.',\n",
    "     'runIsr.isr INFO: ISR_OSCAN: No overscan region.  Not performing overscan correction.',\n",
    "     'runIsr.isr INFO: ISR_OSCAN: No overscan region.  Not performing overscan correction.',\n",
    "     'runIsr.isr INFO: ISR_OSCAN: No overscan region.  Not performing overscan correction.',\n",
    "     'runIsr.isr INFO: ISR_OSCAN: No overscan region.  Not performing overscan correction.',\n",
    "     'runIsr.isr INFO: ISR_OSCAN: No overscan region.  Not performing overscan correction.',\n",
    "     'runIsr.isr INFO: ISR_OSCAN: No overscan region.  Not performing overscan correction.',\n",
    "     'runIsr.isr INFO: ISR_OSCAN: No overscan region.  Not performing overscan correction.',\n",
    "     'runIsr.isr INFO: ISR_OSCAN: No overscan region.  Not performing overscan correction.',\n",
    "     'runIsr.isr INFO: ISR_OSCAN: No overscan region.  Not performing overscan correction.',\n",
    "     'runIsr.isr INFO: ISR_OSCAN: No overscan region.  Not performing overscan correction.',\n",
    "     'runIsr.isr INFO: ISR_OSCAN: No overscan region.  Not performing overscan correction.',\n",
    "     'runIsr.isr INFO: ISR_OSCAN: No overscan region.  Not performing overscan correction.',\n",
    "     'runIsr.isr INFO: ISR_OSCAN: No overscan region.  Not performing overscan correction.',\n",
    "     'runIsr.isr INFO: ISR_OSCAN: No overscan region.  Not performing overscan correction.',\n",
    "     'runIsr.isr INFO: ISR_OSCAN: No overscan region.  Not performing overscan correction.',\n",
    "     'runIsr.isr INFO: ISR_OSCAN: No overscan region.  Not performing overscan correction.',\n",
    "     'runIsr.isr INFO: Assembling CCD from amplifiers.',\n",
    "     'runIsr.isr INFO: Masking NAN value pixels.',\n",
    "     'runIsr.isr INFO: Widening saturation trails.',\n",
    "     'runIsr.isr INFO: Applying flat correction.',\n",
    "     \"runIsr FATAL: Failed on dataId={'dayObs': '2021-12-31', 'expId': 4021123106002, 'raftName': 'R32', 'detectorName': 'S11', 'detector': 139}: RuntimeError: maskedImage bbox (minimum=(0, 0), maximum=(4095, 4003)) != flatMaskedImage bbox (minimum=(0, 0), maximum=(4071, 3999))\",\n",
    "     'Traceback (most recent call last):',\n",
    "     '  File \"/software/lsstsw/stack_20210114/stack/miniconda3-py38_4.9.2-0.1.5/Linux64/pipe_base/21.0.0-6-gd3283ba+2605bebd58/python/lsst/pipe/base/cmdLineTask.py\", line 431, in __call__',\n",
    "     '    result = self.runTask(task, dataRef, kwargs)',\n",
    "     '  File \"/software/lsstsw/stack_20210114/stack/miniconda3-py38_4.9.2-0.1.5/Linux64/pipe_base/21.0.0-6-gd3283ba+2605bebd58/python/lsst/pipe/base/cmdLineTask.py\", line 495, in runTask',\n",
    "     '    return task.runDataRef(dataRef, **kwargs)',\n",
    "     '  File \"/software/lsstsw/stack_20210114/stack/miniconda3-py38_4.9.2-0.1.5/Linux64/ip_isr/21.0.0-3-gd5de2f2+905c13b855/python/lsst/ip/isr/isrTask.py\", line 2621, in runDataRef',\n",
    "     '    return self.isr.runDataRef(dataRef)',\n",
    "     '  File \"/software/lsstsw/stack_20210114/stack/miniconda3-py38_4.9.2-0.1.5/Linux64/pipe_base/21.0.0-6-gd3283ba+2605bebd58/python/lsst/pipe/base/timer.py\", line 157, in wrapper',\n",
    "     '    res = func(self, *args, **keyArgs)',\n",
    "     '  File \"/software/lsstsw/stack_20210114/stack/miniconda3-py38_4.9.2-0.1.5/Linux64/ip_isr/21.0.0-3-gd5de2f2+905c13b855/python/lsst/ip/isr/isrTask.py\", line 1686, in runDataRef',\n",
    "     '    result = self.run(ccdExposure, camera=camera, **isrData.getDict())',\n",
    "     '  File \"/software/lsstsw/stack_20210114/stack/miniconda3-py38_4.9.2-0.1.5/Linux64/pipe_base/21.0.0-6-gd3283ba+2605bebd58/python/lsst/pipe/base/timer.py\", line 157, in wrapper',\n",
    "     '    res = func(self, *args, **keyArgs)',\n",
    "     '  File \"/software/lsstsw/stack_20210114/stack/miniconda3-py38_4.9.2-0.1.5/Linux64/ip_isr/21.0.0-3-gd5de2f2+905c13b855/python/lsst/ip/isr/isrTask.py\", line 1549, in run',\n",
    "     '    self.flatCorrection(ccdExposure, flat)',\n",
    "     '  File \"/software/lsstsw/stack_20210114/stack/miniconda3-py38_4.9.2-0.1.5/Linux64/ip_isr/21.0.0-3-gd5de2f2+905c13b855/python/lsst/ip/isr/isrTask.py\", line 2159, in flatCorrection',\n",
    "     '    isrFunctions.flatCorrection(',\n",
    "     '  File \"/software/lsstsw/stack_20210114/stack/miniconda3-py38_4.9.2-0.1.5/Linux64/ip_isr/21.0.0-3-gd5de2f2+905c13b855/python/lsst/ip/isr/isrFunctions.py\", line 391, in flatCorrection',\n",
    "     '    raise RuntimeError(\"maskedImage bbox %s != flatMaskedImage bbox %s\" %',\n",
    "     'RuntimeError: maskedImage bbox (minimum=(0, 0), maximum=(4095, 4003)) != flatMaskedImage bbox (minimum=(0, 0), maximum=(4071, 3999))',"
   ]
  },
  {
   "cell_type": "markdown",
   "metadata": {},
   "source": [
    "The dimensions of each raft follow from phosimMapper https://github.com/lsst/obs_lsst/blob/master/policy/phosim/cameraHeader.yaml ,  which were injected into phosim_syseng4 in  https://github.com/lsst-ts/phosim_syseng4/blob/aos/data/lsst/segmentation.txt  and https://github.com/lsst-ts/phosim_syseng4/blob/aos/data/lsst/focalplanelayout.txt.  \n",
    "\n",
    "\n",
    "The dimensions in LsstCamMapper are https://github.com/lsst/obs_lsst/blob/master/policy/cameraHeader.yaml \n",
    "(analogous file exists for PhosimMapper, but the dimensions of ITL/E2V are the same, the only difference are the saturation levels https://github.com/lsst/obs_lsst/blob/master/policy/phosim/cameraHeader.yaml\n",
    "\n",
    "For instance, R32 S11 above, is ITL in phosimMapper https://github.com/lsst/obs_lsst/blob/master/policy/phosim/R32.yaml  and E2V in lsstCamMapper https://github.com/lsst/obs_lsst/blob/master/policy/lsstCam/R32.yaml \n",
    "\n",
    "So the dimension mismatch is a result of all rafts being ITL in phosim, whereas in lsstCamMapper its a mixture of ITL and E2V.\n"
   ]
  },
  {
   "cell_type": "markdown",
   "metadata": {},
   "source": [
    "A proposed solution is to \"pad\" the amplifier at the stage of repackaging, eg. using `np.pad` function. "
   ]
  },
  {
   "cell_type": "markdown",
   "metadata": {},
   "source": [
    "For instance, show the raw repackaged amplifier image:"
   ]
  },
  {
   "cell_type": "code",
   "execution_count": 1,
   "metadata": {},
   "outputs": [],
   "source": [
    "import astropy.io.fits as fits\n",
    "fname = '/project/scichris/aos/results_lsstfam_noCrosstalk2/iter0/img/extra/MC_H_20211231_006001_R32_S11.fits'\n",
    "hdul = fits.open(fname)"
   ]
  },
  {
   "cell_type": "code",
   "execution_count": 2,
   "metadata": {},
   "outputs": [
    {
     "data": {
      "text/plain": [
       "'[1:4096,1:4004]'"
      ]
     },
     "execution_count": 2,
     "metadata": {},
     "output_type": "execute_result"
    }
   ],
   "source": [
    "#In the main header:\n",
    "hdul[0].header['DETSIZE']"
   ]
  },
  {
   "cell_type": "code",
   "execution_count": 5,
   "metadata": {},
   "outputs": [],
   "source": [
    "import numpy as np"
   ]
  },
  {
   "cell_type": "code",
   "execution_count": 9,
   "metadata": {},
   "outputs": [],
   "source": [
    "array = hdul[1].data"
   ]
  },
  {
   "cell_type": "code",
   "execution_count": 10,
   "metadata": {},
   "outputs": [],
   "source": [
    "#np.pad(array, )"
   ]
  },
  {
   "cell_type": "markdown",
   "metadata": {},
   "source": [
    "In the amplifier header for C10 (hdul[1].header) the following is related to dimensionality:\n",
    "    \n",
    "    NAXIS1  =                  522                                                  \n",
    "    NAXIS2  =                 2010 \n",
    "    PIXX    =                 4000 / Chip x pixels                                  \n",
    "    PIXY    =                 4072 / Chip y pixels                                  \n",
    "    MINX    =                    0 / Minimum x pixel of amplifier                   \n",
    "    MAXX    =                 3999 / Maximum x pixel of amplifier                   \n",
    "    MINY    =                    0 / Minimum y pixel of amplifier                   \n",
    "    MAXY    =                 4071 / Maximum y pixel of amplifier \n",
    "    PREAD   =                    1 / Parallel read out direction                    \n",
    "    SREAD   =                    1 / Serial read out direction                      \n",
    "    PSCANP  =                    3 / Pre-scan parallel                              \n",
    "    OSCANS  =                    0 / Over-scan serial                               \n",
    "    PSCANS  =                   10 / Pre-scan serial                                \n",
    "    OSCANP  =                   10 / Over-scan parallel                                                                            \n",
    "    RDORDER =                    1 / 0=CCS; 1=readorder                             \n",
    "    RDNOISE =     2.30769230769231 / Readout noise (ADU/pixel)                      \n",
    "    DRKCURR =                 0.02 / Dark Current (e-/pixel/s)                      \n",
    "    TRIMSEC = '[   4: 512,   1:2000]' / Trimmed section of amplifier                \n",
    "    DATASEC = '[11:522,1:2002]'    / Data section of amplifier                      \n",
    "    EXTNAME = 'Segment10'                                                           \n",
    "    DETSEC  = '[512:1,4004:2003]'               \n",
    "\n"
   ]
  },
  {
   "cell_type": "markdown",
   "metadata": {},
   "source": [
    "I'm not sure how to reconcile the raw amplifier dimensionality with the information in the mapper:"
   ]
  },
  {
   "cell_type": "code",
   "execution_count": 54,
   "metadata": {},
   "outputs": [
    {
     "name": "stdout",
     "output_type": "stream",
     "text": [
      "C10 (2010, 522)\n",
      "C11 (2010, 522)\n",
      "C12 (2010, 522)\n",
      "C13 (2010, 522)\n",
      "C14 (2010, 522)\n",
      "C15 (2010, 522)\n",
      "C16 (2010, 522)\n",
      "C17 (2010, 522)\n",
      "C07 (2010, 522)\n",
      "C06 (2010, 522)\n",
      "C05 (2010, 522)\n",
      "C04 (2010, 522)\n",
      "C03 (2010, 522)\n",
      "C02 (2010, 522)\n",
      "C01 (2010, 522)\n",
      "C00 (2010, 522)\n"
     ]
    }
   ],
   "source": [
    "for i in range(1,len(hdul)):\n",
    "    print(hdul[i].header['AMPID'],np.shape(hdul[i].data))"
   ]
  },
  {
   "cell_type": "markdown",
   "metadata": {},
   "source": [
    "`focalplanelayout.txt` suggests that each of the main rafts is 4000 x 4072 px. The `segmentation.txt` for R32 S11 for amp C00 has \n",
    "\n",
    "    R32_S11_C00 0 1999 0 508 1 -1 1.695 0 1000.0 2.0 4.12 0 0.02 0.0 3 0 10 10\n",
    "    \n",
    "    # (1): amplifier name\n",
    "    # (2-5): x low, x high, y low, y high\n",
    "    # (6): serialread\n",
    "    # (7): parallelread\n",
    "    # (8-9): gain, % variation\n",
    "    # (10-11): bias level, % variation\n",
    "    # (12-13): readnoise , % variation\n",
    "    # (14-15): dark current, % variation\n",
    "    # (16-19): parallel prescan, serial overscan, serial prescan, parallel overscan (pixel)\n",
    "    \n",
    "    i.e.\n",
    "    x low, x high, y low, y high = 0, 1999, 0, 508\n",
    "    parallel prescan, serial overscan, serial prescan, parallel overscan (pixel) = \n",
    "    3, 0, 10, 10\n",
    "    \n",
    " So the amp dimensions in phosim come from \n",
    " \n",
    " 2000 (x_high-x_low incl. 0) + 10 (serial prescan) + 0 (serial overscan) = 2010 \n",
    " \n",
    " 509 (y_high-y_low incl. 0) + 3 (parallel prescan) + 10 (parallel overscan) = 522\n",
    " \n",
    " "
   ]
  },
  {
   "cell_type": "code",
   "execution_count": null,
   "metadata": {},
   "outputs": [],
   "source": []
  },
  {
   "cell_type": "markdown",
   "metadata": {},
   "source": [
    "Check what this raft should be ( `CCD_MANU` is encoded from `detectors.getSerial()` during the repackaging stage:"
   ]
  },
  {
   "cell_type": "code",
   "execution_count": 11,
   "metadata": {},
   "outputs": [
    {
     "data": {
      "text/plain": [
       "'E2V'"
      ]
     },
     "execution_count": 11,
     "metadata": {},
     "output_type": "execute_result"
    }
   ],
   "source": [
    "hdul[0].header['CCD_MANU']"
   ]
  },
  {
   "cell_type": "code",
   "execution_count": 12,
   "metadata": {},
   "outputs": [
    {
     "data": {
      "text/plain": [
       "SIMPLE  =                    T / conforms to FITS standard                      \n",
       "BITPIX  =                    8 / array data type                                \n",
       "NAXIS   =                    0 / number of array dimensions                     \n",
       "EXTEND  =                    T                                                  \n",
       "EXPTIME =                 15.0                                                  \n",
       "DARKTIME=                 15.0                                                  \n",
       "RUNNUM  = '9006001 '                                                            \n",
       "MJD-OBS =     59579.9999131944                                                  \n",
       "DATE-OBS= '2021-12-31T23:59:52.500'                                             \n",
       "DAYOBS  = '20211231'                                                            \n",
       "DATE    = '2021-01-20T21:16:34'                                                 \n",
       "MJD     =    59234.88650462963                                                  \n",
       "FILTER  = 'g       '                                                            \n",
       "LSST_NUM= 'E2V-CCD250-386'                                                      \n",
       "CCD_MANU= 'E2V     '                                                            \n",
       "CCD_TYPE= 'CCD250  '                                                            \n",
       "DETSIZE = '[1:4096,1:4004]'                                                     \n",
       "INSTRUME= 'lsstCam '                                                            \n",
       "TELESCOP= 'LSST    '                                                            \n",
       "TELCODE = 'MC      '                                                            \n",
       "CONTRLLR= 'H       '                                                            \n",
       "SEQNUM  =                 6001                                                  \n",
       "OBSID   = 'MC_H_20211231_006001'                                                \n",
       "TESTTYPE= 'PHOSIM  '                                                            \n",
       "IMGTYPE = 'SKYEXP  '                                                            \n",
       "RAFTBAY = 'R32     '                                                            \n",
       "CCDSLOT = 'S11     '                                                            \n",
       "RASTART =                 0.03                                                  \n",
       "DECSTART=                -0.02                                                  \n",
       "ROTSTART=                  0.0                                                  \n",
       "RA      =                 0.03                                                  \n",
       "DEC     =                -0.02                                                  \n",
       "ROTPA   =                  0.0                                                  \n",
       "ROTPOS  =                  0.0                                                  "
      ]
     },
     "execution_count": 12,
     "metadata": {},
     "output_type": "execute_result"
    }
   ],
   "source": [
    "hdul[0].header"
   ]
  },
  {
   "cell_type": "code",
   "execution_count": 1,
   "metadata": {},
   "outputs": [
    {
     "data": {
      "text/plain": [
       "Box2I(minimum=Point2I(0, 0), dimensions=Extent2I(4096, 4004))"
      ]
     },
     "execution_count": 1,
     "metadata": {},
     "output_type": "execute_result"
    }
   ],
   "source": [
    "from lsst.obs.lsst import LsstCam\n",
    "sensorId = 'R32_S11'\n",
    "camera = LsstCam().getCamera()\n",
    "detectors = camera.get(sensorId)\n",
    "detectors.getBBox()"
   ]
  },
  {
   "cell_type": "code",
   "execution_count": 2,
   "metadata": {},
   "outputs": [
    {
     "data": {
      "text/plain": [
       "'E2V-CCD250-386'"
      ]
     },
     "execution_count": 2,
     "metadata": {},
     "output_type": "execute_result"
    }
   ],
   "source": [
    "detectors.getSerial()"
   ]
  },
  {
   "cell_type": "code",
   "execution_count": 3,
   "metadata": {},
   "outputs": [],
   "source": [
    "amp = detectors.getAmplifiers()[0]\n"
   ]
  },
  {
   "cell_type": "code",
   "execution_count": 4,
   "metadata": {},
   "outputs": [
    {
     "data": {
      "text/plain": [
       "Box2I(minimum=Point2I(0, 2002), dimensions=Extent2I(512, 2002))"
      ]
     },
     "execution_count": 4,
     "metadata": {},
     "output_type": "execute_result"
    }
   ],
   "source": [
    "amp.getBBox()"
   ]
  },
  {
   "cell_type": "code",
   "execution_count": 7,
   "metadata": {},
   "outputs": [
    {
     "data": {
      "text/plain": [
       "Box2I(minimum=Point2I(10, 0), dimensions=Extent2I(512, 2002))"
      ]
     },
     "execution_count": 7,
     "metadata": {},
     "output_type": "execute_result"
    }
   ],
   "source": [
    "amp.getRawDataBBox()"
   ]
  },
  {
   "cell_type": "code",
   "execution_count": 5,
   "metadata": {},
   "outputs": [
    {
     "data": {
      "text/plain": [
       "Box2I(minimum=Point2I(522, 0), dimensions=Extent2I(54, 2002))"
      ]
     },
     "execution_count": 5,
     "metadata": {},
     "output_type": "execute_result"
    }
   ],
   "source": [
    "amp.getRawHorizontalOverscanBBox()"
   ]
  },
  {
   "cell_type": "code",
   "execution_count": 6,
   "metadata": {},
   "outputs": [
    {
     "data": {
      "text/plain": [
       "Box2I(minimum=Point2I(0, 0), dimensions=Extent2I(10, 2002))"
      ]
     },
     "execution_count": 6,
     "metadata": {},
     "output_type": "execute_result"
    }
   ],
   "source": [
    "amp.getRawHorizontalPrescanBBox()"
   ]
  },
  {
   "cell_type": "code",
   "execution_count": null,
   "metadata": {},
   "outputs": [],
   "source": [
    "from lsst.obs.lsst import phosim\n",
    "sensorId = 'R32_S11'\n",
    "camera = LsstCam().getCamera()\n",
    "detectors = camera.get(sensorId)\n",
    "detectors.getBBox()"
   ]
  },
  {
   "cell_type": "code",
   "execution_count": 43,
   "metadata": {},
   "outputs": [],
   "source": [
    "# required dimensions\n",
    "dims = amp.getRawBBox().getDimensions()\n",
    "long = max(dims)\n",
    "short = min(dims)"
   ]
  },
  {
   "cell_type": "code",
   "execution_count": 46,
   "metadata": {},
   "outputs": [],
   "source": []
  },
  {
   "cell_type": "code",
   "execution_count": 50,
   "metadata": {},
   "outputs": [
    {
     "name": "stdout",
     "output_type": "stream",
     "text": [
      "2048 576\n"
     ]
    }
   ],
   "source": [
    "print(long,short)"
   ]
  },
  {
   "cell_type": "code",
   "execution_count": null,
   "metadata": {},
   "outputs": [],
   "source": [
    "E2V dimensions are [2048x576]. This is also stored for each amp in `amp.getRawBBox()` \n",
    " \n"
   ]
  },
  {
   "cell_type": "code",
   "execution_count": 22,
   "metadata": {},
   "outputs": [],
   "source": [
    "arr = hdul[1].data"
   ]
  },
  {
   "cell_type": "code",
   "execution_count": 25,
   "metadata": {},
   "outputs": [
    {
     "data": {
      "text/plain": [
       "(2010, 522)"
      ]
     },
     "execution_count": 25,
     "metadata": {},
     "output_type": "execute_result"
    }
   ],
   "source": [
    "arr.shape"
   ]
  },
  {
   "cell_type": "code",
   "execution_count": 49,
   "metadata": {},
   "outputs": [
    {
     "name": "stdout",
     "output_type": "stream",
     "text": [
      "2010 522\n"
     ]
    }
   ],
   "source": [
    "d1, d2 = np.shape(arr)\n",
    "print(d1,d2 )"
   ]
  },
  {
   "cell_type": "code",
   "execution_count": 30,
   "metadata": {},
   "outputs": [
    {
     "data": {
      "text/plain": [
       "2010"
      ]
     },
     "execution_count": 30,
     "metadata": {},
     "output_type": "execute_result"
    }
   ],
   "source": []
  },
  {
   "cell_type": "code",
   "execution_count": 86,
   "metadata": {},
   "outputs": [
    {
     "name": "stdout",
     "output_type": "stream",
     "text": [
      "19 19\n",
      "27 27\n"
     ]
    }
   ],
   "source": [
    "# need to assert that\n",
    "# the desired dimensions stored in lsstCamMapper\n",
    "# are larger than the current ones \n",
    "diffLong = long-d1\n",
    "diffShort = short-d2\n",
    "\n",
    "# this works \n",
    "addBeforeLong = diffLong // 2\n",
    "addAfterLong = diffLong - addBeforeLong\n",
    "print(addBeforeLong, addAfterLong)\n",
    "\n",
    "\n",
    "addBeforeShort = diffShort // 2\n",
    "addAfterShort = diffShort - addBeforeShort\n",
    "print(addBeforeShort, addAfterShort)\n",
    "\n",
    "\n",
    "arrPad = np.pad(arr, ((addBeforeLong, addAfterLong),(addBeforeShort, addAfterShort)),\n",
    "                mode='constant', constant_values = np.nan )"
   ]
  },
  {
   "cell_type": "code",
   "execution_count": 87,
   "metadata": {},
   "outputs": [
    {
     "data": {
      "text/plain": [
       "array([[0, 0, 0, ..., 0, 0, 0],\n",
       "       [0, 0, 0, ..., 0, 0, 0],\n",
       "       [0, 0, 0, ..., 0, 0, 0],\n",
       "       ...,\n",
       "       [0, 0, 0, ..., 0, 0, 0],\n",
       "       [0, 0, 0, ..., 0, 0, 0],\n",
       "       [0, 0, 0, ..., 0, 0, 0]], dtype=uint32)"
      ]
     },
     "execution_count": 87,
     "metadata": {},
     "output_type": "execute_result"
    }
   ],
   "source": [
    "arrPad"
   ]
  },
  {
   "cell_type": "code",
   "execution_count": 79,
   "metadata": {},
   "outputs": [],
   "source": [
    "# validate that the new shape is the expected one \n",
    "newDim = np.shape(arrPad)\n",
    "newLong, newShort = max(newDim), min(newDim)\n",
    "\n",
    "#print(newLong, long)\n",
    "#print(newShort, short)\n",
    "\n",
    "assert newLong == long\n",
    "assert newShort == short "
   ]
  },
  {
   "cell_type": "markdown",
   "metadata": {},
   "source": [
    "Show the padded array to prove that it worked:"
   ]
  },
  {
   "cell_type": "code",
   "execution_count": 85,
   "metadata": {},
   "outputs": [
    {
     "data": {
      "text/plain": [
       "<matplotlib.image.AxesImage at 0x7f2cb76bd8d0>"
      ]
     },
     "execution_count": 85,
     "metadata": {},
     "output_type": "execute_result"
    },
    {
     "data": {
      "image/png": "[encoded data removed]",
      "text/plain": [
       "<Figure size 432x288 with 2 Axes>"
      ]
     },
     "metadata": {
      "needs_background": "light"
     },
     "output_type": "display_data"
    }
   ],
   "source": [
    "import matplotlib.pyplot as plt \n",
    "fig,ax = plt.subplots(1,2)\n",
    "ax[0].imshow(arr)\n",
    "ax[1].imshow(arrPad,vmin=1000)"
   ]
  },
  {
   "cell_type": "code",
   "execution_count": 1,
   "metadata": {},
   "outputs": [
    {
     "ename": "NameError",
     "evalue": "name 'diffLong' is not defined",
     "output_type": "error",
     "traceback": [
      "\u001b[0;31m---------------------------------------------------------------------------\u001b[0m",
      "\u001b[0;31mNameError\u001b[0m                                 Traceback (most recent call last)",
      "\u001b[0;32m<ipython-input-1-dd5f6777b48e>\u001b[0m in \u001b[0;36m<module>\u001b[0;34m\u001b[0m\n\u001b[0;32m----> 1\u001b[0;31m \u001b[0mdiffLong\u001b[0m \u001b[0;34m//\u001b[0m \u001b[0;36m2.\u001b[0m\u001b[0;34m\u001b[0m\u001b[0;34m\u001b[0m\u001b[0m\n\u001b[0m",
      "\u001b[0;31mNameError\u001b[0m: name 'diffLong' is not defined"
     ]
    }
   ],
   "source": [
    "diffLong // 2."
   ]
  },
  {
   "cell_type": "markdown",
   "metadata": {},
   "source": [
    "Need to add the following in `repackage_corner()` and `repackage_main()`, at each stage when going through the amplifiers:"
   ]
  },
  {
   "cell_type": "code",
   "execution_count": 93,
   "metadata": {},
   "outputs": [
    {
     "data": {
      "text/plain": [
       "(2048, 576)"
      ]
     },
     "execution_count": 93,
     "metadata": {},
     "output_type": "execute_result"
    }
   ],
   "source": [
    "np.shape(hdul[1].data)"
   ]
  },
  {
   "cell_type": "code",
   "execution_count": 98,
   "metadata": {},
   "outputs": [],
   "source": [
    "import astropy.io.fits as fits\n",
    "fname = '/project/scichris/aos/results_lsstfam_noCrosstalk2/iter0/img/extra/MC_H_20211231_006001_R32_S11.fits'\n",
    "hdul = fits.open(fname)"
   ]
  },
  {
   "cell_type": "code",
   "execution_count": 99,
   "metadata": {},
   "outputs": [
    {
     "name": "stdout",
     "output_type": "stream",
     "text": [
      "19 19\n",
      "27 27\n",
      "19 19\n",
      "27 27\n",
      "19 19\n",
      "27 27\n",
      "19 19\n",
      "27 27\n",
      "19 19\n",
      "27 27\n",
      "19 19\n",
      "27 27\n",
      "19 19\n",
      "27 27\n",
      "19 19\n",
      "27 27\n",
      "19 19\n",
      "27 27\n",
      "19 19\n",
      "27 27\n",
      "19 19\n",
      "27 27\n",
      "19 19\n",
      "27 27\n",
      "19 19\n",
      "27 27\n",
      "19 19\n",
      "27 27\n",
      "19 19\n",
      "27 27\n",
      "19 19\n",
      "27 27\n"
     ]
    }
   ],
   "source": [
    "for i in range(1,len(hdul)):\n",
    "    hdu = hdul[i]\n",
    "\n",
    "    # 1. pull required dimensions from LsstCamMapper \n",
    "    mapperDims = amp.getRawBBox().getDimensions()\n",
    "    longMapperDim, shortMapperDim = max(mapperDims), min(mapperDims)\n",
    "\n",
    "    # 2. check the current dimensions of the phosim data \n",
    "    data = np.copy(hdu.data)\n",
    "    dataDims = np.shape(data)\n",
    "    longDataDim, shortDataDim = max(dataDims), min(dataDims)\n",
    "\n",
    "\n",
    "    # 3. need to assert that\n",
    "    # the desired dimensions stored in lsstCamMapper\n",
    "    # are larger than the current ones \n",
    "    assert longMapperDim > longDataDim\n",
    "    assert shortMapperDim > shortDataDim\n",
    "    diffLong = longMapperDim - longDataDim\n",
    "    diffShort = shortMapperDim - shortDataDim\n",
    "\n",
    "    # Find out the amount of padding on each \n",
    "    # side of the array for the long and the short\n",
    "    # dimension \n",
    "    addLongBefore = diffLong // 2\n",
    "    addLongAfter = diffLong - addLongBefore\n",
    "    #print(addLongBefore, addLongAfter)\n",
    "\n",
    "\n",
    "    addShortBefore = diffShort // 2\n",
    "    addShortAfter = diffShort - addShortBefore\n",
    "    #print(addShortBefore, addShortAfter)\n",
    "\n",
    "\n",
    "    dataPadded = np.pad(data, ((addLongBefore, addLongAfter),(addShortBefore, addShortAfter)),\n",
    "                    mode='constant', constant_values = np.nan )\n",
    "\n",
    "    # validate that the new shape is the expected one \n",
    "    dataNewDim = np.shape(dataPadded)\n",
    "    longNewDim, shortNewDim = max(dataNewDim), min(dataNewDim)\n",
    "\n",
    "    assert longNewDim == longMapperDim\n",
    "    assert shortNewDim == shortMapperDim\n",
    "\n",
    "    hdu.data = dataPadded \n",
    "\n",
    "    hdul[i] = hdu\n",
    "    \n",
    "    \n"
   ]
  },
  {
   "cell_type": "code",
   "execution_count": null,
   "metadata": {},
   "outputs": [],
   "source": [
    "cgUu"
   ]
  },
  {
   "cell_type": "code",
   "execution_count": 101,
   "metadata": {},
   "outputs": [],
   "source": [
    "import os\n",
    "filename = 'MC_H_20211231_006001_R32_S11.fits'\n",
    "out_dir = '/project/scichris/aos/results_lsstfam_noCrosstalk2/iter0/img/extraPad/'\n",
    "filename = os.path.join(out_dir, filename)\n",
    "hdul.writeto(filename, overwrite=True)"
   ]
  },
  {
   "cell_type": "code",
   "execution_count": null,
   "metadata": {},
   "outputs": [],
   "source": []
  },
  {
   "cell_type": "code",
   "execution_count": 91,
   "metadata": {},
   "outputs": [
    {
     "data": {
      "text/plain": [
       "(2048, 576)"
      ]
     },
     "execution_count": 91,
     "metadata": {},
     "output_type": "execute_result"
    }
   ],
   "source": [
    "np.shape(hdu.data)"
   ]
  },
  {
   "cell_type": "markdown",
   "metadata": {},
   "source": [
    "try ingesting that data:\n"
   ]
  },
  {
   "cell_type": "markdown",
   "metadata": {},
   "source": [
    "    cd /project/scichris/aos/results_lsstfam_noCrosstalk2\n",
    "    mkdir input2\n",
    "\n",
    "    cd fake_flats\n",
    "    makeGainImages.py --detector_list  R32_S11  \n",
    "\n",
    "\n",
    "    ingestCalibs.py /project/scichris/aos/results_lsstfam_noCrosstalk2/input2/ /project/scichris/aos/results_lsstfam_noCrosstalk2/fake_flats/* --validity 99999 --output /project/scichris/aos/results_lsstfam_noCrosstalk2/input2/\n",
    "    \n",
    "    \n",
    "    ingestImages.py /project/scichris/aos/results_lsstfam_noCrosstalk2/input2/ /project/scichris/aos/results_lsstfam_noCrosstalk2/iter0/img/extraPad/*.fits\n",
    "    \n",
    "    runIsr.py  /project/scichris/aos/results_lsstfam_noCrosstalk2/input2/   --id  --rerun=run1  --configfile /project/scichris/aos/results_lsstfam_noCrosstalk2/input2/isr_config.py  --no-versions\n",
    "    "
   ]
  },
  {
   "cell_type": "markdown",
   "metadata": {},
   "source": [
    "I get an error :\n",
    "    \n",
    "    runIsr.isr INFO: Applying flat correction.\n",
    "    runIsr FATAL: Failed on dataId={'dayObs': '2021-12-31', 'expId': 4021123106001, 'raftName': 'R32', 'detectorName': 'S11', 'detector': 139}: RuntimeError: maskedImage bbox (minimum=(0, 0), maximum=(4095, 4003)) != flatMaskedImage bbox (minimum=(0, 0), maximum=(4071, 3999))\n",
    "    Traceback (most recent call last):\n",
    "      File \"/opt/lsst/software/stack/stack/miniconda3-py37_4.8.2-cb4e2dc/Linux64/pipe_base/21.0.0-6-gd3283ba+8abc1306da/python/lsst/pipe/base/cmdLineTask.py\", line 431, in __call__\n",
    "        result = self.runTask(task, dataRef, kwargs)\n",
    "      File \"/opt/lsst/software/stack/stack/miniconda3-py37_4.8.2-cb4e2dc/Linux64/pipe_base/21.0.0-6-gd3283ba+8abc1306da/python/lsst/pipe/base/cmdLineTask.py\", line 495, in runTask\n",
    "        return task.runDataRef(dataRef, **kwargs)\n",
    "      File \"/opt/lsst/software/stack/stack/miniconda3-py37_4.8.2-cb4e2dc/Linux64/ip_isr/21.0.0-1-g763706f+1410490d4b/python/lsst/ip/isr/isrTask.py\", line 2621, in runDataRef\n",
    "        return self.isr.runDataRef(dataRef)\n",
    "      File \"/opt/lsst/software/stack/stack/miniconda3-py37_4.8.2-cb4e2dc/Linux64/pipe_base/21.0.0-6-gd3283ba+8abc1306da/python/lsst/pipe/base/timer.py\", line 157, in wrapper\n",
    "        res = func(self, *args, **keyArgs)\n",
    "      File \"/opt/lsst/software/stack/stack/miniconda3-py37_4.8.2-cb4e2dc/Linux64/ip_isr/21.0.0-1-g763706f+1410490d4b/python/lsst/ip/isr/isrTask.py\", line 1686, in runDataRef\n",
    "        result = self.run(ccdExposure, camera=camera, **isrData.getDict())\n",
    "      File \"/opt/lsst/software/stack/stack/miniconda3-py37_4.8.2-cb4e2dc/Linux64/pipe_base/21.0.0-6-gd3283ba+8abc1306da/python/lsst/pipe/base/timer.py\", line 157, in wrapper\n",
    "        res = func(self, *args, **keyArgs)\n",
    "      File \"/opt/lsst/software/stack/stack/miniconda3-py37_4.8.2-cb4e2dc/Linux64/ip_isr/21.0.0-1-g763706f+1410490d4b/python/lsst/ip/isr/isrTask.py\", line 1549, in run\n",
    "        self.flatCorrection(ccdExposure, flat)\n",
    "      File \"/opt/lsst/software/stack/stack/miniconda3-py37_4.8.2-cb4e2dc/Linux64/ip_isr/21.0.0-1-g763706f+1410490d4b/python/lsst/ip/isr/isrTask.py\", line 2165, in flatCorrection\n",
    "        trimToFit=self.config.doTrimToMatchCalib\n",
    "      File \"/opt/lsst/software/stack/stack/miniconda3-py37_4.8.2-cb4e2dc/Linux64/ip_isr/21.0.0-1-g763706f+1410490d4b/python/lsst/ip/isr/isrFunctions.py\", line 392, in flatCorrection\n",
    "        (maskedImage.getBBox(afwImage.LOCAL), flatMaskedImage.getBBox(afwImage.LOCAL)))\n",
    "    RuntimeError: maskedImage bbox (minimum=(0, 0), maximum=(4095, 4003)) != flatMaskedImage bbox (minimum=(0, 0), maximum=(4071, 3999))\n",
    "    \n",
    "    \n",
    "    "
   ]
  },
  {
   "cell_type": "markdown",
   "metadata": {},
   "source": [
    "This must be because flats have a wrong dimension compared to LsstCamMapper - they have a dimension from PhosimMapper...\n",
    "\n",
    "Need to change that in `makeGainImages.py` : "
   ]
  },
  {
   "cell_type": "code",
   "execution_count": 16,
   "metadata": {},
   "outputs": [],
   "source": [
    "from datetime import datetime\n",
    "import argparse\n",
    "\n",
    "from lsst.obs.lsst import LsstCam\n",
    "from lsst.obs.lsst.phosim import PhosimMapper\n",
    "import lsst.afw.image as afwImage\n",
    "import numpy as np\n",
    "import os "
   ]
  },
  {
   "cell_type": "code",
   "execution_count": 19,
   "metadata": {},
   "outputs": [],
   "source": [
    "def makeGainImages(just_wfs=False, detector_list=None, out_dir='.'):\n",
    "\n",
    "    if (just_wfs is True) and (detector_list is not None):\n",
    "        raise RuntimeError(\"--just_wfs and --detector_list are exclusive.\")\n",
    "\n",
    "    cameraLsst = LsstCam().getCamera()\n",
    "    cameraPhosim = PhosimMapper().camera\n",
    "    if just_wfs:\n",
    "        raise RuntimeError(\" can't do corner sensors yet with hybrid phosim and lsstCam mappers\")\n",
    "        #ccd_list = [camera[name] for name in [\"R00_S22\", \"R04_S20\", \"R44_S00\", \"R40_S02\"]]\n",
    "    elif (detector_list is not None):\n",
    "        ccd_list_lsst = [cameraLsst[name] for name in detector_list]\n",
    "        ccd_list_phosim = [cameraPhosim[name] for name in detector_list]\n",
    "    else:\n",
    "        ccd_list_lsst = cameraLsst\n",
    "        ccd_list_phosim = cameraPhosim\n",
    "    \n",
    "    for filt_name in 'ugrizy':\n",
    "        for ccdLsst, ccdPhosim in zip(ccd_list_lsst, ccd_list_phosim):\n",
    "            name = ccdLsst.getName()\n",
    "            # I'm not sure how to deal with the split chips yet.\n",
    "            if 'A' in name or 'B' in name:\n",
    "                continue\n",
    "            print(name)\n",
    "            CHIPID = \"\".join([c for c in name if c != \",\" and c != \":\"])\n",
    "            CHIPID = \"_\".join(CHIPID.split())\n",
    "            \n",
    "            # get dimension from LsstCamMapper \n",
    "            image = afwImage.ImageF(ccdLsst.getBBox())\n",
    "            for ampLsst, ampPhosim in zip(ccdLsst, ccdPhosim):\n",
    "                subim = afwImage.ImageF(image, ampLsst.getBBox())\n",
    "                subim[:] = 1/ampPhosim.getGain()\n",
    "                print('%s phosimMapper %s , %2.3f/ lsstCamMapper %s ,%2.3f'%\n",
    "                      (filt_name, ampPhosim.getName(), ampPhosim.getGain(), ampLsst.getName(), \n",
    "                       ampLsst.getGain())\n",
    "                     )\n",
    "\n",
    "            # need to flip the image to match the result of phosim repackager...\n",
    "            oldImageArray = image.array.copy()\n",
    "            image.array[:] = np.flipud(oldImageArray)\n",
    "\n",
    "            expInfo = afwImage.ExposureInfo()\n",
    "            inFilter = afwImage.Filter(filt_name)\n",
    "            expInfo.setFilter(inFilter)\n",
    "            exp = afwImage.ExposureF(afwImage.MaskedImageF(image), expInfo)\n",
    "            md = exp.getMetadata()\n",
    "            md.set('CHIPID', CHIPID)\n",
    "            # Set place holder date\n",
    "            md.set('MJD-OBS', 53005.0)\n",
    "            md.set('OBSTYPE', 'flat')\n",
    "            # arbitrary for flats\n",
    "            md.set('EXPTIME', 100)\n",
    "            # need to be able to specify any filter\n",
    "            md.set('CALDATE', 53005.0)\n",
    "            # Add the CALIB_ID header card\n",
    "            md.set('CALIB_ID', 'raftName=%s detectorName=%s detector=%i filter=%s calibDate=%s' %\n",
    "                   (CHIPID.split('_')[0], CHIPID.split('_')[1], \n",
    "                    ccdPhosim.getId(), filt_name, datetime.now()))\n",
    "            exp.setMetadata(md)\n",
    "            filename = \"%(name)s_%(filter)s.fits\"%({'name': CHIPID, 'filter': filt_name})\n",
    "            filename = os.path.join(out_dir, filename)\n",
    "            exp.writeFits(filename)\n",
    "\n",
    "\n",
    "# if __name__ == \"__main__\":\n",
    "#     parser = argparse.ArgumentParser(description='Make fake flats using image gains')\n",
    "#     parser.add_argument('--just_wfs', action='store_true',\n",
    "#                         help='Generate fake flats for just wavefront sensing chips.')\n",
    "#     parser.add_argument('--detector_list', nargs='+',\n",
    "#                         help='Generate fake flats for the detector list. (e.g. R22_S11 R22_S10)')\n",
    "\n",
    "#     args = parser.parse_args()\n",
    "#     main(just_wfs=args.just_wfs, detector_list=args.detector_list)\n"
   ]
  },
  {
   "cell_type": "code",
   "execution_count": 20,
   "metadata": {},
   "outputs": [
    {
     "name": "stdout",
     "output_type": "stream",
     "text": [
      "R32_S11\n",
      "u phosimMapper C10 , 1.742/ lsstCamMapper C10 ,1.001\n",
      "u phosimMapper C11 , 1.774/ lsstCamMapper C11 ,37.962\n",
      "u phosimMapper C12 , 1.750/ lsstCamMapper C12 ,23.563\n",
      "u phosimMapper C13 , 1.663/ lsstCamMapper C13 ,15.516\n",
      "u phosimMapper C14 , 1.662/ lsstCamMapper C14 ,17.442\n",
      "u phosimMapper C15 , 1.670/ lsstCamMapper C15 ,15.966\n",
      "u phosimMapper C16 , 1.783/ lsstCamMapper C16 ,19.340\n",
      "u phosimMapper C17 , 1.657/ lsstCamMapper C17 ,1.061\n",
      "u phosimMapper C07 , 1.696/ lsstCamMapper C07 ,1.073\n",
      "u phosimMapper C06 , 1.772/ lsstCamMapper C06 ,18.501\n",
      "u phosimMapper C05 , 1.701/ lsstCamMapper C05 ,13.294\n",
      "u phosimMapper C04 , 1.638/ lsstCamMapper C04 ,1.078\n",
      "u phosimMapper C03 , 1.731/ lsstCamMapper C03 ,1.088\n",
      "u phosimMapper C02 , 1.657/ lsstCamMapper C02 ,19.887\n",
      "u phosimMapper C01 , 1.734/ lsstCamMapper C01 ,17.631\n",
      "u phosimMapper C00 , 1.695/ lsstCamMapper C00 ,19.187\n",
      "R32_S11\n",
      "g phosimMapper C10 , 1.742/ lsstCamMapper C10 ,1.001\n",
      "g phosimMapper C11 , 1.774/ lsstCamMapper C11 ,37.962\n",
      "g phosimMapper C12 , 1.750/ lsstCamMapper C12 ,23.563\n",
      "g phosimMapper C13 , 1.663/ lsstCamMapper C13 ,15.516\n",
      "g phosimMapper C14 , 1.662/ lsstCamMapper C14 ,17.442\n",
      "g phosimMapper C15 , 1.670/ lsstCamMapper C15 ,15.966\n",
      "g phosimMapper C16 , 1.783/ lsstCamMapper C16 ,19.340\n",
      "g phosimMapper C17 , 1.657/ lsstCamMapper C17 ,1.061\n",
      "g phosimMapper C07 , 1.696/ lsstCamMapper C07 ,1.073\n",
      "g phosimMapper C06 , 1.772/ lsstCamMapper C06 ,18.501\n",
      "g phosimMapper C05 , 1.701/ lsstCamMapper C05 ,13.294\n",
      "g phosimMapper C04 , 1.638/ lsstCamMapper C04 ,1.078\n",
      "g phosimMapper C03 , 1.731/ lsstCamMapper C03 ,1.088\n",
      "g phosimMapper C02 , 1.657/ lsstCamMapper C02 ,19.887\n",
      "g phosimMapper C01 , 1.734/ lsstCamMapper C01 ,17.631\n",
      "g phosimMapper C00 , 1.695/ lsstCamMapper C00 ,19.187\n",
      "R32_S11\n",
      "r phosimMapper C10 , 1.742/ lsstCamMapper C10 ,1.001\n",
      "r phosimMapper C11 , 1.774/ lsstCamMapper C11 ,37.962\n",
      "r phosimMapper C12 , 1.750/ lsstCamMapper C12 ,23.563\n",
      "r phosimMapper C13 , 1.663/ lsstCamMapper C13 ,15.516\n",
      "r phosimMapper C14 , 1.662/ lsstCamMapper C14 ,17.442\n",
      "r phosimMapper C15 , 1.670/ lsstCamMapper C15 ,15.966\n",
      "r phosimMapper C16 , 1.783/ lsstCamMapper C16 ,19.340\n",
      "r phosimMapper C17 , 1.657/ lsstCamMapper C17 ,1.061\n",
      "r phosimMapper C07 , 1.696/ lsstCamMapper C07 ,1.073\n",
      "r phosimMapper C06 , 1.772/ lsstCamMapper C06 ,18.501\n",
      "r phosimMapper C05 , 1.701/ lsstCamMapper C05 ,13.294\n",
      "r phosimMapper C04 , 1.638/ lsstCamMapper C04 ,1.078\n",
      "r phosimMapper C03 , 1.731/ lsstCamMapper C03 ,1.088\n",
      "r phosimMapper C02 , 1.657/ lsstCamMapper C02 ,19.887\n",
      "r phosimMapper C01 , 1.734/ lsstCamMapper C01 ,17.631\n",
      "r phosimMapper C00 , 1.695/ lsstCamMapper C00 ,19.187\n",
      "R32_S11\n",
      "i phosimMapper C10 , 1.742/ lsstCamMapper C10 ,1.001\n",
      "i phosimMapper C11 , 1.774/ lsstCamMapper C11 ,37.962\n",
      "i phosimMapper C12 , 1.750/ lsstCamMapper C12 ,23.563\n",
      "i phosimMapper C13 , 1.663/ lsstCamMapper C13 ,15.516\n",
      "i phosimMapper C14 , 1.662/ lsstCamMapper C14 ,17.442\n",
      "i phosimMapper C15 , 1.670/ lsstCamMapper C15 ,15.966\n",
      "i phosimMapper C16 , 1.783/ lsstCamMapper C16 ,19.340\n",
      "i phosimMapper C17 , 1.657/ lsstCamMapper C17 ,1.061\n",
      "i phosimMapper C07 , 1.696/ lsstCamMapper C07 ,1.073\n",
      "i phosimMapper C06 , 1.772/ lsstCamMapper C06 ,18.501\n",
      "i phosimMapper C05 , 1.701/ lsstCamMapper C05 ,13.294\n",
      "i phosimMapper C04 , 1.638/ lsstCamMapper C04 ,1.078\n",
      "i phosimMapper C03 , 1.731/ lsstCamMapper C03 ,1.088\n",
      "i phosimMapper C02 , 1.657/ lsstCamMapper C02 ,19.887\n",
      "i phosimMapper C01 , 1.734/ lsstCamMapper C01 ,17.631\n",
      "i phosimMapper C00 , 1.695/ lsstCamMapper C00 ,19.187\n",
      "R32_S11\n",
      "z phosimMapper C10 , 1.742/ lsstCamMapper C10 ,1.001\n",
      "z phosimMapper C11 , 1.774/ lsstCamMapper C11 ,37.962\n",
      "z phosimMapper C12 , 1.750/ lsstCamMapper C12 ,23.563\n",
      "z phosimMapper C13 , 1.663/ lsstCamMapper C13 ,15.516\n",
      "z phosimMapper C14 , 1.662/ lsstCamMapper C14 ,17.442\n",
      "z phosimMapper C15 , 1.670/ lsstCamMapper C15 ,15.966\n",
      "z phosimMapper C16 , 1.783/ lsstCamMapper C16 ,19.340\n",
      "z phosimMapper C17 , 1.657/ lsstCamMapper C17 ,1.061\n",
      "z phosimMapper C07 , 1.696/ lsstCamMapper C07 ,1.073\n",
      "z phosimMapper C06 , 1.772/ lsstCamMapper C06 ,18.501\n",
      "z phosimMapper C05 , 1.701/ lsstCamMapper C05 ,13.294\n",
      "z phosimMapper C04 , 1.638/ lsstCamMapper C04 ,1.078\n",
      "z phosimMapper C03 , 1.731/ lsstCamMapper C03 ,1.088\n",
      "z phosimMapper C02 , 1.657/ lsstCamMapper C02 ,19.887\n",
      "z phosimMapper C01 , 1.734/ lsstCamMapper C01 ,17.631\n",
      "z phosimMapper C00 , 1.695/ lsstCamMapper C00 ,19.187\n",
      "R32_S11\n",
      "y phosimMapper C10 , 1.742/ lsstCamMapper C10 ,1.001\n",
      "y phosimMapper C11 , 1.774/ lsstCamMapper C11 ,37.962\n",
      "y phosimMapper C12 , 1.750/ lsstCamMapper C12 ,23.563\n",
      "y phosimMapper C13 , 1.663/ lsstCamMapper C13 ,15.516\n",
      "y phosimMapper C14 , 1.662/ lsstCamMapper C14 ,17.442\n",
      "y phosimMapper C15 , 1.670/ lsstCamMapper C15 ,15.966\n",
      "y phosimMapper C16 , 1.783/ lsstCamMapper C16 ,19.340\n",
      "y phosimMapper C17 , 1.657/ lsstCamMapper C17 ,1.061\n",
      "y phosimMapper C07 , 1.696/ lsstCamMapper C07 ,1.073\n",
      "y phosimMapper C06 , 1.772/ lsstCamMapper C06 ,18.501\n",
      "y phosimMapper C05 , 1.701/ lsstCamMapper C05 ,13.294\n",
      "y phosimMapper C04 , 1.638/ lsstCamMapper C04 ,1.078\n",
      "y phosimMapper C03 , 1.731/ lsstCamMapper C03 ,1.088\n",
      "y phosimMapper C02 , 1.657/ lsstCamMapper C02 ,19.887\n",
      "y phosimMapper C01 , 1.734/ lsstCamMapper C01 ,17.631\n",
      "y phosimMapper C00 , 1.695/ lsstCamMapper C00 ,19.187\n"
     ]
    }
   ],
   "source": [
    "makeGainImages(detector_list=['R32_S11'], \n",
    "               out_dir='/project/scichris/aos/results_lsstfam_noCrosstalk2/fake_flats/')"
   ]
  },
  {
   "cell_type": "markdown",
   "metadata": {},
   "source": [
    "Ingest the raws, calibs,  and try to run the ISR again, in a clean dir : m"
   ]
  },
  {
   "cell_type": "markdown",
   "metadata": {},
   "source": [
    "    ingestCalibs.py /project/scichris/aos/results_lsstfam_noCrosstalk2/input3/ /project/scichris/aos/results_lsstfam_noCrosstalk2/fake_flats/* --validity 99999 --output /project/scichris/aos/results_lsstfam_noCrosstalk2/input3/\n",
    "\n",
    "\n",
    "    ingestImages.py /project/scichris/aos/results_lsstfam_noCrosstalk2/input3/ /project/scichris/aos/results_lsstfam_noCrosstalk2/iter0/img/extraPad/*.fits\n",
    "\n",
    "    runIsr.py  /project/scichris/aos/results_lsstfam_noCrosstalk2/input3/   --id  --rerun=run1  --configfile /project/scichris/aos/results_lsstfam_noCrosstalk2/input3/isr_config.py  --no-versions"
   ]
  },
  {
   "cell_type": "markdown",
   "metadata": {},
   "source": [
    "Did not fail : display the results : "
   ]
  },
  {
   "cell_type": "code",
   "execution_count": 37,
   "metadata": {},
   "outputs": [
    {
     "data": {
      "text/plain": [
       "<matplotlib.image.AxesImage at 0x7f739a330490>"
      ]
     },
     "execution_count": 37,
     "metadata": {},
     "output_type": "execute_result"
    },
    {
     "data": {
      "image/png": "[encoded data removed]",
      "text/plain": [
       "<Figure size 360x720 with 1 Axes>"
      ]
     },
     "metadata": {
      "needs_background": "light"
     },
     "output_type": "display_data"
    }
   ],
   "source": [
    "import os\n",
    "%matplotlib inline\n",
    "import matplotlib.pyplot as plt\n",
    "import lsst.daf.persistence as dafPersist\n",
    "dataRoot='/project/scichris/aos/results_lsstfam_noCrosstalk2/input3/'\n",
    "repoRoot = os.path.join(dataRoot, 'rerun/run1') \n",
    "postISRbutler = dafPersist.Butler(repoRoot, )\n",
    "dataId = dict(run='9006001', visit=4021123106001, raftName='R32', detectorName='S11')\n",
    "post = postISRbutler.get('postISRCCD', **dataId) \n",
    "image = post.image.array\n"
   ]
  },
  {
   "cell_type": "code",
   "execution_count": 48,
   "metadata": {},
   "outputs": [
    {
     "data": {
      "text/plain": [
       "<matplotlib.image.AxesImage at 0x7f739a0979d0>"
      ]
     },
     "execution_count": 48,
     "metadata": {},
     "output_type": "execute_result"
    },
    {
     "data": {
      "image/png": "[encoded data removed]",
      "text/plain": [
       "<Figure size 360x720 with 1 Axes>"
      ]
     },
     "metadata": {
      "needs_background": "light"
     },
     "output_type": "display_data"
    }
   ],
   "source": [
    "fig,ax = plt.subplots(1,1,figsize=(5,10))\n",
    "ax.imshow(image.T, origin='lower',vmin=1400,vmax=2600)\n"
   ]
  },
  {
   "cell_type": "code",
   "execution_count": null,
   "metadata": {},
   "outputs": [],
   "source": []
  },
  {
   "cell_type": "markdown",
   "metadata": {},
   "source": [
    "#detector_list = ['R22_S22'\n",
    "\n",
    "camera = LsstCam().getCamera()\n",
    "detectors = camera['R22_S22']\n",
    "for amp in detectors:\n",
    "    print('phosimMapper %s , %2.3f/ lsstCamMapper %s , %2.3f '%(amp.getName(),amp.getGain()))"
   ]
  },
  {
   "cell_type": "code",
   "execution_count": 13,
   "metadata": {},
   "outputs": [
    {
     "data": {
      "text/plain": [
       "98"
      ]
     },
     "execution_count": 13,
     "metadata": {},
     "output_type": "execute_result"
    }
   ],
   "source": [
    "ccdLsst = detectors\n",
    "ccdLsst.getId()"
   ]
  },
  {
   "cell_type": "code",
   "execution_count": 119,
   "metadata": {},
   "outputs": [
    {
     "name": "stdout",
     "output_type": "stream",
     "text": [
      "C10 C10 1.11574 1.719\n",
      "C11 C11 1.12172 1.716\n",
      "C12 C12 1.12397 1.653\n",
      "C13 C13 1.11068 1.78\n",
      "C14 C14 1.10262 1.735\n",
      "C15 C15 1.09866 1.678\n",
      "C16 C16 1.09953 1.678\n",
      "C17 C17 1.0998 1.732\n",
      "C07 C07 1.134 1.705\n",
      "C06 C06 1.14198 1.671\n",
      "C05 C05 1.14213 1.764\n",
      "C04 C04 1.13505 1.606\n",
      "C03 C03 1.14424 1.622\n",
      "C02 C02 1.1477 1.729\n",
      "C01 C01 1.14254 1.641\n",
      "C00 C00 1.15042 1.706\n",
      "C10 C10 1.09494 1.718\n",
      "C11 C11 1.09536 1.646\n",
      "C12 C12 1.10077 1.766\n",
      "C13 C13 1.1047 1.786\n",
      "C14 C14 1.10545 1.66\n",
      "C15 C15 1.09523 1.669\n",
      "C16 C16 1.10021 1.801\n",
      "C17 C17 1.10691 1.638\n",
      "C07 C07 1.10797 1.613\n",
      "C06 C06 1.10142 1.704\n",
      "C05 C05 1.09929 1.763\n",
      "C04 C04 1.0997 1.583\n",
      "C03 C03 1.09774 1.727\n",
      "C02 C02 1.09992 1.734\n",
      "C01 C01 1.09693 1.69\n",
      "C00 C00 1.10505 1.687\n"
     ]
    }
   ],
   "source": [
    "from lsst.obs.lsst import LsstCam\n",
    "from lsst.obs.lsst.phosim import PhosimMapper\n",
    "\n",
    "cameraLsst = LsstCam().getCamera()\n",
    "cameraPhosim = PhosimMapper().camera\n",
    "\n",
    "detector_list = ['R22_S00', 'R22_S01']\n",
    "ccd_list_lsst = [cameraLsst[name] for name in detector_list]\n",
    "ccd_list_phosim = [cameraPhosim[name] for name in detector_list]\n",
    "\n",
    "for ccdLsst, ccdPhosim in zip(ccd_list_lsst, ccd_list_phosim):\n",
    "    name = ccdLsst.getName()\n",
    "#     name2 = ccdPhosim.getName()\n",
    "#     print(name, name2)\n",
    "    for ampLsst, ampPhosim in zip(ccdLsst, ccdPhosim):\n",
    "        print(ampLsst.getName(), ampPhosim.getName(),\\\n",
    "             ampLsst.getGain(), ampPhosim.getGain())"
   ]
  },
  {
   "cell_type": "code",
   "execution_count": 102,
   "metadata": {},
   "outputs": [],
   "source": [
    "camera = LsstCam().getCamera()"
   ]
  },
  {
   "cell_type": "code",
   "execution_count": 105,
   "metadata": {},
   "outputs": [
    {
     "name": "stdout",
     "output_type": "stream",
     "text": [
      "C10\n",
      "C11\n",
      "C12\n",
      "C13\n",
      "C14\n",
      "C15\n",
      "C16\n",
      "C17\n",
      "C07\n",
      "C06\n",
      "C05\n",
      "C04\n",
      "C03\n",
      "C02\n",
      "C01\n",
      "C00\n"
     ]
    }
   ],
   "source": [
    "for ccd in camera['R22_S22']:\n",
    "    print(ccd.getName())"
   ]
  },
  {
   "cell_type": "code",
   "execution_count": null,
   "metadata": {},
   "outputs": [],
   "source": []
  }
 ],
 "metadata": {
  "kernelspec": {
   "display_name": "LSST",
   "language": "python",
   "name": "lsst"
  },
  "language_info": {
   "codemirror_mode": {
    "name": "ipython",
    "version": 3
   },
   "file_extension": ".py",
   "mimetype": "text/x-python",
   "name": "python",
   "nbconvert_exporter": "python",
   "pygments_lexer": "ipython3",
   "version": "3.8.8"
  }
 },
 "nbformat": 4,
 "nbformat_minor": 4
}
