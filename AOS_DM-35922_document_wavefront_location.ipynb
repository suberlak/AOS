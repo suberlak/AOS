{
 "cells": [
  {
   "cell_type": "markdown",
   "id": "5854729e",
   "metadata": {},
   "source": [
    "# DM-35922 : document where the wavefront is calculated in `ts_wep` "
   ]
  },
  {
   "cell_type": "markdown",
   "id": "8c6b117f",
   "metadata": {},
   "source": [
    "Author: Chris Suberlak (@suberlak)\n",
    "\n",
    "Last Verified to Run: 2022-08-18\n",
    "\n",
    "Software Versions:\n",
    "\n",
    "* ts_wep: **v2.5.4**\n",
    "* lsst_distrib: **w_2022_32**"
   ]
  },
  {
   "cell_type": "markdown",
   "id": "93668b47",
   "metadata": {},
   "source": [
    "We know that `ts_ofc`  expects as part of the loop already a sensor-averaged  wavefront error estimate (called in butler outputZernikesAvg  https://github.com/lsst-ts/ts_phosim/blob/2a06807d495eb21e38aac196b0c88d6842de0f72/python/lsst/ts/phosim/CloseLoopTask.py#L660). Indeed, immediately  `ts_ofc` checks if there is exactly as many wavefront error arrays as field indices https://github.com/lsst-ts/ts_ofc/blob/761a71adde8ee75353ec6d9fed06dd9dd5ce79af/python/lsst/ts/ofc/ofc.py#L146  . But a step earlier in `ts_wep`, before averaging, we calculate `outputZernikesRaw`  in https://github.com/lsst-ts/ts_wep/blob/3825b283de5664cdb88c3824298e096c2bc6fbf5/python/lsst/ts/wep/task/EstimateZernikesBase.py#L511 which comes directly from `Algorithm.py`  https://github.com/lsst-ts/ts_wep/blob/d41a81fe380c09432950d0db933e7b664b8782ea/python/lsst/ts/wep/cwfs/Algorithm.py#L785 . \n",
    "\n",
    "Thus here we explore parts of `Algorithm.py`, to find out what happens at each stage. We use a recent simulation of corner sensor images with one star per sensor. "
   ]
  },
  {
   "cell_type": "markdown",
   "id": "f28e47d1",
   "metadata": {},
   "source": [
    "--> use data from DM-35919_example_wfs_star\n",
    "--> read in as donut stamps (skipping all other parts of ts_wep) just like in AOS_DM-33104_masks_centroid\n",
    "\n",
    "--> take algorithm.py apart, highlighting all the steps..."
   ]
  },
  {
   "cell_type": "code",
   "execution_count": 14,
   "id": "e398652f",
   "metadata": {},
   "outputs": [],
   "source": [
    "import yaml\n",
    "import os\n",
    "import numpy as np\n",
    "from scipy.ndimage import rotate\n",
    "\n",
    "import matplotlib.pyplot as plt\n",
    "import matplotlib.lines as mlines\n",
    "import matplotlib as mpl\n",
    "from matplotlib import rcParams\n",
    "\n",
    "from lsst.ts.wep.cwfs.Instrument import Instrument\n",
    "from lsst.ts.wep.cwfs.Algorithm import Algorithm\n",
    "from lsst.ts.wep.cwfs.CompensableImage import CompensableImage\n",
    "from lsst.ts.wep.Utility import (\n",
    "    getConfigDir,\n",
    "    DonutTemplateType,\n",
    "    DefocalType,\n",
    "    CamType,\n",
    "    getCamType,\n",
    "    getDefocalDisInMm,\n",
    "    CentroidFindType\n",
    ")\n",
    "\n",
    "from lsst.ts.wep.task.DonutStamps import DonutStamp, DonutStamps\n",
    "from lsst.ts.wep.task.EstimateZernikesCwfsTask import (\n",
    "    EstimateZernikesCwfsTask,\n",
    "    EstimateZernikesCwfsTaskConfig,\n",
    ")\n",
    "\n",
    "from lsst.daf import butler as dafButler\n",
    "import lsst.afw.cameraGeom as cameraGeom\n",
    "from lsst.afw.cameraGeom import FOCAL_PLANE, PIXELS, FIELD_ANGLE\n",
    "from lsst.geom import Point2D\n",
    "\n",
    "from astropy.visualization import ZScaleInterval"
   ]
  },
  {
   "cell_type": "code",
   "execution_count": 2,
   "id": "a2e92073",
   "metadata": {},
   "outputs": [],
   "source": [
    "\n",
    "\n",
    "def get_butler_stamps(repoDir,instrument='LSSTComCam', iterN=0, detector=\"R22_S01\",\n",
    "                     dataset_type = 'donutStampsExtra', collection=''):\n",
    "    #repoDir = '/project/scichris/aos/rotation_DM-31532/Ns_rotCam_0_c/phosimData/' \n",
    "\n",
    "    butler = dafButler.Butler(repoDir)\n",
    "    registry = butler.registry\n",
    "    if collection == '':\n",
    "        collection=f'ts_phosim_90060{iterN}1'\n",
    "    dataId0 = dict(instrument=instrument)\n",
    "    dataset = next(iter(butler.registry.queryDatasets(\n",
    "                            datasetType='postISRCCD',\n",
    "                            dataId=dataId0, \n",
    "                            collections=[collection]  )\n",
    "                       ))\n",
    "    expN = dataset.dataId[\"exposure\"]\n",
    "    # construct a dataId for zernikes and donut catalog:\n",
    "    # switch exposure to visit \n",
    "    \n",
    "    dataId = {'detector':detector, 'instrument':instrument,\n",
    "              'visit':expN}\n",
    "\n",
    "    donutStamps = butler.get(dataset_type, \n",
    "                              dataId=dataId, \n",
    "                              collections=[collection])  \n",
    "    \n",
    "    donutCatalog = butler.get('donutCatalog', \n",
    "                              dataId=dataId, \n",
    "                              collections=[collection]) \n",
    "    return donutStamps, donutCatalog\n"
   ]
  },
  {
   "cell_type": "code",
   "execution_count": 17,
   "id": "05fe5839",
   "metadata": {},
   "outputs": [],
   "source": [
    "repo_dir  = 'DM-35919_phosim_example/example_wfs/phosimData'\n",
    "\n",
    "instrument = 'LSSTCam'\n",
    "collection = 'ts_phosim_9006000'\n",
    "donutStampsExtra, extraFocalCatalog = get_butler_stamps(repo_dir,instrument=instrument, \n",
    "                                      iterN=0, detector=\"R04_SW0\",\n",
    "                                      dataset_type = 'donutStampsExtra', \n",
    "                                      collection=collection)\n",
    "\n",
    "donutStampsIntra, intraFocalCatalog = get_butler_stamps(repo_dir,instrument=instrument, \n",
    "                                      iterN=0, detector=\"R04_SW1\",\n",
    "                                      dataset_type = 'donutStampsIntra', \n",
    "                                      collection=collection)"
   ]
  },
  {
   "cell_type": "code",
   "execution_count": 9,
   "id": "12da2e78",
   "metadata": {},
   "outputs": [],
   "source": [
    "def get_butler_image(repoDir,instrument='LSSTComCam', iterN=0, detector=\"R22_S01\",\n",
    "                     collection=''):\n",
    "    butler = dafButler.Butler(repoDir)\n",
    "    registry = butler.registry\n",
    "    if collection == '':\n",
    "        collection=f'ts_phosim_90060{iterN}1'\n",
    "    dataId0 = dict(instrument=instrument)\n",
    "    dataset = next(iter(butler.registry.queryDatasets(\n",
    "                            datasetType='postISRCCD',\n",
    "                            dataId=dataId0,\n",
    "                            collections=[collection]  )\n",
    "                       ))\n",
    "    expN = dataset.dataId[\"exposure\"]\n",
    "    dataId = {'detector':detector, 'instrument':instrument,\n",
    "          'exposure':expN}\n",
    "    postIsr = butler.get('postISRCCD',dataId=dataId,\n",
    "                          collections=[collection])\n",
    "    return postIsr"
   ]
  },
  {
   "cell_type": "code",
   "execution_count": 11,
   "id": "2d6b98fe",
   "metadata": {},
   "outputs": [],
   "source": [
    "sensor='R04'\n",
    "extraImage = get_butler_image(repo_dir,instrument=instrument,\n",
    "                              iterN=0, detector=f\"{sensor}_SW0\",\n",
    "                              collection=collection)"
   ]
  },
  {
   "cell_type": "markdown",
   "id": "5a4db6cc",
   "metadata": {},
   "source": [
    "Run the baseline fit inside the `EstimateZernikesBase`:"
   ]
  },
  {
   "cell_type": "code",
   "execution_count": 12,
   "id": "01c74cda",
   "metadata": {},
   "outputs": [],
   "source": [
    "# get the pixel scale from exposure to convert from pixels to arcsec to degrees\n",
    "pixelScale = extraImage.getWcs().getPixelScale().asArcseconds()\n",
    "\n",
    "\n",
    "configDir = getConfigDir()\n",
    "instDir = os.path.join(configDir, \"cwfs\", \"instData\")\n",
    "algoDir = os.path.join(configDir, \"cwfs\", \"algo\")"
   ]
  },
  {
   "cell_type": "code",
   "execution_count": 15,
   "id": "8e17c636",
   "metadata": {},
   "outputs": [],
   "source": [
    "# now instead of calling\n",
    "# wfEsti = WfEstimator(instDir, algoDir)\n",
    "# I dig inside it\n",
    "\n",
    "# this is part of the init\n",
    "inst = Instrument(instDir)\n",
    "algo = Algorithm(algoDir)\n",
    "\n",
    "#imgIntra = CompensableImage()\n",
    "#imgExtra = CompensableImage()\n",
    "\n",
    "#opticalModel = \"\"\n",
    "#sizeInPix = 0\n",
    "\n",
    "# now get the camera type and defocal distance\n",
    "# inside estimateZernikes()\n",
    "# instName gets specified in the config,\n",
    "# and does not get overridden for CWFS\n",
    "# https://github.com/lsst-ts/ts_wep/blob/3825b283de5664cdb88c3824298e096c2bc6fbf5/python/lsst/ts/wep/task/EstimateZernikesBase.py#L134\n",
    "instName='lsst'\n",
    "camType = getCamType(instName)\n",
    "defocalDisInMm = getDefocalDisInMm(instName)\n"
   ]
  },
  {
   "cell_type": "code",
   "execution_count": 27,
   "id": "1653bf20",
   "metadata": {},
   "outputs": [
    {
     "name": "stdout",
     "output_type": "stream",
     "text": [
      "\n",
      " Fitting sensor R04, donutIntra 0, donutExtra 0 \n"
     ]
    }
   ],
   "source": [
    "#\n",
    "# now instead of calling\n",
    "# wfEsti.config( sizeInPix=self.donutStampSize, camType=camType,\n",
    "#                opticalModel=self.opticalModel, defocalDisInMm=defocalDisInMm,\n",
    "# )\n",
    "\n",
    "# I update the parameters\n",
    "opticalModel = 'offAxis'\n",
    "# Update the instrument name\n",
    "#donutStampSize = 160 # px\n",
    "#sizeInPix = donutStampSize\n",
    "sizeInPix = 160# int(sizeInPix)\n",
    "\n",
    "inst.config(camType,sizeInPix, announcedDefocalDisInMm=defocalDisInMm)\n",
    "\n",
    "# choose the solver for the algorithm\n",
    "solver = 'exp' # by default\n",
    "debugLevel=0 # 1 to 3\n",
    "algo.config(solver, inst, debugLevel=debugLevel)\n",
    "\n",
    "centroidFindType = CentroidFindType.RandomWalk\n",
    "imgIntra = CompensableImage(centroidFindType=centroidFindType)\n",
    "imgExtra = CompensableImage(centroidFindType=centroidFindType)\n",
    "\n",
    "# select the only donut pair in that corner\n",
    "i=0\n",
    "donutExtra = donutStampsExtra[i]\n",
    "donutIntra = donutStampsIntra[i]\n",
    "\n",
    "print(f'\\n Fitting sensor {sensor}, donutIntra {i}, donutExtra 0 ')\n",
    "fieldXYExtra = donutExtra.calcFieldXY()\n",
    "fieldXYIntra = donutIntra.calcFieldXY()\n",
    "\n",
    "camera = donutExtra.getCamera() # same camera for both donuts\n",
    "detectorExtra = camera.get(donutExtra.detector_name)\n",
    "detectorIntra = camera.get(donutIntra.detector_name)\n",
    "\n",
    "\n",
    "# Rotate any sensors that are not lined up with the focal plane.\n",
    "# Mostly just for the corner wavefront sensors. The negative sign\n",
    "# creates the correct rotation based upon closed loop tests\n",
    "# with R04 and R40 corner sensors.\n",
    "eulerZExtra = -detectorExtra.getOrientation().getYaw().asDegrees()\n",
    "eulerZIntra = -detectorIntra.getOrientation().getYaw().asDegrees()\n",
    "\n",
    "# Now instead of running `wfEsti.setImg` method, do it by hand, since\n",
    "# it inherits 'setImg' from 'CompensableImage' anyway...\n",
    "\n",
    "\n",
    "#####################################\n",
    "# Step 2 : baseline fit (no offset)\n",
    "#####################################\n",
    "imgExtra.setImg(fieldXYExtra,\n",
    "                DefocalType.Extra,\n",
    "                image=rotate(donutExtra.stamp_im.getImage().getArray(), eulerZExtra).T)\n",
    "\n",
    "imgIntra.setImg(fieldXYIntra,\n",
    "                DefocalType.Intra,\n",
    "                image=rotate(donutIntra.stamp_im.getImage().getArray(), eulerZIntra).T)\n",
    "\n",
    "boundaryT = algo.getBoundaryThickness()\n",
    "\n",
    "# right after we set the image, the compensable image mask is empty -\n",
    "# it is only calculated in algo\n",
    "# https://github.com/lsst-ts/ts_wep/blob/d41a81fe380c09432950d0db933e7b664b8782ea/python/lsst/ts/wep/cwfs/Algorithm.py#L694\n",
    "maskScalingFactorLocal = 1\n",
    "#imgIntra.makeMask(inst, opticalModel, boundaryT, maskScalingFactorLocal)\n",
    "#imgExtra.makeMask(inst, opticalModel, boundaryT, maskScalingFactorLocal)\n",
    "\n",
    "\n",
    "# now wfEsti.reset() simply calls the same method in `Algorithm.py` :\n",
    "#algo.reset()\n",
    "\n",
    "# now wfEsti.calWfsErr() after checking for image size (both need to be squares)\n",
    "# simply calls algo:\n",
    "#tol = 1e-3 # explicitly set the tolerance level ( this is default )\n",
    "#algo.runIt(imgIntra,imgExtra, opticalModel, tol=tol)\n",
    "#zk_no_offset = algo.getZer4UpInNm()"
   ]
  },
  {
   "cell_type": "code",
   "execution_count": 19,
   "id": "2e295a9e",
   "metadata": {},
   "outputs": [
    {
     "data": {
      "text/plain": [
       "array([-7.34662242e+02,  9.94728148e+02,  6.47895069e+02,  4.69427303e+01,\n",
       "       -1.13483646e+02,  1.87000221e+02,  1.08098872e+02, -3.30296073e+01,\n",
       "       -2.63344351e+01, -4.42576922e+01,  9.01585760e+01,  2.63663232e+01,\n",
       "       -3.17118958e+00,  3.45819751e+00, -3.89959514e+01, -5.45600481e+00,\n",
       "       -8.63745961e-01, -5.78678540e+00, -7.83567788e+00])"
      ]
     },
     "execution_count": 19,
     "metadata": {},
     "output_type": "execute_result"
    }
   ],
   "source": [
    "zk_no_offset"
   ]
  },
  {
   "cell_type": "code",
   "execution_count": 28,
   "id": "de1705f4",
   "metadata": {},
   "outputs": [],
   "source": [
    "I1 = imgIntra\n",
    "I2 = imgExtra\n",
    "model = opticalModel\n",
    "tol=1e-3"
   ]
  },
  {
   "cell_type": "markdown",
   "id": "296defe7",
   "metadata": {},
   "source": [
    "Dig inside `Algorithm.py`. We call `runIt` method which contains\n",
    "\n",
    "    def runIt(self, I1, I2, model, tol=1e-3):\n",
    "        \n",
    "        # To have the iteration time initiated from global variable is to\n",
    "        # distinguish the manually and automatically iteration processes.\n",
    "        itr = self.currentItr\n",
    "        while itr <= self.getNumOfOuterItr():\n",
    "            stopItr = self._singleItr(I1, I2, model, tol)\n",
    "\n",
    "            # Stop the iteration of outer loop if converged\n",
    "            if stopItr:\n",
    "                break\n",
    "\n",
    "            itr += 1"
   ]
  },
  {
   "cell_type": "code",
   "execution_count": 20,
   "id": "59c768bb",
   "metadata": {},
   "outputs": [],
   "source": [
    "algo.reset()"
   ]
  },
  {
   "cell_type": "code",
   "execution_count": 22,
   "id": "5cc2c25d",
   "metadata": {},
   "outputs": [
    {
     "name": "stdout",
     "output_type": "stream",
     "text": [
      "0\n"
     ]
    }
   ],
   "source": [
    "itr = algo.currentItr\n",
    "print(itr)"
   ]
  },
  {
   "cell_type": "markdown",
   "id": "7edbb1ea",
   "metadata": {},
   "source": [
    "Then a `_singleItr` is  called, which contains\n",
    "\n",
    "    def _singleItr(self, I1, I2, model, tol=1e-3):"
   ]
  },
  {
   "cell_type": "code",
   "execution_count": 29,
   "id": "1df2b597",
   "metadata": {},
   "outputs": [],
   "source": [
    "# initially the compensable image has not been calculated \n",
    "I1.getImgInit()"
   ]
  },
  {
   "cell_type": "code",
   "execution_count": 30,
   "id": "400e092b",
   "metadata": {},
   "outputs": [
    {
     "data": {
      "text/plain": [
       "'offAxis'"
      ]
     },
     "execution_count": 30,
     "metadata": {},
     "output_type": "execute_result"
    }
   ],
   "source": [
    "model"
   ]
  },
  {
   "cell_type": "code",
   "execution_count": 31,
   "id": "a492a13a",
   "metadata": {},
   "outputs": [],
   "source": [
    "# Use the zonal mode (\"zer\")\n",
    "compMode = algo.getCompensatorMode()\n",
    "\n",
    "# Define the gain of feedbackGain\n",
    "feedbackGain = algo.getFeedbackGain()\n",
    "\n",
    "# Set the pre-condition\n",
    "if algo.currentItr == 0:\n",
    "\n",
    "    # Check this is the first time of running iteration or not\n",
    "    if I1.getImgInit() is None or I2.getImgInit() is None:\n",
    "\n",
    "        # Check the image dimension\n",
    "        if I1.getImg().shape != I2.getImg().shape:\n",
    "            print(\n",
    "                \"Error: The intra and extra image stamps need to be of same size.\"\n",
    "            )\n",
    "          \n",
    "\n",
    "        # Calculate the pupil mask (binary matrix) and related\n",
    "        # parameters\n",
    "        boundaryT = algo.getBoundaryThickness()\n",
    "        I1.makeMask(algo._inst, model, boundaryT, 1)\n",
    "        I2.makeMask(algo._inst, model, boundaryT, 1)\n",
    "        algo._makeMasterMask(I1, I2, algo.getPoissonSolverName())\n",
    "\n",
    "        # Load the offAxis correction coefficients\n",
    "        if model == \"offAxis\":\n",
    "            offAxisPolyOrder = algo.getOffAxisPolyOrder()\n",
    "            I1.setOffAxisCorr(algo._inst, offAxisPolyOrder)\n",
    "            I2.setOffAxisCorr(algo._inst, offAxisPolyOrder)\n",
    "\n",
    "        # Cocenter the images to the center referenced to fieldX and\n",
    "        # fieldY. Need to check the availability of this.\n",
    "        I1.imageCoCenter(algo._inst, debugLevel=algo.debugLevel)\n",
    "        I2.imageCoCenter(algo._inst, debugLevel=algo.debugLevel)\n",
    "\n",
    "        # Update the self-initial image\n",
    "        I1.updateImgInit()\n",
    "        I2.updateImgInit()\n",
    "\n",
    "    # Initialize the variables used in the iteration.\n",
    "    algo.zcomp = np.zeros(algo.getNumOfZernikes())\n",
    "    algo.zc = algo.zcomp.copy()\n",
    "\n",
    "    dimOfDonut = algo._inst.getDimOfDonutOnSensor()\n",
    "    algo.wcomp = np.zeros((dimOfDonut, dimOfDonut))\n",
    "    algo.West = algo.wcomp.copy()\n",
    "\n",
    "    algo.caustic = False\n",
    "\n",
    "# Rename this index (currentItr) for the simplification\n",
    "jj = algo.currentItr\n"
   ]
  },
  {
   "cell_type": "code",
   "execution_count": 32,
   "id": "5b8fee25",
   "metadata": {},
   "outputs": [
    {
     "data": {
      "text/plain": [
       "<lsst.ts.wep.cwfs.CompensableImage.CompensableImage at 0x7f7a69689330>"
      ]
     },
     "execution_count": 32,
     "metadata": {},
     "output_type": "execute_result"
    }
   ],
   "source": [
    "I1"
   ]
  },
  {
   "cell_type": "code",
   "execution_count": 34,
   "id": "2c3ba34b",
   "metadata": {},
   "outputs": [
    {
     "data": {
      "text/plain": [
       "array([0., 0., 0., 0., 0., 0., 0., 0., 0., 0., 0., 0., 0., 0., 0., 0., 0.,\n",
       "       0., 0., 0., 0., 0.])"
      ]
     },
     "execution_count": 34,
     "metadata": {},
     "output_type": "execute_result"
    }
   ],
   "source": [
    "algo.zcomp"
   ]
  },
  {
   "cell_type": "code",
   "execution_count": 37,
   "id": "22fc04e1",
   "metadata": {},
   "outputs": [
    {
     "name": "stdout",
     "output_type": "stream",
     "text": [
      "[0. 0. 0. 0. 0. 0. 0. 0. 0. 0. 0. 0. 0. 0. 0. 0. 0. 0. 0. 0. 0. 0.]\n",
      "0.6\n"
     ]
    }
   ],
   "source": [
    "# Solve the transport of intensity equation (TIE)\n",
    "if not algo.caustic:\n",
    "\n",
    "    # Reset the images before the compensation\n",
    "    I1.updateImage(I1.getImgInit().copy())\n",
    "    I2.updateImage(I2.getImgInit().copy())\n",
    "\n",
    "    if compMode == \"zer\":\n",
    "\n",
    "        # Zk coefficient from the previous iteration\n",
    "        ztmp = algo.zc.copy()\n",
    "\n",
    "        # Do the feedback of Zk from the lower terms first based on the\n",
    "        # sequence defined in compSequence\n",
    "        if jj != 0:\n",
    "            compSequence = algo.getCompSequence()\n",
    "            ztmp[int(compSequence[jj - 1]) :] = 0\n",
    "        print(ztmp)\n",
    "        print(feedbackGain)\n",
    "        # Add partial feedback of residual estimated wavefront in Zk\n",
    "        algo.zcomp = algo.zcomp + ztmp * feedbackGain\n",
    "\n",
    "        # Remove the image distortion by forwarding the image to pupil\n",
    "        I1.compensate(algo._inst, algo, algo.zcomp, model)\n",
    "        I2.compensate(algo._inst, algo, algo.zcomp, model)\n",
    "\n",
    "    # Check the image condition. If there is the problem, done with\n",
    "    # this _singleItr().\n",
    "    if (I1.isCaustic() is True) or (I2.isCaustic() is True):\n",
    "        algo.converge[:, jj] = algo.converge[:, jj - 1]\n",
    "        algo.caustic = True\n",
    "        #return\n",
    "\n",
    "    # Correct the defocal images if I1 and I2 are belong to different\n",
    "    # sources, which is determined by the (fieldX, field Y)\n",
    "    I1, I2 = algo._applyI1I2mask_pupil(I1, I2)\n",
    "\n",
    "    \n",
    "\n",
    "   "
   ]
  },
  {
   "cell_type": "code",
   "execution_count": 40,
   "id": "dde8bf71",
   "metadata": {},
   "outputs": [
    {
     "data": {
      "text/plain": [
       "<matplotlib.image.AxesImage at 0x7f7a6a475c60>"
      ]
     },
     "execution_count": 40,
     "metadata": {},
     "output_type": "execute_result"
    },
    {
     "data": {
      "image/png": "[encoded data removed]",
      "text/plain": [
       "<Figure size 432x288 with 1 Axes>"
      ]
     },
     "metadata": {
      "needs_background": "light"
     },
     "output_type": "display_data"
    }
   ],
   "source": [
    "plt.imshow(I1.getPaddedMask())"
   ]
  },
  {
   "cell_type": "code",
   "execution_count": 41,
   "id": "1cf1a00e",
   "metadata": {},
   "outputs": [
    {
     "data": {
      "text/plain": [
       "False"
      ]
     },
     "execution_count": 41,
     "metadata": {},
     "output_type": "execute_result"
    }
   ],
   "source": [
    "algo.caustic"
   ]
  },
  {
   "cell_type": "code",
   "execution_count": null,
   "id": "9e739888",
   "metadata": {},
   "outputs": [],
   "source": []
  },
  {
   "cell_type": "code",
   "execution_count": null,
   "id": "32598b01",
   "metadata": {},
   "outputs": [],
   "source": [
    "# this is continued under the assumption that \n",
    "# caustic has not yet been reached \n",
    "\n",
    "# if not algo.caustic:\n",
    "#     # Solve the Poisson's equation\n",
    "#     algo.zc, algo.West = algo._solvePoissonEq(I1, I2, jj)"
   ]
  },
  {
   "cell_type": "markdown",
   "id": "c54cc560",
   "metadata": {},
   "source": [
    "Inside `def _solvePoissonEq(self, I1, I2, iOutItr=0): : `"
   ]
  },
  {
   "cell_type": "code",
   "execution_count": 43,
   "id": "20b353d6",
   "metadata": {},
   "outputs": [
    {
     "name": "stdout",
     "output_type": "stream",
     "text": [
      "exp\n"
     ]
    }
   ],
   "source": [
    "# Calculate the aperture pixel size\n",
    "apertureDiameter = algo._inst.getApertureDiameter()\n",
    "sensorFactor = algo._inst.getSensorFactor()\n",
    "dimOfDonut = algo._inst.getDimOfDonutOnSensor()\n",
    "aperturePixelSize = apertureDiameter * sensorFactor / dimOfDonut\n",
    "\n",
    "# Calculate the differential Omega\n",
    "dOmega = aperturePixelSize**2\n",
    "\n",
    "# Solve the Poisson's equation based on the type of algorithm\n",
    "numTerms = algo.getNumOfZernikes()\n",
    "zobsR = algo.getObsOfZernikes()\n",
    "PoissonSolver = algo.getPoissonSolverName()\n",
    "print(PoissonSolver)"
   ]
  },
  {
   "cell_type": "code",
   "execution_count": 44,
   "id": "37f4e3fc",
   "metadata": {},
   "outputs": [],
   "source": [
    "# elif PoissonSolver == \"exp\":\n",
    "\n",
    "# Use the integration method by serial expansion to solve the\n",
    "# Poisson's equation\n",
    "\n",
    "# Calculate I0 and dI\n",
    "I0, dI = algo._getdIandI(I1, I2)\n",
    "\n",
    "# Get the x, y coordinate in mask. The element outside mask is 0.\n",
    "xSensor, ySensor = algo._inst.getSensorCoor()\n",
    "xSensor = xSensor * algo.mask_comp\n",
    "ySensor = ySensor * algo.mask_comp\n",
    "\n",
    "# Create the F matrix and Zernike-related matrixes\n",
    "\n",
    "# Get Zernike and gradient bases from cache.  These are each\n",
    "# (nzk, npix, npix) arrays, with the first dimension indicating\n",
    "# the Noll index.\n",
    "zk, dzkdx, dzkdy = algo._zernikeBasisCache()"
   ]
  },
  {
   "cell_type": "code",
   "execution_count": 48,
   "id": "4055c137",
   "metadata": {},
   "outputs": [
    {
     "data": {
      "text/plain": [
       "<matplotlib.image.AxesImage at 0x7f7a6a7e7ac0>"
      ]
     },
     "execution_count": 48,
     "metadata": {},
     "output_type": "execute_result"
    },
    {
     "data": {
      "image/png": "[encoded data removed]",
      "text/plain": [
       "<Figure size 432x288 with 1 Axes>"
      ]
     },
     "metadata": {
      "needs_background": "light"
     },
     "output_type": "display_data"
    }
   ],
   "source": [
    "plt.imshow(xSensor)"
   ]
  },
  {
   "cell_type": "code",
   "execution_count": 49,
   "id": "fd437ba1",
   "metadata": {},
   "outputs": [],
   "source": [
    "# Eqn. (19) from Xin et al., Appl. Opt. 54, 9045-9054 (2015).\n",
    "# F_j = \\int (d_z I) Z_j d_Omega\n",
    "F = np.tensordot(dI, zk, axes=((0, 1), (1, 2))) * dOmega\n",
    "# Eqn. (20) from Xin et al., Appl. Opt. 54, 9045-9054 (2015).\n",
    "# M_ij = \\int I (grad Z_j) . (grad Z_i) d_Omega\n",
    "#      =   \\int I (dZ_i/dx) (dZ_j/dx) d_Omega\n",
    "#        + \\int I (dZ_i/dy) (dZ_j/dy) d_Omega\n",
    "Mij = np.einsum(\"ab,iab,jab->ij\", I0, dzkdx, dzkdx)\n",
    "Mij += np.einsum(\"ab,iab,jab->ij\", I0, dzkdy, dzkdy)\n",
    "Mij *= dOmega / (apertureDiameter / 2.0) ** 2\n",
    "\n",
    "# Calculate dz\n",
    "focalLength = algo._inst.getFocalLength()\n",
    "offset = algo._inst.getDefocalDisOffset()\n",
    "dz = 2 * focalLength * (focalLength - offset) / offset\n",
    "\n",
    "# Define zc\n",
    "zc = np.zeros(numTerms)\n",
    "\n",
    "# Consider specific Zk terms only\n",
    "idx = algo.getZernikeTerms()"
   ]
  },
  {
   "cell_type": "code",
   "execution_count": 50,
   "id": "c021f22f",
   "metadata": {},
   "outputs": [
    {
     "data": {
      "text/plain": [
       "array([[ 0.00000000e+00,  0.00000000e+00,  0.00000000e+00,\n",
       "         0.00000000e+00,  0.00000000e+00,  0.00000000e+00,\n",
       "         0.00000000e+00,  0.00000000e+00,  0.00000000e+00,\n",
       "         0.00000000e+00,  0.00000000e+00,  0.00000000e+00,\n",
       "         0.00000000e+00,  0.00000000e+00,  0.00000000e+00,\n",
       "         0.00000000e+00,  0.00000000e+00,  0.00000000e+00,\n",
       "         0.00000000e+00,  0.00000000e+00,  0.00000000e+00,\n",
       "         0.00000000e+00],\n",
       "       [ 0.00000000e+00,  7.88542225e-04,  0.00000000e+00,\n",
       "         4.91977091e-05,  4.02597038e-06,  1.77726261e-05,\n",
       "         3.09967619e-04,  2.76494362e-03,  2.15467014e-04,\n",
       "         4.11091012e-05, -8.92718953e-04, -2.19718404e-04,\n",
       "         2.83716389e-04, -5.53507325e-06,  2.67099693e-05,\n",
       "        -3.59526828e-04,  1.96987423e-04,  8.39585441e-06,\n",
       "         3.22614938e-04, -3.20964610e-05,  2.76141752e-05,\n",
       "        -6.73067634e-04],\n",
       "       [ 0.00000000e+00,  0.00000000e+00,  7.88542225e-04,\n",
       "         1.11445838e-05,  1.77726261e-05, -4.02597038e-06,\n",
       "         2.64666575e-03,  3.09967619e-04,  4.11091012e-05,\n",
       "        -2.15467014e-04,  9.08828040e-04, -2.18765759e-04,\n",
       "        -2.06258766e-04, -2.67099693e-05, -5.53507325e-06,\n",
       "         1.96987423e-04, -3.88426398e-04, -2.61422295e-04,\n",
       "         7.95211819e-05, -2.76141752e-05, -3.20964610e-05,\n",
       "         5.18078615e-04],\n",
       "       [ 0.00000000e+00,  4.91977091e-05,  1.11445838e-05,\n",
       "         2.19621804e-02,  8.17515307e-04,  1.55974313e-04,\n",
       "         1.34866216e-03, -8.69173610e-04,  1.16498787e-04,\n",
       "        -2.41418967e-05,  4.18654697e-03,  6.48503804e-04,\n",
       "         3.71885733e-03, -1.51819284e-04,  1.30617650e-04,\n",
       "        -7.65331147e-03,  7.56306797e-03, -5.32831372e-04,\n",
       "         2.61813535e-04,  4.28982443e-06, -4.44022726e-05,\n",
       "         8.43540328e-03],\n",
       "       [ 0.00000000e+00,  4.02597038e-06,  1.77726261e-05,\n",
       "         8.17515307e-04,  2.86608392e-03,  3.00303889e-20,\n",
       "        -2.21650809e-04,  3.79710839e-04, -5.54649856e-05,\n",
       "        -1.16805790e-04,  7.29948110e-04,  5.73704918e-05,\n",
       "         4.93287520e-03, -5.65249676e-04,  1.03311898e-04,\n",
       "         1.35918519e-03, -1.13464329e-03, -8.11832929e-04,\n",
       "        -7.42784449e-04, -5.84660650e-05, -4.33227450e-05,\n",
       "         1.91546730e-03],\n",
       "       [ 0.00000000e+00,  1.77726261e-05, -4.02597038e-06,\n",
       "         1.55974313e-04, -3.00303889e-20,  2.86608392e-03,\n",
       "        -2.58624916e-04, -2.46743292e-04,  1.16805790e-04,\n",
       "        -5.54649856e-05,  7.79347078e-05,  4.79950965e-03,\n",
       "         5.73704918e-05,  1.03311898e-04,  5.65249676e-04,\n",
       "        -1.67270793e-03, -1.38943027e-03, -7.39350346e-04,\n",
       "         7.76287885e-04, -4.33227450e-05,  5.84660650e-05,\n",
       "         4.24724048e-04],\n",
       "       [ 0.00000000e+00,  3.09967619e-04,  2.64666575e-03,\n",
       "         1.34866216e-03, -2.21650809e-04, -2.58624916e-04,\n",
       "         2.32504533e-02,  2.77635857e-03,  2.59813482e-04,\n",
       "        -8.86928816e-04,  7.87427941e-03, -2.05958185e-03,\n",
       "        -1.55507824e-03, -1.26343365e-04, -1.34936091e-04,\n",
       "         4.06290124e-03,  1.12621928e-02, -3.43120860e-03,\n",
       "         1.14383741e-03, -2.32711436e-04, -1.39267133e-04,\n",
       "         8.66255307e-03],\n",
       "       [ 0.00000000e+00,  2.76494362e-03,  3.09967619e-04,\n",
       "        -8.69173610e-04,  3.79710839e-04, -2.46743292e-04,\n",
       "         2.77635857e-03,  2.42235960e-02,  1.04299436e-03,\n",
       "         7.84156438e-05, -7.78272298e-03, -2.32382658e-03,\n",
       "         2.48548733e-03, -1.29377477e-04,  6.88083618e-05,\n",
       "         1.25788655e-02,  4.06290124e-03,  1.68645649e-04,\n",
       "         4.08788765e-03, -2.71809705e-04,  6.61063940e-05,\n",
       "        -1.00746509e-02],\n",
       "       [ 0.00000000e+00,  2.15467014e-04,  4.11091012e-05,\n",
       "         1.16498787e-04, -5.54649856e-05,  1.16805790e-04,\n",
       "         2.59813482e-04,  1.04299436e-03,  5.83275716e-03,\n",
       "         3.75379862e-20,  3.44527857e-07,  8.87515275e-04,\n",
       "        -8.08812511e-04, -4.02397143e-04, -2.93470439e-04,\n",
       "         1.29094065e-03,  4.21741846e-04, -6.41593191e-05,\n",
       "         6.67636916e-03, -1.05766282e-03,  1.88402204e-04,\n",
       "        -5.27830379e-04],\n",
       "       [ 0.00000000e+00,  4.11091012e-05, -2.15467014e-04,\n",
       "        -2.41418967e-05, -1.16805790e-04, -5.54649856e-05,\n",
       "        -8.86928816e-04,  7.84156438e-05, -3.75379862e-20,\n",
       "         5.83275716e-03, -5.26525791e-04, -8.04114534e-04,\n",
       "        -9.36142176e-04, -2.93470439e-04,  4.02397143e-04,\n",
       "        -6.81703695e-05, -1.03571340e-03,  6.57428532e-03,\n",
       "        -6.41593191e-05,  1.88402204e-04,  1.05766282e-03,\n",
       "        -1.04773424e-03],\n",
       "       [ 0.00000000e+00, -8.92718953e-04,  9.08828040e-04,\n",
       "         4.18654697e-03,  7.29948110e-04,  7.79347078e-05,\n",
       "         7.87427941e-03, -7.78272298e-03,  3.44527857e-07,\n",
       "        -5.26525791e-04,  7.69310768e-02,  1.30408228e-03,\n",
       "         7.60724605e-03, -4.50744680e-04,  2.47912154e-04,\n",
       "        -1.12216520e-02,  1.08062411e-02, -2.49475855e-03,\n",
       "        -3.09756102e-04, -4.90363739e-05, -2.55460552e-04,\n",
       "         1.99346277e-02],\n",
       "       [ 0.00000000e+00, -2.19718404e-04, -2.18765759e-04,\n",
       "         6.48503804e-04,  5.73704918e-05,  4.79950965e-03,\n",
       "        -2.05958185e-03, -2.32382658e-03,  8.87515275e-04,\n",
       "        -8.04114534e-04,  1.30408228e-03,  2.71842072e-02,\n",
       "         3.40992845e-04,  1.92808670e-04,  1.41714591e-03,\n",
       "        -8.85035804e-03, -7.27929331e-03, -3.53845147e-03,\n",
       "         3.55939332e-03, -3.20544057e-04,  6.64819702e-05,\n",
       "         1.92983756e-03],\n",
       "       [ 0.00000000e+00,  2.83716389e-04, -2.06258766e-04,\n",
       "         3.71885733e-03,  4.93287520e-03,  5.73704918e-05,\n",
       "        -1.55507824e-03,  2.48548733e-03, -8.08812511e-04,\n",
       "        -9.36142176e-04,  7.60724605e-03,  3.40992845e-04,\n",
       "         2.81900413e-02, -1.56985130e-03,  3.14293380e-04,\n",
       "         6.70274309e-03, -5.39592007e-03, -4.00506726e-03,\n",
       "        -3.47876488e-03, -8.54589359e-05, -3.36205727e-04,\n",
       "         8.05040930e-03],\n",
       "       [ 0.00000000e+00, -5.53507325e-06, -2.67099693e-05,\n",
       "        -1.51819284e-04, -5.65249676e-04,  1.03311898e-04,\n",
       "        -1.26343365e-04, -1.29377477e-04, -4.02397143e-04,\n",
       "        -2.93470439e-04, -4.50744680e-04,  1.92808670e-04,\n",
       "        -1.56985130e-03,  9.39819233e-03,  1.27629153e-19,\n",
       "        -6.92904131e-04, -4.80336273e-05, -1.65036458e-03,\n",
       "        -1.75356419e-03, -7.34799377e-04,  8.88445289e-04,\n",
       "        -7.23568963e-04],\n",
       "       [ 0.00000000e+00,  2.67099693e-05, -5.53507325e-06,\n",
       "         1.30617650e-04,  1.03311898e-04,  5.65249676e-04,\n",
       "        -1.34936091e-04,  6.88083618e-05, -2.93470439e-04,\n",
       "         4.02397143e-04,  2.47912154e-04,  1.41714591e-03,\n",
       "         3.14293380e-04, -1.27629153e-19,  9.39819233e-03,\n",
       "        -2.66718434e-04, -6.28290705e-04,  1.73627065e-03,\n",
       "        -1.66463692e-03, -8.88445289e-04, -7.34799377e-04,\n",
       "         4.22326113e-04],\n",
       "       [ 0.00000000e+00, -3.59526828e-04,  1.96987423e-04,\n",
       "        -7.65331147e-03,  1.35918519e-03, -1.67270793e-03,\n",
       "         4.06290124e-03,  1.25788655e-02,  1.29094065e-03,\n",
       "        -6.81703695e-05, -1.12216520e-02, -8.85035804e-03,\n",
       "         6.70274309e-03, -6.92904131e-04, -2.66718434e-04,\n",
       "         8.38874346e-02,  1.35989731e-02,  8.64854887e-05,\n",
       "         7.92958608e-03, -6.64836954e-04,  5.82841381e-05,\n",
       "        -3.00679195e-02],\n",
       "       [ 0.00000000e+00,  1.96987423e-04, -3.88426398e-04,\n",
       "         7.56306797e-03, -1.13464329e-03, -1.38943027e-03,\n",
       "         1.12621928e-02,  4.06290124e-03,  4.21741846e-04,\n",
       "        -1.03571340e-03,  1.08062411e-02, -7.27929331e-03,\n",
       "        -5.39592007e-03, -4.80336273e-05, -6.28290705e-04,\n",
       "         1.35989731e-02,  7.79599347e-02, -6.38172388e-03,\n",
       "         2.62794350e-03, -4.88140251e-04, -3.11686933e-04,\n",
       "         2.71335043e-02],\n",
       "       [ 0.00000000e+00,  8.39585441e-06, -2.61422295e-04,\n",
       "        -5.32831372e-04, -8.11832929e-04, -7.39350346e-04,\n",
       "        -3.43120860e-03,  1.68645649e-04, -6.41593191e-05,\n",
       "         6.57428532e-03, -2.49475855e-03, -3.53845147e-03,\n",
       "        -4.00506726e-03, -1.65036458e-03,  1.73627065e-03,\n",
       "         8.64854887e-05, -6.38172388e-03,  3.37921533e-02,\n",
       "        -3.56324801e-04,  4.36808723e-04,  2.12067132e-03,\n",
       "        -5.39177532e-03],\n",
       "       [ 0.00000000e+00,  3.22614938e-04,  7.95211819e-05,\n",
       "         2.61813535e-04, -7.42784449e-04,  7.76287885e-04,\n",
       "         1.14383741e-03,  4.08788765e-03,  6.67636916e-03,\n",
       "        -6.41593191e-05, -3.09756102e-04,  3.55939332e-03,\n",
       "        -3.47876488e-03, -1.75356419e-03, -1.66463692e-03,\n",
       "         7.92958608e-03,  2.62794350e-03, -3.56324801e-04,\n",
       "         3.43716893e-02, -2.20723476e-03,  3.08561388e-04,\n",
       "        -2.26307302e-03],\n",
       "       [ 0.00000000e+00, -3.20964610e-05, -2.76141752e-05,\n",
       "         4.28982443e-06, -5.84660650e-05, -4.33227450e-05,\n",
       "        -2.32711436e-04, -2.71809705e-04, -1.05766282e-03,\n",
       "         1.88402204e-04, -4.90363739e-05, -3.20544057e-04,\n",
       "        -8.54589359e-05, -7.34799377e-04, -8.88445289e-04,\n",
       "        -6.64836954e-04, -4.88140251e-04,  4.36808723e-04,\n",
       "        -2.20723476e-03,  1.33907779e-02,  3.75379862e-21,\n",
       "        -1.71389811e-04],\n",
       "       [ 0.00000000e+00,  2.76141752e-05, -3.20964610e-05,\n",
       "        -4.44022726e-05, -4.33227450e-05,  5.84660650e-05,\n",
       "        -1.39267133e-04,  6.61063940e-05,  1.88402204e-04,\n",
       "         1.05766282e-03, -2.55460552e-04,  6.64819702e-05,\n",
       "        -3.36205727e-04,  8.88445289e-04, -7.34799377e-04,\n",
       "         5.82841381e-05, -3.11686933e-04,  2.12067132e-03,\n",
       "         3.08561388e-04, -3.75379862e-21,  1.33907779e-02,\n",
       "        -6.18464732e-04],\n",
       "       [ 0.00000000e+00, -6.73067634e-04,  5.18078615e-04,\n",
       "         8.43540328e-03,  1.91546730e-03,  4.24724048e-04,\n",
       "         8.66255307e-03, -1.00746509e-02, -5.27830379e-04,\n",
       "        -1.04773424e-03,  1.99346277e-02,  1.92983756e-03,\n",
       "         8.05040930e-03, -7.23568963e-04,  4.22326113e-04,\n",
       "        -3.00679195e-02,  2.71335043e-02, -5.39177532e-03,\n",
       "        -2.26307302e-03, -1.71389811e-04, -6.18464732e-04,\n",
       "         1.74009591e-01]])"
      ]
     },
     "execution_count": 50,
     "metadata": {},
     "output_type": "execute_result"
    }
   ],
   "source": [
    "Mij"
   ]
  },
  {
   "cell_type": "code",
   "execution_count": 52,
   "id": "ec7a7e4d",
   "metadata": {},
   "outputs": [],
   "source": [
    "from lsst.ts.wep.cwfs.Tool import (\n",
    "    padArray,\n",
    "    extractArray,\n",
    "    ZernikeAnnularEval,\n",
    "    ZernikeMaskedFit,\n",
    ")\n",
    "# Solve the equation: M*W = F => W = M^(-1)*F\n",
    "zc_tmp = np.linalg.lstsq(Mij[:, idx][idx], F[idx], rcond=None)[0] / dz\n",
    "zc[idx] = zc_tmp\n",
    "\n",
    "# Estimate the wavefront surface based on z4 - z22\n",
    "# z0 - z3 are set to be 0 instead\n",
    "West = ZernikeAnnularEval(\n",
    "    np.concatenate(([0, 0, 0], zc[3:])), xSensor, ySensor, zobsR\n",
    ")"
   ]
  },
  {
   "cell_type": "code",
   "execution_count": 54,
   "id": "72d25fbc",
   "metadata": {},
   "outputs": [
    {
     "data": {
      "text/plain": [
       "array([ 0.00000000e+00, -7.89738924e-07,  3.16099878e-06, -4.21900273e-07,\n",
       "        6.38963879e-07,  5.92138899e-07, -1.00960004e-07, -9.06251879e-08,\n",
       "       -2.76126339e-09,  4.93546657e-09,  7.63387345e-09, -4.22784396e-08,\n",
       "       -5.90015864e-08, -2.83604261e-08,  3.83649584e-08,  3.17085265e-08,\n",
       "       -1.32086350e-08, -2.67198724e-08, -1.20163994e-09, -6.85416690e-09,\n",
       "        7.89020215e-10,  1.92269035e-08])"
      ]
     },
     "execution_count": 54,
     "metadata": {},
     "output_type": "execute_result"
    }
   ],
   "source": [
    "zc"
   ]
  },
  {
   "cell_type": "code",
   "execution_count": 53,
   "id": "774f1ed7",
   "metadata": {},
   "outputs": [
    {
     "data": {
      "text/plain": [
       "<matplotlib.image.AxesImage at 0x7f7a6a954f40>"
      ]
     },
     "execution_count": 53,
     "metadata": {},
     "output_type": "execute_result"
    },
    {
     "data": {
      "image/png": "[encoded data removed]",
      "text/plain": [
       "<Figure size 432x288 with 1 Axes>"
      ]
     },
     "metadata": {
      "needs_background": "light"
     },
     "output_type": "display_data"
    }
   ],
   "source": [
    "plt.imshow(West)"
   ]
  },
  {
   "cell_type": "code",
   "execution_count": null,
   "id": "430896bc",
   "metadata": {},
   "outputs": [],
   "source": [
    " # Record/ calculate the Zk coefficient and wavefront\n",
    "    if compMode == \"zer\":\n",
    "        algo.converge[:, jj] = algo.zcomp +algo.zc\n",
    "\n",
    "        xoSensor, yoSensor = algo._inst.getSensorCoorAnnular()\n",
    "        algo.wcomp = algo.West + ZernikeAnnularEval(\n",
    "            np.concatenate(([0, 0, 0], algo.zcomp[3:])),\n",
    "            xoSensor,\n",
    "            yoSensor,\n",
    "            algo.getObsOfZernikes(),\n",
    "        )\n",
    "\n",
    "else:\n",
    "    # Once we run into caustic, stop here, results may be close to real\n",
    "    # aberration.\n",
    "    # Continuation may lead to disastrous results.\n",
    "    algo.converge[:, jj] = algo.converge[:, jj - 1]\n",
    "\n",
    "# Record the coefficients of normal/ annular Zernike polynomials after\n",
    "# z4 in unit of nm\n",
    "algo.zer4UpNm = algo.converge[3:, jj] * 1e9\n",
    "\n",
    "# Status of iteration\n",
    "stopItr = False\n",
    "\n",
    "# Calculate the difference\n",
    "if jj > 0:\n",
    "    diffZk = (\n",
    "        np.sum(np.abs(algo.converge[:, jj] - algo.converge[:, jj - 1])) * 1e9\n",
    "    )\n",
    "\n",
    "    # Check the Status of iteration\n",
    "    if diffZk < tol:\n",
    "        stopItr = True\n",
    "\n",
    "# Update the current iteration time\n",
    "algo.currentItr += 1\n",
    "\n",
    "# Show the Zk coefficients in interger in each iteration\n",
    "if algo.debugLevel >= 2:\n",
    "    print(\"itr = %d, z4-z%d\" % (jj, algo.getNumOfZernikes()))\n",
    "    print(np.rint(algo.zer4UpNm))\n"
   ]
  }
 ],
 "metadata": {
  "kernelspec": {
   "display_name": "Python 3 (ipykernel)",
   "language": "python",
   "name": "python3"
  },
  "language_info": {
   "codemirror_mode": {
    "name": "ipython",
    "version": 3
   },
   "file_extension": ".py",
   "mimetype": "text/x-python",
   "name": "python",
   "nbconvert_exporter": "python",
   "pygments_lexer": "ipython3",
   "version": "3.10.5"
  }
 },
 "nbformat": 4,
 "nbformat_minor": 5
}
