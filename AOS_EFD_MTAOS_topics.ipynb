{
 "cells": [
  {
   "cell_type": "markdown",
   "id": "854de508-b67b-4a04-abee-29117ef60204",
   "metadata": {},
   "source": [
    "# AOS_EFD MTAOS topics"
   ]
  },
  {
   "cell_type": "markdown",
   "id": "85fbd74f-7186-46c0-b671-f233e9be54a5",
   "metadata": {},
   "source": [
    "* **last verified to run**: 2025-03-07\n",
    "* **lsst_distrib**: w2025_10\n",
    "\n",
    "Show EFD topics related to AOS. All the measurements are stored in the  bucket: \"efd/autogen\". An example AOS dashboard is https://usdf-rsp.slac.stanford.edu/chronograf/sources/1/dashboards/132?refresh=Paused&lower=2024-12-09T01%3A00%3A00.000Z&upper=2024-12-09T04%3A00%3A00.000Z "
   ]
  },
  {
   "cell_type": "code",
   "execution_count": 2,
   "id": "f1791194-4548-4d39-9675-8de24becf141",
   "metadata": {
    "execution": {
     "iopub.execute_input": "2025-03-07T18:46:39.561852Z",
     "iopub.status.busy": "2025-03-07T18:46:39.561556Z",
     "iopub.status.idle": "2025-03-07T18:46:56.045144Z",
     "shell.execute_reply": "2025-03-07T18:46:56.044682Z",
     "shell.execute_reply.started": "2025-03-07T18:46:39.561837Z"
    }
   },
   "outputs": [
    {
     "name": "stderr",
     "output_type": "stream",
     "text": [
      "INFO:botocore.credentials:Found credentials in shared credentials file: /home/s/scichris/.lsst/aws-credentials.ini\n",
      "INFO:botocore.httpchecksum:Skipping checksum validation. Response did not contain one of the following algorithms: ['crc32', 'sha1', 'sha256'].\n"
     ]
    }
   ],
   "source": [
    "from lsst.summit.utils.efdUtils import getEfdData, makeEfdClient\n",
    "from lsst.daf import butler as dafButler\n",
    "butler = dafButler.Butler('/repo/embargo_new', \n",
    "                          collections=[\"LSSTComCam/raw/all\", \n",
    "                                       \"LSSTComCam/calib\", \n",
    "                                       \"LSSTComCam/nightlyValidation\"\n",
    "                                                           ]\n",
    "                         )\n",
    "client = makeEfdClient()"
   ]
  },
  {
   "cell_type": "code",
   "execution_count": 3,
   "id": "594aaf11-4766-47cb-bc02-ec53eb6837b1",
   "metadata": {
    "execution": {
     "iopub.execute_input": "2025-03-07T18:46:56.046044Z",
     "iopub.status.busy": "2025-03-07T18:46:56.045903Z",
     "iopub.status.idle": "2025-03-07T18:46:56.074755Z",
     "shell.execute_reply": "2025-03-07T18:46:56.074413Z",
     "shell.execute_reply.started": "2025-03-07T18:46:56.046031Z"
    }
   },
   "outputs": [
    {
     "data": {
      "text/plain": [
       "2946"
      ]
     },
     "execution_count": 3,
     "metadata": {},
     "output_type": "execute_result"
    }
   ],
   "source": [
    "topics = await client.get_topics()\n",
    "len(topics)"
   ]
  },
  {
   "cell_type": "markdown",
   "id": "46ec66a3-9d1c-4e56-a076-729083c381ba",
   "metadata": {},
   "source": [
    "Check topics starting with `lsst.sal` : "
   ]
  },
  {
   "cell_type": "code",
   "execution_count": 4,
   "id": "b8429efa-39ea-4fe5-91da-53b036434696",
   "metadata": {
    "execution": {
     "iopub.execute_input": "2025-03-07T18:46:56.075342Z",
     "iopub.status.busy": "2025-03-07T18:46:56.075209Z",
     "iopub.status.idle": "2025-03-07T18:46:56.083458Z",
     "shell.execute_reply": "2025-03-07T18:46:56.083128Z",
     "shell.execute_reply.started": "2025-03-07T18:46:56.075329Z"
    }
   },
   "outputs": [
    {
     "name": "stdout",
     "output_type": "stream",
     "text": [
      "['ATAOS', 'ATArchiver', 'ATBuilding', 'ATCamera', 'ATDome', 'ATDomeTrajectory', 'ATHeaderService', 'ATHexapod', 'ATMCS', 'ATMonochromator', 'ATOODS', 'ATPneumatics', 'ATPtg', 'ATSpectrograph', 'ATWhiteLight', 'AdamSensors', 'CBP', 'CCArchiver', 'CCCamera', 'CCHeaderService', 'CCOODS', 'DIMM', 'DREAM', 'DSM', 'Dome', 'EAS', 'EPM', 'ESS', 'Electrometer', 'Environment', 'FiberSpectrograph', 'GCHeaderService', 'GIS', 'GenericCamera', 'HVAC', 'Hexapod', 'LEDProjector', 'LaserTracker', 'LinearStage', 'MTAOS', 'MTAirCompressor', 'MTCamera', 'MTDome', 'MTDomeTrajectory', 'MTHeaderService', 'MTHexapod', 'MTM1M3', 'MTM1M3TS', 'MTM2', 'MTMount', 'MTOODS', 'MTPtg', 'MTRotator', 'MTVMS', 'NewMTMount', 'OCPS', 'PMD', 'Rotator', 'Scheduler', 'Script', 'ScriptQueue', 'Test', 'TunableLaser', 'Watcher', 'WeatherForecast', 'WeatherStation']\n"
     ]
    }
   ],
   "source": [
    "# from https://rubin-obs.slack.com/files/U07D8TLA3C3/F07QJPNTUE7/searching_the_efd\n",
    "tt = [t.split('.') for t in topics]\n",
    "topic_dict = {}\n",
    "for t in tt:\n",
    "    i = 0\n",
    "    dd = topic_dict\n",
    "    while i < len(t):\n",
    "        if t[i] not in dd.keys():\n",
    "            dd[t[i]] = {}\n",
    "        dd = dd[t[i]]\n",
    "        i += 1\n",
    "\n",
    "# useful topics are 'lsst.sal.X' \n",
    "print(list(topic_dict['lsst']['sal'].keys()))"
   ]
  },
  {
   "cell_type": "markdown",
   "id": "38813532-0ce6-43e8-9b39-80225aad4af7",
   "metadata": {},
   "source": [
    "Pick `lsst.sal.MTAOS`:"
   ]
  },
  {
   "cell_type": "code",
   "execution_count": null,
   "id": "ec2414cf-090c-4ea8-aee6-b22a0648834d",
   "metadata": {
    "execution": {
     "iopub.execute_input": "2025-03-07T18:46:56.083968Z",
     "iopub.status.busy": "2025-03-07T18:46:56.083844Z"
    }
   },
   "outputs": [
    {
     "name": "stdout",
     "output_type": "stream",
     "text": [
      "lsst.sal.MTAOS.ackcmd\n"
     ]
    },
    {
     "data": {
      "text/html": [
       "<div>\n",
       "<style scoped>\n",
       "    .dataframe tbody tr th:only-of-type {\n",
       "        vertical-align: middle;\n",
       "    }\n",
       "\n",
       "    .dataframe tbody tr th {\n",
       "        vertical-align: top;\n",
       "    }\n",
       "\n",
       "    .dataframe thead th {\n",
       "        text-align: right;\n",
       "    }\n",
       "</style>\n",
       "<table border=\"1\" class=\"dataframe\">\n",
       "  <thead>\n",
       "    <tr style=\"text-align: right;\">\n",
       "      <th></th>\n",
       "      <th>ack</th>\n",
       "      <th>cmdtype</th>\n",
       "      <th>error</th>\n",
       "      <th>host</th>\n",
       "      <th>identity</th>\n",
       "      <th>origin</th>\n",
       "      <th>result</th>\n",
       "      <th>timeout</th>\n",
       "    </tr>\n",
       "  </thead>\n",
       "  <tbody>\n",
       "    <tr>\n",
       "      <th>2025-03-05 00:06:53.873578+00:00</th>\n",
       "      <td>303</td>\n",
       "      <td>4</td>\n",
       "      <td>0</td>\n",
       "      <td>None</td>\n",
       "      <td>Script:100000</td>\n",
       "      <td>57838</td>\n",
       "      <td>Done</td>\n",
       "      <td>0</td>\n",
       "    </tr>\n",
       "  </tbody>\n",
       "</table>\n",
       "</div>"
      ],
      "text/plain": [
       "                                  ack  cmdtype  error  host       identity  \\\n",
       "2025-03-05 00:06:53.873578+00:00  303        4      0  None  Script:100000   \n",
       "\n",
       "                                  origin result  timeout  \n",
       "2025-03-05 00:06:53.873578+00:00   57838   Done        0  "
      ]
     },
     "metadata": {},
     "output_type": "display_data"
    },
    {
     "name": "stdout",
     "output_type": "stream",
     "text": [
      "lsst.sal.MTAOS.command_addAberration\n"
     ]
    },
    {
     "data": {
      "text/html": [
       "<div>\n",
       "<style scoped>\n",
       "    .dataframe tbody tr th:only-of-type {\n",
       "        vertical-align: middle;\n",
       "    }\n",
       "\n",
       "    .dataframe tbody tr th {\n",
       "        vertical-align: top;\n",
       "    }\n",
       "\n",
       "    .dataframe thead th {\n",
       "        text-align: right;\n",
       "    }\n",
       "</style>\n",
       "<table border=\"1\" class=\"dataframe\">\n",
       "  <thead>\n",
       "    <tr style=\"text-align: right;\">\n",
       "      <th></th>\n",
       "      <th>config</th>\n",
       "      <th>wf0</th>\n",
       "      <th>wf1</th>\n",
       "      <th>wf10</th>\n",
       "      <th>wf11</th>\n",
       "      <th>wf12</th>\n",
       "      <th>wf13</th>\n",
       "      <th>wf14</th>\n",
       "      <th>wf15</th>\n",
       "      <th>wf16</th>\n",
       "      <th>wf17</th>\n",
       "      <th>wf18</th>\n",
       "      <th>wf2</th>\n",
       "      <th>wf3</th>\n",
       "      <th>wf4</th>\n",
       "      <th>wf5</th>\n",
       "      <th>wf6</th>\n",
       "      <th>wf7</th>\n",
       "      <th>wf8</th>\n",
       "      <th>wf9</th>\n",
       "    </tr>\n",
       "  </thead>\n",
       "  <tbody>\n",
       "    <tr>\n",
       "      <th>2022-10-19 04:27:02.444948+00:00</th>\n",
       "      <td></td>\n",
       "      <td>0</td>\n",
       "      <td>0</td>\n",
       "      <td>0</td>\n",
       "      <td>0</td>\n",
       "      <td>0</td>\n",
       "      <td>0</td>\n",
       "      <td>0</td>\n",
       "      <td>0</td>\n",
       "      <td>0</td>\n",
       "      <td>0</td>\n",
       "      <td>0</td>\n",
       "      <td>0</td>\n",
       "      <td>2</td>\n",
       "      <td>0</td>\n",
       "      <td>0</td>\n",
       "      <td>0</td>\n",
       "      <td>0</td>\n",
       "      <td>0</td>\n",
       "      <td>0</td>\n",
       "    </tr>\n",
       "  </tbody>\n",
       "</table>\n",
       "</div>"
      ],
      "text/plain": [
       "                                 config  wf0  wf1  wf10  wf11  wf12  wf13  \\\n",
       "2022-10-19 04:27:02.444948+00:00           0    0     0     0     0     0   \n",
       "\n",
       "                                  wf14  wf15  wf16  wf17  wf18  wf2  wf3  wf4  \\\n",
       "2022-10-19 04:27:02.444948+00:00     0     0     0     0     0    0    2    0   \n",
       "\n",
       "                                  wf5  wf6  wf7  wf8  wf9  \n",
       "2022-10-19 04:27:02.444948+00:00    0    0    0    0    0  "
      ]
     },
     "metadata": {},
     "output_type": "display_data"
    },
    {
     "name": "stdout",
     "output_type": "stream",
     "text": [
      "lsst.sal.MTAOS.command_disable\n",
      "query failed\n"
     ]
    },
    {
     "data": {
      "text/html": [
       "<div>\n",
       "<style scoped>\n",
       "    .dataframe tbody tr th:only-of-type {\n",
       "        vertical-align: middle;\n",
       "    }\n",
       "\n",
       "    .dataframe tbody tr th {\n",
       "        vertical-align: top;\n",
       "    }\n",
       "\n",
       "    .dataframe thead th {\n",
       "        text-align: right;\n",
       "    }\n",
       "</style>\n",
       "<table border=\"1\" class=\"dataframe\">\n",
       "  <thead>\n",
       "    <tr style=\"text-align: right;\">\n",
       "      <th></th>\n",
       "      <th>config</th>\n",
       "      <th>wf0</th>\n",
       "      <th>wf1</th>\n",
       "      <th>wf10</th>\n",
       "      <th>wf11</th>\n",
       "      <th>wf12</th>\n",
       "      <th>wf13</th>\n",
       "      <th>wf14</th>\n",
       "      <th>wf15</th>\n",
       "      <th>wf16</th>\n",
       "      <th>wf17</th>\n",
       "      <th>wf18</th>\n",
       "      <th>wf2</th>\n",
       "      <th>wf3</th>\n",
       "      <th>wf4</th>\n",
       "      <th>wf5</th>\n",
       "      <th>wf6</th>\n",
       "      <th>wf7</th>\n",
       "      <th>wf8</th>\n",
       "      <th>wf9</th>\n",
       "    </tr>\n",
       "  </thead>\n",
       "  <tbody>\n",
       "    <tr>\n",
       "      <th>2022-10-19 04:27:02.444948+00:00</th>\n",
       "      <td></td>\n",
       "      <td>0</td>\n",
       "      <td>0</td>\n",
       "      <td>0</td>\n",
       "      <td>0</td>\n",
       "      <td>0</td>\n",
       "      <td>0</td>\n",
       "      <td>0</td>\n",
       "      <td>0</td>\n",
       "      <td>0</td>\n",
       "      <td>0</td>\n",
       "      <td>0</td>\n",
       "      <td>0</td>\n",
       "      <td>2</td>\n",
       "      <td>0</td>\n",
       "      <td>0</td>\n",
       "      <td>0</td>\n",
       "      <td>0</td>\n",
       "      <td>0</td>\n",
       "      <td>0</td>\n",
       "    </tr>\n",
       "  </tbody>\n",
       "</table>\n",
       "</div>"
      ],
      "text/plain": [
       "                                 config  wf0  wf1  wf10  wf11  wf12  wf13  \\\n",
       "2022-10-19 04:27:02.444948+00:00           0    0     0     0     0     0   \n",
       "\n",
       "                                  wf14  wf15  wf16  wf17  wf18  wf2  wf3  wf4  \\\n",
       "2022-10-19 04:27:02.444948+00:00     0     0     0     0     0    0    2    0   \n",
       "\n",
       "                                  wf5  wf6  wf7  wf8  wf9  \n",
       "2022-10-19 04:27:02.444948+00:00    0    0    0    0    0  "
      ]
     },
     "metadata": {},
     "output_type": "display_data"
    },
    {
     "name": "stdout",
     "output_type": "stream",
     "text": [
      "lsst.sal.MTAOS.command_enable\n",
      "query failed\n"
     ]
    },
    {
     "data": {
      "text/html": [
       "<div>\n",
       "<style scoped>\n",
       "    .dataframe tbody tr th:only-of-type {\n",
       "        vertical-align: middle;\n",
       "    }\n",
       "\n",
       "    .dataframe tbody tr th {\n",
       "        vertical-align: top;\n",
       "    }\n",
       "\n",
       "    .dataframe thead th {\n",
       "        text-align: right;\n",
       "    }\n",
       "</style>\n",
       "<table border=\"1\" class=\"dataframe\">\n",
       "  <thead>\n",
       "    <tr style=\"text-align: right;\">\n",
       "      <th></th>\n",
       "      <th>config</th>\n",
       "      <th>wf0</th>\n",
       "      <th>wf1</th>\n",
       "      <th>wf10</th>\n",
       "      <th>wf11</th>\n",
       "      <th>wf12</th>\n",
       "      <th>wf13</th>\n",
       "      <th>wf14</th>\n",
       "      <th>wf15</th>\n",
       "      <th>wf16</th>\n",
       "      <th>wf17</th>\n",
       "      <th>wf18</th>\n",
       "      <th>wf2</th>\n",
       "      <th>wf3</th>\n",
       "      <th>wf4</th>\n",
       "      <th>wf5</th>\n",
       "      <th>wf6</th>\n",
       "      <th>wf7</th>\n",
       "      <th>wf8</th>\n",
       "      <th>wf9</th>\n",
       "    </tr>\n",
       "  </thead>\n",
       "  <tbody>\n",
       "    <tr>\n",
       "      <th>2022-10-19 04:27:02.444948+00:00</th>\n",
       "      <td></td>\n",
       "      <td>0</td>\n",
       "      <td>0</td>\n",
       "      <td>0</td>\n",
       "      <td>0</td>\n",
       "      <td>0</td>\n",
       "      <td>0</td>\n",
       "      <td>0</td>\n",
       "      <td>0</td>\n",
       "      <td>0</td>\n",
       "      <td>0</td>\n",
       "      <td>0</td>\n",
       "      <td>0</td>\n",
       "      <td>2</td>\n",
       "      <td>0</td>\n",
       "      <td>0</td>\n",
       "      <td>0</td>\n",
       "      <td>0</td>\n",
       "      <td>0</td>\n",
       "      <td>0</td>\n",
       "    </tr>\n",
       "  </tbody>\n",
       "</table>\n",
       "</div>"
      ],
      "text/plain": [
       "                                 config  wf0  wf1  wf10  wf11  wf12  wf13  \\\n",
       "2022-10-19 04:27:02.444948+00:00           0    0     0     0     0     0   \n",
       "\n",
       "                                  wf14  wf15  wf16  wf17  wf18  wf2  wf3  wf4  \\\n",
       "2022-10-19 04:27:02.444948+00:00     0     0     0     0     0    0    2    0   \n",
       "\n",
       "                                  wf5  wf6  wf7  wf8  wf9  \n",
       "2022-10-19 04:27:02.444948+00:00    0    0    0    0    0  "
      ]
     },
     "metadata": {},
     "output_type": "display_data"
    },
    {
     "name": "stdout",
     "output_type": "stream",
     "text": [
      "lsst.sal.MTAOS.command_exitControl\n"
     ]
    },
    {
     "data": {
      "text/html": [
       "<div>\n",
       "<style scoped>\n",
       "    .dataframe tbody tr th:only-of-type {\n",
       "        vertical-align: middle;\n",
       "    }\n",
       "\n",
       "    .dataframe tbody tr th {\n",
       "        vertical-align: top;\n",
       "    }\n",
       "\n",
       "    .dataframe thead th {\n",
       "        text-align: right;\n",
       "    }\n",
       "</style>\n",
       "<table border=\"1\" class=\"dataframe\">\n",
       "  <thead>\n",
       "    <tr style=\"text-align: right;\">\n",
       "      <th></th>\n",
       "      <th>value</th>\n",
       "    </tr>\n",
       "  </thead>\n",
       "  <tbody>\n",
       "    <tr>\n",
       "      <th>2021-04-27 21:22:06.518000+00:00</th>\n",
       "      <td>False</td>\n",
       "    </tr>\n",
       "  </tbody>\n",
       "</table>\n",
       "</div>"
      ],
      "text/plain": [
       "                                  value\n",
       "2021-04-27 21:22:06.518000+00:00  False"
      ]
     },
     "metadata": {},
     "output_type": "display_data"
    },
    {
     "name": "stdout",
     "output_type": "stream",
     "text": [
      "lsst.sal.MTAOS.command_issueCorrection\n",
      "query failed\n"
     ]
    },
    {
     "data": {
      "text/html": [
       "<div>\n",
       "<style scoped>\n",
       "    .dataframe tbody tr th:only-of-type {\n",
       "        vertical-align: middle;\n",
       "    }\n",
       "\n",
       "    .dataframe tbody tr th {\n",
       "        vertical-align: top;\n",
       "    }\n",
       "\n",
       "    .dataframe thead th {\n",
       "        text-align: right;\n",
       "    }\n",
       "</style>\n",
       "<table border=\"1\" class=\"dataframe\">\n",
       "  <thead>\n",
       "    <tr style=\"text-align: right;\">\n",
       "      <th></th>\n",
       "      <th>value</th>\n",
       "    </tr>\n",
       "  </thead>\n",
       "  <tbody>\n",
       "    <tr>\n",
       "      <th>2021-04-27 21:22:06.518000+00:00</th>\n",
       "      <td>False</td>\n",
       "    </tr>\n",
       "  </tbody>\n",
       "</table>\n",
       "</div>"
      ],
      "text/plain": [
       "                                  value\n",
       "2021-04-27 21:22:06.518000+00:00  False"
      ]
     },
     "metadata": {},
     "output_type": "display_data"
    },
    {
     "name": "stdout",
     "output_type": "stream",
     "text": [
      "lsst.sal.MTAOS.command_offsetDOF\n"
     ]
    },
    {
     "data": {
      "text/html": [
       "<div>\n",
       "<style scoped>\n",
       "    .dataframe tbody tr th:only-of-type {\n",
       "        vertical-align: middle;\n",
       "    }\n",
       "\n",
       "    .dataframe tbody tr th {\n",
       "        vertical-align: top;\n",
       "    }\n",
       "\n",
       "    .dataframe thead th {\n",
       "        text-align: right;\n",
       "    }\n",
       "</style>\n",
       "<table border=\"1\" class=\"dataframe\">\n",
       "  <thead>\n",
       "    <tr style=\"text-align: right;\">\n",
       "      <th></th>\n",
       "      <th>value0</th>\n",
       "      <th>value1</th>\n",
       "      <th>value10</th>\n",
       "      <th>value11</th>\n",
       "      <th>value12</th>\n",
       "      <th>value13</th>\n",
       "      <th>value14</th>\n",
       "      <th>value15</th>\n",
       "      <th>value16</th>\n",
       "      <th>value17</th>\n",
       "      <th>...</th>\n",
       "      <th>value45</th>\n",
       "      <th>value46</th>\n",
       "      <th>value47</th>\n",
       "      <th>value48</th>\n",
       "      <th>value49</th>\n",
       "      <th>value5</th>\n",
       "      <th>value6</th>\n",
       "      <th>value7</th>\n",
       "      <th>value8</th>\n",
       "      <th>value9</th>\n",
       "    </tr>\n",
       "  </thead>\n",
       "  <tbody>\n",
       "    <tr>\n",
       "      <th>2024-12-12 07:54:30.659023+00:00</th>\n",
       "      <td>0</td>\n",
       "      <td>0</td>\n",
       "      <td>0</td>\n",
       "      <td>0</td>\n",
       "      <td>0</td>\n",
       "      <td>0</td>\n",
       "      <td>0</td>\n",
       "      <td>0</td>\n",
       "      <td>0</td>\n",
       "      <td>0</td>\n",
       "      <td>...</td>\n",
       "      <td>0</td>\n",
       "      <td>0</td>\n",
       "      <td>0</td>\n",
       "      <td>0</td>\n",
       "      <td>0</td>\n",
       "      <td>-1500</td>\n",
       "      <td>0</td>\n",
       "      <td>0</td>\n",
       "      <td>0</td>\n",
       "      <td>0</td>\n",
       "    </tr>\n",
       "  </tbody>\n",
       "</table>\n",
       "<p>1 rows × 50 columns</p>\n",
       "</div>"
      ],
      "text/plain": [
       "                                  value0  value1  value10  value11  value12  \\\n",
       "2024-12-12 07:54:30.659023+00:00       0       0        0        0        0   \n",
       "\n",
       "                                  value13  value14  value15  value16  value17  \\\n",
       "2024-12-12 07:54:30.659023+00:00        0        0        0        0        0   \n",
       "\n",
       "                                  ...  value45  value46  value47  value48  \\\n",
       "2024-12-12 07:54:30.659023+00:00  ...        0        0        0        0   \n",
       "\n",
       "                                  value49  value5  value6  value7  value8  \\\n",
       "2024-12-12 07:54:30.659023+00:00        0   -1500       0       0       0   \n",
       "\n",
       "                                  value9  \n",
       "2024-12-12 07:54:30.659023+00:00       0  \n",
       "\n",
       "[1 rows x 50 columns]"
      ]
     },
     "metadata": {},
     "output_type": "display_data"
    },
    {
     "name": "stdout",
     "output_type": "stream",
     "text": [
      "lsst.sal.MTAOS.command_rejectCorrection\n",
      "query failed\n"
     ]
    },
    {
     "data": {
      "text/html": [
       "<div>\n",
       "<style scoped>\n",
       "    .dataframe tbody tr th:only-of-type {\n",
       "        vertical-align: middle;\n",
       "    }\n",
       "\n",
       "    .dataframe tbody tr th {\n",
       "        vertical-align: top;\n",
       "    }\n",
       "\n",
       "    .dataframe thead th {\n",
       "        text-align: right;\n",
       "    }\n",
       "</style>\n",
       "<table border=\"1\" class=\"dataframe\">\n",
       "  <thead>\n",
       "    <tr style=\"text-align: right;\">\n",
       "      <th></th>\n",
       "      <th>value0</th>\n",
       "      <th>value1</th>\n",
       "      <th>value10</th>\n",
       "      <th>value11</th>\n",
       "      <th>value12</th>\n",
       "      <th>value13</th>\n",
       "      <th>value14</th>\n",
       "      <th>value15</th>\n",
       "      <th>value16</th>\n",
       "      <th>value17</th>\n",
       "      <th>...</th>\n",
       "      <th>value45</th>\n",
       "      <th>value46</th>\n",
       "      <th>value47</th>\n",
       "      <th>value48</th>\n",
       "      <th>value49</th>\n",
       "      <th>value5</th>\n",
       "      <th>value6</th>\n",
       "      <th>value7</th>\n",
       "      <th>value8</th>\n",
       "      <th>value9</th>\n",
       "    </tr>\n",
       "  </thead>\n",
       "  <tbody>\n",
       "    <tr>\n",
       "      <th>2024-12-12 07:54:30.659023+00:00</th>\n",
       "      <td>0</td>\n",
       "      <td>0</td>\n",
       "      <td>0</td>\n",
       "      <td>0</td>\n",
       "      <td>0</td>\n",
       "      <td>0</td>\n",
       "      <td>0</td>\n",
       "      <td>0</td>\n",
       "      <td>0</td>\n",
       "      <td>0</td>\n",
       "      <td>...</td>\n",
       "      <td>0</td>\n",
       "      <td>0</td>\n",
       "      <td>0</td>\n",
       "      <td>0</td>\n",
       "      <td>0</td>\n",
       "      <td>-1500</td>\n",
       "      <td>0</td>\n",
       "      <td>0</td>\n",
       "      <td>0</td>\n",
       "      <td>0</td>\n",
       "    </tr>\n",
       "  </tbody>\n",
       "</table>\n",
       "<p>1 rows × 50 columns</p>\n",
       "</div>"
      ],
      "text/plain": [
       "                                  value0  value1  value10  value11  value12  \\\n",
       "2024-12-12 07:54:30.659023+00:00       0       0        0        0        0   \n",
       "\n",
       "                                  value13  value14  value15  value16  value17  \\\n",
       "2024-12-12 07:54:30.659023+00:00        0        0        0        0        0   \n",
       "\n",
       "                                  ...  value45  value46  value47  value48  \\\n",
       "2024-12-12 07:54:30.659023+00:00  ...        0        0        0        0   \n",
       "\n",
       "                                  value49  value5  value6  value7  value8  \\\n",
       "2024-12-12 07:54:30.659023+00:00        0   -1500       0       0       0   \n",
       "\n",
       "                                  value9  \n",
       "2024-12-12 07:54:30.659023+00:00       0  \n",
       "\n",
       "[1 rows x 50 columns]"
      ]
     },
     "metadata": {},
     "output_type": "display_data"
    },
    {
     "name": "stdout",
     "output_type": "stream",
     "text": [
      "lsst.sal.MTAOS.command_resetCorrection\n",
      "query failed\n"
     ]
    },
    {
     "data": {
      "text/html": [
       "<div>\n",
       "<style scoped>\n",
       "    .dataframe tbody tr th:only-of-type {\n",
       "        vertical-align: middle;\n",
       "    }\n",
       "\n",
       "    .dataframe tbody tr th {\n",
       "        vertical-align: top;\n",
       "    }\n",
       "\n",
       "    .dataframe thead th {\n",
       "        text-align: right;\n",
       "    }\n",
       "</style>\n",
       "<table border=\"1\" class=\"dataframe\">\n",
       "  <thead>\n",
       "    <tr style=\"text-align: right;\">\n",
       "      <th></th>\n",
       "      <th>value0</th>\n",
       "      <th>value1</th>\n",
       "      <th>value10</th>\n",
       "      <th>value11</th>\n",
       "      <th>value12</th>\n",
       "      <th>value13</th>\n",
       "      <th>value14</th>\n",
       "      <th>value15</th>\n",
       "      <th>value16</th>\n",
       "      <th>value17</th>\n",
       "      <th>...</th>\n",
       "      <th>value45</th>\n",
       "      <th>value46</th>\n",
       "      <th>value47</th>\n",
       "      <th>value48</th>\n",
       "      <th>value49</th>\n",
       "      <th>value5</th>\n",
       "      <th>value6</th>\n",
       "      <th>value7</th>\n",
       "      <th>value8</th>\n",
       "      <th>value9</th>\n",
       "    </tr>\n",
       "  </thead>\n",
       "  <tbody>\n",
       "    <tr>\n",
       "      <th>2024-12-12 07:54:30.659023+00:00</th>\n",
       "      <td>0</td>\n",
       "      <td>0</td>\n",
       "      <td>0</td>\n",
       "      <td>0</td>\n",
       "      <td>0</td>\n",
       "      <td>0</td>\n",
       "      <td>0</td>\n",
       "      <td>0</td>\n",
       "      <td>0</td>\n",
       "      <td>0</td>\n",
       "      <td>...</td>\n",
       "      <td>0</td>\n",
       "      <td>0</td>\n",
       "      <td>0</td>\n",
       "      <td>0</td>\n",
       "      <td>0</td>\n",
       "      <td>-1500</td>\n",
       "      <td>0</td>\n",
       "      <td>0</td>\n",
       "      <td>0</td>\n",
       "      <td>0</td>\n",
       "    </tr>\n",
       "  </tbody>\n",
       "</table>\n",
       "<p>1 rows × 50 columns</p>\n",
       "</div>"
      ],
      "text/plain": [
       "                                  value0  value1  value10  value11  value12  \\\n",
       "2024-12-12 07:54:30.659023+00:00       0       0        0        0        0   \n",
       "\n",
       "                                  value13  value14  value15  value16  value17  \\\n",
       "2024-12-12 07:54:30.659023+00:00        0        0        0        0        0   \n",
       "\n",
       "                                  ...  value45  value46  value47  value48  \\\n",
       "2024-12-12 07:54:30.659023+00:00  ...        0        0        0        0   \n",
       "\n",
       "                                  value49  value5  value6  value7  value8  \\\n",
       "2024-12-12 07:54:30.659023+00:00        0   -1500       0       0       0   \n",
       "\n",
       "                                  value9  \n",
       "2024-12-12 07:54:30.659023+00:00       0  \n",
       "\n",
       "[1 rows x 50 columns]"
      ]
     },
     "metadata": {},
     "output_type": "display_data"
    },
    {
     "name": "stdout",
     "output_type": "stream",
     "text": [
      "lsst.sal.MTAOS.command_resetOffsetDOF\n",
      "query failed\n"
     ]
    },
    {
     "data": {
      "text/html": [
       "<div>\n",
       "<style scoped>\n",
       "    .dataframe tbody tr th:only-of-type {\n",
       "        vertical-align: middle;\n",
       "    }\n",
       "\n",
       "    .dataframe tbody tr th {\n",
       "        vertical-align: top;\n",
       "    }\n",
       "\n",
       "    .dataframe thead th {\n",
       "        text-align: right;\n",
       "    }\n",
       "</style>\n",
       "<table border=\"1\" class=\"dataframe\">\n",
       "  <thead>\n",
       "    <tr style=\"text-align: right;\">\n",
       "      <th></th>\n",
       "      <th>value0</th>\n",
       "      <th>value1</th>\n",
       "      <th>value10</th>\n",
       "      <th>value11</th>\n",
       "      <th>value12</th>\n",
       "      <th>value13</th>\n",
       "      <th>value14</th>\n",
       "      <th>value15</th>\n",
       "      <th>value16</th>\n",
       "      <th>value17</th>\n",
       "      <th>...</th>\n",
       "      <th>value45</th>\n",
       "      <th>value46</th>\n",
       "      <th>value47</th>\n",
       "      <th>value48</th>\n",
       "      <th>value49</th>\n",
       "      <th>value5</th>\n",
       "      <th>value6</th>\n",
       "      <th>value7</th>\n",
       "      <th>value8</th>\n",
       "      <th>value9</th>\n",
       "    </tr>\n",
       "  </thead>\n",
       "  <tbody>\n",
       "    <tr>\n",
       "      <th>2024-12-12 07:54:30.659023+00:00</th>\n",
       "      <td>0</td>\n",
       "      <td>0</td>\n",
       "      <td>0</td>\n",
       "      <td>0</td>\n",
       "      <td>0</td>\n",
       "      <td>0</td>\n",
       "      <td>0</td>\n",
       "      <td>0</td>\n",
       "      <td>0</td>\n",
       "      <td>0</td>\n",
       "      <td>...</td>\n",
       "      <td>0</td>\n",
       "      <td>0</td>\n",
       "      <td>0</td>\n",
       "      <td>0</td>\n",
       "      <td>0</td>\n",
       "      <td>-1500</td>\n",
       "      <td>0</td>\n",
       "      <td>0</td>\n",
       "      <td>0</td>\n",
       "      <td>0</td>\n",
       "    </tr>\n",
       "  </tbody>\n",
       "</table>\n",
       "<p>1 rows × 50 columns</p>\n",
       "</div>"
      ],
      "text/plain": [
       "                                  value0  value1  value10  value11  value12  \\\n",
       "2024-12-12 07:54:30.659023+00:00       0       0        0        0        0   \n",
       "\n",
       "                                  value13  value14  value15  value16  value17  \\\n",
       "2024-12-12 07:54:30.659023+00:00        0        0        0        0        0   \n",
       "\n",
       "                                  ...  value45  value46  value47  value48  \\\n",
       "2024-12-12 07:54:30.659023+00:00  ...        0        0        0        0   \n",
       "\n",
       "                                  value49  value5  value6  value7  value8  \\\n",
       "2024-12-12 07:54:30.659023+00:00        0   -1500       0       0       0   \n",
       "\n",
       "                                  value9  \n",
       "2024-12-12 07:54:30.659023+00:00       0  \n",
       "\n",
       "[1 rows x 50 columns]"
      ]
     },
     "metadata": {},
     "output_type": "display_data"
    },
    {
     "name": "stdout",
     "output_type": "stream",
     "text": [
      "lsst.sal.MTAOS.command_runOFC\n"
     ]
    },
    {
     "data": {
      "text/html": [
       "<div>\n",
       "<style scoped>\n",
       "    .dataframe tbody tr th:only-of-type {\n",
       "        vertical-align: middle;\n",
       "    }\n",
       "\n",
       "    .dataframe tbody tr th {\n",
       "        vertical-align: top;\n",
       "    }\n",
       "\n",
       "    .dataframe thead th {\n",
       "        text-align: right;\n",
       "    }\n",
       "</style>\n",
       "<table border=\"1\" class=\"dataframe\">\n",
       "  <thead>\n",
       "    <tr style=\"text-align: right;\">\n",
       "      <th></th>\n",
       "      <th>config</th>\n",
       "      <th>userGain</th>\n",
       "    </tr>\n",
       "  </thead>\n",
       "  <tbody>\n",
       "    <tr>\n",
       "      <th>2024-12-12 07:55:46.762537+00:00</th>\n",
       "      <td>comp_dof_idx:\\n  M1M3Bend:\\n  - 1.0\\n  - 1.0\\n...</td>\n",
       "      <td>0.5</td>\n",
       "    </tr>\n",
       "  </tbody>\n",
       "</table>\n",
       "</div>"
      ],
      "text/plain": [
       "                                                                             config  \\\n",
       "2024-12-12 07:55:46.762537+00:00  comp_dof_idx:\\n  M1M3Bend:\\n  - 1.0\\n  - 1.0\\n...   \n",
       "\n",
       "                                  userGain  \n",
       "2024-12-12 07:55:46.762537+00:00       0.5  "
      ]
     },
     "metadata": {},
     "output_type": "display_data"
    },
    {
     "name": "stdout",
     "output_type": "stream",
     "text": [
      "lsst.sal.MTAOS.command_runWEP\n"
     ]
    },
    {
     "data": {
      "text/html": [
       "<div>\n",
       "<style scoped>\n",
       "    .dataframe tbody tr th:only-of-type {\n",
       "        vertical-align: middle;\n",
       "    }\n",
       "\n",
       "    .dataframe tbody tr th {\n",
       "        vertical-align: top;\n",
       "    }\n",
       "\n",
       "    .dataframe thead th {\n",
       "        text-align: right;\n",
       "    }\n",
       "</style>\n",
       "<table border=\"1\" class=\"dataframe\">\n",
       "  <thead>\n",
       "    <tr style=\"text-align: right;\">\n",
       "      <th></th>\n",
       "      <th>config</th>\n",
       "      <th>extraId</th>\n",
       "      <th>useOCPS</th>\n",
       "      <th>visitId</th>\n",
       "    </tr>\n",
       "  </thead>\n",
       "  <tbody>\n",
       "    <tr>\n",
       "      <th>2024-12-12 07:54:40.032949+00:00</th>\n",
       "      <td>{}\\n</td>\n",
       "      <td>2024121100565</td>\n",
       "      <td>True</td>\n",
       "      <td>2024121100564</td>\n",
       "    </tr>\n",
       "  </tbody>\n",
       "</table>\n",
       "</div>"
      ],
      "text/plain": [
       "                                 config        extraId  useOCPS        visitId\n",
       "2024-12-12 07:54:40.032949+00:00   {}\\n  2024121100565     True  2024121100564"
      ]
     },
     "metadata": {},
     "output_type": "display_data"
    },
    {
     "name": "stdout",
     "output_type": "stream",
     "text": [
      "lsst.sal.MTAOS.command_setLogLevel\n"
     ]
    },
    {
     "data": {
      "text/html": [
       "<div>\n",
       "<style scoped>\n",
       "    .dataframe tbody tr th:only-of-type {\n",
       "        vertical-align: middle;\n",
       "    }\n",
       "\n",
       "    .dataframe tbody tr th {\n",
       "        vertical-align: top;\n",
       "    }\n",
       "\n",
       "    .dataframe thead th {\n",
       "        text-align: right;\n",
       "    }\n",
       "</style>\n",
       "<table border=\"1\" class=\"dataframe\">\n",
       "  <thead>\n",
       "    <tr style=\"text-align: right;\">\n",
       "      <th></th>\n",
       "      <th>level</th>\n",
       "      <th>subsystem</th>\n",
       "    </tr>\n",
       "  </thead>\n",
       "  <tbody>\n",
       "    <tr>\n",
       "      <th>2024-11-26 07:48:55.487849+00:00</th>\n",
       "      <td>20</td>\n",
       "      <td></td>\n",
       "    </tr>\n",
       "  </tbody>\n",
       "</table>\n",
       "</div>"
      ],
      "text/plain": [
       "                                  level subsystem\n",
       "2024-11-26 07:48:55.487849+00:00     20          "
      ]
     },
     "metadata": {},
     "output_type": "display_data"
    },
    {
     "name": "stdout",
     "output_type": "stream",
     "text": [
      "lsst.sal.MTAOS.command_standby\n",
      "query failed\n"
     ]
    },
    {
     "data": {
      "text/html": [
       "<div>\n",
       "<style scoped>\n",
       "    .dataframe tbody tr th:only-of-type {\n",
       "        vertical-align: middle;\n",
       "    }\n",
       "\n",
       "    .dataframe tbody tr th {\n",
       "        vertical-align: top;\n",
       "    }\n",
       "\n",
       "    .dataframe thead th {\n",
       "        text-align: right;\n",
       "    }\n",
       "</style>\n",
       "<table border=\"1\" class=\"dataframe\">\n",
       "  <thead>\n",
       "    <tr style=\"text-align: right;\">\n",
       "      <th></th>\n",
       "      <th>level</th>\n",
       "      <th>subsystem</th>\n",
       "    </tr>\n",
       "  </thead>\n",
       "  <tbody>\n",
       "    <tr>\n",
       "      <th>2024-11-26 07:48:55.487849+00:00</th>\n",
       "      <td>20</td>\n",
       "      <td></td>\n",
       "    </tr>\n",
       "  </tbody>\n",
       "</table>\n",
       "</div>"
      ],
      "text/plain": [
       "                                  level subsystem\n",
       "2024-11-26 07:48:55.487849+00:00     20          "
      ]
     },
     "metadata": {},
     "output_type": "display_data"
    },
    {
     "name": "stdout",
     "output_type": "stream",
     "text": [
      "lsst.sal.MTAOS.command_start\n"
     ]
    },
    {
     "data": {
      "text/html": [
       "<div>\n",
       "<style scoped>\n",
       "    .dataframe tbody tr th:only-of-type {\n",
       "        vertical-align: middle;\n",
       "    }\n",
       "\n",
       "    .dataframe tbody tr th {\n",
       "        vertical-align: top;\n",
       "    }\n",
       "\n",
       "    .dataframe thead th {\n",
       "        text-align: right;\n",
       "    }\n",
       "</style>\n",
       "<table border=\"1\" class=\"dataframe\">\n",
       "  <thead>\n",
       "    <tr style=\"text-align: right;\">\n",
       "      <th></th>\n",
       "      <th>configurationOverride</th>\n",
       "      <th>settingsToApply</th>\n",
       "    </tr>\n",
       "  </thead>\n",
       "  <tbody>\n",
       "    <tr>\n",
       "      <th>2024-12-11 21:07:20.049280+00:00</th>\n",
       "      <td></td>\n",
       "      <td>None</td>\n",
       "    </tr>\n",
       "  </tbody>\n",
       "</table>\n",
       "</div>"
      ],
      "text/plain": [
       "                                 configurationOverride settingsToApply\n",
       "2024-12-11 21:07:20.049280+00:00                                  None"
      ]
     },
     "metadata": {},
     "output_type": "display_data"
    },
    {
     "name": "stdout",
     "output_type": "stream",
     "text": [
      "lsst.sal.MTAOS.logevent_appliedSettingsMatchStart\n"
     ]
    },
    {
     "data": {
      "text/html": [
       "<div>\n",
       "<style scoped>\n",
       "    .dataframe tbody tr th:only-of-type {\n",
       "        vertical-align: middle;\n",
       "    }\n",
       "\n",
       "    .dataframe tbody tr th {\n",
       "        vertical-align: top;\n",
       "    }\n",
       "\n",
       "    .dataframe thead th {\n",
       "        text-align: right;\n",
       "    }\n",
       "</style>\n",
       "<table border=\"1\" class=\"dataframe\">\n",
       "  <thead>\n",
       "    <tr style=\"text-align: right;\">\n",
       "      <th></th>\n",
       "      <th>appliedSettingsMatchStartIsTrue</th>\n",
       "      <th>priority</th>\n",
       "    </tr>\n",
       "  </thead>\n",
       "  <tbody>\n",
       "    <tr>\n",
       "      <th>2022-04-12 18:50:13.389000+00:00</th>\n",
       "      <td>True</td>\n",
       "      <td>0</td>\n",
       "    </tr>\n",
       "  </tbody>\n",
       "</table>\n",
       "</div>"
      ],
      "text/plain": [
       "                                  appliedSettingsMatchStartIsTrue  priority\n",
       "2022-04-12 18:50:13.389000+00:00                             True         0"
      ]
     },
     "metadata": {},
     "output_type": "display_data"
    },
    {
     "name": "stdout",
     "output_type": "stream",
     "text": [
      "lsst.sal.MTAOS.logevent_authList\n"
     ]
    },
    {
     "data": {
      "text/html": [
       "<div>\n",
       "<style scoped>\n",
       "    .dataframe tbody tr th:only-of-type {\n",
       "        vertical-align: middle;\n",
       "    }\n",
       "\n",
       "    .dataframe tbody tr th {\n",
       "        vertical-align: top;\n",
       "    }\n",
       "\n",
       "    .dataframe thead th {\n",
       "        text-align: right;\n",
       "    }\n",
       "</style>\n",
       "<table border=\"1\" class=\"dataframe\">\n",
       "  <thead>\n",
       "    <tr style=\"text-align: right;\">\n",
       "      <th></th>\n",
       "      <th>authorizedUsers</th>\n",
       "      <th>nonAuthorizedCSCs</th>\n",
       "      <th>priority</th>\n",
       "    </tr>\n",
       "  </thead>\n",
       "  <tbody>\n",
       "    <tr>\n",
       "      <th>2024-05-30 21:59:15.552063+00:00</th>\n",
       "      <td></td>\n",
       "      <td></td>\n",
       "      <td>None</td>\n",
       "    </tr>\n",
       "  </tbody>\n",
       "</table>\n",
       "</div>"
      ],
      "text/plain": [
       "                                 authorizedUsers nonAuthorizedCSCs priority\n",
       "2024-05-30 21:59:15.552063+00:00                                       None"
      ]
     },
     "metadata": {},
     "output_type": "display_data"
    },
    {
     "name": "stdout",
     "output_type": "stream",
     "text": [
      "lsst.sal.MTAOS.logevent_cameraHexapodCorrection\n"
     ]
    }
   ],
   "source": [
    "# Pick a CSC and see more about its topics\n",
    "ss = 'MTAOS'\n",
    "for tt in topic_dict['lsst']['sal'][ss].keys():\n",
    "    topic = f'lsst.sal.{ss}.{tt}'\n",
    "    print(topic)\n",
    "    try:\n",
    "        fields = await client.get_fields(topic)\n",
    "    except: \n",
    "        fields  = ['value']\n",
    "    fields = [f for f in fields if ('private' not in f) and (f != 'name') and (f != 'duration')]\n",
    "    try:\n",
    "        dd = await client.select_top_n(topic, fields, 1)\n",
    "    except: \n",
    "        print('query failed')\n",
    "    display(dd)    \n",
    "\t"
   ]
  },
  {
   "cell_type": "code",
   "execution_count": null,
   "id": "b326dec8-6455-4860-aa65-aa9882aa4a22",
   "metadata": {},
   "outputs": [],
   "source": []
  }
 ],
 "metadata": {
  "kernelspec": {
   "display_name": "LSST",
   "language": "python",
   "name": "lsst"
  },
  "language_info": {
   "codemirror_mode": {
    "name": "ipython",
    "version": 3
   },
   "file_extension": ".py",
   "mimetype": "text/x-python",
   "name": "python",
   "nbconvert_exporter": "python",
   "pygments_lexer": "ipython3",
   "version": "3.12.9"
  }
 },
 "nbformat": 4,
 "nbformat_minor": 5
}
