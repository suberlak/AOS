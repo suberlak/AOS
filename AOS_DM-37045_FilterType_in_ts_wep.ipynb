{
 "cells": [
  {
   "cell_type": "markdown",
   "id": "d3b4e6a1",
   "metadata": {},
   "source": [
    "Test to what extent is filter information ( hence wavelength dependence) passed from `ts_phosim` to `ts_wep` - does `Algorithm.py` know about the SED of the fitted soures that created the donuts?  "
   ]
  },
  {
   "cell_type": "markdown",
   "id": "81de1922",
   "metadata": {},
   "source": [
    "# `ts_phosim`"
   ]
  },
  {
   "cell_type": "markdown",
   "id": "b5aa1af6",
   "metadata": {},
   "source": [
    "We know that when the AOS simulation is run with `imgCloseLoop` the argument [--filterType](https://github.com/lsst-ts/ts_phosim/blob/0858fc632e63686712189eb0ed928d3f84bd5cd6/python/lsst/ts/phosim/CloseLoopTask.py#L1529) if not otherwise specified is set by default to \"\", which stands for \"reference wavelength\". Thus by default `FilterType.REF` is returned by [_getFilterType](https://github.com/lsst-ts/ts_phosim/blob/0858fc632e63686712189eb0ed928d3f84bd5cd6/python/lsst/ts/phosim/CloseLoopTask.py#L430) method. \n",
    "\n",
    "\n",
    "Whether we `runOpd` only, or the full `runImg` simulation, this information is passed to [configPhosimCmpt](https://github.com/lsst-ts/ts_phosim/blob/0858fc632e63686712189eb0ed928d3f84bd5cd6/python/lsst/ts/phosim/CloseLoopTask.py#L1269), and in turn to [self.phosimCmpt.setSurveyParam](https://github.com/lsst-ts/ts_phosim/blob/0858fc632e63686712189eb0ed928d3f84bd5cd6/python/lsst/ts/phosim/CloseLoopTask.py#L223)\n",
    "\n",
    "which [PhosimCmpt](https://github.com/lsst-ts/ts_phosim/blob/0858fc632e63686712189eb0ed928d3f84bd5cd6/python/lsst/ts/phosim/PhosimCmpt.py#L294) shares with  [TeleFacade](https://github.com/lsst-ts/ts_phosim/blob/0858fc632e63686712189eb0ed928d3f84bd5cd6/python/lsst/ts/phosim/telescope/TeleFacade.py#L183)\n",
    "\n",
    "When [writeStarInstFile](https://github.com/lsst-ts/ts_phosim/blob/0858fc632e63686712189eb0ed928d3f84bd5cd6/python/lsst/ts/phosim/telescope/TeleFacade.py#L559) is created,  [_getFilterIdInPhoSim](https://github.com/lsst-ts/ts_phosim/blob/0858fc632e63686712189eb0ed928d3f84bd5cd6/python/lsst/ts/phosim/telescope/TeleFacade.py#L615) uses [mapFilterRefToG](Utility.https://github.com/lsst-ts/ts_wep/blob/a245211b7f3bd0be1e126b4066c45bfbaf6a7e47/python/lsst/ts/wep/Utility.py#L321), which maps \n",
    "\n",
    "`FilterType.REF` --> `FilterType.G`\n",
    "\n",
    "\n",
    "And [phosimCommu.getFilterId](https://github.com/lsst-ts/ts_phosim/blob/0858fc632e63686712189eb0ed928d3f84bd5cd6/python/lsst/ts/phosim/telescope/PhosimCommu.py#L68) is used to translate that `FilterType` to a phosim filter name . For `REF`, or `G`, the `filterId = 1`.\n",
    "\n",
    "\n",
    "This is stored in the `opd` [instance catalog](https://github.com/lsst-ts/ts_phosim/blob/0858fc632e63686712189eb0ed928d3f84bd5cd6/python/lsst/ts/phosim/telescope/PhosimCommu.py#L465) as `Opsim_filter 1` .\n",
    "\n",
    "\n",
    "If `filterType == FilterType.REF` an appropriate SED file is written [writeSedFile](https://github.com/lsst-ts/ts_phosim/blob/0858fc632e63686712189eb0ed928d3f84bd5cd6/python/lsst/ts/phosim/telescope/PhosimCommu.py#L557) , which [reads the wavelength to use](https://github.com/lsst-ts/ts_phosim/blob/0858fc632e63686712189eb0ed928d3f84bd5cd6/python/lsst/ts/phosim/telescope/TeleFacade.py#L170) from [teleSetting.yaml](https://github.com/lsst-ts/ts_phosim/blob/0858fc632e63686712189eb0ed928d3f84bd5cd6/policy/teleSetting.yaml#L43). By default, that wavelength is `500 nm` .\n",
    "\n",
    "Thus the `sedFileName = \"sed_500.txt\"`, and is stored in  `phosimDir/data/sky/sedFileName`. The content of such file is just one line - all intensity is set to a single wavelength:\n",
    "\n",
    "\n",
    "    500   1.0 \n",
    "\n",
    "\n",
    "\n",
    "Then `phosimCommu` when it adds stars to the instance catalog, it uses [phosimCommu.generateStar](https://github.com/lsst-ts/ts_phosim/blob/0858fc632e63686712189eb0ed928d3f84bd5cd6/python/lsst/ts/phosim/telescope/PhosimCommu.py#L319)  which adds \n",
    "\n",
    "    content = \"object %2d\\t%9.6f\\t%9.6f %9.6f ../sky/%s \" % (\n",
    "            starId,\n",
    "            ra,\n",
    "            dec,\n",
    "            magNorm,\n",
    "            sedName,\n",
    "        )\n",
    "    content += \"%.1f %.1f %.1f %.1f %.1f %.1f %s %.1f none none \\n\" % (\n",
    "            redshift,\n",
    "            gamma1,\n",
    "            gamma2,\n",
    "            kappa,\n",
    "            deltaRa,\n",
    "            deltaDec,\n",
    "            sourceType,\n",
    "            starId,\n",
    "        )\n",
    "        \n",
    "which looks like eg. \n",
    "\n",
    "    object  0\t 0.066372\t 0.098209 15.000000 ../sky/sed_500.txt 0.0 0.0 0.0 0.0 0.0 0.0 star 0.0 none none \n",
    "        \n",
    "\n",
    "that's how each star could (in principle) have a different (and quite complex) SED in phoSim. \n"
   ]
  },
  {
   "cell_type": "markdown",
   "id": "86c3772e",
   "metadata": {},
   "source": [
    "Pass correct filter type in `ts_phosim`. First, make a small  function to map filter name to g if it's a reference filter, and leave unchanged  for any other standard filter name:"
   ]
  },
  {
   "cell_type": "code",
   "execution_count": 11,
   "id": "2f26a214",
   "metadata": {},
   "outputs": [],
   "source": [
    "def mapFilterRefToG(filterTypeName):\n",
    "    if filterTypeName in ['ref','']: \n",
    "        return 'g'\n",
    "    else:\n",
    "        return filterTypeName"
   ]
  },
  {
   "cell_type": "code",
   "execution_count": 14,
   "id": "b456ca78",
   "metadata": {},
   "outputs": [
    {
     "name": "stdout",
     "output_type": "stream",
     "text": [
      "ref --> g\n",
      " --> g\n",
      "u --> u\n",
      "g --> g\n",
      "r --> r\n",
      "i --> i\n",
      "z --> z\n",
      "y --> y\n"
     ]
    }
   ],
   "source": [
    "for filterTypeName in ['ref','','u','g','r','i','z','y']:\n",
    "    print(filterTypeName,'-->', mapFilterRefToG(filterTypeName))"
   ]
  },
  {
   "cell_type": "markdown",
   "id": "b28f2284",
   "metadata": {},
   "source": [
    "Also, write correct magnitude limits so that source selector uses different values depending on filter chosen:"
   ]
  },
  {
   "cell_type": "code",
   "execution_count": 24,
   "id": "d51464e7",
   "metadata": {},
   "outputs": [],
   "source": [
    "\n",
    "from lsst.ts.wep.ParamReader import ParamReader\n",
    "from lsst.ts.wep.Utility import getConfigDir\n",
    "\n",
    "\n",
    "#-> get magnitude limits from ts_wep/policy/task/magLimitStar.yaml\n",
    "\n",
    "configDir = getConfigDir()  # ts_wep config dir - check that it works \n",
    "settingFilePath = os.path.join(configDir, \"task/magLimitStar.yaml\")\n",
    "magLimitSettingFile = ParamReader(filePath=settingFilePath)\n",
    "magLimits = magLimitSettingFile.getSetting(f\"filter{filterTypeName.upper()}\")"
   ]
  },
  {
   "cell_type": "markdown",
   "id": "a7ceed34",
   "metadata": {},
   "source": [
    "This update was submitted as https://github.com/lsst-ts/ts_phosim/pull/79 "
   ]
  },
  {
   "cell_type": "markdown",
   "id": "70bd4518",
   "metadata": {},
   "source": [
    "# `ts_wep`\n",
    "\n",
    "\n",
    "In `ts_wep`, the information about the filter is passed in the configuration files passed to the wavefront estimation pipeline.\n",
    "\n",
    "It is written in [imgCloseLoop.writeWepConfiguration](https://github.com/lsst-ts/ts_phosim/blob/0858fc632e63686712189eb0ed928d3f84bd5cd6/python/lsst/ts/phosim/CloseLoopTask.py#L1148).\n",
    "\n",
    "The relevant content is \n",
    "\n",
    "    generateDonutCatalogWcsTask:\n",
    "    class: lsst.ts.wep.task.GenerateDonutCatalogWcsTask.GenerateDonutCatalogWcsTask\n",
    "    # Here we specify the configurations for pointing that we added into the class\n",
    "    # GenerateDonutCatalogWcsTaskConfig.\n",
    "    config:\n",
    "      filterName: 'g'\n",
    "      referenceSelector.doMagLimit: True\n",
    "      referenceSelector.magLimit.maximum: 15.90\n",
    "      referenceSelector.magLimit.minimum: 8.74\n",
    "      referenceSelector.magLimit.fluxField: 'g_flux'\n",
    "      doDonutSelection: True\n",
    "      donutSelector.fluxField: 'g_flux'\n",
    "      \n",
    "      \n",
    "Thus by default `g` filter is hard-coded (**NOTE** - that should not be the case, given that `imgCloseLoop` accepts  `filterType` to be one of `ugrizy` or `REF (=g)`, we should allow this to also depend on the input `filterType`. Unless it doesn't matter...\n",
    "\n",
    "\n",
    "Filter information is no part of `wfEsti`  [config](https://github.com/lsst-ts/ts_wep/blob/a245211b7f3bd0be1e126b4066c45bfbaf6a7e47/python/lsst/ts/wep/WfEstimator.py#L129) . Thus it is also not part of [Algorithm](https://github.com/lsst-ts/ts_wep/blob/develop/python/lsst/ts/wep/cwfs/Algorithm.py#L647),  and not of [Instrument](https://github.com/lsst-ts/ts_wep/blob/develop/python/lsst/ts/wep/cwfs/Instrument.py).\n",
    "\n",
    "\n"
   ]
  },
  {
   "cell_type": "markdown",
   "id": "3d64503f",
   "metadata": {},
   "source": [
    "# `ts_ofc` \n",
    "\n",
    "\n",
    "The `FilterType` information is passed to `ts_ofc` in [CloseLoopTask](https://github.com/lsst-ts/ts_phosim/blob/df5bae9f63788ec4a3d66a4d35386c47fdc206ab/python/lsst/ts/phosim/CloseLoopTask.py#L663). [OFCcalc.calculate_correctiobs](https://github.com/lsst-ts/ts_ofc/blob/062a66656a787742f4acd3f9da9b7bbf04587722/python/lsst/ts/ofc/ofc.py#L155)  uses the filter information to get the optical state.\n"
   ]
  },
  {
   "cell_type": "code",
   "execution_count": null,
   "id": "230b4d1c",
   "metadata": {},
   "outputs": [],
   "source": []
  }
 ],
 "metadata": {
  "kernelspec": {
   "display_name": "Python 3 (ipykernel)",
   "language": "python",
   "name": "python3"
  },
  "language_info": {
   "codemirror_mode": {
    "name": "ipython",
    "version": 3
   },
   "file_extension": ".py",
   "mimetype": "text/x-python",
   "name": "python",
   "nbconvert_exporter": "python",
   "pygments_lexer": "ipython3",
   "version": "3.10.8"
  }
 },
 "nbformat": 4,
 "nbformat_minor": 5
}
