{
 "cells": [
  {
   "cell_type": "markdown",
   "id": "b5f9ea06",
   "metadata": {},
   "source": [
    "\n",
    "# AOS_PS1_phosim_run"
   ]
  },
  {
   "cell_type": "markdown",
   "id": "a0abf807",
   "metadata": {},
   "source": [
    "Update file paths in cmd files  to those relative to the `AOS/DM-28360/` repo, which \n",
    "is considered the `root_dir`"
   ]
  },
  {
   "cell_type": "code",
   "execution_count": 31,
   "id": "b44fc2fc",
   "metadata": {},
   "outputs": [],
   "source": [
    "def readFile(pathToFile, headerString = '#'):\n",
    "    ''' Read file line-by-line  as two lists,\n",
    "    one containing the header lines, \n",
    "    the other the content lines \n",
    "    \n",
    "    Parameters:\n",
    "    -----------\n",
    "    pathToFile: `str`\n",
    "        absolute path to file \n",
    "        \n",
    "    Returns:\n",
    "    ----------\n",
    "    `list`, `list` \n",
    "        lists containing the header lines \n",
    "        and the content lines \n",
    "    '''\n",
    "    with open(pathToFile) as f:\n",
    "        allLines = f.readlines()\n",
    "\n",
    "    headerLines=[]\n",
    "    contentLines=[]\n",
    "\n",
    "    # store the header part and content separately \n",
    "    for line in allLines:\n",
    "        if line.startswith('#'):\n",
    "            headerLines.append(line)\n",
    "        else:\n",
    "            contentLines.append(line)\n",
    "\n",
    "    return headerLines, contentLines \n",
    "\n",
    "def update_cmd_file_paths(bkgnd ='qck', pert='05',\n",
    "                          cmd_dir = '/project/scichris/aos/AOS/DM-28360',\n",
    "                          mirror_dir = '/project/scichris/aos/AOS/DM-28360',\n",
    "                          cmd_file=None\n",
    "                         ):\n",
    "    if cmd_file == None:    \n",
    "        cmd_file = f'{bkgnd}BkgndPert{pert}.cmd'\n",
    "        \n",
    "    path_to_cmd = os.path.join(cmd_dir, cmd_file)\n",
    "    surfacemap_dir = os.path.join(f'imgCloseLoop_0-{pert}','pert','iter0')\n",
    "    \n",
    "    header, content = readFile(path_to_cmd)  \n",
    "    #print(content)\n",
    "    new_content = content.copy()\n",
    "    for i in range(len(content)):\n",
    "        line = content[i]\n",
    "        newline = line\n",
    "        print(line)\n",
    "        if line.startswith('surfacemap'):\n",
    "\n",
    "            print(line) \n",
    "            # split the original line \n",
    "            splitline = line.split()\n",
    "            mirror_file = splitline[2].split('/')[-1]\n",
    "            path_to_mirror = os.path.join(mirror_dir, surfacemap_dir, mirror_file)\n",
    "            print(path_to_mirror)\n",
    "            # replace that with a new line with an \n",
    "            # updated path \n",
    "            newSplitLine = splitline[:2] # \"eg. surfacemap 0\"\n",
    "            # eg. /project/scichris/aos/AOS/DM-28360/imgCloseLoop_0-00/iter0/pert/M1res.txt\n",
    "            print(newSplitLine)\n",
    "            newSplitLine.append(path_to_mirror)\n",
    "            newSplitLine.append(splitline[-1]) # eg. 1\n",
    "            newline = ' '.join(newSplitLine)\n",
    "            newline += ' \\n'\n",
    "            print('-->', newline)\n",
    "        new_content[i] = newline\n",
    "        return new_content\n",
    "        \n",
    "def write_to_file(out_file, content):\n",
    "    with open(out_file, \"w\") as output:\n",
    "        for line in content:\n",
    "            output.write(line)"
   ]
  },
  {
   "cell_type": "code",
   "execution_count": 37,
   "id": "9e14a660",
   "metadata": {},
   "outputs": [],
   "source": [
    "\n",
    "def update_cmd_mirror_paths(bkgnd, pert, cmd_dir, mirror_dir):\n",
    "    \n",
    "\n",
    "    #cmd_file = None\n",
    "    #bkgnd='qck'\n",
    "    #pert='00'\n",
    "    #if cmd_file == None:    \n",
    "    cmd_file = f'{bkgnd}BkgndPert{pert}.cmd'\n",
    "\n",
    "    path_to_cmd = os.path.join(cmd_dir, cmd_file)\n",
    "    surfacemap_dir = os.path.join(f'imgCloseLoop_0-{pert}','pert','iter0')\n",
    "\n",
    "    header, content = readFile(path_to_cmd)  \n",
    "    #print(content)\n",
    "\n",
    "    new_content = content.copy()\n",
    "    for i in range(len(content)):\n",
    "        line = content[i]\n",
    "        newline = line\n",
    "        if line.startswith('surfacemap'):\n",
    "            print(line) \n",
    "            # split the original line \n",
    "            splitline = line.split()\n",
    "            mirror_file = splitline[2].split('/')[-1]\n",
    "            path_to_mirror = os.path.join(mirror_dir, surfacemap_dir, mirror_file)\n",
    "            #print(path_to_mirror)\n",
    "            # replace that with a new line with an \n",
    "            # updated path \n",
    "            newSplitLine = splitline[:2] # \"eg. surfacemap 0\"\n",
    "            # eg. /project/scichris/aos/AOS/DM-28360/imgCloseLoop_0-00/iter0/pert/M1res.txt\n",
    "            #print(newSplitLine)\n",
    "            newSplitLine.append(path_to_mirror)\n",
    "            newSplitLine.append(splitline[-1]) # eg. 1\n",
    "            newline = ' '.join(newSplitLine)\n",
    "            newline += ' \\n'\n",
    "            print('-->', newline)\n",
    "        new_content[i] = newline\n",
    "    \n",
    "    return new_content\n",
    "\n"
   ]
  },
  {
   "cell_type": "code",
   "execution_count": null,
   "id": "86be0b3e",
   "metadata": {},
   "outputs": [],
   "source": []
  },
  {
   "cell_type": "code",
   "execution_count": 41,
   "id": "2cc289f1",
   "metadata": {},
   "outputs": [
    {
     "name": "stdout",
     "output_type": "stream",
     "text": [
      "surfacemap 0 /project/scichris/aos/perturbations/imgCloseLoop_0-00/iter0/pert/M1res.txt 1 \n",
      "\n",
      "--> surfacemap 0 /gscratch/astro/suberlak/aos/AOS/DM-28360/imgCloseLoop_0-00/pert/iter0/M1res.txt 1 \n",
      "\n",
      "surfacemap 2 /project/scichris/aos/perturbations/imgCloseLoop_0-00/iter0/pert/M3res.txt 1 \n",
      "\n",
      "--> surfacemap 2 /gscratch/astro/suberlak/aos/AOS/DM-28360/imgCloseLoop_0-00/pert/iter0/M3res.txt 1 \n",
      "\n",
      "surfacemap 1 /project/scichris/aos/perturbations/imgCloseLoop_0-00/iter0/pert/M2res.txt 1 \n",
      "\n",
      "--> surfacemap 1 /gscratch/astro/suberlak/aos/AOS/DM-28360/imgCloseLoop_0-00/pert/iter0/M2res.txt 1 \n",
      "\n",
      "Updated noBkgndPert00.cmd surfacemap paths, saved /project/scichris/aos/AOS/DM-28360/noBkgndPert00_hyak.cmd\n",
      "surfacemap 0 /project/scichris/aos/imgCloseLoop/iter0/pert/M1res.txt 1 \n",
      "\n",
      "--> surfacemap 0 /gscratch/astro/suberlak/aos/AOS/DM-28360/imgCloseLoop_0-05/pert/iter0/M1res.txt 1 \n",
      "\n",
      "surfacemap 2 /project/scichris/aos/imgCloseLoop/iter0/pert/M3res.txt 1 \n",
      "\n",
      "--> surfacemap 2 /gscratch/astro/suberlak/aos/AOS/DM-28360/imgCloseLoop_0-05/pert/iter0/M3res.txt 1 \n",
      "\n",
      "surfacemap 1 /project/scichris/aos/imgCloseLoop/iter0/pert/M2res.txt 1 \n",
      "\n",
      "--> surfacemap 1 /gscratch/astro/suberlak/aos/AOS/DM-28360/imgCloseLoop_0-05/pert/iter0/M2res.txt 1 \n",
      "\n",
      "Updated noBkgndPert05.cmd surfacemap paths, saved /project/scichris/aos/AOS/DM-28360/noBkgndPert05_hyak.cmd\n"
     ]
    }
   ],
   "source": [
    "suffix = 'hyak'\n",
    "bkgnd='no'\n",
    "for pert in ['00','05']:\n",
    "    new_content = update_cmd_mirror_paths(bkgnd, pert, cmd_dir, mirror_dir)\n",
    "    cmd_file = f'{bkgnd}BkgndPert{pert}.cmd'\n",
    "    new_cmd_file = f'{bkgnd}BkgndPert{pert}_{suffix}.cmd'\n",
    "    out_file = os.path.join(cmd_dir, new_cmd_file)\n",
    "    print(f'Updated {cmd_file} surfacemap paths, saved {out_file}')\n",
    "    write_to_file(out_file, new_content)"
   ]
  },
  {
   "cell_type": "code",
   "execution_count": null,
   "id": "e6b55899",
   "metadata": {},
   "outputs": [],
   "source": []
  },
  {
   "cell_type": "markdown",
   "id": "f165a52c",
   "metadata": {},
   "source": [
    "**Now** it does work correctly for `qckBkgndPert05.cmd` ! "
   ]
  },
  {
   "cell_type": "code",
   "execution_count": 39,
   "id": "cbde9a35",
   "metadata": {},
   "outputs": [
    {
     "name": "stdout",
     "output_type": "stream",
     "text": [
      "quickbackground\n",
      "\n",
      "Updated qckBkgndPert00.cmd surfacemap paths to qckBkgndPert00_hyak.cmd, as /project/scichris/aos/AOS/DM-28360/qckBkgndPert00_hyak.cmd\n",
      "quickbackground\n",
      "\n",
      "Updated qckBkgndPert00.cmd surfacemap paths to qckBkgndPert05_hyak.cmd, as /project/scichris/aos/AOS/DM-28360/qckBkgndPert05_hyak.cmd\n"
     ]
    }
   ],
   "source": [
    "import os\n",
    " \n",
    "cmd_dir ='/project/scichris/aos/AOS/DM-28360' # path where cmd file is found\n",
    "mirror_dir = '/gscratch/astro/suberlak/aos/AOS/DM-28360' # path where the mirror files are \n",
    "#new_dir= \"/gscratch/astro/suberlak/aos/AOS/DM-28360\" # \"/project/scichris/aos/AOS/DM-28360\"\n",
    "suffix = 'hyak' # 'NCSA'\n",
    "bkgnd='qck'\n",
    "for pert in ['00','05']:\n",
    "    \n",
    "    \n",
    "    new_content = update_cmd_file_paths(bkgnd=bkgnd, pert=pert, \n",
    "                                        cmd_dir=cmd_dir, \n",
    "                                        mirror_dir=mirror_dir)\n",
    "\n",
    "    new_cmd_file = f'{bkgnd}BkgndPert{pert}_{suffix}.cmd'\n",
    "    out_file = os.path.join(cmd_dir, new_cmd_file)\n",
    "\n",
    "    print(f'Updated {cmd_file} surfacemap paths to {new_cmd_file}, as {out_file}')\n",
    "    write_to_file(out_file, new_content)"
   ]
  },
  {
   "cell_type": "code",
   "execution_count": 28,
   "id": "2d0b98a8",
   "metadata": {},
   "outputs": [
    {
     "data": {
      "text/plain": [
       "['quickbackground\\n',\n",
       " 'raydensity 0\\n',\n",
       " 'perturbationmode 1\\n',\n",
       " 'trackingmode 0\\n',\n",
       " 'cleartracking\\n',\n",
       " 'clearclouds\\n',\n",
       " 'lascatprob 0.0\\n',\n",
       " 'contaminationmode 0\\n',\n",
       " 'diffractionmode 1\\n',\n",
       " 'straylight 0\\n',\n",
       " 'detectormode 0\\n',\n",
       " 'centroidfile 1\\n',\n",
       " 'izernike 0 0 -4.0442156930541306e-05 \\n',\n",
       " 'izernike 0 1 -4.332919031597056e-05 \\n',\n",
       " 'izernike 0 2 9.573003193790922e-05 \\n',\n",
       " 'izernike 0 3 -0.0003705211361010626 \\n',\n",
       " 'izernike 0 4 -3.1817348860741566e-09 \\n',\n",
       " 'izernike 0 5 3.026344163991198e-08 \\n',\n",
       " 'izernike 0 6 2.004567507254775e-05 \\n',\n",
       " 'izernike 0 7 -9.10786523552383e-06 \\n',\n",
       " 'izernike 0 8 -1.4561234478195143e-08 \\n',\n",
       " 'izernike 0 9 -1.0309865121152308e-08 \\n',\n",
       " 'izernike 0 10 -1.3645986189662889e-05 \\n',\n",
       " 'izernike 0 11 7.554462746840323e-09 \\n',\n",
       " 'izernike 0 12 -1.65323745375795e-09 \\n',\n",
       " 'izernike 0 13 -3.6539217577959214e-08 \\n',\n",
       " 'izernike 0 14 2.4496827297845056e-10 \\n',\n",
       " 'izernike 0 15 1.4056091394706087e-06 \\n',\n",
       " 'izernike 0 16 -3.1352491529807935e-06 \\n',\n",
       " 'izernike 0 17 -6.856432965039876e-09 \\n',\n",
       " 'izernike 0 18 5.1263992186379236e-08 \\n',\n",
       " 'izernike 0 19 1.5778258841132284e-08 \\n',\n",
       " 'izernike 0 20 -4.950715741634594e-09 \\n',\n",
       " 'izernike 0 21 8.627725771706552e-06 \\n',\n",
       " 'izernike 0 22 -1.904400005822205e-09 \\n',\n",
       " 'izernike 0 23 7.324951944183424e-08 \\n',\n",
       " 'izernike 0 24 1.7382040828760413e-09 \\n',\n",
       " 'izernike 0 25 -4.871324577862937e-08 \\n',\n",
       " 'izernike 0 26 5.130762089063919e-10 \\n',\n",
       " 'izernike 0 27 8.089045134832733e-08 \\n',\n",
       " 'surfacemap 0 /project/scichris/aos/perturbations/imgCloseLoop_0-00/iter0/pert/M1res.txt 1 \\n',\n",
       " 'izernike 2 0 -4.0442156930541306e-05 \\n',\n",
       " 'izernike 2 1 -4.332919031597056e-05 \\n',\n",
       " 'izernike 2 2 9.573003193790922e-05 \\n',\n",
       " 'izernike 2 3 -0.0003705211361010626 \\n',\n",
       " 'izernike 2 4 -3.1817348860741566e-09 \\n',\n",
       " 'izernike 2 5 3.026344163991198e-08 \\n',\n",
       " 'izernike 2 6 2.004567507254775e-05 \\n',\n",
       " 'izernike 2 7 -9.10786523552383e-06 \\n',\n",
       " 'izernike 2 8 -1.4561234478195143e-08 \\n',\n",
       " 'izernike 2 9 -1.0309865121152308e-08 \\n',\n",
       " 'izernike 2 10 -1.3645986189662889e-05 \\n',\n",
       " 'izernike 2 11 7.554462746840323e-09 \\n',\n",
       " 'izernike 2 12 -1.65323745375795e-09 \\n',\n",
       " 'izernike 2 13 -3.6539217577959214e-08 \\n',\n",
       " 'izernike 2 14 2.4496827297845056e-10 \\n',\n",
       " 'izernike 2 15 1.4056091394706087e-06 \\n',\n",
       " 'izernike 2 16 -3.1352491529807935e-06 \\n',\n",
       " 'izernike 2 17 -6.856432965039876e-09 \\n',\n",
       " 'izernike 2 18 5.1263992186379236e-08 \\n',\n",
       " 'izernike 2 19 1.5778258841132284e-08 \\n',\n",
       " 'izernike 2 20 -4.950715741634594e-09 \\n',\n",
       " 'izernike 2 21 8.627725771706552e-06 \\n',\n",
       " 'izernike 2 22 -1.904400005822205e-09 \\n',\n",
       " 'izernike 2 23 7.324951944183424e-08 \\n',\n",
       " 'izernike 2 24 1.7382040828760413e-09 \\n',\n",
       " 'izernike 2 25 -4.871324577862937e-08 \\n',\n",
       " 'izernike 2 26 5.130762089063919e-10 \\n',\n",
       " 'izernike 2 27 8.089045134832733e-08 \\n',\n",
       " 'surfacemap 2 /project/scichris/aos/perturbations/imgCloseLoop_0-00/iter0/pert/M3res.txt 1 \\n',\n",
       " 'surfacelink 2 0 \\n',\n",
       " 'izernike 1 0 -1.267773851621322e-06 \\n',\n",
       " 'izernike 1 1 6.163160147856784e-11 \\n',\n",
       " 'izernike 1 2 3.022788964039733e-07 \\n',\n",
       " 'izernike 1 3 3.829268057844563e-06 \\n',\n",
       " 'izernike 1 4 8.20810527460015e-12 \\n',\n",
       " 'izernike 1 5 -9.910364830789504e-10 \\n',\n",
       " 'izernike 1 6 -1.04921071508293e-09 \\n',\n",
       " 'izernike 1 7 -2.5339590898047967e-12 \\n',\n",
       " 'izernike 1 8 -3.7042699573849975e-08 \\n',\n",
       " 'izernike 1 9 9.120302085062232e-13 \\n',\n",
       " 'izernike 1 10 -2.0227105394208813e-07 \\n',\n",
       " 'izernike 1 11 -3.557023074489799e-11 \\n',\n",
       " 'izernike 1 12 4.27605970771959e-12 \\n',\n",
       " 'izernike 1 13 -3.4025383532246764e-09 \\n',\n",
       " 'izernike 1 14 -1.3457606447880118e-12 \\n',\n",
       " 'izernike 1 15 1.5374575646503372e-10 \\n',\n",
       " 'izernike 1 16 5.271476325493437e-07 \\n',\n",
       " 'izernike 1 17 2.742974823849955e-12 \\n',\n",
       " 'izernike 1 18 -5.044764684791159e-08 \\n',\n",
       " 'izernike 1 19 -4.983465893737358e-11 \\n',\n",
       " 'izernike 1 20 -1.3028826031338392e-06 \\n',\n",
       " 'izernike 1 21 6.099520665609668e-07 \\n',\n",
       " 'izernike 1 22 1.2586762089574227e-11 \\n',\n",
       " 'izernike 1 23 5.227274958851206e-10 \\n',\n",
       " 'izernike 1 24 -1.9668959737808478e-12 \\n',\n",
       " 'izernike 1 25 -5.456541018803041e-09 \\n',\n",
       " 'izernike 1 26 -8.08497969454281e-13 \\n',\n",
       " 'izernike 1 27 1.1701927697912578e-08 \\n',\n",
       " 'surfacemap 1 /project/scichris/aos/perturbations/imgCloseLoop_0-00/iter0/pert/M2res.txt 1 \\n',\n",
       " 'izernike 3 0 -0.12237724288672729 \\n',\n",
       " 'izernike 3 1 -0.0016546487428090778 \\n',\n",
       " 'izernike 3 2 -0.005384904903874816 \\n',\n",
       " 'izernike 3 3 -0.00032152464306706076 \\n',\n",
       " 'izernike 3 4 -5.812318032353683e-07 \\n',\n",
       " 'izernike 3 5 -0.0018612962363275464 \\n',\n",
       " 'izernike 3 6 -1.1492834945737186e-05 \\n',\n",
       " 'izernike 3 7 3.5919531534772415e-06 \\n',\n",
       " 'izernike 3 8 -0.00018060485181756156 \\n',\n",
       " 'izernike 3 9 5.987271596290152e-08 \\n',\n",
       " 'izernike 3 10 -2.5610647120811764e-05 \\n',\n",
       " 'izernike 3 11 -3.113256358982781e-05 \\n',\n",
       " 'izernike 3 12 -2.2308983930021575e-06 \\n',\n",
       " 'izernike 3 13 -0.0001977815838397677 \\n',\n",
       " 'izernike 3 14 7.951018263340441e-07 \\n',\n",
       " 'izernike 3 15 1.114199801254358e-06 \\n',\n",
       " 'izernike 3 16 -1.8626242817927458e-06 \\n',\n",
       " 'izernike 3 17 -1.4021912573301447e-06 \\n',\n",
       " 'izernike 3 18 -2.422897720582013e-06 \\n',\n",
       " 'izernike 3 19 2.0567314125591194e-06 \\n',\n",
       " 'izernike 3 20 -5.7228955102459423e-05 \\n',\n",
       " 'izernike 3 21 2.9225847445576767e-06 \\n',\n",
       " 'izernike 3 22 -4.141358069191723e-06 \\n',\n",
       " 'izernike 3 23 3.059007818963656e-07 \\n',\n",
       " 'izernike 3 24 2.627222000332359e-06 \\n',\n",
       " 'izernike 3 25 -4.4941751268611656e-06 \\n',\n",
       " 'izernike 3 26 -3.654743236699449e-08 \\n',\n",
       " 'izernike 3 27 1.223111725100107e-05 \\n',\n",
       " 'izernike 4 0 -0.12221509829490226 \\n',\n",
       " 'izernike 4 1 -0.0016503272253389292 \\n',\n",
       " 'izernike 4 2 -0.00538446603491796 \\n',\n",
       " 'izernike 4 3 -0.0003763415211059292 \\n',\n",
       " 'izernike 4 4 -1.1806059440209663e-06 \\n',\n",
       " 'izernike 4 5 -0.0018602603105760942 \\n',\n",
       " 'izernike 4 6 -1.27249523122451e-05 \\n',\n",
       " 'izernike 4 7 1.004221359136434e-05 \\n',\n",
       " 'izernike 4 8 -0.0001824336610354263 \\n',\n",
       " 'izernike 4 9 9.038935109855814e-07 \\n',\n",
       " 'izernike 4 10 -2.7148822885439173e-05 \\n',\n",
       " 'izernike 4 11 -2.913643330111781e-05 \\n',\n",
       " 'izernike 4 12 3.553603007284367e-07 \\n',\n",
       " 'izernike 4 13 -0.00019754263058659153 \\n',\n",
       " 'izernike 4 14 4.799031249986465e-06 \\n',\n",
       " 'izernike 4 15 2.317859234874037e-06 \\n',\n",
       " 'izernike 4 16 -2.0927722239828964e-06 \\n',\n",
       " 'izernike 4 17 -1.5958818156831831e-06 \\n',\n",
       " 'izernike 4 18 -2.7304646358622343e-06 \\n',\n",
       " 'izernike 4 19 1.003779358116101e-05 \\n',\n",
       " 'izernike 4 20 -5.7826288043282116e-05 \\n',\n",
       " 'izernike 4 21 2.7229507134408314e-06 \\n',\n",
       " 'izernike 4 22 -4.6054811372648274e-09 \\n',\n",
       " 'izernike 4 23 5.443977978352399e-07 \\n',\n",
       " 'izernike 4 24 5.424370892811747e-08 \\n',\n",
       " 'izernike 4 25 -1.6894412451742646e-06 \\n',\n",
       " 'izernike 4 26 8.017742750336746e-07 \\n',\n",
       " 'izernike 4 27 1.4371431423933193e-05 \\n',\n",
       " 'izernike 5 0 -0.11228672438542947 \\n',\n",
       " 'izernike 5 1 -0.001134266024185036 \\n',\n",
       " 'izernike 5 2 -0.008783553241076462 \\n',\n",
       " 'izernike 5 3 -0.00026579516164664495 \\n',\n",
       " 'izernike 5 4 -6.502148664833882e-06 \\n',\n",
       " 'izernike 5 5 -0.00040412123007763665 \\n',\n",
       " 'izernike 5 6 -4.538513045783516e-05 \\n',\n",
       " 'izernike 5 7 2.5126999542641967e-05 \\n',\n",
       " 'izernike 5 8 -0.00012099936733461219 \\n',\n",
       " 'izernike 5 9 -9.012909577234712e-07 \\n',\n",
       " 'izernike 5 10 7.478146160951687e-05 \\n',\n",
       " 'izernike 5 11 4.588399102231055e-05 \\n',\n",
       " 'izernike 5 12 5.29485480154451e-07 \\n',\n",
       " 'izernike 5 13 8.693050534244893e-05 \\n',\n",
       " 'izernike 5 14 -8.833093861558085e-07 \\n',\n",
       " 'izernike 5 15 1.386017454338813e-05 \\n',\n",
       " 'izernike 5 16 -3.5618298842768636e-05 \\n',\n",
       " 'izernike 5 17 9.382992564472828e-07 \\n',\n",
       " 'izernike 5 18 6.253050610951497e-05 \\n',\n",
       " 'izernike 5 19 -8.254772644317862e-07 \\n',\n",
       " 'izernike 5 20 2.9921364252295356e-05 \\n',\n",
       " 'izernike 5 21 2.812472483467039e-05 \\n',\n",
       " 'izernike 5 22 -1.600633793587259e-07 \\n',\n",
       " 'izernike 5 23 2.4529149714528127e-05 \\n',\n",
       " 'izernike 5 24 -3.975591348552119e-07 \\n',\n",
       " 'izernike 5 25 5.099135459897411e-05 \\n',\n",
       " 'izernike 5 26 1.384216230189485e-07 \\n',\n",
       " 'izernike 5 27 6.281335572997358e-05 \\n',\n",
       " 'izernike 6 0 -0.11205087030367965 \\n',\n",
       " 'izernike 6 1 -0.0011407967754577608 \\n',\n",
       " 'izernike 6 2 -0.008773020386111914 \\n',\n",
       " 'izernike 6 3 -0.00018660886795199977 \\n',\n",
       " 'izernike 6 4 -6.947462468001548e-06 \\n',\n",
       " 'izernike 6 5 -0.00042208530805142985 \\n',\n",
       " 'izernike 6 6 -1.8406510502185836e-05 \\n',\n",
       " 'izernike 6 7 4.543970052392627e-05 \\n',\n",
       " 'izernike 6 8 -0.00018958850047427696 \\n',\n",
       " 'izernike 6 9 4.818212096921044e-06 \\n',\n",
       " 'izernike 6 10 9.600755506837153e-05 \\n',\n",
       " 'izernike 6 11 3.472045425822944e-05 \\n',\n",
       " 'izernike 6 12 2.1252978487993782e-07 \\n',\n",
       " 'izernike 6 13 5.787503998123929e-05 \\n',\n",
       " 'izernike 6 14 3.772717222021987e-07 \\n',\n",
       " 'izernike 6 15 -2.2265369726901646e-06 \\n',\n",
       " 'izernike 6 16 -1.0835630179157477e-05 \\n',\n",
       " 'izernike 6 17 2.0300512612721826e-06 \\n',\n",
       " 'izernike 6 18 -3.495829936978974e-05 \\n',\n",
       " 'izernike 6 19 -5.619572291827121e-07 \\n',\n",
       " 'izernike 6 20 6.591761398160908e-06 \\n',\n",
       " 'izernike 6 21 4.298362237127106e-05 \\n',\n",
       " 'izernike 6 22 -3.507364723592827e-07 \\n',\n",
       " 'izernike 6 23 1.5936909864498066e-05 \\n',\n",
       " 'izernike 6 24 -3.753101129274943e-07 \\n',\n",
       " 'izernike 6 25 -3.6871534784159095e-05 \\n',\n",
       " 'izernike 6 26 -8.804240900561633e-08 \\n',\n",
       " 'izernike 6 27 1.577881344247456e-05 \\n',\n",
       " 'izernike 9 0 0.001085521101533253 \\n',\n",
       " 'izernike 9 1 1.3031440043156733e-06 \\n',\n",
       " 'izernike 9 2 -0.00039245739962456426 \\n',\n",
       " 'izernike 9 3 -4.9747372122772426e-05 \\n',\n",
       " 'izernike 9 4 5.362929968518984e-09 \\n',\n",
       " 'izernike 9 5 -3.878621348643672e-05 \\n',\n",
       " 'izernike 9 6 -6.1462965790822675e-06 \\n',\n",
       " 'izernike 9 7 -1.2140386682081935e-08 \\n',\n",
       " 'izernike 9 8 -1.795608585392396e-05 \\n',\n",
       " 'izernike 9 9 -2.0153637657730364e-08 \\n',\n",
       " 'izernike 9 10 3.743704940423509e-07 \\n',\n",
       " 'izernike 9 11 -1.5993044636581151e-07 \\n',\n",
       " 'izernike 9 12 5.144330896488512e-10 \\n',\n",
       " 'izernike 9 13 -5.73403940734282e-06 \\n',\n",
       " 'izernike 9 14 4.4827964319462e-10 \\n',\n",
       " 'izernike 9 15 1.7725222953202607e-11 \\n',\n",
       " 'izernike 9 16 -6.078117013520894e-07 \\n',\n",
       " 'izernike 9 17 4.841855443730202e-09 \\n',\n",
       " 'izernike 9 18 8.83162282226332e-08 \\n',\n",
       " 'izernike 9 19 4.562802333946123e-09 \\n',\n",
       " 'izernike 9 20 -8.767094232240877e-06 \\n',\n",
       " 'izernike 9 21 1.4785603763444628e-07 \\n',\n",
       " 'izernike 9 22 4.032890083049579e-11 \\n',\n",
       " 'izernike 9 23 9.279013970598746e-08 \\n',\n",
       " 'izernike 9 24 1.793096870488638e-11 \\n',\n",
       " 'izernike 9 25 6.971525432891321e-08 \\n',\n",
       " 'izernike 9 26 -2.2053044456572744e-12 \\n',\n",
       " 'izernike 9 27 -5.928448372607447e-07 \\n',\n",
       " 'izernike 10 0 0.001085521101533253 \\n',\n",
       " 'izernike 10 1 1.3242252100455243e-06 \\n',\n",
       " 'izernike 10 2 -0.00039241174908982615 \\n',\n",
       " 'izernike 10 3 -4.981201840504587e-05 \\n',\n",
       " 'izernike 10 4 4.842393218289686e-09 \\n',\n",
       " 'izernike 10 5 -3.878528170622591e-05 \\n',\n",
       " 'izernike 10 6 -6.146954114496877e-06 \\n',\n",
       " 'izernike 10 7 -6.463584467493902e-09 \\n',\n",
       " 'izernike 10 8 -1.794933742738978e-05 \\n',\n",
       " 'izernike 10 9 -1.8476850085343307e-08 \\n',\n",
       " 'izernike 10 10 3.74849041478063e-07 \\n',\n",
       " 'izernike 10 11 -1.5834845722269973e-07 \\n',\n",
       " 'izernike 10 12 5.368635499467234e-11 \\n',\n",
       " 'izernike 10 13 -5.727021928675815e-06 \\n',\n",
       " 'izernike 10 14 -6.660507168324509e-10 \\n',\n",
       " 'izernike 10 15 6.317798268535331e-10 \\n',\n",
       " 'izernike 10 16 -6.058447775651362e-07 \\n',\n",
       " 'izernike 10 17 7.52273596840484e-09 \\n',\n",
       " 'izernike 10 18 7.951653177942434e-08 \\n',\n",
       " 'izernike 10 19 -3.284881398119287e-09 \\n',\n",
       " 'izernike 10 20 -8.80208767691143e-06 \\n',\n",
       " 'izernike 10 21 1.260408207384035e-07 \\n',\n",
       " 'izernike 10 22 -4.4023473977163097e-11 \\n',\n",
       " 'izernike 10 23 8.405439111418992e-08 \\n',\n",
       " 'izernike 10 24 4.925050029592401e-13 \\n',\n",
       " 'izernike 10 25 5.6782068670354805e-08 \\n',\n",
       " 'izernike 10 26 -4.289418497662211e-12 \\n',\n",
       " 'izernike 10 27 -5.975520333520316e-07 \\n']"
      ]
     },
     "execution_count": 28,
     "metadata": {},
     "output_type": "execute_result"
    }
   ],
   "source": [
    "new_content"
   ]
  },
  {
   "cell_type": "markdown",
   "id": "26d5ce41",
   "metadata": {},
   "source": [
    "Update `Opsim_obshistid`, which now will contain info about the particular combination of instrument, field, position, cmd file, resulting in a distinct exposure id for each simulated dataset. "
   ]
  },
  {
   "cell_type": "code",
   "execution_count": 31,
   "id": "c3c4c483",
   "metadata": {},
   "outputs": [
    {
     "name": "stdout",
     "output_type": "stream",
     "text": [
      "comCam 0\n",
      "lsstCam 1\n"
     ]
    }
   ],
   "source": [
    "instDict =  {\"comCam\": 0, \"lsstCam\": 1}\n",
    "invDict = {}\n",
    "for key, value in zip(instDict.keys(), instDict.values()):\n",
    "    print(key,value)\n",
    "    invDict[value]=key"
   ]
  },
  {
   "cell_type": "code",
   "execution_count": 32,
   "id": "c9109ef5",
   "metadata": {},
   "outputs": [
    {
     "data": {
      "text/plain": [
       "{0: 'comCam', 1: 'lsstCam'}"
      ]
     },
     "execution_count": 32,
     "metadata": {},
     "output_type": "execute_result"
    }
   ],
   "source": [
    "invDict"
   ]
  },
  {
   "cell_type": "code",
   "execution_count": 34,
   "id": "d25a95b1",
   "metadata": {},
   "outputs": [],
   "source": [
    "\n",
    "\n",
    "\n"
   ]
  },
  {
   "cell_type": "code",
   "execution_count": 36,
   "id": "032f30a0",
   "metadata": {},
   "outputs": [
    {
     "data": {
      "text/plain": [
       "{'comCam': 0, 'lsstCam': 1}"
      ]
     },
     "execution_count": 36,
     "metadata": {},
     "output_type": "execute_result"
    }
   ],
   "source": [
    "get_inst_dict()"
   ]
  },
  {
   "cell_type": "code",
   "execution_count": 35,
   "id": "4f8fe7b2",
   "metadata": {},
   "outputs": [
    {
     "data": {
      "text/plain": [
       "{0: 'comCam', 1: 'lsstCam'}"
      ]
     },
     "execution_count": 35,
     "metadata": {},
     "output_type": "execute_result"
    }
   ],
   "source": [
    "invert_dict(get_inst_dict())"
   ]
  },
  {
   "cell_type": "code",
   "execution_count": 44,
   "id": "9ae90ed7",
   "metadata": {},
   "outputs": [],
   "source": [
    "def invert_dict(dic):\n",
    "    invDic={}\n",
    "    for key,value in zip(dic.keys(), dic.values()):\n",
    "        invDic[value]=key\n",
    "    return invDic\n",
    "\n",
    "def get_inst_dict():\n",
    "    return {\"comCam\": 0, \"lsstCam\": 1}\n",
    "\n",
    "def get_field_dict():\n",
    "    return {\"high\": 0, \"med\": 1, \"low\": 2, \"Baade\": 3}\n",
    "\n",
    "def get_position_dict():\n",
    "    return {\"focal\": 0, \"extra\": 1, \"intra\": 2}\n",
    "\n",
    "def get_cmd_dict():\n",
    "    return {\n",
    "        \"noBkgndPert00\": 0,\n",
    "        \"noBkgndPert05\": 1,\n",
    "        \"qckBkgndPert00\": 2,\n",
    "        \"qckBkgndPert05\": 3,\n",
    "        \"noBkgnd\": 4,\n",
    "        \"qckBkgnd\": 5,\n",
    "    }\n",
    "\n",
    "def calculate_obshistid(instrument, field, position, cmd_file, run):\n",
    "\n",
    "    instDict = get_inst_dict()\n",
    "    fieldDict = get_field_dict()\n",
    "    positionDict = get_position_dict()\n",
    "\n",
    "    if cmd_file.find(\"_\") > 0:\n",
    "        # eg 'noBkgndPert00_NCSA.cmd', 'noBkgndPert00_hyak.cmd'\n",
    "        # i.e. with corrected surfacemap paths\n",
    "        cmd = cmd_file.split(\"_\")[0]\n",
    "    else:  # eg. 'noBkgndPert00.cmd'\n",
    "        # i.e. with original paths\n",
    "        cmd = cmd_file.split(\".\")[0]\n",
    "    cmdDict = get_cmd_dict()\n",
    "    \n",
    "    first = instDict[instrument]\n",
    "    second = fieldDict[field]\n",
    "    third = positionDict[position]\n",
    "    fourth = cmdDict[cmd]\n",
    "    obshistid = f\"90{first}{second}{third}{fourth}{run}\"\n",
    "    return obshistid\n",
    "\n",
    "\n",
    "def invert_obshistid(obshistid):\n",
    "    ''' Given obshistid, invert the logic and find the \n",
    "    instrument, field, position, cmd_file, run\n",
    "    '''\n",
    "    instDictInv = invert_dict(get_inst_dict())\n",
    "    fieldDictInv = invert_dict(get_field_dict())\n",
    "    positionDictInv = invert_dict(get_position_dict())\n",
    "    cmdDictInv = invert_dict(get_cmd_dict())\n",
    "    \n",
    "   # take last five digits\n",
    "    digits = obshistid[-5:]\n",
    "\n",
    "    first=int(digits[0])\n",
    "    second=int(digits[1])\n",
    "    third=int(digits[2])\n",
    "    fourth=int(digits[3])\n",
    "    run=int(digits[4])\n",
    "\n",
    "\n",
    "    instrument = instDictInv[first]\n",
    "    field = fieldDictInv[second]\n",
    "    position= positionDictInv[third]\n",
    "    cmd = cmdDictInv[fourth]\n",
    "    \n",
    "    return {'instrument':instrument, 'field':field, \n",
    "            'position':position, 'cmd':cmd, \n",
    "            'run':run\n",
    "           }"
   ]
  },
  {
   "cell_type": "code",
   "execution_count": null,
   "id": "7048630f",
   "metadata": {},
   "outputs": [],
   "source": []
  },
  {
   "cell_type": "code",
   "execution_count": 23,
   "id": "03bc9df1",
   "metadata": {},
   "outputs": [],
   "source": []
  },
  {
   "cell_type": "code",
   "execution_count": 24,
   "id": "001120e3",
   "metadata": {},
   "outputs": [
    {
     "data": {
      "text/plain": [
       "'00211'"
      ]
     },
     "execution_count": 24,
     "metadata": {},
     "output_type": "execute_result"
    }
   ],
   "source": [
    "digits"
   ]
  },
  {
   "cell_type": "code",
   "execution_count": 60,
   "id": "706c4495",
   "metadata": {},
   "outputs": [
    {
     "name": "stdout",
     "output_type": "stream",
     "text": [
      "9000001 : comCam high focal noBkgndPert00.cmd\n",
      "/project/scichris/aos/AOS/DM-28360/comCam/high/focal/9000001/repackaged/CC_H_20211231_000001_R22_S00.fits\n",
      "0.5752073903703584\n",
      "9000101 : comCam high extra noBkgndPert00.cmd\n",
      "/project/scichris/aos/AOS/DM-28360/comCam/high/extra/9000101/repackaged/CC_H_20211231_000101_R22_S00.fits\n",
      "0.5752073903703584\n",
      "9000201 : comCam high intra noBkgndPert00.cmd\n",
      "/project/scichris/aos/AOS/DM-28360/comCam/high/intra/9000201/repackaged/CC_H_20211231_000201_R22_S00.fits\n",
      "0.5752073903703584\n",
      "9000011 : comCam high focal noBkgndPert05.cmd\n",
      "/project/scichris/aos/AOS/DM-28360/comCam/high/focal/9000011/repackaged/CC_H_20211231_000011_R22_S00.fits\n",
      "0.5752073903703584\n",
      "9000111 : comCam high extra noBkgndPert05.cmd\n",
      "/project/scichris/aos/AOS/DM-28360/comCam/high/extra/9000111/repackaged/CC_H_20211231_000111_R22_S00.fits\n",
      "0.5752073903703584\n",
      "9000211 : comCam high intra noBkgndPert05.cmd\n",
      "/project/scichris/aos/AOS/DM-28360/comCam/high/intra/9000211/repackaged/CC_H_20211231_000211_R22_S00.fits\n",
      "0.5752073903703584\n",
      "9001001 : comCam med focal noBkgndPert00.cmd\n",
      "/project/scichris/aos/AOS/DM-28360/comCam/med/focal/9001001/repackaged/CC_H_20211231_001001_R22_S00.fits\n",
      "0.6900532927525385\n",
      "9001101 : comCam med extra noBkgndPert00.cmd\n",
      "/project/scichris/aos/AOS/DM-28360/comCam/med/extra/9001101/repackaged/CC_H_20211231_001101_R22_S00.fits\n",
      "0.6900532927525385\n",
      "9001201 : comCam med intra noBkgndPert00.cmd\n",
      "/project/scichris/aos/AOS/DM-28360/comCam/med/intra/9001201/repackaged/CC_H_20211231_001201_R22_S00.fits\n",
      "0.6900532927525385\n",
      "9001011 : comCam med focal noBkgndPert05.cmd\n",
      "/project/scichris/aos/AOS/DM-28360/comCam/med/focal/9001011/repackaged/CC_H_20211231_001011_R22_S00.fits\n",
      "0.6900532927525385\n",
      "9001111 : comCam med extra noBkgndPert05.cmd\n",
      "/project/scichris/aos/AOS/DM-28360/comCam/med/extra/9001111/repackaged/CC_H_20211231_001111_R22_S00.fits\n",
      "0.6900532927525385\n",
      "9001211 : comCam med intra noBkgndPert05.cmd\n",
      "/project/scichris/aos/AOS/DM-28360/comCam/med/intra/9001211/repackaged/CC_H_20211231_001211_R22_S00.fits\n",
      "0.6900532927525385\n",
      "9002001 : comCam low focal noBkgndPert00.cmd\n",
      "/project/scichris/aos/AOS/DM-28360/comCam/low/focal/9002001/repackaged/CC_H_20211231_002001_R22_S00.fits\n",
      "0.6900532927525385\n",
      "9002101 : comCam low extra noBkgndPert00.cmd\n",
      "/project/scichris/aos/AOS/DM-28360/comCam/low/extra/9002101/repackaged/CC_H_20211231_002101_R22_S00.fits\n",
      "0.6900532927525385\n",
      "9002201 : comCam low intra noBkgndPert00.cmd\n",
      "/project/scichris/aos/AOS/DM-28360/comCam/low/intra/9002201/repackaged/CC_H_20211231_002201_R22_S00.fits\n",
      "0.6900532927525385\n",
      "9002011 : comCam low focal noBkgndPert05.cmd\n",
      "/project/scichris/aos/AOS/DM-28360/comCam/low/focal/9002011/repackaged/CC_H_20211231_002011_R22_S00.fits\n",
      "0.6900532927525385\n",
      "9002111 : comCam low extra noBkgndPert05.cmd\n",
      "/project/scichris/aos/AOS/DM-28360/comCam/low/extra/9002111/repackaged/CC_H_20211231_002111_R22_S00.fits\n",
      "0.6900532927525385\n",
      "9002211 : comCam low intra noBkgndPert05.cmd\n",
      "/project/scichris/aos/AOS/DM-28360/comCam/low/intra/9002211/repackaged/CC_H_20211231_002211_R22_S00.fits\n",
      "0.6900532927525385\n"
     ]
    }
   ],
   "source": [
    "import os\n",
    "import numpy as np\n",
    "from astropy.io import fits\n",
    "run=1\n",
    "for instrument in  ['comCam']:\n",
    "    for field in ['high','med','low']:\n",
    "        for pert in ['00','05']:\n",
    "            for position in ['focal', 'extra', 'intra']:\n",
    "            \n",
    "                cmd_file = f'noBkgndPert{pert}.cmd'\n",
    "                obshistid = calculate_obshistid(instrument,field,position,cmd_file,run)\n",
    "                print(obshistid, ':', instrument, field, position, cmd_file, )\n",
    "                #dic = invert_obshistid(obshistid)\n",
    "                #print(dic)\n",
    "                exposure = obshistid\n",
    "                path = os.path.join(f'/project/scichris/aos/AOS/DM-28360\\\n",
    "/{instrument}/{field}/{position}/{obshistid}/repackaged/CC_H_20211231_{obshistid[-6:]}_R22_S00.fits')\n",
    "                print(path)\n",
    "                hdul = fits.open(path)\n",
    "                seeing = []\n",
    "                for j in range(7):\n",
    "                    see = hdul[1].header[f'SEE{j}']\n",
    "                    seeing.append(see)\n",
    "                seeing_total = np.sqrt(np.sum(np.square(seeing)))\n",
    "                seeing_fwhm = 2.355*seeing_total\n",
    "                print(seeing_fwhm)\n",
    "                               \n",
    "                               \n",
    "               "
   ]
  },
  {
   "cell_type": "code",
   "execution_count": 62,
   "id": "92d35d22",
   "metadata": {},
   "outputs": [
    {
     "name": "stdout",
     "output_type": "stream",
     "text": [
      "9011021 : lsstCam med focal qckBkgndPert00.cmd\n",
      "9012021 : lsstCam low focal qckBkgndPert00.cmd\n"
     ]
    }
   ],
   "source": [
    "run=1\n",
    "for instrument in  ['lsstCam']:\n",
    "    for field in ['med','low']:\n",
    "        for pert in ['00',]:\n",
    "            for position in ['focal',]:\n",
    "            \n",
    "                cmd_file = f'qckBkgndPert{pert}.cmd'\n",
    "                obshistid = calculate_obshistid(instrument,field,position,cmd_file,run)\n",
    "                print(obshistid, ':', instrument, field, position, cmd_file, )"
   ]
  },
  {
   "cell_type": "code",
   "execution_count": null,
   "id": "10668079",
   "metadata": {},
   "outputs": [],
   "source": [
    "Run these two just for corner "
   ]
  },
  {
   "cell_type": "code",
   "execution_count": 16,
   "id": "b43e9597",
   "metadata": {},
   "outputs": [],
   "source": [
    "\n",
    "def get_dirs_obshistids(instruments, fields, positions, cmd_files, root_dir, run):\n",
    "    obshistids=[]\n",
    "    work_dirs=[]\n",
    "    for instrument in instruments:\n",
    "        for field in fields:\n",
    "            for position in positions:\n",
    "                for cmd_file in cmd_files:\n",
    "                    \n",
    "                    # build the name of input directory with\n",
    "                    # repackaged simulated files\n",
    "                    # work_dir = os.path.join(root_dir, instrument, field, position)\n",
    "\n",
    "                    obshistid = calculate_obshistid(\n",
    "                        instrument, field, position, cmd_file, run\n",
    "                    )\n",
    "\n",
    "                    work_dir = os.path.join(\n",
    "                        root_dir, instrument, field, position, str(obshistid)\n",
    "                    )\n",
    "                    \n",
    "                    print(f\"\\n {instrument} {field} {position} {cmd_file} is {obshistid} and {work_dir}\")\n",
    "                    \n",
    "                    obshistids.append(obshistid)\n",
    "                    work_dirs.append(work_dir)\n",
    "    return work_dirs, obshistids\n"
   ]
  },
  {
   "cell_type": "code",
   "execution_count": 52,
   "id": "39edb743",
   "metadata": {},
   "outputs": [],
   "source": [
    "def get_work_dirs_from_obshistids(obshistids, root_dir):\n",
    "    work_dirs = []\n",
    "    for obshistid in obshistids:\n",
    "        dic = invert_obshistid(obshistid)\n",
    "        work_dir = os.path.join(\n",
    "                        root_dir, dic['instrument'], dic['field'], \n",
    "                        dic['position'], str(obshistid)\n",
    "                    )\n",
    "        work_dirs.append(work_dir)\n",
    "    return work_dirs"
   ]
  },
  {
   "cell_type": "code",
   "execution_count": 17,
   "id": "d92d35eb",
   "metadata": {},
   "outputs": [],
   "source": [
    "instruments=['comCam']\n",
    "fields=['high']\n",
    "positions=['extra','intra', 'focal']\n",
    "cmd_files =[\"noBkgndPert00_NCSA.cmd\",  \"noBkgndPert05_NCSA.cmd\",\n",
    "                 \"qckBkgndPert00_NCSA.cmd\", \"qckBkgndPert05_NCSA.cmd\"\n",
    "                ]\n",
    "root_dir = \"/project/scichris/aos/AOS/DM-28360/\"\n",
    "run=1"
   ]
  },
  {
   "cell_type": "code",
   "execution_count": 53,
   "id": "35cbcfea",
   "metadata": {},
   "outputs": [
    {
     "name": "stdout",
     "output_type": "stream",
     "text": [
      "\n",
      " comCam high extra noBkgndPert00_NCSA.cmd is 9000101 and /project/scichris/aos/AOS/DM-28360/comCam/high/extra/9000101\n",
      "\n",
      " comCam high extra noBkgndPert05_NCSA.cmd is 9000111 and /project/scichris/aos/AOS/DM-28360/comCam/high/extra/9000111\n",
      "\n",
      " comCam high extra qckBkgndPert00_NCSA.cmd is 9000121 and /project/scichris/aos/AOS/DM-28360/comCam/high/extra/9000121\n",
      "\n",
      " comCam high extra qckBkgndPert05_NCSA.cmd is 9000131 and /project/scichris/aos/AOS/DM-28360/comCam/high/extra/9000131\n",
      "\n",
      " comCam high intra noBkgndPert00_NCSA.cmd is 9000201 and /project/scichris/aos/AOS/DM-28360/comCam/high/intra/9000201\n",
      "\n",
      " comCam high intra noBkgndPert05_NCSA.cmd is 9000211 and /project/scichris/aos/AOS/DM-28360/comCam/high/intra/9000211\n",
      "\n",
      " comCam high intra qckBkgndPert00_NCSA.cmd is 9000221 and /project/scichris/aos/AOS/DM-28360/comCam/high/intra/9000221\n",
      "\n",
      " comCam high intra qckBkgndPert05_NCSA.cmd is 9000231 and /project/scichris/aos/AOS/DM-28360/comCam/high/intra/9000231\n",
      "\n",
      " comCam high focal noBkgndPert00_NCSA.cmd is 9000001 and /project/scichris/aos/AOS/DM-28360/comCam/high/focal/9000001\n",
      "\n",
      " comCam high focal noBkgndPert05_NCSA.cmd is 9000011 and /project/scichris/aos/AOS/DM-28360/comCam/high/focal/9000011\n",
      "\n",
      " comCam high focal qckBkgndPert00_NCSA.cmd is 9000021 and /project/scichris/aos/AOS/DM-28360/comCam/high/focal/9000021\n",
      "\n",
      " comCam high focal qckBkgndPert05_NCSA.cmd is 9000031 and /project/scichris/aos/AOS/DM-28360/comCam/high/focal/9000031\n"
     ]
    }
   ],
   "source": [
    "work_dirs, obshistids = get_dirs_obshistids(instruments, fields, \n",
    "                                                    positions, cmd_files, root_dir, run)"
   ]
  },
  {
   "cell_type": "code",
   "execution_count": 54,
   "id": "0d81043b",
   "metadata": {},
   "outputs": [],
   "source": [
    "work_dirs = get_work_dirs_from_obshistids(obshistids, root_dir)\n"
   ]
  },
  {
   "cell_type": "code",
   "execution_count": 55,
   "id": "37132aed",
   "metadata": {},
   "outputs": [
    {
     "name": "stdout",
     "output_type": "stream",
     "text": [
      "/project/scichris/aos/AOS/DM-28360/comCam/high/extra/9000101 9000101\n",
      "/project/scichris/aos/AOS/DM-28360/comCam/high/extra/9000111 9000111\n",
      "/project/scichris/aos/AOS/DM-28360/comCam/high/extra/9000121 9000121\n",
      "/project/scichris/aos/AOS/DM-28360/comCam/high/extra/9000131 9000131\n",
      "/project/scichris/aos/AOS/DM-28360/comCam/high/intra/9000201 9000201\n",
      "/project/scichris/aos/AOS/DM-28360/comCam/high/intra/9000211 9000211\n",
      "/project/scichris/aos/AOS/DM-28360/comCam/high/intra/9000221 9000221\n",
      "/project/scichris/aos/AOS/DM-28360/comCam/high/intra/9000231 9000231\n",
      "/project/scichris/aos/AOS/DM-28360/comCam/high/focal/9000001 9000001\n",
      "/project/scichris/aos/AOS/DM-28360/comCam/high/focal/9000011 9000011\n",
      "/project/scichris/aos/AOS/DM-28360/comCam/high/focal/9000021 9000021\n",
      "/project/scichris/aos/AOS/DM-28360/comCam/high/focal/9000031 9000031\n"
     ]
    }
   ],
   "source": [
    "for work_dir, obshistid in zip(work_dirs,obshistids):\n",
    "        print( work_dir, obshistid)"
   ]
  },
  {
   "cell_type": "markdown",
   "id": "b2809728",
   "metadata": {},
   "source": [
    "comCam high obshistids to ingest and ISR : \n",
    "\n",
    "    python run_ps1_3_butler.py  -i  9000001  9000031  9000131  9000221 9000231  9000011  9000111  9000211  \n",
    "    \n",
    "    \n",
    "but they all failed  with ISR on one chip - need to rerun with \n",
    "\n",
    "    python run_ps1_3_butler.py  -i 9000001  9000031  9000131  9000221 9000231  9000011  9000111  9000211   --clobber\n",
    "    \n",
    "    \n",
    "    python run_ps1_3_butler.py  -i 9000031  --clobber    # worked fine "
   ]
  },
  {
   "cell_type": "code",
   "execution_count": null,
   "id": "d8349e71",
   "metadata": {},
   "outputs": [],
   "source": [
    "path = \n",
    "hdul = fits.open('')"
   ]
  },
  {
   "cell_type": "code",
   "execution_count": 13,
   "id": "148bdd7c",
   "metadata": {},
   "outputs": [],
   "source": [
    "inst_file= f'stars_{instrument}_PS1_{field}_{position}.inst'\n",
    "path_to_inst_file = os.path.join(root_dir, inst_file)\n",
    "header, content = readFile(path_to_inst_file)\n"
   ]
  },
  {
   "cell_type": "code",
   "execution_count": 20,
   "id": "4c78ccf8",
   "metadata": {},
   "outputs": [
    {
     "data": {
      "text/plain": [
       "6"
      ]
     },
     "execution_count": 20,
     "metadata": {},
     "output_type": "execute_result"
    }
   ],
   "source": [
    "content[0].find('obshistid')"
   ]
  },
  {
   "cell_type": "code",
   "execution_count": 67,
   "id": "184aff61",
   "metadata": {},
   "outputs": [],
   "source": [
    "instrument = 'comCam'\n",
    "field = 'high'\n",
    "position = 'focal'\n",
    "\n",
    "\n",
    "def update_inst_file_obshistid(obshistid, inst_file,  root_dir, seeing=0.69):\n",
    "    \n",
    "    path_to_inst_file = os.path.join(root_dir, inst_file)\n",
    "\n",
    "    header, content = readFile(path_to_inst_file)\n",
    "    new_content = content.copy()\n",
    "    for i in range(len(content)):\n",
    "        # first update obshistid\n",
    "        if content[i].find('obshistid')>0:\n",
    "            split_line = content[i].split(' ')\n",
    "            split_line[1] = f'{obshistid}\\n'\n",
    "            new_content[i] = ' '.join(split_line)\n",
    "            \n",
    "        # second update the seeing \n",
    "        \n",
    "        if content[i].find('rawseeing')>0:\n",
    "            split_line = content[i].split(' ')\n",
    "            split_line[1] = f'{seeing}\\n'\n",
    "            new_content[i] = ' '.join(split_line)\n",
    "            \n",
    "            continue\n",
    "            \n",
    "    new_inst_file = inst_file[:-(len('.inst'))]+f'_{obshistid}.inst'\n",
    "    out_file = os.path.join(root_dir, new_inst_file)\n",
    "    write_to_file(out_file, new_content)\n",
    "    print(f'Updated {inst_file} to {new_inst_file} in {root_dir}')\n"
   ]
  },
  {
   "cell_type": "code",
   "execution_count": 5,
   "id": "8ebb0276",
   "metadata": {},
   "outputs": [
    {
     "name": "stdout",
     "output_type": "stream",
     "text": [
      "Updated stars_comCam_PS1_Baade_focal.inst to stars_comCam_PS1_Baade_focal_9003021.inst in /project/scichris/aos/AOS/DM-28360\n",
      "Updated stars_comCam_PS1_Baade_focal.inst to stars_comCam_PS1_Baade_focal_9003001.inst in /project/scichris/aos/AOS/DM-28360\n",
      "Updated stars_comCam_PS1_Baade_focal.inst to stars_comCam_PS1_Baade_focal_9003031.inst in /project/scichris/aos/AOS/DM-28360\n",
      "Updated stars_comCam_PS1_Baade_focal.inst to stars_comCam_PS1_Baade_focal_9003011.inst in /project/scichris/aos/AOS/DM-28360\n",
      "Updated stars_comCam_PS1_Baade_extra.inst to stars_comCam_PS1_Baade_extra_9003121.inst in /project/scichris/aos/AOS/DM-28360\n",
      "Updated stars_comCam_PS1_Baade_extra.inst to stars_comCam_PS1_Baade_extra_9003101.inst in /project/scichris/aos/AOS/DM-28360\n",
      "Updated stars_comCam_PS1_Baade_extra.inst to stars_comCam_PS1_Baade_extra_9003131.inst in /project/scichris/aos/AOS/DM-28360\n",
      "Updated stars_comCam_PS1_Baade_extra.inst to stars_comCam_PS1_Baade_extra_9003111.inst in /project/scichris/aos/AOS/DM-28360\n",
      "Updated stars_comCam_PS1_Baade_intra.inst to stars_comCam_PS1_Baade_intra_9003221.inst in /project/scichris/aos/AOS/DM-28360\n",
      "Updated stars_comCam_PS1_Baade_intra.inst to stars_comCam_PS1_Baade_intra_9003201.inst in /project/scichris/aos/AOS/DM-28360\n",
      "Updated stars_comCam_PS1_Baade_intra.inst to stars_comCam_PS1_Baade_intra_9003231.inst in /project/scichris/aos/AOS/DM-28360\n",
      "Updated stars_comCam_PS1_Baade_intra.inst to stars_comCam_PS1_Baade_intra_9003211.inst in /project/scichris/aos/AOS/DM-28360\n"
     ]
    }
   ],
   "source": [
    "import os\n",
    "root_dir = '/project/scichris/aos/AOS/DM-28360'\n",
    "run=1\n",
    "seeing=0.69\n",
    "for instrument in  ['comCam']:\n",
    "    for field in ['Baade',]:\n",
    "        for position in ['focal', 'extra', 'intra']:\n",
    "            for pert in ['00','05']:\n",
    "                for bkgnd in ['qck','no']:\n",
    "                    cmd_file = f'{bkgnd}BkgndPert{pert}_NCSA.cmd'\n",
    "                    obshistid = calculate_obshistid(instrument,field,position,cmd_file,run)\n",
    "\n",
    "                    inst_file= f'stars_{instrument}_PS1_{field}_{position}.inst'\n",
    "                    update_inst_file_obshistid(obshistid, inst_file, root_dir, seeing ) "
   ]
  },
  {
   "cell_type": "code",
   "execution_count": 68,
   "id": "11eb154f",
   "metadata": {},
   "outputs": [
    {
     "name": "stdout",
     "output_type": "stream",
     "text": [
      "Updated stars_lsstCam_PS1_low_focal.inst to stars_lsstCam_PS1_low_focal_9012021.inst in /project/scichris/aos/AOS/DM-28360\n",
      "Updated stars_lsstCam_PS1_low_focal.inst to stars_lsstCam_PS1_low_focal_9012031.inst in /project/scichris/aos/AOS/DM-28360\n"
     ]
    },
    {
     "ename": "FileNotFoundError",
     "evalue": "[Errno 2] No such file or directory: '/project/scichris/aos/AOS/DM-28360/stars_lsstCam_PS1_low_extra.inst'",
     "output_type": "error",
     "traceback": [
      "\u001b[0;31m---------------------------------------------------------------------------\u001b[0m",
      "\u001b[0;31mFileNotFoundError\u001b[0m                         Traceback (most recent call last)",
      "\u001b[0;32m<ipython-input-68-e026715d0105>\u001b[0m in \u001b[0;36m<module>\u001b[0;34m\u001b[0m\n\u001b[1;32m     10\u001b[0m \u001b[0;34m\u001b[0m\u001b[0m\n\u001b[1;32m     11\u001b[0m                 \u001b[0minst_file\u001b[0m\u001b[0;34m=\u001b[0m \u001b[0;34mf'stars_{instrument}_PS1_{field}_{position}.inst'\u001b[0m\u001b[0;34m\u001b[0m\u001b[0;34m\u001b[0m\u001b[0m\n\u001b[0;32m---> 12\u001b[0;31m                 \u001b[0mupdate_inst_file_obshistid\u001b[0m\u001b[0;34m(\u001b[0m\u001b[0mobshistid\u001b[0m\u001b[0;34m,\u001b[0m \u001b[0minst_file\u001b[0m\u001b[0;34m,\u001b[0m \u001b[0mroot_dir\u001b[0m \u001b[0;34m)\u001b[0m\u001b[0;34m\u001b[0m\u001b[0;34m\u001b[0m\u001b[0m\n\u001b[0m",
      "\u001b[0;32m<ipython-input-67-556dd94292bb>\u001b[0m in \u001b[0;36mupdate_inst_file_obshistid\u001b[0;34m(obshistid, inst_file, root_dir, seeing)\u001b[0m\n\u001b[1;32m      8\u001b[0m     \u001b[0mpath_to_inst_file\u001b[0m \u001b[0;34m=\u001b[0m \u001b[0mos\u001b[0m\u001b[0;34m.\u001b[0m\u001b[0mpath\u001b[0m\u001b[0;34m.\u001b[0m\u001b[0mjoin\u001b[0m\u001b[0;34m(\u001b[0m\u001b[0mroot_dir\u001b[0m\u001b[0;34m,\u001b[0m \u001b[0minst_file\u001b[0m\u001b[0;34m)\u001b[0m\u001b[0;34m\u001b[0m\u001b[0;34m\u001b[0m\u001b[0m\n\u001b[1;32m      9\u001b[0m \u001b[0;34m\u001b[0m\u001b[0m\n\u001b[0;32m---> 10\u001b[0;31m     \u001b[0mheader\u001b[0m\u001b[0;34m,\u001b[0m \u001b[0mcontent\u001b[0m \u001b[0;34m=\u001b[0m \u001b[0mreadFile\u001b[0m\u001b[0;34m(\u001b[0m\u001b[0mpath_to_inst_file\u001b[0m\u001b[0;34m)\u001b[0m\u001b[0;34m\u001b[0m\u001b[0;34m\u001b[0m\u001b[0m\n\u001b[0m\u001b[1;32m     11\u001b[0m     \u001b[0mnew_content\u001b[0m \u001b[0;34m=\u001b[0m \u001b[0mcontent\u001b[0m\u001b[0;34m.\u001b[0m\u001b[0mcopy\u001b[0m\u001b[0;34m(\u001b[0m\u001b[0;34m)\u001b[0m\u001b[0;34m\u001b[0m\u001b[0;34m\u001b[0m\u001b[0m\n\u001b[1;32m     12\u001b[0m     \u001b[0;32mfor\u001b[0m \u001b[0mi\u001b[0m \u001b[0;32min\u001b[0m \u001b[0mrange\u001b[0m\u001b[0;34m(\u001b[0m\u001b[0mlen\u001b[0m\u001b[0;34m(\u001b[0m\u001b[0mcontent\u001b[0m\u001b[0;34m)\u001b[0m\u001b[0;34m)\u001b[0m\u001b[0;34m:\u001b[0m\u001b[0;34m\u001b[0m\u001b[0;34m\u001b[0m\u001b[0m\n",
      "\u001b[0;32m<ipython-input-5-f8c44b26f7aa>\u001b[0m in \u001b[0;36mreadFile\u001b[0;34m(pathToFile, headerString)\u001b[0m\n\u001b[1;32m     15\u001b[0m         \u001b[0;32mand\u001b[0m \u001b[0mthe\u001b[0m \u001b[0mcontent\u001b[0m \u001b[0mlines\u001b[0m\u001b[0;34m\u001b[0m\u001b[0;34m\u001b[0m\u001b[0m\n\u001b[1;32m     16\u001b[0m     '''\n\u001b[0;32m---> 17\u001b[0;31m     \u001b[0;32mwith\u001b[0m \u001b[0mopen\u001b[0m\u001b[0;34m(\u001b[0m\u001b[0mpathToFile\u001b[0m\u001b[0;34m)\u001b[0m \u001b[0;32mas\u001b[0m \u001b[0mf\u001b[0m\u001b[0;34m:\u001b[0m\u001b[0;34m\u001b[0m\u001b[0;34m\u001b[0m\u001b[0m\n\u001b[0m\u001b[1;32m     18\u001b[0m         \u001b[0mallLines\u001b[0m \u001b[0;34m=\u001b[0m \u001b[0mf\u001b[0m\u001b[0;34m.\u001b[0m\u001b[0mreadlines\u001b[0m\u001b[0;34m(\u001b[0m\u001b[0;34m)\u001b[0m\u001b[0;34m\u001b[0m\u001b[0;34m\u001b[0m\u001b[0m\n\u001b[1;32m     19\u001b[0m \u001b[0;34m\u001b[0m\u001b[0m\n",
      "\u001b[0;31mFileNotFoundError\u001b[0m: [Errno 2] No such file or directory: '/project/scichris/aos/AOS/DM-28360/stars_lsstCam_PS1_low_extra.inst'"
     ]
    }
   ],
   "source": [
    "import os\n",
    "root_dir = '/project/scichris/aos/AOS/DM-28360'\n",
    "run=1\n",
    "for instrument in  ['lsstCam']:\n",
    "    for field in ['low',]:\n",
    "        for position in ['focal', 'extra', 'intra']:\n",
    "            for pert in ['00','05']:\n",
    "                cmd_file = f'qckBkgndPert{pert}.cmd'\n",
    "                obshistid = calculate_obshistid(instrument,field,position,cmd_file,run)\n",
    "                \n",
    "                inst_file= f'stars_{instrument}_PS1_{field}_{position}.inst'\n",
    "                update_inst_file_obshistid(obshistid, inst_file, root_dir ) "
   ]
  },
  {
   "cell_type": "code",
   "execution_count": null,
   "id": "8e845455",
   "metadata": {},
   "outputs": [],
   "source": []
  },
  {
   "cell_type": "code",
   "execution_count": 63,
   "id": "4458f557",
   "metadata": {},
   "outputs": [
    {
     "ename": "NameError",
     "evalue": "name 'update_inst_file_obshistid' is not defined",
     "output_type": "error",
     "traceback": [
      "\u001b[0;31m---------------------------------------------------------------------------\u001b[0m",
      "\u001b[0;31mNameError\u001b[0m                                 Traceback (most recent call last)",
      "\u001b[0;32m<ipython-input-63-25826c397371>\u001b[0m in \u001b[0;36m<module>\u001b[0;34m\u001b[0m\n\u001b[1;32m      8\u001b[0m \u001b[0;34m\u001b[0m\u001b[0m\n\u001b[1;32m      9\u001b[0m                 \u001b[0minst_file\u001b[0m\u001b[0;34m=\u001b[0m \u001b[0;34mf'stars_{instrument}_PS1_{field}_{position}.inst'\u001b[0m\u001b[0;34m\u001b[0m\u001b[0;34m\u001b[0m\u001b[0m\n\u001b[0;32m---> 10\u001b[0;31m                 \u001b[0mupdate_inst_file_obshistid\u001b[0m\u001b[0;34m(\u001b[0m\u001b[0mobshistid\u001b[0m\u001b[0;34m,\u001b[0m \u001b[0minst_file\u001b[0m\u001b[0;34m,\u001b[0m \u001b[0mroot_dir\u001b[0m \u001b[0;34m)\u001b[0m\u001b[0;34m\u001b[0m\u001b[0;34m\u001b[0m\u001b[0m\n\u001b[0m",
      "\u001b[0;31mNameError\u001b[0m: name 'update_inst_file_obshistid' is not defined"
     ]
    }
   ],
   "source": [
    "run=1\n",
    "for instrument in  ['lsstCam']:\n",
    "    for field in ['high', 'med', 'low',]:\n",
    "        for position in ['focal', 'extra', 'intra']:\n",
    "            for pert in ['00','05']:\n",
    "                cmd_file = f'qckBkgndPert{pert}.cmd'\n",
    "                obshistid = calculate_obshistid(instrument,field,position,cmd_file,run)\n",
    "                \n",
    "                inst_file= f'stars_{instrument}_PS1_{field}_{position}.inst'\n",
    "                update_inst_file_obshistid(obshistid, inst_file, root_dir ) "
   ]
  },
  {
   "cell_type": "code",
   "execution_count": 107,
   "id": "966e27c4",
   "metadata": {},
   "outputs": [],
   "source": [
    "work_dir = os.path.join(root_dir, instrument, field, position, str(obshistid))"
   ]
  },
  {
   "cell_type": "code",
   "execution_count": 6,
   "id": "afb050af",
   "metadata": {},
   "outputs": [
    {
     "data": {
      "text/plain": [
       "'noBkgndPert00'"
      ]
     },
     "execution_count": 6,
     "metadata": {},
     "output_type": "execute_result"
    }
   ],
   "source": [
    "cmd_file = 'noBkgndPert00.cmd'\n",
    "cmd_file.find('_')\n",
    "cmd_file.split('.')[0]"
   ]
  },
  {
   "cell_type": "code",
   "execution_count": 4,
   "id": "948f03e5",
   "metadata": {},
   "outputs": [
    {
     "data": {
      "text/plain": [
       "'noBkgndPert00'"
      ]
     },
     "execution_count": 4,
     "metadata": {},
     "output_type": "execute_result"
    }
   ],
   "source": [
    "cmd_file = 'noBkgndPert00_NCSA.cmd'\n",
    "cmd_file.split('_')[0]"
   ]
  },
  {
   "cell_type": "code",
   "execution_count": 2,
   "id": "6d0c837f",
   "metadata": {},
   "outputs": [
    {
     "data": {
      "text/plain": [
       "'9000221'"
      ]
     },
     "execution_count": 2,
     "metadata": {},
     "output_type": "execute_result"
    }
   ],
   "source": [
    "instrument='comCam'\n",
    "field='high'\n",
    "position='intra'\n",
    "cmd_file='qckBkgndPert00_NCSA.cmd'\n",
    "run=1\n",
    "calculate_obshistid(instrument, field, position, cmd_file, run)"
   ]
  },
  {
   "cell_type": "markdown",
   "id": "73c748ed",
   "metadata": {},
   "source": [
    "python /project/scichris/aos/AOS/run_ps1_phosim.py  --positions focal intra extra --cmd_file qckBkgndPert00.cmd "
   ]
  },
  {
   "cell_type": "markdown",
   "id": "f6ee961c",
   "metadata": {},
   "source": [
    "    # default  \n",
    "    # --instruments  comcam \n",
    "    # --fields high \n",
    "    # --positions focal \n",
    "    # --phosim_p  25\n",
    "    # --cmd_file noBkgnd.cmd\n",
    "    # --phosim_path /project/scichris/aos/phosim_syseng4/phosim.py\n",
    "    # --root_dir /project/scichris/aos/ps1_phosim/\n",
    "\n",
    "\n",
    "\n",
    "need to : \n",
    "\n",
    "    ssh scichris@lsst-login01.ncsa.illinois.edu \n",
    "    ssh lsst-devl03 \n",
    "    source \"/software/lsstsw/stack/loadLSST.bash\"    # need that for python \n",
    "    setup lsst_distrib \n",
    "    \n",
    "    source /project/scichris/aos/setup_aos_current.sh\n",
    "    setup -k -r /project/scichris/aos/phosim_utils/\n",
    "    \n",
    "\n",
    "@@@ all below are    comcam  high  @@@ \n",
    "\n",
    "DONE  comHi1:  run on lsst-devl03  screen \"pert\" \n",
    "    python /project/scichris/aos/AOS/run_ps1_phosim.py  --positions focal --phosim_p 24 --cmd_file noBkgndPert00_NCSA.cmd --root_dir /project/scichris/aos/AOS/DM-28360/    \n",
    "  ( output in /project/scichris/aos/AOS/DM-28360/comCam/high/focal/9000001/raw )  \n",
    "\n",
    "DONE comHi3:  slurm 51781 from lsst-devl03 \n",
    "    python /project/scichris/aos/AOS/run_ps1_phosim.py  --positions extra --phosim_p 24  --cmd_file noBkgndPert00_NCSA.cmd --root_dir /project/scichris/aos/AOS/DM-28360/\n",
    "     ( /project/scichris/aos/AOS/DM-28360/comCam/high/extra/9000101/raw )\n",
    "     \n",
    "     \n",
    "DONE comHi5:  slurm 51782 from lsst-devl03 \n",
    "    python /project/scichris/aos/AOS/run_ps1_phosim.py  --positions intra --phosim_p 24 --cmd_file noBkgndPert00_NCSA.cmd --root_dir /project/scichris/aos/AOS/DM-28360/\n",
    "    (output in /project/scichris/aos/AOS/DM-28360/comCam/high/intra/9000201/raw ) \n",
    "    \n",
    "    \n",
    "    \n",
    "DONE comHi2:    slurm 51780 from lsst-devl03 \n",
    "    python /project/scichris/aos/AOS/run_ps1_phosim.py  --positions focal  --phosim_p 24 --cmd_file qckBkgndPert00_NCSA.cmd --root_dir /project/scichris/aos/AOS/DM-28360/\n",
    "   ( output in /project/scichris/aos/AOS/DM-28360/comCam/high/focal/9000021/raw )\n",
    "   \n",
    "\n",
    "    \n",
    "DONE comHi6: slurm 51784 from lsst-devl03 \n",
    "    python /project/scichris/aos/AOS/run_ps1_phosim.py  --positions extra --phosim_p 24 --cmd_file qckBkgndPert00_NCSA.cmd --root_dir /project/scichris/aos/AOS/DM-28360/\n",
    "    ( output in /project/scichris/aos/AOS/DM-28360/comCam/high/extra/9000121/raw ) \n",
    "    \n",
    "    \n",
    "@@@@@@@\n",
    "NB: there are wrong paths in qckBkgndPert05.cmd ,  noBkgndPert05.cmd --> NEED to use the updated paths files !! \n",
    "@@@@@\n",
    "\n",
    "comHi4:  ## running on screen \"pert\"  in lsst-devl02 \n",
    "    python /project/scichris/aos/AOS/run_ps1_phosim.py  --positions extra --phosim_p 24 --cmd_file qckBkgndPert00.cmd --root_dir /project/scichris/aos/AOS/DM-28360/\n",
    "    (ctrl+a , d to detach  without killing the screen ...  ) \n",
    "    ( output in   \n",
    "    \n",
    "    \n",
    "    python /project/scichris/aos/AOS/run_ps1_phosim.py  --positions intra --phosim_p 24 --cmd_file qckBkgndPert00_NCSA.cmd --root_dir /project/scichris/aos/AOS/DM-28360/\n",
    "    (output in /project/scichris/aos/AOS/DM-28360/comCam/high/intra/9000221/raw  )\n",
    "    \n",
    "(these were submitted from lsst-devl02 , ensuring that the stack and aos suite were sourced) \n",
    "\n",
    "\n",
    "\n",
    "\n",
    "\n",
    "comHi7:  slurm 51962 from lsst-devl03  (failed b/c there are wrong paths  in qckBkgnd ) \n",
    "         running slurm  51845\n",
    "    python /project/scichris/aos/AOS/run_ps1_phosim.py  --positions focal --phosim_p 24 --cmd_file qckBkgndPert05_NCSA.cmd --root_dir /project/scichris/aos/AOS/DM-28360/  \n",
    "    (output in   /project/scichris/aos/AOS/DM-28360/comCam/high/focal/9000031/raw ) \n",
    " \n",
    "comHi8: slurm 51964\n",
    "     python /project/scichris/aos/AOS/run_ps1_phosim.py  --positions intra --phosim_p 24 --cmd_file qckBkgndPert05_NCSA.cmd --root_dir /project/scichris/aos/AOS/DM-28360/ \n",
    "    (output /project/scichris/aos/AOS/DM-28360/comCam/high/intra/9000231/raw ) \n",
    "    \n",
    "comHi9:  slurm51963\n",
    "     python /project/scichris/aos/AOS/run_ps1_phosim.py  --positions extra --phosim_p 24 --cmd_file qckBkgndPert05_NCSA.cmd --root_dir /project/scichris/aos/AOS/DM-28360/ \n",
    "     ( output in /project/scichris/aos/AOS/DM-28360/comCam/high/extra/9000131/raw )\n",
    "\n",
    "\n",
    "\n",
    "DONE...\n",
    "\n",
    "comHi10:  slurm51965\n",
    "    python /project/scichris/aos/AOS/run_ps1_phosim.py  --positions focal --phosim_p 24 --cmd_file noBkgndPert05_NCSA.cmd --root_dir /project/scichris/aos/AOS/DM-28360/  \n",
    "     ( output  /project/scichris/aos/AOS/DM-28360/comCam/high/focal/9000011/raw ) \n",
    "\n",
    "\n",
    "comHi11:  slurm51967\n",
    "    python /project/scichris/aos/AOS/run_ps1_phosim.py  --positions intra --phosim_p 24 --cmd_file noBkgndPert05_NCSA.cmd --root_dir /project/scichris/aos/AOS/DM-28360/ \n",
    "     ( output in /project/scichris/aos/AOS/DM-28360/comCam/high/intra/9000211/raw  ) \n",
    "\n",
    "comHi12:  slurm51966\n",
    "    python /project/scichris/aos/AOS/run_ps1_phosim.py  --positions extra --phosim_p 24 --cmd_file noBkgndPert05_NCSA.cmd --root_dir /project/scichris/aos/AOS/DM-28360/  \n",
    "    ( ouptut uin  /project/scichris/aos/AOS/DM-28360/comCam/high/extra/9000111/raw ) \n",
    "\n",
    "    "
   ]
  },
  {
   "cell_type": "markdown",
   "id": "d66df85a",
   "metadata": {},
   "source": [
    "Also submitted a 10-node request to slurm - if that number were available, it'd be done very soon (~`1 day).\n",
    "\n",
    "\n",
    "    python /gscratch/astro/suberlak/aos/AOS/run_ps1_phosim.py --instruments lsstCam --fields high --positions extra --root_dir /gscratch/astro/suberlak/aos/AOS/DM-28360 --cmd_file qckBkgndPert00_hyak.cmd --phosim_path /gscratch/astro/brycek/ts_repos/phosim_syseng4/phosim.py --phosim_p 192\n",
    "\n",
    "(cancelled ... ) \n",
    "\n",
    "in runSlurmLsst.sl \n",
    "\n",
    "\n"
   ]
  },
  {
   "cell_type": "markdown",
   "id": "f58c965c",
   "metadata": {},
   "source": [
    "To ingest and run ISR on those that are finished (making a repo inside each directory)"
   ]
  },
  {
   "cell_type": "code",
   "execution_count": null,
   "id": "18d26a73",
   "metadata": {},
   "outputs": [],
   "source": [
    "python /home/scichris/notebooks/run_ps1_3_butler.py --instruments comCam --fields high --positions "
   ]
  },
  {
   "cell_type": "code",
   "execution_count": null,
   "id": "dab08167",
   "metadata": {},
   "outputs": [],
   "source": []
  },
  {
   "cell_type": "markdown",
   "id": "9458cc46",
   "metadata": {},
   "source": [
    "Total : 12 above, i.e.  comcam x high x {intra,extra,focal} x {noBkgnd, qckBkgnd} x {smallPert, largePert}\n",
    "    \n",
    "    "
   ]
  },
  {
   "cell_type": "code",
   "execution_count": 8,
   "id": "18386d8a",
   "metadata": {},
   "outputs": [],
   "source": []
  },
  {
   "cell_type": "code",
   "execution_count": 6,
   "id": "70118da6",
   "metadata": {},
   "outputs": [],
   "source": [
    "import os\n",
    "import subprocess\n",
    "#Couldn't I have a script to make slurm scripts requesting one-node jobs ? \n",
    "\n",
    "def write_to_file(out_file, content):\n",
    "    with open(out_file, \"w\") as output:\n",
    "        for line in content:\n",
    "            output.write(line)\n",
    "            \n",
    "\n",
    "def write_slurm_script(python_script = '/project/scichris/aos/AOS/run_ps1_phosim.py',\n",
    "                   instrument = 'comCam',\n",
    "                   field = 'high',\n",
    "                   position = 'extra',\n",
    "                   phosim_p = 24,\n",
    "                   cmd_file = \"noBkgndPert05_NCSA.cmd\",\n",
    "                   root_dir = '/project/scichris/aos/AOS/DM-28360/',\n",
    "                   nodes = 1, ntasks=24, job_name=\"comHi12\",\n",
    "                   slurm_file_name = \"runSlurmTest.sl\"\n",
    "                  ):\n",
    "\n",
    "    cmd = f\"python {python_script} --instruments {instrument} --fields {field} \\\n",
    "    --positions {position} --phosim_p {phosim_p} --cmd_file {cmd_file} --root_dir {root_dir} \\n\"\n",
    "    \n",
    "    content = [\"#!/bin/bash -l \\n\",\n",
    "               \"#SBATCH --partition normal \\n\"\n",
    "                f\"#SBATCH --nodes {nodes} \\n\",\n",
    "                f\"#SBATCH --ntasks {ntasks} \\n\",\n",
    "                \"#SBATCH -t 500:00:00 \\n\",\n",
    "                f\"#SBATCH --job-name {job_name} \\n\",\n",
    "                'echo \"starting at `date` on `hostname`\" \\n',\n",
    "                'pwd \\n',\n",
    "                 cmd,\n",
    "                'echo \"ended at `date` on `hostname`\" \\n']\n",
    "    out_file = f'/project/scichris/aos/AOS/{slurm_file_name}'\n",
    "    write_to_file(out_file, content)\n",
    "    return out_file\n",
    "    \n",
    "    \n",
    "#slurm_file = write_slurm_script()\n",
    "\n",
    "\n",
    "# also, a script to submit the one-job slurm script automatically...\n",
    "def submit_slurm_job(slurm_file):\n",
    "    print(f'Running sbatch  {slurm_file}')\n",
    "    subprocess.call(['sbatch', slurm_file]) \n",
    "\n"
   ]
  },
  {
   "cell_type": "code",
   "execution_count": 19,
   "id": "52d1c053",
   "metadata": {},
   "outputs": [],
   "source": []
  },
  {
   "cell_type": "markdown",
   "id": "c22b8d41",
   "metadata": {},
   "source": [
    "I pasted the below to `run_ps1_slurm.py` ,  I could add `argparse` to slurm to make it even more slick, but\n",
    "it makes it easier for now as a way to submit lots of N-node jobs...\n"
   ]
  },
  {
   "cell_type": "markdown",
   "id": "5dfb8cbd",
   "metadata": {},
   "source": [
    "I pasted the cell below  to `run_ps1_slurm.py` and executed from `lsst-devl02` to submit a suite of 1-node jobs to slurm, counting from 7 to 12...  Made sure I'm in a screen where `setup_aos_current.sh` had been sourced, and I set `phosim_utils` to current master (so that `--focus z` arg is available and `ROTANG` is also written in a correct fashion)... "
   ]
  },
  {
   "cell_type": "code",
   "execution_count": null,
   "id": "ea55d3e2",
   "metadata": {},
   "outputs": [],
   "source": []
  },
  {
   "cell_type": "code",
   "execution_count": 11,
   "id": "3f16d97e",
   "metadata": {},
   "outputs": [
    {
     "name": "stdout",
     "output_type": "stream",
     "text": [
      "comCam high focal qckBkgndPert05_NCSA.cmd 9000031\n",
      "comCam high extra qckBkgndPert05_NCSA.cmd 9000131\n",
      "comCam high intra qckBkgndPert05_NCSA.cmd 9000231\n",
      "comCam high focal noBkgndPert05_NCSA.cmd 9000011\n",
      "comCam high extra noBkgndPert05_NCSA.cmd 9000111\n",
      "comCam high intra noBkgndPert05_NCSA.cmd 9000211\n"
     ]
    }
   ],
   "source": [
    "instrument='comCam'\n",
    "field='high'\n",
    "counter = 7\n",
    "run=1\n",
    "for bkgnd in ['qck','no']:\n",
    "    cmd_file = f'{bkgnd}BkgndPert05_NCSA.cmd' \n",
    "    for position in ['focal','extra','intra']:\n",
    "        job_name=f\"comHi{counter}\"\n",
    "        slurm_file_name = f\"runSlurm{job_name}.sl\"\n",
    "        \n",
    "        obshistid = calculate_obshistid(instrument,field,position,cmd_file,run)\n",
    "        print(instrument, field, position, cmd_file, obshistid)\n",
    "#         slurm_file = write_slurm_script(position=position, \n",
    "#                                         cmd_file=cmd_file, \n",
    "#                                         job_name=job_name,\n",
    "#                                         slurm_file_name=slurm_file_name\n",
    "#                                        )\n",
    "        \n",
    "#         submit_slurm_job(slurm_file)\n",
    "        "
   ]
  },
  {
   "cell_type": "markdown",
   "id": "d5e19b77",
   "metadata": {},
   "source": [
    "## Check the airmass and seeing for those simulations.. "
   ]
  },
  {
   "cell_type": "code",
   "execution_count": 1,
   "id": "682419e6",
   "metadata": {},
   "outputs": [
    {
     "name": "stdout",
     "output_type": "stream",
     "text": [
      "1.24813143788881\n",
      "1.24813143788881\n"
     ]
    }
   ],
   "source": [
    "from astropy.io import fits\n",
    "import os \n",
    "\n",
    "files = ['/project/scichris/aos/AOS/DM-28360/comCam/high/intra/9000211/repackaged/CC_H_20211231_000211_R22_S00.fits',\n",
    "        '/project/scichris/aos/AOS/DM-28360/comCam/high/extra/9000101/repackaged/CC_H_20211231_000101_R22_S00.fits' \n",
    "        ]\n",
    "for file in files:\n",
    "    hdul  = fits.open(file)\n",
    "    print(hdul[0].header['AMSTART'])"
   ]
  },
  {
   "cell_type": "code",
   "execution_count": 22,
   "id": "e88c29b2",
   "metadata": {},
   "outputs": [
    {
     "data": {
      "text/plain": [
       "0.046560500000000005"
      ]
     },
     "execution_count": 22,
     "metadata": {},
     "output_type": "execute_result"
    }
   ],
   "source": [
    "import numpy as np\n",
    "s = []\n",
    "for i in range(6):\n",
    "    s.append(hdul[1].header[f'SEE{i}'])\n",
    "np.mean(s)"
   ]
  },
  {
   "cell_type": "code",
   "execution_count": 24,
   "id": "b6eaf4bf",
   "metadata": {},
   "outputs": [
    {
     "data": {
      "text/plain": [
       "0.27936300000000003"
      ]
     },
     "execution_count": 24,
     "metadata": {},
     "output_type": "execute_result"
    }
   ],
   "source": [
    "np.sum(s)"
   ]
  },
  {
   "cell_type": "markdown",
   "id": "07d62009",
   "metadata": {},
   "source": [
    "The median at-zenith at 500nm von Karman seeing for the LSST site is 0.69 arcseconds. (L. Jones) "
   ]
  },
  {
   "cell_type": "markdown",
   "id": "e70f67b9",
   "metadata": {},
   "source": [
    "Ok, since this file https://github.com/lsst-ts/phosim_syseng4/blob/6105fcf9d65b37d2d157be1f99d70dc263da0e76/validation/speed_trim.pro uses `Opsim_rawseeing` as `Opsim_rawseeing 0.65`, I think it was supposed to be  the LSST value, since it is very close to what  Lynne gave me. \n",
    "\n",
    "Also, the LSST sensitivity matrix has the same https://github.com/lsst-ts/phosim_syseng4/blob/6105fcf9d65b37d2d157be1f99d70dc263da0e76/data/lsst_sen_matrix/sensitivity_matrix.inst `Opsim_rawseeing 0.67`"
   ]
  },
  {
   "cell_type": "markdown",
   "id": "7200d556",
   "metadata": {},
   "source": [
    "Which seeing to use?   There are 7 atmosphere files... \n",
    "But I see that the inst files pass `Opsim_rawseeing -1` ,  and `-1` means that seeing is chosen at random (according to reference file). \n",
    "\n",
    "Here is where `phosim.py` reads the `seeing` from instance catalog: https://github.com/lsst-ts/phosim_syseng4/blob/6105fcf9d65b37d2d157be1f99d70dc263da0e76/phosim.py#L221\n",
    "\n",
    "\n",
    "          elif \"seeing\" in line:\n",
    "          self.constrainseeing=lstr[1]\n",
    "          \n",
    "which sets the values of the `constrainseeing` variable , saved in `obs_'+self.observationID+'.pars` file \n",
    "\n",
    "And this file https://github.com/lsst-ts/phosim_syseng4/blob/6105fcf9d65b37d2d157be1f99d70dc263da0e76/source/atmosphere/atmosphere_creator.cpp#L64 \n",
    "\n",
    "points me to  a paper \"Atmospheric Parameters for the Image\n",
    "    /// Simulator Based on the Site of the Large Synoptic Survey Telescope\" by Young \n",
    " but I can't find it anywhere...\n",
    " \n",
    " \n",
    " But main Petersons paper  https://iopscience.iop.org/article/10.1088/0067-0049/218/1/14/pdf  has in section 1.4 a description of LSST seeing, and indeed it assumes it is 0.67 arcsec.  \n",
    " \n",
    " So in other words, `Opsim_rawseeing`  is in units of arcsec, and I should set it to \n",
    " \n",
    "     Opsim_rawseeing 0.69\n",
    "    \n"
   ]
  },
  {
   "cell_type": "code",
   "execution_count": 7,
   "id": "57b1428d",
   "metadata": {},
   "outputs": [
    {
     "data": {
      "text/plain": [
       "0.49644787153351483"
      ]
     },
     "execution_count": 7,
     "metadata": {},
     "output_type": "execute_result"
    }
   ],
   "source": [
    "import numpy as np \n",
    "0.210822*(2.0*np.sqrt(2.0*np.log(2.0)))"
   ]
  },
  {
   "cell_type": "code",
   "execution_count": null,
   "id": "31b82675",
   "metadata": {},
   "outputs": [],
   "source": []
  },
  {
   "cell_type": "code",
   "execution_count": null,
   "id": "94e17152",
   "metadata": {},
   "outputs": [],
   "source": [
    "ATMFILE =                    7 / Number of atmosphere files                     \n",
    "AFILE0  = 'atmospherescreen_9000101_0' / Atmosphere file                        \n",
    "CFILE0  = '        '           / Cloud file                                     \n",
    "SEE0    =             0.070356 / Seeing at 5000 angstrom (sigma)                \n",
    "WIND0   =             4.458112 / Wind speed (m/s)                               \n",
    "WDIR0   =           234.190548 / Wind direction (degrees)                       \n",
    "OSCL0   =             24.03503 / Outer scale (m)                                \n",
    "HGT0    =                  16. / Height (km)                                    \n",
    "CMEAN0  =                   0. / Mean cloud extinction (mag)                    \n",
    "CVARY0  =                   0. / Variation of cloud ext. (mag)                  \n",
    "AFILE1  = 'atmospherescreen_9000101_1' / Atmosphere file                        \n",
    "CFILE1  = 'cloudscreen_9000101_1' / Cloud file                                  \n",
    "SEE1    =             0.060413 / Seeing at 5000 angstrom (sigma)                \n",
    "WIND1   =            26.849277 / Wind speed (m/s)                               \n",
    "WDIR1   =           351.085985 / Wind direction (degrees)                       \n",
    "OSCL1   =            52.079948 / Outer scale (m)                                \n",
    "HGT1    =                   8. / Height (km)                                    \n",
    "CMEAN1  =                   0. / Mean cloud extinction (mag)                    \n",
    "CVARY1  =                   0. / Variation of cloud ext. (mag)                  \n",
    "AFILE2  = 'atmospherescreen_9000101_2' / Atmosphere file                        \n",
    "CFILE2  = 'cloudscreen_9000101_2' / Cloud file                                  \n",
    "SEE2    =             0.046016 / Seeing at 5000 angstrom (sigma)                \n",
    "WIND2   =            13.627671 / Wind speed (m/s)                               \n",
    "WDIR2   =           353.365192 / Wind direction (degrees)                       \n",
    "OSCL2   =            31.267035 / Outer scale (m)                                \n",
    "HGT2    =                   4. / Height (km)                                    \n",
    "CMEAN2  =                   0. / Mean cloud extinction (mag)                    \n",
    "CVARY2  =                   0. / Variation of cloud ext. (mag)                  \n",
    "AFILE3  = 'atmospherescreen_9000101_3' / Atmosphere file                        \n",
    "CFILE3  = '        '           / Cloud file                                     \n",
    "SEE3    =             0.008804 / Seeing at 5000 angstrom (sigma)                \n",
    "WIND3   =             7.611568 / Wind speed (m/s)                               \n",
    "WDIR3   =           341.760454 / Wind direction (degrees)                       \n",
    "OSCL3   =            25.557991 / Outer scale (m)                                \n",
    "HGT3    =                   2. / Height (km)                                    \n",
    "CMEAN3  =                   0. / Mean cloud extinction (mag)                    \n",
    "CVARY3  =                   0. / Variation of cloud ext. (mag)                  \n",
    "AFILE4  = 'atmospherescreen_9000101_4' / Atmosphere file                        \n",
    "CFILE4  = '        '           / Cloud file                                     \n",
    "SEE4    =             0.043693 / Seeing at 5000 angstrom (sigma)                \n",
    "WIND4   =             5.123655 / Wind speed (m/s)                               \n",
    "WDIR4   =           334.082393 / Wind direction (degrees)                       \n",
    "OSCL4   =             56.96442 / Outer scale (m)                                \n",
    "HGT4    =                   1. / Height (km)                                    \n",
    "CMEAN4  =                   0. / Mean cloud extinction (mag)                    \n",
    "CVARY4  =                   0. / Variation of cloud ext. (mag)                  \n",
    "AFILE5  = 'atmospherescreen_9000101_5' / Atmosphere file                        \n",
    "CFILE5  = '        '           / Cloud file                                     \n",
    "SEE5    =             0.050081 / Seeing at 5000 angstrom (sigma)                \n",
    "WIND5   =             3.964125 / Wind speed (m/s)                               \n",
    "WDIR5   =           331.093557 / Wind direction (degrees)                       \n",
    "OSCL5   =            20.492025 / Outer scale (m)                                \n",
    "HGT5    =                  0.5 / Height (km)                                    \n",
    "CMEAN5  =                   0. / Mean cloud extinction (mag)                    \n",
    "CVARY5  =                   0. / Variation of cloud ext. (mag)                  \n",
    "AFILE6  = 'atmospherescreen_9000101_6' / Atmosphere file                        \n",
    "CFILE6  = '        '           / Cloud file                                     \n",
    "SEE6    =             0.210822 / Seeing at 5000 angstrom (sigma)                \n",
    "WIND6   =             3.197529 / Wind speed (m/s)                               \n",
    "WDIR6   =            324.49778 / Wind direction (degrees)                       \n",
    "OSCL6   =                  10. / Outer scale (m)                                \n",
    "HGT6    =                 0.02 / Height (km)                                    \n",
    "CMEAN6  =                   0. / Mean cloud extinction (mag)                    \n",
    "CVARY6  =                   0. / Variation of cloud ext. (mag)                  \n",
    "RAYGRAD =             0.000712 / Density gradient                               \n",
    "O2GRAD  =              3.8E-05 / O2 gradient                                    \n",
    "O3GRAD  =             0.034217 / O3 gradient                                    \n",
    "H2OGRAD =             0.049043 / H2O gradient                                   \n",
    "AERGRAD =             0.001176 / Aerosol gradient                               \n",
    "RAYANG  =             0.438685 / Density angle                                  \n",
    "O2ANG   =             4.415017 / O2 angle                                       \n",
    "O3ANG   =             4.605518 / O3 angle                                       \n",
    "H2OANG  =              5.81092 / H2O angle                                      \n",
    "AERANG  =             5.393528 / Aerosol angle                                  \n",
    "ATMDISP =                    1 / Atmos. dispersion (0=off/1=on)                 \n",
    "PRESS   =                 520. / Air pressure (mmHg)                            \n",
    "H2OPRESS=                   8. / Water vapor pressure (mmHg)                    \n",
    "TEMPERA =                  20. / Ground temperature (degrees C)                 \n",
    "RELDENS =             0.997984 / Relative density                               \n",
    "RELO2   =             0.999896 / Relative O2 fraction                           \n",
    "RELH2O  =             1.150661 / Relative H2O fraction                          \n",
    "AERTAU  =              0.01506 / Aerosol optical depth                          \n",
    "AERIND  =                -1.28 / Aerosol index                                  \n",
    "RELO3   =             0.926995 / Relative O3 fraction                           \n",
    "LASCPR  =                   0. / Large angle scattering probability             \n",
    "DOMESEE =                  0.1 / Dome Seeing (arcseconds FWHM)                  \n",
    "TOYPSF  =                   0. / Toy PSF (arcseconds FWHM) "
   ]
  },
  {
   "cell_type": "code",
   "execution_count": null,
   "id": "9e5048b0",
   "metadata": {},
   "outputs": [],
   "source": [
    "This is the outcome of \n",
    "\n",
    "    seefactor[i]/(pow(1/cos(zenith), 0.6))\n",
    "\n",
    "in https://github.com/lsst-ts/phosim_syseng4/blob/6105fcf9d65b37d2d157be1f99d70dc263da0e76/source/raytrace/settings.cpp "
   ]
  },
  {
   "cell_type": "code",
   "execution_count": null,
   "id": "a6ca23f1",
   "metadata": {},
   "outputs": [],
   "source": []
  },
  {
   "cell_type": "markdown",
   "id": "afface82",
   "metadata": {},
   "source": [
    "# Running comCam medium on NCSA, submitting various combinations with updated seeing (0.69)"
   ]
  },
  {
   "cell_type": "markdown",
   "id": "e12df020",
   "metadata": {},
   "source": [
    "on lsst-devl02,  in  a screen :\n",
    "    \n",
    "    python run_ps1_slurm.py --instruments comCam --fields med --suffix NCSA --job_prefix comMd --dry_run \n",
    "    \n",
    "    ( by default, other params are \n",
    "     --python_script   /project/scichris/aos/AOS/run_ps1_phosim.py\n",
    "     --positions focal extra intra\n",
    "     --backgrounds qck no \n",
    "     --perts 00 05 \n",
    "     --phosim_p 24\n",
    "     --root_dir /project/scichris/aos/AOS/DM-28360/\n",
    "     --nodes 1\n",
    "     --ntasks 24\n",
    "     --time_limit 300\n",
    "     --slurm_file runSlurm\n",
    "     --slurm_path /project/scichris/aos/AOS/  \n",
    "    )"
   ]
  },
  {
   "cell_type": "markdown",
   "id": "0e122294",
   "metadata": {},
   "source": [
    "# Running comCam low  on NCSA, submitting various combos with updated seeing (0.69):"
   ]
  },
  {
   "cell_type": "markdown",
   "id": "7fb348c1",
   "metadata": {},
   "source": [
    "I first run the `update_inst_file_obshistid` with the `low` field. With 2 node-hours per CCD for in-focus low-latitude image, and three times as much for defocal image, I estimate that the single combo of in-focal image would take 2*9 CCDs = 18 node-hours, and defocal image would take 3*2*9 CCDs = 54 node-hours.  Thus it seems best to ask for 2 nodes for each job, so it's completed in under a day (<~9 and 27 hrs, respectively). I submit slurm jobs: \n",
    "\n",
    "\n",
    "    ssh lsst-devl02\n",
    "    scren -x pert (I already setup the repackager there .)\n",
    "    \n",
    "    cd /project/scichris/aos/AOS\n",
    "    git pull    ( to make sure I'm using updated runSlurm, etc. ) \n",
    "    \n",
    "    \n",
    "    python run_ps1_slurm.py --instruments comCam --fields low --suffix NCSA --job_prefix comLo --nodes 2 --ntasks 48 --phosim_p 48 --dry_run \n",
    "    \n",
    "    \n",
    "( by default, other params are \n",
    " --python_script   /project/scichris/aos/AOS/run_ps1_phosim.py\n",
    " --positions focal extra intra\n",
    " --backgrounds qck no \n",
    " --perts 00 05 \n",
    " --root_dir /project/scichris/aos/AOS/DM-28360/\n",
    " --time_limit 300\n",
    " --slurm_file runSlurm\n",
    " --slurm_path /project/scichris/aos/AOS/  ) "
   ]
  },
  {
   "cell_type": "markdown",
   "id": "30e7b60f",
   "metadata": {},
   "source": [
    "## Running comCam Baade (NCSA slurm) "
   ]
  },
  {
   "cell_type": "markdown",
   "id": "f44e0fb2",
   "metadata": {},
   "source": [
    " ssh lsst-devl02\n",
    "    scren -x pert (I already setup the repackager there .)\n",
    "    cd /project/scichris/aos/AOS\n",
    "    \n",
    "    python run_ps1_slurm.py --fields Baade --nodes 2 --ntasks 48 --phosim_p 48 --job_prefix comBa"
   ]
  },
  {
   "cell_type": "markdown",
   "id": "14f798d0",
   "metadata": {},
   "source": [
    "Doing the ingest and ISR: "
   ]
  },
  {
   "cell_type": "markdown",
   "id": "916cdfe4",
   "metadata": {},
   "source": [
    "    python run_ps1_3_butler.py --fields Baade --positions intra extra focal --dry_run"
   ]
  },
  {
   "cell_type": "code",
   "execution_count": null,
   "id": "9a49664a",
   "metadata": {},
   "outputs": [],
   "source": []
  },
  {
   "cell_type": "markdown",
   "id": "03bce686",
   "metadata": {},
   "source": [
    "# Ingest and ISR all medium and low comcam simulations - use a script "
   ]
  },
  {
   "cell_type": "markdown",
   "id": "234941d4",
   "metadata": {},
   "source": [
    "I edit \"run_ps1_3_butler.py\", adding just checking for the dirs that are there under 'med' and 'low' instead of having to know...\n",
    "\n",
    "\n"
   ]
  },
  {
   "cell_type": "code",
   "execution_count": 2,
   "id": "489e6d1d",
   "metadata": {},
   "outputs": [
    {
     "data": {
      "text/plain": [
       "['9001221', '9001201', '9001231', '9001211']"
      ]
     },
     "execution_count": 2,
     "metadata": {},
     "output_type": "execute_result"
    }
   ],
   "source": [
    "os.listdir(work_dir)"
   ]
  },
  {
   "cell_type": "code",
   "execution_count": 7,
   "id": "7059a31b",
   "metadata": {},
   "outputs": [],
   "source": [
    "import os\n",
    "def find_dirs(root_dir='/project/scichris/aos/AOS/DM-28360/', instruments=['comCam'], \n",
    "              fields=['med'], position=['focal', 'extra', 'intra']):\n",
    "\n",
    "    all_dirs = []\n",
    "\n",
    "    for instrument in instruments:\n",
    "        for field in fields:\n",
    "            for position in positions:\n",
    "                work_dir = os.path.join(root_dir, instrument, field, position)\n",
    "                print(work_dir)\n",
    "                sub_dir_names = os.listdir(work_dir)\n",
    "                for sub_dir in sub_dir_names:\n",
    "                    all_dirs.append(os.path.join(work_dir,sub_dir))\n",
    "                # add \n",
    "                print(' ', sub_dirs)\n",
    "\n",
    "    return all_dirs"
   ]
  },
  {
   "cell_type": "code",
   "execution_count": 6,
   "id": "96a8ffdc",
   "metadata": {},
   "outputs": [
    {
     "data": {
      "text/plain": [
       "['/project/scichris/aos/AOS/DM-28360/comCam/med/focal/9001011',\n",
       " '/project/scichris/aos/AOS/DM-28360/comCam/med/focal/9001001',\n",
       " '/project/scichris/aos/AOS/DM-28360/comCam/med/focal/9001021',\n",
       " '/project/scichris/aos/AOS/DM-28360/comCam/med/focal/9001031',\n",
       " '/project/scichris/aos/AOS/DM-28360/comCam/med/extra/9001101',\n",
       " '/project/scichris/aos/AOS/DM-28360/comCam/med/extra/9001121',\n",
       " '/project/scichris/aos/AOS/DM-28360/comCam/med/extra/9001111',\n",
       " '/project/scichris/aos/AOS/DM-28360/comCam/med/extra/9001131',\n",
       " '/project/scichris/aos/AOS/DM-28360/comCam/med/intra/9001221',\n",
       " '/project/scichris/aos/AOS/DM-28360/comCam/med/intra/9001201',\n",
       " '/project/scichris/aos/AOS/DM-28360/comCam/med/intra/9001231',\n",
       " '/project/scichris/aos/AOS/DM-28360/comCam/med/intra/9001211']"
      ]
     },
     "execution_count": 6,
     "metadata": {},
     "output_type": "execute_result"
    }
   ],
   "source": [
    "( by default,  \n",
    "--instruments  ['comCam']\n",
    "--root_dir '/project/scichris/aos/AOS/DM-28360/'\n",
    " \n",
    " \n",
    "\n",
    "cd /home/scichris/notebooks/\n",
    "python run_ps1_3_butler.py --fields med low --positions focal extra intra --dry_run"
   ]
  },
  {
   "cell_type": "markdown",
   "id": "4437ec53",
   "metadata": {},
   "source": [
    "# lsstCam : Running just `stars_lsstCam_PS1_high_intra.inst` on hyak with `qckBkgndPert00.cmd` - find out what should be the obshistid: "
   ]
  },
  {
   "cell_type": "code",
   "execution_count": 3,
   "id": "fcd5bf65",
   "metadata": {},
   "outputs": [
    {
     "name": "stdout",
     "output_type": "stream",
     "text": [
      "9010121 : lsstCam high extra qckBkgndPert00.cmd\n"
     ]
    }
   ],
   "source": [
    "run=1\n",
    "for instrument in  ['lsstCam']:\n",
    "    for field in ['high']:\n",
    "        for position in ['extra',]:\n",
    "            for pert in ['00',]:\n",
    "                cmd_file = f'qckBkgndPert{pert}.cmd'\n",
    "                obshistid = calculate_obshistid(instrument,field,position,cmd_file,run)\n",
    "                print(obshistid, ':', instrument, field, position, cmd_file, )"
   ]
  },
  {
   "cell_type": "markdown",
   "id": "34b80bd6",
   "metadata": {},
   "source": [
    "Manually change that `obshistid` in that file ... "
   ]
  },
  {
   "cell_type": "code",
   "execution_count": null,
   "id": "207ad34b",
   "metadata": {},
   "outputs": [],
   "source": []
  },
  {
   "cell_type": "code",
   "execution_count": null,
   "id": "d1dbcfbd",
   "metadata": {},
   "outputs": [],
   "source": []
  },
  {
   "cell_type": "markdown",
   "id": "bc32a593",
   "metadata": {},
   "source": [
    "Update the path for running on  UW hyak :"
   ]
  },
  {
   "cell_type": "markdown",
   "id": "8f383177",
   "metadata": {},
   "source": [
    "    python run_ps1_fix_cmd_path.py --root_dir /gscratch/astro/suberlak/aos/AOS/DM-28360 --suffix hyak "
   ]
  },
  {
   "cell_type": "markdown",
   "id": "f59c93f7",
   "metadata": {},
   "source": [
    "Run phosim with a slurm script \n",
    "\n",
    "Asking for 8 nodes, with 24 tasks per node, I could do -p of 8*24=192 "
   ]
  },
  {
   "cell_type": "markdown",
   "id": "18f2f37a",
   "metadata": {},
   "source": [
    "    source /gscratch/astro/suberlak/aos/setup_aos.sh \n",
    "\n",
    "\n",
    "    \n",
    "    File: runSlurm.sl                                                                                                  \n",
    "\n",
    "    #!/bin/bash -l\n",
    "    #SBATCH --account astro\n",
    "    #SBATCH --partition astro\n",
    "    #SBATCH --nodes 8\n",
    "    #SBATCH --ntasks-per-node 24\n",
    "    #SBATCH -t 5000:00:00\n",
    "    #SBATCH --job-name lsstHq00\n",
    "    #SBATCH --mem=246G  # 256GB is the smallest astro node , so if that's the only available select 246G here\n",
    "    # Specify the real memory required per node\n",
    "\n",
    "    ##turn on e-mail notification\n",
    "    #SBATCH --mail-type=ALL\n",
    "    #SBATCH --mail-user=suberlak@uw.edu\n",
    "\n",
    "    ## export all your environment variables to the batch job session\n",
    "    #SBATCH --export=all\n",
    "\n",
    "\n",
    "    ## may not need that one, since everywhere I provide abspath ...\n",
    "    ## specify working directory for the  job ...\n",
    "\n",
    "    #SBATCH --chdir=/gscratch/astro/suberlak/aos/\n",
    "    echo \"starting at `date` on `hostname`\"\n",
    "\n",
    "    pwd\n",
    "\n",
    "    python /gscratch/astro/suberlak/aos/AOS/run_ps1_phosim.py --instruments lsstCam --fields high --positions extra --root_dir /gscratch/astro/suberlak/aos/AOS/DM-28360 --cmd_file qckBkgndPert00_hyak.cmd --phosim_path /gscratch/astro/brycek/ts_repos/phosim_syseng4/phosim.py --phosim_p 192\n",
    "\n",
    "    echo \"ended at `date` on `hostname`\"\n",
    "\n"
   ]
  },
  {
   "cell_type": "code",
   "execution_count": 27,
   "id": "2d1b34c8",
   "metadata": {},
   "outputs": [
    {
     "name": "stdout",
     "output_type": "stream",
     "text": [
      "/project/scichris/aos/AOS/DM-28360/imgCloseLoop_0-00/iter0/pert/M1res.txt\n"
     ]
    }
   ],
   "source": [
    "root_dir = \"/project/scichris/aos/AOS/DM-28360\"\n",
    "pert='00'\n",
    "surfacemap_dir = os.path.join(f\"imgCloseLoop_0-{pert}\", \"iter0\", \"pert\")\n",
    "mirror_file = \"M1res.txt\"\n",
    "\n",
    "path_to_mirror = os.path.join(root_dir, surfacemap_dir, mirror_file)\n",
    "print(path_to_mirror)"
   ]
  },
  {
   "cell_type": "markdown",
   "id": "903de60c",
   "metadata": {},
   "source": [
    "It stopped after 122 sensors because of timeout, so first find out what the sensors were:"
   ]
  },
  {
   "cell_type": "markdown",
   "id": "144ae035",
   "metadata": {},
   "source": [
    "    ssh mox \n",
    "    \n",
    "    cd /gscratch/astro/suberlak/aos/AOS/DM-28360/lsstCam/high/extra/9010121/\n",
    "    \n",
    "    # change the name of the  'raw' directory:\n",
    "    mv raw raw_old\n",
    "    \n",
    "    ls raw_old/lsst_e_*  > list.txt\n",
    "    \n",
    "    "
   ]
  },
  {
   "cell_type": "code",
   "execution_count": 2,
   "id": "25a44047",
   "metadata": {},
   "outputs": [
    {
     "data": {
      "text/plain": [
       "122"
      ]
     },
     "execution_count": 2,
     "metadata": {},
     "output_type": "execute_result"
    }
   ],
   "source": [
    "import numpy as np \n",
    "fpath = '/project/scichris/aos/AOS/DM-28360/list.txt'\n",
    "files = np.loadtxt(fpath, dtype=str)\n",
    "sensorsDone = ['_'.join(fileName.split('_')[-3:-1]) for fileName in files]\n",
    "len(np.array(sensorsDone))"
   ]
  },
  {
   "cell_type": "code",
   "execution_count": 4,
   "id": "6b1617c1",
   "metadata": {},
   "outputs": [
    {
     "data": {
      "text/plain": [
       "83"
      ]
     },
     "execution_count": 4,
     "metadata": {},
     "output_type": "execute_result"
    }
   ],
   "source": [
    "from lsst.obs.lsst import LsstCam\n",
    "camera = LsstCam().getCamera()\n",
    "sensorsAll = list(camera.getNameMap().keys())\n",
    "sensorsToDo = np.array(sensorsAll)[~np.in1d(sensorsAll,sensorsDone)]\n",
    "len(sensorsToDo)"
   ]
  },
  {
   "cell_type": "code",
   "execution_count": 13,
   "id": "dbcbf897",
   "metadata": {},
   "outputs": [
    {
     "data": {
      "text/plain": [
       "41.0"
      ]
     },
     "execution_count": 13,
     "metadata": {},
     "output_type": "execute_result"
    }
   ],
   "source": [
    "len(sensorsAll) / 5"
   ]
  },
  {
   "cell_type": "code",
   "execution_count": 17,
   "id": "041c1b77",
   "metadata": {},
   "outputs": [
    {
     "data": {
      "text/plain": [
       "<module 'run_ps1_functions' from '/home/scichris/notebooks/run_ps1_functions.py'>"
      ]
     },
     "execution_count": 17,
     "metadata": {},
     "output_type": "execute_result"
    }
   ],
   "source": [
    "import run_ps1_functions as func\n",
    "import imp\n",
    "imp.reload(func)\n"
   ]
  },
  {
   "cell_type": "code",
   "execution_count": 19,
   "id": "44c5bc34",
   "metadata": {},
   "outputs": [],
   "source": [
    "sensors = func.get_camera_sensors('lsstCam')"
   ]
  },
  {
   "cell_type": "code",
   "execution_count": 20,
   "id": "925b7069",
   "metadata": {},
   "outputs": [
    {
     "data": {
      "text/plain": [
       "array(['R00_SG0', 'R00_SG1', 'R00_SW0', 'R00_SW1', 'R01_S00', 'R01_S01',\n",
       "       'R01_S02', 'R01_S10', 'R01_S11', 'R01_S12', 'R01_S20', 'R01_S21',\n",
       "       'R01_S22', 'R02_S00', 'R02_S01', 'R02_S02', 'R02_S10', 'R02_S11',\n",
       "       'R02_S12', 'R02_S20', 'R02_S21', 'R02_S22', 'R03_S00', 'R03_S01',\n",
       "       'R03_S02', 'R03_S10', 'R03_S11', 'R03_S12', 'R03_S20', 'R03_S21',\n",
       "       'R03_S22', 'R04_SG0', 'R04_SG1', 'R04_SW0', 'R04_SW1', 'R10_S00',\n",
       "       'R10_S01', 'R10_S02', 'R10_S10', 'R10_S11', 'R10_S12', 'R10_S20',\n",
       "       'R10_S21', 'R10_S22', 'R11_S00', 'R11_S01', 'R11_S02', 'R11_S10',\n",
       "       'R11_S11', 'R11_S12', 'R11_S20', 'R11_S21', 'R11_S22', 'R12_S00',\n",
       "       'R12_S01', 'R12_S02', 'R12_S10', 'R12_S11', 'R12_S12', 'R12_S20',\n",
       "       'R12_S21', 'R12_S22', 'R13_S00', 'R13_S01', 'R13_S02', 'R13_S10',\n",
       "       'R13_S11', 'R13_S12', 'R13_S20', 'R13_S21', 'R13_S22', 'R14_S00',\n",
       "       'R14_S01', 'R14_S02', 'R14_S10', 'R14_S11', 'R14_S12', 'R14_S20',\n",
       "       'R14_S21', 'R14_S22', 'R20_S00', 'R20_S01', 'R20_S02', 'R20_S10',\n",
       "       'R20_S11', 'R20_S12', 'R20_S20', 'R20_S21', 'R20_S22', 'R21_S00',\n",
       "       'R21_S01', 'R21_S02', 'R21_S10', 'R21_S11', 'R21_S12', 'R21_S20',\n",
       "       'R21_S21', 'R21_S22', 'R22_S00', 'R22_S01', 'R22_S02', 'R22_S10',\n",
       "       'R22_S11', 'R22_S12', 'R22_S20', 'R22_S21', 'R22_S22', 'R23_S00',\n",
       "       'R23_S01', 'R23_S02', 'R23_S10', 'R23_S11', 'R23_S12', 'R23_S20',\n",
       "       'R23_S21', 'R23_S22', 'R24_S00', 'R24_S01', 'R24_S02', 'R24_S10',\n",
       "       'R24_S11', 'R24_S12', 'R24_S20', 'R24_S21', 'R24_S22', 'R30_S00',\n",
       "       'R30_S01', 'R30_S02', 'R30_S10', 'R30_S11', 'R30_S12', 'R30_S20',\n",
       "       'R30_S21', 'R30_S22', 'R31_S00', 'R31_S01', 'R31_S02', 'R31_S10',\n",
       "       'R31_S11', 'R31_S12', 'R31_S20', 'R31_S21', 'R31_S22', 'R32_S00',\n",
       "       'R32_S01', 'R32_S02', 'R32_S10', 'R32_S11', 'R32_S12', 'R32_S20',\n",
       "       'R32_S21', 'R32_S22', 'R33_S00', 'R33_S01', 'R33_S02', 'R33_S10',\n",
       "       'R33_S11', 'R33_S12', 'R33_S20', 'R33_S21', 'R33_S22', 'R34_S00',\n",
       "       'R34_S01', 'R34_S02', 'R34_S10', 'R34_S11', 'R34_S12', 'R34_S20',\n",
       "       'R34_S21', 'R34_S22', 'R40_SG0', 'R40_SG1', 'R40_SW0', 'R40_SW1',\n",
       "       'R41_S00', 'R41_S01', 'R41_S02', 'R41_S10', 'R41_S11', 'R41_S12',\n",
       "       'R41_S20', 'R41_S21', 'R41_S22', 'R42_S00', 'R42_S01', 'R42_S02',\n",
       "       'R42_S10', 'R42_S11', 'R42_S12', 'R42_S20', 'R42_S21', 'R42_S22',\n",
       "       'R43_S00', 'R43_S01', 'R43_S02', 'R43_S10', 'R43_S11', 'R43_S12',\n",
       "       'R43_S20', 'R43_S21', 'R43_S22', 'R44_SG0', 'R44_SG1', 'R44_SW0',\n",
       "       'R44_SW1'], dtype='<U7')"
      ]
     },
     "execution_count": 20,
     "metadata": {},
     "output_type": "execute_result"
    }
   ],
   "source": [
    "sensors"
   ]
  },
  {
   "cell_type": "code",
   "execution_count": 23,
   "id": "42f6c0c1",
   "metadata": {},
   "outputs": [],
   "source": [
    "sensors = np.sort(sensorsAll)\n",
    "sensor_groups = np.array_split(sensors,5)"
   ]
  },
  {
   "cell_type": "code",
   "execution_count": 21,
   "id": "7caf2759",
   "metadata": {},
   "outputs": [
    {
     "data": {
      "text/plain": [
       "4"
      ]
     },
     "execution_count": 21,
     "metadata": {},
     "output_type": "execute_result"
    }
   ],
   "source": [
    "select = 5\n",
    "select -= 1 \n",
    "select"
   ]
  },
  {
   "cell_type": "code",
   "execution_count": 24,
   "id": "96ab93c0",
   "metadata": {},
   "outputs": [
    {
     "data": {
      "text/plain": [
       "array(['R00_SG0', 'R00_SG1', 'R00_SW0', 'R00_SW1', 'R01_S00', 'R01_S01',\n",
       "       'R01_S02', 'R01_S10', 'R01_S11', 'R01_S12', 'R01_S20', 'R01_S21',\n",
       "       'R01_S22', 'R02_S00', 'R02_S01', 'R02_S02', 'R02_S10', 'R02_S11',\n",
       "       'R02_S12', 'R02_S20', 'R02_S21', 'R02_S22', 'R03_S00', 'R03_S01',\n",
       "       'R03_S02', 'R03_S10', 'R03_S11', 'R03_S12', 'R03_S20', 'R03_S21',\n",
       "       'R03_S22', 'R04_SG0', 'R04_SG1', 'R04_SW0', 'R04_SW1', 'R10_S00',\n",
       "       'R10_S01', 'R10_S02', 'R10_S10', 'R10_S11', 'R10_S12'], dtype='<U7')"
      ]
     },
     "execution_count": 24,
     "metadata": {},
     "output_type": "execute_result"
    }
   ],
   "source": [
    "sensors_select = sensor_groups[0]\n",
    "sensors_select"
   ]
  },
  {
   "cell_type": "code",
   "execution_count": 25,
   "id": "d80c34d1",
   "metadata": {},
   "outputs": [],
   "source": [
    "sensor_names = func.sensor_list_to_string(sensors_select)"
   ]
  },
  {
   "cell_type": "code",
   "execution_count": 26,
   "id": "907349a4",
   "metadata": {},
   "outputs": [
    {
     "data": {
      "text/plain": [
       "'R00_SG0|R00_SG1|R00_SW0|R00_SW1|R01_S00|R01_S01|R01_S02|R01_S10|R01_S11|R01_S12|R01_S20|R01_S21|R01_S22|R02_S00|R02_S01|R02_S02|R02_S10|R02_S11|R02_S12|R02_S20|R02_S21|R02_S22|R03_S00|R03_S01|R03_S02|R03_S10|R03_S11|R03_S12|R03_S20|R03_S21|R03_S22|R04_SG0|R04_SG1|R04_SW0|R04_SW1|R10_S00|R10_S01|R10_S02|R10_S10|R10_S11|R10_S12|'"
      ]
     },
     "execution_count": 26,
     "metadata": {},
     "output_type": "execute_result"
    }
   ],
   "source": [
    "sensor_names"
   ]
  },
  {
   "cell_type": "code",
   "execution_count": null,
   "id": "ab9e464a",
   "metadata": {},
   "outputs": [],
   "source": [
    "python"
   ]
  },
  {
   "cell_type": "code",
   "execution_count": 34,
   "id": "6f5942f1",
   "metadata": {},
   "outputs": [],
   "source": [
    "def sensor_list_to_string(sensorNameList):\n",
    "    sensors = \"\"\n",
    "    for sensor in sensorNameList:\n",
    "        sensors += \"%s|\" % sensor\n",
    "    return sensors\n",
    "\n",
    "sensorsToDoStr = sensor_list_to_string(sensorsToDo)"
   ]
  },
  {
   "cell_type": "code",
   "execution_count": 35,
   "id": "f37af093",
   "metadata": {},
   "outputs": [
    {
     "data": {
      "text/plain": [
       "'R44_SW1|R44_SW0|R40_SW1|R40_SW0|R41_S22|R20_S11|R14_S02|R43_S00|R20_S00|R22_S02|R12_S11|R44_SG0|R10_S20|R03_S02|R43_S12|R04_SG1|R33_S12|R34_S22|R32_S01|R41_S02|R32_S02|R01_S02|R34_S00|R03_S10|R41_S10|R01_S21|R33_S10|R34_S11|R43_S22|R24_S11|R42_S11|R00_SG1|R12_S20|R22_S21|R24_S22|R33_S11|R30_S10|R42_S10|R33_S02|R13_S12|R33_S21|R30_S21|R32_S21|R41_S20|R31_S10|R32_S22|R32_S10|R43_S11|R32_S11|R34_S10|R32_S12|R33_S01|R34_S21|R32_S20|R33_S00|R33_S20|R33_S22|R34_S01|R34_S02|R34_S12|R00_SG0|R34_S20|R41_S00|R41_S01|R41_S11|R42_S02|R41_S12|R41_S21|R42_S01|R42_S12|R42_S20|R42_S21|R42_S00|R42_S22|R43_S01|R43_S02|R43_S10|R44_SG1|R43_S20|R43_S21|R04_SG0|R40_SG0|R40_SG1|'"
      ]
     },
     "execution_count": 35,
     "metadata": {},
     "output_type": "execute_result"
    }
   ],
   "source": [
    "sensorsToDoStr"
   ]
  },
  {
   "cell_type": "markdown",
   "id": "cacf969d",
   "metadata": {},
   "source": [
    "Make a sensor selection... Just submit the appropriate \"run phosim\" command, and store it manually (rather than using the `run_ps1_phosim.py` - can find out what command was used with `--dry_run` :\n",
    "\n",
    "    python /gscratch/astro/suberlak/aos/AOS/run_ps1_phosim.py --instruments lsstCam --fields high --positions extra --root_dir /gscratch/astro/suberlak/aos/AOS/DM-28360 --cmd_file qckBkgndPert00_hyak.cmd --phosim_path /gscratch/astro/brycek/ts_repos/phosim_syseng4/phosim.py --phosim_p 192 --dry_run\n",
    "\n",
    "\n",
    "yields \n",
    "\n",
    "    python /gscratch/astro/brycek/ts_repos/phosim_syseng4/phosim.py /gscratch/astro/suberlak/aos/AOS/DM-28360/stars_lsstCam_PS1_high_extra_9010121.inst -i lsst -e 1     -c /gscratch/astro/suberlak/aos/AOS/DM-28360/qckBkgndPert00_hyak.cmd -w /gscratch/astro/suberlak/aos/AOS/DM-28360/lsstCam/high/extra/9010121/raw -p 192  -o /gscratch/astro/suberlak/aos/AOS/DM-28360/lsstCam/high/extra/9010121/raw > /gscratch/astro/suberlak/aos/AOS/DM-28360/lsstCam/high/extra/9010121/starPhoSim.log 2>&1\n",
    " \n",
    "    phosim_repackager.py /gscratch/astro/suberlak/aos/AOS/DM-28360/lsstCam/high/extra/9010121/raw     --out_dir /gscratch/astro/suberlak/aos/AOS/DM-28360/lsstCam/high/extra/9010121/repackaged --inst lsst --focusz -1500\n",
    "  \n",
    "  "
   ]
  },
  {
   "cell_type": "markdown",
   "id": "43989e6a",
   "metadata": {},
   "source": [
    "So I modify the phosim command, adding -s : "
   ]
  },
  {
   "cell_type": "markdown",
   "id": "2c90d5ec",
   "metadata": {},
   "source": [
    "    python /gscratch/astro/brycek/ts_repos/phosim_syseng4/phosim.py /gscratch/astro/suberlak/aos/AOS/DM-28360/stars_lsstCam_PS1_high_extra_9010121.inst -i lsst -e 1  -s  \"R44_SW1|R44_SW0|R40_SW1|R40_SW0|R41_S22|R20_S11|R14_S02|R43_S00|R20_S00|R22_S02|R12_S11|R44_SG0|R10_S20|R03_S02|R43_S12|R04_SG1|R33_S12|R34_S22|R32_S01|R41_S02|R32_S02|R01_S02|R34_S00|R03_S10|R41_S10|R01_S21|R33_S10|R34_S11|R43_S22|R24_S11|R42_S11|R00_SG1|R12_S20|R22_S21|R24_S22|R33_S11|R30_S10|R42_S10|R33_S02|R13_S12|R33_S21|R30_S21|R32_S21|R41_S20|R31_S10|R32_S22|R32_S10|R43_S11|R32_S11|R34_S10|R32_S12|R33_S01|R34_S21|R32_S20|R33_S00|R33_S20|R33_S22|R34_S01|R34_S02|R34_S12|R00_SG0|R34_S20|R41_S00|R41_S01|R41_S11|R42_S02|R41_S12|R41_S21|R42_S01|R42_S12|R42_S20|R42_S21|R42_S00|R42_S22|R43_S01|R43_S02|R43_S10|R44_SG1|R43_S20|R43_S21|R04_SG0|R40_SG0|R40_SG1\"   -c /gscratch/astro/suberlak/aos/AOS/DM-28360/qckBkgndPert00_hyak.cmd -w /gscratch/astro/suberlak/aos/AOS/DM-28360/lsstCam/high/extra/9010121/raw -p 192  -o /gscratch/astro/suberlak/aos/AOS/DM-28360/lsstCam/high/extra/9010121/raw > /gscratch/astro/suberlak/aos/AOS/DM-28360/lsstCam/high/extra/9010121/starPhoSim.log 2>&1"
   ]
  },
  {
   "cell_type": "markdown",
   "id": "21ecad48",
   "metadata": {},
   "source": [
    "and I modify the slurm script to just run that : \n",
    "    \n",
    "    "
   ]
  },
  {
   "cell_type": "markdown",
   "id": "c8de086f",
   "metadata": {},
   "source": [
    "File: runSlurmLsstCam.sl                                                                                                 \n",
    "\n",
    "    #!/bin/bash -l\n",
    "    #SBATCH --account astro\n",
    "    #SBATCH --partition astro\n",
    "    #SBATCH --nodes 8\n",
    "    #SBATCH --ntasks-per-node 24\n",
    "    #SBATCH -t 5000:00:00\n",
    "    #SBATCH --job-name lsstHq00\n",
    "    #SBATCH --mem=246G  # 256GB is the smallest astro node , so if that's the only available select 246G here\n",
    "    # Specify the real memory required per node\n",
    "\n",
    "    ##turn on e-mail notification\n",
    "    #SBATCH --mail-type=ALL\n",
    "    #SBATCH --mail-user=suberlak@uw.edu\n",
    "\n",
    "    ## export all your environment variables to the batch job session\n",
    "    #SBATCH --export=all\n",
    "\n",
    "\n",
    "    ## may not need that one, since everywhere I provide abspath ...\n",
    "    ## specify working directory for the  job ...\n",
    "\n",
    "    #SBATCH --chdir=/gscratch/astro/suberlak/aos/\n",
    "    echo \"starting at `date` on `hostname`\"\n",
    "\n",
    "    pwd\n",
    "\n",
    "    python /gscratch/astro/brycek/ts_repos/phosim_syseng4/phosim.py /gscratch/astro/suberlak/aos/AOS/DM-28360/stars_lsstCam_PS1_high_extra_9010121.inst -i lsst -e 1  -s  \"R44_SW1|R44_SW0|R40_SW1|R40_SW0|R41_S22|R20_S11|R14_S02|R43_S00|R20_S00|R22_S02|R12_S11|R44_SG0|R10_S20|R03_S02|R43_S12|R04_SG1|R33_S12|R34_S22|R32_S01|R41_S02|R32_S02|R01_S02|R34_S00|R03_S10|R41_S10|R01_S21|R33_S10|R34_S11|R43_S22|R24_S11|R42_S11|R00_SG1|R12_S20|R22_S21|R24_S22|R33_S11|R30_S10|R42_S10|R33_S02|R13_S12|R33_S21|R30_S21|R32_S21|R41_S20|R31_S10|R32_S22|R32_S10|R43_S11|R32_S11|R34_S10|R32_S12|R33_S01|R34_S21|R32_S20|R33_S00|R33_S20|R33_S22|R34_S01|R34_S02|R34_S12|R00_SG0|R34_S20|R41_S00|R41_S01|R41_S11|R42_S02|R41_S12|R41_S21|R42_S01|R42_S12|R42_S20|R42_S21|R42_S00|R42_S22|R43_S01|R43_S02|R43_S10|R44_SG1|R43_S20|R43_S21|R04_SG0|R40_SG0|R40_SG1\"   -c /gscratch/astro/suberlak/aos/AOS/DM-28360/qckBkgndPert00_hyak.cmd -w /gscratch/astro/suberlak/aos/AOS/DM-28360/lsstCam/high/extra/9010121/raw -p 288  -o /gscratch/astro/suberlak/aos/AOS/DM-28360/lsstCam/high/extra/9010121/raw > /gscratch/astro/suberlak/aos/AOS/DM-28360/lsstCam/high/extra/9010121/starPhoSim2.log 2>&1\n",
    "\n",
    "\n",
    "    echo \"ended at `date` on `hostname`\"\n",
    "\n"
   ]
  },
  {
   "cell_type": "markdown",
   "id": "24fee37c",
   "metadata": {},
   "source": [
    "I submit on the screen where I enabled the stack and the AOS packages:\n",
    "    \n",
    "    screen -S aos \n",
    "    source /gscratch/astro/suberlak/aos/setup_aos.sh \n",
    "    \n",
    "    "
   ]
  },
  {
   "cell_type": "markdown",
   "id": "d99c0b4a",
   "metadata": {},
   "source": [
    "I checked the queue with \n",
    "\n",
    "    squeue -p astro\n",
    "    \n",
    "and the resources with \n",
    "\n",
    "    sinfo -p astro\n",
    "    \n",
    "    \n",
    "and submitted with \n",
    " \n",
    "    sbatch runSlurmLsstCam.sl\n",
    "    \n",
    "    \n",
    "But even with 1500 hrs it still claims its reserved for maintenance ... \n",
    "\n",
    "This is because there is a maintenance every first Tuesday of the month, the nearest one being on Tuesday June 9  - see https://wiki.cac.washington.edu/display/hyakusers/Maintenance+schedule \n",
    "    \n",
    "\n",
    "I check with this website https://datetimego.com/how-many-hours-until-9am-tuesday  that it's about 88 hrs from now, so I set the max time to be 80 hrs. \n",
    "\n",
    "Since it takes 3 node-hours for high galactic latitude per CCD for defocal image, and we need  to finish 88 CCDs, i.e. need 3*88 node-hours = 264 node-hours, so   with 12 nodes we should be done in 264 node-hours / 12 nodes = 22 hrs , i.e. by next day....\n",
    "\n",
    "\n",
    "I wonder if that's at all true ! \n",
    "    \n",
    "    "
   ]
  },
  {
   "cell_type": "code",
   "execution_count": null,
   "id": "5c2c681c",
   "metadata": {},
   "outputs": [],
   "source": []
  },
  {
   "cell_type": "markdown",
   "id": "2269ac02",
   "metadata": {},
   "source": [
    "Next : need to repackage ALL  - combine  /raw/ and /raw_old/  directories into /raw/ , and run \n",
    "    \n",
    "    \n",
    "    phosim_repackager.py /gscratch/astro/suberlak/aos/AOS/DM-28360/lsstCam/high/extra/9010121/raw     --out_dir /gscratch/astro/suberlak/aos/AOS/DM-28360/lsstCam/high/extra/9010121/repackaged --inst lsst --focusz -1500\n",
    "\n",
    "\n",
    "But I have some b izarre segmentation fault error ... \n",
    "\n",
    "\n",
    "Try copying all the 3088 amp files to NCSA . On hyak , run \n",
    "\n",
    "    scp -rp /gscratch/astro/suberlak/aos/AOS/DM-28360/lsstCam/high/extra/9010121/raw/  scichris@lsst-login01.ncsa.illinois.edu:/project/scichris/aos/AOS/DM-28360/lsstCam/high/extra/9010121/raw/\n",
    "\n",
    "\n",
    "And now on NCSA LSP, run \n",
    "\n",
    "    phosim_repackager.py /project/scichris/aos/AOS/DM-28360/lsstCam/high/extra/9010121/raw/raw     --out_dir /project/scichris/aos/AOS/DM-28360/lsstCam/high/extra/9010121/repackaged --inst lsst --focusz -1500"
   ]
  },
  {
   "cell_type": "markdown",
   "id": "0dc6ca40",
   "metadata": {},
   "source": [
    "Then do the gen3 ingest and ISR:\n",
    "\n",
    "\n",
    "    python run_ps1_3_butler.py --obshistids 9010121 (--dry_run)\n",
    "    "
   ]
  },
  {
   "cell_type": "markdown",
   "id": "a9bf27d6",
   "metadata": {},
   "source": [
    "Show the postISR:"
   ]
  },
  {
   "cell_type": "code",
   "execution_count": null,
   "id": "99ce2ca8",
   "metadata": {},
   "outputs": [],
   "source": []
  },
  {
   "cell_type": "markdown",
   "id": "bcb46991",
   "metadata": {},
   "source": [
    "# lsstCam : Running `stars_lsstCam_PS1_high_focal.inst` on hyak with `qckBkgndPert00.cmd` \n"
   ]
  },
  {
   "cell_type": "code",
   "execution_count": 2,
   "id": "582c020c",
   "metadata": {},
   "outputs": [
    {
     "name": "stdout",
     "output_type": "stream",
     "text": [
      "9010021 : lsstCam high focal qckBkgndPert00.cmd\n"
     ]
    }
   ],
   "source": [
    "import run_ps1_functions as func\n",
    "run=1\n",
    "for instrument in  ['lsstCam']:\n",
    "    for field in ['high']:\n",
    "        for position in ['focal',]:\n",
    "            for pert in ['00',]:\n",
    "                cmd_file = f'qckBkgndPert{pert}.cmd'\n",
    "                obshistid = func.calculate_obshistid(instrument,field,position,cmd_file,run)\n",
    "                print(obshistid, ':', instrument, field, position, cmd_file, )"
   ]
  },
  {
   "cell_type": "markdown",
   "id": "f45391da",
   "metadata": {},
   "source": [
    "copied manually:\n",
    "    \n",
    "    cp stars_lsstCam_PS1_high_extra_9010121.inst stars_lsstCam_PS1_high_focal_9010021.inst \n",
    "    \n",
    "And doing\n",
    "\n",
    "    nano stars_lsstCam_PS1_high_focal_9010021.inst\n",
    "    \n",
    "updated obshistid, updated opsim_rawseeing to 0.69 , removed move 10 ( to make it focal catalog)\n",
    "\n"
   ]
  },
  {
   "cell_type": "markdown",
   "id": "949de520",
   "metadata": {},
   "source": [
    "Made a slurm submit script:  `runSlurm.sl` , containing: \n",
    "    \n",
    "    \n",
    "#!/bin/bash -l\n",
    "#SBATCH --account astro\n",
    "#SBATCH --partition astro\n",
    "#SBATCH --nodes 11\n",
    "#SBATCH --ntasks-per-node 20\n",
    "#SBATCH -t 600:00:00\n",
    "#SBATCH --job-name lsstHqf\n",
    "#SBATCH --mem=246G  # 256GB is the smallest astro node , so if that's the only available select 246G here\n",
    "##SBATCH --mem-per-cpu=8GB # Request 4GB RAM per core\n",
    "# Specify the real memory required per node\n",
    "\n",
    "##turn on e-mail notification\n",
    "#SBATCH --mail-type=ALL\n",
    "#SBATCH --mail-user=suberlak@uw.edu\n",
    "\n",
    "## export all your environment variables to the batch job session\n",
    "#SBATCH --export=all\n",
    "\n",
    "\n",
    "## may not need that one, since everywhere I provide abspath ...\n",
    "## specify working directory for the  job ...\n",
    "\n",
    "#SBATCH --chdir=/gscratch/astro/suberlak/aos/\n",
    "echo \"starting at `date` on `hostname`\"\n",
    "\n",
    "pwd\n",
    "\n",
    "python /gscratch/astro/suberlak/aos/AOS/run_ps1_phosim.py --instruments lsstCam --fields high --positions focal --root_dir /gscratch/astro/suberlak/aos/AOS/DM-28360 --cmd_file q\n",
    "ckBkgndPert00_hyak.cmd --phosim_path /gscratch/astro/brycek/ts_repos/phosim_syseng4/phosim.py --phosim_p 220\n",
    "\n",
    "echo \"ended at `date` on `hostname`\"\n",
    "\n",
    "\n",
    "\n",
    "With https://wiki.cac.washington.edu/display/hyakusers/Maintenance+schedule I see that the  the nearest maintenance is  on Tuesday July 6. I find from here \n",
    "\n",
    "I check with this website https://howlongagogo.com/date/2021/july/6 that it's about 626 hours from now (Wed, Jun 9, right after the monthly maintenance...).\n",
    "\n",
    "\n",
    "So I select `#SBATCH -t 600:00:00`\n",
    "\n",
    "\n",
    "And with  \n",
    "\n",
    "  \n",
    "  sinfo -p astro \n",
    "  \n",
    "I found there were 11 available nodes...\n",
    "\n"
   ]
  },
  {
   "cell_type": "code",
   "execution_count": null,
   "id": "752b14ba",
   "metadata": {},
   "outputs": [],
   "source": [
    "And it is running ! \n",
    "\n",
    "    squeue -p astro \n",
    "    \n",
    "shows the jobid `1970789`... "
   ]
  },
  {
   "cell_type": "markdown",
   "id": "52860203",
   "metadata": {},
   "source": [
    "# Simulate just the corner sensors with PS1 - submit to slurm or HTCondor ... "
   ]
  },
  {
   "cell_type": "markdown",
   "id": "674ca817",
   "metadata": {},
   "source": [
    "stars_lsstCam_PS1_high_focal_9010021.instUse `stars_lsstCam_PS1_high_focal_9010021.inst`, so that the corner sensors are out-of-focus with proper distance ..."
   ]
  },
  {
   "cell_type": "code",
   "execution_count": 4,
   "id": "ade78cf4",
   "metadata": {},
   "outputs": [
    {
     "name": "stdout",
     "output_type": "stream",
     "text": [
      "9010001 : lsstCam high focal noBkgndPert00.cmd\n"
     ]
    }
   ],
   "source": [
    "run=1\n",
    "instrument='lsstCam'\n",
    "field = 'high'\n",
    "position='focal'\n",
    "pert='00' # small pert \n",
    "#cmd_file = f'qckBkgndPert{pert}.cmd' # quick background \n",
    "cmd_file = f'noBkgndPert{pert}.cmd' # quick background \n",
    "\n",
    "\n",
    "\n",
    "obshistid = calculate_obshistid(instrument,field,position,cmd_file,run)\n",
    "print(obshistid, ':', instrument, field, position, cmd_file, )"
   ]
  },
  {
   "cell_type": "code",
   "execution_count": null,
   "id": "bba6a538",
   "metadata": {},
   "outputs": [],
   "source": [
    "Develop dry_run and specifying which sensors to simulate on  LSP:\n",
    "    \n",
    "    /home/scichris/notebooks/run_ps1_phosim.py\n",
    "    \n",
    "Add to github, push, change to\n",
    "\n",
    "    cd /project/scichris/aos/AOS/\n",
    "    git pull\n",
    "    \n",
    "    "
   ]
  },
  {
   "cell_type": "markdown",
   "id": "d2e78c74",
   "metadata": {},
   "source": [
    "submit on  lsst-devl03 , since slurm is all booked : \n",
    "\n",
    "\n",
    "    cd /home/scichris/notebooks/\n",
    "    python run_ps1_phosim.py --positions focal --fields high --instruments lsstCam --phosim_p 24 --cmd_file qckBkgndPert00_NCSA.cmd --root_dir /project/scichris/aos/AOS/DM-28360/ --phosim_s  R40_SW0 R40_SW1 --dry_run \n",
    "\n",
    "\n",
    "\n",
    "    python /project/scichris/aos/AOS/run_ps1_phosim.py --positions focal --fields high --instruments lsstCam --phosim_p 24 --cmd_file qckBkgndPert00_NCSA.cmd --root_dir /project/scichris/aos/AOS/DM-28360/corner/ --dry_run "
   ]
  },
  {
   "cell_type": "markdown",
   "id": "0418fb6d",
   "metadata": {},
   "source": [
    "First, change the SIM_VISTIME to 0.5 , so that I can see if the code performs well (and run with no background to get it faster too):\n",
    "    \n",
    "    cd /project/scichris/aos/AOS/DM-28360/\n",
    "    nano stars_lsstCam_PS1_high_focal_9010021.inst # 0.5 sec, qck Bkgnd, Pert00 \n",
    "    \n",
    "    nano stars_lsstCam_PS1_high_focal_9010001.inst # 0.5 sec,  no Bkgnd, Pert00\n",
    "    \n",
    "    R00_SW0 R00_SW1 \n",
    "    "
   ]
  },
  {
   "cell_type": "code",
   "execution_count": 17,
   "id": "7b943cdb",
   "metadata": {},
   "outputs": [],
   "source": [
    "detectorNames = ['R40_SW0', 'R40_SW1',\n",
    "                         'R44_SW0', 'R44_SW1',\n",
    "                         'R00_SW0', 'R00_SW1',\n",
    "                         'R04_SW0', 'R04_SW1'\n",
    "                    ]\n",
    "detectors= ''\n",
    "for detector in detectorNames:\n",
    "    detectors += f\" {detector}\""
   ]
  },
  {
   "cell_type": "code",
   "execution_count": 18,
   "id": "0a46548b",
   "metadata": {},
   "outputs": [
    {
     "data": {
      "text/plain": [
       "' R40_SW0 R40_SW1 R44_SW0 R44_SW1 R00_SW0 R00_SW1 R04_SW0 R04_SW1'"
      ]
     },
     "execution_count": 18,
     "metadata": {},
     "output_type": "execute_result"
    }
   ],
   "source": [
    "detectors"
   ]
  },
  {
   "cell_type": "markdown",
   "id": "d571f01e",
   "metadata": {},
   "source": [
    "Run on lsst-devl03 in screen \"closeLoop\" , using 24 cores: "
   ]
  },
  {
   "cell_type": "markdown",
   "id": "119511f2",
   "metadata": {},
   "source": [
    "     python /project/scichris/aos/AOS/run_ps1_phosim.py --positions focal --fields high --instruments lsstCam --phosim_p 24 --cmd_file noBkgndPert00_NCSA.cmd --root_dir /project/scichris/aos/AOS/DM-28360/ --phosim_s  R40_SW0 R40_SW1 --dry_run "
   ]
  },
  {
   "cell_type": "markdown",
   "id": "2abaedac",
   "metadata": {},
   "source": [
    "Inspect the repackaged and post-ISR results : "
   ]
  },
  {
   "cell_type": "markdown",
   "id": "8ac504b2",
   "metadata": {},
   "source": [
    "moved to `lsstCam_corner_short` "
   ]
  },
  {
   "cell_type": "code",
   "execution_count": null,
   "id": "0ac1c696",
   "metadata": {},
   "outputs": [],
   "source": []
  },
  {
   "cell_type": "markdown",
   "id": "d98f979b",
   "metadata": {},
   "source": [
    "## Ps1 high only corner: "
   ]
  },
  {
   "cell_type": "markdown",
   "id": "519fc84f",
   "metadata": {},
   "source": [
    "Running the full 15-sec, quick background, 4-corner sensors simulation, on lsst-devl03 screen \"closeLoop\" : \n",
    "    \n",
    "    nano stars_lsstCam_PS1_high_focal_9010021.inst # 0.5 sec, qck Bkgnd, Pert00 \n",
    "    \n",
    "    --> change SIM_VISTIME to 15 sec \n",
    "    \n",
    "    python /project/scichris/aos/AOS/run_ps1_phosim.py --positions focal --fields high --instruments lsstCam --phosim_p 24 --cmd_file qckBkgndPert00_NCSA.cmd --root_dir /project/scichris/aos/AOS/DM-28360/ --phosim_s  R40_SW0 R40_SW1 R44_SW0 R44_SW1 R00_SW0 R00_SW1 R04_SW0 R04_SW1  --dry_run\n",
    "    \n",
    "    \n",
    "    phosim_repackager.py /project/scichris/aos/AOS/DM-28360/lsstCam/high/focal/9010021/raw     --out_dir /project/scichris/aos/AOS/DM-28360/lsstCam/high/focal/9010021/repackaged --inst lsst --focusz 0\n",
    "    \n",
    "    DONE ✅ \n",
    "    "
   ]
  },
  {
   "cell_type": "markdown",
   "id": "2b16b7ad",
   "metadata": {},
   "source": [
    "## PS1 med only corner "
   ]
  },
  {
   "cell_type": "markdown",
   "id": "d4d4290c",
   "metadata": {},
   "source": [
    "Running the full 15-sec, quick background, small pert (00),  on lsst-devl02 , screen pert  \n",
    "\n",
    "     python /project/scichris/aos/AOS/run_ps1_phosim.py --positions focal --fields med --instruments lsstCam --phosim_p 24 --cmd_file qckBkgndPert00_NCSA.cmd  --root_dir /project/scichris/aos/AOS/DM-28360/ --phosim_s  R40_SW0 R40_SW1 R44_SW0 R44_SW1 R00_SW0 R00_SW1 R04_SW0 R04_SW1 --dry_run\n",
    "    \n",
    "    DONE ✅ "
   ]
  },
  {
   "cell_type": "markdown",
   "id": "bd28d0b1",
   "metadata": {},
   "source": [
    "## PS1 low only corner "
   ]
  },
  {
   "cell_type": "markdown",
   "id": "b50401b6",
   "metadata": {},
   "source": [
    "Running the full 15-sec, quick background, small pert (00),  on  lsst-devl03, screen  ps1 \n",
    "\n",
    "source \"/software/lsstsw/stack/loadLSST.bash\"    # need that for python \n",
    "setup lsst_distrib \n",
    "\n",
    "source /project/scichris/aos/setup_aos_current.sh\n",
    "setup -k -r /project/scichris/aos/phosim_utils/\n",
    "\n",
    "\n",
    "     python /project/scichris/aos/AOS/run_ps1_phosim.py --positions focal --fields low --instruments lsstCam --phosim_p 24 --cmd_file qckBkgndPert00_NCSA.cmd  --root_dir /project/scichris/aos/AOS/DM-28360/ --phosim_s  R40_SW0 R40_SW1 R44_SW0 R44_SW1 R00_SW0 R00_SW1 R04_SW0 R04_SW1     ( --dry_run  to test if it's using the correct inst files ... ) \n",
    "    \n",
    "    DONE ✅ "
   ]
  },
  {
   "cell_type": "code",
   "execution_count": null,
   "id": "ceed7eb2",
   "metadata": {},
   "outputs": [],
   "source": []
  }
 ],
 "metadata": {
  "kernelspec": {
   "display_name": "LSST",
   "language": "python",
   "name": "lsst"
  },
  "language_info": {
   "codemirror_mode": {
    "name": "ipython",
    "version": 3
   },
   "file_extension": ".py",
   "mimetype": "text/x-python",
   "name": "python",
   "nbconvert_exporter": "python",
   "pygments_lexer": "ipython3",
   "version": "3.8.8"
  }
 },
 "nbformat": 4,
 "nbformat_minor": 5
}
