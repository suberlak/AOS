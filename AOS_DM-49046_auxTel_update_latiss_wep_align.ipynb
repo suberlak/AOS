{
 "cells": [
  {
   "cell_type": "markdown",
   "id": "70393f84-9a73-4345-b071-a409b27457c1",
   "metadata": {
    "execution": {
     "iopub.execute_input": "2025-02-20T00:11:56.293481Z",
     "iopub.status.busy": "2025-02-20T00:11:56.293290Z",
     "iopub.status.idle": "2025-02-20T00:11:56.295966Z",
     "shell.execute_reply": "2025-02-20T00:11:56.295563Z",
     "shell.execute_reply.started": "2025-02-20T00:11:56.293466Z"
    }
   },
   "source": [
    "# AOS_DM-49046  AuxTel : update latiss_wep_align"
   ]
  },
  {
   "cell_type": "markdown",
   "id": "a016c2e7-3dbb-4f53-86e1-23b140998106",
   "metadata": {},
   "source": [
    "We find CWFS pairs in `AOS_DM-44140_SN_auxTel... `. Here, we just analyse one pair, using the same code as in https://github.com/lsst-ts/ts_externalscripts/blob/develop/python/lsst/ts/externalscripts/auxtel/latiss_wep_align.py : "
   ]
  },
  {
   "cell_type": "code",
   "execution_count": 2,
   "id": "4934b0c2-7a88-4a7c-881c-7b464d828ea8",
   "metadata": {
    "execution": {
     "iopub.execute_input": "2025-02-20T19:25:39.566806Z",
     "iopub.status.busy": "2025-02-20T19:25:39.566386Z",
     "iopub.status.idle": "2025-02-20T19:25:39.569462Z",
     "shell.execute_reply": "2025-02-20T19:25:39.569090Z",
     "shell.execute_reply.started": "2025-02-20T19:25:39.566778Z"
    }
   },
   "outputs": [],
   "source": [
    "# Get the defocal exposure\n",
    "dataIdExtra = {'instrument': 'LATISS', \n",
    "          'exposure': 2024040300257, \n",
    "           'detector':0}\n",
    "\n",
    "dataIdIntra = {'instrument': 'LATISS', \n",
    "          'exposure': 2024040300258, \n",
    "           'detector':0}"
   ]
  },
  {
   "cell_type": "code",
   "execution_count": 3,
   "id": "4cb2c3e9-9b01-4588-a380-5b9762d5a557",
   "metadata": {
    "execution": {
     "iopub.execute_input": "2025-02-20T19:25:41.738436Z",
     "iopub.status.busy": "2025-02-20T19:25:41.738013Z",
     "iopub.status.idle": "2025-02-20T19:25:59.147486Z",
     "shell.execute_reply": "2025-02-20T19:25:59.146889Z",
     "shell.execute_reply.started": "2025-02-20T19:25:41.738419Z"
    }
   },
   "outputs": [
    {
     "name": "stderr",
     "output_type": "stream",
     "text": [
      "INFO:lsst.summit.utils.bestEffort:Instantiating butler with collections=['LATISS/raw/all', 'LATISS/calib', 'LATISS/runs/quickLook']\n",
      "INFO:lsst.summit.utils.bestEffort:Found a ready-made quickLookExp in the repo. Returning that.\n",
      "INFO:lsst.summit.utils.bestEffort:Found a ready-made quickLookExp in the repo. Returning that.\n"
     ]
    }
   ],
   "source": [
    "from lsst.summit.utils.bestEffort import BestEffortIsr\n",
    "bestEffort = BestEffortIsr(embargo=False)\n",
    "exposure_intra = bestEffort.getExposure(dataIdIntra)\n",
    "exposure_extra = bestEffort.getExposure(dataIdExtra)"
   ]
  },
  {
   "cell_type": "code",
   "execution_count": 4,
   "id": "3b0b1529-d042-491e-987c-27562479418f",
   "metadata": {
    "execution": {
     "iopub.execute_input": "2025-02-20T19:26:25.343655Z",
     "iopub.status.busy": "2025-02-20T19:26:25.343173Z",
     "iopub.status.idle": "2025-02-20T19:26:25.360466Z",
     "shell.execute_reply": "2025-02-20T19:26:25.360141Z",
     "shell.execute_reply.started": "2025-02-20T19:26:25.343638Z"
    }
   },
   "outputs": [],
   "source": [
    "from lsst.pipe.tasks.quickFrameMeasurement import QuickFrameMeasurementTask\n",
    "quick_frame_measurement_config = QuickFrameMeasurementTask.ConfigClass()\n",
    "quick_frame_measurement_task = QuickFrameMeasurementTask(\n",
    "    config=quick_frame_measurement_config\n",
    ")\n"
   ]
  },
  {
   "cell_type": "code",
   "execution_count": 5,
   "id": "13c6d786-87d8-48a2-9ac5-34650319f091",
   "metadata": {
    "execution": {
     "iopub.execute_input": "2025-02-20T19:26:30.129266Z",
     "iopub.status.busy": "2025-02-20T19:26:30.128941Z",
     "iopub.status.idle": "2025-02-20T19:26:30.132039Z",
     "shell.execute_reply": "2025-02-20T19:26:30.131624Z",
     "shell.execute_reply.started": "2025-02-20T19:26:30.129247Z"
    }
   },
   "outputs": [],
   "source": [
    "import numpy as np \n",
    "def side(_side = 192 * 1.1, dz=0.8) -> int:\n",
    "    # must be an even number\n",
    "    return int(np.ceil(_side * dz / 1.5 / 2.0) * 2)"
   ]
  },
  {
   "cell_type": "code",
   "execution_count": 6,
   "id": "99212a04-2540-4b99-b4fe-d094bc7e8f8b",
   "metadata": {
    "execution": {
     "iopub.execute_input": "2025-02-20T19:26:30.614316Z",
     "iopub.status.busy": "2025-02-20T19:26:30.613965Z",
     "iopub.status.idle": "2025-02-20T19:26:30.616606Z",
     "shell.execute_reply": "2025-02-20T19:26:30.616288Z",
     "shell.execute_reply.started": "2025-02-20T19:26:30.614299Z"
    }
   },
   "outputs": [],
   "source": [
    "donut_diameter=2*side()"
   ]
  },
  {
   "cell_type": "code",
   "execution_count": 7,
   "id": "427574ef-7395-4c7c-8684-22f246094946",
   "metadata": {
    "execution": {
     "iopub.execute_input": "2025-02-20T19:26:31.451512Z",
     "iopub.status.busy": "2025-02-20T19:26:31.451220Z",
     "iopub.status.idle": "2025-02-20T19:26:33.415047Z",
     "shell.execute_reply": "2025-02-20T19:26:33.414584Z",
     "shell.execute_reply.started": "2025-02-20T19:26:31.451496Z"
    }
   },
   "outputs": [
    {
     "name": "stderr",
     "output_type": "stream",
     "text": [
      "INFO:lsst.quickFrameMeasurementTask:Found 6 sources in exposure\n",
      "INFO:lsst.quickFrameMeasurementTask:Measured 6 of 6 sources in exposure\n",
      "INFO:lsst.quickFrameMeasurementTask:Found 13 sources in exposure\n",
      "INFO:lsst.quickFrameMeasurementTask:Measured 13 of 13 sources in exposure\n"
     ]
    }
   ],
   "source": [
    "\n",
    "result_intra = quick_frame_measurement_task.run(\n",
    "    exposure_intra, donutDiameter=donut_diameter\n",
    ")\n",
    "result_extra = quick_frame_measurement_task.run(\n",
    "    exposure_extra, donutDiameter=donut_diameter\n",
    ")"
   ]
  },
  {
   "cell_type": "markdown",
   "id": "cbd0fc8b-6336-4ea8-9b2d-8aa307068014",
   "metadata": {
    "execution": {
     "iopub.execute_input": "2025-02-20T00:19:28.390265Z",
     "iopub.status.busy": "2025-02-20T00:19:28.389922Z",
     "iopub.status.idle": "2025-02-20T00:19:28.393402Z",
     "shell.execute_reply": "2025-02-20T00:19:28.393017Z",
     "shell.execute_reply.started": "2025-02-20T00:19:28.390250Z"
    }
   },
   "source": [
    "\n",
    "Run parts of `latiss_wep_align`,  ensure that the output is compatible  with `cutOutDonuts` : "
   ]
  },
  {
   "cell_type": "code",
   "execution_count": 14,
   "id": "0567a5e0-e815-4834-9406-1b5ef31b7acf",
   "metadata": {
    "execution": {
     "iopub.execute_input": "2025-02-20T19:27:44.516307Z",
     "iopub.status.busy": "2025-02-20T19:27:44.515995Z",
     "iopub.status.idle": "2025-02-20T19:27:44.520990Z",
     "shell.execute_reply": "2025-02-20T19:27:44.520540Z",
     "shell.execute_reply.started": "2025-02-20T19:27:44.516289Z"
    }
   },
   "outputs": [],
   "source": [
    "from astropy.table import Table, QTable\n",
    "import astropy.units as u\n",
    "from lsst.ts.wep.task.generateDonutCatalogUtils import addVisitInfoToCatTable\n",
    "\n",
    "def get_donut_catalog(result, exposure ):#:wcs):# -> astropy.table.QTable:\n",
    "    \"\"\"Get the donut catalog, used by wep, from the quick frame measurement\n",
    "    result.\n",
    "\n",
    "    Parameters\n",
    "    ----------\n",
    "    result : `Struct`\n",
    "        Result of `QuickFrameMeasurementTask`.\n",
    "    wcs : `SkyWcs`\n",
    "        Exposure WCS, to compute Ra/Dec.\n",
    "\n",
    "    Returns\n",
    "    -------\n",
    "    donut_catalog : `pandas.DataFrame`\n",
    "        Donut catalog.\n",
    "    \"\"\"\n",
    "    wcs = exposure.getWcs()\n",
    "    ra, dec = wcs.pixelToSkyArray(\n",
    "        result.brightestObjCentroidCofM[0],\n",
    "        result.brightestObjCentroidCofM[1],\n",
    "        degrees=False,\n",
    "    )\n",
    "    donutTable = QTable()\n",
    "    donutTable[\"coord_ra\"] = ra * u.rad\n",
    "    donutTable[\"coord_dec\"] = dec * u.rad\n",
    "    donutTable[\"centroid_x\"] = [result.brightestObjCentroidCofM[0]] * u.pixel\n",
    "    donutTable[\"centroid_y\"] = [result.brightestObjCentroidCofM[1]] * u.pixel\n",
    "    donutTable[\"source_flux\"] = [result.brightestObjApFlux70] * u.nJy\n",
    "    donutTable.meta[\"blend_centroid_x\"] = \"\"\n",
    "    donutTable.meta[\"blend_centroid_y\"] = \"\"\n",
    "    donutTable.sort(\"source_flux\", reverse=True)\n",
    "    donut_catalog = addVisitInfoToCatTable(exposure, donutTable)\n",
    "    return donutTable"
   ]
  },
  {
   "cell_type": "code",
   "execution_count": 15,
   "id": "b72c478b-e6e8-493a-aa96-c55d171cd6d5",
   "metadata": {
    "execution": {
     "iopub.execute_input": "2025-02-20T19:27:45.433063Z",
     "iopub.status.busy": "2025-02-20T19:27:45.432760Z",
     "iopub.status.idle": "2025-02-20T19:27:45.438977Z",
     "shell.execute_reply": "2025-02-20T19:27:45.438458Z",
     "shell.execute_reply.started": "2025-02-20T19:27:45.433048Z"
    }
   },
   "outputs": [],
   "source": [
    "donut_catalog_intra = get_donut_catalog(result_intra, exposure_intra)\n",
    "donut_catalog_extra = get_donut_catalog(result_extra, exposure_extra)\n"
   ]
  },
  {
   "cell_type": "markdown",
   "id": "ba4ef5c0-623f-4330-abd1-54c8f48d64ae",
   "metadata": {},
   "source": [
    "That way donut catalog has metadata:"
   ]
  },
  {
   "cell_type": "code",
   "execution_count": 16,
   "id": "d80d389f-9ed5-4083-b2d7-a5f2d2cabf64",
   "metadata": {
    "execution": {
     "iopub.execute_input": "2025-02-20T19:27:47.394905Z",
     "iopub.status.busy": "2025-02-20T19:27:47.394564Z",
     "iopub.status.idle": "2025-02-20T19:27:47.401416Z",
     "shell.execute_reply": "2025-02-20T19:27:47.400968Z",
     "shell.execute_reply.started": "2025-02-20T19:27:47.394888Z"
    }
   },
   "outputs": [
    {
     "data": {
      "text/plain": [
       "{'boresight_ra': <Quantity 111.21219281 deg>,\n",
       " 'boresight_dec': <Quantity -19.01229339 deg>,\n",
       " 'boresight_alt': <Quantity 78.45859477 deg>,\n",
       " 'boresight_az': <Quantity 344.89117144 deg>,\n",
       " 'boresight_rot_angle': <Quantity 90.05036013 deg>,\n",
       " 'rot_type_name': 'SKY',\n",
       " 'rot_type_value': 1,\n",
       " 'boresight_par_angle': <Quantity 166.15592879 deg>,\n",
       " 'focus_z': <Quantity -0.80109996 mm>,\n",
       " 'mjd': 60403.98009460076,\n",
       " 'visit_id': 2024040300258,\n",
       " 'instrument_label': 'LATISS',\n",
       " 'observatory_elevation': <Quantity 2663.0051116 m>,\n",
       " 'observatory_latitude': <Quantity -30.24478892 deg>,\n",
       " 'observatory_longitude': <Quantity -70.74768621 deg>,\n",
       " 'ERA': <Quantity 185.15247663 deg>,\n",
       " 'exposure_time': <Quantity 30. s>}"
      ]
     },
     "execution_count": 16,
     "metadata": {},
     "output_type": "execute_result"
    }
   ],
   "source": [
    "donut_catalog_intra.meta[\"visit_info\"]"
   ]
  },
  {
   "cell_type": "code",
   "execution_count": 17,
   "id": "01a8b424-4d1e-40a9-b2b1-3a7f7ca8eeb3",
   "metadata": {
    "execution": {
     "iopub.execute_input": "2025-02-20T19:28:02.578698Z",
     "iopub.status.busy": "2025-02-20T19:28:02.578501Z",
     "iopub.status.idle": "2025-02-20T19:28:02.581776Z",
     "shell.execute_reply": "2025-02-20T19:28:02.581275Z",
     "shell.execute_reply.started": "2025-02-20T19:28:02.578684Z"
    }
   },
   "outputs": [],
   "source": [
    "from lsst.ts.wep.task.calcZernikesTask import (\n",
    "    CalcZernikesTask,\n",
    "    CalcZernikesTaskConfig,\n",
    ")\n",
    "from lsst.ts.wep.task.cutOutDonutsScienceSensorTask import (\n",
    "    CutOutDonutsScienceSensorTask,\n",
    "    CutOutDonutsScienceSensorTaskConfig,\n",
    ")"
   ]
  },
  {
   "cell_type": "code",
   "execution_count": 18,
   "id": "eb6cace2-181a-40eb-a554-f4eedbef12c4",
   "metadata": {
    "execution": {
     "iopub.execute_input": "2025-02-20T19:28:02.928448Z",
     "iopub.status.busy": "2025-02-20T19:28:02.928137Z",
     "iopub.status.idle": "2025-02-20T19:28:02.933697Z",
     "shell.execute_reply": "2025-02-20T19:28:02.933303Z",
     "shell.execute_reply.started": "2025-02-20T19:28:02.928431Z"
    }
   },
   "outputs": [],
   "source": [
    "cut_out_config = CutOutDonutsScienceSensorTaskConfig()\n",
    "cut_out_config.donutStampSize = donut_diameter\n",
    "cut_out_config.opticalModel = \"onAxis\"\n",
    "cut_out_config.initialCutoutPadding = 40\n",
    "cut_out_task = CutOutDonutsScienceSensorTask(config=cut_out_config)\n"
   ]
  },
  {
   "cell_type": "code",
   "execution_count": 19,
   "id": "342deab8-a941-4f65-8060-3cb6df6ca1a6",
   "metadata": {
    "execution": {
     "iopub.execute_input": "2025-02-20T19:28:07.403956Z",
     "iopub.status.busy": "2025-02-20T19:28:07.403651Z",
     "iopub.status.idle": "2025-02-20T19:28:07.409313Z",
     "shell.execute_reply": "2025-02-20T19:28:07.408824Z",
     "shell.execute_reply.started": "2025-02-20T19:28:07.403941Z"
    }
   },
   "outputs": [
    {
     "data": {
      "text/html": [
       "<div><i>QTable length=1</i>\n",
       "<table id=\"table139967857191376\" class=\"table-striped table-bordered table-condensed\">\n",
       "<thead><tr><th>coord_ra</th><th>coord_dec</th><th>centroid_x</th><th>centroid_y</th><th>source_flux</th></tr></thead>\n",
       "<thead><tr><th>rad</th><th>rad</th><th>pix</th><th>pix</th><th>nJy</th></tr></thead>\n",
       "<thead><tr><th>float64</th><th>float64</th><th>float64</th><th>float64</th><th>float64</th></tr></thead>\n",
       "<tr><td>1.9410281820183282</td><td>-0.33183933400997156</td><td>2118.2924057571972</td><td>2026.0640304914314</td><td>165058733.70458984</td></tr>\n",
       "</table></div>"
      ],
      "text/plain": [
       "<QTable length=1>\n",
       "     coord_ra           coord_dec       ...    source_flux    \n",
       "       rad                 rad          ...        nJy        \n",
       "     float64             float64        ...      float64      \n",
       "------------------ -------------------- ... ------------------\n",
       "1.9410281820183282 -0.33183933400997156 ... 165058733.70458984"
      ]
     },
     "execution_count": 19,
     "metadata": {},
     "output_type": "execute_result"
    }
   ],
   "source": [
    "donut_catalog_extra"
   ]
  },
  {
   "cell_type": "code",
   "execution_count": 20,
   "id": "29136135-8631-45ef-8380-3fb7ae91c463",
   "metadata": {
    "execution": {
     "iopub.execute_input": "2025-02-20T19:28:10.922045Z",
     "iopub.status.busy": "2025-02-20T19:28:10.921486Z",
     "iopub.status.idle": "2025-02-20T19:28:13.541323Z",
     "shell.execute_reply": "2025-02-20T19:28:13.540894Z",
     "shell.execute_reply.started": "2025-02-20T19:28:10.922028Z"
    }
   },
   "outputs": [
    {
     "name": "stderr",
     "output_type": "stream",
     "text": [
      "INFO:lsst.CutOutDonutsScienceSensorTask:Median Recentering Shift: (0.0, 2.0)\n",
      "/sdf/data/rubin/user/scichris/WORK/aos_packages/ts_wep/python/lsst/ts/wep/task/cutOutDonutsBase.py:369: RuntimeWarning: Mean of empty slice.\n",
      "  signalMean = imageArray[donutMask].mean()  # per pixel\n",
      "/sdf/group/rubin/sw/conda/envs/lsst-scipipe-9.0.0/lib/python3.11/site-packages/numpy/core/_methods.py:129: RuntimeWarning: invalid value encountered in divide\n",
      "  ret = ret.dtype.type(ret / rcount)\n",
      "/sdf/data/rubin/user/scichris/WORK/aos_packages/ts_wep/python/lsst/ts/wep/task/cutOutDonutsBase.py:419: RuntimeWarning: invalid value encountered in scalar divide\n",
      "  sn = ttlSignalSum / ttlNoiseBkgndVariance\n",
      "WARNING:lsst.CutOutDonutsScienceSensorTask:Missing variance plane;     using the variance of image background for noise estimate.\n",
      "INFO:lsst.CutOutDonutsScienceSensorTask:Median Recentering Shift: (1.0, -2.0)\n",
      "/sdf/data/rubin/user/scichris/WORK/aos_packages/ts_wep/python/lsst/ts/wep/task/cutOutDonutsBase.py:369: RuntimeWarning: Mean of empty slice.\n",
      "  signalMean = imageArray[donutMask].mean()  # per pixel\n",
      "/sdf/group/rubin/sw/conda/envs/lsst-scipipe-9.0.0/lib/python3.11/site-packages/numpy/core/_methods.py:129: RuntimeWarning: invalid value encountered in divide\n",
      "  ret = ret.dtype.type(ret / rcount)\n",
      "/sdf/data/rubin/user/scichris/WORK/aos_packages/ts_wep/python/lsst/ts/wep/task/cutOutDonutsBase.py:419: RuntimeWarning: invalid value encountered in scalar divide\n",
      "  sn = ttlSignalSum / ttlNoiseBkgndVariance\n"
     ]
    }
   ],
   "source": [
    "from lsst.obs.lsst import Latiss\n",
    "camera = Latiss.getCamera()\n",
    "\n",
    "cut_out_output = cut_out_task.run(\n",
    "    [exposure_extra, exposure_intra],\n",
    "    [donut_catalog_extra, donut_catalog_intra],\n",
    "    camera,\n",
    ")"
   ]
  },
  {
   "cell_type": "code",
   "execution_count": 21,
   "id": "20413328-38c3-488b-b5eb-bd3055e489f8",
   "metadata": {
    "execution": {
     "iopub.execute_input": "2025-02-20T19:28:15.340769Z",
     "iopub.status.busy": "2025-02-20T19:28:15.340432Z",
     "iopub.status.idle": "2025-02-20T19:28:19.046146Z",
     "shell.execute_reply": "2025-02-20T19:28:19.045637Z",
     "shell.execute_reply.started": "2025-02-20T19:28:15.340753Z"
    }
   },
   "outputs": [
    {
     "name": "stderr",
     "output_type": "stream",
     "text": [
      "INFO:CombineZernikesSigmaClipTask:MaxZernClip config: 3. MaxZernClip used: 3.\n",
      "INFO:CombineZernikesSigmaClipTask:Using 1 pairs out of 1 in final Zernike estimate.\n"
     ]
    }
   ],
   "source": [
    "config = CalcZernikesTaskConfig()\n",
    "config.doDonutStampSelector = False\n",
    "task = CalcZernikesTask(config=config, name=\"Base Task\")\n",
    "\n",
    "task_output = task.run(\n",
    "    cut_out_output.donutStampsExtra, cut_out_output.donutStampsIntra\n",
    ")"
   ]
  },
  {
   "cell_type": "code",
   "execution_count": 22,
   "id": "299ab5e6-9e0e-4f7f-b772-acffdcbe974c",
   "metadata": {
    "execution": {
     "iopub.execute_input": "2025-02-20T19:28:19.047102Z",
     "iopub.status.busy": "2025-02-20T19:28:19.046961Z",
     "iopub.status.idle": "2025-02-20T19:28:19.052817Z",
     "shell.execute_reply": "2025-02-20T19:28:19.052403Z",
     "shell.execute_reply.started": "2025-02-20T19:28:19.047089Z"
    }
   },
   "outputs": [
    {
     "data": {
      "text/plain": [
       "Struct(outputZernikesAvg=[[ 0.05152419  0.05700915 -0.16035153 -0.00609559  0.0222052  -0.06402742\n",
       "  -0.00109236  0.00504777  0.0085272   0.00291786  0.02218127 -0.015191\n",
       "   0.00267969 -0.00093012 -0.00057789 -0.00398313  0.00635297 -0.01819257\n",
       "   0.00978391 -0.00179852 -0.00287736  0.00496533 -0.0028662  -0.01952071\n",
       "  -0.01028967]]; outputZernikesRaw=[[ 0.05152419  0.05700915 -0.16035153 -0.00609559  0.0222052  -0.06402742\n",
       "  -0.00109236  0.00504777  0.0085272   0.00291786  0.02218127 -0.015191\n",
       "   0.00267969 -0.00093012 -0.00057789 -0.00398313  0.00635297 -0.01819257\n",
       "   0.00978391 -0.00179852 -0.00287736  0.00496533 -0.0028662  -0.01952071\n",
       "  -0.01028967]]; zernikes= label  used ...         Z27                 Z28        \n",
       "             ...          nm                  nm        \n",
       "------- ---- ... ------------------- -------------------\n",
       "average True ... -19.520708084106445 -10.289671897888184\n",
       "  pair1 True ... -19.520708084106445 -10.289671897888184; donutQualityTable=<No columns>)"
      ]
     },
     "execution_count": 22,
     "metadata": {},
     "output_type": "execute_result"
    }
   ],
   "source": [
    "task_output"
   ]
  },
  {
   "cell_type": "code",
   "execution_count": null,
   "id": "0bd2ddcf-86b1-4e5d-bc56-0f94bc8af330",
   "metadata": {},
   "outputs": [],
   "source": []
  }
 ],
 "metadata": {
  "kernelspec": {
   "display_name": "LSST",
   "language": "python",
   "name": "lsst"
  },
  "language_info": {
   "codemirror_mode": {
    "name": "ipython",
    "version": 3
   },
   "file_extension": ".py",
   "mimetype": "text/x-python",
   "name": "python",
   "nbconvert_exporter": "python",
   "pygments_lexer": "ipython3",
   "version": "3.11.9"
  }
 },
 "nbformat": 4,
 "nbformat_minor": 5
}
