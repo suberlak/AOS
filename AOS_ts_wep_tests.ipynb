{
 "cells": [
  {
   "cell_type": "markdown",
   "metadata": {},
   "source": [
    "# AOS_ts_wep_tests"
   ]
  },
  {
   "cell_type": "markdown",
   "metadata": {},
   "source": [
    "Re-doing tests for ts_wep:\n",
    "\n",
    "[wepControllerMonolithicEimg](#wepControllerMonolithicEimgwepControllerMonolithicEimg)\n",
    "\n",
    "[wEPCalculation](#wEPCalculation)\n",
    "\n",
    "[camIsrWrapper](#camIsrWrapper)\n",
    "\n",
    "[butlerWrapper](#butlerWrapper)\n",
    "\n",
    "[sourceProcessor](#sourceProcessor)\n",
    "\n",
    "\n",
    "\n"
   ]
  },
  {
   "cell_type": "markdown",
   "metadata": {},
   "source": [
    "What gains were used for the comcam amp images created for these tests : "
   ]
  },
  {
   "cell_type": "code",
   "execution_count": 52,
   "metadata": {},
   "outputs": [],
   "source": [
    "from astropy.io import fits\n",
    "hdul = fits.open('/project/scichris/aos/ts_wep/tests/testData/\\\n",
    "phosimOutput/realComCam/repackagedFiles/extra/MC_H_20211231_006001_R22_S10.fits')\n"
   ]
  },
  {
   "cell_type": "code",
   "execution_count": 53,
   "metadata": {},
   "outputs": [
    {
     "data": {
      "text/plain": [
       "1.11531"
      ]
     },
     "execution_count": 53,
     "metadata": {},
     "output_type": "execute_result"
    }
   ],
   "source": [
    "hdul[1].header['GAIN']"
   ]
  },
  {
   "cell_type": "code",
   "execution_count": 55,
   "metadata": {},
   "outputs": [
    {
     "data": {
      "text/plain": [
       "'C10'"
      ]
     },
     "execution_count": 55,
     "metadata": {},
     "output_type": "execute_result"
    }
   ],
   "source": [
    "hdul[1].header['AMPID']"
   ]
  },
  {
   "cell_type": "code",
   "execution_count": 56,
   "metadata": {},
   "outputs": [
    {
     "name": "stdout",
     "output_type": "stream",
     "text": [
      "1.11038\n"
     ]
    }
   ],
   "source": [
    "# this is printing the master obs_lsst values :\n",
    "from lsst.obs.lsst import LsstCam\n",
    "camera = LsstCam().getCamera()\n",
    "detector = camera['R22_S10']\n",
    "amp = detector['C10']\n",
    "print(amp.getGain())"
   ]
  },
  {
   "cell_type": "code",
   "execution_count": 58,
   "metadata": {},
   "outputs": [],
   "source": [
    "# whereas if I make sure that we're using the \n",
    "# DM-28553 ticket values from obs_lsst, \n",
    "# i.e. \n",
    "# cd /project/scichris/dev/obs_lsst\n",
    "# setup -k -r . \n",
    "\n",
    "# But it's good to know that the tests also pass when\n",
    "# using the master branch obs_lsst, \n",
    "# since  they;re only using R22,  where the difference in gain is very small ... \n"
   ]
  },
  {
   "cell_type": "markdown",
   "metadata": {},
   "source": [
    "# `test_wepControllerMonolithic.py`\n"
   ]
  },
  {
   "cell_type": "code",
   "execution_count": 28,
   "metadata": {},
   "outputs": [],
   "source": [
    "\n",
    "import os\n",
    "import numpy as np\n",
    "\n",
    "import tempfile\n",
    "import unittest\n",
    "\n",
    "from lsst.ts.wep.bsc.BaseBscTestCase import BaseBscTestCase\n",
    "from lsst.ts.wep.cwfs.Tool import ZernikeAnnularFit\n",
    "from lsst.ts.wep.CamDataCollector import CamDataCollector\n",
    "from lsst.ts.wep.CamIsrWrapper import CamIsrWrapper\n",
    "from lsst.ts.wep.SourceProcessor import SourceProcessor\n",
    "from lsst.ts.wep.SourceSelector import SourceSelector\n",
    "from lsst.ts.wep.WfEstimator import WfEstimator\n",
    "from lsst.ts.wep.WepController import WepController\n",
    "\n",
    "from lsst.ts.wep.Utility import (\n",
    "    getModulePath,\n",
    "    FilterType,\n",
    "    CamType,\n",
    "    BscDbType,\n",
    "    runProgram,\n",
    "    getConfigDir,\n",
    "    getAmpImagesFromDir\n",
    ")"
   ]
  },
  {
   "cell_type": "code",
   "execution_count": 59,
   "metadata": {},
   "outputs": [],
   "source": [
    "import os\n",
    "import shutil\n",
    "import tempfile\n",
    "\n",
    "from lsst.ts.wep.Utility import getModulePath\n",
    "\n",
    "# def setUp(self): \n",
    "\n",
    "# `ts/wep/bsc/BaseBscTestCase.py    : \n",
    "\n",
    "#createBscTest() \n",
    "\"\"\"Create the bright star catalog (BSC) used in the test.\"\"\"\n",
    "# Create a temporary test directory\n",
    "testDir = os.path.join(getModulePath(), \"tests\")\n",
    "_tempDir = tempfile.TemporaryDirectory(dir=testDir)\n",
    "\n",
    "# Copy the db3 database\n",
    "dbAdressSrc = os.path.join(testDir, \"testData\", \"bsc.db3\")\n",
    "_dbAdress = os.path.join(_tempDir.name, \"bsc.db3\")\n",
    "        \n",
    "shutil.copy(dbAdressSrc,_dbAdress)\n",
    "\n",
    "\n",
    "# def setUp(self): \n",
    "modulePath = getModulePath()\n",
    "\n",
    "testDir = os.path.join(modulePath, \"tests\")\n",
    "dataDir = tempfile.TemporaryDirectory(dir=testDir)\n",
    "isrDir = tempfile.TemporaryDirectory(dir=dataDir.name)\n",
    "opdDir = os.path.join(modulePath, \"tests\", \"testData\", \"opdOutput\", \"9006000\")\n",
    "\n",
    "# Configure the WEP components\n",
    "dataCollector = CamDataCollector(isrDir.name)\n",
    "isrWrapper = CamIsrWrapper(isrDir.name)\n",
    "\n",
    "def _configSourceSelector(_dbAdress):\n",
    "\n",
    "    sourSelc = SourceSelector(CamType.ComCam, BscDbType.LocalDbForStarFile)\n",
    "\n",
    "    # Set the criteria of neighboring stars\n",
    "    starRadiusInPixel = 63\n",
    "    spacingCoefficient = 2.5\n",
    "    maxNeighboringStar = 1\n",
    "    sourSelc.configNbrCriteria(\n",
    "        starRadiusInPixel, spacingCoefficient, maxNeighboringStar=maxNeighboringStar\n",
    "    )\n",
    "\n",
    "    # Connect the database\n",
    "    sourSelc.connect(_dbAdress)\n",
    "\n",
    "    return sourSelc\n",
    "\n",
    "sourSelc = _configSourceSelector(_dbAdress)\n",
    "\n",
    "sourProc = SourceProcessor()\n",
    "\n",
    "def _configWfEstimator():\n",
    "\n",
    "    cwfsConfigDir = os.path.join(getConfigDir(), \"cwfs\")\n",
    "    instDir = os.path.join(cwfsConfigDir, \"instData\")\n",
    "    algoDir = os.path.join(cwfsConfigDir, \"algo\")\n",
    "    wfEsti = WfEstimator(instDir, algoDir)\n",
    "\n",
    "    # Use the comcam to calculate the LSST central raft image\n",
    "    # with 1.5 mm defocal distance\n",
    "    wfEsti.config(\n",
    "        solver=\"exp\",\n",
    "        camType=CamType.ComCam,\n",
    "        opticalModel=\"offAxis\",\n",
    "        defocalDisInMm=1.5,\n",
    "        sizeInPix=160,\n",
    "        debugLevel=0,\n",
    "    )\n",
    "\n",
    "    return wfEsti\n",
    "wfEsti = _configWfEstimator()\n",
    "\n",
    "# Instantiate the WEP controller\n",
    "wepCntlr = WepController(\n",
    "    dataCollector, isrWrapper, sourSelc, sourProc, wfEsti\n",
    ")\n",
    "\n",
    "# Intemediate data used in the test\n",
    "_filter = FilterType.REF\n",
    "neighborStarMap = dict()\n",
    "starMap = dict()\n",
    "wavefrontSensors = dict()\n",
    "\n",
    "wfsImgMap = dict()\n",
    "donutMap = dict()\n",
    "masterDonutMap = dict()\n",
    "\n",
    "#def step1_genCalibsAndIngest(dataDir):\n",
    "\n",
    "def _makeFakeFlat( detector):\n",
    "    command = \"makeGainImages.py\"\n",
    "    argstring = \"--detector_list %s\" % detector\n",
    "    runProgram(command, argstring=argstring)\n",
    "    \n",
    "def _genFakeFlat( fakeFlatDir, detector):\n",
    "    currWorkDir = os.getcwd()\n",
    "    os.chdir(fakeFlatDir)\n",
    "    _makeFakeFlat(detector)\n",
    "    os.chdir(currWorkDir)\n",
    "\n",
    "\n",
    "# Generate the fake flat images\n",
    "fakeFlatDir = tempfile.TemporaryDirectory(dir=dataDir.name)\n",
    "\n",
    "detector = \"R22_S11 R22_S10\"\n",
    "_genFakeFlat(fakeFlatDir.name, detector)\n",
    "\n",
    "# Generate the LsstCam mapper\n",
    "wepCntlr.getDataCollector().genLsstCamMapper()\n",
    "\n",
    "# Do the ingestion\n",
    "calibFiles = os.path.join(fakeFlatDir.name, \"*\")\n",
    "wepCntlr.getDataCollector().ingestCalibs(calibFiles)\n",
    "\n",
    "\n",
    "#def step2_ingestExp():\n",
    "# from WEPCalculation.py \n",
    "for defocalType in ['intra','extra']:\n",
    "    \n",
    "    defocalImgDir = os.path.join(\n",
    "            getModulePath(),\n",
    "            \"tests\",\n",
    "            \"testData\",\n",
    "            \"phosimOutput\",\n",
    "            \"realComCam\",\n",
    "            \"repackagedFiles\",\n",
    "            defocalType,\n",
    "        )\n",
    "    #print(defocalType)\n",
    "    \n",
    "    ampFiles = getAmpImagesFromDir(defocalImgDir)\n",
    "\n",
    "    rawImgFiles = \" \"\n",
    "    for ampFile in ampFiles:\n",
    "        rawImgFiles += ' %s'%os.path.join(defocalImgDir, ampFile)\n",
    "        \n",
    "    #print('\\n ingestImages.py', rawImgFiles)\n",
    "    wepCntlr.getDataCollector().ingestImages(rawImgFiles)\n"
   ]
  },
  {
   "cell_type": "code",
   "execution_count": 62,
   "metadata": {},
   "outputs": [],
   "source": [
    "#def step3_doIsr(self):\n",
    "\n",
    "fileName = \"isr_config.py\"\n",
    "wepCntlr.getIsrWrapper().config(\n",
    "    doFlat=True, doOverscan=True, fileName=fileName\n",
    ")\n",
    "\n",
    "rerunName = \"run1\"\n",
    "wepCntlr.getIsrWrapper().doISR(isrDir.name, rerunName=rerunName)\n"
   ]
  },
  {
   "cell_type": "markdown",
   "metadata": {},
   "source": [
    "Show the post ISR image to make sure all went well..."
   ]
  },
  {
   "cell_type": "code",
   "execution_count": 63,
   "metadata": {},
   "outputs": [
    {
     "data": {
      "text/plain": [
       "'/project/scichris/aos/ts_wep/tests/tmp4krzut0t/tmp7m5iq4_o'"
      ]
     },
     "execution_count": 63,
     "metadata": {},
     "output_type": "execute_result"
    }
   ],
   "source": [
    "isrDir.name"
   ]
  },
  {
   "cell_type": "code",
   "execution_count": 64,
   "metadata": {},
   "outputs": [
    {
     "data": {
      "image/png": "[encoded data removed]",
      "text/plain": [
       "<Figure size 720x360 with 2 Axes>"
      ]
     },
     "metadata": {
      "needs_background": "light"
     },
     "output_type": "display_data"
    }
   ],
   "source": [
    "# \n",
    "import os\n",
    "%matplotlib inline\n",
    "import matplotlib.pyplot as plt\n",
    "import lsst.daf.persistence as dafPersist\n",
    "dataRoot=isrDir.name\n",
    "repoRoot = os.path.join(dataRoot, 'rerun/run1') \n",
    "postISRbutler = dafPersist.Butler(repoRoot, )\n",
    "ccd_image = {}\n",
    "for sensor in ['S11','S10']:\n",
    "    dataId = dict(run='9006001', visit=4021123106001, raftName='R22', detectorName=sensor)\n",
    "    exposure = postISRbutler.get('postISRCCD', **dataId) \n",
    "    image = exposure.image.array\n",
    "    ccd_image[sensor]=image\n",
    "    \n",
    "fig,ax = plt.subplots(1,2,figsize=(10,5))\n",
    "\n",
    "i = 0 \n",
    "for sensor in ccd_image.keys():\n",
    "    ax[i].imshow(ccd_image[sensor],vmax=800)\n",
    "    ax[i].set_title(sensor)\n",
    "    i += 1 "
   ]
  },
  {
   "cell_type": "markdown",
   "metadata": {},
   "source": [
    "These look good, so lets continue : "
   ]
  },
  {
   "cell_type": "code",
   "execution_count": 65,
   "metadata": {},
   "outputs": [],
   "source": [
    "#def step4_setButlerInputsPath(self):\n",
    "inputs = os.path.join(isrDir.name, \"rerun\", \"run1\")\n",
    "wepCntlr.setPostIsrCcdInputs(inputs)\n",
    "\n",
    "\n",
    "#    def step5_getTargetStar(self):\n",
    "\n",
    "# Set the observation meta data\n",
    "ra = 0.0\n",
    "dec = 0.0\n",
    "rotSkyPos = 0.0\n",
    "wepCntlr.getSourSelc().setObsMetaData(ra, dec, rotSkyPos)\n",
    "\n",
    "# Set the filter\n",
    "wepCntlr.getSourSelc().setFilter(_filter)\n",
    "\n",
    "# Get the target star by file\n",
    "skyFilePath = os.path.join(modulePath, \"tests\",\"testData\",\"phosimOutput\",\"realComCam\",\"skyComCamInfo.txt\",)\n",
    "\n",
    "(neighborStarMap,starMap,wavefrontSensors) = wepCntlr.getSourSelc().getTargetStarByFile(skyFilePath, offset=0)\n",
    "\n",
    "\n",
    "# Do the assertion\n",
    "#self.assertEqual(len(neighborStarMap), 2)\n",
    "#self.assertEqual(len(starMap), 2)\n",
    "#self.assertEqual(len(wavefrontSensors), 2)"
   ]
  },
  {
   "cell_type": "code",
   "execution_count": 66,
   "metadata": {},
   "outputs": [],
   "source": [
    "#def step6_getPostIsrDefocalImgMap(self):\n",
    "\n",
    "sensorNameList = list(wavefrontSensors)\n",
    "\n",
    "intraObsId = 9006002\n",
    "extraObsId = 9006001\n",
    "obsIdList = [intraObsId, extraObsId]\n",
    "\n",
    "wfsImgMap = wepCntlr.getPostIsrImgMapByPistonDefocal(sensorNameList, obsIdList)\n",
    "\n",
    "# Assign the data for the following steps to use\n",
    "#wfsImgMap = wfsImgMap\n",
    "\n",
    "# Do the assertion\n",
    "#assertEqual(len(wfsImgMap), 2)ame\n"
   ]
  },
  {
   "cell_type": "code",
   "execution_count": 36,
   "metadata": {},
   "outputs": [],
   "source": []
  },
  {
   "cell_type": "code",
   "execution_count": 67,
   "metadata": {},
   "outputs": [],
   "source": [
    "def _getZkInNmFromOpd( opdId,opdDir):\n",
    "\n",
    "    # Get the OPD data\n",
    "    opdFileName = \"opd_9006000_%d.fits.gz\" % opdId\n",
    "    opdFitsFile = os.path.join(opdDir, opdFileName)\n",
    "    opd = fits.getdata(opdFitsFile)\n",
    "\n",
    "    # Get x-, y-coordinate in the OPD image\n",
    "    opdSize = opd.shape[0]\n",
    "    opdGrid1d = np.linspace(-1, 1, opdSize)\n",
    "    opdx, opdy = np.meshgrid(opdGrid1d, opdGrid1d)\n",
    "\n",
    "    # Fit the OPD map with Zk\n",
    "    idx = opd != 0\n",
    "    znTerms = 22\n",
    "    obscuration = 0.61\n",
    "    zk = ZernikeAnnularFit(opd[idx], opdx[idx], opdy[idx], znTerms, obscuration)\n",
    "\n",
    "    # Return the unit in nm (the unit in OPD is um)\n",
    "    return zk * 1e3"
   ]
  },
  {
   "cell_type": "code",
   "execution_count": 68,
   "metadata": {},
   "outputs": [
    {
     "ename": "KeyError",
     "evalue": "'R22_S11'",
     "output_type": "error",
     "traceback": [
      "\u001b[0;31m---------------------------------------------------------------------------\u001b[0m",
      "\u001b[0;31mKeyError\u001b[0m                                  Traceback (most recent call last)",
      "\u001b[0;32m<ipython-input-68-c9ba9e1da0c7>\u001b[0m in \u001b[0;36m<module>\u001b[0;34m\u001b[0m\n\u001b[1;32m      1\u001b[0m \u001b[0;31m# Compare with OPD\u001b[0m\u001b[0;34m\u001b[0m\u001b[0;34m\u001b[0m\u001b[0;34m\u001b[0m\u001b[0m\n\u001b[1;32m      2\u001b[0m \u001b[0mdonutList\u001b[0m \u001b[0;34m=\u001b[0m \u001b[0;34m[\u001b[0m\u001b[0;34m]\u001b[0m\u001b[0;34m\u001b[0m\u001b[0;34m\u001b[0m\u001b[0m\n\u001b[0;32m----> 3\u001b[0;31m \u001b[0mdonutList\u001b[0m\u001b[0;34m.\u001b[0m\u001b[0mextend\u001b[0m\u001b[0;34m(\u001b[0m\u001b[0mdonutMap\u001b[0m\u001b[0;34m[\u001b[0m\u001b[0;34m\"R22_S11\"\u001b[0m\u001b[0;34m]\u001b[0m\u001b[0;34m)\u001b[0m\u001b[0;34m\u001b[0m\u001b[0;34m\u001b[0m\u001b[0m\n\u001b[0m\u001b[1;32m      4\u001b[0m \u001b[0mdonutList\u001b[0m\u001b[0;34m.\u001b[0m\u001b[0mextend\u001b[0m\u001b[0;34m(\u001b[0m\u001b[0mdonutMap\u001b[0m\u001b[0;34m[\u001b[0m\u001b[0;34m\"R22_S10\"\u001b[0m\u001b[0;34m]\u001b[0m\u001b[0;34m)\u001b[0m\u001b[0;34m\u001b[0m\u001b[0;34m\u001b[0m\u001b[0m\n\u001b[1;32m      5\u001b[0m \u001b[0;34m\u001b[0m\u001b[0m\n",
      "\u001b[0;31mKeyError\u001b[0m: 'R22_S11'"
     ]
    }
   ],
   "source": [
    "# Compare with OPD\n",
    "donutList = []\n",
    "donutList.extend(donutMap[\"R22_S11\"])\n",
    "donutList.extend(donutMap[\"R22_S10\"])\n",
    "\n",
    "for aId in range(4):\n",
    "    wfErr = donutList[aId].getWfErr()\n",
    "    zkOfOpd = _getZkInNmFromOpd(aId,opdDir)[3:]\n",
    "    delta = np.abs(wfErr[7] - zkOfOpd[7])\n",
    "    print(delta)\n",
    "    #self.assertLess(delta, 5)"
   ]
  },
  {
   "cell_type": "code",
   "execution_count": null,
   "metadata": {},
   "outputs": [],
   "source": [
    "fig,ax  = plt.subplots(1,2,figsize=(12,4))\n",
    "j = 0 \n",
    "for sensor in donutMap.keys():\n",
    "    for i in range(2):\n",
    "        donut = donutMap[sensor][i]\n",
    "        wfErr = donut.getWfErr()\n",
    "        print(wfErr.argmax(), wfErr.max())\n",
    "        aId = j\n",
    "        print(sensor,aId)\n",
    "        zkOfOpd = _getZkInNmFromOpd(aId,opdDir)[3:]\n",
    "        ax[j].plot(wfErr-zkOfOpd,'-o')#marker='c')\n",
    "\n",
    "    ax[j].set_title(sensor)\n",
    "    ax[j].set_ylabel('wfErr')\n",
    "    ax[j].set_xlabel('Zernike')\n",
    "    j += 1 \n",
    " "
   ]
  },
  {
   "cell_type": "code",
   "execution_count": null,
   "metadata": {},
   "outputs": [],
   "source": [
    "#def step8b_calcAvgWfErrOnSglCcd(self):\n",
    "\n",
    "avgErrMap = dict()\n",
    "for sensor, donutList in donutMap.items():\n",
    "    avgErr = wepCntlr.calcAvgWfErrOnSglCcd(donutList)\n",
    "    avgErrMap[sensor] = avgErr\n",
    "    print(avgErr)\n",
    "    print(avgErr.argmax(), avgErr.max())\n",
    "    # Do the assertion\n",
    "    #self.assertEqual(avgErr.argmax(), 2)\n",
    "    #self.assertGreater(avgErr.max(), 100)\n",
    "\n"
   ]
  },
  {
   "cell_type": "code",
   "execution_count": null,
   "metadata": {},
   "outputs": [],
   "source": [
    "# Compare with the central OPD\n",
    "wfErrOnR22S11 = avgErrMap[\"R22_S11\"]\n",
    "zkOfOpdOnR22S11 = _getZkInNmFromOpd(4,opdDir)[3:]\n",
    "deltaOnR22S11 = np.abs(wfErrOnR22S11[7] - zkOfOpdOnR22S11[7])\n",
    "print(deltaOnR22S11)\n",
    "#self.assertLess(deltaOnR22S11, 5)\n",
    "\n",
    "wfErrOnR22S10 = avgErrMap[\"R22_S10\"]\n",
    "zkOfOpdOnR22S10 = _getZkInNmFromOpd(5,opdDir)[3:]\n",
    "deltaOnR22S10 = np.abs(wfErrOnR22S10[7] - zkOfOpdOnR22S10[7])\n",
    "print(deltaOnR22S10)\n",
    "#self.assertLess(deltaOnR22S10, 5)\n",
    "\n",
    "\n",
    "#def step9a_genMasterDonut(self):\n",
    "\n",
    "masterDonutMap = wepCntlr.genMasterDonut(donutMap, zcCol=np.zeros(22))\n",
    "\n",
    "# Do the assertion\n",
    "print(len(masterDonutMap))\n",
    "#self.assertEqual(len(self.masterDonutMap), 2)\n",
    "\n",
    "for sensor, masterDonutList in masterDonutMap.items():\n",
    "    #self.assertEqual(len(masterDonutList), 1)\n",
    "    print(len(masterDonutList))\n",
    "\n",
    "#def step9b_calcWfErrOfMasterDonut(self):\n",
    "\n",
    "masterDonutMap = wepCntlr.calcWfErr(masterDonutMap)\n",
    "\n",
    "masterDonutList = masterDonutMap[\"R22_S11\"]\n",
    "wfErr = masterDonutList[0].getWfErr()\n",
    "\n",
    "# Do the assertion\n",
    "print(wfErr.argmax(), wfErr.max())\n",
    "#self.assertEqual(wfErr.argmax(), 2)\n",
    "#self.assertGreater(wfErr.max(), 100)\n",
    "\n",
    "# Compare with the central OPD\n",
    "zkOfOpdOnR22S11 = _getZkInNmFromOpd(4,opdDir)[3:]\n",
    "deltaOnR22S11 = np.abs(wfErr[7] - zkOfOpdOnR22S11[7])\n",
    "#self.assertLess(deltaOnR22S11, 30)\n",
    "print(deltaOnR22S11)"
   ]
  },
  {
   "cell_type": "code",
   "execution_count": null,
   "metadata": {},
   "outputs": [],
   "source": []
  },
  {
   "cell_type": "markdown",
   "metadata": {},
   "source": [
    "# `test_wepControllerMonolithicEimg_NEW.py` <a id='wepControllerMonolithicEimg'></a>\n",
    "\n",
    "Run the loop to use ts_wep stars and make e-images...\n",
    "\n",
    "    python bin.src/imgCloseLoop.py --inst comcam --numOfProc 25 --boresightDeg 0.0  0.0 --skyFile /project/scichris/aos/ts_wep/tests/testData/phosimOutput/realComCam/skyComCamInfo.txt --output /project/scichris/aos/segmentation_update/comcam/imgCloseLoop_wepEimg --eimage\n",
    "    \n",
    "    cp /project/scichris/aos/segmentation_update/comcam/imgCloseLoop_wepEimg/iter0/img/extra/MC_H_20211231_006001_R22_S1* /project/scichris/aos/ts_wep/tests/testData/phosimOutput/realComCam/repackagedFiles/extra/\n",
    "    \n",
    "    cp /project/scichris/aos/segmentation_update/comcam/imgCloseLoop_wepEimg/iter0/img/intra/MC_H_20211231_006002_R22_S1* /project/scichris/aos/ts_wep/tests/testData/phosimOutput/realComCam/repackagedFiles/intra/\n",
    "    \n",
    "    \n",
    "    \n",
    "    \n",
    "    "
   ]
  },
  {
   "cell_type": "code",
   "execution_count": 3,
   "metadata": {},
   "outputs": [],
   "source": [
    "\n",
    "import os\n",
    "import numpy as np\n",
    "import tempfile\n",
    "from astropy.io import fits\n",
    "import unittest\n",
    "\n",
    "from lsst.ts.wep.bsc.BaseBscTestCase import BaseBscTestCase\n",
    "from lsst.ts.wep.cwfs.Tool import ZernikeAnnularFit\n",
    "from lsst.ts.wep.CamDataCollector import CamDataCollector\n",
    "from lsst.ts.wep.SourceProcessor import SourceProcessor\n",
    "from lsst.ts.wep.SourceSelector import SourceSelector\n",
    "from lsst.ts.wep.WfEstimator import WfEstimator\n",
    "from lsst.ts.wep.WepController import WepController\n",
    "\n",
    "from lsst.ts.wep.Utility import (\n",
    "    getModulePath,\n",
    "    FilterType,\n",
    "    CamType,\n",
    "    BscDbType,\n",
    "    getConfigDir,\n",
    "    getAmpImagesFromDir\n",
    ")"
   ]
  },
  {
   "cell_type": "code",
   "execution_count": 8,
   "metadata": {},
   "outputs": [
    {
     "data": {
      "text/plain": [
       "'/project/scichris/aos/ts_wep/tests/tmp9ms69dsf/bsc.db3'"
      ]
     },
     "execution_count": 8,
     "metadata": {},
     "output_type": "execute_result"
    }
   ],
   "source": []
  },
  {
   "cell_type": "code",
   "execution_count": 4,
   "metadata": {},
   "outputs": [],
   "source": [
    "import os\n",
    "import shutil\n",
    "import tempfile\n",
    "\n",
    "#createBscTest() \n",
    "\"\"\"Create the bright star catalog (BSC) used in the test.\"\"\"\n",
    "# Create a temporary test directory\n",
    "testDir = os.path.join(getModulePath(), \"tests\")\n",
    "_tempDir = tempfile.TemporaryDirectory(dir=testDir)\n",
    "\n",
    "# Copy the db3 database\n",
    "dbAdressSrc = os.path.join(testDir, \"testData\", \"bsc.db3\")\n",
    "_dbAdress = os.path.join(_tempDir.name, \"bsc.db3\")\n",
    "        \n",
    "shutil.copy(dbAdressSrc,_dbAdress)\n",
    "\n",
    "\n",
    "modulePath = getModulePath()\n",
    "\n",
    "testDir = os.path.join(modulePath, \"tests\")\n",
    "dataDir = tempfile.TemporaryDirectory(dir=testDir)\n",
    "butlerInput = tempfile.TemporaryDirectory(dir=dataDir.name)\n",
    "opdDir = os.path.join(\n",
    "    modulePath, \"tests\", \"testData\", \"opdOutput\", \"9006000\"\n",
    ")\n",
    "\n",
    "# Configurate the WEP components\n",
    "dataCollector = CamDataCollector(butlerInput.name)\n",
    "\n",
    "def _configSourceSelector(_dbAdress):\n",
    "\n",
    "    sourSelc = SourceSelector(CamType.ComCam, BscDbType.LocalDbForStarFile)\n",
    "\n",
    "    # Set the criteria of neighboring stars\n",
    "    starRadiusInPixel = 63\n",
    "    spacingCoefficient = 2.5\n",
    "    maxNeighboringStar = 1\n",
    "    sourSelc.configNbrCriteria(\n",
    "        starRadiusInPixel, spacingCoefficient, maxNeighboringStar=maxNeighboringStar\n",
    "    )\n",
    "\n",
    "    # Connect the database\n",
    "    sourSelc.connect(_dbAdress)\n",
    "\n",
    "    return sourSelc\n",
    "\n",
    "sourSelc = _configSourceSelector(_dbAdress)\n",
    "sourProc = SourceProcessor()\n",
    "\n",
    "def _configWfEstimator():\n",
    "\n",
    "    cwfsConfigDir = os.path.join(getConfigDir(), \"cwfs\")\n",
    "    instDir = os.path.join(cwfsConfigDir, \"instData\")\n",
    "    algoDir = os.path.join(cwfsConfigDir, \"algo\")\n",
    "    wfEsti = WfEstimator(instDir, algoDir)\n",
    "\n",
    "    # Use the comcam to calculate the LSST central raft image\n",
    "    # with 1.5 mm defocal distance\n",
    "    wfEsti.config(\n",
    "        solver=\"exp\",\n",
    "        camType=CamType.ComCam,\n",
    "        opticalModel=\"offAxis\",\n",
    "        defocalDisInMm=1.5,\n",
    "        sizeInPix=160,\n",
    "        debugLevel=0,\n",
    "    )\n",
    "\n",
    "    return wfEsti\n",
    "\n",
    "wfEsti = _configWfEstimator()\n",
    "\n",
    "# Instantiate the WEP controller\n",
    "wepCntlr = WepController(dataCollector, None, sourSelc, sourProc, wfEsti)\n",
    "\n",
    "# Intemediate data used in the test\n",
    "_filter = FilterType.REF\n",
    "\n",
    "neighborStarMap = dict()\n",
    "starMap = dict()\n",
    "wavefrontSensors = dict()\n",
    "\n",
    "wfsImgMap = dict()\n",
    "donutMap = dict()\n",
    "masterDonutMap = dict()"
   ]
  },
  {
   "cell_type": "code",
   "execution_count": 5,
   "metadata": {},
   "outputs": [],
   "source": [
    "#def step1_ingestEimg(self):\n",
    "\n",
    "# Generate the PhoSim mapper\n",
    "wepCntlr.getDataCollector().genLsstCamMapper()\n",
    "\n",
    "intraImgFiles = os.path.join(\n",
    "    getModulePath(),\n",
    "    \"tests\",\n",
    "    \"testData\",\n",
    "    \"phosimOutput\",\n",
    "    \"realComCam\",\n",
    "    \"repackagedFiles\",\n",
    "    \"intra\",\n",
    "    \"*_e.fits*\",\n",
    ")\n",
    "extraImgFiles = os.path.join(\n",
    "    getModulePath(),\n",
    "    \"tests\",\n",
    "    \"testData\",\n",
    "    \"phosimOutput\",\n",
    "    \"realComCam\",\n",
    "    \"repackagedFiles\",\n",
    "    \"extra\",\n",
    "    \"*_e.fits*\",\n",
    ")\n",
    "\n",
    "wepCntlr.getDataCollector().ingestEimages(intraImgFiles)\n",
    "wepCntlr.getDataCollector().ingestEimages(extraImgFiles)"
   ]
  },
  {
   "cell_type": "code",
   "execution_count": 6,
   "metadata": {},
   "outputs": [],
   "source": [
    "#def step2_setButlerInputsPath(self):\n",
    "wepCntlr.setPostIsrCcdInputs(butlerInput.name)\n"
   ]
  },
  {
   "cell_type": "markdown",
   "metadata": {},
   "source": [
    "Look at the images to see that they look correctly ... "
   ]
  },
  {
   "cell_type": "code",
   "execution_count": 8,
   "metadata": {},
   "outputs": [
    {
     "data": {
      "text/plain": [
       "['_mapper', 'registry.sqlite3', 'eimage']"
      ]
     },
     "execution_count": 8,
     "metadata": {},
     "output_type": "execute_result"
    }
   ],
   "source": [
    "os.listdir(butlerInput.name)"
   ]
  },
  {
   "cell_type": "code",
   "execution_count": 14,
   "metadata": {},
   "outputs": [],
   "source": [
    "%matplotlib inline\n",
    "import matplotlib.pyplot as plt\n",
    "import lsst.daf.persistence as dafPersist\n",
    "dataRoot = butlerInput.name\n",
    "butler = dafPersist.Butler(dataRoot, )\n",
    "\n",
    "ccd_image = {}\n",
    "for sensor in ['S11','S10']: \n",
    "    dataId = dict(run='9006002', raftName='R22', detectorName=sensor)\n",
    "    post = butler.get('eimage', dataId)\n",
    "    ccd_image[sensor]  = post.image.array\n"
   ]
  },
  {
   "cell_type": "code",
   "execution_count": 22,
   "metadata": {},
   "outputs": [],
   "source": [
    "#plt.hist(np.ravel(ccd_image['S11']),range=(0,10))"
   ]
  },
  {
   "cell_type": "code",
   "execution_count": 24,
   "metadata": {},
   "outputs": [
    {
     "data": {
      "image/png": "[encoded data removed]",
      "text/plain": [
       "<Figure size 720x360 with 2 Axes>"
      ]
     },
     "metadata": {
      "needs_background": "light"
     },
     "output_type": "display_data"
    }
   ],
   "source": [
    "fig,ax = plt.subplots(1,2,figsize=(10,5))\n",
    "\n",
    "i = 0 \n",
    "for sensor in ccd_image.keys():\n",
    "    ax[i].imshow(ccd_image[sensor],vmin=2,vmax=100)\n",
    "    ax[i].set_title(sensor)\n",
    "    i += 1 "
   ]
  },
  {
   "cell_type": "code",
   "execution_count": 27,
   "metadata": {},
   "outputs": [
    {
     "name": "stdout",
     "output_type": "stream",
     "text": [
      "2\n",
      "2\n",
      "2\n"
     ]
    }
   ],
   "source": [
    "#def step3_getTargetStar(self):\n",
    "\n",
    "# Set the observation meta data\n",
    "ra = 0.0\n",
    "dec = 0.0\n",
    "rotSkyPos = 0.0\n",
    "wepCntlr.getSourSelc().setObsMetaData(ra, dec, rotSkyPos)\n",
    "\n",
    "# Set the filter\n",
    "wepCntlr.getSourSelc().setFilter(_filter)\n",
    "\n",
    "# Get the target star by file\n",
    "skyFilePath = os.path.join(\n",
    "    modulePath,\n",
    "    \"tests\",\n",
    "    \"testData\",\n",
    "    \"phosimOutput\",\n",
    "    \"realComCam\",\n",
    "    \"skyComCamInfo.txt\",\n",
    ")\n",
    "(\n",
    "    neighborStarMap,\n",
    "    starMap,\n",
    "    wavefrontSensors,\n",
    ") = wepCntlr.getSourSelc().getTargetStarByFile(skyFilePath, offset=0)\n",
    "\n",
    "# Assign the data for the following steps to use\n",
    "neighborStarMap = neighborStarMap\n",
    "starMap = starMap\n",
    "wavefrontSensors = wavefrontSensors\n",
    "print(len(neighborStarMap))\n",
    "print(len(starMap))\n",
    "print(len(wavefrontSensors))\n",
    "# Do the assertion\n",
    "# self.assertEqual(len(neighborStarMap), 2)\n",
    "# self.assertEqual(len(starMap), 2)\n",
    "# self.assertEqual(len(wavefrontSensors), 2)"
   ]
  },
  {
   "cell_type": "code",
   "execution_count": 28,
   "metadata": {},
   "outputs": [
    {
     "name": "stdout",
     "output_type": "stream",
     "text": [
      "2\n"
     ]
    }
   ],
   "source": [
    "#def step4_getEimgDefocalImgMap(self):\n",
    "\n",
    "sensorNameList = list(wavefrontSensors)\n",
    "\n",
    "intraObsId = 9006002\n",
    "extraObsId = 9006001\n",
    "obsIdList = [intraObsId, extraObsId]\n",
    "\n",
    "wfsImgMap = wepCntlr.getEimgMapByPistonDefocal(sensorNameList, obsIdList)\n",
    "\n",
    "# Assign the data for the following steps to use\n",
    "#wfsImgMap = wfsImgMap\n",
    "\n",
    "# Do the assertion\n",
    "print(len(wfsImgMap))\n",
    "#self.assertEqual(len(wfsImgMap), 2)"
   ]
  },
  {
   "cell_type": "code",
   "execution_count": 30,
   "metadata": {},
   "outputs": [
    {
     "name": "stdout",
     "output_type": "stream",
     "text": [
      "2\n",
      "2\n"
     ]
    }
   ],
   "source": [
    "#def step5_getDonutMap(self):\n",
    "\n",
    "donutMap = wepCntlr.getDonutMap(\n",
    "    neighborStarMap, wfsImgMap, _filter, doDeblending=False\n",
    ")\n",
    "\n",
    "# Do the assertion\n",
    "for sensor, donutList in donutMap.items():\n",
    "    print(len(donutList))\n",
    "    #assertEqual(len(donutList), 2)"
   ]
  },
  {
   "cell_type": "code",
   "execution_count": 31,
   "metadata": {},
   "outputs": [
    {
     "name": "stdout",
     "output_type": "stream",
     "text": [
      "2    914.291713910765\n",
      "2    915.2873760839487\n",
      "1    912.4567116726422\n",
      "1    897.4405495574059\n"
     ]
    },
    {
     "ename": "NameError",
     "evalue": "name 'self' is not defined",
     "output_type": "error",
     "traceback": [
      "\u001b[0;31m---------------------------------------------------------------------------\u001b[0m",
      "\u001b[0;31mNameError\u001b[0m                                 Traceback (most recent call last)",
      "\u001b[0;32m<ipython-input-31-19fb73782c87>\u001b[0m in \u001b[0;36m<module>\u001b[0;34m\u001b[0m\n\u001b[1;32m     19\u001b[0m \u001b[0;32mfor\u001b[0m \u001b[0maId\u001b[0m \u001b[0;32min\u001b[0m \u001b[0mrange\u001b[0m\u001b[0;34m(\u001b[0m\u001b[0;36m4\u001b[0m\u001b[0;34m)\u001b[0m\u001b[0;34m:\u001b[0m\u001b[0;34m\u001b[0m\u001b[0;34m\u001b[0m\u001b[0m\n\u001b[1;32m     20\u001b[0m     \u001b[0mwfErr\u001b[0m \u001b[0;34m=\u001b[0m \u001b[0mdonutList\u001b[0m\u001b[0;34m[\u001b[0m\u001b[0maId\u001b[0m\u001b[0;34m]\u001b[0m\u001b[0;34m.\u001b[0m\u001b[0mgetWfErr\u001b[0m\u001b[0;34m(\u001b[0m\u001b[0;34m)\u001b[0m\u001b[0;34m\u001b[0m\u001b[0;34m\u001b[0m\u001b[0m\n\u001b[0;32m---> 21\u001b[0;31m     \u001b[0mzkOfOpd\u001b[0m \u001b[0;34m=\u001b[0m \u001b[0mself\u001b[0m\u001b[0;34m.\u001b[0m\u001b[0m_getZkInNmFromOpd\u001b[0m\u001b[0;34m(\u001b[0m\u001b[0maId\u001b[0m\u001b[0;34m)\u001b[0m\u001b[0;34m[\u001b[0m\u001b[0;36m3\u001b[0m\u001b[0;34m:\u001b[0m\u001b[0;34m]\u001b[0m\u001b[0;34m\u001b[0m\u001b[0;34m\u001b[0m\u001b[0m\n\u001b[0m\u001b[1;32m     22\u001b[0m     \u001b[0mdelta\u001b[0m \u001b[0;34m=\u001b[0m \u001b[0mnp\u001b[0m\u001b[0;34m.\u001b[0m\u001b[0mabs\u001b[0m\u001b[0;34m(\u001b[0m\u001b[0mwfErr\u001b[0m\u001b[0;34m[\u001b[0m\u001b[0;36m7\u001b[0m\u001b[0;34m]\u001b[0m \u001b[0;34m-\u001b[0m \u001b[0mzkOfOpd\u001b[0m\u001b[0;34m[\u001b[0m\u001b[0;36m7\u001b[0m\u001b[0;34m]\u001b[0m\u001b[0;34m)\u001b[0m\u001b[0;34m\u001b[0m\u001b[0;34m\u001b[0m\u001b[0m\n\u001b[1;32m     23\u001b[0m     \u001b[0mprint\u001b[0m\u001b[0;34m(\u001b[0m\u001b[0mdelta\u001b[0m\u001b[0;34m)\u001b[0m\u001b[0;34m\u001b[0m\u001b[0;34m\u001b[0m\u001b[0m\n",
      "\u001b[0;31mNameError\u001b[0m: name 'self' is not defined"
     ]
    }
   ],
   "source": [
    "#def step6a_calcWfErr(self):\n",
    "\n",
    "donutMap = wepCntlr.calcWfErr(donutMap)\n",
    "\n",
    "# Do the assertion\n",
    "for sensor, donutList in donutMap.items():\n",
    "    for donut in donutList:\n",
    "        wfErr = donut.getWfErr()\n",
    "        print(wfErr.argmax(), '  ', wfErr.max())\n",
    "        \n",
    "       # self.assertEqual(wfErr.argmax(), 2)\n",
    "       # self.assertGreater(wfErr.max(), 100)\n",
    "\n"
   ]
  },
  {
   "cell_type": "code",
   "execution_count": 32,
   "metadata": {},
   "outputs": [
    {
     "name": "stdout",
     "output_type": "stream",
     "text": [
      "5.8059275075638865\n",
      "7.5571960295186855\n",
      "7.415587583051007\n",
      "5.931607094966061\n"
     ]
    }
   ],
   "source": [
    "def _getZkInNmFromOpd( opdId,opdDir):\n",
    "\n",
    "    # Get the OPD data\n",
    "    opdFileName = \"opd_9006000_%d.fits.gz\" % opdId\n",
    "    opdFitsFile = os.path.join(opdDir, opdFileName)\n",
    "    opd = fits.getdata(opdFitsFile)\n",
    "\n",
    "    # Get x-, y-coordinate in the OPD image\n",
    "    opdSize = opd.shape[0]\n",
    "    opdGrid1d = np.linspace(-1, 1, opdSize)\n",
    "    opdx, opdy = np.meshgrid(opdGrid1d, opdGrid1d)\n",
    "\n",
    "    # Fit the OPD map with Zk\n",
    "    idx = opd != 0\n",
    "    znTerms = 22\n",
    "    obscuration = 0.61\n",
    "    zk = ZernikeAnnularFit(opd[idx], opdx[idx], opdy[idx], znTerms, obscuration)\n",
    "\n",
    "    # Return the unit in nm (the unit in OPD is um)\n",
    "    return zk * 1e3\n",
    "\n",
    "\n",
    "# Compare with OPD\n",
    "donutList = []\n",
    "donutList.extend(donutMap[\"R22_S11\"])\n",
    "donutList.extend(donutMap[\"R22_S10\"])\n",
    "\n",
    "for aId in range(4):\n",
    "    wfErr = donutList[aId].getWfErr()\n",
    "    zkOfOpd = _getZkInNmFromOpd(aId, opdDir)[3:]\n",
    "    delta = np.abs(wfErr[7] - zkOfOpd[7])\n",
    "    print(delta)\n",
    "    #self.assertLess(delta, 5)"
   ]
  },
  {
   "cell_type": "code",
   "execution_count": 33,
   "metadata": {},
   "outputs": [
    {
     "name": "stdout",
     "output_type": "stream",
     "text": [
      "2 914.7895449973569\n",
      "1 904.9486306150241\n",
      "6.984187049336867\n",
      "6.383743098453579\n"
     ]
    }
   ],
   "source": [
    "#def step6b_calcAvgWfErrOnSglCcd(self):\n",
    "\n",
    "avgErrMap = dict()\n",
    "for sensor, donutList in donutMap.items():\n",
    "    avgErr = wepCntlr.calcAvgWfErrOnSglCcd(donutList)\n",
    "    avgErrMap[sensor] = avgErr\n",
    "\n",
    "    # Do the assertion\n",
    "    print(avgErr.argmax(), avgErr.max())\n",
    "    #self.assertEqual(avgErr.argmax(), 2)\n",
    "    #self.assertGreater(avgErr.max(), 100)\n",
    "\n",
    "# Compare with the central OPD\n",
    "wfErrOnR22S11 = avgErrMap[\"R22_S11\"]\n",
    "zkOfOpdOnR22S11 = _getZkInNmFromOpd(4,opdDir)[3:]\n",
    "deltaOnR22S11 = np.abs(wfErrOnR22S11[7] - zkOfOpdOnR22S11[7])\n",
    "print(deltaOnR22S11)\n",
    "#self.assertLess(deltaOnR22S11, 5)\n",
    "\n",
    "wfErrOnR22S10 = avgErrMap[\"R22_S10\"]\n",
    "zkOfOpdOnR22S10 = _getZkInNmFromOpd(5,opdDir)[3:]\n",
    "deltaOnR22S10 = np.abs(wfErrOnR22S10[7] - zkOfOpdOnR22S10[7])\n",
    "print(deltaOnR22S10)\n",
    "#self.assertLess(deltaOnR22S10, 5)"
   ]
  },
  {
   "cell_type": "code",
   "execution_count": 34,
   "metadata": {},
   "outputs": [
    {
     "name": "stdout",
     "output_type": "stream",
     "text": [
      "2\n",
      "1\n",
      "1\n"
     ]
    }
   ],
   "source": [
    "#def step7a_genMasterDonut(self):\n",
    "\n",
    "masterDonutMap = wepCntlr.genMasterDonut(donutMap, zcCol=np.zeros(22))\n",
    "\n",
    "# Do the assertion\n",
    "#assertEqual(len(self.masterDonutMap), 2)\n",
    "print(len(masterDonutMap))\n",
    "for sensor, masterDonutList in masterDonutMap.items():\n",
    "    print(len(masterDonutList))\n",
    "    #self.assertEqual(len(masterDonutList), 1)"
   ]
  },
  {
   "cell_type": "code",
   "execution_count": 35,
   "metadata": {},
   "outputs": [
    {
     "name": "stdout",
     "output_type": "stream",
     "text": [
      "2\n",
      "804.0430013531186\n",
      "14.502795232072142\n"
     ]
    }
   ],
   "source": [
    "#def step7b_calcWfErrOfMasterDonut(self):\n",
    "\n",
    "masterDonutMap = wepCntlr.calcWfErr(masterDonutMap)\n",
    "\n",
    "masterDonutList = masterDonutMap[\"R22_S11\"]\n",
    "wfErr = masterDonutList[0].getWfErr()\n",
    "\n",
    "# Do the assertion\n",
    "print(wfErr.argmax())\n",
    "print(wfErr.max())\n",
    "#assertEqual(wfErr.argmax(), 2)\n",
    "#self.assertGreater(wfErr.max(), 100)\n",
    "\n",
    "# Compare with the central OPD\n",
    "zkOfOpdOnR22S11 = _getZkInNmFromOpd(4,opdDir)[3:]\n",
    "deltaOnR22S11 = np.abs(wfErr[7] - zkOfOpdOnR22S11[7])\n",
    "print(deltaOnR22S11)\n",
    "#self.assertLess(deltaOnR22S11, 30)"
   ]
  },
  {
   "cell_type": "markdown",
   "metadata": {},
   "source": [
    "All done! "
   ]
  },
  {
   "cell_type": "markdown",
   "metadata": {},
   "source": [
    "# `test_wEPCalculation_NEW.py` <a id='wEPCalculation'></a>"
   ]
  },
  {
   "cell_type": "code",
   "execution_count": 24,
   "metadata": {},
   "outputs": [],
   "source": [
    "\n",
    "import os\n",
    "import unittest\n",
    "import tempfile\n",
    "\n",
    "from lsst.ts.wep.Utility import (\n",
    "    getModulePath,\n",
    "    CamType,\n",
    "    FilterType,\n",
    "    runProgram,\n",
    "    ImageType,\n",
    "    BscDbType,\n",
    ")\n",
    "from lsst.ts.wep.ParamReader import ParamReader\n",
    "\n",
    "from lsst.ts.wep.ctrlIntf.WEPCalculation import WEPCalculation\n",
    "from lsst.ts.wep.ctrlIntf.AstWcsSol import AstWcsSol\n",
    "from lsst.ts.wep.ctrlIntf.RawExpData import RawExpData"
   ]
  },
  {
   "cell_type": "code",
   "execution_count": null,
   "metadata": {},
   "outputs": [],
   "source": [
    "p"
   ]
  },
  {
   "cell_type": "code",
   "execution_count": 42,
   "metadata": {},
   "outputs": [],
   "source": [
    "modulePath = getModulePath()\n",
    "\n",
    "testDir = os.path.join(modulePath, \"tests\")\n",
    "testDataDir = os.path.join(testDir, \"testData\")\n",
    "\n",
    "dataDir = tempfile.TemporaryDirectory(dir=testDir)\n",
    "isrDir = tempfile.TemporaryDirectory(dir=dataDir.name)\n",
    "\n",
    "wepCalculation = WEPCalculation(\n",
    "    AstWcsSol(), CamType.ComCam,isrDir.name\n",
    ")"
   ]
  },
  {
   "cell_type": "code",
   "execution_count": 43,
   "metadata": {},
   "outputs": [
    {
     "name": "stdout",
     "output_type": "stream",
     "text": [
      "/project/scichris/aos/ts_wep/tests/tmpw_h92xj2\n",
      "/project/scichris/aos/ts_wep/tests/tmpw_h92xj2/tmpsx_nm0g4\n"
     ]
    }
   ],
   "source": [
    "print(dataDir.name,) \n",
    "print(isrDir.name)"
   ]
  },
  {
   "cell_type": "code",
   "execution_count": 44,
   "metadata": {},
   "outputs": [],
   "source": [
    "skyFile = \"test.txt\"\n",
    "wepCalculation.setSkyFile(skyFile)\n",
    "\n",
    "filterType = FilterType.R\n",
    "wepCalculation.setFilter(filterType)"
   ]
  },
  {
   "cell_type": "code",
   "execution_count": 5,
   "metadata": {},
   "outputs": [],
   "source": []
  },
  {
   "cell_type": "code",
   "execution_count": 45,
   "metadata": {},
   "outputs": [],
   "source": [
    "#def testCalculateWavefrontErrors(self):\n",
    "\n",
    "fakeFlatDir = tempfile.TemporaryDirectory(dir=dataDir.name)\n",
    "\n",
    "def _genFakeFlat( fakeFlatDir, detector):\n",
    "\n",
    "    currWorkDir = os.getcwd()\n",
    "    os.chdir(fakeFlatDir)\n",
    "\n",
    "    command = \"makeGainImages.py\"\n",
    "    argstring = \"--detector_list %s\" % detector\n",
    "    runProgram(command, argstring=argstring)\n",
    "\n",
    "    os.chdir(currWorkDir)\n",
    "    \n",
    "    \n",
    "def _genFlatCalibs( flatCalibsDir):\n",
    "\n",
    "    detector = \"R22_S11 R22_S10\"\n",
    "    _genFakeFlat(flatCalibsDir, detector)\n",
    "    \n",
    "    \n",
    "def _genCalibsAndIngest( flatCalibsDir):\n",
    "\n",
    "    _genFlatCalibs(flatCalibsDir)\n",
    "    wepCalculation.ingestCalibs(flatCalibsDir)\n",
    "\n",
    "        \n",
    "_genCalibsAndIngest(fakeFlatDir.name)\n",
    "\n"
   ]
  },
  {
   "cell_type": "code",
   "execution_count": 21,
   "metadata": {},
   "outputs": [],
   "source": [
    "#rawExpData??"
   ]
  },
  {
   "cell_type": "code",
   "execution_count": 46,
   "metadata": {},
   "outputs": [
    {
     "name": "stderr",
     "output_type": "stream",
     "text": [
      "/project/scichris/aos/ts_wep/python/lsst/ts/wep/ctrlIntf/WEPCalculation.py:588: UserWarning: No sky file assigned. Use the default one.\n",
      "  warnings.warn(\n"
     ]
    },
    {
     "name": "stdout",
     "output_type": "stream",
     "text": [
      "2\n",
      "100 99\n",
      "100\n",
      "2\n",
      "2 0.9126134243745153\n",
      "99\n",
      "2\n",
      "1 0.9025603109537635\n"
     ]
    }
   ],
   "source": [
    "#def _calculateWavefrontErrorsAndCheck(self):\n",
    "\n",
    "comcamDataDir = os.path.join(testDataDir, \"phosimOutput\", \"realComCam\")\n",
    "\n",
    "#def _prepareRawExpData(comcamDataDir):\n",
    "\n",
    "intraImgDir = os.path.join(comcamDataDir, \"repackagedFiles\", \"intra\")\n",
    "extraImgDir = os.path.join(comcamDataDir, \"repackagedFiles\", \"extra\")\n",
    "\n",
    "rawExpData = RawExpData()\n",
    "\n",
    "rawExpData.append(9006002, 0, intraImgDir)\n",
    "\n",
    "extraRawExpData = RawExpData()\n",
    "extraRawExpData.append(9006001, 0, extraImgDir)\n",
    "\n",
    "listOfWfErr = wepCalculation.calculateWavefrontErrors(\n",
    "        rawExpData, extraRawExpData=extraRawExpData\n",
    "    )\n",
    "print(len(listOfWfErr))\n",
    "print(listOfWfErr[0].getSensorId(), listOfWfErr[1].getSensorId())\n",
    "\n",
    "\n",
    "for sensorWavefrontData in listOfWfErr:\n",
    "    sensorId = sensorWavefrontData.getSensorId()\n",
    "    print(sensorId)\n",
    "    #self.assertTrue(sensorId in (99, 100))\n",
    "\n",
    "    listOfDonut = sensorWavefrontData.getListOfDonut()\n",
    "    print(len(listOfDonut))\n",
    "    #self.assertTrue(len(listOfDonut), 2)\n",
    "\n",
    "    avgWfErr = sensorWavefrontData.getAnnularZernikePoly()\n",
    "    print(avgWfErr.argmax(), avgWfErr.max())\n",
    "    #self.assertEqual(avgWfErr.argmax(), 2)\n",
    "    #self.assertGreater(avgWfErr.max(), 0.1)"
   ]
  },
  {
   "cell_type": "code",
   "execution_count": 34,
   "metadata": {},
   "outputs": [
    {
     "name": "stderr",
     "output_type": "stream",
     "text": [
      "/project/scichris/aos/ts_wep/python/lsst/ts/wep/ctrlIntf/WEPCalculation.py:588: UserWarning: No sky file assigned. Use the default one.\n",
      "  warnings.warn(\n"
     ]
    }
   ],
   "source": []
  },
  {
   "cell_type": "code",
   "execution_count": 35,
   "metadata": {},
   "outputs": [
    {
     "name": "stdout",
     "output_type": "stream",
     "text": [
      "2\n"
     ]
    }
   ],
   "source": []
  },
  {
   "cell_type": "code",
   "execution_count": 37,
   "metadata": {},
   "outputs": [
    {
     "name": "stdout",
     "output_type": "stream",
     "text": [
      "100 99\n"
     ]
    }
   ],
   "source": []
  },
  {
   "cell_type": "code",
   "execution_count": 38,
   "metadata": {},
   "outputs": [
    {
     "name": "stdout",
     "output_type": "stream",
     "text": [
      "100\n",
      "2\n",
      "2 0.9126134243745153\n",
      "99\n",
      "2\n",
      "1 0.9025603109537635\n"
     ]
    }
   ],
   "source": []
  },
  {
   "cell_type": "code",
   "execution_count": 47,
   "metadata": {},
   "outputs": [],
   "source": [
    "# def testCalculateWavefrontErrorsOfEimg \n",
    "settingFile = wepCalculation.getSettingFile()\n",
    "settingFile.updateSetting(\"imageType\", \"eimage\")"
   ]
  },
  {
   "cell_type": "code",
   "execution_count": 48,
   "metadata": {},
   "outputs": [],
   "source": [
    "comcamDataDir = os.path.join(testDataDir, \"phosimOutput\", \"realComCam\")\n",
    "\n",
    "def _prepareRawExpData( comcamDataDir):\n",
    "\n",
    "    intraImgDir = os.path.join(comcamDataDir, \"repackagedFiles\", \"intra\")\n",
    "    extraImgDir = os.path.join(comcamDataDir, \"repackagedFiles\", \"extra\")\n",
    "\n",
    "    rawExpData = RawExpData()\n",
    "    rawExpData.append(9006002, 0, intraImgDir)\n",
    "\n",
    "    extraRawExpData = RawExpData()\n",
    "    extraRawExpData.append(9006001, 0, extraImgDir)\n",
    "\n",
    "    return rawExpData, extraRawExpData\n",
    "    \n",
    "    \n",
    "rawExpData, extraRawExpData = _prepareRawExpData(comcamDataDir)\n"
   ]
  },
  {
   "cell_type": "code",
   "execution_count": 74,
   "metadata": {},
   "outputs": [
    {
     "data": {
      "text/plain": [
       "['/project/scichris/aos/ts_wep/tests/testData/phosimOutput/realComCam/repackagedFiles/intra']"
      ]
     },
     "execution_count": 74,
     "metadata": {},
     "output_type": "execute_result"
    }
   ],
   "source": [
    "rawExpData.getRawExpDir()"
   ]
  },
  {
   "cell_type": "code",
   "execution_count": 52,
   "metadata": {},
   "outputs": [],
   "source": [
    "from lsst.ts.wep.Utility import   getAmpImagesFromDir\n"
   ]
  },
  {
   "cell_type": "code",
   "execution_count": 54,
   "metadata": {},
   "outputs": [
    {
     "data": {
      "text/plain": [
       "'/project/scichris/aos/ts_wep/tests/testData/phosimOutput/realComCam/repackagedFiles/intra'"
      ]
     },
     "execution_count": 54,
     "metadata": {},
     "output_type": "execute_result"
    }
   ],
   "source": [
    "intraImgDir"
   ]
  },
  {
   "cell_type": "code",
   "execution_count": 60,
   "metadata": {},
   "outputs": [],
   "source": [
    "rawExpDir  = intraImgDir\n",
    "ampFiles = getAmpImagesFromDir(intraImgDir)\n",
    "rawImgFiles = \" \"\n",
    "for ampFile in ampFiles:\n",
    "    rawImgFiles += ' %s'%os.path.join(rawExpDir, ampFile)"
   ]
  },
  {
   "cell_type": "code",
   "execution_count": 62,
   "metadata": {},
   "outputs": [
    {
     "data": {
      "text/plain": [
       "['/project/scichris/aos/ts_wep/tests/testData/phosimOutput/realComCam/repackagedFiles/intra/MC_H_20211231_006002_R22_S10.fits',\n",
       " '/project/scichris/aos/ts_wep/tests/testData/phosimOutput/realComCam/repackagedFiles/intra/MC_H_20211231_006002_R22_S11.fits']"
      ]
     },
     "execution_count": 62,
     "metadata": {},
     "output_type": "execute_result"
    }
   ],
   "source": [
    "rawImgFiles.split()"
   ]
  },
  {
   "cell_type": "code",
   "execution_count": 49,
   "metadata": {},
   "outputs": [
    {
     "ename": "RuntimeError",
     "evalue": "Error running: ingestImages.py /project/scichris/aos/ts_wep/tests/tmpw_h92xj2/tmpsx_nm0g4 /project/scichris/aos/ts_wep/tests/testData/phosimOutput/realComCam/repackagedFiles/intra/*_e.fits* --configfile /opt/lsst/software/stack/stack/miniconda3-py38_4.9.2-0.4.1/Linux64/obs_lsst/21.0.0-20-g3c714e7+7952646d88/config/lsstCam/ingestEimg.py",
     "output_type": "error",
     "traceback": [
      "\u001b[0;31m---------------------------------------------------------------------------\u001b[0m",
      "\u001b[0;31mRuntimeError\u001b[0m                              Traceback (most recent call last)",
      "\u001b[0;32m<ipython-input-49-1967c9fef1a5>\u001b[0m in \u001b[0;36m<module>\u001b[0;34m\u001b[0m\n\u001b[0;32m----> 1\u001b[0;31m listOfWfErr = wepCalculation.calculateWavefrontErrors(\n\u001b[0m\u001b[1;32m      2\u001b[0m                 \u001b[0mrawExpData\u001b[0m\u001b[0;34m,\u001b[0m \u001b[0mextraRawExpData\u001b[0m\u001b[0;34m=\u001b[0m\u001b[0mextraRawExpData\u001b[0m\u001b[0;34m\u001b[0m\u001b[0;34m\u001b[0m\u001b[0m\n\u001b[1;32m      3\u001b[0m             )\n",
      "\u001b[0;32m/project/scichris/aos/ts_wep/python/lsst/ts/wep/ctrlIntf/WEPCalculation.py\u001b[0m in \u001b[0;36mcalculateWavefrontErrors\u001b[0;34m(self, rawExpData, extraRawExpData)\u001b[0m\n\u001b[1;32m    392\u001b[0m \u001b[0;34m\u001b[0m\u001b[0m\n\u001b[1;32m    393\u001b[0m         \u001b[0;31m# Ingest the exposure data and do the ISR\u001b[0m\u001b[0;34m\u001b[0m\u001b[0;34m\u001b[0m\u001b[0;34m\u001b[0m\u001b[0m\n\u001b[0;32m--> 394\u001b[0;31m         \u001b[0mself\u001b[0m\u001b[0;34m.\u001b[0m\u001b[0m_ingestImg\u001b[0m\u001b[0;34m(\u001b[0m\u001b[0mrawExpData\u001b[0m\u001b[0;34m)\u001b[0m\u001b[0;34m\u001b[0m\u001b[0;34m\u001b[0m\u001b[0m\n\u001b[0m\u001b[1;32m    395\u001b[0m         \u001b[0;32mif\u001b[0m \u001b[0mextraRawExpData\u001b[0m \u001b[0;32mis\u001b[0m \u001b[0;32mnot\u001b[0m \u001b[0;32mNone\u001b[0m\u001b[0;34m:\u001b[0m\u001b[0;34m\u001b[0m\u001b[0;34m\u001b[0m\u001b[0m\n\u001b[1;32m    396\u001b[0m             \u001b[0mself\u001b[0m\u001b[0;34m.\u001b[0m\u001b[0m_ingestImg\u001b[0m\u001b[0;34m(\u001b[0m\u001b[0mextraRawExpData\u001b[0m\u001b[0;34m)\u001b[0m\u001b[0;34m\u001b[0m\u001b[0;34m\u001b[0m\u001b[0m\n",
      "\u001b[0;32m/project/scichris/aos/ts_wep/python/lsst/ts/wep/ctrlIntf/WEPCalculation.py\u001b[0m in \u001b[0;36m_ingestImg\u001b[0;34m(self, rawExpData)\u001b[0m\n\u001b[1;32m    471\u001b[0m             \u001b[0;32melif\u001b[0m \u001b[0mimgType\u001b[0m \u001b[0;34m==\u001b[0m \u001b[0mImageType\u001b[0m\u001b[0;34m.\u001b[0m\u001b[0mEimg\u001b[0m\u001b[0;34m:\u001b[0m\u001b[0;34m\u001b[0m\u001b[0;34m\u001b[0m\u001b[0m\n\u001b[1;32m    472\u001b[0m                 \u001b[0mrawImgFiles\u001b[0m \u001b[0;34m=\u001b[0m \u001b[0mos\u001b[0m\u001b[0;34m.\u001b[0m\u001b[0mpath\u001b[0m\u001b[0;34m.\u001b[0m\u001b[0mjoin\u001b[0m\u001b[0;34m(\u001b[0m\u001b[0mrawExpDir\u001b[0m\u001b[0;34m,\u001b[0m \u001b[0;34m\"*_e.fits*\"\u001b[0m\u001b[0;34m)\u001b[0m\u001b[0;34m\u001b[0m\u001b[0;34m\u001b[0m\u001b[0m\n\u001b[0;32m--> 473\u001b[0;31m                 \u001b[0mdataCollector\u001b[0m\u001b[0;34m.\u001b[0m\u001b[0mingestEimages\u001b[0m\u001b[0;34m(\u001b[0m\u001b[0mrawImgFiles\u001b[0m\u001b[0;34m)\u001b[0m\u001b[0;34m\u001b[0m\u001b[0;34m\u001b[0m\u001b[0m\n\u001b[0m\u001b[1;32m    474\u001b[0m \u001b[0;34m\u001b[0m\u001b[0m\n\u001b[1;32m    475\u001b[0m     \u001b[0;32mdef\u001b[0m \u001b[0m_getImageType\u001b[0m\u001b[0;34m(\u001b[0m\u001b[0mself\u001b[0m\u001b[0;34m)\u001b[0m\u001b[0;34m:\u001b[0m\u001b[0;34m\u001b[0m\u001b[0;34m\u001b[0m\u001b[0m\n",
      "\u001b[0;32m/project/scichris/aos/ts_wep/python/lsst/ts/wep/CamDataCollector.py\u001b[0m in \u001b[0;36mingestEimages\u001b[0;34m(self, imgFiles)\u001b[0m\n\u001b[1;32m    115\u001b[0m             \u001b[0mgetObsLsstCmdTaskConfigDir\u001b[0m\u001b[0;34m(\u001b[0m\u001b[0;34m)\u001b[0m\u001b[0;34m,\u001b[0m \u001b[0;34m\"lsstCam\"\u001b[0m\u001b[0;34m,\u001b[0m \u001b[0;34m\"ingestEimg.py\"\u001b[0m\u001b[0;34m\u001b[0m\u001b[0;34m\u001b[0m\u001b[0m\n\u001b[1;32m    116\u001b[0m         )\n\u001b[0;32m--> 117\u001b[0;31m         \u001b[0mself\u001b[0m\u001b[0;34m.\u001b[0m\u001b[0m_ingestImagesByButler\u001b[0m\u001b[0;34m(\u001b[0m\u001b[0mimgFiles\u001b[0m\u001b[0;34m,\u001b[0m \u001b[0mconfigFile\u001b[0m\u001b[0;34m=\u001b[0m\u001b[0meimgConfigFile\u001b[0m\u001b[0;34m)\u001b[0m\u001b[0;34m\u001b[0m\u001b[0;34m\u001b[0m\u001b[0m\n\u001b[0m\u001b[1;32m    118\u001b[0m \u001b[0;34m\u001b[0m\u001b[0m\n\u001b[1;32m    119\u001b[0m \u001b[0;34m\u001b[0m\u001b[0m\n",
      "\u001b[0;32m/project/scichris/aos/ts_wep/python/lsst/ts/wep/CamDataCollector.py\u001b[0m in \u001b[0;36m_ingestImagesByButler\u001b[0;34m(self, imgFiles, configFile)\u001b[0m\n\u001b[1;32m    101\u001b[0m             \u001b[0margstring\u001b[0m \u001b[0;34m+=\u001b[0m \u001b[0;34m\" --configfile %s\"\u001b[0m \u001b[0;34m%\u001b[0m \u001b[0mconfigFile\u001b[0m\u001b[0;34m\u001b[0m\u001b[0;34m\u001b[0m\u001b[0m\n\u001b[1;32m    102\u001b[0m \u001b[0;34m\u001b[0m\u001b[0m\n\u001b[0;32m--> 103\u001b[0;31m         \u001b[0mrunProgram\u001b[0m\u001b[0;34m(\u001b[0m\u001b[0mcommand\u001b[0m\u001b[0;34m,\u001b[0m \u001b[0margstring\u001b[0m\u001b[0;34m=\u001b[0m\u001b[0margstring\u001b[0m\u001b[0;34m)\u001b[0m\u001b[0;34m\u001b[0m\u001b[0;34m\u001b[0m\u001b[0m\n\u001b[0m\u001b[1;32m    104\u001b[0m \u001b[0;34m\u001b[0m\u001b[0m\n\u001b[1;32m    105\u001b[0m     \u001b[0;32mdef\u001b[0m \u001b[0mingestEimages\u001b[0m\u001b[0;34m(\u001b[0m\u001b[0mself\u001b[0m\u001b[0;34m,\u001b[0m \u001b[0mimgFiles\u001b[0m\u001b[0;34m)\u001b[0m\u001b[0;34m:\u001b[0m\u001b[0;34m\u001b[0m\u001b[0;34m\u001b[0m\u001b[0m\n",
      "\u001b[0;32m/project/scichris/aos/ts_wep/python/lsst/ts/wep/Utility.py\u001b[0m in \u001b[0;36mrunProgram\u001b[0;34m(command, binDir, argstring)\u001b[0m\n\u001b[1;32m    134\u001b[0m     \u001b[0;31m# Call the program w/o arguments\u001b[0m\u001b[0;34m\u001b[0m\u001b[0;34m\u001b[0m\u001b[0;34m\u001b[0m\u001b[0m\n\u001b[1;32m    135\u001b[0m     \u001b[0;32mif\u001b[0m \u001b[0msubprocess\u001b[0m\u001b[0;34m.\u001b[0m\u001b[0mcall\u001b[0m\u001b[0;34m(\u001b[0m\u001b[0mcommand\u001b[0m\u001b[0;34m,\u001b[0m \u001b[0mshell\u001b[0m\u001b[0;34m=\u001b[0m\u001b[0;32mTrue\u001b[0m\u001b[0;34m)\u001b[0m \u001b[0;34m!=\u001b[0m \u001b[0;36m0\u001b[0m\u001b[0;34m:\u001b[0m\u001b[0;34m\u001b[0m\u001b[0;34m\u001b[0m\u001b[0m\n\u001b[0;32m--> 136\u001b[0;31m         \u001b[0;32mraise\u001b[0m \u001b[0mRuntimeError\u001b[0m\u001b[0;34m(\u001b[0m\u001b[0;34m\"Error running: %s\"\u001b[0m \u001b[0;34m%\u001b[0m \u001b[0mcommand\u001b[0m\u001b[0;34m)\u001b[0m\u001b[0;34m\u001b[0m\u001b[0;34m\u001b[0m\u001b[0m\n\u001b[0m\u001b[1;32m    137\u001b[0m \u001b[0;34m\u001b[0m\u001b[0m\n\u001b[1;32m    138\u001b[0m \u001b[0;34m\u001b[0m\u001b[0m\n",
      "\u001b[0;31mRuntimeError\u001b[0m: Error running: ingestImages.py /project/scichris/aos/ts_wep/tests/tmpw_h92xj2/tmpsx_nm0g4 /project/scichris/aos/ts_wep/tests/testData/phosimOutput/realComCam/repackagedFiles/intra/*_e.fits* --configfile /opt/lsst/software/stack/stack/miniconda3-py38_4.9.2-0.4.1/Linux64/obs_lsst/21.0.0-20-g3c714e7+7952646d88/config/lsstCam/ingestEimg.py"
     ]
    }
   ],
   "source": [
    "listOfWfErr = wepCalculation.calculateWavefrontErrors(\n",
    "                rawExpData, extraRawExpData=extraRawExpData\n",
    "            )"
   ]
  },
  {
   "cell_type": "markdown",
   "metadata": {},
   "source": [
    "First, ingest raw amp files : \n",
    "\n",
    "    ingestImages.py /project/scichris/aos/ts_wep/tests/tmpw_h92xj2/tmpsx_nm0g4 /project/scichris/aos/ts_wep/tests/testData/phosimOutput/realComCam/repackagedFiles/intra/MC_H_20211231_006002_R22_S10.fits /project/scichris/aos/ts_wep/tests/testData/phosimOutput/realComCam/repackagedFiles/intra/MC_H_20211231_006002_R22_S11.fits"
   ]
  },
  {
   "cell_type": "code",
   "execution_count": 51,
   "metadata": {},
   "outputs": [
    {
     "data": {
      "text/plain": [
       "'/project/scichris/aos/ts_wep/tests/tmpw_h92xj2/tmpsx_nm0g4'"
      ]
     },
     "execution_count": 51,
     "metadata": {},
     "output_type": "execute_result"
    }
   ],
   "source": [
    "... (do ISR, etc  - shouldn't affect anything )"
   ]
  },
  {
   "cell_type": "markdown",
   "metadata": {},
   "source": [
    "Then, ingest  e-image files ...\n",
    "    \n",
    "    ingestImages.py /project/scichris/aos/ts_wep/tests/tmpw_h92xj2/tmpsx_nm0g4 /project/scichris/aos/ts_wep/tests/testData/phosimOutput/realComCam/repackagedFiles/intra/*_e.fits* --configfile /opt/lsst/software/stack/stack/miniconda3-py38_4.9.2-0.4.1/Linux64/obs_lsst/21.0.0-20-g3c714e7+7952646d88/config/lsstCam/ingestEimg.py"
   ]
  },
  {
   "cell_type": "markdown",
   "metadata": {},
   "source": [
    "I didn't see that before, because I was testing raw / e-image ingestion separately (we don't run AOS both with raw amp and e-images at the same time ... ). But there wasn't such problem earlier as I recall.. Now the problem is \n",
    "\n",
    "\n",
    "       ingest.register INFO: Table \"raw\" exists.  Skipping creation\n",
    "    ingest WARN: /project/scichris/aos/ts_wep/tests/testData/phosimOutput/realComCam/repackagedFiles/intra/MC_H_20211231_006002_R22_S10_e.fits: already ingested: {'seqNum': 6002, 'testType': 'PHOSIM', 'expTime': 15.0, 'object': 'UNKNOWN', 'imageType': 'SKYEXP', 'filter': 'g', 'lsstSerial': 'E2V-CCD250-356', 'date': '2021-12-31T23:59:52.500', 'dateObs': '2021-12-31T23:59:52.500', 'run': '9006002', 'visit': 4021123106002, 'wavelength': -666, 'raftName': 'R22', 'detectorName': 'S10', 'detector': 93, 'snap': 0, 'controller': 'H', 'obsid': 'MC_H_20211231_006002', 'expGroup': '4021123106002', 'expId': 4021123106002, 'dayObs': '2021-12-31'}\n",
    "    ingest INFO: /project/scichris/aos/ts_wep/tests/testData/phosimOutput/realComCam/repackagedFiles/intra/MC_H_20211231_006002_R22_S10_e.fits --<link>--> /project/scichris/aos/ts_wep/tests/tmpw_h92xj2/tmpsx_nm0g4/eimage/4021123106002/E000/R22/eimage_4021123106002_R22_S10_E000.fits.gz\n",
    "    ingest WARN: Failed to ingest file /project/scichris/aos/ts_wep/tests/testData/phosimOutput/realComCam/repackagedFiles/intra/MC_H_20211231_006002_R22_S10_e.fits: Failed to register file /project/scichris/aos/ts_wep/tests/testData/phosimOutput/realComCam/repackagedFiles/intra/MC_H_20211231_006002_R22_S10_e.fits\n",
    "    Traceback (most recent call last):\n",
    "      File \"/opt/lsst/software/stack/stack/miniconda3-py38_4.9.2-0.4.1/Linux64/pipe_tasks/21.0.0-51-gd3b42663+de9f4996ec/python/lsst/pipe/tasks/ingest.py\", line 611, in runFile\n",
    "        self.register.addRow(registry, info, dryrun=args.dryrun, create=args.create)\n",
    "      File \"/opt/lsst/software/stack/stack/miniconda3-py38_4.9.2-0.4.1/Linux64/pipe_tasks/21.0.0-51-gd3b42663+de9f4996ec/python/lsst/pipe/tasks/ingest.py\", line 379, in addRow\n",
    "        conn.cursor().execute(sql, values)\n",
    "    sqlite3.IntegrityError: UNIQUE constraint failed: raw.expId, raw.detector, raw.visit\n"
   ]
  },
  {
   "cell_type": "code",
   "execution_count": 63,
   "metadata": {},
   "outputs": [],
   "source": [
    "# check that these assertions are indeed true ... perhaps need to edit expId or visit ? \n",
    "\n",
    "# But really we won't do amp images AS WELL AS e-images at the same time .., It's either-or...\n",
    "\n",
    "from astropy.io import fits\n",
    "amp = fits.open(rawImgFiles.split()[0])"
   ]
  },
  {
   "cell_type": "code",
   "execution_count": null,
   "metadata": {},
   "outputs": [],
   "source": [
    " if intraSuffix in expId:  intraExpId = expId"
   ]
  },
  {
   "cell_type": "code",
   "execution_count": 66,
   "metadata": {},
   "outputs": [],
   "source": [
    "expId is 4021123106002\n",
    "detector is 93\n",
    "visit is 4021123106002\n"
   ]
  },
  {
   "cell_type": "code",
   "execution_count": 104,
   "metadata": {},
   "outputs": [
    {
     "data": {
      "text/plain": [
       "'MC_H_20211231_006002'"
      ]
     },
     "execution_count": 104,
     "metadata": {},
     "output_type": "execute_result"
    }
   ],
   "source": [
    "amp[0].header['OBSID']"
   ]
  },
  {
   "cell_type": "code",
   "execution_count": 106,
   "metadata": {},
   "outputs": [
    {
     "data": {
      "text/plain": [
       "'9006002'"
      ]
     },
     "execution_count": 106,
     "metadata": {},
     "output_type": "execute_result"
    }
   ],
   "source": [
    "amp[0].header['RUNNUM']"
   ]
  },
  {
   "cell_type": "code",
   "execution_count": 107,
   "metadata": {},
   "outputs": [
    {
     "data": {
      "text/plain": [
       "8002"
      ]
     },
     "execution_count": 107,
     "metadata": {},
     "output_type": "execute_result"
    }
   ],
   "source": [
    "amp[0].header['SEQNUM']+2000"
   ]
  },
  {
   "cell_type": "code",
   "execution_count": 78,
   "metadata": {},
   "outputs": [
    {
     "ename": "SyntaxError",
     "evalue": "invalid syntax (<ipython-input-78-6b8a6b9c5e02>, line 1)",
     "output_type": "error",
     "traceback": [
      "\u001b[0;36m  File \u001b[0;32m\"<ipython-input-78-6b8a6b9c5e02>\"\u001b[0;36m, line \u001b[0;32m1\u001b[0m\n\u001b[0;31m    3amp[0].header['EXP']\u001b[0m\n\u001b[0m     ^\u001b[0m\n\u001b[0;31mSyntaxError\u001b[0m\u001b[0;31m:\u001b[0m invalid syntax\n"
     ]
    }
   ],
   "source": [
    "amp[0].header['EXP']"
   ]
  },
  {
   "cell_type": "code",
   "execution_count": 67,
   "metadata": {},
   "outputs": [
    {
     "data": {
      "text/plain": [
       "'MC_H_20211231_006002'"
      ]
     },
     "execution_count": 67,
     "metadata": {},
     "output_type": "execute_result"
    }
   ],
   "source": [
    "amp[0].header['OBSID']"
   ]
  },
  {
   "cell_type": "code",
   "execution_count": 68,
   "metadata": {},
   "outputs": [
    {
     "data": {
      "text/plain": [
       "6002"
      ]
     },
     "execution_count": 68,
     "metadata": {},
     "output_type": "execute_result"
    }
   ],
   "source": [
    "amp[0].header['SEQNUM']"
   ]
  },
  {
   "cell_type": "code",
   "execution_count": null,
   "metadata": {},
   "outputs": [],
   "source": [
    "For  reading the images with butler Gen2 , \n",
    "we use eg. \n",
    "\n",
    "visit = 9006002\n",
    "raft = 'R00'\n",
    "sensor = 'S11'\n",
    "dataId = dict(run=str(visit), raftName=raft, detectorName=sensor)\n",
    "\n",
    "and then we do \n",
    "\n",
    "butler.get(\"raw\"..)\n",
    "\n",
    "or \n",
    "\n",
    "butler.get(\"eimage\").\n",
    "\n",
    "\n"
   ]
  },
  {
   "cell_type": "code",
   "execution_count": 88,
   "metadata": {},
   "outputs": [
    {
     "data": {
      "text/plain": [
       "'/project/scichris/aos/ts_wep/tests/tmpc09xcdzq/tmps9gd_9iv'"
      ]
     },
     "execution_count": 88,
     "metadata": {},
     "output_type": "execute_result"
    }
   ],
   "source": [
    "isrDir.name"
   ]
  },
  {
   "cell_type": "code",
   "execution_count": 114,
   "metadata": {},
   "outputs": [
    {
     "ename": "NoResults",
     "evalue": "No locations for get: datasetType:raw_amp dataId:DataId(initialdata={'run': '9006002', 'raftName': 'R22', 'detectorName': 'S10', 'dayObs': '2021-12-31', 'expId': 4021123108002, 'detector': 93, 'channel': 1}, tag=set())",
     "output_type": "error",
     "traceback": [
      "\u001b[0;31m---------------------------------------------------------------------------\u001b[0m",
      "\u001b[0;31mNoResults\u001b[0m                                 Traceback (most recent call last)",
      "\u001b[0;32m<ipython-input-114-111d528481e1>\u001b[0m in \u001b[0;36m<module>\u001b[0;34m\u001b[0m\n\u001b[1;32m      4\u001b[0m \u001b[0msensor\u001b[0m \u001b[0;34m=\u001b[0m \u001b[0;34m'S10'\u001b[0m\u001b[0;34m\u001b[0m\u001b[0;34m\u001b[0m\u001b[0m\n\u001b[1;32m      5\u001b[0m \u001b[0mdataId\u001b[0m \u001b[0;34m=\u001b[0m \u001b[0mdict\u001b[0m\u001b[0;34m(\u001b[0m\u001b[0mrun\u001b[0m\u001b[0;34m=\u001b[0m\u001b[0;34m'9006002'\u001b[0m\u001b[0;34m,\u001b[0m \u001b[0mraftName\u001b[0m\u001b[0;34m=\u001b[0m\u001b[0;34m'R22'\u001b[0m\u001b[0;34m,\u001b[0m \u001b[0mdetectorName\u001b[0m\u001b[0;34m=\u001b[0m\u001b[0msensor\u001b[0m\u001b[0;34m)\u001b[0m\u001b[0;34m\u001b[0m\u001b[0;34m\u001b[0m\u001b[0m\n\u001b[0;32m----> 6\u001b[0;31m \u001b[0mpost\u001b[0m \u001b[0;34m=\u001b[0m \u001b[0mbutler\u001b[0m\u001b[0;34m.\u001b[0m\u001b[0mget\u001b[0m\u001b[0;34m(\u001b[0m\u001b[0;34m\"raw\"\u001b[0m\u001b[0;34m,\u001b[0m \u001b[0mdataId\u001b[0m\u001b[0;34m=\u001b[0m\u001b[0mdataId\u001b[0m\u001b[0;34m)\u001b[0m\u001b[0;34m\u001b[0m\u001b[0;34m\u001b[0m\u001b[0m\n\u001b[0m\u001b[1;32m      7\u001b[0m \u001b[0;34m\u001b[0m\u001b[0m\n",
      "\u001b[0;32m/opt/lsst/software/stack/stack/miniconda3-py38_4.9.2-0.4.1/Linux64/daf_persistence/21.0.0-7-g98eecf7+3609eddee2/python/lsst/daf/persistence/butler.py\u001b[0m in \u001b[0;36mget\u001b[0;34m(self, datasetType, dataId, immediate, **rest)\u001b[0m\n\u001b[1;32m   1413\u001b[0m                 \u001b[0;32mreturn\u001b[0m \u001b[0mlocation\u001b[0m\u001b[0;34m.\u001b[0m\u001b[0mmapper\u001b[0m\u001b[0;34m.\u001b[0m\u001b[0mstandardize\u001b[0m\u001b[0;34m(\u001b[0m\u001b[0mlocation\u001b[0m\u001b[0;34m.\u001b[0m\u001b[0mdatasetType\u001b[0m\u001b[0;34m,\u001b[0m \u001b[0minnerCallback\u001b[0m\u001b[0;34m(\u001b[0m\u001b[0;34m)\u001b[0m\u001b[0;34m,\u001b[0m \u001b[0mdataId\u001b[0m\u001b[0;34m)\u001b[0m\u001b[0;34m\u001b[0m\u001b[0;34m\u001b[0m\u001b[0m\n\u001b[1;32m   1414\u001b[0m         \u001b[0;32mif\u001b[0m \u001b[0mimmediate\u001b[0m\u001b[0;34m:\u001b[0m\u001b[0;34m\u001b[0m\u001b[0;34m\u001b[0m\u001b[0m\n\u001b[0;32m-> 1415\u001b[0;31m             \u001b[0;32mreturn\u001b[0m \u001b[0mcallback\u001b[0m\u001b[0;34m(\u001b[0m\u001b[0;34m)\u001b[0m\u001b[0;34m\u001b[0m\u001b[0;34m\u001b[0m\u001b[0m\n\u001b[0m\u001b[1;32m   1416\u001b[0m         \u001b[0;32mreturn\u001b[0m \u001b[0mReadProxy\u001b[0m\u001b[0;34m(\u001b[0m\u001b[0mcallback\u001b[0m\u001b[0;34m)\u001b[0m\u001b[0;34m\u001b[0m\u001b[0;34m\u001b[0m\u001b[0m\n\u001b[1;32m   1417\u001b[0m \u001b[0;34m\u001b[0m\u001b[0m\n",
      "\u001b[0;32m/opt/lsst/software/stack/stack/miniconda3-py38_4.9.2-0.4.1/Linux64/daf_persistence/21.0.0-7-g98eecf7+3609eddee2/python/lsst/daf/persistence/butler.py\u001b[0m in \u001b[0;36mcallback\u001b[0;34m()\u001b[0m\n\u001b[1;32m   1411\u001b[0m \u001b[0;34m\u001b[0m\u001b[0m\n\u001b[1;32m   1412\u001b[0m             \u001b[0;32mdef\u001b[0m \u001b[0mcallback\u001b[0m\u001b[0;34m(\u001b[0m\u001b[0;34m)\u001b[0m\u001b[0;34m:\u001b[0m\u001b[0;34m\u001b[0m\u001b[0;34m\u001b[0m\u001b[0m\n\u001b[0;32m-> 1413\u001b[0;31m                 \u001b[0;32mreturn\u001b[0m \u001b[0mlocation\u001b[0m\u001b[0;34m.\u001b[0m\u001b[0mmapper\u001b[0m\u001b[0;34m.\u001b[0m\u001b[0mstandardize\u001b[0m\u001b[0;34m(\u001b[0m\u001b[0mlocation\u001b[0m\u001b[0;34m.\u001b[0m\u001b[0mdatasetType\u001b[0m\u001b[0;34m,\u001b[0m \u001b[0minnerCallback\u001b[0m\u001b[0;34m(\u001b[0m\u001b[0;34m)\u001b[0m\u001b[0;34m,\u001b[0m \u001b[0mdataId\u001b[0m\u001b[0;34m)\u001b[0m\u001b[0;34m\u001b[0m\u001b[0;34m\u001b[0m\u001b[0m\n\u001b[0m\u001b[1;32m   1414\u001b[0m         \u001b[0;32mif\u001b[0m \u001b[0mimmediate\u001b[0m\u001b[0;34m:\u001b[0m\u001b[0;34m\u001b[0m\u001b[0;34m\u001b[0m\u001b[0m\n\u001b[1;32m   1415\u001b[0m             \u001b[0;32mreturn\u001b[0m \u001b[0mcallback\u001b[0m\u001b[0;34m(\u001b[0m\u001b[0;34m)\u001b[0m\u001b[0;34m\u001b[0m\u001b[0;34m\u001b[0m\u001b[0m\n",
      "\u001b[0;32m/opt/lsst/software/stack/stack/miniconda3-py38_4.9.2-0.4.1/Linux64/daf_persistence/21.0.0-7-g98eecf7+3609eddee2/python/lsst/daf/persistence/butler.py\u001b[0m in \u001b[0;36mcallback\u001b[0;34m()\u001b[0m\n\u001b[1;32m   1406\u001b[0m         \u001b[0;32melse\u001b[0m\u001b[0;34m:\u001b[0m\u001b[0;34m\u001b[0m\u001b[0;34m\u001b[0m\u001b[0m\n\u001b[1;32m   1407\u001b[0m             \u001b[0;32mdef\u001b[0m \u001b[0mcallback\u001b[0m\u001b[0;34m(\u001b[0m\u001b[0;34m)\u001b[0m\u001b[0;34m:\u001b[0m\u001b[0;34m\u001b[0m\u001b[0;34m\u001b[0m\u001b[0m\n\u001b[0;32m-> 1408\u001b[0;31m                 \u001b[0;32mreturn\u001b[0m \u001b[0mself\u001b[0m\u001b[0;34m.\u001b[0m\u001b[0m_read\u001b[0m\u001b[0;34m(\u001b[0m\u001b[0mlocation\u001b[0m\u001b[0;34m)\u001b[0m\u001b[0;34m\u001b[0m\u001b[0;34m\u001b[0m\u001b[0m\n\u001b[0m\u001b[1;32m   1409\u001b[0m         \u001b[0;32mif\u001b[0m \u001b[0mlocation\u001b[0m\u001b[0;34m.\u001b[0m\u001b[0mmapper\u001b[0m\u001b[0;34m.\u001b[0m\u001b[0mcanStandardize\u001b[0m\u001b[0;34m(\u001b[0m\u001b[0mlocation\u001b[0m\u001b[0;34m.\u001b[0m\u001b[0mdatasetType\u001b[0m\u001b[0;34m)\u001b[0m\u001b[0;34m:\u001b[0m\u001b[0;34m\u001b[0m\u001b[0;34m\u001b[0m\u001b[0m\n\u001b[1;32m   1410\u001b[0m             \u001b[0minnerCallback\u001b[0m \u001b[0;34m=\u001b[0m \u001b[0mcallback\u001b[0m\u001b[0;34m\u001b[0m\u001b[0;34m\u001b[0m\u001b[0m\n",
      "\u001b[0;32m/opt/lsst/software/stack/stack/miniconda3-py38_4.9.2-0.4.1/Linux64/daf_persistence/21.0.0-7-g98eecf7+3609eddee2/python/lsst/daf/persistence/butler.py\u001b[0m in \u001b[0;36m_read\u001b[0;34m(self, location)\u001b[0m\n\u001b[1;32m   1598\u001b[0m                 \u001b[0;32mif\u001b[0m \u001b[0mcomponentInfo\u001b[0m\u001b[0;34m.\u001b[0m\u001b[0msubset\u001b[0m\u001b[0;34m:\u001b[0m\u001b[0;34m\u001b[0m\u001b[0;34m\u001b[0m\u001b[0m\n\u001b[1;32m   1599\u001b[0m                     \u001b[0msubset\u001b[0m \u001b[0;34m=\u001b[0m \u001b[0mself\u001b[0m\u001b[0;34m.\u001b[0m\u001b[0msubset\u001b[0m\u001b[0;34m(\u001b[0m\u001b[0mdatasetType\u001b[0m\u001b[0;34m=\u001b[0m\u001b[0mcomponentInfo\u001b[0m\u001b[0;34m.\u001b[0m\u001b[0mdatasetType\u001b[0m\u001b[0;34m,\u001b[0m \u001b[0mdataId\u001b[0m\u001b[0;34m=\u001b[0m\u001b[0mlocation\u001b[0m\u001b[0;34m.\u001b[0m\u001b[0mdataId\u001b[0m\u001b[0;34m)\u001b[0m\u001b[0;34m\u001b[0m\u001b[0;34m\u001b[0m\u001b[0m\n\u001b[0;32m-> 1600\u001b[0;31m                     \u001b[0mcomponentInfo\u001b[0m\u001b[0;34m.\u001b[0m\u001b[0mobj\u001b[0m \u001b[0;34m=\u001b[0m \u001b[0;34m[\u001b[0m\u001b[0mobj\u001b[0m\u001b[0;34m.\u001b[0m\u001b[0mget\u001b[0m\u001b[0;34m(\u001b[0m\u001b[0;34m)\u001b[0m \u001b[0;32mfor\u001b[0m \u001b[0mobj\u001b[0m \u001b[0;32min\u001b[0m \u001b[0msubset\u001b[0m\u001b[0;34m]\u001b[0m\u001b[0;34m\u001b[0m\u001b[0;34m\u001b[0m\u001b[0m\n\u001b[0m\u001b[1;32m   1601\u001b[0m                 \u001b[0;32melse\u001b[0m\u001b[0;34m:\u001b[0m\u001b[0;34m\u001b[0m\u001b[0;34m\u001b[0m\u001b[0m\n\u001b[1;32m   1602\u001b[0m                     \u001b[0mobj\u001b[0m \u001b[0;34m=\u001b[0m \u001b[0mself\u001b[0m\u001b[0;34m.\u001b[0m\u001b[0mget\u001b[0m\u001b[0;34m(\u001b[0m\u001b[0mcomponentInfo\u001b[0m\u001b[0;34m.\u001b[0m\u001b[0mdatasetType\u001b[0m\u001b[0;34m,\u001b[0m \u001b[0mlocation\u001b[0m\u001b[0;34m.\u001b[0m\u001b[0mdataId\u001b[0m\u001b[0;34m,\u001b[0m \u001b[0mimmediate\u001b[0m\u001b[0;34m=\u001b[0m\u001b[0;32mTrue\u001b[0m\u001b[0;34m)\u001b[0m\u001b[0;34m\u001b[0m\u001b[0;34m\u001b[0m\u001b[0m\n",
      "\u001b[0;32m/opt/lsst/software/stack/stack/miniconda3-py38_4.9.2-0.4.1/Linux64/daf_persistence/21.0.0-7-g98eecf7+3609eddee2/python/lsst/daf/persistence/butler.py\u001b[0m in \u001b[0;36m<listcomp>\u001b[0;34m(.0)\u001b[0m\n\u001b[1;32m   1598\u001b[0m                 \u001b[0;32mif\u001b[0m \u001b[0mcomponentInfo\u001b[0m\u001b[0;34m.\u001b[0m\u001b[0msubset\u001b[0m\u001b[0;34m:\u001b[0m\u001b[0;34m\u001b[0m\u001b[0;34m\u001b[0m\u001b[0m\n\u001b[1;32m   1599\u001b[0m                     \u001b[0msubset\u001b[0m \u001b[0;34m=\u001b[0m \u001b[0mself\u001b[0m\u001b[0;34m.\u001b[0m\u001b[0msubset\u001b[0m\u001b[0;34m(\u001b[0m\u001b[0mdatasetType\u001b[0m\u001b[0;34m=\u001b[0m\u001b[0mcomponentInfo\u001b[0m\u001b[0;34m.\u001b[0m\u001b[0mdatasetType\u001b[0m\u001b[0;34m,\u001b[0m \u001b[0mdataId\u001b[0m\u001b[0;34m=\u001b[0m\u001b[0mlocation\u001b[0m\u001b[0;34m.\u001b[0m\u001b[0mdataId\u001b[0m\u001b[0;34m)\u001b[0m\u001b[0;34m\u001b[0m\u001b[0;34m\u001b[0m\u001b[0m\n\u001b[0;32m-> 1600\u001b[0;31m                     \u001b[0mcomponentInfo\u001b[0m\u001b[0;34m.\u001b[0m\u001b[0mobj\u001b[0m \u001b[0;34m=\u001b[0m \u001b[0;34m[\u001b[0m\u001b[0mobj\u001b[0m\u001b[0;34m.\u001b[0m\u001b[0mget\u001b[0m\u001b[0;34m(\u001b[0m\u001b[0;34m)\u001b[0m \u001b[0;32mfor\u001b[0m \u001b[0mobj\u001b[0m \u001b[0;32min\u001b[0m \u001b[0msubset\u001b[0m\u001b[0;34m]\u001b[0m\u001b[0;34m\u001b[0m\u001b[0;34m\u001b[0m\u001b[0m\n\u001b[0m\u001b[1;32m   1601\u001b[0m                 \u001b[0;32melse\u001b[0m\u001b[0;34m:\u001b[0m\u001b[0;34m\u001b[0m\u001b[0;34m\u001b[0m\u001b[0m\n\u001b[1;32m   1602\u001b[0m                     \u001b[0mobj\u001b[0m \u001b[0;34m=\u001b[0m \u001b[0mself\u001b[0m\u001b[0;34m.\u001b[0m\u001b[0mget\u001b[0m\u001b[0;34m(\u001b[0m\u001b[0mcomponentInfo\u001b[0m\u001b[0;34m.\u001b[0m\u001b[0mdatasetType\u001b[0m\u001b[0;34m,\u001b[0m \u001b[0mlocation\u001b[0m\u001b[0;34m.\u001b[0m\u001b[0mdataId\u001b[0m\u001b[0;34m,\u001b[0m \u001b[0mimmediate\u001b[0m\u001b[0;34m=\u001b[0m\u001b[0;32mTrue\u001b[0m\u001b[0;34m)\u001b[0m\u001b[0;34m\u001b[0m\u001b[0;34m\u001b[0m\u001b[0m\n",
      "\u001b[0;32m/opt/lsst/software/stack/stack/miniconda3-py38_4.9.2-0.4.1/Linux64/daf_persistence/21.0.0-7-g98eecf7+3609eddee2/python/lsst/daf/persistence/butlerSubset.py\u001b[0m in \u001b[0;36mget\u001b[0;34m(self, datasetType, **rest)\u001b[0m\n\u001b[1;32m    201\u001b[0m         \u001b[0;32mif\u001b[0m \u001b[0mdatasetType\u001b[0m \u001b[0;32mis\u001b[0m \u001b[0;32mNone\u001b[0m\u001b[0;34m:\u001b[0m\u001b[0;34m\u001b[0m\u001b[0;34m\u001b[0m\u001b[0m\n\u001b[1;32m    202\u001b[0m             \u001b[0mdatasetType\u001b[0m \u001b[0;34m=\u001b[0m \u001b[0mself\u001b[0m\u001b[0;34m.\u001b[0m\u001b[0mbutlerSubset\u001b[0m\u001b[0;34m.\u001b[0m\u001b[0mdatasetType\u001b[0m\u001b[0;34m\u001b[0m\u001b[0;34m\u001b[0m\u001b[0m\n\u001b[0;32m--> 203\u001b[0;31m         \u001b[0;32mreturn\u001b[0m \u001b[0mself\u001b[0m\u001b[0;34m.\u001b[0m\u001b[0mbutlerSubset\u001b[0m\u001b[0;34m.\u001b[0m\u001b[0mbutler\u001b[0m\u001b[0;34m.\u001b[0m\u001b[0mget\u001b[0m\u001b[0;34m(\u001b[0m\u001b[0mdatasetType\u001b[0m\u001b[0;34m,\u001b[0m \u001b[0mself\u001b[0m\u001b[0;34m.\u001b[0m\u001b[0mdataId\u001b[0m\u001b[0;34m,\u001b[0m \u001b[0;34m**\u001b[0m\u001b[0mrest\u001b[0m\u001b[0;34m)\u001b[0m\u001b[0;34m\u001b[0m\u001b[0;34m\u001b[0m\u001b[0m\n\u001b[0m\u001b[1;32m    204\u001b[0m \u001b[0;34m\u001b[0m\u001b[0m\n\u001b[1;32m    205\u001b[0m     \u001b[0;32mdef\u001b[0m \u001b[0mput\u001b[0m\u001b[0;34m(\u001b[0m\u001b[0mself\u001b[0m\u001b[0;34m,\u001b[0m \u001b[0mobj\u001b[0m\u001b[0;34m,\u001b[0m \u001b[0mdatasetType\u001b[0m\u001b[0;34m=\u001b[0m\u001b[0;32mNone\u001b[0m\u001b[0;34m,\u001b[0m \u001b[0mdoBackup\u001b[0m\u001b[0;34m=\u001b[0m\u001b[0;32mFalse\u001b[0m\u001b[0;34m,\u001b[0m \u001b[0;34m**\u001b[0m\u001b[0mrest\u001b[0m\u001b[0;34m)\u001b[0m\u001b[0;34m:\u001b[0m\u001b[0;34m\u001b[0m\u001b[0;34m\u001b[0m\u001b[0m\n",
      "\u001b[0;32m/opt/lsst/software/stack/stack/miniconda3-py38_4.9.2-0.4.1/Linux64/daf_persistence/21.0.0-7-g98eecf7+3609eddee2/python/lsst/daf/persistence/butler.py\u001b[0m in \u001b[0;36mget\u001b[0;34m(self, datasetType, dataId, immediate, **rest)\u001b[0m\n\u001b[1;32m   1397\u001b[0m         \u001b[0mlocation\u001b[0m \u001b[0;34m=\u001b[0m \u001b[0mself\u001b[0m\u001b[0;34m.\u001b[0m\u001b[0m_locate\u001b[0m\u001b[0;34m(\u001b[0m\u001b[0mdatasetType\u001b[0m\u001b[0;34m,\u001b[0m \u001b[0mdataId\u001b[0m\u001b[0;34m,\u001b[0m \u001b[0mwrite\u001b[0m\u001b[0;34m=\u001b[0m\u001b[0;32mFalse\u001b[0m\u001b[0;34m)\u001b[0m\u001b[0;34m\u001b[0m\u001b[0;34m\u001b[0m\u001b[0m\n\u001b[1;32m   1398\u001b[0m         \u001b[0;32mif\u001b[0m \u001b[0mlocation\u001b[0m \u001b[0;32mis\u001b[0m \u001b[0;32mNone\u001b[0m\u001b[0;34m:\u001b[0m\u001b[0;34m\u001b[0m\u001b[0;34m\u001b[0m\u001b[0m\n\u001b[0;32m-> 1399\u001b[0;31m             \u001b[0;32mraise\u001b[0m \u001b[0mNoResults\u001b[0m\u001b[0;34m(\u001b[0m\u001b[0;34m\"No locations for get:\"\u001b[0m\u001b[0;34m,\u001b[0m \u001b[0mdatasetType\u001b[0m\u001b[0;34m,\u001b[0m \u001b[0mdataId\u001b[0m\u001b[0;34m)\u001b[0m\u001b[0;34m\u001b[0m\u001b[0;34m\u001b[0m\u001b[0m\n\u001b[0m\u001b[1;32m   1400\u001b[0m         \u001b[0mself\u001b[0m\u001b[0;34m.\u001b[0m\u001b[0mlog\u001b[0m\u001b[0;34m.\u001b[0m\u001b[0mdebug\u001b[0m\u001b[0;34m(\u001b[0m\u001b[0;34m\"Get type=%s keys=%s from %s\"\u001b[0m\u001b[0;34m,\u001b[0m \u001b[0mdatasetType\u001b[0m\u001b[0;34m,\u001b[0m \u001b[0mdataId\u001b[0m\u001b[0;34m,\u001b[0m \u001b[0mstr\u001b[0m\u001b[0;34m(\u001b[0m\u001b[0mlocation\u001b[0m\u001b[0;34m)\u001b[0m\u001b[0;34m)\u001b[0m\u001b[0;34m\u001b[0m\u001b[0;34m\u001b[0m\u001b[0m\n\u001b[1;32m   1401\u001b[0m \u001b[0;34m\u001b[0m\u001b[0m\n",
      "\u001b[0;31mNoResults\u001b[0m: No locations for get: datasetType:raw_amp dataId:DataId(initialdata={'run': '9006002', 'raftName': 'R22', 'detectorName': 'S10', 'dayObs': '2021-12-31', 'expId': 4021123108002, 'detector': 93, 'channel': 1}, tag=set())"
     ]
    }
   ],
   "source": [
    "import lsst.daf.persistence as dafPersist\n",
    "\n",
    "butler = dafPersist.Butler(isrDir.name, )\n",
    "sensor = 'S10'\n",
    "dataId = dict(run='9006002', raftName='R22', detectorName=sensor)\n",
    "post = butler.get(\"raw\", dataId=dataId)\n",
    "\n"
   ]
  },
  {
   "cell_type": "code",
   "execution_count": 101,
   "metadata": {},
   "outputs": [
    {
     "data": {
      "text/plain": [
       "<matplotlib.image.AxesImage at 0x7f3931ccbb80>"
      ]
     },
     "execution_count": 101,
     "metadata": {},
     "output_type": "execute_result"
    },
    {
     "data": {
      "image/png": "[encoded data removed]",
      "text/plain": [
       "<Figure size 432x288 with 1 Axes>"
      ]
     },
     "metadata": {
      "needs_background": "light"
     },
     "output_type": "display_data"
    }
   ],
   "source": [
    "import matplotlib.pyplot as plt\n",
    "%matplotlib inline\n",
    "plt.imshow(post.image.array,vmax=1200)"
   ]
  },
  {
   "cell_type": "code",
   "execution_count": 90,
   "metadata": {},
   "outputs": [],
   "source": [
    "postE = butler.get(\"eimage\", dataId=dataId)"
   ]
  },
  {
   "cell_type": "code",
   "execution_count": 102,
   "metadata": {},
   "outputs": [
    {
     "data": {
      "text/plain": [
       "<matplotlib.image.AxesImage at 0x7f3931b81550>"
      ]
     },
     "execution_count": 102,
     "metadata": {},
     "output_type": "execute_result"
    },
    {
     "data": {
      "image/png": "[encoded data removed]",
      "text/plain": [
       "<Figure size 432x288 with 1 Axes>"
      ]
     },
     "metadata": {
      "needs_background": "light"
     },
     "output_type": "display_data"
    }
   ],
   "source": [
    "plt.imshow(postE.image.array,vmax=100)"
   ]
  },
  {
   "cell_type": "code",
   "execution_count": null,
   "metadata": {},
   "outputs": [],
   "source": [
    "# The problem is that expId and visit are calculated based on `OBSID` , and with the same data and SEQNUM,\n",
    "# which is coming from 9006002. ... \n",
    "\n",
    "# Perhaps in test_wEPCalculation.py  just need to clear the butler repo...\n",
    "\n",
    "# I don't know why I have not seen this problem before -  perhaps I used different CCDs\n",
    "\n",
    "# to test e-image ingestion? \n",
    "\n"
   ]
  },
  {
   "cell_type": "code",
   "execution_count": 121,
   "metadata": {},
   "outputs": [
    {
     "name": "stdout",
     "output_type": "stream",
     "text": [
      "/project/scichris/aos/ts_wep/tests/tmp2o9_v_5a\n",
      "/project/scichris/aos/ts_wep/tests/tmp2o9_v_5a/tmpd08nk525\n"
     ]
    }
   ],
   "source": [
    "import os\n",
    "import tempfile\n",
    "import unittest\n",
    "\n",
    "from lsst.ts.wep.CamDataCollector import CamDataCollector\n",
    "from lsst.ts.wep.Utility import getModulePath, runProgram\n",
    "\n",
    "testDir = os.path.join(getModulePath(), \"tests\")\n",
    "dataDir = tempfile.TemporaryDirectory(dir=testDir)\n",
    "isrDir = tempfile.TemporaryDirectory(dir=dataDir.name)\n",
    "print(dataDir.name)\n",
    "print(isrDir.name)\n",
    "\n",
    "camDataCollector = CamDataCollector(isrDir.name)"
   ]
  },
  {
   "cell_type": "code",
   "execution_count": 122,
   "metadata": {},
   "outputs": [],
   "source": [
    "# ingest raw image \n",
    "\n",
    "camDataCollector.genLsstCamMapper()\n",
    "mapperFilePath = os.path.join(isrDir.name, \"_mapper\")\n",
    "\n",
    "\n",
    "imgFiles = os.path.join(\n",
    "    getModulePath(),\n",
    "    \"tests\",\n",
    "    \"testData\",\n",
    "    \"phosimOutput\",\n",
    "    \"realComCam\",\n",
    "    \"repackagedFiles\",\n",
    "    \"intra\",\n",
    "    \"MC_H_20211231_006002_R22_S10.fits\",\n",
    ")\n",
    "camDataCollector.ingestImages(imgFiles)"
   ]
  },
  {
   "cell_type": "code",
   "execution_count": 123,
   "metadata": {},
   "outputs": [],
   "source": [
    "# ingest e-image \n",
    "imgFiles = os.path.join(\n",
    "            getModulePath(),\n",
    "            \"tests\",\n",
    "            \"testData\",\n",
    "            \"phosimOutput\",\n",
    "            \"realComCam\",\n",
    "            \"repackagedFiles\",\n",
    "            \"intra\",\n",
    "            \"MC_H_20211231_008002_R22_S10_e.fits\",\n",
    "        )\n",
    "camDataCollector.ingestEimages(imgFiles)\n",
    "    "
   ]
  },
  {
   "cell_type": "code",
   "execution_count": 129,
   "metadata": {},
   "outputs": [
    {
     "data": {
      "text/plain": [
       "'/project/scichris/aos/ts_wep/tests/tmp2o9_v_5a/tmpd08nk525'"
      ]
     },
     "execution_count": 129,
     "metadata": {},
     "output_type": "execute_result"
    }
   ],
   "source": [
    "isrDir.name"
   ]
  },
  {
   "cell_type": "code",
   "execution_count": 136,
   "metadata": {},
   "outputs": [],
   "source": [
    "# and show that I can get them by the usual dataId: \n",
    "\n",
    "import lsst.daf.persistence as dafPersist\n",
    "\n",
    "butler = dafPersist.Butler(isrDir.name, )\n",
    "dataId = dict(run='9006002', visit='4021123106002', raftName='R22', detectorName='S10')\n",
    "post = butler.get(\"raw\", dataId=dataId)\n"
   ]
  },
  {
   "cell_type": "markdown",
   "metadata": {},
   "source": [
    "**The problem now is that if we have BOTH raw and e-image , we can't distinguish them by merely  \"run\",  \"raftName\", \"detectorName\", bacause these are the same ...**\n",
    "\n",
    "\n",
    "How is it possible that there wasn't a problem with that when using the old phosim ingestEimg.py   retarget ?  Should I spend time on that?  \n",
    "\n",
    "In the AOS loop we don't ingest amp images and e=images at the same tiem .... \n",
    "\n",
    "\n",
    "Make it so that the tests don;t fail, because I don't think it's worth wasting time on passing on the \"visit\" throughout `ts_wep` just to make it possible to ingest amp and e-images at the same time ... \n",
    "\n",
    "\n"
   ]
  },
  {
   "cell_type": "code",
   "execution_count": 135,
   "metadata": {},
   "outputs": [
    {
     "data": {
      "text/plain": [
       "[('2021-12-31', 4021123106002, '9006002', 'R22', 'S10'),\n",
       " ('2021-12-31', 4021123108002, '9006002', 'R22', 'S10')]"
      ]
     },
     "execution_count": 135,
     "metadata": {},
     "output_type": "execute_result"
    }
   ],
   "source": [
    "butler.queryMetadata('eimage', ['dayObs', 'visit', 'run', 'raftName', 'detectorName'], dataId, )"
   ]
  },
  {
   "cell_type": "code",
   "execution_count": 130,
   "metadata": {},
   "outputs": [
    {
     "data": {
      "text/plain": [
       "[('2021-12-31', 4021123106002), ('2021-12-31', 4021123108002)]"
      ]
     },
     "execution_count": 130,
     "metadata": {},
     "output_type": "execute_result"
    }
   ],
   "source": []
  },
  {
   "cell_type": "code",
   "execution_count": null,
   "metadata": {},
   "outputs": [],
   "source": [
    "dataId = dict(run='9006002', raftName='R22', detectorName=sensor)"
   ]
  },
  {
   "cell_type": "markdown",
   "metadata": {},
   "source": [
    "Given that, I made a small change to `phosim_repackager.py` , to ensure that for the same visit, run, etc. , the seqnum,  and hence expId or \"visit\", will be different:  \n",
    "\n",
    "     sensor.header['SEQNUM'] = SEQNUM+2000  # ensuring uniqueness from amp image"
   ]
  },
  {
   "cell_type": "markdown",
   "metadata": {},
   "source": [
    "And I run again the imgCloseLoop   to create e-images using ts_wep star catalog , but repackage them in a slightly different way ...  \n",
    "\n",
    "\n",
    "python bin.src/imgCloseLoop.py --inst comcam --numOfProc 25 --boresightDeg 0.0  0.0 --skyFile /project/scichris/aos/ts_wep/tests/testData/phosimOutput/realComCam/skyComCamInfo.txt --output /project/scichris/aos/segmentation_update/comcam/imgCloseLoop_wepEimg2 --eimage\n",
    "\n",
    "\n",
    "And I copy them again... \n",
    "\n",
    "\n",
    "cp /project/scichris/aos/segmentation_update/comcam/imgCloseLoop_wepEimg2/iter0/img/extra/*_e.fits /project/scichris/aos/ts_wep/tests/testData/phosimOutput/realComCam/repackagedFiles/extra/\n",
    "\n",
    "cp /project/scichris/aos/segmentation_update/comcam/imgCloseLoop_wepEimg2/iter0/img/intra/*_e.fits /project/scichris/aos/ts_wep/tests/testData/phosimOutput/realComCam/repackagedFiles/intra/\n",
    "\n",
    "\n"
   ]
  },
  {
   "cell_type": "markdown",
   "metadata": {},
   "source": [
    "# `test_camIsrWrapper_NEW` <a id='camIsrWrapper'></a>"
   ]
  },
  {
   "cell_type": "code",
   "execution_count": 142,
   "metadata": {},
   "outputs": [],
   "source": [
    "import os\n",
    "import tempfile\n",
    "import unittest\n",
    "\n",
    "from lsst.ts.wep.CamIsrWrapper import CamIsrWrapper\n",
    "from lsst.ts.wep.CamDataCollector import CamDataCollector\n",
    "from lsst.ts.wep.Utility import getModulePath, runProgram\n",
    "\n",
    "\n",
    "testDir = os.path.join(getModulePath(), \"tests\")\n",
    "dataDir = tempfile.TemporaryDirectory(dir=testDir)\n",
    "isrDir = tempfile.TemporaryDirectory(dir=dataDir.name)\n",
    "\n",
    "repackagedTestData = os.path.join(\n",
    "    testDir,\n",
    "    \"testData\",\n",
    "    \"phosimOutput\",\n",
    "    \"realComCam\",\n",
    "    \"repackagedFiles\",\n",
    "    \"intra\",\n",
    ")\n",
    "\n",
    "camIsrWrapper = CamIsrWrapper(isrDir.name)\n",
    "\n",
    "# _getCamDataCollectorAndIngestCalibs \n",
    "\n",
    "# Generate the camera mapper\n",
    "camDataCollector = CamDataCollector(isrDir.name)\n",
    "camDataCollector.genLsstCamMapper()\n",
    "\n",
    "# Generate the fake flat images\n",
    "fakeFlatDir = tempfile.TemporaryDirectory(dir=dataDir.name)\n",
    "\n",
    "\n",
    "\n",
    "def _changeWorkDir(dirPath):\n",
    "    os.chdir(dirPath)\n",
    "\n",
    "def _makeFakeFlat(detector):\n",
    "\n",
    "    command = \"makeGainImages.py\"\n",
    "    argstring = \"--detector_list %s\" % detector\n",
    "    runProgram(command, argstring=argstring)\n",
    "    \n",
    "def _genFakeFlat(fakeFlatDir, detector):\n",
    "    currWorkDir = os.getcwd()\n",
    "\n",
    "    _changeWorkDir(fakeFlatDir)\n",
    "    _makeFakeFlat(detector)\n",
    "    _changeWorkDir(currWorkDir)\n",
    "\n",
    "    \n",
    "# Get the camDataCollector and ingest the calibs\n",
    "detector = \"R22_S11 R22_S10\"\n",
    "\n",
    "_genFakeFlat(fakeFlatDir.name, detector)\n",
    "\n",
    "# Ingest the calibration images\n",
    "calibFiles = os.path.join(fakeFlatDir.name, \"*\")\n",
    "camDataCollector.ingestCalibs(calibFiles)\n",
    "\n",
    "\n",
    "\n",
    "def _ingestRawAndDoIsr(imgFileName, camDataCollector, rerunName, doIsrConfig, repackagedTestData, camIsrWrapper, isrDir\n",
    "):\n",
    "\n",
    "    imgFiles = os.path.join(repackagedTestData, imgFileName)\n",
    "    camDataCollector.ingestImages(imgFiles)\n",
    "\n",
    "    # Do the ISR configuration\n",
    "    if doIsrConfig is True:\n",
    "        fileName = \"isr_config.py\"\n",
    "        camIsrWrapper.config(doFlat=True, doOverscan=True, fileName=fileName)\n",
    "\n",
    "    # Do the ISR\n",
    "    camIsrWrapper.doISR(isrDir.name, rerunName=rerunName)\n",
    "\n",
    "        \n",
    "# Ingest the first raw images and do the ISR\n",
    "imgFileName = \"MC_H_20211231_006002_R22_S11.fits\"\n",
    "rerunName = \"run1\"\n",
    "doIsrConfig=True\n",
    "_ingestRawAndDoIsr(imgFileName, camDataCollector, rerunName, doIsrConfig,\n",
    "                   repackagedTestData, camIsrWrapper, isrDir\n",
    " )\n",
    "\n",
    "#def testDoIsrContinuous(self):\n",
    "\n"
   ]
  },
  {
   "cell_type": "code",
   "execution_count": 146,
   "metadata": {},
   "outputs": [
    {
     "data": {
      "text/plain": [
       "['isr_config.py',\n",
       " 'calibRegistry.sqlite3',\n",
       " 'raw',\n",
       " '_mapper',\n",
       " 'flat',\n",
       " 'registry.sqlite3',\n",
       " 'rerun']"
      ]
     },
     "execution_count": 146,
     "metadata": {},
     "output_type": "execute_result"
    }
   ],
   "source": [
    "os.listdir(isrDir.name)"
   ]
  },
  {
   "cell_type": "code",
   "execution_count": 147,
   "metadata": {},
   "outputs": [
    {
     "name": "stdout",
     "output_type": "stream",
     "text": [
      "1\n"
     ]
    }
   ],
   "source": [
    "def _getNumOfDir( dirPath):\n",
    "\n",
    "    numOfDir = sum(\n",
    "        os.path.isdir(os.path.join(dirPath, aDir))\n",
    "        for aDir in os.listdir(path=dirPath)\n",
    "    )\n",
    "\n",
    "    return numOfDir\n",
    "    \n",
    "postIsrCcdDir = os.path.join(isrDir.name, \"rerun\", rerunName, \"postISRCCD\")\n",
    "numOfDir = _getNumOfDir(postIsrCcdDir)\n",
    "print(numOfDir)"
   ]
  },
  {
   "cell_type": "code",
   "execution_count": 149,
   "metadata": {},
   "outputs": [],
   "source": [
    "# Ingest the second raw image and do the ISR again\n",
    "imgFileName = \"MC_H_20211231_006002_R22_S10.fits\"\n",
    "doIsrConfig=False\n",
    "_ingestRawAndDoIsr(imgFileName, camDataCollector, rerunName, doIsrConfig,\n",
    "                    repackagedTestData, camIsrWrapper, isrDir )"
   ]
  },
  {
   "cell_type": "code",
   "execution_count": 153,
   "metadata": {},
   "outputs": [
    {
     "data": {
      "text/plain": [
       "2"
      ]
     },
     "execution_count": 153,
     "metadata": {},
     "output_type": "execute_result"
    }
   ],
   "source": [
    "postIsrCcdDir = os.path.join(isrDir.name, \"rerun\", rerunName, \"postISRCCD\",\n",
    "            \"4021123106002-g\",\"R22\")\n",
    "len(os.listdir(postIsrCcdDir))"
   ]
  },
  {
   "cell_type": "markdown",
   "metadata": {},
   "source": [
    "# `test_butlerWrapper_NEW` <a id='butlerWrapper'></a>"
   ]
  },
  {
   "cell_type": "code",
   "execution_count": 154,
   "metadata": {},
   "outputs": [],
   "source": [
    "import os\n",
    "import numpy as np\n",
    "import tempfile\n",
    "import unittest\n",
    "\n",
    "from lsst.ts.wep.CamDataCollector import CamDataCollector\n",
    "from lsst.ts.wep.ButlerWrapper import ButlerWrapper\n",
    "from lsst.ts.wep.Utility import getModulePath\n",
    "\n",
    "\n",
    "dataDirPath = os.path.join(getModulePath(), \"tests\")\n",
    "dataDir = tempfile.TemporaryDirectory(dir=dataDirPath)\n",
    "\n",
    "def _ingestImages(dataDir):\n",
    "\n",
    "    # Generate the camera mapper\n",
    "    camDataCollector = CamDataCollector(dataDir.name)\n",
    "    camDataCollector.genLsstCamMapper()\n",
    "\n",
    "    # Ingest the E image\n",
    "    imgFilesEimg = os.path.join(\n",
    "        getModulePath(),\n",
    "        \"tests\",\n",
    "        \"testData\",\n",
    "        \"phosimOutput\",\n",
    "        \"realComCam\",\n",
    "        \"repackagedFiles\",\n",
    "        \"intra\",\n",
    "        \"MC_H_20211231_006002_R22_S10_e.fits\",\n",
    "    )\n",
    "    camDataCollector.ingestEimages(imgFilesEimg)\n",
    "\n",
    "    # Ingest the amplifier image\n",
    "    imgFilesRaw = os.path.join(\n",
    "        getModulePath(),\n",
    "        \"tests\",\n",
    "        \"testData\",\n",
    "        \"phosimOutput\",\n",
    "        \"realComCam\",\n",
    "        \"repackagedFiles\",\n",
    "        \"intra\",\n",
    "            \"MC_H_20211231_006002_R22_S11.fits\",\n",
    "        )\n",
    "    camDataCollector.ingestImages(imgFilesRaw)\n",
    "\n",
    "_ingestImages(dataDir)"
   ]
  },
  {
   "cell_type": "code",
   "execution_count": 155,
   "metadata": {},
   "outputs": [],
   "source": [
    "butlerWrapper = ButlerWrapper(dataDir.name)"
   ]
  },
  {
   "cell_type": "code",
   "execution_count": 156,
   "metadata": {},
   "outputs": [],
   "source": [
    "def _getRawExp(butlerWrapper):\n",
    "    visit = 9006002\n",
    "    raft = \"R22\"\n",
    "    sensor = \"S11\"\n",
    "    return butlerWrapper.getRawExp(visit, raft, sensor)\n",
    "\n",
    "#def testGetRawExp(self):\n",
    "exposure = _getRawExp(butlerWrapper)"
   ]
  },
  {
   "cell_type": "code",
   "execution_count": 163,
   "metadata": {},
   "outputs": [
    {
     "data": {
      "text/plain": [
       "<matplotlib.image.AxesImage at 0x7f38faa09910>"
      ]
     },
     "execution_count": 163,
     "metadata": {},
     "output_type": "execute_result"
    },
    {
     "data": {
      "image/png": "[encoded data removed]",
      "text/plain": [
       "<Figure size 432x288 with 1 Axes>"
      ]
     },
     "metadata": {
      "needs_background": "light"
     },
     "output_type": "display_data"
    }
   ],
   "source": [
    "import matplotlib.pyplot as plt\n",
    "%matplotlib inline\n",
    "plt.imshow(exposure.image.array)"
   ]
  },
  {
   "cell_type": "code",
   "execution_count": 165,
   "metadata": {},
   "outputs": [],
   "source": [
    "def _getEimage(butlerWrapper):\n",
    "\n",
    "    visit = 9006002\n",
    "    raft = \"R22\"\n",
    "    sensor = \"S10\"\n",
    "    return butlerWrapper.getEimage(visit, raft, sensor)\n",
    "exposure =_getEimage(butlerWrapper)"
   ]
  },
  {
   "cell_type": "code",
   "execution_count": 166,
   "metadata": {},
   "outputs": [
    {
     "data": {
      "text/plain": [
       "4096"
      ]
     },
     "execution_count": 166,
     "metadata": {},
     "output_type": "execute_result"
    }
   ],
   "source": [
    "exposure.getDimensions().getX()"
   ]
  },
  {
   "cell_type": "code",
   "execution_count": 167,
   "metadata": {},
   "outputs": [
    {
     "data": {
      "text/plain": [
       "4004"
      ]
     },
     "execution_count": 167,
     "metadata": {},
     "output_type": "execute_result"
    }
   ],
   "source": [
    "exposure.getDimensions().getY()"
   ]
  },
  {
   "cell_type": "code",
   "execution_count": 168,
   "metadata": {},
   "outputs": [
    {
     "data": {
      "text/plain": [
       "<matplotlib.image.AxesImage at 0x7f38fa9e8a30>"
      ]
     },
     "execution_count": 168,
     "metadata": {},
     "output_type": "execute_result"
    },
    {
     "data": {
      "image/png": "[encoded data removed]",
      "text/plain": [
       "<Figure size 432x288 with 1 Axes>"
      ]
     },
     "metadata": {
      "needs_background": "light"
     },
     "output_type": "display_data"
    }
   ],
   "source": [
    "plt.imshow(exposure.image.array)"
   ]
  },
  {
   "cell_type": "code",
   "execution_count": 169,
   "metadata": {},
   "outputs": [],
   "source": [
    "exposure = _getEimage(butlerWrapper)"
   ]
  },
  {
   "cell_type": "code",
   "execution_count": 170,
   "metadata": {},
   "outputs": [],
   "source": [
    "image = ButlerWrapper.getImageData(exposure)"
   ]
  },
  {
   "cell_type": "code",
   "execution_count": 171,
   "metadata": {},
   "outputs": [
    {
     "data": {
      "text/plain": [
       "array([[0., 0., 0., ..., 0., 0., 0.],\n",
       "       [0., 0., 0., ..., 0., 0., 0.],\n",
       "       [0., 0., 0., ..., 0., 0., 0.],\n",
       "       ...,\n",
       "       [0., 0., 0., ..., 0., 0., 0.],\n",
       "       [0., 0., 0., ..., 0., 0., 0.],\n",
       "       [0., 0., 0., ..., 0., 0., 0.]], dtype=float32)"
      ]
     },
     "execution_count": 171,
     "metadata": {},
     "output_type": "execute_result"
    }
   ],
   "source": [
    "image"
   ]
  },
  {
   "cell_type": "code",
   "execution_count": 173,
   "metadata": {},
   "outputs": [
    {
     "data": {
      "text/plain": [
       "True"
      ]
     },
     "execution_count": 173,
     "metadata": {},
     "output_type": "execute_result"
    }
   ],
   "source": [
    "isinstance(image, np.ndarray)"
   ]
  },
  {
   "cell_type": "code",
   "execution_count": 174,
   "metadata": {},
   "outputs": [
    {
     "data": {
      "text/plain": [
       "(4004, 4096)"
      ]
     },
     "execution_count": 174,
     "metadata": {},
     "output_type": "execute_result"
    }
   ],
   "source": [
    "image.shape"
   ]
  },
  {
   "cell_type": "markdown",
   "metadata": {},
   "source": [
    "# `test_sourceProcessor_NEW ` <a id='sourceProcessor'></a>"
   ]
  },
  {
   "cell_type": "code",
   "execution_count": 1,
   "metadata": {},
   "outputs": [],
   "source": [
    "import os\n",
    "import numpy as np\n",
    "import unittest\n",
    "\n",
    "from lsst.ts.wep.SourceProcessor import SourceProcessor\n",
    "from lsst.ts.wep.bsc.NbrStar import NbrStar\n",
    "from lsst.ts.wep.Utility import getModulePath, FilterType"
   ]
  },
  {
   "cell_type": "code",
   "execution_count": 3,
   "metadata": {},
   "outputs": [],
   "source": [
    "modulePath = getModulePath()\n",
    "sourProc = SourceProcessor()\n"
   ]
  },
  {
   "cell_type": "code",
   "execution_count": 3,
   "metadata": {},
   "outputs": [],
   "source": [
    "sourProc.config(sensorName=\"R00_SW1\")"
   ]
  },
  {
   "cell_type": "code",
   "execution_count": 4,
   "metadata": {},
   "outputs": [
    {
     "data": {
      "text/plain": [
       "'R00_SW1'"
      ]
     },
     "execution_count": 4,
     "metadata": {},
     "output_type": "execute_result"
    }
   ],
   "source": [
    "sourProc.sensorName"
   ]
  },
  {
   "cell_type": "code",
   "execution_count": 5,
   "metadata": {},
   "outputs": [
    {
     "data": {
      "text/plain": [
       "205"
      ]
     },
     "execution_count": 5,
     "metadata": {},
     "output_type": "execute_result"
    }
   ],
   "source": [
    "len(sourProc.sensorDimList)"
   ]
  },
  {
   "cell_type": "code",
   "execution_count": 4,
   "metadata": {},
   "outputs": [
    {
     "data": {
      "text/plain": [
       "0.018799000000001342"
      ]
     },
     "execution_count": 4,
     "metadata": {},
     "output_type": "execute_result"
    }
   ],
   "source": [
    "wfsSensorName = \"R44_SW0\"\n",
    "sourProc.getEulerZinDeg(wfsSensorName)"
   ]
  },
  {
   "cell_type": "markdown",
   "metadata": {},
   "source": [
    "Compare the reading of `focalplanelayout` file before and after the changes : "
   ]
  },
  {
   "cell_type": "code",
   "execution_count": 7,
   "metadata": {},
   "outputs": [],
   "source": [
    "from lsst.ts.wep.Utility import readPhoSimSettingData\n",
    "folderPath = '/project/scichris/aos/ts_wep/policy/'\n",
    "sensorEulerRotNew = readPhoSimSettingData(folderPath, 'focalplanelayout.txt', \"eulerRot\")"
   ]
  },
  {
   "cell_type": "code",
   "execution_count": 9,
   "metadata": {},
   "outputs": [],
   "source": [
    "#sensorEulerRotNew"
   ]
  },
  {
   "cell_type": "code",
   "execution_count": 9,
   "metadata": {},
   "outputs": [
    {
     "data": {
      "text/plain": [
       "['0.018799000000001342', '0.000000', '0.000000']"
      ]
     },
     "execution_count": 9,
     "metadata": {},
     "output_type": "execute_result"
    }
   ],
   "source": [
    "sensorEulerRotNew['R44_SW0']"
   ]
  },
  {
   "cell_type": "code",
   "execution_count": 10,
   "metadata": {},
   "outputs": [],
   "source": [
    "# needed to copy /data/lsst/focalplanelayout_old.txt to a different folder,\n",
    "# because readPhoSimSettingData requires the file to be \n",
    "# named 'focalplanelayout.txt' or it throws an error \n",
    "\n",
    "folderPath = '/project/scichris/aos/phosim_old_data/'\n",
    "sensorEulerRotOld = readPhoSimSettingData(folderPath, 'focalplanelayout.txt', \"eulerRot\")"
   ]
  },
  {
   "cell_type": "code",
   "execution_count": 7,
   "metadata": {},
   "outputs": [
    {
     "data": {
      "text/plain": [
       "['90.004585', '0.000000', '0.000000']"
      ]
     },
     "execution_count": 7,
     "metadata": {},
     "output_type": "execute_result"
    }
   ],
   "source": [
    "#R40_S02_C0 --> R40_SW1 \n",
    "#R40_S02_C1  --> R40_SW0 \n",
    "sensorEulerRotOld['R40_S02_C1']"
   ]
  },
  {
   "cell_type": "markdown",
   "metadata": {},
   "source": [
    "Show values in `lsstCam` in `obs_lsst`:"
   ]
  },
  {
   "cell_type": "code",
   "execution_count": 1,
   "metadata": {},
   "outputs": [
    {
     "name": "stdout",
     "output_type": "stream",
     "text": [
      "R00_SG0    (-212.2300, -258.7500) mm  450.0 deg\n",
      "R00_SG1    (-258.7300, -212.2300) mm  180.0 deg\n",
      "R00_SW0    (-214.2400, -202.6150) mm  180.0 deg\n",
      "R00_SW1    (-214.2600, -225.8850) mm  360.0 deg\n",
      "R04_SG0    ( 258.7500, -212.2300) mm  540.0 deg\n",
      "R04_SG1    ( 212.2300, -258.7300) mm  270.0 deg\n",
      "R04_SW0    ( 202.6150, -214.2400) mm  270.0 deg\n",
      "R04_SW1    ( 225.8850, -214.2600) mm  450.0 deg\n",
      "R40_SG0    (-258.7500,  212.2300) mm  360.0 deg\n",
      "R40_SG1    (-212.2300,  258.7300) mm  90.0 deg\n",
      "R40_SW0    (-202.6150,  214.2400) mm  90.0 deg\n",
      "R40_SW1    (-225.8850,  214.2600) mm  270.0 deg\n",
      "R44_SG0    ( 212.2300,  258.7500) mm  270.0 deg\n",
      "R44_SG1    ( 258.7300,  212.2300) mm  0.0 deg\n",
      "R44_SW0    ( 214.2400,  202.6150) mm  0.0 deg\n",
      "R44_SW1    ( 214.2600,  225.8850) mm  180.0 deg\n"
     ]
    }
   ],
   "source": [
    "from lsst.obs.lsst import LsstCam\n",
    "\n",
    "import lsst.geom as geom\n",
    "import lsst.afw.cameraGeom as cameraGeom\n",
    "\n",
    "\n",
    "camera = LsstCam.getCamera()\n",
    "\n",
    "for detector in camera:\n",
    "    if ('SW' in detector.getName()) or ('SG' in detector.getName()):\n",
    "        bbox = detector.getBBox()\n",
    "        xp, yp = detector.getCenter(cameraGeom.FOCAL_PLANE)  # centre of CCD\n",
    "        yaw = detector.getOrientation().getYaw().asDegrees()  # rotation in the plane of the camera  (also getPitch() and getRoll(); see afw/cameraGeom/Orientation.h)\n",
    "        print(f\"{detector.getName():10} ({xp:9.4f}, {yp:9.4f}) mm  {yaw} deg\")"
   ]
  },
  {
   "cell_type": "markdown",
   "metadata": {},
   "source": [
    "In the LsstCamPhosim mapper **none ** of the sensors has any rotation (!). Probably best to keep things unchanged, and apply any tweaks to the postISR images as needed. "
   ]
  },
  {
   "cell_type": "code",
   "execution_count": 23,
   "metadata": {},
   "outputs": [
    {
     "name": "stdout",
     "output_type": "stream",
     "text": [
      "R01_S00    (-169.9800, -296.0000) mm  0.0 deg\n",
      "R01_S01    (-127.7000, -296.1300) mm  0.0 deg\n",
      "R01_S02    ( -85.4300, -296.1800) mm  0.0 deg\n",
      "R01_S10    (-169.9300, -253.7300) mm  0.0 deg\n",
      "R01_S11    (-127.6100, -253.8100) mm  0.0 deg\n",
      "R01_S12    ( -85.3300, -253.9100) mm  0.0 deg\n",
      "R01_S20    (-169.8000, -211.4500) mm  0.0 deg\n",
      "R01_S21    (-127.5100, -211.5300) mm  0.0 deg\n",
      "R01_S22    ( -85.2500, -211.6100) mm  0.0 deg\n",
      "R02_S00    ( -42.8800, -296.3000) mm  0.0 deg\n",
      "R02_S01    (  -0.6000, -296.4300) mm  0.0 deg\n",
      "R02_S02    (  41.6700, -296.4800) mm  0.0 deg\n",
      "R02_S10    ( -42.8300, -254.0300) mm  0.0 deg\n",
      "R02_S11    (  -0.5100, -254.1100) mm  0.0 deg\n",
      "R02_S12    (  41.7700, -254.2100) mm  0.0 deg\n",
      "R02_S20    ( -42.7000, -211.7500) mm  0.0 deg\n",
      "R02_S21    (  -0.4100, -211.8300) mm  0.0 deg\n",
      "R02_S22    (  41.8500, -211.9100) mm  0.0 deg\n",
      "R03_S00    (  84.2200, -296.6000) mm  0.0 deg\n",
      "R03_S01    ( 126.5000, -296.7300) mm  0.0 deg\n",
      "R03_S02    ( 168.7700, -296.7800) mm  0.0 deg\n",
      "R03_S10    (  84.2700, -254.3300) mm  0.0 deg\n",
      "R03_S11    ( 126.5900, -254.4100) mm  0.0 deg\n",
      "R03_S12    ( 168.8700, -254.5100) mm  0.0 deg\n",
      "R03_S20    (  84.4000, -212.0500) mm  0.0 deg\n",
      "R03_S21    ( 126.6900, -212.1300) mm  0.0 deg\n",
      "R03_S22    ( 168.9500, -212.2100) mm  0.0 deg\n",
      "R10_S00    (-296.7800, -168.8000) mm  0.0 deg\n",
      "R10_S01    (-254.5000, -168.9300) mm  0.0 deg\n",
      "R10_S02    (-212.2300, -168.9800) mm  0.0 deg\n",
      "R10_S10    (-296.7300, -126.5300) mm  0.0 deg\n",
      "R10_S11    (-254.4100, -126.6100) mm  0.0 deg\n",
      "R10_S12    (-212.1300, -126.7100) mm  0.0 deg\n",
      "R10_S20    (-296.6000,  -84.2500) mm  0.0 deg\n",
      "R10_S21    (-254.3100,  -84.3300) mm  0.0 deg\n",
      "R10_S22    (-212.0500,  -84.4100) mm  0.0 deg\n",
      "R11_S00    (-169.6800, -169.0000) mm  0.0 deg\n",
      "R11_S01    (-127.4000, -169.1300) mm  0.0 deg\n",
      "R11_S02    ( -85.1300, -169.1800) mm  0.0 deg\n",
      "R11_S10    (-169.6300, -126.7300) mm  0.0 deg\n",
      "R11_S11    (-127.3100, -126.8100) mm  0.0 deg\n",
      "R11_S12    ( -85.0300, -126.9100) mm  0.0 deg\n",
      "R11_S20    (-169.5000,  -84.4500) mm  0.0 deg\n",
      "R11_S21    (-127.2100,  -84.5300) mm  0.0 deg\n",
      "R11_S22    ( -84.9500,  -84.6100) mm  0.0 deg\n",
      "R12_S00    ( -42.5800, -169.2000) mm  0.0 deg\n",
      "R12_S01    (  -0.3000, -169.3300) mm  0.0 deg\n",
      "R12_S02    (  41.9700, -169.3800) mm  0.0 deg\n",
      "R12_S10    ( -42.5300, -126.9300) mm  0.0 deg\n",
      "R12_S11    (  -0.2100, -127.0100) mm  0.0 deg\n",
      "R12_S12    (  42.0700, -127.1100) mm  0.0 deg\n",
      "R12_S20    ( -42.4000,  -84.6500) mm  0.0 deg\n",
      "R12_S21    (  -0.1100,  -84.7300) mm  0.0 deg\n",
      "R12_S22    (  42.1500,  -84.8100) mm  0.0 deg\n",
      "R13_S00    (  84.4200, -169.6000) mm  0.0 deg\n",
      "R13_S01    ( 126.7000, -169.7300) mm  0.0 deg\n",
      "R13_S02    ( 168.9700, -169.7800) mm  0.0 deg\n",
      "R13_S10    (  84.4700, -127.3300) mm  0.0 deg\n",
      "R13_S11    ( 126.7900, -127.4100) mm  0.0 deg\n",
      "R13_S12    ( 169.0700, -127.5100) mm  0.0 deg\n",
      "R13_S20    (  84.6000,  -85.0500) mm  0.0 deg\n",
      "R13_S21    ( 126.8900,  -85.1300) mm  0.0 deg\n",
      "R13_S22    ( 169.1500,  -85.2100) mm  0.0 deg\n",
      "R14_S00    ( 211.5200, -169.8000) mm  0.0 deg\n",
      "R14_S01    ( 253.8000, -169.9300) mm  0.0 deg\n",
      "R14_S02    ( 296.0700, -169.9800) mm  0.0 deg\n",
      "R14_S10    ( 211.5700, -127.5300) mm  0.0 deg\n",
      "R14_S11    ( 253.8900, -127.6100) mm  0.0 deg\n",
      "R14_S12    ( 296.1700, -127.7100) mm  0.0 deg\n",
      "R14_S20    ( 211.7000,  -85.2500) mm  0.0 deg\n",
      "R14_S21    ( 253.9900,  -85.3300) mm  0.0 deg\n",
      "R14_S22    ( 296.2500,  -85.4100) mm  0.0 deg\n",
      "R20_S00    (-296.4800,  -41.6000) mm  0.0 deg\n",
      "R20_S01    (-254.2000,  -41.7300) mm  0.0 deg\n",
      "R20_S02    (-211.9300,  -41.7800) mm  0.0 deg\n",
      "R20_S10    (-296.4300,    0.6700) mm  0.0 deg\n",
      "R20_S11    (-254.1100,    0.5900) mm  0.0 deg\n",
      "R20_S12    (-211.8300,    0.4900) mm  0.0 deg\n",
      "R20_S20    (-296.3000,   42.9500) mm  0.0 deg\n",
      "R20_S21    (-254.0100,   42.8700) mm  0.0 deg\n",
      "R20_S22    (-211.7500,   42.7900) mm  0.0 deg\n",
      "R21_S00    (-169.4800,  -42.0000) mm  0.0 deg\n",
      "R21_S01    (-127.2000,  -42.1300) mm  0.0 deg\n",
      "R21_S02    ( -84.9300,  -42.1800) mm  0.0 deg\n",
      "R21_S10    (-169.4300,    0.2700) mm  0.0 deg\n",
      "R21_S11    (-127.1100,    0.1900) mm  0.0 deg\n",
      "R21_S12    ( -84.8300,    0.0900) mm  0.0 deg\n",
      "R21_S20    (-169.3000,   42.5500) mm  0.0 deg\n",
      "R21_S21    (-127.0100,   42.4700) mm  0.0 deg\n",
      "R21_S22    ( -84.7500,   42.3900) mm  0.0 deg\n",
      "R22_S00    ( -42.3800,  -42.2000) mm  0.0 deg\n",
      "R22_S01    (  -0.1000,  -42.3300) mm  0.0 deg\n",
      "R22_S02    (  42.1700,  -42.3800) mm  0.0 deg\n",
      "R22_S10    ( -42.3300,    0.0700) mm  0.0 deg\n",
      "R22_S11    (  -0.0100,   -0.0100) mm  0.0 deg\n",
      "R22_S12    (  42.2700,   -0.1100) mm  0.0 deg\n",
      "R22_S20    ( -42.2000,   42.3500) mm  0.0 deg\n",
      "R22_S21    (   0.0900,   42.2700) mm  0.0 deg\n",
      "R22_S22    (  42.3500,   42.1900) mm  0.0 deg\n",
      "R23_S00    (  84.7200,  -42.5000) mm  0.0 deg\n",
      "R23_S01    ( 127.0000,  -42.6300) mm  0.0 deg\n",
      "R23_S02    ( 169.2700,  -42.6800) mm  0.0 deg\n",
      "R23_S10    (  84.7700,   -0.2300) mm  0.0 deg\n",
      "R23_S11    ( 127.0900,   -0.3100) mm  0.0 deg\n",
      "R23_S12    ( 169.3700,   -0.4100) mm  0.0 deg\n",
      "R23_S20    (  84.9000,   42.0500) mm  0.0 deg\n",
      "R23_S21    ( 127.1900,   41.9700) mm  0.0 deg\n",
      "R23_S22    ( 169.4500,   41.8900) mm  0.0 deg\n",
      "R24_S00    ( 211.8200,  -42.7000) mm  0.0 deg\n",
      "R24_S01    ( 254.1000,  -42.8300) mm  0.0 deg\n",
      "R24_S02    ( 296.3700,  -42.8800) mm  0.0 deg\n",
      "R24_S10    ( 211.8700,   -0.4300) mm  0.0 deg\n",
      "R24_S11    ( 254.1900,   -0.5100) mm  0.0 deg\n",
      "R24_S12    ( 296.4700,   -0.6100) mm  0.0 deg\n",
      "R24_S20    ( 212.0000,   41.8500) mm  0.0 deg\n",
      "R24_S21    ( 254.2900,   41.7700) mm  0.0 deg\n",
      "R24_S22    ( 296.5500,   41.6900) mm  0.0 deg\n",
      "R30_S00    (-296.2800,   85.4000) mm  0.0 deg\n",
      "R30_S01    (-254.0000,   85.2700) mm  0.0 deg\n",
      "R30_S02    (-211.7300,   85.2200) mm  0.0 deg\n",
      "R30_S10    (-296.2300,  127.6700) mm  0.0 deg\n",
      "R30_S11    (-253.9100,  127.5900) mm  0.0 deg\n",
      "R30_S12    (-211.6300,  127.4900) mm  0.0 deg\n",
      "R30_S20    (-296.1000,  169.9500) mm  0.0 deg\n",
      "R30_S21    (-253.8100,  169.8700) mm  0.0 deg\n",
      "R30_S22    (-211.5500,  169.7900) mm  0.0 deg\n",
      "R31_S00    (-169.1800,   85.2000) mm  0.0 deg\n",
      "R31_S01    (-126.9000,   85.0700) mm  0.0 deg\n",
      "R31_S02    ( -84.6300,   85.0200) mm  0.0 deg\n",
      "R31_S10    (-169.1300,  127.4700) mm  0.0 deg\n",
      "R31_S11    (-126.8100,  127.3900) mm  0.0 deg\n",
      "R31_S12    ( -84.5300,  127.2900) mm  0.0 deg\n",
      "R31_S20    (-169.0000,  169.7500) mm  0.0 deg\n",
      "R31_S21    (-126.7100,  169.6700) mm  0.0 deg\n",
      "R31_S22    ( -84.4500,  169.5900) mm  0.0 deg\n",
      "R32_S00    ( -42.0800,   84.9000) mm  0.0 deg\n",
      "R32_S01    (   0.2000,   84.7700) mm  0.0 deg\n",
      "R32_S02    (  42.4700,   84.7200) mm  0.0 deg\n",
      "R32_S10    ( -42.0300,  127.1700) mm  0.0 deg\n",
      "R32_S11    (   0.2900,  127.0900) mm  0.0 deg\n",
      "R32_S12    (  42.5700,  126.9900) mm  0.0 deg\n",
      "R32_S20    ( -41.9000,  169.4500) mm  0.0 deg\n",
      "R32_S21    (   0.3900,  169.3700) mm  0.0 deg\n",
      "R32_S22    (  42.6500,  169.2900) mm  0.0 deg\n",
      "R33_S00    (  85.0200,   84.6000) mm  0.0 deg\n",
      "R33_S01    ( 127.3000,   84.4700) mm  0.0 deg\n",
      "R33_S02    ( 169.5700,   84.4200) mm  0.0 deg\n",
      "R33_S10    (  85.0700,  126.8700) mm  0.0 deg\n",
      "R33_S11    ( 127.3900,  126.7900) mm  0.0 deg\n",
      "R33_S12    ( 169.6700,  126.6900) mm  0.0 deg\n",
      "R33_S20    (  85.2000,  169.1500) mm  0.0 deg\n",
      "R33_S21    ( 127.4900,  169.0700) mm  0.0 deg\n",
      "R33_S22    ( 169.7500,  168.9900) mm  0.0 deg\n",
      "R34_S00    ( 212.0200,   84.3000) mm  0.0 deg\n",
      "R34_S01    ( 254.3000,   84.1700) mm  0.0 deg\n",
      "R34_S02    ( 296.5700,   84.1200) mm  0.0 deg\n",
      "R34_S10    ( 212.0700,  126.5700) mm  0.0 deg\n",
      "R34_S11    ( 254.3900,  126.4900) mm  0.0 deg\n",
      "R34_S12    ( 296.6700,  126.3900) mm  0.0 deg\n",
      "R34_S20    ( 212.2000,  168.8500) mm  0.0 deg\n",
      "R34_S21    ( 254.4900,  168.7700) mm  0.0 deg\n",
      "R34_S22    ( 296.7500,  168.6900) mm  0.0 deg\n",
      "R41_S00    (-168.8800,  212.3000) mm  0.0 deg\n",
      "R41_S01    (-126.6000,  212.1700) mm  0.0 deg\n",
      "R41_S02    ( -84.3300,  212.1200) mm  0.0 deg\n",
      "R41_S10    (-168.8300,  254.5700) mm  0.0 deg\n",
      "R41_S11    (-126.5100,  254.4900) mm  0.0 deg\n",
      "R41_S12    ( -84.2300,  254.3900) mm  0.0 deg\n",
      "R41_S20    (-168.7000,  296.8500) mm  0.0 deg\n",
      "R41_S21    (-126.4100,  296.7700) mm  0.0 deg\n",
      "R41_S22    ( -84.1500,  296.6900) mm  0.0 deg\n",
      "R42_S00    ( -41.7800,  211.9000) mm  0.0 deg\n",
      "R42_S01    (   0.5000,  211.7700) mm  0.0 deg\n",
      "R42_S02    (  42.7700,  211.7200) mm  0.0 deg\n",
      "R42_S10    ( -41.7300,  254.1700) mm  0.0 deg\n",
      "R42_S11    (   0.5900,  254.0900) mm  0.0 deg\n",
      "R42_S12    (  42.8700,  253.9900) mm  0.0 deg\n",
      "R42_S20    ( -41.6000,  296.4500) mm  0.0 deg\n",
      "R42_S21    (   0.6900,  296.3700) mm  0.0 deg\n",
      "R42_S22    (  42.9500,  296.2900) mm  0.0 deg\n",
      "R43_S00    (  85.2200,  211.7000) mm  0.0 deg\n",
      "R43_S01    ( 127.5000,  211.5700) mm  0.0 deg\n",
      "R43_S02    ( 169.7700,  211.5200) mm  0.0 deg\n",
      "R43_S10    (  85.2700,  253.9700) mm  0.0 deg\n",
      "R43_S11    ( 127.5900,  253.8900) mm  0.0 deg\n",
      "R43_S12    ( 169.8700,  253.7900) mm  0.0 deg\n",
      "R43_S20    (  85.4000,  296.2500) mm  0.0 deg\n",
      "R43_S21    ( 127.6900,  296.1700) mm  0.0 deg\n",
      "R43_S22    ( 169.9500,  296.0900) mm  0.0 deg\n",
      "R00_S12    (-211.7300, -254.1100) mm  0.0 deg\n",
      "R00_S21    (-253.9100, -211.7300) mm  0.0 deg\n",
      "R00_S22    (-211.6500, -211.8100) mm  0.0 deg\n",
      "R04_S10    ( 211.6700, -253.9300) mm  0.0 deg\n",
      "R04_S20    ( 211.8000, -211.6500) mm  0.0 deg\n",
      "R04_S21    ( 254.0900, -211.7300) mm  0.0 deg\n",
      "R40_S01    (-254.1000,  211.6700) mm  0.0 deg\n",
      "R40_S02    (-211.8300,  211.6200) mm  0.0 deg\n",
      "R40_S12    (-211.7300,  253.8900) mm  0.0 deg\n",
      "R44_S00    ( 211.6200,  211.8000) mm  0.0 deg\n",
      "R44_S01    ( 253.9000,  211.6700) mm  0.0 deg\n",
      "R44_S10    ( 211.6700,  254.0700) mm  0.0 deg\n"
     ]
    }
   ],
   "source": [
    "from lsst.obs.lsst import LsstCamPhoSim\n",
    "\n",
    "import lsst.geom as geom\n",
    "import lsst.afw.cameraGeom as cameraGeom\n",
    "\n",
    "\n",
    "camera = LsstCamPhoSim.getCamera()\n",
    "\n",
    "for detector in camera:\n",
    "    #if ('SW' in detector.getName()) or ('SG' in detector.getName()):\n",
    "    bbox = detector.getBBox()\n",
    "    xp, yp = detector.getCenter(cameraGeom.FOCAL_PLANE)  # centre of CCD\n",
    "    yaw = detector.getOrientation().getYaw().asDegrees()  # rotation in the plane of the camera  (also getPitch() and getRoll(); see afw/cameraGeom/Orientation.h)\n",
    "    print(f\"{detector.getName():10} ({xp:9.4f}, {yp:9.4f}) mm  {yaw} deg\")#cameraGeom.Orientation??"
   ]
  },
  {
   "cell_type": "code",
   "execution_count": 22,
   "metadata": {},
   "outputs": [
    {
     "data": {
      "text/plain": [
       "Box2I(minimum=Point2I(0, 0), dimensions=Extent2I(4072, 4000))"
      ]
     },
     "execution_count": 22,
     "metadata": {},
     "output_type": "execute_result"
    }
   ],
   "source": [
    "bbox"
   ]
  },
  {
   "cell_type": "code",
   "execution_count": 193,
   "metadata": {},
   "outputs": [
    {
     "data": {
      "text/plain": [
       "205"
      ]
     },
     "execution_count": 193,
     "metadata": {},
     "output_type": "execute_result"
    }
   ],
   "source": [
    "len(sourProc.sensorFocaPlaneInUm)"
   ]
  },
  {
   "cell_type": "code",
   "execution_count": 194,
   "metadata": {},
   "outputs": [
    {
     "data": {
      "text/plain": [
       "(2000, 4072)"
      ]
     },
     "execution_count": 194,
     "metadata": {},
     "output_type": "execute_result"
    }
   ],
   "source": [
    "sourProc.sensorDimList[\"R00_SW1\"]"
   ]
  },
  {
   "cell_type": "code",
   "execution_count": 195,
   "metadata": {},
   "outputs": [
    {
     "data": {
      "text/plain": [
       "(4004, 4096)"
      ]
     },
     "execution_count": 195,
     "metadata": {},
     "output_type": "execute_result"
    }
   ],
   "source": [
    "sourProc.sensorDimList[\"R22_S11\"]"
   ]
  },
  {
   "cell_type": "code",
   "execution_count": 196,
   "metadata": {},
   "outputs": [
    {
     "data": {
      "text/plain": [
       "(0.0, 0.0)"
      ]
     },
     "execution_count": 196,
     "metadata": {},
     "output_type": "execute_result"
    }
   ],
   "source": [
    "sourProc.sensorFocaPlaneInDeg[\"R22_S11\"]"
   ]
  },
  {
   "cell_type": "code",
   "execution_count": 11,
   "metadata": {},
   "outputs": [
    {
     "data": {
      "text/plain": [
       "(-1.1256388888888889, -1.1902222222222223)"
      ]
     },
     "execution_count": 11,
     "metadata": {},
     "output_type": "execute_result"
    }
   ],
   "source": [
    "sourProc.sensorFocaPlaneInDeg[\"R00_SW0\"]"
   ]
  },
  {
   "cell_type": "code",
   "execution_count": 12,
   "metadata": {},
   "outputs": [
    {
     "data": {
      "text/plain": [
       "(-1.2549166666666667, -1.1903333333333332)"
      ]
     },
     "execution_count": 12,
     "metadata": {},
     "output_type": "execute_result"
    }
   ],
   "source": [
    "sourProc.sensorFocaPlaneInDeg[\"R00_SW1\"]"
   ]
  },
  {
   "cell_type": "code",
   "execution_count": 203,
   "metadata": {},
   "outputs": [],
   "source": [
    "pixelX = 1000\n",
    "pixelY = 2036\n",
    "fieldX, fieldY = sourProc.camXYtoFieldXY(pixelX, pixelY)"
   ]
  },
  {
   "cell_type": "code",
   "execution_count": 204,
   "metadata": {},
   "outputs": [
    {
     "data": {
      "text/plain": [
       "-1.2549166666666667"
      ]
     },
     "execution_count": 204,
     "metadata": {},
     "output_type": "execute_result"
    }
   ],
   "source": [
    "fieldX"
   ]
  },
  {
   "cell_type": "code",
   "execution_count": 205,
   "metadata": {},
   "outputs": [
    {
     "data": {
      "text/plain": [
       "-1.1903333333333332"
      ]
     },
     "execution_count": 205,
     "metadata": {},
     "output_type": "execute_result"
    }
   ],
   "source": [
    "fieldY"
   ]
  },
  {
   "cell_type": "code",
   "execution_count": 207,
   "metadata": {},
   "outputs": [
    {
     "data": {
      "text/plain": [
       "(-1.2549166666666667, -1.1903333333333332)"
      ]
     },
     "execution_count": 207,
     "metadata": {},
     "output_type": "execute_result"
    }
   ],
   "source": [
    "sourProc = SourceProcessor()\n"
   ]
  },
  {
   "cell_type": "code",
   "execution_count": 26,
   "metadata": {},
   "outputs": [],
   "source": [
    "from lsst.ts.wep.SourceProcessor import SourceProcessor\n",
    "#import imp\n",
    "#imp.reload(SourceProcessor)\n",
    "\n",
    "sourProc = SourceProcessor()\n",
    "\n",
    "def _camXYtoFieldXY(sensorName, pixelX, pixelY,sourProc):\n",
    "\n",
    "    sourProc.config(sensorName=sensorName)\n",
    "    fieldX, fieldY = sourProc.camXYtoFieldXY(pixelX, pixelY)\n",
    "\n",
    "    return fieldX, fieldY\n",
    "\n",
    "oxR00SW1, oyR00SW1 = _camXYtoFieldXY(\"R00_SW1\", 0, 0, sourProc)\n",
    "oxR00SW0, oyR00SW0 = _camXYtoFieldXY(\"R00_SW0\", 0, 0, sourProc)\n",
    "oxR40SW1, oyR40SW1 = _camXYtoFieldXY(\"R40_SW1\", 0, 0, sourProc)\n",
    "oxR40SW0, oyR40SW0 = _camXYtoFieldXY(\"R40_SW0\", 0, 0, sourProc)\n",
    "oxR44SW1, oyR44SW1 = _camXYtoFieldXY(\"R44_SW1\", 0, 0, sourProc)\n",
    "oxR44SW0, oyR44SW0 = _camXYtoFieldXY(\"R44_SW0\", 0, 0, sourProc)\n",
    "oxR04SW1, oyR04SW1 = _camXYtoFieldXY(\"R04_SW1\", 0, 0, sourProc)\n",
    "oxR04SW0, oyR04SW0 = _camXYtoFieldXY(\"R04_SW0\", 0, 0, sourProc)\n",
    "\n",
    "print(oxR00SW1, oyR00SW1)\n",
    "print(oxR00SW0, oyR00SW0)\n"
   ]
  },
  {
   "cell_type": "code",
   "execution_count": 27,
   "metadata": {},
   "outputs": [
    {
     "name": "stdout",
     "output_type": "stream",
     "text": [
      "-1.2549166666666667 -1.3034444444444444\n"
     ]
    }
   ],
   "source": [
    "print(oxR00SW1,oyR00SW1)"
   ]
  },
  {
   "cell_type": "code",
   "execution_count": 28,
   "metadata": {},
   "outputs": [
    {
     "name": "stdout",
     "output_type": "stream",
     "text": [
      "-1.0700833333333333 -1.0771111111111111\n"
     ]
    }
   ],
   "source": [
    "print(oxR00SW0, oyR00SW0)"
   ]
  },
  {
   "cell_type": "code",
   "execution_count": 13,
   "metadata": {},
   "outputs": [
    {
     "name": "stdout",
     "output_type": "stream",
     "text": [
      "1.3034444444444444 -1.2549166666666667\n"
     ]
    }
   ],
   "source": [
    "print(oxR40SW1, oyR40SW1)"
   ]
  },
  {
   "cell_type": "code",
   "execution_count": 14,
   "metadata": {},
   "outputs": [
    {
     "name": "stdout",
     "output_type": "stream",
     "text": [
      "1.0771111111111111 -1.1256388888888889\n"
     ]
    }
   ],
   "source": [
    "print(oxR40SW0, oyR40SW0)"
   ]
  },
  {
   "cell_type": "code",
   "execution_count": 15,
   "metadata": {},
   "outputs": [
    {
     "name": "stdout",
     "output_type": "stream",
     "text": [
      "1.3104722222222223 1.3034444444444444\n"
     ]
    }
   ],
   "source": [
    "print(oxR44SW1, oyR44SW1)"
   ]
  },
  {
   "cell_type": "code",
   "execution_count": 16,
   "metadata": {},
   "outputs": [
    {
     "name": "stdout",
     "output_type": "stream",
     "text": [
      "1.1256388888888889 1.0771111111111111\n"
     ]
    }
   ],
   "source": [
    "print(oxR44SW0, oyR44SW0)"
   ]
  },
  {
   "cell_type": "code",
   "execution_count": 17,
   "metadata": {},
   "outputs": [
    {
     "name": "stdout",
     "output_type": "stream",
     "text": [
      "-1.3034444444444444 1.2549166666666667\n"
     ]
    }
   ],
   "source": [
    "print(oxR04SW1, oyR04SW1)"
   ]
  },
  {
   "cell_type": "code",
   "execution_count": 18,
   "metadata": {},
   "outputs": [
    {
     "name": "stdout",
     "output_type": "stream",
     "text": [
      "-1.0771111111111111 1.1256388888888889\n"
     ]
    }
   ],
   "source": [
    "print(oxR04SW0, oyR04SW0)"
   ]
  },
  {
   "cell_type": "code",
   "execution_count": null,
   "metadata": {},
   "outputs": [],
   "source": [
    "def _camXYtoFieldXY(sensorName, pixelX, pixelY,sourProc):\n",
    "\n",
    "    sourProc.config(sensorName=sensorName)\n",
    "    fieldX, fieldY = sourProc.camXYtoFieldXY(pixelX, pixelY)\n",
    "\n",
    "    return fieldX, fieldY"
   ]
  },
  {
   "cell_type": "code",
   "execution_count": null,
   "metadata": {},
   "outputs": [],
   "source": [
    "a = 1.303444\n",
    "b = 1.310472\n",
    "c = 1.077111\n",
    "d = 1.070083\n",
    "\n",
    "oxR00SW0 = -d\n",
    "oyR00SW0 = -c\n",
    "\n",
    "oxR00SW1 = -b\n",
    "oyR00SW1 = -a\n",
    "\n",
    "oxR40SW0 = c\n",
    "oyR40SW0 = -d \n",
    "\n",
    "oxR40SW1 = a\n",
    "oyR40SW1 = -b\n",
    "\n",
    "oxR44SW0 = d\n",
    "oyR44SW0 = c\n",
    "\n",
    "oxR44SW1 = b\n",
    "oyR44SW1 = a\n",
    "\n",
    "oxR04SW0 = -c\n",
    "oyR04SW0 = d\n",
    "\n",
    "oxR04SW1 = -a\n",
    "oyR04SW1 = b\n",
    "\n",
    "self.assertLess(abs(oxR00SW1 - oyR40SW1), 1e-3) -b,-b\n",
    "self.assertLess(abs(oxR04SW0 - oyR00SW0), 1e-3)  -c, -c \n",
    "self.assertLess(abs(oxR40SW1 - oyR44SW1), 1e-3) a , a\n",
    "self.assertLess(abs(oxR44SW0 - oyR04SW0), 1e-3) d,  d\n",
    "\n",
    "    \n",
    "    \n",
    "self.assertEqual((oxR00SW1 + oyR04SW1, oyR40SW1 + oyR04SW1), (0, 0))  -b, b    -b, b\n",
    "self.assertEqual((oyR00SW0 + oyR44SW0, oxR40SW0 + oxR04SW0), (0, 0))  -c, c    c, -c "
   ]
  },
  {
   "cell_type": "code",
   "execution_count": 1,
   "metadata": {},
   "outputs": [],
   "source": [
    "from lsst.ts.wep.SourceProcessor import SourceProcessor\n",
    "sourProc = SourceProcessor()"
   ]
  },
  {
   "cell_type": "code",
   "execution_count": null,
   "metadata": {},
   "outputs": [],
   "source": [
    "fieldXc, fieldYc = sourProc.sensorFocaPlaneInDeg[sourProc.sensorName]"
   ]
  },
  {
   "cell_type": "code",
   "execution_count": 33,
   "metadata": {},
   "outputs": [],
   "source": [
    "sensorName = 'R00_SW0'\n",
    "sourProc.config(sensorName=sensorName)\n",
    "fieldXum, fieldYum = sourProc.sensorFocaPlaneInUm[sourProc.sensorName]"
   ]
  },
  {
   "cell_type": "code",
   "execution_count": 35,
   "metadata": {},
   "outputs": [
    {
     "name": "stdout",
     "output_type": "stream",
     "text": [
      "-202615.0 -214240.0\n"
     ]
    }
   ],
   "source": [
    "R44_SW1 225885.0 214260.0\n",
    "R44_SW0 202615.0 214240.0\n",
    "R04_SW1 -214260.0 225885.0\n",
    "R04_SW0 -214240.0 202615.0\n",
    "R00_SW1 -225885.0 -214260.0\n",
    "R00_SW0 -202615.0 -214240.0\n",
    "R40_SW1 214260.0 -225885.0\n",
    "R40_SW0 214240.0 -202615.0"
   ]
  },
  {
   "cell_type": "code",
   "execution_count": 29,
   "metadata": {},
   "outputs": [
    {
     "name": "stdout",
     "output_type": "stream",
     "text": [
      "1.1256388888888889 1.0771111111111111\n"
     ]
    }
   ],
   "source": [
    "sensorName = 'R44_SW0'\n",
    "sourProc.config(sensorName=sensorName)\n",
    "pixelX, pixelY = 0,0\n",
    "\n",
    "#def camXYtoFieldXY( pixelX, pixelY):\n",
    "\"\"\"Get the field X, Y from the pixel x, y position on CCD.\n",
    "\n",
    "Parameters\n",
    "----------\n",
    "pixelX : float\n",
    "    Pixel x on camera coordinate.\n",
    "pixelY : float\n",
    "    Pixel y on camera coordinate.\n",
    "\n",
    "Returns\n",
    "-------\n",
    "float\n",
    "    Field x in degree.\n",
    "float\n",
    "    Field y in degree.\n",
    "\"\"\"\n",
    "\n",
    "# The wavefront sensors will do the rotation as\n",
    "# following, based on the Euler angle.\n",
    "\n",
    "#    R04                 R44\n",
    "# O-------           ----------O        /\\ +y (CCS)\n",
    "# |  SW1 |           |    |    |        |\n",
    "# |------|           |SW0 | SW1|        |\n",
    "# |  SW0 |           |    |    |        |\n",
    "# -------O           O----------        _\n",
    "#                                   +z (.) -----> +x\n",
    "#      R00                  R40\n",
    "# ------------O          O-------\n",
    "# |     |     |          |  SW0 |\n",
    "# | SW1 | SW0 |          |------|\n",
    "# |     |     |          |  SW1 |\n",
    "# O------------          -------O\n",
    "\n",
    "# Get the field X, Y of sensor's center\n",
    "fieldXc, fieldYc = sourProc.sensorFocaPlaneInDeg[sourProc.sensorName]\n",
    "\n",
    "# Get the center pixel position\n",
    "pixelXc, pixelYc = sourProc.sensorDimList[sourProc.sensorName]\n",
    "pixelXc = pixelXc / 2\n",
    "pixelYc = pixelYc / 2\n",
    "\n",
    "# Calculate the delta x and y in degree\n",
    "# 1 degree = 3600 arcsec\n",
    "pixelToArcsec = sourProc.settingFile.getSetting(\"pixelToArcsec\")\n",
    "deltaX = (pixelX - pixelXc) * pixelToArcsec / 3600.0\n",
    "deltaY = (pixelY - pixelYc) * pixelToArcsec / 3600.0\n",
    "\n",
    "# Calculate the transformed coordinate in degree.\n",
    "fieldX, fieldY = sourProc._rotCam2FocalPlane(\n",
    "    sourProc.sensorName, fieldXc, fieldYc, deltaX, deltaY\n",
    ")\n",
    "print(fieldX, fieldY)\n",
    "#return fieldX, fieldY"
   ]
  },
  {
   "cell_type": "code",
   "execution_count": null,
   "metadata": {},
   "outputs": [],
   "source": []
  },
  {
   "cell_type": "code",
   "execution_count": 10,
   "metadata": {},
   "outputs": [],
   "source": [
    "from lsst.ts.wep.Utility import (readPhoSimSettingData,getConfigDir)\n",
    "focalPlaneFileName=\"focalplanelayout.txt\"\n",
    "configDir = getConfigDir()\n",
    "folderPath=configDir\n",
    "ccdData = readPhoSimSettingData(folderPath, focalPlaneFileName, \"fieldCenter\")"
   ]
  },
  {
   "cell_type": "code",
   "execution_count": 23,
   "metadata": {},
   "outputs": [
    {
     "data": {
      "text/plain": [
       "<matplotlib.legend.Legend at 0x7fef36ad2820>"
      ]
     },
     "execution_count": 23,
     "metadata": {},
     "output_type": "execute_result"
    },
    {
     "data": {
      "image/png": "[encoded data removed]",
      "text/plain": [
       "<Figure size 432x432 with 1 Axes>"
      ]
     },
     "metadata": {
      "needs_background": "light"
     },
     "output_type": "display_data"
    }
   ],
   "source": [
    "%matplotlib inline\n",
    "import matplotlib.pyplot as plt\n",
    "fig,ax = plt.subplots(1,1,figsize=(6,6))\n",
    "for sensor in ['R44_SW1', 'R44_SW0',\n",
    "              'R04_SW1', 'R04_SW0',\n",
    "              'R00_SW1','R00_SW0',\n",
    "              'R40_SW1', 'R40_SW0']:\n",
    "    xInUm = float(ccdData[sensor][0])\n",
    "    yInUm = float(ccdData[sensor][1])\n",
    "    ax.scatter(xInUm,yInUm, label=sensor )\n",
    "ax.legend()"
   ]
  },
  {
   "cell_type": "code",
   "execution_count": 21,
   "metadata": {},
   "outputs": [
    {
     "data": {
      "text/plain": [
       "'214240.0'"
      ]
     },
     "execution_count": 21,
     "metadata": {},
     "output_type": "execute_result"
    }
   ],
   "source": [
    "ccdData[sensor][0]"
   ]
  },
  {
   "cell_type": "code",
   "execution_count": 7,
   "metadata": {},
   "outputs": [
    {
     "data": {
      "text/plain": [
       "1.1902222222222223"
      ]
     },
     "execution_count": 7,
     "metadata": {},
     "output_type": "execute_result"
    }
   ],
   "source": [
    "\n",
    "\n",
    "focalPlaneData = ccdData[sensorName]\n",
    "xInUm = float(focalPlaneData[0])\n",
    "yInUm = float(focalPlaneData[1])\n",
    "pixelSizeInUm = float(focalPlaneData[2])\n",
    "sizeXinPixel = float(focalPlaneData[3])\n",
    "print(focalPlaneData)\n",
    "\n",
    "# Consider the x-translation in corner wavefront sensors\n",
    "tempX = None\n",
    "tempY = None\n",
    "\n",
    "if sensorName in (\"R44_SW1\", \"R00_SW0\"):\n",
    "    # Shift center to +x direction\n",
    "    tempX = xInUm + sizeXinPixel / 2 * pixelSizeInUm\n",
    "elif sensorName in (\"R44_SW0\", \"R00_SW1\"):\n",
    "    # Shift center to -x direction\n",
    "    tempX = xInUm - sizeXinPixel / 2 * pixelSizeInUm\n",
    "elif sensorName in (\"R04_SW0\", \"R40_SW1\"):\n",
    "    # Shift center to -y direction\n",
    "    tempY = yInUm - sizeXinPixel / 2 * pixelSizeInUm\n",
    "elif sensorName in (\"R04_SW1\", \"R40_SW0\"):\n",
    "    # Shift center to +y direction\n",
    "    tempY = yInUm + sizeXinPixel / 2 * pixelSizeInUm\n",
    "\n",
    "# Replace the value by the shifted one\n",
    "if tempX is not None:\n",
    "    focalPlaneData[0] = str(tempX)\n",
    "elif tempY is not None:\n",
    "    focalPlaneData[1] = str(tempY)"
   ]
  },
  {
   "cell_type": "code",
   "execution_count": 17,
   "metadata": {},
   "outputs": [
    {
     "data": {
      "text/plain": [
       "['202615.0', '214240.0', '10.0', '2000', '4072']"
      ]
     },
     "execution_count": 17,
     "metadata": {},
     "output_type": "execute_result"
    }
   ],
   "source": [
    "focalPlaneData"
   ]
  },
  {
   "cell_type": "code",
   "execution_count": null,
   "metadata": {},
   "outputs": [],
   "source": [
    "same:\n",
    "    \n",
    "    oxR00SW1  oyR40SW1   -1.3104722222222223\n",
    "    oxR00SW0  oyR40SW0   -1.0700833333333333\n",
    "    oxR40SW1  oyR44SW1   1.303444444444444 \n",
    "    oxR40SW0   oyR44SW0  1.0771111111111111\n",
    "    oyR00SW1   oxR04SW1  -1.3034444444444444\n",
    "    oxR44SW1  oyR04SW1  1.3104722222222223\n",
    "    oyR00SW0  oxR04SW0  -1.0771111111111111\n",
    "    oxR44SW0  oyR04SW0  1.0700833333333333\n",
    "    \n",
    "opposites : their sum is 0   \n",
    "    oxR00SW1 + oxR44SW1, oyR40SW1+oyR04SW1  -1.3104722222222223  + 1.3104722222222223\n",
    "    oxR00SW0+oxR44SW0, oyR40SW0+oyR04SW0  -1.0700833333333333 +1.0700833333333333"
   ]
  },
  {
   "cell_type": "code",
   "execution_count": 14,
   "metadata": {},
   "outputs": [
    {
     "name": "stdout",
     "output_type": "stream",
     "text": [
      "-1.3104722222222223\n"
     ]
    }
   ],
   "source": [
    "print(oxR00SW1)"
   ]
  },
  {
   "cell_type": "code",
   "execution_count": 15,
   "metadata": {},
   "outputs": [
    {
     "name": "stdout",
     "output_type": "stream",
     "text": [
      "-1.3034444444444444\n"
     ]
    }
   ],
   "source": [
    "print(oyR00SW1)"
   ]
  },
  {
   "cell_type": "code",
   "execution_count": 16,
   "metadata": {},
   "outputs": [
    {
     "name": "stdout",
     "output_type": "stream",
     "text": [
      "-1.0700833333333333\n"
     ]
    }
   ],
   "source": [
    "print(oxR00SW0)"
   ]
  },
  {
   "cell_type": "code",
   "execution_count": 17,
   "metadata": {},
   "outputs": [
    {
     "name": "stdout",
     "output_type": "stream",
     "text": [
      "-1.0771111111111111\n"
     ]
    }
   ],
   "source": [
    "print(oyR00SW0)"
   ]
  },
  {
   "cell_type": "code",
   "execution_count": 18,
   "metadata": {},
   "outputs": [
    {
     "name": "stdout",
     "output_type": "stream",
     "text": [
      "1.3034444444444444\n"
     ]
    }
   ],
   "source": [
    "print(oxR40SW1)"
   ]
  },
  {
   "cell_type": "code",
   "execution_count": 19,
   "metadata": {},
   "outputs": [
    {
     "name": "stdout",
     "output_type": "stream",
     "text": [
      "-1.3104722222222223\n"
     ]
    }
   ],
   "source": [
    "print(oyR40SW1)"
   ]
  },
  {
   "cell_type": "code",
   "execution_count": 20,
   "metadata": {},
   "outputs": [
    {
     "name": "stdout",
     "output_type": "stream",
     "text": [
      "1.0771111111111111\n"
     ]
    }
   ],
   "source": [
    "print(oxR40SW0)"
   ]
  },
  {
   "cell_type": "code",
   "execution_count": 21,
   "metadata": {},
   "outputs": [
    {
     "name": "stdout",
     "output_type": "stream",
     "text": [
      "-1.0700833333333333\n"
     ]
    }
   ],
   "source": [
    "print(oyR40SW0)"
   ]
  },
  {
   "cell_type": "code",
   "execution_count": 23,
   "metadata": {},
   "outputs": [
    {
     "name": "stdout",
     "output_type": "stream",
     "text": [
      "1.3104722222222223\n"
     ]
    }
   ],
   "source": [
    "print(oxR44SW1)"
   ]
  },
  {
   "cell_type": "code",
   "execution_count": 25,
   "metadata": {},
   "outputs": [
    {
     "name": "stdout",
     "output_type": "stream",
     "text": [
      "1.3034444444444444\n"
     ]
    }
   ],
   "source": [
    "\n",
    "print(oyR44SW1)"
   ]
  },
  {
   "cell_type": "code",
   "execution_count": 26,
   "metadata": {},
   "outputs": [
    {
     "name": "stdout",
     "output_type": "stream",
     "text": [
      "1.0700833333333333\n"
     ]
    }
   ],
   "source": [
    "print(oxR44SW0)"
   ]
  },
  {
   "cell_type": "code",
   "execution_count": 27,
   "metadata": {},
   "outputs": [
    {
     "name": "stdout",
     "output_type": "stream",
     "text": [
      "1.0771111111111111\n"
     ]
    }
   ],
   "source": [
    "print(oyR44SW0)"
   ]
  },
  {
   "cell_type": "code",
   "execution_count": 28,
   "metadata": {},
   "outputs": [
    {
     "name": "stdout",
     "output_type": "stream",
     "text": [
      "-1.3034444444444444\n"
     ]
    }
   ],
   "source": [
    "print(oxR04SW1)"
   ]
  },
  {
   "cell_type": "code",
   "execution_count": 29,
   "metadata": {},
   "outputs": [
    {
     "name": "stdout",
     "output_type": "stream",
     "text": [
      "1.3104722222222223\n"
     ]
    }
   ],
   "source": [
    "print(oyR04SW1)"
   ]
  },
  {
   "cell_type": "code",
   "execution_count": 30,
   "metadata": {},
   "outputs": [
    {
     "name": "stdout",
     "output_type": "stream",
     "text": [
      "-1.0771111111111111\n"
     ]
    }
   ],
   "source": [
    "print(oxR04SW0)"
   ]
  },
  {
   "cell_type": "code",
   "execution_count": 31,
   "metadata": {},
   "outputs": [
    {
     "name": "stdout",
     "output_type": "stream",
     "text": [
      "1.0700833333333333\n"
     ]
    }
   ],
   "source": [
    "print(oyR04SW0)"
   ]
  },
  {
   "cell_type": "code",
   "execution_count": 22,
   "metadata": {},
   "outputs": [
    {
     "name": "stdout",
     "output_type": "stream",
     "text": [
      "-1.3034444444444444 -1.0771111111111111\n",
      "0.22633333333333328\n"
     ]
    }
   ],
   "source": [
    "print(oyR00SW1, oyR00SW0)\n",
    "print(abs(oyR00SW1-oyR00SW0))"
   ]
  },
  {
   "cell_type": "code",
   "execution_count": 222,
   "metadata": {},
   "outputs": [
    {
     "data": {
      "text/plain": [
       "True"
      ]
     },
     "execution_count": 222,
     "metadata": {},
     "output_type": "execute_result"
    }
   ],
   "source": [
    "0.000111111 < 1e-3"
   ]
  },
  {
   "cell_type": "code",
   "execution_count": 15,
   "metadata": {},
   "outputs": [
    {
     "data": {
      "text/plain": [
       "-0.0001111"
      ]
     },
     "execution_count": 15,
     "metadata": {},
     "output_type": "execute_result"
    }
   ],
   "source": [
    "a = oyR00SW1\n",
    "b = oyR00SW0\n",
    "round(a-b, 7)"
   ]
  },
  {
   "cell_type": "code",
   "execution_count": 16,
   "metadata": {},
   "outputs": [
    {
     "name": "stdout",
     "output_type": "stream",
     "text": [
      "1.3034444444444444 1.3033333333333335\n",
      "0.00011111111111095084\n"
     ]
    }
   ],
   "source": [
    "print(oxR40SW1, oxR40SW0)\n",
    "print(abs(oxR40SW1-oxR40SW0))"
   ]
  },
  {
   "cell_type": "code",
   "execution_count": 17,
   "metadata": {},
   "outputs": [
    {
     "name": "stdout",
     "output_type": "stream",
     "text": [
      "1.3034444444444444 1.3033333333333335\n",
      "0.00011111111111095084\n"
     ]
    }
   ],
   "source": [
    "print(oyR44SW1, oyR44SW0)\n",
    "print(abs(oyR44SW1-oyR44SW0))"
   ]
  },
  {
   "cell_type": "code",
   "execution_count": 18,
   "metadata": {},
   "outputs": [
    {
     "name": "stdout",
     "output_type": "stream",
     "text": [
      "-1.3034444444444444 -1.3033333333333335\n",
      "0.00011111111111095084\n"
     ]
    }
   ],
   "source": [
    "print(oxR04SW1, oxR04SW0)\n",
    "print(abs(oxR04SW1- oxR04SW0))"
   ]
  },
  {
   "cell_type": "code",
   "execution_count": null,
   "metadata": {},
   "outputs": [],
   "source": [
    "I wonder why this offset is identical... "
   ]
  },
  {
   "cell_type": "code",
   "execution_count": 19,
   "metadata": {},
   "outputs": [
    {
     "name": "stdout",
     "output_type": "stream",
     "text": [
      "0.0\n"
     ]
    }
   ],
   "source": [
    "print(oxR00SW1 + oxR44SW1) "
   ]
  },
  {
   "cell_type": "code",
   "execution_count": 20,
   "metadata": {},
   "outputs": [
    {
     "name": "stdout",
     "output_type": "stream",
     "text": [
      "0.0\n"
     ]
    }
   ],
   "source": [
    "print(oyR00SW1 + oyR44SW1)"
   ]
  },
  {
   "cell_type": "code",
   "execution_count": 21,
   "metadata": {},
   "outputs": [
    {
     "name": "stdout",
     "output_type": "stream",
     "text": [
      "0.0\n",
      "0.0\n"
     ]
    }
   ],
   "source": [
    "print(oxR40SW0 + oxR04SW0)\n",
    "print(oyR40SW0 + oyR04SW0)"
   ]
  },
  {
   "cell_type": "code",
   "execution_count": 227,
   "metadata": {},
   "outputs": [
    {
     "data": {
      "text/plain": [
       "(1000, 4070)"
      ]
     },
     "execution_count": 227,
     "metadata": {},
     "output_type": "execute_result"
    }
   ],
   "source": [
    "sourProc.config(sensorName=\"R22_S11\")\n",
    "sourProc.dmXY2CamXY(4070, 1000)"
   ]
  },
  {
   "cell_type": "code",
   "execution_count": 228,
   "metadata": {},
   "outputs": [
    {
     "data": {
      "text/plain": [
       "(4070, 3000)"
      ]
     },
     "execution_count": 228,
     "metadata": {},
     "output_type": "execute_result"
    }
   ],
   "source": [
    "sourProc.camXY2DmXY(3000, 4070)"
   ]
  },
  {
   "cell_type": "code",
   "execution_count": 229,
   "metadata": {},
   "outputs": [
    {
     "data": {
      "text/plain": [
       "True"
      ]
     },
     "execution_count": 229,
     "metadata": {},
     "output_type": "execute_result"
    }
   ],
   "source": [
    "sourProc.isVignette(1.76, 0)"
   ]
  },
  {
   "cell_type": "code",
   "execution_count": 230,
   "metadata": {},
   "outputs": [
    {
     "data": {
      "text/plain": [
       "False"
      ]
     },
     "execution_count": 230,
     "metadata": {},
     "output_type": "execute_result"
    }
   ],
   "source": [
    "sourProc.isVignette(0.2, 0.2)"
   ]
  },
  {
   "cell_type": "code",
   "execution_count": 232,
   "metadata": {},
   "outputs": [],
   "source": [
    "def _getFieldXyOfLsst():\n",
    "\n",
    "    nArm = 6\n",
    "    armLen = [0.379, 0.841, 1.237, 1.535, 1.708]\n",
    "    fieldWFSx = [1.176, -1.176, -1.176, 1.176]\n",
    "    fieldWFSy = [1.176, 1.176, -1.176, -1.176]\n",
    "    pointAngle = np.arange(nArm) * (2 * np.pi) / nArm\n",
    "    fieldX = np.concatenate(\n",
    "        [np.zeros(1), np.kron(armLen, np.cos(pointAngle)), fieldWFSx]\n",
    "    )\n",
    "    fieldY = np.concatenate(\n",
    "        [np.zeros(1), np.kron(armLen, np.sin(pointAngle)), fieldWFSy]\n",
    "    )\n",
    "\n",
    "    return np.array([fieldX, fieldY]).T"
   ]
  },
  {
   "cell_type": "code",
   "execution_count": 233,
   "metadata": {},
   "outputs": [],
   "source": [
    "fieldXY = _getFieldXyOfLsst()\n",
    "mapping = sourProc.mapSensorAndFieldIdx(fieldXY)"
   ]
  },
  {
   "cell_type": "code",
   "execution_count": 234,
   "metadata": {},
   "outputs": [
    {
     "data": {
      "text/plain": [
       "0"
      ]
     },
     "execution_count": 234,
     "metadata": {},
     "output_type": "execute_result"
    }
   ],
   "source": [
    "mapping[\"R22_S11\"]"
   ]
  },
  {
   "cell_type": "code",
   "execution_count": null,
   "metadata": {},
   "outputs": [],
   "source": []
  },
  {
   "cell_type": "code",
   "execution_count": null,
   "metadata": {},
   "outputs": [],
   "source": []
  },
  {
   "cell_type": "code",
   "execution_count": null,
   "metadata": {},
   "outputs": [],
   "source": []
  },
  {
   "cell_type": "code",
   "execution_count": null,
   "metadata": {},
   "outputs": [],
   "source": []
  },
  {
   "cell_type": "code",
   "execution_count": null,
   "metadata": {},
   "outputs": [],
   "source": []
  },
  {
   "cell_type": "markdown",
   "metadata": {},
   "source": [
    "# `test_createPhosimDonutTemplates.py`\n",
    "\n",
    "\n"
   ]
  },
  {
   "cell_type": "code",
   "execution_count": 1,
   "metadata": {},
   "outputs": [],
   "source": [
    "import unittest\n",
    "import os\n",
    "import shutil\n",
    "import tempfile\n",
    "import numpy as np\n",
    "\n",
    "from lsst.ts.wep.CreatePhosimDonutTemplates import CreatePhosimDonutTemplates\n",
    "from lsst.ts.wep.Utility import getConfigDir, getModulePath, DefocalType\n"
   ]
  },
  {
   "cell_type": "code",
   "execution_count": 14,
   "metadata": {},
   "outputs": [],
   "source": [
    "createPhosimDonuts = CreatePhosimDonutTemplates()\n",
    "\n",
    "modulePath = getModulePath()\n",
    "testDataDir = os.path.join(modulePath, \"tests\", \"testData\")\n",
    "\n",
    "# Location where phosim input files exist.\n",
    "# Also where temp work directory is created.\n",
    "templateDataDir = os.path.join(getConfigDir(), \"cwfs\", \"donutTemplateData\")\n",
    "\n",
    "# Location where templates are created\n",
    "templateDir = os.path.join(templateDataDir, \"phosimTemplates\")\n",
    "\n",
    "# Temporary work directory : made inside \"tests/\"\n",
    "testDir = os.path.join(modulePath, \"tests\")\n",
    "tempTestDirectory = tempfile.TemporaryDirectory(dir=testDir)\n",
    "tempWorkDir = tempTestDirectory.name\n",
    "createPhosimDonuts.setTempWorkPaths(tempWorkDir)"
   ]
  },
  {
   "cell_type": "code",
   "execution_count": 15,
   "metadata": {},
   "outputs": [
    {
     "name": "stdout",
     "output_type": "stream",
     "text": [
      "/project/scichris/aos/ts_wep/tests/testData\n",
      "/project/scichris/aos/ts_wep/policy/cwfs/donutTemplateData\n",
      "/project/scichris/aos/ts_wep/policy/cwfs/donutTemplateData/phosimTemplates\n",
      "/project/scichris/aos/ts_wep/tests/tmpll_i8jm2\n"
     ]
    }
   ],
   "source": [
    "print(testDataDir)\n",
    "print(templateDataDir)\n",
    "print(templateDir)\n",
    "print(tempWorkDir)"
   ]
  },
  {
   "cell_type": "code",
   "execution_count": 17,
   "metadata": {},
   "outputs": [
    {
     "name": "stdout",
     "output_type": "stream",
     "text": [
      "False\n",
      "Making temporary work directories\n",
      "True\n",
      "True\n"
     ]
    }
   ],
   "source": [
    "#def testCreateAndCleanUpWorkDirectories(self):\n",
    "\n",
    "# Test clean up of work directories\n",
    "createPhosimDonuts.cleanUpWorkDirs()\n",
    "print(os.path.exists(tempWorkDir)) # should be false\n",
    "\n",
    "# Test creation of work directories\n",
    "createPhosimDonuts.createWorkDirectories()\n",
    "\n",
    "# both should be true \n",
    "print(os.path.exists(tempWorkDir))\n",
    "print(os.path.exists(os.path.join(tempWorkDir, \"phosimOutput\", \"extra\"))\n",
    ")"
   ]
  },
  {
   "cell_type": "code",
   "execution_count": 18,
   "metadata": {},
   "outputs": [
    {
     "name": "stdout",
     "output_type": "stream",
     "text": [
      "R22_S00|R22_S11\n",
      "R22_S00 R22_S11\n"
     ]
    }
   ],
   "source": [
    "#def testCreateDetectorLists(self):\n",
    "\n",
    "testDetectors = \"R22_S00 R22_S11\"\n",
    "\n",
    "detStrPhosim, detStrFlats = createPhosimDonuts.createDetectorLists(\n",
    "    testDetectors\n",
    ")\n",
    "print(detStrPhosim)  # self.assertEqual(detStrPhosim, \"R22_S00|R22_S11\")\n",
    "print(detStrFlats) # self.assertEqual(detStrFlats, \"R22_S00 R22_S11\")\n",
    "\n"
   ]
  },
  {
   "cell_type": "code",
   "execution_count": null,
   "metadata": {},
   "outputs": [],
   "source": []
  },
  {
   "cell_type": "code",
   "execution_count": 23,
   "metadata": {},
   "outputs": [],
   "source": [
    "def _copyPhosimFiles(testDataDir,tempWorkDir):\n",
    "    source  = os.path.join(\n",
    "                testDataDir,\n",
    "                \"phosimOutput\",\"realComCam\",\"repackagedFiles\", \"extra\",\n",
    "                \"MC_H_20211231_006001_R22_S10.fits\")\n",
    "    destination =  os.path.join(\n",
    "                tempWorkDir, \"raw\", \"MC_H_20211231_006001_R22_S10.fits\")\n",
    "\n",
    "    shutil.copy(source, destination)\n",
    "    print('cp %s %s'%(source,destination))"
   ]
  },
  {
   "cell_type": "code",
   "execution_count": 19,
   "metadata": {},
   "outputs": [
    {
     "name": "stdout",
     "output_type": "stream",
     "text": [
      "/project/scichris/aos/ts_wep/tests/testData\n"
     ]
    }
   ],
   "source": [
    "print(testDataDir)"
   ]
  },
  {
   "cell_type": "code",
   "execution_count": 20,
   "metadata": {},
   "outputs": [
    {
     "name": "stdout",
     "output_type": "stream",
     "text": [
      "/project/scichris/aos/ts_wep/tests/tmpll_i8jm2\n"
     ]
    }
   ],
   "source": [
    "print(tempWorkDir)"
   ]
  },
  {
   "cell_type": "code",
   "execution_count": 21,
   "metadata": {},
   "outputs": [
    {
     "data": {
      "text/plain": [
       "['calibs', 'raw', 'phosimWorkDir', 'phosimOutput', 'input']"
      ]
     },
     "execution_count": 21,
     "metadata": {},
     "output_type": "execute_result"
    }
   ],
   "source": [
    "os.listdir(tempWorkDir)"
   ]
  },
  {
   "cell_type": "code",
   "execution_count": 24,
   "metadata": {},
   "outputs": [
    {
     "name": "stdout",
     "output_type": "stream",
     "text": [
      "Making temporary work directories\n",
      "cp /project/scichris/aos/ts_wep/tests/testData/phosimOutput/realComCam/repackagedFiles/extra/MC_H_20211231_006001_R22_S10.fits /project/scichris/aos/ts_wep/tests/tmpll_i8jm2/raw/MC_H_20211231_006001_R22_S10.fits\n",
      "Ingest images\n"
     ]
    },
    {
     "ename": "RuntimeError",
     "evalue": "Error running: ingestImages.py /project/scichris/aos/ts_wep/tests/tmpll_i8jm2/input /project/scichris/aos/ts_wep/tests/tmpll_i8jm2/raw/*.fits",
     "output_type": "error",
     "traceback": [
      "\u001b[0;31m---------------------------------------------------------------------------\u001b[0m",
      "\u001b[0;31mRuntimeError\u001b[0m                              Traceback (most recent call last)",
      "\u001b[0;32m<ipython-input-24-a48e93bb01d7>\u001b[0m in \u001b[0;36m<module>\u001b[0;34m\u001b[0m\n\u001b[1;32m      4\u001b[0m \u001b[0m_copyPhosimFiles\u001b[0m\u001b[0;34m(\u001b[0m\u001b[0mtestDataDir\u001b[0m\u001b[0;34m,\u001b[0m \u001b[0mtempWorkDir\u001b[0m\u001b[0;34m)\u001b[0m\u001b[0;34m\u001b[0m\u001b[0;34m\u001b[0m\u001b[0m\n\u001b[1;32m      5\u001b[0m \u001b[0;31m# Run the ingest\u001b[0m\u001b[0;34m\u001b[0m\u001b[0;34m\u001b[0m\u001b[0;34m\u001b[0m\u001b[0m\n\u001b[0;32m----> 6\u001b[0;31m \u001b[0mcreatePhosimDonuts\u001b[0m\u001b[0;34m.\u001b[0m\u001b[0mingestImages\u001b[0m\u001b[0;34m(\u001b[0m\u001b[0;34m)\u001b[0m\u001b[0;34m\u001b[0m\u001b[0;34m\u001b[0m\u001b[0m\n\u001b[0m\u001b[1;32m      7\u001b[0m \u001b[0;34m\u001b[0m\u001b[0m\n\u001b[1;32m      8\u001b[0m \u001b[0;31m# check that the ingested file exists ...\u001b[0m\u001b[0;34m\u001b[0m\u001b[0;34m\u001b[0m\u001b[0;34m\u001b[0m\u001b[0m\n",
      "\u001b[0;32m/project/scichris/aos/ts_wep/python/lsst/ts/wep/CreatePhosimDonutTemplates.py\u001b[0m in \u001b[0;36mingestImages\u001b[0;34m(self)\u001b[0m\n\u001b[1;32m    183\u001b[0m         \u001b[0mdataCollector\u001b[0m\u001b[0;34m.\u001b[0m\u001b[0mgenLsstCamMapper\u001b[0m\u001b[0;34m(\u001b[0m\u001b[0;34m)\u001b[0m\u001b[0;34m\u001b[0m\u001b[0;34m\u001b[0m\u001b[0m\n\u001b[1;32m    184\u001b[0m         \u001b[0;31m# Run Ingestion\u001b[0m\u001b[0;34m\u001b[0m\u001b[0;34m\u001b[0m\u001b[0;34m\u001b[0m\u001b[0m\n\u001b[0;32m--> 185\u001b[0;31m         \u001b[0mdataCollector\u001b[0m\u001b[0;34m.\u001b[0m\u001b[0mingestImages\u001b[0m\u001b[0;34m(\u001b[0m\u001b[0;34mf\"{self.tempWorkPath}/raw/*.fits\"\u001b[0m\u001b[0;34m)\u001b[0m\u001b[0;34m\u001b[0m\u001b[0;34m\u001b[0m\u001b[0m\n\u001b[0m\u001b[1;32m    186\u001b[0m \u001b[0;34m\u001b[0m\u001b[0m\n\u001b[1;32m    187\u001b[0m     \u001b[0;32mdef\u001b[0m \u001b[0mmakeFlats\u001b[0m\u001b[0;34m(\u001b[0m\u001b[0mself\u001b[0m\u001b[0;34m,\u001b[0m \u001b[0mdetectorStrFlats\u001b[0m\u001b[0;34m)\u001b[0m\u001b[0;34m:\u001b[0m\u001b[0;34m\u001b[0m\u001b[0;34m\u001b[0m\u001b[0m\n",
      "\u001b[0;32m/project/scichris/aos/ts_wep/python/lsst/ts/wep/CamDataCollector.py\u001b[0m in \u001b[0;36mingestImages\u001b[0;34m(self, imgFiles)\u001b[0m\n\u001b[1;32m     82\u001b[0m         \"\"\"\n\u001b[1;32m     83\u001b[0m \u001b[0;34m\u001b[0m\u001b[0m\n\u001b[0;32m---> 84\u001b[0;31m         \u001b[0mself\u001b[0m\u001b[0;34m.\u001b[0m\u001b[0m_ingestImagesByButler\u001b[0m\u001b[0;34m(\u001b[0m\u001b[0mimgFiles\u001b[0m\u001b[0;34m)\u001b[0m\u001b[0;34m\u001b[0m\u001b[0;34m\u001b[0m\u001b[0m\n\u001b[0m\u001b[1;32m     85\u001b[0m \u001b[0;34m\u001b[0m\u001b[0m\n\u001b[1;32m     86\u001b[0m     \u001b[0;32mdef\u001b[0m \u001b[0m_ingestImagesByButler\u001b[0m\u001b[0;34m(\u001b[0m\u001b[0mself\u001b[0m\u001b[0;34m,\u001b[0m \u001b[0mimgFiles\u001b[0m\u001b[0;34m,\u001b[0m \u001b[0mconfigFile\u001b[0m\u001b[0;34m=\u001b[0m\u001b[0;32mNone\u001b[0m\u001b[0;34m)\u001b[0m\u001b[0;34m:\u001b[0m\u001b[0;34m\u001b[0m\u001b[0;34m\u001b[0m\u001b[0m\n",
      "\u001b[0;32m/project/scichris/aos/ts_wep/python/lsst/ts/wep/CamDataCollector.py\u001b[0m in \u001b[0;36m_ingestImagesByButler\u001b[0;34m(self, imgFiles, configFile)\u001b[0m\n\u001b[1;32m    101\u001b[0m             \u001b[0margstring\u001b[0m \u001b[0;34m+=\u001b[0m \u001b[0;34m\" --configfile %s\"\u001b[0m \u001b[0;34m%\u001b[0m \u001b[0mconfigFile\u001b[0m\u001b[0;34m\u001b[0m\u001b[0;34m\u001b[0m\u001b[0m\n\u001b[1;32m    102\u001b[0m \u001b[0;34m\u001b[0m\u001b[0m\n\u001b[0;32m--> 103\u001b[0;31m         \u001b[0mrunProgram\u001b[0m\u001b[0;34m(\u001b[0m\u001b[0mcommand\u001b[0m\u001b[0;34m,\u001b[0m \u001b[0margstring\u001b[0m\u001b[0;34m=\u001b[0m\u001b[0margstring\u001b[0m\u001b[0;34m)\u001b[0m\u001b[0;34m\u001b[0m\u001b[0;34m\u001b[0m\u001b[0m\n\u001b[0m\u001b[1;32m    104\u001b[0m \u001b[0;34m\u001b[0m\u001b[0m\n\u001b[1;32m    105\u001b[0m     \u001b[0;32mdef\u001b[0m \u001b[0mingestEimages\u001b[0m\u001b[0;34m(\u001b[0m\u001b[0mself\u001b[0m\u001b[0;34m,\u001b[0m \u001b[0mimgFiles\u001b[0m\u001b[0;34m)\u001b[0m\u001b[0;34m:\u001b[0m\u001b[0;34m\u001b[0m\u001b[0;34m\u001b[0m\u001b[0m\n",
      "\u001b[0;32m/project/scichris/aos/ts_wep/python/lsst/ts/wep/Utility.py\u001b[0m in \u001b[0;36mrunProgram\u001b[0;34m(command, binDir, argstring)\u001b[0m\n\u001b[1;32m    140\u001b[0m     \u001b[0;31m# Call the program w/o arguments\u001b[0m\u001b[0;34m\u001b[0m\u001b[0;34m\u001b[0m\u001b[0;34m\u001b[0m\u001b[0m\n\u001b[1;32m    141\u001b[0m     \u001b[0;32mif\u001b[0m \u001b[0msubprocess\u001b[0m\u001b[0;34m.\u001b[0m\u001b[0mcall\u001b[0m\u001b[0;34m(\u001b[0m\u001b[0mcommand\u001b[0m\u001b[0;34m,\u001b[0m \u001b[0mshell\u001b[0m\u001b[0;34m=\u001b[0m\u001b[0;32mTrue\u001b[0m\u001b[0;34m)\u001b[0m \u001b[0;34m!=\u001b[0m \u001b[0;36m0\u001b[0m\u001b[0;34m:\u001b[0m\u001b[0;34m\u001b[0m\u001b[0;34m\u001b[0m\u001b[0m\n\u001b[0;32m--> 142\u001b[0;31m         \u001b[0;32mraise\u001b[0m \u001b[0mRuntimeError\u001b[0m\u001b[0;34m(\u001b[0m\u001b[0;34m\"Error running: %s\"\u001b[0m \u001b[0;34m%\u001b[0m \u001b[0mcommand\u001b[0m\u001b[0;34m)\u001b[0m\u001b[0;34m\u001b[0m\u001b[0;34m\u001b[0m\u001b[0m\n\u001b[0m\u001b[1;32m    143\u001b[0m \u001b[0;34m\u001b[0m\u001b[0m\n\u001b[1;32m    144\u001b[0m \u001b[0;34m\u001b[0m\u001b[0m\n",
      "\u001b[0;31mRuntimeError\u001b[0m: Error running: ingestImages.py /project/scichris/aos/ts_wep/tests/tmpll_i8jm2/input /project/scichris/aos/ts_wep/tests/tmpll_i8jm2/raw/*.fits"
     ]
    }
   ],
   "source": [
    "#def testIngestImages(self):\n",
    "# Populate the raw phosim output directory\n",
    "createPhosimDonuts.createWorkDirectories()\n",
    "_copyPhosimFiles(testDataDir, tempWorkDir)\n",
    "# Run the ingest\n",
    "createPhosimDonuts.ingestImages()  # <-- needed to edit to use LsstCamMapper by default ... \n",
    "\n",
    "# check that the ingested file exists ... \n"
   ]
  },
  {
   "cell_type": "code",
   "execution_count": 27,
   "metadata": {},
   "outputs": [
    {
     "name": "stdout",
     "output_type": "stream",
     "text": [
      "True\n"
     ]
    }
   ],
   "source": [
    "path_to_ingested_raws =  os.path.join(tempWorkDir,\"input\",\n",
    "        \"raw\",\"2021-12-31\",\"4021123106001\",\"4021123106001-R22-S10-det093.fits\" )\n",
    "print(os.path.exists(path_to_ingested_raws))"
   ]
  },
  {
   "cell_type": "code",
   "execution_count": 28,
   "metadata": {},
   "outputs": [
    {
     "name": "stdout",
     "output_type": "stream",
     "text": [
      "Making flats\n",
      "Ingest Flats\n",
      "True\n"
     ]
    }
   ],
   "source": [
    "#def testMakeFlatsAndIngest(self):\n",
    "\n",
    "#createPhosimDonuts.createWorkDirectories()\n",
    "# Populate the repo first\n",
    "#_copyPhosimFiles()\n",
    "#createPhosimDonuts.ingestImages()\n",
    "# Make Flats and Ingest\n",
    "createPhosimDonuts.makeFlats(\"R22_S10\")\n",
    "createPhosimDonuts.ingestCalibs()\n",
    "\n",
    "print(\n",
    "    os.path.exists(os.path.join(tempWorkDir, \"input\", \"flat\", \"g\"))\n",
    "    )"
   ]
  },
  {
   "cell_type": "code",
   "execution_count": 29,
   "metadata": {},
   "outputs": [
    {
     "name": "stdout",
     "output_type": "stream",
     "text": [
      "Running ISR\n"
     ]
    }
   ],
   "source": [
    "#def testRunISR(self):\n",
    "\n",
    "#createPhosimDonuts.createWorkDirectories()\n",
    "# Populate the repo\n",
    "#_copyPhosimFiles()\n",
    "#createPhosimDonuts.ingestImages()\n",
    "# Add flats\n",
    "#createPhosimDonuts.makeFlats(\"R22_S10\")\n",
    "#self.createPhosimDonuts.ingestCalibs()\n",
    "\n",
    "# Run the ISR\n",
    "createPhosimDonuts.runISR()\n"
   ]
  },
  {
   "cell_type": "markdown",
   "metadata": {},
   "source": [
    "Show the postISRCCD to prove that ISR was correct : "
   ]
  },
  {
   "cell_type": "code",
   "execution_count": null,
   "metadata": {},
   "outputs": [],
   "source": []
  },
  {
   "cell_type": "code",
   "execution_count": 30,
   "metadata": {},
   "outputs": [
    {
     "name": "stdout",
     "output_type": "stream",
     "text": [
      "True\n"
     ]
    }
   ],
   "source": [
    "isrPath = os.path.join(\n",
    "    \"input\", \"rerun\",\"run1\",\"postISRCCD\",\"4021123106001-g\",\"R22\",\n",
    ")\n",
    "print(\n",
    "    os.path.exists(\n",
    "        os.path.join(\n",
    "            tempWorkDir,\n",
    "            isrPath,\n",
    "            \"postISRCCD_4021123106001-g-R22-S10-det093.fits\"\n",
    "        )\n",
    "    )\n",
    ")"
   ]
  },
  {
   "cell_type": "code",
   "execution_count": 31,
   "metadata": {},
   "outputs": [
    {
     "data": {
      "text/plain": [
       "'/project/scichris/aos/ts_wep/tests/tmpll_i8jm2/phosimOutput/extra/centroid_lsst_e_9006001_f1_R99_S11_E000.txt'"
      ]
     },
     "execution_count": 31,
     "metadata": {},
     "output_type": "execute_result"
    }
   ],
   "source": [
    "shutil.copy(\n",
    "        os.path.join(\n",
    "            testDataDir,\n",
    "            \"testDonutTemplates\",\n",
    "            \"centroid_lsst_e_9006001_f1_R99_S11_E000.txt\",\n",
    "        ),\n",
    "        os.path.join(tempWorkDir, \"phosimOutput\", \"extra\"),\n",
    "    )"
   ]
  },
  {
   "cell_type": "code",
   "execution_count": 33,
   "metadata": {},
   "outputs": [],
   "source": [
    "#def testCutOutTemplatesAndSave(self):\n",
    "\n",
    "testPhosimPath = os.path.join(testDataDir, \"phosimOutput\", \"donutTemplates\")\n",
    "\n",
    "# Move centroid file into place\n",
    "#createPhosimDonuts.createWorkDirectories()\n",
    "#_copyPhosimFiles()\n",
    "\n",
    "createPhosimDonuts.cutOutTemplatesAndSave(\n",
    "    testPhosimPath, 240, DefocalType.Extra, 9006001,\n",
    ")\n",
    "\n"
   ]
  },
  {
   "cell_type": "code",
   "execution_count": 34,
   "metadata": {},
   "outputs": [
    {
     "data": {
      "text/plain": [
       "'/project/scichris/aos/ts_wep/tests/testData/phosimOutput/donutTemplates'"
      ]
     },
     "execution_count": 34,
     "metadata": {},
     "output_type": "execute_result"
    }
   ],
   "source": [
    "os.list"
   ]
  },
  {
   "cell_type": "code",
   "execution_count": 36,
   "metadata": {},
   "outputs": [],
   "source": [
    "newTemplate = np.genfromtxt(\n",
    "    os.path.join(templateDir, \"extra_template-R99_S11.txt\")\n",
    ")\n",
    "trueTemplate = np.genfromtxt(\n",
    "    os.path.join(\n",
    "        testDataDir, \"testDonutTemplates\", \"extra_template-R22_S11.txt\"\n",
    "    )\n",
    ")\n",
    "np.testing.assert_array_equal(newTemplate, trueTemplate)"
   ]
  },
  {
   "cell_type": "code",
   "execution_count": 41,
   "metadata": {},
   "outputs": [
    {
     "data": {
      "text/plain": [
       "<matplotlib.image.AxesImage at 0x7f5b17eb25e0>"
      ]
     },
     "execution_count": 41,
     "metadata": {},
     "output_type": "execute_result"
    },
    {
     "data": {
      "image/png": "[encoded data removed]",
      "text/plain": [
       "<Figure size 432x288 with 1 Axes>"
      ]
     },
     "metadata": {
      "needs_background": "light"
     },
     "output_type": "display_data"
    }
   ],
   "source": [
    "import matplotlib.pyplot as plt\n",
    "%matplotlib inline\n",
    "plt.imshow(newTemplate)"
   ]
  },
  {
   "cell_type": "code",
   "execution_count": 42,
   "metadata": {},
   "outputs": [
    {
     "data": {
      "text/plain": [
       "<matplotlib.image.AxesImage at 0x7f5b17e64d60>"
      ]
     },
     "execution_count": 42,
     "metadata": {},
     "output_type": "execute_result"
    },
    {
     "data": {
      "image/png": "[encoded data removed]",
      "text/plain": [
       "<Figure size 432x288 with 1 Axes>"
      ]
     },
     "metadata": {
      "needs_background": "light"
     },
     "output_type": "display_data"
    }
   ],
   "source": [
    "plt.imshow(trueTemplate)"
   ]
  },
  {
   "cell_type": "markdown",
   "metadata": {},
   "source": [
    "Changes needed to `cutOutIntraExtraTemplates`:"
   ]
  },
  {
   "cell_type": "code",
   "execution_count": 1,
   "metadata": {},
   "outputs": [
    {
     "ename": "NameError",
     "evalue": "name 'tempWorkDir' is not defined",
     "output_type": "error",
     "traceback": [
      "\u001b[0;31m---------------------------------------------------------------------------\u001b[0m",
      "\u001b[0;31mNameError\u001b[0m                                 Traceback (most recent call last)",
      "\u001b[0;32m<ipython-input-1-a139c4591e3c>\u001b[0m in \u001b[0;36m<module>\u001b[0;34m\u001b[0m\n\u001b[1;32m      1\u001b[0m \u001b[0;32mimport\u001b[0m \u001b[0mos\u001b[0m\u001b[0;34m\u001b[0m\u001b[0;34m\u001b[0m\u001b[0m\n\u001b[1;32m      2\u001b[0m \u001b[0misrPath\u001b[0m \u001b[0;34m=\u001b[0m \u001b[0mos\u001b[0m\u001b[0;34m.\u001b[0m\u001b[0mpath\u001b[0m\u001b[0;34m.\u001b[0m\u001b[0mjoin\u001b[0m\u001b[0;34m(\u001b[0m \u001b[0;34m\"input\"\u001b[0m\u001b[0;34m,\u001b[0m \u001b[0;34m\"rerun\"\u001b[0m\u001b[0;34m,\u001b[0m\u001b[0;34m\"run1\"\u001b[0m\u001b[0;34m,\u001b[0m\u001b[0;34m\"postISRCCD\"\u001b[0m\u001b[0;34m,\u001b[0m\u001b[0;34m)\u001b[0m\u001b[0;34m\u001b[0m\u001b[0;34m\u001b[0m\u001b[0m\n\u001b[0;32m----> 3\u001b[0;31m \u001b[0mexpIds\u001b[0m \u001b[0;34m=\u001b[0m \u001b[0mos\u001b[0m\u001b[0;34m.\u001b[0m\u001b[0mlistdir\u001b[0m\u001b[0;34m(\u001b[0m\u001b[0mos\u001b[0m\u001b[0;34m.\u001b[0m\u001b[0mpath\u001b[0m\u001b[0;34m.\u001b[0m\u001b[0mjoin\u001b[0m\u001b[0;34m(\u001b[0m\u001b[0mtempWorkDir\u001b[0m\u001b[0;34m,\u001b[0m\u001b[0misrPath\u001b[0m\u001b[0;34m)\u001b[0m\u001b[0;34m)\u001b[0m\u001b[0;34m\u001b[0m\u001b[0;34m\u001b[0m\u001b[0m\n\u001b[0m\u001b[1;32m      4\u001b[0m \u001b[0;34m\u001b[0m\u001b[0m\n\u001b[1;32m      5\u001b[0m \u001b[0mextraVisitId\u001b[0m \u001b[0;34m=\u001b[0m \u001b[0;36m9006001\u001b[0m\u001b[0;34m\u001b[0m\u001b[0;34m\u001b[0m\u001b[0m\n",
      "\u001b[0;31mNameError\u001b[0m: name 'tempWorkDir' is not defined"
     ]
    }
   ],
   "source": [
    "import os\n",
    "isrPath = os.path.join( \"input\", \"rerun\",\"run1\",\"postISRCCD\",)\n",
    "expIds = os.listdir(os.path.join(tempWorkDir,isrPath))\n",
    "\n",
    "extraVisitId = 9006001\n",
    "intraVisitId = 9006002\n",
    "extraSuffix = str(extraVisitId)[-5:]\n",
    "intraSuffix = str(intraVisitId)[-5:]\n",
    "print(extraSuffix, intraSuffix)\n",
    "# we always generate both extra- and intra- focal\n",
    "# images \n",
    "for expId in expIds:\n",
    "    if extra in expId: extraExpId = expId\n",
    "    elif intra in expIds:\n",
    "        print('intra', intra, expId)\n",
    "        intraExpId = expId \n",
    "        \n",
    "intraDir = os.path.join(isrPath, intraExpId)\n",
    "extraDir = os.path.join(isrPath, extraExpId )\n"
   ]
  },
  {
   "cell_type": "code",
   "execution_count": 12,
   "metadata": {},
   "outputs": [
    {
     "name": "stdout",
     "output_type": "stream",
     "text": [
      "4021123106001-g\n",
      "4021123106002-g\n"
     ]
    }
   ],
   "source": [
    "expIds = [\"4021123106001-g\",\"4021123106002-g\"]\n",
    "extraVisitId = 9006001\n",
    "intraVisitId = 9006002\n",
    "extraSuffix = str(extraVisitId)[-5:]\n",
    "intraSuffix = str(intraVisitId)[-5:]\n",
    "\n",
    "for expId in expIds:\n",
    "    #print(expId)\n",
    "    if extraSuffix in expId: \n",
    "        extraExpId = expId\n",
    "        print(extraExpId)\n",
    "    elif intraSuffix in expId: \n",
    "        print(intraExpId)\n",
    "        intraExpId = expId \n",
    "        "
   ]
  },
  {
   "cell_type": "code",
   "execution_count": 10,
   "metadata": {},
   "outputs": [
    {
     "data": {
      "text/plain": [
       "'4021123106001-g'"
      ]
     },
     "execution_count": 10,
     "metadata": {},
     "output_type": "execute_result"
    }
   ],
   "source": [
    "extraExpId"
   ]
  },
  {
   "cell_type": "code",
   "execution_count": null,
   "metadata": {},
   "outputs": [],
   "source": [
    "#\n",
    "\"4021123106001-g\",\"R22\",\n",
    ")"
   ]
  },
  {
   "cell_type": "code",
   "execution_count": 47,
   "metadata": {},
   "outputs": [
    {
     "data": {
      "text/plain": [
       "'06001'"
      ]
     },
     "execution_count": 47,
     "metadata": {},
     "output_type": "execute_result"
    }
   ],
   "source": [
    "\n",
    "extra"
   ]
  },
  {
   "cell_type": "markdown",
   "metadata": {},
   "source": [
    "Tested the changes with running  on `lsst-devl03` \n",
    "\n",
    "    python bin.src/runCreatePhosimDonutTemplates.py --numOfProc 25 --detectorList \"R22_S00 R22_S01\"\n",
    "  \n",
    "     "
   ]
  },
  {
   "cell_type": "markdown",
   "metadata": {},
   "source": [
    "The resulting new templates are in \n",
    "\n",
    "    /project/scichris/aos/ts_wep/policy/cwfs/donutTemplateData/phosimTemplates"
   ]
  },
  {
   "cell_type": "code",
   "execution_count": 66,
   "metadata": {},
   "outputs": [
    {
     "name": "stdout",
     "output_type": "stream",
     "text": [
      "extra_template-R22_S01.txt\n",
      "extra_template-R22_S00.txt\n",
      "intra_template-R22_S00.txt\n",
      "intra_template-R22_S01.txt\n"
     ]
    },
    {
     "data": {
      "image/png": "[encoded data removed]",
      "text/plain": [
       "<Figure size 720x720 with 4 Axes>"
      ]
     },
     "metadata": {
      "needs_background": "light"
     },
     "output_type": "display_data"
    }
   ],
   "source": [
    "templateDir = '/project/scichris/aos/ts_wep/policy/cwfs/donutTemplateData/phosimTemplates'\n",
    "templates = os.listdir(templateDir)\n",
    "fig,axs = plt.subplots(2,2,figsize=(10,10))\n",
    "ax = np.ravel(axs)\n",
    "i = 0 \n",
    "for templateName in templates:\n",
    "    if 'template-R22' in templateName:\n",
    "        print(templateName)\n",
    "        image = np.genfromtxt(os.path.join(templateDir, templateName))\n",
    "        ax[i].imshow(image)\n",
    "        ax[i].set_title(templateName)\n",
    "        i += 1 "
   ]
  },
  {
   "cell_type": "code",
   "execution_count": 58,
   "metadata": {},
   "outputs": [
    {
     "data": {
      "text/plain": [
       "<Figure size 432x288 with 0 Axes>"
      ]
     },
     "metadata": {},
     "output_type": "display_data"
    }
   ],
   "source": [
    "fig = plt.figure()"
   ]
  },
  {
   "cell_type": "code",
   "execution_count": 59,
   "metadata": {},
   "outputs": [
    {
     "data": {
      "text/plain": [
       "\u001b[0;31mSignature:\u001b[0m \u001b[0mfig\u001b[0m\u001b[0;34m.\u001b[0m\u001b[0madd_subplot\u001b[0m\u001b[0;34m(\u001b[0m\u001b[0;34m*\u001b[0m\u001b[0margs\u001b[0m\u001b[0;34m,\u001b[0m \u001b[0;34m**\u001b[0m\u001b[0mkwargs\u001b[0m\u001b[0;34m)\u001b[0m\u001b[0;34m\u001b[0m\u001b[0;34m\u001b[0m\u001b[0m\n",
       "\u001b[0;31mDocstring:\u001b[0m\n",
       "Add an `~.axes.Axes` to the figure as part of a subplot arrangement.\n",
       "\n",
       "Call signatures::\n",
       "\n",
       "   add_subplot(nrows, ncols, index, **kwargs)\n",
       "   add_subplot(pos, **kwargs)\n",
       "   add_subplot(ax)\n",
       "   add_subplot()\n",
       "\n",
       "Parameters\n",
       "----------\n",
       "*args : int, (int, int, *index*), or `.SubplotSpec`, default: (1, 1, 1)\n",
       "    The position of the subplot described by one of\n",
       "\n",
       "    - Three integers (*nrows*, *ncols*, *index*). The subplot will\n",
       "      take the *index* position on a grid with *nrows* rows and\n",
       "      *ncols* columns. *index* starts at 1 in the upper left corner\n",
       "      and increases to the right.  *index* can also be a two-tuple\n",
       "      specifying the (*first*, *last*) indices (1-based, and including\n",
       "      *last*) of the subplot, e.g., ``fig.add_subplot(3, 1, (1, 2))``\n",
       "      makes a subplot that spans the upper 2/3 of the figure.\n",
       "    - A 3-digit integer. The digits are interpreted as if given\n",
       "      separately as three single-digit integers, i.e.\n",
       "      ``fig.add_subplot(235)`` is the same as\n",
       "      ``fig.add_subplot(2, 3, 5)``. Note that this can only be used\n",
       "      if there are no more than 9 subplots.\n",
       "    - A `.SubplotSpec`.\n",
       "\n",
       "    In rare circumstances, `.add_subplot` may be called with a single\n",
       "    argument, a subplot axes instance already created in the\n",
       "    present figure but not in the figure's list of axes.\n",
       "\n",
       "projection : {None, 'aitoff', 'hammer', 'lambert', 'mollweide', 'polar', 'rectilinear', str}, optional\n",
       "    The projection type of the subplot (`~.axes.Axes`). *str* is the\n",
       "    name of a custom projection, see `~matplotlib.projections`. The\n",
       "    default None results in a 'rectilinear' projection.\n",
       "\n",
       "polar : bool, default: False\n",
       "    If True, equivalent to projection='polar'.\n",
       "\n",
       "sharex, sharey : `~.axes.Axes`, optional\n",
       "    Share the x or y `~matplotlib.axis` with sharex and/or sharey.\n",
       "    The axis will have the same limits, ticks, and scale as the axis\n",
       "    of the shared axes.\n",
       "\n",
       "label : str\n",
       "    A label for the returned axes.\n",
       "\n",
       "Returns\n",
       "-------\n",
       "`.axes.SubplotBase`, or another subclass of `~.axes.Axes`\n",
       "\n",
       "    The axes of the subplot. The returned axes base class depends on\n",
       "    the projection used. It is `~.axes.Axes` if rectilinear projection\n",
       "    is used and `.projections.polar.PolarAxes` if polar projection\n",
       "    is used. The returned axes is then a subplot subclass of the\n",
       "    base class.\n",
       "\n",
       "Other Parameters\n",
       "----------------\n",
       "**kwargs\n",
       "    This method also takes the keyword arguments for the returned axes\n",
       "    base class; except for the *figure* argument. The keyword arguments\n",
       "    for the rectilinear base class `~.axes.Axes` can be found in\n",
       "    the following table but there might also be other keyword\n",
       "    arguments if another projection is used.\n",
       "\n",
       "    Properties:\n",
       "    adjustable: {'box', 'datalim'}\n",
       "    agg_filter: a filter function, which takes a (m, n, 3) float array and a dpi value, and returns a (m, n, 3) array\n",
       "    alpha: float or None\n",
       "    anchor: 2-tuple of floats or {'C', 'SW', 'S', 'SE', ...}\n",
       "    animated: bool\n",
       "    aspect: {'auto'} or num\n",
       "    autoscale_on: bool\n",
       "    autoscalex_on: bool\n",
       "    autoscaley_on: bool\n",
       "    axes_locator: Callable[[Axes, Renderer], Bbox]\n",
       "    axisbelow: bool or 'line'\n",
       "    box_aspect: None, or a number\n",
       "    clip_box: `.Bbox`\n",
       "    clip_on: bool\n",
       "    clip_path: Patch or (Path, Transform) or None\n",
       "    contains: unknown\n",
       "    facecolor or fc: color\n",
       "    figure: `.Figure`\n",
       "    frame_on: bool\n",
       "    gid: str\n",
       "    in_layout: bool\n",
       "    label: object\n",
       "    navigate: bool\n",
       "    navigate_mode: unknown\n",
       "    path_effects: `.AbstractPathEffect`\n",
       "    picker: None or bool or callable\n",
       "    position: [left, bottom, width, height] or `~matplotlib.transforms.Bbox`\n",
       "    prop_cycle: unknown\n",
       "    rasterization_zorder: float or None\n",
       "    rasterized: bool or None\n",
       "    sketch_params: (scale: float, length: float, randomness: float)\n",
       "    snap: bool or None\n",
       "    title: str\n",
       "    transform: `.Transform`\n",
       "    url: str\n",
       "    visible: bool\n",
       "    xbound: unknown\n",
       "    xlabel: str\n",
       "    xlim: (bottom: float, top: float)\n",
       "    xmargin: float greater than -0.5\n",
       "    xscale: {\"linear\", \"log\", \"symlog\", \"logit\", ...}\n",
       "    xticklabels: unknown\n",
       "    xticks: unknown\n",
       "    ybound: unknown\n",
       "    ylabel: str\n",
       "    ylim: (bottom: float, top: float)\n",
       "    ymargin: float greater than -0.5\n",
       "    yscale: {\"linear\", \"log\", \"symlog\", \"logit\", ...}\n",
       "    yticklabels: unknown\n",
       "    yticks: unknown\n",
       "    zorder: float\n",
       "\n",
       "Notes\n",
       "-----\n",
       "If the figure already has a subplot with key (*args*,\n",
       "*kwargs*) then it will simply make that subplot current and\n",
       "return it.  This behavior is deprecated. Meanwhile, if you do\n",
       "not want this behavior (i.e., you want to force the creation of a\n",
       "new subplot), you must use a unique set of args and kwargs.  The axes\n",
       "*label* attribute has been exposed for this purpose: if you want\n",
       "two subplots that are otherwise identical to be added to the figure,\n",
       "make sure you give them unique labels.\n",
       "\n",
       "See Also\n",
       "--------\n",
       ".Figure.add_axes\n",
       ".pyplot.subplot\n",
       ".pyplot.axes\n",
       ".Figure.subplots\n",
       ".pyplot.subplots\n",
       "\n",
       "Examples\n",
       "--------\n",
       "::\n",
       "\n",
       "    fig = plt.figure()\n",
       "\n",
       "    fig.add_subplot(231)\n",
       "    ax1 = fig.add_subplot(2, 3, 1)  # equivalent but more general\n",
       "\n",
       "    fig.add_subplot(232, frameon=False)  # subplot with no frame\n",
       "    fig.add_subplot(233, projection='polar')  # polar subplot\n",
       "    fig.add_subplot(234, sharex=ax1)  # subplot sharing x-axis with ax1\n",
       "    fig.add_subplot(235, facecolor=\"red\")  # red subplot\n",
       "\n",
       "    ax1.remove()  # delete ax1 from the figure\n",
       "    fig.add_subplot(ax1)  # add ax1 back to the figure\n",
       "\u001b[0;31mFile:\u001b[0m      /opt/lsst/software/stack/conda/miniconda3-py38_4.9.2/envs/lsst-scipipe-0.4.1/lib/python3.8/site-packages/matplotlib/figure.py\n",
       "\u001b[0;31mType:\u001b[0m      method\n"
      ]
     },
     "metadata": {},
     "output_type": "display_data"
    }
   ],
   "source": [
    "fig.add_subplot()"
   ]
  },
  {
   "cell_type": "markdown",
   "metadata": {},
   "source": [
    "\n",
    "\n",
    "I do an interactive rebase to the last commit that was pushed to the PR. \n",
    "\n",
    "\n",
    "    git log \n",
    "    \n",
    "      commit ddba1f4f105ad82042c85ffcc98f2adc420794f0 (HEAD -> tickets/DM-28330)\n",
    "    Author: suberlak <sci.chris@gmail.com>\n",
    "    Date:   Wed Mar 10 20:49:14 2021 +0000\n",
    "\n",
    "        Update test for createPhosimDonutTemplates\n",
    "\n",
    "    commit 1084ab4707ae5ef9c044376086609fdf0bcd438b\n",
    "    Author: suberlak <sci.chris@gmail.com>\n",
    "    Date:   Wed Mar 10 20:41:22 2021 +0000\n",
    "\n",
    "        Updated CreatePhosimDonutTemplates to lsstCam\n",
    "\n",
    "    commit 39b24e403a29df2af7920118372e1ed37ee821dc\n",
    "    Author: suberlak <sci.chris@gmail.com>\n",
    "    Date:   Tue Mar 9 21:47:56 2021 +0000\n",
    "\n",
    "        Clean CreatePhosimDonutTemplates.py according to F541\n",
    "\n",
    "    commit b9fd4b14b2e4c4f981dfd99b04a2ffc6bf000fe5\n",
    "    Author: suberlak <sci.chris@gmail.com>\n",
    "    Date:   Tue Mar 9 21:41:09 2021 +0000\n",
    "\n",
    "        Cleaned DonutTemplatePhosim.py\n",
    "\n",
    "    commit 0c0dcabf59f7bd5184a0ff2524f1c0fbcfdbafcd (origin/tickets/DM-28330)\n",
    "    Author: suberlak <sci.chris@gmail.com>\n",
    "    Date:   Tue Mar 9 20:30:04 2021 +0000\n",
    "\n",
    "        Compressed intra-focal e-images\n",
    "  \n",
    "    \n",
    "    \n",
    "    git rebase -i 0c0dcab\n",
    "    \n",
    "shows \n",
    "    \n",
    "    pick b9fd4b1 Cleaned DonutTemplatePhosim.py\n",
    "    \n",
    "    pick 39b24e4 Clean CreatePhosimDonutTemplates.py according to F541\n",
    "    \n",
    "    pick 1084ab4 Updated CreatePhosimDonutTemplates to lsstCam\n",
    "    \n",
    "    pick ddba1f4 Update test for createPhosimDonutTemplates\n",
    "\n",
    "so I reorder or squash appropriately so that there is one commit per file : \n",
    "\n",
    "\n",
    "pick b9fd4b1 Clean DonutTemplatePhosim.py\n",
    "\n",
    "pick 39b24e4 Update CreatePhosimDonutTemplates.py  to lsstCam \n",
    "squash 1084ab4 Cleaned CreatePhosimDonutTemplates.py \n",
    "\n",
    "pick ddba1f4 Update test_createPhosimDonutTemplates.py\n",
    "\n",
    "\n",
    "\n",
    "\n",
    "\n",
    "\n",
    "\n"
   ]
  },
  {
   "cell_type": "markdown",
   "metadata": {},
   "source": [
    "# Procedure to clean up commit history for ts_wep:\n",
    "    "
   ]
  },
  {
   "cell_type": "markdown",
   "metadata": {},
   "source": [
    "1) rebase to the latest commit just before the first commit of the ticket branch  : \n",
    "    \n",
    "    git rebase -i [latestCommintJustBeforefirstCommitOfTicketBranch]\n",
    "\n",
    "2) squash all commits to the FIRST commit of the PR \n",
    "\n",
    "3) reset to put everything in clean state EXCEPT changing anything in the files (i.e. the files will have all the changes)\n",
    "\n",
    "     git reset --soft HEAD~1\n",
    "     git reset HEAD -- .\n",
    "\n",
    "4) add / rm all test file changes as one commit . Then make single `add` , `commit` per python file \n",
    "\n",
    "5) push : \n",
    "\n",
    "    git push --force "
   ]
  },
  {
   "cell_type": "markdown",
   "metadata": {},
   "source": [
    "# `test_utility.py`"
   ]
  },
  {
   "cell_type": "markdown",
   "metadata": {},
   "source": [
    "Adding a test for `getAmpImagesFromDir` : "
   ]
  },
  {
   "cell_type": "code",
   "execution_count": 14,
   "metadata": {},
   "outputs": [],
   "source": [
    "from lsst.ts.wep.Utility import getAmpImagesFromDir,getModulePath\n",
    "defocalImgDir = os.path.join(\n",
    "            getModulePath(),\n",
    "            \"tests\",\n",
    "            \"testData\",\n",
    "            \"phosimOutput\",\n",
    "            \"realComCam\",\n",
    "            \"repackagedFiles\",\n",
    "            \"extra\",\n",
    "        )\n",
    "# get names of amp files\n",
    "ampFiles = getAmpImagesFromDir(defocalImgDir)\n"
   ]
  },
  {
   "cell_type": "code",
   "execution_count": 17,
   "metadata": {},
   "outputs": [
    {
     "data": {
      "text/plain": [
       "['MC_H_20211231_006001_R22_S10.fits', 'MC_H_20211231_006001_R22_S11.fits']"
      ]
     },
     "execution_count": 17,
     "metadata": {},
     "output_type": "execute_result"
    }
   ],
   "source": [
    "ampFiles"
   ]
  },
  {
   "cell_type": "code",
   "execution_count": 16,
   "metadata": {},
   "outputs": [
    {
     "data": {
      "text/plain": [
       "list"
      ]
     },
     "execution_count": 16,
     "metadata": {},
     "output_type": "execute_result"
    }
   ],
   "source": [
    "# assert it is a list\n",
    "# https://kapeli.com/cheat_sheets/Python_unittest_Assertions.docset/Contents/Resources/Documents/index\n",
    "# \n",
    "type(ampFiles)\n",
    "assertIsInstance(ampFiles,list)\n",
    "\n",
    "#"
   ]
  },
  {
   "cell_type": "code",
   "execution_count": 18,
   "metadata": {},
   "outputs": [
    {
     "data": {
      "text/plain": [
       "True"
      ]
     },
     "execution_count": 18,
     "metadata": {},
     "output_type": "execute_result"
    }
   ],
   "source": [
    "# assert the content \n",
    "#assertTrue('MC_H_20211231_006001_R22_S10.fits' in ampFiles)\n",
    "#assertTrue(MC_H_20211231_006001_R22_S11.fits' in ampFiles )\n",
    "'MC_H_20211231_006001_R22_S10.fits' in ampFiles\n"
   ]
  },
  {
   "cell_type": "code",
   "execution_count": 19,
   "metadata": {},
   "outputs": [
    {
     "data": {
      "text/plain": [
       "True"
      ]
     },
     "execution_count": 19,
     "metadata": {},
     "output_type": "execute_result"
    }
   ],
   "source": [
    "'MC_H_20211231_006001_R22_S11.fits' in ampFiles"
   ]
  },
  {
   "cell_type": "code",
   "execution_count": 20,
   "metadata": {},
   "outputs": [
    {
     "data": {
      "text/plain": [
       "['._.DS_Store',\n",
       " 'MC_H_20211231_006001_R22_S11_e.fits.gz',\n",
       " 'MC_H_20211231_006001_R22_S10.fits',\n",
       " '.DS_Store',\n",
       " 'MC_H_20211231_006001_R22_S11.fits',\n",
       " 'MC_H_20211231_006001_R22_S10_e.fits.gz']"
      ]
     },
     "execution_count": 20,
     "metadata": {},
     "output_type": "execute_result"
    }
   ],
   "source": [
    "os.listdir(defocalImgDir)"
   ]
  },
  {
   "cell_type": "markdown",
   "metadata": {},
   "source": [
    "# Updating  versionHistory.rst:\n",
    "\n",
    "https://github.com/lsst-ts/ts_wep/blob/tickets/DM-28330/doc/versionHistory.rst\n",
    "\n",
    "\n",
    "( after merge to develop ) :\n",
    "\n",
    "git checkout develop\n",
    "git pull\n",
    "\n",
    " git tag -a v1.5.4 -m \"Merge pull request #72 from lsst-dm/tickets/DM-28330\"\n",
    "    \n",
    "    git tag -ln   # shows all tags \n",
    "    \n",
    "    \n",
    "    git push origin --tags \n",
    "\n",
    "needed to conform to the new file format from DM-28556 (phosim_utils), and the new geometry, gain, read noise etc. for lsstCam in focalplanelayout.txt following DM-28557 (phosim_syseng4) . This makes ts_wep compatible with the updated gain / read noise values in obs_lsst for lsstCam from DM-28553.\n",
    "\n",
    "\n",
    "\n",
    "Need to update the tag (move it to a later commit):\n",
    "\n",
    "     git checkout develop # to get the most recent updates from develop \n",
    "     git pull --tags # to get all the tags \n",
    "\n",
    "     git tag -d v1.5.4  # to delete the tag\n",
    "     git push origin :refs/tags/v1.5.4  # to delete the tag in the remote\n",
    "\n",
    "     git tag -fa v1.5.4 # to make  the tag with that name \n",
    "\n",
    "     git push -f --tags # to forcefully push this tag \n",
    "\n",
    " Another way  : \n",
    " \n",
    "     git tag -fa v1.5.4 -m \"Update to LsstCamMapper\"\n",
    "     git push -f --tags     #  \n",
    "     \n",
    "     "
   ]
  },
  {
   "cell_type": "code",
   "execution_count": null,
   "metadata": {},
   "outputs": [],
   "source": [
    "Update test files with ROTANG"
   ]
  }
 ],
 "metadata": {
  "kernelspec": {
   "display_name": "LSST",
   "language": "python",
   "name": "lsst"
  },
  "language_info": {
   "codemirror_mode": {
    "name": "ipython",
    "version": 3
   },
   "file_extension": ".py",
   "mimetype": "text/x-python",
   "name": "python",
   "nbconvert_exporter": "python",
   "pygments_lexer": "ipython3",
   "version": "3.8.8"
  }
 },
 "nbformat": 4,
 "nbformat_minor": 4
}
