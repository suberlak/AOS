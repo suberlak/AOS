{
 "cells": [
  {
   "cell_type": "markdown",
   "metadata": {},
   "source": [
    "# AOS_WCS_check"
   ]
  },
  {
   "cell_type": "code",
   "execution_count": 21,
   "metadata": {},
   "outputs": [],
   "source": [
    "from astropy.table import Table\n",
    "import matplotlib.pyplot as plt \n",
    "import numpy as np "
   ]
  },
  {
   "cell_type": "markdown",
   "metadata": {},
   "source": [
    "I compare the results of running the same `inst` file  with **arrows** run for R22 of lsstCam **before** and **after** the updates to  `data/lsst` `focalplanelayout.txt` and `segmentation.txt`"
   ]
  },
  {
   "cell_type": "markdown",
   "metadata": {},
   "source": [
    "The arrows were made on epyc with `ts_phosim/notebooks/analysis_notebooks/AOS_sensor_outlines_arrows.ipynb`\n",
    "\n",
    "The x,y position in pixels was stored on epyc and copied to LSP with \n",
    "\n",
    "    scp suberlak@epyc.astro.washington.edu:/epyc/users/suberlak/Commissioning/aos/ts_phosim/notebooks/analysis_notebooks/comcamArrowPx.txt /project/scichris/aos/segmentation_update/comcam/"
   ]
  },
  {
   "cell_type": "markdown",
   "metadata": {},
   "source": [
    "The catalog in x,y is:"
   ]
  },
  {
   "cell_type": "code",
   "execution_count": 24,
   "metadata": {},
   "outputs": [
    {
     "data": {
      "text/plain": [
       "<matplotlib.collections.PathCollection at 0x7f12a20066a0>"
      ]
     },
     "execution_count": 24,
     "metadata": {},
     "output_type": "execute_result"
    },
    {
     "data": {
      "image/png": "[encoded data removed]",
      "text/plain": [
       "<Figure size 360x360 with 1 Axes>"
      ]
     },
     "metadata": {
      "needs_background": "light"
     },
     "output_type": "display_data"
    }
   ],
   "source": [
    "x,y = np.loadtxt('/project/scichris/aos/segmentation_update/comcam/comcamArrowPx.txt')\n",
    "fig,ax = plt.subplots(1,1,figsize=(5,5))\n",
    "ax.scatter(x,y)"
   ]
  },
  {
   "cell_type": "markdown",
   "metadata": {},
   "source": [
    "Show the ra,dec input catalog, that was made  with\n",
    "\n",
    "    skySim.addStarByChipPos(sensor, starId, xPx[i],\n",
    "                                yPx[i], starMag)\n",
    "                                \n",
    "    skySim.exportSkyToFile(outputSkyFilePath)"
   ]
  },
  {
   "cell_type": "code",
   "execution_count": 18,
   "metadata": {},
   "outputs": [],
   "source": [
    "# That sky catalog was used as an input in  `epyc` `analysis_scripts/runComCamStarCatalog.txt` \n",
    "# to make `analysis_scripts/results_arrow/singleArrowDec/`\n",
    "\n",
    "path = '/project/scichris/aos/segmentation_update/comcam/skyComcamArrows.txt'\n",
    "cat= Table.read(path, format='ascii')"
   ]
  },
  {
   "cell_type": "code",
   "execution_count": 20,
   "metadata": {},
   "outputs": [
    {
     "data": {
      "text/plain": [
       "<matplotlib.collections.PathCollection at 0x7f12a20bc0a0>"
      ]
     },
     "execution_count": 20,
     "metadata": {},
     "output_type": "execute_result"
    },
    {
     "data": {
      "image/png": "[encoded data removed]",
      "text/plain": [
       "<Figure size 432x288 with 1 Axes>"
      ]
     },
     "metadata": {
      "needs_background": "light"
     },
     "output_type": "display_data"
    }
   ],
   "source": [
    "%matplotlib inline\n",
    "m = cat['Ra']>180\n",
    "cat['Ra'][m] = cat['Ra'][m]-360\n",
    "plt.scatter(cat['Ra'], cat['Decl'])"
   ]
  },
  {
   "cell_type": "markdown",
   "metadata": {},
   "source": [
    "I took the `inst` file from `epyc`:\n",
    "\n",
    "     scp suberlak@epyc.astro.washington.edu:/astro/store/epyc/users/suberlak/Commissioning/aos/ts_phosim/notebooks/analysis_scripts/results_arrow/singleArrowDec/iter0/pert/starExtra.inst /project/scichris/aos/segmentation_update/comcam/\n",
    "     \n",
    "And changed only `SIM_VISTIME` to `1.0`  seconds  to make the run quicker. "
   ]
  },
  {
   "cell_type": "markdown",
   "metadata": {},
   "source": [
    "Now I run it with phosim using `noBkgnd.cmd ` , which doesn't run background or perturbations, but is much quicker "
   ]
  },
  {
   "cell_type": "markdown",
   "metadata": {},
   "source": [
    "I do that on  NCSA `lsst-devl03`"
   ]
  },
  {
   "cell_type": "markdown",
   "metadata": {},
   "source": [
    "# before update: "
   ]
  },
  {
   "cell_type": "markdown",
   "metadata": {},
   "source": [
    "\n",
    "\n",
    "    ssh scichris@lsst-login01.ncsa.illinois.edu \n",
    "    ssh lsst-devl03 \n",
    "    source \"/software/lsstsw/stack3/loadLSST.bash\"\n",
    "    \n",
    "    \n",
    "    cd /project/scichris/aos/phosim_syseng4/\n",
    "    git checkout tags/v.1.0.4  #  the last tag before the update \n",
    "    \n",
    "    python /project/scichris/aos/phosim_syseng4/phosim.py /project/scichris/aos/segmentation_update/comcam/starExtra.inst -i lsst -e 1 -c /project/scichris/aos/segmentation_update/comcam/noBkgnd.cmd -p 25 -o /project/scichris/aos/segmentation_update/comcam/test_before_arrows/ > /project/scichris/aos/segmentation_update/comcam/test_before_arrows/starPhoSim.log 2>&1\n",
    "    \n",
    "    \n",
    "    "
   ]
  },
  {
   "cell_type": "markdown",
   "metadata": {},
   "source": [
    "Need to repackage with the old repackager (given the old raft names etc. )\n",
    "    \n",
    "    cd /project/scichris/aos/phosim_utils/\n",
    "    git checkout tags/v0.1.2\n",
    "    scons -c\n",
    "    scons\n",
    "    setup -k -r .\n",
    "    \n",
    "    phosim_repackager.py /project/scichris/aos/segmentation_update/comcam/test_before_arrows/ --out_dir /project/scichris/aos/segmentation_update/comcam/test_before_arrows/repackaged/ --prefix lsst --verbose\n",
    "    \n",
    "    \n",
    "    "
   ]
  },
  {
   "cell_type": "markdown",
   "metadata": {},
   "source": [
    "Show the result:\n",
    "    "
   ]
  },
  {
   "cell_type": "code",
   "execution_count": 29,
   "metadata": {},
   "outputs": [
    {
     "name": "stdout",
     "output_type": "stream",
     "text": [
      "1 C00 0.0\n",
      "1 C00 5.55555555555556e-05\n",
      "1 C00 -5.55555555555556e-05\n",
      "1 C00 0.0\n",
      "2 C01 0.0\n",
      "2 C01 5.55555555555556e-05\n",
      "2 C01 -5.55555555555556e-05\n",
      "2 C01 0.0\n",
      "3 C02 0.0\n",
      "3 C02 5.55555555555556e-05\n",
      "3 C02 -5.55555555555556e-05\n",
      "3 C02 0.0\n",
      "4 C03 0.0\n",
      "4 C03 5.55555555555556e-05\n",
      "4 C03 -5.55555555555556e-05\n",
      "4 C03 0.0\n",
      "5 C04 0.0\n",
      "5 C04 5.55555555555556e-05\n",
      "5 C04 -5.55555555555556e-05\n",
      "5 C04 0.0\n",
      "6 C05 0.0\n",
      "6 C05 5.55555555555556e-05\n",
      "6 C05 -5.55555555555556e-05\n",
      "6 C05 0.0\n",
      "7 C06 0.0\n",
      "7 C06 5.55555555555556e-05\n",
      "7 C06 -5.55555555555556e-05\n",
      "7 C06 0.0\n",
      "8 C07 0.0\n",
      "8 C07 5.55555555555556e-05\n",
      "8 C07 -5.55555555555556e-05\n",
      "8 C07 0.0\n",
      "9 C17 0.0\n",
      "9 C17 -5.55555555555556e-05\n",
      "9 C17 -5.55555555555556e-05\n",
      "9 C17 -0.0\n",
      "10 C16 0.0\n",
      "10 C16 -5.55555555555556e-05\n",
      "10 C16 -5.55555555555556e-05\n",
      "10 C16 -0.0\n",
      "11 C15 0.0\n",
      "11 C15 -5.55555555555556e-05\n",
      "11 C15 -5.55555555555556e-05\n",
      "11 C15 -0.0\n",
      "12 C14 0.0\n",
      "12 C14 -5.55555555555556e-05\n",
      "12 C14 -5.55555555555556e-05\n",
      "12 C14 -0.0\n",
      "13 C13 0.0\n",
      "13 C13 -5.55555555555556e-05\n",
      "13 C13 -5.55555555555556e-05\n",
      "13 C13 -0.0\n",
      "14 C12 0.0\n",
      "14 C12 -5.55555555555556e-05\n",
      "14 C12 -5.55555555555556e-05\n",
      "14 C12 -0.0\n",
      "15 C11 0.0\n",
      "15 C11 -5.55555555555556e-05\n",
      "15 C11 -5.55555555555556e-05\n",
      "15 C11 -0.0\n",
      "16 C10 0.0\n",
      "16 C10 -5.55555555555556e-05\n",
      "16 C10 -5.55555555555556e-05\n",
      "16 C10 -0.0\n"
     ]
    }
   ],
   "source": [
    "from astropy.io import fits\n",
    "fpath = '/project/scichris/aos/segmentation_update/\\\n",
    "comcam/test_before_arrows/repackaged/lsst_a_9006001_f1_R22_S00_E000.fits'\n",
    "hdul = fits.open(fpath)\n",
    "\n",
    "for i in range(1,len(hdul)):\n",
    "    for header in ['CD1_1', 'CD1_2', 'CD2_1', 'CD2_2']:\n",
    "        print(i, hdul[i].header['AMPID'], hdul[i].header[header])"
   ]
  },
  {
   "cell_type": "markdown",
   "metadata": {},
   "source": [
    "# after update"
   ]
  },
  {
   "cell_type": "markdown",
   "metadata": {},
   "source": [
    "    ssh scichris@lsst-login01.ncsa.illinois.edu \n",
    "    ssh lsst-devl03 \n",
    "    source \"/software/lsstsw/stack3/loadLSST.bash\"\n",
    "    setup lsst_distrib\n",
    "\n",
    "    cd /project/scichris/aos/phosim_syseng4/\n",
    "    # git tag -n # show tags \n",
    "    git checkout tags/v1.0.5  #  the tag of the geometry update for data/lsst \n",
    "\n",
    "    python /project/scichris/aos/phosim_syseng4/phosim.py /project/scichris/aos/segmentation_update/comcam/starExtra.inst -i lsst -e 1 -c /project/scichris/aos/segmentation_update/comcam/noBkgnd.cmd -p 25 -o /project/scichris/aos/segmentation_update/comcam/test_after_arrows/ > /project/scichris/aos/segmentation_update/comcam/test_after_arrows/starPhoSim.log 2>&1\n",
    "    \n",
    "    \n",
    "    Need to repackage with the new repackager (i.e. after the update... ) \n",
    "\n",
    "    #it depends on ts_phosim:\n",
    "    source /project/scichris/aos/setup_aos_current.sh \n",
    "\n",
    "    cd /project/scichris/aos/phosim_utils/\n",
    "    git checkout tags/v0.2   # that is after the major update \n",
    "    \n",
    "    scons -c\n",
    "    scons\n",
    "    setup -k -r .\n",
    "\n",
    "    phosim_repackager.py /project/scichris/aos/segmentation_update/comcam/test_after_arrows/ --out_dir /project/scichris/aos/segmentation_update/comcam/test_after_arrows/repackaged/ --prefix lsst --verbose\n"
   ]
  },
  {
   "cell_type": "markdown",
   "metadata": {},
   "source": [
    "Show the result:"
   ]
  },
  {
   "cell_type": "code",
   "execution_count": 30,
   "metadata": {},
   "outputs": [
    {
     "name": "stdout",
     "output_type": "stream",
     "text": [
      "1 C10 0.0\n",
      "1 C10 -5.55555555555556e-05\n",
      "1 C10 -5.55555555555556e-05\n",
      "1 C10 -0.0\n",
      "2 C11 0.0\n",
      "2 C11 -5.55555555555556e-05\n",
      "2 C11 -5.55555555555556e-05\n",
      "2 C11 -0.0\n",
      "3 C12 0.0\n",
      "3 C12 -5.55555555555556e-05\n",
      "3 C12 -5.55555555555556e-05\n",
      "3 C12 -0.0\n",
      "4 C13 0.0\n",
      "4 C13 -5.55555555555556e-05\n",
      "4 C13 -5.55555555555556e-05\n",
      "4 C13 -0.0\n",
      "5 C14 0.0\n",
      "5 C14 -5.55555555555556e-05\n",
      "5 C14 -5.55555555555556e-05\n",
      "5 C14 -0.0\n",
      "6 C15 0.0\n",
      "6 C15 -5.55555555555556e-05\n",
      "6 C15 -5.55555555555556e-05\n",
      "6 C15 -0.0\n",
      "7 C16 0.0\n",
      "7 C16 -5.55555555555556e-05\n",
      "7 C16 -5.55555555555556e-05\n",
      "7 C16 -0.0\n",
      "8 C17 0.0\n",
      "8 C17 -5.55555555555556e-05\n",
      "8 C17 -5.55555555555556e-05\n",
      "8 C17 -0.0\n",
      "9 C07 -0.0\n",
      "9 C07 5.55555555555556e-05\n",
      "9 C07 5.55555555555556e-05\n",
      "9 C07 0.0\n",
      "10 C06 -0.0\n",
      "10 C06 5.55555555555556e-05\n",
      "10 C06 5.55555555555556e-05\n",
      "10 C06 0.0\n",
      "11 C05 -0.0\n",
      "11 C05 5.55555555555556e-05\n",
      "11 C05 5.55555555555556e-05\n",
      "11 C05 0.0\n",
      "12 C04 -0.0\n",
      "12 C04 5.55555555555556e-05\n",
      "12 C04 5.55555555555556e-05\n",
      "12 C04 0.0\n",
      "13 C03 -0.0\n",
      "13 C03 5.55555555555556e-05\n",
      "13 C03 5.55555555555556e-05\n",
      "13 C03 0.0\n",
      "14 C02 -0.0\n",
      "14 C02 5.55555555555556e-05\n",
      "14 C02 5.55555555555556e-05\n",
      "14 C02 0.0\n",
      "15 C01 -0.0\n",
      "15 C01 5.55555555555556e-05\n",
      "15 C01 5.55555555555556e-05\n",
      "15 C01 0.0\n",
      "16 C00 -0.0\n",
      "16 C00 5.55555555555556e-05\n",
      "16 C00 5.55555555555556e-05\n",
      "16 C00 0.0\n"
     ]
    }
   ],
   "source": [
    "from astropy.io import fits\n",
    "fpath = '/project/scichris/aos/segmentation_update/\\\n",
    "comcam/test_after_arrows/repackaged/MC_H_20000217_006001_R22_S00.fits'\n",
    "hdul = fits.open(fpath)\n",
    "\n",
    "for i in range(1,len(hdul)):\n",
    "    for header in ['CD1_1', 'CD1_2', 'CD2_1', 'CD2_2']:\n",
    "        print(i, hdul[i].header['AMPID'], hdul[i].header[header])"
   ]
  },
  {
   "cell_type": "markdown",
   "metadata": {},
   "source": [
    "# Update ts_wep test files in `ts_wep/tests/testData/phosimOutput/realComCam/repackagedFiles/...` "
   ]
  },
  {
   "cell_type": "markdown",
   "metadata": {},
   "source": [
    "There are amp and e-image files. Update the `ROTANG` header, so that it is increased by 90 degrees:\n",
    "    "
   ]
  },
  {
   "cell_type": "code",
   "execution_count": null,
   "metadata": {},
   "outputs": [],
   "source": [
    "Change "
   ]
  }
 ],
 "metadata": {
  "kernelspec": {
   "display_name": "LSST",
   "language": "python",
   "name": "lsst"
  },
  "language_info": {
   "codemirror_mode": {
    "name": "ipython",
    "version": 3
   },
   "file_extension": ".py",
   "mimetype": "text/x-python",
   "name": "python",
   "nbconvert_exporter": "python",
   "pygments_lexer": "ipython3",
   "version": "3.8.8"
  }
 },
 "nbformat": 4,
 "nbformat_minor": 4
}
