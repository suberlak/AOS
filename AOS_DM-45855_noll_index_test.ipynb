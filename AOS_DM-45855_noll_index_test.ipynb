{
 "cells": [
  {
   "cell_type": "markdown",
   "id": "abeb658b-cdd3-4a72-a014-e31a5d45aa2e",
   "metadata": {},
   "source": [
    "# AOS_DM-45855  update Noll value: rerun calcZernikesDanishCWFSSensor "
   ]
  },
  {
   "cell_type": "code",
   "execution_count": 2,
   "id": "cc15b2ec-7058-4845-8392-9a049da2cb6a",
   "metadata": {
    "execution": {
     "iopub.execute_input": "2024-09-18T21:35:52.746213Z",
     "iopub.status.busy": "2024-09-18T21:35:52.745594Z",
     "iopub.status.idle": "2024-09-18T21:36:00.698611Z",
     "shell.execute_reply": "2024-09-18T21:36:00.698240Z",
     "shell.execute_reply.started": "2024-09-18T21:35:52.746196Z"
    }
   },
   "outputs": [],
   "source": [
    "import os\n",
    "\n",
    "import lsst.utils.tests\n",
    "import numpy as np\n",
    "from lsst.daf import butler as dafButler\n",
    "from lsst.ts.wep.task import (\n",
    "    CalcZernikesTask,\n",
    "    CalcZernikesTaskConfig,\n",
    "    CombineZernikesMeanTask,\n",
    "    CombineZernikesSigmaClipTask,\n",
    "    EstimateZernikesDanishTask,\n",
    ")\n",
    "from lsst.ts.wep.task.donutStamps import DonutStamps\n",
    "from lsst.ts.wep.utils import (\n",
    "    getModulePath,\n",
    "    runProgram,\n",
    "    writeCleanUpRepoCmd,\n",
    "    writePipetaskCmd,\n",
    ")"
   ]
  },
  {
   "cell_type": "code",
   "execution_count": 4,
   "id": "31092e13-ceaf-41c7-b8cf-f4c5ae60ae10",
   "metadata": {
    "execution": {
     "iopub.execute_input": "2024-09-18T21:37:11.344309Z",
     "iopub.status.busy": "2024-09-18T21:37:11.343727Z",
     "iopub.status.idle": "2024-09-18T21:37:56.167307Z",
     "shell.execute_reply": "2024-09-18T21:37:56.166900Z",
     "shell.execute_reply.started": "2024-09-18T21:37:11.344293Z"
    }
   },
   "outputs": [
    {
     "name": "stderr",
     "output_type": "stream",
     "text": [
      "lsst.pipe.base.quantum_graph_builder INFO: Processing pipeline subgraph 1 of 1 with 3 task(s).\n",
      "lsst.pipe.base.quantum_graph_builder INFO: Iterating over query results to associate quanta with datasets.\n",
      "lsst.pipe.base.quantum_graph_builder INFO: Initial bipartite graph has 17 quanta, 80 dataset nodes, and 98 edges from 8 query row(s).\n",
      "lsst.pipe.base.quantum_graph_builder INFO: Generated 8 quanta for task isr.\n",
      "lsst.pipe.base.quantum_graph_builder INFO: Generated 8 quanta for task generateDonutCatalogWcsTask.\n",
      "lsst.pipe.base.quantum_graph_builder INFO: Generated 1 quantum for task cutOutDonutsCwfsTask.\n",
      "lsst.ctrl.mpexec.cmdLineFwk INFO: QuantumGraph contains 17 quanta for 3 tasks, graph ID: '1726695445.1575294-32183'\n",
      "Quanta            Tasks           \n",
      "------ ---------------------------\n",
      "     8                         isr\n",
      "     8 generateDonutCatalogWcsTask\n",
      "     1        cutOutDonutsCwfsTask\n",
      "lsst.ctrl.mpexec.singleQuantumExecutor INFO: Preparing execution of quantum for label=isr dataId={instrument: 'LSSTCam', detector: 204, exposure: 4021123106000, band: 'g', day_obs: 20211231, group: '4021123106000', physical_filter: 'g'}.\n",
      "lsst.ctrl.mpexec.singleQuantumExecutor INFO: Constructing task and executing quantum for label=isr dataId={instrument: 'LSSTCam', detector: 204, exposure: 4021123106000, band: 'g', day_obs: 20211231, group: '4021123106000', physical_filter: 'g'}.\n",
      "lsst.obs.lsst.assembly WARNING: /sdf/data/rubin/user/scichris/WORK/aos_packages/ts_wep/tests/testData/gen3TestRepo/LSSTCam/raw/all/raw/20211231/MC_H_20211231_006000/raw_LSSTCam_g_MC_H_20211231_006000_R44_SW1_LSSTCam_raw_all.fits: outAmp.getRawBBox() != data.getBBox(); patching. ((minimum=(0, 0), maximum=(575, 2047)) v. (minimum=(0, 0), maximum=(543, 2047)))\n",
      "lsst.isr INFO: Converting exposure to floating point values.\n",
      "lsst.isr INFO: Det: R44_SW1 - Noise provenance: amp, Gain provenance: amp\n",
      "lsst.isr INFO: Assembling CCD from amplifiers.\n",
      "lsst.isr INFO: Widening saturation trails.\n",
      "lsst.isr INFO: Applying gain correction instead of flat.\n",
      "lsst.isr WARNING: No rough magnitude zero point defined for filter g_6.\n",
      "lsst.isr INFO: Setting rough magnitude zero point for filter g_6: 30.940228\n",
      "lsst.ctrl.mpexec.singleQuantumExecutor INFO: Execution of task 'isr' on quantum {instrument: 'LSSTCam', detector: 204, exposure: 4021123106000, band: 'g', day_obs: 20211231, group: '4021123106000', physical_filter: 'g'} took 3.124 seconds\n",
      "lsst.ctrl.mpexec.mpGraphExecutor INFO: Executed 1 quanta successfully, 0 failed and 16 remain out of total 17 quanta.\n",
      "lsst.ctrl.mpexec.singleQuantumExecutor INFO: Preparing execution of quantum for label=isr dataId={instrument: 'LSSTCam', detector: 192, exposure: 4021123106000, band: 'g', day_obs: 20211231, group: '4021123106000', physical_filter: 'g'}.\n",
      "lsst.ctrl.mpexec.singleQuantumExecutor INFO: Constructing task and executing quantum for label=isr dataId={instrument: 'LSSTCam', detector: 192, exposure: 4021123106000, band: 'g', day_obs: 20211231, group: '4021123106000', physical_filter: 'g'}.\n",
      "lsst.obs.lsst.assembly WARNING: /sdf/data/rubin/user/scichris/WORK/aos_packages/ts_wep/tests/testData/gen3TestRepo/LSSTCam/raw/all/raw/20211231/MC_H_20211231_006000/raw_LSSTCam_g_MC_H_20211231_006000_R00_SW1_LSSTCam_raw_all.fits: outAmp.getRawBBox() != data.getBBox(); patching. ((minimum=(0, 0), maximum=(575, 2047)) v. (minimum=(0, 0), maximum=(543, 2047)))\n",
      "lsst.isr INFO: Converting exposure to floating point values.\n",
      "lsst.isr INFO: Det: R00_SW1 - Noise provenance: amp, Gain provenance: amp\n",
      "lsst.isr INFO: Assembling CCD from amplifiers.\n",
      "lsst.isr INFO: Widening saturation trails.\n",
      "lsst.isr INFO: Applying gain correction instead of flat.\n",
      "lsst.isr WARNING: No rough magnitude zero point defined for filter g_6.\n",
      "lsst.isr INFO: Setting rough magnitude zero point for filter g_6: 30.940228\n",
      "lsst.ctrl.mpexec.singleQuantumExecutor INFO: Execution of task 'isr' on quantum {instrument: 'LSSTCam', detector: 192, exposure: 4021123106000, band: 'g', day_obs: 20211231, group: '4021123106000', physical_filter: 'g'} took 1.496 seconds\n",
      "lsst.ctrl.mpexec.mpGraphExecutor INFO: Executed 2 quanta successfully, 0 failed and 15 remain out of total 17 quanta.\n",
      "lsst.ctrl.mpexec.singleQuantumExecutor INFO: Preparing execution of quantum for label=isr dataId={instrument: 'LSSTCam', detector: 199, exposure: 4021123106000, band: 'g', day_obs: 20211231, group: '4021123106000', physical_filter: 'g'}.\n",
      "lsst.ctrl.mpexec.singleQuantumExecutor INFO: Constructing task and executing quantum for label=isr dataId={instrument: 'LSSTCam', detector: 199, exposure: 4021123106000, band: 'g', day_obs: 20211231, group: '4021123106000', physical_filter: 'g'}.\n",
      "lsst.obs.lsst.assembly WARNING: /sdf/data/rubin/user/scichris/WORK/aos_packages/ts_wep/tests/testData/gen3TestRepo/LSSTCam/raw/all/raw/20211231/MC_H_20211231_006000/raw_LSSTCam_g_MC_H_20211231_006000_R40_SW0_LSSTCam_raw_all.fits: outAmp.getRawBBox() != data.getBBox(); patching. ((minimum=(0, 0), maximum=(575, 2047)) v. (minimum=(0, 0), maximum=(543, 2047)))\n",
      "lsst.isr INFO: Converting exposure to floating point values.\n",
      "lsst.isr INFO: Det: R40_SW0 - Noise provenance: amp, Gain provenance: amp\n",
      "lsst.isr INFO: Assembling CCD from amplifiers.\n",
      "lsst.isr INFO: Widening saturation trails.\n",
      "lsst.isr INFO: Applying gain correction instead of flat.\n",
      "lsst.isr WARNING: No rough magnitude zero point defined for filter g_6.\n",
      "lsst.isr INFO: Setting rough magnitude zero point for filter g_6: 30.940228\n",
      "lsst.ctrl.mpexec.singleQuantumExecutor INFO: Execution of task 'isr' on quantum {instrument: 'LSSTCam', detector: 199, exposure: 4021123106000, band: 'g', day_obs: 20211231, group: '4021123106000', physical_filter: 'g'} took 1.519 seconds\n",
      "lsst.ctrl.mpexec.mpGraphExecutor INFO: Executed 3 quanta successfully, 0 failed and 14 remain out of total 17 quanta.\n",
      "lsst.ctrl.mpexec.singleQuantumExecutor INFO: Preparing execution of quantum for label=isr dataId={instrument: 'LSSTCam', detector: 200, exposure: 4021123106000, band: 'g', day_obs: 20211231, group: '4021123106000', physical_filter: 'g'}.\n",
      "lsst.ctrl.mpexec.singleQuantumExecutor INFO: Constructing task and executing quantum for label=isr dataId={instrument: 'LSSTCam', detector: 200, exposure: 4021123106000, band: 'g', day_obs: 20211231, group: '4021123106000', physical_filter: 'g'}.\n",
      "lsst.obs.lsst.assembly WARNING: /sdf/data/rubin/user/scichris/WORK/aos_packages/ts_wep/tests/testData/gen3TestRepo/LSSTCam/raw/all/raw/20211231/MC_H_20211231_006000/raw_LSSTCam_g_MC_H_20211231_006000_R40_SW1_LSSTCam_raw_all.fits: outAmp.getRawBBox() != data.getBBox(); patching. ((minimum=(0, 0), maximum=(575, 2047)) v. (minimum=(0, 0), maximum=(543, 2047)))\n",
      "lsst.isr INFO: Converting exposure to floating point values.\n",
      "lsst.isr INFO: Det: R40_SW1 - Noise provenance: amp, Gain provenance: amp\n",
      "lsst.isr INFO: Assembling CCD from amplifiers.\n",
      "lsst.isr INFO: Widening saturation trails.\n",
      "lsst.isr INFO: Applying gain correction instead of flat.\n",
      "lsst.isr WARNING: No rough magnitude zero point defined for filter g_6.\n",
      "lsst.isr INFO: Setting rough magnitude zero point for filter g_6: 30.940228\n",
      "lsst.ctrl.mpexec.singleQuantumExecutor INFO: Execution of task 'isr' on quantum {instrument: 'LSSTCam', detector: 200, exposure: 4021123106000, band: 'g', day_obs: 20211231, group: '4021123106000', physical_filter: 'g'} took 1.512 seconds\n",
      "lsst.ctrl.mpexec.mpGraphExecutor INFO: Executed 4 quanta successfully, 0 failed and 13 remain out of total 17 quanta.\n",
      "lsst.ctrl.mpexec.singleQuantumExecutor INFO: Preparing execution of quantum for label=isr dataId={instrument: 'LSSTCam', detector: 196, exposure: 4021123106000, band: 'g', day_obs: 20211231, group: '4021123106000', physical_filter: 'g'}.\n",
      "lsst.ctrl.mpexec.singleQuantumExecutor INFO: Constructing task and executing quantum for label=isr dataId={instrument: 'LSSTCam', detector: 196, exposure: 4021123106000, band: 'g', day_obs: 20211231, group: '4021123106000', physical_filter: 'g'}.\n",
      "lsst.obs.lsst.assembly WARNING: /sdf/data/rubin/user/scichris/WORK/aos_packages/ts_wep/tests/testData/gen3TestRepo/LSSTCam/raw/all/raw/20211231/MC_H_20211231_006000/raw_LSSTCam_g_MC_H_20211231_006000_R04_SW1_LSSTCam_raw_all.fits: outAmp.getRawBBox() != data.getBBox(); patching. ((minimum=(0, 0), maximum=(575, 2047)) v. (minimum=(0, 0), maximum=(543, 2047)))\n",
      "lsst.isr INFO: Converting exposure to floating point values.\n",
      "lsst.isr INFO: Det: R04_SW1 - Noise provenance: amp, Gain provenance: amp\n",
      "lsst.isr INFO: Assembling CCD from amplifiers.\n",
      "lsst.isr INFO: Widening saturation trails.\n",
      "lsst.isr INFO: Applying gain correction instead of flat.\n",
      "lsst.isr WARNING: No rough magnitude zero point defined for filter g_6.\n",
      "lsst.isr INFO: Setting rough magnitude zero point for filter g_6: 30.940228\n",
      "lsst.ctrl.mpexec.singleQuantumExecutor INFO: Execution of task 'isr' on quantum {instrument: 'LSSTCam', detector: 196, exposure: 4021123106000, band: 'g', day_obs: 20211231, group: '4021123106000', physical_filter: 'g'} took 1.516 seconds\n",
      "lsst.ctrl.mpexec.mpGraphExecutor INFO: Executed 5 quanta successfully, 0 failed and 12 remain out of total 17 quanta.\n",
      "lsst.ctrl.mpexec.singleQuantumExecutor INFO: Preparing execution of quantum for label=isr dataId={instrument: 'LSSTCam', detector: 195, exposure: 4021123106000, band: 'g', day_obs: 20211231, group: '4021123106000', physical_filter: 'g'}.\n",
      "lsst.ctrl.mpexec.singleQuantumExecutor INFO: Constructing task and executing quantum for label=isr dataId={instrument: 'LSSTCam', detector: 195, exposure: 4021123106000, band: 'g', day_obs: 20211231, group: '4021123106000', physical_filter: 'g'}.\n",
      "lsst.obs.lsst.assembly WARNING: /sdf/data/rubin/user/scichris/WORK/aos_packages/ts_wep/tests/testData/gen3TestRepo/LSSTCam/raw/all/raw/20211231/MC_H_20211231_006000/raw_LSSTCam_g_MC_H_20211231_006000_R04_SW0_LSSTCam_raw_all.fits: outAmp.getRawBBox() != data.getBBox(); patching. ((minimum=(0, 0), maximum=(575, 2047)) v. (minimum=(0, 0), maximum=(543, 2047)))\n",
      "lsst.isr INFO: Converting exposure to floating point values.\n",
      "lsst.isr INFO: Det: R04_SW0 - Noise provenance: amp, Gain provenance: amp\n",
      "lsst.isr INFO: Assembling CCD from amplifiers.\n",
      "lsst.isr INFO: Widening saturation trails.\n",
      "lsst.isr INFO: Applying gain correction instead of flat.\n",
      "lsst.isr WARNING: No rough magnitude zero point defined for filter g_6.\n",
      "lsst.isr INFO: Setting rough magnitude zero point for filter g_6: 30.940228\n",
      "lsst.ctrl.mpexec.singleQuantumExecutor INFO: Execution of task 'isr' on quantum {instrument: 'LSSTCam', detector: 195, exposure: 4021123106000, band: 'g', day_obs: 20211231, group: '4021123106000', physical_filter: 'g'} took 1.597 seconds\n",
      "lsst.ctrl.mpexec.mpGraphExecutor INFO: Executed 6 quanta successfully, 0 failed and 11 remain out of total 17 quanta.\n",
      "lsst.ctrl.mpexec.singleQuantumExecutor INFO: Preparing execution of quantum for label=isr dataId={instrument: 'LSSTCam', detector: 203, exposure: 4021123106000, band: 'g', day_obs: 20211231, group: '4021123106000', physical_filter: 'g'}.\n",
      "lsst.ctrl.mpexec.singleQuantumExecutor INFO: Constructing task and executing quantum for label=isr dataId={instrument: 'LSSTCam', detector: 203, exposure: 4021123106000, band: 'g', day_obs: 20211231, group: '4021123106000', physical_filter: 'g'}.\n",
      "lsst.obs.lsst.assembly WARNING: /sdf/data/rubin/user/scichris/WORK/aos_packages/ts_wep/tests/testData/gen3TestRepo/LSSTCam/raw/all/raw/20211231/MC_H_20211231_006000/raw_LSSTCam_g_MC_H_20211231_006000_R44_SW0_LSSTCam_raw_all.fits: outAmp.getRawBBox() != data.getBBox(); patching. ((minimum=(0, 0), maximum=(575, 2047)) v. (minimum=(0, 0), maximum=(543, 2047)))\n",
      "lsst.isr INFO: Converting exposure to floating point values.\n",
      "lsst.isr INFO: Det: R44_SW0 - Noise provenance: amp, Gain provenance: amp\n",
      "lsst.isr INFO: Assembling CCD from amplifiers.\n",
      "lsst.isr INFO: Widening saturation trails.\n",
      "lsst.isr INFO: Applying gain correction instead of flat.\n",
      "lsst.isr WARNING: No rough magnitude zero point defined for filter g_6.\n",
      "lsst.isr INFO: Setting rough magnitude zero point for filter g_6: 30.940228\n",
      "lsst.ctrl.mpexec.singleQuantumExecutor INFO: Execution of task 'isr' on quantum {instrument: 'LSSTCam', detector: 203, exposure: 4021123106000, band: 'g', day_obs: 20211231, group: '4021123106000', physical_filter: 'g'} took 1.561 seconds\n",
      "lsst.ctrl.mpexec.mpGraphExecutor INFO: Executed 7 quanta successfully, 0 failed and 10 remain out of total 17 quanta.\n",
      "lsst.ctrl.mpexec.singleQuantumExecutor INFO: Preparing execution of quantum for label=isr dataId={instrument: 'LSSTCam', detector: 191, exposure: 4021123106000, band: 'g', day_obs: 20211231, group: '4021123106000', physical_filter: 'g'}.\n",
      "lsst.ctrl.mpexec.singleQuantumExecutor INFO: Constructing task and executing quantum for label=isr dataId={instrument: 'LSSTCam', detector: 191, exposure: 4021123106000, band: 'g', day_obs: 20211231, group: '4021123106000', physical_filter: 'g'}.\n",
      "lsst.obs.lsst.assembly WARNING: /sdf/data/rubin/user/scichris/WORK/aos_packages/ts_wep/tests/testData/gen3TestRepo/LSSTCam/raw/all/raw/20211231/MC_H_20211231_006000/raw_LSSTCam_g_MC_H_20211231_006000_R00_SW0_LSSTCam_raw_all.fits: outAmp.getRawBBox() != data.getBBox(); patching. ((minimum=(0, 0), maximum=(575, 2047)) v. (minimum=(0, 0), maximum=(543, 2047)))\n",
      "lsst.isr INFO: Converting exposure to floating point values.\n",
      "lsst.isr INFO: Det: R00_SW0 - Noise provenance: amp, Gain provenance: amp\n",
      "lsst.isr INFO: Assembling CCD from amplifiers.\n",
      "lsst.isr INFO: Widening saturation trails.\n",
      "lsst.isr INFO: Applying gain correction instead of flat.\n",
      "lsst.isr WARNING: No rough magnitude zero point defined for filter g_6.\n",
      "lsst.isr INFO: Setting rough magnitude zero point for filter g_6: 30.940228\n",
      "lsst.ctrl.mpexec.singleQuantumExecutor INFO: Execution of task 'isr' on quantum {instrument: 'LSSTCam', detector: 191, exposure: 4021123106000, band: 'g', day_obs: 20211231, group: '4021123106000', physical_filter: 'g'} took 1.503 seconds\n",
      "lsst.ctrl.mpexec.mpGraphExecutor INFO: Executed 8 quanta successfully, 0 failed and 9 remain out of total 17 quanta.\n",
      "lsst.ctrl.mpexec.singleQuantumExecutor INFO: Preparing execution of quantum for label=generateDonutCatalogWcsTask dataId={instrument: 'LSSTCam', detector: 204, visit: 4021123106000, band: 'g', day_obs: 20211231, physical_filter: 'g'}.\n",
      "lsst.ctrl.mpexec.singleQuantumExecutor INFO: Constructing task and executing quantum for label=generateDonutCatalogWcsTask dataId={instrument: 'LSSTCam', detector: 204, visit: 4021123106000, band: 'g', day_obs: 20211231, physical_filter: 'g'}.\n",
      "py.warnings WARNING: /sdf/group/rubin/sw/conda/envs/lsst-scipipe-9.0.0/share/eups/Linux64/pipe_base/g3efb6ca773+3df63bf37b/python/lsst/pipe/base/pipelineTask.py:194: UserWarning: Reading file:///sdf/data/rubin/user/scichris/WORK/aos_packages/ts_wep/tests/testData/gen3TestRepo/run1/postISRCCD/20211231/MC_H_20211231_006000/postISRCCD_LSSTCam_g_MC_H_20211231_006000_R44_SW1_run1.fits with data ID {instrument: 'LSSTCam', detector: 204, exposure: 4021123106000, band: 'g', day_obs: 20211231, group: '4021123106000', physical_filter: 'g'}: filter label mismatch (file is FilterLabel(band=\"g\", physical=\"g_6\"), data ID is FilterLabel(band=\"g\", physical=\"g\")).  This is probably a bug in the code that produced it.\n",
      "  inputs = butlerQC.get(inputRefs)\n",
      "\n",
      "lsst.generateDonutCatalogWcsTask INFO: Running Donut Selector\n",
      "lsst.meas.algorithms.loadReferenceObjects.ReferenceObjectLoader INFO: Loading reference objects from None in region bounded by [1.19295345, 1.31514242], [1.07072695, 1.30774409] RA Dec\n",
      "lsst.meas.algorithms.loadReferenceObjects.ReferenceObjectLoader INFO: Loaded 2 reference objects\n",
      "lsst.generateDonutCatalogWcsTask.donutSelector INFO: Selected 2/2 references\n",
      "lsst.ctrl.mpexec.singleQuantumExecutor INFO: Execution of task 'generateDonutCatalogWcsTask' on quantum {instrument: 'LSSTCam', detector: 204, visit: 4021123106000, band: 'g', day_obs: 20211231, physical_filter: 'g'} took 0.533 seconds\n",
      "lsst.ctrl.mpexec.mpGraphExecutor INFO: Executed 9 quanta successfully, 0 failed and 8 remain out of total 17 quanta.\n",
      "lsst.ctrl.mpexec.singleQuantumExecutor INFO: Preparing execution of quantum for label=generateDonutCatalogWcsTask dataId={instrument: 'LSSTCam', detector: 192, visit: 4021123106000, band: 'g', day_obs: 20211231, physical_filter: 'g'}.\n",
      "lsst.ctrl.mpexec.singleQuantumExecutor INFO: Constructing task and executing quantum for label=generateDonutCatalogWcsTask dataId={instrument: 'LSSTCam', detector: 192, visit: 4021123106000, band: 'g', day_obs: 20211231, physical_filter: 'g'}.\n",
      "py.warnings WARNING: /sdf/group/rubin/sw/conda/envs/lsst-scipipe-9.0.0/share/eups/Linux64/pipe_base/g3efb6ca773+3df63bf37b/python/lsst/pipe/base/pipelineTask.py:194: UserWarning: Reading file:///sdf/data/rubin/user/scichris/WORK/aos_packages/ts_wep/tests/testData/gen3TestRepo/run1/postISRCCD/20211231/MC_H_20211231_006000/postISRCCD_LSSTCam_g_MC_H_20211231_006000_R00_SW1_run1.fits with data ID {instrument: 'LSSTCam', detector: 192, exposure: 4021123106000, band: 'g', day_obs: 20211231, group: '4021123106000', physical_filter: 'g'}: filter label mismatch (file is FilterLabel(band=\"g\", physical=\"g_6\"), data ID is FilterLabel(band=\"g\", physical=\"g\")).  This is probably a bug in the code that produced it.\n",
      "  inputs = butlerQC.get(inputRefs)\n",
      "\n",
      "lsst.generateDonutCatalogWcsTask INFO: Running Donut Selector\n",
      "lsst.meas.algorithms.loadReferenceObjects.ReferenceObjectLoader INFO: Loading reference objects from None in region bounded by [358.68485758, 358.80704655], [-1.30774409, -1.07072695] RA Dec\n",
      "lsst.meas.algorithms.loadReferenceObjects.ReferenceObjectLoader INFO: Loaded 2 reference objects\n",
      "lsst.generateDonutCatalogWcsTask.donutSelector INFO: Selected 2/2 references\n",
      "lsst.ctrl.mpexec.singleQuantumExecutor INFO: Execution of task 'generateDonutCatalogWcsTask' on quantum {instrument: 'LSSTCam', detector: 192, visit: 4021123106000, band: 'g', day_obs: 20211231, physical_filter: 'g'} took 0.355 seconds\n",
      "lsst.ctrl.mpexec.mpGraphExecutor INFO: Executed 10 quanta successfully, 0 failed and 7 remain out of total 17 quanta.\n",
      "lsst.ctrl.mpexec.singleQuantumExecutor INFO: Preparing execution of quantum for label=generateDonutCatalogWcsTask dataId={instrument: 'LSSTCam', detector: 199, visit: 4021123106000, band: 'g', day_obs: 20211231, physical_filter: 'g'}.\n",
      "lsst.ctrl.mpexec.singleQuantumExecutor INFO: Constructing task and executing quantum for label=generateDonutCatalogWcsTask dataId={instrument: 'LSSTCam', detector: 199, visit: 4021123106000, band: 'g', day_obs: 20211231, physical_filter: 'g'}.\n",
      "py.warnings WARNING: /sdf/group/rubin/sw/conda/envs/lsst-scipipe-9.0.0/share/eups/Linux64/pipe_base/g3efb6ca773+3df63bf37b/python/lsst/pipe/base/pipelineTask.py:194: UserWarning: Reading file:///sdf/data/rubin/user/scichris/WORK/aos_packages/ts_wep/tests/testData/gen3TestRepo/run1/postISRCCD/20211231/MC_H_20211231_006000/postISRCCD_LSSTCam_g_MC_H_20211231_006000_R40_SW0_run1.fits with data ID {instrument: 'LSSTCam', detector: 199, exposure: 4021123106000, band: 'g', day_obs: 20211231, group: '4021123106000', physical_filter: 'g'}: filter label mismatch (file is FilterLabel(band=\"g\", physical=\"g_6\"), data ID is FilterLabel(band=\"g\", physical=\"g\")).  This is probably a bug in the code that produced it.\n",
      "  inputs = butlerQC.get(inputRefs)\n",
      "\n",
      "lsst.generateDonutCatalogWcsTask INFO: Running Donut Selector\n",
      "lsst.meas.algorithms.loadReferenceObjects.ReferenceObjectLoader INFO: Loading reference objects from None in region bounded by [1.07099451, 1.30802321], [-1.18589026, -1.06360907] RA Dec\n",
      "lsst.meas.algorithms.loadReferenceObjects.ReferenceObjectLoader INFO: Loaded 2 reference objects\n",
      "lsst.generateDonutCatalogWcsTask.donutSelector INFO: Selected 2/2 references\n",
      "lsst.ctrl.mpexec.singleQuantumExecutor INFO: Execution of task 'generateDonutCatalogWcsTask' on quantum {instrument: 'LSSTCam', detector: 199, visit: 4021123106000, band: 'g', day_obs: 20211231, physical_filter: 'g'} took 0.371 seconds\n",
      "lsst.ctrl.mpexec.mpGraphExecutor INFO: Executed 11 quanta successfully, 0 failed and 6 remain out of total 17 quanta.\n",
      "lsst.ctrl.mpexec.singleQuantumExecutor INFO: Preparing execution of quantum for label=generateDonutCatalogWcsTask dataId={instrument: 'LSSTCam', detector: 200, visit: 4021123106000, band: 'g', day_obs: 20211231, physical_filter: 'g'}.\n",
      "lsst.ctrl.mpexec.singleQuantumExecutor INFO: Constructing task and executing quantum for label=generateDonutCatalogWcsTask dataId={instrument: 'LSSTCam', detector: 200, visit: 4021123106000, band: 'g', day_obs: 20211231, physical_filter: 'g'}.\n",
      "py.warnings WARNING: /sdf/group/rubin/sw/conda/envs/lsst-scipipe-9.0.0/share/eups/Linux64/pipe_base/g3efb6ca773+3df63bf37b/python/lsst/pipe/base/pipelineTask.py:194: UserWarning: Reading file:///sdf/data/rubin/user/scichris/WORK/aos_packages/ts_wep/tests/testData/gen3TestRepo/run1/postISRCCD/20211231/MC_H_20211231_006000/postISRCCD_LSSTCam_g_MC_H_20211231_006000_R40_SW1_run1.fits with data ID {instrument: 'LSSTCam', detector: 200, exposure: 4021123106000, band: 'g', day_obs: 20211231, group: '4021123106000', physical_filter: 'g'}: filter label mismatch (file is FilterLabel(band=\"g\", physical=\"g_6\"), data ID is FilterLabel(band=\"g\", physical=\"g\")).  This is probably a bug in the code that produced it.\n",
      "  inputs = butlerQC.get(inputRefs)\n",
      "\n",
      "lsst.generateDonutCatalogWcsTask INFO: Running Donut Selector\n",
      "lsst.meas.algorithms.loadReferenceObjects.ReferenceObjectLoader INFO: Loading reference objects from None in region bounded by [1.07100901, 1.30802750], [-1.31491274, -1.19264268] RA Dec\n",
      "lsst.meas.algorithms.loadReferenceObjects.ReferenceObjectLoader INFO: Loaded 2 reference objects\n",
      "lsst.generateDonutCatalogWcsTask.donutSelector INFO: Selected 2/2 references\n",
      "lsst.ctrl.mpexec.singleQuantumExecutor INFO: Execution of task 'generateDonutCatalogWcsTask' on quantum {instrument: 'LSSTCam', detector: 200, visit: 4021123106000, band: 'g', day_obs: 20211231, physical_filter: 'g'} took 0.351 seconds\n",
      "lsst.ctrl.mpexec.mpGraphExecutor INFO: Executed 12 quanta successfully, 0 failed and 5 remain out of total 17 quanta.\n",
      "lsst.ctrl.mpexec.singleQuantumExecutor INFO: Preparing execution of quantum for label=generateDonutCatalogWcsTask dataId={instrument: 'LSSTCam', detector: 196, visit: 4021123106000, band: 'g', day_obs: 20211231, physical_filter: 'g'}.\n",
      "lsst.ctrl.mpexec.singleQuantumExecutor INFO: Constructing task and executing quantum for label=generateDonutCatalogWcsTask dataId={instrument: 'LSSTCam', detector: 196, visit: 4021123106000, band: 'g', day_obs: 20211231, physical_filter: 'g'}.\n",
      "py.warnings WARNING: /sdf/group/rubin/sw/conda/envs/lsst-scipipe-9.0.0/share/eups/Linux64/pipe_base/g3efb6ca773+3df63bf37b/python/lsst/pipe/base/pipelineTask.py:194: UserWarning: Reading file:///sdf/data/rubin/user/scichris/WORK/aos_packages/ts_wep/tests/testData/gen3TestRepo/run1/postISRCCD/20211231/MC_H_20211231_006000/postISRCCD_LSSTCam_g_MC_H_20211231_006000_R04_SW1_run1.fits with data ID {instrument: 'LSSTCam', detector: 196, exposure: 4021123106000, band: 'g', day_obs: 20211231, group: '4021123106000', physical_filter: 'g'}: filter label mismatch (file is FilterLabel(band=\"g\", physical=\"g_6\"), data ID is FilterLabel(band=\"g\", physical=\"g\")).  This is probably a bug in the code that produced it.\n",
      "  inputs = butlerQC.get(inputRefs)\n",
      "\n",
      "lsst.generateDonutCatalogWcsTask INFO: Running Donut Selector\n",
      "lsst.meas.algorithms.loadReferenceObjects.ReferenceObjectLoader INFO: Loading reference objects from None in region bounded by [358.69197250, 358.92899099], [1.19264268, 1.31491274] RA Dec\n",
      "lsst.meas.algorithms.loadReferenceObjects.ReferenceObjectLoader INFO: Loaded 2 reference objects\n",
      "lsst.generateDonutCatalogWcsTask.donutSelector INFO: Selected 2/2 references\n",
      "lsst.ctrl.mpexec.singleQuantumExecutor INFO: Execution of task 'generateDonutCatalogWcsTask' on quantum {instrument: 'LSSTCam', detector: 196, visit: 4021123106000, band: 'g', day_obs: 20211231, physical_filter: 'g'} took 0.354 seconds\n",
      "lsst.ctrl.mpexec.mpGraphExecutor INFO: Executed 13 quanta successfully, 0 failed and 4 remain out of total 17 quanta.\n",
      "lsst.ctrl.mpexec.singleQuantumExecutor INFO: Preparing execution of quantum for label=generateDonutCatalogWcsTask dataId={instrument: 'LSSTCam', detector: 195, visit: 4021123106000, band: 'g', day_obs: 20211231, physical_filter: 'g'}.\n",
      "lsst.ctrl.mpexec.singleQuantumExecutor INFO: Constructing task and executing quantum for label=generateDonutCatalogWcsTask dataId={instrument: 'LSSTCam', detector: 195, visit: 4021123106000, band: 'g', day_obs: 20211231, physical_filter: 'g'}.\n",
      "py.warnings WARNING: /sdf/group/rubin/sw/conda/envs/lsst-scipipe-9.0.0/share/eups/Linux64/pipe_base/g3efb6ca773+3df63bf37b/python/lsst/pipe/base/pipelineTask.py:194: UserWarning: Reading file:///sdf/data/rubin/user/scichris/WORK/aos_packages/ts_wep/tests/testData/gen3TestRepo/run1/postISRCCD/20211231/MC_H_20211231_006000/postISRCCD_LSSTCam_g_MC_H_20211231_006000_R04_SW0_run1.fits with data ID {instrument: 'LSSTCam', detector: 195, exposure: 4021123106000, band: 'g', day_obs: 20211231, group: '4021123106000', physical_filter: 'g'}: filter label mismatch (file is FilterLabel(band=\"g\", physical=\"g_6\"), data ID is FilterLabel(band=\"g\", physical=\"g\")).  This is probably a bug in the code that produced it.\n",
      "  inputs = butlerQC.get(inputRefs)\n",
      "\n",
      "lsst.generateDonutCatalogWcsTask INFO: Running Donut Selector\n",
      "lsst.meas.algorithms.loadReferenceObjects.ReferenceObjectLoader INFO: Loading reference objects from None in region bounded by [358.69197679, 358.92900549], [1.06360907, 1.18589026] RA Dec\n",
      "lsst.meas.algorithms.loadReferenceObjects.ReferenceObjectLoader INFO: Loaded 2 reference objects\n",
      "lsst.generateDonutCatalogWcsTask.donutSelector INFO: Selected 2/2 references\n",
      "lsst.ctrl.mpexec.singleQuantumExecutor INFO: Execution of task 'generateDonutCatalogWcsTask' on quantum {instrument: 'LSSTCam', detector: 195, visit: 4021123106000, band: 'g', day_obs: 20211231, physical_filter: 'g'} took 0.444 seconds\n",
      "lsst.ctrl.mpexec.mpGraphExecutor INFO: Executed 14 quanta successfully, 0 failed and 3 remain out of total 17 quanta.\n",
      "lsst.ctrl.mpexec.singleQuantumExecutor INFO: Preparing execution of quantum for label=generateDonutCatalogWcsTask dataId={instrument: 'LSSTCam', detector: 203, visit: 4021123106000, band: 'g', day_obs: 20211231, physical_filter: 'g'}.\n",
      "lsst.ctrl.mpexec.singleQuantumExecutor INFO: Constructing task and executing quantum for label=generateDonutCatalogWcsTask dataId={instrument: 'LSSTCam', detector: 203, visit: 4021123106000, band: 'g', day_obs: 20211231, physical_filter: 'g'}.\n",
      "py.warnings WARNING: /sdf/group/rubin/sw/conda/envs/lsst-scipipe-9.0.0/share/eups/Linux64/pipe_base/g3efb6ca773+3df63bf37b/python/lsst/pipe/base/pipelineTask.py:194: UserWarning: Reading file:///sdf/data/rubin/user/scichris/WORK/aos_packages/ts_wep/tests/testData/gen3TestRepo/run1/postISRCCD/20211231/MC_H_20211231_006000/postISRCCD_LSSTCam_g_MC_H_20211231_006000_R44_SW0_run1.fits with data ID {instrument: 'LSSTCam', detector: 203, exposure: 4021123106000, band: 'g', day_obs: 20211231, group: '4021123106000', physical_filter: 'g'}: filter label mismatch (file is FilterLabel(band=\"g\", physical=\"g_6\"), data ID is FilterLabel(band=\"g\", physical=\"g\")).  This is probably a bug in the code that produced it.\n",
      "  inputs = butlerQC.get(inputRefs)\n",
      "\n",
      "lsst.generateDonutCatalogWcsTask INFO: Running Donut Selector\n",
      "lsst.meas.algorithms.loadReferenceObjects.ReferenceObjectLoader INFO: Loading reference objects from None in region bounded by [1.06388623, 1.18609741], [1.07076509, 1.30779781] RA Dec\n",
      "lsst.meas.algorithms.loadReferenceObjects.ReferenceObjectLoader INFO: Loaded 2 reference objects\n",
      "lsst.generateDonutCatalogWcsTask.donutSelector INFO: Selected 2/2 references\n",
      "lsst.ctrl.mpexec.singleQuantumExecutor INFO: Execution of task 'generateDonutCatalogWcsTask' on quantum {instrument: 'LSSTCam', detector: 203, visit: 4021123106000, band: 'g', day_obs: 20211231, physical_filter: 'g'} took 0.343 seconds\n",
      "lsst.ctrl.mpexec.mpGraphExecutor INFO: Executed 15 quanta successfully, 0 failed and 2 remain out of total 17 quanta.\n",
      "lsst.ctrl.mpexec.singleQuantumExecutor INFO: Preparing execution of quantum for label=generateDonutCatalogWcsTask dataId={instrument: 'LSSTCam', detector: 191, visit: 4021123106000, band: 'g', day_obs: 20211231, physical_filter: 'g'}.\n",
      "lsst.ctrl.mpexec.singleQuantumExecutor INFO: Constructing task and executing quantum for label=generateDonutCatalogWcsTask dataId={instrument: 'LSSTCam', detector: 191, visit: 4021123106000, band: 'g', day_obs: 20211231, physical_filter: 'g'}.\n",
      "py.warnings WARNING: /sdf/group/rubin/sw/conda/envs/lsst-scipipe-9.0.0/share/eups/Linux64/pipe_base/g3efb6ca773+3df63bf37b/python/lsst/pipe/base/pipelineTask.py:194: UserWarning: Reading file:///sdf/data/rubin/user/scichris/WORK/aos_packages/ts_wep/tests/testData/gen3TestRepo/run1/postISRCCD/20211231/MC_H_20211231_006000/postISRCCD_LSSTCam_g_MC_H_20211231_006000_R00_SW0_run1.fits with data ID {instrument: 'LSSTCam', detector: 191, exposure: 4021123106000, band: 'g', day_obs: 20211231, group: '4021123106000', physical_filter: 'g'}: filter label mismatch (file is FilterLabel(band=\"g\", physical=\"g_6\"), data ID is FilterLabel(band=\"g\", physical=\"g\")).  This is probably a bug in the code that produced it.\n",
      "  inputs = butlerQC.get(inputRefs)\n",
      "\n",
      "lsst.generateDonutCatalogWcsTask INFO: Running Donut Selector\n",
      "lsst.meas.algorithms.loadReferenceObjects.ReferenceObjectLoader INFO: Loading reference objects from None in region bounded by [358.81390259, 358.93611377], [-1.30779781, -1.07076509] RA Dec\n",
      "lsst.meas.algorithms.loadReferenceObjects.ReferenceObjectLoader INFO: Loaded 2 reference objects\n",
      "lsst.generateDonutCatalogWcsTask.donutSelector INFO: Selected 2/2 references\n",
      "lsst.ctrl.mpexec.singleQuantumExecutor INFO: Execution of task 'generateDonutCatalogWcsTask' on quantum {instrument: 'LSSTCam', detector: 191, visit: 4021123106000, band: 'g', day_obs: 20211231, physical_filter: 'g'} took 0.351 seconds\n",
      "lsst.ctrl.mpexec.mpGraphExecutor INFO: Executed 16 quanta successfully, 0 failed and 1 remain out of total 17 quanta.\n",
      "lsst.ctrl.mpexec.singleQuantumExecutor INFO: Preparing execution of quantum for label=cutOutDonutsCwfsTask dataId={instrument: 'LSSTCam', exposure: 4021123106000, band: 'g', day_obs: 20211231, group: '4021123106000', physical_filter: 'g'}.\n",
      "lsst.ctrl.mpexec.singleQuantumExecutor INFO: Constructing task and executing quantum for label=cutOutDonutsCwfsTask dataId={instrument: 'LSSTCam', exposure: 4021123106000, band: 'g', day_obs: 20211231, group: '4021123106000', physical_filter: 'g'}.\n",
      "py.warnings WARNING: /sdf/data/rubin/user/scichris/WORK/aos_packages/ts_wep/python/lsst/ts/wep/task/cutOutDonutsCwfsTask.py:133: UserWarning: Reading file:///sdf/data/rubin/user/scichris/WORK/aos_packages/ts_wep/tests/testData/gen3TestRepo/run1/postISRCCD/20211231/MC_H_20211231_006000/postISRCCD_LSSTCam_g_MC_H_20211231_006000_R00_SW0_run1.fits with data ID {instrument: 'LSSTCam', detector: 191, exposure: 4021123106000, band: 'g', day_obs: 20211231, group: '4021123106000', physical_filter: 'g'}: filter label mismatch (file is FilterLabel(band=\"g\", physical=\"g_6\"), data ID is FilterLabel(band=\"g\", physical=\"g\")).  This is probably a bug in the code that produced it.\n",
      "  expInputs = butlerQC.get(\n",
      "\n",
      "py.warnings WARNING: /sdf/data/rubin/user/scichris/WORK/aos_packages/ts_wep/python/lsst/ts/wep/task/cutOutDonutsCwfsTask.py:133: UserWarning: Reading file:///sdf/data/rubin/user/scichris/WORK/aos_packages/ts_wep/tests/testData/gen3TestRepo/run1/postISRCCD/20211231/MC_H_20211231_006000/postISRCCD_LSSTCam_g_MC_H_20211231_006000_R00_SW1_run1.fits with data ID {instrument: 'LSSTCam', detector: 192, exposure: 4021123106000, band: 'g', day_obs: 20211231, group: '4021123106000', physical_filter: 'g'}: filter label mismatch (file is FilterLabel(band=\"g\", physical=\"g_6\"), data ID is FilterLabel(band=\"g\", physical=\"g\")).  This is probably a bug in the code that produced it.\n",
      "  expInputs = butlerQC.get(\n",
      "\n",
      "lsst.cutOutDonutsCwfsTask WARNING: Donut Recentering Failed. Flagging and not shifting center of stamp for extra-focal source at (2819, 1402). Catalog index: 0. Proposed Shift: (-24, -22).\n",
      "lsst.cutOutDonutsCwfsTask WARNING: Missing variance plane; using the variance of image background for noise estimate.\n",
      "lsst.cutOutDonutsCwfsTask WARNING: Donut Recentering Failed. Flagging and not shifting center of stamp for extra-focal source at (2519, 1102). Catalog index: 1. Proposed Shift: (-23, -21).\n",
      "lsst.cutOutDonutsCwfsTask WARNING: Missing variance plane; using the variance of image background for noise estimate.\n",
      "lsst.cutOutDonutsCwfsTask WARNING: Missing variance plane; using the variance of image background for noise estimate.\n",
      "lsst.cutOutDonutsCwfsTask WARNING: Missing variance plane; using the variance of image background for noise estimate.\n",
      "py.warnings WARNING: /sdf/data/rubin/user/scichris/WORK/aos_packages/ts_wep/python/lsst/ts/wep/task/cutOutDonutsCwfsTask.py:133: UserWarning: Reading file:///sdf/data/rubin/user/scichris/WORK/aos_packages/ts_wep/tests/testData/gen3TestRepo/run1/postISRCCD/20211231/MC_H_20211231_006000/postISRCCD_LSSTCam_g_MC_H_20211231_006000_R04_SW0_run1.fits with data ID {instrument: 'LSSTCam', detector: 195, exposure: 4021123106000, band: 'g', day_obs: 20211231, group: '4021123106000', physical_filter: 'g'}: filter label mismatch (file is FilterLabel(band=\"g\", physical=\"g_6\"), data ID is FilterLabel(band=\"g\", physical=\"g\")).  This is probably a bug in the code that produced it.\n",
      "  expInputs = butlerQC.get(\n",
      "\n",
      "py.warnings WARNING: /sdf/data/rubin/user/scichris/WORK/aos_packages/ts_wep/python/lsst/ts/wep/task/cutOutDonutsCwfsTask.py:133: UserWarning: Reading file:///sdf/data/rubin/user/scichris/WORK/aos_packages/ts_wep/tests/testData/gen3TestRepo/run1/postISRCCD/20211231/MC_H_20211231_006000/postISRCCD_LSSTCam_g_MC_H_20211231_006000_R04_SW1_run1.fits with data ID {instrument: 'LSSTCam', detector: 196, exposure: 4021123106000, band: 'g', day_obs: 20211231, group: '4021123106000', physical_filter: 'g'}: filter label mismatch (file is FilterLabel(band=\"g\", physical=\"g_6\"), data ID is FilterLabel(band=\"g\", physical=\"g\")).  This is probably a bug in the code that produced it.\n",
      "  expInputs = butlerQC.get(\n",
      "\n",
      "lsst.cutOutDonutsCwfsTask WARNING: Donut Recentering Failed. Flagging and not shifting center of stamp for extra-focal source at (2825, 1408). Catalog index: 0. Proposed Shift: (-23, -21).\n",
      "lsst.cutOutDonutsCwfsTask WARNING: Missing variance plane; using the variance of image background for noise estimate.\n",
      "lsst.cutOutDonutsCwfsTask WARNING: Donut Recentering Failed. Flagging and not shifting center of stamp for extra-focal source at (2525, 1108). Catalog index: 1. Proposed Shift: (-22, -21).\n",
      "lsst.cutOutDonutsCwfsTask WARNING: Missing variance plane; using the variance of image background for noise estimate.\n",
      "lsst.cutOutDonutsCwfsTask WARNING: Missing variance plane; using the variance of image background for noise estimate.\n",
      "lsst.cutOutDonutsCwfsTask WARNING: Missing variance plane; using the variance of image background for noise estimate.\n",
      "py.warnings WARNING: /sdf/data/rubin/user/scichris/WORK/aos_packages/ts_wep/python/lsst/ts/wep/task/cutOutDonutsCwfsTask.py:133: UserWarning: Reading file:///sdf/data/rubin/user/scichris/WORK/aos_packages/ts_wep/tests/testData/gen3TestRepo/run1/postISRCCD/20211231/MC_H_20211231_006000/postISRCCD_LSSTCam_g_MC_H_20211231_006000_R40_SW0_run1.fits with data ID {instrument: 'LSSTCam', detector: 199, exposure: 4021123106000, band: 'g', day_obs: 20211231, group: '4021123106000', physical_filter: 'g'}: filter label mismatch (file is FilterLabel(band=\"g\", physical=\"g_6\"), data ID is FilterLabel(band=\"g\", physical=\"g\")).  This is probably a bug in the code that produced it.\n",
      "  expInputs = butlerQC.get(\n",
      "\n",
      "py.warnings WARNING: /sdf/data/rubin/user/scichris/WORK/aos_packages/ts_wep/python/lsst/ts/wep/task/cutOutDonutsCwfsTask.py:133: UserWarning: Reading file:///sdf/data/rubin/user/scichris/WORK/aos_packages/ts_wep/tests/testData/gen3TestRepo/run1/postISRCCD/20211231/MC_H_20211231_006000/postISRCCD_LSSTCam_g_MC_H_20211231_006000_R40_SW1_run1.fits with data ID {instrument: 'LSSTCam', detector: 200, exposure: 4021123106000, band: 'g', day_obs: 20211231, group: '4021123106000', physical_filter: 'g'}: filter label mismatch (file is FilterLabel(band=\"g\", physical=\"g_6\"), data ID is FilterLabel(band=\"g\", physical=\"g\")).  This is probably a bug in the code that produced it.\n",
      "  expInputs = butlerQC.get(\n",
      "\n",
      "lsst.cutOutDonutsCwfsTask WARNING: Donut Recentering Failed. Flagging and not shifting center of stamp for extra-focal source at (2815, 1419). Catalog index: 0. Proposed Shift: (-23, -21).\n",
      "lsst.cutOutDonutsCwfsTask WARNING: Missing variance plane; using the variance of image background for noise estimate.\n",
      "lsst.cutOutDonutsCwfsTask WARNING: Donut Recentering Failed. Flagging and not shifting center of stamp for extra-focal source at (2515, 1120). Catalog index: 1. Proposed Shift: (-23, -22).\n",
      "lsst.cutOutDonutsCwfsTask WARNING: Missing variance plane; using the variance of image background for noise estimate.\n",
      "lsst.cutOutDonutsCwfsTask WARNING: Missing variance plane; using the variance of image background for noise estimate.\n",
      "lsst.cutOutDonutsCwfsTask WARNING: Missing variance plane; using the variance of image background for noise estimate.\n",
      "py.warnings WARNING: /sdf/data/rubin/user/scichris/WORK/aos_packages/ts_wep/python/lsst/ts/wep/task/cutOutDonutsCwfsTask.py:133: UserWarning: Reading file:///sdf/data/rubin/user/scichris/WORK/aos_packages/ts_wep/tests/testData/gen3TestRepo/run1/postISRCCD/20211231/MC_H_20211231_006000/postISRCCD_LSSTCam_g_MC_H_20211231_006000_R44_SW0_run1.fits with data ID {instrument: 'LSSTCam', detector: 203, exposure: 4021123106000, band: 'g', day_obs: 20211231, group: '4021123106000', physical_filter: 'g'}: filter label mismatch (file is FilterLabel(band=\"g\", physical=\"g_6\"), data ID is FilterLabel(band=\"g\", physical=\"g\")).  This is probably a bug in the code that produced it.\n",
      "  expInputs = butlerQC.get(\n",
      "\n",
      "py.warnings WARNING: /sdf/data/rubin/user/scichris/WORK/aos_packages/ts_wep/python/lsst/ts/wep/task/cutOutDonutsCwfsTask.py:133: UserWarning: Reading file:///sdf/data/rubin/user/scichris/WORK/aos_packages/ts_wep/tests/testData/gen3TestRepo/run1/postISRCCD/20211231/MC_H_20211231_006000/postISRCCD_LSSTCam_g_MC_H_20211231_006000_R44_SW1_run1.fits with data ID {instrument: 'LSSTCam', detector: 204, exposure: 4021123106000, band: 'g', day_obs: 20211231, group: '4021123106000', physical_filter: 'g'}: filter label mismatch (file is FilterLabel(band=\"g\", physical=\"g_6\"), data ID is FilterLabel(band=\"g\", physical=\"g\")).  This is probably a bug in the code that produced it.\n",
      "  expInputs = butlerQC.get(\n",
      "\n",
      "lsst.cutOutDonutsCwfsTask WARNING: Donut Recentering Failed. Flagging and not shifting center of stamp for extra-focal source at (2814, 1407). Catalog index: 0. Proposed Shift: (-24, -21).\n",
      "lsst.cutOutDonutsCwfsTask WARNING: Missing variance plane; using the variance of image background for noise estimate.\n",
      "lsst.cutOutDonutsCwfsTask WARNING: Donut Recentering Failed. Flagging and not shifting center of stamp for extra-focal source at (2514, 1107). Catalog index: 1. Proposed Shift: (-23, -21).\n",
      "lsst.cutOutDonutsCwfsTask WARNING: Missing variance plane; using the variance of image background for noise estimate.\n",
      "lsst.cutOutDonutsCwfsTask WARNING: Missing variance plane; using the variance of image background for noise estimate.\n",
      "lsst.cutOutDonutsCwfsTask WARNING: Missing variance plane; using the variance of image background for noise estimate.\n",
      "lsst.ctrl.mpexec.singleQuantumExecutor INFO: Execution of task 'cutOutDonutsCwfsTask' on quantum {instrument: 'LSSTCam', exposure: 4021123106000, band: 'g', day_obs: 20211231, group: '4021123106000', physical_filter: 'g'} took 9.299 seconds\n",
      "lsst.ctrl.mpexec.mpGraphExecutor INFO: Executed 17 quanta successfully, 0 failed and 0 remain out of total 17 quanta.\n"
     ]
    }
   ],
   "source": [
    "\"\"\"\n",
    "Generate donutCatalog needed for task.\n",
    "\"\"\"\n",
    "\n",
    "moduleDir = getModulePath()\n",
    "testDataDir = os.path.join(moduleDir, \"tests\", \"testData\")\n",
    "testPipelineConfigDir = os.path.join(testDataDir, \"pipelineConfigs\")\n",
    "repoDir = os.path.join(testDataDir, \"gen3TestRepo\")\n",
    "runName = \"run1\"\n",
    "\n",
    "# Check that run doesn't already exist due to previous improper cleanup\n",
    "butler = dafButler.Butler(repoDir)\n",
    "registry = butler.registry\n",
    "collectionsList = list(registry.queryCollections())\n",
    "if runName in collectionsList:\n",
    "    cleanUpCmd = writeCleanUpRepoCmd(repoDir, runName)\n",
    "    runProgram(cleanUpCmd)\n",
    "\n",
    "collections = \"refcats/gen2,LSSTCam/calib,LSSTCam/raw/all\"\n",
    "instrument = \"lsst.obs.lsst.LsstCam\"\n",
    "cameraName = \"LSSTCam\"\n",
    "pipelineYaml = os.path.join(\n",
    "    testPipelineConfigDir, \"testCalcZernikesCwfsSetupPipeline.yaml\"\n",
    ")\n",
    "\n",
    "pipeCmd = writePipetaskCmd(\n",
    "    repoDir, runName, instrument, collections, pipelineYaml=pipelineYaml\n",
    ")\n",
    "pipeCmd += ' -d \"detector IN (191, 192, 195, 196, 199, 200, 203, 204)\"'\n",
    "runProgram(pipeCmd)"
   ]
  },
  {
   "cell_type": "code",
   "execution_count": 5,
   "id": "02546d37-2cad-45d3-922f-6e148fa354de",
   "metadata": {
    "execution": {
     "iopub.execute_input": "2024-09-18T21:40:51.590693Z",
     "iopub.status.busy": "2024-09-18T21:40:51.590119Z",
     "iopub.status.idle": "2024-09-18T21:40:52.951029Z",
     "shell.execute_reply": "2024-09-18T21:40:52.950638Z",
     "shell.execute_reply.started": "2024-09-18T21:40:51.590679Z"
    }
   },
   "outputs": [],
   "source": [
    "config = CalcZernikesTaskConfig()\n",
    "config.estimateZernikes.retarget(EstimateZernikesDanishTask)\n",
    "task = CalcZernikesTask(config=config, name=\"Base Task\")\n",
    "\n",
    "butler = dafButler.Butler(repoDir)\n",
    "registry = butler.registry\n",
    "\n",
    "dataIdExtra = {\n",
    "    \"instrument\": \"LSSTCam\",\n",
    "    \"detector\": 191,\n",
    "    \"exposure\": 4021123106000,\n",
    "    \"visit\": 4021123106000,\n",
    "}\n",
    "dataIdIntra = {\n",
    "    \"instrument\": \"LSSTCam\",\n",
    "    \"detector\": 191,\n",
    "    \"exposure\": 4021123106000,\n",
    "    \"visit\": 4021123106000,\n",
    "}\n",
    "donutStampsExtra = butler.get(\n",
    "    \"donutStampsExtra\", dataId=dataIdExtra, collections=[runName]\n",
    ")\n",
    "donutStampsIntra = butler.get(\n",
    "    \"donutStampsIntra\", dataId=dataIdExtra, collections=[runName]\n",
    ")\n"
   ]
  },
  {
   "cell_type": "code",
   "execution_count": 6,
   "id": "d7c8e985-a313-4eb4-9f91-7c2b09b963e0",
   "metadata": {
    "execution": {
     "iopub.execute_input": "2024-09-18T21:40:53.867989Z",
     "iopub.status.busy": "2024-09-18T21:40:53.867518Z",
     "iopub.status.idle": "2024-09-18T21:41:00.492056Z",
     "shell.execute_reply": "2024-09-18T21:41:00.491692Z",
     "shell.execute_reply.started": "2024-09-18T21:40:53.867975Z"
    }
   },
   "outputs": [
    {
     "name": "stderr",
     "output_type": "stream",
     "text": [
      "INFO:CombineZernikesSigmaClipTask:MaxZernClip config: 3. MaxZernClip used: 3.\n",
      "INFO:CombineZernikesSigmaClipTask:Using 1 pairs out of 1 in final Zernike estimate.\n"
     ]
    }
   ],
   "source": [
    "donutStampDir = os.path.join(testDataDir, \"donutImg\", \"donutStamps\")\n",
    "\n",
    "# Test R04\n",
    "donutStampsExtra = DonutStamps.readFits(\n",
    "    os.path.join(donutStampDir, \"R04_SW0_donutStamps.fits\")\n",
    ")\n",
    "donutStampsIntra = DonutStamps.readFits(\n",
    "    os.path.join(donutStampDir, \"R04_SW1_donutStamps.fits\")\n",
    ")\n",
    "zernCoeffAllR04 = task.estimateZernikes.run(\n",
    "    donutStampsExtra, donutStampsIntra\n",
    ").zernikes\n",
    "zernCoeffAvgR04 = task.combineZernikes.run(\n",
    "    zernCoeffAllR04\n",
    ").combinedZernikes"
   ]
  },
  {
   "cell_type": "code",
   "execution_count": 7,
   "id": "2a487708-98ad-4ad5-8c9a-944675704db1",
   "metadata": {
    "execution": {
     "iopub.execute_input": "2024-09-18T21:41:00.509725Z",
     "iopub.status.busy": "2024-09-18T21:41:00.509603Z",
     "iopub.status.idle": "2024-09-18T21:41:00.512239Z",
     "shell.execute_reply": "2024-09-18T21:41:00.511862Z",
     "shell.execute_reply.started": "2024-09-18T21:41:00.509714Z"
    }
   },
   "outputs": [
    {
     "data": {
      "text/plain": [
       "25"
      ]
     },
     "execution_count": 7,
     "metadata": {},
     "output_type": "execute_result"
    }
   ],
   "source": [
    "len(zernCoeffAvgR04)"
   ]
  },
  {
   "cell_type": "code",
   "execution_count": 10,
   "id": "00fcd7f0-321d-4bd1-aa53-b584bbe509cf",
   "metadata": {
    "execution": {
     "iopub.execute_input": "2024-09-18T21:41:25.134125Z",
     "iopub.status.busy": "2024-09-18T21:41:25.133628Z",
     "iopub.status.idle": "2024-09-18T21:41:25.136942Z",
     "shell.execute_reply": "2024-09-18T21:41:25.136572Z",
     "shell.execute_reply.started": "2024-09-18T21:41:25.134110Z"
    }
   },
   "outputs": [],
   "source": [
    "# previous values \n",
    "trueZernCoeffR04 = np.array(\n",
    "            [\n",
    "                -0.35353452,\n",
    "                0.07365128,\n",
    "                0.62222451,\n",
    "                -0.06206281,\n",
    "                0.09065757,\n",
    "                0.21722746,\n",
    "                0.20491936,\n",
    "                0.00849322,\n",
    "                -0.01150489,\n",
    "                -0.02599147,\n",
    "                -0.00150702,\n",
    "                0.14100845,\n",
    "                -0.02294787,\n",
    "                0.02284791,\n",
    "                -0.02116483,\n",
    "                -0.02537743,\n",
    "                -0.01866772,\n",
    "                0.01653037,\n",
    "                -0.00552862,\n",
    "            ]\n",
    "        )\n"
   ]
  },
  {
   "cell_type": "code",
   "execution_count": 11,
   "id": "4586e7a1-bd85-4c4e-95c8-067006a40711",
   "metadata": {
    "execution": {
     "iopub.execute_input": "2024-09-18T21:41:26.958368Z",
     "iopub.status.busy": "2024-09-18T21:41:26.957975Z",
     "iopub.status.idle": "2024-09-18T21:41:26.961099Z",
     "shell.execute_reply": "2024-09-18T21:41:26.960767Z",
     "shell.execute_reply.started": "2024-09-18T21:41:26.958354Z"
    }
   },
   "outputs": [
    {
     "data": {
      "text/plain": [
       "19"
      ]
     },
     "execution_count": 11,
     "metadata": {},
     "output_type": "execute_result"
    }
   ],
   "source": [
    "len(trueZernCoeffR04)"
   ]
  },
  {
   "cell_type": "code",
   "execution_count": null,
   "id": "a853ead6-b4cf-42b1-b975-cf75b8f801c3",
   "metadata": {},
   "outputs": [],
   "source": []
  },
  {
   "cell_type": "code",
   "execution_count": 12,
   "id": "8412a502-281c-46e7-be4f-186268cf7e4f",
   "metadata": {
    "execution": {
     "iopub.execute_input": "2024-09-18T21:41:28.936716Z",
     "iopub.status.busy": "2024-09-18T21:41:28.936490Z",
     "iopub.status.idle": "2024-09-18T21:41:29.044065Z",
     "shell.execute_reply": "2024-09-18T21:41:29.043710Z",
     "shell.execute_reply.started": "2024-09-18T21:41:28.936702Z"
    }
   },
   "outputs": [
    {
     "data": {
      "text/plain": [
       "Text(0, 0.5, 'Mode value [microns]')"
      ]
     },
     "execution_count": 12,
     "metadata": {},
     "output_type": "execute_result"
    },
    {
     "data": {
      "image/png": "[encoded data removed]",
      "text/plain": [
       "<Figure size 640x480 with 1 Axes>"
      ]
     },
     "metadata": {},
     "output_type": "display_data"
    }
   ],
   "source": [
    "import matplotlib.pyplot as plt\n",
    "plt.plot(np.arange(4,29), zernCoeffAvgR04, ls='--', marker='d', label='new fit up to Z28')\n",
    "plt.plot(np.arange(4,23), trueZernCoeffR04, ls='--', marker='s', label='old data up to Z22')\n",
    "plt.legend()\n",
    "plt.xlabel('Zk index')\n",
    "plt.ylabel('Mode value [microns]')"
   ]
  },
  {
   "cell_type": "markdown",
   "id": "9a08014a-776f-45df-b136-bac8d0c63af7",
   "metadata": {
    "execution": {
     "iopub.execute_input": "2024-09-05T14:50:45.499502Z",
     "iopub.status.busy": "2024-09-05T14:50:45.499182Z",
     "iopub.status.idle": "2024-09-05T14:50:45.502615Z",
     "shell.execute_reply": "2024-09-05T14:50:45.502207Z",
     "shell.execute_reply.started": "2024-09-05T14:50:45.499487Z"
    }
   },
   "source": [
    "Update the values with the new fit results "
   ]
  },
  {
   "cell_type": "code",
   "execution_count": 13,
   "id": "d72d1612-a2cb-4625-9a4d-1f105d4a67ee",
   "metadata": {
    "execution": {
     "iopub.execute_input": "2024-09-18T21:41:47.007428Z",
     "iopub.status.busy": "2024-09-18T21:41:47.007141Z",
     "iopub.status.idle": "2024-09-18T21:41:47.010474Z",
     "shell.execute_reply": "2024-09-18T21:41:47.010144Z",
     "shell.execute_reply.started": "2024-09-18T21:41:47.007413Z"
    }
   },
   "outputs": [
    {
     "data": {
      "text/plain": [
       "array([-0.39401388,  0.36051539,  0.60247446,  0.01628614, -0.00294667,\n",
       "        0.20695479,  0.15891274,  0.00473219, -0.00297377, -0.03348815,\n",
       "        0.01690553,  0.10845509,  0.00102616, -0.00204221, -0.02738544,\n",
       "       -0.0324347 , -0.01002763,  0.02291608, -0.00589446, -0.00884343,\n",
       "       -0.00322051, -0.0122419 ,  0.00535912,  0.00531382, -0.00154533])"
      ]
     },
     "execution_count": 13,
     "metadata": {},
     "output_type": "execute_result"
    }
   ],
   "source": [
    "zernCoeffAvgR04"
   ]
  },
  {
   "cell_type": "code",
   "execution_count": 14,
   "id": "0c96f14a-54e6-4538-acbf-426296a0fa83",
   "metadata": {
    "execution": {
     "iopub.execute_input": "2024-09-18T21:43:17.064355Z",
     "iopub.status.busy": "2024-09-18T21:43:17.064049Z",
     "iopub.status.idle": "2024-09-18T21:43:22.362423Z",
     "shell.execute_reply": "2024-09-18T21:43:22.362074Z",
     "shell.execute_reply.started": "2024-09-18T21:43:17.064340Z"
    }
   },
   "outputs": [
    {
     "name": "stderr",
     "output_type": "stream",
     "text": [
      "INFO:CombineZernikesSigmaClipTask:MaxZernClip config: 3. MaxZernClip used: 3.\n",
      "INFO:CombineZernikesSigmaClipTask:Using 1 pairs out of 1 in final Zernike estimate.\n"
     ]
    }
   ],
   "source": [
    "# Test R40\n",
    "donutStampsExtra = DonutStamps.readFits(\n",
    "    os.path.join(donutStampDir, \"R40_SW0_donutStamps.fits\")\n",
    ")\n",
    "donutStampsIntra = DonutStamps.readFits(\n",
    "    os.path.join(donutStampDir, \"R40_SW1_donutStamps.fits\")\n",
    ")\n",
    "zernCoeffAllR40 = task.estimateZernikes.run(\n",
    "    donutStampsExtra, donutStampsIntra\n",
    ").zernikes\n",
    "zernCoeffAvgR40 = task.combineZernikes.run(\n",
    "    zernCoeffAllR40\n",
    ").combinedZernikes\n",
    "trueZernCoeffR40 = np.array(\n",
    "    [\n",
    "        -3.83610201e-01,\n",
    "        2.06528254e-01,\n",
    "        5.42893431e-01,\n",
    "        7.74255848e-02,\n",
    "        -3.40529812e-02,\n",
    "        5.45565149e-02,\n",
    "        -8.65849308e-02,\n",
    "        1.75029212e-02,\n",
    "        -1.40149246e-04,\n",
    "        -4.11223127e-02,\n",
    "        -2.42644902e-03,\n",
    "        1.52392233e-01,\n",
    "        1.24547354e-02,\n",
    "        -2.33075716e-02,\n",
    "        -7.35477674e-04,\n",
    "        1.93518814e-02,\n",
    "        3.65768735e-03,\n",
    "        4.12718699e-02,\n",
    "        -6.93386734e-03,\n",
    "    ]\n",
    ")\n"
   ]
  },
  {
   "cell_type": "code",
   "execution_count": 15,
   "id": "37c2f8a8-3818-4d2b-964d-aa6188955d4f",
   "metadata": {
    "execution": {
     "iopub.execute_input": "2024-09-18T21:43:25.521979Z",
     "iopub.status.busy": "2024-09-18T21:43:25.521695Z",
     "iopub.status.idle": "2024-09-18T21:43:25.613821Z",
     "shell.execute_reply": "2024-09-18T21:43:25.613455Z",
     "shell.execute_reply.started": "2024-09-18T21:43:25.521965Z"
    }
   },
   "outputs": [
    {
     "data": {
      "text/plain": [
       "Text(0, 0.5, 'Mode value [microns]')"
      ]
     },
     "execution_count": 15,
     "metadata": {},
     "output_type": "execute_result"
    },
    {
     "data": {
      "image/png": "[encoded data removed]",
      "text/plain": [
       "<Figure size 640x480 with 1 Axes>"
      ]
     },
     "metadata": {},
     "output_type": "display_data"
    }
   ],
   "source": [
    "import matplotlib.pyplot as plt\n",
    "plt.plot(np.arange(4,29), zernCoeffAvgR04, ls='--', marker='d', label='new fit up to Z28')\n",
    "plt.plot(np.arange(4,23), trueZernCoeffR04, ls='--', marker='s', label='old data up to Z22')\n",
    "plt.legend()\n",
    "plt.xlabel('Zk index')\n",
    "plt.ylabel('Mode value [microns]')"
   ]
  },
  {
   "cell_type": "markdown",
   "id": "9f524762-7008-40c6-8dd9-5ffe52cbd945",
   "metadata": {},
   "source": [
    "Update the `trueZernCoeffR04` :\n",
    "\n",
    "\n"
   ]
  },
  {
   "cell_type": "code",
   "execution_count": 16,
   "id": "06031ca3-fdb8-45e7-ba86-08df0798eba3",
   "metadata": {
    "execution": {
     "iopub.execute_input": "2024-09-18T21:44:08.851919Z",
     "iopub.status.busy": "2024-09-18T21:44:08.851739Z",
     "iopub.status.idle": "2024-09-18T21:44:08.854915Z",
     "shell.execute_reply": "2024-09-18T21:44:08.854644Z",
     "shell.execute_reply.started": "2024-09-18T21:44:08.851905Z"
    }
   },
   "outputs": [
    {
     "data": {
      "text/plain": [
       "array([-0.39401388,  0.36051539,  0.60247446,  0.01628614, -0.00294667,\n",
       "        0.20695479,  0.15891274,  0.00473219, -0.00297377, -0.03348815,\n",
       "        0.01690553,  0.10845509,  0.00102616, -0.00204221, -0.02738544,\n",
       "       -0.0324347 , -0.01002763,  0.02291608, -0.00589446, -0.00884343,\n",
       "       -0.00322051, -0.0122419 ,  0.00535912,  0.00531382, -0.00154533])"
      ]
     },
     "execution_count": 16,
     "metadata": {},
     "output_type": "execute_result"
    }
   ],
   "source": [
    "zernCoeffAvgR04"
   ]
  },
  {
   "cell_type": "code",
   "execution_count": null,
   "id": "e92d3508-ae8e-4632-87f7-1fe3731566d3",
   "metadata": {},
   "outputs": [],
   "source": [
    "what's going on now with \n",
    "\n",
    "\n",
    "    FAILED tests/task/test_calcZernikesTieTaskCwfs.py::TestCalcZernikesTieTaskCwfs::testEstimateCornerZernikes - ValueError: operands could not be broadcast together with shapes (25,) (19,)\n",
    "    FAILED tests/task/test_calcZernikesTieTaskCwfs.py::TestCalcZernikesTieTaskCwfs::testWithAndWithoutPairs - AssertionError: 0.25475787071577494 not less than 0.16\n",
    "\n",
    "\n",
    "? \n",
    "\n",
    "Fix these after dinner.\n",
    "\n",
    "\n"
   ]
  },
  {
   "cell_type": "markdown",
   "id": "e168310d-622e-4abc-81ef-9a05e258ce20",
   "metadata": {},
   "source": [
    "## Fix TestCalcZernikesTieTaskCwfs "
   ]
  },
  {
   "cell_type": "code",
   "execution_count": 17,
   "id": "0d994dea-23b6-4f7d-a215-2075303255bc",
   "metadata": {
    "execution": {
     "iopub.execute_input": "2024-09-18T22:21:22.407308Z",
     "iopub.status.busy": "2024-09-18T22:21:22.406902Z",
     "iopub.status.idle": "2024-09-18T22:21:22.410071Z",
     "shell.execute_reply": "2024-09-18T22:21:22.409690Z",
     "shell.execute_reply.started": "2024-09-18T22:21:22.407292Z"
    }
   },
   "outputs": [],
   "source": [
    "import os\n",
    "\n",
    "import lsst.utils.tests\n",
    "import numpy as np\n",
    "from lsst.daf import butler as dafButler\n",
    "from lsst.ts.wep.task import (\n",
    "    CalcZernikesTask,\n",
    "    CalcZernikesTaskConfig,\n",
    "    CombineZernikesMeanTask,\n",
    "    CombineZernikesSigmaClipTask,\n",
    ")\n",
    "from lsst.ts.wep.task.donutStamps import DonutStamps\n",
    "from lsst.ts.wep.utils import (\n",
    "    getModulePath,\n",
    "    runProgram,\n",
    "    writeCleanUpRepoCmd,\n",
    "    writePipetaskCmd,\n",
    ")"
   ]
  },
  {
   "cell_type": "code",
   "execution_count": 19,
   "id": "d623cfbf-0767-4d0c-a00b-a693ee5043a6",
   "metadata": {
    "execution": {
     "iopub.execute_input": "2024-09-18T22:22:05.232029Z",
     "iopub.status.busy": "2024-09-18T22:22:05.231606Z",
     "iopub.status.idle": "2024-09-18T22:22:51.068240Z",
     "shell.execute_reply": "2024-09-18T22:22:51.067855Z",
     "shell.execute_reply.started": "2024-09-18T22:22:05.232015Z"
    },
    "scrolled": true
   },
   "outputs": [
    {
     "name": "stderr",
     "output_type": "stream",
     "text": [
      "lsst.pipe.base.quantum_graph_builder INFO: Processing pipeline subgraph 1 of 1 with 3 task(s).\n",
      "lsst.pipe.base.quantum_graph_builder INFO: Iterating over query results to associate quanta with datasets.\n",
      "lsst.pipe.base.quantum_graph_builder INFO: Initial bipartite graph has 17 quanta, 80 dataset nodes, and 98 edges from 8 query row(s).\n",
      "lsst.pipe.base.quantum_graph_builder INFO: Generated 8 quanta for task isr.\n",
      "lsst.pipe.base.quantum_graph_builder INFO: Generated 8 quanta for task generateDonutCatalogWcsTask.\n",
      "lsst.pipe.base.quantum_graph_builder INFO: Generated 1 quantum for task cutOutDonutsCwfsTask.\n",
      "lsst.ctrl.mpexec.cmdLineFwk INFO: QuantumGraph contains 17 quanta for 3 tasks, graph ID: '1726698139.7805176-33105'\n",
      "Quanta            Tasks           \n",
      "------ ---------------------------\n",
      "     8                         isr\n",
      "     8 generateDonutCatalogWcsTask\n",
      "     1        cutOutDonutsCwfsTask\n",
      "lsst.ctrl.mpexec.singleQuantumExecutor INFO: Preparing execution of quantum for label=isr dataId={instrument: 'LSSTCam', detector: 191, exposure: 4021123106000, band: 'g', day_obs: 20211231, group: '4021123106000', physical_filter: 'g'}.\n",
      "lsst.ctrl.mpexec.singleQuantumExecutor INFO: Constructing task and executing quantum for label=isr dataId={instrument: 'LSSTCam', detector: 191, exposure: 4021123106000, band: 'g', day_obs: 20211231, group: '4021123106000', physical_filter: 'g'}.\n",
      "lsst.obs.lsst.assembly WARNING: /sdf/data/rubin/user/scichris/WORK/aos_packages/ts_wep/tests/testData/gen3TestRepo/LSSTCam/raw/all/raw/20211231/MC_H_20211231_006000/raw_LSSTCam_g_MC_H_20211231_006000_R00_SW0_LSSTCam_raw_all.fits: outAmp.getRawBBox() != data.getBBox(); patching. ((minimum=(0, 0), maximum=(575, 2047)) v. (minimum=(0, 0), maximum=(543, 2047)))\n",
      "lsst.isr INFO: Converting exposure to floating point values.\n",
      "lsst.isr INFO: Det: R00_SW0 - Noise provenance: amp, Gain provenance: amp\n",
      "lsst.isr INFO: Assembling CCD from amplifiers.\n",
      "lsst.isr INFO: Widening saturation trails.\n",
      "lsst.isr INFO: Applying gain correction instead of flat.\n",
      "lsst.isr WARNING: No rough magnitude zero point defined for filter g_6.\n",
      "lsst.isr INFO: Setting rough magnitude zero point for filter g_6: 30.940228\n",
      "lsst.ctrl.mpexec.singleQuantumExecutor INFO: Execution of task 'isr' on quantum {instrument: 'LSSTCam', detector: 191, exposure: 4021123106000, band: 'g', day_obs: 20211231, group: '4021123106000', physical_filter: 'g'} took 3.178 seconds\n",
      "lsst.ctrl.mpexec.mpGraphExecutor INFO: Executed 1 quanta successfully, 0 failed and 16 remain out of total 17 quanta.\n",
      "lsst.ctrl.mpexec.singleQuantumExecutor INFO: Preparing execution of quantum for label=isr dataId={instrument: 'LSSTCam', detector: 199, exposure: 4021123106000, band: 'g', day_obs: 20211231, group: '4021123106000', physical_filter: 'g'}.\n",
      "lsst.ctrl.mpexec.singleQuantumExecutor INFO: Constructing task and executing quantum for label=isr dataId={instrument: 'LSSTCam', detector: 199, exposure: 4021123106000, band: 'g', day_obs: 20211231, group: '4021123106000', physical_filter: 'g'}.\n",
      "lsst.obs.lsst.assembly WARNING: /sdf/data/rubin/user/scichris/WORK/aos_packages/ts_wep/tests/testData/gen3TestRepo/LSSTCam/raw/all/raw/20211231/MC_H_20211231_006000/raw_LSSTCam_g_MC_H_20211231_006000_R40_SW0_LSSTCam_raw_all.fits: outAmp.getRawBBox() != data.getBBox(); patching. ((minimum=(0, 0), maximum=(575, 2047)) v. (minimum=(0, 0), maximum=(543, 2047)))\n",
      "lsst.isr INFO: Converting exposure to floating point values.\n",
      "lsst.isr INFO: Det: R40_SW0 - Noise provenance: amp, Gain provenance: amp\n",
      "lsst.isr INFO: Assembling CCD from amplifiers.\n",
      "lsst.isr INFO: Widening saturation trails.\n",
      "lsst.isr INFO: Applying gain correction instead of flat.\n",
      "lsst.isr WARNING: No rough magnitude zero point defined for filter g_6.\n",
      "lsst.isr INFO: Setting rough magnitude zero point for filter g_6: 30.940228\n",
      "lsst.ctrl.mpexec.singleQuantumExecutor INFO: Execution of task 'isr' on quantum {instrument: 'LSSTCam', detector: 199, exposure: 4021123106000, band: 'g', day_obs: 20211231, group: '4021123106000', physical_filter: 'g'} took 1.570 seconds\n",
      "lsst.ctrl.mpexec.mpGraphExecutor INFO: Executed 2 quanta successfully, 0 failed and 15 remain out of total 17 quanta.\n",
      "lsst.ctrl.mpexec.singleQuantumExecutor INFO: Preparing execution of quantum for label=isr dataId={instrument: 'LSSTCam', detector: 204, exposure: 4021123106000, band: 'g', day_obs: 20211231, group: '4021123106000', physical_filter: 'g'}.\n",
      "lsst.ctrl.mpexec.singleQuantumExecutor INFO: Constructing task and executing quantum for label=isr dataId={instrument: 'LSSTCam', detector: 204, exposure: 4021123106000, band: 'g', day_obs: 20211231, group: '4021123106000', physical_filter: 'g'}.\n",
      "lsst.obs.lsst.assembly WARNING: /sdf/data/rubin/user/scichris/WORK/aos_packages/ts_wep/tests/testData/gen3TestRepo/LSSTCam/raw/all/raw/20211231/MC_H_20211231_006000/raw_LSSTCam_g_MC_H_20211231_006000_R44_SW1_LSSTCam_raw_all.fits: outAmp.getRawBBox() != data.getBBox(); patching. ((minimum=(0, 0), maximum=(575, 2047)) v. (minimum=(0, 0), maximum=(543, 2047)))\n",
      "lsst.isr INFO: Converting exposure to floating point values.\n",
      "lsst.isr INFO: Det: R44_SW1 - Noise provenance: amp, Gain provenance: amp\n",
      "lsst.isr INFO: Assembling CCD from amplifiers.\n",
      "lsst.isr INFO: Widening saturation trails.\n",
      "lsst.isr INFO: Applying gain correction instead of flat.\n",
      "lsst.isr WARNING: No rough magnitude zero point defined for filter g_6.\n",
      "lsst.isr INFO: Setting rough magnitude zero point for filter g_6: 30.940228\n",
      "lsst.ctrl.mpexec.singleQuantumExecutor INFO: Execution of task 'isr' on quantum {instrument: 'LSSTCam', detector: 204, exposure: 4021123106000, band: 'g', day_obs: 20211231, group: '4021123106000', physical_filter: 'g'} took 1.554 seconds\n",
      "lsst.ctrl.mpexec.mpGraphExecutor INFO: Executed 3 quanta successfully, 0 failed and 14 remain out of total 17 quanta.\n",
      "lsst.ctrl.mpexec.singleQuantumExecutor INFO: Preparing execution of quantum for label=isr dataId={instrument: 'LSSTCam', detector: 200, exposure: 4021123106000, band: 'g', day_obs: 20211231, group: '4021123106000', physical_filter: 'g'}.\n",
      "lsst.ctrl.mpexec.singleQuantumExecutor INFO: Constructing task and executing quantum for label=isr dataId={instrument: 'LSSTCam', detector: 200, exposure: 4021123106000, band: 'g', day_obs: 20211231, group: '4021123106000', physical_filter: 'g'}.\n",
      "lsst.obs.lsst.assembly WARNING: /sdf/data/rubin/user/scichris/WORK/aos_packages/ts_wep/tests/testData/gen3TestRepo/LSSTCam/raw/all/raw/20211231/MC_H_20211231_006000/raw_LSSTCam_g_MC_H_20211231_006000_R40_SW1_LSSTCam_raw_all.fits: outAmp.getRawBBox() != data.getBBox(); patching. ((minimum=(0, 0), maximum=(575, 2047)) v. (minimum=(0, 0), maximum=(543, 2047)))\n",
      "lsst.isr INFO: Converting exposure to floating point values.\n",
      "lsst.isr INFO: Det: R40_SW1 - Noise provenance: amp, Gain provenance: amp\n",
      "lsst.isr INFO: Assembling CCD from amplifiers.\n",
      "lsst.isr INFO: Widening saturation trails.\n",
      "lsst.isr INFO: Applying gain correction instead of flat.\n",
      "lsst.isr WARNING: No rough magnitude zero point defined for filter g_6.\n",
      "lsst.isr INFO: Setting rough magnitude zero point for filter g_6: 30.940228\n",
      "lsst.ctrl.mpexec.singleQuantumExecutor INFO: Execution of task 'isr' on quantum {instrument: 'LSSTCam', detector: 200, exposure: 4021123106000, band: 'g', day_obs: 20211231, group: '4021123106000', physical_filter: 'g'} took 1.531 seconds\n",
      "lsst.ctrl.mpexec.mpGraphExecutor INFO: Executed 4 quanta successfully, 0 failed and 13 remain out of total 17 quanta.\n",
      "lsst.ctrl.mpexec.singleQuantumExecutor INFO: Preparing execution of quantum for label=isr dataId={instrument: 'LSSTCam', detector: 195, exposure: 4021123106000, band: 'g', day_obs: 20211231, group: '4021123106000', physical_filter: 'g'}.\n",
      "lsst.ctrl.mpexec.singleQuantumExecutor INFO: Constructing task and executing quantum for label=isr dataId={instrument: 'LSSTCam', detector: 195, exposure: 4021123106000, band: 'g', day_obs: 20211231, group: '4021123106000', physical_filter: 'g'}.\n",
      "lsst.obs.lsst.assembly WARNING: /sdf/data/rubin/user/scichris/WORK/aos_packages/ts_wep/tests/testData/gen3TestRepo/LSSTCam/raw/all/raw/20211231/MC_H_20211231_006000/raw_LSSTCam_g_MC_H_20211231_006000_R04_SW0_LSSTCam_raw_all.fits: outAmp.getRawBBox() != data.getBBox(); patching. ((minimum=(0, 0), maximum=(575, 2047)) v. (minimum=(0, 0), maximum=(543, 2047)))\n",
      "lsst.isr INFO: Converting exposure to floating point values.\n",
      "lsst.isr INFO: Det: R04_SW0 - Noise provenance: amp, Gain provenance: amp\n",
      "lsst.isr INFO: Assembling CCD from amplifiers.\n",
      "lsst.isr INFO: Widening saturation trails.\n",
      "lsst.isr INFO: Applying gain correction instead of flat.\n",
      "lsst.isr WARNING: No rough magnitude zero point defined for filter g_6.\n",
      "lsst.isr INFO: Setting rough magnitude zero point for filter g_6: 30.940228\n",
      "lsst.ctrl.mpexec.singleQuantumExecutor INFO: Execution of task 'isr' on quantum {instrument: 'LSSTCam', detector: 195, exposure: 4021123106000, band: 'g', day_obs: 20211231, group: '4021123106000', physical_filter: 'g'} took 1.533 seconds\n",
      "lsst.ctrl.mpexec.mpGraphExecutor INFO: Executed 5 quanta successfully, 0 failed and 12 remain out of total 17 quanta.\n",
      "lsst.ctrl.mpexec.singleQuantumExecutor INFO: Preparing execution of quantum for label=isr dataId={instrument: 'LSSTCam', detector: 196, exposure: 4021123106000, band: 'g', day_obs: 20211231, group: '4021123106000', physical_filter: 'g'}.\n",
      "lsst.ctrl.mpexec.singleQuantumExecutor INFO: Constructing task and executing quantum for label=isr dataId={instrument: 'LSSTCam', detector: 196, exposure: 4021123106000, band: 'g', day_obs: 20211231, group: '4021123106000', physical_filter: 'g'}.\n",
      "lsst.obs.lsst.assembly WARNING: /sdf/data/rubin/user/scichris/WORK/aos_packages/ts_wep/tests/testData/gen3TestRepo/LSSTCam/raw/all/raw/20211231/MC_H_20211231_006000/raw_LSSTCam_g_MC_H_20211231_006000_R04_SW1_LSSTCam_raw_all.fits: outAmp.getRawBBox() != data.getBBox(); patching. ((minimum=(0, 0), maximum=(575, 2047)) v. (minimum=(0, 0), maximum=(543, 2047)))\n",
      "lsst.isr INFO: Converting exposure to floating point values.\n",
      "lsst.isr INFO: Det: R04_SW1 - Noise provenance: amp, Gain provenance: amp\n",
      "lsst.isr INFO: Assembling CCD from amplifiers.\n",
      "lsst.isr INFO: Widening saturation trails.\n",
      "lsst.isr INFO: Applying gain correction instead of flat.\n",
      "lsst.isr WARNING: No rough magnitude zero point defined for filter g_6.\n",
      "lsst.isr INFO: Setting rough magnitude zero point for filter g_6: 30.940228\n",
      "lsst.ctrl.mpexec.singleQuantumExecutor INFO: Execution of task 'isr' on quantum {instrument: 'LSSTCam', detector: 196, exposure: 4021123106000, band: 'g', day_obs: 20211231, group: '4021123106000', physical_filter: 'g'} took 1.544 seconds\n",
      "lsst.ctrl.mpexec.mpGraphExecutor INFO: Executed 6 quanta successfully, 0 failed and 11 remain out of total 17 quanta.\n",
      "lsst.ctrl.mpexec.singleQuantumExecutor INFO: Preparing execution of quantum for label=isr dataId={instrument: 'LSSTCam', detector: 192, exposure: 4021123106000, band: 'g', day_obs: 20211231, group: '4021123106000', physical_filter: 'g'}.\n",
      "lsst.ctrl.mpexec.singleQuantumExecutor INFO: Constructing task and executing quantum for label=isr dataId={instrument: 'LSSTCam', detector: 192, exposure: 4021123106000, band: 'g', day_obs: 20211231, group: '4021123106000', physical_filter: 'g'}.\n",
      "lsst.obs.lsst.assembly WARNING: /sdf/data/rubin/user/scichris/WORK/aos_packages/ts_wep/tests/testData/gen3TestRepo/LSSTCam/raw/all/raw/20211231/MC_H_20211231_006000/raw_LSSTCam_g_MC_H_20211231_006000_R00_SW1_LSSTCam_raw_all.fits: outAmp.getRawBBox() != data.getBBox(); patching. ((minimum=(0, 0), maximum=(575, 2047)) v. (minimum=(0, 0), maximum=(543, 2047)))\n",
      "lsst.isr INFO: Converting exposure to floating point values.\n",
      "lsst.isr INFO: Det: R00_SW1 - Noise provenance: amp, Gain provenance: amp\n",
      "lsst.isr INFO: Assembling CCD from amplifiers.\n",
      "lsst.isr INFO: Widening saturation trails.\n",
      "lsst.isr INFO: Applying gain correction instead of flat.\n",
      "lsst.isr WARNING: No rough magnitude zero point defined for filter g_6.\n",
      "lsst.isr INFO: Setting rough magnitude zero point for filter g_6: 30.940228\n",
      "lsst.ctrl.mpexec.singleQuantumExecutor INFO: Execution of task 'isr' on quantum {instrument: 'LSSTCam', detector: 192, exposure: 4021123106000, band: 'g', day_obs: 20211231, group: '4021123106000', physical_filter: 'g'} took 1.491 seconds\n",
      "lsst.ctrl.mpexec.mpGraphExecutor INFO: Executed 7 quanta successfully, 0 failed and 10 remain out of total 17 quanta.\n",
      "lsst.ctrl.mpexec.singleQuantumExecutor INFO: Preparing execution of quantum for label=isr dataId={instrument: 'LSSTCam', detector: 203, exposure: 4021123106000, band: 'g', day_obs: 20211231, group: '4021123106000', physical_filter: 'g'}.\n",
      "lsst.ctrl.mpexec.singleQuantumExecutor INFO: Constructing task and executing quantum for label=isr dataId={instrument: 'LSSTCam', detector: 203, exposure: 4021123106000, band: 'g', day_obs: 20211231, group: '4021123106000', physical_filter: 'g'}.\n",
      "lsst.obs.lsst.assembly WARNING: /sdf/data/rubin/user/scichris/WORK/aos_packages/ts_wep/tests/testData/gen3TestRepo/LSSTCam/raw/all/raw/20211231/MC_H_20211231_006000/raw_LSSTCam_g_MC_H_20211231_006000_R44_SW0_LSSTCam_raw_all.fits: outAmp.getRawBBox() != data.getBBox(); patching. ((minimum=(0, 0), maximum=(575, 2047)) v. (minimum=(0, 0), maximum=(543, 2047)))\n",
      "lsst.isr INFO: Converting exposure to floating point values.\n",
      "lsst.isr INFO: Det: R44_SW0 - Noise provenance: amp, Gain provenance: amp\n",
      "lsst.isr INFO: Assembling CCD from amplifiers.\n",
      "lsst.isr INFO: Widening saturation trails.\n",
      "lsst.isr INFO: Applying gain correction instead of flat.\n",
      "lsst.isr WARNING: No rough magnitude zero point defined for filter g_6.\n",
      "lsst.isr INFO: Setting rough magnitude zero point for filter g_6: 30.940228\n",
      "lsst.ctrl.mpexec.singleQuantumExecutor INFO: Execution of task 'isr' on quantum {instrument: 'LSSTCam', detector: 203, exposure: 4021123106000, band: 'g', day_obs: 20211231, group: '4021123106000', physical_filter: 'g'} took 1.532 seconds\n",
      "lsst.ctrl.mpexec.mpGraphExecutor INFO: Executed 8 quanta successfully, 0 failed and 9 remain out of total 17 quanta.\n",
      "lsst.ctrl.mpexec.singleQuantumExecutor INFO: Preparing execution of quantum for label=generateDonutCatalogWcsTask dataId={instrument: 'LSSTCam', detector: 191, visit: 4021123106000, band: 'g', day_obs: 20211231, physical_filter: 'g'}.\n",
      "lsst.ctrl.mpexec.singleQuantumExecutor INFO: Constructing task and executing quantum for label=generateDonutCatalogWcsTask dataId={instrument: 'LSSTCam', detector: 191, visit: 4021123106000, band: 'g', day_obs: 20211231, physical_filter: 'g'}.\n",
      "py.warnings WARNING: /sdf/group/rubin/sw/conda/envs/lsst-scipipe-9.0.0/share/eups/Linux64/pipe_base/g3efb6ca773+3df63bf37b/python/lsst/pipe/base/pipelineTask.py:194: UserWarning: Reading file:///sdf/data/rubin/user/scichris/WORK/aos_packages/ts_wep/tests/testData/gen3TestRepo/run1/postISRCCD/20211231/MC_H_20211231_006000/postISRCCD_LSSTCam_g_MC_H_20211231_006000_R00_SW0_run1.fits with data ID {instrument: 'LSSTCam', detector: 191, exposure: 4021123106000, band: 'g', day_obs: 20211231, group: '4021123106000', physical_filter: 'g'}: filter label mismatch (file is FilterLabel(band=\"g\", physical=\"g_6\"), data ID is FilterLabel(band=\"g\", physical=\"g\")).  This is probably a bug in the code that produced it.\n",
      "  inputs = butlerQC.get(inputRefs)\n",
      "\n",
      "lsst.generateDonutCatalogWcsTask INFO: Running Donut Selector\n",
      "lsst.meas.algorithms.loadReferenceObjects.ReferenceObjectLoader INFO: Loading reference objects from None in region bounded by [358.81390259, 358.93611377], [-1.30779781, -1.07076509] RA Dec\n",
      "lsst.meas.algorithms.loadReferenceObjects.ReferenceObjectLoader INFO: Loaded 2 reference objects\n",
      "lsst.generateDonutCatalogWcsTask.donutSelector INFO: Selected 2/2 references\n",
      "lsst.ctrl.mpexec.singleQuantumExecutor INFO: Execution of task 'generateDonutCatalogWcsTask' on quantum {instrument: 'LSSTCam', detector: 191, visit: 4021123106000, band: 'g', day_obs: 20211231, physical_filter: 'g'} took 0.548 seconds\n",
      "lsst.ctrl.mpexec.mpGraphExecutor INFO: Executed 9 quanta successfully, 0 failed and 8 remain out of total 17 quanta.\n",
      "lsst.ctrl.mpexec.singleQuantumExecutor INFO: Preparing execution of quantum for label=generateDonutCatalogWcsTask dataId={instrument: 'LSSTCam', detector: 199, visit: 4021123106000, band: 'g', day_obs: 20211231, physical_filter: 'g'}.\n",
      "lsst.ctrl.mpexec.singleQuantumExecutor INFO: Constructing task and executing quantum for label=generateDonutCatalogWcsTask dataId={instrument: 'LSSTCam', detector: 199, visit: 4021123106000, band: 'g', day_obs: 20211231, physical_filter: 'g'}.\n",
      "py.warnings WARNING: /sdf/group/rubin/sw/conda/envs/lsst-scipipe-9.0.0/share/eups/Linux64/pipe_base/g3efb6ca773+3df63bf37b/python/lsst/pipe/base/pipelineTask.py:194: UserWarning: Reading file:///sdf/data/rubin/user/scichris/WORK/aos_packages/ts_wep/tests/testData/gen3TestRepo/run1/postISRCCD/20211231/MC_H_20211231_006000/postISRCCD_LSSTCam_g_MC_H_20211231_006000_R40_SW0_run1.fits with data ID {instrument: 'LSSTCam', detector: 199, exposure: 4021123106000, band: 'g', day_obs: 20211231, group: '4021123106000', physical_filter: 'g'}: filter label mismatch (file is FilterLabel(band=\"g\", physical=\"g_6\"), data ID is FilterLabel(band=\"g\", physical=\"g\")).  This is probably a bug in the code that produced it.\n",
      "  inputs = butlerQC.get(inputRefs)\n",
      "\n",
      "lsst.generateDonutCatalogWcsTask INFO: Running Donut Selector\n",
      "lsst.meas.algorithms.loadReferenceObjects.ReferenceObjectLoader INFO: Loading reference objects from None in region bounded by [1.07099451, 1.30802321], [-1.18589026, -1.06360907] RA Dec\n",
      "lsst.meas.algorithms.loadReferenceObjects.ReferenceObjectLoader INFO: Loaded 2 reference objects\n",
      "lsst.generateDonutCatalogWcsTask.donutSelector INFO: Selected 2/2 references\n",
      "lsst.ctrl.mpexec.singleQuantumExecutor INFO: Execution of task 'generateDonutCatalogWcsTask' on quantum {instrument: 'LSSTCam', detector: 199, visit: 4021123106000, band: 'g', day_obs: 20211231, physical_filter: 'g'} took 0.354 seconds\n",
      "lsst.ctrl.mpexec.mpGraphExecutor INFO: Executed 10 quanta successfully, 0 failed and 7 remain out of total 17 quanta.\n",
      "lsst.ctrl.mpexec.singleQuantumExecutor INFO: Preparing execution of quantum for label=generateDonutCatalogWcsTask dataId={instrument: 'LSSTCam', detector: 204, visit: 4021123106000, band: 'g', day_obs: 20211231, physical_filter: 'g'}.\n",
      "lsst.ctrl.mpexec.singleQuantumExecutor INFO: Constructing task and executing quantum for label=generateDonutCatalogWcsTask dataId={instrument: 'LSSTCam', detector: 204, visit: 4021123106000, band: 'g', day_obs: 20211231, physical_filter: 'g'}.\n",
      "py.warnings WARNING: /sdf/group/rubin/sw/conda/envs/lsst-scipipe-9.0.0/share/eups/Linux64/pipe_base/g3efb6ca773+3df63bf37b/python/lsst/pipe/base/pipelineTask.py:194: UserWarning: Reading file:///sdf/data/rubin/user/scichris/WORK/aos_packages/ts_wep/tests/testData/gen3TestRepo/run1/postISRCCD/20211231/MC_H_20211231_006000/postISRCCD_LSSTCam_g_MC_H_20211231_006000_R44_SW1_run1.fits with data ID {instrument: 'LSSTCam', detector: 204, exposure: 4021123106000, band: 'g', day_obs: 20211231, group: '4021123106000', physical_filter: 'g'}: filter label mismatch (file is FilterLabel(band=\"g\", physical=\"g_6\"), data ID is FilterLabel(band=\"g\", physical=\"g\")).  This is probably a bug in the code that produced it.\n",
      "  inputs = butlerQC.get(inputRefs)\n",
      "\n",
      "lsst.generateDonutCatalogWcsTask INFO: Running Donut Selector\n",
      "lsst.meas.algorithms.loadReferenceObjects.ReferenceObjectLoader INFO: Loading reference objects from None in region bounded by [1.19295345, 1.31514242], [1.07072695, 1.30774409] RA Dec\n",
      "lsst.meas.algorithms.loadReferenceObjects.ReferenceObjectLoader INFO: Loaded 2 reference objects\n",
      "lsst.generateDonutCatalogWcsTask.donutSelector INFO: Selected 2/2 references\n",
      "lsst.ctrl.mpexec.singleQuantumExecutor INFO: Execution of task 'generateDonutCatalogWcsTask' on quantum {instrument: 'LSSTCam', detector: 204, visit: 4021123106000, band: 'g', day_obs: 20211231, physical_filter: 'g'} took 0.395 seconds\n",
      "lsst.ctrl.mpexec.mpGraphExecutor INFO: Executed 11 quanta successfully, 0 failed and 6 remain out of total 17 quanta.\n",
      "lsst.ctrl.mpexec.singleQuantumExecutor INFO: Preparing execution of quantum for label=generateDonutCatalogWcsTask dataId={instrument: 'LSSTCam', detector: 200, visit: 4021123106000, band: 'g', day_obs: 20211231, physical_filter: 'g'}.\n",
      "lsst.ctrl.mpexec.singleQuantumExecutor INFO: Constructing task and executing quantum for label=generateDonutCatalogWcsTask dataId={instrument: 'LSSTCam', detector: 200, visit: 4021123106000, band: 'g', day_obs: 20211231, physical_filter: 'g'}.\n",
      "py.warnings WARNING: /sdf/group/rubin/sw/conda/envs/lsst-scipipe-9.0.0/share/eups/Linux64/pipe_base/g3efb6ca773+3df63bf37b/python/lsst/pipe/base/pipelineTask.py:194: UserWarning: Reading file:///sdf/data/rubin/user/scichris/WORK/aos_packages/ts_wep/tests/testData/gen3TestRepo/run1/postISRCCD/20211231/MC_H_20211231_006000/postISRCCD_LSSTCam_g_MC_H_20211231_006000_R40_SW1_run1.fits with data ID {instrument: 'LSSTCam', detector: 200, exposure: 4021123106000, band: 'g', day_obs: 20211231, group: '4021123106000', physical_filter: 'g'}: filter label mismatch (file is FilterLabel(band=\"g\", physical=\"g_6\"), data ID is FilterLabel(band=\"g\", physical=\"g\")).  This is probably a bug in the code that produced it.\n",
      "  inputs = butlerQC.get(inputRefs)\n",
      "\n",
      "lsst.generateDonutCatalogWcsTask INFO: Running Donut Selector\n",
      "lsst.meas.algorithms.loadReferenceObjects.ReferenceObjectLoader INFO: Loading reference objects from None in region bounded by [1.07100901, 1.30802750], [-1.31491274, -1.19264268] RA Dec\n",
      "lsst.meas.algorithms.loadReferenceObjects.ReferenceObjectLoader INFO: Loaded 2 reference objects\n",
      "lsst.generateDonutCatalogWcsTask.donutSelector INFO: Selected 2/2 references\n",
      "lsst.ctrl.mpexec.singleQuantumExecutor INFO: Execution of task 'generateDonutCatalogWcsTask' on quantum {instrument: 'LSSTCam', detector: 200, visit: 4021123106000, band: 'g', day_obs: 20211231, physical_filter: 'g'} took 0.366 seconds\n",
      "lsst.ctrl.mpexec.mpGraphExecutor INFO: Executed 12 quanta successfully, 0 failed and 5 remain out of total 17 quanta.\n",
      "lsst.ctrl.mpexec.singleQuantumExecutor INFO: Preparing execution of quantum for label=generateDonutCatalogWcsTask dataId={instrument: 'LSSTCam', detector: 195, visit: 4021123106000, band: 'g', day_obs: 20211231, physical_filter: 'g'}.\n",
      "lsst.ctrl.mpexec.singleQuantumExecutor INFO: Constructing task and executing quantum for label=generateDonutCatalogWcsTask dataId={instrument: 'LSSTCam', detector: 195, visit: 4021123106000, band: 'g', day_obs: 20211231, physical_filter: 'g'}.\n",
      "py.warnings WARNING: /sdf/group/rubin/sw/conda/envs/lsst-scipipe-9.0.0/share/eups/Linux64/pipe_base/g3efb6ca773+3df63bf37b/python/lsst/pipe/base/pipelineTask.py:194: UserWarning: Reading file:///sdf/data/rubin/user/scichris/WORK/aos_packages/ts_wep/tests/testData/gen3TestRepo/run1/postISRCCD/20211231/MC_H_20211231_006000/postISRCCD_LSSTCam_g_MC_H_20211231_006000_R04_SW0_run1.fits with data ID {instrument: 'LSSTCam', detector: 195, exposure: 4021123106000, band: 'g', day_obs: 20211231, group: '4021123106000', physical_filter: 'g'}: filter label mismatch (file is FilterLabel(band=\"g\", physical=\"g_6\"), data ID is FilterLabel(band=\"g\", physical=\"g\")).  This is probably a bug in the code that produced it.\n",
      "  inputs = butlerQC.get(inputRefs)\n",
      "\n",
      "lsst.generateDonutCatalogWcsTask INFO: Running Donut Selector\n",
      "lsst.meas.algorithms.loadReferenceObjects.ReferenceObjectLoader INFO: Loading reference objects from None in region bounded by [358.69197679, 358.92900549], [1.06360907, 1.18589026] RA Dec\n",
      "lsst.meas.algorithms.loadReferenceObjects.ReferenceObjectLoader INFO: Loaded 2 reference objects\n",
      "lsst.generateDonutCatalogWcsTask.donutSelector INFO: Selected 2/2 references\n",
      "lsst.ctrl.mpexec.singleQuantumExecutor INFO: Execution of task 'generateDonutCatalogWcsTask' on quantum {instrument: 'LSSTCam', detector: 195, visit: 4021123106000, band: 'g', day_obs: 20211231, physical_filter: 'g'} took 0.354 seconds\n",
      "lsst.ctrl.mpexec.mpGraphExecutor INFO: Executed 13 quanta successfully, 0 failed and 4 remain out of total 17 quanta.\n",
      "lsst.ctrl.mpexec.singleQuantumExecutor INFO: Preparing execution of quantum for label=generateDonutCatalogWcsTask dataId={instrument: 'LSSTCam', detector: 196, visit: 4021123106000, band: 'g', day_obs: 20211231, physical_filter: 'g'}.\n",
      "lsst.ctrl.mpexec.singleQuantumExecutor INFO: Constructing task and executing quantum for label=generateDonutCatalogWcsTask dataId={instrument: 'LSSTCam', detector: 196, visit: 4021123106000, band: 'g', day_obs: 20211231, physical_filter: 'g'}.\n",
      "py.warnings WARNING: /sdf/group/rubin/sw/conda/envs/lsst-scipipe-9.0.0/share/eups/Linux64/pipe_base/g3efb6ca773+3df63bf37b/python/lsst/pipe/base/pipelineTask.py:194: UserWarning: Reading file:///sdf/data/rubin/user/scichris/WORK/aos_packages/ts_wep/tests/testData/gen3TestRepo/run1/postISRCCD/20211231/MC_H_20211231_006000/postISRCCD_LSSTCam_g_MC_H_20211231_006000_R04_SW1_run1.fits with data ID {instrument: 'LSSTCam', detector: 196, exposure: 4021123106000, band: 'g', day_obs: 20211231, group: '4021123106000', physical_filter: 'g'}: filter label mismatch (file is FilterLabel(band=\"g\", physical=\"g_6\"), data ID is FilterLabel(band=\"g\", physical=\"g\")).  This is probably a bug in the code that produced it.\n",
      "  inputs = butlerQC.get(inputRefs)\n",
      "\n",
      "lsst.generateDonutCatalogWcsTask INFO: Running Donut Selector\n",
      "lsst.meas.algorithms.loadReferenceObjects.ReferenceObjectLoader INFO: Loading reference objects from None in region bounded by [358.69197250, 358.92899099], [1.19264268, 1.31491274] RA Dec\n",
      "lsst.meas.algorithms.loadReferenceObjects.ReferenceObjectLoader INFO: Loaded 2 reference objects\n",
      "lsst.generateDonutCatalogWcsTask.donutSelector INFO: Selected 2/2 references\n",
      "lsst.ctrl.mpexec.singleQuantumExecutor INFO: Execution of task 'generateDonutCatalogWcsTask' on quantum {instrument: 'LSSTCam', detector: 196, visit: 4021123106000, band: 'g', day_obs: 20211231, physical_filter: 'g'} took 0.373 seconds\n",
      "lsst.ctrl.mpexec.mpGraphExecutor INFO: Executed 14 quanta successfully, 0 failed and 3 remain out of total 17 quanta.\n",
      "lsst.ctrl.mpexec.singleQuantumExecutor INFO: Preparing execution of quantum for label=generateDonutCatalogWcsTask dataId={instrument: 'LSSTCam', detector: 192, visit: 4021123106000, band: 'g', day_obs: 20211231, physical_filter: 'g'}.\n",
      "lsst.ctrl.mpexec.singleQuantumExecutor INFO: Constructing task and executing quantum for label=generateDonutCatalogWcsTask dataId={instrument: 'LSSTCam', detector: 192, visit: 4021123106000, band: 'g', day_obs: 20211231, physical_filter: 'g'}.\n",
      "py.warnings WARNING: /sdf/group/rubin/sw/conda/envs/lsst-scipipe-9.0.0/share/eups/Linux64/pipe_base/g3efb6ca773+3df63bf37b/python/lsst/pipe/base/pipelineTask.py:194: UserWarning: Reading file:///sdf/data/rubin/user/scichris/WORK/aos_packages/ts_wep/tests/testData/gen3TestRepo/run1/postISRCCD/20211231/MC_H_20211231_006000/postISRCCD_LSSTCam_g_MC_H_20211231_006000_R00_SW1_run1.fits with data ID {instrument: 'LSSTCam', detector: 192, exposure: 4021123106000, band: 'g', day_obs: 20211231, group: '4021123106000', physical_filter: 'g'}: filter label mismatch (file is FilterLabel(band=\"g\", physical=\"g_6\"), data ID is FilterLabel(band=\"g\", physical=\"g\")).  This is probably a bug in the code that produced it.\n",
      "  inputs = butlerQC.get(inputRefs)\n",
      "\n",
      "lsst.generateDonutCatalogWcsTask INFO: Running Donut Selector\n",
      "lsst.meas.algorithms.loadReferenceObjects.ReferenceObjectLoader INFO: Loading reference objects from None in region bounded by [358.68485758, 358.80704655], [-1.30774409, -1.07072695] RA Dec\n",
      "lsst.meas.algorithms.loadReferenceObjects.ReferenceObjectLoader INFO: Loaded 2 reference objects\n",
      "lsst.generateDonutCatalogWcsTask.donutSelector INFO: Selected 2/2 references\n",
      "lsst.ctrl.mpexec.singleQuantumExecutor INFO: Execution of task 'generateDonutCatalogWcsTask' on quantum {instrument: 'LSSTCam', detector: 192, visit: 4021123106000, band: 'g', day_obs: 20211231, physical_filter: 'g'} took 0.353 seconds\n",
      "lsst.ctrl.mpexec.mpGraphExecutor INFO: Executed 15 quanta successfully, 0 failed and 2 remain out of total 17 quanta.\n",
      "lsst.ctrl.mpexec.singleQuantumExecutor INFO: Preparing execution of quantum for label=generateDonutCatalogWcsTask dataId={instrument: 'LSSTCam', detector: 203, visit: 4021123106000, band: 'g', day_obs: 20211231, physical_filter: 'g'}.\n",
      "lsst.ctrl.mpexec.singleQuantumExecutor INFO: Constructing task and executing quantum for label=generateDonutCatalogWcsTask dataId={instrument: 'LSSTCam', detector: 203, visit: 4021123106000, band: 'g', day_obs: 20211231, physical_filter: 'g'}.\n",
      "py.warnings WARNING: /sdf/group/rubin/sw/conda/envs/lsst-scipipe-9.0.0/share/eups/Linux64/pipe_base/g3efb6ca773+3df63bf37b/python/lsst/pipe/base/pipelineTask.py:194: UserWarning: Reading file:///sdf/data/rubin/user/scichris/WORK/aos_packages/ts_wep/tests/testData/gen3TestRepo/run1/postISRCCD/20211231/MC_H_20211231_006000/postISRCCD_LSSTCam_g_MC_H_20211231_006000_R44_SW0_run1.fits with data ID {instrument: 'LSSTCam', detector: 203, exposure: 4021123106000, band: 'g', day_obs: 20211231, group: '4021123106000', physical_filter: 'g'}: filter label mismatch (file is FilterLabel(band=\"g\", physical=\"g_6\"), data ID is FilterLabel(band=\"g\", physical=\"g\")).  This is probably a bug in the code that produced it.\n",
      "  inputs = butlerQC.get(inputRefs)\n",
      "\n",
      "lsst.generateDonutCatalogWcsTask INFO: Running Donut Selector\n",
      "lsst.meas.algorithms.loadReferenceObjects.ReferenceObjectLoader INFO: Loading reference objects from None in region bounded by [1.06388623, 1.18609741], [1.07076509, 1.30779781] RA Dec\n",
      "lsst.meas.algorithms.loadReferenceObjects.ReferenceObjectLoader INFO: Loaded 2 reference objects\n",
      "lsst.generateDonutCatalogWcsTask.donutSelector INFO: Selected 2/2 references\n",
      "lsst.ctrl.mpexec.singleQuantumExecutor INFO: Execution of task 'generateDonutCatalogWcsTask' on quantum {instrument: 'LSSTCam', detector: 203, visit: 4021123106000, band: 'g', day_obs: 20211231, physical_filter: 'g'} took 0.350 seconds\n",
      "lsst.ctrl.mpexec.mpGraphExecutor INFO: Executed 16 quanta successfully, 0 failed and 1 remain out of total 17 quanta.\n",
      "lsst.ctrl.mpexec.singleQuantumExecutor INFO: Preparing execution of quantum for label=cutOutDonutsCwfsTask dataId={instrument: 'LSSTCam', exposure: 4021123106000, band: 'g', day_obs: 20211231, group: '4021123106000', physical_filter: 'g'}.\n",
      "lsst.ctrl.mpexec.singleQuantumExecutor INFO: Constructing task and executing quantum for label=cutOutDonutsCwfsTask dataId={instrument: 'LSSTCam', exposure: 4021123106000, band: 'g', day_obs: 20211231, group: '4021123106000', physical_filter: 'g'}.\n",
      "py.warnings WARNING: /sdf/data/rubin/user/scichris/WORK/aos_packages/ts_wep/python/lsst/ts/wep/task/cutOutDonutsCwfsTask.py:133: UserWarning: Reading file:///sdf/data/rubin/user/scichris/WORK/aos_packages/ts_wep/tests/testData/gen3TestRepo/run1/postISRCCD/20211231/MC_H_20211231_006000/postISRCCD_LSSTCam_g_MC_H_20211231_006000_R00_SW0_run1.fits with data ID {instrument: 'LSSTCam', detector: 191, exposure: 4021123106000, band: 'g', day_obs: 20211231, group: '4021123106000', physical_filter: 'g'}: filter label mismatch (file is FilterLabel(band=\"g\", physical=\"g_6\"), data ID is FilterLabel(band=\"g\", physical=\"g\")).  This is probably a bug in the code that produced it.\n",
      "  expInputs = butlerQC.get(\n",
      "\n",
      "py.warnings WARNING: /sdf/data/rubin/user/scichris/WORK/aos_packages/ts_wep/python/lsst/ts/wep/task/cutOutDonutsCwfsTask.py:133: UserWarning: Reading file:///sdf/data/rubin/user/scichris/WORK/aos_packages/ts_wep/tests/testData/gen3TestRepo/run1/postISRCCD/20211231/MC_H_20211231_006000/postISRCCD_LSSTCam_g_MC_H_20211231_006000_R00_SW1_run1.fits with data ID {instrument: 'LSSTCam', detector: 192, exposure: 4021123106000, band: 'g', day_obs: 20211231, group: '4021123106000', physical_filter: 'g'}: filter label mismatch (file is FilterLabel(band=\"g\", physical=\"g_6\"), data ID is FilterLabel(band=\"g\", physical=\"g\")).  This is probably a bug in the code that produced it.\n",
      "  expInputs = butlerQC.get(\n",
      "\n",
      "lsst.cutOutDonutsCwfsTask WARNING: Donut Recentering Failed. Flagging and not shifting center of stamp for extra-focal source at (2819, 1402). Catalog index: 0. Proposed Shift: (-24, -22).\n",
      "lsst.cutOutDonutsCwfsTask WARNING: Missing variance plane; using the variance of image background for noise estimate.\n",
      "lsst.cutOutDonutsCwfsTask WARNING: Donut Recentering Failed. Flagging and not shifting center of stamp for extra-focal source at (2519, 1102). Catalog index: 1. Proposed Shift: (-23, -21).\n",
      "lsst.cutOutDonutsCwfsTask WARNING: Missing variance plane; using the variance of image background for noise estimate.\n",
      "lsst.cutOutDonutsCwfsTask WARNING: Missing variance plane; using the variance of image background for noise estimate.\n",
      "lsst.cutOutDonutsCwfsTask WARNING: Missing variance plane; using the variance of image background for noise estimate.\n",
      "py.warnings WARNING: /sdf/data/rubin/user/scichris/WORK/aos_packages/ts_wep/python/lsst/ts/wep/task/cutOutDonutsCwfsTask.py:133: UserWarning: Reading file:///sdf/data/rubin/user/scichris/WORK/aos_packages/ts_wep/tests/testData/gen3TestRepo/run1/postISRCCD/20211231/MC_H_20211231_006000/postISRCCD_LSSTCam_g_MC_H_20211231_006000_R04_SW0_run1.fits with data ID {instrument: 'LSSTCam', detector: 195, exposure: 4021123106000, band: 'g', day_obs: 20211231, group: '4021123106000', physical_filter: 'g'}: filter label mismatch (file is FilterLabel(band=\"g\", physical=\"g_6\"), data ID is FilterLabel(band=\"g\", physical=\"g\")).  This is probably a bug in the code that produced it.\n",
      "  expInputs = butlerQC.get(\n",
      "\n",
      "py.warnings WARNING: /sdf/data/rubin/user/scichris/WORK/aos_packages/ts_wep/python/lsst/ts/wep/task/cutOutDonutsCwfsTask.py:133: UserWarning: Reading file:///sdf/data/rubin/user/scichris/WORK/aos_packages/ts_wep/tests/testData/gen3TestRepo/run1/postISRCCD/20211231/MC_H_20211231_006000/postISRCCD_LSSTCam_g_MC_H_20211231_006000_R04_SW1_run1.fits with data ID {instrument: 'LSSTCam', detector: 196, exposure: 4021123106000, band: 'g', day_obs: 20211231, group: '4021123106000', physical_filter: 'g'}: filter label mismatch (file is FilterLabel(band=\"g\", physical=\"g_6\"), data ID is FilterLabel(band=\"g\", physical=\"g\")).  This is probably a bug in the code that produced it.\n",
      "  expInputs = butlerQC.get(\n",
      "\n",
      "lsst.cutOutDonutsCwfsTask WARNING: Donut Recentering Failed. Flagging and not shifting center of stamp for extra-focal source at (2825, 1408). Catalog index: 0. Proposed Shift: (-23, -21).\n",
      "lsst.cutOutDonutsCwfsTask WARNING: Missing variance plane; using the variance of image background for noise estimate.\n",
      "lsst.cutOutDonutsCwfsTask WARNING: Donut Recentering Failed. Flagging and not shifting center of stamp for extra-focal source at (2525, 1108). Catalog index: 1. Proposed Shift: (-22, -21).\n",
      "lsst.cutOutDonutsCwfsTask WARNING: Missing variance plane; using the variance of image background for noise estimate.\n",
      "lsst.cutOutDonutsCwfsTask WARNING: Missing variance plane; using the variance of image background for noise estimate.\n",
      "lsst.cutOutDonutsCwfsTask WARNING: Missing variance plane; using the variance of image background for noise estimate.\n",
      "py.warnings WARNING: /sdf/data/rubin/user/scichris/WORK/aos_packages/ts_wep/python/lsst/ts/wep/task/cutOutDonutsCwfsTask.py:133: UserWarning: Reading file:///sdf/data/rubin/user/scichris/WORK/aos_packages/ts_wep/tests/testData/gen3TestRepo/run1/postISRCCD/20211231/MC_H_20211231_006000/postISRCCD_LSSTCam_g_MC_H_20211231_006000_R40_SW0_run1.fits with data ID {instrument: 'LSSTCam', detector: 199, exposure: 4021123106000, band: 'g', day_obs: 20211231, group: '4021123106000', physical_filter: 'g'}: filter label mismatch (file is FilterLabel(band=\"g\", physical=\"g_6\"), data ID is FilterLabel(band=\"g\", physical=\"g\")).  This is probably a bug in the code that produced it.\n",
      "  expInputs = butlerQC.get(\n",
      "\n",
      "py.warnings WARNING: /sdf/data/rubin/user/scichris/WORK/aos_packages/ts_wep/python/lsst/ts/wep/task/cutOutDonutsCwfsTask.py:133: UserWarning: Reading file:///sdf/data/rubin/user/scichris/WORK/aos_packages/ts_wep/tests/testData/gen3TestRepo/run1/postISRCCD/20211231/MC_H_20211231_006000/postISRCCD_LSSTCam_g_MC_H_20211231_006000_R40_SW1_run1.fits with data ID {instrument: 'LSSTCam', detector: 200, exposure: 4021123106000, band: 'g', day_obs: 20211231, group: '4021123106000', physical_filter: 'g'}: filter label mismatch (file is FilterLabel(band=\"g\", physical=\"g_6\"), data ID is FilterLabel(band=\"g\", physical=\"g\")).  This is probably a bug in the code that produced it.\n",
      "  expInputs = butlerQC.get(\n",
      "\n",
      "lsst.cutOutDonutsCwfsTask WARNING: Donut Recentering Failed. Flagging and not shifting center of stamp for extra-focal source at (2815, 1419). Catalog index: 0. Proposed Shift: (-23, -21).\n",
      "lsst.cutOutDonutsCwfsTask WARNING: Missing variance plane; using the variance of image background for noise estimate.\n",
      "lsst.cutOutDonutsCwfsTask WARNING: Donut Recentering Failed. Flagging and not shifting center of stamp for extra-focal source at (2515, 1120). Catalog index: 1. Proposed Shift: (-23, -22).\n",
      "lsst.cutOutDonutsCwfsTask WARNING: Missing variance plane; using the variance of image background for noise estimate.\n",
      "lsst.cutOutDonutsCwfsTask WARNING: Missing variance plane; using the variance of image background for noise estimate.\n",
      "lsst.cutOutDonutsCwfsTask WARNING: Missing variance plane; using the variance of image background for noise estimate.\n",
      "py.warnings WARNING: /sdf/data/rubin/user/scichris/WORK/aos_packages/ts_wep/python/lsst/ts/wep/task/cutOutDonutsCwfsTask.py:133: UserWarning: Reading file:///sdf/data/rubin/user/scichris/WORK/aos_packages/ts_wep/tests/testData/gen3TestRepo/run1/postISRCCD/20211231/MC_H_20211231_006000/postISRCCD_LSSTCam_g_MC_H_20211231_006000_R44_SW0_run1.fits with data ID {instrument: 'LSSTCam', detector: 203, exposure: 4021123106000, band: 'g', day_obs: 20211231, group: '4021123106000', physical_filter: 'g'}: filter label mismatch (file is FilterLabel(band=\"g\", physical=\"g_6\"), data ID is FilterLabel(band=\"g\", physical=\"g\")).  This is probably a bug in the code that produced it.\n",
      "  expInputs = butlerQC.get(\n",
      "\n",
      "py.warnings WARNING: /sdf/data/rubin/user/scichris/WORK/aos_packages/ts_wep/python/lsst/ts/wep/task/cutOutDonutsCwfsTask.py:133: UserWarning: Reading file:///sdf/data/rubin/user/scichris/WORK/aos_packages/ts_wep/tests/testData/gen3TestRepo/run1/postISRCCD/20211231/MC_H_20211231_006000/postISRCCD_LSSTCam_g_MC_H_20211231_006000_R44_SW1_run1.fits with data ID {instrument: 'LSSTCam', detector: 204, exposure: 4021123106000, band: 'g', day_obs: 20211231, group: '4021123106000', physical_filter: 'g'}: filter label mismatch (file is FilterLabel(band=\"g\", physical=\"g_6\"), data ID is FilterLabel(band=\"g\", physical=\"g\")).  This is probably a bug in the code that produced it.\n",
      "  expInputs = butlerQC.get(\n",
      "\n",
      "lsst.cutOutDonutsCwfsTask WARNING: Donut Recentering Failed. Flagging and not shifting center of stamp for extra-focal source at (2814, 1407). Catalog index: 0. Proposed Shift: (-24, -21).\n",
      "lsst.cutOutDonutsCwfsTask WARNING: Missing variance plane; using the variance of image background for noise estimate.\n",
      "lsst.cutOutDonutsCwfsTask WARNING: Donut Recentering Failed. Flagging and not shifting center of stamp for extra-focal source at (2514, 1107). Catalog index: 1. Proposed Shift: (-23, -21).\n",
      "lsst.cutOutDonutsCwfsTask WARNING: Missing variance plane; using the variance of image background for noise estimate.\n",
      "lsst.cutOutDonutsCwfsTask WARNING: Missing variance plane; using the variance of image background for noise estimate.\n",
      "lsst.cutOutDonutsCwfsTask WARNING: Missing variance plane; using the variance of image background for noise estimate.\n",
      "lsst.ctrl.mpexec.singleQuantumExecutor INFO: Execution of task 'cutOutDonutsCwfsTask' on quantum {instrument: 'LSSTCam', exposure: 4021123106000, band: 'g', day_obs: 20211231, group: '4021123106000', physical_filter: 'g'} took 9.279 seconds\n",
      "lsst.ctrl.mpexec.mpGraphExecutor INFO: Executed 17 quanta successfully, 0 failed and 0 remain out of total 17 quanta.\n"
     ]
    }
   ],
   "source": [
    "\n",
    "moduleDir = getModulePath()\n",
    "testDataDir = os.path.join(moduleDir, \"tests\", \"testData\")\n",
    "testPipelineConfigDir = os.path.join(testDataDir, \"pipelineConfigs\")\n",
    "repoDir = os.path.join(testDataDir, \"gen3TestRepo\")\n",
    "runName = \"run1\"\n",
    "\n",
    "# Check that run doesn't already exist due to previous improper cleanup\n",
    "butler = dafButler.Butler(repoDir)\n",
    "registry = butler.registry\n",
    "collectionsList = list(registry.queryCollections())\n",
    "if runName in collectionsList:\n",
    "    cleanUpCmd = writeCleanUpRepoCmd(repoDir, runName)\n",
    "    runProgram(cleanUpCmd)\n",
    "\n",
    "collections = \"refcats/gen2,LSSTCam/calib,LSSTCam/raw/all\"\n",
    "instrument = \"lsst.obs.lsst.LsstCam\"\n",
    "cameraName = \"LSSTCam\"\n",
    "pipelineYaml = os.path.join(\n",
    "    testPipelineConfigDir, \"testCalcZernikesCwfsSetupPipeline.yaml\"\n",
    ")\n",
    "\n",
    "pipeCmd = writePipetaskCmd(\n",
    "    repoDir, runName, instrument, collections, pipelineYaml=pipelineYaml\n",
    ")\n",
    "pipeCmd += ' -d \"detector IN (191, 192, 195, 196, 199, 200, 203, 204)\"'\n",
    "runProgram(pipeCmd)\n"
   ]
  },
  {
   "cell_type": "code",
   "execution_count": 20,
   "id": "2cd72ac7-5da7-4c2b-9eb3-72f34c2345e5",
   "metadata": {
    "execution": {
     "iopub.execute_input": "2024-09-18T22:23:02.058821Z",
     "iopub.status.busy": "2024-09-18T22:23:02.058479Z",
     "iopub.status.idle": "2024-09-18T22:23:02.190435Z",
     "shell.execute_reply": "2024-09-18T22:23:02.190053Z",
     "shell.execute_reply.started": "2024-09-18T22:23:02.058804Z"
    }
   },
   "outputs": [],
   "source": [
    "config = CalcZernikesTaskConfig()\n",
    "task = CalcZernikesTask(config=config, name=\"Base Task\")\n",
    "\n",
    "butler = dafButler.Butler(repoDir)\n",
    "registry = butler.registry\n",
    "\n",
    "dataIdExtra = {\n",
    "    \"instrument\": \"LSSTCam\",\n",
    "    \"detector\": 191,\n",
    "    \"exposure\": 4021123106000,\n",
    "    \"visit\": 4021123106000,\n",
    "}\n",
    "dataIdIntra = {\n",
    "    \"instrument\": \"LSSTCam\",\n",
    "    \"detector\": 191,\n",
    "    \"exposure\": 4021123106000,\n",
    "    \"visit\": 4021123106000,\n",
    "}\n",
    "donutStampsExtra = butler.get(\n",
    "    \"donutStampsExtra\", dataId=dataIdExtra, collections=[runName]\n",
    ")\n",
    "donutStampsIntra = butler.get(\n",
    "    \"donutStampsIntra\", dataId=dataIdExtra, collections=[runName]\n",
    ")\n"
   ]
  },
  {
   "cell_type": "code",
   "execution_count": 21,
   "id": "ad3c6aef-95ed-4d75-9ef2-d9bdf4eb1ecb",
   "metadata": {
    "execution": {
     "iopub.execute_input": "2024-09-18T22:23:58.597799Z",
     "iopub.status.busy": "2024-09-18T22:23:58.597408Z",
     "iopub.status.idle": "2024-09-18T22:24:00.204593Z",
     "shell.execute_reply": "2024-09-18T22:24:00.204280Z",
     "shell.execute_reply.started": "2024-09-18T22:23:58.597785Z"
    }
   },
   "outputs": [
    {
     "name": "stderr",
     "output_type": "stream",
     "text": [
      "INFO:CombineZernikesSigmaClipTask:MaxZernClip config: 3. MaxZernClip used: 3.\n",
      "INFO:CombineZernikesSigmaClipTask:Using 1 pairs out of 1 in final Zernike estimate.\n"
     ]
    }
   ],
   "source": [
    "# testEstimateCornerZernikes \n",
    "\n",
    "donutStampDir = os.path.join(testDataDir, \"donutImg\", \"donutStamps\")\n",
    "\n",
    "# Test R04\n",
    "donutStampsExtra = DonutStamps.readFits(\n",
    "os.path.join(donutStampDir, \"R04_SW0_donutStamps.fits\")\n",
    ")\n",
    "donutStampsIntra = DonutStamps.readFits(\n",
    "os.path.join(donutStampDir, \"R04_SW1_donutStamps.fits\")\n",
    ")\n",
    "zernCoeffAllR04 = task.estimateZernikes.run(\n",
    "donutStampsExtra, donutStampsIntra\n",
    ").zernikes\n",
    "zernCoeffAvgR04 = task.combineZernikes.run(\n",
    "zernCoeffAllR04\n",
    ").combinedZernikes"
   ]
  },
  {
   "cell_type": "code",
   "execution_count": 23,
   "id": "65e26e4b-861d-4919-b20e-f03ddec4901a",
   "metadata": {
    "execution": {
     "iopub.execute_input": "2024-09-18T22:24:09.674376Z",
     "iopub.status.busy": "2024-09-18T22:24:09.674108Z",
     "iopub.status.idle": "2024-09-18T22:24:09.677397Z",
     "shell.execute_reply": "2024-09-18T22:24:09.677052Z",
     "shell.execute_reply.started": "2024-09-18T22:24:09.674358Z"
    }
   },
   "outputs": [
    {
     "data": {
      "text/plain": [
       "25"
      ]
     },
     "execution_count": 23,
     "metadata": {},
     "output_type": "execute_result"
    }
   ],
   "source": [
    "len(zernCoeffAvgR04)"
   ]
  },
  {
   "cell_type": "code",
   "execution_count": 24,
   "id": "8bd251e9-e81e-4b5c-b8ae-b6a30087a660",
   "metadata": {
    "execution": {
     "iopub.execute_input": "2024-09-18T22:24:27.316725Z",
     "iopub.status.busy": "2024-09-18T22:24:27.316479Z",
     "iopub.status.idle": "2024-09-18T22:24:27.319608Z",
     "shell.execute_reply": "2024-09-18T22:24:27.319270Z",
     "shell.execute_reply.started": "2024-09-18T22:24:27.316708Z"
    }
   },
   "outputs": [],
   "source": [
    "trueZernCoeffR04 = np.array(\n",
    "            [\n",
    "                -0.35353452,\n",
    "                0.07365128,\n",
    "                0.62222451,\n",
    "                -0.06206281,\n",
    "                0.09065757,\n",
    "                0.21722746,\n",
    "                0.20491936,\n",
    "                0.00849322,\n",
    "                -0.01150489,\n",
    "                -0.02599147,\n",
    "                -0.00150702,\n",
    "                0.14100845,\n",
    "                -0.02294787,\n",
    "                0.02284791,\n",
    "                -0.02116483,\n",
    "                -0.02537743,\n",
    "                -0.01866772,\n",
    "                0.01653037,\n",
    "                -0.00552862,\n",
    "            ]\n",
    "        )"
   ]
  },
  {
   "cell_type": "code",
   "execution_count": 25,
   "id": "211cb3cb-1618-403e-ac40-78514c75dec6",
   "metadata": {
    "execution": {
     "iopub.execute_input": "2024-09-18T22:24:36.491546Z",
     "iopub.status.busy": "2024-09-18T22:24:36.491338Z",
     "iopub.status.idle": "2024-09-18T22:24:36.581303Z",
     "shell.execute_reply": "2024-09-18T22:24:36.580963Z",
     "shell.execute_reply.started": "2024-09-18T22:24:36.491532Z"
    }
   },
   "outputs": [
    {
     "data": {
      "text/plain": [
       "Text(0, 0.5, 'Mode value [microns]')"
      ]
     },
     "execution_count": 25,
     "metadata": {},
     "output_type": "execute_result"
    },
    {
     "data": {
      "image/png": "[encoded data removed]",
      "text/plain": [
       "<Figure size 640x480 with 1 Axes>"
      ]
     },
     "metadata": {},
     "output_type": "display_data"
    }
   ],
   "source": [
    "import matplotlib.pyplot as plt\n",
    "plt.plot(np.arange(4,29), zernCoeffAvgR04, ls='--', marker='d', label='new fit up to Z28')\n",
    "plt.plot(np.arange(4,23), trueZernCoeffR04, ls='--', marker='s', label='old data up to Z22')\n",
    "plt.legend()\n",
    "plt.xlabel('Zk index')\n",
    "plt.ylabel('Mode value [microns]')"
   ]
  },
  {
   "cell_type": "markdown",
   "id": "ffe0f202-a22a-491d-8177-7fd80930e4ec",
   "metadata": {},
   "source": [
    "Update with the new values\n",
    "\n"
   ]
  },
  {
   "cell_type": "code",
   "execution_count": 26,
   "id": "44de08ac-7217-4c82-99c1-7d826f1105b2",
   "metadata": {
    "execution": {
     "iopub.execute_input": "2024-09-18T22:25:57.396581Z",
     "iopub.status.busy": "2024-09-18T22:25:57.396396Z",
     "iopub.status.idle": "2024-09-18T22:25:57.399447Z",
     "shell.execute_reply": "2024-09-18T22:25:57.399165Z",
     "shell.execute_reply.started": "2024-09-18T22:25:57.396568Z"
    }
   },
   "outputs": [
    {
     "data": {
      "text/plain": [
       "array([-3.98568849e-01,  3.29880192e-02,  6.86914803e-01,  3.90220393e-02,\n",
       "       -7.50009174e-02,  1.81549349e-01,  1.39330112e-01,  1.29821719e-05,\n",
       "       -8.61263006e-03, -5.29780246e-03,  4.29874356e-02,  9.03785421e-02,\n",
       "        3.26618090e-03,  4.18176969e-04, -2.90643396e-02, -2.52572372e-02,\n",
       "       -2.51558908e-02,  4.00444469e-02, -6.71305522e-03, -1.87932168e-02,\n",
       "        2.77894381e-04, -2.12649168e-02,  9.96417120e-03, -1.45702414e-02,\n",
       "       -1.05431895e-02])"
      ]
     },
     "execution_count": 26,
     "metadata": {},
     "output_type": "execute_result"
    }
   ],
   "source": [
    "zernCoeffAvgR04"
   ]
  },
  {
   "cell_type": "code",
   "execution_count": 27,
   "id": "345dfcc9-6822-4726-9fe4-46dc21669daf",
   "metadata": {
    "execution": {
     "iopub.execute_input": "2024-09-18T22:26:23.028882Z",
     "iopub.status.busy": "2024-09-18T22:26:23.028553Z",
     "iopub.status.idle": "2024-09-18T22:26:24.831466Z",
     "shell.execute_reply": "2024-09-18T22:26:24.831134Z",
     "shell.execute_reply.started": "2024-09-18T22:26:23.028865Z"
    }
   },
   "outputs": [
    {
     "name": "stderr",
     "output_type": "stream",
     "text": [
      "INFO:CombineZernikesSigmaClipTask:MaxZernClip config: 3. MaxZernClip used: 3.\n",
      "INFO:CombineZernikesSigmaClipTask:Using 1 pairs out of 1 in final Zernike estimate.\n"
     ]
    }
   ],
   "source": [
    "# Test R40\n",
    "donutStampsExtra = DonutStamps.readFits(\n",
    "os.path.join(donutStampDir, \"R40_SW0_donutStamps.fits\")\n",
    ")\n",
    "donutStampsIntra = DonutStamps.readFits(\n",
    "os.path.join(donutStampDir, \"R40_SW1_donutStamps.fits\")\n",
    ")\n",
    "zernCoeffAllR40 = task.estimateZernikes.run(\n",
    "donutStampsExtra, donutStampsIntra\n",
    ").zernikes\n",
    "zernCoeffAvgR40 = task.combineZernikes.run(\n",
    "zernCoeffAllR40\n",
    ").combinedZernikes\n",
    "trueZernCoeffR40 = np.array(\n",
    "[\n",
    "    -3.83610201e-01,\n",
    "    2.06528254e-01,\n",
    "    5.42893431e-01,\n",
    "    7.74255848e-02,\n",
    "    -3.40529812e-02,\n",
    "    5.45565149e-02,\n",
    "    -8.65849308e-02,\n",
    "    1.75029212e-02,\n",
    "    -1.40149246e-04,\n",
    "    -4.11223127e-02,\n",
    "    -2.42644902e-03,\n",
    "    1.52392233e-01,\n",
    "    1.24547354e-02,\n",
    "    -2.33075716e-02,\n",
    "    -7.35477674e-04,\n",
    "    1.93518814e-02,\n",
    "    3.65768735e-03,\n",
    "    4.12718699e-02,\n",
    "    -6.93386734e-03,\n",
    "]\n",
    ")"
   ]
  },
  {
   "cell_type": "code",
   "execution_count": 28,
   "id": "bbeb8552-fbb7-49d9-a092-aa54a222294e",
   "metadata": {
    "execution": {
     "iopub.execute_input": "2024-09-18T22:26:34.771460Z",
     "iopub.status.busy": "2024-09-18T22:26:34.771070Z",
     "iopub.status.idle": "2024-09-18T22:26:34.854623Z",
     "shell.execute_reply": "2024-09-18T22:26:34.854315Z",
     "shell.execute_reply.started": "2024-09-18T22:26:34.771444Z"
    }
   },
   "outputs": [
    {
     "data": {
      "text/plain": [
       "Text(0, 0.5, 'Mode value [microns]')"
      ]
     },
     "execution_count": 28,
     "metadata": {},
     "output_type": "execute_result"
    },
    {
     "data": {
      "image/png": "[encoded data removed]",
      "text/plain": [
       "<Figure size 640x480 with 1 Axes>"
      ]
     },
     "metadata": {},
     "output_type": "display_data"
    }
   ],
   "source": [
    "import matplotlib.pyplot as plt\n",
    "plt.plot(np.arange(4,29), zernCoeffAvgR40, ls='--', marker='d', label='new fit up to Z28')\n",
    "plt.plot(np.arange(4,23), trueZernCoeffR40, ls='--', marker='s', label='old data up to Z22')\n",
    "plt.legend()\n",
    "plt.xlabel('Zk index')\n",
    "plt.ylabel('Mode value [microns]')"
   ]
  },
  {
   "cell_type": "code",
   "execution_count": 29,
   "id": "f729936a-6d85-4ea1-b10c-eb6ce0ae77cf",
   "metadata": {
    "execution": {
     "iopub.execute_input": "2024-09-18T22:26:59.847400Z",
     "iopub.status.busy": "2024-09-18T22:26:59.847035Z",
     "iopub.status.idle": "2024-09-18T22:26:59.850157Z",
     "shell.execute_reply": "2024-09-18T22:26:59.849842Z",
     "shell.execute_reply.started": "2024-09-18T22:26:59.847384Z"
    }
   },
   "outputs": [
    {
     "data": {
      "text/plain": [
       "array([-4.51261752e-01,  2.16216207e-01,  4.66819698e-01, -9.23288192e-02,\n",
       "        4.97984634e-02,  9.33841073e-02, -4.89458314e-02,  7.17956342e-03,\n",
       "        1.74395927e-02, -2.81949251e-02,  9.53899106e-03,  1.29594074e-01,\n",
       "       -5.42637866e-03,  1.21212094e-02, -1.66611416e-04,  2.34503797e-02,\n",
       "        3.56519007e-03,  3.64561520e-02, -8.42437070e-03, -1.58178023e-02,\n",
       "       -8.84574527e-03, -1.24650851e-02, -2.66815820e-04,  1.86351265e-04,\n",
       "        1.70769973e-03])"
      ]
     },
     "execution_count": 29,
     "metadata": {},
     "output_type": "execute_result"
    }
   ],
   "source": [
    "# UPDATE with the new values \n",
    "\n",
    "zernCoeffAvgR40\n"
   ]
  },
  {
   "cell_type": "code",
   "execution_count": 32,
   "id": "bb9ad0e8-672f-4159-b1fc-3e8d360f64fd",
   "metadata": {
    "execution": {
     "iopub.execute_input": "2024-09-18T22:38:59.793851Z",
     "iopub.status.busy": "2024-09-18T22:38:59.793454Z",
     "iopub.status.idle": "2024-09-18T22:39:03.621935Z",
     "shell.execute_reply": "2024-09-18T22:39:03.621477Z",
     "shell.execute_reply.started": "2024-09-18T22:38:59.793834Z"
    }
   },
   "outputs": [
    {
     "name": "stderr",
     "output_type": "stream",
     "text": [
      "INFO:CombineZernikesSigmaClipTask:MaxZernClip config: 3. MaxZernClip used: 3.\n",
      "INFO:CombineZernikesSigmaClipTask:Using 2 pairs out of 2 in final Zernike estimate.\n",
      "INFO:CombineZernikesSigmaClipTask:MaxZernClip config: 3. MaxZernClip used: 3.\n",
      "INFO:CombineZernikesSigmaClipTask:Using 1 pairs out of 1 in final Zernike estimate.\n"
     ]
    }
   ],
   "source": [
    "#testWithAndWithoutPairs(self):\n",
    "# Load the test data\n",
    "donutStampDir = os.path.join(testDataDir, \"donutImg\", \"donutStamps\")\n",
    "donutStampsExtra = DonutStamps.readFits(\n",
    "    os.path.join(donutStampDir, \"R04_SW0_donutStamps.fits\")\n",
    ")\n",
    "donutStampsIntra = DonutStamps.readFits(\n",
    "    os.path.join(donutStampDir, \"R04_SW1_donutStamps.fits\")\n",
    ")\n",
    "\n",
    "# First estimate without pairs\n",
    "config.estimateZernikes.usePairs = False\n",
    "config.estimateZernikes.requiresPairs = False\n",
    "zkAllWithoutPairs = task.estimateZernikes.run(\n",
    "    donutStampsExtra, donutStampsIntra\n",
    ").zernikes\n",
    "zkAvgWithoutPairs = task.combineZernikes.run(\n",
    "    zkAllWithoutPairs\n",
    ").combinedZernikes\n",
    "\n",
    "# Now estimate with pairs\n",
    "config.estimateZernikes.usePairs = True\n",
    "zkAllWithPairs = task.estimateZernikes.run(\n",
    "    donutStampsExtra, donutStampsIntra\n",
    "        ).zernikes\n",
    "zkAvgWithPairs = task.combineZernikes.run(zkAllWithPairs).combinedZernikes\n",
    "\n",
    "# Check that without pairs has at least twice the number of zernikes\n",
    "#assertEqual(zkAllWithoutPairs.shape[1], zkAllWithPairs.shape[1])\n",
    "#assertGreaterEqual(zkAllWithoutPairs.shape[0], 2 * zkAllWithPairs.shape[0])\n",
    "\n",
    "# Check that the averages are similar\n",
    "diff = np.sqrt(np.sum((zkAvgWithPairs - zkAvgWithoutPairs) ** 2))\n",
    "#assertLess(diff, 0.16)"
   ]
  },
  {
   "cell_type": "code",
   "execution_count": 38,
   "id": "1475b2ea-54b5-45f4-8d99-6e6d77c5c9e9",
   "metadata": {
    "execution": {
     "iopub.execute_input": "2024-09-18T22:40:02.723281Z",
     "iopub.status.busy": "2024-09-18T22:40:02.722904Z",
     "iopub.status.idle": "2024-09-18T22:40:02.726171Z",
     "shell.execute_reply": "2024-09-18T22:40:02.725872Z",
     "shell.execute_reply.started": "2024-09-18T22:40:02.723266Z"
    }
   },
   "outputs": [
    {
     "data": {
      "text/plain": [
       "array([-0.41915955,  0.24427632,  0.81725929,  0.01945347, -0.06229784,\n",
       "        0.1708392 ,  0.11991285, -0.00763705, -0.02564338, -0.02745559,\n",
       "        0.02603143,  0.08284261,  0.00170003,  0.00370983, -0.03127467,\n",
       "       -0.02095989, -0.0175569 ,  0.02317344, -0.00543395, -0.01164542,\n",
       "        0.00679475, -0.0200987 ,  0.00938908, -0.00413416, -0.00418068])"
      ]
     },
     "execution_count": 38,
     "metadata": {},
     "output_type": "execute_result"
    }
   ],
   "source": [
    "zkAvgWithoutPairs"
   ]
  },
  {
   "cell_type": "code",
   "execution_count": 37,
   "id": "4355dc25-e89f-4347-9ac6-6407e21cd7b4",
   "metadata": {
    "execution": {
     "iopub.execute_input": "2024-09-18T22:39:45.061701Z",
     "iopub.status.busy": "2024-09-18T22:39:45.061268Z",
     "iopub.status.idle": "2024-09-18T22:39:45.064591Z",
     "shell.execute_reply": "2024-09-18T22:39:45.064263Z",
     "shell.execute_reply.started": "2024-09-18T22:39:45.061682Z"
    }
   },
   "outputs": [
    {
     "data": {
      "text/plain": [
       "array([-3.98568849e-01,  3.29880192e-02,  6.86914803e-01,  3.90220393e-02,\n",
       "       -7.50009174e-02,  1.81549349e-01,  1.39330112e-01,  1.29821719e-05,\n",
       "       -8.61263006e-03, -5.29780246e-03,  4.29874356e-02,  9.03785421e-02,\n",
       "        3.26618090e-03,  4.18176969e-04, -2.90643396e-02, -2.52572372e-02,\n",
       "       -2.51558908e-02,  4.00444469e-02, -6.71305522e-03, -1.87932168e-02,\n",
       "        2.77894381e-04, -2.12649168e-02,  9.96417120e-03, -1.45702414e-02,\n",
       "       -1.05431895e-02])"
      ]
     },
     "execution_count": 37,
     "metadata": {},
     "output_type": "execute_result"
    }
   ],
   "source": [
    "zkAvgWithPairs"
   ]
  },
  {
   "cell_type": "code",
   "execution_count": 40,
   "id": "814fe377-225c-4aaa-ba13-43f2e6867d2e",
   "metadata": {
    "execution": {
     "iopub.execute_input": "2024-09-18T22:40:24.838725Z",
     "iopub.status.busy": "2024-09-18T22:40:24.838337Z",
     "iopub.status.idle": "2024-09-18T22:40:24.926453Z",
     "shell.execute_reply": "2024-09-18T22:40:24.926104Z",
     "shell.execute_reply.started": "2024-09-18T22:40:24.838710Z"
    }
   },
   "outputs": [
    {
     "data": {
      "text/plain": [
       "Text(0, 0.5, 'Mode value [microns]')"
      ]
     },
     "execution_count": 40,
     "metadata": {},
     "output_type": "execute_result"
    },
    {
     "data": {
      "image/png": "[encoded data removed]",
      "text/plain": [
       "<Figure size 640x480 with 1 Axes>"
      ]
     },
     "metadata": {},
     "output_type": "display_data"
    }
   ],
   "source": [
    "import matplotlib.pyplot as plt\n",
    "plt.plot(np.arange(4,29), zkAvgWithoutPairs, ls='--', marker='d', label='with pairs')\n",
    "plt.plot(np.arange(4,29), zkAvgWithPairs, ls='--', marker='s', label='without pairs')\n",
    "plt.legend()\n",
    "plt.xlabel('Zk index')\n",
    "plt.ylabel('Mode value [microns]')\n"
   ]
  },
  {
   "cell_type": "markdown",
   "id": "c8338487-4db5-4a7a-96c9-c81fa628f4ce",
   "metadata": {},
   "source": [
    "The two are close, there's more absolute difference because we're fitting more modes. "
   ]
  },
  {
   "cell_type": "code",
   "execution_count": 41,
   "id": "71d224cb-a278-4ff1-8d21-5e64838a5f34",
   "metadata": {
    "execution": {
     "iopub.execute_input": "2024-09-18T22:40:48.130917Z",
     "iopub.status.busy": "2024-09-18T22:40:48.130521Z",
     "iopub.status.idle": "2024-09-18T22:40:48.133333Z",
     "shell.execute_reply": "2024-09-18T22:40:48.133057Z",
     "shell.execute_reply.started": "2024-09-18T22:40:48.130902Z"
    }
   },
   "outputs": [
    {
     "data": {
      "text/plain": [
       "0.2547578707151876"
      ]
     },
     "execution_count": 41,
     "metadata": {},
     "output_type": "execute_result"
    }
   ],
   "source": [
    "diff"
   ]
  },
  {
   "cell_type": "code",
   "execution_count": null,
   "id": "518539b5-c05e-4c1d-93ce-f2478d9a633c",
   "metadata": {},
   "outputs": [],
   "source": []
  }
 ],
 "metadata": {
  "kernelspec": {
   "display_name": "LSST",
   "language": "python",
   "name": "lsst"
  },
  "language_info": {
   "codemirror_mode": {
    "name": "ipython",
    "version": 3
   },
   "file_extension": ".py",
   "mimetype": "text/x-python",
   "name": "python",
   "nbconvert_exporter": "python",
   "pygments_lexer": "ipython3",
   "version": "3.11.9"
  }
 },
 "nbformat": 4,
 "nbformat_minor": 5
}
