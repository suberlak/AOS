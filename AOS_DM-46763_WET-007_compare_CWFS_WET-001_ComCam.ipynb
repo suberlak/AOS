{
 "cells": [
  {
   "cell_type": "markdown",
   "id": "404faa3d-b1de-4713-83d1-b099d7845666",
   "metadata": {},
   "source": [
    "# ts_aos_analysis\n",
    "\n",
    "# AOS  DM-46763:  WET-007 Compare CWFS approaches with WET-001 ComCam data\n",
    "\n",
    "Use WET-001 LsstComCam data. As for LsstCam, it is a simulation of 100 random states, with intra, extra, and in-focus positions.  "
   ]
  },
  {
   "cell_type": "markdown",
   "id": "3aa07894-da2b-4913-9572-0eaac307d6a1",
   "metadata": {
    "execution": {
     "iopub.execute_input": "2024-10-11T22:56:22.949374Z",
     "iopub.status.busy": "2024-10-11T22:56:22.949166Z",
     "iopub.status.idle": "2024-10-11T22:56:22.951896Z",
     "shell.execute_reply": "2024-10-11T22:56:22.951538Z",
     "shell.execute_reply.started": "2024-10-11T22:56:22.949358Z"
    }
   },
   "source": [
    "\n",
    "# Employ the central butler repository  to ingest raws,  perform ISR, and run WEP."
   ]
  },
  {
   "cell_type": "code",
   "execution_count": null,
   "id": "6ed161dc-4cc5-43f0-92ca-bf5f4e7b7697",
   "metadata": {},
   "outputs": [],
   "source": [
    "butler register-instrument /sdf/data/rubin/repo/aos_imsim lsst.obs.lsst.LsstComCam "
   ]
  },
  {
   "cell_type": "code",
   "execution_count": 2,
   "id": "288a7d63-aa9b-434b-bf9c-2b14c95917b6",
   "metadata": {
    "execution": {
     "iopub.execute_input": "2024-10-11T22:57:28.243257Z",
     "iopub.status.busy": "2024-10-11T22:57:28.242950Z",
     "iopub.status.idle": "2024-10-11T22:57:28.246412Z",
     "shell.execute_reply": "2024-10-11T22:57:28.246021Z",
     "shell.execute_reply.started": "2024-10-11T22:57:28.243239Z"
    }
   },
   "outputs": [
    {
     "name": "stdout",
     "output_type": "stream",
     "text": [
      "butler ingest-raws /sdf/data/rubin/repo/aos_imsim/ /sdf/data/rubin/user/gmegias/projects/commissioning_sims/WET-001_comcam/state*/amp* \n",
      "\n"
     ]
    }
   ],
   "source": [
    "butlerRootPath = '/sdf/data/rubin/repo/aos_imsim/'\n",
    "outputImgDir = (\n",
    "    \"/sdf/data/rubin/user/gmegias/projects/commissioning_sims/WET-001_comcam/state*\"\n",
    ")\n",
    "\n",
    "butlerInstName = \"Cam\"\n",
    "cmd4 = f\"butler ingest-raws {butlerRootPath} {outputImgDir}/amp*\"\n",
    "print(cmd4, \"\\n\")"
   ]
  },
  {
   "cell_type": "code",
   "execution_count": null,
   "id": "619960d8-97ce-4429-a22d-3ae54c2fc161",
   "metadata": {},
   "outputs": [],
   "source": [
    "Run \n",
    "\n",
    "    butler write-curated-calibrations /sdf/data/rubin/repo/aos_imsim  lsst.obs.lsst.LsstComCam \n"
   ]
  },
  {
   "cell_type": "markdown",
   "id": "868391d3-fff7-4518-bdf4-abbc20320fef",
   "metadata": {},
   "source": [
    "Running\n",
    "\n",
    "    butler define-visits /sdf/data/rubin/repo/aos_imsim   lsst.obs.lsst.LsstComCam\n",
    "\n",
    "yields \n",
    "\n",
    "    lsst.defineVisits INFO: Preprocessing data IDs.\n",
    "    lsst.defineVisits INFO: Registering visit_system 0: one-to-one.\n",
    "    lsst.defineVisits INFO: Registering visit_system 2: by-seq-start-end.\n",
    "    lsst.defineVisits INFO: Grouping 300 exposure(s) into visits.\n",
    "    lsst.defineVisits INFO: Computing regions and other metadata for 300 visit(s).\n",
    "\n",
    "\n",
    "which makes sense, because we have 3 focusZ positions (intra/extra/in-focus),  with 100 states each.  "
   ]
  },
  {
   "cell_type": "markdown",
   "id": "8e9309ad-e1c4-4af6-9522-14c959f58d8c",
   "metadata": {},
   "source": [
    "In   `cd /sdf/group/rubin/shared/scichris/DM-46763_WET-007`,  make `site_bps.yaml`, containing  \n",
    "\n",
    "\n",
    "    site:\n",
    "      s3df:\n",
    "        profile:\n",
    "          condor:\n",
    "            +Walltime: 7200"
   ]
  },
  {
   "cell_type": "code",
   "execution_count": 15,
   "id": "f0da0a2f-0fa2-49ab-9d96-2cbcee3e4c6d",
   "metadata": {
    "execution": {
     "iopub.execute_input": "2024-10-11T23:16:35.059592Z",
     "iopub.status.busy": "2024-10-11T23:16:35.059177Z",
     "iopub.status.idle": "2024-10-11T23:16:35.927321Z",
     "shell.execute_reply": "2024-10-11T23:16:35.926962Z",
     "shell.execute_reply.started": "2024-10-11T23:16:35.059576Z"
    }
   },
   "outputs": [
    {
     "name": "stdout",
     "output_type": "stream",
     "text": [
      "2640\n"
     ]
    }
   ],
   "source": [
    "butlerRootPath = '/sdf/data/rubin/repo/aos_imsim/'\n",
    "butler = dafButler.Butler(butlerRootPath)\n",
    "dataRefs = butler.registry.queryDatasets('raw', collections=['LSSTComCam/raw/all'],\n",
    "                             where=f\"instrument='LSSTComCam' and visit.day_obs = 20240723 and exposure.science_program = '1'\").expanded()\n",
    "print(len(list(dataRefs)))\n",
    "refs = []\n",
    "for ref in dataRefs:\n",
    "    refs.append(ref)\n",
    "#print(len(refs)"
   ]
  },
  {
   "cell_type": "markdown",
   "id": "36c1b31e-c813-4879-93fd-668d1179c862",
   "metadata": {},
   "source": [
    "Ok, so that's a lot of refs.  Show the first one:"
   ]
  },
  {
   "cell_type": "code",
   "execution_count": 10,
   "id": "b36d1544-478e-47ff-b175-946491292186",
   "metadata": {
    "execution": {
     "iopub.execute_input": "2024-10-11T23:15:05.893064Z",
     "iopub.status.busy": "2024-10-11T23:15:05.892630Z",
     "iopub.status.idle": "2024-10-11T23:15:05.895913Z",
     "shell.execute_reply": "2024-10-11T23:15:05.895575Z",
     "shell.execute_reply.started": "2024-10-11T23:15:05.893047Z"
    }
   },
   "outputs": [
    {
     "data": {
      "text/html": [
       "<pre>detector:\n",
       "  instrument: 'LSSTComCam'\n",
       "  id: 4\n",
       "  full_name: 'R22_S11'\n",
       "  name_in_raft: 'S11'\n",
       "  raft: 'R22'\n",
       "  purpose: 'SCIENCE'<pre>"
      ],
      "text/plain": [
       "detector.RecordClass(instrument='LSSTComCam', id=4, full_name='R22_S11', name_in_raft='S11', raft='R22', purpose='SCIENCE')"
      ]
     },
     "execution_count": 10,
     "metadata": {},
     "output_type": "execute_result"
    }
   ],
   "source": [
    "ref.dataId.detector"
   ]
  },
  {
   "cell_type": "code",
   "execution_count": 16,
   "id": "578463de-8117-4a11-b65d-1c42d20174d3",
   "metadata": {
    "execution": {
     "iopub.execute_input": "2024-10-11T23:17:46.641367Z",
     "iopub.status.busy": "2024-10-11T23:17:46.640942Z",
     "iopub.status.idle": "2024-10-11T23:17:46.644365Z",
     "shell.execute_reply": "2024-10-11T23:17:46.644080Z",
     "shell.execute_reply.started": "2024-10-11T23:17:46.641353Z"
    }
   },
   "outputs": [
    {
     "data": {
      "text/html": [
       "<pre>exposure:\n",
       "  instrument: 'LSSTComCam'\n",
       "  id: 5024072306072\n",
       "  day_obs: 20240723\n",
       "  group: '5024072306072'\n",
       "  physical_filter: 'r_03'\n",
       "  obs_id: 'IM_P_20240723_006072'\n",
       "  exposure_time: 15.0\n",
       "  dark_time: 15.0\n",
       "  observation_type: 'science'\n",
       "  observation_reason: 'survey'\n",
       "  seq_num: 6072\n",
       "  seq_start: 6072\n",
       "  seq_end: 6072\n",
       "  target_name: 'UNKNOWN'\n",
       "  science_program: '1'\n",
       "  tracking_ra: 229.25312499999995\n",
       "  tracking_dec: -9.382694444444445\n",
       "  sky_angle: 102.8687911038531\n",
       "  azimuth: None\n",
       "  zenith_angle: None\n",
       "  has_simulated: True\n",
       "  can_see_sky: True\n",
       "  timespan: Timespan(begin=astropy.time.Time(2460515.0, 0.480000000003206, scale='tai', format='jd'), end=astropy.time.Time(2460515.0, 0.4801736111111111, scale='tai', format='jd'))<pre>"
      ],
      "text/plain": [
       "exposure.RecordClass(instrument='LSSTComCam', id=5024072306072, day_obs=20240723, group='5024072306072', physical_filter='r_03', obs_id='IM_P_20240723_006072', exposure_time=15.0, dark_time=15.0, observation_type='science', observation_reason='survey', seq_num=6072, seq_start=6072, seq_end=6072, target_name='UNKNOWN', science_program='1', tracking_ra=229.25312499999995, tracking_dec=-9.382694444444445, sky_angle=102.8687911038531, azimuth=None, zenith_angle=None, has_simulated=True, can_see_sky=True, timespan=Timespan(begin=astropy.time.Time(2460515.0, 0.480000000003206, scale='tai', format='jd'), end=astropy.time.Time(2460515.0, 0.4801736111111111, scale='tai', format='jd')))"
      ]
     },
     "execution_count": 16,
     "metadata": {},
     "output_type": "execute_result"
    }
   ],
   "source": [
    "ref.dataId.exposure"
   ]
  },
  {
   "cell_type": "code",
   "execution_count": 131,
   "id": "90ea4c2f-f7ea-4914-b47f-27091538da11",
   "metadata": {
    "execution": {
     "iopub.execute_input": "2024-10-17T20:31:38.084529Z",
     "iopub.status.busy": "2024-10-17T20:31:38.084318Z",
     "iopub.status.idle": "2024-10-17T20:31:38.086895Z",
     "shell.execute_reply": "2024-10-17T20:31:38.086511Z",
     "shell.execute_reply.started": "2024-10-17T20:31:38.084513Z"
    }
   },
   "outputs": [],
   "source": [
    "#ref.dataId.exposure."
   ]
  },
  {
   "cell_type": "code",
   "execution_count": 132,
   "id": "525d6da9-08a1-4a4c-9957-be7c4c4fb597",
   "metadata": {
    "execution": {
     "iopub.execute_input": "2024-10-17T20:31:39.572732Z",
     "iopub.status.busy": "2024-10-17T20:31:39.572113Z",
     "iopub.status.idle": "2024-10-17T20:31:39.574699Z",
     "shell.execute_reply": "2024-10-17T20:31:39.574311Z",
     "shell.execute_reply.started": "2024-10-17T20:31:39.572715Z"
    }
   },
   "outputs": [],
   "source": [
    "#ref.dataId.exposure.science_program"
   ]
  },
  {
   "cell_type": "markdown",
   "id": "ec2bcb17-305b-479a-8a70-12b1a34d15f7",
   "metadata": {},
   "source": [
    "2640??  9x300 = 2700: we are missing some states  that simply didn't get simulated. "
   ]
  },
  {
   "cell_type": "markdown",
   "id": "7f3729ab-6179-4e36-95f6-6b7ec4b087f0",
   "metadata": {},
   "source": [
    "Run ISR on all states:"
   ]
  },
  {
   "cell_type": "markdown",
   "id": "edc99a4e-6965-48bf-93e5-f839da88bcf6",
   "metadata": {},
   "source": [
    "    cd /sdf/group/rubin/shared/scichris/DM-46763_WET-007\n",
    "\n",
    "    allocateNodes.py -v -n 10 -c 64 -m 60:00:00 -q milano -g 1800 s3df --account rubin:developers\n",
    "    \n",
    "    \n",
    "    bps submit site_bps.yaml  -b  /sdf/data/rubin/repo/aos_imsim -i  LSSTComCam/raw/all,LSSTComCam/calib/unbounded -o WET-001_lsstComCam_ISR -p /sdf/group/rubin/shared/scichris/DM-46763_WET-007/lsstComCamPipelineISR.yaml  -d \"instrument='LSSTComCam' and exposure.science_program = '1'\"\n",
    "    \n",
    "    \n",
    "    bps report --id 3152356.0 \n",
    "\n",
    "\n",
    "\n",
    "                 UNKNOWN MISFIT UNREADY READY PENDING RUNNING DELETED HELD SUCCEEDED FAILED PRUNED EXPECTED\n",
    "    ------------ ------- ------ ------- ----- ------- ------- ------- ---- --------- ------ ------ --------\n",
    "    TOTAL              0      0       1  1724     639     271       0    0         7      0      0     2642\n",
    "    ------------ ------- ------ ------- ----- ------- ------- ------- ---- --------- ------ ------ --------\n",
    "    pipetaskInit       0      0       0     0       0       0       0    0         1      0      0        1\n",
    "    isr                0      0       0  1724     639     271       0    0         6      0      0     2640\n",
    "    finalJob           0      0       1     0       0       0       0    0         0      0      0        1\n",
    "    \n"
   ]
  },
  {
   "cell_type": "markdown",
   "id": "3b36fa6f-daf7-4083-8c24-f0f54e009198",
   "metadata": {},
   "source": [
    "Run donut detection / cutOuts on all defocal states:   \n",
    "\n",
    "\n",
    "    bps submit site_bps.yaml  -b  /sdf/data/rubin/repo/aos_imsim/ -i WET-001_lsstComCam_ISR,LSSTCam/calib/unbounded -o WET-001_lsstComCam_direct_stamps_6001_6200  -p /sdf/group/rubin/shared/scichris/DM-46763_WET-007/lsstComCamPipelineDirectCutoutOnly.yaml -d \"instrument='LSSTComCam' and exposure.seq_num in (6001..6200)\" "
   ]
  },
  {
   "cell_type": "markdown",
   "id": "ae2472c4-23f7-4d06-9b0f-dd7b31c4a5ab",
   "metadata": {},
   "source": [
    "Check if all worked out:"
   ]
  },
  {
   "cell_type": "code",
   "execution_count": 133,
   "id": "968818e3-28a9-4eee-92de-32cbf214df80",
   "metadata": {
    "execution": {
     "iopub.execute_input": "2024-10-17T20:35:04.429131Z",
     "iopub.status.busy": "2024-10-17T20:35:04.428854Z",
     "iopub.status.idle": "2024-10-17T20:35:05.353040Z",
     "shell.execute_reply": "2024-10-17T20:35:05.352552Z",
     "shell.execute_reply.started": "2024-10-17T20:35:04.429117Z"
    }
   },
   "outputs": [
    {
     "name": "stdout",
     "output_type": "stream",
     "text": [
      "1740\n"
     ]
    }
   ],
   "source": [
    "collection = 'WET-001_lsstComCam_direct_stamps_6001_6200'\n",
    "butlerRootPath = '/sdf/data/rubin/repo/aos_imsim/'\n",
    "butler = dafButler.Butler(butlerRootPath)\n",
    "dataRefs = butler.registry.queryDatasets('donutCatalog', collections=[collection],\n",
    "                             where=f\"instrument='LSSTComCam' and visit.day_obs = 20240723 \").expanded()\n",
    "print(len(list(dataRefs)))\n",
    "refs = []\n",
    "for ref in dataRefs:\n",
    "    refs.append(ref)"
   ]
  },
  {
   "cell_type": "markdown",
   "id": "1812a07b-2f0c-4f38-9808-80976778751a",
   "metadata": {},
   "source": [
    "Only 1740, which probably reflects all available defocal states, since not all had 9 detectors simulated (if all 100 states had 9 detectors, that would be 1800 total: 900 intra and 900 extra-focal separately simulated detectors). Here we have one ref per detector. "
   ]
  },
  {
   "cell_type": "markdown",
   "id": "0d22b755-3239-40c7-8a63-365b393ee6d2",
   "metadata": {},
   "source": [
    "Count how many detectors are available:"
   ]
  },
  {
   "cell_type": "code",
   "execution_count": 141,
   "id": "dadace38-7b9c-4401-885a-13a1dcc04abe",
   "metadata": {
    "execution": {
     "iopub.execute_input": "2024-10-17T20:43:50.007999Z",
     "iopub.status.busy": "2024-10-17T20:43:50.007694Z",
     "iopub.status.idle": "2024-10-17T20:43:50.052904Z",
     "shell.execute_reply": "2024-10-17T20:43:50.052411Z",
     "shell.execute_reply.started": "2024-10-17T20:43:50.007984Z"
    }
   },
   "outputs": [
    {
     "name": "stdout",
     "output_type": "stream",
     "text": [
      "Total detector amp_ count: 1740\n"
     ]
    }
   ],
   "source": [
    "count = 0\n",
    "for N in range(1,101):\n",
    "    for defocal in ['intra', 'extra']:\n",
    "        fnames = os.listdir(f'/sdf/data/rubin/user/gmegias/projects/commissioning_sims/WET-001_comcam/state_{N}_{defocal}')\n",
    "        amp_files = [fname for fname in fnames if fname.startswith('amp')]\n",
    "        count+= len(amp_files)\n",
    "print(f'Total detector amp_ count: {count}')"
   ]
  },
  {
   "cell_type": "markdown",
   "id": "1849c78f-2a98-4d74-b104-bff9ab7e9a06",
   "metadata": {},
   "source": [
    "Ok, so all detectors got properly processed. "
   ]
  },
  {
   "cell_type": "markdown",
   "id": "a6043be2-5917-4e6c-8fe7-ef81345ab2de",
   "metadata": {},
   "source": [
    "These have less than 9:"
   ]
  },
  {
   "cell_type": "code",
   "execution_count": 139,
   "id": "6860585b-216c-4dc4-90d7-992a7c62a4e9",
   "metadata": {
    "execution": {
     "iopub.execute_input": "2024-10-17T20:42:17.323489Z",
     "iopub.status.busy": "2024-10-17T20:42:17.322830Z",
     "iopub.status.idle": "2024-10-17T20:42:17.357005Z",
     "shell.execute_reply": "2024-10-17T20:42:17.356543Z",
     "shell.execute_reply.started": "2024-10-17T20:42:17.323462Z"
    }
   },
   "outputs": [
    {
     "name": "stdout",
     "output_type": "stream",
     "text": [
      "intra state: 32 , N simulated detectors: 6\n",
      "intra state: 33 , N simulated detectors: 4\n",
      "extra state: 33 , N simulated detectors: 3\n",
      "intra state: 34 , N simulated detectors: 5\n",
      "extra state: 34 , N simulated detectors: 5\n",
      "intra state: 35 , N simulated detectors: 5\n",
      "extra state: 35 , N simulated detectors: 4\n",
      "intra state: 36 , N simulated detectors: 5\n",
      "extra state: 36 , N simulated detectors: 5\n",
      "intra state: 37 , N simulated detectors: 5\n",
      "extra state: 37 , N simulated detectors: 4\n",
      "intra state: 38 , N simulated detectors: 6\n",
      "extra state: 38 , N simulated detectors: 6\n",
      "intra state: 39 , N simulated detectors: 6\n",
      "extra state: 39 , N simulated detectors: 6\n"
     ]
    }
   ],
   "source": [
    "for N in range(1,100):\n",
    "    for defocal in ['intra', 'extra']:\n",
    "        fnames = os.listdir(f'/sdf/data/rubin/user/gmegias/projects/commissioning_sims/WET-001_comcam/state_{N}_{defocal}')\n",
    "        amp_files = [fname for fname in fnames if fname.startswith('amp')]\n",
    "        if len(amp_files) < 9:\n",
    "            print(defocal, 'state:', N, ', N simulated detectors:', len(amp_files))"
   ]
  },
  {
   "cell_type": "code",
   "execution_count": null,
   "id": "e63a6239-ceb6-46a2-8f17-3047553863b9",
   "metadata": {},
   "outputs": [],
   "source": [
    "isrCollection =     \"WET-001_lsstComCam_ISR\"\n",
    "cutoutsCollection = \"WET-001_lsstComCam_direct_stamps\"\n",
    "tieCollection =     \"WET-001_lsstComCam_direct_TIE\"\n",
    "danishCollection =  \"WET-001_lsstComCam_direct_Danish\"\n",
    "\n",
    "isrYaml = \"lsstComCamPipelineISR.yaml\"\n",
    "cutoutYaml = \"lsstComCamPipelineDirectCutoutOnly.yaml\"\n",
    "danishYaml = \"lsstComCamPipelineCalcDanishOnly.yaml\"\n",
    "tieYaml = \"lsstComCamPipelineCalcTieOnly.yaml\"\n",
    "\n",
    "pathCwd = '/sdf/group/rubin/shared/scichris/DM-46763_WET-007'\n",
    "isrYamlPath = os.path.join(pathCwd, isrYaml)\n",
    "cutoutYamlPath = os.path.join(pathCwd, cutoutYaml)\n",
    "danishYamlPath = os.path.join(pathCwd, danishYaml)\n",
    "tieYamlPath = os.path.join(pathCwd, tieYaml)\n",
    "\n",
    "cmdCutout = f\"bps submit site_bps.yaml  -b  {butlerRootPath} -i {isrCollection},LSSTCam/calib/unbounded \\\n",
    "-o {cutoutsCollection}  -p {cutoutYamlPath}\"\n",
    "\n",
    "cmdDanish = f\"bps submit site_bps.yaml  -b  {butlerRootPath} -i {cutoutsCollection} \\\n",
    "-o {danishCollection}  -p {danishYamlPath} \"\n",
    "\n",
    "cmdTie = f\"bps submit site_bps.yaml  -b  {butlerRootPath} -i {cutoutsCollection} \\\n",
    "-o {tieCollection}  -p {tieYamlPath}\"\n",
    "\n",
    "print(cmdCutout, \"\\n\")\n",
    "print(cmdDanish, \"\\n\")\n",
    "print(cmdTie, \"\\n\")\n"
   ]
  },
  {
   "cell_type": "code",
   "execution_count": null,
   "id": "75ef93df-58a4-41de-8754-54ac1cf7d3ed",
   "metadata": {},
   "outputs": [],
   "source": []
  }
 ],
 "metadata": {
  "kernelspec": {
   "display_name": "LSST",
   "language": "python",
   "name": "lsst"
  },
  "language_info": {
   "codemirror_mode": {
    "name": "ipython",
    "version": 3
   },
   "file_extension": ".py",
   "mimetype": "text/x-python",
   "name": "python",
   "nbconvert_exporter": "python",
   "pygments_lexer": "ipython3",
   "version": "3.11.9"
  }
 },
 "nbformat": 4,
 "nbformat_minor": 5
}
