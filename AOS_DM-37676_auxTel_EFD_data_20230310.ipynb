{
 "cells": [
  {
   "cell_type": "markdown",
   "id": "7c2ced85-b7d8-47e7-af92-5002b06d3b84",
   "metadata": {},
   "source": [
    "# EFD  from summit,   Zk from USDF : 20230310 "
   ]
  },
  {
   "cell_type": "code",
   "execution_count": 1,
   "id": "77509980-600b-4382-be94-1748f91af5e8",
   "metadata": {
    "execution": {
     "iopub.execute_input": "2023-03-11T03:09:22.992385Z",
     "iopub.status.busy": "2023-03-11T03:09:22.992016Z",
     "iopub.status.idle": "2023-03-11T03:09:22.995365Z",
     "shell.execute_reply": "2023-03-11T03:09:22.994873Z",
     "shell.execute_reply.started": "2023-03-11T03:09:22.992364Z"
    }
   },
   "outputs": [],
   "source": [
    "dx = [0.1679534614086151,\n",
    " -1.9682248830795288,\n",
    " -1.5237804651260376,\n",
    " -1.0793360471725464,\n",
    " -0.6348915100097656,\n",
    " -0.19044706225395203,\n",
    " 0.2539973855018616,\n",
    " 0.6984418630599976,\n",
    " 1.1428862810134888,\n",
    " 1.58733069896698,\n",
    " 2.0317752361297607]\n",
    "\n"
   ]
  },
  {
   "cell_type": "markdown",
   "id": "ed46471e-18d8-4641-afd8-667d64b64c8b",
   "metadata": {},
   "source": [
    "But which seqNum this corresponds to ? Need to find out which seqNum is which dx... Let's get them here:"
   ]
  },
  {
   "cell_type": "code",
   "execution_count": 22,
   "id": "6a073b71-2be1-4ba8-820c-93781b0d0482",
   "metadata": {
    "execution": {
     "iopub.execute_input": "2023-03-16T22:44:54.159142Z",
     "iopub.status.busy": "2023-03-16T22:44:54.158762Z",
     "iopub.status.idle": "2023-03-16T22:44:55.561767Z",
     "shell.execute_reply": "2023-03-16T22:44:55.561216Z",
     "shell.execute_reply.started": "2023-03-16T22:44:54.159107Z"
    }
   },
   "outputs": [],
   "source": [
    "from astropy.time import Time, TimeDelta\n",
    "import pandas as pd\n",
    "from lsst_efd_client import EfdClient\n",
    "from astropy.io import fits\n",
    "from astropy.visualization import ZScaleInterval\n",
    "import matplotlib.pyplot as plt\n",
    "import numpy as np \n",
    "from lsst.daf import butler as dafButler\n",
    "from lsst.pipe.tasks.quickFrameMeasurement import QuickFrameMeasurementTask\n",
    "from lsst.ts.wep.cwfs.Instrument import Instrument"
   ]
  },
  {
   "cell_type": "code",
   "execution_count": 23,
   "id": "ffa5e613-bcf6-403d-9380-45c0db2e1f1e",
   "metadata": {
    "execution": {
     "iopub.execute_input": "2023-03-16T22:45:05.787501Z",
     "iopub.status.busy": "2023-03-16T22:45:05.787154Z",
     "iopub.status.idle": "2023-03-16T22:45:06.922840Z",
     "shell.execute_reply": "2023-03-16T22:45:06.922321Z",
     "shell.execute_reply.started": "2023-03-16T22:45:05.787485Z"
    }
   },
   "outputs": [],
   "source": [
    "efd_client = EfdClient('usdf_efd')"
   ]
  },
  {
   "cell_type": "markdown",
   "id": "845788d4-bc77-4563-8988-4a290411b051",
   "metadata": {},
   "source": [
    "Get the beginning and end of observations to query for a smaller subset of EFD:"
   ]
  },
  {
   "cell_type": "code",
   "execution_count": 34,
   "id": "b99227ca-c6f4-4bac-a9f5-9b2f7e88e763",
   "metadata": {
    "execution": {
     "iopub.execute_input": "2023-03-16T22:47:40.672957Z",
     "iopub.status.busy": "2023-03-16T22:47:40.672398Z",
     "iopub.status.idle": "2023-03-16T22:47:41.929194Z",
     "shell.execute_reply": "2023-03-16T22:47:41.928671Z",
     "shell.execute_reply.started": "2023-03-16T22:47:40.672936Z"
    }
   },
   "outputs": [],
   "source": [
    "spans = []\n",
    "\n",
    "day_obs = '20230310'\n",
    "butler = dafButler.Butler('/sdf/data/rubin/repo/embargo/')\n",
    "datasetRefs = butler.registry.queryDatasets('raw',collections='LATISS/raw/all',\n",
    "                              where=f\"instrument='LATISS' AND exposure.day_obs = {day_obs}\").expanded()\n",
    "\n",
    "\n",
    "for i, ref in enumerate(datasetRefs):\n",
    "    record = ref.dataId.records[\"exposure\"]\n",
    "    exp = record.dataId['exposure']\n",
    "    spans.append(record.timespan)\n",
    "    \n",
    "t1= min(spans)\n",
    "t2 = max(spans)\n",
    "\n",
    "end_readout = await efd_client.select_time_series(\"lsst.sal.ATCamera.logevent_endReadout\", \n",
    "                                          '*', t1.begin.utc, t2.end.utc)\n"
   ]
  },
  {
   "cell_type": "markdown",
   "id": "e745d602-38f0-48a2-b705-00002bb821b6",
   "metadata": {
    "execution": {
     "iopub.execute_input": "2023-03-16T22:49:35.506514Z",
     "iopub.status.busy": "2023-03-16T22:49:35.505964Z",
     "iopub.status.idle": "2023-03-16T22:49:35.522539Z",
     "shell.execute_reply": "2023-03-16T22:49:35.522209Z",
     "shell.execute_reply.started": "2023-03-16T22:49:35.506498Z"
    }
   },
   "source": [
    "This contains all entries from that night.  Need to pull only what pertains to the CWFS doubles.\n",
    "\n",
    "The `end_readout` contains information about when the data was done reading. Print it for the exposures of interest: "
   ]
  },
  {
   "cell_type": "markdown",
   "id": "2e71ca8a-0dc5-4778-a7db-1114227610af",
   "metadata": {
    "execution": {
     "iopub.execute_input": "2023-03-16T23:19:18.816316Z",
     "iopub.status.busy": "2023-03-16T23:19:18.816103Z",
     "iopub.status.idle": "2023-03-16T23:19:18.830972Z",
     "shell.execute_reply": "2023-03-16T23:19:18.830615Z",
     "shell.execute_reply.started": "2023-03-16T23:19:18.816300Z"
    }
   },
   "source": [
    "Store only the exposure name, and the timestamp of the end readout: "
   ]
  },
  {
   "cell_type": "code",
   "execution_count": 120,
   "id": "e3a5b776-e36d-427c-9b14-bc0026ff8b6f",
   "metadata": {
    "execution": {
     "iopub.execute_input": "2023-03-16T23:23:52.958986Z",
     "iopub.status.busy": "2023-03-16T23:23:52.958754Z",
     "iopub.status.idle": "2023-03-16T23:23:52.964490Z",
     "shell.execute_reply": "2023-03-16T23:23:52.964092Z",
     "shell.execute_reply.started": "2023-03-16T23:23:52.958971Z"
    },
    "tags": []
   },
   "outputs": [],
   "source": [
    "m = (end_readout['imageNumber'] > 31) * (end_readout['imageNumber'] < 53)\n",
    "\n",
    "subset = end_readout[m]\n",
    "intra_images = []\n",
    "extra_images = []\n",
    "intra_times = []\n",
    "extra_times = []\n",
    "intra_exptimes = []\n",
    "extra_exptimes = []\n",
    "\n",
    "\n",
    "intra_programs = []\n",
    "extra_programs = []\n",
    "for i in range(len(subset)):\n",
    "    num = subset['imageNumber'][i]\n",
    "    values = subset['additionalValues'][i]\n",
    "    imageName = subset['imageName'][i]\n",
    "    time = subset.index[i] # time of end readout \n",
    "    timestamp = ''.join(values.split(':')[1:-6])\n",
    "    program = values.split(':')[-2]\n",
    "    \n",
    "    \n",
    "    if program.startswith('INTRA_AOS_SM_offset'):\n",
    "        intra_times.append(time)\n",
    "        intra_images.append(imageName)\n",
    "        intra_programs.append(program)\n",
    "    elif program.startswith('EXTRA_AOS_SM_offset'):\n",
    "        extra_times.append(time)\n",
    "        extra_images.append(imageName)\n",
    "        extra_programs.append(program)\n",
    "    #print(num, program, time, timestamp)\n",
    "    #print(end_readout[m].iloc[i][['imageNumber','additionalValues']])\n",
    "    \n"
   ]
  },
  {
   "cell_type": "markdown",
   "id": "33b732ed-3407-4b8d-8f5d-87b9bc1407e1",
   "metadata": {},
   "source": [
    "Now pull the requisite EFD information:"
   ]
  },
  {
   "cell_type": "code",
   "execution_count": 132,
   "id": "cbec4975-646a-4208-8ac8-813e42ad5538",
   "metadata": {
    "execution": {
     "iopub.execute_input": "2023-03-16T23:30:51.074316Z",
     "iopub.status.busy": "2023-03-16T23:30:51.074013Z",
     "iopub.status.idle": "2023-03-16T23:30:51.346309Z",
     "shell.execute_reply": "2023-03-16T23:30:51.345935Z",
     "shell.execute_reply.started": "2023-03-16T23:30:51.074298Z"
    },
    "tags": []
   },
   "outputs": [
    {
     "name": "stdout",
     "output_type": "stream",
     "text": [
      "\n",
      "\n",
      "t1= 2023-03-11 00:30:03.962897 \n",
      "t2= 2023-03-11 00:31:04.829711 INTRA_AOS_SM_offset_x_-2.0 EXTRA_AOS_SM_offset_x_-2.0 \n",
      "z= 2023-03-11 00:30:13.005943+00:00    0.828178\n",
      "2023-03-11 00:30:14.406828+00:00    0.828178\n",
      "2023-03-11 00:30:37.453930+00:00    0.790278\n",
      "2023-03-11 00:30:43.921756+00:00   -0.810822\n",
      "Name: z, dtype: float64\n",
      "\n",
      "\n",
      "t1= 2023-03-11 00:31:28.815401 \n",
      "t2= 2023-03-11 00:32:29.988605 INTRA_AOS_SM_offset_x_-1.5555555555555556 EXTRA_AOS_SM_offset_x_-1.5555555555555556 \n",
      "z= 2023-03-11 00:31:30.274166+00:00   -0.009722\n",
      "2023-03-11 00:31:40.681550+00:00    0.790278\n",
      "2023-03-11 00:32:02.193185+00:00    0.790278\n",
      "2023-03-11 00:32:03.208524+00:00    0.790278\n",
      "2023-03-11 00:32:08.964893+00:00   -0.810821\n",
      "2023-03-11 00:32:09.363572+00:00   -0.810821\n",
      "Name: z, dtype: float64\n",
      "\n",
      "\n",
      "t1= 2023-03-11 00:32:51.641787 \n",
      "t2= 2023-03-11 00:33:52.326142 INTRA_AOS_SM_offset_x_-1.1111111111111112 EXTRA_AOS_SM_offset_x_-1.1111111111111112 \n",
      "z= 2023-03-11 00:32:53.207539+00:00   -0.009721\n",
      "2023-03-11 00:33:03.698161+00:00    0.790279\n",
      "2023-03-11 00:33:25.150859+00:00    0.790279\n",
      "2023-03-11 00:33:26.257592+00:00    0.790279\n",
      "2023-03-11 00:33:31.303012+00:00   -0.810821\n",
      "2023-03-11 00:33:31.692115+00:00   -0.810821\n",
      "Name: z, dtype: float64\n",
      "\n",
      "\n",
      "t1= 2023-03-11 00:34:12.212708 \n",
      "t2= 2023-03-11 00:35:12.715471 INTRA_AOS_SM_offset_x_-0.6666666666666667 EXTRA_AOS_SM_offset_x_-0.6666666666666667 \n",
      "z= 2023-03-11 00:34:13.719236+00:00   -0.009721\n",
      "2023-03-11 00:34:24.306661+00:00    0.790279\n",
      "2023-03-11 00:34:45.659043+00:00    0.790279\n",
      "2023-03-11 00:34:46.666045+00:00    0.790279\n",
      "2023-03-11 00:34:51.713304+00:00   -0.810821\n",
      "Name: z, dtype: float64\n",
      "\n",
      "\n",
      "t1= 2023-03-11 00:35:29.708785 \n",
      "t2= 2023-03-11 00:36:30.108006 INTRA_AOS_SM_offset_x_-0.22222222222222232 EXTRA_AOS_SM_offset_x_-0.22222222222222232 \n",
      "z= 2023-03-11 00:35:32.227171+00:00   -0.009721\n",
      "2023-03-11 00:35:41.699414+00:00    0.790279\n",
      "2023-03-11 00:36:03.155758+00:00    0.790279\n",
      "2023-03-11 00:36:04.164792+00:00    0.790279\n",
      "2023-03-11 00:36:09.211344+00:00   -0.810821\n",
      "Name: z, dtype: float64\n",
      "\n",
      "\n",
      "t1= 2023-03-11 00:36:45.902278 \n",
      "t2= 2023-03-11 00:37:46.444655 INTRA_AOS_SM_offset_x_0.22222222222222232 EXTRA_AOS_SM_offset_x_0.22222222222222232 \n",
      "z= 2023-03-11 00:36:48.691748+00:00   -0.009721\n",
      "2023-03-11 00:36:57.961232+00:00    0.790279\n",
      "2023-03-11 00:37:19.409789+00:00    0.790279\n",
      "2023-03-11 00:37:20.417703+00:00    0.790279\n",
      "2023-03-11 00:37:25.464435+00:00   -0.810821\n",
      "Name: z, dtype: float64\n",
      "\n",
      "\n",
      "t1= 2023-03-11 00:38:02.869844 \n",
      "t2= 2023-03-11 00:39:03.440018 INTRA_AOS_SM_offset_x_0.6666666666666665 EXTRA_AOS_SM_offset_x_0.6666666666666665 \n",
      "z= 2023-03-11 00:38:04.675440+00:00   -0.009721\n",
      "2023-03-11 00:38:14.967698+00:00    0.790279\n",
      "2023-03-11 00:38:36.399182+00:00    0.790279\n",
      "2023-03-11 00:38:37.408428+00:00    0.790279\n",
      "2023-03-11 00:38:42.453338+00:00   -0.810821\n",
      "Name: z, dtype: float64\n",
      "\n",
      "\n",
      "t1= 2023-03-11 00:39:23.379666 \n",
      "t2= 2023-03-11 00:40:24.988453 INTRA_AOS_SM_offset_x_1.1111111111111107 EXTRA_AOS_SM_offset_x_1.1111111111111107 \n",
      "z= 2023-03-11 00:39:25.065869+00:00   -0.009721\n",
      "2023-03-11 00:39:35.461960+00:00    0.790279\n",
      "2023-03-11 00:39:56.490847+00:00    0.790279\n",
      "2023-03-11 00:39:57.927601+00:00    0.790279\n",
      "2023-03-11 00:40:03.979204+00:00   -0.810821\n",
      "2023-03-11 00:40:04.370201+00:00   -0.810821\n",
      "Name: z, dtype: float64\n",
      "\n",
      "\n",
      "t1= 2023-03-11 00:40:46.705975 \n",
      "t2= 2023-03-11 00:41:47.096961 INTRA_AOS_SM_offset_x_1.5555555555555554 EXTRA_AOS_SM_offset_x_1.5555555555555554 \n",
      "z= 2023-03-11 00:40:48.318867+00:00   -0.009721\n",
      "2023-03-11 00:40:58.691300+00:00    0.790279\n",
      "2023-03-11 00:41:19.941326+00:00    0.790279\n",
      "2023-03-11 00:41:20.947790+00:00    0.790279\n",
      "2023-03-11 00:41:26.192897+00:00   -0.810821\n",
      "Name: z, dtype: float64\n",
      "\n",
      "\n",
      "t1= 2023-03-11 00:42:11.120704 \n",
      "t2= 2023-03-11 00:43:11.783182 INTRA_AOS_SM_offset_x_2.0 EXTRA_AOS_SM_offset_x_2.0 \n",
      "z= 2023-03-11 00:42:12.740767+00:00   -0.009721\n",
      "2023-03-11 00:42:23.220464+00:00    0.790279\n",
      "2023-03-11 00:42:44.670282+00:00    0.790279\n",
      "2023-03-11 00:42:45.677904+00:00    0.790279\n",
      "2023-03-11 00:42:50.722869+00:00   -0.810821\n",
      "Name: z, dtype: float64\n"
     ]
    }
   ],
   "source": [
    "for i in range(len(intra_times)):\n",
    "    \n",
    "    t1 = Time(intra_times[i]) - TimeDelta(20, format='sec') \\\n",
    "         - TimeDelta(15., format='sec') # this is 15 sec before the beginning of exposure \n",
    "    exp_start = Time(intra_times[i]) - TimeDelta(20, format='sec')\n",
    "    exp_end = Time(intra_times[i])\n",
    "\n",
    "    t2 = Time(extra_times[i]) - TimeDelta(2., format='sec')\n",
    "    # this is 2 sec before the end of the extra-focal exposure \n",
    "    \n",
    "    hexapod_vals = await efd_client.select_time_series(\"lsst.sal.ATHexapod.positionStatus\", \n",
    "                    [\"reportedPosition0\", \"reportedPosition1\",\n",
    "                     \"reportedPosition2\", \"reportedPosition3\", \n",
    "                     \"reportedPosition4\", \"reportedPosition5\"], \n",
    "                                                       t1 , t2)\n",
    "\n",
    "    z = hexapod_vals['reportedPosition2']#.median()\n",
    "    \n",
    "    correction = await efd_client.select_time_series(\"lsst.sal.ATAOS.logevent_correctionOffsets\",\n",
    "                                                     [\"x\",\"y\",\"z\",\"u\",\"v\",\"w\"], t1,t2)\n",
    "    \n",
    "    print('\\n\\nt1=', t1, '\\nt2=', t2, intra_programs[i], \n",
    "          extra_programs[i],'\\nz=', correction['z'])\n"
   ]
  },
  {
   "cell_type": "markdown",
   "id": "7cc636ed-10cc-4d37-9191-56472deda130",
   "metadata": {
    "execution": {
     "iopub.execute_input": "2023-03-16T23:30:54.900835Z",
     "iopub.status.busy": "2023-03-16T23:30:54.900398Z",
     "iopub.status.idle": "2023-03-16T23:30:54.904891Z",
     "shell.execute_reply": "2023-03-16T23:30:54.904535Z",
     "shell.execute_reply.started": "2023-03-16T23:30:54.900818Z"
    }
   },
   "source": [
    "Now the problem is that these do not show anyhow the `2.0` offset that should be there  for hte last pair.. Where can I get it from?  "
   ]
  },
  {
   "cell_type": "code",
   "execution_count": null,
   "id": "0f9c82b3-e757-4bde-b5cc-c8a6b1642691",
   "metadata": {},
   "outputs": [],
   "source": []
  },
  {
   "cell_type": "code",
   "execution_count": null,
   "id": "76c9ac9c-aa53-4e21-9270-3d998390bc33",
   "metadata": {},
   "outputs": [],
   "source": []
  },
  {
   "cell_type": "code",
   "execution_count": null,
   "id": "3733a4e2-c31e-4868-9ce3-88cf53dd5459",
   "metadata": {},
   "outputs": [],
   "source": []
  },
  {
   "cell_type": "code",
   "execution_count": null,
   "id": "7a479feb-2580-4fff-8d72-53691bed23dc",
   "metadata": {},
   "outputs": [],
   "source": []
  },
  {
   "cell_type": "code",
   "execution_count": null,
   "id": "3dacc999-ca81-4ed0-8845-9016d39ed385",
   "metadata": {},
   "outputs": [],
   "source": []
  },
  {
   "cell_type": "markdown",
   "id": "043990da-ef45-4b67-b7cc-f6b2eafff244",
   "metadata": {
    "execution": {
     "iopub.execute_input": "2023-03-16T23:35:28.293547Z",
     "iopub.status.busy": "2023-03-16T23:35:28.293053Z",
     "iopub.status.idle": "2023-03-16T23:35:28.296421Z",
     "shell.execute_reply": "2023-03-16T23:35:28.295937Z",
     "shell.execute_reply.started": "2023-03-16T23:35:28.293528Z"
    }
   },
   "source": [
    "Get the Zernikes:"
   ]
  },
  {
   "cell_type": "code",
   "execution_count": 16,
   "id": "1297295f-794f-43a6-a182-9705de08a08e",
   "metadata": {
    "execution": {
     "iopub.execute_input": "2023-03-16T22:40:47.591443Z",
     "iopub.status.busy": "2023-03-16T22:40:47.591102Z",
     "iopub.status.idle": "2023-03-16T22:40:48.658840Z",
     "shell.execute_reply": "2023-03-16T22:40:48.658257Z",
     "shell.execute_reply.started": "2023-03-16T22:40:47.591427Z"
    },
    "tags": []
   },
   "outputs": [],
   "source": [
    "from lsst.daf import butler as dafButler\n",
    "butler = dafButler.Butler('/repo/embargo',  collections=['u/jmeyers3/ATMarch10'])"
   ]
  },
  {
   "cell_type": "code",
   "execution_count": 17,
   "id": "c0c64cb8-bb25-4dcb-bf45-cd597899b3ee",
   "metadata": {
    "execution": {
     "iopub.execute_input": "2023-03-16T22:40:52.361919Z",
     "iopub.status.busy": "2023-03-16T22:40:52.361701Z",
     "iopub.status.idle": "2023-03-16T22:40:52.405779Z",
     "shell.execute_reply": "2023-03-16T22:40:52.405315Z",
     "shell.execute_reply.started": "2023-03-16T22:40:52.361904Z"
    },
    "tags": []
   },
   "outputs": [],
   "source": [
    "dataIds = list(butler.registry.queryDataIds(['exposure', 'detector'], \n",
    "                                            collections='LATISS/raw/all', \n",
    "                                            datasets='raw', \n",
    "                                            instrument=\"LATISS\",\n",
    " where='(exposure.day_obs IN ( 20230310,20230311)) \\\n",
    " AND (exposure.seq_num > 22)\\\n",
    " AND (exposure.seq_num < 53)'\n",
    "                                           \n",
    "                                           ))\n"
   ]
  },
  {
   "cell_type": "code",
   "execution_count": 19,
   "id": "46195e35-9a88-4c4e-9967-e7a96711c1f1",
   "metadata": {
    "execution": {
     "iopub.execute_input": "2023-03-16T22:41:18.044968Z",
     "iopub.status.busy": "2023-03-16T22:41:18.044641Z",
     "iopub.status.idle": "2023-03-16T22:41:18.077455Z",
     "shell.execute_reply": "2023-03-16T22:41:18.076971Z",
     "shell.execute_reply.started": "2023-03-16T22:41:18.044952Z"
    },
    "tags": []
   },
   "outputs": [],
   "source": [
    "datasetRefs = butler.registry.queryDatasets('zernikeEstimateRaw',\n",
    "                              where=f\"instrument='LATISS'\").expanded()\n",
    "\n"
   ]
  },
  {
   "cell_type": "code",
   "execution_count": null,
   "id": "ce1bfd98-f733-4b7f-bf0e-12edd72849fe",
   "metadata": {},
   "outputs": [],
   "source": []
  }
 ],
 "metadata": {
  "kernelspec": {
   "display_name": "LSST",
   "language": "python",
   "name": "lsst"
  },
  "language_info": {
   "codemirror_mode": {
    "name": "ipython",
    "version": 3
   },
   "file_extension": ".py",
   "mimetype": "text/x-python",
   "name": "python",
   "nbconvert_exporter": "python",
   "pygments_lexer": "ipython3",
   "version": "3.10.9"
  }
 },
 "nbformat": 4,
 "nbformat_minor": 5
}
