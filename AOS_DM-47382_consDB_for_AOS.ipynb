{
 "cells": [
  {
   "cell_type": "markdown",
   "id": "3828e05c-eef7-4dec-9f60-04b480b498fd",
   "metadata": {},
   "source": [
    "# DM-47382: AOS analysis with available databases \n"
   ]
  },
  {
   "cell_type": "markdown",
   "id": "75a636ed-a5fe-44fe-af6c-9c899d7b4178",
   "metadata": {},
   "source": [
    "## Versions:\n",
    "\n",
    "**lsst_distrib** w_2024_43 \n",
    "\n",
    "Last run: 2024-11-04\n",
    "\n",
    "## Setup:\n",
    "\n",
    "This notebook was run on https://usdf-rsp.slac.stanford.edu/ .  The only necessary step required to access `consDB` is to remove the `HTTP_PROXY` environmental variable if present, with eg. `del os.environ[\"http_proxy\"]`.\n",
    "\n",
    "The Engineering Facilities Database, or EFD, contains fine-grained telemetry from a variety of sensors and instruments, such as \n",
    "force balance offsets (hardpoint correction), applied forces (sum of all above + AOS closed-loop corrections). For example [this movie](https://rubin-obs.slack.com/archives/C07QM715AJY/p1718056301907499) was prepared with the EFD data by C. Lage. \n",
    "\n",
    "\n",
    "ConsDB generally contains exposure-level  aggregate information, i.e. either information already present in the header of each exposure,  or  in the \"Transformed EFD\" portion of the ConsDB,  the aggregate  of the time-series EFD data over the exposure time window with the [\"EFD Transformation service\".](https://rubin-obs.slack.com/archives/C07QJMQ7L4A/p1716317310421029?thread_ts=1716315549.132149&cid=C07QJMQ7L4A)  "
   ]
  },
  {
   "cell_type": "code",
   "execution_count": 95,
   "id": "836a6226-fa60-4fd3-97a0-880ecfa5067a",
   "metadata": {
    "execution": {
     "iopub.execute_input": "2024-11-05T22:35:53.410854Z",
     "iopub.status.busy": "2024-11-05T22:35:53.410472Z",
     "iopub.status.idle": "2024-11-05T22:35:53.413729Z",
     "shell.execute_reply": "2024-11-05T22:35:53.413334Z",
     "shell.execute_reply.started": "2024-11-05T22:35:53.410836Z"
    }
   },
   "outputs": [],
   "source": [
    "from astropy.time import Time, TimeDelta\n",
    "import pandas as pd\n",
    "from lsst.summit.utils.efdUtils import getEfdData, makeEfdClient\n",
    "from lsst.daf import butler as dafButler\n",
    "import lsst.summit.utils.butlerUtils as butlerUtils\n",
    "from lsst.summit.utils import ConsDbClient\n",
    "from lsst.summit.utils.utils import computeCcdExposureId"
   ]
  },
  {
   "cell_type": "markdown",
   "id": "45f4bf68-a960-4bd4-b946-7723dc709b7c",
   "metadata": {},
   "source": [
    "## Resources on consDB \n",
    "\n",
    "* A grafana page with up-to-date [consDB status](https://grafana.slac.stanford.edu/d/z7FCA4Nnk/cloud-native-postgresql-cnpg?orgId=1&refresh=30s&var-DataSource=940RXge4k&var-vcluster=vcluster--usdf-summitdb&var-cluster=summit-db-replica&var-instances=All&var-namespace=summit-db-replica&var-resolution=5m&from=now-24h&to=now)\n",
    "\n",
    "* Confluence page with documentation on [consDB access](https://rubinobs.atlassian.net/wiki/spaces/~ktl/pages/55377993/ConsDB+Usage) \n",
    "\n",
    "* [Schema browser](https://sdm-schemas.lsst.io/) \n",
    "\n",
    "* Tech-note on the [background for consDB](https://dmtn-227.lsst.io/) \n",
    "\n",
    "* [ConsDB transformed EFD topics](https://rubinobs.atlassian.net/wiki/spaces/DM/pages/48836130/Consolidated+Database+Transformed+EFD+Topics)\n",
    "\n"
   ]
  },
  {
   "cell_type": "markdown",
   "id": "e91e05ba-6e27-4ba9-980b-d5a3d3660213",
   "metadata": {},
   "source": [
    "## Connecting to consolidated database (consDB)"
   ]
  },
  {
   "cell_type": "code",
   "execution_count": 96,
   "id": "c26d6117-5a05-4827-8389-70f9f0c0c556",
   "metadata": {
    "execution": {
     "iopub.execute_input": "2024-11-05T22:35:56.527940Z",
     "iopub.status.busy": "2024-11-05T22:35:56.527550Z",
     "iopub.status.idle": "2024-11-05T22:35:56.530320Z",
     "shell.execute_reply": "2024-11-05T22:35:56.529911Z",
     "shell.execute_reply.started": "2024-11-05T22:35:56.527920Z"
    }
   },
   "outputs": [],
   "source": [
    "import os \n",
    "del os.environ[\"http_proxy\"]"
   ]
  },
  {
   "cell_type": "code",
   "execution_count": 97,
   "id": "5626b04e-4ae0-4977-bdcd-0ada98c12e36",
   "metadata": {
    "execution": {
     "iopub.execute_input": "2024-11-05T22:35:57.045807Z",
     "iopub.status.busy": "2024-11-05T22:35:57.045474Z",
     "iopub.status.idle": "2024-11-05T22:35:57.052664Z",
     "shell.execute_reply": "2024-11-05T22:35:57.052290Z",
     "shell.execute_reply.started": "2024-11-05T22:35:57.045793Z"
    }
   },
   "outputs": [
    {
     "name": "stdout",
     "output_type": "stream",
     "text": [
      "schemas:\n",
      " ['latiss', 'lsstcam', 'lsstcamsim', 'lsstcomcam', 'lsstcomcamsim']\n"
     ]
    }
   ],
   "source": [
    "client = ConsDbClient('http://consdb-pq.consdb:8080/consdb')\n",
    "print(f'schemas:\\n', client.schema())"
   ]
  },
  {
   "cell_type": "code",
   "execution_count": 98,
   "id": "924b56f5-f90c-4de3-bf2b-bd5b9696c4c6",
   "metadata": {
    "execution": {
     "iopub.execute_input": "2024-11-05T22:36:02.876480Z",
     "iopub.status.busy": "2024-11-05T22:36:02.876126Z",
     "iopub.status.idle": "2024-11-05T22:36:02.886162Z",
     "shell.execute_reply": "2024-11-05T22:36:02.885775Z",
     "shell.execute_reply.started": "2024-11-05T22:36:02.876463Z"
    }
   },
   "outputs": [
    {
     "name": "stdout",
     "output_type": "stream",
     "text": [
      "['latiss', 'lsstcam', 'lsstcamsim', 'lsstcomcam', 'lsstcomcamsim']\n",
      "['cdb_lsstcomcam.exposure', 'cdb_lsstcomcam.ccdexposure', 'cdb_lsstcomcam.ccdvisit1_quicklook', 'cdb_lsstcomcam.ccdexposure_flexdata', 'cdb_lsstcomcam.ccdexposure_flexdata_schema', 'cdb_lsstcomcam.ccdexposure_camera', 'cdb_lsstcomcam.exposure_flexdata', 'cdb_lsstcomcam.exposure_flexdata_schema', 'cdb_lsstcomcam.visit1_quicklook']\n"
     ]
    }
   ],
   "source": [
    "client = ConsDbClient('http://consdb-pq.consdb:8080/consdb')\n",
    "print(client.schema())  # list the instruments\n",
    "print(client.schema('lsstcomcam'))  # list tables for an instrument"
   ]
  },
  {
   "cell_type": "code",
   "execution_count": 99,
   "id": "f3f35cdd-531e-4f22-b9ae-6630f37b1fa1",
   "metadata": {
    "execution": {
     "iopub.execute_input": "2024-11-05T22:36:07.478621Z",
     "iopub.status.busy": "2024-11-05T22:36:07.478273Z",
     "iopub.status.idle": "2024-11-05T22:36:07.484559Z",
     "shell.execute_reply": "2024-11-05T22:36:07.484116Z",
     "shell.execute_reply.started": "2024-11-05T22:36:07.478605Z"
    }
   },
   "outputs": [
    {
     "name": "stdout",
     "output_type": "stream",
     "text": [
      "{'ccdexposure_id': ('BIGINT', 'None'), 'temp_set': ('DOUBLE PRECISION', 'None'), 'ccd_temp': ('DOUBLE PRECISION', 'None')}\n"
     ]
    }
   ],
   "source": [
    "print(client.schema('lsstcomcam', 'cdb_lsstcomcam.ccdexposure_camera'))"
   ]
  },
  {
   "cell_type": "code",
   "execution_count": 100,
   "id": "102e0306-56a5-4757-83ca-aa2fd9a7f1c8",
   "metadata": {
    "execution": {
     "iopub.execute_input": "2024-11-05T22:36:07.915433Z",
     "iopub.status.busy": "2024-11-05T22:36:07.915153Z",
     "iopub.status.idle": "2024-11-05T22:36:07.921508Z",
     "shell.execute_reply": "2024-11-05T22:36:07.921128Z",
     "shell.execute_reply.started": "2024-11-05T22:36:07.915420Z"
    }
   },
   "outputs": [
    {
     "name": "stdout",
     "output_type": "stream",
     "text": [
      "columns (table=exposure): exposure \n",
      " ['exposure_id', 'exposure_name', 'controller', 'day_obs', 'seq_num', 'physical_filter', 'band', 's_ra', 's_dec', 'sky_rotation', 'azimuth_start', 'azimuth_end', 'azimuth', 'altitude_start', 'altitude_end', 'altitude', 'zenith_distance_start', 'zenith_distance_end', 'zenith_distance', 'airmass', 'exp_midpt', 'exp_midpt_mjd', 'obs_start', 'obs_start_mjd', 'obs_end', 'obs_end_mjd', 'exp_time', 'shut_time', 'dark_time', 'group_id', 'cur_index', 'max_index', 'img_type', 'emulated', 'science_program', 'observation_reason', 'target_name', 'air_temp', 'pressure', 'humidity', 'wind_speed', 'wind_dir', 'dimm_seeing', 'focus_z', 'simulated', 's_region', 'vignette', 'vignette_min']\n"
     ]
    }
   ],
   "source": [
    "schema = 'lsstcomcam'\n",
    "table = 'exposure'\n",
    "print(f'columns (table={table}): {table} \\n',\n",
    "      list(client.schema('lsstcomcam', f'cdb_{schema}.{table}').keys()\n",
    "          )\n",
    "      )"
   ]
  },
  {
   "cell_type": "code",
   "execution_count": 101,
   "id": "b14c1904-d654-4075-95d4-cd6b287ab6e1",
   "metadata": {
    "execution": {
     "iopub.execute_input": "2024-11-05T22:36:11.369082Z",
     "iopub.status.busy": "2024-11-05T22:36:11.368578Z",
     "iopub.status.idle": "2024-11-05T22:36:11.381799Z",
     "shell.execute_reply": "2024-11-05T22:36:11.381406Z",
     "shell.execute_reply.started": "2024-11-05T22:36:11.369066Z"
    }
   },
   "outputs": [
    {
     "name": "stdout",
     "output_type": "stream",
     "text": [
      "schemas:\n",
      " ['latiss', 'lsstcam', 'lsstcamsim', 'lsstcomcam', 'lsstcomcamsim']\n",
      "tables (schema=lsstcomcam):\n",
      " ['cdb_lsstcomcam.exposure', 'cdb_lsstcomcam.ccdexposure', 'cdb_lsstcomcam.ccdvisit1_quicklook', 'cdb_lsstcomcam.ccdexposure_flexdata', 'cdb_lsstcomcam.ccdexposure_flexdata_schema', 'cdb_lsstcomcam.ccdexposure_camera', 'cdb_lsstcomcam.exposure_flexdata', 'cdb_lsstcomcam.exposure_flexdata_schema', 'cdb_lsstcomcam.visit1_quicklook']\n",
      "columns (table=ccdvisit1_quicklook): ccdvisit1_quicklook\n",
      " ['ccdvisit_id', 's_ra', 's_dec', 'zenith_distance', 'photometric_calib', 'psf_sigma', 'sky_bg', 'sky_noise', 'zero_point', 'seeing_zenith_500nm', 'astrom_offset_mean', 'astrom_offset_std', 'eff_time', 'eff_time_psf_sigma_scale', 'eff_time_sky_bg_scale', 'eff_time_zero_point_scale', 'mean_var', 'n_psf_star', 'psf_area', 'psf_ixx', 'psf_ixy', 'psf_iyy', 'psf_star_delta_e1_median', 'psf_star_delta_e2_median', 'psf_star_delta_e1_scatter', 'psf_star_delta_e2_scatter', 'psf_star_delta_size_median', 'psf_star_delta_size_scatter', 'psf_star_scaled_delta_size_scatter', 'psf_trace_radius_delta', 'max_dist_to_nearest_psf', 'postisr_pixel_median']\n"
     ]
    }
   ],
   "source": [
    "# https://rubin-obs.slack.com/archives/C07QJMQ7L4A/p1730392968242269?thread_ts=1730385376.310139&cid=C07QJMQ7L4A\n",
    "# For investigating schema and table content \n",
    "client = ConsDbClient('http://consdb-pq.consdb:8080/consdb')\n",
    "schema = 'lsstcomcam'\n",
    "table = 'ccdvisit1_quicklook'\n",
    "print(f'schemas:\\n', client.schema())  # list the instruments\n",
    "print(f'tables (schema={schema}):\\n', client.schema(schema))  # list tables for an instrument\n",
    "print(f'columns (table={table}): {table}\\n', list(client.schema('lsstcomcam', f'cdb_{schema}.{table}').keys()))"
   ]
  },
  {
   "cell_type": "code",
   "execution_count": 102,
   "id": "fdc46054-c858-4a07-b31f-ebb630221608",
   "metadata": {
    "execution": {
     "iopub.execute_input": "2024-11-05T22:36:13.453637Z",
     "iopub.status.busy": "2024-11-05T22:36:13.453299Z",
     "iopub.status.idle": "2024-11-05T22:36:13.479381Z",
     "shell.execute_reply": "2024-11-05T22:36:13.479089Z",
     "shell.execute_reply.started": "2024-11-05T22:36:13.453623Z"
    }
   },
   "outputs": [
    {
     "data": {
      "text/html": [
       "<div><i>Table length=5</i>\n",
       "<table id=\"table140092160399376\" class=\"table-striped table-bordered table-condensed\">\n",
       "<thead><tr><th>visit_id</th><th>band</th><th>psf_sigma_median</th><th>sky_bg_median</th><th>zero_point_median</th></tr></thead>\n",
       "<thead><tr><th>int64</th><th>str1</th><th>float64</th><th>float64</th><th>object</th></tr></thead>\n",
       "<tr><td>2024102500091</td><td>r</td><td>4.391088008880615</td><td>1098.607177734375</td><td>None</td></tr>\n",
       "<tr><td>2024102500075</td><td>r</td><td>4.7036871910095215</td><td>380.6881103515625</td><td>None</td></tr>\n",
       "<tr><td>2024102500052</td><td>r</td><td>4.916060447692871</td><td>425.03375244140625</td><td>None</td></tr>\n",
       "<tr><td>2024102500106</td><td>r</td><td>3.8994481563568115</td><td>371.5401306152344</td><td>None</td></tr>\n",
       "<tr><td>2024102500051</td><td>r</td><td>4.642016887664795</td><td>424.9696350097656</td><td>None</td></tr>\n",
       "</table></div>"
      ],
      "text/plain": [
       "<Table length=5>\n",
       "   visit_id   band  psf_sigma_median    sky_bg_median    zero_point_median\n",
       "    int64     str1      float64            float64             object     \n",
       "------------- ---- ------------------ ------------------ -----------------\n",
       "2024102500091    r  4.391088008880615  1098.607177734375              None\n",
       "2024102500075    r 4.7036871910095215  380.6881103515625              None\n",
       "2024102500052    r  4.916060447692871 425.03375244140625              None\n",
       "2024102500106    r 3.8994481563568115  371.5401306152344              None\n",
       "2024102500051    r  4.642016887664795  424.9696350097656              None"
      ]
     },
     "execution_count": 102,
     "metadata": {},
     "output_type": "execute_result"
    }
   ],
   "source": [
    "day_obs = 20241025\n",
    "query = f\"\"\"\n",
    "SELECT e.band, e.exp_time, q.* \n",
    "from cdb_lsstcomcam.visit1_quicklook q, cdb_lsstcomcam.exposure e\n",
    "where q.visit_id = e.exposure_id\n",
    "and e.day_obs = {day_obs}\n",
    "--order by e.seq_num desc\n",
    "\"\"\"\n",
    "df = client.query(query)\n",
    "#df.columns\n",
    "#df[['visit_id', 'eff_time_median', 'eff_time_sky_bg_scale_median', 'eff_time_psf_sigma_scale_median', 'eff_time_zero_point_scale_median']]\n",
    "df[['visit_id', 'band', 'psf_sigma_median', 'sky_bg_median', 'zero_point_median']][:5]"
   ]
  },
  {
   "cell_type": "code",
   "execution_count": 104,
   "id": "d96bc88c-270f-4273-96d0-8122a71897f7",
   "metadata": {
    "execution": {
     "iopub.execute_input": "2024-11-05T22:36:21.822506Z",
     "iopub.status.busy": "2024-11-05T22:36:21.822137Z",
     "iopub.status.idle": "2024-11-05T22:36:21.852769Z",
     "shell.execute_reply": "2024-11-05T22:36:21.852453Z",
     "shell.execute_reply.started": "2024-11-05T22:36:21.822491Z"
    }
   },
   "outputs": [
    {
     "data": {
      "text/html": [
       "<div><i>Table length=5</i>\n",
       "<table id=\"table140092263470608\" class=\"table-striped table-bordered table-condensed\">\n",
       "<thead><tr><th>band</th><th>exp_time</th><th>visit_id</th><th>n_inputs</th><th>astrom_offset_mean_min</th><th>astrom_offset_mean_max</th><th>astrom_offset_mean_median</th><th>astrom_offset_std_min</th><th>astrom_offset_std_max</th><th>astrom_offset_std_median</th><th>eff_time_min</th><th>eff_time_max</th><th>eff_time_median</th><th>eff_time_psf_sigma_scale_min</th><th>eff_time_psf_sigma_scale_max</th><th>eff_time_psf_sigma_scale_median</th><th>eff_time_sky_bg_scale_min</th><th>eff_time_sky_bg_scale_max</th><th>eff_time_sky_bg_scale_median</th><th>eff_time_zero_point_scale_min</th><th>eff_time_zero_point_scale_max</th><th>eff_time_zero_point_scale_median</th><th>max_dist_to_nearest_psf_min</th><th>max_dist_to_nearest_psf_max</th><th>max_dist_to_nearest_psf_median</th><th>mean_var_min</th><th>mean_var_max</th><th>mean_var_median</th><th>n_psf_star_min</th><th>n_psf_star_max</th><th>n_psf_star_median</th><th>n_psf_star_total</th><th>psf_area_min</th><th>psf_area_max</th><th>psf_area_median</th><th>psf_ixx_min</th><th>psf_ixx_max</th><th>psf_ixx_median</th><th>psf_ixy_min</th><th>psf_ixy_max</th><th>psf_ixy_median</th><th>psf_iyy_min</th><th>psf_iyy_max</th><th>psf_iyy_median</th><th>psf_sigma_min</th><th>psf_sigma_max</th><th>psf_sigma_median</th><th>psf_star_delta_e1_median_min</th><th>psf_star_delta_e1_median_max</th><th>psf_star_delta_e1_median_median</th><th>psf_star_delta_e1_scatter_min</th><th>psf_star_delta_e1_scatter_max</th><th>psf_star_delta_e1_scatter_median</th><th>psf_star_delta_e2_median_min</th><th>psf_star_delta_e2_median_max</th><th>psf_star_delta_e2_median_median</th><th>psf_star_delta_e2_scatter_min</th><th>psf_star_delta_e2_scatter_max</th><th>psf_star_delta_e2_scatter_median</th><th>psf_star_delta_size_median_min</th><th>psf_star_delta_size_median_max</th><th>psf_star_delta_size_median_median</th><th>psf_star_delta_size_scatter_min</th><th>psf_star_delta_size_scatter_max</th><th>psf_star_delta_size_scatter_median</th><th>psf_star_scaled_delta_size_scatter_min</th><th>psf_star_scaled_delta_size_scatter_max</th><th>psf_star_scaled_delta_size_scatter_median</th><th>psf_trace_radius_delta_min</th><th>psf_trace_radius_delta_max</th><th>psf_trace_radius_delta_median</th><th>sky_bg_min</th><th>sky_bg_max</th><th>sky_bg_median</th><th>sky_noise_min</th><th>sky_noise_max</th><th>sky_noise_median</th><th>seeing_zenith_500nm_min</th><th>seeing_zenith_500nm_max</th><th>seeing_zenith_500nm_median</th><th>zero_point_min</th><th>zero_point_max</th><th>zero_point_median</th><th>low_snr_source_count_min</th><th>low_snr_source_count_max</th><th>low_snr_source_count_median</th><th>low_snr_source_count_total</th><th>high_snr_source_count_min</th><th>high_snr_source_count_max</th><th>high_snr_source_count_median</th><th>high_snr_source_count_total</th><th>day_obs</th><th>seq_num</th><th>postisr_pixel_median_median</th><th>postisr_pixel_median_mean</th><th>postisr_pixel_median_max</th></tr></thead>\n",
       "<thead><tr><th>str1</th><th>float64</th><th>int64</th><th>int64</th><th>object</th><th>object</th><th>object</th><th>object</th><th>object</th><th>object</th><th>object</th><th>object</th><th>object</th><th>float64</th><th>float64</th><th>float64</th><th>float64</th><th>float64</th><th>float64</th><th>object</th><th>object</th><th>object</th><th>object</th><th>object</th><th>object</th><th>float64</th><th>float64</th><th>float64</th><th>int64</th><th>int64</th><th>int64</th><th>int64</th><th>float64</th><th>float64</th><th>float64</th><th>float64</th><th>float64</th><th>float64</th><th>float64</th><th>float64</th><th>float64</th><th>float64</th><th>float64</th><th>float64</th><th>float64</th><th>float64</th><th>float64</th><th>object</th><th>object</th><th>object</th><th>object</th><th>object</th><th>object</th><th>object</th><th>object</th><th>object</th><th>object</th><th>object</th><th>object</th><th>object</th><th>object</th><th>object</th><th>object</th><th>object</th><th>object</th><th>object</th><th>object</th><th>object</th><th>float64</th><th>float64</th><th>float64</th><th>float64</th><th>float64</th><th>float64</th><th>float64</th><th>float64</th><th>float64</th><th>object</th><th>object</th><th>object</th><th>object</th><th>object</th><th>object</th><th>object</th><th>object</th><th>object</th><th>object</th><th>object</th><th>object</th><th>object</th><th>object</th><th>int64</th><th>int64</th><th>object</th><th>object</th><th>object</th></tr></thead>\n",
       "<tr><td>r</td><td>30.0</td><td>2024102500091</td><td>5</td><td>0.07293230295181274</td><td>0.07293230295181274</td><td>0.07293230295181274</td><td>0.034995079040527344</td><td>0.034995079040527344</td><td>0.034995079040527344</td><td>None</td><td>None</td><td>None</td><td>0.051862768828868866</td><td>0.051862768828868866</td><td>0.051862768828868866</td><td>0.027307303622364998</td><td>0.027307303622364998</td><td>0.027307303622364998</td><td>None</td><td>None</td><td>None</td><td>1214.4112548828125</td><td>1214.4112548828125</td><td>1214.4112548828125</td><td>1205.3809814453125</td><td>1205.3809814453125</td><td>1205.3809814453125</td><td>36</td><td>36</td><td>36</td><td>180</td><td>250.20120239257812</td><td>250.20120239257812</td><td>250.20120239257812</td><td>14.73707103729248</td><td>14.73707103729248</td><td>14.73707103729248</td><td>10.457147598266602</td><td>10.457147598266602</td><td>10.457147598266602</td><td>32.73714828491211</td><td>32.73714828491211</td><td>32.73714828491211</td><td>4.391088008880615</td><td>4.391088008880615</td><td>4.391088008880615</td><td>-0.010904110968112946</td><td>-0.010904110968112946</td><td>-0.010904110968112946</td><td>0.010829177685081959</td><td>0.010829177685081959</td><td>0.010829177685081959</td><td>0.009272882714867592</td><td>0.009272882714867592</td><td>0.009272882714867592</td><td>0.009091529063880444</td><td>0.009091529063880444</td><td>0.009091529063880444</td><td>0.08107155561447144</td><td>0.08107155561447144</td><td>0.08107155561447144</td><td>0.040845680981874466</td><td>0.040845680981874466</td><td>0.040845680981874466</td><td>0.008421012200415134</td><td>0.008421012200415134</td><td>0.008421012200415134</td><td>0.43337351083755493</td><td>0.43337351083755493</td><td>0.43337351083755493</td><td>1098.607177734375</td><td>1098.607177734375</td><td>1098.607177734375</td><td>35.72515106201172</td><td>35.72515106201172</td><td>35.72515106201172</td><td>None</td><td>None</td><td>None</td><td>None</td><td>None</td><td>None</td><td>None</td><td>None</td><td>None</td><td>None</td><td>None</td><td>None</td><td>None</td><td>None</td><td>20241025</td><td>91</td><td>None</td><td>None</td><td>None</td></tr>\n",
       "<tr><td>r</td><td>10.0</td><td>2024102500075</td><td>7</td><td>0.07662791758775711</td><td>0.07662791758775711</td><td>0.07662791758775711</td><td>0.040548305958509445</td><td>0.040548305958509445</td><td>0.040548305958509445</td><td>None</td><td>None</td><td>None</td><td>0.045198410749435425</td><td>0.045198410749435425</td><td>0.045198410749435425</td><td>0.02626822330057621</td><td>0.02626822330057621</td><td>0.02626822330057621</td><td>None</td><td>None</td><td>None</td><td>1406.113525390625</td><td>1406.113525390625</td><td>1406.113525390625</td><td>511.6637878417969</td><td>511.6637878417969</td><td>511.6637878417969</td><td>34</td><td>34</td><td>34</td><td>254</td><td>265.7972412109375</td><td>265.7972412109375</td><td>265.7972412109375</td><td>12.619723320007324</td><td>12.619723320007324</td><td>12.619723320007324</td><td>-4.164997100830078</td><td>-4.164997100830078</td><td>-4.164997100830078</td><td>40.61283493041992</td><td>40.61283493041992</td><td>40.61283493041992</td><td>4.7036871910095215</td><td>4.7036871910095215</td><td>4.7036871910095215</td><td>-0.020357144996523857</td><td>-0.020357144996523857</td><td>-0.020357144996523857</td><td>0.008644367568194866</td><td>0.008644367568194866</td><td>0.008644367568194866</td><td>0.004605524707585573</td><td>0.004605524707585573</td><td>0.004605524707585573</td><td>0.013811335898935795</td><td>0.013811335898935795</td><td>0.013811335898935795</td><td>0.21535217761993408</td><td>0.21535217761993408</td><td>0.21535217761993408</td><td>0.06582382321357727</td><td>0.06582382321357727</td><td>0.06582382321357727</td><td>0.012227728962898254</td><td>0.012227728962898254</td><td>0.012227728962898254</td><td>0.4186176061630249</td><td>0.4186176061630249</td><td>0.4186176061630249</td><td>380.6881103515625</td><td>380.6881103515625</td><td>380.6881103515625</td><td>23.074954986572266</td><td>23.074954986572266</td><td>23.074954986572266</td><td>None</td><td>None</td><td>None</td><td>None</td><td>None</td><td>None</td><td>None</td><td>None</td><td>None</td><td>None</td><td>None</td><td>None</td><td>None</td><td>None</td><td>20241025</td><td>75</td><td>None</td><td>None</td><td>None</td></tr>\n",
       "<tr><td>r</td><td>10.0</td><td>2024102500052</td><td>3</td><td>0.05339190363883972</td><td>0.05339190363883972</td><td>0.05339190363883972</td><td>0.027841852977871895</td><td>0.027841852977871895</td><td>0.027841852977871895</td><td>None</td><td>None</td><td>None</td><td>0.04137762635946274</td><td>0.04137762635946274</td><td>0.04137762635946274</td><td>0.023527543991804123</td><td>0.023527543991804123</td><td>0.023527543991804123</td><td>None</td><td>None</td><td>None</td><td>1014.5404052734375</td><td>1014.5404052734375</td><td>1014.5404052734375</td><td>494.7081298828125</td><td>494.7081298828125</td><td>494.7081298828125</td><td>54</td><td>54</td><td>54</td><td>165</td><td>272.7590026855469</td><td>272.7590026855469</td><td>272.7590026855469</td><td>15.656216621398926</td><td>15.656216621398926</td><td>15.656216621398926</td><td>6.9072265625</td><td>6.9072265625</td><td>6.9072265625</td><td>40.3536262512207</td><td>40.3536262512207</td><td>40.3536262512207</td><td>4.916060447692871</td><td>4.916060447692871</td><td>4.916060447692871</td><td>-0.022846601903438568</td><td>-0.022846601903438568</td><td>-0.022846601903438568</td><td>0.012493427842855453</td><td>0.012493427842855453</td><td>0.012493427842855453</td><td>0.001143752713687718</td><td>0.001143752713687718</td><td>0.001143752713687718</td><td>0.013539842329919338</td><td>0.013539842329919338</td><td>0.013539842329919338</td><td>0.2089039385318756</td><td>0.2089039385318756</td><td>0.2089039385318756</td><td>0.069119893014431</td><td>0.069119893014431</td><td>0.069119893014431</td><td>0.01181202195584774</td><td>0.01181202195584774</td><td>0.01181202195584774</td><td>0.6983792781829834</td><td>0.6983792781829834</td><td>0.6983792781829834</td><td>425.03375244140625</td><td>425.03375244140625</td><td>425.03375244140625</td><td>22.481689453125</td><td>22.481689453125</td><td>22.481689453125</td><td>None</td><td>None</td><td>None</td><td>None</td><td>None</td><td>None</td><td>None</td><td>None</td><td>None</td><td>None</td><td>None</td><td>None</td><td>None</td><td>None</td><td>20241025</td><td>52</td><td>None</td><td>None</td><td>None</td></tr>\n",
       "<tr><td>r</td><td>10.0</td><td>2024102500106</td><td>5</td><td>0.07015027105808258</td><td>0.07015027105808258</td><td>0.07015027105808258</td><td>0.03442605584859848</td><td>0.03442605584859848</td><td>0.03442605584859848</td><td>None</td><td>None</td><td>None</td><td>0.06576482951641083</td><td>0.06576482951641083</td><td>0.06576482951641083</td><td>0.026914991438388824</td><td>0.026914991438388824</td><td>0.026914991438388824</td><td>None</td><td>None</td><td>None</td><td>1335.103515625</td><td>1335.103515625</td><td>1335.103515625</td><td>487.3622741699219</td><td>487.3622741699219</td><td>487.3622741699219</td><td>41</td><td>41</td><td>41</td><td>193</td><td>199.58087158203125</td><td>199.58087158203125</td><td>199.58087158203125</td><td>13.947314262390137</td><td>13.947314262390137</td><td>13.947314262390137</td><td>2.3086841106414795</td><td>2.3086841106414795</td><td>2.3086841106414795</td><td>16.848979949951172</td><td>16.848979949951172</td><td>16.848979949951172</td><td>3.8994481563568115</td><td>3.8994481563568115</td><td>3.8994481563568115</td><td>-0.0009868835331872106</td><td>-0.0009868835331872106</td><td>-0.0009868835331872106</td><td>0.01203808281570673</td><td>0.01203808281570673</td><td>0.01203808281570673</td><td>0.0013436665758490562</td><td>0.0013436665758490562</td><td>0.0013436665758490562</td><td>0.013409237377345562</td><td>0.013409237377345562</td><td>0.013409237377345562</td><td>-0.008487471379339695</td><td>-0.008487471379339695</td><td>-0.008487471379339695</td><td>0.025468086823821068</td><td>0.025468086823821068</td><td>0.025468086823821068</td><td>0.006143205799162388</td><td>0.006143205799162388</td><td>0.006143205799162388</td><td>0.25182053446769714</td><td>0.25182053446769714</td><td>0.25182053446769714</td><td>371.5401306152344</td><td>371.5401306152344</td><td>371.5401306152344</td><td>22.53022003173828</td><td>22.53022003173828</td><td>22.53022003173828</td><td>None</td><td>None</td><td>None</td><td>None</td><td>None</td><td>None</td><td>None</td><td>None</td><td>None</td><td>None</td><td>None</td><td>None</td><td>None</td><td>None</td><td>20241025</td><td>106</td><td>None</td><td>None</td><td>None</td></tr>\n",
       "<tr><td>r</td><td>10.0</td><td>2024102500051</td><td>3</td><td>0.05266595631837845</td><td>0.05266595631837845</td><td>0.05266595631837845</td><td>0.025386307388544083</td><td>0.025386307388544083</td><td>0.025386307388544083</td><td>None</td><td>None</td><td>None</td><td>0.04640733078122139</td><td>0.04640733078122139</td><td>0.04640733078122139</td><td>0.023531094193458557</td><td>0.023531094193458557</td><td>0.023531094193458557</td><td>None</td><td>None</td><td>None</td><td>866.9575805664062</td><td>866.9575805664062</td><td>866.9575805664062</td><td>493.73486328125</td><td>493.73486328125</td><td>493.73486328125</td><td>69</td><td>69</td><td>69</td><td>199</td><td>256.75616455078125</td><td>256.75616455078125</td><td>256.75616455078125</td><td>15.490559577941895</td><td>15.490559577941895</td><td>15.490559577941895</td><td>4.856367111206055</td><td>4.856367111206055</td><td>4.856367111206055</td><td>31.497533798217773</td><td>31.497533798217773</td><td>31.497533798217773</td><td>4.642016887664795</td><td>4.642016887664795</td><td>4.642016887664795</td><td>-0.009732211008667946</td><td>-0.009732211008667946</td><td>-0.009732211008667946</td><td>0.011919156648218632</td><td>0.011919156648218632</td><td>0.011919156648218632</td><td>0.003973592538386583</td><td>0.003973592538386583</td><td>0.003973592538386583</td><td>0.014538859017193317</td><td>0.014538859017193317</td><td>0.014538859017193317</td><td>0.057807374745607376</td><td>0.057807374745607376</td><td>0.057807374745607376</td><td>0.040316712111234665</td><td>0.040316712111234665</td><td>0.040316712111234665</td><td>0.008187350817024708</td><td>0.008187350817024708</td><td>0.008187350817024708</td><td>0.3829460144042969</td><td>0.3829460144042969</td><td>0.3829460144042969</td><td>424.9696350097656</td><td>424.9696350097656</td><td>424.9696350097656</td><td>22.46877670288086</td><td>22.46877670288086</td><td>22.46877670288086</td><td>None</td><td>None</td><td>None</td><td>None</td><td>None</td><td>None</td><td>None</td><td>None</td><td>None</td><td>None</td><td>None</td><td>None</td><td>None</td><td>None</td><td>20241025</td><td>51</td><td>None</td><td>None</td><td>None</td></tr>\n",
       "</table></div>"
      ],
      "text/plain": [
       "<Table length=5>\n",
       "band exp_time ... postisr_pixel_median_mean postisr_pixel_median_max\n",
       "str1 float64  ...           object                   object         \n",
       "---- -------- ... ------------------------- ------------------------\n",
       "   r     30.0 ...                      None                     None\n",
       "   r     10.0 ...                      None                     None\n",
       "   r     10.0 ...                      None                     None\n",
       "   r     10.0 ...                      None                     None\n",
       "   r     10.0 ...                      None                     None"
      ]
     },
     "execution_count": 104,
     "metadata": {},
     "output_type": "execute_result"
    }
   ],
   "source": [
    "day_obs = 20241025\n",
    "query = f\"\"\"\n",
    "SELECT v.band, v.exp_time, q.*\n",
    "from cdb_lsstcomcam.visit1_quicklook q, cdb_lsstcomcam.visit1 v\n",
    "where q.visit_id = v.visit_id\n",
    "and v.day_obs = {day_obs}\n",
    "\"\"\"\n",
    "df = client.query(query)\n",
    "df[:5]"
   ]
  },
  {
   "cell_type": "markdown",
   "id": "662524b5-32c8-410b-861b-3d1833306d8e",
   "metadata": {},
   "source": [
    "## Resources on EFD\n",
    "\n",
    "* [EFD documentation](https://sasquatch.lsst.io/user-guide/observatorytelemetry.html)\n",
    "* [Query examples](https://github.com/lsst-sqre/system-test/tree/main/efd_examples)\n",
    "* [Documentation for the python connection client](https://efd-client.lsst.io/api.html)\n"
   ]
  },
  {
   "cell_type": "markdown",
   "id": "94434687-5f86-49e9-800a-90cd89437ee6",
   "metadata": {},
   "source": [
    "## Connecting to EFD "
   ]
  },
  {
   "cell_type": "code",
   "execution_count": 9,
   "id": "c4aff51a-a1ff-42b4-85a5-a5acb3e5716c",
   "metadata": {
    "execution": {
     "iopub.execute_input": "2024-11-05T21:58:04.856225Z",
     "iopub.status.busy": "2024-11-05T21:58:04.855733Z",
     "iopub.status.idle": "2024-11-05T21:58:05.469333Z",
     "shell.execute_reply": "2024-11-05T21:58:05.468887Z",
     "shell.execute_reply.started": "2024-11-05T21:58:04.856209Z"
    }
   },
   "outputs": [],
   "source": [
    "butler = dafButler.Butler('/repo/embargo_new', \n",
    "                          collections=[\"LSSTComCam/raw/all\", \n",
    "                                       \"LSSTComCam/calib\", \n",
    "                                       \"LSSTComCam/nightlyValidation\"\n",
    "                                                           ]\n",
    "                         )\n",
    "client = makeEfdClient()"
   ]
  },
  {
   "cell_type": "markdown",
   "id": "6db5c0bc-62ca-40ce-bd4a-f3e629791bcd",
   "metadata": {},
   "source": [
    "Given eg. RubinTV, we can find two defocal pairs to query EFD for the time corresponding to just before the first exposure, and just after the last exposure. For instance, on  `20241030` seq_num `72` and `73`. One way to get the time spans is to query the registry, and look at `min`, `max` values of `dataId.exposure.timespan`"
   ]
  },
  {
   "cell_type": "code",
   "execution_count": 36,
   "id": "328ee3de-3296-4cfd-9b59-86c1869cf676",
   "metadata": {
    "execution": {
     "iopub.execute_input": "2024-11-05T22:09:39.452775Z",
     "iopub.status.busy": "2024-11-05T22:09:39.452481Z",
     "iopub.status.idle": "2024-11-05T22:09:39.612482Z",
     "shell.execute_reply": "2024-11-05T22:09:39.612003Z",
     "shell.execute_reply.started": "2024-11-05T22:09:39.452760Z"
    }
   },
   "outputs": [],
   "source": [
    "dataRefs = list(butler.registry.queryDatasets('postISRCCD', where=\"instrument='LSSTComCam' and \\\n",
    "exposure.observation_type='cwfs' and day_obs = 20241030 and exposure.seq_num in (72,73)\").expanded())"
   ]
  },
  {
   "cell_type": "markdown",
   "id": "c647f525-6ed8-4cb4-97cb-ac89c6f47672",
   "metadata": {},
   "source": [
    "Or we can use the `butlerUtils` package to obtain the exposure record (including timespan) for the first and last seqNum:"
   ]
  },
  {
   "cell_type": "code",
   "execution_count": 41,
   "id": "43519330-d3fc-4844-85e5-5314ef188ac6",
   "metadata": {
    "execution": {
     "iopub.execute_input": "2024-11-05T22:12:24.780675Z",
     "iopub.status.busy": "2024-11-05T22:12:24.780355Z",
     "iopub.status.idle": "2024-11-05T22:12:24.797950Z",
     "shell.execute_reply": "2024-11-05T22:12:24.797577Z",
     "shell.execute_reply.started": "2024-11-05T22:12:24.780659Z"
    }
   },
   "outputs": [],
   "source": [
    "expId = 2024103000072\n",
    "dataId = {'exposure': expId, 'detector': 4, 'instrument': 'LSSTComCam'}\n",
    "expRecordBegin = butlerUtils.getExpRecordFromDataId(butler, dataId)"
   ]
  },
  {
   "cell_type": "code",
   "execution_count": 45,
   "id": "00db1ba0-e096-407f-85a2-d8cd8658756d",
   "metadata": {
    "execution": {
     "iopub.execute_input": "2024-11-05T22:13:09.745788Z",
     "iopub.status.busy": "2024-11-05T22:13:09.745459Z",
     "iopub.status.idle": "2024-11-05T22:13:09.765482Z",
     "shell.execute_reply": "2024-11-05T22:13:09.765138Z",
     "shell.execute_reply.started": "2024-11-05T22:13:09.745773Z"
    }
   },
   "outputs": [],
   "source": [
    "expId = 2024103000073\n",
    "dataId = {'exposure': expId, 'detector': 4, 'instrument': 'LSSTComCam'}\n",
    "expRecordEnd = butlerUtils.getExpRecordFromDataId(butler, dataId)"
   ]
  },
  {
   "cell_type": "code",
   "execution_count": 47,
   "id": "a3bd5088-3455-4159-ac68-7ae60efbf798",
   "metadata": {
    "execution": {
     "iopub.execute_input": "2024-11-05T22:15:06.649994Z",
     "iopub.status.busy": "2024-11-05T22:15:06.649708Z",
     "iopub.status.idle": "2024-11-05T22:15:06.653128Z",
     "shell.execute_reply": "2024-11-05T22:15:06.652736Z",
     "shell.execute_reply.started": "2024-11-05T22:15:06.649981Z"
    }
   },
   "outputs": [
    {
     "data": {
      "text/plain": [
       "<Time object: scale='tai' format='jd' value=2460614.557400162>"
      ]
     },
     "execution_count": 47,
     "metadata": {},
     "output_type": "execute_result"
    }
   ],
   "source": [
    "expRecordBegin.timespan.begin"
   ]
  },
  {
   "cell_type": "code",
   "execution_count": 48,
   "id": "15936aef-7caf-4a84-8311-e24e433bb8a9",
   "metadata": {
    "execution": {
     "iopub.execute_input": "2024-11-05T22:15:16.096659Z",
     "iopub.status.busy": "2024-11-05T22:15:16.096431Z",
     "iopub.status.idle": "2024-11-05T22:15:16.100143Z",
     "shell.execute_reply": "2024-11-05T22:15:16.099735Z",
     "shell.execute_reply.started": "2024-11-05T22:15:16.096643Z"
    }
   },
   "outputs": [
    {
     "data": {
      "text/plain": [
       "<Time object: scale='tai' format='jd' value=2460614.5582553586>"
      ]
     },
     "execution_count": 48,
     "metadata": {},
     "output_type": "execute_result"
    }
   ],
   "source": [
    "expRecordEnd.timespan.end"
   ]
  },
  {
   "cell_type": "code",
   "execution_count": 52,
   "id": "12c2c212-b265-42a5-b3f3-0382208c2320",
   "metadata": {
    "execution": {
     "iopub.execute_input": "2024-11-05T22:17:23.485641Z",
     "iopub.status.busy": "2024-11-05T22:17:23.485145Z",
     "iopub.status.idle": "2024-11-05T22:17:23.488332Z",
     "shell.execute_reply": "2024-11-05T22:17:23.487963Z",
     "shell.execute_reply.started": "2024-11-05T22:17:23.485623Z"
    }
   },
   "outputs": [
    {
     "name": "stdout",
     "output_type": "stream",
     "text": [
      "Time it took to take two exposures: 73.88901476899967  sec\n"
     ]
    }
   ],
   "source": [
    "td = expRecordEnd.timespan.end-expRecordBegin.timespan.begin\n",
    "print('Time it took to take two exposures:', td.sec, ' sec') "
   ]
  },
  {
   "cell_type": "markdown",
   "id": "d124a3f8-abc7-4c34-b46c-c23130128421",
   "metadata": {},
   "source": [
    "Which makes sense with 30 sec exposure time. "
   ]
  },
  {
   "cell_type": "markdown",
   "id": "88d555b8-7bff-42ad-9c56-34f92ff16166",
   "metadata": {},
   "source": [
    "A list of EFD topics is available "
   ]
  },
  {
   "cell_type": "code",
   "execution_count": 71,
   "id": "0c75f910-16a3-4604-864b-257631603efe",
   "metadata": {
    "execution": {
     "iopub.execute_input": "2024-11-05T22:23:03.321383Z",
     "iopub.status.busy": "2024-11-05T22:23:03.320945Z",
     "iopub.status.idle": "2024-11-05T22:23:03.343903Z",
     "shell.execute_reply": "2024-11-05T22:23:03.343592Z",
     "shell.execute_reply.started": "2024-11-05T22:23:03.321367Z"
    }
   },
   "outputs": [
    {
     "data": {
      "text/plain": [
       "2793"
      ]
     },
     "execution_count": 71,
     "metadata": {},
     "output_type": "execute_result"
    }
   ],
   "source": [
    "topics = await client.get_topics()\n",
    "len(topics)"
   ]
  },
  {
   "cell_type": "markdown",
   "id": "a814cbd8-1cd5-444e-aac3-a339787eda88",
   "metadata": {},
   "source": [
    "A huge number of topics is available, and those that start with `lsst.sal` are most pertinent:"
   ]
  },
  {
   "cell_type": "code",
   "execution_count": 72,
   "id": "ec47d245-9d3a-45a7-a1c5-d4aec82df6dd",
   "metadata": {
    "execution": {
     "iopub.execute_input": "2024-11-05T22:23:06.502418Z",
     "iopub.status.busy": "2024-11-05T22:23:06.502177Z",
     "iopub.status.idle": "2024-11-05T22:23:06.509818Z",
     "shell.execute_reply": "2024-11-05T22:23:06.509489Z",
     "shell.execute_reply.started": "2024-11-05T22:23:06.502402Z"
    }
   },
   "outputs": [
    {
     "name": "stdout",
     "output_type": "stream",
     "text": [
      "['ATAOS', 'ATArchiver', 'ATCamera', 'ATDome', 'ATDomeTrajectory', 'ATHeaderService', 'ATHexapod', 'ATMCS', 'ATMonochromator', 'ATOODS', 'ATPneumatics', 'ATPtg', 'ATSpectrograph', 'ATWhiteLight', 'AdamSensors', 'CBP', 'CCArchiver', 'CCCamera', 'CCHeaderService', 'CCOODS', 'DIMM', 'DSM', 'Dome', 'EPM', 'ESS', 'Electrometer', 'Environment', 'FiberSpectrograph', 'GCHeaderService', 'GIS', 'GenericCamera', 'HVAC', 'Hexapod', 'LaserTracker', 'MTAOS', 'MTAirCompressor', 'MTCamera', 'MTDome', 'MTDomeTrajectory', 'MTHeaderService', 'MTHexapod', 'MTM1M3', 'MTM1M3TS', 'MTM2', 'MTMount', 'MTOODS', 'MTPtg', 'MTRotator', 'MTVMS', 'NewMTMount', 'OCPS', 'PMD', 'Rotator', 'Scheduler', 'Script', 'ScriptQueue', 'Test', 'TunableLaser', 'Watcher', 'WeatherForecast', 'WeatherStation']\n"
     ]
    }
   ],
   "source": [
    "# from https://rubin-obs.slack.com/files/U07D8TLA3C3/F07QJPNTUE7/searching_the_efd\n",
    "tt = [t.split('.') for t in topics]\n",
    "topic_dict = {}\n",
    "for t in tt:\n",
    "    i = 0\n",
    "    dd = topic_dict\n",
    "    while i < len(t):\n",
    "        if t[i] not in dd.keys():\n",
    "            dd[t[i]] = {}\n",
    "        dd = dd[t[i]]\n",
    "        i += 1\n",
    "\n",
    "# useful topics are 'lsst.sal.X' \n",
    "print(list(topic_dict['lsst']['sal'].keys()))"
   ]
  },
  {
   "cell_type": "code",
   "execution_count": null,
   "id": "90841c69-201d-4e49-9c81-0729c5068ecd",
   "metadata": {},
   "outputs": [],
   "source": [
    "# Pick a CSC and see more about its topics\n",
    "ss = 'MTAOS'\n",
    "for tt in topic_dict['lsst']['sal'][ss].keys():\n",
    "    topic = f'lsst.sal.{ss}.{tt}'\n",
    "    print(topic)\n",
    "    try:\n",
    "        fields = await client.get_fields(topic)\n",
    "    except: \n",
    "        fields  = ['value']\n",
    "    fields = [f for f in fields if ('private' not in f) and (f != 'name') and (f != 'duration')]\n",
    "    try:\n",
    "        dd = await client.select_top_n(topic, fields, 1)\n",
    "    except: \n",
    "        print('query failed')\n",
    "    display(dd)    \n",
    "\t"
   ]
  },
  {
   "cell_type": "markdown",
   "id": "a23ea87e-e293-4bc6-96c0-753f53dfb11d",
   "metadata": {},
   "source": [
    "An example used in Craig's [notebook](https://rubin-obs.slack.com/files/U07NQHE622U/F07UYPV2XDY/comcam_get_aos_for_exposure_05nov24.ipynb)  employs `lsst.sal.MtM1M3.appliedForces` and `lsst.sal.MTHexapod.application`. We can query these topics within the specified time:"
   ]
  },
  {
   "cell_type": "code",
   "execution_count": 55,
   "id": "d9d167b6-4cab-492c-a983-a18e22677f00",
   "metadata": {
    "execution": {
     "iopub.execute_input": "2024-11-05T22:19:23.782509Z",
     "iopub.status.busy": "2024-11-05T22:19:23.782192Z",
     "iopub.status.idle": "2024-11-05T22:19:25.073815Z",
     "shell.execute_reply": "2024-11-05T22:19:25.073440Z",
     "shell.execute_reply.started": "2024-11-05T22:19:23.782494Z"
    }
   },
   "outputs": [],
   "source": [
    "t1 = expRecordBegin.timespan.begin.utc\n",
    "t2 = expRecordEnd.timespan.end.utc\n",
    "end_readout = await client.select_time_series(\"lsst.sal.MTM1M3.appliedForces\", '*',t1, t2)\n"
   ]
  },
  {
   "cell_type": "code",
   "execution_count": 56,
   "id": "3c146bad-f65b-4488-a063-bfb1fba041db",
   "metadata": {
    "execution": {
     "iopub.execute_input": "2024-11-05T22:19:25.074496Z",
     "iopub.status.busy": "2024-11-05T22:19:25.074335Z",
     "iopub.status.idle": "2024-11-05T22:19:25.085821Z",
     "shell.execute_reply": "2024-11-05T22:19:25.085497Z",
     "shell.execute_reply.started": "2024-11-05T22:19:25.074483Z"
    }
   },
   "outputs": [
    {
     "data": {
      "text/html": [
       "<div>\n",
       "<style scoped>\n",
       "    .dataframe tbody tr th:only-of-type {\n",
       "        vertical-align: middle;\n",
       "    }\n",
       "\n",
       "    .dataframe tbody tr th {\n",
       "        vertical-align: top;\n",
       "    }\n",
       "\n",
       "    .dataframe thead th {\n",
       "        text-align: right;\n",
       "    }\n",
       "</style>\n",
       "<table border=\"1\" class=\"dataframe\">\n",
       "  <thead>\n",
       "    <tr style=\"text-align: right;\">\n",
       "      <th></th>\n",
       "      <th>forceMagnitude</th>\n",
       "      <th>fx</th>\n",
       "      <th>fy</th>\n",
       "      <th>fz</th>\n",
       "      <th>mx</th>\n",
       "      <th>my</th>\n",
       "      <th>mz</th>\n",
       "      <th>private_efdStamp</th>\n",
       "      <th>private_identity</th>\n",
       "      <th>private_kafkaStamp</th>\n",
       "      <th>...</th>\n",
       "      <th>zForces90</th>\n",
       "      <th>zForces91</th>\n",
       "      <th>zForces92</th>\n",
       "      <th>zForces93</th>\n",
       "      <th>zForces94</th>\n",
       "      <th>zForces95</th>\n",
       "      <th>zForces96</th>\n",
       "      <th>zForces97</th>\n",
       "      <th>zForces98</th>\n",
       "      <th>zForces99</th>\n",
       "    </tr>\n",
       "  </thead>\n",
       "  <tbody>\n",
       "    <tr>\n",
       "      <th>2024-10-31 01:22:02.393279+00:00</th>\n",
       "      <td>172921.671875</td>\n",
       "      <td>58.114883</td>\n",
       "      <td>67340.632812</td>\n",
       "      <td>159270.656250</td>\n",
       "      <td>694.933838</td>\n",
       "      <td>-650.493774</td>\n",
       "      <td>-971.494141</td>\n",
       "      <td>1.730338e+09</td>\n",
       "      <td>MTM1M3</td>\n",
       "      <td>1.730338e+09</td>\n",
       "      <td>...</td>\n",
       "      <td>1304.410156</td>\n",
       "      <td>958.630005</td>\n",
       "      <td>972.061462</td>\n",
       "      <td>1023.968323</td>\n",
       "      <td>1112.090942</td>\n",
       "      <td>1201.591675</td>\n",
       "      <td>422.335266</td>\n",
       "      <td>1085.480591</td>\n",
       "      <td>1063.119873</td>\n",
       "      <td>1056.121704</td>\n",
       "    </tr>\n",
       "    <tr>\n",
       "      <th>2024-10-31 01:22:02.413380+00:00</th>\n",
       "      <td>172919.328125</td>\n",
       "      <td>58.035782</td>\n",
       "      <td>67335.523438</td>\n",
       "      <td>159270.265625</td>\n",
       "      <td>683.036865</td>\n",
       "      <td>-674.005615</td>\n",
       "      <td>-964.942810</td>\n",
       "      <td>1.730338e+09</td>\n",
       "      <td>MTM1M3</td>\n",
       "      <td>1.730338e+09</td>\n",
       "      <td>...</td>\n",
       "      <td>1304.411865</td>\n",
       "      <td>958.624084</td>\n",
       "      <td>971.995117</td>\n",
       "      <td>1023.867859</td>\n",
       "      <td>1111.980591</td>\n",
       "      <td>1201.466797</td>\n",
       "      <td>422.257629</td>\n",
       "      <td>1085.394287</td>\n",
       "      <td>1063.018311</td>\n",
       "      <td>1056.026123</td>\n",
       "    </tr>\n",
       "    <tr>\n",
       "      <th>2024-10-31 01:22:02.433308+00:00</th>\n",
       "      <td>172915.750000</td>\n",
       "      <td>57.209473</td>\n",
       "      <td>67335.945312</td>\n",
       "      <td>159266.203125</td>\n",
       "      <td>703.733765</td>\n",
       "      <td>-660.368225</td>\n",
       "      <td>-974.740906</td>\n",
       "      <td>1.730338e+09</td>\n",
       "      <td>MTM1M3</td>\n",
       "      <td>1.730338e+09</td>\n",
       "      <td>...</td>\n",
       "      <td>1304.348022</td>\n",
       "      <td>958.576782</td>\n",
       "      <td>972.027771</td>\n",
       "      <td>1023.930420</td>\n",
       "      <td>1112.034302</td>\n",
       "      <td>1201.526245</td>\n",
       "      <td>422.311981</td>\n",
       "      <td>1085.476929</td>\n",
       "      <td>1063.112549</td>\n",
       "      <td>1056.090576</td>\n",
       "    </tr>\n",
       "    <tr>\n",
       "      <th>2024-10-31 01:22:02.453402+00:00</th>\n",
       "      <td>172918.578125</td>\n",
       "      <td>58.228699</td>\n",
       "      <td>67339.093750</td>\n",
       "      <td>159267.953125</td>\n",
       "      <td>677.326050</td>\n",
       "      <td>-650.000916</td>\n",
       "      <td>-965.161377</td>\n",
       "      <td>1.730338e+09</td>\n",
       "      <td>MTM1M3</td>\n",
       "      <td>1.730338e+09</td>\n",
       "      <td>...</td>\n",
       "      <td>1304.416870</td>\n",
       "      <td>958.646362</td>\n",
       "      <td>972.018616</td>\n",
       "      <td>1023.906982</td>\n",
       "      <td>1112.044556</td>\n",
       "      <td>1201.546265</td>\n",
       "      <td>422.334808</td>\n",
       "      <td>1085.368286</td>\n",
       "      <td>1063.011719</td>\n",
       "      <td>1056.055908</td>\n",
       "    </tr>\n",
       "    <tr>\n",
       "      <th>2024-10-31 01:22:02.473394+00:00</th>\n",
       "      <td>172918.421875</td>\n",
       "      <td>58.730286</td>\n",
       "      <td>67345.023438</td>\n",
       "      <td>159265.265625</td>\n",
       "      <td>667.223511</td>\n",
       "      <td>-663.067505</td>\n",
       "      <td>-962.951599</td>\n",
       "      <td>1.730338e+09</td>\n",
       "      <td>MTM1M3</td>\n",
       "      <td>1.730338e+09</td>\n",
       "      <td>...</td>\n",
       "      <td>1304.433350</td>\n",
       "      <td>958.656006</td>\n",
       "      <td>971.975830</td>\n",
       "      <td>1023.837280</td>\n",
       "      <td>1111.964966</td>\n",
       "      <td>1201.445679</td>\n",
       "      <td>422.263397</td>\n",
       "      <td>1085.311768</td>\n",
       "      <td>1062.939941</td>\n",
       "      <td>1055.985352</td>\n",
       "    </tr>\n",
       "  </tbody>\n",
       "</table>\n",
       "<p>5 rows × 284 columns</p>\n",
       "</div>"
      ],
      "text/plain": [
       "                                  forceMagnitude         fx            fy  \\\n",
       "2024-10-31 01:22:02.393279+00:00   172921.671875  58.114883  67340.632812   \n",
       "2024-10-31 01:22:02.413380+00:00   172919.328125  58.035782  67335.523438   \n",
       "2024-10-31 01:22:02.433308+00:00   172915.750000  57.209473  67335.945312   \n",
       "2024-10-31 01:22:02.453402+00:00   172918.578125  58.228699  67339.093750   \n",
       "2024-10-31 01:22:02.473394+00:00   172918.421875  58.730286  67345.023438   \n",
       "\n",
       "                                             fz          mx          my  \\\n",
       "2024-10-31 01:22:02.393279+00:00  159270.656250  694.933838 -650.493774   \n",
       "2024-10-31 01:22:02.413380+00:00  159270.265625  683.036865 -674.005615   \n",
       "2024-10-31 01:22:02.433308+00:00  159266.203125  703.733765 -660.368225   \n",
       "2024-10-31 01:22:02.453402+00:00  159267.953125  677.326050 -650.000916   \n",
       "2024-10-31 01:22:02.473394+00:00  159265.265625  667.223511 -663.067505   \n",
       "\n",
       "                                          mz  private_efdStamp  \\\n",
       "2024-10-31 01:22:02.393279+00:00 -971.494141      1.730338e+09   \n",
       "2024-10-31 01:22:02.413380+00:00 -964.942810      1.730338e+09   \n",
       "2024-10-31 01:22:02.433308+00:00 -974.740906      1.730338e+09   \n",
       "2024-10-31 01:22:02.453402+00:00 -965.161377      1.730338e+09   \n",
       "2024-10-31 01:22:02.473394+00:00 -962.951599      1.730338e+09   \n",
       "\n",
       "                                 private_identity  private_kafkaStamp  ...  \\\n",
       "2024-10-31 01:22:02.393279+00:00           MTM1M3        1.730338e+09  ...   \n",
       "2024-10-31 01:22:02.413380+00:00           MTM1M3        1.730338e+09  ...   \n",
       "2024-10-31 01:22:02.433308+00:00           MTM1M3        1.730338e+09  ...   \n",
       "2024-10-31 01:22:02.453402+00:00           MTM1M3        1.730338e+09  ...   \n",
       "2024-10-31 01:22:02.473394+00:00           MTM1M3        1.730338e+09  ...   \n",
       "\n",
       "                                    zForces90   zForces91   zForces92  \\\n",
       "2024-10-31 01:22:02.393279+00:00  1304.410156  958.630005  972.061462   \n",
       "2024-10-31 01:22:02.413380+00:00  1304.411865  958.624084  971.995117   \n",
       "2024-10-31 01:22:02.433308+00:00  1304.348022  958.576782  972.027771   \n",
       "2024-10-31 01:22:02.453402+00:00  1304.416870  958.646362  972.018616   \n",
       "2024-10-31 01:22:02.473394+00:00  1304.433350  958.656006  971.975830   \n",
       "\n",
       "                                    zForces93    zForces94    zForces95  \\\n",
       "2024-10-31 01:22:02.393279+00:00  1023.968323  1112.090942  1201.591675   \n",
       "2024-10-31 01:22:02.413380+00:00  1023.867859  1111.980591  1201.466797   \n",
       "2024-10-31 01:22:02.433308+00:00  1023.930420  1112.034302  1201.526245   \n",
       "2024-10-31 01:22:02.453402+00:00  1023.906982  1112.044556  1201.546265   \n",
       "2024-10-31 01:22:02.473394+00:00  1023.837280  1111.964966  1201.445679   \n",
       "\n",
       "                                   zForces96    zForces97    zForces98  \\\n",
       "2024-10-31 01:22:02.393279+00:00  422.335266  1085.480591  1063.119873   \n",
       "2024-10-31 01:22:02.413380+00:00  422.257629  1085.394287  1063.018311   \n",
       "2024-10-31 01:22:02.433308+00:00  422.311981  1085.476929  1063.112549   \n",
       "2024-10-31 01:22:02.453402+00:00  422.334808  1085.368286  1063.011719   \n",
       "2024-10-31 01:22:02.473394+00:00  422.263397  1085.311768  1062.939941   \n",
       "\n",
       "                                    zForces99  \n",
       "2024-10-31 01:22:02.393279+00:00  1056.121704  \n",
       "2024-10-31 01:22:02.413380+00:00  1056.026123  \n",
       "2024-10-31 01:22:02.433308+00:00  1056.090576  \n",
       "2024-10-31 01:22:02.453402+00:00  1056.055908  \n",
       "2024-10-31 01:22:02.473394+00:00  1055.985352  \n",
       "\n",
       "[5 rows x 284 columns]"
      ]
     },
     "execution_count": 56,
     "metadata": {},
     "output_type": "execute_result"
    }
   ],
   "source": [
    "end_readout[:5]"
   ]
  },
  {
   "cell_type": "code",
   "execution_count": 62,
   "id": "1e2d3224-c1a5-4ddf-9d4a-acb809d9b1b7",
   "metadata": {
    "execution": {
     "iopub.execute_input": "2024-11-05T22:20:14.367806Z",
     "iopub.status.busy": "2024-11-05T22:20:14.367563Z",
     "iopub.status.idle": "2024-11-05T22:20:14.496669Z",
     "shell.execute_reply": "2024-11-05T22:20:14.496355Z",
     "shell.execute_reply.started": "2024-11-05T22:20:14.367791Z"
    }
   },
   "outputs": [
    {
     "name": "stdout",
     "output_type": "stream",
     "text": [
      "2955\n"
     ]
    }
   ],
   "source": [
    "hexData = await client.select_time_series(\"lsst.sal.MTHexapod.application\", '*',t1,t2)\n",
    "print(len(hexData))"
   ]
  },
  {
   "cell_type": "code",
   "execution_count": 58,
   "id": "e5997456-d4a0-473d-8b2c-24c91676cd3e",
   "metadata": {
    "execution": {
     "iopub.execute_input": "2024-11-05T22:19:38.109722Z",
     "iopub.status.busy": "2024-11-05T22:19:38.109306Z",
     "iopub.status.idle": "2024-11-05T22:19:38.120902Z",
     "shell.execute_reply": "2024-11-05T22:19:38.120573Z",
     "shell.execute_reply.started": "2024-11-05T22:19:38.109706Z"
    }
   },
   "outputs": [
    {
     "data": {
      "text/html": [
       "<div>\n",
       "<style scoped>\n",
       "    .dataframe tbody tr th:only-of-type {\n",
       "        vertical-align: middle;\n",
       "    }\n",
       "\n",
       "    .dataframe tbody tr th {\n",
       "        vertical-align: top;\n",
       "    }\n",
       "\n",
       "    .dataframe thead th {\n",
       "        text-align: right;\n",
       "    }\n",
       "</style>\n",
       "<table border=\"1\" class=\"dataframe\">\n",
       "  <thead>\n",
       "    <tr style=\"text-align: right;\">\n",
       "      <th></th>\n",
       "      <th>demand0</th>\n",
       "      <th>demand1</th>\n",
       "      <th>demand2</th>\n",
       "      <th>demand3</th>\n",
       "      <th>demand4</th>\n",
       "      <th>demand5</th>\n",
       "      <th>error0</th>\n",
       "      <th>error1</th>\n",
       "      <th>error2</th>\n",
       "      <th>error3</th>\n",
       "      <th>...</th>\n",
       "      <th>position5</th>\n",
       "      <th>private_efdStamp</th>\n",
       "      <th>private_identity</th>\n",
       "      <th>private_kafkaStamp</th>\n",
       "      <th>private_origin</th>\n",
       "      <th>private_rcvStamp</th>\n",
       "      <th>private_revCode</th>\n",
       "      <th>private_seqNum</th>\n",
       "      <th>private_sndStamp</th>\n",
       "      <th>salIndex</th>\n",
       "    </tr>\n",
       "  </thead>\n",
       "  <tbody>\n",
       "    <tr>\n",
       "      <th>2024-10-31 01:22:02.396101+00:00</th>\n",
       "      <td>-0.719819</td>\n",
       "      <td>-140.033914</td>\n",
       "      <td>-965.445758</td>\n",
       "      <td>-0.003953</td>\n",
       "      <td>0</td>\n",
       "      <td>0</td>\n",
       "      <td>-0.519611</td>\n",
       "      <td>-0.663470</td>\n",
       "      <td>-0.218053</td>\n",
       "      <td>-0.000012</td>\n",
       "      <td>...</td>\n",
       "      <td>0.000005</td>\n",
       "      <td>1.730338e+09</td>\n",
       "      <td>MTHexapod:1</td>\n",
       "      <td>1.730338e+09</td>\n",
       "      <td>1995381</td>\n",
       "      <td>1.730338e+09</td>\n",
       "      <td>5601ef5d</td>\n",
       "      <td>1313740</td>\n",
       "      <td>1.730338e+09</td>\n",
       "      <td>1</td>\n",
       "    </tr>\n",
       "    <tr>\n",
       "      <th>2024-10-31 01:22:02.407415+00:00</th>\n",
       "      <td>1001.529979</td>\n",
       "      <td>94.248818</td>\n",
       "      <td>251.859181</td>\n",
       "      <td>-0.001514</td>\n",
       "      <td>0</td>\n",
       "      <td>0</td>\n",
       "      <td>0.047294</td>\n",
       "      <td>-0.656576</td>\n",
       "      <td>-0.372867</td>\n",
       "      <td>0.000002</td>\n",
       "      <td>...</td>\n",
       "      <td>-0.000007</td>\n",
       "      <td>1.730338e+09</td>\n",
       "      <td>MTHexapod:2</td>\n",
       "      <td>1.730338e+09</td>\n",
       "      <td>1997339</td>\n",
       "      <td>1.730338e+09</td>\n",
       "      <td>5601ef5d</td>\n",
       "      <td>1312405</td>\n",
       "      <td>1.730338e+09</td>\n",
       "      <td>2</td>\n",
       "    </tr>\n",
       "    <tr>\n",
       "      <th>2024-10-31 01:22:02.436151+00:00</th>\n",
       "      <td>-0.719819</td>\n",
       "      <td>-140.033914</td>\n",
       "      <td>-965.445758</td>\n",
       "      <td>-0.003953</td>\n",
       "      <td>0</td>\n",
       "      <td>0</td>\n",
       "      <td>-0.516147</td>\n",
       "      <td>-0.650306</td>\n",
       "      <td>-0.219127</td>\n",
       "      <td>-0.000012</td>\n",
       "      <td>...</td>\n",
       "      <td>0.000005</td>\n",
       "      <td>1.730338e+09</td>\n",
       "      <td>MTHexapod:1</td>\n",
       "      <td>1.730338e+09</td>\n",
       "      <td>1995381</td>\n",
       "      <td>1.730338e+09</td>\n",
       "      <td>5601ef5d</td>\n",
       "      <td>1313741</td>\n",
       "      <td>1.730338e+09</td>\n",
       "      <td>1</td>\n",
       "    </tr>\n",
       "    <tr>\n",
       "      <th>2024-10-31 01:22:02.447609+00:00</th>\n",
       "      <td>1001.529979</td>\n",
       "      <td>94.248818</td>\n",
       "      <td>251.859181</td>\n",
       "      <td>-0.001514</td>\n",
       "      <td>0</td>\n",
       "      <td>0</td>\n",
       "      <td>0.046070</td>\n",
       "      <td>-0.657750</td>\n",
       "      <td>-0.373522</td>\n",
       "      <td>0.000002</td>\n",
       "      <td>...</td>\n",
       "      <td>-0.000007</td>\n",
       "      <td>1.730338e+09</td>\n",
       "      <td>MTHexapod:2</td>\n",
       "      <td>1.730338e+09</td>\n",
       "      <td>1997339</td>\n",
       "      <td>1.730338e+09</td>\n",
       "      <td>5601ef5d</td>\n",
       "      <td>1312406</td>\n",
       "      <td>1.730338e+09</td>\n",
       "      <td>2</td>\n",
       "    </tr>\n",
       "    <tr>\n",
       "      <th>2024-10-31 01:22:02.496381+00:00</th>\n",
       "      <td>-0.719819</td>\n",
       "      <td>-140.033914</td>\n",
       "      <td>-965.445758</td>\n",
       "      <td>-0.003953</td>\n",
       "      <td>0</td>\n",
       "      <td>0</td>\n",
       "      <td>-0.508070</td>\n",
       "      <td>-0.646379</td>\n",
       "      <td>-0.218714</td>\n",
       "      <td>-0.000012</td>\n",
       "      <td>...</td>\n",
       "      <td>0.000006</td>\n",
       "      <td>1.730338e+09</td>\n",
       "      <td>MTHexapod:1</td>\n",
       "      <td>1.730338e+09</td>\n",
       "      <td>1995381</td>\n",
       "      <td>1.730338e+09</td>\n",
       "      <td>5601ef5d</td>\n",
       "      <td>1313742</td>\n",
       "      <td>1.730338e+09</td>\n",
       "      <td>1</td>\n",
       "    </tr>\n",
       "  </tbody>\n",
       "</table>\n",
       "<p>5 rows × 27 columns</p>\n",
       "</div>"
      ],
      "text/plain": [
       "                                      demand0     demand1     demand2  \\\n",
       "2024-10-31 01:22:02.396101+00:00    -0.719819 -140.033914 -965.445758   \n",
       "2024-10-31 01:22:02.407415+00:00  1001.529979   94.248818  251.859181   \n",
       "2024-10-31 01:22:02.436151+00:00    -0.719819 -140.033914 -965.445758   \n",
       "2024-10-31 01:22:02.447609+00:00  1001.529979   94.248818  251.859181   \n",
       "2024-10-31 01:22:02.496381+00:00    -0.719819 -140.033914 -965.445758   \n",
       "\n",
       "                                   demand3  demand4  demand5    error0  \\\n",
       "2024-10-31 01:22:02.396101+00:00 -0.003953        0        0 -0.519611   \n",
       "2024-10-31 01:22:02.407415+00:00 -0.001514        0        0  0.047294   \n",
       "2024-10-31 01:22:02.436151+00:00 -0.003953        0        0 -0.516147   \n",
       "2024-10-31 01:22:02.447609+00:00 -0.001514        0        0  0.046070   \n",
       "2024-10-31 01:22:02.496381+00:00 -0.003953        0        0 -0.508070   \n",
       "\n",
       "                                    error1    error2    error3  ...  \\\n",
       "2024-10-31 01:22:02.396101+00:00 -0.663470 -0.218053 -0.000012  ...   \n",
       "2024-10-31 01:22:02.407415+00:00 -0.656576 -0.372867  0.000002  ...   \n",
       "2024-10-31 01:22:02.436151+00:00 -0.650306 -0.219127 -0.000012  ...   \n",
       "2024-10-31 01:22:02.447609+00:00 -0.657750 -0.373522  0.000002  ...   \n",
       "2024-10-31 01:22:02.496381+00:00 -0.646379 -0.218714 -0.000012  ...   \n",
       "\n",
       "                                  position5  private_efdStamp  \\\n",
       "2024-10-31 01:22:02.396101+00:00   0.000005      1.730338e+09   \n",
       "2024-10-31 01:22:02.407415+00:00  -0.000007      1.730338e+09   \n",
       "2024-10-31 01:22:02.436151+00:00   0.000005      1.730338e+09   \n",
       "2024-10-31 01:22:02.447609+00:00  -0.000007      1.730338e+09   \n",
       "2024-10-31 01:22:02.496381+00:00   0.000006      1.730338e+09   \n",
       "\n",
       "                                  private_identity  private_kafkaStamp  \\\n",
       "2024-10-31 01:22:02.396101+00:00       MTHexapod:1        1.730338e+09   \n",
       "2024-10-31 01:22:02.407415+00:00       MTHexapod:2        1.730338e+09   \n",
       "2024-10-31 01:22:02.436151+00:00       MTHexapod:1        1.730338e+09   \n",
       "2024-10-31 01:22:02.447609+00:00       MTHexapod:2        1.730338e+09   \n",
       "2024-10-31 01:22:02.496381+00:00       MTHexapod:1        1.730338e+09   \n",
       "\n",
       "                                  private_origin  private_rcvStamp  \\\n",
       "2024-10-31 01:22:02.396101+00:00         1995381      1.730338e+09   \n",
       "2024-10-31 01:22:02.407415+00:00         1997339      1.730338e+09   \n",
       "2024-10-31 01:22:02.436151+00:00         1995381      1.730338e+09   \n",
       "2024-10-31 01:22:02.447609+00:00         1997339      1.730338e+09   \n",
       "2024-10-31 01:22:02.496381+00:00         1995381      1.730338e+09   \n",
       "\n",
       "                                  private_revCode  private_seqNum  \\\n",
       "2024-10-31 01:22:02.396101+00:00         5601ef5d         1313740   \n",
       "2024-10-31 01:22:02.407415+00:00         5601ef5d         1312405   \n",
       "2024-10-31 01:22:02.436151+00:00         5601ef5d         1313741   \n",
       "2024-10-31 01:22:02.447609+00:00         5601ef5d         1312406   \n",
       "2024-10-31 01:22:02.496381+00:00         5601ef5d         1313742   \n",
       "\n",
       "                                  private_sndStamp salIndex  \n",
       "2024-10-31 01:22:02.396101+00:00      1.730338e+09        1  \n",
       "2024-10-31 01:22:02.407415+00:00      1.730338e+09        2  \n",
       "2024-10-31 01:22:02.436151+00:00      1.730338e+09        1  \n",
       "2024-10-31 01:22:02.447609+00:00      1.730338e+09        2  \n",
       "2024-10-31 01:22:02.496381+00:00      1.730338e+09        1  \n",
       "\n",
       "[5 rows x 27 columns]"
      ]
     },
     "execution_count": 58,
     "metadata": {},
     "output_type": "execute_result"
    }
   ],
   "source": [
    "hexData[:5]"
   ]
  },
  {
   "cell_type": "code",
   "execution_count": 63,
   "id": "98a729ac-0e96-4fe8-8c60-98af97600c67",
   "metadata": {
    "execution": {
     "iopub.execute_input": "2024-11-05T22:20:27.900639Z",
     "iopub.status.busy": "2024-11-05T22:20:27.900248Z",
     "iopub.status.idle": "2024-11-05T22:20:27.903861Z",
     "shell.execute_reply": "2024-11-05T22:20:27.903464Z",
     "shell.execute_reply.started": "2024-11-05T22:20:27.900625Z"
    }
   },
   "outputs": [
    {
     "name": "stdout",
     "output_type": "stream",
     "text": [
      "1477\n"
     ]
    }
   ],
   "source": [
    "m2Hex = hexData[hexData['salIndex'] == 2]\n",
    "print(len(m2Hex))"
   ]
  },
  {
   "cell_type": "code",
   "execution_count": 61,
   "id": "c3b128d0-209a-4444-97a7-e2fcfe33de98",
   "metadata": {
    "execution": {
     "iopub.execute_input": "2024-11-05T22:19:58.025369Z",
     "iopub.status.busy": "2024-11-05T22:19:58.025042Z",
     "iopub.status.idle": "2024-11-05T22:19:58.036110Z",
     "shell.execute_reply": "2024-11-05T22:19:58.035742Z",
     "shell.execute_reply.started": "2024-11-05T22:19:58.025355Z"
    }
   },
   "outputs": [
    {
     "data": {
      "text/html": [
       "<div>\n",
       "<style scoped>\n",
       "    .dataframe tbody tr th:only-of-type {\n",
       "        vertical-align: middle;\n",
       "    }\n",
       "\n",
       "    .dataframe tbody tr th {\n",
       "        vertical-align: top;\n",
       "    }\n",
       "\n",
       "    .dataframe thead th {\n",
       "        text-align: right;\n",
       "    }\n",
       "</style>\n",
       "<table border=\"1\" class=\"dataframe\">\n",
       "  <thead>\n",
       "    <tr style=\"text-align: right;\">\n",
       "      <th></th>\n",
       "      <th>demand0</th>\n",
       "      <th>demand1</th>\n",
       "      <th>demand2</th>\n",
       "      <th>demand3</th>\n",
       "      <th>demand4</th>\n",
       "      <th>demand5</th>\n",
       "      <th>error0</th>\n",
       "      <th>error1</th>\n",
       "      <th>error2</th>\n",
       "      <th>error3</th>\n",
       "      <th>...</th>\n",
       "      <th>position5</th>\n",
       "      <th>private_efdStamp</th>\n",
       "      <th>private_identity</th>\n",
       "      <th>private_kafkaStamp</th>\n",
       "      <th>private_origin</th>\n",
       "      <th>private_rcvStamp</th>\n",
       "      <th>private_revCode</th>\n",
       "      <th>private_seqNum</th>\n",
       "      <th>private_sndStamp</th>\n",
       "      <th>salIndex</th>\n",
       "    </tr>\n",
       "  </thead>\n",
       "  <tbody>\n",
       "    <tr>\n",
       "      <th>2024-10-31 01:22:02.407415+00:00</th>\n",
       "      <td>1001.529979</td>\n",
       "      <td>94.248818</td>\n",
       "      <td>251.859181</td>\n",
       "      <td>-0.001514</td>\n",
       "      <td>0</td>\n",
       "      <td>0</td>\n",
       "      <td>0.047294</td>\n",
       "      <td>-0.656576</td>\n",
       "      <td>-0.372867</td>\n",
       "      <td>0.000002</td>\n",
       "      <td>...</td>\n",
       "      <td>-0.000007</td>\n",
       "      <td>1.730338e+09</td>\n",
       "      <td>MTHexapod:2</td>\n",
       "      <td>1.730338e+09</td>\n",
       "      <td>1997339</td>\n",
       "      <td>1.730338e+09</td>\n",
       "      <td>5601ef5d</td>\n",
       "      <td>1312405</td>\n",
       "      <td>1.730338e+09</td>\n",
       "      <td>2</td>\n",
       "    </tr>\n",
       "    <tr>\n",
       "      <th>2024-10-31 01:22:02.447609+00:00</th>\n",
       "      <td>1001.529979</td>\n",
       "      <td>94.248818</td>\n",
       "      <td>251.859181</td>\n",
       "      <td>-0.001514</td>\n",
       "      <td>0</td>\n",
       "      <td>0</td>\n",
       "      <td>0.046070</td>\n",
       "      <td>-0.657750</td>\n",
       "      <td>-0.373522</td>\n",
       "      <td>0.000002</td>\n",
       "      <td>...</td>\n",
       "      <td>-0.000007</td>\n",
       "      <td>1.730338e+09</td>\n",
       "      <td>MTHexapod:2</td>\n",
       "      <td>1.730338e+09</td>\n",
       "      <td>1997339</td>\n",
       "      <td>1.730338e+09</td>\n",
       "      <td>5601ef5d</td>\n",
       "      <td>1312406</td>\n",
       "      <td>1.730338e+09</td>\n",
       "      <td>2</td>\n",
       "    </tr>\n",
       "    <tr>\n",
       "      <th>2024-10-31 01:22:02.507751+00:00</th>\n",
       "      <td>1001.529979</td>\n",
       "      <td>94.248818</td>\n",
       "      <td>251.859181</td>\n",
       "      <td>-0.001514</td>\n",
       "      <td>0</td>\n",
       "      <td>0</td>\n",
       "      <td>0.047911</td>\n",
       "      <td>-0.654890</td>\n",
       "      <td>-0.373540</td>\n",
       "      <td>0.000002</td>\n",
       "      <td>...</td>\n",
       "      <td>-0.000007</td>\n",
       "      <td>1.730338e+09</td>\n",
       "      <td>MTHexapod:2</td>\n",
       "      <td>1.730338e+09</td>\n",
       "      <td>1997339</td>\n",
       "      <td>1.730338e+09</td>\n",
       "      <td>5601ef5d</td>\n",
       "      <td>1312407</td>\n",
       "      <td>1.730338e+09</td>\n",
       "      <td>2</td>\n",
       "    </tr>\n",
       "    <tr>\n",
       "      <th>2024-10-31 01:22:02.547922+00:00</th>\n",
       "      <td>1001.529979</td>\n",
       "      <td>94.248818</td>\n",
       "      <td>251.859181</td>\n",
       "      <td>-0.001514</td>\n",
       "      <td>0</td>\n",
       "      <td>0</td>\n",
       "      <td>0.048985</td>\n",
       "      <td>-0.655695</td>\n",
       "      <td>-0.374470</td>\n",
       "      <td>0.000002</td>\n",
       "      <td>...</td>\n",
       "      <td>-0.000007</td>\n",
       "      <td>1.730338e+09</td>\n",
       "      <td>MTHexapod:2</td>\n",
       "      <td>1.730338e+09</td>\n",
       "      <td>1997339</td>\n",
       "      <td>1.730338e+09</td>\n",
       "      <td>5601ef5d</td>\n",
       "      <td>1312408</td>\n",
       "      <td>1.730338e+09</td>\n",
       "      <td>2</td>\n",
       "    </tr>\n",
       "    <tr>\n",
       "      <th>2024-10-31 01:22:02.607941+00:00</th>\n",
       "      <td>1001.529979</td>\n",
       "      <td>94.248818</td>\n",
       "      <td>251.859181</td>\n",
       "      <td>-0.001514</td>\n",
       "      <td>0</td>\n",
       "      <td>0</td>\n",
       "      <td>0.049335</td>\n",
       "      <td>-0.654483</td>\n",
       "      <td>-0.373850</td>\n",
       "      <td>0.000002</td>\n",
       "      <td>...</td>\n",
       "      <td>-0.000007</td>\n",
       "      <td>1.730338e+09</td>\n",
       "      <td>MTHexapod:2</td>\n",
       "      <td>1.730338e+09</td>\n",
       "      <td>1997339</td>\n",
       "      <td>1.730338e+09</td>\n",
       "      <td>5601ef5d</td>\n",
       "      <td>1312409</td>\n",
       "      <td>1.730338e+09</td>\n",
       "      <td>2</td>\n",
       "    </tr>\n",
       "  </tbody>\n",
       "</table>\n",
       "<p>5 rows × 27 columns</p>\n",
       "</div>"
      ],
      "text/plain": [
       "                                      demand0    demand1     demand2  \\\n",
       "2024-10-31 01:22:02.407415+00:00  1001.529979  94.248818  251.859181   \n",
       "2024-10-31 01:22:02.447609+00:00  1001.529979  94.248818  251.859181   \n",
       "2024-10-31 01:22:02.507751+00:00  1001.529979  94.248818  251.859181   \n",
       "2024-10-31 01:22:02.547922+00:00  1001.529979  94.248818  251.859181   \n",
       "2024-10-31 01:22:02.607941+00:00  1001.529979  94.248818  251.859181   \n",
       "\n",
       "                                   demand3  demand4  demand5    error0  \\\n",
       "2024-10-31 01:22:02.407415+00:00 -0.001514        0        0  0.047294   \n",
       "2024-10-31 01:22:02.447609+00:00 -0.001514        0        0  0.046070   \n",
       "2024-10-31 01:22:02.507751+00:00 -0.001514        0        0  0.047911   \n",
       "2024-10-31 01:22:02.547922+00:00 -0.001514        0        0  0.048985   \n",
       "2024-10-31 01:22:02.607941+00:00 -0.001514        0        0  0.049335   \n",
       "\n",
       "                                    error1    error2    error3  ...  \\\n",
       "2024-10-31 01:22:02.407415+00:00 -0.656576 -0.372867  0.000002  ...   \n",
       "2024-10-31 01:22:02.447609+00:00 -0.657750 -0.373522  0.000002  ...   \n",
       "2024-10-31 01:22:02.507751+00:00 -0.654890 -0.373540  0.000002  ...   \n",
       "2024-10-31 01:22:02.547922+00:00 -0.655695 -0.374470  0.000002  ...   \n",
       "2024-10-31 01:22:02.607941+00:00 -0.654483 -0.373850  0.000002  ...   \n",
       "\n",
       "                                  position5  private_efdStamp  \\\n",
       "2024-10-31 01:22:02.407415+00:00  -0.000007      1.730338e+09   \n",
       "2024-10-31 01:22:02.447609+00:00  -0.000007      1.730338e+09   \n",
       "2024-10-31 01:22:02.507751+00:00  -0.000007      1.730338e+09   \n",
       "2024-10-31 01:22:02.547922+00:00  -0.000007      1.730338e+09   \n",
       "2024-10-31 01:22:02.607941+00:00  -0.000007      1.730338e+09   \n",
       "\n",
       "                                  private_identity  private_kafkaStamp  \\\n",
       "2024-10-31 01:22:02.407415+00:00       MTHexapod:2        1.730338e+09   \n",
       "2024-10-31 01:22:02.447609+00:00       MTHexapod:2        1.730338e+09   \n",
       "2024-10-31 01:22:02.507751+00:00       MTHexapod:2        1.730338e+09   \n",
       "2024-10-31 01:22:02.547922+00:00       MTHexapod:2        1.730338e+09   \n",
       "2024-10-31 01:22:02.607941+00:00       MTHexapod:2        1.730338e+09   \n",
       "\n",
       "                                  private_origin  private_rcvStamp  \\\n",
       "2024-10-31 01:22:02.407415+00:00         1997339      1.730338e+09   \n",
       "2024-10-31 01:22:02.447609+00:00         1997339      1.730338e+09   \n",
       "2024-10-31 01:22:02.507751+00:00         1997339      1.730338e+09   \n",
       "2024-10-31 01:22:02.547922+00:00         1997339      1.730338e+09   \n",
       "2024-10-31 01:22:02.607941+00:00         1997339      1.730338e+09   \n",
       "\n",
       "                                  private_revCode  private_seqNum  \\\n",
       "2024-10-31 01:22:02.407415+00:00         5601ef5d         1312405   \n",
       "2024-10-31 01:22:02.447609+00:00         5601ef5d         1312406   \n",
       "2024-10-31 01:22:02.507751+00:00         5601ef5d         1312407   \n",
       "2024-10-31 01:22:02.547922+00:00         5601ef5d         1312408   \n",
       "2024-10-31 01:22:02.607941+00:00         5601ef5d         1312409   \n",
       "\n",
       "                                  private_sndStamp salIndex  \n",
       "2024-10-31 01:22:02.407415+00:00      1.730338e+09        2  \n",
       "2024-10-31 01:22:02.447609+00:00      1.730338e+09        2  \n",
       "2024-10-31 01:22:02.507751+00:00      1.730338e+09        2  \n",
       "2024-10-31 01:22:02.547922+00:00      1.730338e+09        2  \n",
       "2024-10-31 01:22:02.607941+00:00      1.730338e+09        2  \n",
       "\n",
       "[5 rows x 27 columns]"
      ]
     },
     "execution_count": 61,
     "metadata": {},
     "output_type": "execute_result"
    }
   ],
   "source": [
    "m2Hex[:5]"
   ]
  },
  {
   "cell_type": "code",
   "execution_count": 21,
   "id": "d6c0d7a9-4627-4f9e-ac2c-6a0b98516acb",
   "metadata": {
    "execution": {
     "iopub.execute_input": "2024-11-05T21:59:43.811169Z",
     "iopub.status.busy": "2024-11-05T21:59:43.810867Z",
     "iopub.status.idle": "2024-11-05T21:59:43.814252Z",
     "shell.execute_reply": "2024-11-05T21:59:43.813936Z",
     "shell.execute_reply.started": "2024-11-05T21:59:43.811154Z"
    }
   },
   "outputs": [
    {
     "data": {
      "text/plain": [
       "Index(['demand0', 'demand1', 'demand2', 'demand3', 'demand4', 'demand5',\n",
       "       'error0', 'error1', 'error2', 'error3', 'error4', 'error5', 'position0',\n",
       "       'position1', 'position2', 'position3', 'position4', 'position5',\n",
       "       'private_efdStamp', 'private_identity', 'private_kafkaStamp',\n",
       "       'private_origin', 'private_rcvStamp', 'private_revCode',\n",
       "       'private_seqNum', 'private_sndStamp', 'salIndex'],\n",
       "      dtype='object')"
      ]
     },
     "execution_count": 21,
     "metadata": {},
     "output_type": "execute_result"
    }
   ],
   "source": [
    "m2Hex.columns"
   ]
  },
  {
   "cell_type": "markdown",
   "id": "ab8209ad-5266-4836-a020-6694b926fd09",
   "metadata": {},
   "source": [
    "Plot the x,y,z position as a function of time : "
   ]
  },
  {
   "cell_type": "code",
   "execution_count": 64,
   "id": "c4932f77-9023-40c2-9787-2075c8bcab3e",
   "metadata": {
    "execution": {
     "iopub.execute_input": "2024-11-05T22:20:41.144187Z",
     "iopub.status.busy": "2024-11-05T22:20:41.143761Z",
     "iopub.status.idle": "2024-11-05T22:20:41.146528Z",
     "shell.execute_reply": "2024-11-05T22:20:41.146154Z",
     "shell.execute_reply.started": "2024-11-05T22:20:41.144170Z"
    }
   },
   "outputs": [],
   "source": [
    "X = m2Hex[\"position0\"]\n",
    "Y = m2Hex[\"position1\"]\n",
    "Z = m2Hex[\"position2\"]\n",
    "time = m2Hex.index"
   ]
  },
  {
   "cell_type": "code",
   "execution_count": 93,
   "id": "adfd4cbe-a5c9-44c4-82ac-183f26899727",
   "metadata": {
    "execution": {
     "iopub.execute_input": "2024-11-05T22:33:02.798334Z",
     "iopub.status.busy": "2024-11-05T22:33:02.797755Z",
     "iopub.status.idle": "2024-11-05T22:33:03.138409Z",
     "shell.execute_reply": "2024-11-05T22:33:03.137857Z",
     "shell.execute_reply.started": "2024-11-05T22:33:02.798316Z"
    }
   },
   "outputs": [
    {
     "data": {
      "text/plain": [
       "Text(0.5, 1.0, 'MT hexapod position, exposures 2024103000072 and 2024103000072')"
      ]
     },
     "execution_count": 93,
     "metadata": {},
     "output_type": "execute_result"
    },
    {
     "data": {
      "image/png": "[encoded data removed]",
      "text/plain": [
       "<Figure size 1200x1200 with 3 Axes>"
      ]
     },
     "metadata": {},
     "output_type": "display_data"
    }
   ],
   "source": [
    "import matplotlib.pyplot as plt \n",
    "fig,ax = plt.subplots(3,1,figsize=(12,12))\n",
    "i = 0 \n",
    "for pos, name in zip([X,Y,Z], 'xyz'):\n",
    "    ax[i].plot(time, pos, )\n",
    "    ax[i].set_ylabel(f'{name} position '+r'[$\\mu $m]')\n",
    "    \n",
    "    ax[i].axvspan(expRecordBegin.timespan.begin.utc.datetime, \n",
    "               expRecordBegin.timespan.end.utc.datetime, \n",
    "               alpha=0.5, color='red')\n",
    "\n",
    "    ax[i].axvspan(expRecordEnd.timespan.begin.utc.datetime, \n",
    "               expRecordEnd.timespan.end.utc.datetime, \n",
    "               alpha=0.5, color='blue')\n",
    "\n",
    "\n",
    "    \n",
    "    i += 1 \n",
    "ax[-1].set_xlabel('Time [h:m:s]')\n",
    "ax[0].set_title(f'MT hexapod position, exposures {expRecordBegin.id} and {expRecordBegin.id}')"
   ]
  },
  {
   "cell_type": "markdown",
   "id": "79bf1bcd-2763-4354-956b-b47a6f3dd9b3",
   "metadata": {
    "execution": {
     "iopub.execute_input": "2024-11-05T22:30:42.715821Z",
     "iopub.status.busy": "2024-11-05T22:30:42.715539Z",
     "iopub.status.idle": "2024-11-05T22:30:42.719512Z",
     "shell.execute_reply": "2024-11-05T22:30:42.719003Z",
     "shell.execute_reply.started": "2024-11-05T22:30:42.715807Z"
    }
   },
   "source": [
    "The two filled rectangles mark the integration time of the two considered  exposures."
   ]
  }
 ],
 "metadata": {
  "kernelspec": {
   "display_name": "LSST",
   "language": "python",
   "name": "lsst"
  },
  "language_info": {
   "codemirror_mode": {
    "name": "ipython",
    "version": 3
   },
   "file_extension": ".py",
   "mimetype": "text/x-python",
   "name": "python",
   "nbconvert_exporter": "python",
   "pygments_lexer": "ipython3",
   "version": "3.11.9"
  }
 },
 "nbformat": 4,
 "nbformat_minor": 5
}
