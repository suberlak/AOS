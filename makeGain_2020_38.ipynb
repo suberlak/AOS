{
 "cells": [
  {
   "cell_type": "code",
   "execution_count": 1,
   "metadata": {},
   "outputs": [
    {
     "ename": "ModuleNotFoundError",
     "evalue": "No module named 'lsst.ts'",
     "output_type": "error",
     "traceback": [
      "\u001b[0;31m---------------------------------------------------------------------------\u001b[0m",
      "\u001b[0;31mModuleNotFoundError\u001b[0m                       Traceback (most recent call last)",
      "\u001b[0;32m<ipython-input-1-079797cb17b1>\u001b[0m in \u001b[0;36m<module>\u001b[0;34m\u001b[0m\n\u001b[0;32m----> 1\u001b[0;31m \u001b[0;32mfrom\u001b[0m \u001b[0mlsst\u001b[0m\u001b[0;34m.\u001b[0m\u001b[0mts\u001b[0m\u001b[0;34m.\u001b[0m\u001b[0mphosim\u001b[0m\u001b[0;34m.\u001b[0m\u001b[0mUtility\u001b[0m \u001b[0;32mimport\u001b[0m \u001b[0mgetPhoSimPath\u001b[0m\u001b[0;34m\u001b[0m\u001b[0;34m\u001b[0m\u001b[0m\n\u001b[0m",
      "\u001b[0;31mModuleNotFoundError\u001b[0m: No module named 'lsst.ts'"
     ]
    }
   ],
   "source": [
    "from lsst.ts.phosim.Utility import getPhoSimPath"
   ]
  },
  {
   "cell_type": "code",
   "execution_count": 3,
   "metadata": {},
   "outputs": [],
   "source": [
    "phosimPath = getPhoSimPath()"
   ]
  },
  {
   "cell_type": "code",
   "execution_count": 9,
   "metadata": {},
   "outputs": [],
   "source": [
    "import os\n",
    "segPath = os.path.join(phosimPath, 'data','lsst','segmentation.txt')\n"
   ]
  },
  {
   "cell_type": "markdown",
   "metadata": {},
   "source": [
    "Could make a reader for `segmentation.tx`  but perhaps it is not neccessary ... Too complex since would have to make provisons for different names of sensors, etc ... Easier for now to just let `makeGainImages` use `phosimMapper`, and values for gain, which are already consistent with `segmentation.txt` ... \n",
    "\n",
    "`lsstCamMapper` gains get updated according to the real instrument, not to values in phosim ...  It would behoove to update `segmentation.txt` to have the values consistent with `lsstCamMapper`, but that's perhaps too much work for now ... "
   ]
  },
  {
   "cell_type": "code",
   "execution_count": 13,
   "metadata": {},
   "outputs": [
    {
     "name": "stdout",
     "output_type": "stream",
     "text": [
      "R00_S22 C00 1.725\n",
      "R00_S22 C01 1.596\n",
      "R00_S22 C02 1.788\n",
      "R00_S22 C03 1.782\n",
      "R00_S22 C04 1.689\n",
      "R00_S22 C05 1.584\n",
      "R00_S22 C06 1.738\n",
      "R00_S22 C07 1.679\n",
      "R00_S22 C10 1.66\n",
      "R00_S22 C11 1.737\n",
      "R00_S22 C12 1.804\n",
      "R00_S22 C13 1.753\n",
      "R00_S22 C14 1.712\n",
      "R00_S22 C15 1.653\n",
      "R00_S22 C16 1.619\n",
      "R00_S22 C17 1.671\n"
     ]
    }
   ],
   "source": [
    "sensor  = 'R00_S22'\n",
    "for line in open(segPath):\n",
    "    content = line.split(' ')\n",
    "    #if content[0] != '#':\n",
    "    if content[0].startswith(sensor):\n",
    "        #print(content[0], len(content))\n",
    "        if len(content) > 7:\n",
    "            #print(content)\n",
    "            amp_name = content[0].split('_')[2]\n",
    "            #print(amp_name)\n",
    "            gain = float(content[7])\n",
    "            print(sensor,amp_name, gain)\n",
    "           \n",
    "           "
   ]
  },
  {
   "cell_type": "code",
   "execution_count": null,
   "metadata": {},
   "outputs": [],
   "source": []
  }
 ],
 "metadata": {
  "kernelspec": {
   "display_name": "LSST",
   "language": "python",
   "name": "lsst"
  },
  "language_info": {
   "codemirror_mode": {
    "name": "ipython",
    "version": 3
   },
   "file_extension": ".py",
   "mimetype": "text/x-python",
   "name": "python",
   "nbconvert_exporter": "python",
   "pygments_lexer": "ipython3",
   "version": "3.7.8"
  }
 },
 "nbformat": 4,
 "nbformat_minor": 4
}
