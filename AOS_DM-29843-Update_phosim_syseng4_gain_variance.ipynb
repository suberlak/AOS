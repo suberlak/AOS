{
 "cells": [
  {
   "cell_type": "markdown",
   "id": "d8addd59",
   "metadata": {},
   "source": [
    "# AOS_DM-29843-Update phosim_syseng4  `segmentation.txt`"
   ]
  },
  {
   "cell_type": "markdown",
   "id": "d6152298",
   "metadata": {},
   "source": [
    "Ticket notes:"
   ]
  },
  {
   "cell_type": "markdown",
   "id": "56c21479",
   "metadata": {},
   "source": [
    "First, check that the  `/home/scichris/notebooks/update_segmentation_comcam.py` produces the same as the current content of `phosim_syseng4/data/comcam/segmentation.txt` ..."
   ]
  },
  {
   "cell_type": "markdown",
   "id": "b461b1d9",
   "metadata": {},
   "source": [
    "Check what's the outcome of `amp.getReadNoise()` : "
   ]
  },
  {
   "cell_type": "code",
   "execution_count": 3,
   "id": "53f594bc",
   "metadata": {},
   "outputs": [
    {
     "name": "stdout",
     "output_type": "stream",
     "text": [
      "C10 1.4044 8.3\n",
      "C11 1.3889 9.5\n",
      "C12 1.3973 10.0\n",
      "C13 1.4016 10.4\n",
      "C14 1.3937 10.2\n",
      "C15 1.3369 9.3\n",
      "C16 1.379 8.0\n",
      "C17 1.3528 7.7\n",
      "C07 1.3745 8.1\n",
      "C06 1.3918 8.8\n",
      "C05 1.3844 10.0\n",
      "C04 1.3792 10.8\n",
      "C03 1.4057 11.0\n",
      "C02 1.4183 10.9\n",
      "C01 1.4144 10.1\n",
      "C00 1.4273 9.0\n"
     ]
    }
   ],
   "source": [
    "# show the content of the obs lsst mapper \n",
    "# should be exactly the same as above ... \n",
    "from lsst.obs.lsst import LsstComCam\n",
    "camera = LsstComCam().getCamera()\n",
    "detector = camera['R22_S22']\n",
    "for amp in detector:\n",
    "    print(amp.getName(), amp.getGain(), amp.getReadNoise())"
   ]
  },
  {
   "cell_type": "code",
   "execution_count": 4,
   "id": "1f660a88",
   "metadata": {},
   "outputs": [
    {
     "name": "stdout",
     "output_type": "stream",
     "text": [
      "C10 1.10947 5.061\n",
      "C11 1.10873 5.006\n",
      "C12 1.11872 5.721\n",
      "C13 1.12326 5.272\n",
      "C14 1.12633 5.655\n",
      "C15 1.12676 5.292\n",
      "C16 1.13459 5.818\n",
      "C17 1.12937 5.102\n",
      "C07 1.14504 7.086\n",
      "C06 1.14382 6.733\n",
      "C05 1.14913 7.232\n",
      "C04 1.14652 6.637\n",
      "C03 1.14968 7.12\n",
      "C02 1.15525 6.894\n",
      "C01 1.15397 6.129\n",
      "C00 1.16821 5.606\n"
     ]
    }
   ],
   "source": [
    "# show the content of the obs lsst mapper \n",
    "# should be exactly the same as above ... \n",
    "from lsst.obs.lsst import LsstCam\n",
    "camera = LsstCam().getCamera()\n",
    "detector = camera['R22_S22']\n",
    "for amp in detector:\n",
    "    print(amp.getName(), amp.getGain(), amp.getReadNoise())"
   ]
  },
  {
   "cell_type": "markdown",
   "id": "733e8616",
   "metadata": {},
   "source": [
    "## Update the doc/versionHistory.rst,  after merge update the tag "
   ]
  },
  {
   "cell_type": "code",
   "execution_count": null,
   "id": "18e93643",
   "metadata": {},
   "outputs": [],
   "source": [
    "git checkout aos\n",
    "\n",
    "git pull \n",
    "\n",
    "git tag -ln\n",
    "\n",
    "git tag -a v1.0.7\n",
    "\n",
    "Merge pull request #8 from lsst-ts/tickets/DM-29843\n",
    "Fix gain variance and read noise for data/comcam segmentation.txt\n",
    "\n"
   ]
  }
 ],
 "metadata": {
  "kernelspec": {
   "display_name": "LSST",
   "language": "python",
   "name": "lsst"
  },
  "language_info": {
   "codemirror_mode": {
    "name": "ipython",
    "version": 3
   },
   "file_extension": ".py",
   "mimetype": "text/x-python",
   "name": "python",
   "nbconvert_exporter": "python",
   "pygments_lexer": "ipython3",
   "version": "3.8.8"
  }
 },
 "nbformat": 4,
 "nbformat_minor": 5
}
